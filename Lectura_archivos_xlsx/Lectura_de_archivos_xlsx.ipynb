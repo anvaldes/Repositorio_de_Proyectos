{
  "nbformat": 4,
  "nbformat_minor": 0,
  "metadata": {
    "colab": {
      "name": "Lectura_de_archivos_xlsx.ipynb",
      "provenance": []
    },
    "kernelspec": {
      "name": "python3",
      "display_name": "Python 3"
    },
    "language_info": {
      "name": "python"
    }
  },
  "cells": [
    {
      "cell_type": "markdown",
      "metadata": {
        "id": "xWUrtQb19etJ"
      },
      "source": [
        "Lectura de archivos xlsx"
      ]
    },
    {
      "cell_type": "code",
      "metadata": {
        "id": "bLUnDlpx77gK"
      },
      "source": [
        "import openpyxl\n",
        "\n",
        "# Open Workbook\n",
        "wb = openpyxl.load_workbook(filename='Reporte.xlsx', data_only=True)"
      ],
      "execution_count": null,
      "outputs": []
    },
    {
      "cell_type": "code",
      "metadata": {
        "colab": {
          "base_uri": "https://localhost:8080/"
        },
        "id": "7OLlirof821_",
        "outputId": "62c47ba5-dd76-4956-fefe-ecd71f73e951"
      },
      "source": [
        "# Get All Sheets\n",
        "sheet_names = wb.get_sheet_names()\n",
        "print(sheet_names)"
      ],
      "execution_count": null,
      "outputs": [
        {
          "output_type": "stream",
          "name": "stdout",
          "text": [
            "['Classroom', 'Asistencia Cálculo I', 'Asistencia Cálculo II', 'Asistencia Álgebra Lineal', 'Visualizaciones Cálculo I', 'Visualizaciones Cálculo II', 'Visualizaciones Álgebra Lineal']\n"
          ]
        },
        {
          "output_type": "stream",
          "name": "stderr",
          "text": [
            "/usr/local/lib/python3.7/dist-packages/ipykernel_launcher.py:2: DeprecationWarning: Call to deprecated function get_sheet_names (Use wb.sheetnames).\n",
            "  \n"
          ]
        }
      ]
    },
    {
      "cell_type": "code",
      "metadata": {
        "colab": {
          "base_uri": "https://localhost:8080/"
        },
        "id": "-uUfNRCY841K",
        "outputId": "b6c3f0be-d926-4178-e95c-99f86ae00459"
      },
      "source": [
        "# Obtenemos la hoja relacionada a classroom\n",
        "sheet_cr = wb.get_sheet_by_name(\"Classroom\")\n",
        "print(sheet_cr)"
      ],
      "execution_count": null,
      "outputs": [
        {
          "output_type": "stream",
          "name": "stdout",
          "text": [
            "<Worksheet \"Classroom\">\n"
          ]
        },
        {
          "output_type": "stream",
          "name": "stderr",
          "text": [
            "/usr/local/lib/python3.7/dist-packages/ipykernel_launcher.py:2: DeprecationWarning: Call to deprecated function get_sheet_by_name (Use wb[sheetname]).\n",
            "  \n"
          ]
        }
      ]
    },
    {
      "cell_type": "code",
      "metadata": {
        "colab": {
          "base_uri": "https://localhost:8080/"
        },
        "id": "LPOSSlSI9WUY",
        "outputId": "e84cb7f4-cbae-4890-bf01-cc8d531d1eab"
      },
      "source": [
        "# Get Cell Values  (Podría usarlo pero no)\n",
        "cell = sheet_cr['A1']\n",
        "print(cell.value)"
      ],
      "execution_count": null,
      "outputs": [
        {
          "output_type": "stream",
          "name": "stdout",
          "text": [
            "Classroom C1\n"
          ]
        }
      ]
    },
    {
      "cell_type": "code",
      "metadata": {
        "id": "L4xIrGiR9Zo8"
      },
      "source": [
        "mail_cr_c1 = []\n",
        "\n",
        "for i in range(2, 25):\n",
        "  cell = sheet_cr.cell(row=i, column=1)\n",
        "  mail_cr_c1.append(cell.value)"
      ],
      "execution_count": null,
      "outputs": []
    },
    {
      "cell_type": "code",
      "metadata": {
        "id": "c0cPTvkv_5Jb"
      },
      "source": [
        "mail_cr_c2 = []\n",
        "\n",
        "for i in range(2, 100):\n",
        "  cell = sheet_cr.cell(row=i, column=2)\n",
        "  mail_cr_c2.append(cell.value)"
      ],
      "execution_count": null,
      "outputs": []
    },
    {
      "cell_type": "code",
      "metadata": {
        "id": "ZQOgi2JnAiuS"
      },
      "source": [
        "mail_cr_al = []\n",
        "\n",
        "for i in range(2, 23):\n",
        "  cell = sheet_cr.cell(row=i, column=3)\n",
        "  mail_cr_al.append(cell.value)"
      ],
      "execution_count": null,
      "outputs": []
    },
    {
      "cell_type": "code",
      "metadata": {
        "id": "ZVFVZIhlBNPe"
      },
      "source": [
        "mails_classroom = []\n",
        "\n",
        "for i in mail_cr_c1:\n",
        "  mails_classroom.append(i)\n",
        "\n",
        "for i in mail_cr_c2:\n",
        "  mails_classroom.append(i)\n",
        "\n",
        "for i in mail_cr_al:\n",
        "  mails_classroom.append(i)\n",
        "\n",
        "mails_classroom = set(mails_classroom)\n",
        "mails_classroom = list(mails_classroom)"
      ],
      "execution_count": null,
      "outputs": []
    },
    {
      "cell_type": "code",
      "metadata": {
        "id": "M_8tBjyxJYzp"
      },
      "source": [
        "esta_cl = [[], [], []]"
      ],
      "execution_count": null,
      "outputs": []
    },
    {
      "cell_type": "code",
      "metadata": {
        "id": "bJldJTHRJe9y"
      },
      "source": [
        "for i in mails_classroom:\n",
        "\n",
        "  if i in mail_cr_c1:\n",
        "    esta_cl[0].append(1)\n",
        "  else:\n",
        "    esta_cl[0].append(0)\n",
        "  \n",
        "  if i in mail_cr_c2:\n",
        "    esta_cl[1].append(1)\n",
        "  else:\n",
        "    esta_cl[1].append(0)\n",
        "\n",
        "  if i in mail_cr_al:\n",
        "    esta_cl[2].append(1)\n",
        "  else:\n",
        "    esta_cl[2].append(0)"
      ],
      "execution_count": null,
      "outputs": []
    },
    {
      "cell_type": "code",
      "metadata": {
        "colab": {
          "base_uri": "https://localhost:8080/"
        },
        "id": "GcBaiwUhI4QK",
        "outputId": "8a4ce83e-e827-46ea-fa51-db9199a286ea"
      },
      "source": [
        "pip install xlsxwriter "
      ],
      "execution_count": null,
      "outputs": [
        {
          "output_type": "stream",
          "name": "stdout",
          "text": [
            "Requirement already satisfied: xlsxwriter in /usr/local/lib/python3.7/dist-packages (3.0.2)\n"
          ]
        }
      ]
    },
    {
      "cell_type": "code",
      "metadata": {
        "id": "wvkCTJ6AAQbM"
      },
      "source": [
        "import xlsxwriter\n",
        "\n",
        "# Create an new Excel file and add a worksheet.\n",
        "workbook = xlsxwriter.Workbook('inscripcion_classroom.xlsx')\n",
        "worksheet = workbook.add_worksheet()\n",
        "\n",
        "# Widen the first column to make the text clearer.\n",
        "worksheet.set_column('A:A', 20)\n",
        "worksheet.set_column('B:B', 20)\n",
        "worksheet.set_column('C:C', 20)\n",
        "worksheet.set_column('D:D', 20)\n",
        "\n",
        "# Add a bold format to use to highlight cells.\n",
        "bold = workbook.add_format({'bold': True})\n",
        "\n",
        "# Write some simple text.\n",
        "#worksheet.write('A1', 'Hello') Esa es una forma de escribir pero no la usaremos\n",
        "\n",
        "worksheet.write(0, 0, 'Mails', bold) \n",
        "worksheet.write(0, 1, 'Classroom C1', bold) \n",
        "worksheet.write(0, 2, 'Classroom C2', bold)\n",
        "worksheet.write(0, 3, 'Classroom AL', bold)\n",
        "\n",
        "# Escribimos los mails\n",
        "\n",
        "for i in range(len(mails_classroom)):\n",
        "  worksheet.write(i+1, 0, mails_classroom[i])\n",
        "\n",
        "\n",
        "# Escribimos la inscripcion a C1\n",
        "\n",
        "for j in range(len(esta_cl[0])):\n",
        "  worksheet.write(j+1, 1, esta_cl[0][j])\n",
        "  worksheet.write(j+1, 2, esta_cl[1][j])\n",
        "  worksheet.write(j+1, 3, esta_cl[2][j])\n",
        "\n",
        "workbook.close()"
      ],
      "execution_count": null,
      "outputs": []
    },
    {
      "cell_type": "code",
      "metadata": {
        "id": "ZAV-_DdAH_CI"
      },
      "source": [
        ""
      ],
      "execution_count": null,
      "outputs": []
    }
  ]
}