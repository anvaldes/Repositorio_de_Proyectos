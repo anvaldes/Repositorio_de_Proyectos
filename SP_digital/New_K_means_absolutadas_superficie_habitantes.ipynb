{
  "nbformat": 4,
  "nbformat_minor": 0,
  "metadata": {
    "colab": {
      "name": "New_K_means_absolutadas_superficie_habitantes.ipynb",
      "provenance": []
    },
    "kernelspec": {
      "name": "python3",
      "display_name": "Python 3"
    },
    "language_info": {
      "name": "python"
    }
  },
  "cells": [
    {
      "cell_type": "code",
      "metadata": {
        "id": "ZTSWfG1BaiwO"
      },
      "source": [
        "# Cargamos los paquetes\n",
        "\n",
        "import numpy as np\n",
        "import pandas as pd\n",
        "import matplotlib.pyplot as plt\n",
        "from sklearn.cluster import KMeans\n",
        "from matplotlib.pyplot import figure"
      ],
      "execution_count": null,
      "outputs": []
    },
    {
      "cell_type": "code",
      "metadata": {
        "id": "cm0IIKJffRGN"
      },
      "source": [
        "# Cargamos los datos\n",
        "\n",
        "data = pd.read_excel(\"input_data.xlsx\")\n",
        "comunas = list(data['Comuna'])\n",
        "latitud = list(data['latitud'])\n",
        "longitud = list(data['longitud'])\n",
        "peso = list(data['peso'])\n",
        "peso_2 = list(data['peso_2'])\n",
        "peso_3 = list(data['peso_3'])\n",
        "\n",
        "latitud_fija = list(data['latitud_fija'])[0]\n",
        "longitud_fija = list(data['longitud_fija'])[0]"
      ],
      "execution_count": null,
      "outputs": []
    },
    {
      "cell_type": "code",
      "metadata": {
        "id": "J6Q-OAuW67ph"
      },
      "source": [
        "comunas = np.array(comunas)"
      ],
      "execution_count": null,
      "outputs": []
    },
    {
      "cell_type": "code",
      "metadata": {
        "id": "JUHemNmZapDu"
      },
      "source": [
        "# Fijamos la matrix X\n",
        "\n",
        "X = []\n",
        "\n",
        "for i in range(len(latitud)):\n",
        "  X.append([latitud[i], longitud[i]])\n",
        "\n",
        "X = np.array(X)"
      ],
      "execution_count": null,
      "outputs": []
    },
    {
      "cell_type": "code",
      "metadata": {
        "id": "25OrHT_9ebij"
      },
      "source": [
        "def k_means_weighted_fixed_center(X, N_max, x_fijo, y_fijo, peso, semilla):\n",
        "\n",
        "  min_x = min(X[:, 0])\n",
        "  max_x = max(X[:, 0])\n",
        "\n",
        "  min_y = min(X[:, 1])\n",
        "  max_y = max(X[:, 1])\n",
        "\n",
        "  # Altiro seteamos en 3 centroides\n",
        "  np.random.seed(semilla)\n",
        "\n",
        "  c_1 = np.array([x_fijo, y_fijo])\n",
        "  c_2 = np.array([np.random.uniform(min_x, max_x), np.random.uniform(min_y, max_y)])\n",
        "  c_3 = np.array([np.random.uniform(min_x, max_x), np.random.uniform(min_y, max_y)])\n",
        "\n",
        "  labels = []\n",
        "\n",
        "  # Calculamos a que cluster pertenece cada punto\n",
        "\n",
        "  for i in X:\n",
        "    distancias = [np.linalg.norm(i-c_1), np.linalg.norm(i-c_2), np.linalg.norm(i-c_3)]\n",
        "    labels.append(distancias.index(min(distancias))+1)\n",
        "  \n",
        "  #Ahora seteamos los nuevos centroides 2 y 3\n",
        "  new_c2 = np.array([0, 0])\n",
        "  pond_2 = 0\n",
        "\n",
        "  new_c3 = np.array([0, 0])\n",
        "  pond_3 = 0\n",
        "\n",
        "  for i in range(len(labels)):\n",
        "    if labels[i] == 2:\n",
        "      new_c2 = new_c2 + peso[i]*X[i]\n",
        "      pond_2 = pond_2 + peso[i]\n",
        "\n",
        "    elif labels[i] == 3:\n",
        "      new_c3 = new_c3 + peso[i]*X[i]\n",
        "      pond_3 = pond_3 + peso[i]\n",
        "  \n",
        "  new_c2 = new_c2/pond_2\n",
        "  new_c3 = new_c3/pond_3\n",
        "\n",
        "  c_2 = new_c2\n",
        "  c_3 = new_c3\n",
        "\n",
        "  # Ahora comenzamos las iteraciones\n",
        "\n",
        "  for n in range(N_max):\n",
        "\n",
        "    new_labels = []\n",
        "\n",
        "    for i in X:\n",
        "      distancias = [np.linalg.norm(i-c_1), np.linalg.norm(i-c_2), np.linalg.norm(i-c_3)]\n",
        "      new_labels.append(distancias.index(min(distancias))+1)\n",
        "\n",
        "    if new_labels == labels:\n",
        "      return [labels, c_1, c_2, c_3]\n",
        "    \n",
        "    else:\n",
        "\n",
        "      #Ahora seteamos los nuevos centroides 2 y 3\n",
        "      new_c2 = np.array([0, 0])\n",
        "      pond_2 = 0\n",
        "\n",
        "      new_c3 = np.array([0, 0])\n",
        "      pond_3 = 0\n",
        "\n",
        "      for i in range(len(labels)):\n",
        "        if labels[i] == 2:\n",
        "          new_c2 = new_c2 + peso[i]*X[i]\n",
        "          pond_2 = pond_2 + peso[i]\n",
        "\n",
        "        elif labels[i] == 3:\n",
        "          new_c3 = new_c3 + peso[i]*X[i]\n",
        "          pond_3 = pond_3 + peso[i]\n",
        "  \n",
        "      new_c2 = new_c2/pond_2\n",
        "      new_c3 = new_c3/pond_3\n",
        "\n",
        "      c_2 = new_c2\n",
        "      c_3 = new_c3\n",
        "\n",
        "\n",
        "  return [labels, c_1, c_2, c_3]"
      ],
      "execution_count": null,
      "outputs": []
    },
    {
      "cell_type": "markdown",
      "metadata": {
        "id": "5NBbBQHYyg2e"
      },
      "source": [
        "$ \\huge{1. \\ K-means \\ \\ \\ ventas \\ \\ \\  absolutas} $"
      ]
    },
    {
      "cell_type": "code",
      "metadata": {
        "id": "lHD76s6Amua4"
      },
      "source": [
        "N_max = 300\n",
        "semilla = 0\n",
        "labels, c_1, c_2, c_3 = k_means_weighted_fixed_center(X, N_max, latitud_fija, longitud_fija, peso, semilla)\n",
        "\n",
        "labels = np.array(labels)"
      ],
      "execution_count": null,
      "outputs": []
    },
    {
      "cell_type": "code",
      "metadata": {
        "id": "MX8qoKF3viOf"
      },
      "source": [
        "x_1 = []\n",
        "y_1 = []\n",
        "\n",
        "x_2 = []\n",
        "y_2 = []\n",
        "\n",
        "x_3 = []\n",
        "y_3 = []\n",
        "\n",
        "for i in X[labels==1]:\n",
        "  x_1.append(i[0])\n",
        "  y_1.append(i[1])\n",
        "\n",
        "for j in X[labels==2]:\n",
        "  x_2.append(j[0])\n",
        "  y_2.append(j[1])\n",
        "\n",
        "for k in X[labels==3]:\n",
        "  x_3.append(k[0])\n",
        "  y_3.append(k[1])"
      ],
      "execution_count": null,
      "outputs": []
    },
    {
      "cell_type": "code",
      "metadata": {
        "id": "e6j_MuANwkan"
      },
      "source": [
        "pesos_1 = []\n",
        "pesos_2 = []\n",
        "pesos_3 = []\n",
        "\n",
        "for i in range(len(labels)):\n",
        "  if labels[i] == 1:\n",
        "    pesos_1.append(peso[i])\n",
        "  elif labels[i] == 2:\n",
        "    pesos_2.append(peso[i])\n",
        "  else:\n",
        "    pesos_3.append(peso[i])"
      ],
      "execution_count": null,
      "outputs": []
    },
    {
      "cell_type": "code",
      "metadata": {
        "id": "ij567Ssdw_x1"
      },
      "source": [
        "c_x = [c_1[0], c_2[0], c_3[0]]\n",
        "c_y = [c_1[1], c_2[1], c_3[1]]"
      ],
      "execution_count": null,
      "outputs": []
    },
    {
      "cell_type": "code",
      "metadata": {
        "colab": {
          "base_uri": "https://localhost:8080/",
          "height": 427
        },
        "id": "mwoN5Gpxvne3",
        "outputId": "c81ae4ce-cde1-438c-c8da-d8ece9b8834e"
      },
      "source": [
        "figure(figsize=(8, 6), dpi=80)\n",
        "\n",
        "redim = 100\n",
        "\n",
        "plt.scatter(x_1, y_1, s = np.array(pesos_1)/redim, color= \"blue\", label = \"cluster 1\")\n",
        "plt.scatter(x_2, y_2, s = np.array(pesos_2)/redim, color= \"green\", label = \"cluster 2\")\n",
        "plt.scatter(x_3, y_3, s = np.array(pesos_3)/redim, color= \"purple\", label = \"cluster 3\")\n",
        "\n",
        "plt.scatter(c_x, c_y, s = 100, color= \"red\", label = \"centroides\")\n",
        "\n",
        "plt.xlabel('latitudes')\n",
        "plt.ylabel('longitudes')\n",
        "plt.legend()\n",
        "\n",
        "plt.show()"
      ],
      "execution_count": null,
      "outputs": [
        {
          "output_type": "display_data",
          "data": {
            "image/png": "[encoded data removed]",
            "text/plain": [
              "<Figure size 640x480 with 1 Axes>"
            ]
          },
          "metadata": {
            "needs_background": "light"
          }
        }
      ]
    },
    {
      "cell_type": "code",
      "metadata": {
        "colab": {
          "base_uri": "https://localhost:8080/"
        },
        "id": "_dsEIdgmxVhA",
        "outputId": "408655d7-905c-49d2-a105-77c0b22c930f"
      },
      "source": [
        "# Comunas cluster 1\n",
        "\n",
        "list(comunas[labels==1])"
      ],
      "execution_count": null,
      "outputs": [
        {
          "output_type": "execute_result",
          "data": {
            "text/plain": [
              "['Las Condes',\n",
              " 'Providencia',\n",
              " 'Quilicura',\n",
              " 'Huechuraba',\n",
              " 'Recoleta',\n",
              " 'Vitacura',\n",
              " 'Renca',\n",
              " 'Lo Barnechea',\n",
              " 'Conchalí',\n",
              " 'Independencia']"
            ]
          },
          "metadata": {},
          "execution_count": 11
        }
      ]
    },
    {
      "cell_type": "code",
      "metadata": {
        "colab": {
          "base_uri": "https://localhost:8080/"
        },
        "id": "DG9fstWC61C-",
        "outputId": "ab80c770-0edd-4cf1-8db7-e1701ea7d825"
      },
      "source": [
        "# Comunas cluster 2\n",
        "\n",
        "list(comunas[labels==2])"
      ],
      "execution_count": null,
      "outputs": [
        {
          "output_type": "execute_result",
          "data": {
            "text/plain": [
              "['Puente Alto',\n",
              " 'La Florida',\n",
              " 'Ñuñoa',\n",
              " 'Peñalolén',\n",
              " 'Macul',\n",
              " 'La Reina',\n",
              " 'La Pintana',\n",
              " 'La Granja']"
            ]
          },
          "metadata": {},
          "execution_count": 12
        }
      ]
    },
    {
      "cell_type": "code",
      "metadata": {
        "colab": {
          "base_uri": "https://localhost:8080/"
        },
        "id": "Co2qoC1F7GNs",
        "outputId": "91dbbf43-7359-45ab-932b-9b31f041d7a7"
      },
      "source": [
        "# Comunas cluster 3\n",
        "\n",
        "list(comunas[labels==3])"
      ],
      "execution_count": null,
      "outputs": [
        {
          "output_type": "execute_result",
          "data": {
            "text/plain": [
              "['Maipú',\n",
              " 'Santiago (Centro)',\n",
              " 'Pudahuel',\n",
              " 'San Miguel',\n",
              " 'Estación Central',\n",
              " 'Quinta Normal',\n",
              " 'El Bosque',\n",
              " 'La Cisterna',\n",
              " 'Cerro Navia',\n",
              " 'San Joaquín',\n",
              " 'Pedro Aguirre Cerda',\n",
              " 'Lo Prado',\n",
              " 'Cerrillos',\n",
              " 'Lo Espejo',\n",
              " 'San Ramón']"
            ]
          },
          "metadata": {},
          "execution_count": 13
        }
      ]
    },
    {
      "cell_type": "code",
      "metadata": {
        "colab": {
          "base_uri": "https://localhost:8080/"
        },
        "id": "Fhh_er2R7JDW",
        "outputId": "39c57d0c-765a-4750-984f-45d655d76dfc"
      },
      "source": [
        "# Clusters \n",
        "\n",
        "print(c_x)\n",
        "print(c_y)"
      ],
      "execution_count": null,
      "outputs": [
        {
          "output_type": "stream",
          "name": "stdout",
          "text": [
            "[-33.423579, -33.524103676389664, -33.48539815163878]\n",
            "[-70.618379, -70.57514145683967, -70.70986500357924]\n"
          ]
        }
      ]
    },
    {
      "cell_type": "code",
      "metadata": {
        "id": "JIz7Nuts7NFD"
      },
      "source": [
        ""
      ],
      "execution_count": null,
      "outputs": []
    },
    {
      "cell_type": "markdown",
      "metadata": {
        "id": "gHB1PzvG7Vj1"
      },
      "source": [
        "$ \\huge{2. \\ K-means \\ \\ \\ ventas \\ \\ \\  por \\ \\ \\ superficie} $"
      ]
    },
    {
      "cell_type": "code",
      "metadata": {
        "id": "57vrcBI17Vj1"
      },
      "source": [
        "N_max = 300\n",
        "semilla = 0\n",
        "labels, c_1, c_2, c_3 = k_means_weighted_fixed_center(X, N_max, latitud_fija, longitud_fija, peso_2, semilla)\n",
        "\n",
        "labels = np.array(labels)"
      ],
      "execution_count": null,
      "outputs": []
    },
    {
      "cell_type": "code",
      "metadata": {
        "id": "fkxMoUmj7Vj1"
      },
      "source": [
        "x_1 = []\n",
        "y_1 = []\n",
        "\n",
        "x_2 = []\n",
        "y_2 = []\n",
        "\n",
        "x_3 = []\n",
        "y_3 = []\n",
        "\n",
        "for i in X[labels==1]:\n",
        "  x_1.append(i[0])\n",
        "  y_1.append(i[1])\n",
        "\n",
        "for j in X[labels==2]:\n",
        "  x_2.append(j[0])\n",
        "  y_2.append(j[1])\n",
        "\n",
        "for k in X[labels==3]:\n",
        "  x_3.append(k[0])\n",
        "  y_3.append(k[1])"
      ],
      "execution_count": null,
      "outputs": []
    },
    {
      "cell_type": "code",
      "metadata": {
        "id": "IoArGcdM7Vj1"
      },
      "source": [
        "pesos_1 = []\n",
        "pesos_2 = []\n",
        "pesos_3 = []\n",
        "\n",
        "for i in range(len(labels)):\n",
        "  if labels[i] == 1:\n",
        "    pesos_1.append(peso[i])\n",
        "  elif labels[i] == 2:\n",
        "    pesos_2.append(peso[i])\n",
        "  else:\n",
        "    pesos_3.append(peso[i])"
      ],
      "execution_count": null,
      "outputs": []
    },
    {
      "cell_type": "code",
      "metadata": {
        "id": "EBYUqIS47Vj2"
      },
      "source": [
        "c_x = [c_1[0], c_2[0], c_3[0]]\n",
        "c_y = [c_1[1], c_2[1], c_3[1]]"
      ],
      "execution_count": null,
      "outputs": []
    },
    {
      "cell_type": "code",
      "metadata": {
        "colab": {
          "base_uri": "https://localhost:8080/",
          "height": 427
        },
        "id": "YfluKYpM7Vj2",
        "outputId": "dc549fac-bac4-415e-eeae-d7cf9652ab3b"
      },
      "source": [
        "figure(figsize=(8, 6), dpi=80)\n",
        "\n",
        "redim = 100\n",
        "\n",
        "plt.scatter(x_1, y_1, s = np.array(pesos_1)/redim, color= \"blue\", label = \"cluster 1\")\n",
        "plt.scatter(x_2, y_2, s = np.array(pesos_2)/redim, color= \"green\", label = \"cluster 2\")\n",
        "plt.scatter(x_3, y_3, s = np.array(pesos_3)/redim, color= \"purple\", label = \"cluster 3\")\n",
        "\n",
        "plt.scatter(c_x, c_y, s = 100, color= \"red\", label = \"centroides\")\n",
        "\n",
        "plt.xlabel('latitudes')\n",
        "plt.ylabel('longitudes')\n",
        "plt.legend()\n",
        "\n",
        "plt.show()"
      ],
      "execution_count": null,
      "outputs": [
        {
          "output_type": "display_data",
          "data": {
            "image/png": "[encoded data removed]",
            "text/plain": [
              "<Figure size 640x480 with 1 Axes>"
            ]
          },
          "metadata": {
            "needs_background": "light"
          }
        }
      ]
    },
    {
      "cell_type": "code",
      "metadata": {
        "colab": {
          "base_uri": "https://localhost:8080/"
        },
        "id": "LE3ejnKS7Vj2",
        "outputId": "1e4558d9-b646-4f9c-f8e5-c90cde32cbd4"
      },
      "source": [
        "# Comunas cluster 1\n",
        "\n",
        "list(comunas[labels==1])"
      ],
      "execution_count": null,
      "outputs": [
        {
          "output_type": "execute_result",
          "data": {
            "text/plain": [
              "['Las Condes',\n",
              " 'Providencia',\n",
              " 'Quilicura',\n",
              " 'Huechuraba',\n",
              " 'Recoleta',\n",
              " 'Vitacura',\n",
              " 'Renca',\n",
              " 'Lo Barnechea',\n",
              " 'Conchalí',\n",
              " 'Independencia']"
            ]
          },
          "metadata": {},
          "execution_count": 20
        }
      ]
    },
    {
      "cell_type": "code",
      "metadata": {
        "colab": {
          "base_uri": "https://localhost:8080/"
        },
        "id": "YMJRtt237Vj3",
        "outputId": "6d1f81ac-3db1-4b1c-ad3b-5787f1477e44"
      },
      "source": [
        "# Comunas cluster 2\n",
        "\n",
        "list(comunas[labels==2])"
      ],
      "execution_count": null,
      "outputs": [
        {
          "output_type": "execute_result",
          "data": {
            "text/plain": [
              "['Puente Alto',\n",
              " 'La Florida',\n",
              " 'Ñuñoa',\n",
              " 'Peñalolén',\n",
              " 'Macul',\n",
              " 'La Reina',\n",
              " 'La Pintana',\n",
              " 'La Granja']"
            ]
          },
          "metadata": {},
          "execution_count": 21
        }
      ]
    },
    {
      "cell_type": "code",
      "metadata": {
        "colab": {
          "base_uri": "https://localhost:8080/"
        },
        "id": "Tpze-87_7Vj3",
        "outputId": "5a3f5b36-e2da-4f3f-adc0-2568da355393"
      },
      "source": [
        "# Comunas cluster 3\n",
        "\n",
        "list(comunas[labels==3])"
      ],
      "execution_count": null,
      "outputs": [
        {
          "output_type": "execute_result",
          "data": {
            "text/plain": [
              "['Maipú',\n",
              " 'Santiago (Centro)',\n",
              " 'Pudahuel',\n",
              " 'San Miguel',\n",
              " 'Estación Central',\n",
              " 'Quinta Normal',\n",
              " 'El Bosque',\n",
              " 'La Cisterna',\n",
              " 'Cerro Navia',\n",
              " 'San Joaquín',\n",
              " 'Pedro Aguirre Cerda',\n",
              " 'Lo Prado',\n",
              " 'Cerrillos',\n",
              " 'Lo Espejo',\n",
              " 'San Ramón']"
            ]
          },
          "metadata": {},
          "execution_count": 22
        }
      ]
    },
    {
      "cell_type": "code",
      "metadata": {
        "colab": {
          "base_uri": "https://localhost:8080/"
        },
        "id": "LTyzuxS07Vj3",
        "outputId": "94f89c20-79a8-44a9-b591-8d7a43be8e23"
      },
      "source": [
        "# Clusters \n",
        "\n",
        "print(c_x)\n",
        "print(c_y)"
      ],
      "execution_count": null,
      "outputs": [
        {
          "output_type": "stream",
          "name": "stdout",
          "text": [
            "[-33.423579, -33.497377585832204, -33.484870030939994]\n",
            "[-70.618379, -70.58983733413517, -70.6826051412388]\n"
          ]
        }
      ]
    },
    {
      "cell_type": "markdown",
      "metadata": {
        "id": "L2qL_5cs7za_"
      },
      "source": [
        "$ \\huge{3. \\ K-means \\ \\ \\ ventas \\ \\ \\  por \\ \\ \\ habitantes} $"
      ]
    },
    {
      "cell_type": "code",
      "metadata": {
        "id": "CzMBLjIv7za_"
      },
      "source": [
        "N_max = 300\n",
        "semilla = 0\n",
        "labels, c_1, c_2, c_3 = k_means_weighted_fixed_center(X, N_max, latitud_fija, longitud_fija, peso_3, semilla)\n",
        "\n",
        "labels = np.array(labels)"
      ],
      "execution_count": null,
      "outputs": []
    },
    {
      "cell_type": "code",
      "metadata": {
        "id": "XU8-ifW87za_"
      },
      "source": [
        "x_1 = []\n",
        "y_1 = []\n",
        "\n",
        "x_2 = []\n",
        "y_2 = []\n",
        "\n",
        "x_3 = []\n",
        "y_3 = []\n",
        "\n",
        "for i in X[labels==1]:\n",
        "  x_1.append(i[0])\n",
        "  y_1.append(i[1])\n",
        "\n",
        "for j in X[labels==2]:\n",
        "  x_2.append(j[0])\n",
        "  y_2.append(j[1])\n",
        "\n",
        "for k in X[labels==3]:\n",
        "  x_3.append(k[0])\n",
        "  y_3.append(k[1])"
      ],
      "execution_count": null,
      "outputs": []
    },
    {
      "cell_type": "code",
      "metadata": {
        "id": "FbahDbJK7za_"
      },
      "source": [
        "pesos_1 = []\n",
        "pesos_2 = []\n",
        "pesos_3 = []\n",
        "\n",
        "for i in range(len(labels)):\n",
        "  if labels[i] == 1:\n",
        "    pesos_1.append(peso[i])\n",
        "  elif labels[i] == 2:\n",
        "    pesos_2.append(peso[i])\n",
        "  else:\n",
        "    pesos_3.append(peso[i])"
      ],
      "execution_count": null,
      "outputs": []
    },
    {
      "cell_type": "code",
      "metadata": {
        "id": "N0fUEk0G7za_"
      },
      "source": [
        "c_x = [c_1[0], c_2[0], c_3[0]]\n",
        "c_y = [c_1[1], c_2[1], c_3[1]]"
      ],
      "execution_count": null,
      "outputs": []
    },
    {
      "cell_type": "code",
      "metadata": {
        "colab": {
          "base_uri": "https://localhost:8080/",
          "height": 427
        },
        "id": "utObg3Lu7za_",
        "outputId": "f839391a-27b5-42cf-9ec6-6cbc1477bbc8"
      },
      "source": [
        "figure(figsize=(8, 6), dpi=80)\n",
        "\n",
        "redim = 100\n",
        "\n",
        "plt.scatter(x_1, y_1, s = np.array(pesos_1)/redim, color= \"blue\", label = \"cluster 1\")\n",
        "plt.scatter(x_2, y_2, s = np.array(pesos_2)/redim, color= \"green\", label = \"cluster 2\")\n",
        "plt.scatter(x_3, y_3, s = np.array(pesos_3)/redim, color= \"purple\", label = \"cluster 3\")\n",
        "\n",
        "plt.scatter(c_x, c_y, s = 100, color= \"red\", label = \"centroides\")\n",
        "\n",
        "plt.xlabel('latitudes')\n",
        "plt.ylabel('longitudes')\n",
        "plt.legend()\n",
        "\n",
        "plt.show()"
      ],
      "execution_count": null,
      "outputs": [
        {
          "output_type": "display_data",
          "data": {
            "image/png": "[encoded data removed]",
            "text/plain": [
              "<Figure size 640x480 with 1 Axes>"
            ]
          },
          "metadata": {
            "needs_background": "light"
          }
        }
      ]
    },
    {
      "cell_type": "code",
      "metadata": {
        "colab": {
          "base_uri": "https://localhost:8080/"
        },
        "id": "dfkt8knw7zbA",
        "outputId": "22567996-1165-4c5d-fe12-f3140027d318"
      },
      "source": [
        "# Comunas cluster 1\n",
        "\n",
        "list(comunas[labels==1])"
      ],
      "execution_count": null,
      "outputs": [
        {
          "output_type": "execute_result",
          "data": {
            "text/plain": [
              "['Las Condes',\n",
              " 'Providencia',\n",
              " 'Quilicura',\n",
              " 'Huechuraba',\n",
              " 'Recoleta',\n",
              " 'Vitacura',\n",
              " 'Renca',\n",
              " 'Lo Barnechea',\n",
              " 'Conchalí',\n",
              " 'Independencia']"
            ]
          },
          "metadata": {},
          "execution_count": 29
        }
      ]
    },
    {
      "cell_type": "code",
      "metadata": {
        "colab": {
          "base_uri": "https://localhost:8080/"
        },
        "id": "Z-b7vn8_7zbA",
        "outputId": "54d7add7-40be-434e-a0c7-528597dbb08e"
      },
      "source": [
        "# Comunas cluster 2\n",
        "\n",
        "list(comunas[labels==2])"
      ],
      "execution_count": null,
      "outputs": [
        {
          "output_type": "execute_result",
          "data": {
            "text/plain": [
              "['Puente Alto',\n",
              " 'La Florida',\n",
              " 'Ñuñoa',\n",
              " 'Peñalolén',\n",
              " 'Macul',\n",
              " 'La Reina',\n",
              " 'La Pintana',\n",
              " 'La Granja']"
            ]
          },
          "metadata": {},
          "execution_count": 30
        }
      ]
    },
    {
      "cell_type": "code",
      "metadata": {
        "colab": {
          "base_uri": "https://localhost:8080/"
        },
        "id": "DQq7BtSi7zbA",
        "outputId": "d8be85a8-59f2-48c2-b0a5-f54c8ac1e47e"
      },
      "source": [
        "# Comunas cluster 3\n",
        "\n",
        "list(comunas[labels==3])"
      ],
      "execution_count": null,
      "outputs": [
        {
          "output_type": "execute_result",
          "data": {
            "text/plain": [
              "['Maipú',\n",
              " 'Santiago (Centro)',\n",
              " 'Pudahuel',\n",
              " 'San Miguel',\n",
              " 'Estación Central',\n",
              " 'Quinta Normal',\n",
              " 'El Bosque',\n",
              " 'La Cisterna',\n",
              " 'Cerro Navia',\n",
              " 'San Joaquín',\n",
              " 'Pedro Aguirre Cerda',\n",
              " 'Lo Prado',\n",
              " 'Cerrillos',\n",
              " 'Lo Espejo',\n",
              " 'San Ramón']"
            ]
          },
          "metadata": {},
          "execution_count": 31
        }
      ]
    },
    {
      "cell_type": "code",
      "metadata": {
        "colab": {
          "base_uri": "https://localhost:8080/"
        },
        "id": "BSm-C5Oc7zbB",
        "outputId": "0e6dd6ec-bb44-47a6-dd8e-aa22f2c7c347"
      },
      "source": [
        "# Clusters \n",
        "\n",
        "print(c_x)\n",
        "print(c_y)"
      ],
      "execution_count": null,
      "outputs": [
        {
          "output_type": "stream",
          "name": "stdout",
          "text": [
            "[-33.423579, -33.50016224024025, -33.48620058290321]\n",
            "[-70.618379, -70.58092806175688, -70.69268141782545]\n"
          ]
        }
      ]
    },
    {
      "cell_type": "code",
      "metadata": {
        "id": "RDCmf16K75uJ"
      },
      "source": [
        ""
      ],
      "execution_count": null,
      "outputs": []
    }
  ]
}