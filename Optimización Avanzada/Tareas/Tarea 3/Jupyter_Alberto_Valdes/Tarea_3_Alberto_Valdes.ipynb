{
 "cells": [
  {
   "cell_type": "markdown",
   "metadata": {},
   "source": [
    "# Instrucciones Parte Computacional\n",
    "## Tarea 3 ICS 3153 - Optimización Avanzada\n",
    "\n",
    "En la pregunta 3.b. de su tarea se le pide plantear un método numérico para resolver el problema SVM.\n",
    "\n",
    "$$\n",
    "\\min _ { x \\in \\mathbb { R } ^ { d } } \\left[ F ( x ) = \\sum _ { i = 1 } ^ { n } \\operatorname { máx } \\left\\{ 0,1 - y _ { i } \\left\\langle w _ { i } , x \\right\\rangle \\right\\} + \\frac { \\alpha } { 2 } \\| x \\| _ { 2 } ^ { 2 } \\right] \\quad \\text { (SVM) }\n",
    "$$\n",
    "\n",
    "Para tener un benchmark, se le propone comparar el gap de cada paso de su método con la solución del solver LinearSVC de Sklearn. "
   ]
  },
  {
   "cell_type": "code",
   "execution_count": 21,
   "metadata": {},
   "outputs": [],
   "source": [
    "from sklearn.svm import LinearSVC\n",
    "from sklearn.datasets import make_classification\n",
    "import numpy as np"
   ]
  },
  {
   "cell_type": "markdown",
   "metadata": {},
   "source": [
    "## Datasets\n",
    "A continuación se le provee de un dataset sobre al cual debe trabajar. El conjunto datos es de la forma  $$\n",
    "\\left\\{ \\left( w _ { i } , y _ { i } \\right) \\right\\} _ { i = 1 , \\ldots , 100 } \\subseteq \\mathbb { R } ^ { 4 } \\times \\{ - 1 , + 1 \\}\n",
    "$$\n",
    "\n",
    "### OJO: la semilla (seed) no debe cambiarla de 0, pues no queremos generar distintos datasets cada vez"
   ]
  },
  {
   "cell_type": "code",
   "execution_count": 22,
   "metadata": {},
   "outputs": [],
   "source": [
    "seed=0"
   ]
  },
  {
   "cell_type": "code",
   "execution_count": 23,
   "metadata": {},
   "outputs": [],
   "source": [
    "W, y = make_classification(n_features=4, random_state=seed)\n",
    "y = 2*(y-0.5)"
   ]
  },
  {
   "cell_type": "code",
   "execution_count": 24,
   "metadata": {},
   "outputs": [
    {
     "name": "stdout",
     "output_type": "stream",
     "text": [
      "Dimensiones de las features:  (100, 4)\n",
      "Dimensiones de los labels:  (100,)\n"
     ]
    }
   ],
   "source": [
    "print(\"Dimensiones de las features: \",W.shape)\n",
    "print(\"Dimensiones de los labels: \",y.shape)"
   ]
  },
  {
   "cell_type": "markdown",
   "metadata": {},
   "source": [
    "Los datos ya se encuentran preprocesados por lo que no debe preocuparse de eso."
   ]
  },
  {
   "cell_type": "code",
   "execution_count": 25,
   "metadata": {},
   "outputs": [
    {
     "data": {
      "text/plain": [
       "(array([[-0.07156026,  0.2295539 ,  0.21654345,  0.06527398],\n",
       "        [-0.4032571 ,  2.00618406,  2.02751248,  0.85089194],\n",
       "        [-1.13058206, -0.02029593, -0.71023363, -1.44099108],\n",
       "        [ 0.18332468, -0.77461035, -0.76605469, -0.29366863]]),\n",
       " array([ 1.,  1., -1., -1.]))"
      ]
     },
     "execution_count": 25,
     "metadata": {},
     "output_type": "execute_result"
    }
   ],
   "source": [
    "W[0:4], y[0:4]"
   ]
  },
  {
   "cell_type": "markdown",
   "metadata": {},
   "source": [
    "## LinearSVC\n",
    "\n",
    "A continuación corremos el solver de SKlearn. Aquí el parámetro C correponde a $\\frac{1}{\\alpha}$ en la formulación (SVM) del enunciado "
   ]
  },
  {
   "cell_type": "code",
   "execution_count": 26,
   "metadata": {},
   "outputs": [],
   "source": [
    "alpha = 1. "
   ]
  },
  {
   "cell_type": "code",
   "execution_count": 27,
   "metadata": {},
   "outputs": [
    {
     "data": {
      "text/plain": [
       "LinearSVC(C=1.0, class_weight=None, dual=True, fit_intercept=True,\n",
       "     intercept_scaling=1, loss='hinge', max_iter=1000, multi_class='ovr',\n",
       "     penalty='l2', random_state=0, tol=1e-05, verbose=0)"
      ]
     },
     "execution_count": 27,
     "metadata": {},
     "output_type": "execute_result"
    }
   ],
   "source": [
    "svm = LinearSVC(C= 1/alpha, random_state=seed,\n",
    "                tol=1e-5,max_iter=1000,\n",
    "                loss = 'hinge', dual = True)\n",
    "svm.fit(W,y)"
   ]
  },
  {
   "cell_type": "markdown",
   "metadata": {},
   "source": [
    "## Extracción del $x^*$ entregado por el solver\n",
    "\n",
    "Debe comparar las soluciones de método son el óptimo encontrado por el solver LinearSVC"
   ]
  },
  {
   "cell_type": "code",
   "execution_count": 28,
   "metadata": {},
   "outputs": [
    {
     "data": {
      "text/plain": [
       "array([[0.13065512, 0.78724747, 0.97122779, 0.69859935]])"
      ]
     },
     "execution_count": 28,
     "metadata": {},
     "output_type": "execute_result"
    }
   ],
   "source": [
    "x_opt = svm.coef_\n",
    "x_opt"
   ]
  },
  {
   "cell_type": "markdown",
   "metadata": {},
   "source": [
    "# Función de pérdida\n",
    "\n",
    "La función de pérdida del enunciado a minimizar en (SVM) es la siguiente "
   ]
  },
  {
   "cell_type": "code",
   "execution_count": 29,
   "metadata": {},
   "outputs": [],
   "source": [
    "def F(W,y,alpha, x):\n",
    "    suma = 0\n",
    "    for i in range(len(y)):\n",
    "        suma += max(0, 1 - y[i] * float(np.dot(W[i],x.T)))\n",
    "    suma += (alpha/2)*float(np.dot(x,x.T))\n",
    "    return suma"
   ]
  },
  {
   "cell_type": "markdown",
   "metadata": {},
   "source": [
    "## $F(x^*)$\n",
    "\n",
    "El valor de la función de pérdida en en óptimo está dada por:"
   ]
  },
  {
   "cell_type": "code",
   "execution_count": 30,
   "metadata": {},
   "outputs": [
    {
     "data": {
      "text/plain": [
       "30.139424714873634"
      ]
     },
     "execution_count": 30,
     "metadata": {},
     "output_type": "execute_result"
    }
   ],
   "source": [
    "F(W,y,alpha,x_opt)"
   ]
  },
  {
   "cell_type": "markdown",
   "metadata": {},
   "source": [
    "Compare el gap de optimalidad de su método con  $F(x^*)$. También debe comparar el score (% de accuracy) de su clasificador lineal contra el del solver"
   ]
  },
  {
   "cell_type": "code",
   "execution_count": 31,
   "metadata": {},
   "outputs": [
    {
     "data": {
      "text/plain": [
       "0.94"
      ]
     },
     "execution_count": 31,
     "metadata": {},
     "output_type": "execute_result"
    }
   ],
   "source": [
    "svm.score(W,y)"
   ]
  },
  {
   "cell_type": "code",
   "execution_count": 32,
   "metadata": {},
   "outputs": [],
   "source": [
    "# Ahora comenzaremos a aplicar nuestro método\n",
    "# El método que utilizaremos es el método del \"subgradiente\" el cual se encuentra explicado en el informe\n",
    "# Lo primero que haremos es programar un método que calcule el subgradiente"
   ]
  },
  {
   "cell_type": "code",
   "execution_count": 33,
   "metadata": {},
   "outputs": [],
   "source": [
    "def calcular_subgradiente(x):\n",
    "    #Como se eligio alpha = 1\n",
    "    subg=x\n",
    "    for i in range(len(y)):\n",
    "        t=y[i] * float(np.dot(W[i],x.T))\n",
    "        if t<1:\n",
    "            subg=subg-y[i]*W[i]\n",
    "        if t==1:\n",
    "            subg=subg-((y[i]*W[i])/2)\n",
    "    return subg"
   ]
  },
  {
   "cell_type": "code",
   "execution_count": 34,
   "metadata": {},
   "outputs": [],
   "source": [
    "# También calcularemos la presición de nuestro método\n",
    "\n",
    "def calcular_precision(x):\n",
    "    contador=0\n",
    "    for i in range(100):\n",
    "        r=(y[i]-np.sign(float(np.dot(W[i],x.T))))\n",
    "        if r==0:\n",
    "            contador=contador+1\n",
    "    return contador/100"
   ]
  },
  {
   "cell_type": "code",
   "execution_count": 35,
   "metadata": {},
   "outputs": [],
   "source": [
    "# Ahora implementaremos el metodo del subgradiente con backtring con un número de iteraciones arbitrario\n",
    "\n",
    "def subgradiente_backtracking(n):\n",
    "    lista=[]\n",
    "    lista_2=[]\n",
    "    eta = 1\n",
    "    x = np.array([0,0,0,0])\n",
    "    lista.append(x)\n",
    "    for i in range(n):\n",
    "        v=x\n",
    "        x=x-eta*calcular_subgradiente(x)\n",
    "        F2=F(W,y,alpha,x)\n",
    "        h=x-v\n",
    "        F1=F(W,y,alpha,v) + float(np.dot(calcular_subgradiente(v),h.T)) + (1/(2*eta))*float(np.dot(h,h.T))\n",
    "        z=(F2<=F1)\n",
    "        if z==True:\n",
    "            lista.append(x)\n",
    "            lista_2.append(calcular_precision(x))\n",
    "        else:\n",
    "            eta=eta/2\n",
    "            x=v\n",
    "            lista.append(x)\n",
    "            lista_2.append(calcular_precision(x))\n",
    "    lista_final=[]\n",
    "    lista_final.append(lista)\n",
    "    lista_final.append(lista_2)\n",
    "    lista_final.append(lista[len(lista)-1])\n",
    "    return lista_final  "
   ]
  },
  {
   "cell_type": "code",
   "execution_count": 36,
   "metadata": {},
   "outputs": [
    {
     "data": {
      "text/plain": [
       "28.898100317112004"
      ]
     },
     "execution_count": 36,
     "metadata": {},
     "output_type": "execute_result"
    }
   ],
   "source": [
    "# Ahora correremos nuestro método con:\n",
    "\n",
    "n=100\n",
    "\n",
    "x_alg=(subgradiente_backtracking(n))[2]\n",
    "\n",
    "F(W,y,alpha,x_alg)"
   ]
  },
  {
   "cell_type": "code",
   "execution_count": 37,
   "metadata": {},
   "outputs": [
    {
     "name": "stdout",
     "output_type": "stream",
     "text": [
      "0.88\n"
     ]
    }
   ],
   "source": [
    "# Ahora también calcularemos cuantos puntos clasifico bien el algoritmo\n",
    "\n",
    "p=(subgradiente_backtracking(n))[1]\n",
    "\n",
    "prec=p[len(p)-1]\n",
    "\n",
    "print(prec)"
   ]
  },
  {
   "cell_type": "code",
   "execution_count": 44,
   "metadata": {},
   "outputs": [
    {
     "data": {
      "image/png": "[encoded data removed]",
      "text/plain": [
       "<Figure size 432x288 with 1 Axes>"
      ]
     },
     "metadata": {
      "needs_background": "light"
     },
     "output_type": "display_data"
    }
   ],
   "source": [
    "# Ahora lo que haremos será graficar como varían la función objetivo de nuestro algoritmo en función de las iteraciones\n",
    "\n",
    "\n",
    "import matplotlib.pyplot as plt\n",
    "\n",
    "u=[]\n",
    "\n",
    "for j in range(n):\n",
    "    u.append(j+1)\n",
    "\n",
    "resultado=(subgradiente_backtracking(n))[0]\n",
    "\n",
    "eje_y=[]\n",
    "\n",
    "for k in range(n):\n",
    "    eje_y.append(F(W,y,alpha,resultado[k]))\n",
    "\n",
    "plt.plot(u,eje_y,color=\"r\", linewidth=2, label='Función objetivo en funcion de las iteraciones')\n",
    "\n",
    "plt.xlabel('Numero de iteraciones')\n",
    "plt.ylabel('Función objetivo')\n",
    "plt.legend(loc='best')\n",
    "plt.show()"
   ]
  },
  {
   "cell_type": "code",
   "execution_count": 45,
   "metadata": {},
   "outputs": [
    {
     "data": {
      "image/png": "[encoded data removed]",
      "text/plain": [
       "<Figure size 432x288 with 1 Axes>"
      ]
     },
     "metadata": {
      "needs_background": "light"
     },
     "output_type": "display_data"
    }
   ],
   "source": [
    "# Ahora también graficaremos como va variando la precisión del algoritmo en función de las iteraciones\n",
    "\n",
    "u=[]\n",
    "\n",
    "for j in range(n):\n",
    "    u.append(j+1)\n",
    "\n",
    "resultado_2=(subgradiente_backtracking(n))[1]\n",
    "\n",
    "eje_y=[]\n",
    "\n",
    "for k in range(n):\n",
    "    eje_y.append(resultado_2[k]*100)\n",
    "\n",
    "plt.plot(u,eje_y,color=\"r\", linewidth=2, label='Acurracy en función de las iteraciones')\n",
    "\n",
    "plt.xlabel('Numero de iteraciones')\n",
    "plt.ylabel('Precisión')\n",
    "plt.legend(loc='best')\n",
    "plt.show()"
   ]
  },
  {
   "cell_type": "code",
   "execution_count": null,
   "metadata": {},
   "outputs": [],
   "source": []
  }
 ],
 "metadata": {
  "anaconda-cloud": {},
  "kernelspec": {
   "display_name": "Python 3",
   "language": "python",
   "name": "python3"
  },
  "language_info": {
   "codemirror_mode": {
    "name": "ipython",
    "version": 3
   },
   "file_extension": ".py",
   "mimetype": "text/x-python",
   "name": "python",
   "nbconvert_exporter": "python",
   "pygments_lexer": "ipython3",
   "version": "3.7.1"
  }
 },
 "nbformat": 4,
 "nbformat_minor": 2
}
