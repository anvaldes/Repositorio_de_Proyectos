{
  "nbformat": 4,
  "nbformat_minor": 0,
  "metadata": {
    "colab": {
      "name": "Tarea_2_Alberto_Valdes_DL_IIC3697.ipynb",
      "provenance": [],
      "toc_visible": true
    },
    "kernelspec": {
      "name": "python3",
      "display_name": "Python 3"
    },
    "language_info": {
      "name": "python"
    },
    "accelerator": "GPU"
  },
  "cells": [
    {
      "cell_type": "markdown",
      "metadata": {
        "id": "JnwO1wJSVhP7"
      },
      "source": [
        "$ \\huge{1. \\ Redes \\ Neuronales \\ Recurrentes: RNN} $"
      ]
    },
    {
      "cell_type": "code",
      "metadata": {
        "colab": {
          "base_uri": "https://localhost:8080/"
        },
        "id": "qFjGqmVUdzFL",
        "outputId": "1db5171d-8840-45f1-a332-ffce783c20c5"
      },
      "source": [
        "import re\n",
        "import nltk\n",
        "import math\n",
        "import time\n",
        "import torch\n",
        "import torchtext\n",
        "import numpy as np\n",
        "import pandas as pd\n",
        "import seaborn as sns\n",
        "import torch.nn as nn\n",
        "nltk.download('stopwords')\n",
        "import matplotlib.pyplot as plt\n",
        "from torchtext.vocab import GloVe\n",
        "from nltk.corpus import stopwords\n",
        "from torchtext import data, datasets\n",
        "from collections import defaultdict, Counter\n",
        "from torch.utils.data import DataLoader, TensorDataset"
      ],
      "execution_count": null,
      "outputs": [
        {
          "output_type": "stream",
          "text": [
            "[nltk_data] Downloading package stopwords to /root/nltk_data...\n",
            "[nltk_data]   Package stopwords is already up-to-date!\n"
          ],
          "name": "stdout"
        }
      ]
    },
    {
      "cell_type": "code",
      "metadata": {
        "colab": {
          "base_uri": "https://localhost:8080/"
        },
        "id": "olPqZuREd2zo",
        "outputId": "55ae292d-7f16-484e-9d86-7613d772945f"
      },
      "source": [
        "from google.colab import drive\n",
        "drive.mount('/content/drive')"
      ],
      "execution_count": null,
      "outputs": [
        {
          "output_type": "stream",
          "text": [
            "Drive already mounted at /content/drive; to attempt to forcibly remount, call drive.mount(\"/content/drive\", force_remount=True).\n"
          ],
          "name": "stdout"
        }
      ]
    },
    {
      "cell_type": "code",
      "metadata": {
        "id": "ERAVu0UrCXg1"
      },
      "source": [
        "class Model(nn.Module):\n",
        "    def __init__(self, input_size, output_size, hidden_dim, n_layers, device, dict_size):\n",
        "        super(Model, self).__init__()\n",
        "\n",
        "        # Defining some parameters\n",
        "        self.hidden_dim = hidden_dim\n",
        "        self.n_layers = n_layers\n",
        "\n",
        "        #Defining the layers\n",
        "        # RNN Layer\n",
        "\n",
        "        self.embedding = nn.Embedding(dict_size, input_size)\n",
        "\n",
        "        self.rnn = nn.RNN(input_size, hidden_dim, n_layers, batch_first=True)   \n",
        "        # Fully connected layer\n",
        "        self.fc = nn.Linear(hidden_dim, output_size)\n",
        "\n",
        "        self.softmax = nn.Softmax(dim=-1)\n",
        "\n",
        "        self.device = device\n",
        "    \n",
        "    def forward(self, x):\n",
        "        \n",
        "        batch_size = x.size(0)\n",
        "\n",
        "        x = self.embedding(x)\n",
        "\n",
        "        x = x[:,:,0,:]\n",
        "\n",
        "        # Initializing hidden state for first input using method defined below\n",
        "        hidden = self.init_hidden(batch_size)\n",
        "\n",
        "        # Passing in the input and hidden state into the model and obtaining outputs\n",
        "        out, hidden = self.rnn(x, hidden)\n",
        "        \n",
        "        # Reshaping the outputs such that it can be fit into the fully connected layer\n",
        "        out = out.contiguous().view(-1, self.hidden_dim)\n",
        "        out = self.fc(out)\n",
        "        out = self.softmax(out)\n",
        "        \n",
        "        return out, hidden.to(self.device)\n",
        "    \n",
        "    def init_hidden(self, batch_size):\n",
        "        # This method generates the first hidden state of zeros which we'll use in the forward pass\n",
        "        # We'll send the tensor holding the hidden state to the device we specified earlier as well\n",
        "        hidden = torch.zeros(self.n_layers, batch_size, self.hidden_dim)\n",
        "        return hidden.to(self.device)"
      ],
      "execution_count": null,
      "outputs": []
    },
    {
      "cell_type": "markdown",
      "metadata": {
        "id": "la-q8QW4FABa"
      },
      "source": [
        "## **Actividad 1:**"
      ]
    },
    {
      "cell_type": "markdown",
      "metadata": {
        "id": "zAMVqvVsGeez"
      },
      "source": [
        "El embedding utilizado consistirá en lo que se denomina **bolsa de palabras**. El proceso consiste en lo siguiente: \n",
        "\n",
        "$ \\ \\ $\n",
        "\n",
        "1. Agrupamos todos los mensajes, tanto los correspondientes a \"spam\" como a \"no spam\". De todos estos mensajes sacamos todas las palabras y creamos un diccionario que asocie a cada palabra un número.\n",
        "\n",
        "2. Luego de que tenemos creado el diccionario que asocia a cada palabra un número (phrase2int) creamos el diccionario que asocia a cada numero una palabra (int2phrase). \n",
        "\n",
        "3. Como todas las oraciones tendrán distinto numero de palabras, entonces lo que haremos será un padding analogo a \"PadSequence\" para dejar a todas las oraciones con el mismo numero de palabras. \n",
        "\n",
        "4. Con los diccionarios ya creados le asociamos a cada oración un vector de dimensión igual al numero de palabras en cada oración y en cada componente tienen el numero asociado a la palabra respectiva.\n",
        "\n",
        "5. Luego de lo ya mencionado, aplicamos un embedding al vector asociado a cada oración. Este embedding hace que palabras similares esten a una distinacia menor que palabras distintas. Este embedding es entrenable y se entranará con todo el resto de la red.\n",
        "\n",
        "$ \\ \\ $"
      ]
    },
    {
      "cell_type": "markdown",
      "metadata": {
        "id": "5fF9at6KgScS"
      },
      "source": [
        "## **Actividad 2:**"
      ]
    },
    {
      "cell_type": "code",
      "metadata": {
        "id": "zx2SCAtegScT"
      },
      "source": [
        "def num_trainable_parameters(model):\n",
        "  return sum(p.numel() for p in model.parameters() if p.requires_grad)"
      ],
      "execution_count": null,
      "outputs": []
    },
    {
      "cell_type": "markdown",
      "metadata": {
        "id": "lL6H-MZwgScV"
      },
      "source": [
        "**i)** $ \\ $\n",
        "\n",
        "El número de parametros del modelo SI depende del dataset utilizado, dado a que el input del modelo es el tamaño del diccionario de frases y entre mayor cantidad de frases posea en total el dataset, entonces más parametros tendrá el modelo.\n",
        "\n",
        "$ \\\\ $\n",
        "\n",
        "Sin embargo, si dos datasets ocupan el mismo numero de frases (incluso sin ser iguales tales datasets) entonces tendrán el mismo número de parametros el modelo asociado. \n",
        "\n",
        "$ \\\\ $ \n",
        "\n",
        "Para ejemplificar esto, graficaremos el número de parametros del modelo en función del tamaño del diccionario de frases."
      ]
    },
    {
      "cell_type": "code",
      "metadata": {
        "colab": {
          "base_uri": "https://localhost:8080/"
        },
        "id": "QXLYKTJtgScW",
        "outputId": "79d05c8e-64d4-446a-aba4-9382b553b55a"
      },
      "source": [
        "# torch.cuda.is_available() checks and returns a Boolean True if a GPU is available, else it'll return False\n",
        "is_cuda = torch.cuda.is_available()\n",
        "\n",
        "# If we have a GPU available, we'll set our device to GPU. We'll use this device variable later in our code.\n",
        "if is_cuda:\n",
        "    device = torch.device(\"cuda\")\n",
        "    print(\"GPU is available\")    \n",
        "else:\n",
        "    device = torch.device(\"cpu\")\n",
        "    print(\"GPU not available, CPU used\")"
      ],
      "execution_count": null,
      "outputs": [
        {
          "output_type": "stream",
          "text": [
            "GPU is available\n"
          ],
          "name": "stdout"
        }
      ]
    },
    {
      "cell_type": "code",
      "metadata": {
        "id": "SACD7L3WgScW"
      },
      "source": [
        "dim_input_max = 100\n",
        "\n",
        "dim_input = []\n",
        "num_par_60 = []\n",
        "\n",
        "for i in range(1, dim_input_max + 1):\n",
        "  \n",
        "  model = Model(input_size=80, output_size=2, hidden_dim=60, n_layers=1, device = device, dict_size = i)\n",
        "  num_parametros = num_trainable_parameters(model)\n",
        "\n",
        "  dim_input.append(i)\n",
        "  num_par_60.append(num_parametros)"
      ],
      "execution_count": null,
      "outputs": []
    },
    {
      "cell_type": "code",
      "metadata": {
        "colab": {
          "base_uri": "https://localhost:8080/",
          "height": 431
        },
        "id": "MPWYebFWgScX",
        "outputId": "c5995339-7983-4f56-d208-7a27fdaf0ecd"
      },
      "source": [
        "plt.figure(figsize=(10,7))\n",
        "\n",
        "plt.plot(dim_input, num_par_60, color = \"red\")\n",
        "\n",
        "plt.legend(['Numero de parametros 60'], loc='upper left')\n",
        "\n",
        "plt.show()"
      ],
      "execution_count": null,
      "outputs": [
        {
          "output_type": "display_data",
          "data": {
            "image/png": "[encoded data removed]",
            "text/plain": [
              "<Figure size 720x504 with 1 Axes>"
            ]
          },
          "metadata": {
            "tags": [],
            "needs_background": "light"
          }
        }
      ]
    },
    {
      "cell_type": "markdown",
      "metadata": {
        "id": "-g3AbIkxgScX"
      },
      "source": [
        "**ii)** $ \\ $\n",
        "\n",
        "El número de parametros del modelo se podría reducir cambiando la dimensionalidad de la capa oculta (en particular, disminuyendola). En el grafico anterior todos los modelos tenian dimensionalidad de la capa oculta igual a 60. Ahora cambiaremos este valor a 30 y mostraremos a través de un gráfico también que para los mismos tamaños de inputs de entrada, tendremos distintos numeros de parametros, en particular, los modelos con dimensionalidad igual a 30 del estado oculto tendran menor numero de parametros que los modelos con dimensionalidad del estado oculto igual a 60."
      ]
    },
    {
      "cell_type": "code",
      "metadata": {
        "id": "bIKnqGH3gScX"
      },
      "source": [
        "dim_input_max = 100\n",
        "\n",
        "dim_input = []\n",
        "num_par_30 = []\n",
        "\n",
        "for i in range(1, dim_input_max + 1):\n",
        "  \n",
        "  model = Model(input_size=80, output_size=2, hidden_dim=30, n_layers=1, device = device, dict_size = i)\n",
        "  num_parametros = num_trainable_parameters(model)\n",
        "\n",
        "  dim_input.append(i)\n",
        "  num_par_30.append(num_parametros)"
      ],
      "execution_count": null,
      "outputs": []
    },
    {
      "cell_type": "code",
      "metadata": {
        "colab": {
          "base_uri": "https://localhost:8080/",
          "height": 428
        },
        "id": "kyRSGTjhgScX",
        "outputId": "8f14b9fb-c561-4c20-d894-a6116d9d7f73"
      },
      "source": [
        "plt.figure(figsize=(10,7))\n",
        "\n",
        "plt.plot(dim_input, num_par_60, color = \"red\")\n",
        "plt.plot(dim_input, num_par_30, color = \"blue\")\n",
        "\n",
        "plt.legend(['Numero de parametros 60', 'Numero de parametros 30'], loc='upper left')\n",
        "\n",
        "plt.show()"
      ],
      "execution_count": null,
      "outputs": [
        {
          "output_type": "display_data",
          "data": {
            "image/png": "[encoded data removed]",
            "text/plain": [
              "<Figure size 720x504 with 1 Axes>"
            ]
          },
          "metadata": {
            "tags": [],
            "needs_background": "light"
          }
        }
      ]
    },
    {
      "cell_type": "markdown",
      "metadata": {
        "id": "pMxDTiOagScX"
      },
      "source": [
        "## **Actividad 3:**"
      ]
    },
    {
      "cell_type": "markdown",
      "metadata": {
        "id": "N55KsnShgScX"
      },
      "source": [
        "Ahora entrenaremos los modelos que nos piden por enunciado incluyendo una capa de embedding, rnn, otra capa lineal y finalmente una capa softmax."
      ]
    },
    {
      "cell_type": "markdown",
      "metadata": {
        "id": "1BDmNKXPgScY"
      },
      "source": [
        "Primero que todo abriremos el archivo con todos los mensajes de \"spam\" y \"no spam\". Luego de eso, limpiaremos cada uno de los mensajes sacando todos los signos y transformando los mensajes a miniscula."
      ]
    },
    {
      "cell_type": "code",
      "metadata": {
        "id": "RX5qSKgtgScY"
      },
      "source": [
        "with open('drive/MyDrive/DeepLearningUC/Tarea2/Actividad1/SMSSpamCollection') as file:\n",
        "  mensajes = file.readlines()"
      ],
      "execution_count": null,
      "outputs": []
    },
    {
      "cell_type": "code",
      "metadata": {
        "id": "zxca-lJigScY"
      },
      "source": [
        "def sacar_signos(frase):\n",
        "  nueva_frase = ''\n",
        "  for char in frase:\n",
        "    if char not in \"[.;:!\\'?,\\\"()\\[\\]<>&$#%=\\{\\}^-_/£\":\n",
        "      nueva_frase = nueva_frase + char\n",
        "  return nueva_frase.lower()"
      ],
      "execution_count": null,
      "outputs": []
    },
    {
      "cell_type": "markdown",
      "metadata": {
        "id": "UN8v_F5ngScY"
      },
      "source": [
        "Ahora crearemos la lista que agrupa los mensajes de \"spam\" y \"no spam\"."
      ]
    },
    {
      "cell_type": "code",
      "metadata": {
        "id": "75jnXwhPgScY"
      },
      "source": [
        "# Creacion de los mensajes spam y no spam\n",
        "\n",
        "spam = []\n",
        "no_spam = []"
      ],
      "execution_count": null,
      "outputs": []
    },
    {
      "cell_type": "code",
      "metadata": {
        "id": "FIrujzmAgScY"
      },
      "source": [
        "for i in range(len(mensajes)):\n",
        "  x = mensajes[i]\n",
        "  #Primero sacamos el '\\n'\n",
        "  x = x.strip()\n",
        "  #Dividimos la info para que nos separe el label del mensaje y el mensaje\n",
        "  label, msg = x.split('\\t')\n",
        "  msg_limpio = sacar_signos(msg)\n",
        "  if label == 'ham':\n",
        "    no_spam.append(msg_limpio)\n",
        "  else:\n",
        "    spam.append(msg_limpio)"
      ],
      "execution_count": null,
      "outputs": []
    },
    {
      "cell_type": "code",
      "metadata": {
        "id": "GHr4RLumgScY"
      },
      "source": [
        "texto_global = []\n",
        "\n",
        "for i in spam:\n",
        "  texto_global.append(i.split(' '))\n",
        "for j in no_spam:\n",
        "  texto_global.append(j.split(' '))"
      ],
      "execution_count": null,
      "outputs": []
    },
    {
      "cell_type": "code",
      "metadata": {
        "id": "W9KvBAFRBZNl"
      },
      "source": [
        "maxlen = len(max(texto_global, key=len))"
      ],
      "execution_count": null,
      "outputs": []
    },
    {
      "cell_type": "markdown",
      "metadata": {
        "id": "BFIZkNrIgScZ"
      },
      "source": [
        "Realizamos el padding que tiene exactamente el mismo efecto que PadSequence."
      ]
    },
    {
      "cell_type": "code",
      "metadata": {
        "id": "ZSyuL9FkgScZ"
      },
      "source": [
        "maxlen = len(max(texto_global, key=len))\n",
        "\n",
        "# Padding\n",
        "\n",
        "for i in range(len(texto_global)):\n",
        "  while len(texto_global[i])<maxlen:\n",
        "      texto_global[i].append('')"
      ],
      "execution_count": null,
      "outputs": []
    },
    {
      "cell_type": "markdown",
      "metadata": {
        "id": "OBDue4x_gScZ"
      },
      "source": [
        "Volvemos a crear las listas \"spam\" y \"no spam\"."
      ]
    },
    {
      "cell_type": "code",
      "metadata": {
        "id": "4ut_iADQgScZ"
      },
      "source": [
        "spam = texto_global[0: 747]\n",
        "no_spam = texto_global[747: 5574]"
      ],
      "execution_count": null,
      "outputs": []
    },
    {
      "cell_type": "markdown",
      "metadata": {
        "id": "_rXMqw2YgScZ"
      },
      "source": [
        "Ahora hacemos la división de la data en donde el $ 70 \\% $ corresponde al \"train set\", el $ 20 \\% $ corresponde al \"val set\" y el $10 \\% $ al \"test set\".  "
      ]
    },
    {
      "cell_type": "code",
      "metadata": {
        "id": "pW_Jj6H_gScZ"
      },
      "source": [
        "spam_train = spam[0: 523]\n",
        "spam_val = spam[523: 672]\n",
        "spam_test = spam[672: 748]"
      ],
      "execution_count": null,
      "outputs": []
    },
    {
      "cell_type": "code",
      "metadata": {
        "id": "vBtMxugrgScZ"
      },
      "source": [
        "no_spam_train = no_spam[0: 3378]\n",
        "no_spam_val = no_spam[3378: 4344]\n",
        "no_spam_test = no_spam[4344: 4827]"
      ],
      "execution_count": null,
      "outputs": []
    },
    {
      "cell_type": "code",
      "metadata": {
        "id": "u7cIaZwFgSca"
      },
      "source": [
        "texto_train = []\n",
        "label_train = []\n",
        "\n",
        "for i in spam_train:\n",
        "  texto_train.append(i)\n",
        "  label_train.append(1)\n",
        "for j in no_spam_train:\n",
        "  texto_train.append(j)\n",
        "  label_train.append(0)"
      ],
      "execution_count": null,
      "outputs": []
    },
    {
      "cell_type": "code",
      "metadata": {
        "id": "nPtADAusgSca"
      },
      "source": [
        "texto_val = []\n",
        "label_val = []\n",
        "\n",
        "for i in spam_val:\n",
        "  texto_val.append(i)\n",
        "  label_val.append(1)\n",
        "for j in no_spam_val:\n",
        "  texto_val.append(j)\n",
        "  label_val.append(0)"
      ],
      "execution_count": null,
      "outputs": []
    },
    {
      "cell_type": "code",
      "metadata": {
        "id": "TDqRt_3WgSca"
      },
      "source": [
        "texto_test = []\n",
        "label_test = []\n",
        "\n",
        "for i in spam_test:\n",
        "  texto_test.append(i)\n",
        "  label_test.append(1)\n",
        "for j in no_spam_test:\n",
        "  texto_test.append(j)\n",
        "  label_test.append(0)"
      ],
      "execution_count": null,
      "outputs": []
    },
    {
      "cell_type": "markdown",
      "metadata": {
        "id": "aJfjKgT7gSca"
      },
      "source": [
        "Ahora comenzamos a hacer el embedding de los textos."
      ]
    },
    {
      "cell_type": "code",
      "metadata": {
        "id": "KjRHRVmSDCU6"
      },
      "source": [
        "phrase = []\n",
        "\n",
        "for i in texto_global:\n",
        "  for j in i:\n",
        "    phrase.append(j)\n",
        "\n",
        "phrase = set(phrase)\n",
        "\n",
        "int2phrase = dict(enumerate(phrase))\n",
        "\n",
        "phrase2int = {ph: ind for ind, ph in int2phrase.items()}"
      ],
      "execution_count": null,
      "outputs": []
    },
    {
      "cell_type": "code",
      "metadata": {
        "id": "gbrpJZAZgSca"
      },
      "source": [
        "input_seq_train = texto_train\n",
        "input_seq_val = texto_val\n",
        "input_seq_test = texto_test"
      ],
      "execution_count": null,
      "outputs": []
    },
    {
      "cell_type": "code",
      "metadata": {
        "id": "ilElQ7KpgSca"
      },
      "source": [
        "for i in range(len(input_seq_train)):\n",
        "  input_seq_train[i] = [phrase2int[phrase] for phrase in input_seq_train[i]]"
      ],
      "execution_count": null,
      "outputs": []
    },
    {
      "cell_type": "code",
      "metadata": {
        "id": "MWhh1_fZE_7c"
      },
      "source": [
        "for i in range(len(input_seq_val)):\n",
        "  input_seq_val[i] = [phrase2int[phrase] for phrase in input_seq_val[i]]"
      ],
      "execution_count": null,
      "outputs": []
    },
    {
      "cell_type": "code",
      "metadata": {
        "id": "3n7cnZoaE_-B"
      },
      "source": [
        "for i in range(len(input_seq_test)):\n",
        "  input_seq_test[i] = [phrase2int[phrase] for phrase in input_seq_test[i]]"
      ],
      "execution_count": null,
      "outputs": []
    },
    {
      "cell_type": "code",
      "metadata": {
        "id": "yGf0_o8igScb"
      },
      "source": [
        "dict_size = len(phrase2int)\n",
        "\n",
        "def one_hot_encode(sequence, dict_size):\n",
        "  batch_size = len(sequence)\n",
        "  seq_len = len(sequence[0])\n",
        "  # Creating a multi-dimensional array of zeros with the desired output shape\n",
        "  features = np.zeros((batch_size, seq_len, 1), dtype=np.int64)\n",
        "  # Replacing the 0 at the relevant character index with a 1 to represent that character\n",
        "  for i in range(batch_size):\n",
        "    for u in range(seq_len):\n",
        "      features[i, u] = sequence[i][u]\n",
        "  return features"
      ],
      "execution_count": null,
      "outputs": []
    },
    {
      "cell_type": "code",
      "metadata": {
        "id": "5Mcof3vlgScb"
      },
      "source": [
        "input_seq_train = one_hot_encode(input_seq_train, dict_size)\n",
        "input_seq_train = torch.from_numpy(input_seq_train)\n",
        "\n",
        "input_seq_val = one_hot_encode(input_seq_val, dict_size)\n",
        "input_seq_val = torch.from_numpy(input_seq_val)\n",
        "\n",
        "input_seq_test = one_hot_encode(input_seq_test, dict_size)\n",
        "input_seq_test = torch.from_numpy(input_seq_test)"
      ],
      "execution_count": null,
      "outputs": []
    },
    {
      "cell_type": "code",
      "metadata": {
        "id": "qmzMKInCgScb"
      },
      "source": [
        "def one_hot_target(label, seq_len):\n",
        "  batch_size = len(label)\n",
        "  features = np.zeros((batch_size, seq_len), dtype=np.float32)\n",
        "  for i in range(batch_size):\n",
        "    for u in range(seq_len):\n",
        "      features[i, u] = label[i]\n",
        "  return features"
      ],
      "execution_count": null,
      "outputs": []
    },
    {
      "cell_type": "code",
      "metadata": {
        "id": "i4XoIk02gScb"
      },
      "source": [
        "target_seq_train = one_hot_target(label_train, len(input_seq_train[0]))\n",
        "target_seq_train = torch.Tensor(target_seq_train)\n",
        "\n",
        "target_seq_val = one_hot_target(label_val, len(input_seq_val[0]))\n",
        "target_seq_val = torch.Tensor(target_seq_val)\n",
        "\n",
        "target_seq_test = one_hot_target(label_test, len(input_seq_test[0]))\n",
        "target_seq_test = torch.Tensor(target_seq_test)"
      ],
      "execution_count": null,
      "outputs": []
    },
    {
      "cell_type": "code",
      "metadata": {
        "id": "cOSitdHCVxcg"
      },
      "source": [
        "def calcular_prediccion(elemento):\n",
        "  pred = []\n",
        "  if float(elemento[170][0]) >= float(elemento[170][1]):\n",
        "      return 0\n",
        "  else:\n",
        "      return 1"
      ],
      "execution_count": null,
      "outputs": []
    },
    {
      "cell_type": "code",
      "metadata": {
        "id": "XX4RqKylVxfZ"
      },
      "source": [
        "def calcular_predicciones(output):\n",
        "\n",
        "  nro_elementos = int(len(output)/171)\n",
        "\n",
        "  pred_total = []\n",
        "\n",
        "  for i in range(nro_elementos):\n",
        "\n",
        "    elemento = output[i*171:(i+1)*171]\n",
        "    prediccion = calcular_prediccion(elemento)\n",
        "    pred_total.append(prediccion)\n",
        "  \n",
        "  return pred_total"
      ],
      "execution_count": null,
      "outputs": []
    },
    {
      "cell_type": "code",
      "metadata": {
        "id": "KSa3T5YzVxiR"
      },
      "source": [
        "def calcular_precicision(prediccion, label):\n",
        "  contador = 0\n",
        "  total = 0\n",
        "\n",
        "  for i in range(len(prediccion)):\n",
        "    if int(prediccion[i]) == int(label[i]):\n",
        "      contador = contador + 1\n",
        "\n",
        "    total = total + 1\n",
        "  \n",
        "  return contador/total"
      ],
      "execution_count": null,
      "outputs": []
    },
    {
      "cell_type": "code",
      "metadata": {
        "colab": {
          "base_uri": "https://localhost:8080/"
        },
        "id": "xQTsdeR_gScc",
        "outputId": "21c532b5-15b8-41a3-eb7a-cc398dfd1f01"
      },
      "source": [
        "# torch.cuda.is_available() checks and returns a Boolean True if a GPU is available, else it'll return False\n",
        "is_cuda = torch.cuda.is_available()\n",
        "\n",
        "# If we have a GPU available, we'll set our device to GPU. We'll use this device variable later in our code.\n",
        "if is_cuda:\n",
        "    device = torch.device(\"cuda\")\n",
        "    print(\"GPU is available\")    \n",
        "else:\n",
        "    device = torch.device(\"cpu\")\n",
        "    print(\"GPU not available, CPU used\")"
      ],
      "execution_count": null,
      "outputs": [
        {
          "output_type": "stream",
          "text": [
            "GPU is available\n"
          ],
          "name": "stdout"
        }
      ]
    },
    {
      "cell_type": "code",
      "metadata": {
        "id": "Anry5EQEgScc"
      },
      "source": [
        "input_seq_train = input_seq_train.to(device)\n",
        "target_seq_train = target_seq_train.to(device)\n",
        "\n",
        "input_seq_val = input_seq_val.to(device)\n",
        "target_seq_val = target_seq_val.to(device)\n",
        "\n",
        "input_seq_test = input_seq_test.to(device)\n",
        "target_seq_test = target_seq_test.to(device)"
      ],
      "execution_count": null,
      "outputs": []
    },
    {
      "cell_type": "code",
      "metadata": {
        "id": "pUPlmAj3gScc"
      },
      "source": [
        "model = Model(input_size=80, output_size=2, hidden_dim=10, n_layers=1, device = device, dict_size = dict_size)\n",
        "model = model.to(device)"
      ],
      "execution_count": null,
      "outputs": []
    },
    {
      "cell_type": "code",
      "metadata": {
        "id": "kCB8kjv4gScc"
      },
      "source": [
        "n_epochs = 150\n",
        "lr=0.01*15\n",
        "\n",
        "# Define Loss, Optimizer\n",
        "criterion = nn.CrossEntropyLoss()\n",
        "optimizer = torch.optim.Adam(model.parameters(), lr=lr)\n",
        "target_seq_train = target_seq_train.to(device)"
      ],
      "execution_count": null,
      "outputs": []
    },
    {
      "cell_type": "code",
      "metadata": {
        "colab": {
          "base_uri": "https://localhost:8080/"
        },
        "id": "kPapCPT-gScc",
        "outputId": "4cd0f01e-34d6-445a-d474-619877ec21e4"
      },
      "source": [
        "# Entrenamiento\n",
        "\n",
        "epocas_totales_rnn = []\n",
        "loss_train_totales_rnn = []\n",
        "loss_val_totales_rnn = []\n",
        "prec_train_totales_rnn = []\n",
        "prec_val_totales_rnn = []\n",
        "\n",
        "for epoch in range(1, n_epochs + 1):\n",
        "\n",
        "  start = time.time()\n",
        "\n",
        "  model.train()\n",
        "\n",
        "  optimizer.zero_grad() # Clears existing gradients from previous epoch\n",
        "\n",
        "  output_train, _ = model(input_seq_train)\n",
        "  loss_train = criterion(output_train, target_seq_train.view(-1).long())\n",
        "  loss_train.backward() # Does backpropagation and calculates gradients\n",
        "  optimizer.step() # Updates the weights accordingly\n",
        "\n",
        "  model.eval()\n",
        "  output_val, _ = model(input_seq_val)\n",
        "\n",
        "  pred_train = calcular_predicciones(output_train)\n",
        "  pred_val = calcular_predicciones(output_val)\n",
        "\n",
        "  prec_train = calcular_precicision(pred_train, label_train)\n",
        "  prec_val = calcular_precicision(pred_val, label_val)\n",
        "\n",
        "  loss_val = criterion(output_val, target_seq_val.view(-1).long())\n",
        "\n",
        "  epocas_totales_rnn.append(epoch)\n",
        "  loss_train_totales_rnn.append(loss_train)\n",
        "  loss_val_totales_rnn.append(loss_val)\n",
        "  prec_train_totales_rnn.append(prec_train)\n",
        "  prec_val_totales_rnn.append(prec_val)\n",
        "\n",
        "  end = time.time()\n",
        "\n",
        "  print('Epoch: {}/{}.............'.format(epoch, n_epochs), end=' ')\n",
        "  print(\"Loss Train Epoch: {:.4f}.............\".format(loss_train.item()), end =' ')\n",
        "  print(\"Time Epoch: {}\".format(end-start))"
      ],
      "execution_count": null,
      "outputs": [
        {
          "output_type": "stream",
          "text": [
            "Epoch: 1/150............. Loss Train Epoch: 0.4375............. Time Epoch: 0.29055285453796387\n",
            "Epoch: 2/150............. Loss Train Epoch: 0.4378............. Time Epoch: 0.28452491760253906\n",
            "Epoch: 3/150............. Loss Train Epoch: 0.4374............. Time Epoch: 0.2667093276977539\n",
            "Epoch: 4/150............. Loss Train Epoch: 0.4372............. Time Epoch: 0.2724285125732422\n",
            "Epoch: 5/150............. Loss Train Epoch: 0.4370............. Time Epoch: 0.259082555770874\n",
            "Epoch: 6/150............. Loss Train Epoch: 0.4369............. Time Epoch: 0.2566030025482178\n",
            "Epoch: 7/150............. Loss Train Epoch: 0.4369............. Time Epoch: 0.25655341148376465\n",
            "Epoch: 8/150............. Loss Train Epoch: 0.4359............. Time Epoch: 0.2554447650909424\n",
            "Epoch: 9/150............. Loss Train Epoch: 0.4358............. Time Epoch: 0.25278472900390625\n",
            "Epoch: 10/150............. Loss Train Epoch: 0.4357............. Time Epoch: 0.2657444477081299\n",
            "Epoch: 11/150............. Loss Train Epoch: 0.4356............. Time Epoch: 0.2515676021575928\n",
            "Epoch: 12/150............. Loss Train Epoch: 0.4355............. Time Epoch: 0.2595634460449219\n",
            "Epoch: 13/150............. Loss Train Epoch: 0.4356............. Time Epoch: 0.250049352645874\n",
            "Epoch: 14/150............. Loss Train Epoch: 0.4356............. Time Epoch: 0.25162434577941895\n",
            "Epoch: 15/150............. Loss Train Epoch: 0.4356............. Time Epoch: 0.24852275848388672\n",
            "Epoch: 16/150............. Loss Train Epoch: 0.4356............. Time Epoch: 0.26291704177856445\n",
            "Epoch: 17/150............. Loss Train Epoch: 0.4354............. Time Epoch: 0.2525947093963623\n",
            "Epoch: 18/150............. Loss Train Epoch: 0.4353............. Time Epoch: 0.25094056129455566\n",
            "Epoch: 19/150............. Loss Train Epoch: 0.4352............. Time Epoch: 0.2507469654083252\n",
            "Epoch: 20/150............. Loss Train Epoch: 0.4351............. Time Epoch: 0.2573873996734619\n",
            "Epoch: 21/150............. Loss Train Epoch: 0.4350............. Time Epoch: 0.2579059600830078\n",
            "Epoch: 22/150............. Loss Train Epoch: 0.4348............. Time Epoch: 0.24945425987243652\n",
            "Epoch: 23/150............. Loss Train Epoch: 0.4348............. Time Epoch: 0.2518165111541748\n",
            "Epoch: 24/150............. Loss Train Epoch: 0.4348............. Time Epoch: 0.253648042678833\n",
            "Epoch: 25/150............. Loss Train Epoch: 0.4347............. Time Epoch: 0.2566506862640381\n",
            "Epoch: 26/150............. Loss Train Epoch: 0.4346............. Time Epoch: 0.24952459335327148\n",
            "Epoch: 27/150............. Loss Train Epoch: 0.4345............. Time Epoch: 0.2502562999725342\n",
            "Epoch: 28/150............. Loss Train Epoch: 0.4343............. Time Epoch: 0.24987316131591797\n",
            "Epoch: 29/150............. Loss Train Epoch: 0.4342............. Time Epoch: 0.24765539169311523\n",
            "Epoch: 30/150............. Loss Train Epoch: 0.4341............. Time Epoch: 0.2474973201751709\n",
            "Epoch: 31/150............. Loss Train Epoch: 0.4340............. Time Epoch: 0.2523982524871826\n",
            "Epoch: 32/150............. Loss Train Epoch: 0.4338............. Time Epoch: 0.25368356704711914\n",
            "Epoch: 33/150............. Loss Train Epoch: 0.4337............. Time Epoch: 0.2529489994049072\n",
            "Epoch: 34/150............. Loss Train Epoch: 0.4335............. Time Epoch: 0.25249695777893066\n",
            "Epoch: 35/150............. Loss Train Epoch: 0.4334............. Time Epoch: 0.25521039962768555\n",
            "Epoch: 36/150............. Loss Train Epoch: 0.4332............. Time Epoch: 0.24971413612365723\n",
            "Epoch: 37/150............. Loss Train Epoch: 0.4332............. Time Epoch: 0.254077672958374\n",
            "Epoch: 38/150............. Loss Train Epoch: 0.4329............. Time Epoch: 0.2515871524810791\n",
            "Epoch: 39/150............. Loss Train Epoch: 0.4328............. Time Epoch: 0.26731204986572266\n",
            "Epoch: 40/150............. Loss Train Epoch: 0.4326............. Time Epoch: 0.25061774253845215\n",
            "Epoch: 41/150............. Loss Train Epoch: 0.4325............. Time Epoch: 0.25168561935424805\n",
            "Epoch: 42/150............. Loss Train Epoch: 0.4323............. Time Epoch: 0.24906301498413086\n",
            "Epoch: 43/150............. Loss Train Epoch: 0.4313............. Time Epoch: 0.24901580810546875\n",
            "Epoch: 44/150............. Loss Train Epoch: 0.4303............. Time Epoch: 0.24666714668273926\n",
            "Epoch: 45/150............. Loss Train Epoch: 0.3278............. Time Epoch: 0.25214147567749023\n",
            "Epoch: 46/150............. Loss Train Epoch: 0.3273............. Time Epoch: 0.2588329315185547\n",
            "Epoch: 47/150............. Loss Train Epoch: 0.3248............. Time Epoch: 0.2524290084838867\n",
            "Epoch: 48/150............. Loss Train Epoch: 0.3248............. Time Epoch: 0.25383472442626953\n",
            "Epoch: 49/150............. Loss Train Epoch: 0.3245............. Time Epoch: 0.2500424385070801\n",
            "Epoch: 50/150............. Loss Train Epoch: 0.3241............. Time Epoch: 0.250394344329834\n",
            "Epoch: 51/150............. Loss Train Epoch: 0.3240............. Time Epoch: 0.25129151344299316\n",
            "Epoch: 52/150............. Loss Train Epoch: 0.3256............. Time Epoch: 0.25671863555908203\n",
            "Epoch: 53/150............. Loss Train Epoch: 0.3218............. Time Epoch: 0.25191736221313477\n",
            "Epoch: 54/150............. Loss Train Epoch: 0.4233............. Time Epoch: 0.24947857856750488\n",
            "Epoch: 55/150............. Loss Train Epoch: 0.3236............. Time Epoch: 0.2567775249481201\n",
            "Epoch: 56/150............. Loss Train Epoch: 0.3259............. Time Epoch: 0.24374079704284668\n",
            "Epoch: 57/150............. Loss Train Epoch: 0.3332............. Time Epoch: 0.24802875518798828\n",
            "Epoch: 58/150............. Loss Train Epoch: 0.3508............. Time Epoch: 0.24689674377441406\n",
            "Epoch: 59/150............. Loss Train Epoch: 0.3268............. Time Epoch: 0.2564737796783447\n",
            "Epoch: 60/150............. Loss Train Epoch: 0.3233............. Time Epoch: 0.24837684631347656\n",
            "Epoch: 61/150............. Loss Train Epoch: 0.3224............. Time Epoch: 0.24835824966430664\n",
            "Epoch: 62/150............. Loss Train Epoch: 0.3249............. Time Epoch: 0.24441194534301758\n",
            "Epoch: 63/150............. Loss Train Epoch: 0.3250............. Time Epoch: 0.25150108337402344\n",
            "Epoch: 64/150............. Loss Train Epoch: 0.3257............. Time Epoch: 0.25316667556762695\n",
            "Epoch: 65/150............. Loss Train Epoch: 0.3235............. Time Epoch: 0.2525796890258789\n",
            "Epoch: 66/150............. Loss Train Epoch: 0.3232............. Time Epoch: 0.25602173805236816\n",
            "Epoch: 67/150............. Loss Train Epoch: 0.3219............. Time Epoch: 0.2565596103668213\n",
            "Epoch: 68/150............. Loss Train Epoch: 0.3231............. Time Epoch: 0.2505631446838379\n",
            "Epoch: 69/150............. Loss Train Epoch: 0.3244............. Time Epoch: 0.25331830978393555\n",
            "Epoch: 70/150............. Loss Train Epoch: 0.3277............. Time Epoch: 0.2514190673828125\n",
            "Epoch: 71/150............. Loss Train Epoch: 0.4282............. Time Epoch: 0.25315427780151367\n",
            "Epoch: 72/150............. Loss Train Epoch: 0.3371............. Time Epoch: 0.2499525547027588\n",
            "Epoch: 73/150............. Loss Train Epoch: 1.0078............. Time Epoch: 0.24860930442810059\n",
            "Epoch: 74/150............. Loss Train Epoch: 0.3638............. Time Epoch: 0.24629592895507812\n",
            "Epoch: 75/150............. Loss Train Epoch: 0.4319............. Time Epoch: 0.25203442573547363\n",
            "Epoch: 76/150............. Loss Train Epoch: 0.4330............. Time Epoch: 0.25345492362976074\n",
            "Epoch: 77/150............. Loss Train Epoch: 0.4334............. Time Epoch: 0.249222993850708\n",
            "Epoch: 78/150............. Loss Train Epoch: 0.4335............. Time Epoch: 0.24960851669311523\n",
            "Epoch: 79/150............. Loss Train Epoch: 0.4335............. Time Epoch: 0.2555813789367676\n",
            "Epoch: 80/150............. Loss Train Epoch: 0.4335............. Time Epoch: 0.24863481521606445\n",
            "Epoch: 81/150............. Loss Train Epoch: 0.4334............. Time Epoch: 0.2493889331817627\n",
            "Epoch: 82/150............. Loss Train Epoch: 0.4333............. Time Epoch: 0.2503528594970703\n",
            "Epoch: 83/150............. Loss Train Epoch: 0.4331............. Time Epoch: 0.25577354431152344\n",
            "Epoch: 84/150............. Loss Train Epoch: 0.4330............. Time Epoch: 0.2522904872894287\n",
            "Epoch: 85/150............. Loss Train Epoch: 0.4329............. Time Epoch: 0.25383996963500977\n",
            "Epoch: 86/150............. Loss Train Epoch: 0.4330............. Time Epoch: 0.24895334243774414\n",
            "Epoch: 87/150............. Loss Train Epoch: 0.4329............. Time Epoch: 0.25792741775512695\n",
            "Epoch: 88/150............. Loss Train Epoch: 0.4328............. Time Epoch: 0.24912786483764648\n",
            "Epoch: 89/150............. Loss Train Epoch: 0.4328............. Time Epoch: 0.24731731414794922\n",
            "Epoch: 90/150............. Loss Train Epoch: 0.4327............. Time Epoch: 0.2533550262451172\n",
            "Epoch: 91/150............. Loss Train Epoch: 0.4324............. Time Epoch: 0.2532494068145752\n",
            "Epoch: 92/150............. Loss Train Epoch: 0.4324............. Time Epoch: 0.24930787086486816\n",
            "Epoch: 93/150............. Loss Train Epoch: 0.4322............. Time Epoch: 0.2484130859375\n",
            "Epoch: 94/150............. Loss Train Epoch: 0.4322............. Time Epoch: 0.24944329261779785\n",
            "Epoch: 95/150............. Loss Train Epoch: 0.4323............. Time Epoch: 0.2534005641937256\n",
            "Epoch: 96/150............. Loss Train Epoch: 0.4322............. Time Epoch: 0.2506120204925537\n",
            "Epoch: 97/150............. Loss Train Epoch: 0.4318............. Time Epoch: 0.25058650970458984\n",
            "Epoch: 98/150............. Loss Train Epoch: 0.4317............. Time Epoch: 0.25494813919067383\n",
            "Epoch: 99/150............. Loss Train Epoch: 0.4317............. Time Epoch: 0.2549166679382324\n",
            "Epoch: 100/150............. Loss Train Epoch: 0.4317............. Time Epoch: 0.2493453025817871\n",
            "Epoch: 101/150............. Loss Train Epoch: 0.3410............. Time Epoch: 0.2643609046936035\n",
            "Epoch: 102/150............. Loss Train Epoch: 0.3402............. Time Epoch: 0.25487256050109863\n",
            "Epoch: 103/150............. Loss Train Epoch: 0.3421............. Time Epoch: 0.2575376033782959\n",
            "Epoch: 104/150............. Loss Train Epoch: 0.3395............. Time Epoch: 0.2528507709503174\n",
            "Epoch: 105/150............. Loss Train Epoch: 0.3395............. Time Epoch: 0.2526266574859619\n",
            "Epoch: 106/150............. Loss Train Epoch: 0.3394............. Time Epoch: 0.2642078399658203\n",
            "Epoch: 107/150............. Loss Train Epoch: 0.3387............. Time Epoch: 0.25556159019470215\n",
            "Epoch: 108/150............. Loss Train Epoch: 0.3403............. Time Epoch: 0.25089001655578613\n",
            "Epoch: 109/150............. Loss Train Epoch: 0.3378............. Time Epoch: 0.24917387962341309\n",
            "Epoch: 110/150............. Loss Train Epoch: 0.3360............. Time Epoch: 0.2496025562286377\n",
            "Epoch: 111/150............. Loss Train Epoch: 0.3355............. Time Epoch: 0.25046539306640625\n",
            "Epoch: 112/150............. Loss Train Epoch: 0.3350............. Time Epoch: 0.25005102157592773\n",
            "Epoch: 113/150............. Loss Train Epoch: 0.3358............. Time Epoch: 0.24819350242614746\n",
            "Epoch: 114/150............. Loss Train Epoch: 0.3349............. Time Epoch: 0.2493746280670166\n",
            "Epoch: 115/150............. Loss Train Epoch: 0.3318............. Time Epoch: 0.2518024444580078\n",
            "Epoch: 116/150............. Loss Train Epoch: 0.3291............. Time Epoch: 0.25703859329223633\n",
            "Epoch: 117/150............. Loss Train Epoch: 0.3287............. Time Epoch: 0.24914956092834473\n",
            "Epoch: 118/150............. Loss Train Epoch: 0.3284............. Time Epoch: 0.24917364120483398\n",
            "Epoch: 119/150............. Loss Train Epoch: 0.3292............. Time Epoch: 0.2508525848388672\n",
            "Epoch: 120/150............. Loss Train Epoch: 0.3302............. Time Epoch: 0.25109100341796875\n",
            "Epoch: 121/150............. Loss Train Epoch: 0.3275............. Time Epoch: 0.24915814399719238\n",
            "Epoch: 122/150............. Loss Train Epoch: 0.3300............. Time Epoch: 0.2504887580871582\n",
            "Epoch: 123/150............. Loss Train Epoch: 0.3924............. Time Epoch: 0.25292158126831055\n",
            "Epoch: 124/150............. Loss Train Epoch: 0.3550............. Time Epoch: 0.2494215965270996\n",
            "Epoch: 125/150............. Loss Train Epoch: 0.3273............. Time Epoch: 0.24809050559997559\n",
            "Epoch: 126/150............. Loss Train Epoch: 0.3758............. Time Epoch: 0.25117993354797363\n",
            "Epoch: 127/150............. Loss Train Epoch: 0.3636............. Time Epoch: 0.24826836585998535\n",
            "Epoch: 128/150............. Loss Train Epoch: 0.3299............. Time Epoch: 0.2507154941558838\n",
            "Epoch: 129/150............. Loss Train Epoch: 0.3306............. Time Epoch: 0.24804258346557617\n",
            "Epoch: 130/150............. Loss Train Epoch: 0.3368............. Time Epoch: 0.2565932273864746\n",
            "Epoch: 131/150............. Loss Train Epoch: 0.3384............. Time Epoch: 0.2574131488800049\n",
            "Epoch: 132/150............. Loss Train Epoch: 0.3407............. Time Epoch: 0.2490074634552002\n",
            "Epoch: 133/150............. Loss Train Epoch: 0.3398............. Time Epoch: 0.2522261142730713\n",
            "Epoch: 134/150............. Loss Train Epoch: 0.3343............. Time Epoch: 0.2554926872253418\n",
            "Epoch: 135/150............. Loss Train Epoch: 0.3317............. Time Epoch: 0.2512381076812744\n",
            "Epoch: 136/150............. Loss Train Epoch: 0.3292............. Time Epoch: 0.24829483032226562\n",
            "Epoch: 137/150............. Loss Train Epoch: 0.3306............. Time Epoch: 0.24591970443725586\n",
            "Epoch: 138/150............. Loss Train Epoch: 0.4309............. Time Epoch: 0.2517282962799072\n",
            "Epoch: 139/150............. Loss Train Epoch: 0.3329............. Time Epoch: 0.24878144264221191\n",
            "Epoch: 140/150............. Loss Train Epoch: 0.3406............. Time Epoch: 0.2499380111694336\n",
            "Epoch: 141/150............. Loss Train Epoch: 0.3451............. Time Epoch: 0.24886631965637207\n",
            "Epoch: 142/150............. Loss Train Epoch: 0.3457............. Time Epoch: 0.24898219108581543\n",
            "Epoch: 143/150............. Loss Train Epoch: 0.3447............. Time Epoch: 0.2546987533569336\n",
            "Epoch: 144/150............. Loss Train Epoch: 0.3729............. Time Epoch: 0.2564833164215088\n",
            "Epoch: 145/150............. Loss Train Epoch: 0.3750............. Time Epoch: 0.2517127990722656\n",
            "Epoch: 146/150............. Loss Train Epoch: 0.3717............. Time Epoch: 0.2685081958770752\n",
            "Epoch: 147/150............. Loss Train Epoch: 0.3690............. Time Epoch: 0.2578890323638916\n",
            "Epoch: 148/150............. Loss Train Epoch: 0.9876............. Time Epoch: 0.25472521781921387\n",
            "Epoch: 149/150............. Loss Train Epoch: 0.3460............. Time Epoch: 0.2502274513244629\n",
            "Epoch: 150/150............. Loss Train Epoch: 0.3396............. Time Epoch: 0.25673365592956543\n"
          ],
          "name": "stdout"
        }
      ]
    },
    {
      "cell_type": "markdown",
      "metadata": {
        "id": "1QDPusulhaSA"
      },
      "source": [
        "**Evolución de la funcion de perdida**\n"
      ]
    },
    {
      "cell_type": "code",
      "metadata": {
        "colab": {
          "base_uri": "https://localhost:8080/",
          "height": 428
        },
        "id": "iw92h5uzhaSG",
        "outputId": "07f537f6-3191-4755-bfdf-a0c31d608bc7"
      },
      "source": [
        "plt.figure(figsize=(10,7))\n",
        "\n",
        "plt.plot(epocas_totales_rnn, loss_train_totales_rnn, color = \"red\")\n",
        "plt.plot(epocas_totales_rnn, loss_val_totales_rnn, color = \"blue\")\n",
        "\n",
        "plt.legend(['Perdida de Entrenamiento', 'Perdida de Validacion'], loc='upper left')\n",
        "\n",
        "plt.show()"
      ],
      "execution_count": null,
      "outputs": [
        {
          "output_type": "display_data",
          "data": {
            "image/png": "[encoded data removed]",
            "text/plain": [
              "<Figure size 720x504 with 1 Axes>"
            ]
          },
          "metadata": {
            "tags": [],
            "needs_background": "light"
          }
        }
      ]
    },
    {
      "cell_type": "markdown",
      "metadata": {
        "id": "vtHFL9F-haSH"
      },
      "source": [
        "$ \\underline{Comentario:} $ Notemos que la función de perdida en el set de entrenamiento converge al igual que en el set de validación, pero de manera poco suave. Por otro lado, notemos que la perdida en el set de validación se va comportando igual que en el set de entrenamiento, lo que nos dice que **no hay overfitting**. Además de lo ya mencionado, la función de perdida en el entrenamiento y la validación converge a un valor pequeño lo cual es muy bueno."
      ]
    },
    {
      "cell_type": "markdown",
      "metadata": {
        "id": "pneiQimThaSI"
      },
      "source": [
        "**Evolución de la precision**"
      ]
    },
    {
      "cell_type": "code",
      "metadata": {
        "colab": {
          "base_uri": "https://localhost:8080/",
          "height": 428
        },
        "id": "-kWSbPiVhaSI",
        "outputId": "12c97a1a-3eb4-41c7-cd71-32db918848c6"
      },
      "source": [
        "plt.figure(figsize=(10,7))\n",
        "\n",
        "plt.plot(np.array(epocas_totales_rnn), np.array(prec_train_totales_rnn)*100, color = \"red\")\n",
        "plt.plot(np.array(epocas_totales_rnn), np.array(prec_val_totales_rnn)*100, color = \"blue\")\n",
        "\n",
        "plt.legend(['Precision de Entrenamiento', 'Precision de Validacion'], loc='upper left')\n",
        "\n",
        "plt.show()"
      ],
      "execution_count": null,
      "outputs": [
        {
          "output_type": "display_data",
          "data": {
            "image/png": "[encoded data removed]",
            "text/plain": [
              "<Figure size 720x504 with 1 Axes>"
            ]
          },
          "metadata": {
            "tags": [],
            "needs_background": "light"
          }
        }
      ]
    },
    {
      "cell_type": "markdown",
      "metadata": {
        "id": "f1UWFwy-haSI"
      },
      "source": [
        "$ \\underline{Comentario:} $ Notemos que la precisión en el set de entrenamiento y validación convergen pero de manera poco suave. Por otro lado, notemos que la precisión en el set de entrenamiento y validación llegan a un muy buen valor, lo que nuevamente nos dice que **no hay overfitting**. "
      ]
    },
    {
      "cell_type": "markdown",
      "metadata": {
        "id": "oFm5cZW2haSI"
      },
      "source": [
        "Ahora para el modelo ya entrenado, reportaremos la precisión en los sets de:\n",
        "\n",
        "a. Entrenamiento. $ \\\\ $\n",
        "\n",
        "b. Validación. $ \\\\ $\n",
        "\n",
        "b. Test. $ \\\\ $"
      ]
    },
    {
      "cell_type": "markdown",
      "metadata": {
        "id": "8s9IBsE8haSI"
      },
      "source": [
        "**Desempeño en el train set**"
      ]
    },
    {
      "cell_type": "code",
      "metadata": {
        "colab": {
          "base_uri": "https://localhost:8080/"
        },
        "id": "yGG0dJXuhaSJ",
        "outputId": "69150901-5f1d-437b-845d-d78db80cc3a8"
      },
      "source": [
        "model.eval()\n",
        "output_train, _ = model(input_seq_train)\n",
        "\n",
        "pred_train = calcular_predicciones(output_train)\n",
        "prec_train = calcular_precicision(pred_train, label_train)\n",
        "print(\"Precisión en el train set: \", round(prec_train*100, 2))"
      ],
      "execution_count": null,
      "outputs": [
        {
          "output_type": "stream",
          "text": [
            "Precisión en el train set:  97.08\n"
          ],
          "name": "stdout"
        }
      ]
    },
    {
      "cell_type": "markdown",
      "metadata": {
        "id": "SbsM3nLthaSJ"
      },
      "source": [
        "$ \\underline{Comentario:} $ La precisión en el **train set** es de $97,08 \\% $."
      ]
    },
    {
      "cell_type": "markdown",
      "metadata": {
        "id": "FcgdokqthaSJ"
      },
      "source": [
        "**Desempeño en el val set**"
      ]
    },
    {
      "cell_type": "code",
      "metadata": {
        "colab": {
          "base_uri": "https://localhost:8080/"
        },
        "id": "fWq_xjsNhaSJ",
        "outputId": "244abf00-b24b-4f4e-f432-e9072c5d31ed"
      },
      "source": [
        "model.eval()\n",
        "output_val, _ = model(input_seq_val)\n",
        "\n",
        "pred_val = calcular_predicciones(output_val)\n",
        "prec_val = calcular_precicision(pred_val, label_val)\n",
        "print(\"Precisión en el val set: \", round(prec_val*100, 2))"
      ],
      "execution_count": null,
      "outputs": [
        {
          "output_type": "stream",
          "text": [
            "Precisión en el val set:  92.65\n"
          ],
          "name": "stdout"
        }
      ]
    },
    {
      "cell_type": "markdown",
      "metadata": {
        "id": "1Ma5J8HLhaSK"
      },
      "source": [
        "$ \\underline{Comentario:} $ La precisión en el **val set** es de $92,65 \\% $."
      ]
    },
    {
      "cell_type": "markdown",
      "metadata": {
        "id": "nmUlSpLphaSK"
      },
      "source": [
        "**Desempeño en el test set**"
      ]
    },
    {
      "cell_type": "code",
      "metadata": {
        "colab": {
          "base_uri": "https://localhost:8080/"
        },
        "id": "ZUe20la6haSK",
        "outputId": "c34a3ab2-d1f9-443d-b952-097c4342cd49"
      },
      "source": [
        "model.eval()\n",
        "output_test, _ = model(input_seq_test)\n",
        "\n",
        "pred_test = calcular_predicciones(output_test)\n",
        "prec_test = calcular_precicision(pred_test, label_test)\n",
        "print(\"Precisión en el test set: \", round(prec_test*100, 2))"
      ],
      "execution_count": null,
      "outputs": [
        {
          "output_type": "stream",
          "text": [
            "Precisión en el test set:  93.01\n"
          ],
          "name": "stdout"
        }
      ]
    },
    {
      "cell_type": "markdown",
      "metadata": {
        "id": "iuU3YERZhaSK"
      },
      "source": [
        "$ \\underline{Comentario:} $ La precisión en el **test set** es de $93,01 \\% $."
      ]
    },
    {
      "cell_type": "markdown",
      "metadata": {
        "id": "tZtSl8odhaSK"
      },
      "source": [
        "$ \\underline{Comentario \\ general:} $ \n",
        "\n",
        "Notemos que la precisión tanto en el train, val y test set son similares, por ende, esto nos habla de que **no hay overfitting** y además de eso llegamos a un muy buen valor de clasificación. Sin embargo, lo malo es que las convergencias son de manera muy poco suave."
      ]
    },
    {
      "cell_type": "markdown",
      "metadata": {
        "id": "G3XV8r41ZQB6"
      },
      "source": [
        "## **Actividad 4:**"
      ]
    },
    {
      "cell_type": "markdown",
      "metadata": {
        "id": "hlPAimc2ZbFB"
      },
      "source": [
        "Ahora entrenaremos el modelo de LSTM que nos piden por enunciado incluyendo otra capa lineal y finalmente una capa softmax."
      ]
    },
    {
      "cell_type": "code",
      "metadata": {
        "id": "rcUp8mb2YC1B"
      },
      "source": [
        "class LSTM_model(nn.Module):\n",
        "    def __init__(self, input_size, output_size, hidden_dim, n_layers, device):\n",
        "        super(LSTM_model, self).__init__()\n",
        "\n",
        "        # Defining some parameters\n",
        "        self.hidden_dim = hidden_dim\n",
        "        self.n_layers = n_layers\n",
        "\n",
        "        #Defining the layers\n",
        "        # RNN Layer\n",
        "\n",
        "        self.embedding = nn.Embedding(dict_size, input_size)\n",
        "\n",
        "        self.lstm = nn.LSTM(input_size, hidden_dim, n_layers, batch_first=True)\n",
        "\n",
        "        # Fully connected layer\n",
        "        self.fc = nn.Linear(hidden_dim, output_size)\n",
        "\n",
        "        self.softmax = nn.Softmax(dim=-1)\n",
        "\n",
        "        self.device = device\n",
        "    \n",
        "    def forward(self, x):\n",
        "\n",
        "        x = self.embedding(x)\n",
        "\n",
        "        x = x[:,:,0,:]\n",
        "        \n",
        "        batch_size = x.size(0)\n",
        "\n",
        "        # Initializing hidden state for first input using method defined below\n",
        "        hidden = self.init_hidden(batch_size)\n",
        "\n",
        "        c = self.init_hidden(batch_size)\n",
        "\n",
        "        # Passing in the input and hidden state into the model and obtaining outputs\n",
        "        out, (hidden, c) = self.lstm(x, (hidden,c))\n",
        "        \n",
        "        # Reshaping the outputs such that it can be fit into the fully connected layer\n",
        "        out = out.contiguous().view(-1, self.hidden_dim)\n",
        "        out = self.fc(out)\n",
        "\n",
        "        out = self.softmax(out)\n",
        "        \n",
        "        return out, (hidden.to(self.device),c.to(self.device))\n",
        "    \n",
        "    def init_hidden(self, batch_size):\n",
        "        # This method generates the first hidden state of zeros which we'll use in the forward pass\n",
        "        # We'll send the tensor holding the hidden state to the device we specified earlier as well\n",
        "        hidden = torch.zeros(self.n_layers, batch_size, self.hidden_dim)\n",
        "        return hidden.to(self.device)\n"
      ],
      "execution_count": null,
      "outputs": []
    },
    {
      "cell_type": "code",
      "metadata": {
        "colab": {
          "base_uri": "https://localhost:8080/"
        },
        "id": "WzdnypzQaDAH",
        "outputId": "5c3939ce-ff39-4623-fa4c-ea1c660a359d"
      },
      "source": [
        "# torch.cuda.is_available() checks and returns a Boolean True if a GPU is available, else it'll return False\n",
        "is_cuda = torch.cuda.is_available()\n",
        "\n",
        "# If we have a GPU available, we'll set our device to GPU. We'll use this device variable later in our code.\n",
        "if is_cuda:\n",
        "    device = torch.device(\"cuda\")\n",
        "    print(\"GPU is available\")    \n",
        "else:\n",
        "    device = torch.device(\"cpu\")\n",
        "    print(\"GPU not available, CPU used\")"
      ],
      "execution_count": null,
      "outputs": [
        {
          "output_type": "stream",
          "text": [
            "GPU is available\n"
          ],
          "name": "stdout"
        }
      ]
    },
    {
      "cell_type": "code",
      "metadata": {
        "id": "XEudqCaYaFEw"
      },
      "source": [
        "model = LSTM_model(input_size=80, output_size=2, hidden_dim=20, n_layers=1, device = device)\n",
        "model = model.to(device)"
      ],
      "execution_count": null,
      "outputs": []
    },
    {
      "cell_type": "code",
      "metadata": {
        "id": "LXhAl7J5aGUx"
      },
      "source": [
        "n_epochs = 100\n",
        "lr=0.01*2\n",
        "\n",
        "# Define Loss, Optimizer\n",
        "criterion = nn.CrossEntropyLoss()\n",
        "optimizer = torch.optim.Adam(model.parameters(), lr=lr)"
      ],
      "execution_count": null,
      "outputs": []
    },
    {
      "cell_type": "code",
      "metadata": {
        "colab": {
          "base_uri": "https://localhost:8080/"
        },
        "id": "viXbwKMNaIJ7",
        "outputId": "d9a859ba-f402-4699-f7a4-73b9485525a5"
      },
      "source": [
        "# Entrenamiento\n",
        "\n",
        "epocas_totales_lstm = []\n",
        "loss_train_totales_lstm = []\n",
        "loss_val_totales_lstm = []\n",
        "prec_train_totales_lstm = []\n",
        "prec_val_totales_lstm = []\n",
        "\n",
        "for epoch in range(1, n_epochs + 1):\n",
        "\n",
        "  start = time.time()\n",
        "\n",
        "  model.train()\n",
        "\n",
        "  optimizer.zero_grad() # Clears existing gradients from previous epoch\n",
        "\n",
        "  output_train, _ = model(input_seq_train)\n",
        "  loss_train = criterion(output_train, target_seq_train.view(-1).long())\n",
        "  loss_train.backward() # Does backpropagation and calculates gradients\n",
        "  optimizer.step() # Updates the weights accordingly\n",
        "\n",
        "  model.eval()\n",
        "  output_val, _ = model(input_seq_val)\n",
        "\n",
        "  pred_train = calcular_predicciones(output_train)\n",
        "  pred_val = calcular_predicciones(output_val)\n",
        "\n",
        "  prec_train = calcular_precicision(pred_train, label_train)\n",
        "  prec_val = calcular_precicision(pred_val, label_val)\n",
        "\n",
        "  loss_val = criterion(output_val, target_seq_val.view(-1).long())\n",
        "\n",
        "  epocas_totales_lstm.append(epoch)\n",
        "  loss_train_totales_lstm.append(loss_train)\n",
        "  loss_val_totales_lstm.append(loss_val)\n",
        "  prec_train_totales_lstm.append(prec_train)\n",
        "  prec_val_totales_lstm.append(prec_val)\n",
        "\n",
        "  end = time.time()\n",
        "\n",
        "  print('Epoch: {}/{}.............'.format(epoch, n_epochs), end=' ')\n",
        "  print(\"Loss Train Epoch: {:.4f}.............\".format(loss_train.item()), end =' ')\n",
        "  print(\"Time Epoch: {}\".format(end-start))  "
      ],
      "execution_count": null,
      "outputs": [
        {
          "output_type": "stream",
          "text": [
            "Epoch: 1/100............. Loss Train Epoch: 0.7900............. Time Epoch: 0.31923389434814453\n",
            "Epoch: 2/100............. Loss Train Epoch: 0.5748............. Time Epoch: 0.29950833320617676\n",
            "Epoch: 3/100............. Loss Train Epoch: 0.5077............. Time Epoch: 0.2671036720275879\n",
            "Epoch: 4/100............. Loss Train Epoch: 0.4802............. Time Epoch: 0.2612745761871338\n",
            "Epoch: 5/100............. Loss Train Epoch: 0.4666............. Time Epoch: 0.2635636329650879\n",
            "Epoch: 6/100............. Loss Train Epoch: 0.4582............. Time Epoch: 0.2621164321899414\n",
            "Epoch: 7/100............. Loss Train Epoch: 0.4524............. Time Epoch: 0.2585446834564209\n",
            "Epoch: 8/100............. Loss Train Epoch: 0.4487............. Time Epoch: 0.2596888542175293\n",
            "Epoch: 9/100............. Loss Train Epoch: 0.4465............. Time Epoch: 0.2643301486968994\n",
            "Epoch: 10/100............. Loss Train Epoch: 0.4448............. Time Epoch: 0.2661261558532715\n",
            "Epoch: 11/100............. Loss Train Epoch: 0.4437............. Time Epoch: 0.2574915885925293\n",
            "Epoch: 12/100............. Loss Train Epoch: 0.4423............. Time Epoch: 0.2579622268676758\n",
            "Epoch: 13/100............. Loss Train Epoch: 0.4413............. Time Epoch: 0.2576611042022705\n",
            "Epoch: 14/100............. Loss Train Epoch: 0.4405............. Time Epoch: 0.2657201290130615\n",
            "Epoch: 15/100............. Loss Train Epoch: 0.4397............. Time Epoch: 0.25728821754455566\n",
            "Epoch: 16/100............. Loss Train Epoch: 0.4392............. Time Epoch: 0.2703857421875\n",
            "Epoch: 17/100............. Loss Train Epoch: 0.4385............. Time Epoch: 0.26142024993896484\n",
            "Epoch: 18/100............. Loss Train Epoch: 0.4381............. Time Epoch: 0.2578775882720947\n",
            "Epoch: 19/100............. Loss Train Epoch: 0.4377............. Time Epoch: 0.2586679458618164\n",
            "Epoch: 20/100............. Loss Train Epoch: 0.4373............. Time Epoch: 0.26053833961486816\n",
            "Epoch: 21/100............. Loss Train Epoch: 0.4370............. Time Epoch: 0.2691361904144287\n",
            "Epoch: 22/100............. Loss Train Epoch: 0.4367............. Time Epoch: 0.26781153678894043\n",
            "Epoch: 23/100............. Loss Train Epoch: 0.4361............. Time Epoch: 0.2609090805053711\n",
            "Epoch: 24/100............. Loss Train Epoch: 0.4357............. Time Epoch: 0.2613508701324463\n",
            "Epoch: 25/100............. Loss Train Epoch: 0.4353............. Time Epoch: 0.26213908195495605\n",
            "Epoch: 26/100............. Loss Train Epoch: 0.4350............. Time Epoch: 0.25728607177734375\n",
            "Epoch: 27/100............. Loss Train Epoch: 0.4346............. Time Epoch: 0.2549448013305664\n",
            "Epoch: 28/100............. Loss Train Epoch: 0.4342............. Time Epoch: 0.2599680423736572\n",
            "Epoch: 29/100............. Loss Train Epoch: 0.4339............. Time Epoch: 0.26647329330444336\n",
            "Epoch: 30/100............. Loss Train Epoch: 0.4335............. Time Epoch: 0.2550537586212158\n",
            "Epoch: 31/100............. Loss Train Epoch: 0.4332............. Time Epoch: 0.26540446281433105\n",
            "Epoch: 32/100............. Loss Train Epoch: 0.4329............. Time Epoch: 0.26422691345214844\n",
            "Epoch: 33/100............. Loss Train Epoch: 0.4326............. Time Epoch: 0.2624642848968506\n",
            "Epoch: 34/100............. Loss Train Epoch: 0.4323............. Time Epoch: 0.26268887519836426\n",
            "Epoch: 35/100............. Loss Train Epoch: 0.4320............. Time Epoch: 0.25569844245910645\n",
            "Epoch: 36/100............. Loss Train Epoch: 0.4317............. Time Epoch: 0.25923943519592285\n",
            "Epoch: 37/100............. Loss Train Epoch: 0.4314............. Time Epoch: 0.2660343647003174\n",
            "Epoch: 38/100............. Loss Train Epoch: 0.4311............. Time Epoch: 0.2609705924987793\n",
            "Epoch: 39/100............. Loss Train Epoch: 0.4308............. Time Epoch: 0.2607250213623047\n",
            "Epoch: 40/100............. Loss Train Epoch: 0.4305............. Time Epoch: 0.261674165725708\n",
            "Epoch: 41/100............. Loss Train Epoch: 0.4302............. Time Epoch: 0.2574305534362793\n",
            "Epoch: 42/100............. Loss Train Epoch: 0.4299............. Time Epoch: 0.25968313217163086\n",
            "Epoch: 43/100............. Loss Train Epoch: 0.4295............. Time Epoch: 0.26047515869140625\n",
            "Epoch: 44/100............. Loss Train Epoch: 0.4289............. Time Epoch: 0.27127552032470703\n",
            "Epoch: 45/100............. Loss Train Epoch: 0.4277............. Time Epoch: 0.2573208808898926\n",
            "Epoch: 46/100............. Loss Train Epoch: 0.4268............. Time Epoch: 0.25663113594055176\n",
            "Epoch: 47/100............. Loss Train Epoch: 0.4262............. Time Epoch: 0.25928235054016113\n",
            "Epoch: 48/100............. Loss Train Epoch: 0.4254............. Time Epoch: 0.26625561714172363\n",
            "Epoch: 49/100............. Loss Train Epoch: 0.4243............. Time Epoch: 0.2614405155181885\n",
            "Epoch: 50/100............. Loss Train Epoch: 0.4228............. Time Epoch: 0.2598757743835449\n",
            "Epoch: 51/100............. Loss Train Epoch: 0.4207............. Time Epoch: 0.25794410705566406\n",
            "Epoch: 52/100............. Loss Train Epoch: 0.4171............. Time Epoch: 0.26096653938293457\n",
            "Epoch: 53/100............. Loss Train Epoch: 0.4065............. Time Epoch: 0.25931501388549805\n",
            "Epoch: 54/100............. Loss Train Epoch: 0.3982............. Time Epoch: 0.26143336296081543\n",
            "Epoch: 55/100............. Loss Train Epoch: 0.3942............. Time Epoch: 0.2649378776550293\n",
            "Epoch: 56/100............. Loss Train Epoch: 0.3881............. Time Epoch: 0.26083850860595703\n",
            "Epoch: 57/100............. Loss Train Epoch: 0.3743............. Time Epoch: 0.2581331729888916\n",
            "Epoch: 58/100............. Loss Train Epoch: 0.3378............. Time Epoch: 0.26027989387512207\n",
            "Epoch: 59/100............. Loss Train Epoch: 0.3294............. Time Epoch: 0.25793910026550293\n",
            "Epoch: 60/100............. Loss Train Epoch: 0.3263............. Time Epoch: 0.26026391983032227\n",
            "Epoch: 61/100............. Loss Train Epoch: 0.3241............. Time Epoch: 0.2657458782196045\n",
            "Epoch: 62/100............. Loss Train Epoch: 0.3222............. Time Epoch: 0.25916242599487305\n",
            "Epoch: 63/100............. Loss Train Epoch: 0.3208............. Time Epoch: 0.25885939598083496\n",
            "Epoch: 64/100............. Loss Train Epoch: 0.3197............. Time Epoch: 0.2574772834777832\n",
            "Epoch: 65/100............. Loss Train Epoch: 0.3188............. Time Epoch: 0.26247167587280273\n",
            "Epoch: 66/100............. Loss Train Epoch: 0.3182............. Time Epoch: 0.2571408748626709\n",
            "Epoch: 67/100............. Loss Train Epoch: 0.3177............. Time Epoch: 0.26390647888183594\n",
            "Epoch: 68/100............. Loss Train Epoch: 0.3172............. Time Epoch: 0.25754404067993164\n",
            "Epoch: 69/100............. Loss Train Epoch: 0.3169............. Time Epoch: 0.2582395076751709\n",
            "Epoch: 70/100............. Loss Train Epoch: 0.3166............. Time Epoch: 0.2583491802215576\n",
            "Epoch: 71/100............. Loss Train Epoch: 0.3164............. Time Epoch: 0.267775297164917\n",
            "Epoch: 72/100............. Loss Train Epoch: 0.3162............. Time Epoch: 0.2577855587005615\n",
            "Epoch: 73/100............. Loss Train Epoch: 0.3161............. Time Epoch: 0.25957393646240234\n",
            "Epoch: 74/100............. Loss Train Epoch: 0.3159............. Time Epoch: 0.2562394142150879\n",
            "Epoch: 75/100............. Loss Train Epoch: 0.3158............. Time Epoch: 0.2612752914428711\n",
            "Epoch: 76/100............. Loss Train Epoch: 0.3157............. Time Epoch: 0.2555375099182129\n",
            "Epoch: 77/100............. Loss Train Epoch: 0.3156............. Time Epoch: 0.26038074493408203\n",
            "Epoch: 78/100............. Loss Train Epoch: 0.3156............. Time Epoch: 0.26586103439331055\n",
            "Epoch: 79/100............. Loss Train Epoch: 0.3155............. Time Epoch: 0.2598860263824463\n",
            "Epoch: 80/100............. Loss Train Epoch: 0.3152............. Time Epoch: 0.257138729095459\n",
            "Epoch: 81/100............. Loss Train Epoch: 0.3152............. Time Epoch: 0.26084446907043457\n",
            "Epoch: 82/100............. Loss Train Epoch: 0.3151............. Time Epoch: 0.2760329246520996\n",
            "Epoch: 83/100............. Loss Train Epoch: 0.3151............. Time Epoch: 0.26504039764404297\n",
            "Epoch: 84/100............. Loss Train Epoch: 0.3150............. Time Epoch: 0.25767946243286133\n",
            "Epoch: 85/100............. Loss Train Epoch: 0.3150............. Time Epoch: 0.25812721252441406\n",
            "Epoch: 86/100............. Loss Train Epoch: 0.3150............. Time Epoch: 0.2579007148742676\n",
            "Epoch: 87/100............. Loss Train Epoch: 0.3150............. Time Epoch: 0.2567481994628906\n",
            "Epoch: 88/100............. Loss Train Epoch: 0.3149............. Time Epoch: 0.26361989974975586\n",
            "Epoch: 89/100............. Loss Train Epoch: 0.3149............. Time Epoch: 0.2554805278778076\n",
            "Epoch: 90/100............. Loss Train Epoch: 0.3149............. Time Epoch: 0.2563157081604004\n",
            "Epoch: 91/100............. Loss Train Epoch: 0.3149............. Time Epoch: 0.26746201515197754\n",
            "Epoch: 92/100............. Loss Train Epoch: 0.3148............. Time Epoch: 0.25853896141052246\n",
            "Epoch: 93/100............. Loss Train Epoch: 0.3148............. Time Epoch: 0.25862550735473633\n",
            "Epoch: 94/100............. Loss Train Epoch: 0.3148............. Time Epoch: 0.26170897483825684\n",
            "Epoch: 95/100............. Loss Train Epoch: 0.3148............. Time Epoch: 0.25633859634399414\n",
            "Epoch: 96/100............. Loss Train Epoch: 0.3148............. Time Epoch: 0.2622652053833008\n",
            "Epoch: 97/100............. Loss Train Epoch: 0.3148............. Time Epoch: 0.25904107093811035\n",
            "Epoch: 98/100............. Loss Train Epoch: 0.3147............. Time Epoch: 0.2660083770751953\n",
            "Epoch: 99/100............. Loss Train Epoch: 0.3147............. Time Epoch: 0.2666199207305908\n",
            "Epoch: 100/100............. Loss Train Epoch: 0.3147............. Time Epoch: 0.25661134719848633\n"
          ],
          "name": "stdout"
        }
      ]
    },
    {
      "cell_type": "markdown",
      "metadata": {
        "id": "m-GOnnLsgjUR"
      },
      "source": [
        "**Comparación resultados de los modelos LSTM vs RNN**"
      ]
    },
    {
      "cell_type": "markdown",
      "metadata": {
        "id": "NRJLHPt6gp35"
      },
      "source": [
        "**Evolución de la funcion de perdida**"
      ]
    },
    {
      "cell_type": "code",
      "metadata": {
        "colab": {
          "base_uri": "https://localhost:8080/",
          "height": 428
        },
        "id": "Lavwy7JLaLVg",
        "outputId": "33f11291-f0f2-4d5d-e226-c0b21a604b5a"
      },
      "source": [
        "plt.figure(figsize=(10,7))\n",
        "\n",
        "plt.plot(epocas_totales_lstm, loss_train_totales_lstm, color = \"red\")\n",
        "plt.plot(epocas_totales_lstm, loss_val_totales_lstm, color = \"blue\")\n",
        "plt.legend(['Perdida de Entrenamiento LSTM', 'Perdida de Validación LSTM'], loc='upper left')\n",
        "\n",
        "plt.show()"
      ],
      "execution_count": null,
      "outputs": [
        {
          "output_type": "display_data",
          "data": {
            "image/png": "[encoded data removed]",
            "text/plain": [
              "<Figure size 720x504 with 1 Axes>"
            ]
          },
          "metadata": {
            "tags": [],
            "needs_background": "light"
          }
        }
      ]
    },
    {
      "cell_type": "markdown",
      "metadata": {
        "id": "UuqqijU2gv0i"
      },
      "source": [
        "$ \\underline{Comentario: }  $ Notemos que en LSTM el modelo converge tanto en el set de entrenamiento como en el set de validación a valores muy similares a las del modelo RNN. Como ambas funciones de perdida convergen a valores pequeño, podemos decir que **no hay overfitting**. Y algo que es sin duda mejor en LSTM es que RNN es que la convergencia es de manera suave."
      ]
    },
    {
      "cell_type": "markdown",
      "metadata": {
        "id": "RVBnEQSBhA9G"
      },
      "source": [
        "**Evolución de la precision**"
      ]
    },
    {
      "cell_type": "code",
      "metadata": {
        "colab": {
          "base_uri": "https://localhost:8080/",
          "height": 428
        },
        "id": "H2k0KlOTgtBe",
        "outputId": "45cf323e-d79b-4e2a-babf-bcdc3a5acfec"
      },
      "source": [
        "plt.figure(figsize=(10,7))\n",
        "\n",
        "plt.plot(epocas_totales_lstm, prec_train_totales_lstm, color = \"red\")\n",
        "plt.plot(epocas_totales_lstm, prec_val_totales_lstm, color = \"blue\")\n",
        "plt.legend(['Precisión de Entrenamiento LSTM', 'Precisión de Validación LSTM'], loc='upper left')\n",
        "\n",
        "plt.show()"
      ],
      "execution_count": null,
      "outputs": [
        {
          "output_type": "display_data",
          "data": {
            "image/png": "[encoded data removed]",
            "text/plain": [
              "<Figure size 720x504 with 1 Axes>"
            ]
          },
          "metadata": {
            "tags": [],
            "needs_background": "light"
          }
        }
      ]
    },
    {
      "cell_type": "markdown",
      "metadata": {
        "id": "lF6KeUvihJAY"
      },
      "source": [
        "$ \\underline{Comentario: }  $ Notemos que ambos modelos (LSTM y RNN) convergen a una precisión casi igual tanto en el set de validación como de entrenamiento lo cual nos dice que **no hay overfitting**. Sin embargo, al igual que en la función la perdida, lo mejor del modelo LSTM es que su precisión converge de manera suave."
      ]
    },
    {
      "cell_type": "code",
      "metadata": {
        "colab": {
          "base_uri": "https://localhost:8080/"
        },
        "id": "nFhI7fzthjXl",
        "outputId": "d3f99e87-0305-4965-efc5-a034e1bc567c"
      },
      "source": [
        "# torch.cuda.is_available() checks and returns a Boolean True if a GPU is available, else it'll return False\n",
        "is_cuda = torch.cuda.is_available()\n",
        "\n",
        "# If we have a GPU available, we'll set our device to GPU. We'll use this device variable later in our code.\n",
        "if is_cuda:\n",
        "    device = torch.device(\"cuda\")\n",
        "    print(\"GPU is available\")    \n",
        "else:\n",
        "    device = torch.device(\"cpu\")\n",
        "    print(\"GPU not available, CPU used\")"
      ],
      "execution_count": null,
      "outputs": [
        {
          "output_type": "stream",
          "text": [
            "GPU is available\n"
          ],
          "name": "stdout"
        }
      ]
    },
    {
      "cell_type": "code",
      "metadata": {
        "colab": {
          "base_uri": "https://localhost:8080/"
        },
        "id": "tjMbNCQ5hEKM",
        "outputId": "646f5c01-90fc-4564-a832-9711c593079d"
      },
      "source": [
        "model_rnn = Model(input_size=80, output_size=2, hidden_dim=60, n_layers=1, device = device, dict_size = dict_size)\n",
        "model_lstm = LSTM_model(input_size=80, output_size=2, hidden_dim=30, n_layers=1, device = device)\n",
        "\n",
        "num_rnn = num_trainable_parameters(model_rnn)\n",
        "num_lstm = num_trainable_parameters(model_lstm)\n",
        "\n",
        "print(\"Numero de parametros RNN: \", num_rnn)\n",
        "print(\"Numero de parametros LSTM: \", num_lstm)"
      ],
      "execution_count": null,
      "outputs": [
        {
          "output_type": "stream",
          "text": [
            "Numero de parametros RNN:  784882\n",
            "Numero de parametros LSTM:  789742\n"
          ],
          "name": "stdout"
        }
      ]
    },
    {
      "cell_type": "markdown",
      "metadata": {
        "id": "rl-tn2O_h7C2"
      },
      "source": [
        "$ \\underline{Comentario: }  $ Notemos que el modelo LSTM tiene un poco más de parametros que el modelo RNN, y además ambos modelos convergen a una precisión y función de perdida similares, sin embargo como la convergencia del modelo LSTM es **suvave** entonces elegiremos como mejor modelo a **LSTM**."
      ]
    },
    {
      "cell_type": "markdown",
      "metadata": {
        "id": "yEdlXoqEiXbS"
      },
      "source": [
        "**Reporte de resultados de LSTM**"
      ]
    },
    {
      "cell_type": "markdown",
      "metadata": {
        "id": "iXmwGen1iN52"
      },
      "source": [
        "Ahora para el modelo ya entrenado, reportaremos la precisión en los sets de:\n",
        "\n",
        "a. Entrenamiento. $ \\\\ $\n",
        "\n",
        "b. Validación. $ \\\\ $\n",
        "\n",
        "b. Test. $ \\\\ $"
      ]
    },
    {
      "cell_type": "markdown",
      "metadata": {
        "id": "pVyH_NIniUdC"
      },
      "source": [
        "**Desempeño en el train set**"
      ]
    },
    {
      "cell_type": "code",
      "metadata": {
        "colab": {
          "base_uri": "https://localhost:8080/"
        },
        "id": "AckNoQ1EiUdC",
        "outputId": "2ac7f82b-0488-4c86-ca64-da9554e81b5b"
      },
      "source": [
        "model.eval()\n",
        "output_train, _ = model(input_seq_train)\n",
        "\n",
        "pred_train = calcular_predicciones(output_train)\n",
        "prec_train = calcular_precicision(pred_train, label_train)\n",
        "print(\"Precisión en el train set: \", round(prec_train*100, 2))"
      ],
      "execution_count": null,
      "outputs": [
        {
          "output_type": "stream",
          "text": [
            "Precisión en el train set:  99.97\n"
          ],
          "name": "stdout"
        }
      ]
    },
    {
      "cell_type": "markdown",
      "metadata": {
        "id": "z7lZNfxEiUdD"
      },
      "source": [
        "$ \\underline{Comentario:} $ La precisión en el **train set** es de $99,97 \\% $."
      ]
    },
    {
      "cell_type": "markdown",
      "metadata": {
        "id": "h75EyNZQiUdD"
      },
      "source": [
        "**Desempeño en el val set**"
      ]
    },
    {
      "cell_type": "code",
      "metadata": {
        "colab": {
          "base_uri": "https://localhost:8080/"
        },
        "id": "FYUJNuS3iUdD",
        "outputId": "481f3c64-f759-4fb8-b4c0-44dc4a98d9a2"
      },
      "source": [
        "model.eval()\n",
        "output_val, _ = model(input_seq_val)\n",
        "\n",
        "pred_val = calcular_predicciones(output_val)\n",
        "prec_val = calcular_precicision(pred_val, label_val)\n",
        "print(\"Precisión en el val set: \", round(prec_val*100, 2))"
      ],
      "execution_count": null,
      "outputs": [
        {
          "output_type": "stream",
          "text": [
            "Precisión en el val set:  94.89\n"
          ],
          "name": "stdout"
        }
      ]
    },
    {
      "cell_type": "markdown",
      "metadata": {
        "id": "LBJpfCvaiUdD"
      },
      "source": [
        "$ \\underline{Comentario:} $ La precisión en el **val set** es de $94,89 \\% $."
      ]
    },
    {
      "cell_type": "markdown",
      "metadata": {
        "id": "yTHo2BNjiUdD"
      },
      "source": [
        "**Desempeño en el test set**"
      ]
    },
    {
      "cell_type": "code",
      "metadata": {
        "colab": {
          "base_uri": "https://localhost:8080/"
        },
        "id": "qZt3eXxTiUdE",
        "outputId": "d16abaff-0aa9-463c-bb29-da04e0c8cf2c"
      },
      "source": [
        "model.eval()\n",
        "output_test, _ = model(input_seq_test)\n",
        "\n",
        "pred_test = calcular_predicciones(output_test)\n",
        "prec_test = calcular_precicision(pred_test, label_test)\n",
        "print(\"Precisión en el test set: \", round(prec_test*100, 2))"
      ],
      "execution_count": null,
      "outputs": [
        {
          "output_type": "stream",
          "text": [
            "Precisión en el test set:  95.88\n"
          ],
          "name": "stdout"
        }
      ]
    },
    {
      "cell_type": "markdown",
      "metadata": {
        "id": "le5XvDl-iUdE"
      },
      "source": [
        "$ \\underline{Comentario:} $ La precisión en el **test set** es de $95,88 \\% $."
      ]
    },
    {
      "cell_type": "markdown",
      "metadata": {
        "id": "dFa4XnvliUdE"
      },
      "source": [
        "$ \\underline{Comentario \\ general:} $ \n",
        "\n",
        "Notemos que la precisión tanto en el train, val y test set son similares, por ende, esto nos habla de que **no hay overfitting** y además de eso llegamos a un muy buen valor de clasificación. Por otro lado, en general, tanto la precisión como al función de perdida convergen de manera **mas suave** en LSTM que en RNN."
      ]
    },
    {
      "cell_type": "markdown",
      "metadata": {
        "id": "3KGbEWfCjbvk"
      },
      "source": [
        "## **Actividad 5:**"
      ]
    },
    {
      "cell_type": "markdown",
      "metadata": {
        "id": "1zfsxMJ8jnYP"
      },
      "source": [
        "# LSTM con segunda capa recurrente: "
      ]
    },
    {
      "cell_type": "code",
      "metadata": {
        "colab": {
          "base_uri": "https://localhost:8080/"
        },
        "id": "264Po_qvjdlh",
        "outputId": "ab134dc8-4fe8-4ddd-f041-3e03b056178d"
      },
      "source": [
        "# torch.cuda.is_available() checks and returns a Boolean True if a GPU is available, else it'll return False\n",
        "is_cuda = torch.cuda.is_available()\n",
        "\n",
        "# If we have a GPU available, we'll set our device to GPU. We'll use this device variable later in our code.\n",
        "if is_cuda:\n",
        "    device = torch.device(\"cuda\")\n",
        "    print(\"GPU is available\")    \n",
        "else:\n",
        "    device = torch.device(\"cpu\")\n",
        "    print(\"GPU not available, CPU used\")"
      ],
      "execution_count": null,
      "outputs": [
        {
          "output_type": "stream",
          "text": [
            "GPU is available\n"
          ],
          "name": "stdout"
        }
      ]
    },
    {
      "cell_type": "code",
      "metadata": {
        "id": "dCZZFWCLjdpc"
      },
      "source": [
        "model = LSTM_model(input_size=80, output_size=2, hidden_dim=10, n_layers=2, device = device)\n",
        "model = model.to(device)"
      ],
      "execution_count": null,
      "outputs": []
    },
    {
      "cell_type": "code",
      "metadata": {
        "id": "WxhmurxbjdsD"
      },
      "source": [
        "n_epochs = 100\n",
        "lr=0.01*10\n",
        "\n",
        "# Define Loss, Optimizer\n",
        "criterion = nn.CrossEntropyLoss()\n",
        "optimizer = torch.optim.Adam(model.parameters(), lr=lr)\n",
        "target_seq_train = target_seq_train.to(device)"
      ],
      "execution_count": null,
      "outputs": []
    },
    {
      "cell_type": "code",
      "metadata": {
        "colab": {
          "base_uri": "https://localhost:8080/"
        },
        "id": "O3a6RT6wjcNF",
        "outputId": "f35b77b6-cafb-4d6f-ce8d-616748bc5711"
      },
      "source": [
        "# Entrenamiento\n",
        "\n",
        "epocas_totales_2_capa = []\n",
        "loss_train_totales_2_capa = []\n",
        "loss_val_totales_2_capa = []\n",
        "prec_train_totales_2_capa = []\n",
        "prec_val_totales_2_capa = []\n",
        "\n",
        "for epoch in range(1, n_epochs + 1):\n",
        "\n",
        "  start = time.time()\n",
        "\n",
        "  model.train()\n",
        "\n",
        "  optimizer.zero_grad() # Clears existing gradients from previous epoch\n",
        "\n",
        "  output_train, _ = model(input_seq_train)\n",
        "  loss_train = criterion(output_train, target_seq_train.view(-1).long())\n",
        "  loss_train.backward() # Does backpropagation and calculates gradients\n",
        "  optimizer.step() # Updates the weights accordingly\n",
        "\n",
        "  model.eval()\n",
        "  output_val, _ = model(input_seq_val)\n",
        "\n",
        "  pred_train = calcular_predicciones(output_train)\n",
        "  pred_val = calcular_predicciones(output_val)\n",
        "\n",
        "  prec_train = calcular_precicision(pred_train, label_train)\n",
        "  prec_val = calcular_precicision(pred_val, label_val)\n",
        "\n",
        "  loss_val = criterion(output_val, target_seq_val.view(-1).long())\n",
        "\n",
        "  epocas_totales_2_capa.append(epoch)\n",
        "  loss_train_totales_2_capa.append(loss_train)\n",
        "  loss_val_totales_2_capa.append(loss_val)\n",
        "  prec_train_totales_2_capa.append(prec_train)\n",
        "  prec_val_totales_2_capa.append(prec_val)\n",
        "\n",
        "  end = time.time()\n",
        "\n",
        "  print('Epoch: {}/{}.............'.format(epoch, n_epochs), end=' ')\n",
        "  print(\"Loss Train Epoch: {:.4f}.............\".format(loss_train.item()), end =' ')\n",
        "  print(\"Time Epoch: {}\".format(end-start))  "
      ],
      "execution_count": null,
      "outputs": [
        {
          "output_type": "stream",
          "text": [
            "Epoch: 1/100............. Loss Train Epoch: 0.6485............. Time Epoch: 0.3144545555114746\n",
            "Epoch: 2/100............. Loss Train Epoch: 0.4677............. Time Epoch: 0.30629587173461914\n",
            "Epoch: 3/100............. Loss Train Epoch: 0.4500............. Time Epoch: 0.28171563148498535\n",
            "Epoch: 4/100............. Loss Train Epoch: 0.4480............. Time Epoch: 0.27667713165283203\n",
            "Epoch: 5/100............. Loss Train Epoch: 0.4473............. Time Epoch: 0.27147698402404785\n",
            "Epoch: 6/100............. Loss Train Epoch: 0.4474............. Time Epoch: 0.2631230354309082\n",
            "Epoch: 7/100............. Loss Train Epoch: 0.4473............. Time Epoch: 0.26293063163757324\n",
            "Epoch: 8/100............. Loss Train Epoch: 0.4473............. Time Epoch: 0.265779972076416\n",
            "Epoch: 9/100............. Loss Train Epoch: 0.4473............. Time Epoch: 0.261366605758667\n",
            "Epoch: 10/100............. Loss Train Epoch: 0.4472............. Time Epoch: 0.25684475898742676\n",
            "Epoch: 11/100............. Loss Train Epoch: 0.4472............. Time Epoch: 0.2591264247894287\n",
            "Epoch: 12/100............. Loss Train Epoch: 0.4471............. Time Epoch: 0.2609884738922119\n",
            "Epoch: 13/100............. Loss Train Epoch: 0.4470............. Time Epoch: 0.26409339904785156\n",
            "Epoch: 14/100............. Loss Train Epoch: 0.4469............. Time Epoch: 0.26293468475341797\n",
            "Epoch: 15/100............. Loss Train Epoch: 0.4468............. Time Epoch: 0.2591361999511719\n",
            "Epoch: 16/100............. Loss Train Epoch: 0.4466............. Time Epoch: 0.26220703125\n",
            "Epoch: 17/100............. Loss Train Epoch: 0.4463............. Time Epoch: 0.26439619064331055\n",
            "Epoch: 18/100............. Loss Train Epoch: 0.4461............. Time Epoch: 0.25798773765563965\n",
            "Epoch: 19/100............. Loss Train Epoch: 0.4458............. Time Epoch: 0.2585010528564453\n",
            "Epoch: 20/100............. Loss Train Epoch: 0.4453............. Time Epoch: 0.25822019577026367\n",
            "Epoch: 21/100............. Loss Train Epoch: 0.4444............. Time Epoch: 0.2800414562225342\n",
            "Epoch: 22/100............. Loss Train Epoch: 0.4436............. Time Epoch: 0.2573056221008301\n",
            "Epoch: 23/100............. Loss Train Epoch: 0.4429............. Time Epoch: 0.25832557678222656\n",
            "Epoch: 24/100............. Loss Train Epoch: 0.4420............. Time Epoch: 0.2612295150756836\n",
            "Epoch: 25/100............. Loss Train Epoch: 0.4409............. Time Epoch: 0.26137304306030273\n",
            "Epoch: 26/100............. Loss Train Epoch: 0.4398............. Time Epoch: 0.26297879219055176\n",
            "Epoch: 27/100............. Loss Train Epoch: 0.4378............. Time Epoch: 0.25842976570129395\n",
            "Epoch: 28/100............. Loss Train Epoch: 0.4359............. Time Epoch: 0.25539517402648926\n",
            "Epoch: 29/100............. Loss Train Epoch: 0.4335............. Time Epoch: 0.2568483352661133\n",
            "Epoch: 30/100............. Loss Train Epoch: 0.4266............. Time Epoch: 0.26422667503356934\n",
            "Epoch: 31/100............. Loss Train Epoch: 0.4162............. Time Epoch: 0.2549464702606201\n",
            "Epoch: 32/100............. Loss Train Epoch: 0.3861............. Time Epoch: 0.26061272621154785\n",
            "Epoch: 33/100............. Loss Train Epoch: 0.3852............. Time Epoch: 0.2580528259277344\n",
            "Epoch: 34/100............. Loss Train Epoch: 0.3859............. Time Epoch: 0.26051759719848633\n",
            "Epoch: 35/100............. Loss Train Epoch: 0.3858............. Time Epoch: 0.256575345993042\n",
            "Epoch: 36/100............. Loss Train Epoch: 0.3836............. Time Epoch: 0.26323819160461426\n",
            "Epoch: 37/100............. Loss Train Epoch: 0.3841............. Time Epoch: 0.25876855850219727\n",
            "Epoch: 38/100............. Loss Train Epoch: 0.3840............. Time Epoch: 0.25806546211242676\n",
            "Epoch: 39/100............. Loss Train Epoch: 0.3833............. Time Epoch: 0.2558608055114746\n",
            "Epoch: 40/100............. Loss Train Epoch: 0.3872............. Time Epoch: 0.26147961616516113\n",
            "Epoch: 41/100............. Loss Train Epoch: 0.3874............. Time Epoch: 0.2552828788757324\n",
            "Epoch: 42/100............. Loss Train Epoch: 0.3872............. Time Epoch: 0.2560253143310547\n",
            "Epoch: 43/100............. Loss Train Epoch: 0.3861............. Time Epoch: 0.25580596923828125\n",
            "Epoch: 44/100............. Loss Train Epoch: 0.3866............. Time Epoch: 0.2619931697845459\n",
            "Epoch: 45/100............. Loss Train Epoch: 0.3866............. Time Epoch: 0.2562129497528076\n",
            "Epoch: 46/100............. Loss Train Epoch: 0.3870............. Time Epoch: 0.2527809143066406\n",
            "Epoch: 47/100............. Loss Train Epoch: 0.3856............. Time Epoch: 0.25827455520629883\n",
            "Epoch: 48/100............. Loss Train Epoch: 0.3845............. Time Epoch: 0.2631964683532715\n",
            "Epoch: 49/100............. Loss Train Epoch: 0.3798............. Time Epoch: 0.25893425941467285\n",
            "Epoch: 50/100............. Loss Train Epoch: 0.3783............. Time Epoch: 0.2598109245300293\n",
            "Epoch: 51/100............. Loss Train Epoch: 0.3758............. Time Epoch: 0.26541876792907715\n",
            "Epoch: 52/100............. Loss Train Epoch: 0.3736............. Time Epoch: 0.26526618003845215\n",
            "Epoch: 53/100............. Loss Train Epoch: 0.3795............. Time Epoch: 0.2583343982696533\n",
            "Epoch: 54/100............. Loss Train Epoch: 0.3856............. Time Epoch: 0.255190372467041\n",
            "Epoch: 55/100............. Loss Train Epoch: 0.3785............. Time Epoch: 0.2607905864715576\n",
            "Epoch: 56/100............. Loss Train Epoch: 0.3731............. Time Epoch: 0.25487184524536133\n",
            "Epoch: 57/100............. Loss Train Epoch: 0.3713............. Time Epoch: 0.2668933868408203\n",
            "Epoch: 58/100............. Loss Train Epoch: 0.3780............. Time Epoch: 0.2592048645019531\n",
            "Epoch: 59/100............. Loss Train Epoch: 0.3756............. Time Epoch: 0.2598400115966797\n",
            "Epoch: 60/100............. Loss Train Epoch: 0.3772............. Time Epoch: 0.26412224769592285\n",
            "Epoch: 61/100............. Loss Train Epoch: 0.3797............. Time Epoch: 0.2600536346435547\n",
            "Epoch: 62/100............. Loss Train Epoch: 0.3792............. Time Epoch: 0.2571866512298584\n",
            "Epoch: 63/100............. Loss Train Epoch: 0.3770............. Time Epoch: 0.2661440372467041\n",
            "Epoch: 64/100............. Loss Train Epoch: 0.3786............. Time Epoch: 0.25788331031799316\n",
            "Epoch: 65/100............. Loss Train Epoch: 0.3795............. Time Epoch: 0.25579190254211426\n",
            "Epoch: 66/100............. Loss Train Epoch: 0.3771............. Time Epoch: 0.2628769874572754\n",
            "Epoch: 67/100............. Loss Train Epoch: 0.3751............. Time Epoch: 0.26451730728149414\n",
            "Epoch: 68/100............. Loss Train Epoch: 0.3715............. Time Epoch: 0.2643558979034424\n",
            "Epoch: 69/100............. Loss Train Epoch: 0.3715............. Time Epoch: 0.2688894271850586\n",
            "Epoch: 70/100............. Loss Train Epoch: 0.3705............. Time Epoch: 0.25916051864624023\n",
            "Epoch: 71/100............. Loss Train Epoch: 0.3689............. Time Epoch: 0.2607569694519043\n",
            "Epoch: 72/100............. Loss Train Epoch: 0.3689............. Time Epoch: 0.2575984001159668\n",
            "Epoch: 73/100............. Loss Train Epoch: 0.3690............. Time Epoch: 0.2568051815032959\n",
            "Epoch: 74/100............. Loss Train Epoch: 0.3695............. Time Epoch: 0.25858259201049805\n",
            "Epoch: 75/100............. Loss Train Epoch: 0.3695............. Time Epoch: 0.2659008502960205\n",
            "Epoch: 76/100............. Loss Train Epoch: 0.3691............. Time Epoch: 0.25576353073120117\n",
            "Epoch: 77/100............. Loss Train Epoch: 0.3688............. Time Epoch: 0.2564671039581299\n",
            "Epoch: 78/100............. Loss Train Epoch: 0.3688............. Time Epoch: 0.25909996032714844\n",
            "Epoch: 79/100............. Loss Train Epoch: 0.3688............. Time Epoch: 0.2566211223602295\n",
            "Epoch: 80/100............. Loss Train Epoch: 0.3687............. Time Epoch: 0.2563190460205078\n",
            "Epoch: 81/100............. Loss Train Epoch: 0.3685............. Time Epoch: 0.2586669921875\n",
            "Epoch: 82/100............. Loss Train Epoch: 0.3684............. Time Epoch: 0.25888681411743164\n",
            "Epoch: 83/100............. Loss Train Epoch: 0.3682............. Time Epoch: 0.26513671875\n",
            "Epoch: 84/100............. Loss Train Epoch: 0.3669............. Time Epoch: 0.25792837142944336\n",
            "Epoch: 85/100............. Loss Train Epoch: 0.3624............. Time Epoch: 0.258880615234375\n",
            "Epoch: 86/100............. Loss Train Epoch: 0.3579............. Time Epoch: 0.2694828510284424\n",
            "Epoch: 87/100............. Loss Train Epoch: 0.3518............. Time Epoch: 0.2596278190612793\n",
            "Epoch: 88/100............. Loss Train Epoch: 0.3464............. Time Epoch: 0.25746703147888184\n",
            "Epoch: 89/100............. Loss Train Epoch: 0.3434............. Time Epoch: 0.2562730312347412\n",
            "Epoch: 90/100............. Loss Train Epoch: 0.3400............. Time Epoch: 0.26143383979797363\n",
            "Epoch: 91/100............. Loss Train Epoch: 0.3373............. Time Epoch: 0.2648437023162842\n",
            "Epoch: 92/100............. Loss Train Epoch: 0.3352............. Time Epoch: 0.27039265632629395\n",
            "Epoch: 93/100............. Loss Train Epoch: 0.3325............. Time Epoch: 0.26180553436279297\n",
            "Epoch: 94/100............. Loss Train Epoch: 0.3297............. Time Epoch: 0.2649111747741699\n",
            "Epoch: 95/100............. Loss Train Epoch: 0.3278............. Time Epoch: 0.2577357292175293\n",
            "Epoch: 96/100............. Loss Train Epoch: 0.3260............. Time Epoch: 0.2594428062438965\n",
            "Epoch: 97/100............. Loss Train Epoch: 0.3342............. Time Epoch: 0.25568270683288574\n",
            "Epoch: 98/100............. Loss Train Epoch: 0.3292............. Time Epoch: 0.265857458114624\n",
            "Epoch: 99/100............. Loss Train Epoch: 0.3273............. Time Epoch: 0.2673029899597168\n",
            "Epoch: 100/100............. Loss Train Epoch: 0.3269............. Time Epoch: 0.2591707706451416\n"
          ],
          "name": "stdout"
        }
      ]
    },
    {
      "cell_type": "markdown",
      "metadata": {
        "id": "5khGmcHbkC5B"
      },
      "source": [
        "**Evolución de la funcion de perdida**"
      ]
    },
    {
      "cell_type": "code",
      "metadata": {
        "colab": {
          "base_uri": "https://localhost:8080/",
          "height": 428
        },
        "id": "l5lEzKd8kC5E",
        "outputId": "694819f2-9e25-4042-b298-ca07034fe783"
      },
      "source": [
        "plt.figure(figsize=(10,7))\n",
        "\n",
        "plt.plot(epocas_totales_2_capa, loss_train_totales_2_capa, color = \"red\")\n",
        "plt.plot(epocas_totales_2_capa, loss_val_totales_2_capa, color = \"blue\")\n",
        "\n",
        "plt.legend(['Perdida de Entrenamiento 2 capas', 'Perdida de Validación 2 capas'], loc='upper left')\n",
        "\n",
        "plt.show()"
      ],
      "execution_count": null,
      "outputs": [
        {
          "output_type": "display_data",
          "data": {
            "image/png": "[encoded data removed]",
            "text/plain": [
              "<Figure size 720x504 with 1 Axes>"
            ]
          },
          "metadata": {
            "tags": [],
            "needs_background": "light"
          }
        }
      ]
    },
    {
      "cell_type": "markdown",
      "metadata": {
        "id": "3HaSH2oMoqSh"
      },
      "source": [
        "$ \\underline{Comentario: }  $ Notemos que el modelo converge a una función de perdida que es pequeña y de valor similar tanto en el set de entrenamiento como en el set de validación, lo cual nos habla de que **no hay overfitting**."
      ]
    },
    {
      "cell_type": "markdown",
      "metadata": {
        "id": "xxSG3TaNoi5i"
      },
      "source": [
        "**Evolución de la precision**"
      ]
    },
    {
      "cell_type": "code",
      "metadata": {
        "colab": {
          "base_uri": "https://localhost:8080/",
          "height": 428
        },
        "id": "FoSIL-2Soi5j",
        "outputId": "1a19a013-4773-4c07-a817-77c3fe79ae5d"
      },
      "source": [
        "plt.figure(figsize=(10,7))\n",
        "\n",
        "plt.plot(epocas_totales_2_capa, prec_train_totales_2_capa, color = \"red\")\n",
        "plt.plot(epocas_totales_2_capa, prec_val_totales_2_capa, color = \"blue\")\n",
        "plt.legend(['Precisión de Entrenamiento 2 capas', 'Precisión de Validación 2 capas'], loc='upper left')\n",
        "\n",
        "plt.show()"
      ],
      "execution_count": null,
      "outputs": [
        {
          "output_type": "display_data",
          "data": {
            "image/png": "[encoded data removed]",
            "text/plain": [
              "<Figure size 720x504 with 1 Axes>"
            ]
          },
          "metadata": {
            "tags": [],
            "needs_background": "light"
          }
        }
      ]
    },
    {
      "cell_type": "markdown",
      "metadata": {
        "id": "quxa-mVQkdnP"
      },
      "source": [
        "$ \\underline{Comentario: }  $ Notemos que el modelo converge a una precisión alta tanto en el set de validación como de entrenamiento lo cual nos habla de que **no hay overfitting**."
      ]
    },
    {
      "cell_type": "markdown",
      "metadata": {
        "id": "oMrnUvaIkrz8"
      },
      "source": [
        "**Reporte de resultados 2 capa recurrente**"
      ]
    },
    {
      "cell_type": "markdown",
      "metadata": {
        "id": "pW8Hox4Pkrz9"
      },
      "source": [
        "Ahora para el modelo ya entrenado, reportaremos la precisión en los sets de:\n",
        "\n",
        "a. Entrenamiento. $ \\\\ $\n",
        "\n",
        "b. Validación. $ \\\\ $\n",
        "\n",
        "b. Test. $ \\\\ $"
      ]
    },
    {
      "cell_type": "markdown",
      "metadata": {
        "id": "Mw_wxAr6krz9"
      },
      "source": [
        "**Desempeño en el train set**"
      ]
    },
    {
      "cell_type": "code",
      "metadata": {
        "colab": {
          "base_uri": "https://localhost:8080/"
        },
        "id": "tWKr-YYDkrz-",
        "outputId": "8cbdd348-7acb-4681-a00b-6a160b0286eb"
      },
      "source": [
        "model.eval()\n",
        "output_train, _ = model(input_seq_train)\n",
        "\n",
        "pred_train = calcular_predicciones(output_train)\n",
        "prec_train = calcular_precicision(pred_train, label_train)\n",
        "print(\"Precisión en el train set: \", round(prec_train*100, 2))"
      ],
      "execution_count": null,
      "outputs": [
        {
          "output_type": "stream",
          "text": [
            "Precisión en el train set:  99.21\n"
          ],
          "name": "stdout"
        }
      ]
    },
    {
      "cell_type": "markdown",
      "metadata": {
        "id": "zjh3cCexkrz_"
      },
      "source": [
        "$ \\underline{Comentario:} $ La precisión en el **train set** es de $99,21 \\% $."
      ]
    },
    {
      "cell_type": "markdown",
      "metadata": {
        "id": "TEghdWaSkrz_"
      },
      "source": [
        "**Desempeño en el val set**"
      ]
    },
    {
      "cell_type": "code",
      "metadata": {
        "colab": {
          "base_uri": "https://localhost:8080/"
        },
        "id": "bA9-1wlzkrz_",
        "outputId": "834c3380-6162-4211-ce5a-c3bcafc1725f"
      },
      "source": [
        "model.eval()\n",
        "output_val, _ = model(input_seq_val)\n",
        "\n",
        "pred_val = calcular_predicciones(output_val)\n",
        "prec_val = calcular_precicision(pred_val, label_val)\n",
        "print(\"Precisión en el val set: \", round(prec_val*100, 2))"
      ],
      "execution_count": null,
      "outputs": [
        {
          "output_type": "stream",
          "text": [
            "Precisión en el val set:  96.95\n"
          ],
          "name": "stdout"
        }
      ]
    },
    {
      "cell_type": "markdown",
      "metadata": {
        "id": "m3DWj40Nkrz_"
      },
      "source": [
        "$ \\underline{Comentario:} $ La precisión en el **val set** es de $96,95 \\% $."
      ]
    },
    {
      "cell_type": "markdown",
      "metadata": {
        "id": "86YzKBWXkrz_"
      },
      "source": [
        "**Desempeño en el test set**"
      ]
    },
    {
      "cell_type": "code",
      "metadata": {
        "colab": {
          "base_uri": "https://localhost:8080/"
        },
        "id": "xpz_nix0kr0A",
        "outputId": "cad4bff7-01d0-4a1a-ef15-6c15e9a76451"
      },
      "source": [
        "model.eval()\n",
        "output_test, _ = model(input_seq_test)\n",
        "\n",
        "pred_test = calcular_predicciones(output_test)\n",
        "prec_test = calcular_precicision(pred_test, label_test)\n",
        "print(\"Precisión en el test set: \", round(prec_test*100, 2))"
      ],
      "execution_count": null,
      "outputs": [
        {
          "output_type": "stream",
          "text": [
            "Precisión en el test set:  97.49\n"
          ],
          "name": "stdout"
        }
      ]
    },
    {
      "cell_type": "markdown",
      "metadata": {
        "id": "mH31HNNqkr0A"
      },
      "source": [
        "$ \\underline{Comentario:} $ La precisión en el **test set** es de $97,49 \\% $."
      ]
    },
    {
      "cell_type": "markdown",
      "metadata": {
        "id": "OoMdJd1tkr0A"
      },
      "source": [
        "$ \\underline{Comentario \\ general:} $ \n",
        "\n",
        "Notemos que la precisión tanto en el train, val y test set son similares, por ende, esto nos habla de que **no hay overfitting** y además de eso llegamos a un muy buen valor de clasificación."
      ]
    },
    {
      "cell_type": "markdown",
      "metadata": {
        "id": "dLzwrIFfle14"
      },
      "source": [
        "# LSTM Bidireccional: "
      ]
    },
    {
      "cell_type": "code",
      "metadata": {
        "id": "E_JEF8YdkzK-"
      },
      "source": [
        "class Model_bi(nn.Module):\n",
        "    def __init__(self, input_size, output_size, hidden_dim, n_layers, device):\n",
        "        super(Model_bi, self).__init__()\n",
        "\n",
        "        # Defining some parameters\n",
        "        self.hidden_dim = hidden_dim\n",
        "        self.n_layers = n_layers\n",
        "\n",
        "        #Defining the layers\n",
        "        # RNN Layer\n",
        "\n",
        "        self.embedding = nn.Embedding(dict_size, input_size)\n",
        "\n",
        "        self.lstm = nn.LSTM(input_size, hidden_dim, n_layers, batch_first=True, bidirectional=True)\n",
        "        # Fully connected layer\n",
        "        self.fc = nn.Linear(hidden_dim, output_size)\n",
        "\n",
        "        self.softmax = nn.Softmax(dim=-1)\n",
        "\n",
        "        self.device = device\n",
        "\n",
        "    def forward(self, x):\n",
        "\n",
        "        batch_size = x.size(0)\n",
        "\n",
        "        x = self.embedding(x)\n",
        "\n",
        "        x = x[:,:,0,:]\n",
        "\n",
        "        # Initializing hidden state for first input using method defined below\n",
        "        hidden = self.init_hidden(batch_size)\n",
        "\n",
        "        c = self.init_hidden(batch_size)\n",
        "\n",
        "        out, (hidden, c) = self.lstm(x, (hidden,c))\n",
        "        \n",
        "        # Reshaping the outputs such that it can be fit into the fully connected layer\n",
        "        out = out.contiguous().view(-1, self.hidden_dim)\n",
        "        out = self.fc(out)\n",
        "\n",
        "        out = self.softmax(out)\n",
        "        \n",
        "        return out, (hidden.to(self.device),c.to(self.device))\n",
        "    \n",
        "    def init_hidden(self, batch_size):\n",
        "        # This method generates the first hidden state of zeros which we'll use in the forward pass\n",
        "        # We'll send the tensor holding the hidden state to the device we specified earlier as well\n",
        "        hidden = torch.zeros(2, batch_size, self.hidden_dim)\n",
        "        return hidden.to(self.device)"
      ],
      "execution_count": null,
      "outputs": []
    },
    {
      "cell_type": "code",
      "metadata": {
        "colab": {
          "base_uri": "https://localhost:8080/"
        },
        "id": "Dqh4bTa3l2fZ",
        "outputId": "296414a9-550c-4dff-d885-3abd00bc7301"
      },
      "source": [
        "# torch.cuda.is_available() checks and returns a Boolean True if a GPU is available, else it'll return False\n",
        "is_cuda = torch.cuda.is_available()\n",
        "\n",
        "# If we have a GPU available, we'll set our device to GPU. We'll use this device variable later in our code.\n",
        "if is_cuda:\n",
        "    device = torch.device(\"cuda\")\n",
        "    print(\"GPU is available\")    \n",
        "else:\n",
        "    device = torch.device(\"cpu\")\n",
        "    print(\"GPU not available, CPU used\")"
      ],
      "execution_count": null,
      "outputs": [
        {
          "output_type": "stream",
          "text": [
            "GPU is available\n"
          ],
          "name": "stdout"
        }
      ]
    },
    {
      "cell_type": "code",
      "metadata": {
        "id": "DwvhU9Y8l45m"
      },
      "source": [
        "model = Model_bi(input_size = 80, output_size = 2, hidden_dim = 10, n_layers = 1, device = device)\n",
        "model = model.to(device)"
      ],
      "execution_count": null,
      "outputs": []
    },
    {
      "cell_type": "code",
      "metadata": {
        "id": "Z1LDWNTil6NX"
      },
      "source": [
        "n_epochs = 100\n",
        "lr=0.01*5\n",
        "\n",
        "# Define Loss, Optimizer\n",
        "criterion = nn.CrossEntropyLoss()\n",
        "optimizer = torch.optim.Adam(model.parameters(), lr=lr)"
      ],
      "execution_count": null,
      "outputs": []
    },
    {
      "cell_type": "code",
      "metadata": {
        "id": "kHYYEAttq8oi"
      },
      "source": [
        "target_seq_train_2 = torch.cat((target_seq_train, target_seq_train), 0)\n",
        "target_seq_val_2 = torch.cat((target_seq_val, target_seq_val), 0)\n",
        "target_seq_test_2 = torch.cat((target_seq_test, target_seq_test), 0)\n",
        "\n",
        "label_train_2 = label_train + label_train\n",
        "label_val_2 = label_val + label_val\n",
        "label_test_2 = label_test + label_test"
      ],
      "execution_count": null,
      "outputs": []
    },
    {
      "cell_type": "code",
      "metadata": {
        "colab": {
          "base_uri": "https://localhost:8080/"
        },
        "id": "FQxePz9jl8Kr",
        "outputId": "4e44f0d0-6515-4efe-a4cf-d6fcad39209a"
      },
      "source": [
        "# Entrenamiento\n",
        "\n",
        "epocas_totales_bi = []\n",
        "loss_train_totales_bi = []\n",
        "loss_val_totales_bi = []\n",
        "prec_train_totales_bi = []\n",
        "prec_val_totales_bi = []\n",
        "\n",
        "for epoch in range(1, n_epochs + 1):\n",
        "\n",
        "  start = time.time()\n",
        "\n",
        "  model.train()\n",
        "\n",
        "  optimizer.zero_grad() # Clears existing gradients from previous epoch\n",
        "  output_train, _ = model(input_seq_train)\n",
        "\n",
        "  loss_train = criterion(output_train, target_seq_train_2.view(-1).long())\n",
        "\n",
        "  loss_train.backward() # Does backpropagation and calculates gradients\n",
        "  optimizer.step() # Updates the weights accordingly\n",
        "\n",
        "  model.eval()\n",
        "  output_val, _ = model(input_seq_val)\n",
        "\n",
        "  pred_train = calcular_predicciones(output_train)\n",
        "  pred_val = calcular_predicciones(output_val)\n",
        "\n",
        "  prec_train = calcular_precicision(pred_train, label_train_2)\n",
        "  prec_val = calcular_precicision(pred_val, label_val_2)\n",
        "\n",
        "  loss_val = criterion(output_val, target_seq_val_2.view(-1).long())\n",
        "\n",
        "  epocas_totales_bi.append(epoch)\n",
        "  loss_train_totales_bi.append(loss_train)\n",
        "  loss_val_totales_bi.append(loss_val)\n",
        "  prec_train_totales_bi.append(prec_train)\n",
        "  prec_val_totales_bi.append(prec_val)\n",
        "\n",
        "  end = time.time()\n",
        "\n",
        "  print('Epoch: {}/{}.............'.format(epoch, n_epochs), end=' ')\n",
        "  print(\"Loss Train Epoch: {:.4f}.............\".format(loss_train.item()), end =' ')\n",
        "  print(\"Time Epoch: {}\".format(end-start))"
      ],
      "execution_count": null,
      "outputs": [
        {
          "output_type": "stream",
          "text": [
            "Epoch: 1/100............. Loss Train Epoch: 0.8297............. Time Epoch: 0.5548322200775146\n",
            "Epoch: 2/100............. Loss Train Epoch: 0.6327............. Time Epoch: 0.505734920501709\n",
            "Epoch: 3/100............. Loss Train Epoch: 0.5683............. Time Epoch: 0.47643065452575684\n",
            "Epoch: 4/100............. Loss Train Epoch: 0.5323............. Time Epoch: 0.4588289260864258\n",
            "Epoch: 5/100............. Loss Train Epoch: 0.5081............. Time Epoch: 0.45827245712280273\n",
            "Epoch: 6/100............. Loss Train Epoch: 0.4916............. Time Epoch: 0.46135377883911133\n",
            "Epoch: 7/100............. Loss Train Epoch: 0.4802............. Time Epoch: 0.46042394638061523\n",
            "Epoch: 8/100............. Loss Train Epoch: 0.4720............. Time Epoch: 0.46966552734375\n",
            "Epoch: 9/100............. Loss Train Epoch: 0.4663............. Time Epoch: 0.4532756805419922\n",
            "Epoch: 10/100............. Loss Train Epoch: 0.4618............. Time Epoch: 0.46511244773864746\n",
            "Epoch: 11/100............. Loss Train Epoch: 0.4587............. Time Epoch: 0.4603002071380615\n",
            "Epoch: 12/100............. Loss Train Epoch: 0.4561............. Time Epoch: 0.4639861583709717\n",
            "Epoch: 13/100............. Loss Train Epoch: 0.4542............. Time Epoch: 0.46359848976135254\n",
            "Epoch: 14/100............. Loss Train Epoch: 0.4528............. Time Epoch: 0.47728586196899414\n",
            "Epoch: 15/100............. Loss Train Epoch: 0.4516............. Time Epoch: 0.4730265140533447\n",
            "Epoch: 16/100............. Loss Train Epoch: 0.4506............. Time Epoch: 0.4657015800476074\n",
            "Epoch: 17/100............. Loss Train Epoch: 0.4497............. Time Epoch: 0.4616513252258301\n",
            "Epoch: 18/100............. Loss Train Epoch: 0.4490............. Time Epoch: 0.4595756530761719\n",
            "Epoch: 19/100............. Loss Train Epoch: 0.4486............. Time Epoch: 0.4563274383544922\n",
            "Epoch: 20/100............. Loss Train Epoch: 0.4482............. Time Epoch: 0.45908069610595703\n",
            "Epoch: 21/100............. Loss Train Epoch: 0.4476............. Time Epoch: 0.45595645904541016\n",
            "Epoch: 22/100............. Loss Train Epoch: 0.4473............. Time Epoch: 0.455272912979126\n",
            "Epoch: 23/100............. Loss Train Epoch: 0.4467............. Time Epoch: 0.4556121826171875\n",
            "Epoch: 24/100............. Loss Train Epoch: 0.4466............. Time Epoch: 0.46286535263061523\n",
            "Epoch: 25/100............. Loss Train Epoch: 0.4463............. Time Epoch: 0.4602062702178955\n",
            "Epoch: 26/100............. Loss Train Epoch: 0.4459............. Time Epoch: 0.4587366580963135\n",
            "Epoch: 27/100............. Loss Train Epoch: 0.4457............. Time Epoch: 0.4652423858642578\n",
            "Epoch: 28/100............. Loss Train Epoch: 0.4455............. Time Epoch: 0.45985913276672363\n",
            "Epoch: 29/100............. Loss Train Epoch: 0.4446............. Time Epoch: 0.46996378898620605\n",
            "Epoch: 30/100............. Loss Train Epoch: 0.4436............. Time Epoch: 0.46399784088134766\n",
            "Epoch: 31/100............. Loss Train Epoch: 0.4430............. Time Epoch: 0.4627716541290283\n",
            "Epoch: 32/100............. Loss Train Epoch: 0.4428............. Time Epoch: 0.45215654373168945\n",
            "Epoch: 33/100............. Loss Train Epoch: 0.4425............. Time Epoch: 0.4612562656402588\n",
            "Epoch: 34/100............. Loss Train Epoch: 0.4424............. Time Epoch: 0.45593881607055664\n",
            "Epoch: 35/100............. Loss Train Epoch: 0.4421............. Time Epoch: 0.4636538028717041\n",
            "Epoch: 36/100............. Loss Train Epoch: 0.4410............. Time Epoch: 0.4566206932067871\n",
            "Epoch: 37/100............. Loss Train Epoch: 0.4313............. Time Epoch: 0.4553189277648926\n",
            "Epoch: 38/100............. Loss Train Epoch: 0.4283............. Time Epoch: 0.459932804107666\n",
            "Epoch: 39/100............. Loss Train Epoch: 0.4270............. Time Epoch: 0.45502543449401855\n",
            "Epoch: 40/100............. Loss Train Epoch: 0.4257............. Time Epoch: 0.4656534194946289\n",
            "Epoch: 41/100............. Loss Train Epoch: 0.4243............. Time Epoch: 0.4585902690887451\n",
            "Epoch: 42/100............. Loss Train Epoch: 0.4229............. Time Epoch: 0.45992255210876465\n",
            "Epoch: 43/100............. Loss Train Epoch: 0.4216............. Time Epoch: 0.45659732818603516\n",
            "Epoch: 44/100............. Loss Train Epoch: 0.4202............. Time Epoch: 0.46315550804138184\n",
            "Epoch: 45/100............. Loss Train Epoch: 0.4186............. Time Epoch: 0.4605414867401123\n",
            "Epoch: 46/100............. Loss Train Epoch: 0.4170............. Time Epoch: 0.46083688735961914\n",
            "Epoch: 47/100............. Loss Train Epoch: 0.4154............. Time Epoch: 0.4521198272705078\n",
            "Epoch: 48/100............. Loss Train Epoch: 0.4137............. Time Epoch: 0.45824289321899414\n",
            "Epoch: 49/100............. Loss Train Epoch: 0.4120............. Time Epoch: 0.4608170986175537\n",
            "Epoch: 50/100............. Loss Train Epoch: 0.4105............. Time Epoch: 0.45907139778137207\n",
            "Epoch: 51/100............. Loss Train Epoch: 0.4086............. Time Epoch: 0.46295166015625\n",
            "Epoch: 52/100............. Loss Train Epoch: 0.4071............. Time Epoch: 0.47434091567993164\n",
            "Epoch: 53/100............. Loss Train Epoch: 0.4057............. Time Epoch: 0.46097397804260254\n",
            "Epoch: 54/100............. Loss Train Epoch: 0.4044............. Time Epoch: 0.45815181732177734\n",
            "Epoch: 55/100............. Loss Train Epoch: 0.4033............. Time Epoch: 0.46642637252807617\n",
            "Epoch: 56/100............. Loss Train Epoch: 0.4021............. Time Epoch: 0.4547889232635498\n",
            "Epoch: 57/100............. Loss Train Epoch: 0.4011............. Time Epoch: 0.45840883255004883\n",
            "Epoch: 58/100............. Loss Train Epoch: 0.4004............. Time Epoch: 0.4564802646636963\n",
            "Epoch: 59/100............. Loss Train Epoch: 0.3997............. Time Epoch: 0.46448349952697754\n",
            "Epoch: 60/100............. Loss Train Epoch: 0.3991............. Time Epoch: 0.4598088264465332\n",
            "Epoch: 61/100............. Loss Train Epoch: 0.3987............. Time Epoch: 0.45992541313171387\n",
            "Epoch: 62/100............. Loss Train Epoch: 0.3985............. Time Epoch: 0.46554112434387207\n",
            "Epoch: 63/100............. Loss Train Epoch: 0.3979............. Time Epoch: 0.46209073066711426\n",
            "Epoch: 64/100............. Loss Train Epoch: 0.3974............. Time Epoch: 0.46246838569641113\n",
            "Epoch: 65/100............. Loss Train Epoch: 0.3971............. Time Epoch: 0.4578742980957031\n",
            "Epoch: 66/100............. Loss Train Epoch: 0.3969............. Time Epoch: 0.4860098361968994\n",
            "Epoch: 67/100............. Loss Train Epoch: 0.3965............. Time Epoch: 0.4705510139465332\n",
            "Epoch: 68/100............. Loss Train Epoch: 0.3962............. Time Epoch: 0.46260643005371094\n",
            "Epoch: 69/100............. Loss Train Epoch: 0.3961............. Time Epoch: 0.45708632469177246\n",
            "Epoch: 70/100............. Loss Train Epoch: 0.3959............. Time Epoch: 0.4681510925292969\n",
            "Epoch: 71/100............. Loss Train Epoch: 0.3955............. Time Epoch: 0.46663951873779297\n",
            "Epoch: 72/100............. Loss Train Epoch: 0.3954............. Time Epoch: 0.4576301574707031\n",
            "Epoch: 73/100............. Loss Train Epoch: 0.3952............. Time Epoch: 0.4597935676574707\n",
            "Epoch: 74/100............. Loss Train Epoch: 0.3953............. Time Epoch: 0.47115659713745117\n",
            "Epoch: 75/100............. Loss Train Epoch: 0.3951............. Time Epoch: 0.4573383331298828\n",
            "Epoch: 76/100............. Loss Train Epoch: 0.3950............. Time Epoch: 0.4602999687194824\n",
            "Epoch: 77/100............. Loss Train Epoch: 0.3948............. Time Epoch: 0.45757508277893066\n",
            "Epoch: 78/100............. Loss Train Epoch: 0.3947............. Time Epoch: 0.4670114517211914\n",
            "Epoch: 79/100............. Loss Train Epoch: 0.3947............. Time Epoch: 0.4630606174468994\n",
            "Epoch: 80/100............. Loss Train Epoch: 0.3945............. Time Epoch: 0.46730637550354004\n",
            "Epoch: 81/100............. Loss Train Epoch: 0.3944............. Time Epoch: 0.467926025390625\n",
            "Epoch: 82/100............. Loss Train Epoch: 0.3943............. Time Epoch: 0.4576840400695801\n",
            "Epoch: 83/100............. Loss Train Epoch: 0.3942............. Time Epoch: 0.4731471538543701\n",
            "Epoch: 84/100............. Loss Train Epoch: 0.3941............. Time Epoch: 0.4736216068267822\n",
            "Epoch: 85/100............. Loss Train Epoch: 0.3941............. Time Epoch: 0.46152591705322266\n",
            "Epoch: 86/100............. Loss Train Epoch: 0.3941............. Time Epoch: 0.45680785179138184\n",
            "Epoch: 87/100............. Loss Train Epoch: 0.3939............. Time Epoch: 0.459702730178833\n",
            "Epoch: 88/100............. Loss Train Epoch: 0.3939............. Time Epoch: 0.4567701816558838\n",
            "Epoch: 89/100............. Loss Train Epoch: 0.3938............. Time Epoch: 0.45991039276123047\n",
            "Epoch: 90/100............. Loss Train Epoch: 0.3937............. Time Epoch: 0.4568042755126953\n",
            "Epoch: 91/100............. Loss Train Epoch: 0.3937............. Time Epoch: 0.4569845199584961\n",
            "Epoch: 92/100............. Loss Train Epoch: 0.3936............. Time Epoch: 0.4569425582885742\n",
            "Epoch: 93/100............. Loss Train Epoch: 0.3936............. Time Epoch: 0.46084022521972656\n",
            "Epoch: 94/100............. Loss Train Epoch: 0.3935............. Time Epoch: 0.4589521884918213\n",
            "Epoch: 95/100............. Loss Train Epoch: 0.3935............. Time Epoch: 0.4636683464050293\n",
            "Epoch: 96/100............. Loss Train Epoch: 0.3935............. Time Epoch: 0.4632706642150879\n",
            "Epoch: 97/100............. Loss Train Epoch: 0.3938............. Time Epoch: 0.45776891708374023\n",
            "Epoch: 98/100............. Loss Train Epoch: 0.3938............. Time Epoch: 0.4606609344482422\n",
            "Epoch: 99/100............. Loss Train Epoch: 0.3938............. Time Epoch: 0.45523571968078613\n",
            "Epoch: 100/100............. Loss Train Epoch: 0.3938............. Time Epoch: 0.46515560150146484\n"
          ],
          "name": "stdout"
        }
      ]
    },
    {
      "cell_type": "markdown",
      "metadata": {
        "id": "vv9jPQbYm4G7"
      },
      "source": [
        "**Evolución de la funcion de perdida**"
      ]
    },
    {
      "cell_type": "code",
      "metadata": {
        "colab": {
          "base_uri": "https://localhost:8080/",
          "height": 428
        },
        "id": "lYS2_LTVm4HD",
        "outputId": "0a296937-a47c-40c7-978e-9689e03a73d4"
      },
      "source": [
        "plt.figure(figsize=(10,7))\n",
        "\n",
        "plt.plot(epocas_totales_bi, loss_train_totales_bi, color = \"red\")\n",
        "plt.plot(epocas_totales_bi, loss_val_totales_bi, color = \"blue\")\n",
        "\n",
        "plt.legend(['Perdida de Entrenamiento bidireccional', 'Perdida de Validación bidireccional'], loc='upper left')\n",
        "\n",
        "plt.show()"
      ],
      "execution_count": null,
      "outputs": [
        {
          "output_type": "display_data",
          "data": {
            "image/png": "[encoded data removed]",
            "text/plain": [
              "<Figure size 720x504 with 1 Axes>"
            ]
          },
          "metadata": {
            "tags": [],
            "needs_background": "light"
          }
        }
      ]
    },
    {
      "cell_type": "markdown",
      "metadata": {
        "id": "g6emmR8hm4HD"
      },
      "source": [
        "$ \\underline{Comentario: }  $ Notemos que la función de perdida tanto en el set de entrenamiento como en el set de validación convergen de manera suave, sin embargo, la perdida en el set de entrenamiento tiene un valor bastante menor que la perdida en el set de validación."
      ]
    },
    {
      "cell_type": "markdown",
      "metadata": {
        "id": "HxTsAtHtzHSt"
      },
      "source": [
        "**Evolución de la precision**"
      ]
    },
    {
      "cell_type": "code",
      "metadata": {
        "colab": {
          "base_uri": "https://localhost:8080/",
          "height": 428
        },
        "id": "kABe_Ko0zHSt",
        "outputId": "79f7b7b8-29e2-4bab-c73e-90f836563c56"
      },
      "source": [
        "plt.figure(figsize=(10,7))\n",
        "\n",
        "plt.plot(epocas_totales_bi, prec_train_totales_bi, color = \"red\")\n",
        "plt.plot(epocas_totales_bi, prec_val_totales_bi, color = \"blue\")\n",
        "plt.legend(['Precisión de Entrenamiento bidireccional', 'Precisión de Validación bidireccional'], loc='upper left')\n",
        "\n",
        "plt.show()"
      ],
      "execution_count": null,
      "outputs": [
        {
          "output_type": "display_data",
          "data": {
            "image/png": "[encoded data removed]",
            "text/plain": [
              "<Figure size 720x504 with 1 Axes>"
            ]
          },
          "metadata": {
            "tags": [],
            "needs_background": "light"
          }
        }
      ]
    },
    {
      "cell_type": "markdown",
      "metadata": {
        "id": "36u-wKTazHSu"
      },
      "source": [
        "$ \\underline{Comentario: }  $ Notemos que la precisión tanto en el set de entrenamiento como en el set de validación convergen de manera suave, sin embargo, la precisión en el set de entrenamiento tiene un valor bastante mayor que la precisión en el set de validación."
      ]
    },
    {
      "cell_type": "markdown",
      "metadata": {
        "id": "-xA4G2WAm4HD"
      },
      "source": [
        "**Reporte de resultados LSTM bidireccional**"
      ]
    },
    {
      "cell_type": "markdown",
      "metadata": {
        "id": "Q-6ebkdZm4HE"
      },
      "source": [
        "Ahora para el modelo ya entrenado, reportaremos la precisión en los sets de:\n",
        "\n",
        "a. Entrenamiento. $ \\\\ $\n",
        "\n",
        "b. Validación. $ \\\\ $\n",
        "\n",
        "b. Test. $ \\\\ $"
      ]
    },
    {
      "cell_type": "markdown",
      "metadata": {
        "id": "F0fBznu6m4HE"
      },
      "source": [
        "**Desempeño en el train set**"
      ]
    },
    {
      "cell_type": "code",
      "metadata": {
        "colab": {
          "base_uri": "https://localhost:8080/"
        },
        "id": "9L_em_Ilm4HE",
        "outputId": "38b18796-685b-4600-d0e6-705513f3659b"
      },
      "source": [
        "model.eval()\n",
        "output_train, _ = model(input_seq_train)\n",
        "pred_train = calcular_predicciones(output_train)\n",
        "prec_train = calcular_precicision(pred_train, label_train_2)\n",
        "print(\"Precisión en el train set: \", round(prec_train*100, 2))"
      ],
      "execution_count": null,
      "outputs": [
        {
          "output_type": "stream",
          "text": [
            "Precisión en el train set:  91.55\n"
          ],
          "name": "stdout"
        }
      ]
    },
    {
      "cell_type": "markdown",
      "metadata": {
        "id": "RQ6oWC2Wm4HE"
      },
      "source": [
        "$ \\underline{Comentario:} $ La precisión en el **train set** es de $91,55 \\% $."
      ]
    },
    {
      "cell_type": "markdown",
      "metadata": {
        "id": "rzmXbZg8m4HF"
      },
      "source": [
        "**Desempeño en el val set**"
      ]
    },
    {
      "cell_type": "code",
      "metadata": {
        "colab": {
          "base_uri": "https://localhost:8080/"
        },
        "id": "lvfF280nm4HF",
        "outputId": "70f6e214-e673-461c-fe64-621f04e6f0dd"
      },
      "source": [
        "model.eval()\n",
        "output_val, _ = model(input_seq_val)\n",
        "pred_val = calcular_predicciones(output_val)\n",
        "prec_val = calcular_precicision(pred_val, label_val_2)\n",
        "print(\"Precisión en el val set: \", round(prec_val*100, 2))"
      ],
      "execution_count": null,
      "outputs": [
        {
          "output_type": "stream",
          "text": [
            "Precisión en el val set:  85.56\n"
          ],
          "name": "stdout"
        }
      ]
    },
    {
      "cell_type": "markdown",
      "metadata": {
        "id": "BFvM6MbDm4HF"
      },
      "source": [
        "$ \\underline{Comentario:} $ La precisión en el **val set** es de $85,56 \\% $."
      ]
    },
    {
      "cell_type": "markdown",
      "metadata": {
        "id": "8U0wib5hm4HG"
      },
      "source": [
        "**Desempeño en el test set**"
      ]
    },
    {
      "cell_type": "code",
      "metadata": {
        "colab": {
          "base_uri": "https://localhost:8080/"
        },
        "id": "xWO0bdpJm4HG",
        "outputId": "0c1dcedf-aed8-49fc-8c3a-8b322e2a7c07"
      },
      "source": [
        "model.eval()\n",
        "output_test, _ = model(input_seq_test)\n",
        "pred_test = calcular_predicciones(output_test)\n",
        "prec_test = calcular_precicision(pred_test, label_test_2)\n",
        "print(\"Precisión en el test set: \", round(prec_test*100, 2))"
      ],
      "execution_count": null,
      "outputs": [
        {
          "output_type": "stream",
          "text": [
            "Precisión en el test set:  85.3\n"
          ],
          "name": "stdout"
        }
      ]
    },
    {
      "cell_type": "markdown",
      "metadata": {
        "id": "3Jk8E0LTm4HG"
      },
      "source": [
        "$ \\underline{Comentario:} $ La precisión en el **test set** es de $85,3 \\% $."
      ]
    },
    {
      "cell_type": "markdown",
      "metadata": {
        "id": "1y7xMz4tm4HG"
      },
      "source": [
        "$ \\underline{Comentario \\ general:} $ \n",
        "\n",
        "Notemos que la precisión en el train set es bastante mayor que en el val y test set, por ende, esto nos habla de que **hay overfitting**. Sin embargo, igual el valor de la precisión tanto en el set de validación como de test son aceptables."
      ]
    },
    {
      "cell_type": "markdown",
      "metadata": {
        "id": "WK4rdx4nnlsa"
      },
      "source": [
        "$ \\huge{2. \\ Red \\  Siamesa \\ para \\ aprendizaje \\ de \\ similitud } $"
      ]
    },
    {
      "cell_type": "markdown",
      "metadata": {
        "id": "kPTX4dAY4YCe"
      },
      "source": [
        "# 2.1: Modelo"
      ]
    },
    {
      "cell_type": "markdown",
      "metadata": {
        "id": "cGiHSxVGeHep"
      },
      "source": [
        "Primero que todo cargaremos el modelo, dado a que para responder todas las preguntas que nos hacen."
      ]
    },
    {
      "cell_type": "code",
      "metadata": {
        "id": "WD8x8MI8j42C",
        "colab": {
          "base_uri": "https://localhost:8080/"
        },
        "outputId": "1524e154-0622-4150-cfa6-08790d1e01be"
      },
      "source": [
        "import re\n",
        "import nltk\n",
        "import math\n",
        "import time\n",
        "import torch\n",
        "import torchtext\n",
        "import numpy as np\n",
        "import pandas as pd\n",
        "import seaborn as sns\n",
        "import torch.nn as nn\n",
        "nltk.download('stopwords')\n",
        "import matplotlib.pyplot as plt\n",
        "from nltk.corpus import stopwords\n",
        "from torchtext.vocab import GloVe\n",
        "from gensim.models import Word2Vec\n",
        "from torchtext import data, datasets\n",
        "from collections import defaultdict, Counter\n",
        "from sklearn.linear_model import LinearRegression\n",
        "from torch.utils.data import DataLoader, TensorDataset"
      ],
      "execution_count": null,
      "outputs": [
        {
          "output_type": "stream",
          "text": [
            "[nltk_data] Downloading package stopwords to /root/nltk_data...\n",
            "[nltk_data]   Package stopwords is already up-to-date!\n"
          ],
          "name": "stdout"
        }
      ]
    },
    {
      "cell_type": "code",
      "metadata": {
        "id": "YiIdPCidnXGo",
        "colab": {
          "base_uri": "https://localhost:8080/"
        },
        "outputId": "b282f7f9-f0ce-41e8-ce3a-261825873009"
      },
      "source": [
        "from google.colab import drive\n",
        "drive.mount('/content/drive')"
      ],
      "execution_count": null,
      "outputs": [
        {
          "output_type": "stream",
          "text": [
            "Drive already mounted at /content/drive; to attempt to forcibly remount, call drive.mount(\"/content/drive\", force_remount=True).\n"
          ],
          "name": "stdout"
        }
      ]
    },
    {
      "cell_type": "code",
      "metadata": {
        "id": "TNlCpsy3f1g8"
      },
      "source": [
        "with open('drive/MyDrive/DeepLearningUC/Tarea2/Actividad2/SICK.txt') as file:\n",
        "  mensajes = file.readlines()"
      ],
      "execution_count": null,
      "outputs": []
    },
    {
      "cell_type": "code",
      "metadata": {
        "colab": {
          "base_uri": "https://localhost:8080/"
        },
        "id": "hlEvXNH3gGLl",
        "outputId": "b7dfb52b-13a5-4ad0-e0fb-f10508e35e00"
      },
      "source": [
        "print(mensajes[0])"
      ],
      "execution_count": null,
      "outputs": [
        {
          "output_type": "stream",
          "text": [
            "pair_ID\tsentence_A\tsentence_B\tentailment_label\trelatedness_score\tentailment_AB\tentailment_BA\tsentence_A_original\tsentence_B_original\tsentence_A_dataset\tsentence_B_dataset\tSemEval_set\n",
            "\n"
          ],
          "name": "stdout"
        }
      ]
    },
    {
      "cell_type": "markdown",
      "metadata": {
        "id": "GT0bkBNIgMId"
      },
      "source": [
        "**i.** \n",
        "\n",
        "Este data set fue obtenido de la siguiente manera:\n",
        "\n",
        "El conjunto de todos los pares de oraciones se construyo a partir de las siguientes dos bases de datos: \n",
        "\n",
        "a) El conjunto de datos de ImageFlickr.\n",
        "\n",
        "b) El conjunto de datos de descripciones de video de similitud textual llamado SEMEVAL-2012.\n",
        "\n",
        "$ \\\\ $ \n",
        "\n",
        "Los rotulos asociados a esta base de datos son: \n",
        "\n",
        "$ \\\\ $\n",
        "\n",
        "**Pair ID:** Es el id para el par de oraciones.\n",
        "\n",
        "**Sentence A:** Corresponde a la oración A.\n",
        "\n",
        "**Sentence B:** Corresponde a la oración B.\n",
        "\n",
        "**Entailment label:** Etiqueta de relación del par que puede tomar los valores de: NEUTRAL, ENTAILMENT, o CONTRADICTION.\n",
        "\n",
        "**Relatedness_scores:** Score que va desde el 1 hasta el 5 y que nos da una metida de que tan relacionadas estan las oraciones A y B.\n",
        "\n",
        "**Entailment_AB:** Para el orden A-B da la etiqueta de relación que puede tomar los valores: (A_neutral_B, A_entails_B, or A_contradicts_B). \n",
        "\n",
        "**Entailment_BA:** Para el orden B-A da la etiqueta de relación que puede tomar los valores: (B_neutral_A, B_entails_A, or B_contradicts_A). \n",
        "\n",
        "**Sentence A original:** Oración original sobre la cual la oración A fue derivada.\n",
        "\n",
        "**Sentence B original:** Oración original sobre la cual la oración B fue derivada.\n",
        "\n",
        "**Sentence A dataset:** Dataset a partir del cual la oración A original fue extraida (FLICKR vs. SEMEVAL).\n",
        "\n",
        "**Sentence B dataset:** Dataset a partir del cual la oración B original fue extraida (FLICKR vs. SEMEVAL).\n",
        "\n",
        "**SemEval_set:** Indica si es que el par de oraciones pertenece al train set, val set o test set.\n"
      ]
    },
    {
      "cell_type": "markdown",
      "metadata": {
        "id": "GuCZsKpTjk0f"
      },
      "source": [
        "Ahora procesaremos los datos para ver los tamaños del dataset y la proporción utilizada para \"entrenamiento\" (train), \"validación\" (val) y \"testeo\" (test)."
      ]
    },
    {
      "cell_type": "code",
      "metadata": {
        "id": "lm0opARcgKno"
      },
      "source": [
        "# 1: Sentence A\n",
        "# 2: Sentence B\n",
        "# 4: Relatedness_score\n",
        "# Last label: Set perteneciente\n",
        "\n",
        "all_data = []\n",
        "\n",
        "for i in range(len(mensajes)):\n",
        "  if i != 0:\n",
        "    all_data.append(mensajes[i].split('\\t'))"
      ],
      "execution_count": null,
      "outputs": []
    },
    {
      "cell_type": "code",
      "metadata": {
        "id": "dDrlTE4Ak9TQ"
      },
      "source": [
        "mensajes_A_train = []\n",
        "mensajes_B_train = []\n",
        "scores_train = []\n",
        "\n",
        "mensajes_A_val = []\n",
        "mensajes_B_val = []\n",
        "scores_val = []\n",
        "\n",
        "mensajes_A_test = []\n",
        "mensajes_B_test = []\n",
        "scores_test = []"
      ],
      "execution_count": null,
      "outputs": []
    },
    {
      "cell_type": "code",
      "metadata": {
        "id": "nq61sFlvk_Vy"
      },
      "source": [
        "for i in range(len(all_data)):\n",
        "\n",
        "  if all_data[i][11] == 'TRAIN\\n':\n",
        "    mensajes_A_train.append(all_data[i][1].lower())\n",
        "    mensajes_B_train.append(all_data[i][2].lower())\n",
        "    scores_train.append(float(all_data[i][4]))\n",
        "\n",
        "  elif all_data[i][11] == 'TRIAL\\n':\n",
        "    mensajes_A_val.append(all_data[i][1].lower())\n",
        "    mensajes_B_val.append(all_data[i][2].lower())\n",
        "    scores_val.append(float(all_data[i][4]))\n",
        "\n",
        "  elif all_data[i][11] == 'TEST\\n':\n",
        "    mensajes_A_test.append(all_data[i][1].lower())\n",
        "    mensajes_B_test.append(all_data[i][2].lower())\n",
        "    scores_test.append(float(all_data[i][4]))"
      ],
      "execution_count": null,
      "outputs": []
    },
    {
      "cell_type": "code",
      "metadata": {
        "colab": {
          "base_uri": "https://localhost:8080/"
        },
        "id": "vpy0chonlBhN",
        "outputId": "9216d31d-d88d-4bd3-cc0c-2e270b010505"
      },
      "source": [
        "size_train = len(mensajes_A_train)\n",
        "size_val = len(mensajes_A_val)\n",
        "size_test = len(mensajes_A_test)\n",
        "\n",
        "print(\"Tamaño train: \", size_train)\n",
        "print(\"Tamaño val: \", size_val)\n",
        "print(\"Tamaño test: \", size_test)"
      ],
      "execution_count": null,
      "outputs": [
        {
          "output_type": "stream",
          "text": [
            "Tamaño train:  4439\n",
            "Tamaño val:  495\n",
            "Tamaño test:  4906\n"
          ],
          "name": "stdout"
        }
      ]
    },
    {
      "cell_type": "code",
      "metadata": {
        "colab": {
          "base_uri": "https://localhost:8080/"
        },
        "id": "lB3eHfHIlCrV",
        "outputId": "2d9d246f-828a-4b1a-c575-f54fc654b502"
      },
      "source": [
        "proporcion_train = (size_train/(size_train + size_val + size_test))*100\n",
        "proporcion_val = (size_val/(size_train + size_val + size_test))*100\n",
        "proporcion_test = (size_test/(size_train + size_val + size_test))*100\n",
        "\n",
        "print(\"Proporcion train: \", round(proporcion_train, 2))\n",
        "print(\"Proporcion val: \", round(proporcion_val, 2))\n",
        "print(\"Proporcion test: \", round(proporcion_test, 2))"
      ],
      "execution_count": null,
      "outputs": [
        {
          "output_type": "stream",
          "text": [
            "Proporcion train:  45.11\n",
            "Proporcion val:  5.03\n",
            "Proporcion test:  49.86\n"
          ],
          "name": "stdout"
        }
      ]
    },
    {
      "cell_type": "markdown",
      "metadata": {
        "id": "DatrCRsPnBJi"
      },
      "source": [
        "**ii.** \n",
        "\n",
        "El tamaño del dataset total es $ 4439 + 495 + 4906 = 9840 $, en donde la división esta hecha de la siguiente manera:\n",
        "\n",
        "$ \\ $ \\\\\n",
        "\n",
        "**Tamaño Train:**  $ 4439 $\n",
        "\n",
        "**Val:** $ 495 $\n",
        "\n",
        "**Test:** $ 4906 $\n",
        "\n",
        "$ \\ $ \\\\\n",
        "\n",
        "La proporcion del dataset es:\n",
        "\n",
        "$ \\ $ \\\\\n",
        "\n",
        "**Proporcion Train:**  $ 45.11 \\% $\n",
        "\n",
        "**Proporcion Validación:**  $ 5.03 \\% $\n",
        "\n",
        "**Proporcion Test:**  $ 49.86 \\% $"
      ]
    },
    {
      "cell_type": "markdown",
      "metadata": {
        "id": "19aaybKxDL1e"
      },
      "source": [
        "# 2.2: Modelo"
      ]
    },
    {
      "cell_type": "markdown",
      "metadata": {
        "id": "mTNMjGEmDTHB"
      },
      "source": [
        "# Actividad 6:"
      ]
    },
    {
      "cell_type": "markdown",
      "metadata": {
        "id": "MaLFtFADDYbq"
      },
      "source": [
        "**Decisiones de diseño:**\n",
        "\n",
        "$ \\ $ \n",
        "\n",
        "Nuestra red siamesa estará modelada de la siguiente forma:\n",
        "\n",
        "$ \\ $\n",
        "\n",
        "1. En primer lugar, se realizará el preprocesamiento de los datos que consistira en primer lugar hacer padding sobre las oraciones. Para hacer esto, se calcula el maximo de palabras que tenga una oración y a todas las oraciones se las deja con ese numero de palabras. Si es que una oración tiene menos palabras que el máximo se les agrega un string vacio \" \" cuantas veces sea necesario.\n",
        "\n",
        "2. Luego de lo ya realizado, se descarga el embbeding word2vec el cual ya esta preentrenado y se le aplica este embedding a cada palabra de cada oración. Así para cada oración tenemos $N_{max}$ vectores de 300 dimensiones cada uno. Luego se realiza el promedio componente a componente de estos vectores y así obtenemos para cada oración un vector de 300 dimensiones. \n",
        "\n",
        "3. Luego el modelo consiste en 2 redes LSTM la cuales recibiran como inputs a las oraciones ya transformadas en embedding y obtendremos dos outputs que corresponderán a $ f(I_1) $ y $ f(I_2) $. Luego de eso calcularemos la perdida dada por la función:\n",
        "\n",
        "$ \\newcommand{\\norm}[1]{\\left\\lVert #1 \\right\\rVert} $\n",
        "\n",
        "$ \\ \\ \\ \\ \\ \\ \\ \\ \\ \\ \\ \\ \\ \\ \\ \\ \\ \\ \\ \\ \\ \\ \\ \\ \\ \\ \\ \\ \\ \\ \\ \\ \\ \\ \\ L(f(I_1), f(I_2), y) = y \\cdot \\norm{ f(I_1) - f(I_2) } + (1-y) \\cdot max \\lbrace 0, m - \\norm{f(I_1) - f(I_2)} \\rbrace $\n",
        "\n",
        "$ \\\\ $\n",
        "\n",
        "Y a partir de esta función de perdida calculamos los gradientes y actualizamos los pesos.\n",
        "\n",
        "4. Como la red es siamesa, post actualización de pesos copiamos para la LSTM_2 los pesos y gradientes de la LSTM_1. \n",
        "\n",
        "5. Aclarando sobre que valores tendrán 'y' lo que nosotros hacemos es **guiarnos por el paper** en donde establecen un 'y' continuo que es la normalización de los scores de relación entre dos palabras. Como los 'scores' van desde 1 hasta 5, entonces:\n",
        "\n",
        "$ \\ \\ \\ \\ \\ \\ \\ \\ \\ \\ \\ \\ \\ \\ \\ \\ \\ \\ \\ \\ \\ \\ \\ \\ \\ \\ \\ \\ \\ \\ \\ \\ \\ \\ \\ \\ \\ \\ \\ \\ \\ \\ \\ \\ \\ \\ \\ \\ \\ \\ \\ \\ \\ \\ \\ \\ \\ \\ \\ \\ \\ \\ \\ \\ \\ \\ \\ \\ \\ \\ \\ \\ \\ \\ \\ \\ \\ \\ \\ \\ \\ \\ \\ \\ \\ y = \\cfrac{score-1}{4} $\n",
        "\n",
        "6. Ahora **nuevamente guiandonos por el paper**, lo que haremos es definir cual será nuestra medida de precisión. Y lo que hacen es que para cada par de ejemplos $ x^{(i)}_A, x^{(i)}_B $ se definen los valores $ z^{(i)} $ como sigue:\n",
        "\n",
        "$ \\ \\ \\ \\ \\ \\ \\ \\ \\ \\ \\ \\ \\ \\ \\ \\ \\ \\ \\ \\ \\ \\ \\ \\ \\ \\ \\ \\ \\ \\ \\ \\ \\ \\ \\ \\ \\ \\ \\ \\ \\ \\ \\ \\ \\ \\ \\ \\ \\ \\ \\ \\ \\ \\ \\ \\ \\ \\ \\ \\ \\ \\ \\ \\ \\ \\ \\ \\ \\ \\ \\ \\ \\ \\ \\ \\ \\ \\ \\ \\ \\ \\ \\ \\ \\ \\ \\ \\ z^{(i)} = e^{-\\norm{ f(x^{(i)}_A) - f(x^{(i)}_B) } } $\n",
        "\n",
        "Y luego de eso realizamos una regresión lineal a partir de los datos $ z^{(i)} $ para que prediga los $ score^{(i)} $ y la precisión la definen como la **perdida cuadratica** de esta regresión. Por lo tanto, entre más chica sea la precisión, mejor pues estamos usando como métrica a la perdida cuadratica. \\\\"
      ]
    },
    {
      "cell_type": "markdown",
      "metadata": {
        "id": "Xak9GBjEWsNN"
      },
      "source": [
        "Ahora pasamos a procesar los datos, y una vez hecho programos el modelo y reportamos el numero de parametros. "
      ]
    },
    {
      "cell_type": "code",
      "metadata": {
        "id": "ZHQd2Pv70WD0"
      },
      "source": [
        "for i in range(len(mensajes_A_train)):\n",
        "  mensajes_A_train[i] = mensajes_A_train[i].split(' ')\n",
        "\n",
        "for i in range(len(mensajes_B_train)):\n",
        "  mensajes_B_train[i] = mensajes_B_train[i].split(' ')\n",
        "\n",
        "for i in range(len(mensajes_A_val)):\n",
        "  mensajes_A_val[i] = mensajes_A_val[i].split(' ')\n",
        "\n",
        "for i in range(len(mensajes_B_val)):\n",
        "  mensajes_B_val[i] = mensajes_B_val[i].split(' ')\n",
        "\n",
        "for i in range(len(mensajes_A_test)):\n",
        "  mensajes_A_test[i] = mensajes_A_test[i].split(' ')\n",
        "\n",
        "for i in range(len(mensajes_B_test)):\n",
        "  mensajes_B_test[i] = mensajes_B_test[i].split(' ')"
      ],
      "execution_count": null,
      "outputs": []
    },
    {
      "cell_type": "code",
      "metadata": {
        "id": "M3SBNnlV2ugG"
      },
      "source": [
        "largos = []\n",
        "\n",
        "for i in range(len(mensajes_A_train)):\n",
        "  largos.append(len(mensajes_A_train[i]))\n",
        "\n",
        "for i in range(len(mensajes_B_train)):\n",
        "  largos.append(len(mensajes_B_train[i]))\n",
        "\n",
        "for i in range(len(mensajes_A_val)):\n",
        "  largos.append(len(mensajes_A_val[i]))\n",
        "\n",
        "for i in range(len(mensajes_B_val)):\n",
        "  largos.append(len(mensajes_B_val[i]))\n",
        "\n",
        "for i in range(len(mensajes_A_test)):\n",
        "  largos.append(len(mensajes_A_test[i]))\n",
        "\n",
        "for i in range(len(mensajes_B_test)):\n",
        "  largos.append(len(mensajes_B_test[i]))"
      ],
      "execution_count": null,
      "outputs": []
    },
    {
      "cell_type": "code",
      "metadata": {
        "id": "LjJUzKok3fT4"
      },
      "source": [
        "maxim_largo = max(largos)"
      ],
      "execution_count": null,
      "outputs": []
    },
    {
      "cell_type": "code",
      "metadata": {
        "id": "9F8R8cHp3UfA"
      },
      "source": [
        "# Realizamos el PADDING\n",
        "\n",
        "for i in range(len(mensajes_A_train)):\n",
        "  while len(mensajes_A_train[i]) < maxim_largo:\n",
        "    mensajes_A_train[i].append('')\n",
        "\n",
        "for i in range(len(mensajes_B_train)):\n",
        "  while len(mensajes_B_train[i]) < maxim_largo:\n",
        "    mensajes_B_train[i].append('')\n",
        "\n",
        "for i in range(len(mensajes_A_val)):\n",
        "  while len(mensajes_A_val[i]) < maxim_largo:\n",
        "    mensajes_A_val[i].append('')\n",
        "\n",
        "for i in range(len(mensajes_B_val)):\n",
        "  while len(mensajes_B_val[i]) < maxim_largo:\n",
        "    mensajes_B_val[i].append('')\n",
        "\n",
        "for i in range(len(mensajes_A_test)):\n",
        "  while len(mensajes_A_test[i]) < maxim_largo:\n",
        "    mensajes_A_test[i].append('')\n",
        "\n",
        "for i in range(len(mensajes_B_test)):\n",
        "  while len(mensajes_B_test[i]) < maxim_largo:\n",
        "    mensajes_B_test[i].append('')"
      ],
      "execution_count": null,
      "outputs": []
    },
    {
      "cell_type": "code",
      "metadata": {
        "id": "8WtZ5RhR4Cqw"
      },
      "source": [
        "# Extraemos todas las oraciones para usarlas en word2vec\n",
        "\n",
        "all_sentences = []\n",
        "\n",
        "for i in mensajes_A_train:\n",
        "  all_sentences.append(i)\n",
        "\n",
        "for i in mensajes_B_train:\n",
        "  all_sentences.append(i)\n",
        "\n",
        "for i in mensajes_A_val:\n",
        "  all_sentences.append(i)\n",
        "\n",
        "for i in mensajes_B_val:\n",
        "  all_sentences.append(i)\n",
        "\n",
        "for i in mensajes_A_test:\n",
        "  all_sentences.append(i)\n",
        "\n",
        "for i in mensajes_B_test:\n",
        "  all_sentences.append(i)"
      ],
      "execution_count": null,
      "outputs": []
    },
    {
      "cell_type": "code",
      "metadata": {
        "id": "ufVty-2b-HgP"
      },
      "source": [
        "model = Word2Vec(sentences=all_sentences, size = 300, window=5, min_count=1, workers=4)"
      ],
      "execution_count": null,
      "outputs": []
    },
    {
      "cell_type": "code",
      "metadata": {
        "id": "ArKJwkd_QK7p"
      },
      "source": [
        "def calcular_promedio(lista_frase):\n",
        "  lista_promedio = []\n",
        "  for i in range(len(lista_frase[0])):\n",
        "    suma = 0\n",
        "    for j in range(len(lista_frase)):\n",
        "      suma = suma + lista_frase[j][i]\n",
        "    suma = suma/len(lista_frase)\n",
        "    lista_promedio.append(suma)\n",
        "  return lista_promedio"
      ],
      "execution_count": null,
      "outputs": []
    },
    {
      "cell_type": "code",
      "metadata": {
        "id": "cf7draGtBua_"
      },
      "source": [
        "input_seq_A_train = []\n",
        "\n",
        "for i in range(len(mensajes_A_train)):\n",
        "  lista_frase = []\n",
        "  for j in range(len(mensajes_A_train[i])):\n",
        "    word = mensajes_A_train[i][j]\n",
        "    lista_frase.append(model.wv[word])\n",
        "  lista_agregar = [calcular_promedio(lista_frase)]\n",
        "  input_seq_A_train.append(lista_agregar)"
      ],
      "execution_count": null,
      "outputs": []
    },
    {
      "cell_type": "code",
      "metadata": {
        "id": "u4g8THoiSMk3"
      },
      "source": [
        "input_seq_B_train = []\n",
        "\n",
        "for i in range(len(mensajes_B_train)):\n",
        "  lista_frase = []\n",
        "  for j in range(len(mensajes_B_train[i])):\n",
        "    word = mensajes_B_train[i][j]\n",
        "    lista_frase.append(model.wv[word])\n",
        "  lista_agregar = [calcular_promedio(lista_frase)]\n",
        "  input_seq_B_train.append(lista_agregar)"
      ],
      "execution_count": null,
      "outputs": []
    },
    {
      "cell_type": "code",
      "metadata": {
        "id": "QDHCdvFHShpW"
      },
      "source": [
        "input_seq_A_val = []\n",
        "\n",
        "for i in range(len(mensajes_A_val)):\n",
        "  lista_frase = []\n",
        "  for j in range(len(mensajes_A_val[i])):\n",
        "    word = mensajes_A_val[i][j]\n",
        "    lista_frase.append(model.wv[word])\n",
        "  lista_agregar = [calcular_promedio(lista_frase)]\n",
        "  input_seq_A_val.append(lista_agregar)"
      ],
      "execution_count": null,
      "outputs": []
    },
    {
      "cell_type": "code",
      "metadata": {
        "id": "edwT8rnBSmZ-"
      },
      "source": [
        "input_seq_B_val = []\n",
        "\n",
        "for i in range(len(mensajes_B_val)):\n",
        "  lista_frase = []\n",
        "  for j in range(len(mensajes_B_val[i])):\n",
        "    word = mensajes_B_val[i][j]\n",
        "    lista_frase.append(model.wv[word])\n",
        "  lista_agregar = [calcular_promedio(lista_frase)]\n",
        "  input_seq_B_val.append(lista_agregar)"
      ],
      "execution_count": null,
      "outputs": []
    },
    {
      "cell_type": "code",
      "metadata": {
        "id": "V4ypHZyWSmdZ"
      },
      "source": [
        "input_seq_A_test = []\n",
        "\n",
        "for i in range(len(mensajes_A_test)):\n",
        "  lista_frase = []\n",
        "  for j in range(len(mensajes_A_test[i])):\n",
        "    word = mensajes_A_test[i][j]\n",
        "    lista_frase.append(model.wv[word])\n",
        "  lista_agregar = [calcular_promedio(lista_frase)]\n",
        "  input_seq_A_test.append(lista_agregar)"
      ],
      "execution_count": null,
      "outputs": []
    },
    {
      "cell_type": "code",
      "metadata": {
        "id": "80aQ7SCiS619"
      },
      "source": [
        "input_seq_B_test = []\n",
        "\n",
        "for i in range(len(mensajes_B_test)):\n",
        "  lista_frase = []\n",
        "  for j in range(len(mensajes_B_test[i])):\n",
        "    word = mensajes_B_test[i][j]\n",
        "    lista_frase.append(model.wv[word])\n",
        "  lista_agregar = [calcular_promedio(lista_frase)]\n",
        "  input_seq_B_test.append(lista_agregar)"
      ],
      "execution_count": null,
      "outputs": []
    },
    {
      "cell_type": "code",
      "metadata": {
        "id": "MT-PIkZfS649"
      },
      "source": [
        "input_seq_A_train = torch.tensor(input_seq_A_train, dtype = torch.float32)\n",
        "input_seq_B_train = torch.tensor(input_seq_B_train, dtype = torch.float32)\n",
        "\n",
        "input_seq_A_val = torch.tensor(input_seq_A_val, dtype = torch.float32)\n",
        "input_seq_B_val = torch.tensor(input_seq_B_val, dtype = torch.float32)\n",
        "\n",
        "input_seq_A_test = torch.tensor(input_seq_A_test, dtype = torch.float32)\n",
        "input_seq_B_test = torch.tensor(input_seq_B_test, dtype = torch.float32)"
      ],
      "execution_count": null,
      "outputs": []
    },
    {
      "cell_type": "code",
      "metadata": {
        "colab": {
          "base_uri": "https://localhost:8080/"
        },
        "id": "roC4scFaS67x",
        "outputId": "9e3f28d7-f8f6-421a-a754-549512b465c5"
      },
      "source": [
        "# torch.cuda.is_available() checks and returns a Boolean True if a GPU is available, else it'll return False\n",
        "is_cuda = torch.cuda.is_available()\n",
        "\n",
        "# If we have a GPU available, we'll set our device to GPU. We'll use this device variable later in our code.\n",
        "if is_cuda:\n",
        "    device = torch.device(\"cuda\")\n",
        "    print(\"GPU is available\")    \n",
        "else:\n",
        "    device = torch.device(\"cpu\")\n",
        "    print(\"GPU not available, CPU used\")"
      ],
      "execution_count": null,
      "outputs": [
        {
          "output_type": "stream",
          "text": [
            "GPU is available\n"
          ],
          "name": "stdout"
        }
      ]
    },
    {
      "cell_type": "code",
      "metadata": {
        "id": "Z_6XSsjbSmhx"
      },
      "source": [
        "input_seq_A_train = input_seq_A_train.to(device)\n",
        "input_seq_B_train = input_seq_B_train.to(device)\n",
        "\n",
        "input_seq_A_val = input_seq_A_val.to(device)\n",
        "input_seq_B_val = input_seq_B_val.to(device)\n",
        "\n",
        "input_seq_A_test = input_seq_A_test.to(device)\n",
        "input_seq_B_test = input_seq_B_test.to(device)"
      ],
      "execution_count": null,
      "outputs": []
    },
    {
      "cell_type": "code",
      "metadata": {
        "id": "fd5JlvUgb6nF"
      },
      "source": [
        "input_seq_train = torch.cat((input_seq_A_train, input_seq_B_train), 0)\n",
        "input_seq_val = torch.cat((input_seq_A_val, input_seq_B_val), 0)\n",
        "input_seq_test = torch.cat((input_seq_A_test, input_seq_B_test), 0)"
      ],
      "execution_count": null,
      "outputs": []
    },
    {
      "cell_type": "code",
      "metadata": {
        "id": "W2pPFZK-or16"
      },
      "source": [
        "# Como va del 1 al 5 el scores\n",
        "y_train = []\n",
        "\n",
        "for i in range(len(scores_train)):\n",
        "  valor = (scores_train[i] - 1)/4\n",
        "  y_train.append(valor)"
      ],
      "execution_count": null,
      "outputs": []
    },
    {
      "cell_type": "code",
      "metadata": {
        "id": "FUdkmX-Iz_QT"
      },
      "source": [
        "# Como va del 1 al 5 el scores\n",
        "y_val = []\n",
        "\n",
        "for i in range(len(scores_val)):\n",
        "  valor = (scores_val[i] - 1)/4\n",
        "  y_val.append(valor)"
      ],
      "execution_count": null,
      "outputs": []
    },
    {
      "cell_type": "code",
      "metadata": {
        "id": "SYF0cg9Z1V_5"
      },
      "source": [
        "# Como va del 1 al 5 el scores\n",
        "y_test = []\n",
        "\n",
        "for i in range(len(scores_test)):\n",
        "  valor = (scores_test[i] - 1)/4\n",
        "  y_test.append(valor)"
      ],
      "execution_count": null,
      "outputs": []
    },
    {
      "cell_type": "code",
      "metadata": {
        "id": "PQUdfQxEo7ez"
      },
      "source": [
        "def pair_rkg_loss(out_1, out_2, y, m):\n",
        "  total_loss = 0\n",
        "  total_loss = torch.tensor(total_loss)\n",
        "  total_loss.to(device)\n",
        "\n",
        "  for i in range(len(out_1)):\n",
        "    o_1 = out_1[i]\n",
        "    o_2 = out_2[i]\n",
        "\n",
        "    dist = torch.norm(o_1 - o_2)\n",
        "    \n",
        "    loss = y[i]*dist + (1-y[i])*max(0, (m-dist))\n",
        "\n",
        "    total_loss = total_loss + loss\n",
        "  \n",
        "  total_loss = total_loss/len(out_1)\n",
        "\n",
        "  return total_loss.to(device)"
      ],
      "execution_count": null,
      "outputs": []
    },
    {
      "cell_type": "code",
      "metadata": {
        "id": "ryTiE4TybR3E"
      },
      "source": [
        "class SIAMESE_model(nn.Module):\n",
        "    def __init__(self, input_size, hidden_dim, n_layers, device):\n",
        "        super(SIAMESE_model, self).__init__()\n",
        "\n",
        "        self.hidden_dim = hidden_dim\n",
        "        self.n_layers = n_layers\n",
        "\n",
        "        self.lstm_1 = nn.LSTM(input_size, hidden_dim, n_layers, batch_first=True)\n",
        "\n",
        "        self.lstm_2 = nn.LSTM(input_size, hidden_dim, n_layers, batch_first=True)\n",
        "\n",
        "        self.device = device\n",
        "    \n",
        "    def forward(self, x):\n",
        "        \n",
        "        batch_size = int(x.size(0)/2)\n",
        "\n",
        "        h_1 = self.init_hidden(batch_size)\n",
        "        c_1 = self.init_hidden(batch_size)\n",
        "\n",
        "        h_2 = self.init_hidden(batch_size)\n",
        "        c_2 = self.init_hidden(batch_size)\n",
        "\n",
        "        input_A = x[0:int(len(x)/2)]\n",
        "        input_B = x[int(len(x)/2): len(x)]\n",
        "\n",
        "        input_A.to(self.device)\n",
        "        input_B.to(self.device)\n",
        "\n",
        "        out_1, (h_1, c_1) = self.lstm_1(input_A, (h_1, c_1))\n",
        "\n",
        "        out_2, (h_2, c_2) = self.lstm_2(input_B, (h_2, c_2))\n",
        "        \n",
        "        return out_1.to(self.device), out_2.to(self.device), (h_1.to(self.device), c_1.to(self.device)), (h_2.to(self.device), c_2.to(self.device))\n",
        "    \n",
        "    def init_hidden(self, batch_size):\n",
        "        hidden = torch.zeros((self.n_layers, batch_size, self.hidden_dim))\n",
        "        return hidden.to(self.device)"
      ],
      "execution_count": null,
      "outputs": []
    },
    {
      "cell_type": "code",
      "metadata": {
        "id": "CP8TAt4zvajT"
      },
      "source": [
        "def regresion_mse(out_1, out_2, score):\n",
        "  distancias = []\n",
        "  z = []\n",
        "  for i in range(len(out_1)):\n",
        "    x_A = out_1[i]\n",
        "    x_B = out_2[i]\n",
        "    dist = torch.norm(x_A-x_B)\n",
        "    distancias.append(dist)\n",
        "    z.append(math.exp(-dist))\n",
        "\n",
        "  z = np.array(z).reshape(-1,1)\n",
        "\n",
        "  regresion_lineal = LinearRegression()\n",
        "  regresion_lineal.fit(z, np.array(score))\n",
        "\n",
        "  alpha = regresion_lineal.coef_[0]\n",
        "  beta = regresion_lineal.intercept_\n",
        "\n",
        "  mse = 0\n",
        "  mabs = 0\n",
        "\n",
        "  for i in range(len(z)):\n",
        "    pred = alpha*z[i] + beta\n",
        "    real = score[i]\n",
        "    mse_iter = (real-pred)**2\n",
        "    mse = mse + mse_iter\n",
        "    mabs_iter = abs(real-pred)\n",
        "    mabs = mabs + mabs_iter\n",
        "  \n",
        "  mabs = mabs/len(z)\n",
        "  mse = mse/len(z)\n",
        "\n",
        "  return mse, mabs, alpha, beta"
      ],
      "execution_count": null,
      "outputs": []
    },
    {
      "cell_type": "code",
      "metadata": {
        "id": "kYiQH9wigKbC"
      },
      "source": [
        "def regresion_mse_dado(out_1, out_2, score, alpha, beta):\n",
        "  \n",
        "  distancias = []\n",
        "  z = []\n",
        "\n",
        "  for i in range(len(out_1)):\n",
        "    x_A = out_1[i]\n",
        "    x_B = out_2[i]\n",
        "    dist = torch.norm(x_A-x_B)\n",
        "    distancias.append(dist)\n",
        "    z.append(math.exp(-dist))\n",
        "\n",
        "  z = np.array(z).reshape(-1,1)\n",
        "\n",
        "  mse = 0\n",
        "  mabs = 0\n",
        "\n",
        "  for i in range(len(z)):\n",
        "    pred = alpha*z[i] + beta\n",
        "    real = score[i]\n",
        "    mse_iter = (real-pred)**2\n",
        "    mse = mse + mse_iter\n",
        "    mabs_iter = abs(real-pred)\n",
        "    mabs = mabs + mabs_iter\n",
        "  \n",
        "  mabs = mabs/len(z)\n",
        "  mse = mse/len(z)\n",
        "\n",
        "  return mse, mabs"
      ],
      "execution_count": null,
      "outputs": []
    },
    {
      "cell_type": "code",
      "metadata": {
        "id": "DtbAeF5pbR5r"
      },
      "source": [
        "model = SIAMESE_model(300, 50, 1, device)\n",
        "model.to(device)\n",
        "\n",
        "n_epochs = 100\n",
        "lr = 0.01\n",
        "m = 5  \n",
        "\n",
        "optimizer = torch.optim.Adam(model.parameters(), lr=lr)"
      ],
      "execution_count": null,
      "outputs": []
    },
    {
      "cell_type": "markdown",
      "metadata": {
        "id": "7REdzn4nYWYw"
      },
      "source": [
        "## Reporte de numero de parametros"
      ]
    },
    {
      "cell_type": "code",
      "metadata": {
        "id": "wcYfHnPJYVsB"
      },
      "source": [
        "def num_trainable_parameters(model):\n",
        "  return sum(p.numel() for p in model.parameters() if p.requires_grad)"
      ],
      "execution_count": null,
      "outputs": []
    },
    {
      "cell_type": "code",
      "metadata": {
        "id": "sQTBN9IjXieO"
      },
      "source": [
        "nro_param = num_trainable_parameters(model)"
      ],
      "execution_count": null,
      "outputs": []
    },
    {
      "cell_type": "code",
      "metadata": {
        "colab": {
          "base_uri": "https://localhost:8080/"
        },
        "id": "PtZjOU-1YfJ_",
        "outputId": "eb7c3426-9e85-4967-e8fc-965e412a29e4"
      },
      "source": [
        "nro_param"
      ],
      "execution_count": null,
      "outputs": [
        {
          "output_type": "execute_result",
          "data": {
            "text/plain": [
              "140800"
            ]
          },
          "metadata": {
            "tags": []
          },
          "execution_count": 37
        }
      ]
    },
    {
      "cell_type": "markdown",
      "metadata": {
        "id": "n7B3ZHfoYliz"
      },
      "source": [
        "El **numero de parametros** que tiene el modelo es $140.800$. "
      ]
    },
    {
      "cell_type": "markdown",
      "metadata": {
        "id": "5McAML_8ZB-B"
      },
      "source": [
        "# Actividad 7:"
      ]
    },
    {
      "cell_type": "code",
      "metadata": {
        "id": "PBwwJaq-hBji"
      },
      "source": [
        "model = SIAMESE_model(300, 50, 1, device)\n",
        "model.to(device)\n",
        "\n",
        "n_epochs = 100\n",
        "lr = 0.01\n",
        "m = 5  \n",
        "\n",
        "optimizer = torch.optim.Adam(model.parameters(), lr=lr)"
      ],
      "execution_count": null,
      "outputs": []
    },
    {
      "cell_type": "code",
      "metadata": {
        "colab": {
          "base_uri": "https://localhost:8080/"
        },
        "id": "UpxXMBzbYgFI",
        "outputId": "b97fe15e-417b-48da-b61c-f7bfae3b818c"
      },
      "source": [
        "# Entrenamiento\n",
        "\n",
        "epocas_totales = []\n",
        "\n",
        "loss_train_totales = []\n",
        "loss_val_totales = []\n",
        "\n",
        "prec_train = []\n",
        "prec_val = []\n",
        "\n",
        "for epoch in range(1, n_epochs + 1):\n",
        "\n",
        "  start = time.time()\n",
        "\n",
        "  model.train()\n",
        "\n",
        "  optimizer.zero_grad() # Clears existing gradients from previous epoch\n",
        "\n",
        "  out_1, out_2, _, _ = model(input_seq_train)\n",
        "\n",
        "  loss_train = pair_rkg_loss(out_1, out_2, y_train, m)\n",
        "\n",
        "  loss_train.backward() # Does backpropagation and calculates gradients\n",
        "\n",
        "  reg_train = regresion_mse(out_1, out_2, scores_train)\n",
        "\n",
        "  prec_train_epoch = reg_train[0:2]\n",
        "\n",
        "  alpha_train = reg_train[2]\n",
        "  beta_train = reg_train[3]\n",
        "\n",
        "  #------------------------------\n",
        "\n",
        "  for w1, w2 in zip(model.lstm_1.parameters(), model.lstm_2.parameters()):\n",
        "    w1.grad.data.add_(w2.grad.data)\n",
        "    w2.grad = None\n",
        "\n",
        "  #------------------------------\n",
        "\n",
        "  optimizer.step() # Updates the weights accordingly\n",
        "\n",
        "  #------------------------------\n",
        "\n",
        "  for w1, w2 in zip(model.lstm_1.parameters(), model.lstm_2.parameters()):\n",
        "    w2.data.copy_(w1.data)\n",
        "\n",
        "  #------------------------------\n",
        "\n",
        "  model.eval()\n",
        "\n",
        "  out_1_val, out_2_val, _, _ = model(input_seq_val)\n",
        "  loss_val = pair_rkg_loss(out_1_val, out_2_val, y_val, m)\n",
        "\n",
        "  prec_val_epoch = regresion_mse_dado(out_1_val, out_2_val, scores_val, alpha_train, beta_train)\n",
        "\n",
        "  epocas_totales.append(epoch)\n",
        "\n",
        "  prec_train.append(prec_train_epoch)\n",
        "  prec_val.append(prec_val_epoch)\n",
        "\n",
        "  loss_train_totales.append(loss_train)\n",
        "  loss_val_totales.append(loss_val)\n",
        "\n",
        "  end = time.time()\n",
        "\n",
        "  print('Epoch: {}/{}.............'.format(epoch, n_epochs), end=' ')\n",
        "  print(\"Loss Train Epoch: {:.4f}.............\".format(loss_train.item()), end =' ')\n",
        "  print(\"Time Epoch: {}\".format(end-start))  "
      ],
      "execution_count": null,
      "outputs": [
        {
          "output_type": "stream",
          "text": [
            "Epoch: 1/100............. Loss Train Epoch: 2.0040............. Time Epoch: 1.9179949760437012\n",
            "Epoch: 2/100............. Loss Train Epoch: 1.8614............. Time Epoch: 1.8862473964691162\n",
            "Epoch: 3/100............. Loss Train Epoch: 1.8587............. Time Epoch: 1.8839263916015625\n",
            "Epoch: 4/100............. Loss Train Epoch: 1.8582............. Time Epoch: 1.8371517658233643\n",
            "Epoch: 5/100............. Loss Train Epoch: 1.8582............. Time Epoch: 1.8444664478302002\n",
            "Epoch: 6/100............. Loss Train Epoch: 1.8581............. Time Epoch: 1.898960828781128\n",
            "Epoch: 7/100............. Loss Train Epoch: 1.8579............. Time Epoch: 1.8960168361663818\n",
            "Epoch: 8/100............. Loss Train Epoch: 1.8576............. Time Epoch: 1.8660523891448975\n",
            "Epoch: 9/100............. Loss Train Epoch: 1.8574............. Time Epoch: 1.8660857677459717\n",
            "Epoch: 10/100............. Loss Train Epoch: 1.8571............. Time Epoch: 1.8682067394256592\n",
            "Epoch: 11/100............. Loss Train Epoch: 1.8569............. Time Epoch: 1.8821680545806885\n",
            "Epoch: 12/100............. Loss Train Epoch: 1.8567............. Time Epoch: 1.8587899208068848\n",
            "Epoch: 13/100............. Loss Train Epoch: 1.8566............. Time Epoch: 1.8593120574951172\n",
            "Epoch: 14/100............. Loss Train Epoch: 1.8564............. Time Epoch: 1.8716199398040771\n",
            "Epoch: 15/100............. Loss Train Epoch: 1.8562............. Time Epoch: 1.8955590724945068\n",
            "Epoch: 16/100............. Loss Train Epoch: 1.8559............. Time Epoch: 1.8915858268737793\n",
            "Epoch: 17/100............. Loss Train Epoch: 1.8557............. Time Epoch: 1.9049279689788818\n",
            "Epoch: 18/100............. Loss Train Epoch: 1.8555............. Time Epoch: 1.8772783279418945\n",
            "Epoch: 19/100............. Loss Train Epoch: 1.8552............. Time Epoch: 1.87286376953125\n",
            "Epoch: 20/100............. Loss Train Epoch: 1.8550............. Time Epoch: 1.8890655040740967\n",
            "Epoch: 21/100............. Loss Train Epoch: 1.8547............. Time Epoch: 1.867311954498291\n",
            "Epoch: 22/100............. Loss Train Epoch: 1.8545............. Time Epoch: 1.88277006149292\n",
            "Epoch: 23/100............. Loss Train Epoch: 1.8542............. Time Epoch: 1.8594486713409424\n",
            "Epoch: 24/100............. Loss Train Epoch: 1.8539............. Time Epoch: 1.8645236492156982\n",
            "Epoch: 25/100............. Loss Train Epoch: 1.8536............. Time Epoch: 1.8779006004333496\n",
            "Epoch: 26/100............. Loss Train Epoch: 1.8534............. Time Epoch: 1.846928358078003\n",
            "Epoch: 27/100............. Loss Train Epoch: 1.8531............. Time Epoch: 1.8451025485992432\n",
            "Epoch: 28/100............. Loss Train Epoch: 1.8529............. Time Epoch: 1.8506379127502441\n",
            "Epoch: 29/100............. Loss Train Epoch: 1.8527............. Time Epoch: 1.8898553848266602\n",
            "Epoch: 30/100............. Loss Train Epoch: 1.8525............. Time Epoch: 1.8698441982269287\n",
            "Epoch: 31/100............. Loss Train Epoch: 1.8522............. Time Epoch: 1.873199224472046\n",
            "Epoch: 32/100............. Loss Train Epoch: 1.8520............. Time Epoch: 1.8709349632263184\n",
            "Epoch: 33/100............. Loss Train Epoch: 1.8518............. Time Epoch: 1.8933014869689941\n",
            "Epoch: 34/100............. Loss Train Epoch: 1.8515............. Time Epoch: 1.8688409328460693\n",
            "Epoch: 35/100............. Loss Train Epoch: 1.8513............. Time Epoch: 1.8476402759552002\n",
            "Epoch: 36/100............. Loss Train Epoch: 1.8510............. Time Epoch: 1.84619140625\n",
            "Epoch: 37/100............. Loss Train Epoch: 1.8507............. Time Epoch: 1.8626422882080078\n",
            "Epoch: 38/100............. Loss Train Epoch: 1.8504............. Time Epoch: 1.8523719310760498\n",
            "Epoch: 39/100............. Loss Train Epoch: 1.8501............. Time Epoch: 1.888023853302002\n",
            "Epoch: 40/100............. Loss Train Epoch: 1.8498............. Time Epoch: 1.865722417831421\n",
            "Epoch: 41/100............. Loss Train Epoch: 1.8495............. Time Epoch: 1.8907885551452637\n",
            "Epoch: 42/100............. Loss Train Epoch: 1.8492............. Time Epoch: 1.8781650066375732\n",
            "Epoch: 43/100............. Loss Train Epoch: 1.8489............. Time Epoch: 1.8681440353393555\n",
            "Epoch: 44/100............. Loss Train Epoch: 1.8486............. Time Epoch: 1.8948915004730225\n",
            "Epoch: 45/100............. Loss Train Epoch: 1.8483............. Time Epoch: 1.8762750625610352\n",
            "Epoch: 46/100............. Loss Train Epoch: 1.8480............. Time Epoch: 1.8829169273376465\n",
            "Epoch: 47/100............. Loss Train Epoch: 1.8478............. Time Epoch: 1.8616993427276611\n",
            "Epoch: 48/100............. Loss Train Epoch: 1.8475............. Time Epoch: 1.8590924739837646\n",
            "Epoch: 49/100............. Loss Train Epoch: 1.8472............. Time Epoch: 1.8747973442077637\n",
            "Epoch: 50/100............. Loss Train Epoch: 1.8469............. Time Epoch: 1.918881893157959\n",
            "Epoch: 51/100............. Loss Train Epoch: 1.8467............. Time Epoch: 1.8577368259429932\n",
            "Epoch: 52/100............. Loss Train Epoch: 1.8464............. Time Epoch: 1.8827285766601562\n",
            "Epoch: 53/100............. Loss Train Epoch: 1.8462............. Time Epoch: 1.8755412101745605\n",
            "Epoch: 54/100............. Loss Train Epoch: 1.8460............. Time Epoch: 1.849461317062378\n",
            "Epoch: 55/100............. Loss Train Epoch: 1.8457............. Time Epoch: 1.8927650451660156\n",
            "Epoch: 56/100............. Loss Train Epoch: 1.8455............. Time Epoch: 1.8811392784118652\n",
            "Epoch: 57/100............. Loss Train Epoch: 1.8453............. Time Epoch: 1.8892779350280762\n",
            "Epoch: 58/100............. Loss Train Epoch: 1.8451............. Time Epoch: 1.8565561771392822\n",
            "Epoch: 59/100............. Loss Train Epoch: 1.8449............. Time Epoch: 1.846301555633545\n",
            "Epoch: 60/100............. Loss Train Epoch: 1.8447............. Time Epoch: 1.8570895195007324\n",
            "Epoch: 61/100............. Loss Train Epoch: 1.8445............. Time Epoch: 1.8709120750427246\n",
            "Epoch: 62/100............. Loss Train Epoch: 1.8443............. Time Epoch: 1.8763620853424072\n",
            "Epoch: 63/100............. Loss Train Epoch: 1.8441............. Time Epoch: 1.8653461933135986\n",
            "Epoch: 64/100............. Loss Train Epoch: 1.8440............. Time Epoch: 1.879845142364502\n",
            "Epoch: 65/100............. Loss Train Epoch: 1.8438............. Time Epoch: 1.874194860458374\n",
            "Epoch: 66/100............. Loss Train Epoch: 1.8437............. Time Epoch: 1.8793542385101318\n",
            "Epoch: 67/100............. Loss Train Epoch: 1.8435............. Time Epoch: 1.8774168491363525\n",
            "Epoch: 68/100............. Loss Train Epoch: 1.8434............. Time Epoch: 1.8662083148956299\n",
            "Epoch: 69/100............. Loss Train Epoch: 1.8432............. Time Epoch: 1.8738038539886475\n",
            "Epoch: 70/100............. Loss Train Epoch: 1.8431............. Time Epoch: 1.8681490421295166\n",
            "Epoch: 71/100............. Loss Train Epoch: 1.8430............. Time Epoch: 1.8659732341766357\n",
            "Epoch: 72/100............. Loss Train Epoch: 1.8428............. Time Epoch: 1.8703198432922363\n",
            "Epoch: 73/100............. Loss Train Epoch: 1.8427............. Time Epoch: 1.8637800216674805\n",
            "Epoch: 74/100............. Loss Train Epoch: 1.8426............. Time Epoch: 1.8380467891693115\n",
            "Epoch: 75/100............. Loss Train Epoch: 1.8425............. Time Epoch: 1.8565385341644287\n",
            "Epoch: 76/100............. Loss Train Epoch: 1.8424............. Time Epoch: 1.858487606048584\n",
            "Epoch: 77/100............. Loss Train Epoch: 1.8422............. Time Epoch: 1.865602970123291\n",
            "Epoch: 78/100............. Loss Train Epoch: 1.8421............. Time Epoch: 1.8647770881652832\n",
            "Epoch: 79/100............. Loss Train Epoch: 1.8420............. Time Epoch: 1.8499367237091064\n",
            "Epoch: 80/100............. Loss Train Epoch: 1.8419............. Time Epoch: 1.8790333271026611\n",
            "Epoch: 81/100............. Loss Train Epoch: 1.8418............. Time Epoch: 1.8612513542175293\n",
            "Epoch: 82/100............. Loss Train Epoch: 1.8417............. Time Epoch: 1.8586969375610352\n",
            "Epoch: 83/100............. Loss Train Epoch: 1.8416............. Time Epoch: 1.8953588008880615\n",
            "Epoch: 84/100............. Loss Train Epoch: 1.8415............. Time Epoch: 1.876641035079956\n",
            "Epoch: 85/100............. Loss Train Epoch: 1.8414............. Time Epoch: 1.9073071479797363\n",
            "Epoch: 86/100............. Loss Train Epoch: 1.8414............. Time Epoch: 1.9044725894927979\n",
            "Epoch: 87/100............. Loss Train Epoch: 1.8413............. Time Epoch: 1.8832931518554688\n",
            "Epoch: 88/100............. Loss Train Epoch: 1.8412............. Time Epoch: 1.9312629699707031\n",
            "Epoch: 89/100............. Loss Train Epoch: 1.8411............. Time Epoch: 1.9006037712097168\n",
            "Epoch: 90/100............. Loss Train Epoch: 1.8410............. Time Epoch: 1.8893702030181885\n",
            "Epoch: 91/100............. Loss Train Epoch: 1.8409............. Time Epoch: 1.8648853302001953\n",
            "Epoch: 92/100............. Loss Train Epoch: 1.8409............. Time Epoch: 1.878361701965332\n",
            "Epoch: 93/100............. Loss Train Epoch: 1.8408............. Time Epoch: 1.8740973472595215\n",
            "Epoch: 94/100............. Loss Train Epoch: 1.8407............. Time Epoch: 1.8916521072387695\n",
            "Epoch: 95/100............. Loss Train Epoch: 1.8407............. Time Epoch: 1.899653434753418\n",
            "Epoch: 96/100............. Loss Train Epoch: 1.8406............. Time Epoch: 1.874741792678833\n",
            "Epoch: 97/100............. Loss Train Epoch: 1.8405............. Time Epoch: 1.8739266395568848\n",
            "Epoch: 98/100............. Loss Train Epoch: 1.8405............. Time Epoch: 1.8549413681030273\n",
            "Epoch: 99/100............. Loss Train Epoch: 1.8404............. Time Epoch: 1.8761827945709229\n",
            "Epoch: 100/100............. Loss Train Epoch: 1.8403............. Time Epoch: 1.905027151107788\n"
          ],
          "name": "stdout"
        }
      ]
    },
    {
      "cell_type": "markdown",
      "metadata": {
        "id": "JcfwKFL7h3Q8"
      },
      "source": [
        "**Función de perdida en función de las epocas**"
      ]
    },
    {
      "cell_type": "code",
      "metadata": {
        "colab": {
          "base_uri": "https://localhost:8080/",
          "height": 428
        },
        "id": "fjN96SFhagJE",
        "outputId": "5386693b-e115-447d-96f7-b2db276ea9fa"
      },
      "source": [
        "plt.figure(figsize=(10,7))\n",
        "\n",
        "plt.plot(epocas_totales, loss_train_totales, color = \"red\")\n",
        "plt.plot(epocas_totales, loss_val_totales, color = \"blue\")\n",
        "plt.legend(['Perdida de Entrenamiento', 'Perdida de Validación'], loc='upper left')\n",
        "\n",
        "plt.show()"
      ],
      "execution_count": null,
      "outputs": [
        {
          "output_type": "display_data",
          "data": {
            "image/png": "[encoded data removed]",
            "text/plain": [
              "<Figure size 720x504 with 1 Axes>"
            ]
          },
          "metadata": {
            "tags": [],
            "needs_background": "light"
          }
        }
      ]
    },
    {
      "cell_type": "markdown",
      "metadata": {
        "id": "82Xqz-4Ah8ld"
      },
      "source": [
        "$ \\underline{Comentario: } $ Notemos que la función de perdida tanto en el set de entrenamiento como en el set de validación van disminuyendo constantemente a medida que avanzan las epocas, lo que nos habla de que el modelo se esta **ajustando bien** y sin **overfitting**.\n",
        "\n",
        "La razón del porque la perdida en el set de entrenamienamiento es mayor que en el set de validación es porque como se define la función de perdida, sabemos que si los $y^{(i)}$ son pequeños, entonces el termino $ max \\lbrace{ 0, m - \\norm{f(I_1) - f(I_2)} \\rbrace} $ tiene mayor importancia, mientras que si los $ y^{(i)}$ son grandes, entonces el termino $ \\norm{f(I_1)-f(I_2)} $ tiene mayor importancia. Y en el set de validación tenemos valores de $ y^{(i)} $ más grandes, por ende, el set de validación tiene función de perdida más pequeña y el de entrenamiento una perdida más grande.  Lo importante a observar es que ambas perdidas deben ir decreciendo a medida que pasan las epocas, lo cual ocurre."
      ]
    },
    {
      "cell_type": "markdown",
      "metadata": {
        "id": "uy4q5qu1kGzM"
      },
      "source": [
        "**Precisión (MSE) en función de las epocas**"
      ]
    },
    {
      "cell_type": "code",
      "metadata": {
        "colab": {
          "base_uri": "https://localhost:8080/",
          "height": 428
        },
        "id": "uBtuNVNNbqKk",
        "outputId": "508e0128-5407-4f8c-8d75-7089109998f7"
      },
      "source": [
        "plt.figure(figsize=(10,7))\n",
        "\n",
        "plt.plot(epocas_totales[0:], np.array(prec_train)[:, 0], color = \"red\")\n",
        "plt.plot(epocas_totales[0:], np.array(prec_val)[:, 0], color = \"blue\")\n",
        "plt.legend(['Precisión de Entrenamiento mse', 'Precisión de Validación mse'], loc='upper left')\n",
        "\n",
        "plt.show()"
      ],
      "execution_count": null,
      "outputs": [
        {
          "output_type": "display_data",
          "data": {
            "image/png": "[encoded data removed]",
            "text/plain": [
              "<Figure size 720x504 with 1 Axes>"
            ]
          },
          "metadata": {
            "tags": [],
            "needs_background": "light"
          }
        }
      ]
    },
    {
      "cell_type": "markdown",
      "metadata": {
        "id": "b49mgHq0jlPV"
      },
      "source": [
        "$ \\underline{Comentario: } $ Notemos que la precisión definida como **MSE** (perdida cuadratica) tanto en el set de validación como en el set de entrenamiento van disminuyendo a medida que pasan las epocas los cuales nos habla muy bien del ajuste que esta realizando. \\\\\n",
        "\n",
        "$ \\\\ $ \n",
        "\n",
        "Además como la perdida cuadratica es menor que 1, sabemos que en promedio la predicción esta teniendo un error al cuadrado de menos de 1 unidad para scores que van desde el 1 hasta el 5, lo cual a nuestro criterio es algo **muy bueno**. "
      ]
    },
    {
      "cell_type": "markdown",
      "metadata": {
        "id": "JVktgGqIkPkG"
      },
      "source": [
        "**Precisión (ABS) en función de las epocas**"
      ]
    },
    {
      "cell_type": "code",
      "metadata": {
        "colab": {
          "base_uri": "https://localhost:8080/",
          "height": 428
        },
        "id": "9oi5tPaukPkH",
        "outputId": "626f5557-56b9-4e8a-9fb2-9a82f0b45f80"
      },
      "source": [
        "plt.figure(figsize=(10,7))\n",
        "\n",
        "plt.plot(epocas_totales[0:], np.array(prec_train)[:, 1], color = \"red\")\n",
        "plt.plot(epocas_totales[0:], np.array(prec_val)[:, 1], color = \"blue\")\n",
        "plt.legend(['Precisión de Entrenamiento abs', 'Precisión de Validación abs'], loc='upper left')\n",
        "\n",
        "plt.show()"
      ],
      "execution_count": null,
      "outputs": [
        {
          "output_type": "display_data",
          "data": {
            "image/png": "[encoded data removed]",
            "text/plain": [
              "<Figure size 720x504 with 1 Axes>"
            ]
          },
          "metadata": {
            "tags": [],
            "needs_background": "light"
          }
        }
      ]
    },
    {
      "cell_type": "markdown",
      "metadata": {
        "id": "ghim4afJkPkI"
      },
      "source": [
        "$ \\underline{Comentario: } $ Notemos que la precisión definida como **ABS** (perdida valor absoluto) tanto en el set de validación como en el set de entrenamiento van disminuyendo a medida que pasan las epocas los cuales nos hablan muy bien del ajuste que esta realizando. \\\\\n",
        "\n",
        "Además como la perdida en valor absoluto es menor que 1 (0.8 aprox), sabemos que la predicción se esta equivocando en 0.8 unidades para scores que van desde el 1 hasta el 5, tanto para el set de entranamiento como para el set de validación lo cual a nuestro criterio es algo **muy bueno**. "
      ]
    },
    {
      "cell_type": "markdown",
      "metadata": {
        "id": "eKfDlQoWlGPT"
      },
      "source": [
        "**Reporte de Precisión en el TEST SET**"
      ]
    },
    {
      "cell_type": "code",
      "metadata": {
        "id": "fZIgErAVkPAT"
      },
      "source": [
        "out_1_test, out_2_test, _, _ = model(input_seq_test)\n",
        "prec_test_epoch = regresion_mse_dado(out_1_test, out_2_test, scores_test, alpha_train, beta_train)"
      ],
      "execution_count": null,
      "outputs": []
    },
    {
      "cell_type": "code",
      "metadata": {
        "colab": {
          "base_uri": "https://localhost:8080/"
        },
        "id": "5DxW9wV6kPCy",
        "outputId": "e64c79f9-d463-428d-9e9b-f0f38b776d50"
      },
      "source": [
        "prec_test_epoch[0][0]"
      ],
      "execution_count": null,
      "outputs": [
        {
          "output_type": "execute_result",
          "data": {
            "text/plain": [
              "0.8902758618966022"
            ]
          },
          "metadata": {
            "tags": []
          },
          "execution_count": 44
        }
      ]
    },
    {
      "cell_type": "code",
      "metadata": {
        "colab": {
          "base_uri": "https://localhost:8080/"
        },
        "id": "nc1XxqmTkPFH",
        "outputId": "9fd5f25e-2fdc-4a9d-da1e-513447c63ba9"
      },
      "source": [
        "prec_test_epoch[1][0]"
      ],
      "execution_count": null,
      "outputs": [
        {
          "output_type": "execute_result",
          "data": {
            "text/plain": [
              "0.7565158684884055"
            ]
          },
          "metadata": {
            "tags": []
          },
          "execution_count": 45
        }
      ]
    },
    {
      "cell_type": "markdown",
      "metadata": {
        "id": "PIq3OrxEmVD0"
      },
      "source": [
        "**Precisión MSE en el test set:** $ 0.89$\n",
        "\n",
        "$ \\\\ $ \n",
        "**Precisión ABS en el test set:** $ 0.76$"
      ]
    },
    {
      "cell_type": "markdown",
      "metadata": {
        "id": "tsWpvBllmwM1"
      },
      "source": [
        "$ \\underline{Comentario: } $ Notemos que la precisión MSE y ABS son muy similares a los valores obtenidos tanto en el train set como en el val set lo cual nos habla muy bien en el sentido de que **no hay overfitting** y que además la precisión es muy buena teniendo errores promedio tanto al cuadrado como absolutos menores a 1 en scores que van desde el 1 hasta el 5. "
      ]
    },
    {
      "cell_type": "markdown",
      "metadata": {
        "id": "tViv7jGRnELW"
      },
      "source": [
        "**Guardar resultados del entrenamiento**"
      ]
    },
    {
      "cell_type": "code",
      "metadata": {
        "id": "DLoEZlGMd18k"
      },
      "source": [
        "resultado_1_train = out_1\n",
        "resultado_2_train = out_2"
      ],
      "execution_count": null,
      "outputs": []
    },
    {
      "cell_type": "markdown",
      "metadata": {
        "id": "KBh8pDc0nK-d"
      },
      "source": [
        "# 2.3 Aumento de datos"
      ]
    },
    {
      "cell_type": "markdown",
      "metadata": {
        "id": "--BJo4yn2lga"
      },
      "source": [
        "# Actividad 8:"
      ]
    },
    {
      "cell_type": "markdown",
      "metadata": {
        "id": "kv5HTeeM2Hln"
      },
      "source": [
        "La tecnica que seleccionamos para realizar data agumentation fue la de traducir de un idioma a otro y luego traducir de vuelta. \\\\\n",
        "\n",
        "Para lograr esto utilizamos la libreria: $ \\texttt{translate} $. \\\\\n",
        "\n",
        "Los idiomas que utilizamos fueron español e ingles, y el proceso se realizo de la siguiente forma:\n",
        "\n",
        "1. Primero hicimos for por el tamaño del training dataset. Y así para cada oración A y oración B del dataset de entrenamiento tradujimos las oraciones a español y luego de español a inglés. Y agregamos al nuevo dataset tanto las oraciones A y B originales como las que se obtuvieron post traducción de ida y vuelta.\n",
        "\n",
        "2. Los scores asociados se mantuvieron, pues el score de relación no debería variar. Es así como a la lista de scores, se agrego dos veces el score correspondiente. \n",
        "\n",
        "3. El largo resultante del dataset fue de: $ 8.878 $."
      ]
    },
    {
      "cell_type": "code",
      "metadata": {
        "colab": {
          "base_uri": "https://localhost:8080/"
        },
        "id": "50cYleSh5UsM",
        "outputId": "b1880884-94d0-4b00-bbfc-ac3783335777"
      },
      "source": [
        "pip install translate"
      ],
      "execution_count": null,
      "outputs": [
        {
          "output_type": "stream",
          "text": [
            "Requirement already satisfied: translate in /usr/local/lib/python3.7/dist-packages (3.5.0)\n",
            "Requirement already satisfied: tox in /usr/local/lib/python3.7/dist-packages (from translate) (3.23.1)\n",
            "Requirement already satisfied: requests in /usr/local/lib/python3.7/dist-packages (from translate) (2.23.0)\n",
            "Requirement already satisfied: lxml in /usr/local/lib/python3.7/dist-packages (from translate) (4.2.6)\n",
            "Requirement already satisfied: pre-commit in /usr/local/lib/python3.7/dist-packages (from translate) (2.13.0)\n",
            "Requirement already satisfied: click in /usr/local/lib/python3.7/dist-packages (from translate) (7.1.2)\n",
            "Requirement already satisfied: filelock>=3.0.0 in /usr/local/lib/python3.7/dist-packages (from tox->translate) (3.0.12)\n",
            "Requirement already satisfied: six>=1.14.0 in /usr/local/lib/python3.7/dist-packages (from tox->translate) (1.15.0)\n",
            "Requirement already satisfied: py>=1.4.17 in /usr/local/lib/python3.7/dist-packages (from tox->translate) (1.10.0)\n",
            "Requirement already satisfied: pluggy>=0.12.0 in /usr/local/lib/python3.7/dist-packages (from tox->translate) (0.13.1)\n",
            "Requirement already satisfied: virtualenv!=20.0.0,!=20.0.1,!=20.0.2,!=20.0.3,!=20.0.4,!=20.0.5,!=20.0.6,!=20.0.7,>=16.0.0 in /usr/local/lib/python3.7/dist-packages (from tox->translate) (20.4.7)\n",
            "Requirement already satisfied: packaging>=14 in /usr/local/lib/python3.7/dist-packages (from tox->translate) (20.9)\n",
            "Requirement already satisfied: toml>=0.9.4 in /usr/local/lib/python3.7/dist-packages (from tox->translate) (0.10.2)\n",
            "Requirement already satisfied: importlib-metadata>=0.12; python_version < \"3.8\" in /usr/local/lib/python3.7/dist-packages (from tox->translate) (4.0.1)\n",
            "Requirement already satisfied: idna<3,>=2.5 in /usr/local/lib/python3.7/dist-packages (from requests->translate) (2.10)\n",
            "Requirement already satisfied: chardet<4,>=3.0.2 in /usr/local/lib/python3.7/dist-packages (from requests->translate) (3.0.4)\n",
            "Requirement already satisfied: urllib3!=1.25.0,!=1.25.1,<1.26,>=1.21.1 in /usr/local/lib/python3.7/dist-packages (from requests->translate) (1.24.3)\n",
            "Requirement already satisfied: certifi>=2017.4.17 in /usr/local/lib/python3.7/dist-packages (from requests->translate) (2020.12.5)\n",
            "Requirement already satisfied: nodeenv>=0.11.1 in /usr/local/lib/python3.7/dist-packages (from pre-commit->translate) (1.6.0)\n",
            "Requirement already satisfied: identify>=1.0.0 in /usr/local/lib/python3.7/dist-packages (from pre-commit->translate) (2.2.9)\n",
            "Requirement already satisfied: cfgv>=2.0.0 in /usr/local/lib/python3.7/dist-packages (from pre-commit->translate) (3.3.0)\n",
            "Requirement already satisfied: pyyaml>=5.1 in /usr/local/lib/python3.7/dist-packages (from pre-commit->translate) (5.4.1)\n",
            "Requirement already satisfied: distlib<1,>=0.3.1 in /usr/local/lib/python3.7/dist-packages (from virtualenv!=20.0.0,!=20.0.1,!=20.0.2,!=20.0.3,!=20.0.4,!=20.0.5,!=20.0.6,!=20.0.7,>=16.0.0->tox->translate) (0.3.2)\n",
            "Requirement already satisfied: appdirs<2,>=1.4.3 in /usr/local/lib/python3.7/dist-packages (from virtualenv!=20.0.0,!=20.0.1,!=20.0.2,!=20.0.3,!=20.0.4,!=20.0.5,!=20.0.6,!=20.0.7,>=16.0.0->tox->translate) (1.4.4)\n",
            "Requirement already satisfied: pyparsing>=2.0.2 in /usr/local/lib/python3.7/dist-packages (from packaging>=14->tox->translate) (2.4.7)\n",
            "Requirement already satisfied: zipp>=0.5 in /usr/local/lib/python3.7/dist-packages (from importlib-metadata>=0.12; python_version < \"3.8\"->tox->translate) (3.4.1)\n",
            "Requirement already satisfied: typing-extensions>=3.6.4; python_version < \"3.8\" in /usr/local/lib/python3.7/dist-packages (from importlib-metadata>=0.12; python_version < \"3.8\"->tox->translate) (3.7.4.3)\n"
          ],
          "name": "stdout"
        }
      ]
    },
    {
      "cell_type": "code",
      "metadata": {
        "id": "Fm5KVM4ulaE0"
      },
      "source": [
        "from translate import Translator\n",
        "spanish_to_english = Translator(from_lang = 'es', to_lang= 'eng')\n",
        "english_to_spanish = Translator(from_lang = 'eng', to_lang= 'es')"
      ],
      "execution_count": null,
      "outputs": []
    },
    {
      "cell_type": "code",
      "metadata": {
        "colab": {
          "base_uri": "https://localhost:8080/"
        },
        "id": "-IKFyNNylaHW",
        "outputId": "c2e1fa18-c455-4b99-b694-8aef361a4977"
      },
      "source": [
        "mensajes_A_aug_train = []\n",
        "mensajes_B_aug_train = []\n",
        "scores_aug_train = []\n",
        "\n",
        "for i in range(len(mensajes_A_train)):\n",
        "\n",
        "  separator = ' '\n",
        "  e_1 = mensajes_A_train[i]\n",
        "  e_2 = mensajes_B_train[i]\n",
        "  mensaje_A = separator.join(e_1)\n",
        "  mensaje_B = separator.join(e_2)\n",
        "  score = scores_train[i]\n",
        "\n",
        "  m_A_spa = english_to_spanish.translate(mensaje_A)\n",
        "  m_A_eng = spanish_to_english.translate(m_A_spa)\n",
        "\n",
        "  m_B_spa = english_to_spanish.translate(mensaje_B)\n",
        "  m_B_eng = spanish_to_english.translate(m_B_spa)\n",
        "\n",
        "  mensajes_A_aug_train.append(mensaje_A)\n",
        "  mensajes_A_aug_train.append(m_A_eng)\n",
        "\n",
        "  mensajes_B_aug_train.append(mensaje_B)\n",
        "  mensajes_B_aug_train.append(m_B_eng)\n",
        "\n",
        "  scores_aug_train.append(score)\n",
        "  scores_aug_train.append(score)\n",
        "\n",
        "  if i % 10 == 0:\n",
        "    print(i)"
      ],
      "execution_count": null,
      "outputs": [
        {
          "output_type": "stream",
          "text": [
            "0\n",
            "10\n",
            "20\n",
            "30\n",
            "40\n",
            "50\n",
            "60\n",
            "70\n",
            "80\n",
            "90\n",
            "100\n",
            "110\n",
            "120\n",
            "130\n",
            "140\n",
            "150\n",
            "160\n",
            "170\n",
            "180\n",
            "190\n",
            "200\n",
            "210\n",
            "220\n",
            "230\n",
            "240\n",
            "250\n",
            "260\n",
            "270\n",
            "280\n",
            "290\n",
            "300\n",
            "310\n",
            "320\n",
            "330\n",
            "340\n",
            "350\n",
            "360\n",
            "370\n",
            "380\n",
            "390\n",
            "400\n",
            "410\n",
            "420\n",
            "430\n",
            "440\n",
            "450\n",
            "460\n",
            "470\n",
            "480\n",
            "490\n",
            "500\n",
            "510\n",
            "520\n",
            "530\n",
            "540\n",
            "550\n",
            "560\n",
            "570\n",
            "580\n",
            "590\n",
            "600\n",
            "610\n",
            "620\n",
            "630\n",
            "640\n",
            "650\n",
            "660\n",
            "670\n",
            "680\n",
            "690\n",
            "700\n",
            "710\n",
            "720\n",
            "730\n",
            "740\n",
            "750\n",
            "760\n",
            "770\n",
            "780\n",
            "790\n",
            "800\n",
            "810\n",
            "820\n",
            "830\n",
            "840\n",
            "850\n",
            "860\n",
            "870\n",
            "880\n",
            "890\n",
            "900\n",
            "910\n",
            "920\n",
            "930\n",
            "940\n",
            "950\n",
            "960\n",
            "970\n",
            "980\n",
            "990\n",
            "1000\n",
            "1010\n",
            "1020\n",
            "1030\n",
            "1040\n",
            "1050\n",
            "1060\n",
            "1070\n",
            "1080\n",
            "1090\n",
            "1100\n",
            "1110\n",
            "1120\n",
            "1130\n",
            "1140\n",
            "1150\n",
            "1160\n",
            "1170\n",
            "1180\n",
            "1190\n",
            "1200\n",
            "1210\n",
            "1220\n",
            "1230\n",
            "1240\n",
            "1250\n",
            "1260\n",
            "1270\n",
            "1280\n",
            "1290\n",
            "1300\n",
            "1310\n",
            "1320\n",
            "1330\n",
            "1340\n",
            "1350\n",
            "1360\n",
            "1370\n",
            "1380\n",
            "1390\n",
            "1400\n",
            "1410\n",
            "1420\n",
            "1430\n",
            "1440\n",
            "1450\n",
            "1460\n",
            "1470\n",
            "1480\n",
            "1490\n",
            "1500\n",
            "1510\n",
            "1520\n",
            "1530\n",
            "1540\n",
            "1550\n",
            "1560\n",
            "1570\n",
            "1580\n",
            "1590\n",
            "1600\n",
            "1610\n",
            "1620\n",
            "1630\n",
            "1640\n",
            "1650\n",
            "1660\n",
            "1670\n",
            "1680\n",
            "1690\n",
            "1700\n",
            "1710\n",
            "1720\n",
            "1730\n",
            "1740\n",
            "1750\n",
            "1760\n",
            "1770\n",
            "1780\n",
            "1790\n",
            "1800\n",
            "1810\n",
            "1820\n",
            "1830\n",
            "1840\n",
            "1850\n",
            "1860\n",
            "1870\n",
            "1880\n",
            "1890\n",
            "1900\n",
            "1910\n",
            "1920\n",
            "1930\n",
            "1940\n",
            "1950\n",
            "1960\n",
            "1970\n",
            "1980\n",
            "1990\n",
            "2000\n",
            "2010\n",
            "2020\n",
            "2030\n",
            "2040\n",
            "2050\n",
            "2060\n",
            "2070\n",
            "2080\n",
            "2090\n",
            "2100\n",
            "2110\n",
            "2120\n",
            "2130\n",
            "2140\n",
            "2150\n",
            "2160\n",
            "2170\n",
            "2180\n",
            "2190\n",
            "2200\n",
            "2210\n",
            "2220\n",
            "2230\n",
            "2240\n",
            "2250\n",
            "2260\n",
            "2270\n",
            "2280\n",
            "2290\n",
            "2300\n",
            "2310\n",
            "2320\n",
            "2330\n",
            "2340\n",
            "2350\n",
            "2360\n",
            "2370\n",
            "2380\n",
            "2390\n",
            "2400\n",
            "2410\n",
            "2420\n",
            "2430\n",
            "2440\n",
            "2450\n",
            "2460\n",
            "2470\n",
            "2480\n",
            "2490\n",
            "2500\n",
            "2510\n",
            "2520\n",
            "2530\n",
            "2540\n",
            "2550\n",
            "2560\n",
            "2570\n",
            "2580\n",
            "2590\n",
            "2600\n",
            "2610\n",
            "2620\n",
            "2630\n",
            "2640\n",
            "2650\n",
            "2660\n",
            "2670\n",
            "2680\n",
            "2690\n",
            "2700\n",
            "2710\n",
            "2720\n",
            "2730\n",
            "2740\n",
            "2750\n",
            "2760\n",
            "2770\n",
            "2780\n",
            "2790\n",
            "2800\n",
            "2810\n",
            "2820\n",
            "2830\n",
            "2840\n",
            "2850\n",
            "2860\n",
            "2870\n",
            "2880\n",
            "2890\n",
            "2900\n",
            "2910\n",
            "2920\n",
            "2930\n",
            "2940\n",
            "2950\n",
            "2960\n",
            "2970\n",
            "2980\n",
            "2990\n",
            "3000\n",
            "3010\n",
            "3020\n",
            "3030\n",
            "3040\n",
            "3050\n",
            "3060\n",
            "3070\n",
            "3080\n",
            "3090\n",
            "3100\n",
            "3110\n",
            "3120\n",
            "3130\n",
            "3140\n",
            "3150\n",
            "3160\n",
            "3170\n",
            "3180\n",
            "3190\n",
            "3200\n",
            "3210\n",
            "3220\n",
            "3230\n",
            "3240\n",
            "3250\n",
            "3260\n",
            "3270\n",
            "3280\n",
            "3290\n",
            "3300\n",
            "3310\n",
            "3320\n",
            "3330\n",
            "3340\n",
            "3350\n",
            "3360\n",
            "3370\n",
            "3380\n",
            "3390\n",
            "3400\n",
            "3410\n",
            "3420\n",
            "3430\n",
            "3440\n",
            "3450\n",
            "3460\n",
            "3470\n",
            "3480\n",
            "3490\n",
            "3500\n",
            "3510\n",
            "3520\n",
            "3530\n",
            "3540\n",
            "3550\n",
            "3560\n",
            "3570\n",
            "3580\n",
            "3590\n",
            "3600\n",
            "3610\n",
            "3620\n",
            "3630\n",
            "3640\n",
            "3650\n",
            "3660\n",
            "3670\n",
            "3680\n",
            "3690\n",
            "3700\n",
            "3710\n",
            "3720\n",
            "3730\n",
            "3740\n",
            "3750\n",
            "3760\n",
            "3770\n",
            "3780\n",
            "3790\n",
            "3800\n",
            "3810\n",
            "3820\n",
            "3830\n",
            "3840\n",
            "3850\n",
            "3860\n",
            "3870\n",
            "3880\n",
            "3890\n",
            "3900\n",
            "3910\n",
            "3920\n",
            "3930\n",
            "3940\n",
            "3950\n",
            "3960\n",
            "3970\n",
            "3980\n",
            "3990\n",
            "4000\n",
            "4010\n",
            "4020\n",
            "4030\n",
            "4040\n",
            "4050\n",
            "4060\n",
            "4070\n",
            "4080\n",
            "4090\n",
            "4100\n",
            "4110\n",
            "4120\n",
            "4130\n",
            "4140\n",
            "4150\n",
            "4160\n",
            "4170\n",
            "4180\n",
            "4190\n",
            "4200\n",
            "4210\n",
            "4220\n",
            "4230\n",
            "4240\n",
            "4250\n",
            "4260\n",
            "4270\n",
            "4280\n",
            "4290\n",
            "4300\n",
            "4310\n",
            "4320\n",
            "4330\n",
            "4340\n",
            "4350\n",
            "4360\n",
            "4370\n",
            "4380\n",
            "4390\n",
            "4400\n",
            "4410\n",
            "4420\n",
            "4430\n"
          ],
          "name": "stdout"
        }
      ]
    },
    {
      "cell_type": "code",
      "metadata": {
        "id": "s3G7DVKfAc3t"
      },
      "source": [
        "for i in range(len(mensajes_A_aug_train)):\n",
        "  mensajes_A_aug_train[i] = mensajes_A_aug_train[i].split(' ')\n",
        "\n",
        "for i in range(len(mensajes_B_aug_train)):\n",
        "  mensajes_B_aug_train[i] = mensajes_B_aug_train[i].split(' ')"
      ],
      "execution_count": null,
      "outputs": []
    },
    {
      "cell_type": "code",
      "metadata": {
        "id": "7scCW2rYAc3t"
      },
      "source": [
        "largos = []\n",
        "\n",
        "for i in range(len(mensajes_A_aug_train)):\n",
        "  largos.append(len(mensajes_A_aug_train[i]))\n",
        "\n",
        "for i in range(len(mensajes_B_aug_train)):\n",
        "  largos.append(len(mensajes_B_aug_train[i]))\n",
        "\n",
        "for i in range(len(mensajes_A_val)):\n",
        "  largos.append(len(mensajes_A_val[i]))\n",
        "\n",
        "for i in range(len(mensajes_B_val)):\n",
        "  largos.append(len(mensajes_B_val[i]))\n",
        "\n",
        "for i in range(len(mensajes_A_test)):\n",
        "  largos.append(len(mensajes_A_test[i]))\n",
        "\n",
        "for i in range(len(mensajes_B_test)):\n",
        "  largos.append(len(mensajes_B_test[i]))"
      ],
      "execution_count": null,
      "outputs": []
    },
    {
      "cell_type": "code",
      "metadata": {
        "id": "AKUQiU-gAc3u"
      },
      "source": [
        "maxim_largo = max(largos)"
      ],
      "execution_count": null,
      "outputs": []
    },
    {
      "cell_type": "code",
      "metadata": {
        "id": "ncu3ViBlAc3u"
      },
      "source": [
        "# Realizamos el PADDING\n",
        "\n",
        "for i in range(len(mensajes_A_aug_train)):\n",
        "  while len(mensajes_A_aug_train[i]) < maxim_largo:\n",
        "    mensajes_A_aug_train[i].append('')\n",
        "\n",
        "for i in range(len(mensajes_B_aug_train)):\n",
        "  while len(mensajes_B_aug_train[i]) < maxim_largo:\n",
        "    mensajes_B_aug_train[i].append('')\n",
        "\n",
        "for i in range(len(mensajes_A_val)):\n",
        "  while len(mensajes_A_val[i]) < maxim_largo:\n",
        "    mensajes_A_val[i].append('')\n",
        "\n",
        "for i in range(len(mensajes_B_val)):\n",
        "  while len(mensajes_B_val[i]) < maxim_largo:\n",
        "    mensajes_B_val[i].append('')\n",
        "\n",
        "for i in range(len(mensajes_A_test)):\n",
        "  while len(mensajes_A_test[i]) < maxim_largo:\n",
        "    mensajes_A_test[i].append('')\n",
        "\n",
        "for i in range(len(mensajes_B_test)):\n",
        "  while len(mensajes_B_test[i]) < maxim_largo:\n",
        "    mensajes_B_test[i].append('')"
      ],
      "execution_count": null,
      "outputs": []
    },
    {
      "cell_type": "code",
      "metadata": {
        "id": "20WrVz2YAc3u"
      },
      "source": [
        "# Extraemos todas las oraciones para usarlas en word2vec\n",
        "\n",
        "all_sentences = []\n",
        "\n",
        "for i in mensajes_A_aug_train:\n",
        "  all_sentences.append(i)\n",
        "\n",
        "for i in mensajes_B_aug_train:\n",
        "  all_sentences.append(i)\n",
        "\n",
        "for i in mensajes_A_val:\n",
        "  all_sentences.append(i)\n",
        "\n",
        "for i in mensajes_B_val:\n",
        "  all_sentences.append(i)\n",
        "\n",
        "for i in mensajes_A_test:\n",
        "  all_sentences.append(i)\n",
        "\n",
        "for i in mensajes_B_test:\n",
        "  all_sentences.append(i)"
      ],
      "execution_count": null,
      "outputs": []
    },
    {
      "cell_type": "code",
      "metadata": {
        "id": "Po27ri5wAc3u"
      },
      "source": [
        "model = Word2Vec(sentences=all_sentences, size = 300, window=5, min_count=1, workers=4)"
      ],
      "execution_count": null,
      "outputs": []
    },
    {
      "cell_type": "code",
      "metadata": {
        "id": "z08fOnM-Ac3v"
      },
      "source": [
        "input_seq_A_aug_train = []\n",
        "\n",
        "for i in range(len(mensajes_A_aug_train)):\n",
        "  lista_frase = []\n",
        "  for j in range(len(mensajes_A_aug_train[i])):\n",
        "    word = mensajes_A_aug_train[i][j]\n",
        "    lista_frase.append(model.wv[word])\n",
        "  lista_agregar = [calcular_promedio(lista_frase)]\n",
        "  input_seq_A_aug_train.append(lista_agregar)"
      ],
      "execution_count": null,
      "outputs": []
    },
    {
      "cell_type": "code",
      "metadata": {
        "id": "ul7jiyxsAc3v"
      },
      "source": [
        "input_seq_B_aug_train = []\n",
        "\n",
        "for i in range(len(mensajes_B_aug_train)):\n",
        "  lista_frase = []\n",
        "  for j in range(len(mensajes_B_aug_train[i])):\n",
        "    word = mensajes_B_aug_train[i][j]\n",
        "    lista_frase.append(model.wv[word])\n",
        "  lista_agregar = [calcular_promedio(lista_frase)]\n",
        "  input_seq_B_aug_train.append(lista_agregar)"
      ],
      "execution_count": null,
      "outputs": []
    },
    {
      "cell_type": "code",
      "metadata": {
        "id": "Ow7apuldAc3v"
      },
      "source": [
        "input_seq_A_val = []\n",
        "\n",
        "for i in range(len(mensajes_A_val)):\n",
        "  lista_frase = []\n",
        "  for j in range(len(mensajes_A_val[i])):\n",
        "    word = mensajes_A_val[i][j]\n",
        "    lista_frase.append(model.wv[word])\n",
        "  lista_agregar = [calcular_promedio(lista_frase)]\n",
        "  input_seq_A_val.append(lista_agregar)"
      ],
      "execution_count": null,
      "outputs": []
    },
    {
      "cell_type": "code",
      "metadata": {
        "id": "dNP8KbMxAc3v"
      },
      "source": [
        "input_seq_B_val = []\n",
        "\n",
        "for i in range(len(mensajes_B_val)):\n",
        "  lista_frase = []\n",
        "  for j in range(len(mensajes_B_val[i])):\n",
        "    word = mensajes_B_val[i][j]\n",
        "    lista_frase.append(model.wv[word])\n",
        "  lista_agregar = [calcular_promedio(lista_frase)]\n",
        "  input_seq_B_val.append(lista_agregar)"
      ],
      "execution_count": null,
      "outputs": []
    },
    {
      "cell_type": "code",
      "metadata": {
        "id": "tdxsO2AcAc3v"
      },
      "source": [
        "input_seq_A_test = []\n",
        "\n",
        "for i in range(len(mensajes_A_test)):\n",
        "  lista_frase = []\n",
        "  for j in range(len(mensajes_A_test[i])):\n",
        "    word = mensajes_A_test[i][j]\n",
        "    lista_frase.append(model.wv[word])\n",
        "  lista_agregar = [calcular_promedio(lista_frase)]\n",
        "  input_seq_A_test.append(lista_agregar)"
      ],
      "execution_count": null,
      "outputs": []
    },
    {
      "cell_type": "code",
      "metadata": {
        "id": "q56-eu0uAc3v"
      },
      "source": [
        "input_seq_B_test = []\n",
        "\n",
        "for i in range(len(mensajes_B_test)):\n",
        "  lista_frase = []\n",
        "  for j in range(len(mensajes_B_test[i])):\n",
        "    word = mensajes_B_test[i][j]\n",
        "    lista_frase.append(model.wv[word])\n",
        "  lista_agregar = [calcular_promedio(lista_frase)]\n",
        "  input_seq_B_test.append(lista_agregar)"
      ],
      "execution_count": null,
      "outputs": []
    },
    {
      "cell_type": "code",
      "metadata": {
        "id": "0fNhMmiMAc3w"
      },
      "source": [
        "input_seq_A_aug_train = torch.tensor(input_seq_A_aug_train, dtype = torch.float32)\n",
        "input_seq_B_aug_train = torch.tensor(input_seq_B_aug_train, dtype = torch.float32)\n",
        "\n",
        "input_seq_A_val = torch.tensor(input_seq_A_val, dtype = torch.float32)\n",
        "input_seq_B_val = torch.tensor(input_seq_B_val, dtype = torch.float32)\n",
        "\n",
        "input_seq_A_test = torch.tensor(input_seq_A_test, dtype = torch.float32)\n",
        "input_seq_B_test = torch.tensor(input_seq_B_test, dtype = torch.float32)"
      ],
      "execution_count": null,
      "outputs": []
    },
    {
      "cell_type": "code",
      "metadata": {
        "colab": {
          "base_uri": "https://localhost:8080/"
        },
        "id": "vhT-hthBAc3w",
        "outputId": "754cdc50-5967-4db3-e97c-da819fd27494"
      },
      "source": [
        "# torch.cuda.is_available() checks and returns a Boolean True if a GPU is available, else it'll return False\n",
        "is_cuda = torch.cuda.is_available()\n",
        "\n",
        "# If we have a GPU available, we'll set our device to GPU. We'll use this device variable later in our code.\n",
        "if is_cuda:\n",
        "    device = torch.device(\"cuda\")\n",
        "    print(\"GPU is available\")    \n",
        "else:\n",
        "    device = torch.device(\"cpu\")\n",
        "    print(\"GPU not available, CPU used\")"
      ],
      "execution_count": null,
      "outputs": [
        {
          "output_type": "stream",
          "text": [
            "GPU is available\n"
          ],
          "name": "stdout"
        }
      ]
    },
    {
      "cell_type": "code",
      "metadata": {
        "id": "pxmtVxl8Ac3w"
      },
      "source": [
        "input_seq_A_aug_train = input_seq_A_aug_train.to(device)\n",
        "input_seq_B_aug_train = input_seq_B_aug_train.to(device)\n",
        "\n",
        "input_seq_A_val = input_seq_A_val.to(device)\n",
        "input_seq_B_val = input_seq_B_val.to(device)\n",
        "\n",
        "input_seq_A_test = input_seq_A_test.to(device)\n",
        "input_seq_B_test = input_seq_B_test.to(device)"
      ],
      "execution_count": null,
      "outputs": []
    },
    {
      "cell_type": "code",
      "metadata": {
        "id": "8Zk1edwCAc3x"
      },
      "source": [
        "input_seq_train = torch.cat((input_seq_A_aug_train, input_seq_B_aug_train), 0)\n",
        "input_seq_val = torch.cat((input_seq_A_val, input_seq_B_val), 0)\n",
        "input_seq_test = torch.cat((input_seq_A_test, input_seq_B_test), 0)"
      ],
      "execution_count": null,
      "outputs": []
    },
    {
      "cell_type": "code",
      "metadata": {
        "id": "f_U1lBPjAc3x"
      },
      "source": [
        "# Como va del 1 al 5 el scores\n",
        "y_train = []\n",
        "\n",
        "for i in range(len(scores_aug_train)):\n",
        "  valor = (scores_aug_train[i] - 1)/4\n",
        "  y_train.append(valor)"
      ],
      "execution_count": null,
      "outputs": []
    },
    {
      "cell_type": "code",
      "metadata": {
        "id": "acsVcUXRAc3x"
      },
      "source": [
        "# Como va del 1 al 5 el scores\n",
        "y_val = []\n",
        "\n",
        "for i in range(len(scores_val)):\n",
        "  valor = (scores_val[i] - 1)/4\n",
        "  y_val.append(valor)"
      ],
      "execution_count": null,
      "outputs": []
    },
    {
      "cell_type": "code",
      "metadata": {
        "id": "ACY2jzWPAc3x"
      },
      "source": [
        "# Como va del 1 al 5 el scores\n",
        "y_test = []\n",
        "\n",
        "for i in range(len(scores_test)):\n",
        "  valor = (scores_test[i] - 1)/4\n",
        "  y_test.append(valor)"
      ],
      "execution_count": null,
      "outputs": []
    },
    {
      "cell_type": "code",
      "metadata": {
        "id": "X-n4dhGfAc30"
      },
      "source": [
        "model = SIAMESE_model(300, 50, 1, device)\n",
        "model.to(device)\n",
        "\n",
        "n_epochs = 100\n",
        "lr = 0.01\n",
        "m = 5  \n",
        "\n",
        "optimizer = torch.optim.Adam(model.parameters(), lr=lr)"
      ],
      "execution_count": null,
      "outputs": []
    },
    {
      "cell_type": "code",
      "metadata": {
        "colab": {
          "base_uri": "https://localhost:8080/"
        },
        "id": "fc0k4JNCAc30",
        "outputId": "6e190a85-5e28-44d8-9cd7-9f3e2967502f"
      },
      "source": [
        "# Entrenamiento\n",
        "\n",
        "epocas_totales = []\n",
        "\n",
        "loss_train_totales = []\n",
        "loss_val_totales = []\n",
        "\n",
        "prec_train = []\n",
        "prec_val = []\n",
        "\n",
        "for epoch in range(1, n_epochs + 1):\n",
        "\n",
        "  start = time.time()\n",
        "\n",
        "  model.train()\n",
        "\n",
        "  optimizer.zero_grad() # Clears existing gradients from previous epoch\n",
        "\n",
        "  out_1, out_2, _, _ = model(input_seq_train)\n",
        "\n",
        "  loss_train = pair_rkg_loss(out_1, out_2, y_train, m)\n",
        "\n",
        "  loss_train.backward() # Does backpropagation and calculates gradients\n",
        "\n",
        "  reg_train = regresion_mse(out_1, out_2, scores_aug_train)\n",
        "\n",
        "  prec_train_epoch = reg_train[0:2]\n",
        "\n",
        "  alpha_train = reg_train[2]\n",
        "  beta_train = reg_train[3]\n",
        "\n",
        "  #------------------------------\n",
        "\n",
        "  for w1, w2 in zip(model.lstm_1.parameters(), model.lstm_2.parameters()):\n",
        "    w1.grad.data.add_(w2.grad.data)\n",
        "    w2.grad = None\n",
        "\n",
        "  #------------------------------\n",
        "\n",
        "  optimizer.step() # Updates the weights accordingly\n",
        "\n",
        "  #------------------------------\n",
        "\n",
        "  for w1, w2 in zip(model.lstm_1.parameters(), model.lstm_2.parameters()):\n",
        "    w2.data.copy_(w1.data)\n",
        "\n",
        "  #------------------------------\n",
        "\n",
        "  model.eval()\n",
        "\n",
        "  out_1_val, out_2_val, _, _ = model(input_seq_val)\n",
        "  loss_val = pair_rkg_loss(out_1_val, out_2_val, y_val, m)\n",
        "\n",
        "  prec_val_epoch = regresion_mse_dado(out_1_val, out_2_val, scores_val, alpha_train, beta_train)\n",
        "\n",
        "  epocas_totales.append(epoch)\n",
        "\n",
        "  prec_train.append(prec_train_epoch)\n",
        "  prec_val.append(prec_val_epoch)\n",
        "\n",
        "  loss_train_totales.append(loss_train)\n",
        "  loss_val_totales.append(loss_val)\n",
        "\n",
        "  end = time.time()\n",
        "\n",
        "  print('Epoch: {}/{}.............'.format(epoch, n_epochs), end=' ')\n",
        "  print(\"Loss Train Epoch: {:.4f}.............\".format(loss_train.item()), end =' ')\n",
        "  print(\"Time Epoch: {}\".format(end-start))  "
      ],
      "execution_count": null,
      "outputs": [
        {
          "output_type": "stream",
          "text": [
            "Epoch: 1/100............. Loss Train Epoch: 2.1428............. Time Epoch: 3.6774468421936035\n",
            "Epoch: 2/100............. Loss Train Epoch: 1.8631............. Time Epoch: 3.6026628017425537\n",
            "Epoch: 3/100............. Loss Train Epoch: 1.8637............. Time Epoch: 3.5905520915985107\n",
            "Epoch: 4/100............. Loss Train Epoch: 1.8638............. Time Epoch: 3.5208544731140137\n",
            "Epoch: 5/100............. Loss Train Epoch: 1.8637............. Time Epoch: 3.571256399154663\n",
            "Epoch: 6/100............. Loss Train Epoch: 1.8634............. Time Epoch: 3.557298421859741\n",
            "Epoch: 7/100............. Loss Train Epoch: 1.8629............. Time Epoch: 3.575479030609131\n",
            "Epoch: 8/100............. Loss Train Epoch: 1.8625............. Time Epoch: 3.551541566848755\n",
            "Epoch: 9/100............. Loss Train Epoch: 1.8620............. Time Epoch: 3.5758471488952637\n",
            "Epoch: 10/100............. Loss Train Epoch: 1.8615............. Time Epoch: 3.663037061691284\n",
            "Epoch: 11/100............. Loss Train Epoch: 1.8610............. Time Epoch: 3.6057393550872803\n",
            "Epoch: 12/100............. Loss Train Epoch: 1.8605............. Time Epoch: 3.634702205657959\n",
            "Epoch: 13/100............. Loss Train Epoch: 1.8599............. Time Epoch: 3.597487449645996\n",
            "Epoch: 14/100............. Loss Train Epoch: 1.8595............. Time Epoch: 3.6026577949523926\n",
            "Epoch: 15/100............. Loss Train Epoch: 1.8590............. Time Epoch: 3.5532150268554688\n",
            "Epoch: 16/100............. Loss Train Epoch: 1.8586............. Time Epoch: 3.5596086978912354\n",
            "Epoch: 17/100............. Loss Train Epoch: 1.8582............. Time Epoch: 3.5429017543792725\n",
            "Epoch: 18/100............. Loss Train Epoch: 1.8578............. Time Epoch: 3.581414222717285\n",
            "Epoch: 19/100............. Loss Train Epoch: 1.8575............. Time Epoch: 3.560068368911743\n",
            "Epoch: 20/100............. Loss Train Epoch: 1.8572............. Time Epoch: 3.6250874996185303\n",
            "Epoch: 21/100............. Loss Train Epoch: 1.8570............. Time Epoch: 3.548678398132324\n",
            "Epoch: 22/100............. Loss Train Epoch: 1.8568............. Time Epoch: 3.5790624618530273\n",
            "Epoch: 23/100............. Loss Train Epoch: 1.8566............. Time Epoch: 3.5850489139556885\n",
            "Epoch: 24/100............. Loss Train Epoch: 1.8565............. Time Epoch: 3.534522771835327\n",
            "Epoch: 25/100............. Loss Train Epoch: 1.8564............. Time Epoch: 3.5551958084106445\n",
            "Epoch: 26/100............. Loss Train Epoch: 1.8563............. Time Epoch: 3.5396931171417236\n",
            "Epoch: 27/100............. Loss Train Epoch: 1.8562............. Time Epoch: 3.516507625579834\n",
            "Epoch: 28/100............. Loss Train Epoch: 1.8562............. Time Epoch: 3.5580780506134033\n",
            "Epoch: 29/100............. Loss Train Epoch: 1.8561............. Time Epoch: 3.5698397159576416\n",
            "Epoch: 30/100............. Loss Train Epoch: 1.8560............. Time Epoch: 3.5588877201080322\n",
            "Epoch: 31/100............. Loss Train Epoch: 1.8560............. Time Epoch: 3.607346534729004\n",
            "Epoch: 32/100............. Loss Train Epoch: 1.8559............. Time Epoch: 3.54736590385437\n",
            "Epoch: 33/100............. Loss Train Epoch: 1.8559............. Time Epoch: 3.5413689613342285\n",
            "Epoch: 34/100............. Loss Train Epoch: 1.8558............. Time Epoch: 3.5677542686462402\n",
            "Epoch: 35/100............. Loss Train Epoch: 1.8558............. Time Epoch: 3.5783698558807373\n",
            "Epoch: 36/100............. Loss Train Epoch: 1.8558............. Time Epoch: 3.5629992485046387\n",
            "Epoch: 37/100............. Loss Train Epoch: 1.8557............. Time Epoch: 3.5816807746887207\n",
            "Epoch: 38/100............. Loss Train Epoch: 1.8557............. Time Epoch: 3.5338892936706543\n",
            "Epoch: 39/100............. Loss Train Epoch: 1.8557............. Time Epoch: 3.583038091659546\n",
            "Epoch: 40/100............. Loss Train Epoch: 1.8557............. Time Epoch: 3.584853172302246\n",
            "Epoch: 41/100............. Loss Train Epoch: 1.8556............. Time Epoch: 3.558927536010742\n",
            "Epoch: 42/100............. Loss Train Epoch: 1.8556............. Time Epoch: 3.5334036350250244\n",
            "Epoch: 43/100............. Loss Train Epoch: 1.8556............. Time Epoch: 3.5179283618927\n",
            "Epoch: 44/100............. Loss Train Epoch: 1.8556............. Time Epoch: 3.5485031604766846\n",
            "Epoch: 45/100............. Loss Train Epoch: 1.8556............. Time Epoch: 3.5484583377838135\n",
            "Epoch: 46/100............. Loss Train Epoch: 1.8556............. Time Epoch: 3.5268192291259766\n",
            "Epoch: 47/100............. Loss Train Epoch: 1.8556............. Time Epoch: 3.557593822479248\n",
            "Epoch: 48/100............. Loss Train Epoch: 1.8556............. Time Epoch: 3.6081645488739014\n",
            "Epoch: 49/100............. Loss Train Epoch: 1.8555............. Time Epoch: 3.5688974857330322\n",
            "Epoch: 50/100............. Loss Train Epoch: 1.8555............. Time Epoch: 3.5618820190429688\n",
            "Epoch: 51/100............. Loss Train Epoch: 1.8555............. Time Epoch: 3.563692808151245\n",
            "Epoch: 52/100............. Loss Train Epoch: 1.8555............. Time Epoch: 3.5148391723632812\n",
            "Epoch: 53/100............. Loss Train Epoch: 1.8555............. Time Epoch: 3.5361640453338623\n",
            "Epoch: 54/100............. Loss Train Epoch: 1.8555............. Time Epoch: 3.5313241481781006\n",
            "Epoch: 55/100............. Loss Train Epoch: 1.8555............. Time Epoch: 3.53660249710083\n",
            "Epoch: 56/100............. Loss Train Epoch: 1.8555............. Time Epoch: 3.553734064102173\n",
            "Epoch: 57/100............. Loss Train Epoch: 1.8555............. Time Epoch: 3.635303258895874\n",
            "Epoch: 58/100............. Loss Train Epoch: 1.8555............. Time Epoch: 3.5929946899414062\n",
            "Epoch: 59/100............. Loss Train Epoch: 1.8555............. Time Epoch: 3.5842363834381104\n",
            "Epoch: 60/100............. Loss Train Epoch: 1.8555............. Time Epoch: 3.5626542568206787\n",
            "Epoch: 61/100............. Loss Train Epoch: 1.8555............. Time Epoch: 3.5471270084381104\n",
            "Epoch: 62/100............. Loss Train Epoch: 1.8555............. Time Epoch: 3.584299325942993\n",
            "Epoch: 63/100............. Loss Train Epoch: 1.8554............. Time Epoch: 3.5733931064605713\n",
            "Epoch: 64/100............. Loss Train Epoch: 1.8554............. Time Epoch: 3.5932576656341553\n",
            "Epoch: 65/100............. Loss Train Epoch: 1.8554............. Time Epoch: 3.56813645362854\n",
            "Epoch: 66/100............. Loss Train Epoch: 1.8554............. Time Epoch: 3.549489736557007\n",
            "Epoch: 67/100............. Loss Train Epoch: 1.8554............. Time Epoch: 3.571091413497925\n",
            "Epoch: 68/100............. Loss Train Epoch: 1.8554............. Time Epoch: 3.5515124797821045\n",
            "Epoch: 69/100............. Loss Train Epoch: 1.8554............. Time Epoch: 3.5728042125701904\n",
            "Epoch: 70/100............. Loss Train Epoch: 1.8554............. Time Epoch: 3.5682687759399414\n",
            "Epoch: 71/100............. Loss Train Epoch: 1.8554............. Time Epoch: 3.571122646331787\n",
            "Epoch: 72/100............. Loss Train Epoch: 1.8554............. Time Epoch: 3.563331127166748\n",
            "Epoch: 73/100............. Loss Train Epoch: 1.8554............. Time Epoch: 3.5604124069213867\n",
            "Epoch: 74/100............. Loss Train Epoch: 1.8554............. Time Epoch: 3.5806057453155518\n",
            "Epoch: 75/100............. Loss Train Epoch: 1.8554............. Time Epoch: 3.5307984352111816\n",
            "Epoch: 76/100............. Loss Train Epoch: 1.8554............. Time Epoch: 3.621598720550537\n",
            "Epoch: 77/100............. Loss Train Epoch: 1.8554............. Time Epoch: 3.6110825538635254\n",
            "Epoch: 78/100............. Loss Train Epoch: 1.8554............. Time Epoch: 3.5995934009552\n",
            "Epoch: 79/100............. Loss Train Epoch: 1.8554............. Time Epoch: 3.590616226196289\n",
            "Epoch: 80/100............. Loss Train Epoch: 1.8554............. Time Epoch: 3.6247262954711914\n",
            "Epoch: 81/100............. Loss Train Epoch: 1.8554............. Time Epoch: 3.6392288208007812\n",
            "Epoch: 82/100............. Loss Train Epoch: 1.8554............. Time Epoch: 3.6178483963012695\n",
            "Epoch: 83/100............. Loss Train Epoch: 1.8554............. Time Epoch: 3.5638303756713867\n",
            "Epoch: 84/100............. Loss Train Epoch: 1.8554............. Time Epoch: 3.550727605819702\n",
            "Epoch: 85/100............. Loss Train Epoch: 1.8554............. Time Epoch: 3.5823001861572266\n",
            "Epoch: 86/100............. Loss Train Epoch: 1.8554............. Time Epoch: 3.5789248943328857\n",
            "Epoch: 87/100............. Loss Train Epoch: 1.8554............. Time Epoch: 3.590460777282715\n",
            "Epoch: 88/100............. Loss Train Epoch: 1.8554............. Time Epoch: 3.572800636291504\n",
            "Epoch: 89/100............. Loss Train Epoch: 1.8554............. Time Epoch: 3.561037063598633\n",
            "Epoch: 90/100............. Loss Train Epoch: 1.8554............. Time Epoch: 3.583576202392578\n",
            "Epoch: 91/100............. Loss Train Epoch: 1.8554............. Time Epoch: 3.576305627822876\n",
            "Epoch: 92/100............. Loss Train Epoch: 1.8554............. Time Epoch: 3.5602402687072754\n",
            "Epoch: 93/100............. Loss Train Epoch: 1.8554............. Time Epoch: 3.570685625076294\n",
            "Epoch: 94/100............. Loss Train Epoch: 1.8554............. Time Epoch: 3.5676920413970947\n",
            "Epoch: 95/100............. Loss Train Epoch: 1.8554............. Time Epoch: 3.595649480819702\n",
            "Epoch: 96/100............. Loss Train Epoch: 1.8554............. Time Epoch: 3.597963333129883\n",
            "Epoch: 97/100............. Loss Train Epoch: 1.8554............. Time Epoch: 3.5845272541046143\n",
            "Epoch: 98/100............. Loss Train Epoch: 1.8553............. Time Epoch: 3.5551586151123047\n",
            "Epoch: 99/100............. Loss Train Epoch: 1.8553............. Time Epoch: 3.5843517780303955\n",
            "Epoch: 100/100............. Loss Train Epoch: 1.8553............. Time Epoch: 3.5479743480682373\n"
          ],
          "name": "stdout"
        }
      ]
    },
    {
      "cell_type": "markdown",
      "metadata": {
        "id": "Rvu4sIdXAc31"
      },
      "source": [
        "**Función de perdida en función de las epocas**"
      ]
    },
    {
      "cell_type": "code",
      "metadata": {
        "colab": {
          "base_uri": "https://localhost:8080/",
          "height": 428
        },
        "id": "O7Z3kod0Ac31",
        "outputId": "afc6661c-906b-4804-9918-0489493db5e2"
      },
      "source": [
        "plt.figure(figsize=(10,7))\n",
        "\n",
        "plt.plot(epocas_totales, loss_train_totales, color = \"red\")\n",
        "plt.plot(epocas_totales, loss_val_totales, color = \"blue\")\n",
        "plt.legend(['Perdida de Entrenamiento', 'Perdida de Validación'], loc='upper left')\n",
        "\n",
        "plt.show()"
      ],
      "execution_count": null,
      "outputs": [
        {
          "output_type": "display_data",
          "data": {
            "image/png": "[encoded data removed]",
            "text/plain": [
              "<Figure size 720x504 with 1 Axes>"
            ]
          },
          "metadata": {
            "tags": [],
            "needs_background": "light"
          }
        }
      ]
    },
    {
      "cell_type": "markdown",
      "metadata": {
        "id": "mxGpbu5FcAwx"
      },
      "source": [
        "$ \\underline{Comentario: } $ Notemos que la función de perdida tanto en el set de entrenamiento como en el set de validación van disminuyendo constantemente a medida que avanzan las epocas, lo que nos habla de que el modelo se esta **ajustando bien** y sin **overfitting**.\n",
        "\n",
        "La razón del porque la perdida en el set de entrenamienamiento es mayor que en el set de validación es porque como se define la función de perdida, sabemos que si los $y^{(i)}$ son pequeños, entonces el termino $ max \\lbrace{ 0, m - \\norm{f(I_1) - f(I_2)} \\rbrace} $ tiene mayor importancia, mientras que si los $ y^{(i)}$ son grandes, entonces el termino $ \\norm{f(I_1)-f(I_2)} $ tiene mayor importancia. Y en el set de validación tenemos valores de $ y^{(i)} $ más grandes, por ende, el set de validación tiene función de perdida más pequeña y el de entrenamiento una perdida más grande.  Lo importante a observar es que ambas perdidas deben ir decreciendo a medida que pasan las epocas, lo cual ocurre."
      ]
    },
    {
      "cell_type": "markdown",
      "metadata": {
        "id": "WMxjE8E4Ac31"
      },
      "source": [
        "**Precisión (MSE) en función de las epocas**"
      ]
    },
    {
      "cell_type": "code",
      "metadata": {
        "colab": {
          "base_uri": "https://localhost:8080/",
          "height": 428
        },
        "id": "e-bYAXtSAc31",
        "outputId": "b8cda3ae-da85-4683-d811-0b24e904aa52"
      },
      "source": [
        "plt.figure(figsize=(10,7))\n",
        "\n",
        "plt.plot(epocas_totales[0:], np.array(prec_train)[:, 0], color = \"red\")\n",
        "plt.plot(epocas_totales[0:], np.array(prec_val)[:, 0], color = \"blue\")\n",
        "plt.legend(['Precisión de Entrenamiento mse', 'Precisión de Validación mse'], loc='upper left')\n",
        "\n",
        "plt.show()"
      ],
      "execution_count": null,
      "outputs": [
        {
          "output_type": "display_data",
          "data": {
            "image/png": "[encoded data removed]",
            "text/plain": [
              "<Figure size 720x504 with 1 Axes>"
            ]
          },
          "metadata": {
            "tags": [],
            "needs_background": "light"
          }
        }
      ]
    },
    {
      "cell_type": "markdown",
      "metadata": {
        "id": "W3YXEhrPAc32"
      },
      "source": [
        "$ \\underline{Comentario: } $ Notemos que la precisión definida como **MSE** (perdida cuadratica) tanto en el set de validación como en el set de entrenamiento van disminuyendo a medida que pasan las epocas los cuales no habla muy bien del ajuste que esta realizando. \\\\\n",
        "\n",
        "$ \\\\ $ \n",
        "\n",
        "Además como la perdida cuadratica es aproximadamente 1, sabemos que en promedio la predicción esta teniendo un error al cuadrado de 1 unidad para scores que van desde el 1 hasta el 5, lo cual a nuestro criterio es algo **muy bueno**. "
      ]
    },
    {
      "cell_type": "markdown",
      "metadata": {
        "id": "IZtwVcF7Ac32"
      },
      "source": [
        "**Precisión (ABS) en función de las epocas**"
      ]
    },
    {
      "cell_type": "code",
      "metadata": {
        "colab": {
          "base_uri": "https://localhost:8080/",
          "height": 428
        },
        "id": "D3habW97Ac32",
        "outputId": "5c1ea4f6-61de-4c73-c2e3-480d6a19eb84"
      },
      "source": [
        "plt.figure(figsize=(10,7))\n",
        "\n",
        "plt.plot(epocas_totales[0:], np.array(prec_train)[:, 1], color = \"red\")\n",
        "plt.plot(epocas_totales[0:], np.array(prec_val)[:, 1], color = \"blue\")\n",
        "plt.legend(['Precisión de Entrenamiento abs', 'Precisión de Validación abs'], loc='upper left')\n",
        "\n",
        "plt.show()"
      ],
      "execution_count": null,
      "outputs": [
        {
          "output_type": "display_data",
          "data": {
            "image/png": "[encoded data removed]",
            "text/plain": [
              "<Figure size 720x504 with 1 Axes>"
            ]
          },
          "metadata": {
            "tags": [],
            "needs_background": "light"
          }
        }
      ]
    },
    {
      "cell_type": "markdown",
      "metadata": {
        "id": "T61ZoyBTAc32"
      },
      "source": [
        "$ \\underline{Comentario: } $ Notemos que la precisión definida como **ABS** (perdida valor absoluto) tanto en el set de validación como en el set de entrenamiento van disminuyendo a medida que pasan las epocas los cuales no habla muy bien del ajuste que esta realizando. \\\\\n",
        "\n",
        "Además como la perdida en valor absoluto es menor que 1 (0.8 aprox), sabemos que la predicción se esta equivocando en 0.8 unidades para scores que van desde el 1 hasta el 5, tanto para el set de entranamiento como para el set de validación lo cual a nuestro criterio es algo muy bueno. "
      ]
    },
    {
      "cell_type": "markdown",
      "metadata": {
        "id": "uHBpe1eDAc32"
      },
      "source": [
        "**Reporte de Precisión en el TEST SET**"
      ]
    },
    {
      "cell_type": "code",
      "metadata": {
        "id": "xr0uHWA0Ac32"
      },
      "source": [
        "out_1_test, out_2_test, _, _ = model(input_seq_test)\n",
        "prec_test_epoch = regresion_mse_dado(out_1_test, out_2_test, scores_test, alpha_train, beta_train)"
      ],
      "execution_count": null,
      "outputs": []
    },
    {
      "cell_type": "code",
      "metadata": {
        "colab": {
          "base_uri": "https://localhost:8080/"
        },
        "id": "CmwPUh4VAc32",
        "outputId": "28580254-4994-4f8f-a097-5a69c524c943"
      },
      "source": [
        "prec_test_epoch[0][0]"
      ],
      "execution_count": null,
      "outputs": [
        {
          "output_type": "execute_result",
          "data": {
            "text/plain": [
              "1.0121983308574347"
            ]
          },
          "metadata": {
            "tags": []
          },
          "execution_count": 75
        }
      ]
    },
    {
      "cell_type": "code",
      "metadata": {
        "colab": {
          "base_uri": "https://localhost:8080/"
        },
        "id": "Pvox9lNJAc32",
        "outputId": "094b618e-8cfd-477b-b33c-9021565dff31"
      },
      "source": [
        "prec_test_epoch[1][0]"
      ],
      "execution_count": null,
      "outputs": [
        {
          "output_type": "execute_result",
          "data": {
            "text/plain": [
              "0.7885025898491529"
            ]
          },
          "metadata": {
            "tags": []
          },
          "execution_count": 76
        }
      ]
    },
    {
      "cell_type": "markdown",
      "metadata": {
        "id": "LXjmLGrnAc33"
      },
      "source": [
        "**Precisión MSE en el test set:** $ 1.01$\n",
        "\n",
        "$ \\\\ $ \n",
        "**Precisión ABS en el test set:** $ 0.79$"
      ]
    },
    {
      "cell_type": "markdown",
      "metadata": {
        "id": "8sVIxrSUAc33"
      },
      "source": [
        "$ \\underline{Comentario: } $ Notemos que la precisión MSE y ABS son muy similares a los valores obtenidos tanto en el train set como en el val set lo cual nos habla muy bien en el sentido de que **no hay overfitting** y que además la precisión es muy buena teniendo errores promedio tanto al cuadrado como absolutos cercanos o menor a 1 en scores que van desde el 1 hasta el 5. "
      ]
    },
    {
      "cell_type": "markdown",
      "metadata": {
        "id": "dd8ZraeVczAX"
      },
      "source": [
        "**Comparación con el resultado anterior**"
      ]
    },
    {
      "cell_type": "markdown",
      "metadata": {
        "id": "Bz1P55ZPc10S"
      },
      "source": [
        "Notemos que en el resultado anterior teniamos que:\n",
        "\n",
        "**Precisión MSE en el test set:** $ 0.89$\n",
        "\n",
        "$ \\\\ $ \n",
        "**Precisión ABS en el test set:** $ 0.76$\n",
        "\n",
        "De esta forma, consideramos que el resultado anterior es ligeramente mejor y a partir de ese resultado graficaremos las features con reducción de dimensionalidad."
      ]
    },
    {
      "cell_type": "markdown",
      "metadata": {
        "id": "dN9Jh5RLAc33"
      },
      "source": [
        "**Guardar resultados del entrenamiento**"
      ]
    },
    {
      "cell_type": "code",
      "metadata": {
        "id": "AEre9yk6Ac33"
      },
      "source": [
        "resultado_1_train_aug = out_1\n",
        "resultado_2_train_aug = out_2"
      ],
      "execution_count": null,
      "outputs": []
    },
    {
      "cell_type": "markdown",
      "metadata": {
        "id": "tnS8T1fgdHvo"
      },
      "source": [
        "# 2.4 Visualización"
      ]
    },
    {
      "cell_type": "code",
      "metadata": {
        "id": "ufZSqeAecpDe"
      },
      "source": [
        "import numpy as np\n",
        "from sklearn.manifold import TSNE"
      ],
      "execution_count": null,
      "outputs": []
    },
    {
      "cell_type": "markdown",
      "metadata": {
        "id": "cIupEWy0dQCx"
      },
      "source": [
        "Para graficar, elegiremos el $ 60 \\% $ del set de entrenamiento (bastantes datos)."
      ]
    },
    {
      "cell_type": "code",
      "metadata": {
        "id": "UskDuiF2dN06"
      },
      "source": [
        "N = int(4439*0.6)\n",
        "\n",
        "train_graf_A = resultado_1_train[0:N]\n",
        "train_graf_B = resultado_2_train[0:N]\n",
        "\n",
        "Y_A = train_graf_A.tolist()\n",
        "Y_A = np.array(Y_A)\n",
        "\n",
        "Y_B = train_graf_B.tolist()\n",
        "Y_B = np.array(Y_B)\n",
        "\n",
        "Y_A = Y_A[:,0,:]\n",
        "Y_B = Y_B[:,0,:]"
      ],
      "execution_count": null,
      "outputs": []
    },
    {
      "cell_type": "code",
      "metadata": {
        "id": "j0Qs-rI6dcMZ"
      },
      "source": [
        "tsne = TSNE(n_components=2, random_state=0)"
      ],
      "execution_count": null,
      "outputs": []
    },
    {
      "cell_type": "code",
      "metadata": {
        "id": "RXONJXQTdfNY"
      },
      "source": [
        "X_A = tsne.fit_transform(Y_A)\n",
        "X_B = tsne.fit_transform(Y_B)"
      ],
      "execution_count": null,
      "outputs": []
    },
    {
      "cell_type": "markdown",
      "metadata": {
        "id": "EripDiFkdvxT"
      },
      "source": [
        "**Grafico de las features en un espacio 2D**"
      ]
    },
    {
      "cell_type": "code",
      "metadata": {
        "colab": {
          "base_uri": "https://localhost:8080/",
          "height": 267
        },
        "id": "uRDuk88OdjcZ",
        "outputId": "a89cbda5-8e28-450d-8bc3-8e834c140748"
      },
      "source": [
        "for i in range(N):\n",
        "  plt.scatter(X_A[i][0], X_A[i][1], c='red')\n",
        "  plt.scatter(X_B[i][0], X_B[i][1], c='blue')\n",
        "\n",
        "plt.legend(['Sentence A', 'Sentence B'], loc='upper left')\n",
        "\n",
        "plt.show()"
      ],
      "execution_count": null,
      "outputs": [
        {
          "output_type": "display_data",
          "data": {
            "image/png": "[encoded data removed]",
            "text/plain": [
              "<Figure size 432x288 with 1 Axes>"
            ]
          },
          "metadata": {
            "tags": [],
            "needs_background": "light"
          }
        }
      ]
    },
    {
      "cell_type": "markdown",
      "metadata": {
        "id": "B_r6zDFJeGRB"
      },
      "source": [
        "$ \\underline{Comentarios:} $ Notemos que el espacio resultante si tiene coherencia semantica. De hecho, hay agrupaciones como **tiras** asociadas tanto a las oraciones A como a las B. \n",
        "\n",
        "$ \\\\ $ \n",
        "\n",
        "Una tira en especifico contiene a todas las oraciones que son similares entre si, tanto para las oraciones A como para las oraciones B. \n",
        "\n",
        "$ \\\\ $ \n",
        "\n",
        "Por otro lado, notemos que cuando estas tiras se interseccionan es cuando ambas tiras tienen oraciones que son similares entre sí y por ende tienen \"scores alto\" entre ellas, mientras que cuando las \"tiras\" no se intersectan es cuando los \"scores son bajos\" entre oraciones pertenecientes a aquellas tiras.\n",
        "\n",
        "$ \\\\ $ \n",
        "\n",
        "Notemos que **si hay clusters significativos**. Como por ejemplo aquellos clusters que si se intersectan con otros, estos clusters tienen elementos que se pueden relacionar con otros a través de un \"score alto\". Por otro lado, tenemos aquellos clusters que no se intersectan con ningún otro y estos son los que solo tienen oraciones que se relacionan con otras oraciones a través de \"scores bajos\".  "
      ]
    },
    {
      "cell_type": "code",
      "metadata": {
        "id": "sbEkwTbxdrm7"
      },
      "source": [
        ""
      ],
      "execution_count": null,
      "outputs": []
    }
  ]
}