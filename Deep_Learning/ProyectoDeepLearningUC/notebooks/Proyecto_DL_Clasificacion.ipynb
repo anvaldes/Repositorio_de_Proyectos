{
  "nbformat": 4,
  "nbformat_minor": 0,
  "metadata": {
    "colab": {
      "name": "Proyecto_DL_Clasificacion.ipynb",
      "provenance": [],
      "machine_shape": "hm"
    },
    "kernelspec": {
      "name": "python3",
      "display_name": "Python 3"
    },
    "language_info": {
      "name": "python"
    },
    "accelerator": "GPU"
  },
  "cells": [
    {
      "cell_type": "markdown",
      "metadata": {
        "id": "MJ8TT70DVZXs"
      },
      "source": [
        "$ \\huge{Proyecto \\ de \\ Deep \\ Learning: Clasificaci \\acute{o} n} $\n",
        "\n"
      ]
    },
    {
      "cell_type": "markdown",
      "metadata": {
        "id": "hV0Ith37fuTl"
      },
      "source": [
        "Primero que todo conectamos con el drive. "
      ]
    },
    {
      "cell_type": "code",
      "metadata": {
        "colab": {
          "base_uri": "https://localhost:8080/"
        },
        "id": "2lhApdQxbGVk",
        "outputId": "0b30fcae-28b4-439d-d80e-22464b4e7c95"
      },
      "source": [
        "from google.colab import drive\n",
        "drive.mount('/content/drive')"
      ],
      "execution_count": null,
      "outputs": [
        {
          "output_type": "stream",
          "text": [
            "Drive already mounted at /content/drive; to attempt to forcibly remount, call drive.mount(\"/content/drive\", force_remount=True).\n"
          ],
          "name": "stdout"
        }
      ]
    },
    {
      "cell_type": "markdown",
      "metadata": {
        "id": "BiZoZrluf3nQ"
      },
      "source": [
        "## Construccion de datasets"
      ]
    },
    {
      "cell_type": "code",
      "metadata": {
        "id": "v5r-ZlOQbKjF"
      },
      "source": [
        "import json\n",
        "archivo_train = open('drive/MyDrive/DeepLearningUC/Proyecto/train-v2.0.json',)\n",
        "train_file = json.load(archivo_train)"
      ],
      "execution_count": null,
      "outputs": []
    },
    {
      "cell_type": "code",
      "metadata": {
        "id": "Ar-gSMUEcr2w"
      },
      "source": [
        "data_train = train_file['data']"
      ],
      "execution_count": null,
      "outputs": []
    },
    {
      "cell_type": "code",
      "metadata": {
        "id": "L5dEWSGQfD8C"
      },
      "source": [
        "train_all_data = []"
      ],
      "execution_count": null,
      "outputs": []
    },
    {
      "cell_type": "code",
      "metadata": {
        "id": "AQxa-vMrdANz"
      },
      "source": [
        "for i in range(len(data_train)):\n",
        "  title = data_train[i]['title']\n",
        "  elemento = data_train[i]['paragraphs']\n",
        "  for j in range(len(elemento)):\n",
        "    parrafo_particular = elemento[j]['context']\n",
        "    qas = elemento[j]['qas']\n",
        "    for k in range(len(qas)):\n",
        "      pregunta_particular = qas[k]['question']\n",
        "      es_imposible_particular = qas[k]['is_impossible']\n",
        "\n",
        "      dict_add = {}\n",
        "      dict_add['title'] = title.split(' ')\n",
        "      dict_add['paragraph'] = parrafo_particular.split(' ')\n",
        "      dict_add['is_impossible'] = es_imposible_particular\n",
        "      dict_add['question'] = pregunta_particular.split(' ')\n",
        "\n",
        "      train_all_data.append(dict_add)"
      ],
      "execution_count": null,
      "outputs": []
    },
    {
      "cell_type": "code",
      "metadata": {
        "colab": {
          "base_uri": "https://localhost:8080/"
        },
        "id": "HQbDVT8feh5H",
        "outputId": "70276e8f-cd25-4466-8c9f-2455a09fa09d"
      },
      "source": [
        "len(train_all_data)"
      ],
      "execution_count": null,
      "outputs": [
        {
          "output_type": "execute_result",
          "data": {
            "text/plain": [
              "130319"
            ]
          },
          "metadata": {
            "tags": []
          },
          "execution_count": 6
        }
      ]
    },
    {
      "cell_type": "code",
      "metadata": {
        "colab": {
          "base_uri": "https://localhost:8080/"
        },
        "id": "wLQPvmO7fLag",
        "outputId": "a3167ac6-5229-43d4-b9f9-672be7996831"
      },
      "source": [
        "train_all_data[0]"
      ],
      "execution_count": null,
      "outputs": [
        {
          "output_type": "execute_result",
          "data": {
            "text/plain": [
              "{'is_impossible': False,\n",
              " 'paragraph': ['Beyoncé',\n",
              "  'Giselle',\n",
              "  'Knowles-Carter',\n",
              "  '(/biːˈjɒnseɪ/',\n",
              "  'bee-YON-say)',\n",
              "  '(born',\n",
              "  'September',\n",
              "  '4,',\n",
              "  '1981)',\n",
              "  'is',\n",
              "  'an',\n",
              "  'American',\n",
              "  'singer,',\n",
              "  'songwriter,',\n",
              "  'record',\n",
              "  'producer',\n",
              "  'and',\n",
              "  'actress.',\n",
              "  'Born',\n",
              "  'and',\n",
              "  'raised',\n",
              "  'in',\n",
              "  'Houston,',\n",
              "  'Texas,',\n",
              "  'she',\n",
              "  'performed',\n",
              "  'in',\n",
              "  'various',\n",
              "  'singing',\n",
              "  'and',\n",
              "  'dancing',\n",
              "  'competitions',\n",
              "  'as',\n",
              "  'a',\n",
              "  'child,',\n",
              "  'and',\n",
              "  'rose',\n",
              "  'to',\n",
              "  'fame',\n",
              "  'in',\n",
              "  'the',\n",
              "  'late',\n",
              "  '1990s',\n",
              "  'as',\n",
              "  'lead',\n",
              "  'singer',\n",
              "  'of',\n",
              "  'R&B',\n",
              "  'girl-group',\n",
              "  \"Destiny's\",\n",
              "  'Child.',\n",
              "  'Managed',\n",
              "  'by',\n",
              "  'her',\n",
              "  'father,',\n",
              "  'Mathew',\n",
              "  'Knowles,',\n",
              "  'the',\n",
              "  'group',\n",
              "  'became',\n",
              "  'one',\n",
              "  'of',\n",
              "  'the',\n",
              "  \"world's\",\n",
              "  'best-selling',\n",
              "  'girl',\n",
              "  'groups',\n",
              "  'of',\n",
              "  'all',\n",
              "  'time.',\n",
              "  'Their',\n",
              "  'hiatus',\n",
              "  'saw',\n",
              "  'the',\n",
              "  'release',\n",
              "  'of',\n",
              "  \"Beyoncé's\",\n",
              "  'debut',\n",
              "  'album,',\n",
              "  'Dangerously',\n",
              "  'in',\n",
              "  'Love',\n",
              "  '(2003),',\n",
              "  'which',\n",
              "  'established',\n",
              "  'her',\n",
              "  'as',\n",
              "  'a',\n",
              "  'solo',\n",
              "  'artist',\n",
              "  'worldwide,',\n",
              "  'earned',\n",
              "  'five',\n",
              "  'Grammy',\n",
              "  'Awards',\n",
              "  'and',\n",
              "  'featured',\n",
              "  'the',\n",
              "  'Billboard',\n",
              "  'Hot',\n",
              "  '100',\n",
              "  'number-one',\n",
              "  'singles',\n",
              "  '\"Crazy',\n",
              "  'in',\n",
              "  'Love\"',\n",
              "  'and',\n",
              "  '\"Baby',\n",
              "  'Boy\".'],\n",
              " 'question': ['When', 'did', 'Beyonce', 'start', 'becoming', 'popular?'],\n",
              " 'title': ['Beyoncé']}"
            ]
          },
          "metadata": {
            "tags": []
          },
          "execution_count": 7
        }
      ]
    },
    {
      "cell_type": "markdown",
      "metadata": {
        "id": "wKJpKARQf-PG"
      },
      "source": [
        "Ahora construimos el dev/val data set"
      ]
    },
    {
      "cell_type": "code",
      "metadata": {
        "id": "C5rB-Yn2f-PH"
      },
      "source": [
        "import json\n",
        "archivo_val = open('drive/MyDrive/DeepLearningUC/Proyecto/dev-v2.0.json',)\n",
        "val_file = json.load(archivo_val)"
      ],
      "execution_count": null,
      "outputs": []
    },
    {
      "cell_type": "code",
      "metadata": {
        "id": "-j2m0pn3f-PI"
      },
      "source": [
        "data_val = val_file['data']"
      ],
      "execution_count": null,
      "outputs": []
    },
    {
      "cell_type": "code",
      "metadata": {
        "id": "kFTjD-dJf-PI"
      },
      "source": [
        "val_all_data = []"
      ],
      "execution_count": null,
      "outputs": []
    },
    {
      "cell_type": "code",
      "metadata": {
        "id": "EdLKmbvEf-PJ"
      },
      "source": [
        "for i in range(len(data_val)):\n",
        "  title = data_val[i]['title']\n",
        "  elemento = data_val[i]['paragraphs']\n",
        "  for j in range(len(elemento)):\n",
        "    parrafo_particular = elemento[j]['context']\n",
        "    qas = elemento[j]['qas']\n",
        "    for k in range(len(qas)):\n",
        "      pregunta_particular = qas[k]['question']\n",
        "      es_imposible_particular = qas[k]['is_impossible']\n",
        "\n",
        "      dict_add = {}\n",
        "      dict_add['title'] = title.split(' ')\n",
        "      dict_add['paragraph'] = parrafo_particular.split(' ')\n",
        "      dict_add['is_impossible'] = es_imposible_particular\n",
        "      dict_add['question'] = pregunta_particular.split(' ')\n",
        "\n",
        "      val_all_data.append(dict_add)"
      ],
      "execution_count": null,
      "outputs": []
    },
    {
      "cell_type": "code",
      "metadata": {
        "colab": {
          "base_uri": "https://localhost:8080/"
        },
        "id": "-T0LIlFxf-PJ",
        "outputId": "ae9fbbf2-44e4-4222-e881-59f092a3b2a8"
      },
      "source": [
        "len(val_all_data)"
      ],
      "execution_count": null,
      "outputs": [
        {
          "output_type": "execute_result",
          "data": {
            "text/plain": [
              "11873"
            ]
          },
          "metadata": {
            "tags": []
          },
          "execution_count": 12
        }
      ]
    },
    {
      "cell_type": "code",
      "metadata": {
        "colab": {
          "base_uri": "https://localhost:8080/"
        },
        "id": "G02_CtYsf-PK",
        "outputId": "c66f2f62-41af-4a58-8010-281c185495fc"
      },
      "source": [
        "val_all_data[0]"
      ],
      "execution_count": null,
      "outputs": [
        {
          "output_type": "execute_result",
          "data": {
            "text/plain": [
              "{'is_impossible': False,\n",
              " 'paragraph': ['The',\n",
              "  'Normans',\n",
              "  '(Norman:',\n",
              "  'Nourmands;',\n",
              "  'French:',\n",
              "  'Normands;',\n",
              "  'Latin:',\n",
              "  'Normanni)',\n",
              "  'were',\n",
              "  'the',\n",
              "  'people',\n",
              "  'who',\n",
              "  'in',\n",
              "  'the',\n",
              "  '10th',\n",
              "  'and',\n",
              "  '11th',\n",
              "  'centuries',\n",
              "  'gave',\n",
              "  'their',\n",
              "  'name',\n",
              "  'to',\n",
              "  'Normandy,',\n",
              "  'a',\n",
              "  'region',\n",
              "  'in',\n",
              "  'France.',\n",
              "  'They',\n",
              "  'were',\n",
              "  'descended',\n",
              "  'from',\n",
              "  'Norse',\n",
              "  '(\"Norman\"',\n",
              "  'comes',\n",
              "  'from',\n",
              "  '\"Norseman\")',\n",
              "  'raiders',\n",
              "  'and',\n",
              "  'pirates',\n",
              "  'from',\n",
              "  'Denmark,',\n",
              "  'Iceland',\n",
              "  'and',\n",
              "  'Norway',\n",
              "  'who,',\n",
              "  'under',\n",
              "  'their',\n",
              "  'leader',\n",
              "  'Rollo,',\n",
              "  'agreed',\n",
              "  'to',\n",
              "  'swear',\n",
              "  'fealty',\n",
              "  'to',\n",
              "  'King',\n",
              "  'Charles',\n",
              "  'III',\n",
              "  'of',\n",
              "  'West',\n",
              "  'Francia.',\n",
              "  'Through',\n",
              "  'generations',\n",
              "  'of',\n",
              "  'assimilation',\n",
              "  'and',\n",
              "  'mixing',\n",
              "  'with',\n",
              "  'the',\n",
              "  'native',\n",
              "  'Frankish',\n",
              "  'and',\n",
              "  'Roman-Gaulish',\n",
              "  'populations,',\n",
              "  'their',\n",
              "  'descendants',\n",
              "  'would',\n",
              "  'gradually',\n",
              "  'merge',\n",
              "  'with',\n",
              "  'the',\n",
              "  'Carolingian-based',\n",
              "  'cultures',\n",
              "  'of',\n",
              "  'West',\n",
              "  'Francia.',\n",
              "  'The',\n",
              "  'distinct',\n",
              "  'cultural',\n",
              "  'and',\n",
              "  'ethnic',\n",
              "  'identity',\n",
              "  'of',\n",
              "  'the',\n",
              "  'Normans',\n",
              "  'emerged',\n",
              "  'initially',\n",
              "  'in',\n",
              "  'the',\n",
              "  'first',\n",
              "  'half',\n",
              "  'of',\n",
              "  'the',\n",
              "  '10th',\n",
              "  'century,',\n",
              "  'and',\n",
              "  'it',\n",
              "  'continued',\n",
              "  'to',\n",
              "  'evolve',\n",
              "  'over',\n",
              "  'the',\n",
              "  'succeeding',\n",
              "  'centuries.'],\n",
              " 'question': ['In', 'what', 'country', 'is', 'Normandy', 'located?'],\n",
              " 'title': ['Normans']}"
            ]
          },
          "metadata": {
            "tags": []
          },
          "execution_count": 13
        }
      ]
    },
    {
      "cell_type": "markdown",
      "metadata": {
        "id": "uCbJLF5Vg9q2"
      },
      "source": [
        "Ahora tenemos todos los datos recopilados. Ahora debemos partir con el embedding, pero para esto primero tenemos que calcular el largo maximo de los titulos, parrafos y preguntas."
      ]
    },
    {
      "cell_type": "code",
      "metadata": {
        "id": "MnFTjR5Gg1HA"
      },
      "source": [
        "len_paragraphs = []\n",
        "len_titles = []\n",
        "len_questions = []\n",
        "\n",
        "for i in train_all_data:\n",
        "  len_paragraphs.append(len(i['paragraph']))\n",
        "  len_titles.append(len(i['title']))\n",
        "  len_questions.append(len(i['question']))\n",
        "\n",
        "for j in val_all_data:\n",
        "  len_paragraphs.append(len(j['paragraph']))\n",
        "  len_titles.append(len(j['title']))\n",
        "  len_questions.append(len(j['question']))"
      ],
      "execution_count": null,
      "outputs": []
    },
    {
      "cell_type": "code",
      "metadata": {
        "id": "Z0Xlyhu-k3p7"
      },
      "source": [
        "import numpy as np"
      ],
      "execution_count": null,
      "outputs": []
    },
    {
      "cell_type": "code",
      "metadata": {
        "id": "1AMbJ_aclMcw"
      },
      "source": [
        "# Vemos primero el largo de los titulos\n",
        "\n",
        "largos_titulos = np.array(len_titles)"
      ],
      "execution_count": null,
      "outputs": []
    },
    {
      "cell_type": "code",
      "metadata": {
        "colab": {
          "base_uri": "https://localhost:8080/"
        },
        "id": "K-I--ndWlom0",
        "outputId": "2d63b6a0-f004-4d26-b9ef-25a15d53168c"
      },
      "source": [
        "np.mean(largos_titulos)"
      ],
      "execution_count": null,
      "outputs": [
        {
          "output_type": "execute_result",
          "data": {
            "text/plain": [
              "1.0"
            ]
          },
          "metadata": {
            "tags": []
          },
          "execution_count": 17
        }
      ]
    },
    {
      "cell_type": "code",
      "metadata": {
        "colab": {
          "base_uri": "https://localhost:8080/"
        },
        "id": "Ub5ITQSClqwt",
        "outputId": "d39a7b5b-7a04-4ae2-8f93-eb3075b27138"
      },
      "source": [
        "np.max(largos_titulos)"
      ],
      "execution_count": null,
      "outputs": [
        {
          "output_type": "execute_result",
          "data": {
            "text/plain": [
              "1"
            ]
          },
          "metadata": {
            "tags": []
          },
          "execution_count": 18
        }
      ]
    },
    {
      "cell_type": "markdown",
      "metadata": {
        "id": "S7qiZTbYltEb"
      },
      "source": [
        "Nos damos cuenta que aquí no hay ningún problema en cuanto a largos de los titulos"
      ]
    },
    {
      "cell_type": "code",
      "metadata": {
        "id": "KzWnACBbigse"
      },
      "source": [
        "# Vemos ahora el largo de las preguntas\n",
        "\n",
        "largos_preguntas = np.array(len_questions)"
      ],
      "execution_count": null,
      "outputs": []
    },
    {
      "cell_type": "code",
      "metadata": {
        "colab": {
          "base_uri": "https://localhost:8080/"
        },
        "id": "La-TLkFDi6yx",
        "outputId": "5ea2891b-c7a2-4401-c073-a74757b3225e"
      },
      "source": [
        "np.mean(largos_preguntas)"
      ],
      "execution_count": null,
      "outputs": [
        {
          "output_type": "execute_result",
          "data": {
            "text/plain": [
              "10.139621075728593"
            ]
          },
          "metadata": {
            "tags": []
          },
          "execution_count": 20
        }
      ]
    },
    {
      "cell_type": "code",
      "metadata": {
        "colab": {
          "base_uri": "https://localhost:8080/"
        },
        "id": "kED_wTXLkj2m",
        "outputId": "c30f63e6-a0a0-4c3f-8eb9-904286bfa7ce"
      },
      "source": [
        "np.max(largos_preguntas)"
      ],
      "execution_count": null,
      "outputs": [
        {
          "output_type": "execute_result",
          "data": {
            "text/plain": [
              "25601"
            ]
          },
          "metadata": {
            "tags": []
          },
          "execution_count": 21
        }
      ]
    },
    {
      "cell_type": "code",
      "metadata": {
        "colab": {
          "base_uri": "https://localhost:8080/"
        },
        "id": "AGO1bjhQmPxg",
        "outputId": "a9060165-01c8-4de7-fc07-450643cb8ea1"
      },
      "source": [
        "from scipy import stats\n",
        "stats.describe(largos_preguntas)"
      ],
      "execution_count": null,
      "outputs": [
        {
          "output_type": "execute_result",
          "data": {
            "text/plain": [
              "DescribeResult(nobs=142192, minmax=(1, 25601), mean=10.139621075728593, variance=4617.50646034407, skewness=375.64095377906085, kurtosis=141464.10683671138)"
            ]
          },
          "metadata": {
            "tags": []
          },
          "execution_count": 22
        }
      ]
    },
    {
      "cell_type": "code",
      "metadata": {
        "id": "IOW4LcLXmV10"
      },
      "source": [
        "contador = 0\n",
        "threeshold = 20\n",
        "\n",
        "for i in range(len(largos_preguntas)):\n",
        "  if largos_preguntas[i] > threeshold:\n",
        "    contador = contador + 1"
      ],
      "execution_count": null,
      "outputs": []
    },
    {
      "cell_type": "code",
      "metadata": {
        "colab": {
          "base_uri": "https://localhost:8080/"
        },
        "id": "RdZjujDtmh4g",
        "outputId": "9ac24d8b-e66b-4463-dcaa-39a2dd8ec09f"
      },
      "source": [
        "contador"
      ],
      "execution_count": null,
      "outputs": [
        {
          "output_type": "execute_result",
          "data": {
            "text/plain": [
              "1273"
            ]
          },
          "metadata": {
            "tags": []
          },
          "execution_count": 24
        }
      ]
    },
    {
      "cell_type": "code",
      "metadata": {
        "colab": {
          "base_uri": "https://localhost:8080/"
        },
        "id": "Z6jE-3cSmlDv",
        "outputId": "0fc6b9d1-de02-48e9-8a9a-d1974de57d43"
      },
      "source": [
        "(contador/len(largos_preguntas))*100"
      ],
      "execution_count": null,
      "outputs": [
        {
          "output_type": "execute_result",
          "data": {
            "text/plain": [
              "0.8952683695285247"
            ]
          },
          "metadata": {
            "tags": []
          },
          "execution_count": 25
        }
      ]
    },
    {
      "cell_type": "markdown",
      "metadata": {
        "id": "TLv75U_imBtW"
      },
      "source": [
        "Menos del 1% tiene preguntas con largos mayor a 20. Por ende, utilizaremos ese threeshold."
      ]
    },
    {
      "cell_type": "code",
      "metadata": {
        "id": "w2MqFa_BnBZi"
      },
      "source": [
        "# Vemos ahora el largo de los parrafos\n",
        "\n",
        "largos_parrafos = np.array(len_paragraphs)"
      ],
      "execution_count": null,
      "outputs": []
    },
    {
      "cell_type": "code",
      "metadata": {
        "colab": {
          "base_uri": "https://localhost:8080/"
        },
        "id": "myS5RTk5lJL6",
        "outputId": "7f202457-511c-4ded-ae0e-fb44aa311ec3"
      },
      "source": [
        "np.mean(largos_parrafos)"
      ],
      "execution_count": null,
      "outputs": [
        {
          "output_type": "execute_result",
          "data": {
            "text/plain": [
              "120.30805530550242"
            ]
          },
          "metadata": {
            "tags": []
          },
          "execution_count": 27
        }
      ]
    },
    {
      "cell_type": "code",
      "metadata": {
        "colab": {
          "base_uri": "https://localhost:8080/"
        },
        "id": "oyYDIMgpmD3g",
        "outputId": "be64418a-4a0b-4266-f96a-65dacf7daa41"
      },
      "source": [
        "np.max(largos_parrafos)"
      ],
      "execution_count": null,
      "outputs": [
        {
          "output_type": "execute_result",
          "data": {
            "text/plain": [
              "653"
            ]
          },
          "metadata": {
            "tags": []
          },
          "execution_count": 28
        }
      ]
    },
    {
      "cell_type": "code",
      "metadata": {
        "id": "W_80_6YcnQvO"
      },
      "source": [
        "contador = 0\n",
        "threeshold = 299\n",
        "\n",
        "for i in range(len(largos_parrafos)):\n",
        "  if largos_parrafos[i] > threeshold:\n",
        "    contador = contador + 1"
      ],
      "execution_count": null,
      "outputs": []
    },
    {
      "cell_type": "code",
      "metadata": {
        "colab": {
          "base_uri": "https://localhost:8080/"
        },
        "id": "z6O72meMncYi",
        "outputId": "363df89d-282e-4b83-816a-e751845643dc"
      },
      "source": [
        "contador"
      ],
      "execution_count": null,
      "outputs": [
        {
          "output_type": "execute_result",
          "data": {
            "text/plain": [
              "1121"
            ]
          },
          "metadata": {
            "tags": []
          },
          "execution_count": 30
        }
      ]
    },
    {
      "cell_type": "code",
      "metadata": {
        "colab": {
          "base_uri": "https://localhost:8080/"
        },
        "id": "19MkczaYndDR",
        "outputId": "63869f26-2f13-4065-beef-de2556f2c2ce"
      },
      "source": [
        "(contador/len(largos_parrafos))*100"
      ],
      "execution_count": null,
      "outputs": [
        {
          "output_type": "execute_result",
          "data": {
            "text/plain": [
              "0.7883706537639248"
            ]
          },
          "metadata": {
            "tags": []
          },
          "execution_count": 31
        }
      ]
    },
    {
      "cell_type": "markdown",
      "metadata": {
        "id": "VDtrsjNvntab"
      },
      "source": [
        "Como menos del 1% de los datos posee un largo de parrafo mayor o igual a 300, entonces utilizaremos ese threeshold para parrafos. "
      ]
    },
    {
      "cell_type": "markdown",
      "metadata": {
        "id": "BVqprqfdoco1"
      },
      "source": [
        "Limpieza de los datos"
      ]
    },
    {
      "cell_type": "code",
      "metadata": {
        "id": "NJWbEuZYoPzT"
      },
      "source": [
        "clean_train_all_data = []\n",
        "clean_val_all_data = []\n",
        "\n",
        "for i in range(len(train_all_data)):\n",
        "  element = train_all_data[i]\n",
        "  pregunta = element['question']\n",
        "  parrafo = element['paragraph']\n",
        "\n",
        "  if len(pregunta) <= 20 and len(parrafo) <= 299:\n",
        "    clean_train_all_data.append(element)\n",
        "\n",
        "#--------------------------------------------------\n",
        "\n",
        "for j in range(len(val_all_data)):\n",
        "  element = val_all_data[j]\n",
        "  pregunta = element['question']\n",
        "  parrafo = element['paragraph']\n",
        "\n",
        "  if len(pregunta) <= 20 and len(parrafo) <= 299:\n",
        "    clean_val_all_data.append(element)"
      ],
      "execution_count": null,
      "outputs": []
    },
    {
      "cell_type": "code",
      "metadata": {
        "colab": {
          "base_uri": "https://localhost:8080/"
        },
        "id": "DM8KyY6foY9F",
        "outputId": "89444272-dd56-433d-9157-f0099c9dab1f"
      },
      "source": [
        "len(clean_train_all_data) # Sigue teniendo una cantidad similar de datos"
      ],
      "execution_count": null,
      "outputs": [
        {
          "output_type": "execute_result",
          "data": {
            "text/plain": [
              "128248"
            ]
          },
          "metadata": {
            "tags": []
          },
          "execution_count": 33
        }
      ]
    },
    {
      "cell_type": "code",
      "metadata": {
        "colab": {
          "base_uri": "https://localhost:8080/"
        },
        "id": "PusMW4HppcSv",
        "outputId": "6852cfdd-4915-43cf-cc09-b52b1f3c7fbf"
      },
      "source": [
        "len(clean_val_all_data) # Sigue teniendo una cantidad similar de datos"
      ],
      "execution_count": null,
      "outputs": [
        {
          "output_type": "execute_result",
          "data": {
            "text/plain": [
              "11575"
            ]
          },
          "metadata": {
            "tags": []
          },
          "execution_count": 34
        }
      ]
    },
    {
      "cell_type": "markdown",
      "metadata": {
        "id": "c9qfNhYhp5fB"
      },
      "source": [
        "Volvemos a calcular los largos"
      ]
    },
    {
      "cell_type": "code",
      "metadata": {
        "id": "Tm1JIXQGphx_"
      },
      "source": [
        "len_paragraphs = []\n",
        "len_titles = []\n",
        "len_questions = []\n",
        "\n",
        "for i in range(len(clean_train_all_data)):\n",
        "  element = clean_train_all_data[i]\n",
        "\n",
        "  len_paragraphs.append(len(element['paragraph']))\n",
        "  len_titles.append(len(element['title']))\n",
        "  len_questions.append(len(element['question']))\n",
        "\n",
        "\n",
        "for j in range(len(clean_val_all_data)):\n",
        "  element = clean_val_all_data[j]\n",
        "\n",
        "  len_paragraphs.append(len(element['paragraph']))\n",
        "  len_titles.append(len(element['title']))\n",
        "  len_questions.append(len(element['question']))"
      ],
      "execution_count": null,
      "outputs": []
    },
    {
      "cell_type": "code",
      "metadata": {
        "colab": {
          "base_uri": "https://localhost:8080/"
        },
        "id": "9qSxaEoRqSDQ",
        "outputId": "58ba8665-c717-4ee4-8cda-5fc2b9949dcb"
      },
      "source": [
        "max(len_paragraphs)"
      ],
      "execution_count": null,
      "outputs": [
        {
          "output_type": "execute_result",
          "data": {
            "text/plain": [
              "299"
            ]
          },
          "metadata": {
            "tags": []
          },
          "execution_count": 36
        }
      ]
    },
    {
      "cell_type": "code",
      "metadata": {
        "colab": {
          "base_uri": "https://localhost:8080/"
        },
        "id": "owTP5D-8qUwz",
        "outputId": "523ebeb6-b2d9-4ad8-d02a-72adbb5f705a"
      },
      "source": [
        "max(len_questions)"
      ],
      "execution_count": null,
      "outputs": [
        {
          "output_type": "execute_result",
          "data": {
            "text/plain": [
              "20"
            ]
          },
          "metadata": {
            "tags": []
          },
          "execution_count": 37
        }
      ]
    },
    {
      "cell_type": "code",
      "metadata": {
        "colab": {
          "base_uri": "https://localhost:8080/"
        },
        "id": "6yfTq3XorPYc",
        "outputId": "8df0a1fe-4207-4b9a-b40d-c50db10c3b04"
      },
      "source": [
        "clean_train_all_data[0].keys()"
      ],
      "execution_count": null,
      "outputs": [
        {
          "output_type": "execute_result",
          "data": {
            "text/plain": [
              "dict_keys(['title', 'paragraph', 'is_impossible', 'question'])"
            ]
          },
          "metadata": {
            "tags": []
          },
          "execution_count": 38
        }
      ]
    },
    {
      "cell_type": "markdown",
      "metadata": {
        "id": "CQnYRN4J3VfL"
      },
      "source": [
        "Ahora hacemos el padding sobre todos los datos. En particular nos concentraremos en los parrafos y en las preguntas."
      ]
    },
    {
      "cell_type": "code",
      "metadata": {
        "id": "iQ-Z_DQvtDFq"
      },
      "source": [
        "for i in range(len(clean_train_all_data)):\n",
        "\n",
        "  # Padding en parrafo\n",
        "  while len(clean_train_all_data[i]['paragraph']) < 299:\n",
        "    clean_train_all_data[i]['paragraph'].append(' ')\n",
        "\n",
        "  # Padding en pregunta\n",
        "  while len(clean_train_all_data[i]['question']) < 20:\n",
        "    clean_train_all_data[i]['question'].append(' ')\n",
        "\n",
        "#------------------------------------------------------------\n",
        "\n",
        "for j in range(len(clean_val_all_data)):\n",
        "\n",
        "  # Padding en parrafo\n",
        "  while len(clean_val_all_data[j]['paragraph']) < 299:\n",
        "    clean_val_all_data[j]['paragraph'].append(' ')\n",
        "\n",
        "  # Padding en pregunta\n",
        "  while len(clean_val_all_data[j]['question']) < 20:\n",
        "    clean_val_all_data[j]['question'].append(' ')"
      ],
      "execution_count": null,
      "outputs": []
    },
    {
      "cell_type": "code",
      "metadata": {
        "id": "-O6PKhB45NH2"
      },
      "source": [
        "pre_final_train_data = []\n",
        "\n",
        "for i in range(len(clean_train_all_data)):\n",
        "\n",
        "  add = []\n",
        "\n",
        "  titulo = clean_train_all_data[i]['title']\n",
        "  parrafo = clean_train_all_data[i]['paragraph']\n",
        "  pregunta = clean_train_all_data[i]['question']\n",
        "  imposible = clean_train_all_data[i]['is_impossible']\n",
        "\n",
        "  add.append(titulo + parrafo)\n",
        "  add.append(pregunta)\n",
        "\n",
        "  if imposible == False:\n",
        "    add.append(1) # NO es IMPOSIBLE -> Es posible\n",
        "  else:\n",
        "    add.append(0)\n",
        "\n",
        "  pre_final_train_data.append(add)"
      ],
      "execution_count": null,
      "outputs": []
    },
    {
      "cell_type": "code",
      "metadata": {
        "id": "jvK3jKah6y7j"
      },
      "source": [
        "contador = 0\n",
        "\n",
        "for i in range(len(pre_final_train_data)):\n",
        "  if pre_final_train_data[i][2] == 1:\n",
        "    contador = contador + 1"
      ],
      "execution_count": null,
      "outputs": []
    },
    {
      "cell_type": "code",
      "metadata": {
        "colab": {
          "base_uri": "https://localhost:8080/"
        },
        "id": "fluatAeZ7aoy",
        "outputId": "3859e92a-e56c-4f48-cd6e-8ba6bdc93442"
      },
      "source": [
        "print(\"El porcentaje de preguntas que se pueden responder en train: \", round((contador/len(pre_final_train_data))*100, 2))"
      ],
      "execution_count": null,
      "outputs": [
        {
          "output_type": "stream",
          "text": [
            "El porcentaje de preguntas que se pueden responder en train:  66.51\n"
          ],
          "name": "stdout"
        }
      ]
    },
    {
      "cell_type": "code",
      "metadata": {
        "id": "gfJCCuva4H4A"
      },
      "source": [
        "pre_final_val_data = []\n",
        "\n",
        "for i in range(len(clean_val_all_data)):\n",
        "\n",
        "  add = []\n",
        "\n",
        "  titulo = clean_val_all_data[i]['title']\n",
        "  parrafo = clean_val_all_data[i]['paragraph']\n",
        "  pregunta = clean_val_all_data[i]['question']\n",
        "  imposible = clean_val_all_data[i]['is_impossible']\n",
        "\n",
        "  add.append(titulo + parrafo)\n",
        "  add.append(pregunta)\n",
        "\n",
        "  if imposible == False:\n",
        "    add.append(1) # NO es IMPOSIBLE -> Es posible\n",
        "  else:\n",
        "    add.append(0)\n",
        "\n",
        "  pre_final_val_data.append(add)"
      ],
      "execution_count": null,
      "outputs": []
    },
    {
      "cell_type": "code",
      "metadata": {
        "id": "qrZpaBFr8Thx"
      },
      "source": [
        "contador = 0\n",
        "\n",
        "for i in range(len(pre_final_val_data)):\n",
        "  if pre_final_val_data[i][2] == 1:\n",
        "    contador = contador + 1"
      ],
      "execution_count": null,
      "outputs": []
    },
    {
      "cell_type": "code",
      "metadata": {
        "colab": {
          "base_uri": "https://localhost:8080/"
        },
        "id": "eg5HTOoh8Th7",
        "outputId": "bc4b0d89-760d-48dc-ee1c-2727fb3cd2fb"
      },
      "source": [
        "print(\"El porcentaje de preguntas que se pueden responder en val: \", round((contador/len(pre_final_val_data))*100, 2))"
      ],
      "execution_count": null,
      "outputs": [
        {
          "output_type": "stream",
          "text": [
            "El porcentaje de preguntas que se pueden responder en val:  49.72\n"
          ],
          "name": "stdout"
        }
      ]
    },
    {
      "cell_type": "code",
      "metadata": {
        "id": "qUIRgb_09ATt"
      },
      "source": [
        "# pre_final_train_data  # Estos son los datos de TRAIN que tenemos hasta el momento\n",
        "# pre_final_val_data  # Estos son los datos de VAL que tenemos hasta el momento"
      ],
      "execution_count": null,
      "outputs": []
    },
    {
      "cell_type": "markdown",
      "metadata": {
        "id": "a_ltHysiLD8N"
      },
      "source": [
        "Cambiamos ahora el largo"
      ]
    },
    {
      "cell_type": "code",
      "metadata": {
        "id": "zCVBNsiWLGoi"
      },
      "source": [
        "N_train = 10_000\n",
        "N_train_inicio = 5_000\n",
        "N_train_fin = N_train_inicio + N_train\n",
        "N_val = 5_000\n",
        "\n",
        "pre_final_train_data = pre_final_train_data[N_train_inicio:N_train_fin]\n",
        "pre_final_val_data = pre_final_val_data[0:N_val]"
      ],
      "execution_count": null,
      "outputs": []
    },
    {
      "cell_type": "markdown",
      "metadata": {
        "id": "92rSX3Uo9rOs"
      },
      "source": [
        "## Embedding"
      ]
    },
    {
      "cell_type": "code",
      "metadata": {
        "id": "aem5s52YmW-j"
      },
      "source": [
        "import unicodedata\n",
        "\n",
        "def strip_accents(s):\n",
        "   return ''.join(c for c in unicodedata.normalize('NFD', s)\n",
        "                  if unicodedata.category(c) != 'Mn')"
      ],
      "execution_count": null,
      "outputs": []
    },
    {
      "cell_type": "code",
      "metadata": {
        "id": "zzOon96watea"
      },
      "source": [
        "def sacar_signos(frase):\n",
        "  nueva_frase = ''\n",
        "  for char in frase:\n",
        "    if char not in \"[.;:!\\'?,\\\"()\\[\\]<>&$#%=\\{\\}^-_/£\":\n",
        "      nueva_frase = nueva_frase + char\n",
        "  return strip_accents(nueva_frase.lower())"
      ],
      "execution_count": null,
      "outputs": []
    },
    {
      "cell_type": "code",
      "metadata": {
        "id": "5Pk5aCqCY97x"
      },
      "source": [
        "# Se debe limpiar de signos y de todo, así en el vocabulario también queda limpio\n",
        "pre_final_train_data_no_signs = []\n",
        "\n",
        "for i in range(len(pre_final_train_data)):\n",
        "  parrafo = pre_final_train_data[i][0]\n",
        "  pregunta = pre_final_train_data[i][1]\n",
        "\n",
        "  parrafo_no_signs = []\n",
        "  pregunta_no_signs = []\n",
        "\n",
        "  for j in range(len(parrafo)):\n",
        "    parrafo_no_signs.append(sacar_signos(parrafo[j]))\n",
        "\n",
        "  for k in range(len(pregunta)):\n",
        "    pregunta_no_signs.append(sacar_signos(pregunta[k]))\n",
        "  \n",
        "  add = []\n",
        "  add.append(parrafo_no_signs)\n",
        "  add.append(pregunta_no_signs)\n",
        "  add.append(pre_final_train_data[i][2])\n",
        "\n",
        "  pre_final_train_data_no_signs.append(add)"
      ],
      "execution_count": null,
      "outputs": []
    },
    {
      "cell_type": "code",
      "metadata": {
        "id": "fK2ky-zxbvW2"
      },
      "source": [
        "pre_final_val_data_no_signs = []\n",
        "\n",
        "for i in range(len(pre_final_val_data)):\n",
        "  parrafo = pre_final_val_data[i][0]\n",
        "  pregunta = pre_final_val_data[i][1]\n",
        "\n",
        "  parrafo_no_signs = []\n",
        "  pregunta_no_signs = []\n",
        "\n",
        "  for j in range(len(parrafo)):\n",
        "    parrafo_no_signs.append(sacar_signos(parrafo[j]))\n",
        "\n",
        "  for k in range(len(pregunta)):\n",
        "    pregunta_no_signs.append(sacar_signos(pregunta[k]))\n",
        "  \n",
        "  add = []\n",
        "  add.append(parrafo_no_signs)\n",
        "  add.append(pregunta_no_signs)\n",
        "  add.append(pre_final_val_data[i][2])\n",
        "\n",
        "  pre_final_val_data_no_signs.append(add)"
      ],
      "execution_count": null,
      "outputs": []
    },
    {
      "cell_type": "code",
      "metadata": {
        "id": "MUbQZTW05VDS"
      },
      "source": [
        "# Guardar la data hasta aqui"
      ],
      "execution_count": null,
      "outputs": []
    },
    {
      "cell_type": "code",
      "metadata": {
        "id": "Zj7ZJa405qVp"
      },
      "source": [
        "my_path = 'drive/MyDrive/DeepLearningUC/Proyecto/Data_Previa'"
      ],
      "execution_count": null,
      "outputs": []
    },
    {
      "cell_type": "code",
      "metadata": {
        "id": "VLTNwexA5qVp"
      },
      "source": [
        "import os\n",
        "import pickle\n",
        "\n",
        "if not os.path.exists(my_path):\n",
        "  os.makedirs(my_path)"
      ],
      "execution_count": null,
      "outputs": []
    },
    {
      "cell_type": "code",
      "metadata": {
        "id": "nLM-sHyK5qVq"
      },
      "source": [
        "# Guardamos data\n",
        "data_to_save = {'pre_final_train_data_no_signs': pre_final_train_data_no_signs, 'pre_final_val_data_no_signs': pre_final_val_data_no_signs}"
      ],
      "execution_count": null,
      "outputs": []
    },
    {
      "cell_type": "code",
      "metadata": {
        "id": "wPWnZ7gv5qVq"
      },
      "source": [
        "nombre_data = 'data_previa'\n",
        "file_name = os.path.join(my_path, nombre_data)\n",
        "outfile = open(file_name,'wb')\n",
        "pickle.dump(data_to_save, outfile)\n",
        "outfile.close()"
      ],
      "execution_count": null,
      "outputs": []
    },
    {
      "cell_type": "code",
      "metadata": {
        "id": "Jdvj2fdo6ApU"
      },
      "source": [
        "# Cargamos la data previa\n",
        "\n",
        "import os\n",
        "import pickle\n",
        "import json\n",
        "import numpy as np"
      ],
      "execution_count": null,
      "outputs": []
    },
    {
      "cell_type": "code",
      "metadata": {
        "colab": {
          "base_uri": "https://localhost:8080/"
        },
        "id": "spnJkSc27sBw",
        "outputId": "4b6bcf50-b0da-46f8-e1d0-dd5a479a75ce"
      },
      "source": [
        "from google.colab import drive\n",
        "drive.mount('/content/drive')"
      ],
      "execution_count": null,
      "outputs": [
        {
          "output_type": "stream",
          "text": [
            "Drive already mounted at /content/drive; to attempt to forcibly remount, call drive.mount(\"/content/drive\", force_remount=True).\n"
          ],
          "name": "stdout"
        }
      ]
    },
    {
      "cell_type": "code",
      "metadata": {
        "id": "a-c2yc2W6ruw"
      },
      "source": [
        "nombre_data = 'data_previa'\n",
        "my_path = 'drive/MyDrive/DeepLearningUC/Proyecto/Data_Previa'\n",
        "file_name = os.path.join(my_path, nombre_data)\n",
        "infile = open(file_name, 'rb')\n",
        "data_to_save = pickle.load(infile)\n",
        "infile.close()"
      ],
      "execution_count": null,
      "outputs": []
    },
    {
      "cell_type": "code",
      "metadata": {
        "id": "d9ysIeWT7GA3"
      },
      "source": [
        "pre_final_train_data_no_signs = data_to_save['pre_final_train_data_no_signs']\n",
        "pre_final_val_data_no_signs = data_to_save['pre_final_val_data_no_signs']"
      ],
      "execution_count": null,
      "outputs": []
    },
    {
      "cell_type": "code",
      "metadata": {
        "id": "FO7HJtpEc8Fn"
      },
      "source": [
        "import gensim.downloader"
      ],
      "execution_count": null,
      "outputs": []
    },
    {
      "cell_type": "code",
      "metadata": {
        "id": "13nhLFOgdCKR"
      },
      "source": [
        "glove_vectors = gensim.downloader.load('word2vec-google-news-300')"
      ],
      "execution_count": null,
      "outputs": []
    },
    {
      "cell_type": "code",
      "metadata": {
        "id": "0L1SBTt4dMNh"
      },
      "source": [
        "def zero_vector(dimension):\n",
        "  lista = []\n",
        "  for i in range(dimension):\n",
        "    lista.append(0)\n",
        "  lista = np.array(lista, dtype = np.float32)\n",
        "  return lista"
      ],
      "execution_count": null,
      "outputs": []
    },
    {
      "cell_type": "code",
      "metadata": {
        "id": "oEKyZ11id8d0",
        "colab": {
          "base_uri": "https://localhost:8080/"
        },
        "outputId": "85af19cb-6ae0-418c-c6e6-09ce21e249ea"
      },
      "source": [
        "final_train_data_no_signs = []\n",
        "\n",
        "for i in range(len(pre_final_train_data_no_signs)):\n",
        "  elemento = pre_final_train_data_no_signs[i]\n",
        "\n",
        "  parrafo = elemento[0]\n",
        "  pregunta = elemento[1]\n",
        "  posible = elemento[2]\n",
        "\n",
        "  parrafo_embedding = []\n",
        "  pregunta_embedding = []\n",
        "\n",
        "  if i % 100 == 0:\n",
        "    print(i)\n",
        "\n",
        "  for j in range(len(parrafo)):\n",
        "    palabra = parrafo[j]\n",
        "\n",
        "    if palabra not in glove_vectors.vocab:\n",
        "      parrafo_embedding.append(zero_vector(300))\n",
        "    else:\n",
        "      parrafo_embedding.append(glove_vectors[palabra])\n",
        "\n",
        "  \n",
        "  for k in range(len(pregunta)):\n",
        "    palabra = pregunta[k]\n",
        "\n",
        "    if palabra not in glove_vectors.vocab:\n",
        "      pregunta_embedding.append(zero_vector(300))\n",
        "    else:\n",
        "      pregunta_embedding.append(glove_vectors[palabra])\n",
        "  \n",
        "  add = []\n",
        "\n",
        "  add.append(parrafo_embedding)\n",
        "  add.append(pregunta_embedding)\n",
        "  add.append(posible)\n",
        "\n",
        "  final_train_data_no_signs.append(add)"
      ],
      "execution_count": null,
      "outputs": [
        {
          "output_type": "stream",
          "text": [
            "0\n",
            "100\n",
            "200\n",
            "300\n",
            "400\n",
            "500\n",
            "600\n",
            "700\n",
            "800\n",
            "900\n",
            "1000\n",
            "1100\n",
            "1200\n",
            "1300\n",
            "1400\n",
            "1500\n",
            "1600\n",
            "1700\n",
            "1800\n",
            "1900\n",
            "2000\n",
            "2100\n",
            "2200\n",
            "2300\n",
            "2400\n",
            "2500\n",
            "2600\n",
            "2700\n",
            "2800\n",
            "2900\n",
            "3000\n",
            "3100\n",
            "3200\n",
            "3300\n",
            "3400\n",
            "3500\n",
            "3600\n",
            "3700\n",
            "3800\n",
            "3900\n",
            "4000\n",
            "4100\n",
            "4200\n",
            "4300\n",
            "4400\n",
            "4500\n",
            "4600\n",
            "4700\n",
            "4800\n",
            "4900\n",
            "5000\n",
            "5100\n",
            "5200\n",
            "5300\n",
            "5400\n",
            "5500\n",
            "5600\n",
            "5700\n",
            "5800\n",
            "5900\n",
            "6000\n",
            "6100\n",
            "6200\n",
            "6300\n",
            "6400\n",
            "6500\n",
            "6600\n",
            "6700\n",
            "6800\n",
            "6900\n",
            "7000\n",
            "7100\n",
            "7200\n",
            "7300\n",
            "7400\n",
            "7500\n",
            "7600\n",
            "7700\n",
            "7800\n",
            "7900\n",
            "8000\n",
            "8100\n",
            "8200\n",
            "8300\n",
            "8400\n",
            "8500\n",
            "8600\n",
            "8700\n",
            "8800\n",
            "8900\n",
            "9000\n",
            "9100\n",
            "9200\n",
            "9300\n",
            "9400\n",
            "9500\n",
            "9600\n",
            "9700\n",
            "9800\n",
            "9900\n"
          ],
          "name": "stdout"
        }
      ]
    },
    {
      "cell_type": "code",
      "metadata": {
        "id": "SqzIihv7-XfV"
      },
      "source": [
        "# Guardamos esta data"
      ],
      "execution_count": null,
      "outputs": []
    },
    {
      "cell_type": "code",
      "metadata": {
        "id": "cmq2qlJ--ZG_"
      },
      "source": [
        "my_path = 'drive/MyDrive/DeepLearningUC/Proyecto/Data'"
      ],
      "execution_count": null,
      "outputs": []
    },
    {
      "cell_type": "code",
      "metadata": {
        "id": "0-enGJlL-ZHA"
      },
      "source": [
        "import os\n",
        "import pickle\n",
        "\n",
        "if not os.path.exists(my_path):\n",
        "  os.makedirs(my_path)"
      ],
      "execution_count": null,
      "outputs": []
    },
    {
      "cell_type": "code",
      "metadata": {
        "id": "H66MBu5U-ZHA"
      },
      "source": [
        "# Guardamos data\n",
        "data_to_save = {'final_train_data_no_signs': final_train_data_no_signs}"
      ],
      "execution_count": null,
      "outputs": []
    },
    {
      "cell_type": "code",
      "metadata": {
        "id": "JwXon6v9-ZHA"
      },
      "source": [
        "nombre_data = 'data_train'\n",
        "file_name = os.path.join(my_path, nombre_data)\n",
        "outfile = open(file_name,'wb')\n",
        "pickle.dump(data_to_save, outfile)\n",
        "outfile.close()"
      ],
      "execution_count": null,
      "outputs": []
    },
    {
      "cell_type": "code",
      "metadata": {
        "id": "zHuOZayaDP24"
      },
      "source": [
        "# Cargamos la data train\n",
        "\n",
        "import os\n",
        "import pickle\n",
        "import json\n",
        "import numpy as np"
      ],
      "execution_count": null,
      "outputs": []
    },
    {
      "cell_type": "code",
      "metadata": {
        "colab": {
          "base_uri": "https://localhost:8080/"
        },
        "id": "J2H8AbwrDP25",
        "outputId": "2b7b98f5-c014-4259-9714-13ea433b53fa"
      },
      "source": [
        "from google.colab import drive\n",
        "drive.mount('/content/drive')"
      ],
      "execution_count": null,
      "outputs": [
        {
          "output_type": "stream",
          "text": [
            "Drive already mounted at /content/drive; to attempt to forcibly remount, call drive.mount(\"/content/drive\", force_remount=True).\n"
          ],
          "name": "stdout"
        }
      ]
    },
    {
      "cell_type": "code",
      "metadata": {
        "id": "tCfb7JzUDP26"
      },
      "source": [
        "nombre_data = 'data_train'\n",
        "my_path = 'drive/MyDrive/DeepLearningUC/Proyecto/Data'\n",
        "file_name = os.path.join(my_path, nombre_data)\n",
        "infile = open(file_name, 'rb')\n",
        "data_to_save = pickle.load(infile)\n",
        "infile.close()"
      ],
      "execution_count": null,
      "outputs": []
    },
    {
      "cell_type": "code",
      "metadata": {
        "id": "YDSKWIfIDP26"
      },
      "source": [
        "final_train_data_no_signs = data_to_save['final_train_data_no_signs']"
      ],
      "execution_count": null,
      "outputs": []
    },
    {
      "cell_type": "code",
      "metadata": {
        "id": "2MgXylrCD1Ec"
      },
      "source": [
        "# Validacion"
      ],
      "execution_count": null,
      "outputs": []
    },
    {
      "cell_type": "code",
      "metadata": {
        "colab": {
          "base_uri": "https://localhost:8080/"
        },
        "id": "40Yx_Ch9srVT",
        "outputId": "ca28a786-0802-4031-911d-332d6305784d"
      },
      "source": [
        "final_val_data_no_signs = []\n",
        "\n",
        "for i in range(len(pre_final_val_data_no_signs)):\n",
        "  elemento = pre_final_val_data_no_signs[i]\n",
        "\n",
        "  parrafo = elemento[0]\n",
        "  pregunta = elemento[1]\n",
        "  posible = elemento[2]\n",
        "\n",
        "  parrafo_embedding = []\n",
        "  pregunta_embedding = []\n",
        "\n",
        "  if i % 100 == 0:\n",
        "    print(i)\n",
        "\n",
        "  for j in range(len(parrafo)):\n",
        "    palabra = parrafo[j]\n",
        "\n",
        "    if palabra not in glove_vectors.vocab:\n",
        "      parrafo_embedding.append(zero_vector(300))\n",
        "    else:\n",
        "      parrafo_embedding.append(glove_vectors[palabra])\n",
        "\n",
        "  for k in range(len(pregunta)):\n",
        "    palabra = pregunta[k]\n",
        "\n",
        "    if palabra not in glove_vectors.vocab:\n",
        "      pregunta_embedding.append(zero_vector(300))\n",
        "    else:\n",
        "      pregunta_embedding.append(glove_vectors[palabra])\n",
        "  \n",
        "  add = []\n",
        "\n",
        "  add.append(parrafo_embedding)\n",
        "  add.append(pregunta_embedding)\n",
        "  add.append(posible)\n",
        "\n",
        "  final_val_data_no_signs.append(add)"
      ],
      "execution_count": null,
      "outputs": [
        {
          "output_type": "stream",
          "text": [
            "0\n",
            "100\n",
            "200\n",
            "300\n",
            "400\n",
            "500\n",
            "600\n",
            "700\n",
            "800\n",
            "900\n",
            "1000\n",
            "1100\n",
            "1200\n",
            "1300\n",
            "1400\n",
            "1500\n",
            "1600\n",
            "1700\n",
            "1800\n",
            "1900\n",
            "2000\n",
            "2100\n",
            "2200\n",
            "2300\n",
            "2400\n",
            "2500\n",
            "2600\n",
            "2700\n",
            "2800\n",
            "2900\n",
            "3000\n",
            "3100\n",
            "3200\n",
            "3300\n",
            "3400\n",
            "3500\n",
            "3600\n",
            "3700\n",
            "3800\n",
            "3900\n",
            "4000\n",
            "4100\n",
            "4200\n",
            "4300\n",
            "4400\n",
            "4500\n",
            "4600\n",
            "4700\n",
            "4800\n",
            "4900\n"
          ],
          "name": "stdout"
        }
      ]
    },
    {
      "cell_type": "code",
      "metadata": {
        "id": "X88R31hpE2b4"
      },
      "source": [
        "# Guardamos esta data"
      ],
      "execution_count": null,
      "outputs": []
    },
    {
      "cell_type": "code",
      "metadata": {
        "id": "tYwK_kTXE2b4"
      },
      "source": [
        "my_path = 'drive/MyDrive/DeepLearningUC/Proyecto/Data'"
      ],
      "execution_count": null,
      "outputs": []
    },
    {
      "cell_type": "code",
      "metadata": {
        "id": "ZNwWIK7vE2b4"
      },
      "source": [
        "import os\n",
        "import pickle\n",
        "\n",
        "if not os.path.exists(my_path):\n",
        "  os.makedirs(my_path)"
      ],
      "execution_count": null,
      "outputs": []
    },
    {
      "cell_type": "code",
      "metadata": {
        "id": "HUCdCnTpE2b4"
      },
      "source": [
        "# Guardamos data\n",
        "data_to_save = {'final_val_data_no_signs': final_val_data_no_signs}"
      ],
      "execution_count": null,
      "outputs": []
    },
    {
      "cell_type": "code",
      "metadata": {
        "id": "4AejOzQjE2b5"
      },
      "source": [
        "nombre_data = 'data_val'\n",
        "file_name = os.path.join(my_path, nombre_data)\n",
        "outfile = open(file_name,'wb')\n",
        "pickle.dump(data_to_save, outfile)\n",
        "outfile.close()"
      ],
      "execution_count": null,
      "outputs": []
    },
    {
      "cell_type": "code",
      "metadata": {
        "id": "k3y81Zb-E2b5"
      },
      "source": [
        "# Cargamos la data val\n",
        "\n",
        "import os\n",
        "import pickle\n",
        "import json\n",
        "import numpy as np"
      ],
      "execution_count": null,
      "outputs": []
    },
    {
      "cell_type": "code",
      "metadata": {
        "colab": {
          "base_uri": "https://localhost:8080/"
        },
        "id": "JbHpzR9qE2b5",
        "outputId": "dacf4ce2-7ede-4306-e2c3-eb7bf44c6309"
      },
      "source": [
        "from google.colab import drive\n",
        "drive.mount('/content/drive')"
      ],
      "execution_count": null,
      "outputs": [
        {
          "output_type": "stream",
          "text": [
            "Drive already mounted at /content/drive; to attempt to forcibly remount, call drive.mount(\"/content/drive\", force_remount=True).\n"
          ],
          "name": "stdout"
        }
      ]
    },
    {
      "cell_type": "code",
      "metadata": {
        "id": "S77UwJuxE2b5"
      },
      "source": [
        "nombre_data = 'data_val'\n",
        "my_path = 'drive/MyDrive/DeepLearningUC/Proyecto/Data'\n",
        "file_name = os.path.join(my_path, nombre_data)\n",
        "infile = open(file_name, 'rb')\n",
        "data_to_save = pickle.load(infile)\n",
        "infile.close()"
      ],
      "execution_count": null,
      "outputs": []
    },
    {
      "cell_type": "code",
      "metadata": {
        "id": "HYbjPxPfE2b5"
      },
      "source": [
        "final_val_data_no_signs = data_to_save['final_val_data_no_signs']"
      ],
      "execution_count": null,
      "outputs": []
    },
    {
      "cell_type": "code",
      "metadata": {
        "id": "msvLvrAGmUGM"
      },
      "source": [
        "# TRAIN\n",
        "\n",
        "input_seq_train_no_final = []\n",
        "label_seq_train_no_final = []\n",
        "\n",
        "for i in range(len(final_train_data_no_signs)):\n",
        "  elemento = final_train_data_no_signs[i]\n",
        "\n",
        "  parrafo = elemento[0]\n",
        "  pregunta = elemento[1]\n",
        "  posible = elemento[2]\n",
        "\n",
        "  input_seq_train_no_final.append(pregunta+parrafo)\n",
        "  label_seq_train_no_final.append(posible)"
      ],
      "execution_count": null,
      "outputs": []
    },
    {
      "cell_type": "code",
      "metadata": {
        "id": "bW-VGOnLvP1f"
      },
      "source": [
        "# DEV AND TEST\n",
        "\n",
        "input_seq_dev_no_final = []\n",
        "label_seq_dev_no_final = []\n",
        "\n",
        "input_seq_test_no_final = []\n",
        "label_seq_test_no_final = []\n",
        "\n",
        "for i in range(len(final_val_data_no_signs)):\n",
        "\n",
        "  elemento = final_val_data_no_signs[i]\n",
        "\n",
        "  parrafo = elemento[0]\n",
        "  pregunta = elemento[1]\n",
        "  posible = elemento[2]\n",
        "\n",
        "  if i < 2500:\n",
        "    # Dev\n",
        "    input_seq_dev_no_final.append(pregunta+parrafo)\n",
        "    label_seq_dev_no_final.append(posible)\n",
        "\n",
        "  else: \n",
        "    # Test\n",
        "    input_seq_test_no_final.append(pregunta+parrafo)\n",
        "    label_seq_test_no_final.append(posible)"
      ],
      "execution_count": null,
      "outputs": []
    },
    {
      "cell_type": "markdown",
      "metadata": {
        "id": "i1vZOcGiwWZK"
      },
      "source": [
        "Ahora esta todo listo el Embedding y la separación de datos. Ahora solo faltan los data loaders y la creacion del modelo. "
      ]
    },
    {
      "cell_type": "code",
      "metadata": {
        "id": "0x63SX2BxGTE"
      },
      "source": [
        "# Visualización: TRAIN"
      ],
      "execution_count": null,
      "outputs": []
    },
    {
      "cell_type": "code",
      "metadata": {
        "colab": {
          "base_uri": "https://localhost:8080/"
        },
        "id": "l8phBVLtwuRO",
        "outputId": "c7400d8f-47aa-4853-dc4b-dd2ebc746530"
      },
      "source": [
        "len(input_seq_train_no_final)"
      ],
      "execution_count": null,
      "outputs": [
        {
          "output_type": "execute_result",
          "data": {
            "text/plain": [
              "10000"
            ]
          },
          "metadata": {
            "tags": []
          },
          "execution_count": 12
        }
      ]
    },
    {
      "cell_type": "code",
      "metadata": {
        "colab": {
          "base_uri": "https://localhost:8080/"
        },
        "id": "t2afjzPTw3v3",
        "outputId": "38e3acf6-9cc8-4e71-9e8d-65c7bc64d7b8"
      },
      "source": [
        "len(input_seq_train_no_final[0])"
      ],
      "execution_count": null,
      "outputs": [
        {
          "output_type": "execute_result",
          "data": {
            "text/plain": [
              "320"
            ]
          },
          "metadata": {
            "tags": []
          },
          "execution_count": 13
        }
      ]
    },
    {
      "cell_type": "code",
      "metadata": {
        "colab": {
          "base_uri": "https://localhost:8080/"
        },
        "id": "K1-fId3ew6JL",
        "outputId": "c94b9cec-20d4-4959-edbd-d6193fdaeba8"
      },
      "source": [
        "len(input_seq_train_no_final[0][0])"
      ],
      "execution_count": null,
      "outputs": [
        {
          "output_type": "execute_result",
          "data": {
            "text/plain": [
              "300"
            ]
          },
          "metadata": {
            "tags": []
          },
          "execution_count": 14
        }
      ]
    },
    {
      "cell_type": "code",
      "metadata": {
        "colab": {
          "base_uri": "https://localhost:8080/"
        },
        "id": "kWh9f3AXw9Ms",
        "outputId": "ae9f5493-a8d8-4611-d50c-8e8ee6af17dc"
      },
      "source": [
        "input_seq_train_no_final[0][0][0]"
      ],
      "execution_count": null,
      "outputs": [
        {
          "output_type": "execute_result",
          "data": {
            "text/plain": [
              "0.13964844"
            ]
          },
          "metadata": {
            "tags": []
          },
          "execution_count": 15
        }
      ]
    },
    {
      "cell_type": "code",
      "metadata": {
        "colab": {
          "base_uri": "https://localhost:8080/"
        },
        "id": "y5qb7m7JxIVP",
        "outputId": "6c397936-1782-4ccc-d5c0-dae2e03059d7"
      },
      "source": [
        "label_seq_train_no_final"
      ],
      "execution_count": null,
      "outputs": [
        {
          "output_type": "execute_result",
          "data": {
            "text/plain": [
              "[1,\n",
              " 1,\n",
              " 1,\n",
              " 1,\n",
              " 1,\n",
              " 1,\n",
              " 1,\n",
              " 1,\n",
              " 1,\n",
              " 1,\n",
              " 1,\n",
              " 1,\n",
              " 1,\n",
              " 1,\n",
              " 1,\n",
              " 1,\n",
              " 1,\n",
              " 1,\n",
              " 1,\n",
              " 1,\n",
              " 1,\n",
              " 1,\n",
              " 1,\n",
              " 1,\n",
              " 1,\n",
              " 1,\n",
              " 1,\n",
              " 1,\n",
              " 1,\n",
              " 1,\n",
              " 1,\n",
              " 1,\n",
              " 1,\n",
              " 1,\n",
              " 1,\n",
              " 1,\n",
              " 1,\n",
              " 1,\n",
              " 1,\n",
              " 1,\n",
              " 1,\n",
              " 1,\n",
              " 1,\n",
              " 1,\n",
              " 1,\n",
              " 1,\n",
              " 1,\n",
              " 1,\n",
              " 1,\n",
              " 1,\n",
              " 1,\n",
              " 1,\n",
              " 1,\n",
              " 1,\n",
              " 1,\n",
              " 1,\n",
              " 1,\n",
              " 1,\n",
              " 1,\n",
              " 1,\n",
              " 1,\n",
              " 1,\n",
              " 1,\n",
              " 1,\n",
              " 1,\n",
              " 1,\n",
              " 1,\n",
              " 1,\n",
              " 1,\n",
              " 1,\n",
              " 1,\n",
              " 1,\n",
              " 1,\n",
              " 1,\n",
              " 1,\n",
              " 1,\n",
              " 1,\n",
              " 1,\n",
              " 1,\n",
              " 1,\n",
              " 1,\n",
              " 1,\n",
              " 1,\n",
              " 1,\n",
              " 1,\n",
              " 1,\n",
              " 1,\n",
              " 1,\n",
              " 1,\n",
              " 1,\n",
              " 1,\n",
              " 1,\n",
              " 1,\n",
              " 1,\n",
              " 1,\n",
              " 1,\n",
              " 1,\n",
              " 1,\n",
              " 1,\n",
              " 1,\n",
              " 1,\n",
              " 1,\n",
              " 1,\n",
              " 1,\n",
              " 1,\n",
              " 1,\n",
              " 1,\n",
              " 1,\n",
              " 1,\n",
              " 1,\n",
              " 1,\n",
              " 1,\n",
              " 1,\n",
              " 1,\n",
              " 1,\n",
              " 1,\n",
              " 1,\n",
              " 1,\n",
              " 1,\n",
              " 1,\n",
              " 1,\n",
              " 1,\n",
              " 1,\n",
              " 1,\n",
              " 1,\n",
              " 1,\n",
              " 1,\n",
              " 1,\n",
              " 1,\n",
              " 1,\n",
              " 1,\n",
              " 1,\n",
              " 1,\n",
              " 1,\n",
              " 1,\n",
              " 1,\n",
              " 1,\n",
              " 1,\n",
              " 1,\n",
              " 1,\n",
              " 1,\n",
              " 1,\n",
              " 1,\n",
              " 1,\n",
              " 1,\n",
              " 1,\n",
              " 1,\n",
              " 1,\n",
              " 1,\n",
              " 1,\n",
              " 1,\n",
              " 1,\n",
              " 1,\n",
              " 1,\n",
              " 1,\n",
              " 1,\n",
              " 1,\n",
              " 1,\n",
              " 1,\n",
              " 1,\n",
              " 1,\n",
              " 1,\n",
              " 1,\n",
              " 1,\n",
              " 1,\n",
              " 1,\n",
              " 1,\n",
              " 1,\n",
              " 1,\n",
              " 1,\n",
              " 1,\n",
              " 1,\n",
              " 1,\n",
              " 1,\n",
              " 1,\n",
              " 1,\n",
              " 1,\n",
              " 1,\n",
              " 1,\n",
              " 1,\n",
              " 1,\n",
              " 1,\n",
              " 1,\n",
              " 1,\n",
              " 1,\n",
              " 1,\n",
              " 1,\n",
              " 1,\n",
              " 1,\n",
              " 1,\n",
              " 1,\n",
              " 1,\n",
              " 1,\n",
              " 1,\n",
              " 1,\n",
              " 1,\n",
              " 1,\n",
              " 1,\n",
              " 1,\n",
              " 1,\n",
              " 1,\n",
              " 1,\n",
              " 1,\n",
              " 1,\n",
              " 1,\n",
              " 1,\n",
              " 1,\n",
              " 1,\n",
              " 1,\n",
              " 1,\n",
              " 1,\n",
              " 1,\n",
              " 1,\n",
              " 1,\n",
              " 1,\n",
              " 1,\n",
              " 1,\n",
              " 1,\n",
              " 1,\n",
              " 1,\n",
              " 1,\n",
              " 1,\n",
              " 1,\n",
              " 1,\n",
              " 1,\n",
              " 1,\n",
              " 1,\n",
              " 1,\n",
              " 1,\n",
              " 1,\n",
              " 1,\n",
              " 1,\n",
              " 1,\n",
              " 1,\n",
              " 1,\n",
              " 1,\n",
              " 1,\n",
              " 1,\n",
              " 1,\n",
              " 1,\n",
              " 1,\n",
              " 1,\n",
              " 1,\n",
              " 1,\n",
              " 1,\n",
              " 1,\n",
              " 1,\n",
              " 1,\n",
              " 1,\n",
              " 1,\n",
              " 1,\n",
              " 1,\n",
              " 1,\n",
              " 1,\n",
              " 1,\n",
              " 1,\n",
              " 1,\n",
              " 1,\n",
              " 1,\n",
              " 1,\n",
              " 1,\n",
              " 1,\n",
              " 1,\n",
              " 1,\n",
              " 1,\n",
              " 1,\n",
              " 1,\n",
              " 1,\n",
              " 1,\n",
              " 1,\n",
              " 1,\n",
              " 1,\n",
              " 1,\n",
              " 1,\n",
              " 1,\n",
              " 1,\n",
              " 1,\n",
              " 1,\n",
              " 1,\n",
              " 1,\n",
              " 1,\n",
              " 1,\n",
              " 1,\n",
              " 1,\n",
              " 1,\n",
              " 1,\n",
              " 1,\n",
              " 1,\n",
              " 1,\n",
              " 1,\n",
              " 1,\n",
              " 1,\n",
              " 1,\n",
              " 1,\n",
              " 1,\n",
              " 1,\n",
              " 1,\n",
              " 1,\n",
              " 1,\n",
              " 1,\n",
              " 1,\n",
              " 1,\n",
              " 1,\n",
              " 1,\n",
              " 1,\n",
              " 1,\n",
              " 1,\n",
              " 1,\n",
              " 1,\n",
              " 1,\n",
              " 1,\n",
              " 1,\n",
              " 1,\n",
              " 1,\n",
              " 1,\n",
              " 1,\n",
              " 1,\n",
              " 1,\n",
              " 1,\n",
              " 1,\n",
              " 1,\n",
              " 1,\n",
              " 1,\n",
              " 1,\n",
              " 1,\n",
              " 1,\n",
              " 1,\n",
              " 1,\n",
              " 1,\n",
              " 1,\n",
              " 1,\n",
              " 1,\n",
              " 1,\n",
              " 1,\n",
              " 1,\n",
              " 1,\n",
              " 1,\n",
              " 1,\n",
              " 1,\n",
              " 1,\n",
              " 1,\n",
              " 1,\n",
              " 1,\n",
              " 1,\n",
              " 1,\n",
              " 1,\n",
              " 1,\n",
              " 1,\n",
              " 1,\n",
              " 1,\n",
              " 1,\n",
              " 1,\n",
              " 1,\n",
              " 1,\n",
              " 1,\n",
              " 1,\n",
              " 1,\n",
              " 1,\n",
              " 1,\n",
              " 1,\n",
              " 1,\n",
              " 1,\n",
              " 1,\n",
              " 1,\n",
              " 1,\n",
              " 1,\n",
              " 1,\n",
              " 1,\n",
              " 1,\n",
              " 1,\n",
              " 1,\n",
              " 1,\n",
              " 1,\n",
              " 1,\n",
              " 1,\n",
              " 1,\n",
              " 1,\n",
              " 1,\n",
              " 1,\n",
              " 1,\n",
              " 1,\n",
              " 1,\n",
              " 1,\n",
              " 1,\n",
              " 1,\n",
              " 1,\n",
              " 1,\n",
              " 1,\n",
              " 1,\n",
              " 1,\n",
              " 1,\n",
              " 1,\n",
              " 1,\n",
              " 1,\n",
              " 1,\n",
              " 1,\n",
              " 1,\n",
              " 1,\n",
              " 1,\n",
              " 1,\n",
              " 1,\n",
              " 1,\n",
              " 1,\n",
              " 1,\n",
              " 1,\n",
              " 1,\n",
              " 1,\n",
              " 1,\n",
              " 1,\n",
              " 1,\n",
              " 1,\n",
              " 1,\n",
              " 1,\n",
              " 1,\n",
              " 1,\n",
              " 1,\n",
              " 1,\n",
              " 1,\n",
              " 1,\n",
              " 1,\n",
              " 1,\n",
              " 1,\n",
              " 1,\n",
              " 1,\n",
              " 1,\n",
              " 1,\n",
              " 1,\n",
              " 1,\n",
              " 1,\n",
              " 1,\n",
              " 1,\n",
              " 1,\n",
              " 1,\n",
              " 1,\n",
              " 1,\n",
              " 1,\n",
              " 1,\n",
              " 1,\n",
              " 1,\n",
              " 1,\n",
              " 1,\n",
              " 1,\n",
              " 1,\n",
              " 1,\n",
              " 1,\n",
              " 1,\n",
              " 1,\n",
              " 1,\n",
              " 1,\n",
              " 1,\n",
              " 1,\n",
              " 1,\n",
              " 1,\n",
              " 1,\n",
              " 1,\n",
              " 1,\n",
              " 1,\n",
              " 1,\n",
              " 1,\n",
              " 1,\n",
              " 1,\n",
              " 1,\n",
              " 1,\n",
              " 1,\n",
              " 1,\n",
              " 1,\n",
              " 1,\n",
              " 1,\n",
              " 1,\n",
              " 1,\n",
              " 1,\n",
              " 1,\n",
              " 1,\n",
              " 1,\n",
              " 1,\n",
              " 1,\n",
              " 1,\n",
              " 1,\n",
              " 1,\n",
              " 1,\n",
              " 1,\n",
              " 1,\n",
              " 1,\n",
              " 1,\n",
              " 1,\n",
              " 1,\n",
              " 1,\n",
              " 1,\n",
              " 1,\n",
              " 1,\n",
              " 1,\n",
              " 1,\n",
              " 1,\n",
              " 1,\n",
              " 1,\n",
              " 1,\n",
              " 1,\n",
              " 1,\n",
              " 1,\n",
              " 1,\n",
              " 1,\n",
              " 1,\n",
              " 1,\n",
              " 1,\n",
              " 1,\n",
              " 1,\n",
              " 1,\n",
              " 1,\n",
              " 1,\n",
              " 1,\n",
              " 1,\n",
              " 1,\n",
              " 1,\n",
              " 1,\n",
              " 1,\n",
              " 1,\n",
              " 1,\n",
              " 1,\n",
              " 1,\n",
              " 1,\n",
              " 1,\n",
              " 1,\n",
              " 1,\n",
              " 1,\n",
              " 1,\n",
              " 1,\n",
              " 1,\n",
              " 1,\n",
              " 1,\n",
              " 1,\n",
              " 1,\n",
              " 1,\n",
              " 1,\n",
              " 1,\n",
              " 1,\n",
              " 1,\n",
              " 1,\n",
              " 1,\n",
              " 1,\n",
              " 1,\n",
              " 1,\n",
              " 1,\n",
              " 1,\n",
              " 1,\n",
              " 1,\n",
              " 1,\n",
              " 1,\n",
              " 1,\n",
              " 1,\n",
              " 1,\n",
              " 1,\n",
              " 1,\n",
              " 1,\n",
              " 1,\n",
              " 1,\n",
              " 1,\n",
              " 1,\n",
              " 1,\n",
              " 1,\n",
              " 1,\n",
              " 1,\n",
              " 1,\n",
              " 1,\n",
              " 1,\n",
              " 1,\n",
              " 1,\n",
              " 1,\n",
              " 1,\n",
              " 1,\n",
              " 1,\n",
              " 1,\n",
              " 1,\n",
              " 1,\n",
              " 1,\n",
              " 1,\n",
              " 1,\n",
              " 1,\n",
              " 1,\n",
              " 1,\n",
              " 1,\n",
              " 1,\n",
              " 1,\n",
              " 1,\n",
              " 1,\n",
              " 1,\n",
              " 1,\n",
              " 1,\n",
              " 1,\n",
              " 1,\n",
              " 1,\n",
              " 1,\n",
              " 1,\n",
              " 1,\n",
              " 1,\n",
              " 1,\n",
              " 1,\n",
              " 1,\n",
              " 1,\n",
              " 1,\n",
              " 1,\n",
              " 1,\n",
              " 1,\n",
              " 1,\n",
              " 1,\n",
              " 1,\n",
              " 1,\n",
              " 1,\n",
              " 1,\n",
              " 1,\n",
              " 1,\n",
              " 1,\n",
              " 1,\n",
              " 1,\n",
              " 1,\n",
              " 1,\n",
              " 1,\n",
              " 1,\n",
              " 1,\n",
              " 1,\n",
              " 1,\n",
              " 1,\n",
              " 1,\n",
              " 1,\n",
              " 1,\n",
              " 1,\n",
              " 1,\n",
              " 1,\n",
              " 1,\n",
              " 1,\n",
              " 1,\n",
              " 1,\n",
              " 1,\n",
              " 1,\n",
              " 1,\n",
              " 1,\n",
              " 1,\n",
              " 1,\n",
              " 1,\n",
              " 1,\n",
              " 1,\n",
              " 1,\n",
              " 1,\n",
              " 1,\n",
              " 1,\n",
              " 1,\n",
              " 1,\n",
              " 1,\n",
              " 1,\n",
              " 1,\n",
              " 1,\n",
              " 1,\n",
              " 1,\n",
              " 1,\n",
              " 1,\n",
              " 1,\n",
              " 1,\n",
              " 1,\n",
              " 1,\n",
              " 1,\n",
              " 1,\n",
              " 1,\n",
              " 1,\n",
              " 1,\n",
              " 1,\n",
              " 1,\n",
              " 1,\n",
              " 1,\n",
              " 1,\n",
              " 1,\n",
              " 1,\n",
              " 1,\n",
              " 1,\n",
              " 1,\n",
              " 1,\n",
              " 1,\n",
              " 1,\n",
              " 1,\n",
              " 1,\n",
              " 1,\n",
              " 1,\n",
              " 1,\n",
              " 1,\n",
              " 1,\n",
              " 1,\n",
              " 1,\n",
              " 1,\n",
              " 1,\n",
              " 1,\n",
              " 1,\n",
              " 1,\n",
              " 1,\n",
              " 1,\n",
              " 1,\n",
              " 1,\n",
              " 1,\n",
              " 1,\n",
              " 1,\n",
              " 1,\n",
              " 1,\n",
              " 1,\n",
              " 1,\n",
              " 1,\n",
              " 1,\n",
              " 1,\n",
              " 1,\n",
              " 1,\n",
              " 1,\n",
              " 1,\n",
              " 1,\n",
              " 1,\n",
              " 1,\n",
              " 1,\n",
              " 1,\n",
              " 1,\n",
              " 1,\n",
              " 1,\n",
              " 1,\n",
              " 1,\n",
              " 1,\n",
              " 1,\n",
              " 1,\n",
              " 1,\n",
              " 1,\n",
              " 1,\n",
              " 1,\n",
              " 1,\n",
              " 1,\n",
              " 1,\n",
              " 1,\n",
              " 1,\n",
              " 1,\n",
              " 1,\n",
              " 1,\n",
              " 1,\n",
              " 1,\n",
              " 1,\n",
              " 1,\n",
              " 1,\n",
              " 1,\n",
              " 1,\n",
              " 1,\n",
              " 1,\n",
              " 1,\n",
              " 1,\n",
              " 1,\n",
              " 1,\n",
              " 1,\n",
              " 1,\n",
              " 1,\n",
              " 1,\n",
              " 1,\n",
              " 1,\n",
              " 1,\n",
              " 1,\n",
              " 1,\n",
              " 1,\n",
              " 1,\n",
              " 1,\n",
              " 1,\n",
              " 1,\n",
              " 1,\n",
              " 1,\n",
              " 1,\n",
              " 1,\n",
              " 1,\n",
              " 1,\n",
              " 1,\n",
              " 1,\n",
              " 1,\n",
              " 1,\n",
              " 1,\n",
              " 1,\n",
              " 1,\n",
              " 1,\n",
              " 1,\n",
              " 1,\n",
              " 1,\n",
              " 1,\n",
              " 1,\n",
              " 1,\n",
              " 1,\n",
              " 1,\n",
              " 1,\n",
              " 1,\n",
              " 1,\n",
              " 1,\n",
              " 1,\n",
              " 1,\n",
              " 1,\n",
              " 1,\n",
              " 1,\n",
              " 1,\n",
              " 1,\n",
              " 1,\n",
              " 1,\n",
              " 1,\n",
              " 1,\n",
              " 1,\n",
              " 1,\n",
              " 1,\n",
              " 1,\n",
              " 1,\n",
              " 1,\n",
              " 1,\n",
              " 1,\n",
              " 1,\n",
              " 1,\n",
              " 1,\n",
              " 1,\n",
              " 1,\n",
              " 1,\n",
              " 1,\n",
              " 1,\n",
              " 1,\n",
              " 1,\n",
              " 1,\n",
              " 1,\n",
              " 1,\n",
              " 1,\n",
              " 1,\n",
              " 1,\n",
              " 1,\n",
              " 1,\n",
              " 1,\n",
              " 1,\n",
              " 1,\n",
              " 1,\n",
              " 1,\n",
              " 1,\n",
              " 1,\n",
              " 1,\n",
              " 1,\n",
              " 1,\n",
              " 1,\n",
              " 1,\n",
              " 1,\n",
              " 1,\n",
              " 1,\n",
              " 1,\n",
              " 1,\n",
              " 1,\n",
              " 1,\n",
              " 1,\n",
              " 1,\n",
              " 1,\n",
              " 1,\n",
              " 1,\n",
              " 1,\n",
              " 1,\n",
              " 1,\n",
              " 1,\n",
              " 1,\n",
              " 1,\n",
              " 1,\n",
              " 1,\n",
              " 1,\n",
              " 1,\n",
              " 1,\n",
              " 1,\n",
              " 1,\n",
              " 1,\n",
              " 1,\n",
              " 1,\n",
              " 1,\n",
              " 1,\n",
              " 1,\n",
              " 1,\n",
              " 1,\n",
              " 1,\n",
              " 1,\n",
              " 1,\n",
              " 1,\n",
              " 1,\n",
              " 1,\n",
              " 1,\n",
              " 1,\n",
              " 1,\n",
              " 1,\n",
              " 1,\n",
              " 1,\n",
              " 1,\n",
              " 1,\n",
              " 1,\n",
              " 1,\n",
              " 1,\n",
              " 1,\n",
              " 1,\n",
              " 1,\n",
              " 1,\n",
              " 1,\n",
              " 1,\n",
              " 1,\n",
              " 1,\n",
              " 1,\n",
              " 1,\n",
              " 1,\n",
              " 1,\n",
              " 1,\n",
              " 1,\n",
              " 1,\n",
              " 1,\n",
              " 1,\n",
              " 1,\n",
              " 1,\n",
              " 1,\n",
              " 1,\n",
              " 1,\n",
              " 1,\n",
              " 1,\n",
              " 1,\n",
              " 1,\n",
              " 1,\n",
              " 1,\n",
              " 1,\n",
              " 1,\n",
              " 1,\n",
              " 1,\n",
              " 1,\n",
              " 1,\n",
              " 1,\n",
              " 1,\n",
              " 1,\n",
              " 1,\n",
              " 1,\n",
              " 1,\n",
              " 1,\n",
              " 1,\n",
              " 1,\n",
              " 1,\n",
              " 1,\n",
              " 1,\n",
              " 1,\n",
              " 1,\n",
              " 1,\n",
              " 1,\n",
              " 1,\n",
              " 1,\n",
              " 1,\n",
              " 1,\n",
              " 1,\n",
              " 1,\n",
              " 1,\n",
              " 1,\n",
              " 1,\n",
              " 1,\n",
              " 1,\n",
              " 1,\n",
              " 1,\n",
              " 1,\n",
              " 1,\n",
              " 1,\n",
              " 1,\n",
              " 1,\n",
              " 1,\n",
              " 1,\n",
              " 1,\n",
              " 1,\n",
              " 1,\n",
              " 1,\n",
              " 1,\n",
              " 1,\n",
              " 1,\n",
              " 1,\n",
              " 1,\n",
              " 1,\n",
              " 1,\n",
              " 1,\n",
              " 1,\n",
              " 1,\n",
              " 1,\n",
              " 1,\n",
              " 1,\n",
              " 1,\n",
              " 1,\n",
              " 1,\n",
              " 1,\n",
              " 1,\n",
              " 1,\n",
              " 1,\n",
              " 1,\n",
              " 1,\n",
              " 1,\n",
              " 1,\n",
              " 1,\n",
              " 1,\n",
              " 1,\n",
              " 1,\n",
              " 1,\n",
              " 1,\n",
              " 1,\n",
              " 1,\n",
              " 1,\n",
              " 1,\n",
              " 1,\n",
              " 1,\n",
              " 1,\n",
              " 1,\n",
              " 1,\n",
              " 1,\n",
              " 1,\n",
              " ...]"
            ]
          },
          "metadata": {
            "tags": []
          },
          "execution_count": 16
        }
      ]
    },
    {
      "cell_type": "code",
      "metadata": {
        "id": "HTDbD-0XxMBU"
      },
      "source": [
        "p1 = np.array(label_seq_train_no_final)"
      ],
      "execution_count": null,
      "outputs": []
    },
    {
      "cell_type": "code",
      "metadata": {
        "colab": {
          "base_uri": "https://localhost:8080/"
        },
        "id": "x3ckYNz7xPPT",
        "outputId": "25ca8ace-422a-403b-f31d-acad62051e39"
      },
      "source": [
        "np.mean(p1)"
      ],
      "execution_count": null,
      "outputs": [
        {
          "output_type": "execute_result",
          "data": {
            "text/plain": [
              "0.6637"
            ]
          },
          "metadata": {
            "tags": []
          },
          "execution_count": 18
        }
      ]
    },
    {
      "cell_type": "code",
      "metadata": {
        "id": "Jt2BXLgxwuTr"
      },
      "source": [
        "# Visualización: DEV"
      ],
      "execution_count": null,
      "outputs": []
    },
    {
      "cell_type": "code",
      "metadata": {
        "colab": {
          "base_uri": "https://localhost:8080/"
        },
        "id": "yB4RLaokxbr-",
        "outputId": "43c79404-bffa-4cc8-b939-cee711952b38"
      },
      "source": [
        "len(input_seq_dev_no_final)"
      ],
      "execution_count": null,
      "outputs": [
        {
          "output_type": "execute_result",
          "data": {
            "text/plain": [
              "2500"
            ]
          },
          "metadata": {
            "tags": []
          },
          "execution_count": 20
        }
      ]
    },
    {
      "cell_type": "code",
      "metadata": {
        "colab": {
          "base_uri": "https://localhost:8080/"
        },
        "id": "gROQophmxbsI",
        "outputId": "2732cfe4-6281-44e9-e9de-c9bbb0bf0b49"
      },
      "source": [
        "len(input_seq_dev_no_final[0])"
      ],
      "execution_count": null,
      "outputs": [
        {
          "output_type": "execute_result",
          "data": {
            "text/plain": [
              "320"
            ]
          },
          "metadata": {
            "tags": []
          },
          "execution_count": 21
        }
      ]
    },
    {
      "cell_type": "code",
      "metadata": {
        "colab": {
          "base_uri": "https://localhost:8080/"
        },
        "id": "KYzl1RdNxbsI",
        "outputId": "b9b23fbe-8b6c-492e-e02c-1c64a5e9d813"
      },
      "source": [
        "len(input_seq_dev_no_final[0][0])"
      ],
      "execution_count": null,
      "outputs": [
        {
          "output_type": "execute_result",
          "data": {
            "text/plain": [
              "300"
            ]
          },
          "metadata": {
            "tags": []
          },
          "execution_count": 22
        }
      ]
    },
    {
      "cell_type": "code",
      "metadata": {
        "colab": {
          "base_uri": "https://localhost:8080/"
        },
        "id": "WBY2YOC4xbsI",
        "outputId": "d4e21c2b-28de-4fd0-e542-fd7f3e059b20"
      },
      "source": [
        "input_seq_dev_no_final[0][0][0]"
      ],
      "execution_count": null,
      "outputs": [
        {
          "output_type": "execute_result",
          "data": {
            "text/plain": [
              "0.0703125"
            ]
          },
          "metadata": {
            "tags": []
          },
          "execution_count": 23
        }
      ]
    },
    {
      "cell_type": "code",
      "metadata": {
        "colab": {
          "base_uri": "https://localhost:8080/"
        },
        "id": "8jEHEI4mxbsI",
        "outputId": "3f1d73df-e7fc-4358-e30c-40ecf46114f9"
      },
      "source": [
        "label_seq_dev_no_final"
      ],
      "execution_count": null,
      "outputs": [
        {
          "output_type": "execute_result",
          "data": {
            "text/plain": [
              "[1,\n",
              " 1,\n",
              " 1,\n",
              " 1,\n",
              " 1,\n",
              " 0,\n",
              " 0,\n",
              " 0,\n",
              " 0,\n",
              " 1,\n",
              " 1,\n",
              " 1,\n",
              " 0,\n",
              " 0,\n",
              " 0,\n",
              " 0,\n",
              " 0,\n",
              " 1,\n",
              " 1,\n",
              " 0,\n",
              " 0,\n",
              " 1,\n",
              " 1,\n",
              " 1,\n",
              " 0,\n",
              " 0,\n",
              " 0,\n",
              " 0,\n",
              " 1,\n",
              " 0,\n",
              " 0,\n",
              " 1,\n",
              " 1,\n",
              " 0,\n",
              " 0,\n",
              " 0,\n",
              " 1,\n",
              " 0,\n",
              " 0,\n",
              " 0,\n",
              " 1,\n",
              " 0,\n",
              " 0,\n",
              " 0,\n",
              " 0,\n",
              " 1,\n",
              " 1,\n",
              " 1,\n",
              " 0,\n",
              " 0,\n",
              " 0,\n",
              " 0,\n",
              " 1,\n",
              " 1,\n",
              " 1,\n",
              " 0,\n",
              " 0,\n",
              " 0,\n",
              " 0,\n",
              " 1,\n",
              " 0,\n",
              " 0,\n",
              " 0,\n",
              " 1,\n",
              " 1,\n",
              " 1,\n",
              " 0,\n",
              " 0,\n",
              " 0,\n",
              " 0,\n",
              " 1,\n",
              " 1,\n",
              " 1,\n",
              " 0,\n",
              " 0,\n",
              " 0,\n",
              " 1,\n",
              " 1,\n",
              " 1,\n",
              " 0,\n",
              " 0,\n",
              " 0,\n",
              " 1,\n",
              " 1,\n",
              " 1,\n",
              " 1,\n",
              " 0,\n",
              " 0,\n",
              " 0,\n",
              " 1,\n",
              " 1,\n",
              " 1,\n",
              " 0,\n",
              " 0,\n",
              " 0,\n",
              " 1,\n",
              " 1,\n",
              " 1,\n",
              " 1,\n",
              " 0,\n",
              " 0,\n",
              " 0,\n",
              " 0,\n",
              " 1,\n",
              " 0,\n",
              " 0,\n",
              " 0,\n",
              " 1,\n",
              " 1,\n",
              " 1,\n",
              " 0,\n",
              " 0,\n",
              " 0,\n",
              " 1,\n",
              " 1,\n",
              " 1,\n",
              " 1,\n",
              " 0,\n",
              " 0,\n",
              " 0,\n",
              " 1,\n",
              " 1,\n",
              " 0,\n",
              " 0,\n",
              " 1,\n",
              " 1,\n",
              " 1,\n",
              " 0,\n",
              " 0,\n",
              " 1,\n",
              " 0,\n",
              " 0,\n",
              " 1,\n",
              " 1,\n",
              " 0,\n",
              " 0,\n",
              " 0,\n",
              " 0,\n",
              " 1,\n",
              " 1,\n",
              " 1,\n",
              " 0,\n",
              " 0,\n",
              " 1,\n",
              " 0,\n",
              " 0,\n",
              " 1,\n",
              " 1,\n",
              " 1,\n",
              " 1,\n",
              " 0,\n",
              " 0,\n",
              " 0,\n",
              " 1,\n",
              " 1,\n",
              " 1,\n",
              " 0,\n",
              " 0,\n",
              " 0,\n",
              " 1,\n",
              " 0,\n",
              " 0,\n",
              " 1,\n",
              " 1,\n",
              " 1,\n",
              " 0,\n",
              " 0,\n",
              " 1,\n",
              " 1,\n",
              " 0,\n",
              " 0,\n",
              " 0,\n",
              " 1,\n",
              " 1,\n",
              " 0,\n",
              " 1,\n",
              " 1,\n",
              " 1,\n",
              " 0,\n",
              " 0,\n",
              " 0,\n",
              " 1,\n",
              " 1,\n",
              " 0,\n",
              " 0,\n",
              " 0,\n",
              " 0,\n",
              " 1,\n",
              " 0,\n",
              " 0,\n",
              " 1,\n",
              " 1,\n",
              " 1,\n",
              " 0,\n",
              " 0,\n",
              " 1,\n",
              " 0,\n",
              " 0,\n",
              " 0,\n",
              " 1,\n",
              " 1,\n",
              " 0,\n",
              " 0,\n",
              " 1,\n",
              " 1,\n",
              " 1,\n",
              " 1,\n",
              " 0,\n",
              " 1,\n",
              " 1,\n",
              " 1,\n",
              " 0,\n",
              " 0,\n",
              " 0,\n",
              " 0,\n",
              " 0,\n",
              " 1,\n",
              " 1,\n",
              " 1,\n",
              " 1,\n",
              " 1,\n",
              " 0,\n",
              " 0,\n",
              " 0,\n",
              " 0,\n",
              " 0,\n",
              " 1,\n",
              " 1,\n",
              " 0,\n",
              " 0,\n",
              " 0,\n",
              " 0,\n",
              " 1,\n",
              " 1,\n",
              " 1,\n",
              " 1,\n",
              " 1,\n",
              " 0,\n",
              " 0,\n",
              " 0,\n",
              " 0,\n",
              " 0,\n",
              " 1,\n",
              " 1,\n",
              " 0,\n",
              " 0,\n",
              " 0,\n",
              " 0,\n",
              " 1,\n",
              " 1,\n",
              " 1,\n",
              " 1,\n",
              " 1,\n",
              " 0,\n",
              " 0,\n",
              " 0,\n",
              " 0,\n",
              " 0,\n",
              " 1,\n",
              " 1,\n",
              " 1,\n",
              " 1,\n",
              " 1,\n",
              " 0,\n",
              " 0,\n",
              " 0,\n",
              " 0,\n",
              " 0,\n",
              " 1,\n",
              " 1,\n",
              " 1,\n",
              " 0,\n",
              " 0,\n",
              " 0,\n",
              " 0,\n",
              " 1,\n",
              " 1,\n",
              " 1,\n",
              " 1,\n",
              " 1,\n",
              " 0,\n",
              " 0,\n",
              " 0,\n",
              " 0,\n",
              " 0,\n",
              " 1,\n",
              " 1,\n",
              " 0,\n",
              " 0,\n",
              " 0,\n",
              " 1,\n",
              " 1,\n",
              " 1,\n",
              " 1,\n",
              " 1,\n",
              " 0,\n",
              " 0,\n",
              " 0,\n",
              " 0,\n",
              " 0,\n",
              " 1,\n",
              " 1,\n",
              " 1,\n",
              " 1,\n",
              " 0,\n",
              " 0,\n",
              " 0,\n",
              " 0,\n",
              " 1,\n",
              " 1,\n",
              " 1,\n",
              " 1,\n",
              " 0,\n",
              " 0,\n",
              " 0,\n",
              " 0,\n",
              " 1,\n",
              " 1,\n",
              " 1,\n",
              " 1,\n",
              " 1,\n",
              " 0,\n",
              " 0,\n",
              " 0,\n",
              " 0,\n",
              " 0,\n",
              " 1,\n",
              " 1,\n",
              " 1,\n",
              " 0,\n",
              " 0,\n",
              " 0,\n",
              " 0,\n",
              " 1,\n",
              " 1,\n",
              " 1,\n",
              " 1,\n",
              " 0,\n",
              " 0,\n",
              " 0,\n",
              " 0,\n",
              " 1,\n",
              " 1,\n",
              " 1,\n",
              " 1,\n",
              " 0,\n",
              " 0,\n",
              " 0,\n",
              " 0,\n",
              " 1,\n",
              " 1,\n",
              " 0,\n",
              " 0,\n",
              " 1,\n",
              " 1,\n",
              " 1,\n",
              " 1,\n",
              " 1,\n",
              " 0,\n",
              " 0,\n",
              " 0,\n",
              " 0,\n",
              " 0,\n",
              " 1,\n",
              " 1,\n",
              " 1,\n",
              " 1,\n",
              " 0,\n",
              " 0,\n",
              " 0,\n",
              " 0,\n",
              " 1,\n",
              " 1,\n",
              " 1,\n",
              " 0,\n",
              " 0,\n",
              " 0,\n",
              " 0,\n",
              " 0,\n",
              " 1,\n",
              " 1,\n",
              " 1,\n",
              " 1,\n",
              " 1,\n",
              " 0,\n",
              " 0,\n",
              " 0,\n",
              " 0,\n",
              " 0,\n",
              " 1,\n",
              " 1,\n",
              " 1,\n",
              " 1,\n",
              " 0,\n",
              " 0,\n",
              " 0,\n",
              " 0,\n",
              " 1,\n",
              " 1,\n",
              " 1,\n",
              " 0,\n",
              " 0,\n",
              " 0,\n",
              " 0,\n",
              " 1,\n",
              " 1,\n",
              " 1,\n",
              " 1,\n",
              " 0,\n",
              " 0,\n",
              " 0,\n",
              " 0,\n",
              " 0,\n",
              " 1,\n",
              " 1,\n",
              " 1,\n",
              " 0,\n",
              " 0,\n",
              " 0,\n",
              " 0,\n",
              " 1,\n",
              " 1,\n",
              " 1,\n",
              " 1,\n",
              " 1,\n",
              " 0,\n",
              " 0,\n",
              " 0,\n",
              " 0,\n",
              " 0,\n",
              " 1,\n",
              " 1,\n",
              " 1,\n",
              " 0,\n",
              " 0,\n",
              " 0,\n",
              " 1,\n",
              " 1,\n",
              " 1,\n",
              " 0,\n",
              " 0,\n",
              " 0,\n",
              " 0,\n",
              " 1,\n",
              " 1,\n",
              " 1,\n",
              " 1,\n",
              " 0,\n",
              " 0,\n",
              " 0,\n",
              " 0,\n",
              " 0,\n",
              " 1,\n",
              " 1,\n",
              " 1,\n",
              " 1,\n",
              " 0,\n",
              " 0,\n",
              " 0,\n",
              " 0,\n",
              " 1,\n",
              " 1,\n",
              " 1,\n",
              " 1,\n",
              " 0,\n",
              " 0,\n",
              " 0,\n",
              " 0,\n",
              " 1,\n",
              " 1,\n",
              " 1,\n",
              " 0,\n",
              " 0,\n",
              " 0,\n",
              " 0,\n",
              " 1,\n",
              " 1,\n",
              " 1,\n",
              " 1,\n",
              " 1,\n",
              " 0,\n",
              " 0,\n",
              " 0,\n",
              " 0,\n",
              " 0,\n",
              " 1,\n",
              " 1,\n",
              " 1,\n",
              " 0,\n",
              " 0,\n",
              " 0,\n",
              " 0,\n",
              " 0,\n",
              " 1,\n",
              " 1,\n",
              " 1,\n",
              " 0,\n",
              " 0,\n",
              " 0,\n",
              " 0,\n",
              " 1,\n",
              " 1,\n",
              " 1,\n",
              " 1,\n",
              " 0,\n",
              " 0,\n",
              " 0,\n",
              " 0,\n",
              " 0,\n",
              " 1,\n",
              " 1,\n",
              " 1,\n",
              " 0,\n",
              " 0,\n",
              " 0,\n",
              " 0,\n",
              " 0,\n",
              " 1,\n",
              " 1,\n",
              " 1,\n",
              " 1,\n",
              " 0,\n",
              " 0,\n",
              " 0,\n",
              " 0,\n",
              " 0,\n",
              " 1,\n",
              " 1,\n",
              " 1,\n",
              " 1,\n",
              " 0,\n",
              " 0,\n",
              " 0,\n",
              " 0,\n",
              " 1,\n",
              " 1,\n",
              " 1,\n",
              " 1,\n",
              " 0,\n",
              " 0,\n",
              " 0,\n",
              " 0,\n",
              " 0,\n",
              " 1,\n",
              " 1,\n",
              " 1,\n",
              " 0,\n",
              " 0,\n",
              " 0,\n",
              " 1,\n",
              " 1,\n",
              " 0,\n",
              " 0,\n",
              " 0,\n",
              " 0,\n",
              " 1,\n",
              " 1,\n",
              " 1,\n",
              " 1,\n",
              " 0,\n",
              " 0,\n",
              " 0,\n",
              " 0,\n",
              " 0,\n",
              " 1,\n",
              " 1,\n",
              " 1,\n",
              " 1,\n",
              " 1,\n",
              " 0,\n",
              " 0,\n",
              " 0,\n",
              " 0,\n",
              " 1,\n",
              " 1,\n",
              " 1,\n",
              " 0,\n",
              " 0,\n",
              " 0,\n",
              " 0,\n",
              " 0,\n",
              " 1,\n",
              " 1,\n",
              " 0,\n",
              " 0,\n",
              " 0,\n",
              " 0,\n",
              " 1,\n",
              " 1,\n",
              " 1,\n",
              " 0,\n",
              " 0,\n",
              " 0,\n",
              " 0,\n",
              " 0,\n",
              " 1,\n",
              " 1,\n",
              " 1,\n",
              " 1,\n",
              " 1,\n",
              " 0,\n",
              " 0,\n",
              " 0,\n",
              " 1,\n",
              " 1,\n",
              " 1,\n",
              " 1,\n",
              " 1,\n",
              " 0,\n",
              " 0,\n",
              " 0,\n",
              " 1,\n",
              " 1,\n",
              " 1,\n",
              " 1,\n",
              " 1,\n",
              " 0,\n",
              " 0,\n",
              " 0,\n",
              " 0,\n",
              " 1,\n",
              " 1,\n",
              " 1,\n",
              " 1,\n",
              " 0,\n",
              " 0,\n",
              " 0,\n",
              " 1,\n",
              " 1,\n",
              " 1,\n",
              " 1,\n",
              " 1,\n",
              " 0,\n",
              " 0,\n",
              " 0,\n",
              " 0,\n",
              " 1,\n",
              " 1,\n",
              " 1,\n",
              " 0,\n",
              " 0,\n",
              " 0,\n",
              " 1,\n",
              " 1,\n",
              " 1,\n",
              " 1,\n",
              " 1,\n",
              " 0,\n",
              " 0,\n",
              " 0,\n",
              " 0,\n",
              " 1,\n",
              " 1,\n",
              " 1,\n",
              " 1,\n",
              " 1,\n",
              " 0,\n",
              " 0,\n",
              " 0,\n",
              " 0,\n",
              " 0,\n",
              " 1,\n",
              " 1,\n",
              " 1,\n",
              " 1,\n",
              " 0,\n",
              " 0,\n",
              " 0,\n",
              " 1,\n",
              " 1,\n",
              " 1,\n",
              " 1,\n",
              " 1,\n",
              " 0,\n",
              " 0,\n",
              " 0,\n",
              " 0,\n",
              " 1,\n",
              " 1,\n",
              " 1,\n",
              " 1,\n",
              " 1,\n",
              " 0,\n",
              " 0,\n",
              " 0,\n",
              " 0,\n",
              " 1,\n",
              " 1,\n",
              " 1,\n",
              " 1,\n",
              " 1,\n",
              " 0,\n",
              " 0,\n",
              " 0,\n",
              " 0,\n",
              " 0,\n",
              " 1,\n",
              " 1,\n",
              " 1,\n",
              " 1,\n",
              " 1,\n",
              " 0,\n",
              " 0,\n",
              " 0,\n",
              " 1,\n",
              " 1,\n",
              " 1,\n",
              " 1,\n",
              " 0,\n",
              " 0,\n",
              " 0,\n",
              " 0,\n",
              " 1,\n",
              " 1,\n",
              " 1,\n",
              " 1,\n",
              " 1,\n",
              " 0,\n",
              " 0,\n",
              " 0,\n",
              " 1,\n",
              " 1,\n",
              " 1,\n",
              " 1,\n",
              " 1,\n",
              " 0,\n",
              " 0,\n",
              " 0,\n",
              " 0,\n",
              " 1,\n",
              " 1,\n",
              " 1,\n",
              " 1,\n",
              " 1,\n",
              " 0,\n",
              " 0,\n",
              " 0,\n",
              " 0,\n",
              " 1,\n",
              " 1,\n",
              " 1,\n",
              " 1,\n",
              " 1,\n",
              " 0,\n",
              " 0,\n",
              " 0,\n",
              " 0,\n",
              " 1,\n",
              " 1,\n",
              " 1,\n",
              " 1,\n",
              " 1,\n",
              " 0,\n",
              " 0,\n",
              " 0,\n",
              " 0,\n",
              " 1,\n",
              " 1,\n",
              " 1,\n",
              " 1,\n",
              " 1,\n",
              " 0,\n",
              " 0,\n",
              " 0,\n",
              " 0,\n",
              " 1,\n",
              " 1,\n",
              " 1,\n",
              " 0,\n",
              " 0,\n",
              " 0,\n",
              " 1,\n",
              " 1,\n",
              " 1,\n",
              " 1,\n",
              " 1,\n",
              " 0,\n",
              " 0,\n",
              " 0,\n",
              " 0,\n",
              " 1,\n",
              " 1,\n",
              " 1,\n",
              " 1,\n",
              " 1,\n",
              " 0,\n",
              " 0,\n",
              " 0,\n",
              " 0,\n",
              " 0,\n",
              " 1,\n",
              " 1,\n",
              " 1,\n",
              " 1,\n",
              " 1,\n",
              " 0,\n",
              " 0,\n",
              " 0,\n",
              " 0,\n",
              " 0,\n",
              " 1,\n",
              " 1,\n",
              " 1,\n",
              " 1,\n",
              " 1,\n",
              " 0,\n",
              " 0,\n",
              " 0,\n",
              " 0,\n",
              " 1,\n",
              " 1,\n",
              " 1,\n",
              " 1,\n",
              " 1,\n",
              " 0,\n",
              " 0,\n",
              " 0,\n",
              " 0,\n",
              " 1,\n",
              " 1,\n",
              " 1,\n",
              " 0,\n",
              " 0,\n",
              " 0,\n",
              " 1,\n",
              " 1,\n",
              " 1,\n",
              " 1,\n",
              " 0,\n",
              " 0,\n",
              " 0,\n",
              " 1,\n",
              " 1,\n",
              " 0,\n",
              " 0,\n",
              " 1,\n",
              " 1,\n",
              " 1,\n",
              " 1,\n",
              " 1,\n",
              " 0,\n",
              " 0,\n",
              " 0,\n",
              " 0,\n",
              " 1,\n",
              " 1,\n",
              " 1,\n",
              " 1,\n",
              " 0,\n",
              " 0,\n",
              " 0,\n",
              " 1,\n",
              " 1,\n",
              " 1,\n",
              " 1,\n",
              " 1,\n",
              " 0,\n",
              " 0,\n",
              " 0,\n",
              " 0,\n",
              " 1,\n",
              " 1,\n",
              " 1,\n",
              " 1,\n",
              " 0,\n",
              " 0,\n",
              " 0,\n",
              " 1,\n",
              " 1,\n",
              " 1,\n",
              " 0,\n",
              " 0,\n",
              " 0,\n",
              " 0,\n",
              " 1,\n",
              " 1,\n",
              " 1,\n",
              " 1,\n",
              " 1,\n",
              " 0,\n",
              " 0,\n",
              " 0,\n",
              " 0,\n",
              " 0,\n",
              " 1,\n",
              " 1,\n",
              " 1,\n",
              " 1,\n",
              " 1,\n",
              " 0,\n",
              " 0,\n",
              " 0,\n",
              " 0,\n",
              " 0,\n",
              " 1,\n",
              " 1,\n",
              " 1,\n",
              " 1,\n",
              " 1,\n",
              " 0,\n",
              " 0,\n",
              " 0,\n",
              " 0,\n",
              " 1,\n",
              " 1,\n",
              " 1,\n",
              " 1,\n",
              " 1,\n",
              " 0,\n",
              " 0,\n",
              " 0,\n",
              " 1,\n",
              " 1,\n",
              " 1,\n",
              " 0,\n",
              " 1,\n",
              " 1,\n",
              " 1,\n",
              " 1,\n",
              " 1,\n",
              " 0,\n",
              " 0,\n",
              " 0,\n",
              " 0,\n",
              " 0,\n",
              " 1,\n",
              " 1,\n",
              " 1,\n",
              " 1,\n",
              " 0,\n",
              " 0,\n",
              " 0,\n",
              " 0,\n",
              " 0,\n",
              " 1,\n",
              " 1,\n",
              " 1,\n",
              " 1,\n",
              " 1,\n",
              " 0,\n",
              " 0,\n",
              " 0,\n",
              " 0,\n",
              " 0,\n",
              " 1,\n",
              " 1,\n",
              " 1,\n",
              " 1,\n",
              " 1,\n",
              " 0,\n",
              " 0,\n",
              " 0,\n",
              " 0,\n",
              " 0,\n",
              " 1,\n",
              " 1,\n",
              " 1,\n",
              " 1,\n",
              " 1,\n",
              " 0,\n",
              " 0,\n",
              " 0,\n",
              " 0,\n",
              " 0,\n",
              " 1,\n",
              " 1,\n",
              " 1,\n",
              " 1,\n",
              " 1,\n",
              " 0,\n",
              " 0,\n",
              " 0,\n",
              " 0,\n",
              " 0,\n",
              " 1,\n",
              " 1,\n",
              " 1,\n",
              " 1,\n",
              " 1,\n",
              " 0,\n",
              " 0,\n",
              " 0,\n",
              " 0,\n",
              " 1,\n",
              " 1,\n",
              " 1,\n",
              " 1,\n",
              " 1,\n",
              " 0,\n",
              " 0,\n",
              " 0,\n",
              " 0,\n",
              " 0,\n",
              " 1,\n",
              " 1,\n",
              " 1,\n",
              " 1,\n",
              " 0,\n",
              " 0,\n",
              " 0,\n",
              " ...]"
            ]
          },
          "metadata": {
            "tags": []
          },
          "execution_count": 24
        }
      ]
    },
    {
      "cell_type": "code",
      "metadata": {
        "id": "NPGSTdfdxbsI"
      },
      "source": [
        "p2 = np.array(label_seq_dev_no_final)"
      ],
      "execution_count": null,
      "outputs": []
    },
    {
      "cell_type": "code",
      "metadata": {
        "colab": {
          "base_uri": "https://localhost:8080/"
        },
        "id": "VSgdfLOAxbsI",
        "outputId": "ac7542a6-d208-4d81-d7cd-e2fd31d82642"
      },
      "source": [
        "np.mean(p2)"
      ],
      "execution_count": null,
      "outputs": [
        {
          "output_type": "execute_result",
          "data": {
            "text/plain": [
              "0.5076"
            ]
          },
          "metadata": {
            "tags": []
          },
          "execution_count": 26
        }
      ]
    },
    {
      "cell_type": "code",
      "metadata": {
        "id": "JCC2s7D8xyLb"
      },
      "source": [
        "# Visualización: TEST"
      ],
      "execution_count": null,
      "outputs": []
    },
    {
      "cell_type": "code",
      "metadata": {
        "colab": {
          "base_uri": "https://localhost:8080/"
        },
        "id": "O9WNMwxhxyLi",
        "outputId": "4e2fe9c1-8232-4e78-86da-a4c1b6b6305a"
      },
      "source": [
        "len(input_seq_test_no_final)"
      ],
      "execution_count": null,
      "outputs": [
        {
          "output_type": "execute_result",
          "data": {
            "text/plain": [
              "2500"
            ]
          },
          "metadata": {
            "tags": []
          },
          "execution_count": 28
        }
      ]
    },
    {
      "cell_type": "code",
      "metadata": {
        "colab": {
          "base_uri": "https://localhost:8080/"
        },
        "id": "1JR427kfxyLi",
        "outputId": "c2ee0239-2ad4-499b-ed16-9b185180a6ad"
      },
      "source": [
        "len(input_seq_test_no_final[0])"
      ],
      "execution_count": null,
      "outputs": [
        {
          "output_type": "execute_result",
          "data": {
            "text/plain": [
              "320"
            ]
          },
          "metadata": {
            "tags": []
          },
          "execution_count": 29
        }
      ]
    },
    {
      "cell_type": "code",
      "metadata": {
        "colab": {
          "base_uri": "https://localhost:8080/"
        },
        "id": "TdfD9QkxxyLi",
        "outputId": "13c9e185-67b6-4f1a-c6d0-79cee8c543ea"
      },
      "source": [
        "len(input_seq_test_no_final[0][0])"
      ],
      "execution_count": null,
      "outputs": [
        {
          "output_type": "execute_result",
          "data": {
            "text/plain": [
              "300"
            ]
          },
          "metadata": {
            "tags": []
          },
          "execution_count": 30
        }
      ]
    },
    {
      "cell_type": "code",
      "metadata": {
        "colab": {
          "base_uri": "https://localhost:8080/"
        },
        "id": "cm_fwYF8xyLi",
        "outputId": "22c96066-54de-46f3-faf5-f3758d630c67"
      },
      "source": [
        "input_seq_test_no_final[0][0][0]"
      ],
      "execution_count": null,
      "outputs": [
        {
          "output_type": "execute_result",
          "data": {
            "text/plain": [
              "0.13964844"
            ]
          },
          "metadata": {
            "tags": []
          },
          "execution_count": 31
        }
      ]
    },
    {
      "cell_type": "code",
      "metadata": {
        "colab": {
          "base_uri": "https://localhost:8080/"
        },
        "id": "KgOxCF7vxyLi",
        "outputId": "687f44ba-bcb9-493c-b66c-3b0a9ab12ffb"
      },
      "source": [
        "label_seq_test_no_final"
      ],
      "execution_count": null,
      "outputs": [
        {
          "output_type": "execute_result",
          "data": {
            "text/plain": [
              "[1,\n",
              " 1,\n",
              " 1,\n",
              " 0,\n",
              " 0,\n",
              " 0,\n",
              " 0,\n",
              " 1,\n",
              " 1,\n",
              " 1,\n",
              " 1,\n",
              " 1,\n",
              " 0,\n",
              " 0,\n",
              " 0,\n",
              " 0,\n",
              " 1,\n",
              " 1,\n",
              " 1,\n",
              " 1,\n",
              " 1,\n",
              " 0,\n",
              " 0,\n",
              " 0,\n",
              " 0,\n",
              " 1,\n",
              " 1,\n",
              " 1,\n",
              " 1,\n",
              " 1,\n",
              " 0,\n",
              " 0,\n",
              " 0,\n",
              " 0,\n",
              " 1,\n",
              " 1,\n",
              " 1,\n",
              " 1,\n",
              " 1,\n",
              " 0,\n",
              " 0,\n",
              " 0,\n",
              " 1,\n",
              " 1,\n",
              " 1,\n",
              " 1,\n",
              " 1,\n",
              " 0,\n",
              " 0,\n",
              " 0,\n",
              " 0,\n",
              " 1,\n",
              " 1,\n",
              " 1,\n",
              " 1,\n",
              " 1,\n",
              " 0,\n",
              " 0,\n",
              " 0,\n",
              " 0,\n",
              " 1,\n",
              " 1,\n",
              " 1,\n",
              " 1,\n",
              " 0,\n",
              " 0,\n",
              " 0,\n",
              " 0,\n",
              " 1,\n",
              " 1,\n",
              " 1,\n",
              " 1,\n",
              " 1,\n",
              " 0,\n",
              " 0,\n",
              " 0,\n",
              " 0,\n",
              " 1,\n",
              " 1,\n",
              " 1,\n",
              " 1,\n",
              " 1,\n",
              " 0,\n",
              " 0,\n",
              " 0,\n",
              " 0,\n",
              " 1,\n",
              " 1,\n",
              " 1,\n",
              " 1,\n",
              " 0,\n",
              " 0,\n",
              " 0,\n",
              " 0,\n",
              " 1,\n",
              " 1,\n",
              " 1,\n",
              " 1,\n",
              " 1,\n",
              " 0,\n",
              " 0,\n",
              " 0,\n",
              " 0,\n",
              " 1,\n",
              " 1,\n",
              " 1,\n",
              " 1,\n",
              " 1,\n",
              " 0,\n",
              " 0,\n",
              " 0,\n",
              " 0,\n",
              " 0,\n",
              " 1,\n",
              " 1,\n",
              " 1,\n",
              " 1,\n",
              " 1,\n",
              " 0,\n",
              " 0,\n",
              " 0,\n",
              " 0,\n",
              " 1,\n",
              " 1,\n",
              " 1,\n",
              " 1,\n",
              " 1,\n",
              " 0,\n",
              " 0,\n",
              " 0,\n",
              " 0,\n",
              " 1,\n",
              " 1,\n",
              " 1,\n",
              " 1,\n",
              " 1,\n",
              " 0,\n",
              " 0,\n",
              " 0,\n",
              " 0,\n",
              " 1,\n",
              " 1,\n",
              " 1,\n",
              " 1,\n",
              " 1,\n",
              " 0,\n",
              " 0,\n",
              " 0,\n",
              " 0,\n",
              " 1,\n",
              " 1,\n",
              " 1,\n",
              " 1,\n",
              " 1,\n",
              " 0,\n",
              " 0,\n",
              " 0,\n",
              " 0,\n",
              " 0,\n",
              " 0,\n",
              " 0,\n",
              " 0,\n",
              " 0,\n",
              " 0,\n",
              " 1,\n",
              " 1,\n",
              " 1,\n",
              " 1,\n",
              " 0,\n",
              " 0,\n",
              " 0,\n",
              " 0,\n",
              " 0,\n",
              " 0,\n",
              " 0,\n",
              " 0,\n",
              " 0,\n",
              " 0,\n",
              " 1,\n",
              " 1,\n",
              " 1,\n",
              " 1,\n",
              " 1,\n",
              " 0,\n",
              " 0,\n",
              " 0,\n",
              " 0,\n",
              " 0,\n",
              " 0,\n",
              " 0,\n",
              " 0,\n",
              " 0,\n",
              " 0,\n",
              " 1,\n",
              " 1,\n",
              " 1,\n",
              " 1,\n",
              " 0,\n",
              " 0,\n",
              " 0,\n",
              " 0,\n",
              " 0,\n",
              " 0,\n",
              " 0,\n",
              " 0,\n",
              " 0,\n",
              " 1,\n",
              " 1,\n",
              " 1,\n",
              " 1,\n",
              " 1,\n",
              " 0,\n",
              " 0,\n",
              " 0,\n",
              " 0,\n",
              " 0,\n",
              " 0,\n",
              " 0,\n",
              " 0,\n",
              " 0,\n",
              " 0,\n",
              " 1,\n",
              " 1,\n",
              " 1,\n",
              " 1,\n",
              " 1,\n",
              " 0,\n",
              " 0,\n",
              " 0,\n",
              " 0,\n",
              " 0,\n",
              " 0,\n",
              " 0,\n",
              " 0,\n",
              " 0,\n",
              " 0,\n",
              " 1,\n",
              " 1,\n",
              " 1,\n",
              " 1,\n",
              " 1,\n",
              " 0,\n",
              " 0,\n",
              " 0,\n",
              " 0,\n",
              " 0,\n",
              " 1,\n",
              " 1,\n",
              " 1,\n",
              " 1,\n",
              " 0,\n",
              " 0,\n",
              " 0,\n",
              " 0,\n",
              " 0,\n",
              " 1,\n",
              " 1,\n",
              " 1,\n",
              " 1,\n",
              " 1,\n",
              " 0,\n",
              " 0,\n",
              " 0,\n",
              " 0,\n",
              " 0,\n",
              " 1,\n",
              " 1,\n",
              " 1,\n",
              " 1,\n",
              " 0,\n",
              " 0,\n",
              " 0,\n",
              " 0,\n",
              " 0,\n",
              " 1,\n",
              " 1,\n",
              " 1,\n",
              " 1,\n",
              " 1,\n",
              " 0,\n",
              " 0,\n",
              " 0,\n",
              " 0,\n",
              " 0,\n",
              " 1,\n",
              " 1,\n",
              " 1,\n",
              " 1,\n",
              " 0,\n",
              " 0,\n",
              " 0,\n",
              " 0,\n",
              " 0,\n",
              " 1,\n",
              " 1,\n",
              " 1,\n",
              " 1,\n",
              " 0,\n",
              " 0,\n",
              " 0,\n",
              " 0,\n",
              " 0,\n",
              " 1,\n",
              " 1,\n",
              " 1,\n",
              " 1,\n",
              " 1,\n",
              " 0,\n",
              " 0,\n",
              " 0,\n",
              " 0,\n",
              " 0,\n",
              " 1,\n",
              " 1,\n",
              " 1,\n",
              " 0,\n",
              " 0,\n",
              " 0,\n",
              " 0,\n",
              " 0,\n",
              " 1,\n",
              " 1,\n",
              " 1,\n",
              " 1,\n",
              " 0,\n",
              " 0,\n",
              " 0,\n",
              " 0,\n",
              " 0,\n",
              " 1,\n",
              " 1,\n",
              " 1,\n",
              " 1,\n",
              " 1,\n",
              " 0,\n",
              " 0,\n",
              " 0,\n",
              " 0,\n",
              " 1,\n",
              " 1,\n",
              " 1,\n",
              " 1,\n",
              " 1,\n",
              " 0,\n",
              " 0,\n",
              " 0,\n",
              " 0,\n",
              " 0,\n",
              " 1,\n",
              " 1,\n",
              " 1,\n",
              " 1,\n",
              " 0,\n",
              " 0,\n",
              " 0,\n",
              " 0,\n",
              " 0,\n",
              " 1,\n",
              " 1,\n",
              " 1,\n",
              " 1,\n",
              " 0,\n",
              " 0,\n",
              " 0,\n",
              " 0,\n",
              " 0,\n",
              " 1,\n",
              " 1,\n",
              " 1,\n",
              " 1,\n",
              " 0,\n",
              " 0,\n",
              " 0,\n",
              " 0,\n",
              " 0,\n",
              " 1,\n",
              " 1,\n",
              " 1,\n",
              " 1,\n",
              " 1,\n",
              " 0,\n",
              " 0,\n",
              " 0,\n",
              " 0,\n",
              " 0,\n",
              " 1,\n",
              " 1,\n",
              " 1,\n",
              " 0,\n",
              " 0,\n",
              " 0,\n",
              " 0,\n",
              " 0,\n",
              " 1,\n",
              " 1,\n",
              " 1,\n",
              " 1,\n",
              " 0,\n",
              " 0,\n",
              " 0,\n",
              " 0,\n",
              " 0,\n",
              " 1,\n",
              " 1,\n",
              " 1,\n",
              " 1,\n",
              " 1,\n",
              " 1,\n",
              " 1,\n",
              " 1,\n",
              " 1,\n",
              " 1,\n",
              " 1,\n",
              " 1,\n",
              " 0,\n",
              " 0,\n",
              " 0,\n",
              " 0,\n",
              " 0,\n",
              " 1,\n",
              " 1,\n",
              " 1,\n",
              " 1,\n",
              " 1,\n",
              " 1,\n",
              " 1,\n",
              " 1,\n",
              " 1,\n",
              " 1,\n",
              " 1,\n",
              " 1,\n",
              " 0,\n",
              " 0,\n",
              " 0,\n",
              " 0,\n",
              " 0,\n",
              " 1,\n",
              " 1,\n",
              " 1,\n",
              " 1,\n",
              " 1,\n",
              " 0,\n",
              " 0,\n",
              " 0,\n",
              " 0,\n",
              " 0,\n",
              " 1,\n",
              " 1,\n",
              " 1,\n",
              " 1,\n",
              " 1,\n",
              " 1,\n",
              " 1,\n",
              " 1,\n",
              " 1,\n",
              " 0,\n",
              " 0,\n",
              " 0,\n",
              " 0,\n",
              " 0,\n",
              " 1,\n",
              " 1,\n",
              " 1,\n",
              " 1,\n",
              " 1,\n",
              " 1,\n",
              " 1,\n",
              " 1,\n",
              " 1,\n",
              " 1,\n",
              " 0,\n",
              " 0,\n",
              " 0,\n",
              " 0,\n",
              " 0,\n",
              " 1,\n",
              " 1,\n",
              " 1,\n",
              " 1,\n",
              " 1,\n",
              " 1,\n",
              " 1,\n",
              " 1,\n",
              " 1,\n",
              " 0,\n",
              " 0,\n",
              " 0,\n",
              " 0,\n",
              " 0,\n",
              " 1,\n",
              " 1,\n",
              " 1,\n",
              " 1,\n",
              " 1,\n",
              " 1,\n",
              " 1,\n",
              " 1,\n",
              " 1,\n",
              " 0,\n",
              " 0,\n",
              " 0,\n",
              " 0,\n",
              " 0,\n",
              " 1,\n",
              " 1,\n",
              " 1,\n",
              " 1,\n",
              " 1,\n",
              " 1,\n",
              " 1,\n",
              " 1,\n",
              " 1,\n",
              " 1,\n",
              " 0,\n",
              " 0,\n",
              " 0,\n",
              " 0,\n",
              " 0,\n",
              " 1,\n",
              " 1,\n",
              " 1,\n",
              " 1,\n",
              " 1,\n",
              " 1,\n",
              " 1,\n",
              " 1,\n",
              " 1,\n",
              " 0,\n",
              " 0,\n",
              " 0,\n",
              " 0,\n",
              " 0,\n",
              " 1,\n",
              " 1,\n",
              " 1,\n",
              " 1,\n",
              " 1,\n",
              " 1,\n",
              " 1,\n",
              " 1,\n",
              " 1,\n",
              " 0,\n",
              " 0,\n",
              " 0,\n",
              " 0,\n",
              " 0,\n",
              " 1,\n",
              " 1,\n",
              " 1,\n",
              " 1,\n",
              " 1,\n",
              " 1,\n",
              " 1,\n",
              " 1,\n",
              " 1,\n",
              " 1,\n",
              " 0,\n",
              " 0,\n",
              " 0,\n",
              " 0,\n",
              " 0,\n",
              " 1,\n",
              " 1,\n",
              " 1,\n",
              " 1,\n",
              " 0,\n",
              " 0,\n",
              " 0,\n",
              " 0,\n",
              " 0,\n",
              " 1,\n",
              " 1,\n",
              " 1,\n",
              " 1,\n",
              " 0,\n",
              " 0,\n",
              " 0,\n",
              " 0,\n",
              " 1,\n",
              " 1,\n",
              " 1,\n",
              " 1,\n",
              " 0,\n",
              " 0,\n",
              " 0,\n",
              " 0,\n",
              " 0,\n",
              " 1,\n",
              " 1,\n",
              " 0,\n",
              " 0,\n",
              " 0,\n",
              " 0,\n",
              " 1,\n",
              " 1,\n",
              " 1,\n",
              " 0,\n",
              " 0,\n",
              " 0,\n",
              " 0,\n",
              " 0,\n",
              " 1,\n",
              " 1,\n",
              " 1,\n",
              " 1,\n",
              " 0,\n",
              " 0,\n",
              " 0,\n",
              " 0,\n",
              " 0,\n",
              " 1,\n",
              " 1,\n",
              " 0,\n",
              " 0,\n",
              " 0,\n",
              " 0,\n",
              " 1,\n",
              " 1,\n",
              " 1,\n",
              " 1,\n",
              " 1,\n",
              " 0,\n",
              " 0,\n",
              " 0,\n",
              " 0,\n",
              " 0,\n",
              " 1,\n",
              " 1,\n",
              " 1,\n",
              " 1,\n",
              " 0,\n",
              " 0,\n",
              " 0,\n",
              " 0,\n",
              " 0,\n",
              " 1,\n",
              " 1,\n",
              " 1,\n",
              " 1,\n",
              " 1,\n",
              " 0,\n",
              " 0,\n",
              " 0,\n",
              " 0,\n",
              " 0,\n",
              " 1,\n",
              " 1,\n",
              " 1,\n",
              " 1,\n",
              " 0,\n",
              " 0,\n",
              " 0,\n",
              " 0,\n",
              " 1,\n",
              " 1,\n",
              " 1,\n",
              " 1,\n",
              " 1,\n",
              " 0,\n",
              " 0,\n",
              " 0,\n",
              " 0,\n",
              " 0,\n",
              " 1,\n",
              " 1,\n",
              " 1,\n",
              " 1,\n",
              " 1,\n",
              " 0,\n",
              " 0,\n",
              " 0,\n",
              " 0,\n",
              " 0,\n",
              " 1,\n",
              " 1,\n",
              " 1,\n",
              " 1,\n",
              " 0,\n",
              " 0,\n",
              " 0,\n",
              " 0,\n",
              " 0,\n",
              " 1,\n",
              " 1,\n",
              " 1,\n",
              " 0,\n",
              " 0,\n",
              " 0,\n",
              " 0,\n",
              " 1,\n",
              " 1,\n",
              " 1,\n",
              " 0,\n",
              " 0,\n",
              " 0,\n",
              " 0,\n",
              " 1,\n",
              " 1,\n",
              " 1,\n",
              " 1,\n",
              " 1,\n",
              " 1,\n",
              " 1,\n",
              " 1,\n",
              " 1,\n",
              " 1,\n",
              " 1,\n",
              " 1,\n",
              " 1,\n",
              " 1,\n",
              " 1,\n",
              " 0,\n",
              " 0,\n",
              " 0,\n",
              " 0,\n",
              " 0,\n",
              " 1,\n",
              " 1,\n",
              " 1,\n",
              " 1,\n",
              " 1,\n",
              " 1,\n",
              " 1,\n",
              " 1,\n",
              " 1,\n",
              " 1,\n",
              " 1,\n",
              " 1,\n",
              " 1,\n",
              " 1,\n",
              " 1,\n",
              " 0,\n",
              " 0,\n",
              " 0,\n",
              " 0,\n",
              " 0,\n",
              " 1,\n",
              " 1,\n",
              " 1,\n",
              " 1,\n",
              " 1,\n",
              " 1,\n",
              " 1,\n",
              " 1,\n",
              " 1,\n",
              " 1,\n",
              " 1,\n",
              " 1,\n",
              " 1,\n",
              " 1,\n",
              " 1,\n",
              " 0,\n",
              " 0,\n",
              " 0,\n",
              " 0,\n",
              " 0,\n",
              " 1,\n",
              " 1,\n",
              " 1,\n",
              " 1,\n",
              " 1,\n",
              " 1,\n",
              " 1,\n",
              " 1,\n",
              " 1,\n",
              " 1,\n",
              " 1,\n",
              " 1,\n",
              " 0,\n",
              " 0,\n",
              " 0,\n",
              " 0,\n",
              " 1,\n",
              " 1,\n",
              " 1,\n",
              " 1,\n",
              " 1,\n",
              " 1,\n",
              " 1,\n",
              " 1,\n",
              " 1,\n",
              " 1,\n",
              " 1,\n",
              " 1,\n",
              " 1,\n",
              " 1,\n",
              " 1,\n",
              " 0,\n",
              " 0,\n",
              " 0,\n",
              " 0,\n",
              " 0,\n",
              " 1,\n",
              " 1,\n",
              " 1,\n",
              " 1,\n",
              " 1,\n",
              " 1,\n",
              " 1,\n",
              " 1,\n",
              " 1,\n",
              " 1,\n",
              " 1,\n",
              " 1,\n",
              " 1,\n",
              " 1,\n",
              " 0,\n",
              " 0,\n",
              " 0,\n",
              " 0,\n",
              " 0,\n",
              " 1,\n",
              " 1,\n",
              " 1,\n",
              " 1,\n",
              " 1,\n",
              " 1,\n",
              " 1,\n",
              " 1,\n",
              " 1,\n",
              " 1,\n",
              " 0,\n",
              " 0,\n",
              " 0,\n",
              " 0,\n",
              " 0,\n",
              " 1,\n",
              " 1,\n",
              " 1,\n",
              " 1,\n",
              " 1,\n",
              " 1,\n",
              " 1,\n",
              " 1,\n",
              " 1,\n",
              " 1,\n",
              " 0,\n",
              " 0,\n",
              " 0,\n",
              " 0,\n",
              " 0,\n",
              " 1,\n",
              " 1,\n",
              " 1,\n",
              " 1,\n",
              " 1,\n",
              " 1,\n",
              " 1,\n",
              " 1,\n",
              " 1,\n",
              " 1,\n",
              " 0,\n",
              " 0,\n",
              " 0,\n",
              " 0,\n",
              " 1,\n",
              " 1,\n",
              " 1,\n",
              " 1,\n",
              " 1,\n",
              " 1,\n",
              " 1,\n",
              " 1,\n",
              " 1,\n",
              " 1,\n",
              " 0,\n",
              " 0,\n",
              " 0,\n",
              " 0,\n",
              " 0,\n",
              " 1,\n",
              " 1,\n",
              " 1,\n",
              " 1,\n",
              " 1,\n",
              " 0,\n",
              " 0,\n",
              " 0,\n",
              " 0,\n",
              " 0,\n",
              " 1,\n",
              " 1,\n",
              " 1,\n",
              " 1,\n",
              " 1,\n",
              " 0,\n",
              " 0,\n",
              " 0,\n",
              " 0,\n",
              " 0,\n",
              " 1,\n",
              " 1,\n",
              " 1,\n",
              " 1,\n",
              " 1,\n",
              " 0,\n",
              " 0,\n",
              " 0,\n",
              " 0,\n",
              " 1,\n",
              " 1,\n",
              " 1,\n",
              " 1,\n",
              " 1,\n",
              " 0,\n",
              " 0,\n",
              " 0,\n",
              " 0,\n",
              " 0,\n",
              " 1,\n",
              " 1,\n",
              " 1,\n",
              " 1,\n",
              " 1,\n",
              " 0,\n",
              " 0,\n",
              " 0,\n",
              " 0,\n",
              " 1,\n",
              " 1,\n",
              " 1,\n",
              " 1,\n",
              " 0,\n",
              " 0,\n",
              " 0,\n",
              " 0,\n",
              " 0,\n",
              " 1,\n",
              " 1,\n",
              " 1,\n",
              " 1,\n",
              " 1,\n",
              " 0,\n",
              " 0,\n",
              " 0,\n",
              " 0,\n",
              " 0,\n",
              " 1,\n",
              " 1,\n",
              " 1,\n",
              " 1,\n",
              " 1,\n",
              " 0,\n",
              " 0,\n",
              " 0,\n",
              " 0,\n",
              " 0,\n",
              " 1,\n",
              " 1,\n",
              " 1,\n",
              " 1,\n",
              " 1,\n",
              " 0,\n",
              " 0,\n",
              " 0,\n",
              " 0,\n",
              " 0,\n",
              " 1,\n",
              " 1,\n",
              " 1,\n",
              " 1,\n",
              " 1,\n",
              " 0,\n",
              " 0,\n",
              " 0,\n",
              " 0,\n",
              " 0,\n",
              " 1,\n",
              " 1,\n",
              " 1,\n",
              " 1,\n",
              " 1,\n",
              " 0,\n",
              " 0,\n",
              " 0,\n",
              " 0,\n",
              " 0,\n",
              " 1,\n",
              " 1,\n",
              " 1,\n",
              " 1,\n",
              " 1,\n",
              " 1,\n",
              " 1,\n",
              " 1,\n",
              " 1,\n",
              " 1,\n",
              " 0,\n",
              " 0,\n",
              " 0,\n",
              " 0,\n",
              " 0,\n",
              " 1,\n",
              " 1,\n",
              " 1,\n",
              " 1,\n",
              " 1,\n",
              " 1,\n",
              " 1,\n",
              " 1,\n",
              " ...]"
            ]
          },
          "metadata": {
            "tags": []
          },
          "execution_count": 32
        }
      ]
    },
    {
      "cell_type": "code",
      "metadata": {
        "id": "aTi4GqDpxyLj"
      },
      "source": [
        "p3 = np.array(label_seq_test_no_final)"
      ],
      "execution_count": null,
      "outputs": []
    },
    {
      "cell_type": "code",
      "metadata": {
        "colab": {
          "base_uri": "https://localhost:8080/"
        },
        "id": "-bvCR0A8xyLj",
        "outputId": "681bb7e5-1b57-4b25-ad87-1874273e2ca0"
      },
      "source": [
        "np.mean(p3)"
      ],
      "execution_count": null,
      "outputs": [
        {
          "output_type": "execute_result",
          "data": {
            "text/plain": [
              "0.4604"
            ]
          },
          "metadata": {
            "tags": []
          },
          "execution_count": 34
        }
      ]
    },
    {
      "cell_type": "code",
      "metadata": {
        "id": "rlSKcPyvp15F"
      },
      "source": [
        "# features = np.zeros((batch_size, seq_len, 1), dtype=np.int64)"
      ],
      "execution_count": null,
      "outputs": []
    },
    {
      "cell_type": "markdown",
      "metadata": {
        "id": "mAe5K4Mi3pMA"
      },
      "source": [
        "Guardaremos la data y luego si queremos volver a usar ese embedding lo volvemos a cargar, pero antes de eso lo dejamos hasta ahí."
      ]
    },
    {
      "cell_type": "code",
      "metadata": {
        "id": "-RET74Sa3wOg"
      },
      "source": [
        "my_path = 'drive/MyDrive/DeepLearningUC/Proyecto/Data'"
      ],
      "execution_count": null,
      "outputs": []
    },
    {
      "cell_type": "code",
      "metadata": {
        "id": "H5ia2faz31Ng"
      },
      "source": [
        "import os\n",
        "import pickle\n",
        "\n",
        "if not os.path.exists(my_path):\n",
        "  os.makedirs(my_path)"
      ],
      "execution_count": null,
      "outputs": []
    },
    {
      "cell_type": "code",
      "metadata": {
        "id": "fQcGsfZ84CQz"
      },
      "source": [
        "# Guardamos data\n",
        "data_to_save = {'input_seq_train_no_final': input_seq_train_no_final, 'label_seq_train_no_final': label_seq_train_no_final, 'input_seq_dev_no_final': input_seq_dev_no_final,\n",
        "                'label_seq_dev_no_final': label_seq_dev_no_final, 'input_seq_test_no_final': input_seq_test_no_final, 'label_seq_test_no_final': label_seq_test_no_final}"
      ],
      "execution_count": null,
      "outputs": []
    },
    {
      "cell_type": "code",
      "metadata": {
        "id": "_4chrDkq41uB"
      },
      "source": [
        "nombre_data = 'data'\n",
        "file_name = os.path.join(my_path, nombre_data)\n",
        "outfile = open(file_name,'wb')\n",
        "pickle.dump(data_to_save, outfile)\n",
        "outfile.close()"
      ],
      "execution_count": null,
      "outputs": []
    },
    {
      "cell_type": "code",
      "metadata": {
        "id": "IKxVlZoGLAXG"
      },
      "source": [
        "# Cargamos toda la data"
      ],
      "execution_count": null,
      "outputs": []
    },
    {
      "cell_type": "code",
      "metadata": {
        "id": "Z9QDz7SqLCKD"
      },
      "source": [
        "import os\n",
        "import pickle\n",
        "import json\n",
        "import numpy as np"
      ],
      "execution_count": null,
      "outputs": []
    },
    {
      "cell_type": "code",
      "metadata": {
        "colab": {
          "base_uri": "https://localhost:8080/"
        },
        "id": "vVYQURr3LCKD",
        "outputId": "b9472058-7d30-4ff3-fb0c-cfd9a6ac94f9"
      },
      "source": [
        "from google.colab import drive\n",
        "drive.mount('/content/drive')"
      ],
      "execution_count": null,
      "outputs": [
        {
          "output_type": "stream",
          "text": [
            "Drive already mounted at /content/drive; to attempt to forcibly remount, call drive.mount(\"/content/drive\", force_remount=True).\n"
          ],
          "name": "stdout"
        }
      ]
    },
    {
      "cell_type": "code",
      "metadata": {
        "id": "LP9kr_knLCKE"
      },
      "source": [
        "nombre_data = 'data'\n",
        "my_path = 'drive/MyDrive/DeepLearningUC/Proyecto/Data'\n",
        "file_name = os.path.join(my_path, nombre_data)\n",
        "infile = open(file_name, 'rb')\n",
        "data_to_save = pickle.load(infile)\n",
        "infile.close()"
      ],
      "execution_count": null,
      "outputs": []
    },
    {
      "cell_type": "code",
      "metadata": {
        "id": "VAxpFOTsLCKE"
      },
      "source": [
        "input_seq_train_no_final = data_to_save['input_seq_train_no_final']\n",
        "label_seq_train_no_final = data_to_save['label_seq_train_no_final']\n",
        "\n",
        "input_seq_dev_no_final = data_to_save['input_seq_dev_no_final']\n",
        "label_seq_dev_no_final = data_to_save['label_seq_dev_no_final']\n",
        "\n",
        "input_seq_test_no_final = data_to_save['input_seq_test_no_final']\n",
        "label_seq_test_no_final = data_to_save['label_seq_test_no_final']"
      ],
      "execution_count": null,
      "outputs": []
    },
    {
      "cell_type": "markdown",
      "metadata": {
        "id": "1B4hQuh07I3g"
      },
      "source": [
        "## Creacion de batches"
      ]
    },
    {
      "cell_type": "code",
      "metadata": {
        "colab": {
          "base_uri": "https://localhost:8080/"
        },
        "id": "a8TyBDG-87gH",
        "outputId": "9c21760a-48c6-473a-d319-bbfb1ac1b94e"
      },
      "source": [
        "import re\n",
        "import nltk\n",
        "import math\n",
        "import time\n",
        "import torch\n",
        "import torchtext\n",
        "import numpy as np\n",
        "import pandas as pd\n",
        "import seaborn as sns\n",
        "import torch.nn as nn\n",
        "nltk.download('stopwords')\n",
        "import matplotlib.pyplot as plt\n",
        "from torchtext.vocab import GloVe\n",
        "from nltk.corpus import stopwords\n",
        "from torchtext import data, datasets\n",
        "from collections import defaultdict, Counter\n",
        "from torch.utils.data import DataLoader, TensorDataset"
      ],
      "execution_count": null,
      "outputs": [
        {
          "output_type": "stream",
          "text": [
            "[nltk_data] Downloading package stopwords to /root/nltk_data...\n",
            "[nltk_data]   Package stopwords is already up-to-date!\n"
          ],
          "name": "stdout"
        }
      ]
    },
    {
      "cell_type": "code",
      "metadata": {
        "id": "hylN64VN5_vH"
      },
      "source": [
        "def transformar_batches_input(input_seq, batch_size):\n",
        "  N = int(len(input_seq)/batch_size)\n",
        "  n = int(N/100)\n",
        "\n",
        "  lista = []\n",
        "\n",
        "  for i in range(N):\n",
        "    \n",
        "    if n != 0:\n",
        "      if i % n == 0:\n",
        "        print(\"Vamos en el porcentaje: \", round((i/N)*100, 2))\n",
        "\n",
        "    elemento = input_seq[i*batch_size:(i+1)*batch_size]\n",
        "    a = len(elemento)\n",
        "    b = len(elemento[0])\n",
        "    c = len(elemento[0][0])\n",
        "    tensor = np.zeros((a, b, c), dtype = np.float32)\n",
        "\n",
        "    for i1 in range(a):\n",
        "      for i2 in range(b):\n",
        "        for i3 in range(c):\n",
        "          tensor[i1][i2][i3] = elemento[i1][i2][i3]\n",
        "\n",
        "    tensor = torch.from_numpy(tensor)      \n",
        "    lista.append(tensor)\n",
        "    \n",
        "  return lista"
      ],
      "execution_count": null,
      "outputs": []
    },
    {
      "cell_type": "code",
      "metadata": {
        "id": "HWl_V5iUB2vc"
      },
      "source": [
        "def transformar_batches_label(label_seq, batch_size):\n",
        "\n",
        "  N = int(len(label_seq)/batch_size)\n",
        "  n = int(N/100)\n",
        "\n",
        "  lista = []\n",
        "\n",
        "  for i in range(N):\n",
        "    \n",
        "    if n != 0:\n",
        "      if i % n == 0:\n",
        "        print(\"Vamos en el porcentaje: \", round((i/N)*100, 2))\n",
        "      \n",
        "    elemento = label_seq[i*batch_size:(i+1)*batch_size]\n",
        "    a = len(elemento)\n",
        "    tensor = np.zeros((a), dtype = np.int64)\n",
        "\n",
        "    for i1 in range(a):\n",
        "      tensor[i1] = elemento[i1]\n",
        "\n",
        "    tensor = torch.from_numpy(tensor)      \n",
        "    lista.append(tensor)\n",
        "    \n",
        "  return lista"
      ],
      "execution_count": null,
      "outputs": []
    },
    {
      "cell_type": "code",
      "metadata": {
        "colab": {
          "base_uri": "https://localhost:8080/"
        },
        "id": "1HKehSP35_yr",
        "outputId": "a4fe200c-ae2c-4b9e-ef88-9a28e6247efc"
      },
      "source": [
        "# TRAIN\n",
        "\n",
        "print(\"TRAIN\")\n",
        "print(\"\\n\")\n",
        "\n",
        "start = time.time()\n",
        "\n",
        "batch_size = 32\n",
        "\n",
        "print(\"input seq \\n\")\n",
        "input_seq_train_final = transformar_batches_input(input_seq_train_no_final, batch_size)\n",
        "print(\"label seq \\n\")\n",
        "label_seq_train_final = transformar_batches_label(label_seq_train_no_final, batch_size)\n",
        "\n",
        "end = time.time()\n",
        "\n",
        "print(\"El procesamiento de train se demoro: \", end-start)\n",
        "\n",
        "print(\"\\n\")\n",
        "\n",
        "# DEV\n",
        "\n",
        "print(\"DEV\")\n",
        "print(\"\\n\")\n",
        "\n",
        "start = time.time()\n",
        "\n",
        "print(\"input seq \\n\")\n",
        "input_seq_dev_final = transformar_batches_input(input_seq_dev_no_final, len(input_seq_dev_no_final))\n",
        "print(\"label seq \\n\")\n",
        "label_seq_dev_final = transformar_batches_label(label_seq_dev_no_final, len(label_seq_dev_no_final))\n",
        "\n",
        "end = time.time()\n",
        "\n",
        "print(\"El procesamiento de dev se demoro: \", end-start)\n",
        "\n",
        "print(\"\\n\")\n",
        "\n",
        "# TEST\n",
        "\n",
        "print(\"TEST\")\n",
        "print(\"\\n\")\n",
        "\n",
        "start = time.time()\n",
        "\n",
        "print(\"input seq \\n\")\n",
        "input_seq_test_final = transformar_batches_input(input_seq_test_no_final, len(input_seq_test_no_final))\n",
        "print(\"label seq \\n\")\n",
        "label_seq_test_final = transformar_batches_label(label_seq_test_no_final, len(label_seq_test_no_final))\n",
        "\n",
        "end = time.time()\n",
        "\n",
        "print(\"El procesamiento de test se demoro: \", end-start)\n",
        "\n",
        "print(\"\\n\")"
      ],
      "execution_count": null,
      "outputs": [
        {
          "output_type": "stream",
          "text": [
            "TRAIN\n",
            "\n",
            "\n",
            "input seq \n",
            "\n",
            "Vamos en el porcentaje:  0.0\n",
            "Vamos en el porcentaje:  0.96\n",
            "Vamos en el porcentaje:  1.92\n",
            "Vamos en el porcentaje:  2.88\n",
            "Vamos en el porcentaje:  3.85\n",
            "Vamos en el porcentaje:  4.81\n",
            "Vamos en el porcentaje:  5.77\n",
            "Vamos en el porcentaje:  6.73\n",
            "Vamos en el porcentaje:  7.69\n",
            "Vamos en el porcentaje:  8.65\n",
            "Vamos en el porcentaje:  9.62\n",
            "Vamos en el porcentaje:  10.58\n",
            "Vamos en el porcentaje:  11.54\n",
            "Vamos en el porcentaje:  12.5\n",
            "Vamos en el porcentaje:  13.46\n",
            "Vamos en el porcentaje:  14.42\n",
            "Vamos en el porcentaje:  15.38\n",
            "Vamos en el porcentaje:  16.35\n",
            "Vamos en el porcentaje:  17.31\n",
            "Vamos en el porcentaje:  18.27\n",
            "Vamos en el porcentaje:  19.23\n",
            "Vamos en el porcentaje:  20.19\n",
            "Vamos en el porcentaje:  21.15\n",
            "Vamos en el porcentaje:  22.12\n",
            "Vamos en el porcentaje:  23.08\n",
            "Vamos en el porcentaje:  24.04\n",
            "Vamos en el porcentaje:  25.0\n",
            "Vamos en el porcentaje:  25.96\n",
            "Vamos en el porcentaje:  26.92\n",
            "Vamos en el porcentaje:  27.88\n",
            "Vamos en el porcentaje:  28.85\n",
            "Vamos en el porcentaje:  29.81\n",
            "Vamos en el porcentaje:  30.77\n",
            "Vamos en el porcentaje:  31.73\n",
            "Vamos en el porcentaje:  32.69\n",
            "Vamos en el porcentaje:  33.65\n",
            "Vamos en el porcentaje:  34.62\n",
            "Vamos en el porcentaje:  35.58\n",
            "Vamos en el porcentaje:  36.54\n",
            "Vamos en el porcentaje:  37.5\n",
            "Vamos en el porcentaje:  38.46\n",
            "Vamos en el porcentaje:  39.42\n",
            "Vamos en el porcentaje:  40.38\n",
            "Vamos en el porcentaje:  41.35\n",
            "Vamos en el porcentaje:  42.31\n",
            "Vamos en el porcentaje:  43.27\n",
            "Vamos en el porcentaje:  44.23\n",
            "Vamos en el porcentaje:  45.19\n",
            "Vamos en el porcentaje:  46.15\n",
            "Vamos en el porcentaje:  47.12\n",
            "Vamos en el porcentaje:  48.08\n",
            "Vamos en el porcentaje:  49.04\n",
            "Vamos en el porcentaje:  50.0\n",
            "Vamos en el porcentaje:  50.96\n",
            "Vamos en el porcentaje:  51.92\n",
            "Vamos en el porcentaje:  52.88\n",
            "Vamos en el porcentaje:  53.85\n",
            "Vamos en el porcentaje:  54.81\n",
            "Vamos en el porcentaje:  55.77\n",
            "Vamos en el porcentaje:  56.73\n",
            "Vamos en el porcentaje:  57.69\n",
            "Vamos en el porcentaje:  58.65\n",
            "Vamos en el porcentaje:  59.62\n",
            "Vamos en el porcentaje:  60.58\n",
            "Vamos en el porcentaje:  61.54\n",
            "Vamos en el porcentaje:  62.5\n",
            "Vamos en el porcentaje:  63.46\n",
            "Vamos en el porcentaje:  64.42\n",
            "Vamos en el porcentaje:  65.38\n",
            "Vamos en el porcentaje:  66.35\n",
            "Vamos en el porcentaje:  67.31\n",
            "Vamos en el porcentaje:  68.27\n",
            "Vamos en el porcentaje:  69.23\n",
            "Vamos en el porcentaje:  70.19\n",
            "Vamos en el porcentaje:  71.15\n",
            "Vamos en el porcentaje:  72.12\n",
            "Vamos en el porcentaje:  73.08\n",
            "Vamos en el porcentaje:  74.04\n",
            "Vamos en el porcentaje:  75.0\n",
            "Vamos en el porcentaje:  75.96\n",
            "Vamos en el porcentaje:  76.92\n",
            "Vamos en el porcentaje:  77.88\n",
            "Vamos en el porcentaje:  78.85\n",
            "Vamos en el porcentaje:  79.81\n",
            "Vamos en el porcentaje:  80.77\n",
            "Vamos en el porcentaje:  81.73\n",
            "Vamos en el porcentaje:  82.69\n",
            "Vamos en el porcentaje:  83.65\n",
            "Vamos en el porcentaje:  84.62\n",
            "Vamos en el porcentaje:  85.58\n",
            "Vamos en el porcentaje:  86.54\n",
            "Vamos en el porcentaje:  87.5\n",
            "Vamos en el porcentaje:  88.46\n",
            "Vamos en el porcentaje:  89.42\n",
            "Vamos en el porcentaje:  90.38\n",
            "Vamos en el porcentaje:  91.35\n",
            "Vamos en el porcentaje:  92.31\n",
            "Vamos en el porcentaje:  93.27\n",
            "Vamos en el porcentaje:  94.23\n",
            "Vamos en el porcentaje:  95.19\n",
            "Vamos en el porcentaje:  96.15\n",
            "Vamos en el porcentaje:  97.12\n",
            "Vamos en el porcentaje:  98.08\n",
            "Vamos en el porcentaje:  99.04\n",
            "label seq \n",
            "\n",
            "Vamos en el porcentaje:  0.0\n",
            "Vamos en el porcentaje:  0.96\n",
            "Vamos en el porcentaje:  1.92\n",
            "Vamos en el porcentaje:  2.88\n",
            "Vamos en el porcentaje:  3.85\n",
            "Vamos en el porcentaje:  4.81\n",
            "Vamos en el porcentaje:  5.77\n",
            "Vamos en el porcentaje:  6.73\n",
            "Vamos en el porcentaje:  7.69\n",
            "Vamos en el porcentaje:  8.65\n",
            "Vamos en el porcentaje:  9.62\n",
            "Vamos en el porcentaje:  10.58\n",
            "Vamos en el porcentaje:  11.54\n",
            "Vamos en el porcentaje:  12.5\n",
            "Vamos en el porcentaje:  13.46\n",
            "Vamos en el porcentaje:  14.42\n",
            "Vamos en el porcentaje:  15.38\n",
            "Vamos en el porcentaje:  16.35\n",
            "Vamos en el porcentaje:  17.31\n",
            "Vamos en el porcentaje:  18.27\n",
            "Vamos en el porcentaje:  19.23\n",
            "Vamos en el porcentaje:  20.19\n",
            "Vamos en el porcentaje:  21.15\n",
            "Vamos en el porcentaje:  22.12\n",
            "Vamos en el porcentaje:  23.08\n",
            "Vamos en el porcentaje:  24.04\n",
            "Vamos en el porcentaje:  25.0\n",
            "Vamos en el porcentaje:  25.96\n",
            "Vamos en el porcentaje:  26.92\n",
            "Vamos en el porcentaje:  27.88\n",
            "Vamos en el porcentaje:  28.85\n",
            "Vamos en el porcentaje:  29.81\n",
            "Vamos en el porcentaje:  30.77\n",
            "Vamos en el porcentaje:  31.73\n",
            "Vamos en el porcentaje:  32.69\n",
            "Vamos en el porcentaje:  33.65\n",
            "Vamos en el porcentaje:  34.62\n",
            "Vamos en el porcentaje:  35.58\n",
            "Vamos en el porcentaje:  36.54\n",
            "Vamos en el porcentaje:  37.5\n",
            "Vamos en el porcentaje:  38.46\n",
            "Vamos en el porcentaje:  39.42\n",
            "Vamos en el porcentaje:  40.38\n",
            "Vamos en el porcentaje:  41.35\n",
            "Vamos en el porcentaje:  42.31\n",
            "Vamos en el porcentaje:  43.27\n",
            "Vamos en el porcentaje:  44.23\n",
            "Vamos en el porcentaje:  45.19\n",
            "Vamos en el porcentaje:  46.15\n",
            "Vamos en el porcentaje:  47.12\n",
            "Vamos en el porcentaje:  48.08\n",
            "Vamos en el porcentaje:  49.04\n",
            "Vamos en el porcentaje:  50.0\n",
            "Vamos en el porcentaje:  50.96\n",
            "Vamos en el porcentaje:  51.92\n",
            "Vamos en el porcentaje:  52.88\n",
            "Vamos en el porcentaje:  53.85\n",
            "Vamos en el porcentaje:  54.81\n",
            "Vamos en el porcentaje:  55.77\n",
            "Vamos en el porcentaje:  56.73\n",
            "Vamos en el porcentaje:  57.69\n",
            "Vamos en el porcentaje:  58.65\n",
            "Vamos en el porcentaje:  59.62\n",
            "Vamos en el porcentaje:  60.58\n",
            "Vamos en el porcentaje:  61.54\n",
            "Vamos en el porcentaje:  62.5\n",
            "Vamos en el porcentaje:  63.46\n",
            "Vamos en el porcentaje:  64.42\n",
            "Vamos en el porcentaje:  65.38\n",
            "Vamos en el porcentaje:  66.35\n",
            "Vamos en el porcentaje:  67.31\n",
            "Vamos en el porcentaje:  68.27\n",
            "Vamos en el porcentaje:  69.23\n",
            "Vamos en el porcentaje:  70.19\n",
            "Vamos en el porcentaje:  71.15\n",
            "Vamos en el porcentaje:  72.12\n",
            "Vamos en el porcentaje:  73.08\n",
            "Vamos en el porcentaje:  74.04\n",
            "Vamos en el porcentaje:  75.0\n",
            "Vamos en el porcentaje:  75.96\n",
            "Vamos en el porcentaje:  76.92\n",
            "Vamos en el porcentaje:  77.88\n",
            "Vamos en el porcentaje:  78.85\n",
            "Vamos en el porcentaje:  79.81\n",
            "Vamos en el porcentaje:  80.77\n",
            "Vamos en el porcentaje:  81.73\n",
            "Vamos en el porcentaje:  82.69\n",
            "Vamos en el porcentaje:  83.65\n",
            "Vamos en el porcentaje:  84.62\n",
            "Vamos en el porcentaje:  85.58\n",
            "Vamos en el porcentaje:  86.54\n",
            "Vamos en el porcentaje:  87.5\n",
            "Vamos en el porcentaje:  88.46\n",
            "Vamos en el porcentaje:  89.42\n",
            "Vamos en el porcentaje:  90.38\n",
            "Vamos en el porcentaje:  91.35\n",
            "Vamos en el porcentaje:  92.31\n",
            "Vamos en el porcentaje:  93.27\n",
            "Vamos en el porcentaje:  94.23\n",
            "Vamos en el porcentaje:  95.19\n",
            "Vamos en el porcentaje:  96.15\n",
            "Vamos en el porcentaje:  97.12\n",
            "Vamos en el porcentaje:  98.08\n",
            "Vamos en el porcentaje:  99.04\n",
            "El procesamiento de train se demoro:  664.9575397968292\n",
            "\n",
            "\n",
            "DEV\n",
            "\n",
            "\n",
            "input seq \n",
            "\n",
            "label seq \n",
            "\n",
            "El procesamiento de dev se demoro:  166.76713132858276\n",
            "\n",
            "\n",
            "TEST\n",
            "\n",
            "\n",
            "input seq \n",
            "\n",
            "label seq \n",
            "\n",
            "El procesamiento de test se demoro:  167.40925312042236\n",
            "\n",
            "\n"
          ],
          "name": "stdout"
        }
      ]
    },
    {
      "cell_type": "markdown",
      "metadata": {
        "id": "1l-am_pDyJyc"
      },
      "source": [
        "## Creacion de modelo"
      ]
    },
    {
      "cell_type": "code",
      "metadata": {
        "colab": {
          "base_uri": "https://localhost:8080/"
        },
        "id": "4ZUMm-obvWSA",
        "outputId": "bd4f340c-876c-4fd0-8745-39edd53ca2cb"
      },
      "source": [
        "import re\n",
        "import nltk\n",
        "import math\n",
        "import time\n",
        "import torch\n",
        "import torchtext\n",
        "import numpy as np\n",
        "import pandas as pd\n",
        "import seaborn as sns\n",
        "import torch.nn as nn\n",
        "nltk.download('stopwords')\n",
        "import matplotlib.pyplot as plt\n",
        "from torchtext.vocab import GloVe\n",
        "from nltk.corpus import stopwords\n",
        "from torchtext import data, datasets\n",
        "from collections import defaultdict, Counter\n",
        "from torch.utils.data import DataLoader, TensorDataset"
      ],
      "execution_count": null,
      "outputs": [
        {
          "output_type": "stream",
          "text": [
            "[nltk_data] Downloading package stopwords to /root/nltk_data...\n",
            "[nltk_data]   Package stopwords is already up-to-date!\n"
          ],
          "name": "stdout"
        }
      ]
    },
    {
      "cell_type": "code",
      "metadata": {
        "id": "WUfOXsxLaoGL"
      },
      "source": [
        "def precision(output, label):\n",
        "  predicciones = []\n",
        "\n",
        "  for i in range(len(output)):\n",
        "    if output[i][1] > output[i][0]:\n",
        "      predicciones.append(1)\n",
        "    else:\n",
        "      predicciones.append(0)\n",
        "\n",
        "  prec = 0\n",
        "\n",
        "  for k in range(len(output)):\n",
        "    v = (predicciones[k] == label[k]).item()\n",
        "    if v == True:\n",
        "      prec = prec + 1\n",
        "  \n",
        "  prec = prec/len(output)\n",
        "\n",
        "  return prec"
      ],
      "execution_count": null,
      "outputs": []
    },
    {
      "cell_type": "code",
      "metadata": {
        "id": "ahXnQXFbu7vn"
      },
      "source": [
        "class Model(nn.Module):\n",
        "    def __init__(self, input_size, output_size, hidden_dim, n_layers, device):\n",
        "        super(Model, self).__init__()\n",
        "\n",
        "        self.input_size = input_size\n",
        "        self.output_size = output_size\n",
        "        self.hidden_dim = hidden_dim\n",
        "        self.n_layers = n_layers\n",
        "\n",
        "        self.device = device\n",
        "        self.lstm = nn.LSTM(input_size, hidden_dim, n_layers, batch_first=True)\n",
        "        self.flatten = nn.Flatten()\n",
        "        self.fc = nn.Linear(hidden_dim*320, output_size)\n",
        "        self.logsoftmax = nn.LogSoftmax(dim=1)\n",
        "    \n",
        "    def forward(self, x):\n",
        "\n",
        "        batch_size = len(x)\n",
        "\n",
        "        h = self.init_hidden(batch_size)\n",
        "        c = self.init_hidden(batch_size)\n",
        "\n",
        "        out, (h, c) = self.lstm(x, (h,c))\n",
        "        out = self.flatten(out)\n",
        "        out = self.fc(out)\n",
        "        out = self.logsoftmax(out)\n",
        "\n",
        "        return out\n",
        "    \n",
        "    def init_hidden(self, batch_size):\n",
        "        h = torch.zeros(self.n_layers, batch_size, self.hidden_dim)\n",
        "        return h.to(self.device)"
      ],
      "execution_count": null,
      "outputs": []
    },
    {
      "cell_type": "code",
      "metadata": {
        "colab": {
          "base_uri": "https://localhost:8080/"
        },
        "id": "3pS9an7JwNlr",
        "outputId": "e5cd59d2-9a3e-4678-d9a7-6d608290e72b"
      },
      "source": [
        "# torch.cuda.is_available() checks and returns a Boolean True if a GPU is available, else it'll return False\n",
        "is_cuda = torch.cuda.is_available()\n",
        "\n",
        "# If we have a GPU available, we'll set our device to GPU. We'll use this device variable later in our code.\n",
        "if is_cuda:\n",
        "    device = torch.device(\"cuda\")\n",
        "    print(\"GPU is available\")    \n",
        "else:\n",
        "    device = torch.device(\"cpu\")\n",
        "    print(\"GPU not available, CPU used\")"
      ],
      "execution_count": null,
      "outputs": [
        {
          "output_type": "stream",
          "text": [
            "GPU is available\n"
          ],
          "name": "stdout"
        }
      ]
    },
    {
      "cell_type": "code",
      "metadata": {
        "id": "vJxzZcF3wU5U"
      },
      "source": [
        "input_size = 300\n",
        "output_size = 2\n",
        "hidden_dim = 20\n",
        "n_layers = 1\n",
        "\n",
        "model = Model(input_size, output_size, hidden_dim, n_layers, device)\n",
        "model = model.to(device)"
      ],
      "execution_count": null,
      "outputs": []
    },
    {
      "cell_type": "code",
      "metadata": {
        "id": "sBt2uK9QM8ws"
      },
      "source": [
        "n_epochs = 100\n",
        "lr=0.0001\n",
        "\n",
        "# Define Loss, Optimizer\n",
        "criterion = nn.CrossEntropyLoss()\n",
        "optimizer = torch.optim.Adam(model.parameters(), lr=lr)"
      ],
      "execution_count": null,
      "outputs": []
    },
    {
      "cell_type": "code",
      "metadata": {
        "colab": {
          "base_uri": "https://localhost:8080/"
        },
        "id": "U7lYr5VLNHzF",
        "outputId": "7c67cca5-13de-447a-a1b7-091652a1d0fa"
      },
      "source": [
        "# Entrenamiento\n",
        "\n",
        "epocas_totales = []\n",
        "\n",
        "loss_train_totales = []\n",
        "prec_train_totales = []\n",
        "\n",
        "loss_val_totales = []\n",
        "prec_val_totales = []\n",
        "\n",
        "for epoch in range(1, n_epochs + 1):\n",
        "\n",
        "  loss_train_total = 0\n",
        "  prec_train_total = 0\n",
        "\n",
        "  model.train()\n",
        "\n",
        "  for i in range(len(input_seq_train_final)):\n",
        "\n",
        "    input_train = input_seq_train_final[i]\n",
        "    label_train = label_seq_train_final[i]\n",
        "\n",
        "    input_train = input_train.to(device)\n",
        "    label_train = label_train.to(device)\n",
        "\n",
        "    output_train = model(input_train)\n",
        "\n",
        "    loss_train = criterion(output_train, label_train)\n",
        "\n",
        "    loss_train.backward()\n",
        "    optimizer.step()\n",
        "\n",
        "    loss_train_total = loss_train_total + float(loss_train.item())\n",
        "\n",
        "    prec_train = precision(output_train, label_train)\n",
        "    prec_train_total = prec_train_total + prec_train\n",
        "  \n",
        "  loss_train_total = loss_train_total/len(input_seq_train_final)\n",
        "  prec_train_total = prec_train_total/len(input_seq_train_final)\n",
        "\n",
        "  model.eval()\n",
        "\n",
        "  input_val = input_seq_dev_final[0]\n",
        "  label_val = label_seq_dev_final[0]\n",
        "\n",
        "  input_val = input_val.to(device)\n",
        "  label_val = label_val.to(device)\n",
        "\n",
        "  output_val = model(input_val)\n",
        "\n",
        "  loss_val = criterion(output_val, label_val).item()\n",
        "  prec_val = precision(output_val, label_val)\n",
        "\n",
        "  epocas_totales.append(epoch)\n",
        "  loss_train_totales.append(loss_train_total)\n",
        "  prec_train_totales.append(prec_train_total)\n",
        "\n",
        "\n",
        "  loss_val_totales.append(loss_val)\n",
        "  prec_val_totales.append(prec_val)\n",
        "\n",
        "  print(\"--------------------\")\n",
        "  print(\"Epoca: \", epoch)\n",
        "  print(\"Perdida Entrenamiento: \", loss_train_total)\n",
        "  print(\"Precision Entrenamiento: \", prec_train_total)\n",
        "\n",
        "  print(\"Perdida Validacion: \", loss_val)\n",
        "  print(\"Precision Validacion: \", prec_val)\n",
        "\n",
        "  print(\"--------------------\")\n"
      ],
      "execution_count": null,
      "outputs": [
        {
          "output_type": "stream",
          "text": [
            "--------------------\n",
            "Epoca:  1\n",
            "Perdida Entrenamiento:  1.479007716068083\n",
            "Precision Entrenamiento:  0.6159855769230769\n",
            "Perdida Validacion:  3.196399211883545\n",
            "Precision Validacion:  0.5076\n",
            "--------------------\n",
            "--------------------\n",
            "Epoca:  2\n",
            "Perdida Entrenamiento:  2.142898354599439\n",
            "Precision Entrenamiento:  0.5545873397435898\n",
            "Perdida Validacion:  1.6302720308303833\n",
            "Precision Validacion:  0.4924\n",
            "--------------------\n",
            "--------------------\n",
            "Epoca:  3\n",
            "Perdida Entrenamiento:  1.6595527627339322\n",
            "Precision Entrenamiento:  0.5181290064102564\n",
            "Perdida Validacion:  0.7845401167869568\n",
            "Precision Validacion:  0.5072\n",
            "--------------------\n",
            "--------------------\n",
            "Epoca:  4\n",
            "Perdida Entrenamiento:  0.9473062395476378\n",
            "Precision Entrenamiento:  0.5207331730769231\n",
            "Perdida Validacion:  1.2673871517181396\n",
            "Precision Validacion:  0.5076\n",
            "--------------------\n",
            "--------------------\n",
            "Epoca:  5\n",
            "Perdida Entrenamiento:  0.8940668794690655\n",
            "Precision Entrenamiento:  0.5996594551282052\n",
            "Perdida Validacion:  1.1382362842559814\n",
            "Precision Validacion:  0.4924\n",
            "--------------------\n",
            "--------------------\n",
            "Epoca:  6\n",
            "Perdida Entrenamiento:  1.0313011236094798\n",
            "Precision Entrenamiento:  0.46314102564102566\n",
            "Perdida Validacion:  1.3905047178268433\n",
            "Precision Validacion:  0.5076\n",
            "--------------------\n",
            "--------------------\n",
            "Epoca:  7\n",
            "Perdida Entrenamiento:  0.7594124133652375\n",
            "Precision Entrenamiento:  0.6488381410256411\n",
            "Perdida Validacion:  1.110352873802185\n",
            "Precision Validacion:  0.4924\n",
            "--------------------\n",
            "--------------------\n",
            "Epoca:  8\n",
            "Perdida Entrenamiento:  0.9272494943443468\n",
            "Precision Entrenamiento:  0.6053685897435898\n",
            "Perdida Validacion:  1.3587766885757446\n",
            "Precision Validacion:  0.5092\n",
            "--------------------\n",
            "--------------------\n",
            "Epoca:  9\n",
            "Perdida Entrenamiento:  1.1327377047082057\n",
            "Precision Entrenamiento:  0.6629607371794872\n",
            "Perdida Validacion:  1.0961581468582153\n",
            "Precision Validacion:  0.514\n",
            "--------------------\n",
            "--------------------\n",
            "Epoca:  10\n",
            "Perdida Entrenamiento:  1.0216759571134861\n",
            "Precision Entrenamiento:  0.6566506410256411\n",
            "Perdida Validacion:  1.193542718887329\n",
            "Precision Validacion:  0.5048\n",
            "--------------------\n",
            "--------------------\n",
            "Epoca:  11\n",
            "Perdida Entrenamiento:  0.7617617135023362\n",
            "Precision Entrenamiento:  0.6459334935897436\n",
            "Perdida Validacion:  2.073915958404541\n",
            "Precision Validacion:  0.5076\n",
            "--------------------\n",
            "--------------------\n",
            "Epoca:  12\n",
            "Perdida Entrenamiento:  0.8859740513745026\n",
            "Precision Entrenamiento:  0.6646634615384616\n",
            "Perdida Validacion:  1.1624783277511597\n",
            "Precision Validacion:  0.5152\n",
            "--------------------\n",
            "--------------------\n",
            "Epoca:  13\n",
            "Perdida Entrenamiento:  0.838427599370043\n",
            "Precision Entrenamiento:  0.6849959935897436\n",
            "Perdida Validacion:  1.1495128870010376\n",
            "Precision Validacion:  0.5092\n",
            "--------------------\n",
            "--------------------\n",
            "Epoca:  14\n",
            "Perdida Entrenamiento:  0.6617365970249577\n",
            "Precision Entrenamiento:  0.6798878205128205\n",
            "Perdida Validacion:  1.1718205213546753\n",
            "Precision Validacion:  0.5112\n",
            "--------------------\n",
            "--------------------\n",
            "Epoca:  15\n",
            "Perdida Entrenamiento:  0.703485612819095\n",
            "Precision Entrenamiento:  0.6608573717948718\n",
            "Perdida Validacion:  1.6412642002105713\n",
            "Precision Validacion:  0.5076\n",
            "--------------------\n",
            "--------------------\n",
            "Epoca:  16\n",
            "Perdida Entrenamiento:  0.6219765814081543\n",
            "Precision Entrenamiento:  0.6685697115384616\n",
            "Perdida Validacion:  1.1001291275024414\n",
            "Precision Validacion:  0.5132\n",
            "--------------------\n",
            "--------------------\n",
            "Epoca:  17\n",
            "Perdida Entrenamiento:  0.5198362846133896\n",
            "Precision Entrenamiento:  0.7069310897435898\n",
            "Perdida Validacion:  0.8874452114105225\n",
            "Precision Validacion:  0.5116\n",
            "--------------------\n",
            "--------------------\n",
            "Epoca:  18\n",
            "Perdida Entrenamiento:  0.5969360491980498\n",
            "Precision Entrenamiento:  0.688301282051282\n",
            "Perdida Validacion:  0.8453057408332825\n",
            "Precision Validacion:  0.5124\n",
            "--------------------\n",
            "--------------------\n",
            "Epoca:  19\n",
            "Perdida Entrenamiento:  0.489120067109109\n",
            "Precision Entrenamiento:  0.6816907051282052\n",
            "Perdida Validacion:  1.0012226104736328\n",
            "Precision Validacion:  0.5076\n",
            "--------------------\n",
            "--------------------\n",
            "Epoca:  20\n",
            "Perdida Entrenamiento:  0.5952622418929654\n",
            "Precision Entrenamiento:  0.663261217948718\n",
            "Perdida Validacion:  0.9640021324157715\n",
            "Precision Validacion:  0.5076\n",
            "--------------------\n",
            "--------------------\n",
            "Epoca:  21\n",
            "Perdida Entrenamiento:  0.4763001399682973\n",
            "Precision Entrenamiento:  0.6966145833333334\n",
            "Perdida Validacion:  0.8443343639373779\n",
            "Precision Validacion:  0.51\n",
            "--------------------\n",
            "--------------------\n",
            "Epoca:  22\n",
            "Perdida Entrenamiento:  0.5738314337724169\n",
            "Precision Entrenamiento:  0.6859975961538461\n",
            "Perdida Validacion:  0.8447679877281189\n",
            "Precision Validacion:  0.5112\n",
            "--------------------\n",
            "--------------------\n",
            "Epoca:  23\n",
            "Perdida Entrenamiento:  0.47993349723439777\n",
            "Precision Entrenamiento:  0.6851963141025641\n",
            "Perdida Validacion:  0.9775384068489075\n",
            "Precision Validacion:  0.5076\n",
            "--------------------\n",
            "--------------------\n",
            "Epoca:  24\n",
            "Perdida Entrenamiento:  0.5626730690356305\n",
            "Precision Entrenamiento:  0.6638621794871795\n",
            "Perdida Validacion:  0.9872149229049683\n",
            "Precision Validacion:  0.5076\n",
            "--------------------\n",
            "--------------------\n",
            "Epoca:  25\n",
            "Perdida Entrenamiento:  0.4753338029889032\n",
            "Precision Entrenamiento:  0.6987179487179487\n",
            "Perdida Validacion:  0.8601064682006836\n",
            "Precision Validacion:  0.504\n",
            "--------------------\n",
            "--------------------\n",
            "Epoca:  26\n",
            "Perdida Entrenamiento:  0.5423356949136887\n",
            "Precision Entrenamiento:  0.6996193910256411\n",
            "Perdida Validacion:  0.8693199157714844\n",
            "Precision Validacion:  0.5052\n",
            "--------------------\n",
            "--------------------\n",
            "Epoca:  27\n",
            "Perdida Entrenamiento:  0.4703282144263474\n",
            "Precision Entrenamiento:  0.7029246794871795\n",
            "Perdida Validacion:  1.0018211603164673\n",
            "Precision Validacion:  0.5088\n",
            "--------------------\n",
            "--------------------\n",
            "Epoca:  28\n",
            "Perdida Entrenamiento:  0.5301731248271299\n",
            "Precision Entrenamiento:  0.6640625\n",
            "Perdida Validacion:  1.0296155214309692\n",
            "Precision Validacion:  0.5076\n",
            "--------------------\n",
            "--------------------\n",
            "Epoca:  29\n",
            "Perdida Entrenamiento:  0.46344142453557224\n",
            "Precision Entrenamiento:  0.6985176282051282\n",
            "Perdida Validacion:  0.884300172328949\n",
            "Precision Validacion:  0.51\n",
            "--------------------\n",
            "--------------------\n",
            "Epoca:  30\n",
            "Perdida Entrenamiento:  0.49959626308769134\n",
            "Precision Entrenamiento:  0.7079326923076923\n",
            "Perdida Validacion:  0.9123498201370239\n",
            "Precision Validacion:  0.5068\n",
            "--------------------\n",
            "--------------------\n",
            "Epoca:  31\n",
            "Perdida Entrenamiento:  0.46623504165833723\n",
            "Precision Entrenamiento:  0.7151442307692307\n",
            "Perdida Validacion:  0.9131870865821838\n",
            "Precision Validacion:  0.5104\n",
            "--------------------\n",
            "--------------------\n",
            "Epoca:  32\n",
            "Perdida Entrenamiento:  0.4710190517341125\n",
            "Precision Entrenamiento:  0.6781850961538461\n",
            "Perdida Validacion:  1.014401912689209\n",
            "Precision Validacion:  0.508\n",
            "--------------------\n",
            "--------------------\n",
            "Epoca:  33\n",
            "Perdida Entrenamiento:  0.4805031331391885\n",
            "Precision Entrenamiento:  0.667167467948718\n",
            "Perdida Validacion:  0.9724079370498657\n",
            "Precision Validacion:  0.508\n",
            "--------------------\n",
            "--------------------\n",
            "Epoca:  34\n",
            "Perdida Entrenamiento:  0.44687253594738696\n",
            "Precision Entrenamiento:  0.7154447115384616\n",
            "Perdida Validacion:  0.9337674975395203\n",
            "Precision Validacion:  0.5128\n",
            "--------------------\n",
            "--------------------\n",
            "Epoca:  35\n",
            "Perdida Entrenamiento:  0.46133362587931603\n",
            "Precision Entrenamiento:  0.7210536858974359\n",
            "Perdida Validacion:  0.9516080021858215\n",
            "Precision Validacion:  0.5076\n",
            "--------------------\n",
            "--------------------\n",
            "Epoca:  36\n",
            "Perdida Entrenamiento:  0.4538728511315341\n",
            "Precision Entrenamiento:  0.7228565705128205\n",
            "Perdida Validacion:  0.9613609313964844\n",
            "Precision Validacion:  0.5116\n",
            "--------------------\n",
            "--------------------\n",
            "Epoca:  37\n",
            "Perdida Entrenamiento:  0.4411235734681226\n",
            "Precision Entrenamiento:  0.7169471153846154\n",
            "Perdida Validacion:  1.0120961666107178\n",
            "Precision Validacion:  0.5184\n",
            "--------------------\n",
            "--------------------\n",
            "Epoca:  38\n",
            "Perdida Entrenamiento:  0.4521050451955364\n",
            "Precision Entrenamiento:  0.6878004807692307\n",
            "Perdida Validacion:  1.0612291097640991\n",
            "Precision Validacion:  0.5112\n",
            "--------------------\n",
            "--------------------\n",
            "Epoca:  39\n",
            "Perdida Entrenamiento:  0.45292592859018527\n",
            "Precision Entrenamiento:  0.6760817307692307\n",
            "Perdida Validacion:  1.0533212423324585\n",
            "Precision Validacion:  0.5108\n",
            "--------------------\n",
            "--------------------\n",
            "Epoca:  40\n",
            "Perdida Entrenamiento:  0.4409991164228371\n",
            "Precision Entrenamiento:  0.715645032051282\n",
            "Perdida Validacion:  1.0236674547195435\n",
            "Precision Validacion:  0.5124\n",
            "--------------------\n",
            "--------------------\n",
            "Epoca:  41\n",
            "Perdida Entrenamiento:  0.43634041133460083\n",
            "Precision Entrenamiento:  0.7284655448717948\n",
            "Perdida Validacion:  1.0091897249221802\n",
            "Precision Validacion:  0.5076\n",
            "--------------------\n",
            "--------------------\n",
            "Epoca:  42\n",
            "Perdida Entrenamiento:  0.43710387216936736\n",
            "Precision Entrenamiento:  0.7286658653846154\n",
            "Perdida Validacion:  1.0087343454360962\n",
            "Precision Validacion:  0.5084\n",
            "--------------------\n",
            "--------------------\n",
            "Epoca:  43\n",
            "Perdida Entrenamiento:  0.4360227116794639\n",
            "Precision Entrenamiento:  0.7290665064102564\n",
            "Perdida Validacion:  1.0163030624389648\n",
            "Precision Validacion:  0.5064\n",
            "--------------------\n",
            "--------------------\n",
            "Epoca:  44\n",
            "Perdida Entrenamiento:  0.43395072552349123\n",
            "Precision Entrenamiento:  0.7283653846153846\n",
            "Perdida Validacion:  1.0307931900024414\n",
            "Precision Validacion:  0.5052\n",
            "--------------------\n",
            "--------------------\n",
            "Epoca:  45\n",
            "Perdida Entrenamiento:  0.4341397324694415\n",
            "Precision Entrenamiento:  0.7267628205128205\n",
            "Perdida Validacion:  1.0487369298934937\n",
            "Precision Validacion:  0.5136\n",
            "--------------------\n",
            "--------------------\n",
            "Epoca:  46\n",
            "Perdida Entrenamiento:  0.43622747801390716\n",
            "Precision Entrenamiento:  0.7149439102564102\n",
            "Perdida Validacion:  1.0632131099700928\n",
            "Precision Validacion:  0.5124\n",
            "--------------------\n",
            "--------------------\n",
            "Epoca:  47\n",
            "Perdida Entrenamiento:  0.43742931453158773\n",
            "Precision Entrenamiento:  0.7067307692307693\n",
            "Perdida Validacion:  1.0690596103668213\n",
            "Precision Validacion:  0.5092\n",
            "--------------------\n",
            "--------------------\n",
            "Epoca:  48\n",
            "Perdida Entrenamiento:  0.43605233545205807\n",
            "Precision Entrenamiento:  0.7083333333333334\n",
            "Perdida Validacion:  1.0670139789581299\n",
            "Precision Validacion:  0.5136\n",
            "--------------------\n",
            "--------------------\n",
            "Epoca:  49\n",
            "Perdida Entrenamiento:  0.4332696434467282\n",
            "Precision Entrenamiento:  0.7130408653846154\n",
            "Perdida Validacion:  1.063261866569519\n",
            "Precision Validacion:  0.5108\n",
            "--------------------\n",
            "--------------------\n",
            "Epoca:  50\n",
            "Perdida Entrenamiento:  0.4310406437887416\n",
            "Precision Entrenamiento:  0.7231570512820513\n",
            "Perdida Validacion:  1.0622444152832031\n",
            "Precision Validacion:  0.5092\n",
            "--------------------\n",
            "--------------------\n",
            "Epoca:  51\n",
            "Perdida Entrenamiento:  0.4296926605515479\n",
            "Precision Entrenamiento:  0.7265625\n",
            "Perdida Validacion:  1.0645606517791748\n",
            "Precision Validacion:  0.5052\n",
            "--------------------\n",
            "--------------------\n",
            "Epoca:  52\n",
            "Perdida Entrenamiento:  0.4288694339853318\n",
            "Precision Entrenamiento:  0.7277644230769231\n",
            "Perdida Validacion:  1.0695682764053345\n",
            "Precision Validacion:  0.5084\n",
            "--------------------\n",
            "--------------------\n",
            "Epoca:  53\n",
            "Perdida Entrenamiento:  0.4283447878381651\n",
            "Precision Entrenamiento:  0.7266626602564102\n",
            "Perdida Validacion:  1.0764682292938232\n",
            "Precision Validacion:  0.508\n",
            "--------------------\n",
            "--------------------\n",
            "Epoca:  54\n",
            "Perdida Entrenamiento:  0.42803223164158144\n",
            "Precision Entrenamiento:  0.7264623397435898\n",
            "Perdida Validacion:  1.0845056772232056\n",
            "Precision Validacion:  0.5096\n",
            "--------------------\n",
            "--------------------\n",
            "Epoca:  55\n",
            "Perdida Entrenamiento:  0.42784456375400437\n",
            "Precision Entrenamiento:  0.7258613782051282\n",
            "Perdida Validacion:  1.0930826663970947\n",
            "Precision Validacion:  0.512\n",
            "--------------------\n",
            "--------------------\n",
            "Epoca:  56\n",
            "Perdida Entrenamiento:  0.42770357813698895\n",
            "Precision Entrenamiento:  0.7230568910256411\n",
            "Perdida Validacion:  1.1018351316452026\n",
            "Precision Validacion:  0.5096\n",
            "--------------------\n",
            "--------------------\n",
            "Epoca:  57\n",
            "Perdida Entrenamiento:  0.42757226382287694\n",
            "Precision Entrenamiento:  0.7172475961538461\n",
            "Perdida Validacion:  1.1105772256851196\n",
            "Precision Validacion:  0.5096\n",
            "--------------------\n",
            "--------------------\n",
            "Epoca:  58\n",
            "Perdida Entrenamiento:  0.4274076560898186\n",
            "Precision Entrenamiento:  0.7157451923076923\n",
            "Perdida Validacion:  1.1192551851272583\n",
            "Precision Validacion:  0.5136\n",
            "--------------------\n",
            "--------------------\n",
            "Epoca:  59\n",
            "Perdida Entrenamiento:  0.4271599875917752\n",
            "Precision Entrenamiento:  0.7145432692307693\n",
            "Perdida Validacion:  1.1278802156448364\n",
            "Precision Validacion:  0.5108\n",
            "--------------------\n",
            "--------------------\n",
            "Epoca:  60\n",
            "Perdida Entrenamiento:  0.4268059569712939\n",
            "Precision Entrenamiento:  0.714042467948718\n",
            "Perdida Validacion:  1.136464238166809\n",
            "Precision Validacion:  0.5128\n",
            "--------------------\n",
            "--------------------\n",
            "Epoca:  61\n",
            "Perdida Entrenamiento:  0.42634790218556984\n",
            "Precision Entrenamiento:  0.7132411858974359\n",
            "Perdida Validacion:  1.1449941396713257\n",
            "Precision Validacion:  0.5116\n",
            "--------------------\n",
            "--------------------\n",
            "Epoca:  62\n",
            "Perdida Entrenamiento:  0.4257929697049853\n",
            "Precision Entrenamiento:  0.7125400641025641\n",
            "Perdida Validacion:  1.1534417867660522\n",
            "Precision Validacion:  0.5136\n",
            "--------------------\n",
            "--------------------\n",
            "Epoca:  63\n",
            "Perdida Entrenamiento:  0.42514985730334703\n",
            "Precision Entrenamiento:  0.7119391025641025\n",
            "Perdida Validacion:  1.1617549657821655\n",
            "Precision Validacion:  0.5124\n",
            "--------------------\n",
            "--------------------\n",
            "Epoca:  64\n",
            "Perdida Entrenamiento:  0.42442784707446846\n",
            "Precision Entrenamiento:  0.7129407051282052\n",
            "Perdida Validacion:  1.1698752641677856\n",
            "Precision Validacion:  0.5108\n",
            "--------------------\n",
            "--------------------\n",
            "Epoca:  65\n",
            "Perdida Entrenamiento:  0.42362931365184353\n",
            "Precision Entrenamiento:  0.7168469551282052\n",
            "Perdida Validacion:  1.1778590679168701\n",
            "Precision Validacion:  0.5092\n",
            "--------------------\n",
            "--------------------\n",
            "Epoca:  66\n",
            "Perdida Entrenamiento:  0.42276301570760466\n",
            "Precision Entrenamiento:  0.7207532051282052\n",
            "Perdida Validacion:  1.185908317565918\n",
            "Precision Validacion:  0.5112\n",
            "--------------------\n",
            "--------------------\n",
            "Epoca:  67\n",
            "Perdida Entrenamiento:  0.4218502799305665\n",
            "Precision Entrenamiento:  0.727363782051282\n",
            "Perdida Validacion:  1.1942657232284546\n",
            "Precision Validacion:  0.5104\n",
            "--------------------\n",
            "--------------------\n",
            "Epoca:  68\n",
            "Perdida Entrenamiento:  0.42091078928511577\n",
            "Precision Entrenamiento:  0.7316706730769231\n",
            "Perdida Validacion:  1.203171730041504\n",
            "Precision Validacion:  0.5084\n",
            "--------------------\n",
            "--------------------\n",
            "Epoca:  69\n",
            "Perdida Entrenamiento:  0.41996887404227945\n",
            "Precision Entrenamiento:  0.731270032051282\n",
            "Perdida Validacion:  1.2127561569213867\n",
            "Precision Validacion:  0.5112\n",
            "--------------------\n",
            "--------------------\n",
            "Epoca:  70\n",
            "Perdida Entrenamiento:  0.4190549249344879\n",
            "Precision Entrenamiento:  0.7337740384615384\n",
            "Perdida Validacion:  1.2230256795883179\n",
            "Precision Validacion:  0.5116\n",
            "--------------------\n",
            "--------------------\n",
            "Epoca:  71\n",
            "Perdida Entrenamiento:  0.4181911792352955\n",
            "Precision Entrenamiento:  0.7341746794871795\n",
            "Perdida Validacion:  1.2338557243347168\n",
            "Precision Validacion:  0.5104\n",
            "--------------------\n",
            "--------------------\n",
            "Epoca:  72\n",
            "Perdida Entrenamiento:  0.41739527073453847\n",
            "Precision Entrenamiento:  0.7371794871794872\n",
            "Perdida Validacion:  1.2450929880142212\n",
            "Precision Validacion:  0.5108\n",
            "--------------------\n",
            "--------------------\n",
            "Epoca:  73\n",
            "Perdida Entrenamiento:  0.41667408027279645\n",
            "Precision Entrenamiento:  0.7378806089743589\n",
            "Perdida Validacion:  1.256670355796814\n",
            "Precision Validacion:  0.5064\n",
            "--------------------\n",
            "--------------------\n",
            "Epoca:  74\n",
            "Perdida Entrenamiento:  0.41603371749096724\n",
            "Precision Entrenamiento:  0.7379807692307693\n",
            "Perdida Validacion:  1.2685490846633911\n",
            "Precision Validacion:  0.5048\n",
            "--------------------\n",
            "--------------------\n",
            "Epoca:  75\n",
            "Perdida Entrenamiento:  0.41549788793260106\n",
            "Precision Entrenamiento:  0.7386818910256411\n",
            "Perdida Validacion:  1.2807514667510986\n",
            "Precision Validacion:  0.5056\n",
            "--------------------\n",
            "--------------------\n",
            "Epoca:  76\n",
            "Perdida Entrenamiento:  0.415106093828969\n",
            "Precision Entrenamiento:  0.7388822115384616\n",
            "Perdida Validacion:  1.2934271097183228\n",
            "Precision Validacion:  0.5052\n",
            "--------------------\n",
            "--------------------\n",
            "Epoca:  77\n",
            "Perdida Entrenamiento:  0.4148993033500304\n",
            "Precision Entrenamiento:  0.7385817307692307\n",
            "Perdida Validacion:  1.3067500591278076\n",
            "Precision Validacion:  0.5028\n",
            "--------------------\n",
            "--------------------\n",
            "Epoca:  78\n",
            "Perdida Entrenamiento:  0.41490216410938885\n",
            "Precision Entrenamiento:  0.7385817307692307\n",
            "Perdida Validacion:  1.3208410739898682\n",
            "Precision Validacion:  0.5036\n",
            "--------------------\n",
            "--------------------\n",
            "Epoca:  79\n",
            "Perdida Entrenamiento:  0.41512554447535893\n",
            "Precision Entrenamiento:  0.7387820512820513\n",
            "Perdida Validacion:  1.3357670307159424\n",
            "Precision Validacion:  0.5052\n",
            "--------------------\n",
            "--------------------\n",
            "Epoca:  80\n",
            "Perdida Entrenamiento:  0.41557623370391195\n",
            "Precision Entrenamiento:  0.739082532051282\n",
            "Perdida Validacion:  1.351574420928955\n",
            "Precision Validacion:  0.5052\n",
            "--------------------\n",
            "--------------------\n",
            "Epoca:  81\n",
            "Perdida Entrenamiento:  0.41625336947506386\n",
            "Precision Entrenamiento:  0.7392828525641025\n",
            "Perdida Validacion:  1.3681975603103638\n",
            "Precision Validacion:  0.5048\n",
            "--------------------\n",
            "--------------------\n",
            "Epoca:  82\n",
            "Perdida Entrenamiento:  0.4171592652199377\n",
            "Precision Entrenamiento:  0.7394831730769231\n",
            "Perdida Validacion:  1.38547682762146\n",
            "Precision Validacion:  0.5056\n",
            "--------------------\n",
            "--------------------\n",
            "Epoca:  83\n",
            "Perdida Entrenamiento:  0.4182931213854055\n",
            "Precision Entrenamiento:  0.7397836538461539\n",
            "Perdida Validacion:  1.4031251668930054\n",
            "Precision Validacion:  0.5052\n",
            "--------------------\n",
            "--------------------\n",
            "Epoca:  84\n",
            "Perdida Entrenamiento:  0.4196451157782268\n",
            "Precision Entrenamiento:  0.7399839743589743\n",
            "Perdida Validacion:  1.420785665512085\n",
            "Precision Validacion:  0.5064\n",
            "--------------------\n",
            "--------------------\n",
            "Epoca:  85\n",
            "Perdida Entrenamiento:  0.421202909480284\n",
            "Precision Entrenamiento:  0.7397836538461539\n",
            "Perdida Validacion:  1.4381351470947266\n",
            "Precision Validacion:  0.5068\n",
            "--------------------\n",
            "--------------------\n",
            "Epoca:  86\n",
            "Perdida Entrenamiento:  0.42292381168403637\n",
            "Precision Entrenamiento:  0.739082532051282\n",
            "Perdida Validacion:  1.4548425674438477\n",
            "Precision Validacion:  0.5076\n",
            "--------------------\n",
            "--------------------\n",
            "Epoca:  87\n",
            "Perdida Entrenamiento:  0.42476495894848937\n",
            "Precision Entrenamiento:  0.7387820512820513\n",
            "Perdida Validacion:  1.4708303213119507\n",
            "Precision Validacion:  0.5076\n",
            "--------------------\n",
            "--------------------\n",
            "Epoca:  88\n",
            "Perdida Entrenamiento:  0.4266536485356029\n",
            "Precision Entrenamiento:  0.7393830128205128\n",
            "Perdida Validacion:  1.4862114191055298\n",
            "Precision Validacion:  0.5072\n",
            "--------------------\n",
            "--------------------\n",
            "Epoca:  89\n",
            "Perdida Entrenamiento:  0.428542207843247\n",
            "Precision Entrenamiento:  0.7394831730769231\n",
            "Perdida Validacion:  1.5012874603271484\n",
            "Precision Validacion:  0.5076\n",
            "--------------------\n",
            "--------------------\n",
            "Epoca:  90\n",
            "Perdida Entrenamiento:  0.43034242652651516\n",
            "Precision Entrenamiento:  0.7393830128205128\n",
            "Perdida Validacion:  1.5163922309875488\n",
            "Precision Validacion:  0.5088\n",
            "--------------------\n",
            "--------------------\n",
            "Epoca:  91\n",
            "Perdida Entrenamiento:  0.4319544991249308\n",
            "Precision Entrenamiento:  0.7394831730769231\n",
            "Perdida Validacion:  1.5318588018417358\n",
            "Precision Validacion:  0.5084\n",
            "--------------------\n",
            "--------------------\n",
            "Epoca:  92\n",
            "Perdida Entrenamiento:  0.433219166176399\n",
            "Precision Entrenamiento:  0.739082532051282\n",
            "Perdida Validacion:  1.5477616786956787\n",
            "Precision Validacion:  0.5084\n",
            "--------------------\n",
            "--------------------\n",
            "Epoca:  93\n",
            "Perdida Entrenamiento:  0.43393610887880685\n",
            "Precision Entrenamiento:  0.739082532051282\n",
            "Perdida Validacion:  1.5638765096664429\n",
            "Precision Validacion:  0.5088\n",
            "--------------------\n",
            "--------------------\n",
            "Epoca:  94\n",
            "Perdida Entrenamiento:  0.43386543770439656\n",
            "Precision Entrenamiento:  0.7386818910256411\n",
            "Perdida Validacion:  1.5796914100646973\n",
            "Precision Validacion:  0.5072\n",
            "--------------------\n",
            "--------------------\n",
            "Epoca:  95\n",
            "Perdida Entrenamiento:  0.432730175145702\n",
            "Precision Entrenamiento:  0.7393830128205128\n",
            "Perdida Validacion:  1.5945237874984741\n",
            "Precision Validacion:  0.508\n",
            "--------------------\n",
            "--------------------\n",
            "Epoca:  96\n",
            "Perdida Entrenamiento:  0.4303640469790383\n",
            "Precision Entrenamiento:  0.7399839743589743\n",
            "Perdida Validacion:  1.6079007387161255\n",
            "Precision Validacion:  0.5076\n",
            "--------------------\n",
            "--------------------\n",
            "Epoca:  97\n",
            "Perdida Entrenamiento:  0.4269108721302967\n",
            "Precision Entrenamiento:  0.7398838141025641\n",
            "Perdida Validacion:  1.6196496486663818\n",
            "Precision Validacion:  0.5068\n",
            "--------------------\n",
            "--------------------\n",
            "Epoca:  98\n",
            "Perdida Entrenamiento:  0.4229745379252543\n",
            "Precision Entrenamiento:  0.7400841346153846\n",
            "Perdida Validacion:  1.6300370693206787\n",
            "Precision Validacion:  0.5076\n",
            "--------------------\n",
            "--------------------\n",
            "Epoca:  99\n",
            "Perdida Entrenamiento:  0.4192580216664069\n",
            "Precision Entrenamiento:  0.7401842948717948\n",
            "Perdida Validacion:  1.639292597770691\n",
            "Precision Validacion:  0.5072\n",
            "--------------------\n",
            "--------------------\n",
            "Epoca:  100\n",
            "Perdida Entrenamiento:  0.4162037208563797\n",
            "Precision Entrenamiento:  0.7399839743589743\n",
            "Perdida Validacion:  1.6476194858551025\n",
            "Precision Validacion:  0.5076\n",
            "--------------------\n"
          ],
          "name": "stdout"
        }
      ]
    },
    {
      "cell_type": "code",
      "metadata": {
        "colab": {
          "base_uri": "https://localhost:8080/",
          "height": 428
        },
        "id": "oCH_O48AWfBA",
        "outputId": "6caa0319-227e-4e6d-ca3e-9770ac10ad34"
      },
      "source": [
        "plt.figure(figsize=(10,7))\n",
        "\n",
        "plt.plot(epocas_totales, loss_train_totales, color = \"red\")\n",
        "plt.legend(['Loss Train'], loc='upper left')\n",
        "\n",
        "plt.show()"
      ],
      "execution_count": null,
      "outputs": [
        {
          "output_type": "display_data",
          "data": {
            "image/png": "[encoded data removed]",
            "text/plain": [
              "<Figure size 720x504 with 1 Axes>"
            ]
          },
          "metadata": {
            "tags": [],
            "needs_background": "light"
          }
        }
      ]
    },
    {
      "cell_type": "code",
      "metadata": {
        "colab": {
          "base_uri": "https://localhost:8080/",
          "height": 428
        },
        "id": "eDVl-Un5c_bh",
        "outputId": "47429fc1-8468-4d2c-f4b0-ed23ad0f496a"
      },
      "source": [
        "plt.figure(figsize=(10,7))\n",
        "\n",
        "plt.plot(epocas_totales, prec_train_totales, color = \"red\")\n",
        "plt.legend(['Prec Train'], loc='upper left')\n",
        "\n",
        "plt.show()"
      ],
      "execution_count": null,
      "outputs": [
        {
          "output_type": "display_data",
          "data": {
            "image/png": "[encoded data removed]",
            "text/plain": [
              "<Figure size 720x504 with 1 Axes>"
            ]
          },
          "metadata": {
            "tags": [],
            "needs_background": "light"
          }
        }
      ]
    },
    {
      "cell_type": "code",
      "metadata": {
        "id": "8SSA7bSMdL-J"
      },
      "source": [
        ""
      ],
      "execution_count": null,
      "outputs": []
    }
  ]
}