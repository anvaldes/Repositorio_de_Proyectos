{
 "cells": [
  {
   "attachments": {},
   "cell_type": "markdown",
   "metadata": {},
   "source": [
    "# Decorators"
   ]
  },
  {
   "attachments": {},
   "cell_type": "markdown",
   "metadata": {},
   "source": [
    "By Alberto Valdés \n",
    "\n",
    "**Mail 1:** anvaldes@uc.cl \n",
    "\n",
    "**Mail 2:** alberto.valdes.gonzalez.96@gmail.com"
   ]
  },
  {
   "attachments": {},
   "cell_type": "markdown",
   "metadata": {},
   "source": [
    "One consequence of having private (or almost private) attributes is that if we want to modify them we have to use a method. In the OOP paradigm, specific methods are defined to get the value of a (private) attribute, and to update the value of a (private) attribute. These methods are called **getters** and **setters** respectively."
   ]
  },
  {
   "attachments": {},
   "cell_type": "markdown",
   "metadata": {},
   "source": [
    "### i. Example of arbitrary methods for getter and setter"
   ]
  },
  {
   "cell_type": "code",
   "execution_count": 1,
   "metadata": {},
   "outputs": [],
   "source": [
    "class Car:\n",
    "\n",
    "    def __init__(self, brand, model, year, color, km): # Builder (Always have to be first)\n",
    "        \n",
    "        self.brand = brand # Attributes\n",
    "        self.model = model\n",
    "        self.year = year\n",
    "        self.color = color\n",
    "        self.__km = km # Private atrribute (two '_' at the begin)\n",
    "        self.owner = None\n",
    "        self.location = (30.33, 70.77)\n",
    "    \n",
    "    # Getter Method\n",
    "    def get_kms(self):\n",
    "        return self.__km\n",
    "    \n",
    "    # Setters Method\n",
    "    def set_kms(self, kms):\n",
    "        self.__km = kms"
   ]
  },
  {
   "cell_type": "code",
   "execution_count": 2,
   "metadata": {},
   "outputs": [],
   "source": [
    "beto_car = Car('Toyota', 'RAV4', 2023, 'red', 0)"
   ]
  },
  {
   "cell_type": "code",
   "execution_count": 3,
   "metadata": {},
   "outputs": [
    {
     "data": {
      "text/plain": [
       "0"
      ]
     },
     "execution_count": 3,
     "metadata": {},
     "output_type": "execute_result"
    }
   ],
   "source": [
    "beto_car.get_kms()"
   ]
  },
  {
   "cell_type": "code",
   "execution_count": 4,
   "metadata": {},
   "outputs": [],
   "source": [
    "beto_car.set_kms(10)"
   ]
  },
  {
   "cell_type": "code",
   "execution_count": 5,
   "metadata": {},
   "outputs": [
    {
     "data": {
      "text/plain": [
       "10"
      ]
     },
     "execution_count": 5,
     "metadata": {},
     "output_type": "execute_result"
    }
   ],
   "source": [
    "beto_car.get_kms()"
   ]
  },
  {
   "attachments": {},
   "cell_type": "markdown",
   "metadata": {},
   "source": [
    "### ii. Using decorators"
   ]
  },
  {
   "cell_type": "code",
   "execution_count": 6,
   "metadata": {},
   "outputs": [],
   "source": [
    "class Car:\n",
    "\n",
    "    def __init__(self, brand, model, year, color, km): # Builder (Always have to be first)\n",
    "        \n",
    "        self.brand = brand # Attributes\n",
    "        self.model = model\n",
    "        self.year = year\n",
    "        self.color = color\n",
    "        self.__km = km # Private atrribute (two '_' at the begin)\n",
    "        self.owner = None\n",
    "        self.location = (30.33, 70.77)\n",
    "    \n",
    "    # Getter Method\n",
    "    @property\n",
    "    def km(self):\n",
    "\n",
    "        return self.__km\n",
    "    \n",
    "    # Setters Method\n",
    "    @km.setter\n",
    "    def km(self, kms):\n",
    "\n",
    "        if kms > 10_000:\n",
    "            self.__km = 10_000\n",
    "\n",
    "        else:    \n",
    "            self.__km = kms"
   ]
  },
  {
   "cell_type": "code",
   "execution_count": 7,
   "metadata": {},
   "outputs": [],
   "source": [
    "beto_car = Car('Toyota', 'RAV4', 2023, 'red', 0)"
   ]
  },
  {
   "cell_type": "code",
   "execution_count": 8,
   "metadata": {},
   "outputs": [
    {
     "data": {
      "text/plain": [
       "0"
      ]
     },
     "execution_count": 8,
     "metadata": {},
     "output_type": "execute_result"
    }
   ],
   "source": [
    "beto_car.km"
   ]
  },
  {
   "cell_type": "code",
   "execution_count": 9,
   "metadata": {},
   "outputs": [],
   "source": [
    "beto_car.km = 100"
   ]
  },
  {
   "cell_type": "code",
   "execution_count": 10,
   "metadata": {},
   "outputs": [
    {
     "data": {
      "text/plain": [
       "100"
      ]
     },
     "execution_count": 10,
     "metadata": {},
     "output_type": "execute_result"
    }
   ],
   "source": [
    "beto_car.km"
   ]
  },
  {
   "cell_type": "code",
   "execution_count": 11,
   "metadata": {},
   "outputs": [],
   "source": [
    "beto_car.km = beto_car.km + 1_000_000"
   ]
  },
  {
   "cell_type": "code",
   "execution_count": 12,
   "metadata": {},
   "outputs": [
    {
     "data": {
      "text/plain": [
       "10000"
      ]
     },
     "execution_count": 12,
     "metadata": {},
     "output_type": "execute_result"
    }
   ],
   "source": [
    "beto_car.km"
   ]
  },
  {
   "attachments": {},
   "cell_type": "markdown",
   "metadata": {},
   "source": [
    "### iii. Deleter"
   ]
  },
  {
   "cell_type": "code",
   "execution_count": 13,
   "metadata": {},
   "outputs": [],
   "source": [
    "class Car:\n",
    "\n",
    "    def __init__(self, brand, model, year, color, km): # Builder (Always have to be first)\n",
    "        \n",
    "        self.brand = brand # Attributes\n",
    "        self.model = model\n",
    "        self.year = year\n",
    "        self.color = color\n",
    "        self.__km = km # Private atrribute (two '_' at the begin)\n",
    "        self.owner = None\n",
    "        self.location = (30.33, 70.77)\n",
    "    \n",
    "    # Getter Method\n",
    "    @property\n",
    "    def km(self):\n",
    "\n",
    "        return self.__km\n",
    "    \n",
    "    # Setters Method\n",
    "    @km.setter\n",
    "    def km(self, kms):\n",
    "\n",
    "        if kms > 10_000:\n",
    "            self.__km = 10_000\n",
    "\n",
    "        else:    \n",
    "            self.__km = kms\n",
    "\n",
    "    # Deleter Method\n",
    "    @km.deleter\n",
    "    def km(self):\n",
    "        del self.__km"
   ]
  },
  {
   "cell_type": "code",
   "execution_count": 14,
   "metadata": {},
   "outputs": [],
   "source": [
    "beto_car = Car('Toyota', 'RAV4', 2023, 'red', 0)"
   ]
  },
  {
   "cell_type": "code",
   "execution_count": 15,
   "metadata": {},
   "outputs": [
    {
     "data": {
      "text/plain": [
       "0"
      ]
     },
     "execution_count": 15,
     "metadata": {},
     "output_type": "execute_result"
    }
   ],
   "source": [
    "beto_car.km"
   ]
  },
  {
   "cell_type": "code",
   "execution_count": 16,
   "metadata": {},
   "outputs": [],
   "source": [
    "del beto_car.km"
   ]
  },
  {
   "cell_type": "code",
   "execution_count": 17,
   "metadata": {},
   "outputs": [
    {
     "ename": "AttributeError",
     "evalue": "'Car' object has no attribute '_Car__km'",
     "output_type": "error",
     "traceback": [
      "\u001b[0;31m---------------------------------------------------------------------------\u001b[0m",
      "\u001b[0;31mAttributeError\u001b[0m                            Traceback (most recent call last)",
      "Cell \u001b[0;32mIn[17], line 1\u001b[0m\n\u001b[0;32m----> 1\u001b[0m beto_car\u001b[39m.\u001b[39;49mkm\n",
      "Cell \u001b[0;32mIn[13], line 17\u001b[0m, in \u001b[0;36mCar.km\u001b[0;34m(self)\u001b[0m\n\u001b[1;32m     14\u001b[0m \u001b[39m@property\u001b[39m\n\u001b[1;32m     15\u001b[0m \u001b[39mdef\u001b[39;00m \u001b[39mkm\u001b[39m(\u001b[39mself\u001b[39m):\n\u001b[0;32m---> 17\u001b[0m     \u001b[39mreturn\u001b[39;00m \u001b[39mself\u001b[39;49m\u001b[39m.\u001b[39;49m__km\n",
      "\u001b[0;31mAttributeError\u001b[0m: 'Car' object has no attribute '_Car__km'"
     ]
    }
   ],
   "source": [
    "beto_car.km"
   ]
  },
  {
   "cell_type": "code",
   "execution_count": 18,
   "metadata": {},
   "outputs": [],
   "source": [
    "beto_car.km = 10"
   ]
  },
  {
   "cell_type": "code",
   "execution_count": 19,
   "metadata": {},
   "outputs": [
    {
     "data": {
      "text/plain": [
       "10"
      ]
     },
     "execution_count": 19,
     "metadata": {},
     "output_type": "execute_result"
    }
   ],
   "source": [
    "beto_car.km"
   ]
  },
  {
   "attachments": {},
   "cell_type": "markdown",
   "metadata": {},
   "source": [
    "### iv. Static Method"
   ]
  },
  {
   "attachments": {},
   "cell_type": "markdown",
   "metadata": {},
   "source": [
    "Static method can be called without an object for that class. This also means that static methods cannot modify the state of an object as they are not bound to it."
   ]
  },
  {
   "cell_type": "code",
   "execution_count": 20,
   "metadata": {},
   "outputs": [],
   "source": [
    "class Calculator:\n",
    "\n",
    "    # create addNumbers static method\n",
    "    @staticmethod\n",
    "    def addNumbers(x, y):\n",
    "        return x + y"
   ]
  },
  {
   "cell_type": "code",
   "execution_count": 21,
   "metadata": {},
   "outputs": [
    {
     "data": {
      "text/plain": [
       "25"
      ]
     },
     "execution_count": 21,
     "metadata": {},
     "output_type": "execute_result"
    }
   ],
   "source": [
    "Calculator.addNumbers(10, 15)"
   ]
  },
  {
   "attachments": {},
   "cell_type": "markdown",
   "metadata": {},
   "source": [
    "**Comments:** As you can see is not necessary call an instance to execute the \"staticmethod\"."
   ]
  },
  {
   "attachments": {},
   "cell_type": "markdown",
   "metadata": {},
   "source": [
    "### v. Wrapper"
   ]
  },
  {
   "attachments": {},
   "cell_type": "markdown",
   "metadata": {},
   "source": [
    "Function wrappers are useful tools for modifying the behavior of functions. In Python, they’re called **decorators**."
   ]
  },
  {
   "attachments": {},
   "cell_type": "markdown",
   "metadata": {},
   "source": [
    "### vi. Decorators in classes"
   ]
  },
  {
   "cell_type": "code",
   "execution_count": 22,
   "metadata": {},
   "outputs": [],
   "source": [
    "import time"
   ]
  },
  {
   "cell_type": "code",
   "execution_count": 23,
   "metadata": {},
   "outputs": [],
   "source": [
    "class Factorial:\n",
    "\n",
    "    @staticmethod\n",
    "    def print_welcome_message():\n",
    "\n",
    "        print('Welcome to the \"Factorial Class\"')\n",
    "    \n",
    "    def __init__(self, n):\n",
    "\n",
    "        self.n = n\n",
    "\n",
    "    # Decorator\n",
    "    def time_record(function):\n",
    "\n",
    "        def wrapper(*args, **kwargs):\n",
    "\n",
    "            start_time = time.time()\n",
    "\n",
    "            func = function(*args, **kwargs)\n",
    "\n",
    "            end_time = time.time()\n",
    "\n",
    "            delta_time = (end_time - start_time)\n",
    "            hours = int(delta_time/3_600)\n",
    "            delta_time = delta_time - hours*3600\n",
    "            mins = int(delta_time/60)\n",
    "            delta_time = delta_time - mins*60\n",
    "            secs = round((delta_time), 4)\n",
    "\n",
    "            print('Method name:', function.__name__)\n",
    "\n",
    "            time_string = f'It takes {hours} hours, {mins} minutes and {secs} seconds'\n",
    "\n",
    "            print(time_string)\n",
    "\n",
    "            print('-'*50)\n",
    "\n",
    "            return func\n",
    "\n",
    "        return wrapper\n",
    "\n",
    "    @time_record\n",
    "    def factorial_for(self):\n",
    "\n",
    "        mult = 1\n",
    "\n",
    "        for i in range(1, self.n + 1):\n",
    "\n",
    "            mult = mult*i\n",
    "        \n",
    "        self.result = mult\n",
    "    \n",
    "    @time_record\n",
    "    def factorial_rec(self):\n",
    "\n",
    "        def factorial_1(n):\n",
    "\n",
    "            if n == 1:\n",
    "\n",
    "                return n\n",
    "\n",
    "            else:\n",
    "                return n*factorial_1(n - 1)\n",
    "        \n",
    "        self.result = factorial_1(self.n)"
   ]
  },
  {
   "cell_type": "code",
   "execution_count": 24,
   "metadata": {},
   "outputs": [
    {
     "name": "stdout",
     "output_type": "stream",
     "text": [
      "Welcome to the \"Factorial Class\"\n"
     ]
    }
   ],
   "source": [
    "Factorial.print_welcome_message()"
   ]
  },
  {
   "cell_type": "code",
   "execution_count": 25,
   "metadata": {},
   "outputs": [],
   "source": [
    "n = 1_000\n",
    "\n",
    "fact = Factorial(n)"
   ]
  },
  {
   "cell_type": "code",
   "execution_count": 26,
   "metadata": {},
   "outputs": [
    {
     "name": "stdout",
     "output_type": "stream",
     "text": [
      "Method name: factorial_for\n",
      "It takes 0 hours, 0 minutes and 0.0004 seconds\n",
      "--------------------------------------------------\n",
      "Method name: factorial_rec\n",
      "It takes 0 hours, 0 minutes and 0.0012 seconds\n",
      "--------------------------------------------------\n"
     ]
    }
   ],
   "source": [
    "fact.factorial_for()\n",
    "fact.factorial_rec()"
   ]
  },
  {
   "attachments": {},
   "cell_type": "markdown",
   "metadata": {},
   "source": [
    "### vii. Decorator out the class"
   ]
  },
  {
   "cell_type": "code",
   "execution_count": 27,
   "metadata": {},
   "outputs": [],
   "source": [
    "# Decorator\n",
    "def time_record(function):\n",
    "\n",
    "    def wrapper(*args, **kwargs):\n",
    "\n",
    "        start_time = time.time()\n",
    "\n",
    "        func = function(*args, **kwargs)\n",
    "\n",
    "        end_time = time.time()\n",
    "\n",
    "        delta_time = (end_time - start_time)\n",
    "        hours = int(delta_time/3_600)\n",
    "        delta_time = delta_time - hours*3600\n",
    "        mins = int(delta_time/60)\n",
    "        delta_time = delta_time - mins*60\n",
    "        secs = round((delta_time), 4)\n",
    "\n",
    "        print('Method name:', function.__name__)\n",
    "\n",
    "        time_string = f'It takes {hours} hours, {mins} minutes and {secs} seconds'\n",
    "\n",
    "        print(time_string)\n",
    "\n",
    "        print('-'*50)\n",
    "\n",
    "        return func\n",
    "\n",
    "    return wrapper"
   ]
  },
  {
   "cell_type": "code",
   "execution_count": 28,
   "metadata": {},
   "outputs": [],
   "source": [
    "class Factorial:\n",
    "\n",
    "    @staticmethod\n",
    "    def print_welcome_message():\n",
    "\n",
    "        print('Welcome to the \"Factorial Class\"')\n",
    "    \n",
    "    def __init__(self, n):\n",
    "\n",
    "        self.n = n\n",
    "\n",
    "    @time_record\n",
    "    def factorial_for(self):\n",
    "\n",
    "        mult = 1\n",
    "\n",
    "        for i in range(1, self.n + 1):\n",
    "\n",
    "            mult = mult*i\n",
    "        \n",
    "        self.result = mult\n",
    "    \n",
    "    @time_record\n",
    "    def factorial_rec(self):\n",
    "\n",
    "        def factorial_1(n):\n",
    "\n",
    "            if n == 1:\n",
    "\n",
    "                return n\n",
    "\n",
    "            else:\n",
    "                return n*factorial_1(n - 1)\n",
    "        \n",
    "        self.result = factorial_1(self.n)"
   ]
  },
  {
   "cell_type": "code",
   "execution_count": 29,
   "metadata": {},
   "outputs": [
    {
     "name": "stdout",
     "output_type": "stream",
     "text": [
      "Welcome to the \"Factorial Class\"\n"
     ]
    }
   ],
   "source": [
    "Factorial.print_welcome_message()"
   ]
  },
  {
   "cell_type": "code",
   "execution_count": 30,
   "metadata": {},
   "outputs": [],
   "source": [
    "n = 1_000\n",
    "\n",
    "fact = Factorial(n)"
   ]
  },
  {
   "cell_type": "code",
   "execution_count": 31,
   "metadata": {},
   "outputs": [
    {
     "name": "stdout",
     "output_type": "stream",
     "text": [
      "Method name: factorial_for\n",
      "It takes 0 hours, 0 minutes and 0.0004 seconds\n",
      "--------------------------------------------------\n",
      "Method name: factorial_rec\n",
      "It takes 0 hours, 0 minutes and 0.0006 seconds\n",
      "--------------------------------------------------\n"
     ]
    }
   ],
   "source": [
    "fact.factorial_for()\n",
    "fact.factorial_rec()"
   ]
  },
  {
   "attachments": {},
   "cell_type": "markdown",
   "metadata": {},
   "source": [
    "### viii. Decorator out of a class and functions out of a class"
   ]
  },
  {
   "cell_type": "code",
   "execution_count": 32,
   "metadata": {},
   "outputs": [],
   "source": [
    "# Decorator\n",
    "def time_record(function):\n",
    "\n",
    "    def wrapper(*args, **kwargs):\n",
    "\n",
    "        start_time = time.time()\n",
    "\n",
    "        func = function(*args, **kwargs)\n",
    "\n",
    "        end_time = time.time()\n",
    "\n",
    "        delta_time = (end_time - start_time)\n",
    "        hours = int(delta_time/3_600)\n",
    "        delta_time = delta_time - hours*3600\n",
    "        mins = int(delta_time/60)\n",
    "        delta_time = delta_time - mins*60\n",
    "        secs = round((delta_time), 4)\n",
    "\n",
    "        print('Function name:', function.__name__)\n",
    "\n",
    "        time_string = f'It takes {hours} hours, {mins} minutes and {secs} seconds'\n",
    "\n",
    "        print(time_string)\n",
    "\n",
    "        print('-'*50)\n",
    "\n",
    "        return func\n",
    "\n",
    "    return wrapper"
   ]
  },
  {
   "cell_type": "code",
   "execution_count": 33,
   "metadata": {},
   "outputs": [],
   "source": [
    "@time_record\n",
    "def fibonacci(n):\n",
    "\n",
    "    def fibonacci_function(n):\n",
    "\n",
    "        if n == 0:\n",
    "            return 1\n",
    "        \n",
    "        elif n == 1:\n",
    "            return 1\n",
    "\n",
    "        else:\n",
    "\n",
    "            return fibonacci_function(n - 1) + fibonacci_function(n - 2)\n",
    "    \n",
    "    return fibonacci_function(n)"
   ]
  },
  {
   "cell_type": "code",
   "execution_count": 34,
   "metadata": {},
   "outputs": [
    {
     "name": "stdout",
     "output_type": "stream",
     "text": [
      "Function name: fibonacci\n",
      "It takes 0 hours, 0 minutes and 6.6023 seconds\n",
      "--------------------------------------------------\n"
     ]
    },
    {
     "data": {
      "text/plain": [
       "39088169"
      ]
     },
     "execution_count": 34,
     "metadata": {},
     "output_type": "execute_result"
    }
   ],
   "source": [
    "fibonacci(37)"
   ]
  },
  {
   "cell_type": "code",
   "execution_count": null,
   "metadata": {},
   "outputs": [],
   "source": []
  }
 ],
 "metadata": {
  "kernelspec": {
   "display_name": "data_science_env",
   "language": "python",
   "name": "python3"
  },
  "language_info": {
   "codemirror_mode": {
    "name": "ipython",
    "version": 3
   },
   "file_extension": ".py",
   "mimetype": "text/x-python",
   "name": "python",
   "nbconvert_exporter": "python",
   "pygments_lexer": "ipython3",
   "version": "3.8.15"
  },
  "orig_nbformat": 4,
  "vscode": {
   "interpreter": {
    "hash": "33c1fafa1f722512bb95ff2288ca1754d2d15925c091a4ce51aceaa93d9dc801"
   }
  }
 },
 "nbformat": 4,
 "nbformat_minor": 2
}
