{
 "cells": [
  {
   "attachments": {},
   "cell_type": "markdown",
   "metadata": {},
   "source": [
    "# API request"
   ]
  },
  {
   "attachments": {},
   "cell_type": "markdown",
   "metadata": {},
   "source": [
    "By Alberto Valdés \n",
    "\n",
    "**Mail 1:** anvaldes@uc.cl \n",
    "\n",
    "**Mail 2:** alberto.valdes.gonzalez.96@gmail.com"
   ]
  },
  {
   "cell_type": "code",
   "execution_count": 1,
   "metadata": {},
   "outputs": [],
   "source": [
    "import warnings\n",
    "warnings.filterwarnings(\"ignore\")"
   ]
  },
  {
   "cell_type": "code",
   "execution_count": 2,
   "metadata": {},
   "outputs": [],
   "source": [
    "import time\n",
    "import shap\n",
    "import warnings\n",
    "import numpy as np\n",
    "import pandas as pd\n",
    "from sklearn import metrics\n",
    "import matplotlib.pyplot as plt\n",
    "from xgboost import XGBClassifier\n",
    "from matplotlib.pyplot import figure\n",
    "from matplotlib import image as mpimg\n",
    "from sklearn.pipeline import Pipeline\n",
    "from sklearn.impute import SimpleImputer\n",
    "from sklearn.compose import ColumnTransformer\n",
    "from category_encoders import JamesSteinEncoder\n",
    "from sklearn.preprocessing import OneHotEncoder\n",
    "from sklearn.preprocessing import StandardScaler\n",
    "from sklearn.preprocessing import OrdinalEncoder\n",
    "from sklearn.preprocessing import StandardScaler\n",
    "from sklearn.calibration import calibration_curve\n",
    "from lime.lime_tabular import LimeTabularExplainer\n",
    "from sklearn.exceptions import DataConversionWarning\n",
    "from sklearn.model_selection import train_test_split\n",
    "from sklearn.ensemble import GradientBoostingClassifier\n",
    "\n",
    "from sklearn.metrics import make_scorer\n",
    "from sklearn.metrics import recall_score\n",
    "from sklearn.metrics import accuracy_score\n",
    "from sklearn.metrics import precision_score"
   ]
  },
  {
   "cell_type": "code",
   "execution_count": 3,
   "metadata": {},
   "outputs": [],
   "source": [
    "def display_img(name, a, b):\n",
    "    plt.figure(figsize = (a, b))\n",
    "    image = mpimg.imread(name)\n",
    "    plt.imshow(image)\n",
    "    plt.axis('off')\n",
    "    plt.show()"
   ]
  },
  {
   "cell_type": "code",
   "execution_count": 4,
   "metadata": {},
   "outputs": [],
   "source": [
    "start = time.time()"
   ]
  },
  {
   "cell_type": "markdown",
   "metadata": {},
   "source": [
    "# Execution"
   ]
  },
  {
   "cell_type": "code",
   "execution_count": 5,
   "metadata": {},
   "outputs": [],
   "source": [
    "!pip install -q requests"
   ]
  },
  {
   "cell_type": "code",
   "execution_count": 6,
   "metadata": {},
   "outputs": [],
   "source": [
    "import requests"
   ]
  },
  {
   "cell_type": "markdown",
   "metadata": {},
   "source": [
    "### 1. Get pages"
   ]
  },
  {
   "cell_type": "code",
   "execution_count": 7,
   "metadata": {},
   "outputs": [],
   "source": [
    "def get_page(number):\n",
    "\n",
    "    api_url = 'https://reqres.in/api/users'\n",
    "\n",
    "    params = {'page': number}\n",
    "\n",
    "    try:\n",
    "\n",
    "        response = requests.get(api_url, params = params)\n",
    "\n",
    "        if response.status_code == 200:\n",
    "\n",
    "            data = response.json()\n",
    "\n",
    "            data = data.get('data')\n",
    "\n",
    "            return data\n",
    "        \n",
    "        else:\n",
    "\n",
    "            print(f'Request failed. Code: {response.status_code}')\n",
    "    \n",
    "    except Exception as e:\n",
    "\n",
    "        print(f'Error: {str(e)}')\n",
    "\n",
    "    return None"
   ]
  },
  {
   "cell_type": "code",
   "execution_count": 8,
   "metadata": {},
   "outputs": [],
   "source": [
    "all_data = []\n",
    "\n",
    "for i in range(1, 3 + 1):\n",
    "\n",
    "    all_data = all_data + get_page(i)"
   ]
  },
  {
   "cell_type": "code",
   "execution_count": 9,
   "metadata": {},
   "outputs": [
    {
     "name": "stdout",
     "output_type": "stream",
     "text": [
      "Id: 1\n",
      "Email: george.bluth@reqres.in\n",
      "First Name: George\n",
      "Last Name: https://reqres.in/img/faces/1-image.jpg\n",
      "\n",
      "\n",
      "----------------------------------------------------------------------\n",
      "Id: 2\n",
      "Email: janet.weaver@reqres.in\n",
      "First Name: Janet\n",
      "Last Name: https://reqres.in/img/faces/2-image.jpg\n",
      "\n",
      "\n",
      "----------------------------------------------------------------------\n",
      "Id: 3\n",
      "Email: emma.wong@reqres.in\n",
      "First Name: Emma\n",
      "Last Name: https://reqres.in/img/faces/3-image.jpg\n",
      "\n",
      "\n",
      "----------------------------------------------------------------------\n",
      "Id: 4\n",
      "Email: eve.holt@reqres.in\n",
      "First Name: Eve\n",
      "Last Name: https://reqres.in/img/faces/4-image.jpg\n",
      "\n",
      "\n",
      "----------------------------------------------------------------------\n",
      "Id: 5\n",
      "Email: charles.morris@reqres.in\n",
      "First Name: Charles\n",
      "Last Name: https://reqres.in/img/faces/5-image.jpg\n",
      "\n",
      "\n",
      "----------------------------------------------------------------------\n",
      "Id: 6\n",
      "Email: tracey.ramos@reqres.in\n",
      "First Name: Tracey\n",
      "Last Name: https://reqres.in/img/faces/6-image.jpg\n",
      "\n",
      "\n",
      "----------------------------------------------------------------------\n",
      "Id: 7\n",
      "Email: michael.lawson@reqres.in\n",
      "First Name: Michael\n",
      "Last Name: https://reqres.in/img/faces/7-image.jpg\n",
      "\n",
      "\n",
      "----------------------------------------------------------------------\n",
      "Id: 8\n",
      "Email: lindsay.ferguson@reqres.in\n",
      "First Name: Lindsay\n",
      "Last Name: https://reqres.in/img/faces/8-image.jpg\n",
      "\n",
      "\n",
      "----------------------------------------------------------------------\n",
      "Id: 9\n",
      "Email: tobias.funke@reqres.in\n",
      "First Name: Tobias\n",
      "Last Name: https://reqres.in/img/faces/9-image.jpg\n",
      "\n",
      "\n",
      "----------------------------------------------------------------------\n",
      "Id: 10\n",
      "Email: byron.fields@reqres.in\n",
      "First Name: Byron\n",
      "Last Name: https://reqres.in/img/faces/10-image.jpg\n",
      "\n",
      "\n",
      "----------------------------------------------------------------------\n",
      "Id: 11\n",
      "Email: george.edwards@reqres.in\n",
      "First Name: George\n",
      "Last Name: https://reqres.in/img/faces/11-image.jpg\n",
      "\n",
      "\n",
      "----------------------------------------------------------------------\n",
      "Id: 12\n",
      "Email: rachel.howell@reqres.in\n",
      "First Name: Rachel\n",
      "Last Name: https://reqres.in/img/faces/12-image.jpg\n",
      "\n",
      "\n",
      "----------------------------------------------------------------------\n"
     ]
    }
   ],
   "source": [
    "for register in all_data:\n",
    "\n",
    "    print('Id:', register['id'])\n",
    "    print('Email:', register['email'])\n",
    "    print('First Name:', register['first_name'])\n",
    "    print('Last Name:', register['avatar'])\n",
    "\n",
    "    print('\\n')\n",
    "    print('-'*70)\n"
   ]
  },
  {
   "cell_type": "markdown",
   "metadata": {},
   "source": [
    "### Time of execution"
   ]
  },
  {
   "cell_type": "code",
   "execution_count": 10,
   "metadata": {},
   "outputs": [],
   "source": [
    "end = time.time()"
   ]
  },
  {
   "cell_type": "code",
   "execution_count": 11,
   "metadata": {},
   "outputs": [
    {
     "name": "stdout",
     "output_type": "stream",
     "text": [
      "Execute this notebook take us 0 hours, 0 minutes and 3 seconds.\n"
     ]
    }
   ],
   "source": [
    "delta = (end - start)\n",
    "\n",
    "hours = int(delta/3600)\n",
    "mins = int((delta - hours*3600)/60)\n",
    "segs = int(delta - hours*3600 - mins*60)\n",
    "print(f'Execute this notebook take us {hours} hours, {mins} minutes and {segs} seconds.')"
   ]
  },
  {
   "cell_type": "code",
   "execution_count": null,
   "metadata": {},
   "outputs": [],
   "source": []
  }
 ],
 "metadata": {
  "kernelspec": {
   "display_name": "Python 3.9.12 ('base')",
   "language": "python",
   "name": "python3"
  },
  "language_info": {
   "codemirror_mode": {
    "name": "ipython",
    "version": 3
   },
   "file_extension": ".py",
   "mimetype": "text/x-python",
   "name": "python",
   "nbconvert_exporter": "python",
   "pygments_lexer": "ipython3",
   "version": "3.8.15"
  },
  "orig_nbformat": 4,
  "vscode": {
   "interpreter": {
    "hash": "2f8c485831047b2cebf111481919a8482d14cdda0a4d2016f96df03a335ecfa0"
   }
  }
 },
 "nbformat": 4,
 "nbformat_minor": 2
}
