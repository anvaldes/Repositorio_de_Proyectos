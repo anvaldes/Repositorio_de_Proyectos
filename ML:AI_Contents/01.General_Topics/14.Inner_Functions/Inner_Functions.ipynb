{
 "cells": [
  {
   "attachments": {},
   "cell_type": "markdown",
   "metadata": {},
   "source": [
    "# Inner Functions"
   ]
  },
  {
   "attachments": {},
   "cell_type": "markdown",
   "metadata": {},
   "source": [
    "By Alberto Valdés \n",
    "\n",
    "**Mail 1:** anvaldes@uc.cl \n",
    "\n",
    "**Mail 2:** alberto.valdes.gonzalez.96@gmail.com"
   ]
  },
  {
   "attachments": {},
   "cell_type": "markdown",
   "metadata": {},
   "source": [
    "A function which is defined inside another function is known as **inner function** or **nested function**. Nested functions are able to access variables of the enclosing scope. Inner functions are used so that they can be protected from everything happening outside the function. This process is also known as **Encapsulation**."
   ]
  },
  {
   "attachments": {},
   "cell_type": "markdown",
   "metadata": {},
   "source": [
    "# 1. Nested Functions"
   ]
  },
  {
   "attachments": {},
   "cell_type": "markdown",
   "metadata": {},
   "source": [
    "### i. Accesing to variables (Non iterable)"
   ]
  },
  {
   "cell_type": "code",
   "execution_count": 1,
   "metadata": {},
   "outputs": [],
   "source": [
    "def f1():\n",
    "    s = 'I love Maths'\n",
    "      \n",
    "    def f2():\n",
    "        print(s)\n",
    "          \n",
    "    f2()"
   ]
  },
  {
   "cell_type": "code",
   "execution_count": 2,
   "metadata": {},
   "outputs": [
    {
     "name": "stdout",
     "output_type": "stream",
     "text": [
      "I love Maths\n"
     ]
    }
   ],
   "source": [
    "f1()"
   ]
  },
  {
   "cell_type": "code",
   "execution_count": 3,
   "metadata": {},
   "outputs": [],
   "source": [
    "def f1():\n",
    "    s = 'I love Maths'\n",
    "      \n",
    "    def f2():\n",
    "        s = 'I love Data Science'\n",
    "        print(s)\n",
    "    \n",
    "    print(s)\n",
    "\n",
    "    f2()\n",
    "\n",
    "    print(s)"
   ]
  },
  {
   "cell_type": "code",
   "execution_count": 4,
   "metadata": {},
   "outputs": [
    {
     "name": "stdout",
     "output_type": "stream",
     "text": [
      "I love Maths\n",
      "I love Data Science\n",
      "I love Maths\n"
     ]
    }
   ],
   "source": [
    "f1()"
   ]
  },
  {
   "attachments": {},
   "cell_type": "markdown",
   "metadata": {},
   "source": [
    "**Comments:** As you can see the function consider the \"more local\" variable instead of the \"more general\" variable, but the **changes are temporal**."
   ]
  },
  {
   "cell_type": "code",
   "execution_count": 5,
   "metadata": {},
   "outputs": [],
   "source": [
    "s = 'I love Maths'\n",
    "\n",
    "def f1():\n",
    "    \n",
    "    s = 'I love Data Science'\n",
    "      \n",
    "    def f2():\n",
    "        \n",
    "        print(s)\n",
    "\n",
    "    f2()"
   ]
  },
  {
   "cell_type": "code",
   "execution_count": 6,
   "metadata": {},
   "outputs": [
    {
     "name": "stdout",
     "output_type": "stream",
     "text": [
      "I love Maths\n",
      "I love Data Science\n",
      "I love Maths\n"
     ]
    }
   ],
   "source": [
    "print(s)\n",
    "\n",
    "f1()\n",
    "\n",
    "print(s)"
   ]
  },
  {
   "attachments": {},
   "cell_type": "markdown",
   "metadata": {},
   "source": [
    "**Comments:** As you can see the function consider the \"more local\" variable instead of the \"more general\" variable, but the **changes are temporal**."
   ]
  },
  {
   "cell_type": "code",
   "execution_count": 7,
   "metadata": {},
   "outputs": [],
   "source": [
    "s = 'I love Maths'\n",
    "\n",
    "def f1():\n",
    "      \n",
    "    def f2():\n",
    "\n",
    "        s = 'I love Data Science'\n",
    "        \n",
    "        print(s)\n",
    "\n",
    "    f2()"
   ]
  },
  {
   "cell_type": "code",
   "execution_count": 8,
   "metadata": {},
   "outputs": [
    {
     "name": "stdout",
     "output_type": "stream",
     "text": [
      "I love Maths\n",
      "I love Data Science\n",
      "I love Maths\n"
     ]
    }
   ],
   "source": [
    "print(s)\n",
    "\n",
    "f1()\n",
    "\n",
    "print(s)"
   ]
  },
  {
   "attachments": {},
   "cell_type": "markdown",
   "metadata": {},
   "source": [
    "**Comments:** As you can see the function consider the \"more local\" variable instead of the \"more general\" variable, but the **changes are temporal**."
   ]
  },
  {
   "attachments": {},
   "cell_type": "markdown",
   "metadata": {},
   "source": [
    "### ii. Accesing to variables (Iterable)"
   ]
  },
  {
   "cell_type": "code",
   "execution_count": 9,
   "metadata": {},
   "outputs": [],
   "source": [
    "def f1():\n",
    "    s = ['I love Maths']\n",
    "      \n",
    "    def f2():\n",
    "        print(s)\n",
    "          \n",
    "    f2()"
   ]
  },
  {
   "cell_type": "code",
   "execution_count": 10,
   "metadata": {},
   "outputs": [
    {
     "name": "stdout",
     "output_type": "stream",
     "text": [
      "['I love Maths']\n"
     ]
    }
   ],
   "source": [
    "f1()"
   ]
  },
  {
   "cell_type": "code",
   "execution_count": 11,
   "metadata": {},
   "outputs": [],
   "source": [
    "def f1():\n",
    "    s = ['I love Maths']\n",
    "      \n",
    "    def f2():\n",
    "        s[0] = 'I love Data Science'\n",
    "        print(s)\n",
    "    \n",
    "    print(s)\n",
    "\n",
    "    f2()\n",
    "\n",
    "    print(s)"
   ]
  },
  {
   "cell_type": "code",
   "execution_count": 12,
   "metadata": {},
   "outputs": [
    {
     "name": "stdout",
     "output_type": "stream",
     "text": [
      "['I love Maths']\n",
      "['I love Data Science']\n",
      "['I love Data Science']\n"
     ]
    }
   ],
   "source": [
    "f1()"
   ]
  },
  {
   "attachments": {},
   "cell_type": "markdown",
   "metadata": {},
   "source": [
    "**Comments:** As you can see the function consider the \"more local\" variable instead of the \"more general\" variable, but the **changes now keep**."
   ]
  },
  {
   "cell_type": "code",
   "execution_count": 13,
   "metadata": {},
   "outputs": [],
   "source": [
    "s = ['I love Maths']\n",
    "\n",
    "def f1():\n",
    "    \n",
    "    s[0] = 'I love Data Science'\n",
    "      \n",
    "    def f2():\n",
    "        \n",
    "        print(s)\n",
    "\n",
    "    f2()"
   ]
  },
  {
   "cell_type": "code",
   "execution_count": 14,
   "metadata": {},
   "outputs": [
    {
     "name": "stdout",
     "output_type": "stream",
     "text": [
      "['I love Maths']\n",
      "['I love Data Science']\n",
      "['I love Data Science']\n"
     ]
    }
   ],
   "source": [
    "print(s)\n",
    "\n",
    "f1()\n",
    "\n",
    "print(s)"
   ]
  },
  {
   "attachments": {},
   "cell_type": "markdown",
   "metadata": {},
   "source": [
    "**Comments:** As you can see the function consider the \"more local\" variable instead of the \"more general\" variable, but the **changes now keep**."
   ]
  },
  {
   "cell_type": "code",
   "execution_count": 15,
   "metadata": {},
   "outputs": [],
   "source": [
    "s = ['I love Maths']\n",
    "\n",
    "def f1():\n",
    "      \n",
    "    def f2():\n",
    "\n",
    "        s[0] = 'I love Data Science'\n",
    "        \n",
    "        print(s)\n",
    "\n",
    "    f2()"
   ]
  },
  {
   "cell_type": "code",
   "execution_count": 16,
   "metadata": {},
   "outputs": [
    {
     "name": "stdout",
     "output_type": "stream",
     "text": [
      "['I love Maths']\n",
      "['I love Data Science']\n",
      "['I love Data Science']\n"
     ]
    }
   ],
   "source": [
    "print(s)\n",
    "\n",
    "f1()\n",
    "\n",
    "print(s)"
   ]
  },
  {
   "attachments": {},
   "cell_type": "markdown",
   "metadata": {},
   "source": [
    "**Comments:** As you can see the function consider the \"more local\" variable instead of the \"more general\" variable, but the **changes now keep**."
   ]
  },
  {
   "attachments": {},
   "cell_type": "markdown",
   "metadata": {},
   "source": [
    "### iii. Accesing to variables (Non iterable and using non local)"
   ]
  },
  {
   "cell_type": "code",
   "execution_count": 17,
   "metadata": {},
   "outputs": [],
   "source": [
    "def f1():\n",
    "    s = 'I love Maths'\n",
    "      \n",
    "    def f2():\n",
    "        print(s)\n",
    "          \n",
    "    f2()"
   ]
  },
  {
   "cell_type": "code",
   "execution_count": 18,
   "metadata": {},
   "outputs": [
    {
     "name": "stdout",
     "output_type": "stream",
     "text": [
      "I love Maths\n"
     ]
    }
   ],
   "source": [
    "f1()"
   ]
  },
  {
   "cell_type": "code",
   "execution_count": 19,
   "metadata": {},
   "outputs": [],
   "source": [
    "def f1():\n",
    "    s = 'I love Maths'\n",
    "      \n",
    "    def f2():\n",
    "        \n",
    "        nonlocal s\n",
    "        s = 'I love Data Science'\n",
    "        print(s)\n",
    "    \n",
    "    print(s)\n",
    "\n",
    "    f2()\n",
    "\n",
    "    print(s)"
   ]
  },
  {
   "cell_type": "code",
   "execution_count": 20,
   "metadata": {},
   "outputs": [
    {
     "name": "stdout",
     "output_type": "stream",
     "text": [
      "I love Maths\n",
      "I love Data Science\n",
      "I love Data Science\n"
     ]
    }
   ],
   "source": [
    "f1()"
   ]
  },
  {
   "attachments": {},
   "cell_type": "markdown",
   "metadata": {},
   "source": [
    "**Comments:** As you can see the function consider the \"more local\" variable instead of the \"more general\" variable, but the **changes now are keep**."
   ]
  },
  {
   "cell_type": "code",
   "execution_count": 21,
   "metadata": {},
   "outputs": [
    {
     "ename": "SyntaxError",
     "evalue": "no binding for nonlocal 's' found (374929091.py, line 5)",
     "output_type": "error",
     "traceback": [
      "\u001b[0;36m  Cell \u001b[0;32mIn[21], line 5\u001b[0;36m\u001b[0m\n\u001b[0;31m    nonlocal s\u001b[0m\n\u001b[0m    ^\u001b[0m\n\u001b[0;31mSyntaxError\u001b[0m\u001b[0;31m:\u001b[0m no binding for nonlocal 's' found\n"
     ]
    }
   ],
   "source": [
    "s = 'I love Maths'\n",
    "\n",
    "def f1():\n",
    "\n",
    "    nonlocal s\n",
    "    \n",
    "    s = 'I love Data Science'\n",
    "      \n",
    "    def f2():\n",
    "        \n",
    "        print(s)\n",
    "\n",
    "    f2()"
   ]
  },
  {
   "attachments": {},
   "cell_type": "markdown",
   "metadata": {},
   "source": [
    "**Comments:** We have an error because the \"nonlocal\" command is valid only for local variables."
   ]
  },
  {
   "cell_type": "code",
   "execution_count": 22,
   "metadata": {},
   "outputs": [
    {
     "ename": "SyntaxError",
     "evalue": "no binding for nonlocal 's' found (1664246038.py, line 7)",
     "output_type": "error",
     "traceback": [
      "\u001b[0;36m  Cell \u001b[0;32mIn[22], line 7\u001b[0;36m\u001b[0m\n\u001b[0;31m    nonlocal s\u001b[0m\n\u001b[0m    ^\u001b[0m\n\u001b[0;31mSyntaxError\u001b[0m\u001b[0;31m:\u001b[0m no binding for nonlocal 's' found\n"
     ]
    }
   ],
   "source": [
    "s = 'I love Maths'\n",
    "\n",
    "def f1():\n",
    "      \n",
    "    def f2():\n",
    "\n",
    "        nonlocal s\n",
    "        s = 'I love Data Science'\n",
    "        \n",
    "        print(s)\n",
    "\n",
    "    f2()"
   ]
  },
  {
   "attachments": {},
   "cell_type": "markdown",
   "metadata": {},
   "source": [
    "**Comments:** We have an error because the \"nonlocal\" command is valid only for local variables."
   ]
  },
  {
   "attachments": {},
   "cell_type": "markdown",
   "metadata": {},
   "source": [
    "### iv. Make permanently changes (on no iterable objects)"
   ]
  },
  {
   "cell_type": "code",
   "execution_count": 23,
   "metadata": {},
   "outputs": [],
   "source": [
    "def f1():\n",
    "    f1.s = 'I love Maths'\n",
    "      \n",
    "    def f2():\n",
    "        print(f1.s)\n",
    "          \n",
    "    f2()"
   ]
  },
  {
   "cell_type": "code",
   "execution_count": 24,
   "metadata": {},
   "outputs": [
    {
     "name": "stdout",
     "output_type": "stream",
     "text": [
      "I love Maths\n"
     ]
    }
   ],
   "source": [
    "f1()"
   ]
  },
  {
   "cell_type": "code",
   "execution_count": 25,
   "metadata": {},
   "outputs": [],
   "source": [
    "def f1():\n",
    "    f1.s = 'I love Maths'\n",
    "      \n",
    "    def f2():\n",
    "\n",
    "        f1.s = 'I love Data Science'\n",
    "        print(f1.s)\n",
    "    \n",
    "    print(f1.s)\n",
    "\n",
    "    f2()\n",
    "\n",
    "    print(f1.s)"
   ]
  },
  {
   "cell_type": "code",
   "execution_count": 26,
   "metadata": {},
   "outputs": [
    {
     "name": "stdout",
     "output_type": "stream",
     "text": [
      "I love Maths\n",
      "I love Data Science\n",
      "I love Data Science\n"
     ]
    }
   ],
   "source": [
    "f1()"
   ]
  },
  {
   "attachments": {},
   "cell_type": "markdown",
   "metadata": {},
   "source": [
    "**Comments:** As you can see the **changes now are keep**."
   ]
  },
  {
   "cell_type": "code",
   "execution_count": null,
   "metadata": {},
   "outputs": [],
   "source": []
  }
 ],
 "metadata": {
  "kernelspec": {
   "display_name": "data_science_env",
   "language": "python",
   "name": "python3"
  },
  "language_info": {
   "codemirror_mode": {
    "name": "ipython",
    "version": 3
   },
   "file_extension": ".py",
   "mimetype": "text/x-python",
   "name": "python",
   "nbconvert_exporter": "python",
   "pygments_lexer": "ipython3",
   "version": "3.8.15"
  },
  "orig_nbformat": 4,
  "vscode": {
   "interpreter": {
    "hash": "33c1fafa1f722512bb95ff2288ca1754d2d15925c091a4ce51aceaa93d9dc801"
   }
  }
 },
 "nbformat": 4,
 "nbformat_minor": 2
}
