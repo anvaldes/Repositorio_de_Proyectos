{
 "cells": [
  {
   "cell_type": "markdown",
   "metadata": {},
   "source": [
    "# Soft Assemblies: Linear-quadratic assembly"
   ]
  },
  {
   "cell_type": "markdown",
   "metadata": {},
   "source": [
    "By Alberto Valdés \n",
    "\n",
    "**Mail 1:** anvaldes@uc.cl \n",
    "\n",
    "**Mail 2:** alberto.valdes.gonzalez.96@gmail.com"
   ]
  },
  {
   "cell_type": "markdown",
   "metadata": {},
   "source": [
    "In this notebook we will talk about soft assemblies and in specific we will board the the assemblies of a linear and quadratic regression."
   ]
  },
  {
   "cell_type": "markdown",
   "metadata": {},
   "source": [
    "### We import all the libraries"
   ]
  },
  {
   "cell_type": "code",
   "execution_count": 1,
   "metadata": {},
   "outputs": [],
   "source": [
    "import numpy as np\n",
    "import pandas as pd\n",
    "import matplotlib.pyplot as plt\n",
    "from matplotlib.pyplot import figure\n",
    "from sklearn.linear_model import LinearRegression\n",
    "from sklearn.model_selection import train_test_split"
   ]
  },
  {
   "cell_type": "markdown",
   "metadata": {},
   "source": [
    "### Creation of all the points to train and test the model"
   ]
  },
  {
   "cell_type": "markdown",
   "metadata": {},
   "source": [
    "We set the seed"
   ]
  },
  {
   "cell_type": "code",
   "execution_count": 2,
   "metadata": {},
   "outputs": [],
   "source": [
    "np.random.seed(10)"
   ]
  },
  {
   "cell_type": "markdown",
   "metadata": {},
   "source": [
    "Creation of the points"
   ]
  },
  {
   "cell_type": "code",
   "execution_count": 3,
   "metadata": {},
   "outputs": [],
   "source": [
    "# Breakpoints\n",
    "\n",
    "v = 2\n",
    "\n",
    "#---------------------------------------------------\n",
    "\n",
    "# Parameters of the model\n",
    "\n",
    "a = -5\n",
    "b = 9\n",
    "\n",
    "h = 0.5\n",
    "\n",
    "#---------------------------------------------------\n",
    "\n",
    "N = int((b - a)/h) + 1\n",
    "\n",
    "#---------------------------------------------------\n",
    "\n",
    "# Seting the first value of the domain\n",
    "\n",
    "x = a - h\n",
    "\n",
    "#---------------------------------------------------\n",
    "\n",
    "X = []\n",
    "y = []\n",
    "\n",
    "#---------------------------------------------------\n",
    "\n",
    "for i in range(N):\n",
    "\n",
    "    x = round(x + h, 1)\n",
    "\n",
    "    noise = np.random.uniform(-h, h)\n",
    "\n",
    "    if x <= v:\n",
    "\n",
    "        f_x = 0.5*(x + noise) + 1\n",
    "\n",
    "        X.append(x)\n",
    "        y.append(f_x)\n",
    "\n",
    "    else:\n",
    "\n",
    "        f_x = (x + noise)**2 - 4*(x + noise) + 6\n",
    "\n",
    "        X.append(x)\n",
    "        y.append(f_x)\n",
    "\n",
    "#---------------------------------------------------"
   ]
  },
  {
   "cell_type": "markdown",
   "metadata": {},
   "source": [
    "Creation of dataframe"
   ]
  },
  {
   "cell_type": "code",
   "execution_count": 4,
   "metadata": {},
   "outputs": [],
   "source": [
    "df = pd.DataFrame()"
   ]
  },
  {
   "cell_type": "code",
   "execution_count": 5,
   "metadata": {},
   "outputs": [],
   "source": [
    "df['X'] = pd.Series(X).astype(float)\n",
    "df['y'] = pd.Series(y).astype(float)"
   ]
  },
  {
   "cell_type": "code",
   "execution_count": 6,
   "metadata": {},
   "outputs": [
    {
     "data": {
      "text/html": [
       "<div>\n",
       "<style scoped>\n",
       "    .dataframe tbody tr th:only-of-type {\n",
       "        vertical-align: middle;\n",
       "    }\n",
       "\n",
       "    .dataframe tbody tr th {\n",
       "        vertical-align: top;\n",
       "    }\n",
       "\n",
       "    .dataframe thead th {\n",
       "        text-align: right;\n",
       "    }\n",
       "</style>\n",
       "<table border=\"1\" class=\"dataframe\">\n",
       "  <thead>\n",
       "    <tr style=\"text-align: right;\">\n",
       "      <th></th>\n",
       "      <th>X</th>\n",
       "      <th>y</th>\n",
       "    </tr>\n",
       "  </thead>\n",
       "  <tbody>\n",
       "    <tr>\n",
       "      <th>0</th>\n",
       "      <td>-5.0</td>\n",
       "      <td>-1.364340</td>\n",
       "    </tr>\n",
       "    <tr>\n",
       "      <th>1</th>\n",
       "      <td>-4.5</td>\n",
       "      <td>-1.489624</td>\n",
       "    </tr>\n",
       "    <tr>\n",
       "      <th>2</th>\n",
       "      <td>-4.0</td>\n",
       "      <td>-0.933176</td>\n",
       "    </tr>\n",
       "    <tr>\n",
       "      <th>3</th>\n",
       "      <td>-3.5</td>\n",
       "      <td>-0.625598</td>\n",
       "    </tr>\n",
       "    <tr>\n",
       "      <th>4</th>\n",
       "      <td>-3.0</td>\n",
       "      <td>-0.500746</td>\n",
       "    </tr>\n",
       "    <tr>\n",
       "      <th>5</th>\n",
       "      <td>-2.5</td>\n",
       "      <td>-0.387602</td>\n",
       "    </tr>\n",
       "    <tr>\n",
       "      <th>6</th>\n",
       "      <td>-2.0</td>\n",
       "      <td>-0.150969</td>\n",
       "    </tr>\n",
       "    <tr>\n",
       "      <th>7</th>\n",
       "      <td>-1.5</td>\n",
       "      <td>0.380265</td>\n",
       "    </tr>\n",
       "    <tr>\n",
       "      <th>8</th>\n",
       "      <td>-1.0</td>\n",
       "      <td>0.334555</td>\n",
       "    </tr>\n",
       "    <tr>\n",
       "      <th>9</th>\n",
       "      <td>-0.5</td>\n",
       "      <td>0.544170</td>\n",
       "    </tr>\n",
       "    <tr>\n",
       "      <th>10</th>\n",
       "      <td>0.0</td>\n",
       "      <td>1.092680</td>\n",
       "    </tr>\n",
       "    <tr>\n",
       "      <th>11</th>\n",
       "      <td>0.5</td>\n",
       "      <td>1.476697</td>\n",
       "    </tr>\n",
       "    <tr>\n",
       "      <th>12</th>\n",
       "      <td>1.0</td>\n",
       "      <td>1.251974</td>\n",
       "    </tr>\n",
       "    <tr>\n",
       "      <th>13</th>\n",
       "      <td>1.5</td>\n",
       "      <td>1.756096</td>\n",
       "    </tr>\n",
       "    <tr>\n",
       "      <th>14</th>\n",
       "      <td>2.0</td>\n",
       "      <td>2.156310</td>\n",
       "    </tr>\n",
       "    <tr>\n",
       "      <th>15</th>\n",
       "      <td>2.5</td>\n",
       "      <td>2.375188</td>\n",
       "    </tr>\n",
       "    <tr>\n",
       "      <th>16</th>\n",
       "      <td>3.0</td>\n",
       "      <td>3.492686</td>\n",
       "    </tr>\n",
       "    <tr>\n",
       "      <th>17</th>\n",
       "      <td>3.5</td>\n",
       "      <td>3.668944</td>\n",
       "    </tr>\n",
       "    <tr>\n",
       "      <th>18</th>\n",
       "      <td>4.0</td>\n",
       "      <td>7.845632</td>\n",
       "    </tr>\n",
       "    <tr>\n",
       "      <th>19</th>\n",
       "      <td>4.5</td>\n",
       "      <td>9.368922</td>\n",
       "    </tr>\n",
       "    <tr>\n",
       "      <th>20</th>\n",
       "      <td>5.0</td>\n",
       "      <td>11.257076</td>\n",
       "    </tr>\n",
       "    <tr>\n",
       "      <th>21</th>\n",
       "      <td>5.5</td>\n",
       "      <td>11.873233</td>\n",
       "    </tr>\n",
       "    <tr>\n",
       "      <th>22</th>\n",
       "      <td>6.0</td>\n",
       "      <td>17.002769</td>\n",
       "    </tr>\n",
       "    <tr>\n",
       "      <th>23</th>\n",
       "      <td>6.5</td>\n",
       "      <td>23.847525</td>\n",
       "    </tr>\n",
       "    <tr>\n",
       "      <th>24</th>\n",
       "      <td>7.0</td>\n",
       "      <td>26.421715</td>\n",
       "    </tr>\n",
       "    <tr>\n",
       "      <th>25</th>\n",
       "      <td>7.5</td>\n",
       "      <td>31.528508</td>\n",
       "    </tr>\n",
       "    <tr>\n",
       "      <th>26</th>\n",
       "      <td>8.0</td>\n",
       "      <td>39.427073</td>\n",
       "    </tr>\n",
       "    <tr>\n",
       "      <th>27</th>\n",
       "      <td>8.5</td>\n",
       "      <td>44.420970</td>\n",
       "    </tr>\n",
       "    <tr>\n",
       "      <th>28</th>\n",
       "      <td>9.0</td>\n",
       "      <td>53.128180</td>\n",
       "    </tr>\n",
       "  </tbody>\n",
       "</table>\n",
       "</div>"
      ],
      "text/plain": [
       "      X          y\n",
       "0  -5.0  -1.364340\n",
       "1  -4.5  -1.489624\n",
       "2  -4.0  -0.933176\n",
       "3  -3.5  -0.625598\n",
       "4  -3.0  -0.500746\n",
       "5  -2.5  -0.387602\n",
       "6  -2.0  -0.150969\n",
       "7  -1.5   0.380265\n",
       "8  -1.0   0.334555\n",
       "9  -0.5   0.544170\n",
       "10  0.0   1.092680\n",
       "11  0.5   1.476697\n",
       "12  1.0   1.251974\n",
       "13  1.5   1.756096\n",
       "14  2.0   2.156310\n",
       "15  2.5   2.375188\n",
       "16  3.0   3.492686\n",
       "17  3.5   3.668944\n",
       "18  4.0   7.845632\n",
       "19  4.5   9.368922\n",
       "20  5.0  11.257076\n",
       "21  5.5  11.873233\n",
       "22  6.0  17.002769\n",
       "23  6.5  23.847525\n",
       "24  7.0  26.421715\n",
       "25  7.5  31.528508\n",
       "26  8.0  39.427073\n",
       "27  8.5  44.420970\n",
       "28  9.0  53.128180"
      ]
     },
     "execution_count": 6,
     "metadata": {},
     "output_type": "execute_result"
    }
   ],
   "source": [
    "df"
   ]
  },
  {
   "cell_type": "markdown",
   "metadata": {},
   "source": [
    "Graph of these points"
   ]
  },
  {
   "cell_type": "code",
   "execution_count": 7,
   "metadata": {},
   "outputs": [
    {
     "data": {
      "image/png": "[encoded data removed]",
      "text/plain": [
       "<Figure size 720x720 with 1 Axes>"
      ]
     },
     "metadata": {
      "needs_background": "light"
     },
     "output_type": "display_data"
    }
   ],
   "source": [
    "figure(figsize=(10,10))\n",
    "plt.scatter(df['X'], df['y'], color = 'red', label = 'All points')\n",
    "\n",
    "plt.xlabel('X axis', size = 17)\n",
    "plt.ylabel('y axis', size = 17)\n",
    "\n",
    "plt.legend()\n",
    "plt.show()"
   ]
  },
  {
   "cell_type": "markdown",
   "metadata": {},
   "source": [
    "Separating the train set and the test set"
   ]
  },
  {
   "cell_type": "code",
   "execution_count": 8,
   "metadata": {},
   "outputs": [],
   "source": [
    "X_train, X_test, y_train, y_test = train_test_split(X, y, test_size=0.30, random_state=11)"
   ]
  },
  {
   "cell_type": "code",
   "execution_count": 9,
   "metadata": {},
   "outputs": [],
   "source": [
    "train = pd.DataFrame()\n",
    "test = pd.DataFrame()"
   ]
  },
  {
   "cell_type": "code",
   "execution_count": 10,
   "metadata": {},
   "outputs": [],
   "source": [
    "train['X'] = pd.Series(X_train).astype(float)\n",
    "train['y'] = pd.Series(y_train).astype(float)"
   ]
  },
  {
   "cell_type": "code",
   "execution_count": 11,
   "metadata": {},
   "outputs": [],
   "source": [
    "test['X'] = pd.Series(X_test).astype(float)\n",
    "test['y'] = pd.Series(y_test).astype(float)"
   ]
  },
  {
   "cell_type": "markdown",
   "metadata": {},
   "source": [
    "Graph of train and test set"
   ]
  },
  {
   "cell_type": "code",
   "execution_count": 12,
   "metadata": {},
   "outputs": [
    {
     "data": {
      "image/png": "[encoded data removed]",
      "text/plain": [
       "<Figure size 720x720 with 1 Axes>"
      ]
     },
     "metadata": {
      "needs_background": "light"
     },
     "output_type": "display_data"
    }
   ],
   "source": [
    "figure(figsize=(10,10))\n",
    "plt.scatter(train['X'], train['y'], color = 'red', label = 'Training points')\n",
    "plt.scatter(test['X'], test['y'], color = 'blue', label = 'Testing points')\n",
    "\n",
    "plt.xlabel('X axis', size = 17)\n",
    "plt.ylabel('y axis', size = 17)\n",
    "\n",
    "plt.legend()\n",
    "plt.show()"
   ]
  },
  {
   "cell_type": "markdown",
   "metadata": {},
   "source": [
    "### Mathematical Development"
   ]
  },
  {
   "cell_type": "markdown",
   "metadata": {},
   "source": [
    "First of all, we must to say exists two ways of to do this assembly. The first \"Left to the right\" and the second \"Right to the left\"."
   ]
  },
  {
   "cell_type": "markdown",
   "metadata": {},
   "source": [
    "### ¿What means \"Soft Assembly\"?"
   ]
  },
  {
   "cell_type": "markdown",
   "metadata": {},
   "source": [
    "We understand by \"Soft Assembly\" of functions to an assembly which is continuous and also the assembly of theirs derivatives is continuous."
   ]
  },
  {
   "cell_type": "markdown",
   "metadata": {},
   "source": [
    "### $ \\underline{1. \\ Left \\ \\ to \\ \\ the \\ \\ right:} $"
   ]
  },
  {
   "cell_type": "markdown",
   "metadata": {},
   "source": [
    "We will consider two functions: "
   ]
  },
  {
   "cell_type": "markdown",
   "metadata": {},
   "source": [
    "$ f_1(x) = \\alpha_1^{left} \\cdot x + \\alpha_0^{left} \\ \\ \\  $ for $ \\ \\ \\ a \\leq x \\leq v $\n",
    "\n",
    "$ f_2(x) = \\beta_2^{left} \\cdot x^2 + \\beta_1^{left} \\cdot x + \\beta_0^{left} \\ \\ \\  $ for $ \\ \\ \\ v \\leq x \\leq b $"
   ]
  },
  {
   "cell_type": "markdown",
   "metadata": {},
   "source": [
    "*$\\underline{Step \\ 1:}$* We estimate the values of $ \\alpha_1^{left} $ and $ \\alpha_0^{left}$. From now on, we will write the known values with green color and the unkown values with red color."
   ]
  },
  {
   "cell_type": "markdown",
   "metadata": {},
   "source": [
    "*$\\underline{Step \\ 2.1:}$* For the union of the first and second function to be continued we need the following equation is fulfilled:"
   ]
  },
  {
   "cell_type": "markdown",
   "metadata": {},
   "source": [
    "$ f_1(v) = f_2(v) $\n",
    "\n",
    "$ \\Rightarrow $\n",
    "\n",
    "$ \\textcolor{green}{\\alpha_1^{left}} \\cdot \\textcolor{green}{v} + \\textcolor{green}{\\alpha_0^{left}} = \\textcolor{red}{\\beta_2^{left}} \\cdot \\textcolor{green}{v^2} + \\textcolor{red}{\\beta_1^{left}} \\cdot \\textcolor{green}{v} + \\textcolor{red}{\\beta_0^{left}} $\n",
    "\n",
    "$ \\Rightarrow $\n",
    "\n",
    "$ \\boxed{\\textcolor{red}{\\beta_0^{left}} = \\textcolor{green}{\\alpha_1^{left}} \\cdot \\textcolor{green}{v} + \\textcolor{green}{\\alpha_0^{left}} - \\textcolor{red}{\\beta_2^{left}} \\cdot \\textcolor{green}{v^2} - \\textcolor{red}{\\beta_1^{left}} \\cdot \\textcolor{green}{v}} \\ \\ \\ (1)  $"
   ]
  },
  {
   "cell_type": "markdown",
   "metadata": {},
   "source": [
    "*$\\underline{Step \\ 2.2:}$* For the union of the first and second derivatives to be continued we need the following equation is fulfilled:"
   ]
  },
  {
   "cell_type": "markdown",
   "metadata": {},
   "source": [
    "$ f'_1(v) = f'_2(v) $"
   ]
  },
  {
   "cell_type": "markdown",
   "metadata": {},
   "source": [
    "Now we have:\n",
    "\n",
    "$ f'_1(x) = \\alpha^{left}_1 $\n",
    "\n",
    "$ f'_2(x) = 2 \\cdot \\beta^{left}_2 \\cdot x + \\beta^{left}_1 $"
   ]
  },
  {
   "cell_type": "markdown",
   "metadata": {},
   "source": [
    "Therefore:\n",
    "\n",
    "$ \\textcolor{green}{\\alpha_1^{left}} = 2 \\cdot \\textcolor{red}{\\beta_2^{left}} \\cdot \\textcolor{green}{v} + \\textcolor{red}{\\beta_1^{left}} $\n",
    "\n",
    "$ \\Rightarrow $\n",
    "\n",
    "$ \\boxed{ \\textcolor{red}{\\beta_1^{left}} = \\textcolor{green}{\\alpha_1^{left}} - 2 \\cdot \\textcolor{red}{\\beta_2^{left}} \\cdot \\textcolor{green}{v}} \\ \\ \\ (2) $"
   ]
  },
  {
   "cell_type": "markdown",
   "metadata": {},
   "source": [
    "Substituting $(2)$ on $(1)$ we have:\n",
    "\n",
    "$ \\textcolor{red}{\\beta_0^{left}} = \\textcolor{green}{\\alpha_1^{left}} \\cdot \\textcolor{green}{v} + \\textcolor{green}{\\alpha_0^{left}} - \\textcolor{red}{\\beta_2^{left}} \\cdot \\textcolor{green}{v^2} - [ \\textcolor{green}{\\alpha_1^{left}} - 2 \\cdot \\textcolor{red}{\\beta_2^{left}} \\cdot \\textcolor{green}{v}] \\cdot \\textcolor{green}{v} = \\textcolor{green}{\\alpha_1^{left}} \\cdot \\textcolor{green}{v} + \\textcolor{green}{\\alpha_0^{left}} - \\textcolor{red}{\\beta_2^{left}} \\cdot \\textcolor{green}{v^2} - \\textcolor{green}{\\alpha_1^{left}} \\cdot \\textcolor{green}{v} + 2 \\cdot \\textcolor{red}{\\beta_2^{left}} \\cdot \\textcolor{green}{v^2} = \\textcolor{green}{\\alpha_0^{left}} + \\textcolor{red}{\\beta_2^{left}} \\cdot \\textcolor{green}{v^2} $\n",
    "\n",
    "$ \\Rightarrow $\n",
    "\n",
    "$ \\boxed{ \\textcolor{red}{\\beta_0^{left}} = \\textcolor{green}{\\alpha_0^{left}} +  \\textcolor{red}{\\beta_2^{left}} \\cdot \\textcolor{green}{v^2}} \\ \\ \\ (3) $"
   ]
  },
  {
   "cell_type": "markdown",
   "metadata": {},
   "source": [
    "Substituting $(2)$ and $(3)$ on $f_2(x)$ we have:"
   ]
  },
  {
   "cell_type": "markdown",
   "metadata": {},
   "source": [
    "$ f_2(x) = \\textcolor{red}{\\beta_2^{left}} \\cdot x^2 + \\textcolor{red}{\\beta_1^{left}} \\cdot x + \\textcolor{red}{\\beta_0^{left}} = \\textcolor{red}{\\beta_2^{left}} \\cdot x^2 + [\\textcolor{green}{\\alpha_1^{left}} - 2 \\cdot \\textcolor{red}{\\beta_2^{left}} \\cdot \\textcolor{green}{v}] \\cdot x + [\\textcolor{green}{\\alpha_0^{left}} + \\textcolor{red}{\\beta_2^{left}} \\cdot \\textcolor{green}{v^2}] = \\textcolor{red}{\\beta_2^{left}} \\cdot x^2 + \\textcolor{green}{\\alpha_1^{left}} \\cdot x - 2 \\cdot \\textcolor{red}{\\beta_2^{left}} \\cdot \\textcolor{green}{v} \\cdot x  + \\textcolor{green}{\\alpha_0^{left}} + \\textcolor{red}{\\beta_2^{left}} \\cdot \\textcolor{green}{v^2} $\n",
    "\n",
    "$ \\Rightarrow $\n",
    "\n",
    "$ f_2(x) = \\textcolor{red}{\\beta_2^{left}} \\cdot [x^2 - 2 \\cdot \\textcolor{green}{v} \\cdot x + \\textcolor{green}{v^2}] + \\textcolor{green}{\\alpha_1^{left}} \\cdot x  + \\textcolor{green}{\\alpha_0^{left}} $\n",
    "\n",
    "$ \\Rightarrow $\n",
    "\n",
    "$ f_2(x) - [\\textcolor{green}{\\alpha_1^{left}} \\cdot x  + \\textcolor{green}{\\alpha_0^{left}}] = \\textcolor{red}{\\beta_2^{left}} \\cdot [(x - \\textcolor{green}{v})^2] $"
   ]
  },
  {
   "cell_type": "markdown",
   "metadata": {},
   "source": [
    "We create the next new variables:\n",
    "\n",
    "$ u_2 = f_2(x) - (\\textcolor{green}{\\alpha_1^{left}} \\cdot x + \\textcolor{green}{\\alpha_0^{left}}) $\n",
    "\n",
    "$ W_{2} = (x - \\textcolor{green}{v})^2 $"
   ]
  },
  {
   "cell_type": "markdown",
   "metadata": {},
   "source": [
    "Thus we have the next linear regressión without intercept:"
   ]
  },
  {
   "cell_type": "markdown",
   "metadata": {},
   "source": [
    "$ u_2 = \\textcolor{red}{\\beta_2^{left}} \\cdot W_2 $"
   ]
  },
  {
   "cell_type": "markdown",
   "metadata": {},
   "source": [
    "Once we have the value of $ \\textcolor{red}{\\beta_2^{left}} $ we replaced this value in $(2)$ and $(3)$ to obtain the value of $ \\textcolor{red}{\\beta_1^{left}} $ and $ \\textcolor{red}{\\beta_0^{left}} $."
   ]
  },
  {
   "cell_type": "code",
   "execution_count": null,
   "metadata": {},
   "outputs": [],
   "source": []
  },
  {
   "cell_type": "code",
   "execution_count": null,
   "metadata": {},
   "outputs": [],
   "source": []
  },
  {
   "cell_type": "code",
   "execution_count": null,
   "metadata": {},
   "outputs": [],
   "source": []
  },
  {
   "cell_type": "markdown",
   "metadata": {},
   "source": [
    "### $ \\underline{2. \\ Right \\ \\ to \\ \\ the \\ \\ left:} $"
   ]
  },
  {
   "cell_type": "markdown",
   "metadata": {},
   "source": [
    "We will consider two functions: "
   ]
  },
  {
   "cell_type": "markdown",
   "metadata": {},
   "source": [
    "$ f_1(x) = \\alpha_1^{right} \\cdot x + \\alpha_0^{right} \\ \\ \\  $ for $ \\ \\ \\ a \\leq x \\leq v $\n",
    "\n",
    "$ f_2(x) = \\beta_2^{right} \\cdot x^2 + \\beta_1^{right} \\cdot x + \\beta_0^{right} \\ \\ \\  $ for $ \\ \\ \\ v \\leq x \\leq b $"
   ]
  },
  {
   "cell_type": "markdown",
   "metadata": {},
   "source": [
    "*$\\underline{Step \\ 1:}$* We estimate the values of $ \\beta_2^{right}, \\beta_1^{right} $ and $ \\beta_0^{right}$. From now on, we will write the known values with green color and the unkown values with red color."
   ]
  },
  {
   "cell_type": "markdown",
   "metadata": {},
   "source": [
    "*$\\underline{Step \\ 2.1:}$* For the union of the first and second function to be continued we need the following equation is fulfilled:"
   ]
  },
  {
   "cell_type": "markdown",
   "metadata": {},
   "source": [
    "$ f_1(v) = f_2(v) $\n",
    "\n",
    "$ \\Rightarrow $\n",
    "\n",
    "$ \\textcolor{red}{\\alpha_1^{right}} \\cdot \\textcolor{green}{v} + \\textcolor{red}{\\alpha_0^{right}} = \\textcolor{green}{\\beta_2^{right}} \\cdot \\textcolor{green}{v^2} + \\textcolor{green}{\\beta_1^{right}} \\cdot \\textcolor{green}{v} + \\textcolor{green}{\\beta_0^{right}} $\n",
    "\n",
    "$ \\Rightarrow $\n",
    "\n",
    "$ \\boxed{\\textcolor{red}{\\alpha_0^{right}} = \\textcolor{green}{\\beta_2^{right}} \\cdot \\textcolor{green}{v^2} + \\textcolor{green}{\\beta_1^{right}} \\cdot \\textcolor{green}{v} + \\textcolor{green}{\\beta_0^{right}} -  \\textcolor{red}{\\alpha_1^{right}} \\cdot \\textcolor{green}{v}} \\ \\ \\ (4)  $\n",
    "\n"
   ]
  },
  {
   "cell_type": "markdown",
   "metadata": {},
   "source": [
    "*$\\underline{Step \\ 2.2:}$* For the union of the first and second derivatives to be continued we need the following equation is fulfilled:"
   ]
  },
  {
   "cell_type": "markdown",
   "metadata": {},
   "source": [
    "$ f'_1(v) = f'_2(v) $"
   ]
  },
  {
   "cell_type": "markdown",
   "metadata": {},
   "source": [
    "Now we have:\n",
    "\n",
    "$ f'_1(x) = \\alpha^{right}_1 $\n",
    "\n",
    "$ f'_2(x) = 2 \\cdot \\beta^{right}_2 \\cdot x + \\beta^{right}_1 $"
   ]
  },
  {
   "cell_type": "markdown",
   "metadata": {},
   "source": [
    "Therefore:\n",
    "\n",
    "$ \\textcolor{red}{\\alpha_1^{right}} = 2 \\cdot \\textcolor{green}{\\beta_2^{right}} \\cdot \\textcolor{green}{v} + \\textcolor{green}{\\beta_1^{right}} $\n",
    "\n",
    "$ \\Rightarrow $\n",
    "\n",
    "$ \\boxed{ \\textcolor{red}{\\alpha_1^{right}} = 2 \\cdot \\textcolor{green}{\\beta_2^{right}} \\cdot \\textcolor{green}{v} + \\textcolor{green}{\\beta_1^{right}} } \\ \\ \\ (5) $"
   ]
  },
  {
   "cell_type": "markdown",
   "metadata": {},
   "source": [
    "Thus we can see once we have the value of $ \\textcolor{green}{\\beta_2^{right}} $, $ \\textcolor{green}{\\beta_1^{right}} $ and $ \\textcolor{green}{\\beta_0^{right}} $ we also have the value of $ \\textcolor{red}{\\alpha_1^{right}} $ and $ \\textcolor{red}{\\alpha_0^{right}} $."
   ]
  },
  {
   "cell_type": "markdown",
   "metadata": {},
   "source": [
    "### Training"
   ]
  },
  {
   "cell_type": "code",
   "execution_count": 13,
   "metadata": {},
   "outputs": [],
   "source": [
    "f_1 = (train['X'] <= v)\n",
    "f_2 = (train['X'] > v)"
   ]
  },
  {
   "cell_type": "code",
   "execution_count": 14,
   "metadata": {},
   "outputs": [],
   "source": [
    "f_1_test = (test['X'] <= v)\n",
    "f_2_test = (test['X'] > v)"
   ]
  },
  {
   "cell_type": "code",
   "execution_count": 15,
   "metadata": {},
   "outputs": [],
   "source": [
    "X_1 = train[f_1][['X']].values\n",
    "y_1 = train[f_1]['y'].values"
   ]
  },
  {
   "cell_type": "code",
   "execution_count": 16,
   "metadata": {},
   "outputs": [],
   "source": [
    "X_2 = train[f_2][['X']].values\n",
    "y_2 = train[f_2]['y'].values"
   ]
  },
  {
   "cell_type": "markdown",
   "metadata": {},
   "source": [
    "### $ \\underline{1. \\ Left \\ \\ to \\ \\ the \\ \\ right:} $"
   ]
  },
  {
   "cell_type": "markdown",
   "metadata": {},
   "source": [
    "**a. First section**"
   ]
  },
  {
   "cell_type": "code",
   "execution_count": 17,
   "metadata": {},
   "outputs": [],
   "source": [
    "reg_1_left = LinearRegression().fit(X_1, y_1)"
   ]
  },
  {
   "cell_type": "code",
   "execution_count": 18,
   "metadata": {},
   "outputs": [],
   "source": [
    "alpha_1_left = reg_1_left.coef_[0]\n",
    "alpha_0_left = reg_1_left.intercept_"
   ]
  },
  {
   "cell_type": "code",
   "execution_count": 19,
   "metadata": {},
   "outputs": [
    {
     "data": {
      "text/plain": [
       "(0.49251585984293206, 0.9634236944451035)"
      ]
     },
     "execution_count": 19,
     "metadata": {},
     "output_type": "execute_result"
    }
   ],
   "source": [
    "alpha_1_left, alpha_0_left"
   ]
  },
  {
   "cell_type": "markdown",
   "metadata": {},
   "source": [
    "Graph"
   ]
  },
  {
   "cell_type": "code",
   "execution_count": 20,
   "metadata": {},
   "outputs": [
    {
     "data": {
      "image/png": "[encoded data removed]",
      "text/plain": [
       "<Figure size 720x720 with 1 Axes>"
      ]
     },
     "metadata": {
      "needs_background": "light"
     },
     "output_type": "display_data"
    }
   ],
   "source": [
    "figure(figsize=(10,10))\n",
    "plt.scatter(train[f_1]['X'], train[f_1]['y'], color = 'red', label = 'Training points S1')\n",
    "plt.scatter(test[f_1_test]['X'], test[f_1_test]['y'], color = 'blue', label = 'Testing points S1')\n",
    "plt.plot(train[f_1]['X'], alpha_1_left*train[f_1]['X'] + alpha_0_left, color = 'green', label = 'Linear Regression S1')\n",
    "\n",
    "plt.xlabel('X axis', size = 17)\n",
    "plt.ylabel('y axis', size = 17)\n",
    "\n",
    "plt.legend()\n",
    "plt.show()"
   ]
  },
  {
   "cell_type": "markdown",
   "metadata": {},
   "source": [
    "**b. Second section**"
   ]
  },
  {
   "cell_type": "code",
   "execution_count": 21,
   "metadata": {},
   "outputs": [],
   "source": [
    "u_2_left = y_2 - (alpha_1_left*X_2[:, 0] + alpha_0_left)\n",
    "W_2_left = (X_2 - v)**2"
   ]
  },
  {
   "cell_type": "code",
   "execution_count": 22,
   "metadata": {},
   "outputs": [],
   "source": [
    "reg_2_left = LinearRegression(fit_intercept=False).fit(W_2_left, u_2_left)"
   ]
  },
  {
   "cell_type": "code",
   "execution_count": 23,
   "metadata": {},
   "outputs": [],
   "source": [
    "beta_2_left = reg_2_left.coef_[0]"
   ]
  },
  {
   "cell_type": "code",
   "execution_count": 24,
   "metadata": {},
   "outputs": [
    {
     "data": {
      "text/plain": [
       "0.9337166245774952"
      ]
     },
     "execution_count": 24,
     "metadata": {},
     "output_type": "execute_result"
    }
   ],
   "source": [
    "beta_2_left"
   ]
  },
  {
   "cell_type": "markdown",
   "metadata": {},
   "source": [
    "Remembering"
   ]
  },
  {
   "cell_type": "markdown",
   "metadata": {},
   "source": [
    "$ \\boxed{ \\textcolor{red}{\\beta_1^{left}} = \\textcolor{green}{\\alpha_1^{left}} - 2 \\cdot \\textcolor{red}{\\beta_2^{left}} \\cdot \\textcolor{green}{v}} \\ \\ \\ (2) $"
   ]
  },
  {
   "cell_type": "code",
   "execution_count": 25,
   "metadata": {},
   "outputs": [],
   "source": [
    "beta_1_left = alpha_1_left - 2*beta_2_left*v"
   ]
  },
  {
   "cell_type": "code",
   "execution_count": 26,
   "metadata": {},
   "outputs": [
    {
     "data": {
      "text/plain": [
       "-3.2423506384670486"
      ]
     },
     "execution_count": 26,
     "metadata": {},
     "output_type": "execute_result"
    }
   ],
   "source": [
    "beta_1_left"
   ]
  },
  {
   "cell_type": "markdown",
   "metadata": {},
   "source": [
    "Remembering"
   ]
  },
  {
   "cell_type": "markdown",
   "metadata": {},
   "source": [
    "$ \\boxed{ \\textcolor{red}{\\beta_0^{left}} = \\textcolor{green}{\\alpha_0^{left}} +  \\textcolor{red}{\\beta_2^{left}} \\cdot \\textcolor{green}{v^2}} \\ \\ \\ (3) $"
   ]
  },
  {
   "cell_type": "code",
   "execution_count": 27,
   "metadata": {},
   "outputs": [],
   "source": [
    "beta_0_left = alpha_0_left + beta_2_left*(v**2)"
   ]
  },
  {
   "cell_type": "code",
   "execution_count": 28,
   "metadata": {},
   "outputs": [
    {
     "data": {
      "text/plain": [
       "4.698290192755084"
      ]
     },
     "execution_count": 28,
     "metadata": {},
     "output_type": "execute_result"
    }
   ],
   "source": [
    "beta_0_left"
   ]
  },
  {
   "cell_type": "markdown",
   "metadata": {},
   "source": [
    "Graph"
   ]
  },
  {
   "cell_type": "code",
   "execution_count": 29,
   "metadata": {},
   "outputs": [],
   "source": [
    "o_i = train[f_2]['X'].sort_values().index"
   ]
  },
  {
   "cell_type": "code",
   "execution_count": 30,
   "metadata": {},
   "outputs": [
    {
     "data": {
      "image/png": "[encoded data removed]",
      "text/plain": [
       "<Figure size 720x720 with 1 Axes>"
      ]
     },
     "metadata": {
      "needs_background": "light"
     },
     "output_type": "display_data"
    }
   ],
   "source": [
    "figure(figsize=(10,10))\n",
    "plt.scatter(train[f_2]['X'], train[f_2]['y'], color = 'red', label = 'Training points S2')\n",
    "plt.scatter(test[f_2_test]['X'], test[f_2_test]['y'], color = 'blue', label = 'Testing points S2')\n",
    "plt.plot(train[f_2]['X'][o_i], beta_2_left*(train[f_2]['X'][o_i]**2) + beta_1_left*train[f_2]['X'][o_i] + beta_0_left, color = 'green', label = 'Cuadratic Regression S2')\n",
    "\n",
    "plt.xlabel('X axis', size = 17)\n",
    "plt.ylabel('y axis', size = 17)\n",
    "\n",
    "plt.legend()\n",
    "plt.show()"
   ]
  },
  {
   "cell_type": "markdown",
   "metadata": {},
   "source": [
    "$ \\underline{Assembly \\ \\ of \\ \\ all \\ \\ points:} $"
   ]
  },
  {
   "cell_type": "code",
   "execution_count": 31,
   "metadata": {},
   "outputs": [],
   "source": [
    "x_train_left = list(train['X'].sort_values())"
   ]
  },
  {
   "cell_type": "code",
   "execution_count": 32,
   "metadata": {},
   "outputs": [],
   "source": [
    "y_pred_train_left = []\n",
    "\n",
    "for x in x_train_left:\n",
    "    if x <= v:\n",
    "        y_pred_train_left.append(alpha_1_left*x + alpha_0_left)\n",
    "    \n",
    "    else:\n",
    "        y_pred_train_left.append(beta_2_left*(x**2) + beta_1_left*x + beta_0_left)"
   ]
  },
  {
   "cell_type": "markdown",
   "metadata": {},
   "source": [
    "Graph"
   ]
  },
  {
   "cell_type": "code",
   "execution_count": 33,
   "metadata": {},
   "outputs": [
    {
     "data": {
      "image/png": "[encoded data removed]",
      "text/plain": [
       "<Figure size 720x720 with 1 Axes>"
      ]
     },
     "metadata": {
      "needs_background": "light"
     },
     "output_type": "display_data"
    }
   ],
   "source": [
    "figure(figsize=(10,10))\n",
    "plt.scatter(train['X'], train['y'], color = 'red', label = 'Training points')\n",
    "plt.scatter(test['X'], test['y'], color = 'blue', label = 'Testing points')\n",
    "plt.plot(x_train_left, y_pred_train_left, color = 'green', label = 'Assemblie')\n",
    "\n",
    "plt.xlabel('X axis', size = 17)\n",
    "plt.ylabel('y axis', size = 17)\n",
    "\n",
    "plt.legend()\n",
    "plt.show()"
   ]
  },
  {
   "cell_type": "markdown",
   "metadata": {},
   "source": [
    "**Performance:**"
   ]
  },
  {
   "cell_type": "markdown",
   "metadata": {},
   "source": [
    "i. Train:"
   ]
  },
  {
   "cell_type": "code",
   "execution_count": 34,
   "metadata": {},
   "outputs": [],
   "source": [
    "train['y_p_left'] = f_1*(alpha_1_left*train['X'] + alpha_0_left) + f_2*(beta_2_left*(train['X']**2) + beta_1_left*train['X'] + beta_0_left)"
   ]
  },
  {
   "cell_type": "code",
   "execution_count": 35,
   "metadata": {},
   "outputs": [],
   "source": [
    "sq_err_train_left = round(((train['y'] - train['y_p_left'])**2).sum()/len(train), 2)"
   ]
  },
  {
   "cell_type": "code",
   "execution_count": 36,
   "metadata": {},
   "outputs": [],
   "source": [
    "abs_err_train_left = round(abs(train['y'] - train['y_p_left']).sum()/len(train), 2)"
   ]
  },
  {
   "cell_type": "code",
   "execution_count": 37,
   "metadata": {},
   "outputs": [
    {
     "data": {
      "text/plain": [
       "(0.75, 0.6)"
      ]
     },
     "execution_count": 37,
     "metadata": {},
     "output_type": "execute_result"
    }
   ],
   "source": [
    "sq_err_train_left, abs_err_train_left"
   ]
  },
  {
   "cell_type": "markdown",
   "metadata": {},
   "source": [
    "ii. Test"
   ]
  },
  {
   "cell_type": "code",
   "execution_count": 38,
   "metadata": {},
   "outputs": [],
   "source": [
    "test['y_p_left'] = f_1_test*(alpha_1_left*test['X'] + alpha_0_left) + f_2_test*(beta_2_left*(test['X']**2) + beta_1_left*test['X'] + beta_0_left)"
   ]
  },
  {
   "cell_type": "code",
   "execution_count": 39,
   "metadata": {},
   "outputs": [],
   "source": [
    "sq_err_test_left = round(((test['y'] - test['y_p_left'])**2).sum()/len(test), 2)"
   ]
  },
  {
   "cell_type": "code",
   "execution_count": 40,
   "metadata": {},
   "outputs": [],
   "source": [
    "abs_err_test_left = round(abs(test['y'] - test['y_p_left']).sum()/len(test), 2)"
   ]
  },
  {
   "cell_type": "code",
   "execution_count": 41,
   "metadata": {},
   "outputs": [
    {
     "data": {
      "text/plain": [
       "(1.28, 0.58)"
      ]
     },
     "execution_count": 41,
     "metadata": {},
     "output_type": "execute_result"
    }
   ],
   "source": [
    "sq_err_test_left, abs_err_test_left"
   ]
  },
  {
   "cell_type": "code",
   "execution_count": null,
   "metadata": {},
   "outputs": [],
   "source": []
  },
  {
   "cell_type": "code",
   "execution_count": null,
   "metadata": {},
   "outputs": [],
   "source": []
  },
  {
   "cell_type": "code",
   "execution_count": null,
   "metadata": {},
   "outputs": [],
   "source": []
  },
  {
   "cell_type": "code",
   "execution_count": null,
   "metadata": {},
   "outputs": [],
   "source": []
  },
  {
   "cell_type": "markdown",
   "metadata": {},
   "source": [
    "### $ \\underline{2. \\ Right \\ \\ to \\ \\ the \\ \\ left:} $"
   ]
  },
  {
   "cell_type": "markdown",
   "metadata": {},
   "source": [
    "**a. First section**"
   ]
  },
  {
   "cell_type": "code",
   "execution_count": 42,
   "metadata": {},
   "outputs": [],
   "source": [
    "X_2_1 = X_2\n",
    "X_2_2 = (X_2)**2\n",
    "\n",
    "W_2 = np.concatenate([X_2_2, X_2_1], axis = 1)"
   ]
  },
  {
   "cell_type": "code",
   "execution_count": 43,
   "metadata": {},
   "outputs": [],
   "source": [
    "reg_2_right = LinearRegression().fit(W_2, y_2)"
   ]
  },
  {
   "cell_type": "code",
   "execution_count": 44,
   "metadata": {},
   "outputs": [],
   "source": [
    "beta_2_right, beta_1_right = reg_2_right.coef_\n",
    "beta_0_right = reg_2_right.intercept_"
   ]
  },
  {
   "cell_type": "code",
   "execution_count": 45,
   "metadata": {},
   "outputs": [
    {
     "data": {
      "text/plain": [
       "(1.102931664833848, -5.206551735439767, 9.581946584783221)"
      ]
     },
     "execution_count": 45,
     "metadata": {},
     "output_type": "execute_result"
    }
   ],
   "source": [
    "beta_2_right, beta_1_right, beta_0_right"
   ]
  },
  {
   "cell_type": "markdown",
   "metadata": {},
   "source": [
    "Graph"
   ]
  },
  {
   "cell_type": "code",
   "execution_count": 46,
   "metadata": {},
   "outputs": [],
   "source": [
    "o_i = train[f_2]['X'].sort_values().index"
   ]
  },
  {
   "cell_type": "code",
   "execution_count": 47,
   "metadata": {},
   "outputs": [
    {
     "data": {
      "image/png": "[encoded data removed]",
      "text/plain": [
       "<Figure size 720x720 with 1 Axes>"
      ]
     },
     "metadata": {
      "needs_background": "light"
     },
     "output_type": "display_data"
    }
   ],
   "source": [
    "figure(figsize=(10,10))\n",
    "plt.scatter(train[f_2]['X'], train[f_2]['y'], color = 'red', label = 'Training points S2')\n",
    "plt.scatter(test[f_2_test]['X'], test[f_2_test]['y'], color = 'blue', label = 'Testing points S2')\n",
    "plt.plot(train[f_2]['X'][o_i], beta_2_right*(train[f_2]['X'][o_i]**2) + beta_1_right*train[f_2]['X'][o_i] + beta_0_right, color = 'green', label = 'Cuadratic Regression S2')\n",
    "\n",
    "plt.xlabel('X axis', size = 17)\n",
    "plt.ylabel('y axis', size = 17)\n",
    "\n",
    "plt.legend()\n",
    "plt.show()"
   ]
  },
  {
   "cell_type": "markdown",
   "metadata": {},
   "source": [
    "**b. Second section**"
   ]
  },
  {
   "cell_type": "markdown",
   "metadata": {},
   "source": [
    "Remembering\n",
    "\n",
    "$ \\boxed{ \\textcolor{red}{\\alpha_1^{right}} = 2 \\cdot \\textcolor{green}{\\beta_2^{right}} \\cdot \\textcolor{green}{v} + \\textcolor{green}{\\beta_1^{right}} } \\ \\ \\ (5) $"
   ]
  },
  {
   "cell_type": "code",
   "execution_count": 49,
   "metadata": {},
   "outputs": [],
   "source": [
    "alpha_1_right = 2*beta_2_right*v + beta_1_right"
   ]
  },
  {
   "cell_type": "code",
   "execution_count": 50,
   "metadata": {},
   "outputs": [
    {
     "data": {
      "text/plain": [
       "-0.7948250761043747"
      ]
     },
     "execution_count": 50,
     "metadata": {},
     "output_type": "execute_result"
    }
   ],
   "source": [
    "alpha_1_right"
   ]
  },
  {
   "cell_type": "markdown",
   "metadata": {},
   "source": [
    "Remembering\n",
    "\n",
    "$ \\boxed{\\textcolor{red}{\\alpha_0^{right}} = \\textcolor{green}{\\beta_2^{right}} \\cdot \\textcolor{green}{v^2} + \\textcolor{green}{\\beta_1^{right}} \\cdot \\textcolor{green}{v} + \\textcolor{green}{\\beta_0^{right}} -  \\textcolor{red}{\\alpha_1^{right}} \\cdot \\textcolor{green}{v}} \\ \\ \\ (4)  $\n",
    "\n"
   ]
  },
  {
   "cell_type": "code",
   "execution_count": 53,
   "metadata": {},
   "outputs": [],
   "source": [
    "alpha_0_right = beta_2_right*(v**2) + beta_1_right*v + beta_0_right - alpha_1_right*v"
   ]
  },
  {
   "cell_type": "code",
   "execution_count": 54,
   "metadata": {},
   "outputs": [
    {
     "data": {
      "text/plain": [
       "5.170219925447829"
      ]
     },
     "execution_count": 54,
     "metadata": {},
     "output_type": "execute_result"
    }
   ],
   "source": [
    "alpha_0_right"
   ]
  },
  {
   "cell_type": "markdown",
   "metadata": {},
   "source": [
    "Graph"
   ]
  },
  {
   "cell_type": "code",
   "execution_count": 55,
   "metadata": {},
   "outputs": [
    {
     "data": {
      "image/png": "[encoded data removed]",
      "text/plain": [
       "<Figure size 720x720 with 1 Axes>"
      ]
     },
     "metadata": {
      "needs_background": "light"
     },
     "output_type": "display_data"
    }
   ],
   "source": [
    "figure(figsize=(10,10))\n",
    "plt.scatter(train[f_1]['X'], train[f_1]['y'], color = 'red', label = 'Training points S1')\n",
    "plt.scatter(test[f_1_test]['X'], test[f_1_test]['y'], color = 'blue', label = 'Testing points S1')\n",
    "plt.plot(train[f_1]['X'], alpha_1_right*train[f_1]['X'] + alpha_0_right, color = 'green', label = 'Linear Regression S1')\n",
    "\n",
    "plt.xlabel('X axis', size = 17)\n",
    "plt.ylabel('y axis', size = 17)\n",
    "\n",
    "plt.legend()\n",
    "plt.show()"
   ]
  },
  {
   "cell_type": "markdown",
   "metadata": {},
   "source": [
    "$ \\underline{Assembly \\ \\ of \\ \\ all \\ \\ points:} $"
   ]
  },
  {
   "cell_type": "code",
   "execution_count": 56,
   "metadata": {},
   "outputs": [],
   "source": [
    "x_train_right = list(train['X'].sort_values())"
   ]
  },
  {
   "cell_type": "code",
   "execution_count": 57,
   "metadata": {},
   "outputs": [],
   "source": [
    "y_pred_train_right = []\n",
    "\n",
    "for x in x_train_right:\n",
    "    if x <= v:\n",
    "        y_pred_train_right.append(alpha_1_right*x + alpha_0_right)\n",
    "    \n",
    "    else:\n",
    "        y_pred_train_right.append(beta_2_right*(x**2) + beta_1_right*x + beta_0_right)"
   ]
  },
  {
   "cell_type": "markdown",
   "metadata": {},
   "source": [
    "Graph"
   ]
  },
  {
   "cell_type": "code",
   "execution_count": 58,
   "metadata": {},
   "outputs": [
    {
     "data": {
      "image/png": "[encoded data removed]",
      "text/plain": [
       "<Figure size 720x720 with 1 Axes>"
      ]
     },
     "metadata": {
      "needs_background": "light"
     },
     "output_type": "display_data"
    }
   ],
   "source": [
    "figure(figsize=(10,10))\n",
    "plt.scatter(train['X'], train['y'], color = 'red', label = 'Training points')\n",
    "plt.scatter(test['X'], test['y'], color = 'blue', label = 'Testing points')\n",
    "plt.plot(x_train_right, y_pred_train_right, color = 'green', label = 'Assemblie')\n",
    "\n",
    "plt.xlabel('X axis', size = 17)\n",
    "plt.ylabel('y axis', size = 17)\n",
    "\n",
    "plt.legend()\n",
    "plt.show()"
   ]
  },
  {
   "cell_type": "markdown",
   "metadata": {},
   "source": [
    "**Performance:**"
   ]
  },
  {
   "cell_type": "markdown",
   "metadata": {},
   "source": [
    "i. Train:"
   ]
  },
  {
   "cell_type": "code",
   "execution_count": 59,
   "metadata": {},
   "outputs": [],
   "source": [
    "train['y_p_right'] = f_1*(alpha_1_right*train['X'] + alpha_0_right) + f_2*(beta_2_right*(train['X']**2) + beta_1_right*train['X'] + beta_0_right)"
   ]
  },
  {
   "cell_type": "code",
   "execution_count": 60,
   "metadata": {},
   "outputs": [],
   "source": [
    "sq_err_train_right = round(((train['y'] - train['y_p_right'])**2).sum()/len(train), 2)"
   ]
  },
  {
   "cell_type": "code",
   "execution_count": 61,
   "metadata": {},
   "outputs": [],
   "source": [
    "abs_err_train_right = round(abs(train['y'] - train['y_p_right']).sum()/len(train), 2)"
   ]
  },
  {
   "cell_type": "code",
   "execution_count": 62,
   "metadata": {},
   "outputs": [
    {
     "data": {
      "text/plain": [
       "(25.07, 3.56)"
      ]
     },
     "execution_count": 62,
     "metadata": {},
     "output_type": "execute_result"
    }
   ],
   "source": [
    "sq_err_train_right, abs_err_train_right"
   ]
  },
  {
   "cell_type": "markdown",
   "metadata": {},
   "source": [
    "ii. Test"
   ]
  },
  {
   "cell_type": "code",
   "execution_count": 63,
   "metadata": {},
   "outputs": [],
   "source": [
    "test['y_p_right'] = f_1_test*(alpha_1_right*test['X'] + alpha_0_right) + f_2_test*(beta_2_right*(test['X']**2) + beta_1_right*test['X'] + beta_0_right)"
   ]
  },
  {
   "cell_type": "code",
   "execution_count": 64,
   "metadata": {},
   "outputs": [],
   "source": [
    "sq_err_test_right = round(((test['y'] - test['y_p_right'])**2).sum()/len(test), 2)"
   ]
  },
  {
   "cell_type": "code",
   "execution_count": 65,
   "metadata": {},
   "outputs": [],
   "source": [
    "abs_err_test_right = round(abs(test['y'] - test['y_p_right']).sum()/len(test), 2)"
   ]
  },
  {
   "cell_type": "code",
   "execution_count": 66,
   "metadata": {},
   "outputs": [
    {
     "data": {
      "text/plain": [
       "(22.12, 3.92)"
      ]
     },
     "execution_count": 66,
     "metadata": {},
     "output_type": "execute_result"
    }
   ],
   "source": [
    "sq_err_test_right, abs_err_test_right"
   ]
  },
  {
   "cell_type": "markdown",
   "metadata": {},
   "source": [
    "### Comparison of the two assemblies"
   ]
  },
  {
   "cell_type": "markdown",
   "metadata": {},
   "source": [
    "**Performance**"
   ]
  },
  {
   "cell_type": "markdown",
   "metadata": {},
   "source": [
    "i. Train:"
   ]
  },
  {
   "cell_type": "code",
   "execution_count": 67,
   "metadata": {},
   "outputs": [
    {
     "data": {
      "text/plain": [
       "(0.75, 25.07)"
      ]
     },
     "execution_count": 67,
     "metadata": {},
     "output_type": "execute_result"
    }
   ],
   "source": [
    "sq_err_train_left, sq_err_train_right"
   ]
  },
  {
   "cell_type": "code",
   "execution_count": 68,
   "metadata": {},
   "outputs": [
    {
     "data": {
      "text/plain": [
       "(0.6, 3.56)"
      ]
     },
     "execution_count": 68,
     "metadata": {},
     "output_type": "execute_result"
    }
   ],
   "source": [
    "abs_err_train_left, abs_err_train_right"
   ]
  },
  {
   "cell_type": "markdown",
   "metadata": {},
   "source": [
    "ii. Test:"
   ]
  },
  {
   "cell_type": "code",
   "execution_count": 69,
   "metadata": {},
   "outputs": [
    {
     "data": {
      "text/plain": [
       "(1.28, 22.12)"
      ]
     },
     "execution_count": 69,
     "metadata": {},
     "output_type": "execute_result"
    }
   ],
   "source": [
    "sq_err_test_left, sq_err_test_right"
   ]
  },
  {
   "cell_type": "code",
   "execution_count": 70,
   "metadata": {},
   "outputs": [
    {
     "data": {
      "text/plain": [
       "(0.58, 3.92)"
      ]
     },
     "execution_count": 70,
     "metadata": {},
     "output_type": "execute_result"
    }
   ],
   "source": [
    "abs_err_test_left, abs_err_test_right"
   ]
  },
  {
   "cell_type": "markdown",
   "metadata": {},
   "source": [
    "**Comments:** How we can see the best performance in the test set is in the asembly where first we fit the more simple regression (linear) and then the more complex regression (quadratic)."
   ]
  },
  {
   "cell_type": "markdown",
   "metadata": {},
   "source": [
    "**Graphic comparison**"
   ]
  },
  {
   "cell_type": "code",
   "execution_count": 71,
   "metadata": {},
   "outputs": [
    {
     "data": {
      "image/png": "[encoded data removed]",
      "text/plain": [
       "<Figure size 720x720 with 1 Axes>"
      ]
     },
     "metadata": {
      "needs_background": "light"
     },
     "output_type": "display_data"
    }
   ],
   "source": [
    "figure(figsize=(10,10))\n",
    "plt.scatter(train['X'], train['y'], color = 'red', label = 'Training points')\n",
    "plt.scatter(test['X'], test['y'], color = 'blue', label = 'Testing points')\n",
    "plt.plot(x_train_right, y_pred_train_right, color = 'green', label = 'Assemblie R-L')\n",
    "plt.plot(x_train_left, y_pred_train_left, color = 'purple', label = 'Assemblie L-R')\n",
    "\n",
    "plt.xlabel('X axis', size = 17)\n",
    "plt.ylabel('y axis', size = 17)\n",
    "\n",
    "plt.legend()\n",
    "plt.show()"
   ]
  },
  {
   "cell_type": "markdown",
   "metadata": {},
   "source": [
    "**Comments:** We can see for the \"Right to Left\" aasembly, the straight corresponds to the tangent line of the cuadratic curve. "
   ]
  },
  {
   "cell_type": "markdown",
   "metadata": {},
   "source": [
    "### Functions associated to the two assemblies"
   ]
  },
  {
   "cell_type": "code",
   "execution_count": 72,
   "metadata": {},
   "outputs": [],
   "source": [
    "def assemblie_L_to_R(x):\n",
    "\n",
    "    if x <= v:\n",
    "        return alpha_1_left*x + alpha_0_left\n",
    "    \n",
    "    else:\n",
    "        return beta_2_left*(x**2) + beta_1_left*x + beta_0_left"
   ]
  },
  {
   "cell_type": "code",
   "execution_count": 73,
   "metadata": {},
   "outputs": [],
   "source": [
    "def assemblie_R_to_L(x):\n",
    "\n",
    "    if x <= v:\n",
    "        return alpha_1_right*x + alpha_0_right\n",
    "    \n",
    "    else:\n",
    "        return beta_2_right*(x**2) + beta_1_right*x + beta_0_right"
   ]
  },
  {
   "cell_type": "markdown",
   "metadata": {},
   "source": [
    "### Creation of columns with the predictions of the two models"
   ]
  },
  {
   "cell_type": "code",
   "execution_count": 74,
   "metadata": {},
   "outputs": [],
   "source": [
    "df[\"y_pred_LR\"] = df[\"X\"].map(lambda x: assemblie_L_to_R(x))\n",
    "df[\"y_pred_RL\"] = df[\"X\"].map(lambda x: assemblie_R_to_L(x))"
   ]
  },
  {
   "cell_type": "code",
   "execution_count": 75,
   "metadata": {},
   "outputs": [
    {
     "data": {
      "image/png": "[encoded data removed]",
      "text/plain": [
       "<Figure size 720x720 with 1 Axes>"
      ]
     },
     "metadata": {
      "needs_background": "light"
     },
     "output_type": "display_data"
    }
   ],
   "source": [
    "figure(figsize=(10,10))\n",
    "plt.scatter(df['X'], df['y'], color = 'red', label = 'All points')\n",
    "plt.plot(df['X'], df['y_pred_RL'], color = 'green', label = 'Assemblie R-L')\n",
    "plt.plot(df['X'], df['y_pred_LR'], color = 'blue', label = 'Assemblie L-R')\n",
    "\n",
    "plt.xlabel('X axis', size = 17)\n",
    "plt.ylabel('y axis', size = 17)\n",
    "\n",
    "plt.legend()\n",
    "plt.show()"
   ]
  },
  {
   "cell_type": "code",
   "execution_count": null,
   "metadata": {},
   "outputs": [],
   "source": []
  }
 ],
 "metadata": {
  "kernelspec": {
   "display_name": "Python 3.9.12 ('base')",
   "language": "python",
   "name": "python3"
  },
  "language_info": {
   "codemirror_mode": {
    "name": "ipython",
    "version": 3
   },
   "file_extension": ".py",
   "mimetype": "text/x-python",
   "name": "python",
   "nbconvert_exporter": "python",
   "pygments_lexer": "ipython3",
   "version": "3.9.12"
  },
  "orig_nbformat": 4,
  "vscode": {
   "interpreter": {
    "hash": "2f8c485831047b2cebf111481919a8482d14cdda0a4d2016f96df03a335ecfa0"
   }
  }
 },
 "nbformat": 4,
 "nbformat_minor": 2
}
