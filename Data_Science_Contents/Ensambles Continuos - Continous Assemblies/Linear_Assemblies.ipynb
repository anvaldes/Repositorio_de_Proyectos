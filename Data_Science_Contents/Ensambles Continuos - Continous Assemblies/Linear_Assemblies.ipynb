{
 "cells": [
  {
   "cell_type": "markdown",
   "metadata": {},
   "source": [
    "# Continuos Assemblies: Linear Assemblies"
   ]
  },
  {
   "cell_type": "markdown",
   "metadata": {},
   "source": [
    "By Alberto Valdés \n",
    "\n",
    "**Mail 1:** anvaldes@uc.cl \n",
    "\n",
    "**Mail 2:** alberto.valdes.gonzalez.96@gmail.com"
   ]
  },
  {
   "cell_type": "markdown",
   "metadata": {},
   "source": [
    "This is the first notebook talking about continuos assemblies. In this notebook we will board the assemblies of two or more Linear Regressions of a continuos way. "
   ]
  },
  {
   "cell_type": "markdown",
   "metadata": {},
   "source": [
    "### Import all the libraries"
   ]
  },
  {
   "cell_type": "code",
   "execution_count": 1,
   "metadata": {},
   "outputs": [],
   "source": [
    "import numpy as np\n",
    "import pandas as pd\n",
    "import matplotlib.pyplot as plt\n",
    "from matplotlib.pyplot import figure\n",
    "from sklearn.linear_model import LinearRegression\n",
    "from sklearn.model_selection import train_test_split"
   ]
  },
  {
   "cell_type": "markdown",
   "metadata": {},
   "source": [
    "### Creation of all the points to train and test the model"
   ]
  },
  {
   "cell_type": "markdown",
   "metadata": {},
   "source": [
    "We set the seed"
   ]
  },
  {
   "cell_type": "code",
   "execution_count": 2,
   "metadata": {},
   "outputs": [],
   "source": [
    "np.random.seed(10)"
   ]
  },
  {
   "cell_type": "markdown",
   "metadata": {},
   "source": [
    "Creation of the points"
   ]
  },
  {
   "cell_type": "code",
   "execution_count": 3,
   "metadata": {},
   "outputs": [],
   "source": [
    "### Breakpoints\n",
    "\n",
    "v_1 = -2\n",
    "v_2 = 3\n",
    "\n",
    "#---------------------------------------------------\n",
    "\n",
    "#Parameters of the model\n",
    "\n",
    "a = -10\n",
    "b = 12\n",
    "\n",
    "h = 0.5\n",
    "\n",
    "#---------------------------------------------------\n",
    "\n",
    "N = int((b - a)/h) + 1\n",
    "\n",
    "#---------------------------------------------------\n",
    "\n",
    "# Value of the function evaluate at x = a\n",
    "\n",
    "f_a = 12\n",
    "\n",
    "#---------------------------------------------------\n",
    "\n",
    "# Slope of the differents sections\n",
    "\n",
    "m_1 = -3\n",
    "m_2 = -1\n",
    "m_3 = 5\n",
    "\n",
    "#---------------------------------------------------\n",
    "\n",
    "# Seting the first values of the domain and range\n",
    "\n",
    "f_x = f_a\n",
    "x = a - h\n",
    "\n",
    "#---------------------------------------------------\n",
    "\n",
    "# Amplification of the noise\n",
    "\n",
    "c = 2\n",
    "\n",
    "#---------------------------------------------------\n",
    "\n",
    "X = []\n",
    "y = []\n",
    "\n",
    "#---------------------------------------------------\n",
    "\n",
    "for i in range(N):\n",
    "\n",
    "    x = round(x + h, 1)\n",
    "\n",
    "    noise = np.random.uniform(-h*c, h*c)\n",
    "\n",
    "    if x <= v_1:\n",
    "\n",
    "        f_x = f_x + m_1*h + noise\n",
    "\n",
    "        X.append(x)\n",
    "        y.append(f_x)\n",
    "\n",
    "    elif (x > v_1) and (x <= v_2):\n",
    "\n",
    "        f_x = f_x + m_2*h + noise\n",
    "\n",
    "        X.append(x)\n",
    "        y.append(f_x)\n",
    "\n",
    "    else:\n",
    "\n",
    "        f_x = f_x + m_3*h + noise\n",
    "\n",
    "        X.append(x)\n",
    "        y.append(f_x)\n",
    "\n",
    "#---------------------------------------------------"
   ]
  },
  {
   "cell_type": "markdown",
   "metadata": {},
   "source": [
    "Creation of dataframe"
   ]
  },
  {
   "cell_type": "code",
   "execution_count": 4,
   "metadata": {},
   "outputs": [],
   "source": [
    "df = pd.DataFrame()"
   ]
  },
  {
   "cell_type": "code",
   "execution_count": 5,
   "metadata": {},
   "outputs": [],
   "source": [
    "df['X'] = pd.Series(X).astype(float)\n",
    "df['y'] = pd.Series(y).astype(float)"
   ]
  },
  {
   "cell_type": "code",
   "execution_count": 6,
   "metadata": {},
   "outputs": [
    {
     "data": {
      "text/html": [
       "<div>\n",
       "<style scoped>\n",
       "    .dataframe tbody tr th:only-of-type {\n",
       "        vertical-align: middle;\n",
       "    }\n",
       "\n",
       "    .dataframe tbody tr th {\n",
       "        vertical-align: top;\n",
       "    }\n",
       "\n",
       "    .dataframe thead th {\n",
       "        text-align: right;\n",
       "    }\n",
       "</style>\n",
       "<table border=\"1\" class=\"dataframe\">\n",
       "  <thead>\n",
       "    <tr style=\"text-align: right;\">\n",
       "      <th></th>\n",
       "      <th>X</th>\n",
       "      <th>y</th>\n",
       "    </tr>\n",
       "  </thead>\n",
       "  <tbody>\n",
       "    <tr>\n",
       "      <th>0</th>\n",
       "      <td>-10.0</td>\n",
       "      <td>11.042641</td>\n",
       "    </tr>\n",
       "    <tr>\n",
       "      <th>1</th>\n",
       "      <td>-9.5</td>\n",
       "      <td>8.584145</td>\n",
       "    </tr>\n",
       "    <tr>\n",
       "      <th>2</th>\n",
       "      <td>-9.0</td>\n",
       "      <td>7.351442</td>\n",
       "    </tr>\n",
       "    <tr>\n",
       "      <th>3</th>\n",
       "      <td>-8.5</td>\n",
       "      <td>6.349049</td>\n",
       "    </tr>\n",
       "    <tr>\n",
       "      <th>4</th>\n",
       "      <td>-8.0</td>\n",
       "      <td>4.846063</td>\n",
       "    </tr>\n",
       "    <tr>\n",
       "      <th>5</th>\n",
       "      <td>-7.5</td>\n",
       "      <td>2.795657</td>\n",
       "    </tr>\n",
       "    <tr>\n",
       "      <th>6</th>\n",
       "      <td>-7.0</td>\n",
       "      <td>0.691782</td>\n",
       "    </tr>\n",
       "    <tr>\n",
       "      <th>7</th>\n",
       "      <td>-6.5</td>\n",
       "      <td>-0.287156</td>\n",
       "    </tr>\n",
       "    <tr>\n",
       "      <th>8</th>\n",
       "      <td>-6.0</td>\n",
       "      <td>-2.448934</td>\n",
       "    </tr>\n",
       "    <tr>\n",
       "      <th>9</th>\n",
       "      <td>-5.5</td>\n",
       "      <td>-4.772255</td>\n",
       "    </tr>\n",
       "    <tr>\n",
       "      <th>10</th>\n",
       "      <td>-5.0</td>\n",
       "      <td>-5.901535</td>\n",
       "    </tr>\n",
       "    <tr>\n",
       "      <th>11</th>\n",
       "      <td>-4.5</td>\n",
       "      <td>-6.494748</td>\n",
       "    </tr>\n",
       "    <tr>\n",
       "      <th>12</th>\n",
       "      <td>-4.0</td>\n",
       "      <td>-8.986852</td>\n",
       "    </tr>\n",
       "    <tr>\n",
       "      <th>13</th>\n",
       "      <td>-3.5</td>\n",
       "      <td>-10.462467</td>\n",
       "    </tr>\n",
       "    <tr>\n",
       "      <th>14</th>\n",
       "      <td>-3.0</td>\n",
       "      <td>-11.337225</td>\n",
       "    </tr>\n",
       "    <tr>\n",
       "      <th>15</th>\n",
       "      <td>-2.5</td>\n",
       "      <td>-12.612173</td>\n",
       "    </tr>\n",
       "    <tr>\n",
       "      <th>16</th>\n",
       "      <td>-2.0</td>\n",
       "      <td>-13.668663</td>\n",
       "    </tr>\n",
       "    <tr>\n",
       "      <th>17</th>\n",
       "      <td>-1.5</td>\n",
       "      <td>-14.584911</td>\n",
       "    </tr>\n",
       "    <tr>\n",
       "      <th>18</th>\n",
       "      <td>-1.0</td>\n",
       "      <td>-14.249362</td>\n",
       "    </tr>\n",
       "    <tr>\n",
       "      <th>19</th>\n",
       "      <td>-0.5</td>\n",
       "      <td>-14.320211</td>\n",
       "    </tr>\n",
       "    <tr>\n",
       "      <th>20</th>\n",
       "      <td>0.0</td>\n",
       "      <td>-14.735122</td>\n",
       "    </tr>\n",
       "    <tr>\n",
       "      <th>21</th>\n",
       "      <td>0.5</td>\n",
       "      <td>-15.950782</td>\n",
       "    </tr>\n",
       "    <tr>\n",
       "      <th>22</th>\n",
       "      <td>1.0</td>\n",
       "      <td>-16.704100</td>\n",
       "    </tr>\n",
       "    <tr>\n",
       "      <th>23</th>\n",
       "      <td>1.5</td>\n",
       "      <td>-16.855833</td>\n",
       "    </tr>\n",
       "    <tr>\n",
       "      <th>24</th>\n",
       "      <td>2.0</td>\n",
       "      <td>-17.472167</td>\n",
       "    </tr>\n",
       "    <tr>\n",
       "      <th>25</th>\n",
       "      <td>2.5</td>\n",
       "      <td>-18.104139</td>\n",
       "    </tr>\n",
       "    <tr>\n",
       "      <th>26</th>\n",
       "      <td>3.0</td>\n",
       "      <td>-18.368605</td>\n",
       "    </tr>\n",
       "    <tr>\n",
       "      <th>27</th>\n",
       "      <td>3.5</td>\n",
       "      <td>-15.842328</td>\n",
       "    </tr>\n",
       "    <tr>\n",
       "      <th>28</th>\n",
       "      <td>4.0</td>\n",
       "      <td>-13.041534</td>\n",
       "    </tr>\n",
       "    <tr>\n",
       "      <th>29</th>\n",
       "      <td>4.5</td>\n",
       "      <td>-10.339456</td>\n",
       "    </tr>\n",
       "    <tr>\n",
       "      <th>30</th>\n",
       "      <td>5.0</td>\n",
       "      <td>-7.229010</td>\n",
       "    </tr>\n",
       "    <tr>\n",
       "      <th>31</th>\n",
       "      <td>5.5</td>\n",
       "      <td>-4.685715</td>\n",
       "    </tr>\n",
       "    <tr>\n",
       "      <th>32</th>\n",
       "      <td>6.0</td>\n",
       "      <td>-1.368418</td>\n",
       "    </tr>\n",
       "    <tr>\n",
       "      <th>33</th>\n",
       "      <td>6.5</td>\n",
       "      <td>0.770054</td>\n",
       "    </tr>\n",
       "    <tr>\n",
       "      <th>34</th>\n",
       "      <td>7.0</td>\n",
       "      <td>2.450973</td>\n",
       "    </tr>\n",
       "    <tr>\n",
       "      <th>35</th>\n",
       "      <td>7.5</td>\n",
       "      <td>4.552373</td>\n",
       "    </tr>\n",
       "    <tr>\n",
       "      <th>36</th>\n",
       "      <td>8.0</td>\n",
       "      <td>6.280342</td>\n",
       "    </tr>\n",
       "    <tr>\n",
       "      <th>37</th>\n",
       "      <td>8.5</td>\n",
       "      <td>9.437705</td>\n",
       "    </tr>\n",
       "    <tr>\n",
       "      <th>38</th>\n",
       "      <td>9.0</td>\n",
       "      <td>11.031497</td>\n",
       "    </tr>\n",
       "    <tr>\n",
       "      <th>39</th>\n",
       "      <td>9.5</td>\n",
       "      <td>13.784072</td>\n",
       "    </tr>\n",
       "    <tr>\n",
       "      <th>40</th>\n",
       "      <td>10.0</td>\n",
       "      <td>16.379244</td>\n",
       "    </tr>\n",
       "    <tr>\n",
       "      <th>41</th>\n",
       "      <td>10.5</td>\n",
       "      <td>19.517818</td>\n",
       "    </tr>\n",
       "    <tr>\n",
       "      <th>42</th>\n",
       "      <td>11.0</td>\n",
       "      <td>21.415713</td>\n",
       "    </tr>\n",
       "    <tr>\n",
       "      <th>43</th>\n",
       "      <td>11.5</td>\n",
       "      <td>24.629414</td>\n",
       "    </tr>\n",
       "    <tr>\n",
       "      <th>44</th>\n",
       "      <td>12.0</td>\n",
       "      <td>26.832719</td>\n",
       "    </tr>\n",
       "  </tbody>\n",
       "</table>\n",
       "</div>"
      ],
      "text/plain": [
       "       X          y\n",
       "0  -10.0  11.042641\n",
       "1   -9.5   8.584145\n",
       "2   -9.0   7.351442\n",
       "3   -8.5   6.349049\n",
       "4   -8.0   4.846063\n",
       "5   -7.5   2.795657\n",
       "6   -7.0   0.691782\n",
       "7   -6.5  -0.287156\n",
       "8   -6.0  -2.448934\n",
       "9   -5.5  -4.772255\n",
       "10  -5.0  -5.901535\n",
       "11  -4.5  -6.494748\n",
       "12  -4.0  -8.986852\n",
       "13  -3.5 -10.462467\n",
       "14  -3.0 -11.337225\n",
       "15  -2.5 -12.612173\n",
       "16  -2.0 -13.668663\n",
       "17  -1.5 -14.584911\n",
       "18  -1.0 -14.249362\n",
       "19  -0.5 -14.320211\n",
       "20   0.0 -14.735122\n",
       "21   0.5 -15.950782\n",
       "22   1.0 -16.704100\n",
       "23   1.5 -16.855833\n",
       "24   2.0 -17.472167\n",
       "25   2.5 -18.104139\n",
       "26   3.0 -18.368605\n",
       "27   3.5 -15.842328\n",
       "28   4.0 -13.041534\n",
       "29   4.5 -10.339456\n",
       "30   5.0  -7.229010\n",
       "31   5.5  -4.685715\n",
       "32   6.0  -1.368418\n",
       "33   6.5   0.770054\n",
       "34   7.0   2.450973\n",
       "35   7.5   4.552373\n",
       "36   8.0   6.280342\n",
       "37   8.5   9.437705\n",
       "38   9.0  11.031497\n",
       "39   9.5  13.784072\n",
       "40  10.0  16.379244\n",
       "41  10.5  19.517818\n",
       "42  11.0  21.415713\n",
       "43  11.5  24.629414\n",
       "44  12.0  26.832719"
      ]
     },
     "execution_count": 6,
     "metadata": {},
     "output_type": "execute_result"
    }
   ],
   "source": [
    "df"
   ]
  },
  {
   "cell_type": "markdown",
   "metadata": {},
   "source": [
    "Graph of these points"
   ]
  },
  {
   "cell_type": "code",
   "execution_count": 7,
   "metadata": {},
   "outputs": [
    {
     "data": {
      "image/png": "[encoded data removed]",
      "text/plain": [
       "<Figure size 720x720 with 1 Axes>"
      ]
     },
     "metadata": {
      "needs_background": "light"
     },
     "output_type": "display_data"
    }
   ],
   "source": [
    "figure(figsize=(10,10))\n",
    "plt.scatter(df['X'], df['y'], color = 'red', label = 'All points')\n",
    "\n",
    "plt.xlabel('X axis', size = 17)\n",
    "plt.ylabel('y axis', size = 17)\n",
    "\n",
    "plt.legend()\n",
    "plt.show()"
   ]
  },
  {
   "cell_type": "markdown",
   "metadata": {},
   "source": [
    "Separating the train set and the test set"
   ]
  },
  {
   "cell_type": "code",
   "execution_count": 8,
   "metadata": {},
   "outputs": [],
   "source": [
    "X_train, X_test, y_train, y_test = train_test_split(X, y, test_size=0.30, random_state=10)"
   ]
  },
  {
   "cell_type": "code",
   "execution_count": 9,
   "metadata": {},
   "outputs": [],
   "source": [
    "train = pd.DataFrame()\n",
    "test = pd.DataFrame()"
   ]
  },
  {
   "cell_type": "code",
   "execution_count": 10,
   "metadata": {},
   "outputs": [],
   "source": [
    "train['X'] = pd.Series(X_train).astype(float)\n",
    "train['y'] = pd.Series(y_train).astype(float)"
   ]
  },
  {
   "cell_type": "code",
   "execution_count": 11,
   "metadata": {},
   "outputs": [],
   "source": [
    "test['X'] = pd.Series(X_test).astype(float)\n",
    "test['y'] = pd.Series(y_test).astype(float)"
   ]
  },
  {
   "cell_type": "markdown",
   "metadata": {},
   "source": [
    "Graph of train and test set"
   ]
  },
  {
   "cell_type": "code",
   "execution_count": 12,
   "metadata": {},
   "outputs": [
    {
     "data": {
      "image/png": "[encoded data removed]",
      "text/plain": [
       "<Figure size 720x720 with 1 Axes>"
      ]
     },
     "metadata": {
      "needs_background": "light"
     },
     "output_type": "display_data"
    }
   ],
   "source": [
    "figure(figsize=(10,10))\n",
    "plt.scatter(train['X'], train['y'], color = 'red', label = 'Training points')\n",
    "plt.scatter(test['X'], test['y'], color = 'blue', label = 'Testing points')\n",
    "\n",
    "plt.xlabel('X axis', size = 17)\n",
    "plt.ylabel('y axis', size = 17)\n",
    "\n",
    "plt.legend()\n",
    "plt.show()"
   ]
  },
  {
   "cell_type": "markdown",
   "metadata": {},
   "source": [
    "### Mathematical Development"
   ]
  },
  {
   "cell_type": "markdown",
   "metadata": {},
   "source": [
    "First of all, we must to say exists two ways of to do this aasemblie. The first \"Left to the right\" and the second \"Right to the left\"."
   ]
  },
  {
   "cell_type": "markdown",
   "metadata": {},
   "source": [
    "### $ \\underline{1. \\ Left \\ \\ to \\ \\ the \\ \\ right:} $"
   ]
  },
  {
   "cell_type": "markdown",
   "metadata": {},
   "source": [
    "We will consider three functions: "
   ]
  },
  {
   "cell_type": "markdown",
   "metadata": {},
   "source": [
    "$ f_1(x) = \\alpha_1^{left} \\cdot x + \\alpha_0^{left} \\ \\ \\  $ for $ \\ \\ \\ a \\leq x \\leq v_1 $\n",
    "\n",
    "$ f_2(x) = \\beta_1^{left} \\cdot x + \\beta_0^{left} \\ \\ \\  $ for $ \\ \\ \\ v_1 \\leq x \\leq v_2 $\n",
    "\n",
    "$ f_3(x) = \\gamma_1^{left} \\cdot x + \\gamma_0^{left} \\ \\ \\  $ for $ \\ \\ \\ v_2 \\leq x \\leq b $"
   ]
  },
  {
   "cell_type": "markdown",
   "metadata": {},
   "source": [
    "*$\\underline{Step \\ 1:}$* We estimate the values of $ \\alpha_1^{left} $ and $ \\alpha_0^{left}$. From now on, we will write the known values with green color and the unkown values with red color. "
   ]
  },
  {
   "cell_type": "markdown",
   "metadata": {},
   "source": [
    "*$\\underline{Step \\ 2:}$* For the union of the first and second function to be continued we need the following equation is fulfilled:"
   ]
  },
  {
   "cell_type": "markdown",
   "metadata": {},
   "source": [
    "$ f_1(v_1) = f_2(v_1) $\n",
    "\n",
    "$ \\Rightarrow $\n",
    "\n",
    "$ \\textcolor{green}{\\alpha_1^{left}} \\cdot \\textcolor{green}{v_1} + \\textcolor{green}{\\alpha_0^{left}} = \\textcolor{red}{\\beta_1^{left}} \\cdot \\textcolor{green}{v_1} + \\textcolor{red}{\\beta_0^{left}} $\n",
    "\n",
    "$ \\Rightarrow $\n",
    "\n",
    "$ \\boxed{\\textcolor{red}{\\beta_0^{left}} = \\textcolor{green}{\\alpha_1^{left}} \\cdot \\textcolor{green}{v_1} + \\textcolor{green}{\\alpha_0^{left}} -  \\textcolor{red}{\\beta_1^{left}} \\cdot \\textcolor{green}{v_1}} \\ \\ \\ (1)  $"
   ]
  },
  {
   "cell_type": "markdown",
   "metadata": {},
   "source": [
    "Substituting this result in $ f_2(x)$ we obtain:"
   ]
  },
  {
   "cell_type": "markdown",
   "metadata": {},
   "source": [
    "$ f_2(x) = \\textcolor{red}{\\beta_1^{left}} \\cdot x + \\textcolor{green}{\\alpha_1^{left}} \\cdot \\textcolor{green}{v_1} + \\textcolor{green}{\\alpha_0^{left}} -  \\textcolor{red}{\\beta_1^{left}} \\cdot \\textcolor{green}{v_1} $ \n",
    "\n",
    "$ \\Rightarrow $\n",
    "\n",
    "$ f_2(x) - (\\textcolor{green}{\\alpha_1^{left}} \\cdot \\textcolor{green}{v_1} + \\textcolor{green}{\\alpha_0^{left}}) = \\textcolor{red}{\\beta_1^{left}} \\cdot (x-\\textcolor{green}{v_1}) $ "
   ]
  },
  {
   "cell_type": "markdown",
   "metadata": {},
   "source": [
    "We create the next new variables:\n",
    "\n",
    "$ u_2 = f_2(x) - (\\textcolor{green}{\\alpha_1^{left}} \\cdot \\textcolor{green}{v_1} + \\textcolor{green}{\\alpha_0^{left}}) $\n",
    "\n",
    "$ W_2 = x - \\textcolor{green}{v_1} $"
   ]
  },
  {
   "cell_type": "markdown",
   "metadata": {},
   "source": [
    "Thus we have the next linear regressión without intercept:"
   ]
  },
  {
   "cell_type": "markdown",
   "metadata": {},
   "source": [
    "$ u_2 = \\textcolor{red}{\\beta_1^{left}} \\cdot W_2 $"
   ]
  },
  {
   "cell_type": "markdown",
   "metadata": {},
   "source": [
    "Once we have the value $ \\textcolor{red}{\\beta_1^{left}} $ we replaced this value in $(1)$ to obtain the value of $ \\textcolor{red}{\\beta_0^{left}} $."
   ]
  },
  {
   "cell_type": "markdown",
   "metadata": {},
   "source": [
    "*$\\underline{Step \\ 3:}$* For the union of the second and third function to be continued we need the following equation is fulfilled:"
   ]
  },
  {
   "cell_type": "markdown",
   "metadata": {},
   "source": [
    "$ f_2(v_2) = f_3(v_2) $"
   ]
  },
  {
   "cell_type": "markdown",
   "metadata": {},
   "source": [
    "$ \\Rightarrow $\n",
    "\n",
    "$ \\textcolor{green}{\\beta_1^{left}} \\cdot \\textcolor{green}{v_2} + \\textcolor{green}{\\beta_0^{left}} = \\textcolor{red}{\\gamma_1^{left}} \\cdot \\textcolor{green}{v_2} + \\textcolor{red}{\\gamma_0^{left}} $\n",
    "\n",
    "$ \\Rightarrow $\n",
    "\n",
    "$ \\boxed{\\textcolor{red}{\\gamma_0^{left}} = \\textcolor{green}{\\beta_1^{left}} \\cdot \\textcolor{green}{v_2} + \\textcolor{green}{\\beta_0^{left}} -  \\textcolor{red}{\\gamma_1^{left}} \\cdot \\textcolor{green}{v_2}} \\ \\ \\ (2)  $"
   ]
  },
  {
   "cell_type": "markdown",
   "metadata": {},
   "source": [
    "Substituting this result in $ f_3(x)$ we obtain:"
   ]
  },
  {
   "cell_type": "markdown",
   "metadata": {},
   "source": [
    "\n",
    "$ f_3(x) = \\textcolor{red}{\\gamma_1^{left}} \\cdot x + \\textcolor{green}{\\beta_1^{left}} \\cdot \\textcolor{green}{v_2} + \\textcolor{green}{\\beta_0^{left}} -  \\textcolor{red}{\\gamma_1^{left}} \\cdot \\textcolor{green}{v_2} $ \n",
    "\n",
    "$ \\Rightarrow $\n",
    "\n",
    "$ f_2(x) - (\\textcolor{green}{\\beta_1^{left}} \\cdot \\textcolor{green}{v_2} + \\textcolor{green}{\\beta_0^{left}}) = \\textcolor{red}{\\gamma_1^{left}} \\cdot (x-\\textcolor{green}{v_2}) $ "
   ]
  },
  {
   "cell_type": "markdown",
   "metadata": {},
   "source": [
    "We create the next new variables:"
   ]
  },
  {
   "cell_type": "markdown",
   "metadata": {},
   "source": [
    "$ u_3 = f_3(x) - (\\textcolor{green}{\\beta_1^{left}} \\cdot \\textcolor{green}{v_2} + \\textcolor{green}{\\beta_0^{left}}) $\n",
    "\n",
    "$ W_3 = x - \\textcolor{green}{v_2} $"
   ]
  },
  {
   "cell_type": "markdown",
   "metadata": {},
   "source": [
    "Thus we have the next linear regressión without intercept:"
   ]
  },
  {
   "cell_type": "markdown",
   "metadata": {},
   "source": [
    "$ u_3 = \\textcolor{red}{\\gamma_1^{left}} \\cdot W_3 $"
   ]
  },
  {
   "cell_type": "markdown",
   "metadata": {},
   "source": [
    "Once we have the value $ \\textcolor{red}{\\gamma_1^{left}} $ we replaced this value in $(2)$ to obtain the value of $ \\textcolor{red}{\\gamma_0^{left}} $."
   ]
  },
  {
   "cell_type": "markdown",
   "metadata": {},
   "source": [
    "### $ \\underline{2. \\ Right \\ \\ to \\ \\ the \\ \\ left:} $"
   ]
  },
  {
   "cell_type": "markdown",
   "metadata": {},
   "source": [
    "We will consider three functions: "
   ]
  },
  {
   "cell_type": "markdown",
   "metadata": {},
   "source": [
    "$ f_1(x) = \\alpha_1^{right} \\cdot x + \\alpha_0^{right} \\ \\ \\  $ for $ \\ \\ \\ a \\leq x \\leq v_1 $\n",
    "\n",
    "$ f_2(x) = \\beta_1^{right} \\cdot x + \\beta_0^{right} \\ \\ \\  $ for $ \\ \\ \\ v_1 \\leq x \\leq v_2 $\n",
    "\n",
    "$ f_3(x) = \\gamma_1^{right} \\cdot x + \\gamma_0^{right} \\ \\ \\  $ for $ \\ \\ \\ v_2 \\leq x \\leq b $"
   ]
  },
  {
   "cell_type": "markdown",
   "metadata": {},
   "source": [
    "*$\\underline{Step \\ 1:}$* We estimate the values of $ \\gamma_1^{right} $ and $ \\gamma_0^{right}$. From now on, we will write the known values with green color and the unkown values with red color. "
   ]
  },
  {
   "cell_type": "markdown",
   "metadata": {},
   "source": [
    "*$\\underline{Step \\ 2:}$* For the union of the second and third function to be continued we need the following equation is fulfilled:"
   ]
  },
  {
   "cell_type": "markdown",
   "metadata": {},
   "source": [
    "$ f_3(v_2) = f_2(v_2) $\n",
    "\n",
    "$ \\Rightarrow $\n",
    "\n",
    "$ \\textcolor{green}{\\gamma_1^{right}} \\cdot \\textcolor{green}{v_2} + \\textcolor{green}{\\gamma_0^{right}} = \\textcolor{red}{\\beta_1^{right}} \\cdot \\textcolor{green}{v_2} + \\textcolor{red}{\\beta_0^{right}} $\n",
    "\n",
    "$ \\Rightarrow $"
   ]
  },
  {
   "cell_type": "markdown",
   "metadata": {},
   "source": [
    "$ \\boxed{\\textcolor{red}{\\beta_0^{right}} = \\textcolor{green}{\\gamma_1^{right}} \\cdot \\textcolor{green}{v_2} + \\textcolor{green}{\\gamma_0^{right}} -  \\textcolor{red}{\\beta_1^{right}} \\cdot \\textcolor{green}{v_2}} \\ \\ \\ (3)  $"
   ]
  },
  {
   "cell_type": "markdown",
   "metadata": {},
   "source": [
    "Substituting this result in $ f_2(x)$ we obtain:"
   ]
  },
  {
   "cell_type": "markdown",
   "metadata": {},
   "source": [
    "$ f_2(x) = \\textcolor{red}{\\beta_1^{right}} \\cdot x + \\textcolor{green}{\\gamma_1^{right}} \\cdot \\textcolor{green}{v_2} + \\textcolor{green}{\\gamma_0^{right}} -  \\textcolor{red}{\\beta_1^{right}} \\cdot \\textcolor{green}{v_2} $ \n",
    "\n",
    "$ \\Rightarrow $"
   ]
  },
  {
   "cell_type": "markdown",
   "metadata": {},
   "source": [
    "$ f_2(x) - (\\textcolor{green}{\\gamma_1^{right}} \\cdot \\textcolor{green}{v_2} + \\textcolor{green}{\\gamma_0^{right}}) = \\textcolor{red}{\\beta_1^{right}} \\cdot (x-\\textcolor{green}{v_2}) $ "
   ]
  },
  {
   "cell_type": "markdown",
   "metadata": {},
   "source": [
    "We create the next new variables:"
   ]
  },
  {
   "cell_type": "markdown",
   "metadata": {},
   "source": [
    "$ u_2 = f_2(x) - (\\textcolor{green}{\\gamma_1^{right}} \\cdot \\textcolor{green}{v_2} + \\textcolor{green}{\\gamma_0^{right}}) $\n",
    "\n",
    "$ W_2 = x - \\textcolor{green}{v_2} $"
   ]
  },
  {
   "cell_type": "markdown",
   "metadata": {},
   "source": [
    "Thus we have the next linear regressión without intercept:"
   ]
  },
  {
   "cell_type": "markdown",
   "metadata": {},
   "source": [
    "$ u_2 = \\textcolor{red}{\\beta_1^{right}} \\cdot W_2 $"
   ]
  },
  {
   "cell_type": "markdown",
   "metadata": {},
   "source": [
    "Once we have the value $ \\textcolor{red}{\\beta_1^{right}} $ we replaced this value in $(3)$ to obtain the value of $ \\textcolor{red}{\\beta_0^{right}} $."
   ]
  },
  {
   "cell_type": "markdown",
   "metadata": {},
   "source": [
    "*$\\underline{Step \\ 3:}$* For the union of the first and second function to be continued we need the following equation is fulfilled:"
   ]
  },
  {
   "cell_type": "markdown",
   "metadata": {},
   "source": [
    "$ f_2(v_1) = f_1(v_1) $\n",
    "\n",
    "$ \\Rightarrow $\n",
    "\n",
    "$ \\textcolor{green}{\\beta_1^{right}} \\cdot \\textcolor{green}{v_1} + \\textcolor{green}{\\beta_0^{right}} = \\textcolor{red}{\\alpha_1^{right}} \\cdot \\textcolor{green}{v_1} + \\textcolor{red}{\\alpha_0^{right}} $\n",
    "\n",
    "$ \\Rightarrow $"
   ]
  },
  {
   "cell_type": "markdown",
   "metadata": {},
   "source": [
    "$ \\boxed{\\textcolor{red}{\\alpha_0^{right}} = \\textcolor{green}{\\beta_1^{right}} \\cdot \\textcolor{green}{v_1} + \\textcolor{green}{\\beta_0^{right}} -  \\textcolor{red}{\\alpha_1^{right}} \\cdot \\textcolor{green}{v_1}} \\ \\ \\ (4)  $"
   ]
  },
  {
   "cell_type": "markdown",
   "metadata": {},
   "source": [
    "Substituting this result in $ f_1(x)$ we obtain:"
   ]
  },
  {
   "cell_type": "markdown",
   "metadata": {},
   "source": [
    "$ f_1(x) = \\textcolor{red}{\\alpha_1^{right}} \\cdot x + \\textcolor{green}{\\beta_1^{right}} \\cdot \\textcolor{green}{v_1} + \\textcolor{green}{\\beta_0^{right}} -  \\textcolor{red}{\\alpha_1^{right}} \\cdot \\textcolor{green}{v_1} $ \n",
    "\n",
    "$ \\Rightarrow $"
   ]
  },
  {
   "cell_type": "markdown",
   "metadata": {},
   "source": [
    "$ f_1(x) - (\\textcolor{green}{\\beta_1^{right}} \\cdot \\textcolor{green}{v_1} + \\textcolor{green}{\\beta_0^{right}}) = \\textcolor{red}{\\alpha_1^{right}} \\cdot (x-\\textcolor{green}{v_1}) $ "
   ]
  },
  {
   "cell_type": "markdown",
   "metadata": {},
   "source": [
    "We create the next new variables:"
   ]
  },
  {
   "cell_type": "markdown",
   "metadata": {},
   "source": [
    "$ u_1 = f_1(x) - (\\textcolor{green}{\\beta_1^{right}} \\cdot \\textcolor{green}{v_1} + \\textcolor{green}{\\beta_0^{right}}) $\n",
    "\n",
    "$ W_1 = x - \\textcolor{green}{v_1} $"
   ]
  },
  {
   "cell_type": "markdown",
   "metadata": {},
   "source": [
    "Thus we have the next linear regressión without intercept:"
   ]
  },
  {
   "cell_type": "markdown",
   "metadata": {},
   "source": [
    "$ u_1 = \\textcolor{red}{\\alpha_1^{right}} \\cdot W_1 $"
   ]
  },
  {
   "cell_type": "markdown",
   "metadata": {},
   "source": [
    "Once we have the value $ \\textcolor{red}{\\alpha_1^{right}} $ we replaced this value in $(4)$ to obtain the value of $ \\textcolor{red}{\\alpha_0^{right}} $."
   ]
  },
  {
   "cell_type": "markdown",
   "metadata": {},
   "source": [
    "### Training"
   ]
  },
  {
   "cell_type": "code",
   "execution_count": 13,
   "metadata": {},
   "outputs": [],
   "source": [
    "f_1 = (train['X'] <= v_1)\n",
    "f_2 = (train['X'] <= v_2) & (train['X'] > v_1)\n",
    "f_3 = (train['X'] > v_2)"
   ]
  },
  {
   "cell_type": "code",
   "execution_count": 14,
   "metadata": {},
   "outputs": [],
   "source": [
    "f_1_test = (test['X'] <= v_1)\n",
    "f_2_test = (test['X'] <= v_2) & (test['X'] > v_1)\n",
    "f_3_test = (test['X'] > v_2)"
   ]
  },
  {
   "cell_type": "code",
   "execution_count": 15,
   "metadata": {},
   "outputs": [],
   "source": [
    "X_1 = train[f_1][['X']].values\n",
    "y_1 = train[f_1]['y'].values"
   ]
  },
  {
   "cell_type": "code",
   "execution_count": 16,
   "metadata": {},
   "outputs": [],
   "source": [
    "X_2 = train[f_2][['X']].values\n",
    "y_2 = train[f_2]['y'].values"
   ]
  },
  {
   "cell_type": "code",
   "execution_count": 17,
   "metadata": {},
   "outputs": [],
   "source": [
    "X_3 = train[f_3][['X']].values\n",
    "y_3 = train[f_3]['y'].values"
   ]
  },
  {
   "cell_type": "markdown",
   "metadata": {},
   "source": [
    "### $ \\underline{1. \\ Left \\ \\ to \\ \\ the \\ \\ right:} $"
   ]
  },
  {
   "cell_type": "markdown",
   "metadata": {},
   "source": [
    "**a. First section**"
   ]
  },
  {
   "cell_type": "markdown",
   "metadata": {},
   "source": [
    "Normalizing variables"
   ]
  },
  {
   "cell_type": "code",
   "execution_count": 18,
   "metadata": {},
   "outputs": [],
   "source": [
    "X_1_norm = (X_1 - X_1.mean())/X_1.std()\n",
    "y_1_norm = (y_1 - y_1.mean())/y_1.std()"
   ]
  },
  {
   "cell_type": "code",
   "execution_count": 19,
   "metadata": {},
   "outputs": [],
   "source": [
    "reg_1_norm_left = LinearRegression().fit(X_1_norm, y_1_norm)"
   ]
  },
  {
   "cell_type": "code",
   "execution_count": 20,
   "metadata": {},
   "outputs": [],
   "source": [
    "alpha_1_norm_left = reg_1_norm_left.coef_[0]\n",
    "alpha_0_norm_left = reg_1_norm_left.intercept_"
   ]
  },
  {
   "cell_type": "code",
   "execution_count": 21,
   "metadata": {},
   "outputs": [
    {
     "data": {
      "text/plain": [
       "(-0.9973890629401794, 7.175021571436903e-17)"
      ]
     },
     "execution_count": 21,
     "metadata": {},
     "output_type": "execute_result"
    }
   ],
   "source": [
    "alpha_1_norm_left, alpha_0_norm_left"
   ]
  },
  {
   "cell_type": "markdown",
   "metadata": {},
   "source": [
    "We have:"
   ]
  },
  {
   "cell_type": "markdown",
   "metadata": {},
   "source": [
    "$ y_{1, norm} = \\alpha_{1, norm}^{left} \\cdot X_{1, norm} + \\alpha_{0, norm}^{left} $ \n",
    "\n",
    "$ \\Rightarrow $\n",
    "\n",
    "$ \\left( \\cfrac{y_1 - \\bar{y_1}}{\\sigma({y_1})} \\right) = \\alpha_{1, norm}^{left} \\cdot \\left( \\cfrac{X_1 - \\bar{X_1}}{\\sigma({X_1})} \\right) + \\alpha_{0, norm}^{left} $ \n",
    "\n",
    "$ \\Rightarrow $\n",
    "\n",
    "$ y_1 = \\textcolor{red}{\\left( \\cfrac{\\sigma(y_1)}{\\sigma(X_1)} \\cdot \\alpha_{1, norm}^{left} \\right)} \\cdot X_1 + \\textcolor{red}{ \\left( \\bar{y_1} + \\sigma(y_1) \\cdot \\alpha_{0, norm}^{left} -  \\cfrac{\\sigma(y_1)}{\\sigma(X_1)} \\cdot \\alpha_{1, norm}^{left} \\cdot \\bar{X_1} \\right)}  $ \n",
    "\n",
    "$ \\Rightarrow $\n",
    "\n",
    "$ \\boxed{\\alpha_{1, left} = \\textcolor{green}{\\left( \\cfrac{\\sigma(y_1)}{\\sigma(X_1)} \\cdot \\alpha_{1, norm}^{left} \\right)}} \\ \\ \\ (5) $ \n",
    "\n",
    "$ \\boxed{\\alpha_{0, left} =  \\textcolor{green}{ \\left( \\bar{y_1} + \\sigma(y_1) \\cdot \\alpha_{0, norm}^{left} -  \\cfrac{\\sigma(y_1)}{\\sigma(X_1)} \\cdot \\alpha_{1, norm}^{left} \\cdot \\bar{X_1} \\right)}} \\ \\ \\ (6) $ "
   ]
  },
  {
   "cell_type": "code",
   "execution_count": 22,
   "metadata": {},
   "outputs": [],
   "source": [
    "alpha_1_left = (y_1.std()/X_1.std())*alpha_1_norm_left"
   ]
  },
  {
   "cell_type": "code",
   "execution_count": 23,
   "metadata": {},
   "outputs": [],
   "source": [
    "alpha_0_left = y_1.mean() + y_1.std()*alpha_0_norm_left - (y_1.std()/X_1.std())*alpha_1_norm_left*X_1.mean()"
   ]
  },
  {
   "cell_type": "code",
   "execution_count": 24,
   "metadata": {},
   "outputs": [
    {
     "data": {
      "text/plain": [
       "(-3.134114552360378, -20.863864373715447)"
      ]
     },
     "execution_count": 24,
     "metadata": {},
     "output_type": "execute_result"
    }
   ],
   "source": [
    "alpha_1_left, alpha_0_left"
   ]
  },
  {
   "cell_type": "markdown",
   "metadata": {},
   "source": [
    "Graph"
   ]
  },
  {
   "cell_type": "code",
   "execution_count": 25,
   "metadata": {},
   "outputs": [
    {
     "data": {
      "image/png": "[encoded data removed]",
      "text/plain": [
       "<Figure size 720x720 with 1 Axes>"
      ]
     },
     "metadata": {
      "needs_background": "light"
     },
     "output_type": "display_data"
    }
   ],
   "source": [
    "figure(figsize=(10,10))\n",
    "plt.scatter(train[f_1]['X'], train[f_1]['y'], color = 'red', label = 'Training points S1')\n",
    "plt.scatter(test[f_1_test]['X'], test[f_1_test]['y'], color = 'blue', label = 'Testing points S1')\n",
    "plt.plot(train[f_1]['X'], alpha_1_left*train[f_1]['X'] + alpha_0_left, color = 'green', label = 'Linear Regression S1')\n",
    "\n",
    "plt.xlabel('X axis', size = 17)\n",
    "plt.ylabel('y axis', size = 17)\n",
    "\n",
    "plt.legend()\n",
    "plt.show()"
   ]
  },
  {
   "cell_type": "markdown",
   "metadata": {},
   "source": [
    "**b. Second section**"
   ]
  },
  {
   "cell_type": "code",
   "execution_count": 26,
   "metadata": {},
   "outputs": [],
   "source": [
    "u_2_left = train[f_2]['y'] - (alpha_1_left*v_1 + alpha_0_left)\n",
    "W_2_left = train[f_2][['X']] - v_1"
   ]
  },
  {
   "cell_type": "code",
   "execution_count": 27,
   "metadata": {},
   "outputs": [],
   "source": [
    "u_2_left_norm = u_2_left/u_2_left.std()\n",
    "W_2_left_norm = W_2_left/W_2_left.std()"
   ]
  },
  {
   "cell_type": "code",
   "execution_count": 28,
   "metadata": {},
   "outputs": [],
   "source": [
    "reg_2_norm_left = LinearRegression(fit_intercept=False).fit(W_2_left_norm, u_2_left_norm)"
   ]
  },
  {
   "cell_type": "code",
   "execution_count": 29,
   "metadata": {},
   "outputs": [],
   "source": [
    "beta_1_norm_left = reg_2_norm_left.coef_[0]"
   ]
  },
  {
   "cell_type": "code",
   "execution_count": 30,
   "metadata": {},
   "outputs": [
    {
     "data": {
      "text/plain": [
       "-0.7069960095439737"
      ]
     },
     "execution_count": 30,
     "metadata": {},
     "output_type": "execute_result"
    }
   ],
   "source": [
    "beta_1_norm_left"
   ]
  },
  {
   "cell_type": "markdown",
   "metadata": {},
   "source": [
    "We have:"
   ]
  },
  {
   "cell_type": "markdown",
   "metadata": {},
   "source": [
    "$ u_{2, norm}^{left} = \\beta_{1, norm}^{left} \\cdot W_{2, norm}^{left} $ \n",
    "\n",
    "$ \\cfrac{u_{2}^{left}}{\\sigma(u_{2}^{left})} = \\beta_{1, norm}^{left} \\cdot \\left( \\cfrac{W_{2}^{left}}{\\sigma(W_{2}^{left})} \\right) $ \n",
    "\n",
    "$ \\Rightarrow $\n",
    "\n",
    "$ u_{2}^{left} = \\textcolor{red}{\\left( \\beta_{1, norm}^{left} \\cdot  \\cfrac{\\sigma(u_{2}^{left})}{\\sigma(W_{2}^{left})} \\right)} \\cdot W_{2}^{left} $ \n",
    "\n",
    "$ \\Rightarrow $\n",
    "\n",
    "$ \\boxed{\\beta_1^{left} = \\textcolor{green}{\\left( \\beta_{1, norm}^{left} \\cdot  \\cfrac{\\sigma(u_{2}^{left})}{\\sigma(W_{2}^{left})} \\right)}} \\ \\ \\ (7) $"
   ]
  },
  {
   "cell_type": "code",
   "execution_count": 31,
   "metadata": {},
   "outputs": [],
   "source": [
    "beta_1_left = beta_1_norm_left*(u_2_left.std()/W_2_left.std()[0])"
   ]
  },
  {
   "cell_type": "code",
   "execution_count": 32,
   "metadata": {},
   "outputs": [
    {
     "data": {
      "text/plain": [
       "-0.7019494150936038"
      ]
     },
     "execution_count": 32,
     "metadata": {},
     "output_type": "execute_result"
    }
   ],
   "source": [
    "beta_1_left"
   ]
  },
  {
   "cell_type": "markdown",
   "metadata": {},
   "source": [
    "Remembering"
   ]
  },
  {
   "cell_type": "markdown",
   "metadata": {},
   "source": [
    "$ \\boxed{\\textcolor{red}{\\beta_0^{left}} = \\textcolor{green}{\\alpha_1^{left}} \\cdot \\textcolor{green}{v_1} + \\textcolor{green}{\\alpha_0^{left}} -  \\textcolor{red}{\\beta_1^{left}} \\cdot \\textcolor{green}{v_1}} \\ \\ \\ (1)  $"
   ]
  },
  {
   "cell_type": "code",
   "execution_count": 33,
   "metadata": {},
   "outputs": [],
   "source": [
    "beta_0_left = alpha_1_left*v_1 + alpha_0_left - beta_1_left*v_1"
   ]
  },
  {
   "cell_type": "code",
   "execution_count": 34,
   "metadata": {},
   "outputs": [
    {
     "data": {
      "text/plain": [
       "(-0.7019494150936038, -15.999534099181899)"
      ]
     },
     "execution_count": 34,
     "metadata": {},
     "output_type": "execute_result"
    }
   ],
   "source": [
    "beta_1_left, beta_0_left"
   ]
  },
  {
   "cell_type": "markdown",
   "metadata": {},
   "source": [
    "Graph"
   ]
  },
  {
   "cell_type": "code",
   "execution_count": 35,
   "metadata": {},
   "outputs": [
    {
     "data": {
      "image/png": "[encoded data removed]",
      "text/plain": [
       "<Figure size 720x720 with 1 Axes>"
      ]
     },
     "metadata": {
      "needs_background": "light"
     },
     "output_type": "display_data"
    }
   ],
   "source": [
    "figure(figsize=(10,10))\n",
    "plt.scatter(train[f_2]['X'], train[f_2]['y'], color = 'red', label = 'Training points S2')\n",
    "plt.scatter(test[f_2_test]['X'], test[f_2_test]['y'], color = 'blue', label = 'Testing points S2')\n",
    "plt.plot(train[f_2]['X'], beta_1_left*train[f_2]['X'] + beta_0_left, color = 'green', label = 'Linear Regression S2')\n",
    "\n",
    "plt.xlabel('X axis', size = 17)\n",
    "plt.ylabel('y axis', size = 17)\n",
    "\n",
    "plt.legend()\n",
    "plt.show()"
   ]
  },
  {
   "cell_type": "markdown",
   "metadata": {},
   "source": [
    "**c. Third section**"
   ]
  },
  {
   "cell_type": "code",
   "execution_count": 36,
   "metadata": {},
   "outputs": [],
   "source": [
    "u_3_left = train[f_3]['y'] - (beta_1_left*v_2 + beta_0_left)\n",
    "W_3_left = train[f_3][['X']] - v_2"
   ]
  },
  {
   "cell_type": "code",
   "execution_count": 37,
   "metadata": {},
   "outputs": [],
   "source": [
    "u_3_left_norm = u_3_left/u_3_left.std()\n",
    "W_3_left_norm = W_3_left/W_3_left.std()"
   ]
  },
  {
   "cell_type": "code",
   "execution_count": 38,
   "metadata": {},
   "outputs": [],
   "source": [
    "reg_3_norm_left = LinearRegression(fit_intercept=False).fit(W_3_left_norm, u_3_left_norm)"
   ]
  },
  {
   "cell_type": "code",
   "execution_count": 39,
   "metadata": {},
   "outputs": [],
   "source": [
    "gamma_1_norm_left = reg_3_norm_left.coef_[0]"
   ]
  },
  {
   "cell_type": "code",
   "execution_count": 40,
   "metadata": {},
   "outputs": [
    {
     "data": {
      "text/plain": [
       "1.012364732616534"
      ]
     },
     "execution_count": 40,
     "metadata": {},
     "output_type": "execute_result"
    }
   ],
   "source": [
    "gamma_1_norm_left"
   ]
  },
  {
   "cell_type": "markdown",
   "metadata": {},
   "source": [
    "We have:"
   ]
  },
  {
   "cell_type": "markdown",
   "metadata": {},
   "source": [
    "$ u_{3, norm}^{left} = \\gamma_{1, norm}^{left} \\cdot W_{3, norm}^{left} $ \n",
    "\n",
    "$ \\cfrac{u_{3}^{left}}{\\sigma(u_{3}^{left})} = \\gamma_{1, norm}^{left} \\cdot \\left( \\cfrac{W_{3}^{left}}{\\sigma(W_{3}^{left})} \\right) $ \n",
    "\n",
    "$ \\Rightarrow $\n",
    "\n",
    "$ u_{3}^{left} = \\textcolor{red}{\\left( \\gamma_{1, norm}^{left} \\cdot  \\cfrac{\\sigma(u_{3}^{left})}{\\sigma(W_{3}^{left})} \\right)} \\cdot W_{3}^{left} $ \n",
    "\n",
    "$ \\Rightarrow $\n",
    "\n",
    "$ \\boxed{\\gamma_1^{left} = \\textcolor{green}{\\left( \\gamma_{1, norm}^{left} \\cdot  \\cfrac{\\sigma(u_{3}^{left})}{\\sigma(W_{3}^{left})} \\right)}} \\ \\ \\ (8) $"
   ]
  },
  {
   "cell_type": "code",
   "execution_count": 41,
   "metadata": {},
   "outputs": [],
   "source": [
    "gamma_1_left = gamma_1_norm_left*(u_3_left.std()/W_3_left.std()[0])"
   ]
  },
  {
   "cell_type": "code",
   "execution_count": 42,
   "metadata": {},
   "outputs": [
    {
     "data": {
      "text/plain": [
       "4.996909148803505"
      ]
     },
     "execution_count": 42,
     "metadata": {},
     "output_type": "execute_result"
    }
   ],
   "source": [
    "gamma_1_left"
   ]
  },
  {
   "cell_type": "markdown",
   "metadata": {},
   "source": [
    "Remembering"
   ]
  },
  {
   "cell_type": "markdown",
   "metadata": {},
   "source": [
    "$ \\boxed{\\textcolor{red}{\\gamma_0^{left}} = \\textcolor{green}{\\beta_1^{left}} \\cdot \\textcolor{green}{v_2} + \\textcolor{green}{\\beta_0^{left}} -  \\textcolor{red}{\\gamma_1^{left}} \\cdot \\textcolor{green}{v_2}} \\ \\ \\ (2)  $"
   ]
  },
  {
   "cell_type": "code",
   "execution_count": 43,
   "metadata": {},
   "outputs": [],
   "source": [
    "gamma_0_left = beta_1_left*v_2 + beta_0_left - gamma_1_left*v_2"
   ]
  },
  {
   "cell_type": "code",
   "execution_count": 44,
   "metadata": {},
   "outputs": [
    {
     "data": {
      "text/plain": [
       "(4.996909148803505, -33.09610979087323)"
      ]
     },
     "execution_count": 44,
     "metadata": {},
     "output_type": "execute_result"
    }
   ],
   "source": [
    "gamma_1_left, gamma_0_left"
   ]
  },
  {
   "cell_type": "markdown",
   "metadata": {},
   "source": [
    "Graph"
   ]
  },
  {
   "cell_type": "code",
   "execution_count": 45,
   "metadata": {},
   "outputs": [
    {
     "data": {
      "image/png": "[encoded data removed]",
      "text/plain": [
       "<Figure size 720x720 with 1 Axes>"
      ]
     },
     "metadata": {
      "needs_background": "light"
     },
     "output_type": "display_data"
    }
   ],
   "source": [
    "figure(figsize=(10,10))\n",
    "plt.scatter(train[f_3]['X'], train[f_3]['y'], color = 'red', label = 'Training points S3')\n",
    "plt.scatter(test[f_3_test]['X'], test[f_3_test]['y'], color = 'blue', label = 'Testing points S3')\n",
    "plt.plot(train[f_3]['X'], gamma_1_left*train[f_3]['X'] + gamma_0_left, color = 'green', label = 'Linear Regression S3')\n",
    "\n",
    "plt.xlabel('X axis', size = 17)\n",
    "plt.ylabel('y axis', size = 17)\n",
    "\n",
    "plt.legend()\n",
    "plt.show()"
   ]
  },
  {
   "cell_type": "markdown",
   "metadata": {},
   "source": [
    "$ \\underline{Assemblie \\ \\ of \\ \\ all \\ \\ points:} $"
   ]
  },
  {
   "cell_type": "code",
   "execution_count": 46,
   "metadata": {},
   "outputs": [],
   "source": [
    "x_train_left = list(train['X'].sort_values())"
   ]
  },
  {
   "cell_type": "code",
   "execution_count": 47,
   "metadata": {},
   "outputs": [],
   "source": [
    "y_pred_train_left = []\n",
    "\n",
    "for x in x_train_left:\n",
    "    if x <= v_1:\n",
    "        y_pred_train_left.append(alpha_1_left*x + alpha_0_left)\n",
    "\n",
    "    elif (x > v_1) and (x <= v_2):\n",
    "        y_pred_train_left.append(beta_1_left*x + beta_0_left)\n",
    "    \n",
    "    else:\n",
    "        y_pred_train_left.append(gamma_1_left*x + gamma_0_left)"
   ]
  },
  {
   "cell_type": "markdown",
   "metadata": {},
   "source": [
    "Graph"
   ]
  },
  {
   "cell_type": "code",
   "execution_count": 48,
   "metadata": {},
   "outputs": [
    {
     "data": {
      "image/png": "[encoded data removed]",
      "text/plain": [
       "<Figure size 720x720 with 1 Axes>"
      ]
     },
     "metadata": {
      "needs_background": "light"
     },
     "output_type": "display_data"
    }
   ],
   "source": [
    "figure(figsize=(10,10))\n",
    "plt.scatter(train['X'], train['y'], color = 'red', label = 'Training points')\n",
    "plt.scatter(test['X'], test['y'], color = 'blue', label = 'Testing points')\n",
    "plt.plot(x_train_left, y_pred_train_left, color = 'green', label = 'Assemblie')\n",
    "\n",
    "plt.xlabel('X axis', size = 17)\n",
    "plt.ylabel('y axis', size = 17)\n",
    "\n",
    "plt.legend()\n",
    "plt.show()"
   ]
  },
  {
   "cell_type": "markdown",
   "metadata": {},
   "source": [
    "**Performance:**"
   ]
  },
  {
   "cell_type": "markdown",
   "metadata": {},
   "source": [
    "i. Train:"
   ]
  },
  {
   "cell_type": "code",
   "execution_count": 49,
   "metadata": {},
   "outputs": [],
   "source": [
    "train['y_p_left'] = f_1*(alpha_1_left*train['X'] + alpha_0_left) + f_2*(beta_1_left*train['X'] + beta_0_left) + f_3*(gamma_1_left*train['X'] + gamma_0_left)"
   ]
  },
  {
   "cell_type": "code",
   "execution_count": 50,
   "metadata": {},
   "outputs": [],
   "source": [
    "sq_err_train_left = round(((train['y'] - train['y_p_left'])**2).sum()/len(train), 2)"
   ]
  },
  {
   "cell_type": "code",
   "execution_count": 51,
   "metadata": {},
   "outputs": [],
   "source": [
    "abs_err_train_left = round(abs(train['y'] - train['y_p_left']).sum()/len(train), 2)"
   ]
  },
  {
   "cell_type": "code",
   "execution_count": 52,
   "metadata": {},
   "outputs": [
    {
     "data": {
      "text/plain": [
       "(0.38, 0.47)"
      ]
     },
     "execution_count": 52,
     "metadata": {},
     "output_type": "execute_result"
    }
   ],
   "source": [
    "sq_err_train_left, abs_err_train_left"
   ]
  },
  {
   "cell_type": "markdown",
   "metadata": {},
   "source": [
    "ii. Test"
   ]
  },
  {
   "cell_type": "code",
   "execution_count": 53,
   "metadata": {},
   "outputs": [],
   "source": [
    "test['y_p_left'] = f_1_test*(alpha_1_left*test['X'] + alpha_0_left) + f_2_test*(beta_1_left*test['X'] + beta_0_left) + f_3_test*(gamma_1_left*test['X'] + gamma_0_left)"
   ]
  },
  {
   "cell_type": "code",
   "execution_count": 54,
   "metadata": {},
   "outputs": [],
   "source": [
    "sq_err_test_left = round(((test['y'] - test['y_p_left'])**2).sum()/len(test), 2)"
   ]
  },
  {
   "cell_type": "code",
   "execution_count": 55,
   "metadata": {},
   "outputs": [],
   "source": [
    "abs_err_test_left = round(abs(test['y'] - test['y_p_left']).sum()/len(test), 2)"
   ]
  },
  {
   "cell_type": "code",
   "execution_count": 56,
   "metadata": {},
   "outputs": [
    {
     "data": {
      "text/plain": [
       "(0.53, 0.6)"
      ]
     },
     "execution_count": 56,
     "metadata": {},
     "output_type": "execute_result"
    }
   ],
   "source": [
    "sq_err_test_left, abs_err_test_left"
   ]
  },
  {
   "cell_type": "markdown",
   "metadata": {},
   "source": [
    "### $ \\underline{2. \\ Right \\ \\ to \\ \\ the \\ \\ left:} $"
   ]
  },
  {
   "cell_type": "markdown",
   "metadata": {},
   "source": [
    "**a. Third section**"
   ]
  },
  {
   "cell_type": "markdown",
   "metadata": {},
   "source": [
    "Normalizing variables"
   ]
  },
  {
   "cell_type": "code",
   "execution_count": 57,
   "metadata": {},
   "outputs": [],
   "source": [
    "X_3_norm = (X_3 - X_3.mean())/X_3.std()\n",
    "y_3_norm = (y_3 - y_3.mean())/y_3.std()"
   ]
  },
  {
   "cell_type": "code",
   "execution_count": 58,
   "metadata": {},
   "outputs": [],
   "source": [
    "reg_3_norm_right = LinearRegression().fit(X_3_norm, y_3_norm)"
   ]
  },
  {
   "cell_type": "code",
   "execution_count": 59,
   "metadata": {},
   "outputs": [],
   "source": [
    "gamma_1_norm_right = reg_3_norm_right.coef_[0]\n",
    "gamma_0_norm_right = reg_3_norm_right.intercept_"
   ]
  },
  {
   "cell_type": "code",
   "execution_count": 60,
   "metadata": {},
   "outputs": [
    {
     "data": {
      "text/plain": [
       "(0.999035335972579, -6.356301839377819e-17)"
      ]
     },
     "execution_count": 60,
     "metadata": {},
     "output_type": "execute_result"
    }
   ],
   "source": [
    "gamma_1_norm_right, gamma_0_norm_right"
   ]
  },
  {
   "cell_type": "markdown",
   "metadata": {},
   "source": [
    "We have:"
   ]
  },
  {
   "cell_type": "markdown",
   "metadata": {},
   "source": [
    "$ y_{3, norm} = \\gamma_{1, norm}^{right} \\cdot X_{3, norm} + \\gamma_{0, norm}^{right} $ \n",
    "\n",
    "$ \\Rightarrow $\n",
    "\n",
    "$ \\left( \\cfrac{y_3 - \\bar{y_3}}{\\sigma({y_3})} \\right) = \\gamma_{1, norm}^{right} \\cdot \\left( \\cfrac{X_3 - \\bar{X_3}}{\\sigma({X_3})} \\right) + \\gamma_{0, norm}^{right} $ \n",
    "\n",
    "$ \\Rightarrow $\n",
    "\n",
    "$ y_3 = \\textcolor{red}{\\left( \\cfrac{\\sigma(y_3)}{\\sigma(X_3)} \\cdot \\gamma_{1, norm}^{right} \\right)} \\cdot X_3 + \\textcolor{red}{ \\left( \\bar{y_3} + \\sigma(y_3) \\cdot \\gamma_{0, norm}^{right} -  \\cfrac{\\sigma(y_3)}{\\sigma(X_3)} \\cdot \\gamma_{1, norm}^{right} \\cdot \\bar{X_3} \\right)}  $ \n",
    "\n",
    "$ \\Rightarrow $\n",
    "\n",
    "$ \\boxed{\\gamma_{1, right} = \\textcolor{green}{\\left( \\cfrac{\\sigma(y_3)}{\\sigma(X_3)} \\cdot \\gamma_{1, norm}^{right} \\right)}} \\ \\ \\ (9) $ \n",
    "\n",
    "$ \\boxed{\\gamma_{0, right} =  \\textcolor{green}{ \\left( \\bar{y_3} + \\sigma(y_3) \\cdot \\gamma_{0, norm}^{right} -  \\cfrac{\\sigma(y_3)}{\\sigma(X_3)} \\cdot \\gamma_{1, norm}^{right} \\cdot \\bar{X_3} \\right)}} \\ \\ \\ (10) $ "
   ]
  },
  {
   "cell_type": "code",
   "execution_count": 61,
   "metadata": {},
   "outputs": [],
   "source": [
    "gamma_1_right = (y_3.std()/X_3.std())*gamma_1_norm_right"
   ]
  },
  {
   "cell_type": "code",
   "execution_count": 62,
   "metadata": {},
   "outputs": [],
   "source": [
    "gamma_0_right = y_3.mean() + y_3.std()*gamma_0_norm_right - (y_3.std()/X_3.std())*gamma_1_norm_right*X_3.mean()"
   ]
  },
  {
   "cell_type": "code",
   "execution_count": 63,
   "metadata": {},
   "outputs": [
    {
     "data": {
      "text/plain": [
       "(4.931116868716799, -32.46762037846602)"
      ]
     },
     "execution_count": 63,
     "metadata": {},
     "output_type": "execute_result"
    }
   ],
   "source": [
    "gamma_1_right, gamma_0_right"
   ]
  },
  {
   "cell_type": "markdown",
   "metadata": {},
   "source": [
    "Graph"
   ]
  },
  {
   "cell_type": "code",
   "execution_count": 64,
   "metadata": {},
   "outputs": [
    {
     "data": {
      "image/png": "[encoded data removed]",
      "text/plain": [
       "<Figure size 720x720 with 1 Axes>"
      ]
     },
     "metadata": {
      "needs_background": "light"
     },
     "output_type": "display_data"
    }
   ],
   "source": [
    "figure(figsize=(10,10))\n",
    "plt.scatter(train[f_3]['X'], train[f_3]['y'], color = 'red', label = 'Training points S3')\n",
    "plt.scatter(test[f_3_test]['X'], test[f_3_test]['y'], color = 'blue', label = 'Testing points S3')\n",
    "plt.plot(train[f_3]['X'], gamma_1_right*train[f_3]['X'] + gamma_0_right, color = 'green', label = 'Linear Regression S3')\n",
    "\n",
    "plt.xlabel('X axis', size = 17)\n",
    "plt.ylabel('y axis', size = 17)\n",
    "\n",
    "plt.legend()\n",
    "plt.show()"
   ]
  },
  {
   "cell_type": "markdown",
   "metadata": {},
   "source": [
    "**b. Second section**"
   ]
  },
  {
   "cell_type": "code",
   "execution_count": 65,
   "metadata": {},
   "outputs": [],
   "source": [
    "u_2_right = train[f_2]['y'] - (gamma_1_right*v_2 + gamma_0_right)\n",
    "W_2_right = train[f_2][['X']] - v_2"
   ]
  },
  {
   "cell_type": "code",
   "execution_count": 66,
   "metadata": {},
   "outputs": [],
   "source": [
    "u_2_right_norm = u_2_right/u_2_right.std()\n",
    "W_2_right_norm = W_2_right/W_2_right.std()"
   ]
  },
  {
   "cell_type": "code",
   "execution_count": 67,
   "metadata": {},
   "outputs": [],
   "source": [
    "reg_2_norm_right = LinearRegression(fit_intercept=False).fit(W_2_right_norm, u_2_right_norm)"
   ]
  },
  {
   "cell_type": "code",
   "execution_count": 68,
   "metadata": {},
   "outputs": [],
   "source": [
    "beta_1_norm_right = reg_2_norm_right.coef_[0]"
   ]
  },
  {
   "cell_type": "code",
   "execution_count": 69,
   "metadata": {},
   "outputs": [
    {
     "data": {
      "text/plain": [
       "-0.7296984051986537"
      ]
     },
     "execution_count": 69,
     "metadata": {},
     "output_type": "execute_result"
    }
   ],
   "source": [
    "beta_1_norm_right"
   ]
  },
  {
   "cell_type": "markdown",
   "metadata": {},
   "source": [
    "We have:"
   ]
  },
  {
   "cell_type": "markdown",
   "metadata": {},
   "source": [
    "$ u_{2, norm}^{right} = \\beta_{1, norm}^{right} \\cdot W_{2, norm}^{right} $ \n",
    "\n",
    "$ \\cfrac{u_{2}^{right}}{\\sigma(u_{2}^{right})} = \\beta_{1, norm}^{right} \\cdot \\left( \\cfrac{W_{2}^{right}}{\\sigma(W_{2}^{right})} \\right) $ \n",
    "\n",
    "$ \\Rightarrow $\n",
    "\n",
    "$ u_{2}^{right} = \\textcolor{red}{\\left( \\beta_{1, norm}^{right} \\cdot  \\cfrac{\\sigma(u_{2}^{right})}{\\sigma(W_{2}^{right})} \\right)} \\cdot W_{2}^{right} $ \n",
    "\n",
    "$ \\Rightarrow $\n",
    "\n",
    "$ \\boxed{\\beta_1^{right} = \\textcolor{green}{\\left( \\beta_{1, norm}^{right} \\cdot  \\cfrac{\\sigma(u_{2}^{right})}{\\sigma(W_{2}^{right})} \\right)}} \\ \\ \\ (11) $"
   ]
  },
  {
   "cell_type": "code",
   "execution_count": 70,
   "metadata": {},
   "outputs": [],
   "source": [
    "beta_1_right = beta_1_norm_right*(u_2_right.std()/W_2_right.std()[0])"
   ]
  },
  {
   "cell_type": "code",
   "execution_count": 71,
   "metadata": {},
   "outputs": [
    {
     "data": {
      "text/plain": [
       "-0.7244897592198815"
      ]
     },
     "execution_count": 71,
     "metadata": {},
     "output_type": "execute_result"
    }
   ],
   "source": [
    "beta_1_right"
   ]
  },
  {
   "cell_type": "markdown",
   "metadata": {},
   "source": [
    "Remembering"
   ]
  },
  {
   "cell_type": "markdown",
   "metadata": {},
   "source": [
    "$ \\boxed{\\textcolor{red}{\\beta_0^{right}} = \\textcolor{green}{\\gamma_1^{right}} \\cdot \\textcolor{green}{v_2} + \\textcolor{green}{\\gamma_0^{right}} -  \\textcolor{red}{\\beta_1^{right}} \\cdot \\textcolor{green}{v_2}} \\ \\ \\ (3)  $"
   ]
  },
  {
   "cell_type": "code",
   "execution_count": 72,
   "metadata": {},
   "outputs": [],
   "source": [
    "beta_0_right = gamma_1_right*v_2 + gamma_0_right - beta_1_right*v_2"
   ]
  },
  {
   "cell_type": "code",
   "execution_count": 73,
   "metadata": {},
   "outputs": [
    {
     "data": {
      "text/plain": [
       "(-0.7244897592198815, -15.50080049465598)"
      ]
     },
     "execution_count": 73,
     "metadata": {},
     "output_type": "execute_result"
    }
   ],
   "source": [
    "beta_1_right, beta_0_right"
   ]
  },
  {
   "cell_type": "markdown",
   "metadata": {},
   "source": [
    "Graph"
   ]
  },
  {
   "cell_type": "code",
   "execution_count": 74,
   "metadata": {},
   "outputs": [
    {
     "data": {
      "image/png": "[encoded data removed]",
      "text/plain": [
       "<Figure size 720x720 with 1 Axes>"
      ]
     },
     "metadata": {
      "needs_background": "light"
     },
     "output_type": "display_data"
    }
   ],
   "source": [
    "figure(figsize=(10,10))\n",
    "plt.scatter(train[f_2]['X'], train[f_2]['y'], color = 'red', label = 'Training points S2')\n",
    "plt.scatter(test[f_2_test]['X'], test[f_2_test]['y'], color = 'blue', label = 'Testing points S2')\n",
    "plt.plot(train[f_2]['X'], beta_1_right*train[f_2]['X'] + beta_0_right, color = 'green', label = 'Linear Regression S2')\n",
    "\n",
    "plt.xlabel('X axis', size = 17)\n",
    "plt.ylabel('y axis', size = 17)\n",
    "\n",
    "plt.legend()\n",
    "plt.show()"
   ]
  },
  {
   "cell_type": "markdown",
   "metadata": {},
   "source": [
    "**c. First section**"
   ]
  },
  {
   "cell_type": "code",
   "execution_count": 75,
   "metadata": {},
   "outputs": [],
   "source": [
    "u_1_right = train[f_1]['y'] - (beta_1_right*v_1 + beta_0_right)\n",
    "W_1_right = train[f_1][['X']] - v_1"
   ]
  },
  {
   "cell_type": "code",
   "execution_count": 76,
   "metadata": {},
   "outputs": [],
   "source": [
    "u_1_right_norm = u_1_right/u_1_right.std()\n",
    "W_1_right_norm = W_1_right/W_1_right.std()"
   ]
  },
  {
   "cell_type": "code",
   "execution_count": 77,
   "metadata": {},
   "outputs": [],
   "source": [
    "reg_1_norm_right = LinearRegression(fit_intercept=False).fit(W_1_right_norm, u_1_right_norm)"
   ]
  },
  {
   "cell_type": "code",
   "execution_count": 78,
   "metadata": {},
   "outputs": [],
   "source": [
    "alpha_1_norm_right = reg_1_norm_right.coef_[0]"
   ]
  },
  {
   "cell_type": "code",
   "execution_count": 79,
   "metadata": {},
   "outputs": [
    {
     "data": {
      "text/plain": [
       "-0.9655790797695615"
      ]
     },
     "execution_count": 79,
     "metadata": {},
     "output_type": "execute_result"
    }
   ],
   "source": [
    "alpha_1_norm_right"
   ]
  },
  {
   "cell_type": "markdown",
   "metadata": {},
   "source": [
    "We have:"
   ]
  },
  {
   "cell_type": "markdown",
   "metadata": {},
   "source": [
    "$ u_{1, norm}^{right} = \\alpha_{1, norm}^{right} \\cdot W_{1, norm}^{right} $ \n",
    "\n",
    "$ \\cfrac{u_{1}^{right}}{\\sigma(u_{1}^{right})} = \\alpha_{1, norm}^{right} \\cdot \\left( \\cfrac{W_{1}^{right}}{\\sigma(W_{1}^{right})} \\right) $ \n",
    "\n",
    "$ \\Rightarrow $\n",
    "\n",
    "$ u_{1}^{right} = \\textcolor{red}{\\left( \\alpha_{1, norm}^{right} \\cdot  \\cfrac{\\sigma(u_{1}^{right})}{\\sigma(W_{1}^{right})} \\right)} \\cdot W_{1}^{right} $ \n",
    "\n",
    "$ \\Rightarrow $\n",
    "\n",
    "$ \\boxed{\\alpha_1^{right} = \\textcolor{green}{\\left( \\alpha_{1, norm}^{right} \\cdot  \\cfrac{\\sigma(u_{1}^{right})}{\\sigma(W_{1}^{right})} \\right)}} \\ \\ \\ (12) $"
   ]
  },
  {
   "cell_type": "code",
   "execution_count": 80,
   "metadata": {},
   "outputs": [],
   "source": [
    "alpha_1_right = alpha_1_norm_right*(u_1_right.std()/W_1_right.std()[0])"
   ]
  },
  {
   "cell_type": "code",
   "execution_count": 81,
   "metadata": {},
   "outputs": [
    {
     "data": {
      "text/plain": [
       "-3.0341574394645536"
      ]
     },
     "execution_count": 81,
     "metadata": {},
     "output_type": "execute_result"
    }
   ],
   "source": [
    "alpha_1_right"
   ]
  },
  {
   "cell_type": "markdown",
   "metadata": {},
   "source": [
    "Remembering"
   ]
  },
  {
   "cell_type": "markdown",
   "metadata": {},
   "source": [
    "$ \\boxed{\\textcolor{red}{\\alpha_0^{right}} = \\textcolor{green}{\\beta_1^{right}} \\cdot \\textcolor{green}{v_1} + \\textcolor{green}{\\beta_0^{right}} -  \\textcolor{red}{\\alpha_1^{right}} \\cdot \\textcolor{green}{v_1}} \\ \\ \\ (4)  $"
   ]
  },
  {
   "cell_type": "code",
   "execution_count": 82,
   "metadata": {},
   "outputs": [],
   "source": [
    "alpha_0_right = beta_1_right*v_1 + beta_0_right - alpha_1_right*v_1"
   ]
  },
  {
   "cell_type": "code",
   "execution_count": 83,
   "metadata": {},
   "outputs": [
    {
     "data": {
      "text/plain": [
       "(-3.0341574394645536, -20.120135855145325)"
      ]
     },
     "execution_count": 83,
     "metadata": {},
     "output_type": "execute_result"
    }
   ],
   "source": [
    "alpha_1_right, alpha_0_right"
   ]
  },
  {
   "cell_type": "markdown",
   "metadata": {},
   "source": [
    "Graph"
   ]
  },
  {
   "cell_type": "code",
   "execution_count": 84,
   "metadata": {},
   "outputs": [
    {
     "data": {
      "image/png": "[encoded data removed]",
      "text/plain": [
       "<Figure size 720x720 with 1 Axes>"
      ]
     },
     "metadata": {
      "needs_background": "light"
     },
     "output_type": "display_data"
    }
   ],
   "source": [
    "figure(figsize=(10,10))\n",
    "plt.scatter(train[f_1]['X'], train[f_1]['y'], color = 'red', label = 'Training points S1')\n",
    "plt.scatter(test[f_1_test]['X'], test[f_1_test]['y'], color = 'blue', label = 'Testing points S1')\n",
    "plt.plot(train[f_1]['X'], alpha_1_right*train[f_1]['X'] + alpha_0_right, color = 'green', label = 'Linear Regression S1')\n",
    "\n",
    "plt.xlabel('X axis', size = 17)\n",
    "plt.ylabel('y axis', size = 17)\n",
    "\n",
    "plt.legend()\n",
    "plt.show()"
   ]
  },
  {
   "cell_type": "markdown",
   "metadata": {},
   "source": [
    "$ \\underline{Assemblie \\ \\ of \\ \\ all \\ \\ points:} $"
   ]
  },
  {
   "cell_type": "code",
   "execution_count": 85,
   "metadata": {},
   "outputs": [],
   "source": [
    "x_train_right = list(train['X'].sort_values())"
   ]
  },
  {
   "cell_type": "code",
   "execution_count": 86,
   "metadata": {},
   "outputs": [],
   "source": [
    "y_pred_train_right = []\n",
    "\n",
    "for x in x_train_right:\n",
    "    if x <= v_1:\n",
    "        y_pred_train_right.append(alpha_1_right*x + alpha_0_right)\n",
    "\n",
    "    elif (x > v_1) and (x <= v_2):\n",
    "        y_pred_train_right.append(beta_1_right*x + beta_0_right)\n",
    "    \n",
    "    else:\n",
    "        y_pred_train_right.append(gamma_1_right*x + gamma_0_right)"
   ]
  },
  {
   "cell_type": "markdown",
   "metadata": {},
   "source": [
    "Graph"
   ]
  },
  {
   "cell_type": "code",
   "execution_count": 87,
   "metadata": {},
   "outputs": [
    {
     "data": {
      "image/png": "[encoded data removed]",
      "text/plain": [
       "<Figure size 720x720 with 1 Axes>"
      ]
     },
     "metadata": {
      "needs_background": "light"
     },
     "output_type": "display_data"
    }
   ],
   "source": [
    "figure(figsize=(10,10))\n",
    "plt.scatter(train['X'], train['y'], color = 'red', label = 'Training points')\n",
    "plt.scatter(test['X'], test['y'], color = 'blue', label = 'Testing points')\n",
    "plt.plot(x_train_right, y_pred_train_right, color = 'green', label = 'Assemblie')\n",
    "\n",
    "plt.xlabel('X axis', size = 17)\n",
    "plt.ylabel('y axis', size = 17)\n",
    "\n",
    "plt.legend()\n",
    "plt.show()"
   ]
  },
  {
   "cell_type": "markdown",
   "metadata": {},
   "source": [
    "**Performance:**"
   ]
  },
  {
   "cell_type": "markdown",
   "metadata": {},
   "source": [
    "i. Train:"
   ]
  },
  {
   "cell_type": "code",
   "execution_count": 88,
   "metadata": {},
   "outputs": [],
   "source": [
    "train['y_p_right'] = f_1*(alpha_1_right*train['X'] + alpha_0_right) + f_2*(beta_1_right*train['X'] + beta_0_right) + f_3*(gamma_1_right*train['X'] + gamma_0_right)"
   ]
  },
  {
   "cell_type": "code",
   "execution_count": 89,
   "metadata": {},
   "outputs": [],
   "source": [
    "sq_err_train_right = round(((train['y'] - train['y_p_right'])**2).sum()/len(train), 2)"
   ]
  },
  {
   "cell_type": "code",
   "execution_count": 90,
   "metadata": {},
   "outputs": [],
   "source": [
    "abs_err_train_right = round(abs(train['y'] - train['y_p_right']).sum()/len(train), 2)"
   ]
  },
  {
   "cell_type": "code",
   "execution_count": 91,
   "metadata": {},
   "outputs": [
    {
     "data": {
      "text/plain": [
       "(0.41, 0.51)"
      ]
     },
     "execution_count": 91,
     "metadata": {},
     "output_type": "execute_result"
    }
   ],
   "source": [
    "sq_err_train_right, abs_err_train_right"
   ]
  },
  {
   "cell_type": "markdown",
   "metadata": {},
   "source": [
    "ii. Test"
   ]
  },
  {
   "cell_type": "code",
   "execution_count": 92,
   "metadata": {},
   "outputs": [],
   "source": [
    "test['y_p_right'] = f_1_test*(alpha_1_right*test['X'] + alpha_0_right) + f_2_test*(beta_1_right*test['X'] + beta_0_right) + f_3_test*(gamma_1_right*test['X'] + gamma_0_right)"
   ]
  },
  {
   "cell_type": "code",
   "execution_count": 93,
   "metadata": {},
   "outputs": [],
   "source": [
    "sq_err_test_right = round(((test['y'] - test['y_p_right'])**2).sum()/len(test), 2)"
   ]
  },
  {
   "cell_type": "code",
   "execution_count": 94,
   "metadata": {},
   "outputs": [],
   "source": [
    "abs_err_test_right = round(abs(test['y'] - test['y_p_right']).sum()/len(test), 2)"
   ]
  },
  {
   "cell_type": "code",
   "execution_count": 95,
   "metadata": {},
   "outputs": [
    {
     "data": {
      "text/plain": [
       "(0.36, 0.51)"
      ]
     },
     "execution_count": 95,
     "metadata": {},
     "output_type": "execute_result"
    }
   ],
   "source": [
    "sq_err_test_right, abs_err_test_right"
   ]
  },
  {
   "cell_type": "markdown",
   "metadata": {},
   "source": [
    "### Comparision of the two assemblies"
   ]
  },
  {
   "cell_type": "markdown",
   "metadata": {},
   "source": [
    "**Performance**"
   ]
  },
  {
   "cell_type": "markdown",
   "metadata": {},
   "source": [
    "i. Train:"
   ]
  },
  {
   "cell_type": "code",
   "execution_count": 96,
   "metadata": {},
   "outputs": [
    {
     "data": {
      "text/plain": [
       "(0.38, 0.41)"
      ]
     },
     "execution_count": 96,
     "metadata": {},
     "output_type": "execute_result"
    }
   ],
   "source": [
    "sq_err_train_left, sq_err_train_right"
   ]
  },
  {
   "cell_type": "code",
   "execution_count": 97,
   "metadata": {},
   "outputs": [
    {
     "data": {
      "text/plain": [
       "(0.47, 0.51)"
      ]
     },
     "execution_count": 97,
     "metadata": {},
     "output_type": "execute_result"
    }
   ],
   "source": [
    "abs_err_train_left, abs_err_train_right"
   ]
  },
  {
   "cell_type": "markdown",
   "metadata": {},
   "source": [
    "ii. Test:"
   ]
  },
  {
   "cell_type": "code",
   "execution_count": 98,
   "metadata": {},
   "outputs": [
    {
     "data": {
      "text/plain": [
       "(0.53, 0.36)"
      ]
     },
     "execution_count": 98,
     "metadata": {},
     "output_type": "execute_result"
    }
   ],
   "source": [
    "sq_err_test_left, sq_err_test_right"
   ]
  },
  {
   "cell_type": "code",
   "execution_count": 99,
   "metadata": {},
   "outputs": [
    {
     "data": {
      "text/plain": [
       "(0.6, 0.51)"
      ]
     },
     "execution_count": 99,
     "metadata": {},
     "output_type": "execute_result"
    }
   ],
   "source": [
    "abs_err_test_left, abs_err_test_right"
   ]
  },
  {
   "cell_type": "markdown",
   "metadata": {},
   "source": [
    "**Comments:** As you can see both assemblies have similar error both in training and test set (considering two metrics). In the training, the assemblie from the left to the right has the best performance and in the testing the assemblie from the right to the left has the best performance. "
   ]
  },
  {
   "cell_type": "markdown",
   "metadata": {},
   "source": [
    "**Graphic comparision**"
   ]
  },
  {
   "cell_type": "code",
   "execution_count": 100,
   "metadata": {},
   "outputs": [
    {
     "data": {
      "image/png": "[encoded data removed]",
      "text/plain": [
       "<Figure size 720x720 with 1 Axes>"
      ]
     },
     "metadata": {
      "needs_background": "light"
     },
     "output_type": "display_data"
    }
   ],
   "source": [
    "figure(figsize=(10,10))\n",
    "plt.scatter(train['X'], train['y'], color = 'red', label = 'Training points')\n",
    "plt.scatter(test['X'], test['y'], color = 'blue', label = 'Testing points')\n",
    "plt.plot(x_train_right, y_pred_train_right, color = 'green', label = 'Assemblie R-L')\n",
    "plt.plot(x_train_left, y_pred_train_left, color = 'purple', label = 'Assemblie L-R')\n",
    "\n",
    "plt.xlabel('X axis', size = 17)\n",
    "plt.ylabel('y axis', size = 17)\n",
    "\n",
    "plt.legend()\n",
    "plt.show()"
   ]
  },
  {
   "cell_type": "markdown",
   "metadata": {},
   "source": [
    "### Functions asssociated to the two assemblies"
   ]
  },
  {
   "cell_type": "code",
   "execution_count": 101,
   "metadata": {},
   "outputs": [],
   "source": [
    "def assemblie_L_to_R(x):\n",
    "\n",
    "    if x <= v_1:\n",
    "        return alpha_1_left*x + alpha_0_left\n",
    "    \n",
    "    elif (x > v_1) and (x <= v_2):\n",
    "        return beta_1_left*x + beta_0_left\n",
    "    \n",
    "    else:\n",
    "        return gamma_1_left*x + gamma_0_left"
   ]
  },
  {
   "cell_type": "code",
   "execution_count": 102,
   "metadata": {},
   "outputs": [],
   "source": [
    "def assemblie_R_to_L(x):\n",
    "\n",
    "    if x <= v_1:\n",
    "        return alpha_1_right*x + alpha_0_right\n",
    "    \n",
    "    elif (x > v_1) and (x <= v_2):\n",
    "        return beta_1_right*x + beta_0_right\n",
    "    \n",
    "    else:\n",
    "        return gamma_1_right*x + gamma_0_right"
   ]
  },
  {
   "cell_type": "markdown",
   "metadata": {},
   "source": [
    "### Creation of columns with the predictions of the two models"
   ]
  },
  {
   "cell_type": "code",
   "execution_count": 103,
   "metadata": {},
   "outputs": [],
   "source": [
    "df[\"y_pred_LR\"] = df[\"X\"].map(lambda x: assemblie_L_to_R(x))\n",
    "df[\"y_pred_RL\"] = df[\"X\"].map(lambda x: assemblie_R_to_L(x))"
   ]
  },
  {
   "cell_type": "code",
   "execution_count": 104,
   "metadata": {},
   "outputs": [
    {
     "data": {
      "image/png": "[encoded data removed]",
      "text/plain": [
       "<Figure size 720x720 with 1 Axes>"
      ]
     },
     "metadata": {
      "needs_background": "light"
     },
     "output_type": "display_data"
    }
   ],
   "source": [
    "figure(figsize=(10,10))\n",
    "plt.scatter(df['X'], df['y'], color = 'red', label = 'All points')\n",
    "plt.plot(df['X'], df['y_pred_RL'], color = 'green', label = 'Assemblie R-L')\n",
    "plt.plot(df['X'], df['y_pred_LR'], color = 'blue', label = 'Assemblie L-R')\n",
    "\n",
    "plt.xlabel('X axis', size = 17)\n",
    "plt.ylabel('y axis', size = 17)\n",
    "\n",
    "plt.legend()\n",
    "plt.show()"
   ]
  },
  {
   "cell_type": "code",
   "execution_count": null,
   "metadata": {},
   "outputs": [],
   "source": []
  }
 ],
 "metadata": {
  "kernelspec": {
   "display_name": "Python 3.9.12 ('base')",
   "language": "python",
   "name": "python3"
  },
  "language_info": {
   "codemirror_mode": {
    "name": "ipython",
    "version": 3
   },
   "file_extension": ".py",
   "mimetype": "text/x-python",
   "name": "python",
   "nbconvert_exporter": "python",
   "pygments_lexer": "ipython3",
   "version": "3.9.12"
  },
  "orig_nbformat": 4,
  "vscode": {
   "interpreter": {
    "hash": "2f8c485831047b2cebf111481919a8482d14cdda0a4d2016f96df03a335ecfa0"
   }
  }
 },
 "nbformat": 4,
 "nbformat_minor": 2
}
