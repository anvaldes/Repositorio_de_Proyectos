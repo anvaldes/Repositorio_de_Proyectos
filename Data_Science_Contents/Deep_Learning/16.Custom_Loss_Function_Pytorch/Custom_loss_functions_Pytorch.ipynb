{
  "nbformat": 4,
  "nbformat_minor": 0,
  "metadata": {
    "colab": {
      "provenance": [],
      "gpuType": "T4"
    },
    "kernelspec": {
      "name": "python3",
      "display_name": "Python 3"
    },
    "language_info": {
      "name": "python"
    },
    "accelerator": "GPU",
    "widgets": {
      "application/vnd.jupyter.widget-state+json": {
        "5a705735578d415bb2469cecc7b99c95": {
          "model_module": "@jupyter-widgets/controls",
          "model_name": "HBoxModel",
          "model_module_version": "1.5.0",
          "state": {
            "_dom_classes": [],
            "_model_module": "@jupyter-widgets/controls",
            "_model_module_version": "1.5.0",
            "_model_name": "HBoxModel",
            "_view_count": null,
            "_view_module": "@jupyter-widgets/controls",
            "_view_module_version": "1.5.0",
            "_view_name": "HBoxView",
            "box_style": "",
            "children": [
              "IPY_MODEL_acc0c26a40fa41f79a3c3ec923f7043d",
              "IPY_MODEL_db5fce5830624144b303daa906318cf7",
              "IPY_MODEL_cad95a63caf042aebb83f997714dd1c5"
            ],
            "layout": "IPY_MODEL_ef1b0658b1f745de8e3e3ea805d4b8f2"
          }
        },
        "acc0c26a40fa41f79a3c3ec923f7043d": {
          "model_module": "@jupyter-widgets/controls",
          "model_name": "HTMLModel",
          "model_module_version": "1.5.0",
          "state": {
            "_dom_classes": [],
            "_model_module": "@jupyter-widgets/controls",
            "_model_module_version": "1.5.0",
            "_model_name": "HTMLModel",
            "_view_count": null,
            "_view_module": "@jupyter-widgets/controls",
            "_view_module_version": "1.5.0",
            "_view_name": "HTMLView",
            "description": "",
            "description_tooltip": null,
            "layout": "IPY_MODEL_9a0a3f7e7a8c473cb3f010969ab66558",
            "placeholder": "​",
            "style": "IPY_MODEL_56b28b97828f468a82331f7b4242426e",
            "value": "100%"
          }
        },
        "db5fce5830624144b303daa906318cf7": {
          "model_module": "@jupyter-widgets/controls",
          "model_name": "FloatProgressModel",
          "model_module_version": "1.5.0",
          "state": {
            "_dom_classes": [],
            "_model_module": "@jupyter-widgets/controls",
            "_model_module_version": "1.5.0",
            "_model_name": "FloatProgressModel",
            "_view_count": null,
            "_view_module": "@jupyter-widgets/controls",
            "_view_module_version": "1.5.0",
            "_view_name": "ProgressView",
            "bar_style": "success",
            "description": "",
            "description_tooltip": null,
            "layout": "IPY_MODEL_481e98f367b34494ade61a1cd5145213",
            "max": 100,
            "min": 0,
            "orientation": "horizontal",
            "style": "IPY_MODEL_d8bc8439b10f4179a44cc6550745eb99",
            "value": 100
          }
        },
        "cad95a63caf042aebb83f997714dd1c5": {
          "model_module": "@jupyter-widgets/controls",
          "model_name": "HTMLModel",
          "model_module_version": "1.5.0",
          "state": {
            "_dom_classes": [],
            "_model_module": "@jupyter-widgets/controls",
            "_model_module_version": "1.5.0",
            "_model_name": "HTMLModel",
            "_view_count": null,
            "_view_module": "@jupyter-widgets/controls",
            "_view_module_version": "1.5.0",
            "_view_name": "HTMLView",
            "description": "",
            "description_tooltip": null,
            "layout": "IPY_MODEL_931adbb1ea4f4af7b42ebb57b04f1bd1",
            "placeholder": "​",
            "style": "IPY_MODEL_ed979ebce0c14038b23bd829e5a39298",
            "value": " 100/100 [00:00&lt;00:00, 189.45it/s]"
          }
        },
        "ef1b0658b1f745de8e3e3ea805d4b8f2": {
          "model_module": "@jupyter-widgets/base",
          "model_name": "LayoutModel",
          "model_module_version": "1.2.0",
          "state": {
            "_model_module": "@jupyter-widgets/base",
            "_model_module_version": "1.2.0",
            "_model_name": "LayoutModel",
            "_view_count": null,
            "_view_module": "@jupyter-widgets/base",
            "_view_module_version": "1.2.0",
            "_view_name": "LayoutView",
            "align_content": null,
            "align_items": null,
            "align_self": null,
            "border": null,
            "bottom": null,
            "display": null,
            "flex": null,
            "flex_flow": null,
            "grid_area": null,
            "grid_auto_columns": null,
            "grid_auto_flow": null,
            "grid_auto_rows": null,
            "grid_column": null,
            "grid_gap": null,
            "grid_row": null,
            "grid_template_areas": null,
            "grid_template_columns": null,
            "grid_template_rows": null,
            "height": null,
            "justify_content": null,
            "justify_items": null,
            "left": null,
            "margin": null,
            "max_height": null,
            "max_width": null,
            "min_height": null,
            "min_width": null,
            "object_fit": null,
            "object_position": null,
            "order": null,
            "overflow": null,
            "overflow_x": null,
            "overflow_y": null,
            "padding": null,
            "right": null,
            "top": null,
            "visibility": null,
            "width": null
          }
        },
        "9a0a3f7e7a8c473cb3f010969ab66558": {
          "model_module": "@jupyter-widgets/base",
          "model_name": "LayoutModel",
          "model_module_version": "1.2.0",
          "state": {
            "_model_module": "@jupyter-widgets/base",
            "_model_module_version": "1.2.0",
            "_model_name": "LayoutModel",
            "_view_count": null,
            "_view_module": "@jupyter-widgets/base",
            "_view_module_version": "1.2.0",
            "_view_name": "LayoutView",
            "align_content": null,
            "align_items": null,
            "align_self": null,
            "border": null,
            "bottom": null,
            "display": null,
            "flex": null,
            "flex_flow": null,
            "grid_area": null,
            "grid_auto_columns": null,
            "grid_auto_flow": null,
            "grid_auto_rows": null,
            "grid_column": null,
            "grid_gap": null,
            "grid_row": null,
            "grid_template_areas": null,
            "grid_template_columns": null,
            "grid_template_rows": null,
            "height": null,
            "justify_content": null,
            "justify_items": null,
            "left": null,
            "margin": null,
            "max_height": null,
            "max_width": null,
            "min_height": null,
            "min_width": null,
            "object_fit": null,
            "object_position": null,
            "order": null,
            "overflow": null,
            "overflow_x": null,
            "overflow_y": null,
            "padding": null,
            "right": null,
            "top": null,
            "visibility": null,
            "width": null
          }
        },
        "56b28b97828f468a82331f7b4242426e": {
          "model_module": "@jupyter-widgets/controls",
          "model_name": "DescriptionStyleModel",
          "model_module_version": "1.5.0",
          "state": {
            "_model_module": "@jupyter-widgets/controls",
            "_model_module_version": "1.5.0",
            "_model_name": "DescriptionStyleModel",
            "_view_count": null,
            "_view_module": "@jupyter-widgets/base",
            "_view_module_version": "1.2.0",
            "_view_name": "StyleView",
            "description_width": ""
          }
        },
        "481e98f367b34494ade61a1cd5145213": {
          "model_module": "@jupyter-widgets/base",
          "model_name": "LayoutModel",
          "model_module_version": "1.2.0",
          "state": {
            "_model_module": "@jupyter-widgets/base",
            "_model_module_version": "1.2.0",
            "_model_name": "LayoutModel",
            "_view_count": null,
            "_view_module": "@jupyter-widgets/base",
            "_view_module_version": "1.2.0",
            "_view_name": "LayoutView",
            "align_content": null,
            "align_items": null,
            "align_self": null,
            "border": null,
            "bottom": null,
            "display": null,
            "flex": null,
            "flex_flow": null,
            "grid_area": null,
            "grid_auto_columns": null,
            "grid_auto_flow": null,
            "grid_auto_rows": null,
            "grid_column": null,
            "grid_gap": null,
            "grid_row": null,
            "grid_template_areas": null,
            "grid_template_columns": null,
            "grid_template_rows": null,
            "height": null,
            "justify_content": null,
            "justify_items": null,
            "left": null,
            "margin": null,
            "max_height": null,
            "max_width": null,
            "min_height": null,
            "min_width": null,
            "object_fit": null,
            "object_position": null,
            "order": null,
            "overflow": null,
            "overflow_x": null,
            "overflow_y": null,
            "padding": null,
            "right": null,
            "top": null,
            "visibility": null,
            "width": null
          }
        },
        "d8bc8439b10f4179a44cc6550745eb99": {
          "model_module": "@jupyter-widgets/controls",
          "model_name": "ProgressStyleModel",
          "model_module_version": "1.5.0",
          "state": {
            "_model_module": "@jupyter-widgets/controls",
            "_model_module_version": "1.5.0",
            "_model_name": "ProgressStyleModel",
            "_view_count": null,
            "_view_module": "@jupyter-widgets/base",
            "_view_module_version": "1.2.0",
            "_view_name": "StyleView",
            "bar_color": null,
            "description_width": ""
          }
        },
        "931adbb1ea4f4af7b42ebb57b04f1bd1": {
          "model_module": "@jupyter-widgets/base",
          "model_name": "LayoutModel",
          "model_module_version": "1.2.0",
          "state": {
            "_model_module": "@jupyter-widgets/base",
            "_model_module_version": "1.2.0",
            "_model_name": "LayoutModel",
            "_view_count": null,
            "_view_module": "@jupyter-widgets/base",
            "_view_module_version": "1.2.0",
            "_view_name": "LayoutView",
            "align_content": null,
            "align_items": null,
            "align_self": null,
            "border": null,
            "bottom": null,
            "display": null,
            "flex": null,
            "flex_flow": null,
            "grid_area": null,
            "grid_auto_columns": null,
            "grid_auto_flow": null,
            "grid_auto_rows": null,
            "grid_column": null,
            "grid_gap": null,
            "grid_row": null,
            "grid_template_areas": null,
            "grid_template_columns": null,
            "grid_template_rows": null,
            "height": null,
            "justify_content": null,
            "justify_items": null,
            "left": null,
            "margin": null,
            "max_height": null,
            "max_width": null,
            "min_height": null,
            "min_width": null,
            "object_fit": null,
            "object_position": null,
            "order": null,
            "overflow": null,
            "overflow_x": null,
            "overflow_y": null,
            "padding": null,
            "right": null,
            "top": null,
            "visibility": null,
            "width": null
          }
        },
        "ed979ebce0c14038b23bd829e5a39298": {
          "model_module": "@jupyter-widgets/controls",
          "model_name": "DescriptionStyleModel",
          "model_module_version": "1.5.0",
          "state": {
            "_model_module": "@jupyter-widgets/controls",
            "_model_module_version": "1.5.0",
            "_model_name": "DescriptionStyleModel",
            "_view_count": null,
            "_view_module": "@jupyter-widgets/base",
            "_view_module_version": "1.2.0",
            "_view_name": "StyleView",
            "description_width": ""
          }
        }
      }
    }
  },
  "cells": [
    {
      "cell_type": "markdown",
      "source": [
        "# Custom loss functions Pytorch"
      ],
      "metadata": {
        "id": "ociWhHmiJp1n"
      }
    },
    {
      "cell_type": "markdown",
      "source": [
        "By Alberto Valdés\n",
        "\n",
        "**Mail 1:** anvaldes@uc.cl\n",
        "\n",
        "**Mail 2:** alberto.valdes.gonzalez.96@gmail.com"
      ],
      "metadata": {
        "id": "YR-lfU9jJ6yv"
      }
    },
    {
      "cell_type": "markdown",
      "source": [
        "This notebook was devoloped in Google Colab using \"T4 GPU\"."
      ],
      "metadata": {
        "id": "nLdcNIVLKbUG"
      }
    },
    {
      "cell_type": "markdown",
      "source": [
        "We going to exemplify how to implement a custom loss function on MLP using the Pytorch Library."
      ],
      "metadata": {
        "id": "ReF-jYtnSH6e"
      }
    },
    {
      "cell_type": "markdown",
      "source": [
        "**Data Type at Entry:** Torch tensors.\n",
        "\n",
        "**Data Type at Output:** Torch tensors."
      ],
      "metadata": {
        "id": "7OETlcrysyEr"
      }
    },
    {
      "cell_type": "code",
      "source": [
        "import time\n",
        "import torch\n",
        "import numpy as np\n",
        "import pandas as pd\n",
        "import torch.nn as nn\n",
        "import matplotlib.pyplot as plt\n",
        "from sklearn.model_selection import train_test_split"
      ],
      "metadata": {
        "id": "K8hAySU2LFDa"
      },
      "execution_count": 1,
      "outputs": []
    },
    {
      "cell_type": "code",
      "source": [
        "def print_time_execution(start, end, txt):\n",
        "\n",
        "  delta = int(end - start)\n",
        "\n",
        "  hours = int(delta/3_600)\n",
        "  mins = int((delta - 3_600*hours)/60)\n",
        "  segs = int(delta - hours*3600 - mins*60)\n",
        "\n",
        "  return f'{txt} it takes {hours} hours, {mins} mins and {segs} segs.'"
      ],
      "metadata": {
        "id": "a10x7AC5KVfW"
      },
      "execution_count": 2,
      "outputs": []
    },
    {
      "cell_type": "code",
      "source": [
        "def creation_batchs(n_batchs, X_train, y_train):\n",
        "\n",
        "  N_train = len(X_train)\n",
        "  N_batch = int(N_train/n_batchs) + 1\n",
        "\n",
        "  all_X_train = []\n",
        "  all_y_train = []\n",
        "\n",
        "  for i in range(n_batchs):\n",
        "\n",
        "    all_X_train.append(X_train[i*N_batch: (i+1)*N_batch].copy())\n",
        "    all_y_train.append(y_train[i*N_batch: (i+1)*N_batch].copy())\n",
        "\n",
        "  return all_X_train, all_y_train"
      ],
      "metadata": {
        "id": "7J-GP-SbSJk-"
      },
      "execution_count": 3,
      "outputs": []
    },
    {
      "cell_type": "markdown",
      "source": [
        "### Start time of execution"
      ],
      "metadata": {
        "id": "XaHQY22dLHUC"
      }
    },
    {
      "cell_type": "code",
      "source": [
        "start = time.time()"
      ],
      "metadata": {
        "id": "907OM3_9_pMe"
      },
      "execution_count": 4,
      "outputs": []
    },
    {
      "cell_type": "markdown",
      "source": [
        "# 1. Regresion Problem"
      ],
      "metadata": {
        "id": "Xhimv0SpLi-K"
      }
    },
    {
      "cell_type": "markdown",
      "source": [
        "### i. Creacion of Dataset"
      ],
      "metadata": {
        "id": "lpVY5VycLq8j"
      }
    },
    {
      "cell_type": "code",
      "source": [
        "X = [(i*0.1 - 20) for i in range(1, 400 + 1)]"
      ],
      "metadata": {
        "id": "WwKxJbO5Xhb9"
      },
      "execution_count": 5,
      "outputs": []
    },
    {
      "cell_type": "code",
      "source": [
        "y = [x**2 for x in X]"
      ],
      "metadata": {
        "id": "t5y0154MZA2z"
      },
      "execution_count": 6,
      "outputs": []
    },
    {
      "cell_type": "code",
      "source": [
        "df = pd.DataFrame({'X': X, 'y': y})"
      ],
      "metadata": {
        "id": "aQFc_SOqLKtY"
      },
      "execution_count": 7,
      "outputs": []
    },
    {
      "cell_type": "code",
      "source": [
        "df['X'] = df['X'].astype('float32')\n",
        "df['y'] = df['y'].astype('float32')"
      ],
      "metadata": {
        "id": "nJHPvT_3LKvd"
      },
      "execution_count": 8,
      "outputs": []
    },
    {
      "cell_type": "code",
      "source": [
        "X = df[['X']].copy()\n",
        "y = df['y'].copy()"
      ],
      "metadata": {
        "id": "Ycf7I71sLKxu"
      },
      "execution_count": 9,
      "outputs": []
    },
    {
      "cell_type": "code",
      "source": [
        "plt.figure(figsize = (10, 7))\n",
        "plt.xlabel('X', fontsize = 17)\n",
        "plt.ylabel('y', fontsize = 17)\n",
        "plt.plot(X, y)\n",
        "plt.show()"
      ],
      "metadata": {
        "colab": {
          "base_uri": "https://localhost:8080/",
          "height": 629
        },
        "id": "u92rel2FLKzs",
        "outputId": "74084dcd-e64e-4124-f761-7706c259963e"
      },
      "execution_count": 10,
      "outputs": [
        {
          "output_type": "display_data",
          "data": {
            "text/plain": [
              "<Figure size 1000x700 with 1 Axes>"
            ],
            "image/png": "[encoded data removed]"
          },
          "metadata": {}
        }
      ]
    },
    {
      "cell_type": "markdown",
      "source": [
        "### ii. Split"
      ],
      "metadata": {
        "id": "-vhAxJntMCY2"
      }
    },
    {
      "cell_type": "code",
      "source": [
        "n_batchs = 2"
      ],
      "metadata": {
        "id": "yaLDoq34Sazd"
      },
      "execution_count": 11,
      "outputs": []
    },
    {
      "cell_type": "code",
      "source": [
        "X_train, X_val, y_train, y_val = train_test_split(X, y, test_size = 0.5, random_state = 42)"
      ],
      "metadata": {
        "id": "i1QRKShXLK1q"
      },
      "execution_count": 12,
      "outputs": []
    },
    {
      "cell_type": "code",
      "source": [
        "X_val, X_test, y_val, y_test = train_test_split(X_val, y_val, test_size = 0.5, random_state = 42)"
      ],
      "metadata": {
        "id": "z6nS94zrLK3c"
      },
      "execution_count": 13,
      "outputs": []
    },
    {
      "cell_type": "code",
      "source": [
        "X_train_mean = X_train.mean()\n",
        "X_train_std = X_train.std()\n",
        "\n",
        "X_train = (X_train - X_train_mean)/X_train_std\n",
        "X_val = (X_val - X_train_mean)/X_train_std\n",
        "X_test = (X_test - X_train_mean)/X_train_std"
      ],
      "metadata": {
        "id": "TESLCFH5XalE"
      },
      "execution_count": 14,
      "outputs": []
    },
    {
      "cell_type": "code",
      "source": [
        "y_train_mean = y_train.mean()\n",
        "y_train_std = y_train.std()\n",
        "\n",
        "y_train = (y_train - y_train_mean)/y_train_std\n",
        "y_val = (y_val - y_train_mean)/y_train_std\n",
        "y_test = (y_test - y_train_mean)/y_train_std"
      ],
      "metadata": {
        "id": "LhR-yUTliKl_"
      },
      "execution_count": 15,
      "outputs": []
    },
    {
      "cell_type": "code",
      "source": [
        "all_X_train, all_y_train = creation_batchs(n_batchs, X_train, y_train)"
      ],
      "metadata": {
        "id": "ihsAjPtlQmQg"
      },
      "execution_count": 16,
      "outputs": []
    },
    {
      "cell_type": "code",
      "source": [
        "for i in range(n_batchs):\n",
        "  all_X_train[i] = torch.tensor(np.array(all_X_train[i]))\n",
        "  all_y_train[i] = torch.tensor(np.array(all_y_train[i]))\n",
        "\n",
        "X_train = torch.tensor(np.array(X_train))\n",
        "y_train = torch.tensor(np.array(y_train))\n",
        "\n",
        "X_val = torch.tensor(np.array(X_val))\n",
        "y_val = torch.tensor(np.array(y_val))\n",
        "\n",
        "X_test = torch.tensor(np.array(X_test))\n",
        "y_test = torch.tensor(np.array(y_test))"
      ],
      "metadata": {
        "id": "-4HtEOnbRl1w"
      },
      "execution_count": 17,
      "outputs": []
    },
    {
      "cell_type": "markdown",
      "source": [
        "### iii. Creation of model"
      ],
      "metadata": {
        "id": "gSKy_3Xr_SlF"
      }
    },
    {
      "cell_type": "code",
      "source": [
        "class MLP(nn.Module):\n",
        "\n",
        "    def __init__(self, input_size, hidden_dim_1, hidden_dim_2, output_size):\n",
        "        super(MLP, self).__init__()\n",
        "\n",
        "        #----------------------------------------------------------------------\n",
        "\n",
        "        self.input_size = input_size\n",
        "\n",
        "        self.hidden_dim_1 = hidden_dim_1\n",
        "        self.hidden_dim_2 = hidden_dim_2\n",
        "\n",
        "        self.output_size = output_size\n",
        "\n",
        "        #----------------------------------------------------------------------\n",
        "\n",
        "        self.fc_entry = nn.Linear(self.input_size, self.hidden_dim_1)\n",
        "\n",
        "        self.fc_1 = nn.Linear(self.hidden_dim_1, self.hidden_dim_2)\n",
        "        self.fc_2 = nn.Linear(self.hidden_dim_2, self.output_size)\n",
        "\n",
        "        self.activation_1 = nn.ReLU()\n",
        "        self.activation_2 = nn.ReLU()\n",
        "\n",
        "        #----------------------------------------------------------------------\n",
        "\n",
        "\n",
        "    def forward(self, x):\n",
        "\n",
        "        out = self.fc_entry(x)\n",
        "        out = self.activation_1(out)\n",
        "\n",
        "        out = self.fc_1(out)\n",
        "        out = self.activation_2(out)\n",
        "\n",
        "        out = self.fc_2(out)\n",
        "\n",
        "        return out"
      ],
      "metadata": {
        "id": "lQ7rs7zWT2Y-"
      },
      "execution_count": 18,
      "outputs": []
    },
    {
      "cell_type": "markdown",
      "source": [
        "# Custom Loss Function"
      ],
      "metadata": {
        "id": "u6uMyG3wVftb"
      }
    },
    {
      "cell_type": "code",
      "source": [
        "def my_loss(output, target):\n",
        "    loss = torch.mean(torch.abs(output - target))\n",
        "    return loss"
      ],
      "metadata": {
        "id": "-N2r-RMIVmL9"
      },
      "execution_count": 19,
      "outputs": []
    },
    {
      "cell_type": "markdown",
      "source": [
        "# Model"
      ],
      "metadata": {
        "id": "CoJTPlT9YLwJ"
      }
    },
    {
      "cell_type": "code",
      "source": [
        "class Model():\n",
        "\n",
        "  def __init__(self, input_size, hidden_dim_1, hidden_dim_2, output_size, n_epochs, lr):\n",
        "\n",
        "    self.input_size = input_size\n",
        "    self.hidden_dim_1 = hidden_dim_1\n",
        "    self.hidden_dim_2 = hidden_dim_2\n",
        "    self.output_size = output_size\n",
        "\n",
        "    self.n_epochs = n_epochs\n",
        "    self.lr = lr\n",
        "\n",
        "    self.model = MLP(input_size, hidden_dim_1, hidden_dim_2, output_size)\n",
        "\n",
        "\n",
        "  def train(self):\n",
        "\n",
        "    start_train = time.time()\n",
        "\n",
        "    #----------------------------------------------------------------------\n",
        "\n",
        "    criterion = my_loss\n",
        "    optimizer = torch.optim.Adam(self.model.parameters(), lr = self.lr)\n",
        "\n",
        "    #----------------------------------------------------------------------\n",
        "\n",
        "    all_train_loss = []\n",
        "    all_val_loss = []\n",
        "    all_epochs = []\n",
        "\n",
        "    #----------------------------------------------------------------------\n",
        "\n",
        "    for epoch in range(1, self.n_epochs + 1):\n",
        "\n",
        "      # 1. Train\n",
        "\n",
        "      self.model.train()\n",
        "\n",
        "      loss_train_epoch = 0\n",
        "\n",
        "      for n_iter in range(n_batchs):\n",
        "\n",
        "        X_train_batch = all_X_train[n_iter]\n",
        "        y_train_batch = all_y_train[n_iter]\n",
        "\n",
        "        optimizer.zero_grad() # Clears existing gradients\n",
        "\n",
        "        out_train_batch = self.model(X_train_batch)\n",
        "        out_train_batch = torch.reshape(out_train_batch, (-1, ))\n",
        "\n",
        "        loss_train_batch = criterion(out_train_batch, y_train_batch)\n",
        "\n",
        "        loss_train_batch.backward()\n",
        "        optimizer.step() # Updates the weights accordingly\n",
        "\n",
        "        loss_train_epoch = loss_train_epoch + loss_train_batch.item()\n",
        "\n",
        "      loss_train_epoch = loss_train_epoch/len(X_train)\n",
        "\n",
        "      all_train_loss.append(loss_train_epoch)\n",
        "      all_epochs.append(epoch)\n",
        "\n",
        "      # 2. Validation\n",
        "\n",
        "      self.model.eval()\n",
        "\n",
        "      out_val = self.model(X_val)\n",
        "      out_val = torch.reshape(out_val, (-1, ))\n",
        "\n",
        "      loss_val = criterion(out_val, y_val).item()/len(X_val)\n",
        "\n",
        "      all_val_loss.append(loss_val)\n",
        "\n",
        "    #----------------------------------------------------------------------\n",
        "\n",
        "    end_train = time.time()\n",
        "\n",
        "    self.all_epochs = all_epochs\n",
        "\n",
        "    self.all_train_loss = all_train_loss\n",
        "    self.all_val_loss = all_val_loss\n",
        "\n",
        "    return print_time_execution(start_train, end_train, 'in train the model')\n",
        "\n",
        "\n",
        "  def plot_train(self):\n",
        "\n",
        "    plt.figure(figsize = (10, 7))\n",
        "    plt.title('Normal scale')\n",
        "    plt.plot(self.all_epochs, self.all_train_loss, label = 'train', color = 'blue')\n",
        "    plt.plot(self.all_epochs, self.all_val_loss, label = 'val', color = 'red')\n",
        "    plt.legend()\n",
        "    plt.show()\n",
        "\n",
        "    print('\\n')\n",
        "    print('\\n')\n",
        "    print('\\n')\n",
        "\n",
        "    plt.figure(figsize = (10, 7))\n",
        "    plt.title('Log scale')\n",
        "    plt.plot(self.all_epochs, np.log(np.array(self.all_train_loss)), label = 'train', color = 'blue')\n",
        "    plt.plot(self.all_epochs, np.log(np.array(self.all_val_loss)), label = 'val', color = 'red')\n",
        "    plt.legend()\n",
        "    plt.show()\n",
        "\n",
        "\n",
        "  def evaluation_val_set(self):\n",
        "\n",
        "    criterion = nn.MSELoss()\n",
        "\n",
        "    self.model.eval()\n",
        "\n",
        "    out_val = self.model(X_val)\n",
        "    out_val = torch.reshape(out_val, (-1, ))\n",
        "\n",
        "    loss_val = criterion(out_val, y_val).item()/len(X_val)\n",
        "\n",
        "    return loss_val\n"
      ],
      "metadata": {
        "id": "PQm8u882Nfjh"
      },
      "execution_count": 20,
      "outputs": []
    },
    {
      "cell_type": "markdown",
      "source": [
        "### iv. Hyperparameter Tuning Jobs"
      ],
      "metadata": {
        "id": "QlOxyuPeNFYO"
      }
    },
    {
      "cell_type": "code",
      "source": [
        "input_size = 1\n",
        "output_size = 1\n",
        "\n",
        "all_hidden_dim_1 = [(i*2) for i in range(1, 5 + 1)]\n",
        "all_hidden_dim_2 = [(i*2) for i in range(1, 5 + 1)]\n",
        "all_n_epochs = [(i*100) for i in range(1, 5 + 1)]\n",
        "all_lr = [(i*0.01) for i in range(1, 5 + 1)]\n",
        "\n",
        "all_params = []\n",
        "\n",
        "for hidden_dim_1 in all_hidden_dim_1:\n",
        "  for hidden_dim_2 in all_hidden_dim_2:\n",
        "    for n_epochs in all_n_epochs:\n",
        "      for lr in all_lr:\n",
        "        all_params.append({'hidden_dim_1': hidden_dim_1, 'hidden_dim_2': hidden_dim_2, 'n_epochs': n_epochs, 'lr': lr})"
      ],
      "metadata": {
        "id": "SorHSAdmXL4z"
      },
      "execution_count": 21,
      "outputs": []
    },
    {
      "cell_type": "code",
      "source": [
        "hidden_dim_1_col = []\n",
        "hidden_dim_2_col = []\n",
        "\n",
        "n_epochs_col = []\n",
        "lr_col = []\n",
        "\n",
        "loss_val_col = []\n",
        "\n",
        "c = 0\n",
        "\n",
        "start_iter = time.time()\n",
        "\n",
        "m = 10\n",
        "\n",
        "for params in all_params:\n",
        "\n",
        "  c = c + 1\n",
        "\n",
        "  hidden_dim_1 = params['hidden_dim_1']\n",
        "  hidden_dim_2 = params['hidden_dim_2']\n",
        "\n",
        "  n_epochs = params['n_epochs']\n",
        "  lr = params['lr']\n",
        "\n",
        "  model = Model(input_size, hidden_dim_1, hidden_dim_2, output_size, n_epochs, lr)\n",
        "  _ = model.train()\n",
        "  loss_val = model.evaluation_val_set()\n",
        "\n",
        "  hidden_dim_1_col.append(hidden_dim_1)\n",
        "  hidden_dim_2_col.append(hidden_dim_2)\n",
        "\n",
        "  n_epochs_col.append(n_epochs)\n",
        "  lr_col.append(lr)\n",
        "\n",
        "  loss_val_col.append(loss_val)\n",
        "\n",
        "  if (c % m) == 0:\n",
        "\n",
        "    end_iter = time.time()\n",
        "    print(f'c = {c}')\n",
        "    print(print_time_execution(start_iter, end_iter, f'execute {m} iterations'))\n",
        "    print('-'*70)\n",
        "    start_iter = time.time()"
      ],
      "metadata": {
        "colab": {
          "base_uri": "https://localhost:8080/"
        },
        "id": "1M2FWEBnkMo7",
        "outputId": "8b42e011-b5ab-41d5-ea48-b76412c6ef48"
      },
      "execution_count": 22,
      "outputs": [
        {
          "output_type": "stream",
          "name": "stdout",
          "text": [
            "c = 10\n",
            "execute 10 iterations it takes 0 hours, 0 mins and 8 segs.\n",
            "----------------------------------------------------------------------\n",
            "c = 20\n",
            "execute 10 iterations it takes 0 hours, 0 mins and 17 segs.\n",
            "----------------------------------------------------------------------\n",
            "c = 30\n",
            "execute 10 iterations it takes 0 hours, 0 mins and 8 segs.\n",
            "----------------------------------------------------------------------\n",
            "c = 40\n",
            "execute 10 iterations it takes 0 hours, 0 mins and 7 segs.\n",
            "----------------------------------------------------------------------\n",
            "c = 50\n",
            "execute 10 iterations it takes 0 hours, 0 mins and 13 segs.\n",
            "----------------------------------------------------------------------\n",
            "c = 60\n",
            "execute 10 iterations it takes 0 hours, 0 mins and 4 segs.\n",
            "----------------------------------------------------------------------\n",
            "c = 70\n",
            "execute 10 iterations it takes 0 hours, 0 mins and 10 segs.\n",
            "----------------------------------------------------------------------\n",
            "c = 80\n",
            "execute 10 iterations it takes 0 hours, 0 mins and 8 segs.\n",
            "----------------------------------------------------------------------\n",
            "c = 90\n",
            "execute 10 iterations it takes 0 hours, 0 mins and 7 segs.\n",
            "----------------------------------------------------------------------\n",
            "c = 100\n",
            "execute 10 iterations it takes 0 hours, 0 mins and 13 segs.\n",
            "----------------------------------------------------------------------\n",
            "c = 110\n",
            "execute 10 iterations it takes 0 hours, 0 mins and 4 segs.\n",
            "----------------------------------------------------------------------\n",
            "c = 120\n",
            "execute 10 iterations it takes 0 hours, 0 mins and 10 segs.\n",
            "----------------------------------------------------------------------\n",
            "c = 130\n",
            "execute 10 iterations it takes 0 hours, 0 mins and 9 segs.\n",
            "----------------------------------------------------------------------\n",
            "c = 140\n",
            "execute 10 iterations it takes 0 hours, 0 mins and 7 segs.\n",
            "----------------------------------------------------------------------\n",
            "c = 150\n",
            "execute 10 iterations it takes 0 hours, 0 mins and 13 segs.\n",
            "----------------------------------------------------------------------\n",
            "c = 160\n",
            "execute 10 iterations it takes 0 hours, 0 mins and 4 segs.\n",
            "----------------------------------------------------------------------\n",
            "c = 170\n",
            "execute 10 iterations it takes 0 hours, 0 mins and 18 segs.\n",
            "----------------------------------------------------------------------\n",
            "c = 180\n",
            "execute 10 iterations it takes 0 hours, 0 mins and 9 segs.\n",
            "----------------------------------------------------------------------\n",
            "c = 190\n",
            "execute 10 iterations it takes 0 hours, 0 mins and 7 segs.\n",
            "----------------------------------------------------------------------\n",
            "c = 200\n",
            "execute 10 iterations it takes 0 hours, 0 mins and 13 segs.\n",
            "----------------------------------------------------------------------\n",
            "c = 210\n",
            "execute 10 iterations it takes 0 hours, 0 mins and 4 segs.\n",
            "----------------------------------------------------------------------\n",
            "c = 220\n",
            "execute 10 iterations it takes 0 hours, 0 mins and 10 segs.\n",
            "----------------------------------------------------------------------\n",
            "c = 230\n",
            "execute 10 iterations it takes 0 hours, 0 mins and 9 segs.\n",
            "----------------------------------------------------------------------\n",
            "c = 240\n",
            "execute 10 iterations it takes 0 hours, 0 mins and 7 segs.\n",
            "----------------------------------------------------------------------\n",
            "c = 250\n",
            "execute 10 iterations it takes 0 hours, 0 mins and 13 segs.\n",
            "----------------------------------------------------------------------\n",
            "c = 260\n",
            "execute 10 iterations it takes 0 hours, 0 mins and 5 segs.\n",
            "----------------------------------------------------------------------\n",
            "c = 270\n",
            "execute 10 iterations it takes 0 hours, 0 mins and 11 segs.\n",
            "----------------------------------------------------------------------\n",
            "c = 280\n",
            "execute 10 iterations it takes 0 hours, 0 mins and 8 segs.\n",
            "----------------------------------------------------------------------\n",
            "c = 290\n",
            "execute 10 iterations it takes 0 hours, 0 mins and 7 segs.\n",
            "----------------------------------------------------------------------\n",
            "c = 300\n",
            "execute 10 iterations it takes 0 hours, 0 mins and 13 segs.\n",
            "----------------------------------------------------------------------\n",
            "c = 310\n",
            "execute 10 iterations it takes 0 hours, 0 mins and 4 segs.\n",
            "----------------------------------------------------------------------\n",
            "c = 320\n",
            "execute 10 iterations it takes 0 hours, 0 mins and 10 segs.\n",
            "----------------------------------------------------------------------\n",
            "c = 330\n",
            "execute 10 iterations it takes 0 hours, 0 mins and 9 segs.\n",
            "----------------------------------------------------------------------\n",
            "c = 340\n",
            "execute 10 iterations it takes 0 hours, 0 mins and 7 segs.\n",
            "----------------------------------------------------------------------\n",
            "c = 350\n",
            "execute 10 iterations it takes 0 hours, 0 mins and 14 segs.\n",
            "----------------------------------------------------------------------\n",
            "c = 360\n",
            "execute 10 iterations it takes 0 hours, 0 mins and 4 segs.\n",
            "----------------------------------------------------------------------\n",
            "c = 370\n",
            "execute 10 iterations it takes 0 hours, 0 mins and 10 segs.\n",
            "----------------------------------------------------------------------\n",
            "c = 380\n",
            "execute 10 iterations it takes 0 hours, 0 mins and 9 segs.\n",
            "----------------------------------------------------------------------\n",
            "c = 390\n",
            "execute 10 iterations it takes 0 hours, 0 mins and 7 segs.\n",
            "----------------------------------------------------------------------\n",
            "c = 400\n",
            "execute 10 iterations it takes 0 hours, 0 mins and 13 segs.\n",
            "----------------------------------------------------------------------\n",
            "c = 410\n",
            "execute 10 iterations it takes 0 hours, 0 mins and 4 segs.\n",
            "----------------------------------------------------------------------\n",
            "c = 420\n",
            "execute 10 iterations it takes 0 hours, 0 mins and 10 segs.\n",
            "----------------------------------------------------------------------\n",
            "c = 430\n",
            "execute 10 iterations it takes 0 hours, 0 mins and 8 segs.\n",
            "----------------------------------------------------------------------\n",
            "c = 440\n",
            "execute 10 iterations it takes 0 hours, 0 mins and 7 segs.\n",
            "----------------------------------------------------------------------\n",
            "c = 450\n",
            "execute 10 iterations it takes 0 hours, 0 mins and 13 segs.\n",
            "----------------------------------------------------------------------\n",
            "c = 460\n",
            "execute 10 iterations it takes 0 hours, 0 mins and 4 segs.\n",
            "----------------------------------------------------------------------\n",
            "c = 470\n",
            "execute 10 iterations it takes 0 hours, 0 mins and 10 segs.\n",
            "----------------------------------------------------------------------\n",
            "c = 480\n",
            "execute 10 iterations it takes 0 hours, 0 mins and 9 segs.\n",
            "----------------------------------------------------------------------\n",
            "c = 490\n",
            "execute 10 iterations it takes 0 hours, 0 mins and 7 segs.\n",
            "----------------------------------------------------------------------\n",
            "c = 500\n",
            "execute 10 iterations it takes 0 hours, 0 mins and 13 segs.\n",
            "----------------------------------------------------------------------\n",
            "c = 510\n",
            "execute 10 iterations it takes 0 hours, 0 mins and 4 segs.\n",
            "----------------------------------------------------------------------\n",
            "c = 520\n",
            "execute 10 iterations it takes 0 hours, 0 mins and 10 segs.\n",
            "----------------------------------------------------------------------\n",
            "c = 530\n",
            "execute 10 iterations it takes 0 hours, 0 mins and 9 segs.\n",
            "----------------------------------------------------------------------\n",
            "c = 540\n",
            "execute 10 iterations it takes 0 hours, 0 mins and 6 segs.\n",
            "----------------------------------------------------------------------\n",
            "c = 550\n",
            "execute 10 iterations it takes 0 hours, 0 mins and 13 segs.\n",
            "----------------------------------------------------------------------\n",
            "c = 560\n",
            "execute 10 iterations it takes 0 hours, 0 mins and 4 segs.\n",
            "----------------------------------------------------------------------\n",
            "c = 570\n",
            "execute 10 iterations it takes 0 hours, 0 mins and 10 segs.\n",
            "----------------------------------------------------------------------\n",
            "c = 580\n",
            "execute 10 iterations it takes 0 hours, 0 mins and 8 segs.\n",
            "----------------------------------------------------------------------\n",
            "c = 590\n",
            "execute 10 iterations it takes 0 hours, 0 mins and 7 segs.\n",
            "----------------------------------------------------------------------\n",
            "c = 600\n",
            "execute 10 iterations it takes 0 hours, 0 mins and 13 segs.\n",
            "----------------------------------------------------------------------\n",
            "c = 610\n",
            "execute 10 iterations it takes 0 hours, 0 mins and 4 segs.\n",
            "----------------------------------------------------------------------\n",
            "c = 620\n",
            "execute 10 iterations it takes 0 hours, 0 mins and 10 segs.\n",
            "----------------------------------------------------------------------\n"
          ]
        }
      ]
    },
    {
      "cell_type": "code",
      "source": [
        "ht = pd.DataFrame()\n",
        "ht['hidden_dim_1'] = hidden_dim_1_col\n",
        "ht['hidden_dim_2'] = hidden_dim_2_col\n",
        "ht['n_epochs'] = n_epochs_col\n",
        "ht['lr'] = lr_col\n",
        "ht['loss_val'] = loss_val_col"
      ],
      "metadata": {
        "id": "0DNPN7cglXXv"
      },
      "execution_count": 23,
      "outputs": []
    },
    {
      "cell_type": "code",
      "source": [
        "hidden_dim_1_opt, hidden_dim_2_opt, n_epochs_opt, lr_opt, _ = ht[ht['loss_val'] == ht['loss_val'].min()].iloc[0]"
      ],
      "metadata": {
        "id": "gMvpDJHrkQH0"
      },
      "execution_count": 24,
      "outputs": []
    },
    {
      "cell_type": "code",
      "source": [
        "hidden_dim_1_opt = int(hidden_dim_1_opt)\n",
        "hidden_dim_2_opt = int(hidden_dim_2_opt)\n",
        "n_epochs_opt = int(n_epochs_opt)"
      ],
      "metadata": {
        "id": "z0kpTLtzqB5P"
      },
      "execution_count": 25,
      "outputs": []
    },
    {
      "cell_type": "code",
      "source": [
        "hidden_dim_1_opt, hidden_dim_2_opt, n_epochs_opt, lr_opt"
      ],
      "metadata": {
        "colab": {
          "base_uri": "https://localhost:8080/"
        },
        "id": "XRFQa3wermVT",
        "outputId": "db60bef4-b9b8-4b01-ab67-dca3b97fc43d"
      },
      "execution_count": 26,
      "outputs": [
        {
          "output_type": "execute_result",
          "data": {
            "text/plain": [
              "(10, 6, 200, 0.02)"
            ]
          },
          "metadata": {},
          "execution_count": 26
        }
      ]
    },
    {
      "cell_type": "markdown",
      "source": [
        "### v. Definitive model"
      ],
      "metadata": {
        "id": "viiQGyJOpJAF"
      }
    },
    {
      "cell_type": "code",
      "source": [
        "model = Model(input_size, hidden_dim_1_opt, hidden_dim_2_opt, output_size, n_epochs_opt, lr_opt)"
      ],
      "metadata": {
        "id": "7oZoB1YNc6Qn"
      },
      "execution_count": 27,
      "outputs": []
    },
    {
      "cell_type": "code",
      "source": [
        "model.train()"
      ],
      "metadata": {
        "colab": {
          "base_uri": "https://localhost:8080/",
          "height": 35
        },
        "id": "UycMGnCRpFtv",
        "outputId": "0145cbc9-2a98-49f2-ee15-bf59da0b0135"
      },
      "execution_count": 28,
      "outputs": [
        {
          "output_type": "execute_result",
          "data": {
            "text/plain": [
              "'in train the model it takes 0 hours, 0 mins and 0 segs.'"
            ],
            "application/vnd.google.colaboratory.intrinsic+json": {
              "type": "string"
            }
          },
          "metadata": {},
          "execution_count": 28
        }
      ]
    },
    {
      "cell_type": "code",
      "source": [
        "model.plot_train()"
      ],
      "metadata": {
        "colab": {
          "base_uri": "https://localhost:8080/",
          "height": 1000
        },
        "id": "1laP7a7VpVEb",
        "outputId": "191e5551-9114-4aec-d0db-842369985702"
      },
      "execution_count": 29,
      "outputs": [
        {
          "output_type": "display_data",
          "data": {
            "text/plain": [
              "<Figure size 1000x700 with 1 Axes>"
            ],
            "image/png": "[encoded data removed]"
          },
          "metadata": {}
        },
        {
          "output_type": "stream",
          "name": "stdout",
          "text": [
            "\n",
            "\n",
            "\n",
            "\n",
            "\n",
            "\n"
          ]
        },
        {
          "output_type": "display_data",
          "data": {
            "text/plain": [
              "<Figure size 1000x700 with 1 Axes>"
            ],
            "image/png": "[encoded data removed]"
          },
          "metadata": {}
        }
      ]
    },
    {
      "cell_type": "code",
      "source": [
        "model_MLP = model.model"
      ],
      "metadata": {
        "id": "Vy79JbLJq_dy"
      },
      "execution_count": 30,
      "outputs": []
    },
    {
      "cell_type": "markdown",
      "source": [
        "### vi. Performance Metrics"
      ],
      "metadata": {
        "id": "Q6rw4wvArGlp"
      }
    },
    {
      "cell_type": "code",
      "source": [
        "train_predict = model_MLP(X_train)\n",
        "train_predict = torch.reshape(train_predict, (-1, ))\n",
        "train_predict = list(train_predict.detach().cpu().numpy())\n",
        "\n",
        "X_train_col = torch.reshape(X_train, (-1, ))\n",
        "X_train_col = list(X_train_col.detach().cpu().numpy())\n",
        "\n",
        "y_train_col = torch.reshape(y_train, (-1, ))\n",
        "y_train_col = list(y_train_col.detach().cpu().numpy())\n",
        "\n",
        "df_train = pd.DataFrame()\n",
        "df_train['X'] = X_train_col\n",
        "df_train['y'] = y_train_col\n",
        "df_train['y_predict'] = train_predict\n",
        "\n",
        "df_train['X'] = df_train['X']*X_train_std[0] + X_train_mean[0]\n",
        "df_train['y'] = df_train['y']*y_train_std + y_train_mean\n",
        "df_train['y_predict'] = df_train['y_predict']*y_train_std + y_train_mean"
      ],
      "metadata": {
        "id": "Xr_ahhKTvr2_"
      },
      "execution_count": 31,
      "outputs": []
    },
    {
      "cell_type": "code",
      "source": [
        "val_predict = model_MLP(X_val)\n",
        "val_predict = torch.reshape(val_predict, (-1, ))\n",
        "val_predict = list(val_predict.detach().cpu().numpy())\n",
        "\n",
        "X_val_col = torch.reshape(X_val, (-1, ))\n",
        "X_val_col = list(X_val_col.detach().cpu().numpy())\n",
        "\n",
        "y_val_col = torch.reshape(y_val, (-1, ))\n",
        "y_val_col = list(y_val_col.detach().cpu().numpy())\n",
        "\n",
        "df_val = pd.DataFrame()\n",
        "df_val['X'] = X_val_col\n",
        "df_val['y'] = y_val_col\n",
        "df_val['y_predict'] = val_predict\n",
        "\n",
        "df_val['X'] = df_val['X']*X_train_std[0] + X_train_mean[0]\n",
        "df_val['y'] = df_val['y']*y_train_std + y_train_mean\n",
        "df_val['y_predict'] = df_val['y_predict']*y_train_std + y_train_mean"
      ],
      "metadata": {
        "id": "JfKneSmftzl2"
      },
      "execution_count": 32,
      "outputs": []
    },
    {
      "cell_type": "code",
      "source": [
        "test_predict = model_MLP(X_test)\n",
        "test_predict = torch.reshape(test_predict, (-1, ))\n",
        "test_predict = list(test_predict.detach().cpu().numpy())\n",
        "\n",
        "X_test_col = torch.reshape(X_test, (-1, ))\n",
        "X_test_col = list(X_test_col.detach().cpu().numpy())\n",
        "\n",
        "y_test_col = torch.reshape(y_test, (-1, ))\n",
        "y_test_col = list(y_test_col.detach().cpu().numpy())\n",
        "\n",
        "df_test = pd.DataFrame()\n",
        "df_test['X'] = X_test_col\n",
        "df_test['y'] = y_test_col\n",
        "df_test['y_predict'] = test_predict\n",
        "\n",
        "df_test['X'] = df_test['X']*X_train_std[0] + X_train_mean[0]\n",
        "df_test['y'] = df_test['y']*y_train_std + y_train_mean\n",
        "df_test['y_predict'] = df_test['y_predict']*y_train_std + y_train_mean"
      ],
      "metadata": {
        "id": "qQrqE6xaweBH"
      },
      "execution_count": 33,
      "outputs": []
    },
    {
      "cell_type": "code",
      "source": [
        "plt.figure(figsize = (10, 7))\n",
        "\n",
        "plt.scatter(df_train['X'], df_train['y'], color = 'blue', label = 'real values')\n",
        "plt.scatter(df_val['X'], df_val['y'], color = 'blue')\n",
        "plt.scatter(df_test['X'], df_test['y'], color = 'blue')\n",
        "\n",
        "plt.scatter(df_train['X'], df_train['y_predict'], color = 'purple', label = 'predict train')\n",
        "plt.scatter(df_val['X'], df_val['y_predict'], color = 'red', label = 'predict val')\n",
        "plt.scatter(df_test['X'], df_test['y_predict'], color = 'green', label = 'predict test')\n",
        "\n",
        "plt.legend()\n",
        "plt.show()"
      ],
      "metadata": {
        "colab": {
          "base_uri": "https://localhost:8080/",
          "height": 599
        },
        "id": "wR2uDCUltzxt",
        "outputId": "e36fad9f-e22f-4757-8c27-9a8d5c362273"
      },
      "execution_count": 34,
      "outputs": [
        {
          "output_type": "display_data",
          "data": {
            "text/plain": [
              "<Figure size 1000x700 with 1 Axes>"
            ],
            "image/png": "[encoded data removed]"
          },
          "metadata": {}
        }
      ]
    },
    {
      "cell_type": "code",
      "source": [
        "mae_train = round(abs(df_train['y_predict'] - df_train['y']).mean(), 2)\n",
        "mae_val = round(abs(df_val['y_predict'] - df_val['y']).mean(), 2)\n",
        "mae_test = round(abs(df_test['y_predict'] - df_test['y']).mean(), 2)\n",
        "\n",
        "print('MAE train: ', mae_train)\n",
        "print('MAE val: ', mae_val)\n",
        "print('MAE test: ', mae_test)"
      ],
      "metadata": {
        "colab": {
          "base_uri": "https://localhost:8080/"
        },
        "id": "shRcl4vl1Msh",
        "outputId": "534cf4a7-2aca-4d8d-efa4-bdff63f8691b"
      },
      "execution_count": 35,
      "outputs": [
        {
          "output_type": "stream",
          "name": "stdout",
          "text": [
            "MAE train:  4.97\n",
            "MAE val:  4.91\n",
            "MAE test:  6.22\n"
          ]
        }
      ]
    },
    {
      "cell_type": "markdown",
      "source": [
        "### vii. Explainability"
      ],
      "metadata": {
        "id": "v4WfDHG38wOl"
      }
    },
    {
      "cell_type": "code",
      "source": [
        "!pip install -q shap"
      ],
      "metadata": {
        "id": "EUziqSsc9SJh"
      },
      "execution_count": 36,
      "outputs": []
    },
    {
      "cell_type": "code",
      "source": [
        "import shap"
      ],
      "metadata": {
        "id": "l9Euwden9S7I"
      },
      "execution_count": 37,
      "outputs": []
    },
    {
      "cell_type": "code",
      "source": [
        "def MLP_predict(df_X):\n",
        "\n",
        "  df_X_tensor = torch.tensor(np.array(df_X))\n",
        "  y_pred = model_MLP(df_X_tensor)\n",
        "  y_pred = torch.reshape(y_pred, (-1, 1))\n",
        "  y_pred = y_pred.detach().cpu().numpy()\n",
        "  y_pred = y_pred[:, 0]\n",
        "\n",
        "  return y_pred"
      ],
      "metadata": {
        "id": "bfRJZzzu85uG"
      },
      "execution_count": 38,
      "outputs": []
    },
    {
      "cell_type": "code",
      "source": [
        "explainer = shap.KernelExplainer(MLP_predict, df_test[['X']])"
      ],
      "metadata": {
        "id": "5L4YP_Tr85wb"
      },
      "execution_count": 39,
      "outputs": []
    },
    {
      "cell_type": "code",
      "source": [
        "shap_values = explainer.shap_values(df_test[['X']])"
      ],
      "metadata": {
        "colab": {
          "base_uri": "https://localhost:8080/",
          "height": 49,
          "referenced_widgets": [
            "5a705735578d415bb2469cecc7b99c95",
            "acc0c26a40fa41f79a3c3ec923f7043d",
            "db5fce5830624144b303daa906318cf7",
            "cad95a63caf042aebb83f997714dd1c5",
            "ef1b0658b1f745de8e3e3ea805d4b8f2",
            "9a0a3f7e7a8c473cb3f010969ab66558",
            "56b28b97828f468a82331f7b4242426e",
            "481e98f367b34494ade61a1cd5145213",
            "d8bc8439b10f4179a44cc6550745eb99",
            "931adbb1ea4f4af7b42ebb57b04f1bd1",
            "ed979ebce0c14038b23bd829e5a39298"
          ]
        },
        "id": "0f8mktSc9GBn",
        "outputId": "5bc2e656-4342-4576-f617-6a872f21c20f"
      },
      "execution_count": 40,
      "outputs": [
        {
          "output_type": "display_data",
          "data": {
            "text/plain": [
              "  0%|          | 0/100 [00:00<?, ?it/s]"
            ],
            "application/vnd.jupyter.widget-view+json": {
              "version_major": 2,
              "version_minor": 0,
              "model_id": "5a705735578d415bb2469cecc7b99c95"
            }
          },
          "metadata": {}
        }
      ]
    },
    {
      "cell_type": "code",
      "source": [
        "shap.summary_plot(shap_values, df_test[['X']], plot_type = \"bar\")"
      ],
      "metadata": {
        "colab": {
          "base_uri": "https://localhost:8080/",
          "height": 197
        },
        "id": "ESLca7X_AR6Q",
        "outputId": "099c5747-306f-4d8b-89bc-37f1bb573405"
      },
      "execution_count": 41,
      "outputs": [
        {
          "output_type": "display_data",
          "data": {
            "text/plain": [
              "<Figure size 800x190 with 1 Axes>"
            ],
            "image/png": "[encoded data removed]"
          },
          "metadata": {}
        }
      ]
    },
    {
      "cell_type": "code",
      "source": [
        "shap.summary_plot(shap_values, df_test[['X']])"
      ],
      "metadata": {
        "colab": {
          "base_uri": "https://localhost:8080/",
          "height": 197
        },
        "id": "9bxZl3tpAW_3",
        "outputId": "800e7529-150c-4c00-d0d0-1ab58714c257"
      },
      "execution_count": 42,
      "outputs": [
        {
          "output_type": "display_data",
          "data": {
            "text/plain": [
              "<Figure size 800x190 with 2 Axes>"
            ],
            "image/png": "[encoded data removed]"
          },
          "metadata": {}
        }
      ]
    },
    {
      "cell_type": "code",
      "source": [
        "for name in ['X']:\n",
        "    shap.dependence_plot(name, shap_values, df_test[['X']])"
      ],
      "metadata": {
        "colab": {
          "base_uri": "https://localhost:8080/",
          "height": 470
        },
        "id": "8xc1G03m85yi",
        "outputId": "ad575077-e2a7-4256-9c34-6d22d8a1599a"
      },
      "execution_count": 43,
      "outputs": [
        {
          "output_type": "display_data",
          "data": {
            "text/plain": [
              "<Figure size 600x500 with 1 Axes>"
            ],
            "image/png": "[encoded data removed]"
          },
          "metadata": {}
        }
      ]
    },
    {
      "cell_type": "markdown",
      "source": [
        "### End time of execution"
      ],
      "metadata": {
        "id": "LkHMilZFrQ_K"
      }
    },
    {
      "cell_type": "code",
      "source": [
        "end = time.time()"
      ],
      "metadata": {
        "id": "vOqQSkNerZgG"
      },
      "execution_count": 44,
      "outputs": []
    },
    {
      "cell_type": "code",
      "source": [
        "print(print_time_execution(start, end, 'notebook execution'))"
      ],
      "metadata": {
        "colab": {
          "base_uri": "https://localhost:8080/"
        },
        "id": "4SbwsDNZra2W",
        "outputId": "c6bb4dee-7232-4b99-d377-484da065a2ad"
      },
      "execution_count": 45,
      "outputs": [
        {
          "output_type": "stream",
          "name": "stdout",
          "text": [
            "notebook execution it takes 0 hours, 9 mins and 51 segs.\n"
          ]
        }
      ]
    },
    {
      "cell_type": "code",
      "source": [],
      "metadata": {
        "id": "zQReoNrds-Rl"
      },
      "execution_count": 45,
      "outputs": []
    }
  ]
}