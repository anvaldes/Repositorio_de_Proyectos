{
  "nbformat": 4,
  "nbformat_minor": 0,
  "metadata": {
    "colab": {
      "provenance": []
    },
    "kernelspec": {
      "name": "python3",
      "display_name": "Python 3"
    },
    "language_info": {
      "name": "python"
    }
  },
  "cells": [
    {
      "cell_type": "code",
      "execution_count": 1,
      "metadata": {
        "id": "1W00PO-eR5pV"
      },
      "outputs": [],
      "source": [
        "import time\n",
        "import torch\n",
        "import numpy as np\n",
        "import pandas as pd\n",
        "import torch.nn as nn\n",
        "import matplotlib.pyplot as plt\n",
        "from sklearn.model_selection import train_test_split"
      ]
    },
    {
      "cell_type": "code",
      "source": [
        "start = time.time()"
      ],
      "metadata": {
        "id": "907OM3_9_pMe"
      },
      "execution_count": 2,
      "outputs": []
    },
    {
      "cell_type": "code",
      "source": [
        "def print_time_execution(start, end, txt):\n",
        "\n",
        "  delta = int(end - start)\n",
        "\n",
        "  hours = int(delta/3_600)\n",
        "  mins = int((delta - 3_600*hours)/60)\n",
        "  segs = int(delta - hours*3600 - mins*60)\n",
        "\n",
        "  print(f'{txt} it takes {hours} hours, {mins} mins and {segs} segs.')"
      ],
      "metadata": {
        "id": "Uy1CopVn_0Sn"
      },
      "execution_count": 3,
      "outputs": []
    },
    {
      "cell_type": "markdown",
      "source": [
        "# 1. Creation of datasets"
      ],
      "metadata": {
        "id": "JmoTXNLi8nR5"
      }
    },
    {
      "cell_type": "code",
      "source": [
        "np.random.seed(10)"
      ],
      "metadata": {
        "id": "M-oz1VNUSZ6g"
      },
      "execution_count": 4,
      "outputs": []
    },
    {
      "cell_type": "code",
      "source": [
        "# Breakpoints\n",
        "\n",
        "v = 2\n",
        "\n",
        "#---------------------------------------------------\n",
        "\n",
        "# Parameters of the model\n",
        "\n",
        "a = -5\n",
        "b = 11\n",
        "\n",
        "h = 0.5\n",
        "\n",
        "#---------------------------------------------------\n",
        "\n",
        "N = int((b - a)/h) + 1\n",
        "\n",
        "#---------------------------------------------------\n",
        "\n",
        "# Seting the first value of the domain\n",
        "\n",
        "x = a - h\n",
        "\n",
        "#---------------------------------------------------\n",
        "\n",
        "X = []\n",
        "y = []\n",
        "\n",
        "#---------------------------------------------------\n",
        "\n",
        "for i in range(N):\n",
        "\n",
        "    x = round(x + h, 1)\n",
        "\n",
        "    noise = np.random.uniform(-h, h)\n",
        "\n",
        "    if x <= v:\n",
        "\n",
        "        f_x = -3*(x + noise) + 7\n",
        "\n",
        "        X.append(x)\n",
        "        y.append(f_x)\n",
        "\n",
        "    else:\n",
        "\n",
        "        f_x = (x + noise)**2 - 4*(x + noise) + 5\n",
        "\n",
        "        X.append(x)\n",
        "        y.append(f_x)\n",
        "\n",
        "#---------------------------------------------------"
      ],
      "metadata": {
        "id": "o7ERkCh4SluD"
      },
      "execution_count": 5,
      "outputs": []
    },
    {
      "cell_type": "code",
      "source": [
        "df = pd.DataFrame({'X': X, 'y': y})"
      ],
      "metadata": {
        "id": "4VMyXgEHSoOS"
      },
      "execution_count": 6,
      "outputs": []
    },
    {
      "cell_type": "code",
      "source": [
        "df['X'] = df['X'].astype('float32')\n",
        "df['y'] = df['y'].astype('float32')"
      ],
      "metadata": {
        "id": "toBTQPu7_W4_"
      },
      "execution_count": 7,
      "outputs": []
    },
    {
      "cell_type": "code",
      "source": [
        "X = df[['X']].copy()\n",
        "y = df['y'].copy()"
      ],
      "metadata": {
        "id": "5h9unEez9iMU"
      },
      "execution_count": 8,
      "outputs": []
    },
    {
      "cell_type": "code",
      "source": [
        "plt.plot(X, y)\n",
        "plt.show()"
      ],
      "metadata": {
        "colab": {
          "base_uri": "https://localhost:8080/",
          "height": 430
        },
        "id": "GwvHfvBi_LdP",
        "outputId": "0fa4323b-e2dd-4eda-d761-376d054fa28b"
      },
      "execution_count": 9,
      "outputs": [
        {
          "output_type": "display_data",
          "data": {
            "text/plain": [
              "<Figure size 640x480 with 1 Axes>"
            ],
            "image/png": "[encoded data removed]"
          },
          "metadata": {}
        }
      ]
    },
    {
      "cell_type": "markdown",
      "source": [
        "### 2. Split datasets"
      ],
      "metadata": {
        "id": "NdMhKgU49pwR"
      }
    },
    {
      "cell_type": "code",
      "source": [
        "X_train, X_val, y_train, y_val = train_test_split(X, y, test_size = 0.6, random_state = 42)"
      ],
      "metadata": {
        "id": "S-_hvQA59e0q"
      },
      "execution_count": 10,
      "outputs": []
    },
    {
      "cell_type": "code",
      "source": [
        "X_val, X_test, y_val, y_test = train_test_split(X_val, y_val, test_size = 0.6, random_state = 42)"
      ],
      "metadata": {
        "id": "hZWeLtLX9e25"
      },
      "execution_count": 11,
      "outputs": []
    },
    {
      "cell_type": "code",
      "source": [
        "X_train = torch.tensor(np.array(X_train))\n",
        "y_train = torch.tensor(np.array(y_train))\n",
        "\n",
        "X_val = torch.tensor(np.array(X_val))\n",
        "y_val = torch.tensor(np.array(y_val))\n",
        "\n",
        "X_test = torch.tensor(np.array(X_test))\n",
        "y_test = torch.tensor(np.array(y_test))"
      ],
      "metadata": {
        "id": "i5X9GBPX_aq5"
      },
      "execution_count": 12,
      "outputs": []
    },
    {
      "cell_type": "markdown",
      "source": [
        "### 3. Creation of model"
      ],
      "metadata": {
        "id": "gSKy_3Xr_SlF"
      }
    },
    {
      "cell_type": "code",
      "source": [
        "class NN(nn.Module):\n",
        "\n",
        "    def __init__(self, input_size, hidden_dim_1, hidden_dim_2, output_size):\n",
        "        super(NN, self).__init__()\n",
        "\n",
        "        #----------------------------------------------------------------------\n",
        "\n",
        "        self.input_size = input_size\n",
        "\n",
        "        self.hidden_dim_1 = hidden_dim_1\n",
        "        self.hidden_dim_2 = hidden_dim_2\n",
        "\n",
        "        self.output_size = output_size\n",
        "\n",
        "        #----------------------------------------------------------------------\n",
        "\n",
        "        self.fc_entry = nn.Linear(self.input_size, self.hidden_dim_1)\n",
        "\n",
        "        self.fc_1 = nn.Linear(self.hidden_dim_1, self.hidden_dim_2)\n",
        "        self.fc_2 = nn.Linear(self.hidden_dim_2, self.output_size)\n",
        "\n",
        "        self.activation_1 = nn.ReLU()\n",
        "        self.activation_2 = nn.ReLU()\n",
        "\n",
        "        #----------------------------------------------------------------------\n",
        "\n",
        "\n",
        "    def forward(self, x):\n",
        "\n",
        "        out = self.fc_entry(x)\n",
        "        out = self.activation_1(out)\n",
        "\n",
        "        out = self.fc_1(out)\n",
        "        out = self.activation_2(out)\n",
        "\n",
        "        out = self.fc_2(out)\n",
        "\n",
        "        return out"
      ],
      "metadata": {
        "id": "lQ7rs7zWT2Y-"
      },
      "execution_count": 13,
      "outputs": []
    },
    {
      "cell_type": "markdown",
      "source": [
        "### 4. Training"
      ],
      "metadata": {
        "id": "6TgWE1weAMm9"
      }
    },
    {
      "cell_type": "code",
      "source": [
        "input_size = 1\n",
        "hidden_dim_1 = 10\n",
        "hidden_dim_2 = 20\n",
        "output_size = 1\n",
        "\n",
        "n_epochs = 200\n",
        "lr = 0.02"
      ],
      "metadata": {
        "id": "vrIXCifETSdZ"
      },
      "execution_count": 14,
      "outputs": []
    },
    {
      "cell_type": "code",
      "source": [
        "model = NN(input_size, hidden_dim_1, hidden_dim_2, output_size)"
      ],
      "metadata": {
        "id": "0SGTkVtKVm_E"
      },
      "execution_count": 15,
      "outputs": []
    },
    {
      "cell_type": "code",
      "source": [
        "criterion = nn.MSELoss()\n",
        "optimizer = torch.optim.Adam(model.parameters(), lr = lr)"
      ],
      "metadata": {
        "id": "qhM1LZCxWMZ7"
      },
      "execution_count": 16,
      "outputs": []
    },
    {
      "cell_type": "code",
      "source": [
        "start_train = time.time()"
      ],
      "metadata": {
        "id": "todVontSA5GI"
      },
      "execution_count": 17,
      "outputs": []
    },
    {
      "cell_type": "code",
      "source": [
        "all_loss = []\n",
        "all_loss_val = []\n",
        "all_epochs = []\n",
        "\n",
        "\n",
        "for epoch in range(1, n_epochs + 1):\n",
        "\n",
        "      #--------------------------------------------------------------------\n",
        "\n",
        "      start_epoch = time.time()\n",
        "\n",
        "      #--------------------------------------------------------------------\n",
        "\n",
        "      # 1. Train epoch\n",
        "\n",
        "      model.train()\n",
        "\n",
        "      loss_train_epoch = 0\n",
        "\n",
        "      optimizer.zero_grad() # Clears existing gradients\n",
        "\n",
        "      out_train = model(X_train)\n",
        "      out_train = torch.reshape(out_train, (-1, ))\n",
        "      loss_train = criterion(out_train, y_train)\n",
        "\n",
        "      loss_train.backward()\n",
        "      optimizer.step() # Updates the weights accordingly\n",
        "\n",
        "      loss_train_epoch = loss_train.item()/len(X_train)\n",
        "      all_loss.append(loss_train_epoch)\n",
        "      all_epochs.append(epoch)\n",
        "\n",
        "      #--------------------------------------------------------------------\n",
        "\n",
        "      # 2. Evaluation\n",
        "\n",
        "      model.eval()\n",
        "\n",
        "      out_val = model(X_val)\n",
        "      out_val = torch.reshape(out_val, (-1, ))\n",
        "\n",
        "      loss_val = criterion(out_val, y_val).item()/len(X_val)\n",
        "\n",
        "      all_loss_val.append(loss_val)\n",
        "\n",
        "      #--------------------------------------------------------------------\n",
        "\n",
        "      end_epoch = time.time()\n",
        "      print_time_execution(start_epoch, end_epoch, f'Execution epoch = {epoch}')\n",
        "      print('-'*70)\n",
        "\n",
        "      #--------------------------------------------------------------------\n",
        "\n",
        "all_epochs = np.array(all_epochs)\n",
        "all_loss_val = np.array(all_loss_val)\n",
        "all_loss = np.array(all_loss)"
      ],
      "metadata": {
        "id": "otbryRzSTSh1",
        "colab": {
          "base_uri": "https://localhost:8080/"
        },
        "outputId": "15bc864d-8589-4574-cb00-6c7cc36b54ea"
      },
      "execution_count": 18,
      "outputs": [
        {
          "output_type": "stream",
          "name": "stdout",
          "text": [
            "Execution epoch = 1 it takes 0 hours, 0 mins and 0 segs.\n",
            "----------------------------------------------------------------------\n",
            "Execution epoch = 2 it takes 0 hours, 0 mins and 0 segs.\n",
            "----------------------------------------------------------------------\n",
            "Execution epoch = 3 it takes 0 hours, 0 mins and 0 segs.\n",
            "----------------------------------------------------------------------\n",
            "Execution epoch = 4 it takes 0 hours, 0 mins and 0 segs.\n",
            "----------------------------------------------------------------------\n",
            "Execution epoch = 5 it takes 0 hours, 0 mins and 0 segs.\n",
            "----------------------------------------------------------------------\n",
            "Execution epoch = 6 it takes 0 hours, 0 mins and 0 segs.\n",
            "----------------------------------------------------------------------\n",
            "Execution epoch = 7 it takes 0 hours, 0 mins and 0 segs.\n",
            "----------------------------------------------------------------------\n",
            "Execution epoch = 8 it takes 0 hours, 0 mins and 0 segs.\n",
            "----------------------------------------------------------------------\n",
            "Execution epoch = 9 it takes 0 hours, 0 mins and 0 segs.\n",
            "----------------------------------------------------------------------\n",
            "Execution epoch = 10 it takes 0 hours, 0 mins and 0 segs.\n",
            "----------------------------------------------------------------------\n",
            "Execution epoch = 11 it takes 0 hours, 0 mins and 0 segs.\n",
            "----------------------------------------------------------------------\n",
            "Execution epoch = 12 it takes 0 hours, 0 mins and 0 segs.\n",
            "----------------------------------------------------------------------\n",
            "Execution epoch = 13 it takes 0 hours, 0 mins and 0 segs.\n",
            "----------------------------------------------------------------------\n",
            "Execution epoch = 14 it takes 0 hours, 0 mins and 0 segs.\n",
            "----------------------------------------------------------------------\n",
            "Execution epoch = 15 it takes 0 hours, 0 mins and 0 segs.\n",
            "----------------------------------------------------------------------\n",
            "Execution epoch = 16 it takes 0 hours, 0 mins and 0 segs.\n",
            "----------------------------------------------------------------------\n",
            "Execution epoch = 17 it takes 0 hours, 0 mins and 0 segs.\n",
            "----------------------------------------------------------------------\n",
            "Execution epoch = 18 it takes 0 hours, 0 mins and 0 segs.\n",
            "----------------------------------------------------------------------\n",
            "Execution epoch = 19 it takes 0 hours, 0 mins and 0 segs.\n",
            "----------------------------------------------------------------------\n",
            "Execution epoch = 20 it takes 0 hours, 0 mins and 0 segs.\n",
            "----------------------------------------------------------------------\n",
            "Execution epoch = 21 it takes 0 hours, 0 mins and 0 segs.\n",
            "----------------------------------------------------------------------\n",
            "Execution epoch = 22 it takes 0 hours, 0 mins and 0 segs.\n",
            "----------------------------------------------------------------------\n",
            "Execution epoch = 23 it takes 0 hours, 0 mins and 0 segs.\n",
            "----------------------------------------------------------------------\n",
            "Execution epoch = 24 it takes 0 hours, 0 mins and 0 segs.\n",
            "----------------------------------------------------------------------\n",
            "Execution epoch = 25 it takes 0 hours, 0 mins and 0 segs.\n",
            "----------------------------------------------------------------------\n",
            "Execution epoch = 26 it takes 0 hours, 0 mins and 0 segs.\n",
            "----------------------------------------------------------------------\n",
            "Execution epoch = 27 it takes 0 hours, 0 mins and 0 segs.\n",
            "----------------------------------------------------------------------\n",
            "Execution epoch = 28 it takes 0 hours, 0 mins and 0 segs.\n",
            "----------------------------------------------------------------------\n",
            "Execution epoch = 29 it takes 0 hours, 0 mins and 0 segs.\n",
            "----------------------------------------------------------------------\n",
            "Execution epoch = 30 it takes 0 hours, 0 mins and 0 segs.\n",
            "----------------------------------------------------------------------\n",
            "Execution epoch = 31 it takes 0 hours, 0 mins and 0 segs.\n",
            "----------------------------------------------------------------------\n",
            "Execution epoch = 32 it takes 0 hours, 0 mins and 0 segs.\n",
            "----------------------------------------------------------------------\n",
            "Execution epoch = 33 it takes 0 hours, 0 mins and 0 segs.\n",
            "----------------------------------------------------------------------\n",
            "Execution epoch = 34 it takes 0 hours, 0 mins and 0 segs.\n",
            "----------------------------------------------------------------------\n",
            "Execution epoch = 35 it takes 0 hours, 0 mins and 0 segs.\n",
            "----------------------------------------------------------------------\n",
            "Execution epoch = 36 it takes 0 hours, 0 mins and 0 segs.\n",
            "----------------------------------------------------------------------\n",
            "Execution epoch = 37 it takes 0 hours, 0 mins and 0 segs.\n",
            "----------------------------------------------------------------------\n",
            "Execution epoch = 38 it takes 0 hours, 0 mins and 0 segs.\n",
            "----------------------------------------------------------------------\n",
            "Execution epoch = 39 it takes 0 hours, 0 mins and 0 segs.\n",
            "----------------------------------------------------------------------\n",
            "Execution epoch = 40 it takes 0 hours, 0 mins and 0 segs.\n",
            "----------------------------------------------------------------------\n",
            "Execution epoch = 41 it takes 0 hours, 0 mins and 0 segs.\n",
            "----------------------------------------------------------------------\n",
            "Execution epoch = 42 it takes 0 hours, 0 mins and 0 segs.\n",
            "----------------------------------------------------------------------\n",
            "Execution epoch = 43 it takes 0 hours, 0 mins and 0 segs.\n",
            "----------------------------------------------------------------------\n",
            "Execution epoch = 44 it takes 0 hours, 0 mins and 0 segs.\n",
            "----------------------------------------------------------------------\n",
            "Execution epoch = 45 it takes 0 hours, 0 mins and 0 segs.\n",
            "----------------------------------------------------------------------\n",
            "Execution epoch = 46 it takes 0 hours, 0 mins and 0 segs.\n",
            "----------------------------------------------------------------------\n",
            "Execution epoch = 47 it takes 0 hours, 0 mins and 0 segs.\n",
            "----------------------------------------------------------------------\n",
            "Execution epoch = 48 it takes 0 hours, 0 mins and 0 segs.\n",
            "----------------------------------------------------------------------\n",
            "Execution epoch = 49 it takes 0 hours, 0 mins and 0 segs.\n",
            "----------------------------------------------------------------------\n",
            "Execution epoch = 50 it takes 0 hours, 0 mins and 0 segs.\n",
            "----------------------------------------------------------------------\n",
            "Execution epoch = 51 it takes 0 hours, 0 mins and 0 segs.\n",
            "----------------------------------------------------------------------\n",
            "Execution epoch = 52 it takes 0 hours, 0 mins and 0 segs.\n",
            "----------------------------------------------------------------------\n",
            "Execution epoch = 53 it takes 0 hours, 0 mins and 0 segs.\n",
            "----------------------------------------------------------------------\n",
            "Execution epoch = 54 it takes 0 hours, 0 mins and 0 segs.\n",
            "----------------------------------------------------------------------\n",
            "Execution epoch = 55 it takes 0 hours, 0 mins and 0 segs.\n",
            "----------------------------------------------------------------------\n",
            "Execution epoch = 56 it takes 0 hours, 0 mins and 0 segs.\n",
            "----------------------------------------------------------------------\n",
            "Execution epoch = 57 it takes 0 hours, 0 mins and 0 segs.\n",
            "----------------------------------------------------------------------\n",
            "Execution epoch = 58 it takes 0 hours, 0 mins and 0 segs.\n",
            "----------------------------------------------------------------------\n",
            "Execution epoch = 59 it takes 0 hours, 0 mins and 0 segs.\n",
            "----------------------------------------------------------------------\n",
            "Execution epoch = 60 it takes 0 hours, 0 mins and 0 segs.\n",
            "----------------------------------------------------------------------\n",
            "Execution epoch = 61 it takes 0 hours, 0 mins and 0 segs.\n",
            "----------------------------------------------------------------------\n",
            "Execution epoch = 62 it takes 0 hours, 0 mins and 0 segs.\n",
            "----------------------------------------------------------------------\n",
            "Execution epoch = 63 it takes 0 hours, 0 mins and 0 segs.\n",
            "----------------------------------------------------------------------\n",
            "Execution epoch = 64 it takes 0 hours, 0 mins and 0 segs.\n",
            "----------------------------------------------------------------------\n",
            "Execution epoch = 65 it takes 0 hours, 0 mins and 0 segs.\n",
            "----------------------------------------------------------------------\n",
            "Execution epoch = 66 it takes 0 hours, 0 mins and 0 segs.\n",
            "----------------------------------------------------------------------\n",
            "Execution epoch = 67 it takes 0 hours, 0 mins and 0 segs.\n",
            "----------------------------------------------------------------------\n",
            "Execution epoch = 68 it takes 0 hours, 0 mins and 0 segs.\n",
            "----------------------------------------------------------------------\n",
            "Execution epoch = 69 it takes 0 hours, 0 mins and 0 segs.\n",
            "----------------------------------------------------------------------\n",
            "Execution epoch = 70 it takes 0 hours, 0 mins and 0 segs.\n",
            "----------------------------------------------------------------------\n",
            "Execution epoch = 71 it takes 0 hours, 0 mins and 0 segs.\n",
            "----------------------------------------------------------------------\n",
            "Execution epoch = 72 it takes 0 hours, 0 mins and 0 segs.\n",
            "----------------------------------------------------------------------\n",
            "Execution epoch = 73 it takes 0 hours, 0 mins and 0 segs.\n",
            "----------------------------------------------------------------------\n",
            "Execution epoch = 74 it takes 0 hours, 0 mins and 0 segs.\n",
            "----------------------------------------------------------------------\n",
            "Execution epoch = 75 it takes 0 hours, 0 mins and 0 segs.\n",
            "----------------------------------------------------------------------\n",
            "Execution epoch = 76 it takes 0 hours, 0 mins and 0 segs.\n",
            "----------------------------------------------------------------------\n",
            "Execution epoch = 77 it takes 0 hours, 0 mins and 0 segs.\n",
            "----------------------------------------------------------------------\n",
            "Execution epoch = 78 it takes 0 hours, 0 mins and 0 segs.\n",
            "----------------------------------------------------------------------\n",
            "Execution epoch = 79 it takes 0 hours, 0 mins and 0 segs.\n",
            "----------------------------------------------------------------------\n",
            "Execution epoch = 80 it takes 0 hours, 0 mins and 0 segs.\n",
            "----------------------------------------------------------------------\n",
            "Execution epoch = 81 it takes 0 hours, 0 mins and 0 segs.\n",
            "----------------------------------------------------------------------\n",
            "Execution epoch = 82 it takes 0 hours, 0 mins and 0 segs.\n",
            "----------------------------------------------------------------------\n",
            "Execution epoch = 83 it takes 0 hours, 0 mins and 0 segs.\n",
            "----------------------------------------------------------------------\n",
            "Execution epoch = 84 it takes 0 hours, 0 mins and 0 segs.\n",
            "----------------------------------------------------------------------\n",
            "Execution epoch = 85 it takes 0 hours, 0 mins and 0 segs.\n",
            "----------------------------------------------------------------------\n",
            "Execution epoch = 86 it takes 0 hours, 0 mins and 0 segs.\n",
            "----------------------------------------------------------------------\n",
            "Execution epoch = 87 it takes 0 hours, 0 mins and 0 segs.\n",
            "----------------------------------------------------------------------\n",
            "Execution epoch = 88 it takes 0 hours, 0 mins and 0 segs.\n",
            "----------------------------------------------------------------------\n",
            "Execution epoch = 89 it takes 0 hours, 0 mins and 0 segs.\n",
            "----------------------------------------------------------------------\n",
            "Execution epoch = 90 it takes 0 hours, 0 mins and 0 segs.\n",
            "----------------------------------------------------------------------\n",
            "Execution epoch = 91 it takes 0 hours, 0 mins and 0 segs.\n",
            "----------------------------------------------------------------------\n",
            "Execution epoch = 92 it takes 0 hours, 0 mins and 0 segs.\n",
            "----------------------------------------------------------------------\n",
            "Execution epoch = 93 it takes 0 hours, 0 mins and 0 segs.\n",
            "----------------------------------------------------------------------\n",
            "Execution epoch = 94 it takes 0 hours, 0 mins and 0 segs.\n",
            "----------------------------------------------------------------------\n",
            "Execution epoch = 95 it takes 0 hours, 0 mins and 0 segs.\n",
            "----------------------------------------------------------------------\n",
            "Execution epoch = 96 it takes 0 hours, 0 mins and 0 segs.\n",
            "----------------------------------------------------------------------\n",
            "Execution epoch = 97 it takes 0 hours, 0 mins and 0 segs.\n",
            "----------------------------------------------------------------------\n",
            "Execution epoch = 98 it takes 0 hours, 0 mins and 0 segs.\n",
            "----------------------------------------------------------------------\n",
            "Execution epoch = 99 it takes 0 hours, 0 mins and 0 segs.\n",
            "----------------------------------------------------------------------\n",
            "Execution epoch = 100 it takes 0 hours, 0 mins and 0 segs.\n",
            "----------------------------------------------------------------------\n",
            "Execution epoch = 101 it takes 0 hours, 0 mins and 0 segs.\n",
            "----------------------------------------------------------------------\n",
            "Execution epoch = 102 it takes 0 hours, 0 mins and 0 segs.\n",
            "----------------------------------------------------------------------\n",
            "Execution epoch = 103 it takes 0 hours, 0 mins and 0 segs.\n",
            "----------------------------------------------------------------------\n",
            "Execution epoch = 104 it takes 0 hours, 0 mins and 0 segs.\n",
            "----------------------------------------------------------------------\n",
            "Execution epoch = 105 it takes 0 hours, 0 mins and 0 segs.\n",
            "----------------------------------------------------------------------\n",
            "Execution epoch = 106 it takes 0 hours, 0 mins and 0 segs.\n",
            "----------------------------------------------------------------------\n",
            "Execution epoch = 107 it takes 0 hours, 0 mins and 0 segs.\n",
            "----------------------------------------------------------------------\n",
            "Execution epoch = 108 it takes 0 hours, 0 mins and 0 segs.\n",
            "----------------------------------------------------------------------\n",
            "Execution epoch = 109 it takes 0 hours, 0 mins and 0 segs.\n",
            "----------------------------------------------------------------------\n",
            "Execution epoch = 110 it takes 0 hours, 0 mins and 0 segs.\n",
            "----------------------------------------------------------------------\n",
            "Execution epoch = 111 it takes 0 hours, 0 mins and 0 segs.\n",
            "----------------------------------------------------------------------\n",
            "Execution epoch = 112 it takes 0 hours, 0 mins and 0 segs.\n",
            "----------------------------------------------------------------------\n",
            "Execution epoch = 113 it takes 0 hours, 0 mins and 0 segs.\n",
            "----------------------------------------------------------------------\n",
            "Execution epoch = 114 it takes 0 hours, 0 mins and 0 segs.\n",
            "----------------------------------------------------------------------\n",
            "Execution epoch = 115 it takes 0 hours, 0 mins and 0 segs.\n",
            "----------------------------------------------------------------------\n",
            "Execution epoch = 116 it takes 0 hours, 0 mins and 0 segs.\n",
            "----------------------------------------------------------------------\n",
            "Execution epoch = 117 it takes 0 hours, 0 mins and 0 segs.\n",
            "----------------------------------------------------------------------\n",
            "Execution epoch = 118 it takes 0 hours, 0 mins and 0 segs.\n",
            "----------------------------------------------------------------------\n",
            "Execution epoch = 119 it takes 0 hours, 0 mins and 0 segs.\n",
            "----------------------------------------------------------------------\n",
            "Execution epoch = 120 it takes 0 hours, 0 mins and 0 segs.\n",
            "----------------------------------------------------------------------\n",
            "Execution epoch = 121 it takes 0 hours, 0 mins and 0 segs.\n",
            "----------------------------------------------------------------------\n",
            "Execution epoch = 122 it takes 0 hours, 0 mins and 0 segs.\n",
            "----------------------------------------------------------------------\n",
            "Execution epoch = 123 it takes 0 hours, 0 mins and 0 segs.\n",
            "----------------------------------------------------------------------\n",
            "Execution epoch = 124 it takes 0 hours, 0 mins and 0 segs.\n",
            "----------------------------------------------------------------------\n",
            "Execution epoch = 125 it takes 0 hours, 0 mins and 0 segs.\n",
            "----------------------------------------------------------------------\n",
            "Execution epoch = 126 it takes 0 hours, 0 mins and 0 segs.\n",
            "----------------------------------------------------------------------\n",
            "Execution epoch = 127 it takes 0 hours, 0 mins and 0 segs.\n",
            "----------------------------------------------------------------------\n",
            "Execution epoch = 128 it takes 0 hours, 0 mins and 0 segs.\n",
            "----------------------------------------------------------------------\n",
            "Execution epoch = 129 it takes 0 hours, 0 mins and 0 segs.\n",
            "----------------------------------------------------------------------\n",
            "Execution epoch = 130 it takes 0 hours, 0 mins and 0 segs.\n",
            "----------------------------------------------------------------------\n",
            "Execution epoch = 131 it takes 0 hours, 0 mins and 0 segs.\n",
            "----------------------------------------------------------------------\n",
            "Execution epoch = 132 it takes 0 hours, 0 mins and 0 segs.\n",
            "----------------------------------------------------------------------\n",
            "Execution epoch = 133 it takes 0 hours, 0 mins and 0 segs.\n",
            "----------------------------------------------------------------------\n",
            "Execution epoch = 134 it takes 0 hours, 0 mins and 0 segs.\n",
            "----------------------------------------------------------------------\n",
            "Execution epoch = 135 it takes 0 hours, 0 mins and 0 segs.\n",
            "----------------------------------------------------------------------\n",
            "Execution epoch = 136 it takes 0 hours, 0 mins and 0 segs.\n",
            "----------------------------------------------------------------------\n",
            "Execution epoch = 137 it takes 0 hours, 0 mins and 0 segs.\n",
            "----------------------------------------------------------------------\n",
            "Execution epoch = 138 it takes 0 hours, 0 mins and 0 segs.\n",
            "----------------------------------------------------------------------\n",
            "Execution epoch = 139 it takes 0 hours, 0 mins and 0 segs.\n",
            "----------------------------------------------------------------------\n",
            "Execution epoch = 140 it takes 0 hours, 0 mins and 0 segs.\n",
            "----------------------------------------------------------------------\n",
            "Execution epoch = 141 it takes 0 hours, 0 mins and 0 segs.\n",
            "----------------------------------------------------------------------\n",
            "Execution epoch = 142 it takes 0 hours, 0 mins and 0 segs.\n",
            "----------------------------------------------------------------------\n",
            "Execution epoch = 143 it takes 0 hours, 0 mins and 0 segs.\n",
            "----------------------------------------------------------------------\n",
            "Execution epoch = 144 it takes 0 hours, 0 mins and 0 segs.\n",
            "----------------------------------------------------------------------\n",
            "Execution epoch = 145 it takes 0 hours, 0 mins and 0 segs.\n",
            "----------------------------------------------------------------------\n",
            "Execution epoch = 146 it takes 0 hours, 0 mins and 0 segs.\n",
            "----------------------------------------------------------------------\n",
            "Execution epoch = 147 it takes 0 hours, 0 mins and 0 segs.\n",
            "----------------------------------------------------------------------\n",
            "Execution epoch = 148 it takes 0 hours, 0 mins and 0 segs.\n",
            "----------------------------------------------------------------------\n",
            "Execution epoch = 149 it takes 0 hours, 0 mins and 0 segs.\n",
            "----------------------------------------------------------------------\n",
            "Execution epoch = 150 it takes 0 hours, 0 mins and 0 segs.\n",
            "----------------------------------------------------------------------\n",
            "Execution epoch = 151 it takes 0 hours, 0 mins and 0 segs.\n",
            "----------------------------------------------------------------------\n",
            "Execution epoch = 152 it takes 0 hours, 0 mins and 0 segs.\n",
            "----------------------------------------------------------------------\n",
            "Execution epoch = 153 it takes 0 hours, 0 mins and 0 segs.\n",
            "----------------------------------------------------------------------\n",
            "Execution epoch = 154 it takes 0 hours, 0 mins and 0 segs.\n",
            "----------------------------------------------------------------------\n",
            "Execution epoch = 155 it takes 0 hours, 0 mins and 0 segs.\n",
            "----------------------------------------------------------------------\n",
            "Execution epoch = 156 it takes 0 hours, 0 mins and 0 segs.\n",
            "----------------------------------------------------------------------\n",
            "Execution epoch = 157 it takes 0 hours, 0 mins and 0 segs.\n",
            "----------------------------------------------------------------------\n",
            "Execution epoch = 158 it takes 0 hours, 0 mins and 0 segs.\n",
            "----------------------------------------------------------------------\n",
            "Execution epoch = 159 it takes 0 hours, 0 mins and 0 segs.\n",
            "----------------------------------------------------------------------\n",
            "Execution epoch = 160 it takes 0 hours, 0 mins and 0 segs.\n",
            "----------------------------------------------------------------------\n",
            "Execution epoch = 161 it takes 0 hours, 0 mins and 0 segs.\n",
            "----------------------------------------------------------------------\n",
            "Execution epoch = 162 it takes 0 hours, 0 mins and 0 segs.\n",
            "----------------------------------------------------------------------\n",
            "Execution epoch = 163 it takes 0 hours, 0 mins and 0 segs.\n",
            "----------------------------------------------------------------------\n",
            "Execution epoch = 164 it takes 0 hours, 0 mins and 0 segs.\n",
            "----------------------------------------------------------------------\n",
            "Execution epoch = 165 it takes 0 hours, 0 mins and 0 segs.\n",
            "----------------------------------------------------------------------\n",
            "Execution epoch = 166 it takes 0 hours, 0 mins and 0 segs.\n",
            "----------------------------------------------------------------------\n",
            "Execution epoch = 167 it takes 0 hours, 0 mins and 0 segs.\n",
            "----------------------------------------------------------------------\n",
            "Execution epoch = 168 it takes 0 hours, 0 mins and 0 segs.\n",
            "----------------------------------------------------------------------\n",
            "Execution epoch = 169 it takes 0 hours, 0 mins and 0 segs.\n",
            "----------------------------------------------------------------------\n",
            "Execution epoch = 170 it takes 0 hours, 0 mins and 0 segs.\n",
            "----------------------------------------------------------------------\n",
            "Execution epoch = 171 it takes 0 hours, 0 mins and 0 segs.\n",
            "----------------------------------------------------------------------\n",
            "Execution epoch = 172 it takes 0 hours, 0 mins and 0 segs.\n",
            "----------------------------------------------------------------------\n",
            "Execution epoch = 173 it takes 0 hours, 0 mins and 0 segs.\n",
            "----------------------------------------------------------------------\n",
            "Execution epoch = 174 it takes 0 hours, 0 mins and 0 segs.\n",
            "----------------------------------------------------------------------\n",
            "Execution epoch = 175 it takes 0 hours, 0 mins and 0 segs.\n",
            "----------------------------------------------------------------------\n",
            "Execution epoch = 176 it takes 0 hours, 0 mins and 0 segs.\n",
            "----------------------------------------------------------------------\n",
            "Execution epoch = 177 it takes 0 hours, 0 mins and 0 segs.\n",
            "----------------------------------------------------------------------\n",
            "Execution epoch = 178 it takes 0 hours, 0 mins and 0 segs.\n",
            "----------------------------------------------------------------------\n",
            "Execution epoch = 179 it takes 0 hours, 0 mins and 0 segs.\n",
            "----------------------------------------------------------------------\n",
            "Execution epoch = 180 it takes 0 hours, 0 mins and 0 segs.\n",
            "----------------------------------------------------------------------\n",
            "Execution epoch = 181 it takes 0 hours, 0 mins and 0 segs.\n",
            "----------------------------------------------------------------------\n",
            "Execution epoch = 182 it takes 0 hours, 0 mins and 0 segs.\n",
            "----------------------------------------------------------------------\n",
            "Execution epoch = 183 it takes 0 hours, 0 mins and 0 segs.\n",
            "----------------------------------------------------------------------\n",
            "Execution epoch = 184 it takes 0 hours, 0 mins and 0 segs.\n",
            "----------------------------------------------------------------------\n",
            "Execution epoch = 185 it takes 0 hours, 0 mins and 0 segs.\n",
            "----------------------------------------------------------------------\n",
            "Execution epoch = 186 it takes 0 hours, 0 mins and 0 segs.\n",
            "----------------------------------------------------------------------\n",
            "Execution epoch = 187 it takes 0 hours, 0 mins and 0 segs.\n",
            "----------------------------------------------------------------------\n",
            "Execution epoch = 188 it takes 0 hours, 0 mins and 0 segs.\n",
            "----------------------------------------------------------------------\n",
            "Execution epoch = 189 it takes 0 hours, 0 mins and 0 segs.\n",
            "----------------------------------------------------------------------\n",
            "Execution epoch = 190 it takes 0 hours, 0 mins and 0 segs.\n",
            "----------------------------------------------------------------------\n",
            "Execution epoch = 191 it takes 0 hours, 0 mins and 0 segs.\n",
            "----------------------------------------------------------------------\n",
            "Execution epoch = 192 it takes 0 hours, 0 mins and 0 segs.\n",
            "----------------------------------------------------------------------\n",
            "Execution epoch = 193 it takes 0 hours, 0 mins and 0 segs.\n",
            "----------------------------------------------------------------------\n",
            "Execution epoch = 194 it takes 0 hours, 0 mins and 0 segs.\n",
            "----------------------------------------------------------------------\n",
            "Execution epoch = 195 it takes 0 hours, 0 mins and 0 segs.\n",
            "----------------------------------------------------------------------\n",
            "Execution epoch = 196 it takes 0 hours, 0 mins and 0 segs.\n",
            "----------------------------------------------------------------------\n",
            "Execution epoch = 197 it takes 0 hours, 0 mins and 0 segs.\n",
            "----------------------------------------------------------------------\n",
            "Execution epoch = 198 it takes 0 hours, 0 mins and 0 segs.\n",
            "----------------------------------------------------------------------\n",
            "Execution epoch = 199 it takes 0 hours, 0 mins and 0 segs.\n",
            "----------------------------------------------------------------------\n",
            "Execution epoch = 200 it takes 0 hours, 0 mins and 0 segs.\n",
            "----------------------------------------------------------------------\n"
          ]
        }
      ]
    },
    {
      "cell_type": "code",
      "source": [
        "end_train = time.time()\n",
        "print_time_execution(start_train, end_train, f'Execution of training')\n",
        "print('-'*70)"
      ],
      "metadata": {
        "id": "-VVbwxlBaRos",
        "colab": {
          "base_uri": "https://localhost:8080/"
        },
        "outputId": "0b1cc94f-8c13-477b-a660-3470e932c738"
      },
      "execution_count": 19,
      "outputs": [
        {
          "output_type": "stream",
          "name": "stdout",
          "text": [
            "Execution of training it takes 0 hours, 0 mins and 1 segs.\n",
            "----------------------------------------------------------------------\n"
          ]
        }
      ]
    },
    {
      "cell_type": "code",
      "source": [
        "plt.plot(all_epochs, all_loss, color = 'blue', label = 'Loss train')\n",
        "plt.plot(all_epochs, all_loss_val, color = 'red', label = 'Loss val')\n",
        "plt.legend()\n",
        "plt.show()"
      ],
      "metadata": {
        "id": "Us5h9gMnYlFh",
        "colab": {
          "base_uri": "https://localhost:8080/",
          "height": 430
        },
        "outputId": "e3738ca9-72ab-4fd0-846a-672229f136bc"
      },
      "execution_count": 20,
      "outputs": [
        {
          "output_type": "display_data",
          "data": {
            "text/plain": [
              "<Figure size 640x480 with 1 Axes>"
            ],
            "image/png": "[encoded data removed]"
          },
          "metadata": {}
        }
      ]
    },
    {
      "cell_type": "code",
      "source": [
        "plt.plot(all_epochs, np.log(all_loss), color = 'blue', label = 'Loss train')\n",
        "plt.plot(all_epochs, np.log(all_loss_val), color = 'red', label = 'Loss val')\n",
        "plt.legend()\n",
        "plt.show()"
      ],
      "metadata": {
        "id": "SUvD5NVdaU2z",
        "colab": {
          "base_uri": "https://localhost:8080/",
          "height": 435
        },
        "outputId": "d52978d4-93d6-4026-b78f-7015aa1cd915"
      },
      "execution_count": 21,
      "outputs": [
        {
          "output_type": "display_data",
          "data": {
            "text/plain": [
              "<Figure size 640x480 with 1 Axes>"
            ],
            "image/png": "[encoded data removed]"
          },
          "metadata": {}
        }
      ]
    },
    {
      "cell_type": "markdown",
      "source": [
        "### 5. Prediction"
      ],
      "metadata": {
        "id": "PSSMl9KSDs6X"
      }
    },
    {
      "cell_type": "code",
      "source": [
        "out_train = model(X_train)\n",
        "out_train = torch.reshape(out_train, (-1, ))\n",
        "out_train = out_train.detach().numpy()"
      ],
      "metadata": {
        "id": "IFVY_PUhZ5RF"
      },
      "execution_count": 22,
      "outputs": []
    },
    {
      "cell_type": "code",
      "source": [
        "out_val = model(X_val)\n",
        "out_val = torch.reshape(out_val, (-1, ))\n",
        "out_val = out_val.detach().numpy()"
      ],
      "metadata": {
        "id": "X7lhqJKyEUGt"
      },
      "execution_count": 23,
      "outputs": []
    },
    {
      "cell_type": "code",
      "source": [
        "out_test = model(X_test)\n",
        "out_test = torch.reshape(out_test, (-1, ))\n",
        "out_test = out_test.detach().numpy()"
      ],
      "metadata": {
        "id": "Y8FqNz24EZpH"
      },
      "execution_count": 24,
      "outputs": []
    },
    {
      "cell_type": "code",
      "source": [
        "plt.scatter(X_train, out_train, color = 'red', label = 'prediction train')\n",
        "plt.scatter(X_train, y_train, color = 'blue', label = 'real train')\n",
        "\n",
        "plt.legend()\n",
        "plt.show()"
      ],
      "metadata": {
        "colab": {
          "base_uri": "https://localhost:8080/",
          "height": 430
        },
        "id": "6keQgrpkX_eL",
        "outputId": "885bc580-bfd0-4182-abd3-bc2a5c892c6c"
      },
      "execution_count": 25,
      "outputs": [
        {
          "output_type": "display_data",
          "data": {
            "text/plain": [
              "<Figure size 640x480 with 1 Axes>"
            ],
            "image/png": "[encoded data removed]"
          },
          "metadata": {}
        }
      ]
    },
    {
      "cell_type": "code",
      "source": [
        "plt.scatter(X_val, out_val, color = 'green', label = 'prediction')\n",
        "plt.scatter(X_val, y_val, color = 'purple', label = 'real')\n",
        "\n",
        "plt.scatter(X_test, out_test, color = 'green')\n",
        "plt.scatter(X_test, y_test, color = 'purple')\n",
        "\n",
        "plt.legend()\n",
        "plt.show()"
      ],
      "metadata": {
        "colab": {
          "base_uri": "https://localhost:8080/",
          "height": 430
        },
        "id": "voUns0i8E956",
        "outputId": "a7b7f15f-2482-41ac-94e1-0d7ed9815e26"
      },
      "execution_count": 26,
      "outputs": [
        {
          "output_type": "display_data",
          "data": {
            "text/plain": [
              "<Figure size 640x480 with 1 Axes>"
            ],
            "image/png": "[encoded data removed]"
          },
          "metadata": {}
        }
      ]
    },
    {
      "cell_type": "markdown",
      "source": [
        "### Time of execution"
      ],
      "metadata": {
        "id": "BVhSgjXTBbsU"
      }
    },
    {
      "cell_type": "code",
      "source": [
        "end = time.time()\n",
        "print_time_execution(start, end, 'Execution model')"
      ],
      "metadata": {
        "colab": {
          "base_uri": "https://localhost:8080/"
        },
        "id": "McZgM0O1_3MW",
        "outputId": "604a6cbb-2324-4da8-96d5-1add5112248b"
      },
      "execution_count": 27,
      "outputs": [
        {
          "output_type": "stream",
          "name": "stdout",
          "text": [
            "Execution model it takes 0 hours, 0 mins and 5 segs.\n"
          ]
        }
      ]
    },
    {
      "cell_type": "code",
      "source": [],
      "metadata": {
        "id": "7oZoB1YNc6Qn"
      },
      "execution_count": 27,
      "outputs": []
    }
  ]
}