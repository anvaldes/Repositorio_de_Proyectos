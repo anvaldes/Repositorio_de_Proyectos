{
 "cells": [
  {
   "cell_type": "markdown",
   "metadata": {},
   "source": [
    "# Continuous Assemblies: Logistics assemblies"
   ]
  },
  {
   "cell_type": "markdown",
   "metadata": {},
   "source": [
    "By Alberto Valdés \n",
    "\n",
    "**Mail 1:** anvaldes@uc.cl \n",
    "\n",
    "**Mail 2:** alberto.valdes.gonzalez.96@gmail.com"
   ]
  },
  {
   "cell_type": "markdown",
   "metadata": {},
   "source": [
    "In this notebook we will talk about continuous assemblies and in specific we will board the the assemblies of a two logistics regressions."
   ]
  },
  {
   "cell_type": "markdown",
   "metadata": {},
   "source": [
    "### We import all the libraries"
   ]
  },
  {
   "cell_type": "code",
   "execution_count": 1,
   "metadata": {},
   "outputs": [],
   "source": [
    "import numpy as np\n",
    "import math\n",
    "import pandas as pd\n",
    "import matplotlib.pyplot as plt\n",
    "from matplotlib.pyplot import figure\n",
    "from sklearn.linear_model import LinearRegression\n",
    "from sklearn.linear_model import LogisticRegression\n",
    "from sklearn.model_selection import train_test_split\n",
    "\n",
    "from sklearn.model_selection import GridSearchCV\n",
    "\n",
    "from sklearn.metrics import recall_score\n",
    "from sklearn.metrics import precision_score\n",
    "from sklearn.metrics import f1_score\n",
    "\n",
    "import warnings"
   ]
  },
  {
   "cell_type": "code",
   "execution_count": 2,
   "metadata": {},
   "outputs": [],
   "source": [
    "warnings.filterwarnings(\"ignore\")"
   ]
  },
  {
   "cell_type": "markdown",
   "metadata": {},
   "source": [
    "### Creation of all the points to train and test the model"
   ]
  },
  {
   "cell_type": "markdown",
   "metadata": {},
   "source": [
    "We set the seed"
   ]
  },
  {
   "cell_type": "code",
   "execution_count": 3,
   "metadata": {},
   "outputs": [],
   "source": [
    "np.random.seed(10)"
   ]
  },
  {
   "cell_type": "markdown",
   "metadata": {},
   "source": [
    "Creation of the points"
   ]
  },
  {
   "cell_type": "code",
   "execution_count": 4,
   "metadata": {},
   "outputs": [],
   "source": [
    "v = 4"
   ]
  },
  {
   "cell_type": "code",
   "execution_count": 5,
   "metadata": {},
   "outputs": [],
   "source": [
    "#---------------------------------------------------\n",
    "\n",
    "#Parameters of the model\n",
    "\n",
    "a = -2\n",
    "b = 10\n",
    "\n",
    "#---------------------------------------------------\n",
    "\n",
    "N = 50\n",
    "\n",
    "#---------------------------------------------------\n",
    "\n",
    "h = (b-a)/N\n",
    "\n",
    "#---------------------------------------------------\n",
    "\n",
    "# Seting the first value of the domain\n",
    "\n",
    "x = a - h\n",
    "\n",
    "#---------------------------------------------------\n",
    "\n",
    "X = []\n",
    "y = []\n",
    "\n",
    "#---------------------------------------------------\n",
    "\n",
    "for i in range(N + 1):\n",
    "\n",
    "    x = round(x + h, 1)\n",
    "\n",
    "    if (2 <= x) and (x <= 6):\n",
    "        \n",
    "        X.append(x)\n",
    "        y.append(np.random.choice(2, p=[0.15, 0.85]))\n",
    "    \n",
    "    else:\n",
    "\n",
    "        X.append(x)\n",
    "        y.append(np.random.choice(2, p=[0.85, 0.15]))\n",
    "\n",
    "#---------------------------------------------------"
   ]
  },
  {
   "cell_type": "markdown",
   "metadata": {},
   "source": [
    "Creation of dataframe"
   ]
  },
  {
   "cell_type": "code",
   "execution_count": 6,
   "metadata": {},
   "outputs": [],
   "source": [
    "df = pd.DataFrame()"
   ]
  },
  {
   "cell_type": "code",
   "execution_count": 7,
   "metadata": {},
   "outputs": [],
   "source": [
    "df['X'] = pd.Series(X).astype(float)\n",
    "df['y'] = pd.Series(y).astype(float)"
   ]
  },
  {
   "cell_type": "code",
   "execution_count": 8,
   "metadata": {},
   "outputs": [
    {
     "data": {
      "text/html": [
       "<div>\n",
       "<style scoped>\n",
       "    .dataframe tbody tr th:only-of-type {\n",
       "        vertical-align: middle;\n",
       "    }\n",
       "\n",
       "    .dataframe tbody tr th {\n",
       "        vertical-align: top;\n",
       "    }\n",
       "\n",
       "    .dataframe thead th {\n",
       "        text-align: right;\n",
       "    }\n",
       "</style>\n",
       "<table border=\"1\" class=\"dataframe\">\n",
       "  <thead>\n",
       "    <tr style=\"text-align: right;\">\n",
       "      <th></th>\n",
       "      <th>X</th>\n",
       "      <th>y</th>\n",
       "    </tr>\n",
       "  </thead>\n",
       "  <tbody>\n",
       "    <tr>\n",
       "      <th>0</th>\n",
       "      <td>-2.0</td>\n",
       "      <td>0.0</td>\n",
       "    </tr>\n",
       "    <tr>\n",
       "      <th>1</th>\n",
       "      <td>-1.8</td>\n",
       "      <td>0.0</td>\n",
       "    </tr>\n",
       "    <tr>\n",
       "      <th>2</th>\n",
       "      <td>-1.6</td>\n",
       "      <td>0.0</td>\n",
       "    </tr>\n",
       "    <tr>\n",
       "      <th>3</th>\n",
       "      <td>-1.4</td>\n",
       "      <td>0.0</td>\n",
       "    </tr>\n",
       "    <tr>\n",
       "      <th>4</th>\n",
       "      <td>-1.2</td>\n",
       "      <td>0.0</td>\n",
       "    </tr>\n",
       "    <tr>\n",
       "      <th>5</th>\n",
       "      <td>-1.0</td>\n",
       "      <td>0.0</td>\n",
       "    </tr>\n",
       "    <tr>\n",
       "      <th>6</th>\n",
       "      <td>-0.8</td>\n",
       "      <td>0.0</td>\n",
       "    </tr>\n",
       "    <tr>\n",
       "      <th>7</th>\n",
       "      <td>-0.6</td>\n",
       "      <td>0.0</td>\n",
       "    </tr>\n",
       "    <tr>\n",
       "      <th>8</th>\n",
       "      <td>-0.4</td>\n",
       "      <td>0.0</td>\n",
       "    </tr>\n",
       "    <tr>\n",
       "      <th>9</th>\n",
       "      <td>-0.2</td>\n",
       "      <td>0.0</td>\n",
       "    </tr>\n",
       "    <tr>\n",
       "      <th>10</th>\n",
       "      <td>0.0</td>\n",
       "      <td>0.0</td>\n",
       "    </tr>\n",
       "    <tr>\n",
       "      <th>11</th>\n",
       "      <td>0.2</td>\n",
       "      <td>1.0</td>\n",
       "    </tr>\n",
       "    <tr>\n",
       "      <th>12</th>\n",
       "      <td>0.4</td>\n",
       "      <td>0.0</td>\n",
       "    </tr>\n",
       "    <tr>\n",
       "      <th>13</th>\n",
       "      <td>0.6</td>\n",
       "      <td>0.0</td>\n",
       "    </tr>\n",
       "    <tr>\n",
       "      <th>14</th>\n",
       "      <td>0.8</td>\n",
       "      <td>0.0</td>\n",
       "    </tr>\n",
       "    <tr>\n",
       "      <th>15</th>\n",
       "      <td>1.0</td>\n",
       "      <td>0.0</td>\n",
       "    </tr>\n",
       "    <tr>\n",
       "      <th>16</th>\n",
       "      <td>1.2</td>\n",
       "      <td>0.0</td>\n",
       "    </tr>\n",
       "    <tr>\n",
       "      <th>17</th>\n",
       "      <td>1.4</td>\n",
       "      <td>0.0</td>\n",
       "    </tr>\n",
       "    <tr>\n",
       "      <th>18</th>\n",
       "      <td>1.6</td>\n",
       "      <td>1.0</td>\n",
       "    </tr>\n",
       "    <tr>\n",
       "      <th>19</th>\n",
       "      <td>1.8</td>\n",
       "      <td>0.0</td>\n",
       "    </tr>\n",
       "    <tr>\n",
       "      <th>20</th>\n",
       "      <td>2.0</td>\n",
       "      <td>1.0</td>\n",
       "    </tr>\n",
       "    <tr>\n",
       "      <th>21</th>\n",
       "      <td>2.2</td>\n",
       "      <td>0.0</td>\n",
       "    </tr>\n",
       "    <tr>\n",
       "      <th>22</th>\n",
       "      <td>2.4</td>\n",
       "      <td>1.0</td>\n",
       "    </tr>\n",
       "    <tr>\n",
       "      <th>23</th>\n",
       "      <td>2.6</td>\n",
       "      <td>1.0</td>\n",
       "    </tr>\n",
       "    <tr>\n",
       "      <th>24</th>\n",
       "      <td>2.8</td>\n",
       "      <td>1.0</td>\n",
       "    </tr>\n",
       "    <tr>\n",
       "      <th>25</th>\n",
       "      <td>3.0</td>\n",
       "      <td>1.0</td>\n",
       "    </tr>\n",
       "    <tr>\n",
       "      <th>26</th>\n",
       "      <td>3.2</td>\n",
       "      <td>1.0</td>\n",
       "    </tr>\n",
       "    <tr>\n",
       "      <th>27</th>\n",
       "      <td>3.4</td>\n",
       "      <td>1.0</td>\n",
       "    </tr>\n",
       "    <tr>\n",
       "      <th>28</th>\n",
       "      <td>3.6</td>\n",
       "      <td>1.0</td>\n",
       "    </tr>\n",
       "    <tr>\n",
       "      <th>29</th>\n",
       "      <td>3.8</td>\n",
       "      <td>1.0</td>\n",
       "    </tr>\n",
       "    <tr>\n",
       "      <th>30</th>\n",
       "      <td>4.0</td>\n",
       "      <td>1.0</td>\n",
       "    </tr>\n",
       "    <tr>\n",
       "      <th>31</th>\n",
       "      <td>4.2</td>\n",
       "      <td>1.0</td>\n",
       "    </tr>\n",
       "    <tr>\n",
       "      <th>32</th>\n",
       "      <td>4.4</td>\n",
       "      <td>1.0</td>\n",
       "    </tr>\n",
       "    <tr>\n",
       "      <th>33</th>\n",
       "      <td>4.6</td>\n",
       "      <td>1.0</td>\n",
       "    </tr>\n",
       "    <tr>\n",
       "      <th>34</th>\n",
       "      <td>4.8</td>\n",
       "      <td>0.0</td>\n",
       "    </tr>\n",
       "    <tr>\n",
       "      <th>35</th>\n",
       "      <td>5.0</td>\n",
       "      <td>1.0</td>\n",
       "    </tr>\n",
       "    <tr>\n",
       "      <th>36</th>\n",
       "      <td>5.2</td>\n",
       "      <td>0.0</td>\n",
       "    </tr>\n",
       "    <tr>\n",
       "      <th>37</th>\n",
       "      <td>5.4</td>\n",
       "      <td>1.0</td>\n",
       "    </tr>\n",
       "    <tr>\n",
       "      <th>38</th>\n",
       "      <td>5.6</td>\n",
       "      <td>0.0</td>\n",
       "    </tr>\n",
       "    <tr>\n",
       "      <th>39</th>\n",
       "      <td>5.8</td>\n",
       "      <td>1.0</td>\n",
       "    </tr>\n",
       "    <tr>\n",
       "      <th>40</th>\n",
       "      <td>6.0</td>\n",
       "      <td>1.0</td>\n",
       "    </tr>\n",
       "    <tr>\n",
       "      <th>41</th>\n",
       "      <td>6.2</td>\n",
       "      <td>0.0</td>\n",
       "    </tr>\n",
       "    <tr>\n",
       "      <th>42</th>\n",
       "      <td>6.4</td>\n",
       "      <td>0.0</td>\n",
       "    </tr>\n",
       "    <tr>\n",
       "      <th>43</th>\n",
       "      <td>6.6</td>\n",
       "      <td>1.0</td>\n",
       "    </tr>\n",
       "    <tr>\n",
       "      <th>44</th>\n",
       "      <td>6.8</td>\n",
       "      <td>0.0</td>\n",
       "    </tr>\n",
       "    <tr>\n",
       "      <th>45</th>\n",
       "      <td>7.0</td>\n",
       "      <td>0.0</td>\n",
       "    </tr>\n",
       "    <tr>\n",
       "      <th>46</th>\n",
       "      <td>7.2</td>\n",
       "      <td>0.0</td>\n",
       "    </tr>\n",
       "    <tr>\n",
       "      <th>47</th>\n",
       "      <td>7.4</td>\n",
       "      <td>1.0</td>\n",
       "    </tr>\n",
       "    <tr>\n",
       "      <th>48</th>\n",
       "      <td>7.6</td>\n",
       "      <td>0.0</td>\n",
       "    </tr>\n",
       "    <tr>\n",
       "      <th>49</th>\n",
       "      <td>7.8</td>\n",
       "      <td>0.0</td>\n",
       "    </tr>\n",
       "    <tr>\n",
       "      <th>50</th>\n",
       "      <td>8.0</td>\n",
       "      <td>0.0</td>\n",
       "    </tr>\n",
       "  </tbody>\n",
       "</table>\n",
       "</div>"
      ],
      "text/plain": [
       "      X    y\n",
       "0  -2.0  0.0\n",
       "1  -1.8  0.0\n",
       "2  -1.6  0.0\n",
       "3  -1.4  0.0\n",
       "4  -1.2  0.0\n",
       "5  -1.0  0.0\n",
       "6  -0.8  0.0\n",
       "7  -0.6  0.0\n",
       "8  -0.4  0.0\n",
       "9  -0.2  0.0\n",
       "10  0.0  0.0\n",
       "11  0.2  1.0\n",
       "12  0.4  0.0\n",
       "13  0.6  0.0\n",
       "14  0.8  0.0\n",
       "15  1.0  0.0\n",
       "16  1.2  0.0\n",
       "17  1.4  0.0\n",
       "18  1.6  1.0\n",
       "19  1.8  0.0\n",
       "20  2.0  1.0\n",
       "21  2.2  0.0\n",
       "22  2.4  1.0\n",
       "23  2.6  1.0\n",
       "24  2.8  1.0\n",
       "25  3.0  1.0\n",
       "26  3.2  1.0\n",
       "27  3.4  1.0\n",
       "28  3.6  1.0\n",
       "29  3.8  1.0\n",
       "30  4.0  1.0\n",
       "31  4.2  1.0\n",
       "32  4.4  1.0\n",
       "33  4.6  1.0\n",
       "34  4.8  0.0\n",
       "35  5.0  1.0\n",
       "36  5.2  0.0\n",
       "37  5.4  1.0\n",
       "38  5.6  0.0\n",
       "39  5.8  1.0\n",
       "40  6.0  1.0\n",
       "41  6.2  0.0\n",
       "42  6.4  0.0\n",
       "43  6.6  1.0\n",
       "44  6.8  0.0\n",
       "45  7.0  0.0\n",
       "46  7.2  0.0\n",
       "47  7.4  1.0\n",
       "48  7.6  0.0\n",
       "49  7.8  0.0\n",
       "50  8.0  0.0"
      ]
     },
     "execution_count": 8,
     "metadata": {},
     "output_type": "execute_result"
    }
   ],
   "source": [
    "df"
   ]
  },
  {
   "cell_type": "markdown",
   "metadata": {},
   "source": [
    "Graph of these points"
   ]
  },
  {
   "cell_type": "code",
   "execution_count": 9,
   "metadata": {},
   "outputs": [
    {
     "data": {
      "image/png": "[encoded data removed]",
      "text/plain": [
       "<Figure size 720x720 with 1 Axes>"
      ]
     },
     "metadata": {
      "needs_background": "light"
     },
     "output_type": "display_data"
    }
   ],
   "source": [
    "figure(figsize=(10,10))\n",
    "plt.scatter(df['X'], df['y'], color = 'red', label = 'All points')\n",
    "\n",
    "plt.xlabel('X axis', size = 17)\n",
    "plt.ylabel('y axis', size = 17)\n",
    "\n",
    "plt.legend()\n",
    "plt.show()"
   ]
  },
  {
   "cell_type": "markdown",
   "metadata": {},
   "source": [
    "Separating the train set and the test set"
   ]
  },
  {
   "cell_type": "code",
   "execution_count": 10,
   "metadata": {},
   "outputs": [],
   "source": [
    "X_train, X_test, y_train, y_test = train_test_split(X, y, test_size=0.30, random_state=22)"
   ]
  },
  {
   "cell_type": "code",
   "execution_count": 11,
   "metadata": {},
   "outputs": [],
   "source": [
    "train = pd.DataFrame()\n",
    "test = pd.DataFrame()"
   ]
  },
  {
   "cell_type": "code",
   "execution_count": 12,
   "metadata": {},
   "outputs": [],
   "source": [
    "train['X'] = pd.Series(X_train).astype(float)\n",
    "train['y'] = pd.Series(y_train).astype(float)"
   ]
  },
  {
   "cell_type": "code",
   "execution_count": 13,
   "metadata": {},
   "outputs": [],
   "source": [
    "test['X'] = pd.Series(X_test).astype(float)\n",
    "test['y'] = pd.Series(y_test).astype(float)"
   ]
  },
  {
   "cell_type": "markdown",
   "metadata": {},
   "source": [
    "Graph of train and test set"
   ]
  },
  {
   "cell_type": "code",
   "execution_count": 14,
   "metadata": {},
   "outputs": [
    {
     "data": {
      "image/png": "[encoded data removed]",
      "text/plain": [
       "<Figure size 720x720 with 1 Axes>"
      ]
     },
     "metadata": {
      "needs_background": "light"
     },
     "output_type": "display_data"
    }
   ],
   "source": [
    "figure(figsize=(10,10))\n",
    "plt.scatter(train['X'], train['y'], color = 'red', label = 'Training points')\n",
    "plt.scatter(test['X'], test['y'], color = 'blue', label = 'Testing points')\n",
    "\n",
    "plt.xlabel('X axis', size = 17)\n",
    "plt.ylabel('y axis', size = 17)\n",
    "\n",
    "plt.legend()\n",
    "plt.show()"
   ]
  },
  {
   "cell_type": "markdown",
   "metadata": {},
   "source": [
    "### Mathematical Development"
   ]
  },
  {
   "cell_type": "markdown",
   "metadata": {},
   "source": [
    "First of all, we must to say exists two ways of to do this aasemble. The first \"Left to the right\" and the second \"Right to the left\"."
   ]
  },
  {
   "cell_type": "markdown",
   "metadata": {},
   "source": [
    "### $ \\underline{1. \\ Left \\ \\ to \\ \\ the \\ \\ right:} $"
   ]
  },
  {
   "cell_type": "markdown",
   "metadata": {},
   "source": [
    "We will consider two functions: "
   ]
  },
  {
   "cell_type": "markdown",
   "metadata": {},
   "source": [
    "$ f_1(x) = \\cfrac{1}{1 + e^{-(\\alpha_1^{left} \\cdot x + \\alpha_0^{left})}} \\ \\ \\  $ for $ \\ \\ \\ a \\leq x \\leq v $\n",
    "\n",
    "$ f_2(x) = \\cfrac{1}{1 + e^{-(\\beta_1^{left} \\cdot x + \\beta_0^{left})}} \\ \\ \\  $ for $ \\ \\ \\ v \\leq x \\leq b $"
   ]
  },
  {
   "cell_type": "markdown",
   "metadata": {},
   "source": [
    "*$\\underline{Step \\ 1:}$* We estimate the values of $ \\alpha_1^{left} $ and $ \\alpha_0^{left}$. From now on, we will write the known values with green color and the unkown values with red color."
   ]
  },
  {
   "cell_type": "markdown",
   "metadata": {},
   "source": [
    "*$\\underline{Step \\ 2:}$* For the union of the first and second function to be continued we need the following equation is fulfilled:"
   ]
  },
  {
   "cell_type": "markdown",
   "metadata": {},
   "source": [
    "$ f_1(v) = f_2(v) $\n",
    "\n",
    "$ \\Rightarrow $\n",
    "\n",
    "$ \\cfrac{1}{1 + e^{-(\\alpha_1^{left} \\cdot v + \\alpha_0^{left})}} = \\cfrac{1}{1 + e^{-(\\beta_1^{left} \\cdot v + \\beta_0^{left})}} $\n",
    "\n",
    "$ \\Rightarrow $\n",
    "\n",
    "$ 1 + e^{-(\\alpha_1^{left} \\cdot v + \\alpha_0^{left})} = 1 + e^{-(\\beta_1^{left} \\cdot v + \\beta_0^{left})} $\n",
    "\n",
    "$ \\Rightarrow $\n",
    "\n",
    "$ (\\alpha_1^{left} \\cdot v + \\alpha_0^{left}) = (\\beta_1^{left} \\cdot v + \\beta_0^{left}) $\n",
    "\n",
    "$ \\Rightarrow $\n",
    "\n",
    "$ \\textcolor{green}{\\alpha_1^{left}} \\cdot \\textcolor{green}{v} + \\textcolor{green}{\\alpha_0^{left}} = \\textcolor{red}{\\beta_1^{left}} \\cdot \\textcolor{green}{v} + \\textcolor{red}{\\beta_0^{left}} $\n",
    "\n",
    "$ \\Rightarrow $\n",
    "\n",
    "$ \\boxed{\\textcolor{red}{\\beta_0^{left}} = \\textcolor{green}{\\alpha_1^{left}} \\cdot \\textcolor{green}{v} + \\textcolor{green}{\\alpha_0^{left}} - \\textcolor{red}{\\beta_1^{left}} \\cdot \\textcolor{green}{v}} \\ \\ \\ (1)  $"
   ]
  },
  {
   "cell_type": "markdown",
   "metadata": {},
   "source": [
    "Substituting this result in $ f_2(x)$ we obtain:"
   ]
  },
  {
   "cell_type": "markdown",
   "metadata": {},
   "source": [
    "$ f_2(x) = \\cfrac{1}{1 + e^{-(\\textcolor{red}{\\beta_1^{left}} \\cdot x + \\textcolor{green}{\\alpha_1^{left}} \\cdot \\textcolor{green}{v} + \\textcolor{green}{\\alpha_0^{left}} - \\textcolor{red}{\\beta_1^{left}} \\cdot \\textcolor{green}{v})}}  $ \n",
    "\n",
    "$ \\Rightarrow $\n",
    "\n",
    "$ f_2(x) = \\cfrac{1}{1 + e^{-(\\textcolor{red}{\\beta_1^{left}} \\cdot [x  - \\textcolor{green}{v}] + [\\textcolor{green}{\\alpha_1^{left}} \\cdot \\textcolor{green}{v} + \\textcolor{green}{\\alpha_0^{left}}] )}} $ "
   ]
  },
  {
   "cell_type": "markdown",
   "metadata": {},
   "source": [
    "We create the next new variable:\n",
    "\n",
    "$ W_{2} = x - \\textcolor{green}{v} $"
   ]
  },
  {
   "cell_type": "markdown",
   "metadata": {},
   "source": [
    "Now we have:\n",
    "\n",
    "$ f_2(x) = \\cfrac{1}{1 + e^{-(\\textcolor{red}{\\beta_1^{left}} \\cdot [\\textcolor{green}{W_2}] + [\\textcolor{green}{\\alpha_1^{left}} \\cdot \\textcolor{green}{v} + \\textcolor{green}{\\alpha_0^{left}}] )}} $ \n",
    "\n"
   ]
  },
  {
   "cell_type": "markdown",
   "metadata": {},
   "source": [
    "We take the same idea from which we deduce the \"classic\" logistic regression. We want to fit the next function to predict the class of the elements of the second section. For simplicity, we assume we have to predict the labels $y$ from the function which depends of an $beta$ arbitrary and $X$ arbitrary too."
   ]
  },
  {
   "cell_type": "markdown",
   "metadata": {},
   "source": [
    "$ \\textbf{Matematical \\ deduction} $"
   ]
  },
  {
   "cell_type": "markdown",
   "metadata": {},
   "source": [
    "The function to fit is:\n",
    "\n",
    "$ h(\\beta) = \\cfrac{1}{1 + e^{-(\\beta \\cdot x+c)}} = \\sigma(\\beta \\cdot x + c) \\ \\Rightarrow \\ h_i(\\beta) = \\cfrac{1}{1 + e^{-(\\beta \\cdot x_i+c)}} = \\sigma(\\beta \\cdot x_i + c) $"
   ]
  },
  {
   "cell_type": "markdown",
   "metadata": {},
   "source": [
    "The loss function is:\n",
    "\n",
    "$ J(\\beta) = - \\cfrac{1}{M} \\sum_{i=1}^M y_i \\cdot ln(h_i(\\beta)) - \\cfrac{1}{M} \\sum_{i=1}^M (1 - y_i) \\cdot ln(1 - h_i(\\beta)) $\n",
    "\n",
    "$ J'(\\beta) = - \\cfrac{1}{M} \\sum_{i=1}^M x_i \\cdot y_i \\cdot (1 - h_i(\\beta)) + \\cfrac{1}{M} \\sum_{i=1}^M x_i \\cdot (1 - y_i) \\cdot h_i(\\beta) $"
   ]
  },
  {
   "cell_type": "markdown",
   "metadata": {},
   "source": [
    "We will use the gradient method to obtain the value of $ \\beta^{*} $. The iteration is of the form:\n",
    "\n",
    "$ \\beta_{k+1} = \\beta_{k} - \\eta \\cdot J'(\\beta_{k}) $"
   ]
  },
  {
   "cell_type": "markdown",
   "metadata": {},
   "source": [
    "# Training (Left to Right)"
   ]
  },
  {
   "cell_type": "code",
   "execution_count": 15,
   "metadata": {},
   "outputs": [],
   "source": [
    "f_1 = (train['X'] <= v)\n",
    "f_2 = (train['X'] > v)"
   ]
  },
  {
   "cell_type": "code",
   "execution_count": 16,
   "metadata": {},
   "outputs": [],
   "source": [
    "f_1_test = (test['X'] <= v)\n",
    "f_2_test = (test['X'] > v)"
   ]
  },
  {
   "cell_type": "markdown",
   "metadata": {},
   "source": [
    "**a. First section**"
   ]
  },
  {
   "cell_type": "code",
   "execution_count": 17,
   "metadata": {},
   "outputs": [],
   "source": [
    "X_1_left = train[f_1][['X']].values\n",
    "y_1_left = train[f_1]['y'].values"
   ]
  },
  {
   "cell_type": "code",
   "execution_count": 18,
   "metadata": {},
   "outputs": [],
   "source": [
    "lreg_left_1 = LogisticRegression(random_state=0).fit(X_1_left, y_1_left)"
   ]
  },
  {
   "cell_type": "code",
   "execution_count": 19,
   "metadata": {},
   "outputs": [],
   "source": [
    "alpha_1_left = lreg_left_1.coef_[0][0]"
   ]
  },
  {
   "cell_type": "code",
   "execution_count": 20,
   "metadata": {},
   "outputs": [],
   "source": [
    "alpha_0_left = lreg_left_1.intercept_[0]"
   ]
  },
  {
   "cell_type": "code",
   "execution_count": 21,
   "metadata": {},
   "outputs": [
    {
     "data": {
      "text/plain": [
       "(1.126760113004396, -1.8889197231308206)"
      ]
     },
     "execution_count": 21,
     "metadata": {},
     "output_type": "execute_result"
    }
   ],
   "source": [
    "alpha_1_left, alpha_0_left"
   ]
  },
  {
   "cell_type": "markdown",
   "metadata": {},
   "source": [
    "_Determine the threshold:_"
   ]
  },
  {
   "cell_type": "code",
   "execution_count": 22,
   "metadata": {},
   "outputs": [],
   "source": [
    "y_1_pred_left = 1/(1 + np.exp(-(alpha_1_left*X_1_left[:, 0] + alpha_0_left)))"
   ]
  },
  {
   "cell_type": "code",
   "execution_count": 23,
   "metadata": {},
   "outputs": [],
   "source": [
    "recall_1_left = []\n",
    "precision_1_left = []\n",
    "f1_1_left = []\n",
    "\n",
    "all_th_1_left = []\n",
    "\n",
    "for i in range(100):\n",
    "\n",
    "    t_h = i*0.01\n",
    "\n",
    "    all_th_1_left.append(t_h)\n",
    "\n",
    "    recall_1_left.append(recall_score(y_1_left, (y_1_pred_left > t_h)*1, average='macro'))\n",
    "    precision_1_left.append(precision_score(y_1_left, (y_1_pred_left > t_h)*1, average='macro'))\n",
    "    f1_1_left.append(f1_score(y_1_left, (y_1_pred_left > t_h)*1, average='macro'))\n",
    "\n",
    "recall_1_left = np.array(recall_1_left)\n",
    "precision_1_left = np.array(precision_1_left)\n",
    "f1_1_left = np.array(f1_1_left)\n",
    "\n",
    "all_th_1_left = np.array(all_th_1_left)"
   ]
  },
  {
   "cell_type": "code",
   "execution_count": 24,
   "metadata": {},
   "outputs": [
    {
     "data": {
      "image/png": "[encoded data removed]",
      "text/plain": [
       "<Figure size 720x720 with 1 Axes>"
      ]
     },
     "metadata": {
      "needs_background": "light"
     },
     "output_type": "display_data"
    }
   ],
   "source": [
    "figure(figsize=(10, 10))\n",
    "\n",
    "plt.scatter(all_th_1_left, recall_1_left, color = 'red', label = 'recall')\n",
    "plt.scatter(all_th_1_left, precision_1_left, color = 'blue', label = 'precision')\n",
    "plt.scatter(all_th_1_left, f1_1_left, color = 'green', label = 'f1')\n",
    "\n",
    "plt.xlabel('Threeshold', size = 15)\n",
    "plt.ylabel('Measure', size = 15)\n",
    "\n",
    "plt.legend()\n",
    "plt.show()"
   ]
  },
  {
   "cell_type": "code",
   "execution_count": 25,
   "metadata": {},
   "outputs": [],
   "source": [
    "best_th_left_1 = all_th_1_left[precision_1_left.argmax()]"
   ]
  },
  {
   "cell_type": "code",
   "execution_count": 26,
   "metadata": {},
   "outputs": [
    {
     "data": {
      "text/plain": [
       "0.65"
      ]
     },
     "execution_count": 26,
     "metadata": {},
     "output_type": "execute_result"
    }
   ],
   "source": [
    "best_th_left_1"
   ]
  },
  {
   "cell_type": "markdown",
   "metadata": {},
   "source": [
    "**b. Second section**"
   ]
  },
  {
   "cell_type": "code",
   "execution_count": 27,
   "metadata": {},
   "outputs": [],
   "source": [
    "X_2_left = train[f_2]['X'].values - v\n",
    "y_2_left = train[f_2]['y'].values"
   ]
  },
  {
   "cell_type": "code",
   "execution_count": 28,
   "metadata": {},
   "outputs": [],
   "source": [
    "def gradient_method(theta_1_ini, N, c, X, y, eta):\n",
    "\n",
    "    theta_1 = theta_1_ini\n",
    "\n",
    "    M = len(X)\n",
    "\n",
    "    for i in range(N):\n",
    "\n",
    "        J_prime = 0\n",
    "\n",
    "        for j in range(M):\n",
    "\n",
    "            arg = theta_1*X[j] + c\n",
    "\n",
    "            h = 1/(1 + np.exp(-arg))\n",
    "\n",
    "            J_part_prime = - X[j]*y[j]*(1-h) + (1-y[j])*X[j]*h\n",
    "            J_prime = J_prime + J_part_prime\n",
    "        \n",
    "        J_prime = (J_prime/M)\n",
    "\n",
    "        theta_1 = theta_1 - eta*J_prime\n",
    "    \n",
    "    return theta_1"
   ]
  },
  {
   "cell_type": "code",
   "execution_count": 29,
   "metadata": {},
   "outputs": [],
   "source": [
    "N = 1_000\n",
    "beta_1_left_ini = 1\n",
    "eta_left = 0.01"
   ]
  },
  {
   "cell_type": "code",
   "execution_count": 30,
   "metadata": {},
   "outputs": [],
   "source": [
    "beta_1_left = gradient_method(beta_1_left_ini, N, alpha_1_left*v + alpha_0_left, X_2_left, y_2_left, eta_left)"
   ]
  },
  {
   "cell_type": "markdown",
   "metadata": {},
   "source": [
    "Remembering:\n",
    "\n",
    "$ \\boxed{\\textcolor{red}{\\beta_0^{left}} = \\textcolor{green}{\\alpha_1^{left}} \\cdot \\textcolor{green}{v} + \\textcolor{green}{\\alpha_0^{left}} - \\textcolor{red}{\\beta_1^{left}} \\cdot \\textcolor{green}{v}} \\ \\ \\ (1)  $"
   ]
  },
  {
   "cell_type": "code",
   "execution_count": 31,
   "metadata": {},
   "outputs": [],
   "source": [
    "beta_0_left = alpha_1_left*v + alpha_0_left - beta_1_left*v"
   ]
  },
  {
   "cell_type": "code",
   "execution_count": 32,
   "metadata": {},
   "outputs": [
    {
     "data": {
      "text/plain": [
       "(-1.2202976292305285, 7.499311245808878)"
      ]
     },
     "execution_count": 32,
     "metadata": {},
     "output_type": "execute_result"
    }
   ],
   "source": [
    "beta_1_left, beta_0_left"
   ]
  },
  {
   "cell_type": "markdown",
   "metadata": {},
   "source": [
    "_Determine the threshold:_"
   ]
  },
  {
   "cell_type": "code",
   "execution_count": 33,
   "metadata": {},
   "outputs": [],
   "source": [
    "y_2_pred_left = 1/(1 + np.exp(- (beta_1_left*train[f_2]['X'].values + beta_0_left)))"
   ]
  },
  {
   "cell_type": "code",
   "execution_count": 34,
   "metadata": {},
   "outputs": [],
   "source": [
    "recall_2_left = []\n",
    "precision_2_left = []\n",
    "f1_2_left = []\n",
    "\n",
    "all_th_2_left = []\n",
    "\n",
    "for i in range(100):\n",
    "\n",
    "    t_h = i*0.01\n",
    "\n",
    "    all_th_2_left.append(t_h)\n",
    "\n",
    "    recall_2_left.append(recall_score(y_2_left, (y_2_pred_left > t_h)*1, average='macro'))\n",
    "    precision_2_left.append(precision_score(y_2_left, (y_2_pred_left > t_h)*1, average='macro'))\n",
    "    f1_2_left.append(f1_score(y_2_left, (y_2_pred_left > t_h)*1, average='macro'))\n",
    "\n",
    "recall_2_left = np.array(recall_2_left)\n",
    "precision_2_left = np.array(precision_2_left)\n",
    "f1_2_left = np.array(f1_2_left)\n",
    "\n",
    "all_th_2_left = np.array(all_th_2_left)"
   ]
  },
  {
   "cell_type": "code",
   "execution_count": 35,
   "metadata": {},
   "outputs": [
    {
     "data": {
      "image/png": "[encoded data removed]",
      "text/plain": [
       "<Figure size 720x720 with 1 Axes>"
      ]
     },
     "metadata": {
      "needs_background": "light"
     },
     "output_type": "display_data"
    }
   ],
   "source": [
    "figure(figsize=(10, 10))\n",
    "\n",
    "plt.scatter(all_th_2_left, recall_2_left, color = 'red', label = 'recall')\n",
    "plt.scatter(all_th_2_left, precision_2_left, color = 'blue', label = 'precision')\n",
    "plt.scatter(all_th_2_left, f1_2_left, color = 'green', label = 'f1')\n",
    "\n",
    "plt.xlabel('Threeshold', size = 15)\n",
    "plt.ylabel('Measure', size = 15)\n",
    "\n",
    "plt.legend()\n",
    "plt.show()"
   ]
  },
  {
   "cell_type": "code",
   "execution_count": 36,
   "metadata": {},
   "outputs": [],
   "source": [
    "best_th_left_2 = all_th_2_left[precision_2_left.argmax()]"
   ]
  },
  {
   "cell_type": "code",
   "execution_count": 37,
   "metadata": {},
   "outputs": [
    {
     "data": {
      "text/plain": [
       "0.84"
      ]
     },
     "execution_count": 37,
     "metadata": {},
     "output_type": "execute_result"
    }
   ],
   "source": [
    "best_th_left_2"
   ]
  },
  {
   "cell_type": "markdown",
   "metadata": {},
   "source": [
    "**c. Analysis of the resultant model**"
   ]
  },
  {
   "cell_type": "code",
   "execution_count": 38,
   "metadata": {},
   "outputs": [],
   "source": [
    "df['arg_LR'] = (df['X'] <= v)*(alpha_1_left*df['X'] + alpha_0_left) + (df['X'] > v)*(beta_1_left*df['X'] + beta_0_left)\n",
    "\n",
    "train['arg_LR'] = (train['X'] <= v)*(alpha_1_left*train['X'] + alpha_0_left) + (train['X'] > v)*(beta_1_left*train['X'] + beta_0_left)\n",
    "test['arg_LR'] = (test['X'] <= v)*(alpha_1_left*test['X'] + alpha_0_left) + (test['X'] > v)*(beta_1_left*test['X'] + beta_0_left)"
   ]
  },
  {
   "cell_type": "code",
   "execution_count": 39,
   "metadata": {},
   "outputs": [],
   "source": [
    "df['pred_proba_LR'] = 1/(1 + np.exp(-df['arg_LR']))\n",
    "\n",
    "train['pred_proba_LR'] = 1/(1 + np.exp(-train['arg_LR']))\n",
    "test['pred_proba_LR'] = 1/(1 + np.exp(-test['arg_LR']))"
   ]
  },
  {
   "cell_type": "code",
   "execution_count": 40,
   "metadata": {},
   "outputs": [],
   "source": [
    "df['pred_LR'] = (df['X'] <= v)*(df['pred_proba_LR'] > best_th_left_1) + (df['X'] > v)*(df['pred_proba_LR'] > best_th_left_2)\n",
    "\n",
    "train['pred_LR'] = (train['X'] <= v)*(train['pred_proba_LR'] > best_th_left_1) + (train['X'] > v)*(train['pred_proba_LR'] > best_th_left_2)\n",
    "test['pred_LR'] = (test['X'] <= v)*(test['pred_proba_LR'] > best_th_left_1) + (test['X'] > v)*(test['pred_proba_LR'] > best_th_left_2)"
   ]
  },
  {
   "cell_type": "markdown",
   "metadata": {},
   "source": [
    "Train:"
   ]
  },
  {
   "cell_type": "code",
   "execution_count": 41,
   "metadata": {},
   "outputs": [
    {
     "name": "stdout",
     "output_type": "stream",
     "text": [
      "Precision:  86.21\n",
      "Recall:  71.43\n",
      "F1:  72.0\n"
     ]
    }
   ],
   "source": [
    "print(\"Precision: \", round(precision_score(train['y'], train['pred_LR'], average = 'macro')*100, 2))\n",
    "print(\"Recall: \", round(recall_score(train['y'], train['pred_LR'], average = 'macro')*100, 2))\n",
    "print(\"F1: \", round(f1_score(train['y'], train['pred_LR'], average = 'macro')*100, 2))"
   ]
  },
  {
   "cell_type": "markdown",
   "metadata": {},
   "source": [
    "Test:"
   ]
  },
  {
   "cell_type": "code",
   "execution_count": 42,
   "metadata": {},
   "outputs": [
    {
     "name": "stdout",
     "output_type": "stream",
     "text": [
      "Precision:  95.0\n",
      "Recall:  92.86\n",
      "F1:  93.52\n"
     ]
    }
   ],
   "source": [
    "print(\"Precision: \", round(precision_score(test['y'], test['pred_LR'], average = 'macro')*100, 2))\n",
    "print(\"Recall: \", round(recall_score(test['y'], test['pred_LR'], average = 'macro')*100, 2))\n",
    "print(\"F1: \", round(f1_score(test['y'], test['pred_LR'], average = 'macro')*100, 2))"
   ]
  },
  {
   "cell_type": "markdown",
   "metadata": {},
   "source": [
    "**d. Graph of the resultant model**"
   ]
  },
  {
   "cell_type": "code",
   "execution_count": 43,
   "metadata": {},
   "outputs": [],
   "source": [
    "df['th_left'] = (df['X'] <= v)*best_th_left_1 + (df['X'] > v)*best_th_left_2"
   ]
  },
  {
   "cell_type": "code",
   "execution_count": 44,
   "metadata": {},
   "outputs": [
    {
     "data": {
      "image/png": "[encoded data removed]",
      "text/plain": [
       "<Figure size 720x720 with 1 Axes>"
      ]
     },
     "metadata": {
      "needs_background": "light"
     },
     "output_type": "display_data"
    }
   ],
   "source": [
    "figure(figsize=(10,10))\n",
    "plt.scatter(train['X'], train['y'], color = 'red', label = 'Training points')\n",
    "plt.scatter(test['X'], test['y'], color = 'blue', label = 'Testing points')\n",
    "plt.scatter(df['X'], df['pred_proba_LR'], color = 'green', label = 'LR prediction')\n",
    "\n",
    "plt.plot(df['X'], df['th_left'], linewidth = 4, color = 'orange', label = 'Threeshold')\n",
    "\n",
    "plt.xlabel('X axis', size = 17)\n",
    "plt.ylabel('y axis', size = 17)\n",
    "\n",
    "plt.legend()\n",
    "plt.show()"
   ]
  },
  {
   "cell_type": "markdown",
   "metadata": {},
   "source": [
    "### $ \\underline{2. \\ Right \\ \\ to \\ \\ the \\ \\ left:} $"
   ]
  },
  {
   "cell_type": "markdown",
   "metadata": {},
   "source": [
    "We will consider two functions: "
   ]
  },
  {
   "cell_type": "markdown",
   "metadata": {},
   "source": [
    "$ f_1(x) = \\cfrac{1}{1 + e^{-(\\alpha_1^{right} \\cdot x + \\alpha_0^{right})}} \\ \\ \\  $ for $ \\ \\ \\ a \\leq x \\leq v $\n",
    "\n",
    "$ f_2(x) = \\cfrac{1}{1 + e^{-(\\beta_1^{right} \\cdot x + \\beta_0^{right})}} \\ \\ \\  $ for $ \\ \\ \\ v \\leq x \\leq b $"
   ]
  },
  {
   "cell_type": "markdown",
   "metadata": {},
   "source": [
    "*$\\underline{Step \\ 1:}$* We estimate the values of $ \\beta_1^{right} $ and $ \\beta_0^{right}$. From now on, we will write the known values with green color and the unkown values with red color."
   ]
  },
  {
   "cell_type": "markdown",
   "metadata": {},
   "source": [
    "*$\\underline{Step \\ 2:}$* For the union of the first and second function to be continued we need the following equation is fulfilled:"
   ]
  },
  {
   "cell_type": "markdown",
   "metadata": {},
   "source": [
    "$ f_1(v) = f_2(v) $\n",
    "\n",
    "$ \\Rightarrow $\n",
    "\n",
    "$ \\cfrac{1}{1 + e^{-(\\alpha_1^{right} \\cdot v + \\alpha_0^{right})}} = \\cfrac{1}{1 + e^{-(\\beta_1^{right} \\cdot v + \\beta_0^{right})}} $\n",
    "\n",
    "$ \\Rightarrow $\n",
    "\n",
    "$ 1 + e^{-(\\alpha_1^{right} \\cdot v + \\alpha_0^{right})} = 1 + e^{-(\\beta_1^{right} \\cdot v + \\beta_0^{right})} $\n",
    "\n",
    "$ \\Rightarrow $\n",
    "\n",
    "$ (\\alpha_1^{right} \\cdot v + \\alpha_0^{right}) = (\\beta_1^{right} \\cdot v + \\beta_0^{right}) $\n",
    "\n",
    "$ \\Rightarrow $\n",
    "\n",
    "$ \\textcolor{red}{\\alpha_1^{right}} \\cdot \\textcolor{green}{v} + \\textcolor{red}{\\alpha_0^{right}} = \\textcolor{green}{\\beta_1^{right}} \\cdot \\textcolor{green}{v} + \\textcolor{green}{\\beta_0^{right}} $\n",
    "\n",
    "$ \\Rightarrow $\n",
    "\n",
    "$ \\boxed{\\textcolor{red}{\\alpha_0^{right}} = \\textcolor{green}{\\beta_1^{right}} \\cdot \\textcolor{green}{v} + \\textcolor{green}{\\beta_0^{right}} - \\textcolor{red}{\\alpha_1^{right}} \\cdot \\textcolor{green}{v}} \\ \\ \\ (2)  $"
   ]
  },
  {
   "cell_type": "markdown",
   "metadata": {},
   "source": [
    "Substituting this result in $ f_1(x)$ we obtain:"
   ]
  },
  {
   "cell_type": "markdown",
   "metadata": {},
   "source": [
    "$ f_1(x) = \\cfrac{1}{1 + e^{-(\\textcolor{red}{\\alpha_1^{right}} \\cdot x + \\textcolor{green}{\\beta_1^{right}} \\cdot \\textcolor{green}{v} + \\textcolor{green}{\\beta_0^{right}} - \\textcolor{red}{\\alpha_1^{right}} \\cdot \\textcolor{green}{v})}}  $ \n",
    "\n",
    "$ \\Rightarrow $\n",
    "\n",
    "$ f_1(x) = \\cfrac{1}{1 + e^{-(\\textcolor{red}{\\alpha_1^{right}} \\cdot [x - \\textcolor{green}{v}] + \\textcolor{green}{\\beta_1^{right}} \\cdot \\textcolor{green}{v} + \\textcolor{green}{\\beta_0^{right}})}}  $ "
   ]
  },
  {
   "cell_type": "markdown",
   "metadata": {},
   "source": [
    "We create the next new variable:\n",
    "\n",
    "$ W_{1} = x - \\textcolor{green}{v} $"
   ]
  },
  {
   "cell_type": "markdown",
   "metadata": {},
   "source": [
    "Now we have:\n",
    "\n",
    "$ f_1(x) = \\cfrac{1}{1 + e^{-(\\textcolor{red}{\\alpha_1^{right}} \\cdot [x - \\textcolor{green}{v}] + \\textcolor{green}{\\beta_1^{right}} \\cdot \\textcolor{green}{v} + \\textcolor{green}{\\beta_0^{right}})}}  $ \n",
    "\n"
   ]
  },
  {
   "cell_type": "markdown",
   "metadata": {},
   "source": [
    "We will procedure analogously to the mathematical devolepment of the \"Left to Right Model\".\n"
   ]
  },
  {
   "cell_type": "markdown",
   "metadata": {},
   "source": [
    "# Training (Right to Left)"
   ]
  },
  {
   "cell_type": "markdown",
   "metadata": {},
   "source": [
    "**a. Second section**"
   ]
  },
  {
   "cell_type": "code",
   "execution_count": 45,
   "metadata": {},
   "outputs": [],
   "source": [
    "X_2_right = train[f_2][['X']].values\n",
    "y_2_right = train[f_2]['y'].values"
   ]
  },
  {
   "cell_type": "code",
   "execution_count": 46,
   "metadata": {},
   "outputs": [],
   "source": [
    "lreg_right_2 = LogisticRegression(random_state=0).fit(X_2_right, y_2_right)"
   ]
  },
  {
   "cell_type": "code",
   "execution_count": 47,
   "metadata": {},
   "outputs": [],
   "source": [
    "beta_1_right = lreg_right_2.coef_[0][0]"
   ]
  },
  {
   "cell_type": "code",
   "execution_count": 48,
   "metadata": {},
   "outputs": [],
   "source": [
    "beta_0_right = lreg_right_2.intercept_[0]"
   ]
  },
  {
   "cell_type": "code",
   "execution_count": 49,
   "metadata": {},
   "outputs": [
    {
     "data": {
      "text/plain": [
       "(-0.32790886075805736, 1.7193387324387803)"
      ]
     },
     "execution_count": 49,
     "metadata": {},
     "output_type": "execute_result"
    }
   ],
   "source": [
    "beta_1_right, beta_0_right"
   ]
  },
  {
   "cell_type": "markdown",
   "metadata": {},
   "source": [
    "_Determine the threshold:_"
   ]
  },
  {
   "cell_type": "code",
   "execution_count": 50,
   "metadata": {},
   "outputs": [],
   "source": [
    "y_2_pred_right = 1/(1 + np.exp(- (beta_1_right*X_2_right[:, 0] + beta_0_right)))"
   ]
  },
  {
   "cell_type": "code",
   "execution_count": 51,
   "metadata": {},
   "outputs": [],
   "source": [
    "recall_2_right = []\n",
    "precision_2_right = []\n",
    "f1_2_right = []\n",
    "\n",
    "all_th_2_right = []\n",
    "\n",
    "for i in range(100):\n",
    "\n",
    "    t_h = i*0.01\n",
    "\n",
    "    all_th_2_right.append(t_h)\n",
    "\n",
    "    recall_2_right.append(recall_score(y_2_right, (y_2_pred_right > t_h)*1, average='macro'))\n",
    "    precision_2_right.append(precision_score(y_2_right, (y_2_pred_right > t_h)*1, average='macro'))\n",
    "    f1_2_right.append(f1_score(y_2_right, (y_2_pred_right > t_h)*1, average='macro'))\n",
    "\n",
    "recall_2_right = np.array(recall_2_right)\n",
    "precision_2_right = np.array(precision_2_right)\n",
    "f1_2_right = np.array(f1_2_right)\n",
    "\n",
    "all_th_2_right = np.array(all_th_2_right)"
   ]
  },
  {
   "cell_type": "code",
   "execution_count": 52,
   "metadata": {},
   "outputs": [
    {
     "data": {
      "image/png": "[encoded data removed]",
      "text/plain": [
       "<Figure size 720x720 with 1 Axes>"
      ]
     },
     "metadata": {
      "needs_background": "light"
     },
     "output_type": "display_data"
    }
   ],
   "source": [
    "figure(figsize=(10, 10))\n",
    "\n",
    "plt.scatter(all_th_2_right, recall_2_right, color = 'red', label = 'recall')\n",
    "plt.scatter(all_th_2_right, precision_2_right, color = 'blue', label = 'precision')\n",
    "plt.scatter(all_th_2_right, f1_2_right, color = 'green', label\n",
    " = 'f1')\n",
    "\n",
    "plt.xlabel('Threeshold', size = 15)\n",
    "plt.ylabel('Measure', size = 15)\n",
    "\n",
    "plt.legend()\n",
    "plt.show()"
   ]
  },
  {
   "cell_type": "code",
   "execution_count": 53,
   "metadata": {},
   "outputs": [],
   "source": [
    "best_th_right_2 = all_th_2_right[precision_2_right.argmax()]"
   ]
  },
  {
   "cell_type": "code",
   "execution_count": 54,
   "metadata": {},
   "outputs": [
    {
     "data": {
      "text/plain": [
       "0.54"
      ]
     },
     "execution_count": 54,
     "metadata": {},
     "output_type": "execute_result"
    }
   ],
   "source": [
    "best_th_right_2"
   ]
  },
  {
   "cell_type": "markdown",
   "metadata": {},
   "source": [
    "**b. First section**"
   ]
  },
  {
   "cell_type": "code",
   "execution_count": 55,
   "metadata": {},
   "outputs": [],
   "source": [
    "X_1_right = train[f_1]['X'].values - v\n",
    "y_1_right = train[f_1]['y'].values"
   ]
  },
  {
   "cell_type": "code",
   "execution_count": 56,
   "metadata": {},
   "outputs": [],
   "source": [
    "N = 1_000\n",
    "alpha_1_right_ini = 0.1\n",
    "eta_right = 0.01"
   ]
  },
  {
   "cell_type": "code",
   "execution_count": 57,
   "metadata": {},
   "outputs": [],
   "source": [
    "alpha_1_right = gradient_method(alpha_1_right_ini, N, beta_1_right*v + beta_0_right, X_1_right, y_1_right, eta_right)"
   ]
  },
  {
   "cell_type": "markdown",
   "metadata": {},
   "source": [
    "Remembering:\n",
    "\n",
    "$ \\boxed{\\textcolor{red}{\\alpha_0^{right}} = \\textcolor{green}{\\beta_1^{right}} \\cdot \\textcolor{green}{v} + \\textcolor{green}{\\beta_0^{right}} - \\textcolor{red}{\\alpha_1^{right}} \\cdot \\textcolor{green}{v}} \\ \\ \\ (2)  $"
   ]
  },
  {
   "cell_type": "code",
   "execution_count": 58,
   "metadata": {},
   "outputs": [],
   "source": [
    "alpha_0_right = beta_1_right*v + beta_0_right - alpha_1_right*v"
   ]
  },
  {
   "cell_type": "code",
   "execution_count": 59,
   "metadata": {},
   "outputs": [
    {
     "data": {
      "text/plain": [
       "(0.5136274544751488, -1.6468065284940443)"
      ]
     },
     "execution_count": 59,
     "metadata": {},
     "output_type": "execute_result"
    }
   ],
   "source": [
    "alpha_1_right, alpha_0_right"
   ]
  },
  {
   "cell_type": "markdown",
   "metadata": {},
   "source": [
    "_Determine the threshold:_"
   ]
  },
  {
   "cell_type": "code",
   "execution_count": 60,
   "metadata": {},
   "outputs": [],
   "source": [
    "y_1_pred_right = 1/(1 + np.exp(- (alpha_1_right*train[f_1]['X'].values + alpha_0_right)))"
   ]
  },
  {
   "cell_type": "code",
   "execution_count": 61,
   "metadata": {},
   "outputs": [],
   "source": [
    "recall_1_right = []\n",
    "precision_1_right = []\n",
    "f1_1_right = []\n",
    "\n",
    "all_th_1_right = []\n",
    "\n",
    "for i in range(100):\n",
    "\n",
    "    t_h = i*0.01\n",
    "\n",
    "    all_th_1_right.append(t_h)\n",
    "\n",
    "    recall_1_right.append(recall_score(y_1_right, (y_1_pred_right > t_h)*1, average='macro'))\n",
    "    precision_1_right.append(precision_score(y_1_right, (y_1_pred_right > t_h)*1, average='macro'))\n",
    "    f1_1_right.append(f1_score(y_1_right, (y_1_pred_right > t_h)*1, average='macro'))\n",
    "\n",
    "recall_1_right = np.array(recall_1_right)\n",
    "precision_1_right = np.array(precision_1_right)\n",
    "f1_1_right = np.array(f1_1_right)\n",
    "\n",
    "all_th_1_right = np.array(all_th_1_right)"
   ]
  },
  {
   "cell_type": "code",
   "execution_count": 62,
   "metadata": {},
   "outputs": [
    {
     "data": {
      "image/png": "[encoded data removed]",
      "text/plain": [
       "<Figure size 720x720 with 1 Axes>"
      ]
     },
     "metadata": {
      "needs_background": "light"
     },
     "output_type": "display_data"
    }
   ],
   "source": [
    "figure(figsize=(10, 10))\n",
    "\n",
    "plt.scatter(all_th_1_right, recall_1_right, color = 'red', label = 'recall')\n",
    "plt.scatter(all_th_1_right, precision_1_right, color = 'blue', label = 'precision')\n",
    "plt.scatter(all_th_1_right, f1_1_right, color = 'green', label = 'f1')\n",
    "\n",
    "plt.xlabel('Threeshold', size = 15)\n",
    "plt.ylabel('Measure', size = 15)\n",
    "\n",
    "plt.legend()\n",
    "plt.show()"
   ]
  },
  {
   "cell_type": "code",
   "execution_count": 63,
   "metadata": {},
   "outputs": [],
   "source": [
    "best_th_right_1 = all_th_1_right[precision_1_right.argmax()]"
   ]
  },
  {
   "cell_type": "code",
   "execution_count": 64,
   "metadata": {},
   "outputs": [
    {
     "data": {
      "text/plain": [
       "0.38"
      ]
     },
     "execution_count": 64,
     "metadata": {},
     "output_type": "execute_result"
    }
   ],
   "source": [
    "best_th_right_1"
   ]
  },
  {
   "cell_type": "markdown",
   "metadata": {},
   "source": [
    "**c. Analysis of the resultant model**"
   ]
  },
  {
   "cell_type": "code",
   "execution_count": 65,
   "metadata": {},
   "outputs": [],
   "source": [
    "df['arg_RL'] = (df['X'] <= v)*(alpha_1_right*df['X'] + alpha_0_right) + (df['X'] > v)*(beta_1_right*df['X'] + beta_0_right)\n",
    "\n",
    "train['arg_RL'] = (train['X'] <= v)*(alpha_1_right*train['X'] + alpha_0_right) + (train['X'] > v)*(beta_1_right*train['X'] + beta_0_right)\n",
    "test['arg_RL'] = (test['X'] <= v)*(alpha_1_right*test['X'] + alpha_0_right) + (test['X'] > v)*(beta_1_right*test['X'] + beta_0_right)"
   ]
  },
  {
   "cell_type": "code",
   "execution_count": 66,
   "metadata": {},
   "outputs": [],
   "source": [
    "df['pred_proba_RL'] = 1/(1 + np.exp(-df['arg_RL']))\n",
    "\n",
    "train['pred_proba_RL'] = 1/(1 + np.exp(-train['arg_RL']))\n",
    "test['pred_proba_RL'] = 1/(1 + np.exp(-test['arg_RL']))"
   ]
  },
  {
   "cell_type": "code",
   "execution_count": 67,
   "metadata": {},
   "outputs": [],
   "source": [
    "df['pred_RL'] = (df['X'] <= v)*(df['pred_proba_RL'] > best_th_right_1) + (df['X'] > v)*(df['pred_proba_RL'] > best_th_right_2)\n",
    "\n",
    "train['pred_RL'] = (train['X'] <= v)*(train['pred_proba_RL'] > best_th_right_1) + (train['X'] > v)*(train['pred_proba_RL'] > best_th_right_2)\n",
    "test['pred_RL'] = (test['X'] <= v)*(test['pred_proba_RL'] > best_th_right_1) + (test['X'] > v)*(test['pred_proba_RL'] > best_th_right_2)"
   ]
  },
  {
   "cell_type": "markdown",
   "metadata": {},
   "source": [
    "Train:"
   ]
  },
  {
   "cell_type": "code",
   "execution_count": 68,
   "metadata": {},
   "outputs": [
    {
     "name": "stdout",
     "output_type": "stream",
     "text": [
      "Precision:  86.21\n",
      "Recall:  71.43\n",
      "F1:  72.0\n"
     ]
    }
   ],
   "source": [
    "print(\"Precision: \", round(precision_score(train['y'], train['pred_RL'], average = 'macro')*100, 2))\n",
    "print(\"Recall: \", round(recall_score(train['y'], train['pred_RL'], average = 'macro')*100, 2))\n",
    "print(\"F1: \", round(f1_score(train['y'], train['pred_RL'], average = 'macro')*100, 2))"
   ]
  },
  {
   "cell_type": "markdown",
   "metadata": {},
   "source": [
    "Test:"
   ]
  },
  {
   "cell_type": "code",
   "execution_count": 69,
   "metadata": {},
   "outputs": [
    {
     "name": "stdout",
     "output_type": "stream",
     "text": [
      "Precision:  95.0\n",
      "Recall:  92.86\n",
      "F1:  93.52\n"
     ]
    }
   ],
   "source": [
    "print(\"Precision: \", round(precision_score(test['y'], test['pred_RL'], average = 'macro')*100, 2))\n",
    "print(\"Recall: \", round(recall_score(test['y'], test['pred_RL'], average = 'macro')*100, 2))\n",
    "print(\"F1: \", round(f1_score(test['y'], test['pred_RL'], average = 'macro')*100, 2))"
   ]
  },
  {
   "cell_type": "markdown",
   "metadata": {},
   "source": [
    "**d. Graph of the resultant model**"
   ]
  },
  {
   "cell_type": "code",
   "execution_count": 70,
   "metadata": {},
   "outputs": [],
   "source": [
    "df['th_right'] = (df['X'] <= v)*best_th_right_1 + (df['X'] > v)*best_th_right_2"
   ]
  },
  {
   "cell_type": "code",
   "execution_count": 71,
   "metadata": {},
   "outputs": [
    {
     "data": {
      "image/png": "[encoded data removed]",
      "text/plain": [
       "<Figure size 720x720 with 1 Axes>"
      ]
     },
     "metadata": {
      "needs_background": "light"
     },
     "output_type": "display_data"
    }
   ],
   "source": [
    "figure(figsize=(10,10))\n",
    "plt.scatter(train['X'], train['y'], color = 'red', label = 'Training points')\n",
    "plt.scatter(test['X'], test['y'], color = 'blue', label = 'Testing points')\n",
    "plt.scatter(df['X'], df['pred_proba_RL'], color = 'green', label = 'RL prediction')\n",
    "\n",
    "plt.plot(df['X'], df['th_right'], linewidth = 4, color = 'orange', label = 'Threeshold')\n",
    "\n",
    "plt.xlabel('X axis', size = 17)\n",
    "plt.ylabel('y axis', size = 17)\n",
    "\n",
    "plt.legend()\n",
    "plt.show()"
   ]
  },
  {
   "cell_type": "markdown",
   "metadata": {},
   "source": [
    "# Graph comparision of both models"
   ]
  },
  {
   "cell_type": "code",
   "execution_count": 72,
   "metadata": {},
   "outputs": [
    {
     "data": {
      "image/png": "[encoded data removed]",
      "text/plain": [
       "<Figure size 720x720 with 1 Axes>"
      ]
     },
     "metadata": {
      "needs_background": "light"
     },
     "output_type": "display_data"
    }
   ],
   "source": [
    "figure(figsize=(10,10))\n",
    "plt.scatter(train['X'], train['y'], color = 'red', label = 'Training points')\n",
    "plt.scatter(test['X'], test['y'], color = 'blue', label = 'Testing points')\n",
    "plt.scatter(df['X'], df['pred_proba_RL'], color = 'green', label = 'RL prediction')\n",
    "plt.scatter(df['X'], df['pred_proba_LR'], color = 'purple', label = 'LR prediction')\n",
    "\n",
    "plt.plot(df['X'], df['th_right'], linewidth = 4, color = 'orange', label = 'Threeshold RL')\n",
    "plt.plot(df['X'], df['th_left'], linewidth = 4, color = 'pink', label = 'Threeshold LR')\n",
    "\n",
    "plt.xlabel('X axis', size = 17)\n",
    "plt.ylabel('y axis', size = 17)\n",
    "\n",
    "plt.legend()\n",
    "plt.show()"
   ]
  },
  {
   "cell_type": "code",
   "execution_count": null,
   "metadata": {},
   "outputs": [],
   "source": []
  }
 ],
 "metadata": {
  "kernelspec": {
   "display_name": "Python 3.9.12 ('base')",
   "language": "python",
   "name": "python3"
  },
  "language_info": {
   "codemirror_mode": {
    "name": "ipython",
    "version": 3
   },
   "file_extension": ".py",
   "mimetype": "text/x-python",
   "name": "python",
   "nbconvert_exporter": "python",
   "pygments_lexer": "ipython3",
   "version": "3.9.12"
  },
  "orig_nbformat": 4,
  "vscode": {
   "interpreter": {
    "hash": "2f8c485831047b2cebf111481919a8482d14cdda0a4d2016f96df03a335ecfa0"
   }
  }
 },
 "nbformat": 4,
 "nbformat_minor": 2
}
