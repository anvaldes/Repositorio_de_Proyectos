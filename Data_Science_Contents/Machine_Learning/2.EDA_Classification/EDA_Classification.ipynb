{
 "cells": [
  {
   "attachments": {},
   "cell_type": "markdown",
   "metadata": {},
   "source": [
    "# EDA Classification"
   ]
  },
  {
   "attachments": {},
   "cell_type": "markdown",
   "metadata": {},
   "source": [
    "By Alberto Valdés \n",
    "\n",
    "**Mail 1:** anvaldes@uc.cl \n",
    "\n",
    "**Mail 2:** alberto.valdes.gonzalez.96@gmail.com"
   ]
  },
  {
   "cell_type": "markdown",
   "metadata": {},
   "source": [
    "Exploratory Data Analysis (EDA) is one of the techniques used for extracting vital features and trends used by machine learning and deep learning models in Data Science. Thus, EDA has become an important milestone for anyone working in data science."
   ]
  },
  {
   "cell_type": "code",
   "execution_count": 1,
   "metadata": {},
   "outputs": [],
   "source": [
    "import warnings\n",
    "warnings.filterwarnings(\"ignore\")"
   ]
  },
  {
   "cell_type": "code",
   "execution_count": 2,
   "metadata": {},
   "outputs": [],
   "source": [
    "import time\n",
    "import scipy\n",
    "import pandas as pd\n",
    "import matplotlib.pyplot as plt\n",
    "from matplotlib.pyplot import figure\n",
    "from matplotlib import image as mpimg"
   ]
  },
  {
   "cell_type": "code",
   "execution_count": 3,
   "metadata": {},
   "outputs": [],
   "source": [
    "def display_img(name, a, b):\n",
    "    plt.figure(figsize = (a, b))\n",
    "    image = mpimg.imread(name)\n",
    "    plt.imshow(image)\n",
    "    plt.axis('off')\n",
    "    plt.show()"
   ]
  },
  {
   "cell_type": "code",
   "execution_count": 4,
   "metadata": {},
   "outputs": [],
   "source": [
    "start = time.time()"
   ]
  },
  {
   "cell_type": "markdown",
   "metadata": {},
   "source": [
    "# 1. Preprocessing"
   ]
  },
  {
   "cell_type": "markdown",
   "metadata": {},
   "source": [
    "### i. Read Dataframe"
   ]
  },
  {
   "cell_type": "code",
   "execution_count": 5,
   "metadata": {},
   "outputs": [],
   "source": [
    "df = pd.read_csv('credit_risk.csv')"
   ]
  },
  {
   "cell_type": "markdown",
   "metadata": {},
   "source": [
    "This dataset is about the credit risk."
   ]
  },
  {
   "cell_type": "code",
   "execution_count": 6,
   "metadata": {},
   "outputs": [],
   "source": [
    "X_cols = ['person_age', 'person_income', 'person_home_ownership', 'person_emp_length', 'loan_intent', 'loan_grade', 'loan_amnt', 'loan_int_rate', \n",
    "          'loan_percent_income', 'cb_person_default_on_file', 'cb_person_cred_hist_length']\n",
    "\n",
    "y_col = ['loan_status']"
   ]
  },
  {
   "cell_type": "markdown",
   "metadata": {},
   "source": [
    "### ii. Drop 'y' NaNs"
   ]
  },
  {
   "cell_type": "code",
   "execution_count": 7,
   "metadata": {},
   "outputs": [],
   "source": [
    "df = df[df[y_col[0]].notna()]"
   ]
  },
  {
   "cell_type": "markdown",
   "metadata": {},
   "source": [
    "# 2. EDA"
   ]
  },
  {
   "cell_type": "markdown",
   "metadata": {},
   "source": [
    "### i. Split"
   ]
  },
  {
   "cell_type": "markdown",
   "metadata": {},
   "source": [
    "How we don't have temporal dependency the split is the classical."
   ]
  },
  {
   "cell_type": "code",
   "execution_count": 8,
   "metadata": {},
   "outputs": [],
   "source": [
    "from sklearn.model_selection import train_test_split"
   ]
  },
  {
   "cell_type": "code",
   "execution_count": 9,
   "metadata": {},
   "outputs": [],
   "source": [
    "X = df[X_cols].copy()\n",
    "y = df[y_col[0]].copy()"
   ]
  },
  {
   "cell_type": "code",
   "execution_count": 10,
   "metadata": {},
   "outputs": [],
   "source": [
    "X_train, X_val, y_train, y_val = train_test_split(X, y, test_size = 0.40, random_state = 10)\n",
    "X_val, X_test, y_val, y_test = train_test_split(X_val, y_val, test_size = 0.50, random_state = 10)"
   ]
  },
  {
   "cell_type": "markdown",
   "metadata": {},
   "source": [
    "### ii. Numerical and categorical"
   ]
  },
  {
   "cell_type": "code",
   "execution_count": 11,
   "metadata": {},
   "outputs": [],
   "source": [
    "cat_str = ['person_home_ownership', 'loan_intent']\n",
    "cat_oh = ['cb_person_default_on_file', 'loan_grade']\n",
    "\n",
    "num_mean = ['person_age', 'person_income', 'loan_percent_income']\n",
    "num_zero = ['cb_person_cred_hist_length']\n",
    "\n",
    "num_mean_nan = ['loan_int_rate', 'person_emp_length']\n",
    "num_zero_nan = ['loan_amnt']"
   ]
  },
  {
   "cell_type": "markdown",
   "metadata": {},
   "source": [
    "### iii. FillNaNs"
   ]
  },
  {
   "cell_type": "code",
   "execution_count": 12,
   "metadata": {},
   "outputs": [],
   "source": [
    "num_mean_ave = X_train[num_mean].mean()\n",
    "num_mean_nan_ave = X_train[num_mean_nan].mean()"
   ]
  },
  {
   "cell_type": "code",
   "execution_count": 13,
   "metadata": {},
   "outputs": [],
   "source": [
    "X_train[cat_str] = X_train[cat_str].fillna('UNKOWN')\n",
    "X_train[cat_oh] = X_train[cat_oh].fillna('UNKOWN')\n",
    "\n",
    "X_train[num_mean] = X_train[num_mean].fillna(num_mean_ave)\n",
    "X_train[num_zero] = X_train[num_zero].fillna(0)\n",
    "\n",
    "X_train[num_mean_nan] = X_train[num_mean_nan].fillna(num_mean_nan_ave)\n",
    "X_train[num_zero_nan] = X_train[num_zero_nan].fillna(0)"
   ]
  },
  {
   "cell_type": "markdown",
   "metadata": {},
   "source": [
    "### iv. Analysis \"y\" variable"
   ]
  },
  {
   "cell_type": "code",
   "execution_count": 14,
   "metadata": {},
   "outputs": [
    {
     "data": {
      "text/plain": [
       "0    15278\n",
       "1     4270\n",
       "Name: loan_status, dtype: int64"
      ]
     },
     "execution_count": 14,
     "metadata": {},
     "output_type": "execute_result"
    }
   ],
   "source": [
    "y_train.value_counts()"
   ]
  },
  {
   "cell_type": "code",
   "execution_count": 15,
   "metadata": {},
   "outputs": [
    {
     "data": {
      "text/plain": [
       "0    78.16\n",
       "1    21.84\n",
       "Name: loan_status, dtype: float64"
      ]
     },
     "execution_count": 15,
     "metadata": {},
     "output_type": "execute_result"
    }
   ],
   "source": [
    "round(y_train.value_counts(normalize = True)*100, 2)"
   ]
  },
  {
   "cell_type": "markdown",
   "metadata": {},
   "source": [
    "**Comments:** The problem is slightly unbalanced."
   ]
  },
  {
   "cell_type": "markdown",
   "metadata": {},
   "source": [
    "### v. Relation dependent variable with independent: Numerical (ANOVA)"
   ]
  },
  {
   "cell_type": "code",
   "execution_count": 16,
   "metadata": {},
   "outputs": [],
   "source": [
    "num_X_cols = num_mean + num_zero + num_mean_nan + num_zero_nan"
   ]
  },
  {
   "cell_type": "code",
   "execution_count": 17,
   "metadata": {},
   "outputs": [],
   "source": [
    "def anova_test(name_num_col):\n",
    "\n",
    "    f_0 = (y_train == 0)\n",
    "    f_1 = (y_train == 1)\n",
    "\n",
    "    S_0 = X_train[f_0][name_num_col].std()\n",
    "    S_1 = X_train[f_1][name_num_col].std()\n",
    "\n",
    "    n_0 = f_0.sum()\n",
    "    n_1 = f_1.sum()\n",
    "\n",
    "    n_T = len(y_train)\n",
    "\n",
    "    bar_x = X_train[name_num_col].mean()\n",
    "\n",
    "    bar_x_0 = X_train[f_0][name_num_col].mean()\n",
    "    bar_x_1 = X_train[f_1][name_num_col].mean()\n",
    "\n",
    "    SS_W = (n_0 - 1)*(S_0**2) + (n_1 - 1)*(S_1**2)\n",
    "    SS_B = n_0*((bar_x - bar_x_0)**2) + n_1*((bar_x - bar_x_1)**2)\n",
    "\n",
    "    MS_W = SS_W/(n_T - 2)\n",
    "    MS_B = SS_B/(2 - 1)\n",
    "\n",
    "    F_stat = MS_B/MS_W\n",
    "\n",
    "    cdf = scipy.stats.f.cdf(F_stat, 2 - 1, n_T - 2)\n",
    "    p_value = 1 - cdf\n",
    "\n",
    "    return F_stat, p_value"
   ]
  },
  {
   "cell_type": "code",
   "execution_count": 18,
   "metadata": {},
   "outputs": [],
   "source": [
    "dict_anova = {}\n",
    "\n",
    "for name_num_col in num_X_cols:\n",
    "\n",
    "    F_col, p_col = anova_test(name_num_col)\n",
    "\n",
    "    dict_anova[name_num_col] = {}\n",
    "    dict_anova[name_num_col]['F'] = F_col\n",
    "    dict_anova[name_num_col]['p_value'] = p_col*100"
   ]
  },
  {
   "cell_type": "code",
   "execution_count": 19,
   "metadata": {},
   "outputs": [
    {
     "name": "stdout",
     "output_type": "stream",
     "text": [
      "Numerical column: person_age\n",
      "{'F': 5.89152274498991, 'p_value': 1.522291301410672}\n",
      "----------------------------------------------------------------------\n",
      "Numerical column: person_income\n",
      "{'F': 555.5803720664836, 'p_value': 1.1102230246251565e-14}\n",
      "----------------------------------------------------------------------\n",
      "Numerical column: loan_percent_income\n",
      "{'F': 3207.083218966495, 'p_value': 1.1102230246251565e-14}\n",
      "----------------------------------------------------------------------\n",
      "Numerical column: cb_person_cred_hist_length\n",
      "{'F': 1.6773584410227746, 'p_value': 19.52911204904244}\n",
      "----------------------------------------------------------------------\n",
      "Numerical column: loan_int_rate\n",
      "{'F': 2177.437627268028, 'p_value': 1.1102230246251565e-14}\n",
      "----------------------------------------------------------------------\n",
      "Numerical column: person_emp_length\n",
      "{'F': 143.2165788854713, 'p_value': 1.1102230246251565e-14}\n",
      "----------------------------------------------------------------------\n",
      "Numerical column: loan_amnt\n",
      "{'F': 198.99123983943625, 'p_value': 1.1102230246251565e-14}\n",
      "----------------------------------------------------------------------\n"
     ]
    }
   ],
   "source": [
    "for k_anova in dict_anova.keys():\n",
    "    print('Numerical column:', k_anova)\n",
    "    print(dict_anova[k_anova])\n",
    "    print('-'*70)"
   ]
  },
  {
   "cell_type": "markdown",
   "metadata": {},
   "source": [
    "### vi. Relation dependent variable with independent: Categorical (Chi-Test)"
   ]
  },
  {
   "cell_type": "code",
   "execution_count": 20,
   "metadata": {},
   "outputs": [],
   "source": [
    "cat_X_cols = cat_str + cat_oh"
   ]
  },
  {
   "cell_type": "code",
   "execution_count": 21,
   "metadata": {},
   "outputs": [],
   "source": [
    "df_train = pd.concat([X_train, y_train], axis = 1)"
   ]
  },
  {
   "cell_type": "code",
   "execution_count": 22,
   "metadata": {},
   "outputs": [],
   "source": [
    "def chi_test(name_cat_col_1, name_cat_col_2):\n",
    "\n",
    "    #------------------------------------------------------------------------------------------\n",
    "\n",
    "    value_counts_p_1 = df_train[name_cat_col_1].value_counts(normalize = True)\n",
    "    keys_p_1 = list(value_counts_p_1.keys())\n",
    "\n",
    "    dict_p_1 = {}\n",
    "\n",
    "    for k_1 in keys_p_1:\n",
    "        dict_p_1[k_1] = value_counts_p_1[k_1]\n",
    "\n",
    "    #------------------------------------------------------------------------------------------\n",
    "\n",
    "    value_counts_p_2 = df_train[name_cat_col_2].value_counts(normalize = True)\n",
    "    keys_p_2 = list(value_counts_p_2.keys())\n",
    "\n",
    "    dict_p_2 = {}\n",
    "\n",
    "    for k_2 in keys_p_2:\n",
    "        dict_p_2[k_2] = value_counts_p_2[k_2]\n",
    "\n",
    "    #------------------------------------------------------------------------------------------\n",
    "\n",
    "    observed = {}\n",
    "    expected = {}\n",
    "\n",
    "    N = len(df_train)\n",
    "\n",
    "    T = 0\n",
    "\n",
    "    for k_1 in keys_p_1:\n",
    "        for k_2 in keys_p_2:\n",
    "\n",
    "            new_key = str(k_1) + '_' + str(k_2)\n",
    "\n",
    "            observed[new_key] = ((df_train[name_cat_col_1] == k_1) & (df_train[name_cat_col_2] == k_2)).sum()\n",
    "            expected[new_key] = dict_p_1[k_1]*dict_p_2[k_2]*N\n",
    "\n",
    "            T = T + ((observed[new_key] - expected[new_key])**2)/expected[new_key]\n",
    "\n",
    "    #------------------------------------------------------------------------------------------\n",
    "\n",
    "    k = (len(keys_p_1) - 1)*(len(keys_p_2) - 1)\n",
    "\n",
    "    cdf = scipy.stats.chi2.cdf(T, df = k)\n",
    "\n",
    "    p_value = 1 - cdf\n",
    "\n",
    "    return T, p_value"
   ]
  },
  {
   "cell_type": "code",
   "execution_count": 23,
   "metadata": {},
   "outputs": [],
   "source": [
    "dict_chi = {}\n",
    "\n",
    "for c_X_cols in cat_X_cols:\n",
    "    dict_chi[c_X_cols] = {}\n",
    "    dict_chi[c_X_cols]['T'] = chi_test('loan_status', c_X_cols)[0]\n",
    "    dict_chi[c_X_cols]['p'] = chi_test('loan_status', c_X_cols)[1]*100"
   ]
  },
  {
   "cell_type": "code",
   "execution_count": 24,
   "metadata": {},
   "outputs": [
    {
     "name": "stdout",
     "output_type": "stream",
     "text": [
      "Categorical column: person_home_ownership\n",
      "T: 1133.3001241251043\n",
      "p_value: 0.0\n",
      "----------------------------------------------------------------------\n",
      "Categorical column: loan_intent\n",
      "T: 315.1047799478533\n",
      "p_value: 0.0\n",
      "----------------------------------------------------------------------\n",
      "Categorical column: cb_person_default_on_file\n",
      "T: 601.265495671789\n",
      "p_value: 0.0\n",
      "----------------------------------------------------------------------\n",
      "Categorical column: loan_grade\n",
      "T: 3370.001876411037\n",
      "p_value: 0.0\n",
      "----------------------------------------------------------------------\n"
     ]
    }
   ],
   "source": [
    "for k_chi in dict_chi.keys():\n",
    "    print('Categorical column:', k_chi)\n",
    "    print('T:', dict_chi[k_chi]['T'])\n",
    "    print('p_value:', dict_chi[k_chi]['p'])\n",
    "    print('-'*70)"
   ]
  },
  {
   "cell_type": "markdown",
   "metadata": {},
   "source": [
    "### vii. Plot the relation between dependent and independent variables: Numerical"
   ]
  },
  {
   "cell_type": "code",
   "execution_count": 25,
   "metadata": {},
   "outputs": [
    {
     "data": {
      "image/png": "[encoded data removed]",
      "text/plain": [
       "<Figure size 640x480 with 1 Axes>"
      ]
     },
     "metadata": {},
     "output_type": "display_data"
    },
    {
     "name": "stdout",
     "output_type": "stream",
     "text": [
      "----------------------------------------------------------------------\n"
     ]
    },
    {
     "data": {
      "image/png": "[encoded data removed]",
      "text/plain": [
       "<Figure size 640x480 with 1 Axes>"
      ]
     },
     "metadata": {},
     "output_type": "display_data"
    },
    {
     "name": "stdout",
     "output_type": "stream",
     "text": [
      "----------------------------------------------------------------------\n"
     ]
    },
    {
     "data": {
      "image/png": "[encoded data removed]",
      "text/plain": [
       "<Figure size 640x480 with 1 Axes>"
      ]
     },
     "metadata": {},
     "output_type": "display_data"
    },
    {
     "name": "stdout",
     "output_type": "stream",
     "text": [
      "----------------------------------------------------------------------\n"
     ]
    },
    {
     "data": {
      "image/png": "[encoded data removed]",
      "text/plain": [
       "<Figure size 640x480 with 1 Axes>"
      ]
     },
     "metadata": {},
     "output_type": "display_data"
    },
    {
     "name": "stdout",
     "output_type": "stream",
     "text": [
      "----------------------------------------------------------------------\n"
     ]
    },
    {
     "data": {
      "image/png": "[encoded data removed]",
      "text/plain": [
       "<Figure size 640x480 with 1 Axes>"
      ]
     },
     "metadata": {},
     "output_type": "display_data"
    },
    {
     "name": "stdout",
     "output_type": "stream",
     "text": [
      "----------------------------------------------------------------------\n"
     ]
    },
    {
     "data": {
      "image/png": "[encoded data removed]",
      "text/plain": [
       "<Figure size 640x480 with 1 Axes>"
      ]
     },
     "metadata": {},
     "output_type": "display_data"
    },
    {
     "name": "stdout",
     "output_type": "stream",
     "text": [
      "----------------------------------------------------------------------\n"
     ]
    },
    {
     "data": {
      "image/png": "[encoded data removed]",
      "text/plain": [
       "<Figure size 640x480 with 1 Axes>"
      ]
     },
     "metadata": {},
     "output_type": "display_data"
    },
    {
     "name": "stdout",
     "output_type": "stream",
     "text": [
      "----------------------------------------------------------------------\n"
     ]
    }
   ],
   "source": [
    "for name_num_col in num_X_cols:\n",
    "\n",
    "    df_train[df_train['loan_status'] == 0][name_num_col].hist(density = True, alpha = 0.7, label = '0', bins = 20)\n",
    "    df_train[df_train['loan_status'] == 1][name_num_col].hist(density = True, alpha = 0.7, label = '1', bins = 20)\n",
    "    plt.xlabel(name_num_col, fontsize = 15)\n",
    "    plt.legend()\n",
    "    plt.show()\n",
    "\n",
    "    print('-'*70)"
   ]
  },
  {
   "cell_type": "markdown",
   "metadata": {},
   "source": [
    "### viii. Plot the relation between dependent and independent variables: Categorical"
   ]
  },
  {
   "cell_type": "code",
   "execution_count": 26,
   "metadata": {},
   "outputs": [
    {
     "name": "stdout",
     "output_type": "stream",
     "text": [
      "\n",
      "\n",
      "General: person_home_ownership\n",
      "\n",
      "\n",
      "RENT        50.62\n",
      "MORTGAGE    41.00\n",
      "OWN          8.04\n",
      "OTHER        0.34\n",
      "Name: person_home_ownership, dtype: float64\n",
      "----------------------------------------------------------------------\n",
      "\n",
      "\n",
      "Label: 0\n",
      "\n",
      "\n",
      "MORTGAGE    45.82\n",
      "RENT        44.36\n",
      "OWN          9.52\n",
      "OTHER        0.29\n",
      "Name: person_home_ownership, dtype: float64\n",
      "----------------------------------------------------------------------\n",
      "\n",
      "\n",
      "Label: 1\n",
      "\n",
      "\n",
      "RENT        73.00\n",
      "MORTGAGE    23.75\n",
      "OWN          2.74\n",
      "OTHER        0.52\n",
      "Name: person_home_ownership, dtype: float64\n",
      "----------------------------------------------------------------------\n",
      "----------------------------------------------------------------------\n",
      "----------------------------------------------------------------------\n",
      "\n",
      "\n",
      "General: loan_intent\n",
      "\n",
      "\n",
      "EDUCATION            19.70\n",
      "MEDICAL              19.04\n",
      "VENTURE              17.36\n",
      "PERSONAL             16.90\n",
      "DEBTCONSOLIDATION    15.98\n",
      "HOMEIMPROVEMENT      11.02\n",
      "Name: loan_intent, dtype: float64\n",
      "----------------------------------------------------------------------\n",
      "\n",
      "\n",
      "Label: 0\n",
      "\n",
      "\n",
      "EDUCATION            20.81\n",
      "VENTURE              18.99\n",
      "MEDICAL              17.87\n",
      "PERSONAL             17.34\n",
      "DEBTCONSOLIDATION    14.71\n",
      "HOMEIMPROVEMENT      10.28\n",
      "Name: loan_intent, dtype: float64\n",
      "----------------------------------------------------------------------\n",
      "\n",
      "\n",
      "Label: 1\n",
      "\n",
      "\n",
      "MEDICAL              23.23\n",
      "DEBTCONSOLIDATION    20.49\n",
      "EDUCATION            15.74\n",
      "PERSONAL             15.34\n",
      "HOMEIMPROVEMENT      13.70\n",
      "VENTURE              11.50\n",
      "Name: loan_intent, dtype: float64\n",
      "----------------------------------------------------------------------\n",
      "----------------------------------------------------------------------\n",
      "----------------------------------------------------------------------\n",
      "\n",
      "\n",
      "General: cb_person_default_on_file\n",
      "\n",
      "\n",
      "N    82.29\n",
      "Y    17.71\n",
      "Name: cb_person_default_on_file, dtype: float64\n",
      "----------------------------------------------------------------------\n",
      "\n",
      "\n",
      "Label: 0\n",
      "\n",
      "\n",
      "N    85.83\n",
      "Y    14.17\n",
      "Name: cb_person_default_on_file, dtype: float64\n",
      "----------------------------------------------------------------------\n",
      "\n",
      "\n",
      "Label: 1\n",
      "\n",
      "\n",
      "N    69.63\n",
      "Y    30.37\n",
      "Name: cb_person_default_on_file, dtype: float64\n",
      "----------------------------------------------------------------------\n",
      "----------------------------------------------------------------------\n",
      "----------------------------------------------------------------------\n",
      "\n",
      "\n",
      "General: loan_grade\n",
      "\n",
      "\n",
      "A    32.76\n",
      "B    32.37\n",
      "C    19.95\n",
      "D    11.07\n",
      "E     2.86\n",
      "F     0.81\n",
      "G     0.17\n",
      "Name: loan_grade, dtype: float64\n",
      "----------------------------------------------------------------------\n",
      "\n",
      "\n",
      "Label: 0\n",
      "\n",
      "\n",
      "A    37.63\n",
      "B    34.83\n",
      "C    20.19\n",
      "D     5.75\n",
      "E     1.29\n",
      "F     0.31\n",
      "Name: loan_grade, dtype: float64\n",
      "----------------------------------------------------------------------\n",
      "\n",
      "\n",
      "Label: 1\n",
      "\n",
      "\n",
      "D    30.07\n",
      "B    23.56\n",
      "C    19.11\n",
      "A    15.34\n",
      "E     8.50\n",
      "F     2.62\n",
      "G     0.80\n",
      "Name: loan_grade, dtype: float64\n",
      "----------------------------------------------------------------------\n",
      "----------------------------------------------------------------------\n",
      "----------------------------------------------------------------------\n"
     ]
    }
   ],
   "source": [
    "for c_X_cols in cat_X_cols:\n",
    "\n",
    "    print('\\n')\n",
    "    print(f'General: {c_X_cols}')\n",
    "    print('\\n')\n",
    "\n",
    "    print(round(df_train[c_X_cols].value_counts(normalize = True)*100, 2))\n",
    "\n",
    "    print('-'*70)\n",
    "\n",
    "    print('\\n')\n",
    "    print('Label: 0')\n",
    "    print('\\n')\n",
    "\n",
    "    print(round(df_train[df_train['loan_status'] == 0][c_X_cols].value_counts(normalize = True)*100, 2))\n",
    "\n",
    "    print('-'*70)\n",
    "\n",
    "    print('\\n')\n",
    "    print('Label: 1')\n",
    "    print('\\n')\n",
    "\n",
    "    print(round(df_train[df_train['loan_status'] == 1][c_X_cols].value_counts(normalize = True)*100, 2))\n",
    "\n",
    "    print('-'*70)\n",
    "    print('-'*70)\n",
    "    print('-'*70)"
   ]
  },
  {
   "cell_type": "markdown",
   "metadata": {},
   "source": [
    "### ix. Patterns of interest"
   ]
  },
  {
   "cell_type": "markdown",
   "metadata": {},
   "source": [
    "* Loan Status vs Loan Grade"
   ]
  },
  {
   "cell_type": "markdown",
   "metadata": {},
   "source": [
    "### x. Plotting every independent variable: Numerical"
   ]
  },
  {
   "cell_type": "code",
   "execution_count": 27,
   "metadata": {},
   "outputs": [
    {
     "data": {
      "image/png": "[encoded data removed]",
      "text/plain": [
       "<Figure size 640x480 with 1 Axes>"
      ]
     },
     "metadata": {},
     "output_type": "display_data"
    },
    {
     "name": "stdout",
     "output_type": "stream",
     "text": [
      "----------------------------------------------------------------------\n"
     ]
    },
    {
     "data": {
      "image/png": "[encoded data removed]",
      "text/plain": [
       "<Figure size 640x480 with 1 Axes>"
      ]
     },
     "metadata": {},
     "output_type": "display_data"
    },
    {
     "name": "stdout",
     "output_type": "stream",
     "text": [
      "----------------------------------------------------------------------\n"
     ]
    },
    {
     "data": {
      "image/png": "[encoded data removed]",
      "text/plain": [
       "<Figure size 640x480 with 1 Axes>"
      ]
     },
     "metadata": {},
     "output_type": "display_data"
    },
    {
     "name": "stdout",
     "output_type": "stream",
     "text": [
      "----------------------------------------------------------------------\n"
     ]
    },
    {
     "data": {
      "image/png": "[encoded data removed]",
      "text/plain": [
       "<Figure size 640x480 with 1 Axes>"
      ]
     },
     "metadata": {},
     "output_type": "display_data"
    },
    {
     "name": "stdout",
     "output_type": "stream",
     "text": [
      "----------------------------------------------------------------------\n"
     ]
    },
    {
     "data": {
      "image/png": "[encoded data removed]",
      "text/plain": [
       "<Figure size 640x480 with 1 Axes>"
      ]
     },
     "metadata": {},
     "output_type": "display_data"
    },
    {
     "name": "stdout",
     "output_type": "stream",
     "text": [
      "----------------------------------------------------------------------\n"
     ]
    },
    {
     "data": {
      "image/png": "[encoded data removed]",
      "text/plain": [
       "<Figure size 640x480 with 1 Axes>"
      ]
     },
     "metadata": {},
     "output_type": "display_data"
    },
    {
     "name": "stdout",
     "output_type": "stream",
     "text": [
      "----------------------------------------------------------------------\n"
     ]
    },
    {
     "data": {
      "image/png": "[encoded data removed]",
      "text/plain": [
       "<Figure size 640x480 with 1 Axes>"
      ]
     },
     "metadata": {},
     "output_type": "display_data"
    },
    {
     "name": "stdout",
     "output_type": "stream",
     "text": [
      "----------------------------------------------------------------------\n"
     ]
    }
   ],
   "source": [
    "for n_X_col in num_X_cols:\n",
    "    df_train[n_X_col].hist(density = True, bins = 20)\n",
    "    plt.xlabel(n_X_col, fontsize = 15)\n",
    "    plt.show()\n",
    "    print('-'*70)"
   ]
  },
  {
   "cell_type": "markdown",
   "metadata": {},
   "source": [
    "### xi. Plotting every independent variable: Categorical"
   ]
  },
  {
   "cell_type": "code",
   "execution_count": 28,
   "metadata": {},
   "outputs": [
    {
     "name": "stdout",
     "output_type": "stream",
     "text": [
      "\n",
      "\n",
      "Name column: person_home_ownership\n",
      "\n",
      "\n",
      "RENT        50.62\n",
      "MORTGAGE    41.00\n",
      "OWN          8.04\n",
      "OTHER        0.34\n",
      "Name: person_home_ownership, dtype: float64\n",
      "\n",
      "\n",
      "----------------------------------------------------------------------\n",
      "\n",
      "\n",
      "Name column: loan_intent\n",
      "\n",
      "\n",
      "EDUCATION            19.70\n",
      "MEDICAL              19.04\n",
      "VENTURE              17.36\n",
      "PERSONAL             16.90\n",
      "DEBTCONSOLIDATION    15.98\n",
      "HOMEIMPROVEMENT      11.02\n",
      "Name: loan_intent, dtype: float64\n",
      "\n",
      "\n",
      "----------------------------------------------------------------------\n",
      "\n",
      "\n",
      "Name column: cb_person_default_on_file\n",
      "\n",
      "\n",
      "N    82.29\n",
      "Y    17.71\n",
      "Name: cb_person_default_on_file, dtype: float64\n",
      "\n",
      "\n",
      "----------------------------------------------------------------------\n",
      "\n",
      "\n",
      "Name column: loan_grade\n",
      "\n",
      "\n",
      "A    32.76\n",
      "B    32.37\n",
      "C    19.95\n",
      "D    11.07\n",
      "E     2.86\n",
      "F     0.81\n",
      "G     0.17\n",
      "Name: loan_grade, dtype: float64\n",
      "\n",
      "\n",
      "----------------------------------------------------------------------\n"
     ]
    }
   ],
   "source": [
    "for c_X_cols in cat_X_cols:\n",
    "\n",
    "    print('\\n')\n",
    "    print(f'Name column: {c_X_cols}')\n",
    "    print('\\n')\n",
    "\n",
    "    print(round(df_train[c_X_cols].value_counts(normalize = True)*100, 2))\n",
    "\n",
    "    print('\\n')\n",
    "\n",
    "    print('-'*70)"
   ]
  },
  {
   "cell_type": "markdown",
   "metadata": {},
   "source": [
    "### xii. Relation between numerical independent variables (Spearman)"
   ]
  },
  {
   "cell_type": "code",
   "execution_count": 29,
   "metadata": {},
   "outputs": [],
   "source": [
    "X_train_num = X_train[num_X_cols].copy()\n",
    "X_train_num = X_train_num.rank(method = 'first', ascending = True)"
   ]
  },
  {
   "cell_type": "code",
   "execution_count": 30,
   "metadata": {},
   "outputs": [],
   "source": [
    "m_corr_num = round(abs(X_train_num.corr())*100, 2)"
   ]
  },
  {
   "cell_type": "code",
   "execution_count": 31,
   "metadata": {},
   "outputs": [
    {
     "data": {
      "text/html": [
       "<style type=\"text/css\">\n",
       "#T_68853_row0_col0, #T_68853_row1_col1, #T_68853_row2_col2, #T_68853_row3_col3, #T_68853_row4_col4, #T_68853_row5_col5, #T_68853_row6_col6 {\n",
       "  background-color: #b40426;\n",
       "  color: #f1f1f1;\n",
       "}\n",
       "#T_68853_row0_col1 {\n",
       "  background-color: #5a78e4;\n",
       "  color: #f1f1f1;\n",
       "}\n",
       "#T_68853_row0_col2, #T_68853_row0_col6, #T_68853_row5_col2 {\n",
       "  background-color: #4055c8;\n",
       "  color: #f1f1f1;\n",
       "}\n",
       "#T_68853_row0_col3, #T_68853_row3_col0 {\n",
       "  background-color: #ed8366;\n",
       "  color: #f1f1f1;\n",
       "}\n",
       "#T_68853_row0_col4, #T_68853_row2_col5, #T_68853_row3_col2, #T_68853_row3_col6, #T_68853_row4_col0, #T_68853_row4_col1, #T_68853_row4_col3 {\n",
       "  background-color: #3b4cc0;\n",
       "  color: #f1f1f1;\n",
       "}\n",
       "#T_68853_row0_col5, #T_68853_row5_col3, #T_68853_row6_col0 {\n",
       "  background-color: #4b64d5;\n",
       "  color: #f1f1f1;\n",
       "}\n",
       "#T_68853_row1_col0 {\n",
       "  background-color: #6384eb;\n",
       "  color: #f1f1f1;\n",
       "}\n",
       "#T_68853_row1_col2 {\n",
       "  background-color: #aec9fc;\n",
       "  color: #000000;\n",
       "}\n",
       "#T_68853_row1_col3 {\n",
       "  background-color: #506bda;\n",
       "  color: #f1f1f1;\n",
       "}\n",
       "#T_68853_row1_col4, #T_68853_row6_col3 {\n",
       "  background-color: #4358cb;\n",
       "  color: #f1f1f1;\n",
       "}\n",
       "#T_68853_row1_col5 {\n",
       "  background-color: #6f92f3;\n",
       "  color: #f1f1f1;\n",
       "}\n",
       "#T_68853_row1_col6 {\n",
       "  background-color: #b6cefa;\n",
       "  color: #000000;\n",
       "}\n",
       "#T_68853_row2_col0 {\n",
       "  background-color: #445acc;\n",
       "  color: #f1f1f1;\n",
       "}\n",
       "#T_68853_row2_col1 {\n",
       "  background-color: #aac7fd;\n",
       "  color: #000000;\n",
       "}\n",
       "#T_68853_row2_col3, #T_68853_row3_col4 {\n",
       "  background-color: #3c4ec2;\n",
       "  color: #f1f1f1;\n",
       "}\n",
       "#T_68853_row2_col4 {\n",
       "  background-color: #5b7ae5;\n",
       "  color: #f1f1f1;\n",
       "}\n",
       "#T_68853_row2_col6 {\n",
       "  background-color: #f5c0a7;\n",
       "  color: #000000;\n",
       "}\n",
       "#T_68853_row3_col1, #T_68853_row4_col6 {\n",
       "  background-color: #4961d2;\n",
       "  color: #f1f1f1;\n",
       "}\n",
       "#T_68853_row3_col5 {\n",
       "  background-color: #4257c9;\n",
       "  color: #f1f1f1;\n",
       "}\n",
       "#T_68853_row4_col2 {\n",
       "  background-color: #5875e1;\n",
       "  color: #f1f1f1;\n",
       "}\n",
       "#T_68853_row4_col5 {\n",
       "  background-color: #3f53c6;\n",
       "  color: #f1f1f1;\n",
       "}\n",
       "#T_68853_row5_col0 {\n",
       "  background-color: #5572df;\n",
       "  color: #f1f1f1;\n",
       "}\n",
       "#T_68853_row5_col1 {\n",
       "  background-color: #7093f3;\n",
       "  color: #f1f1f1;\n",
       "}\n",
       "#T_68853_row5_col4 {\n",
       "  background-color: #4a63d3;\n",
       "  color: #f1f1f1;\n",
       "}\n",
       "#T_68853_row5_col6, #T_68853_row6_col5 {\n",
       "  background-color: #4e68d8;\n",
       "  color: #f1f1f1;\n",
       "}\n",
       "#T_68853_row6_col1 {\n",
       "  background-color: #b7cff9;\n",
       "  color: #000000;\n",
       "}\n",
       "#T_68853_row6_col2 {\n",
       "  background-color: #f6bea4;\n",
       "  color: #000000;\n",
       "}\n",
       "#T_68853_row6_col4 {\n",
       "  background-color: #5470de;\n",
       "  color: #f1f1f1;\n",
       "}\n",
       "</style>\n",
       "<table id=\"T_68853\">\n",
       "  <thead>\n",
       "    <tr>\n",
       "      <th class=\"blank level0\" >&nbsp;</th>\n",
       "      <th id=\"T_68853_level0_col0\" class=\"col_heading level0 col0\" >person_age</th>\n",
       "      <th id=\"T_68853_level0_col1\" class=\"col_heading level0 col1\" >person_income</th>\n",
       "      <th id=\"T_68853_level0_col2\" class=\"col_heading level0 col2\" >loan_percent_income</th>\n",
       "      <th id=\"T_68853_level0_col3\" class=\"col_heading level0 col3\" >cb_person_cred_hist_length</th>\n",
       "      <th id=\"T_68853_level0_col4\" class=\"col_heading level0 col4\" >loan_int_rate</th>\n",
       "      <th id=\"T_68853_level0_col5\" class=\"col_heading level0 col5\" >person_emp_length</th>\n",
       "      <th id=\"T_68853_level0_col6\" class=\"col_heading level0 col6\" >loan_amnt</th>\n",
       "    </tr>\n",
       "  </thead>\n",
       "  <tbody>\n",
       "    <tr>\n",
       "      <th id=\"T_68853_level0_row0\" class=\"row_heading level0 row0\" >person_age</th>\n",
       "      <td id=\"T_68853_row0_col0\" class=\"data row0 col0\" >100.000000</td>\n",
       "      <td id=\"T_68853_row0_col1\" class=\"data row0 col1\" >14.080000</td>\n",
       "      <td id=\"T_68853_row0_col2\" class=\"data row0 col2\" >4.600000</td>\n",
       "      <td id=\"T_68853_row0_col3\" class=\"data row0 col3\" >80.530000</td>\n",
       "      <td id=\"T_68853_row0_col4\" class=\"data row0 col4\" >1.280000</td>\n",
       "      <td id=\"T_68853_row0_col5\" class=\"data row0 col5\" >10.070000</td>\n",
       "      <td id=\"T_68853_row0_col6\" class=\"data row0 col6\" >7.020000</td>\n",
       "    </tr>\n",
       "    <tr>\n",
       "      <th id=\"T_68853_level0_row1\" class=\"row_heading level0 row1\" >person_income</th>\n",
       "      <td id=\"T_68853_row1_col0\" class=\"data row1 col0\" >14.080000</td>\n",
       "      <td id=\"T_68853_row1_col1\" class=\"data row1 col1\" >100.000000</td>\n",
       "      <td id=\"T_68853_row1_col2\" class=\"data row1 col2\" >36.330000</td>\n",
       "      <td id=\"T_68853_row1_col3\" class=\"data row1 col3\" >8.990000</td>\n",
       "      <td id=\"T_68853_row1_col4\" class=\"data row1 col4\" >4.290000</td>\n",
       "      <td id=\"T_68853_row1_col5\" class=\"data row1 col5\" >20.480000</td>\n",
       "      <td id=\"T_68853_row1_col6\" class=\"data row1 col6\" >40.040000</td>\n",
       "    </tr>\n",
       "    <tr>\n",
       "      <th id=\"T_68853_level0_row2\" class=\"row_heading level0 row2\" >loan_percent_income</th>\n",
       "      <td id=\"T_68853_row2_col0\" class=\"data row2 col0\" >4.600000</td>\n",
       "      <td id=\"T_68853_row2_col1\" class=\"data row2 col1\" >36.330000</td>\n",
       "      <td id=\"T_68853_row2_col2\" class=\"data row2 col2\" >100.000000</td>\n",
       "      <td id=\"T_68853_row2_col3\" class=\"data row2 col3\" >2.650000</td>\n",
       "      <td id=\"T_68853_row2_col4\" class=\"data row2 col4\" >11.810000</td>\n",
       "      <td id=\"T_68853_row2_col5\" class=\"data row2 col5\" >4.860000</td>\n",
       "      <td id=\"T_68853_row2_col6\" class=\"data row2 col6\" >65.500000</td>\n",
       "    </tr>\n",
       "    <tr>\n",
       "      <th id=\"T_68853_level0_row3\" class=\"row_heading level0 row3\" >cb_person_cred_hist_length</th>\n",
       "      <td id=\"T_68853_row3_col0\" class=\"data row3 col0\" >80.530000</td>\n",
       "      <td id=\"T_68853_row3_col1\" class=\"data row3 col1\" >8.990000</td>\n",
       "      <td id=\"T_68853_row3_col2\" class=\"data row3 col2\" >2.650000</td>\n",
       "      <td id=\"T_68853_row3_col3\" class=\"data row3 col3\" >100.000000</td>\n",
       "      <td id=\"T_68853_row3_col4\" class=\"data row3 col4\" >1.900000</td>\n",
       "      <td id=\"T_68853_row3_col5\" class=\"data row3 col5\" >7.360000</td>\n",
       "      <td id=\"T_68853_row3_col6\" class=\"data row3 col6\" >4.880000</td>\n",
       "    </tr>\n",
       "    <tr>\n",
       "      <th id=\"T_68853_level0_row4\" class=\"row_heading level0 row4\" >loan_int_rate</th>\n",
       "      <td id=\"T_68853_row4_col0\" class=\"data row4 col0\" >1.280000</td>\n",
       "      <td id=\"T_68853_row4_col1\" class=\"data row4 col1\" >4.290000</td>\n",
       "      <td id=\"T_68853_row4_col2\" class=\"data row4 col2\" >11.810000</td>\n",
       "      <td id=\"T_68853_row4_col3\" class=\"data row4 col3\" >1.900000</td>\n",
       "      <td id=\"T_68853_row4_col4\" class=\"data row4 col4\" >100.000000</td>\n",
       "      <td id=\"T_68853_row4_col5\" class=\"data row4 col5\" >6.450000</td>\n",
       "      <td id=\"T_68853_row4_col6\" class=\"data row4 col6\" >9.620000</td>\n",
       "    </tr>\n",
       "    <tr>\n",
       "      <th id=\"T_68853_level0_row5\" class=\"row_heading level0 row5\" >person_emp_length</th>\n",
       "      <td id=\"T_68853_row5_col0\" class=\"data row5 col0\" >10.070000</td>\n",
       "      <td id=\"T_68853_row5_col1\" class=\"data row5 col1\" >20.480000</td>\n",
       "      <td id=\"T_68853_row5_col2\" class=\"data row5 col2\" >4.860000</td>\n",
       "      <td id=\"T_68853_row5_col3\" class=\"data row5 col3\" >7.360000</td>\n",
       "      <td id=\"T_68853_row5_col4\" class=\"data row5 col4\" >6.450000</td>\n",
       "      <td id=\"T_68853_row5_col5\" class=\"data row5 col5\" >100.000000</td>\n",
       "      <td id=\"T_68853_row5_col6\" class=\"data row5 col6\" >11.120000</td>\n",
       "    </tr>\n",
       "    <tr>\n",
       "      <th id=\"T_68853_level0_row6\" class=\"row_heading level0 row6\" >loan_amnt</th>\n",
       "      <td id=\"T_68853_row6_col0\" class=\"data row6 col0\" >7.020000</td>\n",
       "      <td id=\"T_68853_row6_col1\" class=\"data row6 col1\" >40.040000</td>\n",
       "      <td id=\"T_68853_row6_col2\" class=\"data row6 col2\" >65.500000</td>\n",
       "      <td id=\"T_68853_row6_col3\" class=\"data row6 col3\" >4.880000</td>\n",
       "      <td id=\"T_68853_row6_col4\" class=\"data row6 col4\" >9.620000</td>\n",
       "      <td id=\"T_68853_row6_col5\" class=\"data row6 col5\" >11.120000</td>\n",
       "      <td id=\"T_68853_row6_col6\" class=\"data row6 col6\" >100.000000</td>\n",
       "    </tr>\n",
       "  </tbody>\n",
       "</table>\n"
      ],
      "text/plain": [
       "<pandas.io.formats.style.Styler at 0x7fba79ffcd90>"
      ]
     },
     "execution_count": 31,
     "metadata": {},
     "output_type": "execute_result"
    }
   ],
   "source": [
    "m_corr_num.style.background_gradient(cmap='coolwarm')"
   ]
  },
  {
   "cell_type": "code",
   "execution_count": 32,
   "metadata": {},
   "outputs": [],
   "source": [
    "var_corr_num = []\n",
    "\n",
    "for c in num_X_cols:\n",
    "    corr_c = list(m_corr_num[m_corr_num[c] > 70][c].index)\n",
    "    for c_j in corr_c:\n",
    "        if c_j != c:\n",
    "            if (([c, c_j] in var_corr_num) == False) and (([c_j, c] in var_corr_num) == False):\n",
    "                var_corr_num.append([c, c_j])"
   ]
  },
  {
   "cell_type": "code",
   "execution_count": 33,
   "metadata": {},
   "outputs": [
    {
     "data": {
      "text/plain": [
       "[['person_age', 'cb_person_cred_hist_length']]"
      ]
     },
     "execution_count": 33,
     "metadata": {},
     "output_type": "execute_result"
    }
   ],
   "source": [
    "var_corr_num"
   ]
  },
  {
   "cell_type": "code",
   "execution_count": 34,
   "metadata": {},
   "outputs": [
    {
     "data": {
      "text/plain": [
       "{'person_age': {'F': 5.89152274498991, 'p_value': 1.522291301410672},\n",
       " 'person_income': {'F': 555.5803720664836, 'p_value': 1.1102230246251565e-14},\n",
       " 'loan_percent_income': {'F': 3207.083218966495,\n",
       "  'p_value': 1.1102230246251565e-14},\n",
       " 'cb_person_cred_hist_length': {'F': 1.6773584410227746,\n",
       "  'p_value': 19.52911204904244},\n",
       " 'loan_int_rate': {'F': 2177.437627268028, 'p_value': 1.1102230246251565e-14},\n",
       " 'person_emp_length': {'F': 143.2165788854713,\n",
       "  'p_value': 1.1102230246251565e-14},\n",
       " 'loan_amnt': {'F': 198.99123983943625, 'p_value': 1.1102230246251565e-14}}"
      ]
     },
     "execution_count": 34,
     "metadata": {},
     "output_type": "execute_result"
    }
   ],
   "source": [
    "dict_anova"
   ]
  },
  {
   "cell_type": "markdown",
   "metadata": {},
   "source": [
    "**Comments:** We select \"person_age\" variable."
   ]
  },
  {
   "cell_type": "markdown",
   "metadata": {},
   "source": [
    "### xiii. Relation between categorical independent variables (Chi-Square)"
   ]
  },
  {
   "cell_type": "code",
   "execution_count": 35,
   "metadata": {},
   "outputs": [
    {
     "name": "stdout",
     "output_type": "stream",
     "text": [
      "Variable 1: person_home_ownership\n",
      "Variable 2: person_home_ownership\n",
      "p_value: 0.0\n",
      "----------------------------------------------------------------------\n",
      "Variable 1: person_home_ownership\n",
      "Variable 2: loan_intent\n",
      "p_value: 0.0\n",
      "----------------------------------------------------------------------\n",
      "Variable 1: person_home_ownership\n",
      "Variable 2: cb_person_default_on_file\n",
      "p_value: 0.0\n",
      "----------------------------------------------------------------------\n",
      "Variable 1: person_home_ownership\n",
      "Variable 2: loan_grade\n",
      "p_value: 0.0\n",
      "----------------------------------------------------------------------\n",
      "Variable 1: loan_intent\n",
      "Variable 2: person_home_ownership\n",
      "p_value: 0.0\n",
      "----------------------------------------------------------------------\n",
      "Variable 1: loan_intent\n",
      "Variable 2: loan_intent\n",
      "p_value: 0.0\n",
      "----------------------------------------------------------------------\n",
      "Variable 1: loan_intent\n",
      "Variable 2: cb_person_default_on_file\n",
      "p_value: 27.45\n",
      "----------------------------------------------------------------------\n",
      "Variable 1: loan_intent\n",
      "Variable 2: loan_grade\n",
      "p_value: 0.69\n",
      "----------------------------------------------------------------------\n",
      "Variable 1: cb_person_default_on_file\n",
      "Variable 2: person_home_ownership\n",
      "p_value: 0.0\n",
      "----------------------------------------------------------------------\n",
      "Variable 1: cb_person_default_on_file\n",
      "Variable 2: loan_intent\n",
      "p_value: 27.45\n",
      "----------------------------------------------------------------------\n",
      "Variable 1: cb_person_default_on_file\n",
      "Variable 2: cb_person_default_on_file\n",
      "p_value: 0.0\n",
      "----------------------------------------------------------------------\n",
      "Variable 1: cb_person_default_on_file\n",
      "Variable 2: loan_grade\n",
      "p_value: 0.0\n",
      "----------------------------------------------------------------------\n",
      "Variable 1: loan_grade\n",
      "Variable 2: person_home_ownership\n",
      "p_value: 0.0\n",
      "----------------------------------------------------------------------\n",
      "Variable 1: loan_grade\n",
      "Variable 2: loan_intent\n",
      "p_value: 0.69\n",
      "----------------------------------------------------------------------\n",
      "Variable 1: loan_grade\n",
      "Variable 2: cb_person_default_on_file\n",
      "p_value: 0.0\n",
      "----------------------------------------------------------------------\n",
      "Variable 1: loan_grade\n",
      "Variable 2: loan_grade\n",
      "p_value: 0.0\n",
      "----------------------------------------------------------------------\n"
     ]
    }
   ],
   "source": [
    "for c_X_col_1 in cat_X_cols:\n",
    "    for c_X_col_2 in cat_X_cols:\n",
    "        print('Variable 1:', c_X_col_1)\n",
    "        print('Variable 2:', c_X_col_2)\n",
    "        T_part, p_value_part = chi_test(c_X_col_1, c_X_col_2)\n",
    "        print('p_value:', round(p_value_part*100, 2))\n",
    "        print('-'*70)"
   ]
  },
  {
   "cell_type": "markdown",
   "metadata": {},
   "source": [
    "### xiv. Encoding"
   ]
  },
  {
   "cell_type": "code",
   "execution_count": 36,
   "metadata": {},
   "outputs": [],
   "source": [
    "from sklearn.pipeline import Pipeline\n",
    "from sklearn.impute import SimpleImputer\n",
    "from sklearn.compose import ColumnTransformer\n",
    "from category_encoders import JamesSteinEncoder\n",
    "from sklearn.preprocessing import OneHotEncoder\n",
    "from sklearn.preprocessing import StandardScaler\n",
    "from sklearn.preprocessing import OrdinalEncoder"
   ]
  },
  {
   "cell_type": "code",
   "execution_count": 37,
   "metadata": {},
   "outputs": [],
   "source": [
    "cat_str_steps = [\n",
    "    ('imputer', SimpleImputer(strategy = 'constant', fill_value = 'UNKNOWN')),\n",
    "    ('encoding', JamesSteinEncoder())\n",
    "]\n",
    "\n",
    "cat_str_transformer = Pipeline(steps = cat_str_steps)"
   ]
  },
  {
   "cell_type": "code",
   "execution_count": 38,
   "metadata": {},
   "outputs": [],
   "source": [
    "cat_str_transformer = cat_str_transformer.fit(X_train[cat_str], y_train)"
   ]
  },
  {
   "cell_type": "code",
   "execution_count": 39,
   "metadata": {},
   "outputs": [],
   "source": [
    "cat_oh_steps = [\n",
    "    ('imputer', SimpleImputer(strategy = 'constant', fill_value = 'UNKNOWN')),\n",
    "    ('encoding', OneHotEncoder(handle_unknown = 'ignore'))\n",
    "]\n",
    "\n",
    "cat_oh_transformer = Pipeline(steps = cat_oh_steps)"
   ]
  },
  {
   "cell_type": "code",
   "execution_count": 40,
   "metadata": {},
   "outputs": [],
   "source": [
    "cat_oh_transformer = cat_oh_transformer.fit(X_train[cat_oh])"
   ]
  },
  {
   "cell_type": "code",
   "execution_count": 41,
   "metadata": {},
   "outputs": [],
   "source": [
    "cat_oh_cols = list(cat_oh_steps[1][1].get_feature_names_out())"
   ]
  },
  {
   "cell_type": "code",
   "execution_count": 42,
   "metadata": {},
   "outputs": [],
   "source": [
    "new_cat_oh_cols = []\n",
    "\n",
    "for c_oh in cat_oh_cols:\n",
    "\n",
    "    for i in range(len(cat_oh)):\n",
    "\n",
    "        if c_oh[1] == str(i):\n",
    "\n",
    "            new_c_oh = cat_oh[i] + c_oh[2:]\n",
    "            new_cat_oh_cols.append(new_c_oh)"
   ]
  },
  {
   "cell_type": "code",
   "execution_count": 43,
   "metadata": {},
   "outputs": [],
   "source": [
    "new_cols = cat_str + new_cat_oh_cols"
   ]
  },
  {
   "cell_type": "code",
   "execution_count": 44,
   "metadata": {},
   "outputs": [],
   "source": [
    "X_train_new = pd.concat(\n",
    "    [\n",
    "     cat_str_transformer.transform(X_train[cat_str]),\n",
    "     pd.DataFrame.sparse.from_spmatrix(cat_oh_transformer.transform(X_train[cat_oh]))\n",
    "    ],\n",
    "    axis = 1\n",
    "    )"
   ]
  },
  {
   "cell_type": "code",
   "execution_count": 45,
   "metadata": {},
   "outputs": [],
   "source": [
    "X_train_new.columns = new_cols"
   ]
  },
  {
   "cell_type": "code",
   "execution_count": 46,
   "metadata": {},
   "outputs": [],
   "source": [
    "X_train = X_train.reset_index()\n",
    "X_train = X_train.drop(columns = ['index'])\n",
    "\n",
    "y_train = y_train.reset_index()\n",
    "y_train = y_train.drop(columns = ['index'])\n",
    "y_train = y_train['loan_status']"
   ]
  },
  {
   "cell_type": "code",
   "execution_count": 47,
   "metadata": {},
   "outputs": [],
   "source": [
    "num_X_cols.remove('cb_person_cred_hist_length')"
   ]
  },
  {
   "cell_type": "code",
   "execution_count": 48,
   "metadata": {},
   "outputs": [],
   "source": [
    "X_train = pd.concat([X_train[num_X_cols], X_train_new], axis = 1)"
   ]
  },
  {
   "cell_type": "code",
   "execution_count": 49,
   "metadata": {},
   "outputs": [
    {
     "data": {
      "text/html": [
       "<div>\n",
       "<style scoped>\n",
       "    .dataframe tbody tr th:only-of-type {\n",
       "        vertical-align: middle;\n",
       "    }\n",
       "\n",
       "    .dataframe tbody tr th {\n",
       "        vertical-align: top;\n",
       "    }\n",
       "\n",
       "    .dataframe thead th {\n",
       "        text-align: right;\n",
       "    }\n",
       "</style>\n",
       "<table border=\"1\" class=\"dataframe\">\n",
       "  <thead>\n",
       "    <tr style=\"text-align: right;\">\n",
       "      <th></th>\n",
       "      <th>person_age</th>\n",
       "      <th>person_income</th>\n",
       "      <th>loan_percent_income</th>\n",
       "      <th>loan_int_rate</th>\n",
       "      <th>person_emp_length</th>\n",
       "      <th>loan_amnt</th>\n",
       "      <th>person_home_ownership</th>\n",
       "      <th>loan_intent</th>\n",
       "      <th>cb_person_default_on_file_N</th>\n",
       "      <th>cb_person_default_on_file_Y</th>\n",
       "      <th>loan_grade_A</th>\n",
       "      <th>loan_grade_B</th>\n",
       "      <th>loan_grade_C</th>\n",
       "      <th>loan_grade_D</th>\n",
       "      <th>loan_grade_E</th>\n",
       "      <th>loan_grade_F</th>\n",
       "      <th>loan_grade_G</th>\n",
       "    </tr>\n",
       "  </thead>\n",
       "  <tbody>\n",
       "    <tr>\n",
       "      <th>0</th>\n",
       "      <td>31</td>\n",
       "      <td>26010</td>\n",
       "      <td>0.25</td>\n",
       "      <td>9.99</td>\n",
       "      <td>2.0</td>\n",
       "      <td>0.0</td>\n",
       "      <td>0.138554</td>\n",
       "      <td>0.204087</td>\n",
       "      <td>1.0</td>\n",
       "      <td>0.0</td>\n",
       "      <td>0.0</td>\n",
       "      <td>1.0</td>\n",
       "      <td>0.0</td>\n",
       "      <td>0.0</td>\n",
       "      <td>0.0</td>\n",
       "      <td>0.0</td>\n",
       "      <td>0.0</td>\n",
       "    </tr>\n",
       "    <tr>\n",
       "      <th>1</th>\n",
       "      <td>26</td>\n",
       "      <td>114000</td>\n",
       "      <td>0.05</td>\n",
       "      <td>10.00</td>\n",
       "      <td>4.0</td>\n",
       "      <td>6000.0</td>\n",
       "      <td>0.138554</td>\n",
       "      <td>0.254383</td>\n",
       "      <td>1.0</td>\n",
       "      <td>0.0</td>\n",
       "      <td>0.0</td>\n",
       "      <td>1.0</td>\n",
       "      <td>0.0</td>\n",
       "      <td>0.0</td>\n",
       "      <td>0.0</td>\n",
       "      <td>0.0</td>\n",
       "      <td>0.0</td>\n",
       "    </tr>\n",
       "    <tr>\n",
       "      <th>2</th>\n",
       "      <td>30</td>\n",
       "      <td>52500</td>\n",
       "      <td>0.38</td>\n",
       "      <td>10.37</td>\n",
       "      <td>2.0</td>\n",
       "      <td>20000.0</td>\n",
       "      <td>0.297036</td>\n",
       "      <td>0.254383</td>\n",
       "      <td>1.0</td>\n",
       "      <td>0.0</td>\n",
       "      <td>0.0</td>\n",
       "      <td>1.0</td>\n",
       "      <td>0.0</td>\n",
       "      <td>0.0</td>\n",
       "      <td>0.0</td>\n",
       "      <td>0.0</td>\n",
       "      <td>0.0</td>\n",
       "    </tr>\n",
       "    <tr>\n",
       "      <th>3</th>\n",
       "      <td>21</td>\n",
       "      <td>47000</td>\n",
       "      <td>0.11</td>\n",
       "      <td>8.90</td>\n",
       "      <td>2.0</td>\n",
       "      <td>5400.0</td>\n",
       "      <td>0.138554</td>\n",
       "      <td>0.251120</td>\n",
       "      <td>1.0</td>\n",
       "      <td>0.0</td>\n",
       "      <td>1.0</td>\n",
       "      <td>0.0</td>\n",
       "      <td>0.0</td>\n",
       "      <td>0.0</td>\n",
       "      <td>0.0</td>\n",
       "      <td>0.0</td>\n",
       "      <td>0.0</td>\n",
       "    </tr>\n",
       "    <tr>\n",
       "      <th>4</th>\n",
       "      <td>23</td>\n",
       "      <td>33000</td>\n",
       "      <td>0.33</td>\n",
       "      <td>7.66</td>\n",
       "      <td>0.0</td>\n",
       "      <td>11000.0</td>\n",
       "      <td>0.297036</td>\n",
       "      <td>0.260114</td>\n",
       "      <td>1.0</td>\n",
       "      <td>0.0</td>\n",
       "      <td>1.0</td>\n",
       "      <td>0.0</td>\n",
       "      <td>0.0</td>\n",
       "      <td>0.0</td>\n",
       "      <td>0.0</td>\n",
       "      <td>0.0</td>\n",
       "      <td>0.0</td>\n",
       "    </tr>\n",
       "    <tr>\n",
       "      <th>...</th>\n",
       "      <td>...</td>\n",
       "      <td>...</td>\n",
       "      <td>...</td>\n",
       "      <td>...</td>\n",
       "      <td>...</td>\n",
       "      <td>...</td>\n",
       "      <td>...</td>\n",
       "      <td>...</td>\n",
       "      <td>...</td>\n",
       "      <td>...</td>\n",
       "      <td>...</td>\n",
       "      <td>...</td>\n",
       "      <td>...</td>\n",
       "      <td>...</td>\n",
       "      <td>...</td>\n",
       "      <td>...</td>\n",
       "      <td>...</td>\n",
       "    </tr>\n",
       "    <tr>\n",
       "      <th>19543</th>\n",
       "      <td>27</td>\n",
       "      <td>25200</td>\n",
       "      <td>0.10</td>\n",
       "      <td>14.27</td>\n",
       "      <td>0.0</td>\n",
       "      <td>2550.0</td>\n",
       "      <td>0.297036</td>\n",
       "      <td>0.251120</td>\n",
       "      <td>1.0</td>\n",
       "      <td>0.0</td>\n",
       "      <td>0.0</td>\n",
       "      <td>0.0</td>\n",
       "      <td>1.0</td>\n",
       "      <td>0.0</td>\n",
       "      <td>0.0</td>\n",
       "      <td>0.0</td>\n",
       "      <td>0.0</td>\n",
       "    </tr>\n",
       "    <tr>\n",
       "      <th>19544</th>\n",
       "      <td>25</td>\n",
       "      <td>49000</td>\n",
       "      <td>0.14</td>\n",
       "      <td>6.99</td>\n",
       "      <td>9.0</td>\n",
       "      <td>7000.0</td>\n",
       "      <td>0.138554</td>\n",
       "      <td>0.204087</td>\n",
       "      <td>1.0</td>\n",
       "      <td>0.0</td>\n",
       "      <td>1.0</td>\n",
       "      <td>0.0</td>\n",
       "      <td>0.0</td>\n",
       "      <td>0.0</td>\n",
       "      <td>0.0</td>\n",
       "      <td>0.0</td>\n",
       "      <td>0.0</td>\n",
       "    </tr>\n",
       "    <tr>\n",
       "      <th>19545</th>\n",
       "      <td>36</td>\n",
       "      <td>69000</td>\n",
       "      <td>0.36</td>\n",
       "      <td>14.59</td>\n",
       "      <td>0.0</td>\n",
       "      <td>25000.0</td>\n",
       "      <td>0.297036</td>\n",
       "      <td>0.254383</td>\n",
       "      <td>1.0</td>\n",
       "      <td>0.0</td>\n",
       "      <td>0.0</td>\n",
       "      <td>0.0</td>\n",
       "      <td>0.0</td>\n",
       "      <td>1.0</td>\n",
       "      <td>0.0</td>\n",
       "      <td>0.0</td>\n",
       "      <td>0.0</td>\n",
       "    </tr>\n",
       "    <tr>\n",
       "      <th>19546</th>\n",
       "      <td>25</td>\n",
       "      <td>46000</td>\n",
       "      <td>0.43</td>\n",
       "      <td>16.70</td>\n",
       "      <td>0.0</td>\n",
       "      <td>19750.0</td>\n",
       "      <td>0.088234</td>\n",
       "      <td>0.260114</td>\n",
       "      <td>0.0</td>\n",
       "      <td>1.0</td>\n",
       "      <td>0.0</td>\n",
       "      <td>0.0</td>\n",
       "      <td>0.0</td>\n",
       "      <td>0.0</td>\n",
       "      <td>1.0</td>\n",
       "      <td>0.0</td>\n",
       "      <td>0.0</td>\n",
       "    </tr>\n",
       "    <tr>\n",
       "      <th>19547</th>\n",
       "      <td>22</td>\n",
       "      <td>50004</td>\n",
       "      <td>0.08</td>\n",
       "      <td>6.92</td>\n",
       "      <td>2.0</td>\n",
       "      <td>4000.0</td>\n",
       "      <td>0.297036</td>\n",
       "      <td>0.186566</td>\n",
       "      <td>1.0</td>\n",
       "      <td>0.0</td>\n",
       "      <td>1.0</td>\n",
       "      <td>0.0</td>\n",
       "      <td>0.0</td>\n",
       "      <td>0.0</td>\n",
       "      <td>0.0</td>\n",
       "      <td>0.0</td>\n",
       "      <td>0.0</td>\n",
       "    </tr>\n",
       "  </tbody>\n",
       "</table>\n",
       "<p>19548 rows × 17 columns</p>\n",
       "</div>"
      ],
      "text/plain": [
       "       person_age  person_income  loan_percent_income  loan_int_rate  \\\n",
       "0              31          26010                 0.25           9.99   \n",
       "1              26         114000                 0.05          10.00   \n",
       "2              30          52500                 0.38          10.37   \n",
       "3              21          47000                 0.11           8.90   \n",
       "4              23          33000                 0.33           7.66   \n",
       "...           ...            ...                  ...            ...   \n",
       "19543          27          25200                 0.10          14.27   \n",
       "19544          25          49000                 0.14           6.99   \n",
       "19545          36          69000                 0.36          14.59   \n",
       "19546          25          46000                 0.43          16.70   \n",
       "19547          22          50004                 0.08           6.92   \n",
       "\n",
       "       person_emp_length  loan_amnt  person_home_ownership  loan_intent  \\\n",
       "0                    2.0        0.0               0.138554     0.204087   \n",
       "1                    4.0     6000.0               0.138554     0.254383   \n",
       "2                    2.0    20000.0               0.297036     0.254383   \n",
       "3                    2.0     5400.0               0.138554     0.251120   \n",
       "4                    0.0    11000.0               0.297036     0.260114   \n",
       "...                  ...        ...                    ...          ...   \n",
       "19543                0.0     2550.0               0.297036     0.251120   \n",
       "19544                9.0     7000.0               0.138554     0.204087   \n",
       "19545                0.0    25000.0               0.297036     0.254383   \n",
       "19546                0.0    19750.0               0.088234     0.260114   \n",
       "19547                2.0     4000.0               0.297036     0.186566   \n",
       "\n",
       "       cb_person_default_on_file_N  cb_person_default_on_file_Y  loan_grade_A  \\\n",
       "0                              1.0                          0.0           0.0   \n",
       "1                              1.0                          0.0           0.0   \n",
       "2                              1.0                          0.0           0.0   \n",
       "3                              1.0                          0.0           1.0   \n",
       "4                              1.0                          0.0           1.0   \n",
       "...                            ...                          ...           ...   \n",
       "19543                          1.0                          0.0           0.0   \n",
       "19544                          1.0                          0.0           1.0   \n",
       "19545                          1.0                          0.0           0.0   \n",
       "19546                          0.0                          1.0           0.0   \n",
       "19547                          1.0                          0.0           1.0   \n",
       "\n",
       "       loan_grade_B  loan_grade_C  loan_grade_D  loan_grade_E  loan_grade_F  \\\n",
       "0               1.0           0.0           0.0           0.0           0.0   \n",
       "1               1.0           0.0           0.0           0.0           0.0   \n",
       "2               1.0           0.0           0.0           0.0           0.0   \n",
       "3               0.0           0.0           0.0           0.0           0.0   \n",
       "4               0.0           0.0           0.0           0.0           0.0   \n",
       "...             ...           ...           ...           ...           ...   \n",
       "19543           0.0           1.0           0.0           0.0           0.0   \n",
       "19544           0.0           0.0           0.0           0.0           0.0   \n",
       "19545           0.0           0.0           1.0           0.0           0.0   \n",
       "19546           0.0           0.0           0.0           1.0           0.0   \n",
       "19547           0.0           0.0           0.0           0.0           0.0   \n",
       "\n",
       "       loan_grade_G  \n",
       "0               0.0  \n",
       "1               0.0  \n",
       "2               0.0  \n",
       "3               0.0  \n",
       "4               0.0  \n",
       "...             ...  \n",
       "19543           0.0  \n",
       "19544           0.0  \n",
       "19545           0.0  \n",
       "19546           0.0  \n",
       "19547           0.0  \n",
       "\n",
       "[19548 rows x 17 columns]"
      ]
     },
     "execution_count": 49,
     "metadata": {},
     "output_type": "execute_result"
    }
   ],
   "source": [
    "X_train"
   ]
  },
  {
   "cell_type": "markdown",
   "metadata": {},
   "source": [
    "### xv. NEW Relation dependent variable with independent: Numerical (ANOVA)"
   ]
  },
  {
   "cell_type": "code",
   "execution_count": 50,
   "metadata": {},
   "outputs": [],
   "source": [
    "num_X_cols = list(X_train.columns)"
   ]
  },
  {
   "cell_type": "code",
   "execution_count": 51,
   "metadata": {},
   "outputs": [],
   "source": [
    "def anova_test(name_num_col):\n",
    "\n",
    "    f_0 = (y_train == 0)\n",
    "    f_1 = (y_train == 1)\n",
    "\n",
    "    S_0 = X_train[f_0][name_num_col].std()\n",
    "    S_1 = X_train[f_1][name_num_col].std()\n",
    "\n",
    "    n_0 = f_0.sum()\n",
    "    n_1 = f_1.sum()\n",
    "\n",
    "    n_T = len(y_train)\n",
    "\n",
    "    bar_x = X_train[name_num_col].mean()\n",
    "\n",
    "    bar_x_0 = X_train[f_0][name_num_col].mean()\n",
    "    bar_x_1 = X_train[f_1][name_num_col].mean()\n",
    "\n",
    "    SS_W = (n_0 - 1)*(S_0**2) + (n_1 - 1)*(S_1**2)\n",
    "    SS_B = n_0*((bar_x - bar_x_0)**2) + n_1*((bar_x - bar_x_1)**2)\n",
    "\n",
    "    MS_W = SS_W/(n_T - 2)\n",
    "    MS_B = SS_B/(2 - 1)\n",
    "\n",
    "    F_stat = MS_B/MS_W\n",
    "\n",
    "    cdf = scipy.stats.f.cdf(F_stat, 2 - 1, n_T - 2)\n",
    "    p_value = 1 - cdf\n",
    "\n",
    "    return F_stat, p_value"
   ]
  },
  {
   "cell_type": "code",
   "execution_count": 52,
   "metadata": {},
   "outputs": [],
   "source": [
    "dict_anova = {}\n",
    "\n",
    "for name_num_col in num_X_cols:\n",
    "\n",
    "    try:\n",
    "    \n",
    "        F_col, p_col = anova_test(name_num_col)\n",
    "\n",
    "        dict_anova[name_num_col] = {}\n",
    "        dict_anova[name_num_col]['F'] = F_col\n",
    "        dict_anova[name_num_col]['p_value'] = p_col*100\n",
    "    \n",
    "    except:\n",
    "\n",
    "        dict_anova[name_num_col] = {}\n",
    "        dict_anova[name_num_col]['F'] = 'NaN'\n",
    "        dict_anova[name_num_col]['p_value'] = 'NaN'\n"
   ]
  },
  {
   "cell_type": "code",
   "execution_count": 53,
   "metadata": {},
   "outputs": [
    {
     "data": {
      "text/plain": [
       "{'person_age': {'F': 5.89152274498991, 'p_value': 1.522291301410672},\n",
       " 'person_income': {'F': 555.5803720664836, 'p_value': 1.1102230246251565e-14},\n",
       " 'loan_percent_income': {'F': 3207.083218966495,\n",
       "  'p_value': 1.1102230246251565e-14},\n",
       " 'loan_int_rate': {'F': 2177.437627268028, 'p_value': 1.1102230246251565e-14},\n",
       " 'person_emp_length': {'F': 143.2165788854713,\n",
       "  'p_value': 1.1102230246251565e-14},\n",
       " 'loan_amnt': {'F': 198.99123983943625, 'p_value': 1.1102230246251565e-14},\n",
       " 'person_home_ownership': {'F': 1202.461985354576,\n",
       "  'p_value': 1.1102230246251565e-14},\n",
       " 'loan_intent': {'F': 320.03221634658513, 'p_value': 1.1102230246251565e-14},\n",
       " 'cb_person_default_on_file_N': {'F': 'NaN', 'p_value': 'NaN'},\n",
       " 'cb_person_default_on_file_Y': {'F': 'NaN', 'p_value': 'NaN'},\n",
       " 'loan_grade_A': {'F': 'NaN', 'p_value': 'NaN'},\n",
       " 'loan_grade_B': {'F': 'NaN', 'p_value': 'NaN'},\n",
       " 'loan_grade_C': {'F': 'NaN', 'p_value': 'NaN'},\n",
       " 'loan_grade_D': {'F': 'NaN', 'p_value': 'NaN'},\n",
       " 'loan_grade_E': {'F': 'NaN', 'p_value': 'NaN'},\n",
       " 'loan_grade_F': {'F': 'NaN', 'p_value': 'NaN'},\n",
       " 'loan_grade_G': {'F': 'NaN', 'p_value': 'NaN'}}"
      ]
     },
     "execution_count": 53,
     "metadata": {},
     "output_type": "execute_result"
    }
   ],
   "source": [
    "dict_anova"
   ]
  },
  {
   "cell_type": "markdown",
   "metadata": {},
   "source": [
    "### xvi. NEW Relation between numerical independent variables (Spearman)"
   ]
  },
  {
   "cell_type": "code",
   "execution_count": 54,
   "metadata": {},
   "outputs": [],
   "source": [
    "X_train_num = X_train[num_X_cols].copy()\n",
    "X_train_num = X_train_num.rank(method = 'first', ascending = True)"
   ]
  },
  {
   "cell_type": "code",
   "execution_count": 55,
   "metadata": {},
   "outputs": [],
   "source": [
    "m_corr_num = round(abs(X_train_num.corr())*100, 2)"
   ]
  },
  {
   "cell_type": "code",
   "execution_count": 56,
   "metadata": {},
   "outputs": [
    {
     "data": {
      "text/html": [
       "<style type=\"text/css\">\n",
       "#T_2297e_row0_col0, #T_2297e_row1_col1, #T_2297e_row2_col2, #T_2297e_row3_col3, #T_2297e_row4_col4, #T_2297e_row5_col5, #T_2297e_row6_col6, #T_2297e_row7_col7, #T_2297e_row8_col8, #T_2297e_row9_col9, #T_2297e_row10_col10, #T_2297e_row11_col11, #T_2297e_row12_col12, #T_2297e_row13_col13, #T_2297e_row14_col14, #T_2297e_row15_col15, #T_2297e_row16_col16 {\n",
       "  background-color: #b40426;\n",
       "  color: #f1f1f1;\n",
       "}\n",
       "#T_2297e_row0_col1, #T_2297e_row10_col6 {\n",
       "  background-color: #6485ec;\n",
       "  color: #f1f1f1;\n",
       "}\n",
       "#T_2297e_row0_col2, #T_2297e_row0_col13, #T_2297e_row2_col14, #T_2297e_row4_col2, #T_2297e_row5_col11, #T_2297e_row5_col14, #T_2297e_row9_col2, #T_2297e_row11_col2, #T_2297e_row15_col2 {\n",
       "  background-color: #485fd1;\n",
       "  color: #f1f1f1;\n",
       "}\n",
       "#T_2297e_row0_col3, #T_2297e_row1_col11, #T_2297e_row3_col7, #T_2297e_row7_col2, #T_2297e_row7_col3, #T_2297e_row9_col1, #T_2297e_row9_col4, #T_2297e_row10_col11, #T_2297e_row11_col1 {\n",
       "  background-color: #3c4ec2;\n",
       "  color: #f1f1f1;\n",
       "}\n",
       "#T_2297e_row0_col4, #T_2297e_row3_col14, #T_2297e_row4_col8, #T_2297e_row4_col16, #T_2297e_row14_col3 {\n",
       "  background-color: #516ddb;\n",
       "  color: #f1f1f1;\n",
       "}\n",
       "#T_2297e_row0_col5, #T_2297e_row0_col14, #T_2297e_row14_col0 {\n",
       "  background-color: #4e68d8;\n",
       "  color: #f1f1f1;\n",
       "}\n",
       "#T_2297e_row0_col6, #T_2297e_row1_col7, #T_2297e_row1_col9, #T_2297e_row1_col13, #T_2297e_row1_col14, #T_2297e_row1_col15, #T_2297e_row1_col16, #T_2297e_row2_col7, #T_2297e_row2_col8, #T_2297e_row3_col0, #T_2297e_row3_col11, #T_2297e_row5_col12, #T_2297e_row6_col0, #T_2297e_row7_col1, #T_2297e_row7_col4, #T_2297e_row8_col2, #T_2297e_row11_col3, #T_2297e_row11_col10, #T_2297e_row12_col4, #T_2297e_row12_col5, #T_2297e_row14_col1, #T_2297e_row15_col1, #T_2297e_row16_col1 {\n",
       "  background-color: #3b4cc0;\n",
       "  color: #f1f1f1;\n",
       "}\n",
       "#T_2297e_row0_col7, #T_2297e_row2_col6, #T_2297e_row3_col5, #T_2297e_row4_col0, #T_2297e_row7_col11, #T_2297e_row11_col7 {\n",
       "  background-color: #5673e0;\n",
       "  color: #f1f1f1;\n",
       "}\n",
       "#T_2297e_row0_col8, #T_2297e_row0_col9, #T_2297e_row5_col6, #T_2297e_row9_col0, #T_2297e_row10_col5, #T_2297e_row11_col5, #T_2297e_row12_col0, #T_2297e_row13_col5, #T_2297e_row14_col4, #T_2297e_row14_col5 {\n",
       "  background-color: #4961d2;\n",
       "  color: #f1f1f1;\n",
       "}\n",
       "#T_2297e_row0_col10, #T_2297e_row1_col8, #T_2297e_row1_col10, #T_2297e_row2_col12, #T_2297e_row3_col15, #T_2297e_row4_col9, #T_2297e_row4_col12, #T_2297e_row12_col2 {\n",
       "  background-color: #4055c8;\n",
       "  color: #f1f1f1;\n",
       "}\n",
       "#T_2297e_row0_col11, #T_2297e_row2_col16, #T_2297e_row4_col13, #T_2297e_row5_col13, #T_2297e_row9_col5, #T_2297e_row11_col0, #T_2297e_row16_col5 {\n",
       "  background-color: #445acc;\n",
       "  color: #f1f1f1;\n",
       "}\n",
       "#T_2297e_row0_col12, #T_2297e_row2_col13, #T_2297e_row6_col5, #T_2297e_row8_col4, #T_2297e_row14_col2 {\n",
       "  background-color: #4a63d3;\n",
       "  color: #f1f1f1;\n",
       "}\n",
       "#T_2297e_row0_col15, #T_2297e_row4_col15, #T_2297e_row10_col2, #T_2297e_row10_col4, #T_2297e_row13_col2, #T_2297e_row15_col0, #T_2297e_row16_col0 {\n",
       "  background-color: #4f69d9;\n",
       "  color: #f1f1f1;\n",
       "}\n",
       "#T_2297e_row0_col16 {\n",
       "  background-color: #506bda;\n",
       "  color: #f1f1f1;\n",
       "}\n",
       "#T_2297e_row1_col0, #T_2297e_row6_col10 {\n",
       "  background-color: #6384eb;\n",
       "  color: #f1f1f1;\n",
       "}\n",
       "#T_2297e_row1_col2 {\n",
       "  background-color: #b3cdfb;\n",
       "  color: #000000;\n",
       "}\n",
       "#T_2297e_row1_col3, #T_2297e_row2_col0, #T_2297e_row2_col9, #T_2297e_row2_col15, #T_2297e_row3_col1, #T_2297e_row5_col10, #T_2297e_row5_col15, #T_2297e_row16_col2 {\n",
       "  background-color: #455cce;\n",
       "  color: #f1f1f1;\n",
       "}\n",
       "#T_2297e_row1_col4 {\n",
       "  background-color: #7699f6;\n",
       "  color: #f1f1f1;\n",
       "}\n",
       "#T_2297e_row1_col5, #T_2297e_row5_col1 {\n",
       "  background-color: #bfd3f6;\n",
       "  color: #000000;\n",
       "}\n",
       "#T_2297e_row1_col6, #T_2297e_row4_col1, #T_2297e_row9_col10, #T_2297e_row9_col11, #T_2297e_row10_col9 {\n",
       "  background-color: #7a9df8;\n",
       "  color: #f1f1f1;\n",
       "}\n",
       "#T_2297e_row1_col12, #T_2297e_row4_col7, #T_2297e_row8_col1 {\n",
       "  background-color: #3f53c6;\n",
       "  color: #f1f1f1;\n",
       "}\n",
       "#T_2297e_row2_col1, #T_2297e_row13_col6 {\n",
       "  background-color: #b2ccfb;\n",
       "  color: #000000;\n",
       "}\n",
       "#T_2297e_row2_col3, #T_2297e_row6_col3 {\n",
       "  background-color: #5d7ce6;\n",
       "  color: #f1f1f1;\n",
       "}\n",
       "#T_2297e_row2_col4, #T_2297e_row5_col9, #T_2297e_row10_col0, #T_2297e_row11_col4, #T_2297e_row15_col3 {\n",
       "  background-color: #4257c9;\n",
       "  color: #f1f1f1;\n",
       "}\n",
       "#T_2297e_row2_col5, #T_2297e_row5_col2, #T_2297e_row14_col8 {\n",
       "  background-color: #f7bca1;\n",
       "  color: #000000;\n",
       "}\n",
       "#T_2297e_row2_col10, #T_2297e_row4_col3, #T_2297e_row13_col0, #T_2297e_row15_col4 {\n",
       "  background-color: #4b64d5;\n",
       "  color: #f1f1f1;\n",
       "}\n",
       "#T_2297e_row2_col11, #T_2297e_row3_col4, #T_2297e_row4_col11, #T_2297e_row8_col0, #T_2297e_row15_col5 {\n",
       "  background-color: #465ecf;\n",
       "  color: #f1f1f1;\n",
       "}\n",
       "#T_2297e_row3_col2, #T_2297e_row8_col7, #T_2297e_row8_col9, #T_2297e_row12_col7 {\n",
       "  background-color: #5e7de7;\n",
       "  color: #f1f1f1;\n",
       "}\n",
       "#T_2297e_row3_col6, #T_2297e_row4_col5 {\n",
       "  background-color: #5b7ae5;\n",
       "  color: #f1f1f1;\n",
       "}\n",
       "#T_2297e_row3_col8, #T_2297e_row8_col12 {\n",
       "  background-color: #a2c1ff;\n",
       "  color: #000000;\n",
       "}\n",
       "#T_2297e_row3_col9, #T_2297e_row6_col9, #T_2297e_row9_col6 {\n",
       "  background-color: #a9c6fd;\n",
       "  color: #000000;\n",
       "}\n",
       "#T_2297e_row3_col10, #T_2297e_row10_col3 {\n",
       "  background-color: #f3c8b2;\n",
       "  color: #000000;\n",
       "}\n",
       "#T_2297e_row3_col12, #T_2297e_row12_col3 {\n",
       "  background-color: #9ebeff;\n",
       "  color: #000000;\n",
       "}\n",
       "#T_2297e_row3_col13 {\n",
       "  background-color: #89acfd;\n",
       "  color: #000000;\n",
       "}\n",
       "#T_2297e_row3_col16, #T_2297e_row5_col7, #T_2297e_row5_col8, #T_2297e_row8_col5, #T_2297e_row16_col3 {\n",
       "  background-color: #3d50c3;\n",
       "  color: #f1f1f1;\n",
       "}\n",
       "#T_2297e_row4_col6 {\n",
       "  background-color: #6a8bef;\n",
       "  color: #f1f1f1;\n",
       "}\n",
       "#T_2297e_row4_col10, #T_2297e_row7_col10 {\n",
       "  background-color: #536edd;\n",
       "  color: #f1f1f1;\n",
       "}\n",
       "#T_2297e_row4_col14, #T_2297e_row5_col0, #T_2297e_row16_col4 {\n",
       "  background-color: #4c66d6;\n",
       "  color: #f1f1f1;\n",
       "}\n",
       "#T_2297e_row5_col3, #T_2297e_row5_col4, #T_2297e_row7_col0 {\n",
       "  background-color: #5572df;\n",
       "  color: #f1f1f1;\n",
       "}\n",
       "#T_2297e_row5_col16, #T_2297e_row10_col1, #T_2297e_row13_col4 {\n",
       "  background-color: #4358cb;\n",
       "  color: #f1f1f1;\n",
       "}\n",
       "#T_2297e_row6_col1 {\n",
       "  background-color: #7b9ff9;\n",
       "  color: #f1f1f1;\n",
       "}\n",
       "#T_2297e_row6_col2 {\n",
       "  background-color: #5977e3;\n",
       "  color: #f1f1f1;\n",
       "}\n",
       "#T_2297e_row6_col4, #T_2297e_row7_col13 {\n",
       "  background-color: #6687ed;\n",
       "  color: #f1f1f1;\n",
       "}\n",
       "#T_2297e_row6_col7, #T_2297e_row7_col8, #T_2297e_row7_col9, #T_2297e_row9_col8 {\n",
       "  background-color: #6180e9;\n",
       "  color: #f1f1f1;\n",
       "}\n",
       "#T_2297e_row6_col8 {\n",
       "  background-color: #90b2fe;\n",
       "  color: #000000;\n",
       "}\n",
       "#T_2297e_row6_col11, #T_2297e_row11_col6 {\n",
       "  background-color: #8caffe;\n",
       "  color: #000000;\n",
       "}\n",
       "#T_2297e_row6_col12 {\n",
       "  background-color: #a7c5fe;\n",
       "  color: #000000;\n",
       "}\n",
       "#T_2297e_row6_col13 {\n",
       "  background-color: #b1cbfc;\n",
       "  color: #000000;\n",
       "}\n",
       "#T_2297e_row6_col14, #T_2297e_row14_col6 {\n",
       "  background-color: #c0d4f5;\n",
       "  color: #000000;\n",
       "}\n",
       "#T_2297e_row6_col15, #T_2297e_row15_col6 {\n",
       "  background-color: #c4d5f3;\n",
       "  color: #000000;\n",
       "}\n",
       "#T_2297e_row6_col16, #T_2297e_row16_col6 {\n",
       "  background-color: #c5d6f2;\n",
       "  color: #000000;\n",
       "}\n",
       "#T_2297e_row7_col5, #T_2297e_row12_col1, #T_2297e_row13_col1 {\n",
       "  background-color: #3e51c5;\n",
       "  color: #f1f1f1;\n",
       "}\n",
       "#T_2297e_row7_col6, #T_2297e_row7_col12 {\n",
       "  background-color: #5f7fe8;\n",
       "  color: #f1f1f1;\n",
       "}\n",
       "#T_2297e_row7_col14 {\n",
       "  background-color: #6c8ff1;\n",
       "  color: #f1f1f1;\n",
       "}\n",
       "#T_2297e_row7_col15, #T_2297e_row11_col12, #T_2297e_row12_col11, #T_2297e_row15_col7 {\n",
       "  background-color: #7093f3;\n",
       "  color: #f1f1f1;\n",
       "}\n",
       "#T_2297e_row7_col16, #T_2297e_row10_col12, #T_2297e_row16_col7 {\n",
       "  background-color: #7295f4;\n",
       "  color: #f1f1f1;\n",
       "}\n",
       "#T_2297e_row8_col3 {\n",
       "  background-color: #a1c0ff;\n",
       "  color: #000000;\n",
       "}\n",
       "#T_2297e_row8_col6, #T_2297e_row13_col3 {\n",
       "  background-color: #8db0fe;\n",
       "  color: #000000;\n",
       "}\n",
       "#T_2297e_row8_col10, #T_2297e_row10_col16, #T_2297e_row11_col8 {\n",
       "  background-color: #ead4c8;\n",
       "  color: #000000;\n",
       "}\n",
       "#T_2297e_row8_col11, #T_2297e_row11_col16, #T_2297e_row16_col10, #T_2297e_row16_col11 {\n",
       "  background-color: #ead5c9;\n",
       "  color: #000000;\n",
       "}\n",
       "#T_2297e_row8_col13 {\n",
       "  background-color: #d4dbe6;\n",
       "  color: #000000;\n",
       "}\n",
       "#T_2297e_row8_col14 {\n",
       "  background-color: #f6bda2;\n",
       "  color: #000000;\n",
       "}\n",
       "#T_2297e_row8_col15, #T_2297e_row15_col8, #T_2297e_row16_col9 {\n",
       "  background-color: #f7ad90;\n",
       "  color: #000000;\n",
       "}\n",
       "#T_2297e_row8_col16, #T_2297e_row16_col8 {\n",
       "  background-color: #f7a98b;\n",
       "  color: #000000;\n",
       "}\n",
       "#T_2297e_row9_col3 {\n",
       "  background-color: #aac7fd;\n",
       "  color: #000000;\n",
       "}\n",
       "#T_2297e_row9_col7 {\n",
       "  background-color: #6282ea;\n",
       "  color: #f1f1f1;\n",
       "}\n",
       "#T_2297e_row9_col12, #T_2297e_row12_col9 {\n",
       "  background-color: #f7aa8c;\n",
       "  color: #000000;\n",
       "}\n",
       "#T_2297e_row9_col13, #T_2297e_row9_col14, #T_2297e_row13_col9, #T_2297e_row14_col9 {\n",
       "  background-color: #f7b093;\n",
       "  color: #000000;\n",
       "}\n",
       "#T_2297e_row9_col15, #T_2297e_row15_col9 {\n",
       "  background-color: #f7af91;\n",
       "  color: #000000;\n",
       "}\n",
       "#T_2297e_row9_col16 {\n",
       "  background-color: #f7ac8e;\n",
       "  color: #000000;\n",
       "}\n",
       "#T_2297e_row10_col7 {\n",
       "  background-color: #5470de;\n",
       "  color: #f1f1f1;\n",
       "}\n",
       "#T_2297e_row10_col8 {\n",
       "  background-color: #ebd3c6;\n",
       "  color: #000000;\n",
       "}\n",
       "#T_2297e_row10_col13 {\n",
       "  background-color: #a5c3fe;\n",
       "  color: #000000;\n",
       "}\n",
       "#T_2297e_row10_col14, #T_2297e_row14_col10, #T_2297e_row14_col11 {\n",
       "  background-color: #dbdcde;\n",
       "  color: #000000;\n",
       "}\n",
       "#T_2297e_row10_col15, #T_2297e_row15_col10, #T_2297e_row15_col11 {\n",
       "  background-color: #e7d7ce;\n",
       "  color: #000000;\n",
       "}\n",
       "#T_2297e_row11_col9 {\n",
       "  background-color: #799cf8;\n",
       "  color: #f1f1f1;\n",
       "}\n",
       "#T_2297e_row11_col13, #T_2297e_row12_col8 {\n",
       "  background-color: #a3c2fe;\n",
       "  color: #000000;\n",
       "}\n",
       "#T_2297e_row11_col14 {\n",
       "  background-color: #dadce0;\n",
       "  color: #000000;\n",
       "}\n",
       "#T_2297e_row11_col15 {\n",
       "  background-color: #e6d7cf;\n",
       "  color: #000000;\n",
       "}\n",
       "#T_2297e_row12_col6, #T_2297e_row13_col10, #T_2297e_row13_col11 {\n",
       "  background-color: #a6c4fe;\n",
       "  color: #000000;\n",
       "}\n",
       "#T_2297e_row12_col10 {\n",
       "  background-color: #6f92f3;\n",
       "  color: #f1f1f1;\n",
       "}\n",
       "#T_2297e_row12_col13 {\n",
       "  background-color: #d1dae9;\n",
       "  color: #000000;\n",
       "}\n",
       "#T_2297e_row12_col14, #T_2297e_row14_col12 {\n",
       "  background-color: #f4c6af;\n",
       "  color: #000000;\n",
       "}\n",
       "#T_2297e_row12_col15, #T_2297e_row15_col12 {\n",
       "  background-color: #f7b99e;\n",
       "  color: #000000;\n",
       "}\n",
       "#T_2297e_row12_col16, #T_2297e_row16_col12 {\n",
       "  background-color: #f7b497;\n",
       "  color: #000000;\n",
       "}\n",
       "#T_2297e_row13_col7 {\n",
       "  background-color: #688aef;\n",
       "  color: #f1f1f1;\n",
       "}\n",
       "#T_2297e_row13_col8 {\n",
       "  background-color: #d6dce4;\n",
       "  color: #000000;\n",
       "}\n",
       "#T_2297e_row13_col12 {\n",
       "  background-color: #d3dbe7;\n",
       "  color: #000000;\n",
       "}\n",
       "#T_2297e_row13_col14 {\n",
       "  background-color: #f59d7e;\n",
       "  color: #000000;\n",
       "}\n",
       "#T_2297e_row13_col15, #T_2297e_row15_col13 {\n",
       "  background-color: #f18d6f;\n",
       "  color: #f1f1f1;\n",
       "}\n",
       "#T_2297e_row13_col16 {\n",
       "  background-color: #ee8669;\n",
       "  color: #f1f1f1;\n",
       "}\n",
       "#T_2297e_row14_col7 {\n",
       "  background-color: #6e90f2;\n",
       "  color: #f1f1f1;\n",
       "}\n",
       "#T_2297e_row14_col13 {\n",
       "  background-color: #f59f80;\n",
       "  color: #000000;\n",
       "}\n",
       "#T_2297e_row14_col15, #T_2297e_row15_col14 {\n",
       "  background-color: #cd423b;\n",
       "  color: #f1f1f1;\n",
       "}\n",
       "#T_2297e_row14_col16, #T_2297e_row16_col14 {\n",
       "  background-color: #ca3b37;\n",
       "  color: #f1f1f1;\n",
       "}\n",
       "#T_2297e_row15_col16, #T_2297e_row16_col15 {\n",
       "  background-color: #ba162b;\n",
       "  color: #f1f1f1;\n",
       "}\n",
       "#T_2297e_row16_col13 {\n",
       "  background-color: #ef886b;\n",
       "  color: #f1f1f1;\n",
       "}\n",
       "</style>\n",
       "<table id=\"T_2297e\">\n",
       "  <thead>\n",
       "    <tr>\n",
       "      <th class=\"blank level0\" >&nbsp;</th>\n",
       "      <th id=\"T_2297e_level0_col0\" class=\"col_heading level0 col0\" >person_age</th>\n",
       "      <th id=\"T_2297e_level0_col1\" class=\"col_heading level0 col1\" >person_income</th>\n",
       "      <th id=\"T_2297e_level0_col2\" class=\"col_heading level0 col2\" >loan_percent_income</th>\n",
       "      <th id=\"T_2297e_level0_col3\" class=\"col_heading level0 col3\" >loan_int_rate</th>\n",
       "      <th id=\"T_2297e_level0_col4\" class=\"col_heading level0 col4\" >person_emp_length</th>\n",
       "      <th id=\"T_2297e_level0_col5\" class=\"col_heading level0 col5\" >loan_amnt</th>\n",
       "      <th id=\"T_2297e_level0_col6\" class=\"col_heading level0 col6\" >person_home_ownership</th>\n",
       "      <th id=\"T_2297e_level0_col7\" class=\"col_heading level0 col7\" >loan_intent</th>\n",
       "      <th id=\"T_2297e_level0_col8\" class=\"col_heading level0 col8\" >cb_person_default_on_file_N</th>\n",
       "      <th id=\"T_2297e_level0_col9\" class=\"col_heading level0 col9\" >cb_person_default_on_file_Y</th>\n",
       "      <th id=\"T_2297e_level0_col10\" class=\"col_heading level0 col10\" >loan_grade_A</th>\n",
       "      <th id=\"T_2297e_level0_col11\" class=\"col_heading level0 col11\" >loan_grade_B</th>\n",
       "      <th id=\"T_2297e_level0_col12\" class=\"col_heading level0 col12\" >loan_grade_C</th>\n",
       "      <th id=\"T_2297e_level0_col13\" class=\"col_heading level0 col13\" >loan_grade_D</th>\n",
       "      <th id=\"T_2297e_level0_col14\" class=\"col_heading level0 col14\" >loan_grade_E</th>\n",
       "      <th id=\"T_2297e_level0_col15\" class=\"col_heading level0 col15\" >loan_grade_F</th>\n",
       "      <th id=\"T_2297e_level0_col16\" class=\"col_heading level0 col16\" >loan_grade_G</th>\n",
       "    </tr>\n",
       "  </thead>\n",
       "  <tbody>\n",
       "    <tr>\n",
       "      <th id=\"T_2297e_level0_row0\" class=\"row_heading level0 row0\" >person_age</th>\n",
       "      <td id=\"T_2297e_row0_col0\" class=\"data row0 col0\" >100.000000</td>\n",
       "      <td id=\"T_2297e_row0_col1\" class=\"data row0 col1\" >14.080000</td>\n",
       "      <td id=\"T_2297e_row0_col2\" class=\"data row0 col2\" >4.600000</td>\n",
       "      <td id=\"T_2297e_row0_col3\" class=\"data row0 col3\" >1.280000</td>\n",
       "      <td id=\"T_2297e_row0_col4\" class=\"data row0 col4\" >10.070000</td>\n",
       "      <td id=\"T_2297e_row0_col5\" class=\"data row0 col5\" >7.020000</td>\n",
       "      <td id=\"T_2297e_row0_col6\" class=\"data row0 col6\" >1.030000</td>\n",
       "      <td id=\"T_2297e_row0_col7\" class=\"data row0 col7\" >9.760000</td>\n",
       "      <td id=\"T_2297e_row0_col8\" class=\"data row0 col8\" >5.140000</td>\n",
       "      <td id=\"T_2297e_row0_col9\" class=\"data row0 col9\" >5.980000</td>\n",
       "      <td id=\"T_2297e_row0_col10\" class=\"data row0 col10\" >3.470000</td>\n",
       "      <td id=\"T_2297e_row0_col11\" class=\"data row0 col11\" >4.140000</td>\n",
       "      <td id=\"T_2297e_row0_col12\" class=\"data row0 col12\" >5.850000</td>\n",
       "      <td id=\"T_2297e_row0_col13\" class=\"data row0 col13\" >6.530000</td>\n",
       "      <td id=\"T_2297e_row0_col14\" class=\"data row0 col14\" >7.320000</td>\n",
       "      <td id=\"T_2297e_row0_col15\" class=\"data row0 col15\" >7.670000</td>\n",
       "      <td id=\"T_2297e_row0_col16\" class=\"data row0 col16\" >7.740000</td>\n",
       "    </tr>\n",
       "    <tr>\n",
       "      <th id=\"T_2297e_level0_row1\" class=\"row_heading level0 row1\" >person_income</th>\n",
       "      <td id=\"T_2297e_row1_col0\" class=\"data row1 col0\" >14.080000</td>\n",
       "      <td id=\"T_2297e_row1_col1\" class=\"data row1 col1\" >100.000000</td>\n",
       "      <td id=\"T_2297e_row1_col2\" class=\"data row1 col2\" >36.330000</td>\n",
       "      <td id=\"T_2297e_row1_col3\" class=\"data row1 col3\" >4.290000</td>\n",
       "      <td id=\"T_2297e_row1_col4\" class=\"data row1 col4\" >20.480000</td>\n",
       "      <td id=\"T_2297e_row1_col5\" class=\"data row1 col5\" >40.040000</td>\n",
       "      <td id=\"T_2297e_row1_col6\" class=\"data row1 col6\" >20.670000</td>\n",
       "      <td id=\"T_2297e_row1_col7\" class=\"data row1 col7\" >0.860000</td>\n",
       "      <td id=\"T_2297e_row1_col8\" class=\"data row1 col8\" >2.500000</td>\n",
       "      <td id=\"T_2297e_row1_col9\" class=\"data row1 col9\" >1.300000</td>\n",
       "      <td id=\"T_2297e_row1_col10\" class=\"data row1 col10\" >3.620000</td>\n",
       "      <td id=\"T_2297e_row1_col11\" class=\"data row1 col11\" >1.340000</td>\n",
       "      <td id=\"T_2297e_row1_col12\" class=\"data row1 col12\" >2.230000</td>\n",
       "      <td id=\"T_2297e_row1_col13\" class=\"data row1 col13\" >1.980000</td>\n",
       "      <td id=\"T_2297e_row1_col14\" class=\"data row1 col14\" >1.000000</td>\n",
       "      <td id=\"T_2297e_row1_col15\" class=\"data row1 col15\" >1.040000</td>\n",
       "      <td id=\"T_2297e_row1_col16\" class=\"data row1 col16\" >0.710000</td>\n",
       "    </tr>\n",
       "    <tr>\n",
       "      <th id=\"T_2297e_level0_row2\" class=\"row_heading level0 row2\" >loan_percent_income</th>\n",
       "      <td id=\"T_2297e_row2_col0\" class=\"data row2 col0\" >4.600000</td>\n",
       "      <td id=\"T_2297e_row2_col1\" class=\"data row2 col1\" >36.330000</td>\n",
       "      <td id=\"T_2297e_row2_col2\" class=\"data row2 col2\" >100.000000</td>\n",
       "      <td id=\"T_2297e_row2_col3\" class=\"data row2 col3\" >11.810000</td>\n",
       "      <td id=\"T_2297e_row2_col4\" class=\"data row2 col4\" >4.860000</td>\n",
       "      <td id=\"T_2297e_row2_col5\" class=\"data row2 col5\" >65.500000</td>\n",
       "      <td id=\"T_2297e_row2_col6\" class=\"data row2 col6\" >10.190000</td>\n",
       "      <td id=\"T_2297e_row2_col7\" class=\"data row2 col7\" >0.840000</td>\n",
       "      <td id=\"T_2297e_row2_col8\" class=\"data row2 col8\" >0.280000</td>\n",
       "      <td id=\"T_2297e_row2_col9\" class=\"data row2 col9\" >4.900000</td>\n",
       "      <td id=\"T_2297e_row2_col10\" class=\"data row2 col10\" >6.950000</td>\n",
       "      <td id=\"T_2297e_row2_col11\" class=\"data row2 col11\" >4.770000</td>\n",
       "      <td id=\"T_2297e_row2_col12\" class=\"data row2 col12\" >2.610000</td>\n",
       "      <td id=\"T_2297e_row2_col13\" class=\"data row2 col13\" >7.080000</td>\n",
       "      <td id=\"T_2297e_row2_col14\" class=\"data row2 col14\" >5.400000</td>\n",
       "      <td id=\"T_2297e_row2_col15\" class=\"data row2 col15\" >4.580000</td>\n",
       "      <td id=\"T_2297e_row2_col16\" class=\"data row2 col16\" >4.060000</td>\n",
       "    </tr>\n",
       "    <tr>\n",
       "      <th id=\"T_2297e_level0_row3\" class=\"row_heading level0 row3\" >loan_int_rate</th>\n",
       "      <td id=\"T_2297e_row3_col0\" class=\"data row3 col0\" >1.280000</td>\n",
       "      <td id=\"T_2297e_row3_col1\" class=\"data row3 col1\" >4.290000</td>\n",
       "      <td id=\"T_2297e_row3_col2\" class=\"data row3 col2\" >11.810000</td>\n",
       "      <td id=\"T_2297e_row3_col3\" class=\"data row3 col3\" >100.000000</td>\n",
       "      <td id=\"T_2297e_row3_col4\" class=\"data row3 col4\" >6.450000</td>\n",
       "      <td id=\"T_2297e_row3_col5\" class=\"data row3 col5\" >9.620000</td>\n",
       "      <td id=\"T_2297e_row3_col6\" class=\"data row3 col6\" >11.840000</td>\n",
       "      <td id=\"T_2297e_row3_col7\" class=\"data row3 col7\" >1.460000</td>\n",
       "      <td id=\"T_2297e_row3_col8\" class=\"data row3 col8\" >31.070000</td>\n",
       "      <td id=\"T_2297e_row3_col9\" class=\"data row3 col9\" >33.790000</td>\n",
       "      <td id=\"T_2297e_row3_col10\" class=\"data row3 col10\" >61.580000</td>\n",
       "      <td id=\"T_2297e_row3_col11\" class=\"data row3 col11\" >0.760000</td>\n",
       "      <td id=\"T_2297e_row3_col12\" class=\"data row3 col12\" >30.360000</td>\n",
       "      <td id=\"T_2297e_row3_col13\" class=\"data row3 col13\" >25.640000</td>\n",
       "      <td id=\"T_2297e_row3_col14\" class=\"data row3 col14\" >8.450000</td>\n",
       "      <td id=\"T_2297e_row3_col15\" class=\"data row3 col15\" >3.300000</td>\n",
       "      <td id=\"T_2297e_row3_col16\" class=\"data row3 col16\" >1.630000</td>\n",
       "    </tr>\n",
       "    <tr>\n",
       "      <th id=\"T_2297e_level0_row4\" class=\"row_heading level0 row4\" >person_emp_length</th>\n",
       "      <td id=\"T_2297e_row4_col0\" class=\"data row4 col0\" >10.070000</td>\n",
       "      <td id=\"T_2297e_row4_col1\" class=\"data row4 col1\" >20.480000</td>\n",
       "      <td id=\"T_2297e_row4_col2\" class=\"data row4 col2\" >4.860000</td>\n",
       "      <td id=\"T_2297e_row4_col3\" class=\"data row4 col3\" >6.450000</td>\n",
       "      <td id=\"T_2297e_row4_col4\" class=\"data row4 col4\" >100.000000</td>\n",
       "      <td id=\"T_2297e_row4_col5\" class=\"data row4 col5\" >11.120000</td>\n",
       "      <td id=\"T_2297e_row4_col6\" class=\"data row4 col6\" >15.910000</td>\n",
       "      <td id=\"T_2297e_row4_col7\" class=\"data row4 col7\" >2.570000</td>\n",
       "      <td id=\"T_2297e_row4_col8\" class=\"data row4 col8\" >7.850000</td>\n",
       "      <td id=\"T_2297e_row4_col9\" class=\"data row4 col9\" >3.230000</td>\n",
       "      <td id=\"T_2297e_row4_col10\" class=\"data row4 col10\" >9.390000</td>\n",
       "      <td id=\"T_2297e_row4_col11\" class=\"data row4 col11\" >4.980000</td>\n",
       "      <td id=\"T_2297e_row4_col12\" class=\"data row4 col12\" >2.570000</td>\n",
       "      <td id=\"T_2297e_row4_col13\" class=\"data row4 col13\" >5.310000</td>\n",
       "      <td id=\"T_2297e_row4_col14\" class=\"data row4 col14\" >7.180000</td>\n",
       "      <td id=\"T_2297e_row4_col15\" class=\"data row4 col15\" >7.990000</td>\n",
       "      <td id=\"T_2297e_row4_col16\" class=\"data row4 col16\" >8.410000</td>\n",
       "    </tr>\n",
       "    <tr>\n",
       "      <th id=\"T_2297e_level0_row5\" class=\"row_heading level0 row5\" >loan_amnt</th>\n",
       "      <td id=\"T_2297e_row5_col0\" class=\"data row5 col0\" >7.020000</td>\n",
       "      <td id=\"T_2297e_row5_col1\" class=\"data row5 col1\" >40.040000</td>\n",
       "      <td id=\"T_2297e_row5_col2\" class=\"data row5 col2\" >65.500000</td>\n",
       "      <td id=\"T_2297e_row5_col3\" class=\"data row5 col3\" >9.620000</td>\n",
       "      <td id=\"T_2297e_row5_col4\" class=\"data row5 col4\" >11.120000</td>\n",
       "      <td id=\"T_2297e_row5_col5\" class=\"data row5 col5\" >100.000000</td>\n",
       "      <td id=\"T_2297e_row5_col6\" class=\"data row5 col6\" >5.720000</td>\n",
       "      <td id=\"T_2297e_row5_col7\" class=\"data row5 col7\" >1.720000</td>\n",
       "      <td id=\"T_2297e_row5_col8\" class=\"data row5 col8\" >1.440000</td>\n",
       "      <td id=\"T_2297e_row5_col9\" class=\"data row5 col9\" >3.780000</td>\n",
       "      <td id=\"T_2297e_row5_col10\" class=\"data row5 col10\" >5.250000</td>\n",
       "      <td id=\"T_2297e_row5_col11\" class=\"data row5 col11\" >5.300000</td>\n",
       "      <td id=\"T_2297e_row5_col12\" class=\"data row5 col12\" >0.520000</td>\n",
       "      <td id=\"T_2297e_row5_col13\" class=\"data row5 col13\" >5.380000</td>\n",
       "      <td id=\"T_2297e_row5_col14\" class=\"data row5 col14\" >5.540000</td>\n",
       "      <td id=\"T_2297e_row5_col15\" class=\"data row5 col15\" >4.570000</td>\n",
       "      <td id=\"T_2297e_row5_col16\" class=\"data row5 col16\" >3.810000</td>\n",
       "    </tr>\n",
       "    <tr>\n",
       "      <th id=\"T_2297e_level0_row6\" class=\"row_heading level0 row6\" >person_home_ownership</th>\n",
       "      <td id=\"T_2297e_row6_col0\" class=\"data row6 col0\" >1.030000</td>\n",
       "      <td id=\"T_2297e_row6_col1\" class=\"data row6 col1\" >20.670000</td>\n",
       "      <td id=\"T_2297e_row6_col2\" class=\"data row6 col2\" >10.190000</td>\n",
       "      <td id=\"T_2297e_row6_col3\" class=\"data row6 col3\" >11.840000</td>\n",
       "      <td id=\"T_2297e_row6_col4\" class=\"data row6 col4\" >15.910000</td>\n",
       "      <td id=\"T_2297e_row6_col5\" class=\"data row6 col5\" >5.720000</td>\n",
       "      <td id=\"T_2297e_row6_col6\" class=\"data row6 col6\" >100.000000</td>\n",
       "      <td id=\"T_2297e_row6_col7\" class=\"data row6 col7\" >12.850000</td>\n",
       "      <td id=\"T_2297e_row6_col8\" class=\"data row6 col8\" >26.070000</td>\n",
       "      <td id=\"T_2297e_row6_col9\" class=\"data row6 col9\" >33.690000</td>\n",
       "      <td id=\"T_2297e_row6_col10\" class=\"data row6 col10\" >14.290000</td>\n",
       "      <td id=\"T_2297e_row6_col11\" class=\"data row6 col11\" >25.560000</td>\n",
       "      <td id=\"T_2297e_row6_col12\" class=\"data row6 col12\" >32.980000</td>\n",
       "      <td id=\"T_2297e_row6_col13\" class=\"data row6 col13\" >36.580000</td>\n",
       "      <td id=\"T_2297e_row6_col14\" class=\"data row6 col14\" >40.700000</td>\n",
       "      <td id=\"T_2297e_row6_col15\" class=\"data row6 col15\" >41.790000</td>\n",
       "      <td id=\"T_2297e_row6_col16\" class=\"data row6 col16\" >42.180000</td>\n",
       "    </tr>\n",
       "    <tr>\n",
       "      <th id=\"T_2297e_level0_row7\" class=\"row_heading level0 row7\" >loan_intent</th>\n",
       "      <td id=\"T_2297e_row7_col0\" class=\"data row7 col0\" >9.760000</td>\n",
       "      <td id=\"T_2297e_row7_col1\" class=\"data row7 col1\" >0.860000</td>\n",
       "      <td id=\"T_2297e_row7_col2\" class=\"data row7 col2\" >0.840000</td>\n",
       "      <td id=\"T_2297e_row7_col3\" class=\"data row7 col3\" >1.460000</td>\n",
       "      <td id=\"T_2297e_row7_col4\" class=\"data row7 col4\" >2.570000</td>\n",
       "      <td id=\"T_2297e_row7_col5\" class=\"data row7 col5\" >1.720000</td>\n",
       "      <td id=\"T_2297e_row7_col6\" class=\"data row7 col6\" >12.850000</td>\n",
       "      <td id=\"T_2297e_row7_col7\" class=\"data row7 col7\" >100.000000</td>\n",
       "      <td id=\"T_2297e_row7_col8\" class=\"data row7 col8\" >12.420000</td>\n",
       "      <td id=\"T_2297e_row7_col9\" class=\"data row7 col9\" >13.390000</td>\n",
       "      <td id=\"T_2297e_row7_col10\" class=\"data row7 col10\" >9.120000</td>\n",
       "      <td id=\"T_2297e_row7_col11\" class=\"data row7 col11\" >9.960000</td>\n",
       "      <td id=\"T_2297e_row7_col12\" class=\"data row7 col12\" >12.350000</td>\n",
       "      <td id=\"T_2297e_row7_col13\" class=\"data row7 col13\" >15.550000</td>\n",
       "      <td id=\"T_2297e_row7_col14\" class=\"data row7 col14\" >16.840000</td>\n",
       "      <td id=\"T_2297e_row7_col15\" class=\"data row7 col15\" >17.760000</td>\n",
       "      <td id=\"T_2297e_row7_col16\" class=\"data row7 col16\" >17.920000</td>\n",
       "    </tr>\n",
       "    <tr>\n",
       "      <th id=\"T_2297e_level0_row8\" class=\"row_heading level0 row8\" >cb_person_default_on_file_N</th>\n",
       "      <td id=\"T_2297e_row8_col0\" class=\"data row8 col0\" >5.140000</td>\n",
       "      <td id=\"T_2297e_row8_col1\" class=\"data row8 col1\" >2.500000</td>\n",
       "      <td id=\"T_2297e_row8_col2\" class=\"data row8 col2\" >0.280000</td>\n",
       "      <td id=\"T_2297e_row8_col3\" class=\"data row8 col3\" >31.070000</td>\n",
       "      <td id=\"T_2297e_row8_col4\" class=\"data row8 col4\" >7.850000</td>\n",
       "      <td id=\"T_2297e_row8_col5\" class=\"data row8 col5\" >1.440000</td>\n",
       "      <td id=\"T_2297e_row8_col6\" class=\"data row8 col6\" >26.070000</td>\n",
       "      <td id=\"T_2297e_row8_col7\" class=\"data row8 col7\" >12.420000</td>\n",
       "      <td id=\"T_2297e_row8_col8\" class=\"data row8 col8\" >100.000000</td>\n",
       "      <td id=\"T_2297e_row8_col9\" class=\"data row8 col9\" >12.560000</td>\n",
       "      <td id=\"T_2297e_row8_col10\" class=\"data row8 col10\" >56.290000</td>\n",
       "      <td id=\"T_2297e_row8_col11\" class=\"data row8 col11\" >55.740000</td>\n",
       "      <td id=\"T_2297e_row8_col12\" class=\"data row8 col12\" >31.540000</td>\n",
       "      <td id=\"T_2297e_row8_col13\" class=\"data row8 col13\" >47.680000</td>\n",
       "      <td id=\"T_2297e_row8_col14\" class=\"data row8 col14\" >65.360000</td>\n",
       "      <td id=\"T_2297e_row8_col15\" class=\"data row8 col15\" >69.890000</td>\n",
       "      <td id=\"T_2297e_row8_col16\" class=\"data row8 col16\" >71.070000</td>\n",
       "    </tr>\n",
       "    <tr>\n",
       "      <th id=\"T_2297e_level0_row9\" class=\"row_heading level0 row9\" >cb_person_default_on_file_Y</th>\n",
       "      <td id=\"T_2297e_row9_col0\" class=\"data row9 col0\" >5.980000</td>\n",
       "      <td id=\"T_2297e_row9_col1\" class=\"data row9 col1\" >1.300000</td>\n",
       "      <td id=\"T_2297e_row9_col2\" class=\"data row9 col2\" >4.900000</td>\n",
       "      <td id=\"T_2297e_row9_col3\" class=\"data row9 col3\" >33.790000</td>\n",
       "      <td id=\"T_2297e_row9_col4\" class=\"data row9 col4\" >3.230000</td>\n",
       "      <td id=\"T_2297e_row9_col5\" class=\"data row9 col5\" >3.780000</td>\n",
       "      <td id=\"T_2297e_row9_col6\" class=\"data row9 col6\" >33.690000</td>\n",
       "      <td id=\"T_2297e_row9_col7\" class=\"data row9 col7\" >13.390000</td>\n",
       "      <td id=\"T_2297e_row9_col8\" class=\"data row9 col8\" >12.560000</td>\n",
       "      <td id=\"T_2297e_row9_col9\" class=\"data row9 col9\" >100.000000</td>\n",
       "      <td id=\"T_2297e_row9_col10\" class=\"data row9 col10\" >20.720000</td>\n",
       "      <td id=\"T_2297e_row9_col11\" class=\"data row9 col11\" >20.420000</td>\n",
       "      <td id=\"T_2297e_row9_col12\" class=\"data row9 col12\" >70.810000</td>\n",
       "      <td id=\"T_2297e_row9_col13\" class=\"data row9 col13\" >69.540000</td>\n",
       "      <td id=\"T_2297e_row9_col14\" class=\"data row9 col14\" >69.340000</td>\n",
       "      <td id=\"T_2297e_row9_col15\" class=\"data row9 col15\" >69.670000</td>\n",
       "      <td id=\"T_2297e_row9_col16\" class=\"data row9 col16\" >70.190000</td>\n",
       "    </tr>\n",
       "    <tr>\n",
       "      <th id=\"T_2297e_level0_row10\" class=\"row_heading level0 row10\" >loan_grade_A</th>\n",
       "      <td id=\"T_2297e_row10_col0\" class=\"data row10 col0\" >3.470000</td>\n",
       "      <td id=\"T_2297e_row10_col1\" class=\"data row10 col1\" >3.620000</td>\n",
       "      <td id=\"T_2297e_row10_col2\" class=\"data row10 col2\" >6.950000</td>\n",
       "      <td id=\"T_2297e_row10_col3\" class=\"data row10 col3\" >61.580000</td>\n",
       "      <td id=\"T_2297e_row10_col4\" class=\"data row10 col4\" >9.390000</td>\n",
       "      <td id=\"T_2297e_row10_col5\" class=\"data row10 col5\" >5.250000</td>\n",
       "      <td id=\"T_2297e_row10_col6\" class=\"data row10 col6\" >14.290000</td>\n",
       "      <td id=\"T_2297e_row10_col7\" class=\"data row10 col7\" >9.120000</td>\n",
       "      <td id=\"T_2297e_row10_col8\" class=\"data row10 col8\" >56.290000</td>\n",
       "      <td id=\"T_2297e_row10_col9\" class=\"data row10 col9\" >20.720000</td>\n",
       "      <td id=\"T_2297e_row10_col10\" class=\"data row10 col10\" >100.000000</td>\n",
       "      <td id=\"T_2297e_row10_col11\" class=\"data row10 col11\" >1.410000</td>\n",
       "      <td id=\"T_2297e_row10_col12\" class=\"data row10 col12\" >17.720000</td>\n",
       "      <td id=\"T_2297e_row10_col13\" class=\"data row10 col13\" >33.130000</td>\n",
       "      <td id=\"T_2297e_row10_col14\" class=\"data row10 col14\" >50.070000</td>\n",
       "      <td id=\"T_2297e_row10_col15\" class=\"data row10 col15\" >54.650000</td>\n",
       "      <td id=\"T_2297e_row10_col16\" class=\"data row10 col16\" >56.070000</td>\n",
       "    </tr>\n",
       "    <tr>\n",
       "      <th id=\"T_2297e_level0_row11\" class=\"row_heading level0 row11\" >loan_grade_B</th>\n",
       "      <td id=\"T_2297e_row11_col0\" class=\"data row11 col0\" >4.140000</td>\n",
       "      <td id=\"T_2297e_row11_col1\" class=\"data row11 col1\" >1.340000</td>\n",
       "      <td id=\"T_2297e_row11_col2\" class=\"data row11 col2\" >4.770000</td>\n",
       "      <td id=\"T_2297e_row11_col3\" class=\"data row11 col3\" >0.760000</td>\n",
       "      <td id=\"T_2297e_row11_col4\" class=\"data row11 col4\" >4.980000</td>\n",
       "      <td id=\"T_2297e_row11_col5\" class=\"data row11 col5\" >5.300000</td>\n",
       "      <td id=\"T_2297e_row11_col6\" class=\"data row11 col6\" >25.560000</td>\n",
       "      <td id=\"T_2297e_row11_col7\" class=\"data row11 col7\" >9.960000</td>\n",
       "      <td id=\"T_2297e_row11_col8\" class=\"data row11 col8\" >55.740000</td>\n",
       "      <td id=\"T_2297e_row11_col9\" class=\"data row11 col9\" >20.420000</td>\n",
       "      <td id=\"T_2297e_row11_col10\" class=\"data row11 col10\" >1.410000</td>\n",
       "      <td id=\"T_2297e_row11_col11\" class=\"data row11 col11\" >100.000000</td>\n",
       "      <td id=\"T_2297e_row11_col12\" class=\"data row11 col12\" >17.440000</td>\n",
       "      <td id=\"T_2297e_row11_col13\" class=\"data row11 col13\" >32.780000</td>\n",
       "      <td id=\"T_2297e_row11_col14\" class=\"data row11 col14\" >49.690000</td>\n",
       "      <td id=\"T_2297e_row11_col15\" class=\"data row11 col15\" >54.270000</td>\n",
       "      <td id=\"T_2297e_row11_col16\" class=\"data row11 col16\" >55.680000</td>\n",
       "    </tr>\n",
       "    <tr>\n",
       "      <th id=\"T_2297e_level0_row12\" class=\"row_heading level0 row12\" >loan_grade_C</th>\n",
       "      <td id=\"T_2297e_row12_col0\" class=\"data row12 col0\" >5.850000</td>\n",
       "      <td id=\"T_2297e_row12_col1\" class=\"data row12 col1\" >2.230000</td>\n",
       "      <td id=\"T_2297e_row12_col2\" class=\"data row12 col2\" >2.610000</td>\n",
       "      <td id=\"T_2297e_row12_col3\" class=\"data row12 col3\" >30.360000</td>\n",
       "      <td id=\"T_2297e_row12_col4\" class=\"data row12 col4\" >2.570000</td>\n",
       "      <td id=\"T_2297e_row12_col5\" class=\"data row12 col5\" >0.520000</td>\n",
       "      <td id=\"T_2297e_row12_col6\" class=\"data row12 col6\" >32.980000</td>\n",
       "      <td id=\"T_2297e_row12_col7\" class=\"data row12 col7\" >12.350000</td>\n",
       "      <td id=\"T_2297e_row12_col8\" class=\"data row12 col8\" >31.540000</td>\n",
       "      <td id=\"T_2297e_row12_col9\" class=\"data row12 col9\" >70.810000</td>\n",
       "      <td id=\"T_2297e_row12_col10\" class=\"data row12 col10\" >17.720000</td>\n",
       "      <td id=\"T_2297e_row12_col11\" class=\"data row12 col11\" >17.440000</td>\n",
       "      <td id=\"T_2297e_row12_col12\" class=\"data row12 col12\" >100.000000</td>\n",
       "      <td id=\"T_2297e_row12_col13\" class=\"data row12 col13\" >46.730000</td>\n",
       "      <td id=\"T_2297e_row12_col14\" class=\"data row12 col14\" >62.270000</td>\n",
       "      <td id=\"T_2297e_row12_col15\" class=\"data row12 col15\" >66.550000</td>\n",
       "      <td id=\"T_2297e_row12_col16\" class=\"data row12 col16\" >67.890000</td>\n",
       "    </tr>\n",
       "    <tr>\n",
       "      <th id=\"T_2297e_level0_row13\" class=\"row_heading level0 row13\" >loan_grade_D</th>\n",
       "      <td id=\"T_2297e_row13_col0\" class=\"data row13 col0\" >6.530000</td>\n",
       "      <td id=\"T_2297e_row13_col1\" class=\"data row13 col1\" >1.980000</td>\n",
       "      <td id=\"T_2297e_row13_col2\" class=\"data row13 col2\" >7.080000</td>\n",
       "      <td id=\"T_2297e_row13_col3\" class=\"data row13 col3\" >25.640000</td>\n",
       "      <td id=\"T_2297e_row13_col4\" class=\"data row13 col4\" >5.310000</td>\n",
       "      <td id=\"T_2297e_row13_col5\" class=\"data row13 col5\" >5.380000</td>\n",
       "      <td id=\"T_2297e_row13_col6\" class=\"data row13 col6\" >36.580000</td>\n",
       "      <td id=\"T_2297e_row13_col7\" class=\"data row13 col7\" >15.550000</td>\n",
       "      <td id=\"T_2297e_row13_col8\" class=\"data row13 col8\" >47.680000</td>\n",
       "      <td id=\"T_2297e_row13_col9\" class=\"data row13 col9\" >69.540000</td>\n",
       "      <td id=\"T_2297e_row13_col10\" class=\"data row13 col10\" >33.130000</td>\n",
       "      <td id=\"T_2297e_row13_col11\" class=\"data row13 col11\" >32.780000</td>\n",
       "      <td id=\"T_2297e_row13_col12\" class=\"data row13 col12\" >46.730000</td>\n",
       "      <td id=\"T_2297e_row13_col13\" class=\"data row13 col13\" >100.000000</td>\n",
       "      <td id=\"T_2297e_row13_col14\" class=\"data row13 col14\" >74.160000</td>\n",
       "      <td id=\"T_2297e_row13_col15\" class=\"data row13 col15\" >78.320000</td>\n",
       "      <td id=\"T_2297e_row13_col16\" class=\"data row13 col16\" >79.620000</td>\n",
       "    </tr>\n",
       "    <tr>\n",
       "      <th id=\"T_2297e_level0_row14\" class=\"row_heading level0 row14\" >loan_grade_E</th>\n",
       "      <td id=\"T_2297e_row14_col0\" class=\"data row14 col0\" >7.320000</td>\n",
       "      <td id=\"T_2297e_row14_col1\" class=\"data row14 col1\" >1.000000</td>\n",
       "      <td id=\"T_2297e_row14_col2\" class=\"data row14 col2\" >5.400000</td>\n",
       "      <td id=\"T_2297e_row14_col3\" class=\"data row14 col3\" >8.450000</td>\n",
       "      <td id=\"T_2297e_row14_col4\" class=\"data row14 col4\" >7.180000</td>\n",
       "      <td id=\"T_2297e_row14_col5\" class=\"data row14 col5\" >5.540000</td>\n",
       "      <td id=\"T_2297e_row14_col6\" class=\"data row14 col6\" >40.700000</td>\n",
       "      <td id=\"T_2297e_row14_col7\" class=\"data row14 col7\" >16.840000</td>\n",
       "      <td id=\"T_2297e_row14_col8\" class=\"data row14 col8\" >65.360000</td>\n",
       "      <td id=\"T_2297e_row14_col9\" class=\"data row14 col9\" >69.340000</td>\n",
       "      <td id=\"T_2297e_row14_col10\" class=\"data row14 col10\" >50.070000</td>\n",
       "      <td id=\"T_2297e_row14_col11\" class=\"data row14 col11\" >49.690000</td>\n",
       "      <td id=\"T_2297e_row14_col12\" class=\"data row14 col12\" >62.270000</td>\n",
       "      <td id=\"T_2297e_row14_col13\" class=\"data row14 col13\" >74.160000</td>\n",
       "      <td id=\"T_2297e_row14_col14\" class=\"data row14 col14\" >100.000000</td>\n",
       "      <td id=\"T_2297e_row14_col15\" class=\"data row14 col15\" >92.770000</td>\n",
       "      <td id=\"T_2297e_row14_col16\" class=\"data row14 col16\" >94.060000</td>\n",
       "    </tr>\n",
       "    <tr>\n",
       "      <th id=\"T_2297e_level0_row15\" class=\"row_heading level0 row15\" >loan_grade_F</th>\n",
       "      <td id=\"T_2297e_row15_col0\" class=\"data row15 col0\" >7.670000</td>\n",
       "      <td id=\"T_2297e_row15_col1\" class=\"data row15 col1\" >1.040000</td>\n",
       "      <td id=\"T_2297e_row15_col2\" class=\"data row15 col2\" >4.580000</td>\n",
       "      <td id=\"T_2297e_row15_col3\" class=\"data row15 col3\" >3.300000</td>\n",
       "      <td id=\"T_2297e_row15_col4\" class=\"data row15 col4\" >7.990000</td>\n",
       "      <td id=\"T_2297e_row15_col5\" class=\"data row15 col5\" >4.570000</td>\n",
       "      <td id=\"T_2297e_row15_col6\" class=\"data row15 col6\" >41.790000</td>\n",
       "      <td id=\"T_2297e_row15_col7\" class=\"data row15 col7\" >17.760000</td>\n",
       "      <td id=\"T_2297e_row15_col8\" class=\"data row15 col8\" >69.890000</td>\n",
       "      <td id=\"T_2297e_row15_col9\" class=\"data row15 col9\" >69.670000</td>\n",
       "      <td id=\"T_2297e_row15_col10\" class=\"data row15 col10\" >54.650000</td>\n",
       "      <td id=\"T_2297e_row15_col11\" class=\"data row15 col11\" >54.270000</td>\n",
       "      <td id=\"T_2297e_row15_col12\" class=\"data row15 col12\" >66.550000</td>\n",
       "      <td id=\"T_2297e_row15_col13\" class=\"data row15 col13\" >78.320000</td>\n",
       "      <td id=\"T_2297e_row15_col14\" class=\"data row15 col14\" >92.770000</td>\n",
       "      <td id=\"T_2297e_row15_col15\" class=\"data row15 col15\" >100.000000</td>\n",
       "      <td id=\"T_2297e_row15_col16\" class=\"data row15 col16\" >98.140000</td>\n",
       "    </tr>\n",
       "    <tr>\n",
       "      <th id=\"T_2297e_level0_row16\" class=\"row_heading level0 row16\" >loan_grade_G</th>\n",
       "      <td id=\"T_2297e_row16_col0\" class=\"data row16 col0\" >7.740000</td>\n",
       "      <td id=\"T_2297e_row16_col1\" class=\"data row16 col1\" >0.710000</td>\n",
       "      <td id=\"T_2297e_row16_col2\" class=\"data row16 col2\" >4.060000</td>\n",
       "      <td id=\"T_2297e_row16_col3\" class=\"data row16 col3\" >1.630000</td>\n",
       "      <td id=\"T_2297e_row16_col4\" class=\"data row16 col4\" >8.410000</td>\n",
       "      <td id=\"T_2297e_row16_col5\" class=\"data row16 col5\" >3.810000</td>\n",
       "      <td id=\"T_2297e_row16_col6\" class=\"data row16 col6\" >42.180000</td>\n",
       "      <td id=\"T_2297e_row16_col7\" class=\"data row16 col7\" >17.920000</td>\n",
       "      <td id=\"T_2297e_row16_col8\" class=\"data row16 col8\" >71.070000</td>\n",
       "      <td id=\"T_2297e_row16_col9\" class=\"data row16 col9\" >70.190000</td>\n",
       "      <td id=\"T_2297e_row16_col10\" class=\"data row16 col10\" >56.070000</td>\n",
       "      <td id=\"T_2297e_row16_col11\" class=\"data row16 col11\" >55.680000</td>\n",
       "      <td id=\"T_2297e_row16_col12\" class=\"data row16 col12\" >67.890000</td>\n",
       "      <td id=\"T_2297e_row16_col13\" class=\"data row16 col13\" >79.620000</td>\n",
       "      <td id=\"T_2297e_row16_col14\" class=\"data row16 col14\" >94.060000</td>\n",
       "      <td id=\"T_2297e_row16_col15\" class=\"data row16 col15\" >98.140000</td>\n",
       "      <td id=\"T_2297e_row16_col16\" class=\"data row16 col16\" >100.000000</td>\n",
       "    </tr>\n",
       "  </tbody>\n",
       "</table>\n"
      ],
      "text/plain": [
       "<pandas.io.formats.style.Styler at 0x7fba7a0d3dc0>"
      ]
     },
     "execution_count": 56,
     "metadata": {},
     "output_type": "execute_result"
    }
   ],
   "source": [
    "m_corr_num.style.background_gradient(cmap='coolwarm')"
   ]
  },
  {
   "cell_type": "code",
   "execution_count": 57,
   "metadata": {},
   "outputs": [],
   "source": [
    "var_corr_num = []\n",
    "\n",
    "for c in num_X_cols:\n",
    "    corr_c = list(m_corr_num[m_corr_num[c] > 70][c].index)\n",
    "    for c_j in corr_c:\n",
    "        if c_j != c:\n",
    "            if (([c, c_j] in var_corr_num) == False) and (([c_j, c] in var_corr_num) == False):\n",
    "                var_corr_num.append([c, c_j])"
   ]
  },
  {
   "cell_type": "code",
   "execution_count": 58,
   "metadata": {},
   "outputs": [
    {
     "data": {
      "text/plain": [
       "[['cb_person_default_on_file_N', 'loan_grade_G'],\n",
       " ['cb_person_default_on_file_Y', 'loan_grade_C'],\n",
       " ['cb_person_default_on_file_Y', 'loan_grade_G'],\n",
       " ['loan_grade_D', 'loan_grade_E'],\n",
       " ['loan_grade_D', 'loan_grade_F'],\n",
       " ['loan_grade_D', 'loan_grade_G'],\n",
       " ['loan_grade_E', 'loan_grade_F'],\n",
       " ['loan_grade_E', 'loan_grade_G'],\n",
       " ['loan_grade_F', 'loan_grade_G']]"
      ]
     },
     "execution_count": 58,
     "metadata": {},
     "output_type": "execute_result"
    }
   ],
   "source": [
    "var_corr_num"
   ]
  },
  {
   "cell_type": "markdown",
   "metadata": {},
   "source": [
    "**Comments:** We wont eliminate any other variable because the only correlationated are dummy features."
   ]
  },
  {
   "cell_type": "markdown",
   "metadata": {},
   "source": [
    "### Time of execution"
   ]
  },
  {
   "cell_type": "code",
   "execution_count": 59,
   "metadata": {},
   "outputs": [],
   "source": [
    "end = time.time()"
   ]
  },
  {
   "cell_type": "code",
   "execution_count": 60,
   "metadata": {},
   "outputs": [
    {
     "name": "stdout",
     "output_type": "stream",
     "text": [
      "Execute this notebook take us 0 hours, 0 minutes and 3 seconds.\n"
     ]
    }
   ],
   "source": [
    "delta = (end - start)\n",
    "\n",
    "hours = int(delta/3600)\n",
    "mins = int((delta - hours*3600)/60)\n",
    "segs = int(delta - hours*3600 - mins*60)\n",
    "print(f'Execute this notebook take us {hours} hours, {mins} minutes and {segs} seconds.')"
   ]
  },
  {
   "cell_type": "code",
   "execution_count": null,
   "metadata": {},
   "outputs": [],
   "source": []
  }
 ],
 "metadata": {
  "kernelspec": {
   "display_name": "Python 3.9.12 ('base')",
   "language": "python",
   "name": "python3"
  },
  "language_info": {
   "codemirror_mode": {
    "name": "ipython",
    "version": 3
   },
   "file_extension": ".py",
   "mimetype": "text/x-python",
   "name": "python",
   "nbconvert_exporter": "python",
   "pygments_lexer": "ipython3",
   "version": "3.8.15"
  },
  "orig_nbformat": 4,
  "vscode": {
   "interpreter": {
    "hash": "2f8c485831047b2cebf111481919a8482d14cdda0a4d2016f96df03a335ecfa0"
   }
  }
 },
 "nbformat": 4,
 "nbformat_minor": 2
}
