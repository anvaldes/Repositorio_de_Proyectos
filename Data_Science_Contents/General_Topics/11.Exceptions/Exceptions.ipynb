{
 "cells": [
  {
   "attachments": {},
   "cell_type": "markdown",
   "metadata": {},
   "source": [
    "# Exceptions"
   ]
  },
  {
   "attachments": {},
   "cell_type": "markdown",
   "metadata": {},
   "source": [
    "By Alberto Valdés \n",
    "\n",
    "**Mail 1:** anvaldes@uc.cl \n",
    "\n",
    "**Mail 2:** alberto.valdes.gonzalez.96@gmail.com"
   ]
  },
  {
   "attachments": {},
   "cell_type": "markdown",
   "metadata": {},
   "source": [
    "**Robust programming** is a style of programming that focuses on handling unexpected termination and unexpected actions. To achieve this we will board in this notebook:\n",
    "\n",
    "1. Raising Exceptions.\n",
    "2. Try/Except.\n",
    "3. Else/Finally.\n",
    "4. Personalized exceptions."
   ]
  },
  {
   "attachments": {},
   "cell_type": "markdown",
   "metadata": {},
   "source": [
    "# 1. Raising exceptions"
   ]
  },
  {
   "cell_type": "code",
   "execution_count": 1,
   "metadata": {},
   "outputs": [],
   "source": [
    "def input_name(name):\n",
    "\n",
    "    is_alpha = name.isalpha()\n",
    "\n",
    "    if not is_alpha:\n",
    "        raise TypeError('Name must only have characters.')\n",
    "\n",
    "    else:\n",
    "        return name"
   ]
  },
  {
   "cell_type": "code",
   "execution_count": 2,
   "metadata": {},
   "outputs": [
    {
     "data": {
      "text/plain": [
       "'Alberto'"
      ]
     },
     "execution_count": 2,
     "metadata": {},
     "output_type": "execute_result"
    }
   ],
   "source": [
    "input_name('Alberto')"
   ]
  },
  {
   "cell_type": "code",
   "execution_count": 3,
   "metadata": {},
   "outputs": [
    {
     "ename": "TypeError",
     "evalue": "Name must only have characters.",
     "output_type": "error",
     "traceback": [
      "\u001b[0;31m---------------------------------------------------------------------------\u001b[0m",
      "\u001b[0;31mTypeError\u001b[0m                                 Traceback (most recent call last)",
      "Cell \u001b[0;32mIn[3], line 1\u001b[0m\n\u001b[0;32m----> 1\u001b[0m input_name(\u001b[39m'\u001b[39;49m\u001b[39mBeto7\u001b[39;49m\u001b[39m'\u001b[39;49m)\n",
      "Cell \u001b[0;32mIn[1], line 6\u001b[0m, in \u001b[0;36minput_name\u001b[0;34m(name)\u001b[0m\n\u001b[1;32m      3\u001b[0m is_alpha \u001b[39m=\u001b[39m name\u001b[39m.\u001b[39misalpha()\n\u001b[1;32m      5\u001b[0m \u001b[39mif\u001b[39;00m \u001b[39mnot\u001b[39;00m is_alpha:\n\u001b[0;32m----> 6\u001b[0m     \u001b[39mraise\u001b[39;00m \u001b[39mTypeError\u001b[39;00m(\u001b[39m'\u001b[39m\u001b[39mName must only have characters.\u001b[39m\u001b[39m'\u001b[39m)\n\u001b[1;32m      8\u001b[0m \u001b[39melse\u001b[39;00m:\n\u001b[1;32m      9\u001b[0m     \u001b[39mreturn\u001b[39;00m name\n",
      "\u001b[0;31mTypeError\u001b[0m: Name must only have characters."
     ]
    }
   ],
   "source": [
    "input_name('Beto7')"
   ]
  },
  {
   "attachments": {},
   "cell_type": "markdown",
   "metadata": {},
   "source": [
    "# 2. Try/Except"
   ]
  },
  {
   "cell_type": "code",
   "execution_count": 4,
   "metadata": {},
   "outputs": [],
   "source": [
    "def compute_utilities(incomes, expenses):\n",
    "\n",
    "    try:\n",
    "        inc = int(incomes)\n",
    "        exp = int(expenses)\n",
    "\n",
    "        return inc - exp\n",
    "    \n",
    "    except:\n",
    "        \n",
    "        print('Incomes and Expenses must be numbers.')\n",
    "\n",
    "        return None"
   ]
  },
  {
   "cell_type": "code",
   "execution_count": 5,
   "metadata": {},
   "outputs": [
    {
     "data": {
      "text/plain": [
       "1000"
      ]
     },
     "execution_count": 5,
     "metadata": {},
     "output_type": "execute_result"
    }
   ],
   "source": [
    "compute_utilities(2_000, 1_000)"
   ]
  },
  {
   "cell_type": "code",
   "execution_count": 6,
   "metadata": {},
   "outputs": [
    {
     "name": "stdout",
     "output_type": "stream",
     "text": [
      "Incomes and Expenses must be numbers.\n"
     ]
    }
   ],
   "source": [
    "compute_utilities('Hi', 1_000)"
   ]
  },
  {
   "attachments": {},
   "cell_type": "markdown",
   "metadata": {},
   "source": [
    "# 3. Else/Finally"
   ]
  },
  {
   "cell_type": "code",
   "execution_count": 7,
   "metadata": {},
   "outputs": [],
   "source": [
    "def positive_division(a, b):\n",
    "\n",
    "    a_int = isinstance(a, int)\n",
    "    b_int = isinstance(b, int)\n",
    "\n",
    "    if not (a_int and b_int):\n",
    "\n",
    "        raise TypeError(\"Numerator and denominator must be integers.\")\n",
    "    \n",
    "    if a < 0 or b < 0:\n",
    "\n",
    "        raise ValueError(\"Numerator and denominator must be positive.\")\n",
    "    \n",
    "    # ZeroDivisionError its not necessary define because its defined by default\n",
    "\n",
    "    c = a/b\n",
    "    \n",
    "    return c"
   ]
  },
  {
   "cell_type": "code",
   "execution_count": 8,
   "metadata": {},
   "outputs": [],
   "source": [
    "def process_div(a, b):\n",
    "\n",
    "    try:\n",
    "        division = positive_division(a, b)\n",
    "    \n",
    "    except ZeroDivisionError:\n",
    "        print('The divisor must be different to zero.')\n",
    "\n",
    "    except TypeError as error:\n",
    "        print('Error: ', error)\n",
    "        print('Check if numerator and denominator are integers.')\n",
    "    \n",
    "    except (ValueError, SyntaxError) as error:\n",
    "        print('Error:', error)\n",
    "        print('Check if numerator/denominator are negatives or if you have a sintax error.')\n",
    "    \n",
    "    else:\n",
    "        print('Everything is OK. There is no errors.')\n",
    "\n",
    "    finally:\n",
    "        print('Remember always uses exceptions to handle errors.')"
   ]
  },
  {
   "cell_type": "code",
   "execution_count": 9,
   "metadata": {},
   "outputs": [
    {
     "name": "stdout",
     "output_type": "stream",
     "text": [
      "Everything is OK. There is no errors.\n",
      "Remember always uses exceptions to handle errors.\n"
     ]
    }
   ],
   "source": [
    "process_div(1, 2)"
   ]
  },
  {
   "cell_type": "code",
   "execution_count": 10,
   "metadata": {},
   "outputs": [
    {
     "name": "stdout",
     "output_type": "stream",
     "text": [
      "The divisor must be different to zero.\n",
      "Remember always uses exceptions to handle errors.\n"
     ]
    }
   ],
   "source": [
    "process_div(1, 0)"
   ]
  },
  {
   "cell_type": "code",
   "execution_count": 11,
   "metadata": {},
   "outputs": [
    {
     "name": "stdout",
     "output_type": "stream",
     "text": [
      "Error:  Numerator and denominator must be integers.\n",
      "Check if numerator and denominator are integers.\n",
      "Remember always uses exceptions to handle errors.\n"
     ]
    }
   ],
   "source": [
    "process_div(1, 1.1)"
   ]
  },
  {
   "cell_type": "code",
   "execution_count": 12,
   "metadata": {},
   "outputs": [
    {
     "name": "stdout",
     "output_type": "stream",
     "text": [
      "Error: Numerator and denominator must be positive.\n",
      "Check if numerator/denominator are negatives or if you have a sintax error.\n",
      "Remember always uses exceptions to handle errors.\n"
     ]
    }
   ],
   "source": [
    "process_div(1, -1)"
   ]
  },
  {
   "attachments": {},
   "cell_type": "markdown",
   "metadata": {},
   "source": [
    "# 4. Personalized Exceptions"
   ]
  },
  {
   "cell_type": "code",
   "execution_count": 13,
   "metadata": {},
   "outputs": [],
   "source": [
    "class Exception1(Exception):\n",
    "\n",
    "    # This exception is equal to another exception\n",
    "\n",
    "    pass\n",
    "\n",
    "class Exception2(Exception):\n",
    "\n",
    "    def __init__(self, a, b):\n",
    "        super().__init__(f\"The numerator ({a}) or the denominator ({b}) isn't integer\")"
   ]
  },
  {
   "cell_type": "code",
   "execution_count": 14,
   "metadata": {},
   "outputs": [],
   "source": [
    "def positive_division(a, b):\n",
    "\n",
    "    a_int = isinstance(a, int)\n",
    "    b_int = isinstance(b, int)\n",
    "\n",
    "    if not (a_int and b_int):\n",
    "\n",
    "        raise Exception2(a, b)\n",
    "    \n",
    "    if a < 0 or b < 0:\n",
    "\n",
    "        raise ValueError(\"Numerator and denominator must be positive.\")\n",
    "    \n",
    "    # ZeroDivisionError its not necessary define because its defined by default\n",
    "\n",
    "    c = a/b\n",
    "    \n",
    "    return c"
   ]
  },
  {
   "cell_type": "code",
   "execution_count": 15,
   "metadata": {},
   "outputs": [
    {
     "data": {
      "text/plain": [
       "1.0"
      ]
     },
     "execution_count": 15,
     "metadata": {},
     "output_type": "execute_result"
    }
   ],
   "source": [
    "positive_division(1, 1)"
   ]
  },
  {
   "cell_type": "code",
   "execution_count": 16,
   "metadata": {},
   "outputs": [
    {
     "ename": "ValueError",
     "evalue": "Numerator and denominator must be positive.",
     "output_type": "error",
     "traceback": [
      "\u001b[0;31m---------------------------------------------------------------------------\u001b[0m",
      "\u001b[0;31mValueError\u001b[0m                                Traceback (most recent call last)",
      "Cell \u001b[0;32mIn[16], line 1\u001b[0m\n\u001b[0;32m----> 1\u001b[0m positive_division(\u001b[39m1\u001b[39;49m, \u001b[39m-\u001b[39;49m\u001b[39m1\u001b[39;49m)\n",
      "Cell \u001b[0;32mIn[14], line 12\u001b[0m, in \u001b[0;36mpositive_division\u001b[0;34m(a, b)\u001b[0m\n\u001b[1;32m      8\u001b[0m     \u001b[39mraise\u001b[39;00m Exception2(a, b)\n\u001b[1;32m     10\u001b[0m \u001b[39mif\u001b[39;00m a \u001b[39m<\u001b[39m \u001b[39m0\u001b[39m \u001b[39mor\u001b[39;00m b \u001b[39m<\u001b[39m \u001b[39m0\u001b[39m:\n\u001b[0;32m---> 12\u001b[0m     \u001b[39mraise\u001b[39;00m \u001b[39mValueError\u001b[39;00m(\u001b[39m\"\u001b[39m\u001b[39mNumerator and denominator must be positive.\u001b[39m\u001b[39m\"\u001b[39m)\n\u001b[1;32m     14\u001b[0m \u001b[39m# ZeroDivisionError its not necessary define because its defined by default\u001b[39;00m\n\u001b[1;32m     16\u001b[0m c \u001b[39m=\u001b[39m a\u001b[39m/\u001b[39mb\n",
      "\u001b[0;31mValueError\u001b[0m: Numerator and denominator must be positive."
     ]
    }
   ],
   "source": [
    "positive_division(1, -1)"
   ]
  },
  {
   "cell_type": "code",
   "execution_count": 17,
   "metadata": {},
   "outputs": [
    {
     "ename": "Exception2",
     "evalue": "The numerator (1) or the denominator (1.1) isn't integer",
     "output_type": "error",
     "traceback": [
      "\u001b[0;31m---------------------------------------------------------------------------\u001b[0m",
      "\u001b[0;31mException2\u001b[0m                                Traceback (most recent call last)",
      "Cell \u001b[0;32mIn[17], line 1\u001b[0m\n\u001b[0;32m----> 1\u001b[0m positive_division(\u001b[39m1\u001b[39;49m, \u001b[39m1.1\u001b[39;49m)\n",
      "Cell \u001b[0;32mIn[14], line 8\u001b[0m, in \u001b[0;36mpositive_division\u001b[0;34m(a, b)\u001b[0m\n\u001b[1;32m      4\u001b[0m b_int \u001b[39m=\u001b[39m \u001b[39misinstance\u001b[39m(b, \u001b[39mint\u001b[39m)\n\u001b[1;32m      6\u001b[0m \u001b[39mif\u001b[39;00m \u001b[39mnot\u001b[39;00m (a_int \u001b[39mand\u001b[39;00m b_int):\n\u001b[0;32m----> 8\u001b[0m     \u001b[39mraise\u001b[39;00m Exception2(a, b)\n\u001b[1;32m     10\u001b[0m \u001b[39mif\u001b[39;00m a \u001b[39m<\u001b[39m \u001b[39m0\u001b[39m \u001b[39mor\u001b[39;00m b \u001b[39m<\u001b[39m \u001b[39m0\u001b[39m:\n\u001b[1;32m     12\u001b[0m     \u001b[39mraise\u001b[39;00m \u001b[39mValueError\u001b[39;00m(\u001b[39m\"\u001b[39m\u001b[39mNumerator and denominator must be positive.\u001b[39m\u001b[39m\"\u001b[39m)\n",
      "\u001b[0;31mException2\u001b[0m: The numerator (1) or the denominator (1.1) isn't integer"
     ]
    }
   ],
   "source": [
    "positive_division(1, 1.1)"
   ]
  },
  {
   "cell_type": "code",
   "execution_count": null,
   "metadata": {},
   "outputs": [],
   "source": []
  }
 ],
 "metadata": {
  "kernelspec": {
   "display_name": "data_science_env",
   "language": "python",
   "name": "python3"
  },
  "language_info": {
   "codemirror_mode": {
    "name": "ipython",
    "version": 3
   },
   "file_extension": ".py",
   "mimetype": "text/x-python",
   "name": "python",
   "nbconvert_exporter": "python",
   "pygments_lexer": "ipython3",
   "version": "3.8.15"
  },
  "orig_nbformat": 4,
  "vscode": {
   "interpreter": {
    "hash": "33c1fafa1f722512bb95ff2288ca1754d2d15925c091a4ce51aceaa93d9dc801"
   }
  }
 },
 "nbformat": 4,
 "nbformat_minor": 2
}
