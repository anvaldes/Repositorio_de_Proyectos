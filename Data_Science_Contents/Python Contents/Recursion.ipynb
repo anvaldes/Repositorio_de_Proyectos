{
 "cells": [
  {
   "cell_type": "markdown",
   "metadata": {},
   "source": [
    "# $Recursión$"
   ]
  },
  {
   "cell_type": "markdown",
   "metadata": {},
   "source": [
    "Python (lenguaje en el cual la mayoria de las veces programamos) soporta recursión y por esta razón revisaremos este topico para interiorizarnos más al respecto."
   ]
  },
  {
   "cell_type": "markdown",
   "metadata": {},
   "source": [
    "**¿Existen lenguajes de programación que no soportan recursión?**"
   ]
  },
  {
   "cell_type": "markdown",
   "metadata": {},
   "source": [
    "Si, lenguajes más antiguos como Fortran no soportan recursión aunque la mayoría de los lenguajes más nuevos si lo soportan."
   ]
  },
  {
   "cell_type": "markdown",
   "metadata": {},
   "source": [
    "**¿Que es recursión?**"
   ]
  },
  {
   "cell_type": "markdown",
   "metadata": {},
   "source": [
    "Recursión en pocas palabras es cuando una función se llama a si misma. \n",
    "\n",
    "Cuando usamos recursión siempre hay que tener cuidado con que la función se quede en un loop infinito. Otro punto importante de la recursión es que python solo acepta un número máximo de iteraciones por recursión (veremos esto con un ejemplo).\n",
    "\n",
    "Sin embargo, cuando se escribe correctamente una función recursiva, el resultado es una función elegante, de pocas lineas de codigo y muy entendible. \n",
    "\n",
    "¿Es más rápido trabajar con recursión o con un ciclo for? Lo veremos..."
   ]
  },
  {
   "cell_type": "markdown",
   "metadata": {},
   "source": [
    "### Ejemplo 1: Factorial"
   ]
  },
  {
   "cell_type": "markdown",
   "metadata": {},
   "source": [
    "Recordemos que el factorial cumple con la siguiente propiedad: \n",
    "\n",
    "$ n !  = n \\cdot (n-1) ! $\n",
    "\n",
    "Y que además $ 1! = 1$"
   ]
  },
  {
   "cell_type": "code",
   "execution_count": 1,
   "metadata": {},
   "outputs": [],
   "source": [
    "def factorial(n):\n",
    "  if n == 1:\n",
    "    return 1\n",
    "  else:\n",
    "    return n*factorial(n-1)"
   ]
  },
  {
   "cell_type": "code",
   "execution_count": 2,
   "metadata": {},
   "outputs": [
    {
     "name": "stdout",
     "output_type": "stream",
     "text": [
      "El factorial de 1 es 1\n",
      "El factorial de 2 es 2\n",
      "El factorial de 3 es 6\n",
      "El factorial de 4 es 24\n",
      "El factorial de 5 es 120\n",
      "El factorial de 6 es 720\n",
      "El factorial de 7 es 5040\n",
      "El factorial de 8 es 40320\n",
      "El factorial de 9 es 362880\n",
      "El factorial de 10 es 3628800\n"
     ]
    }
   ],
   "source": [
    "for i in range(10):\n",
    "    print(f'El factorial de {i+1} es {factorial(i+1)}')"
   ]
  },
  {
   "cell_type": "markdown",
   "metadata": {},
   "source": [
    "**Comentario:** Notemos que no solo necesitamos plasmar la relación recursiva, sino también la existencia de un _caso base_. ¿Cual es la importancia del caso base? Permite que el loop termine en un número finito de iteraciones."
   ]
  },
  {
   "cell_type": "markdown",
   "metadata": {},
   "source": [
    "### Ejemplo 2: Sucesión de Fibonacci"
   ]
  },
  {
   "cell_type": "markdown",
   "metadata": {},
   "source": [
    "Sabemos que la sucesión de Fibonacci cumple con que:\n",
    "\n",
    "$ F_{n} = F_{n-1} + F_{n-2} $\n",
    "\n",
    "Donde $ F_0 = 1 \\ $ y $ \\ F_1 = 1 $"
   ]
  },
  {
   "cell_type": "code",
   "execution_count": 3,
   "metadata": {},
   "outputs": [],
   "source": [
    "def fibonacci(n):\n",
    "  if n == 0:\n",
    "    return 0\n",
    "  elif n == 1:\n",
    "    return 1\n",
    "  else:\n",
    "    return fibonacci(n-1) + fibonacci(n-2)"
   ]
  },
  {
   "cell_type": "code",
   "execution_count": 4,
   "metadata": {},
   "outputs": [
    {
     "name": "stdout",
     "output_type": "stream",
     "text": [
      "El termino 0 de la secuencia de Fibonacci es: 0\n",
      "El termino 1 de la secuencia de Fibonacci es: 1\n",
      "El termino 2 de la secuencia de Fibonacci es: 1\n",
      "El termino 3 de la secuencia de Fibonacci es: 2\n",
      "El termino 4 de la secuencia de Fibonacci es: 3\n",
      "El termino 5 de la secuencia de Fibonacci es: 5\n",
      "El termino 6 de la secuencia de Fibonacci es: 8\n",
      "El termino 7 de la secuencia de Fibonacci es: 13\n",
      "El termino 8 de la secuencia de Fibonacci es: 21\n",
      "El termino 9 de la secuencia de Fibonacci es: 34\n",
      "El termino 10 de la secuencia de Fibonacci es: 55\n",
      "El termino 11 de la secuencia de Fibonacci es: 89\n",
      "El termino 12 de la secuencia de Fibonacci es: 144\n",
      "El termino 13 de la secuencia de Fibonacci es: 233\n",
      "El termino 14 de la secuencia de Fibonacci es: 377\n",
      "El termino 15 de la secuencia de Fibonacci es: 610\n",
      "El termino 16 de la secuencia de Fibonacci es: 987\n",
      "El termino 17 de la secuencia de Fibonacci es: 1597\n",
      "El termino 18 de la secuencia de Fibonacci es: 2584\n",
      "El termino 19 de la secuencia de Fibonacci es: 4181\n",
      "El termino 20 de la secuencia de Fibonacci es: 6765\n"
     ]
    }
   ],
   "source": [
    "for i in range(21):\n",
    "    print(f'El termino {i} de la secuencia de Fibonacci es: {fibonacci(i)}')"
   ]
  },
  {
   "cell_type": "markdown",
   "metadata": {},
   "source": [
    "### Ejemplo 3: Sumatoria"
   ]
  },
  {
   "cell_type": "markdown",
   "metadata": {},
   "source": [
    "Queremos calcular la $n$-sima suma parcial de la sucesión $ \\lbrace \\frac{1}{n^2} \\rbrace $. Es decir, queremos calcular $S_n$, donde:\n",
    "\n",
    "$ S_n = \\sum_{i = 1}^n \\frac{1}{i^2} = \\frac{1}{1} + \\frac{1}{4} + \\frac{1}{9} + ... + \\frac{1}{n^2}  $"
   ]
  },
  {
   "cell_type": "markdown",
   "metadata": {},
   "source": [
    "Como se observa, ahora no nos entregan la relación recursiva ni el caso base. Pero, ¿Eso significa que no existen? No, bosotros debemos calcular ambas cosas. "
   ]
  },
  {
   "cell_type": "markdown",
   "metadata": {},
   "source": [
    "Notemos que: \n",
    "\n",
    "$ S_1 = \\sum_{i = 1}^1 \\frac{1}{i^2} = \\frac{1}{1^2} = 1 \\ \\Rightarrow \\ \\boxed{S_1 = 1} $"
   ]
  },
  {
   "cell_type": "markdown",
   "metadata": {},
   "source": [
    "Por otro lado:"
   ]
  },
  {
   "cell_type": "markdown",
   "metadata": {},
   "source": [
    "$ S_n = \\sum_{i = 1}^n \\frac{1}{i^2} = \\sum_{i = 1}^{n-1} \\frac{1}{i^2} + \\frac{1}{n^2} = S_{n-1} + \\frac{1}{n^2} \\ \\Rightarrow \\ \\boxed{S_n = S_{n-1} + \\frac{1}{n^2}}  $ "
   ]
  },
  {
   "cell_type": "code",
   "execution_count": 5,
   "metadata": {},
   "outputs": [],
   "source": [
    "def sumatoria(n):\n",
    "  if n == 1:\n",
    "    return 1\n",
    "  else:\n",
    "    return sumatoria(n-1) + (1/(n**2))"
   ]
  },
  {
   "cell_type": "code",
   "execution_count": 6,
   "metadata": {},
   "outputs": [
    {
     "name": "stdout",
     "output_type": "stream",
     "text": [
      "La sumatoría hasta el termino 1 es: 1\n",
      "La sumatoría hasta el termino 2 es: 1.25\n",
      "La sumatoría hasta el termino 3 es: 1.3611111111111112\n",
      "La sumatoría hasta el termino 4 es: 1.4236111111111112\n",
      "La sumatoría hasta el termino 5 es: 1.4636111111111112\n",
      "La sumatoría hasta el termino 6 es: 1.4913888888888889\n",
      "La sumatoría hasta el termino 7 es: 1.511797052154195\n",
      "La sumatoría hasta el termino 8 es: 1.527422052154195\n",
      "La sumatoría hasta el termino 9 es: 1.5397677311665408\n",
      "La sumatoría hasta el termino 10 es: 1.5497677311665408\n",
      "La sumatoría hasta el termino 11 es: 1.558032193976458\n",
      "La sumatoría hasta el termino 12 es: 1.5649766384209025\n",
      "La sumatoría hasta el termino 13 es: 1.5708937981842162\n",
      "La sumatoría hasta el termino 14 es: 1.5759958390005426\n",
      "La sumatoría hasta el termino 15 es: 1.580440283444987\n",
      "La sumatoría hasta el termino 16 es: 1.584346533444987\n",
      "La sumatoría hasta el termino 17 es: 1.587806741057444\n",
      "La sumatoría hasta el termino 18 es: 1.5908931608105303\n",
      "La sumatoría hasta el termino 19 es: 1.5936632439130234\n",
      "La sumatoría hasta el termino 20 es: 1.5961632439130233\n"
     ]
    }
   ],
   "source": [
    "for i in range(20):\n",
    "    print(f'La sumatoría hasta el termino {i+1} es: {sumatoria(i+1)}')"
   ]
  },
  {
   "cell_type": "markdown",
   "metadata": {},
   "source": [
    "**Nota:** Este problema se llama \"Problema de Basilea\" y fue el que lanzo a la fama al matemático Euler. El resultado que encontro Euler fue que:\n",
    "\n",
    "$ \\lim_{n \\to \\infty} S_n = \\sum_{i=1}^{\\infty} \\frac{1}{i^2} = \\cfrac{\\pi^2}{6} $"
   ]
  },
  {
   "cell_type": "code",
   "execution_count": 7,
   "metadata": {},
   "outputs": [
    {
     "data": {
      "text/plain": [
       "1.6439345666815615"
      ]
     },
     "execution_count": 7,
     "metadata": {},
     "output_type": "execute_result"
    }
   ],
   "source": [
    "sumatoria(1_000)"
   ]
  },
  {
   "cell_type": "code",
   "execution_count": 8,
   "metadata": {},
   "outputs": [],
   "source": [
    "import math"
   ]
  },
  {
   "cell_type": "code",
   "execution_count": 9,
   "metadata": {},
   "outputs": [
    {
     "data": {
      "text/plain": [
       "1.6449340668482264"
      ]
     },
     "execution_count": 9,
     "metadata": {},
     "output_type": "execute_result"
    }
   ],
   "source": [
    "((math.pi)**2)/6"
   ]
  },
  {
   "cell_type": "markdown",
   "metadata": {},
   "source": [
    "### Ejemplo 4: Suma de los digitos de un número"
   ]
  },
  {
   "cell_type": "code",
   "execution_count": 10,
   "metadata": {},
   "outputs": [],
   "source": [
    "number = '123456789'"
   ]
  },
  {
   "cell_type": "code",
   "execution_count": 11,
   "metadata": {},
   "outputs": [
    {
     "data": {
      "text/plain": [
       "'9'"
      ]
     },
     "execution_count": 11,
     "metadata": {},
     "output_type": "execute_result"
    }
   ],
   "source": [
    "number[-1:]"
   ]
  },
  {
   "cell_type": "code",
   "execution_count": 12,
   "metadata": {},
   "outputs": [
    {
     "data": {
      "text/plain": [
       "'12345678'"
      ]
     },
     "execution_count": 12,
     "metadata": {},
     "output_type": "execute_result"
    }
   ],
   "source": [
    "number[:-1]"
   ]
  },
  {
   "cell_type": "code",
   "execution_count": 13,
   "metadata": {},
   "outputs": [],
   "source": [
    "def sum_digits(number):\n",
    "    if len(number) == 1:\n",
    "        return int(number)\n",
    "    else:\n",
    "        num_1 = number[-1:]\n",
    "        num_2 = number[:-1]\n",
    "        return int(num_1) + sum_digits(num_2)"
   ]
  },
  {
   "cell_type": "code",
   "execution_count": 14,
   "metadata": {},
   "outputs": [
    {
     "data": {
      "text/plain": [
       "2"
      ]
     },
     "execution_count": 14,
     "metadata": {},
     "output_type": "execute_result"
    }
   ],
   "source": [
    "sum_digits('11')"
   ]
  },
  {
   "cell_type": "code",
   "execution_count": 15,
   "metadata": {},
   "outputs": [
    {
     "data": {
      "text/plain": [
       "6"
      ]
     },
     "execution_count": 15,
     "metadata": {},
     "output_type": "execute_result"
    }
   ],
   "source": [
    "sum_digits('123')"
   ]
  },
  {
   "cell_type": "code",
   "execution_count": 16,
   "metadata": {},
   "outputs": [
    {
     "data": {
      "text/plain": [
       "19"
      ]
     },
     "execution_count": 16,
     "metadata": {},
     "output_type": "execute_result"
    }
   ],
   "source": [
    "sum_digits('3277')"
   ]
  },
  {
   "cell_type": "markdown",
   "metadata": {},
   "source": [
    "### Ejemplo 5: Ingresar datos de manera robusta"
   ]
  },
  {
   "cell_type": "markdown",
   "metadata": {},
   "source": [
    "Por ejemplo, queremos que un usuario ingrese un número y que el programa este escrito de manera robusta. ¿Qué significa de manera robusta? Significa que si el usuario se equivoca o comete un error el programa no se caiga, y siga funcionando mostrando alternativas. \n",
    "\n",
    "Una buena forma de lograr esto es combinando recursión con Try/Except."
   ]
  },
  {
   "cell_type": "code",
   "execution_count": 17,
   "metadata": {},
   "outputs": [],
   "source": [
    "def ingresar_numero():\n",
    "    inp = input(\"Estimado usuario, ingrese un número: \")\n",
    "\n",
    "    try:\n",
    "        num = int(inp)\n",
    "        print(\"Excelente! Ingreso de manera correcta un número.\")\n",
    "        return num\n",
    "        \n",
    "    except:\n",
    "        print(\"Input incorrecto.\")\n",
    "        print(\"------------------\")\n",
    "        return ingresar_numero()"
   ]
  },
  {
   "cell_type": "code",
   "execution_count": 18,
   "metadata": {},
   "outputs": [
    {
     "name": "stdout",
     "output_type": "stream",
     "text": [
      "Input incorrecto.\n",
      "------------------\n",
      "Input incorrecto.\n",
      "------------------\n",
      "Excelente! Ingreso de manera correcta un número.\n"
     ]
    }
   ],
   "source": [
    "user_input = ingresar_numero()"
   ]
  },
  {
   "cell_type": "markdown",
   "metadata": {},
   "source": [
    "### Velocidad"
   ]
  },
  {
   "cell_type": "code",
   "execution_count": 19,
   "metadata": {},
   "outputs": [],
   "source": [
    "def factorial_for(n):\n",
    "    mul = 1\n",
    "    for i in range(n):\n",
    "        mul = mul*(n-i)\n",
    "    return mul"
   ]
  },
  {
   "cell_type": "code",
   "execution_count": 20,
   "metadata": {},
   "outputs": [],
   "source": [
    "import time"
   ]
  },
  {
   "cell_type": "code",
   "execution_count": 21,
   "metadata": {},
   "outputs": [
    {
     "name": "stdout",
     "output_type": "stream",
     "text": [
      "En correr 1.000 veces factorial de 1.000 construido recursivamente nos demoramos 0.4 segundos.\n"
     ]
    }
   ],
   "source": [
    "start_rec = time.time()\n",
    "\n",
    "for i in range(1_000):\n",
    "    factorial(1_000)\n",
    "\n",
    "end_rec = time.time()\n",
    "\n",
    "delta_rec = round((end_rec - start_rec), 2)\n",
    "\n",
    "print(f\"En correr 1.000 veces factorial de 1.000 construido recursivamente nos demoramos {delta_rec} segundos.\")"
   ]
  },
  {
   "cell_type": "code",
   "execution_count": 22,
   "metadata": {},
   "outputs": [
    {
     "name": "stdout",
     "output_type": "stream",
     "text": [
      "En correr 1.000 veces factorial de 1.000 construido con ciclo for nos demoramos 0.29 segundos.\n"
     ]
    }
   ],
   "source": [
    "start_for = time.time()\n",
    "\n",
    "for i in range(1_000):\n",
    "    factorial_for(1_000)\n",
    "\n",
    "end_for = time.time()\n",
    "\n",
    "delta_for = round((end_for - start_for), 2)\n",
    "\n",
    "print(f\"En correr 1.000 veces factorial de 1.000 construido con ciclo for nos demoramos {delta_for} segundos.\")"
   ]
  },
  {
   "cell_type": "markdown",
   "metadata": {},
   "source": [
    "**¿Que nos demuestra esto?**\n",
    "\n",
    "Que no necesariamente construir una función recursivamente es más eficiente computacionalmente. Sin embargo, los resultados son más elegantes y más rapidos de leer por otra persona que tome el codigo. Dicho esto, es importante considerar usar recursión solo cuando sea necesario, tiene que verse como una **herramienta** y usarla en el contexto adecuado de modo que nos permita hacer de mejor manera nuestro trabajo. "
   ]
  },
  {
   "cell_type": "markdown",
   "metadata": {},
   "source": [
    "### Número máximo de recursiones"
   ]
  },
  {
   "cell_type": "code",
   "execution_count": 23,
   "metadata": {},
   "outputs": [
    {
     "ename": "",
     "evalue": "",
     "output_type": "error",
     "traceback": [
      "\u001b[1;31mCanceled future for execute_request message before replies were done"
     ]
    },
    {
     "ename": "",
     "evalue": "",
     "output_type": "error",
     "traceback": [
      "El Kernel se bloqueó al ejecutar código en la celda actual o en una celda anterior. Revise el código de las celdas para identificar una posible causa del error. Haga clic <a href='https://aka.ms/vscodeJupyterKernelCrash'>aquí</a> para obtener más información. Vea el [registro] de Jupyter (command:jupyter.viewOutput) para obtener más detalles."
     ]
    }
   ],
   "source": [
    "factorial(10_000)"
   ]
  }
 ],
 "metadata": {
  "kernelspec": {
   "display_name": "Python 3.9.12 ('base')",
   "language": "python",
   "name": "python3"
  },
  "language_info": {
   "codemirror_mode": {
    "name": "ipython",
    "version": 3
   },
   "file_extension": ".py",
   "mimetype": "text/x-python",
   "name": "python",
   "nbconvert_exporter": "python",
   "pygments_lexer": "ipython3",
   "version": "3.9.12"
  },
  "orig_nbformat": 4,
  "vscode": {
   "interpreter": {
    "hash": "2f8c485831047b2cebf111481919a8482d14cdda0a4d2016f96df03a335ecfa0"
   }
  }
 },
 "nbformat": 4,
 "nbformat_minor": 2
}
