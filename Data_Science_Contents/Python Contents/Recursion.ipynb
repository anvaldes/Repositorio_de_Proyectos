{
 "cells": [
  {
   "cell_type": "markdown",
   "metadata": {},
   "source": [
    "# $Recursion$"
   ]
  },
  {
   "cell_type": "markdown",
   "metadata": {},
   "source": [
    "By Alberto Valdés \n",
    "\n",
    "**Mail 1:** anvaldes@uc.cl \n",
    "\n",
    "**Mail 2:** alberto.valdes.gonzalez.96@gmail.com"
   ]
  },
  {
   "cell_type": "markdown",
   "metadata": {},
   "source": [
    "Python (Programming Language which the most of time we programming) supports recursion y for this reason we will review this topic."
   ]
  },
  {
   "cell_type": "markdown",
   "metadata": {},
   "source": [
    "**¿Do exists Programming Language which does not support recursion?**"
   ]
  },
  {
   "cell_type": "markdown",
   "metadata": {},
   "source": [
    "Yes, older languages like Fortran does not support recursion although most newer languages do."
   ]
  },
  {
   "cell_type": "markdown",
   "metadata": {},
   "source": [
    "**What is recursion?**"
   ]
  },
  {
   "cell_type": "markdown",
   "metadata": {},
   "source": [
    "Recursion in a nutshell is when a function calls itself.\n",
    "\n",
    "When we use recursion, we must always be careful that the function stays in an infinite loop. Another important point about recursion is that python only accepts a maximum number of iterations per recursion (we'll see this with an example).\n",
    "\n",
    "However, when a recursive function is written correctly, the result is an elegant function, with few lines of code and very understandable.\n",
    "\n",
    "Is it faster to work with recursion or with a for loop? We'll see..."
   ]
  },
  {
   "cell_type": "markdown",
   "metadata": {},
   "source": [
    "### Example 1: Factorial"
   ]
  },
  {
   "cell_type": "markdown",
   "metadata": {},
   "source": [
    "Recall that the factorial satisfies the following property:\n",
    "\n",
    "$n! = n \\cdot (n-1) ! $\n",
    "\n",
    "And what's more $1! = 1$"
   ]
  },
  {
   "cell_type": "code",
   "execution_count": 2,
   "metadata": {},
   "outputs": [],
   "source": [
    "def factorial(n):\n",
    "  if n == 1:\n",
    "    return 1\n",
    "  else:\n",
    "    return n*factorial(n-1)"
   ]
  },
  {
   "cell_type": "code",
   "execution_count": 3,
   "metadata": {},
   "outputs": [
    {
     "name": "stdout",
     "output_type": "stream",
     "text": [
      "The factorial of 1 is 1\n",
      "The factorial of 2 is 2\n",
      "The factorial of 3 is 6\n",
      "The factorial of 4 is 24\n",
      "The factorial of 5 is 120\n",
      "The factorial of 6 is 720\n",
      "The factorial of 7 is 5040\n",
      "The factorial of 8 is 40320\n",
      "The factorial of 9 is 362880\n",
      "The factorial of 10 is 3628800\n"
     ]
    }
   ],
   "source": [
    "for i in range(10):\n",
    "    print(f'The factorial of {i+1} is {factorial(i+1)}')"
   ]
  },
  {
   "cell_type": "markdown",
   "metadata": {},
   "source": [
    "**Comment:** Note that we not only need to capture the recursive relation, but also the existence of a _base case_. What is the importance of the base case? Let the loop finish in a finite number of iterations."
   ]
  },
  {
   "cell_type": "markdown",
   "metadata": {},
   "source": [
    "### Example 2: Fibonacci Sequence"
   ]
  },
  {
   "cell_type": "markdown",
   "metadata": {},
   "source": [
    "We know that the Fibonacci sequence satisfies that:\n",
    "\n",
    "$ F_{n} = F_{n-1} + F_{n-2} $\n",
    "\n",
    "Where $ F_0 = 1 \\ $ y $ \\ F_1 = 1 $"
   ]
  },
  {
   "cell_type": "code",
   "execution_count": 4,
   "metadata": {},
   "outputs": [],
   "source": [
    "def fibonacci(n):\n",
    "  if n == 0:\n",
    "    return 0\n",
    "  elif n == 1:\n",
    "    return 1\n",
    "  else:\n",
    "    return fibonacci(n-1) + fibonacci(n-2)"
   ]
  },
  {
   "cell_type": "code",
   "execution_count": 5,
   "metadata": {},
   "outputs": [
    {
     "name": "stdout",
     "output_type": "stream",
     "text": [
      "The term 0 of the Fibanacci sequence is: 0\n",
      "The term 1 of the Fibanacci sequence is: 1\n",
      "The term 2 of the Fibanacci sequence is: 1\n",
      "The term 3 of the Fibanacci sequence is: 2\n",
      "The term 4 of the Fibanacci sequence is: 3\n",
      "The term 5 of the Fibanacci sequence is: 5\n",
      "The term 6 of the Fibanacci sequence is: 8\n",
      "The term 7 of the Fibanacci sequence is: 13\n",
      "The term 8 of the Fibanacci sequence is: 21\n",
      "The term 9 of the Fibanacci sequence is: 34\n",
      "The term 10 of the Fibanacci sequence is: 55\n",
      "The term 11 of the Fibanacci sequence is: 89\n",
      "The term 12 of the Fibanacci sequence is: 144\n",
      "The term 13 of the Fibanacci sequence is: 233\n",
      "The term 14 of the Fibanacci sequence is: 377\n",
      "The term 15 of the Fibanacci sequence is: 610\n",
      "The term 16 of the Fibanacci sequence is: 987\n",
      "The term 17 of the Fibanacci sequence is: 1597\n",
      "The term 18 of the Fibanacci sequence is: 2584\n",
      "The term 19 of the Fibanacci sequence is: 4181\n",
      "The term 20 of the Fibanacci sequence is: 6765\n"
     ]
    }
   ],
   "source": [
    "for i in range(21):\n",
    "    print(f'The term {i} of the Fibanacci sequence is: {fibonacci(i)}')"
   ]
  },
  {
   "cell_type": "markdown",
   "metadata": {},
   "source": [
    "### Example 3: Sum"
   ]
  },
  {
   "cell_type": "markdown",
   "metadata": {},
   "source": [
    "We want to compute the $n$-th partial sum of the sequence $ \\lbrace \\frac{1}{n^2} \\rbrace $. That is, we want to calculate $S_n$, where:\n",
    "\n",
    "\n",
    "$ S_n = \\sum_{i = 1}^n \\frac{1}{i^2} = \\frac{1}{1} + \\frac{1}{4} + \\frac{1}{9} + ... + \\frac{1}{n^2}  $"
   ]
  },
  {
   "cell_type": "markdown",
   "metadata": {},
   "source": [
    "As can be seen, now we are not given the recursive relation or the base case. But does that mean they don't exist? No, we must calculate both."
   ]
  },
  {
   "cell_type": "markdown",
   "metadata": {},
   "source": [
    "Let us note that:\n",
    "\n",
    "$ S_1 = \\sum_{i = 1}^1 \\frac{1}{i^2} = \\frac{1}{1^2} = 1 \\ \\Rightarrow \\ \\boxed{S_1 = 1} $"
   ]
  },
  {
   "cell_type": "markdown",
   "metadata": {},
   "source": [
    "Secondly:"
   ]
  },
  {
   "cell_type": "markdown",
   "metadata": {},
   "source": [
    "$ S_n = \\sum_{i = 1}^n \\frac{1}{i^2} = \\sum_{i = 1}^{n-1} \\frac{1}{i^2} + \\frac{1}{n^2} = S_{n-1} + \\frac{1}{n^2} \\ \\Rightarrow \\ \\boxed{S_n = S_{n-1} + \\frac{1}{n^2}}  $ "
   ]
  },
  {
   "cell_type": "code",
   "execution_count": 8,
   "metadata": {},
   "outputs": [],
   "source": [
    "def sum(n):\n",
    "  if n == 1:\n",
    "    return 1\n",
    "  else:\n",
    "    return sum(n-1) + (1/(n**2))"
   ]
  },
  {
   "cell_type": "code",
   "execution_count": 9,
   "metadata": {},
   "outputs": [
    {
     "name": "stdout",
     "output_type": "stream",
     "text": [
      "The sum up to term 1 is: 1\n",
      "The sum up to term 2 is: 1.25\n",
      "The sum up to term 3 is: 1.3611111111111112\n",
      "The sum up to term 4 is: 1.4236111111111112\n",
      "The sum up to term 5 is: 1.4636111111111112\n",
      "The sum up to term 6 is: 1.4913888888888889\n",
      "The sum up to term 7 is: 1.511797052154195\n",
      "The sum up to term 8 is: 1.527422052154195\n",
      "The sum up to term 9 is: 1.5397677311665408\n",
      "The sum up to term 10 is: 1.5497677311665408\n",
      "The sum up to term 11 is: 1.558032193976458\n",
      "The sum up to term 12 is: 1.5649766384209025\n",
      "The sum up to term 13 is: 1.5708937981842162\n",
      "The sum up to term 14 is: 1.5759958390005426\n",
      "The sum up to term 15 is: 1.580440283444987\n",
      "The sum up to term 16 is: 1.584346533444987\n",
      "The sum up to term 17 is: 1.587806741057444\n",
      "The sum up to term 18 is: 1.5908931608105303\n",
      "The sum up to term 19 is: 1.5936632439130234\n",
      "The sum up to term 20 is: 1.5961632439130233\n"
     ]
    }
   ],
   "source": [
    "for i in range(20):\n",
    "    print(f'The sum up to term {i+1} is: {sum(i+1)}')"
   ]
  },
  {
   "cell_type": "markdown",
   "metadata": {},
   "source": [
    "**Note:** This problem is called the \"Basel Problem\" and it was the one that made the mathematician Euler famous. The result that Euler found was that:\n",
    "\n",
    "$ \\lim_{n \\to \\infty} S_n = \\sum_{i=1}^{\\infty} \\frac{1}{i^2} = \\cfrac{\\pi^2}{6} $"
   ]
  },
  {
   "cell_type": "code",
   "execution_count": 10,
   "metadata": {},
   "outputs": [
    {
     "data": {
      "text/plain": [
       "1.6439345666815615"
      ]
     },
     "execution_count": 10,
     "metadata": {},
     "output_type": "execute_result"
    }
   ],
   "source": [
    "sum(1_000)"
   ]
  },
  {
   "cell_type": "code",
   "execution_count": 11,
   "metadata": {},
   "outputs": [],
   "source": [
    "import math"
   ]
  },
  {
   "cell_type": "code",
   "execution_count": 12,
   "metadata": {},
   "outputs": [
    {
     "data": {
      "text/plain": [
       "1.6449340668482264"
      ]
     },
     "execution_count": 12,
     "metadata": {},
     "output_type": "execute_result"
    }
   ],
   "source": [
    "((math.pi)**2)/6"
   ]
  },
  {
   "cell_type": "markdown",
   "metadata": {},
   "source": [
    "### Example 4: Sum of the digits of a number"
   ]
  },
  {
   "cell_type": "code",
   "execution_count": 13,
   "metadata": {},
   "outputs": [],
   "source": [
    "number = '123456789'"
   ]
  },
  {
   "cell_type": "code",
   "execution_count": 14,
   "metadata": {},
   "outputs": [
    {
     "data": {
      "text/plain": [
       "'9'"
      ]
     },
     "execution_count": 14,
     "metadata": {},
     "output_type": "execute_result"
    }
   ],
   "source": [
    "number[-1:]"
   ]
  },
  {
   "cell_type": "code",
   "execution_count": 15,
   "metadata": {},
   "outputs": [
    {
     "data": {
      "text/plain": [
       "'12345678'"
      ]
     },
     "execution_count": 15,
     "metadata": {},
     "output_type": "execute_result"
    }
   ],
   "source": [
    "number[:-1]"
   ]
  },
  {
   "cell_type": "code",
   "execution_count": 16,
   "metadata": {},
   "outputs": [],
   "source": [
    "def sum_digits(number):\n",
    "    if len(number) == 1:\n",
    "        return int(number)\n",
    "    else:\n",
    "        num_1 = number[-1:]\n",
    "        num_2 = number[:-1]\n",
    "        return int(num_1) + sum_digits(num_2)"
   ]
  },
  {
   "cell_type": "code",
   "execution_count": 17,
   "metadata": {},
   "outputs": [
    {
     "data": {
      "text/plain": [
       "2"
      ]
     },
     "execution_count": 17,
     "metadata": {},
     "output_type": "execute_result"
    }
   ],
   "source": [
    "sum_digits('11')"
   ]
  },
  {
   "cell_type": "code",
   "execution_count": 18,
   "metadata": {},
   "outputs": [
    {
     "data": {
      "text/plain": [
       "6"
      ]
     },
     "execution_count": 18,
     "metadata": {},
     "output_type": "execute_result"
    }
   ],
   "source": [
    "sum_digits('123')"
   ]
  },
  {
   "cell_type": "code",
   "execution_count": 19,
   "metadata": {},
   "outputs": [
    {
     "data": {
      "text/plain": [
       "19"
      ]
     },
     "execution_count": 19,
     "metadata": {},
     "output_type": "execute_result"
    }
   ],
   "source": [
    "sum_digits('3277')"
   ]
  },
  {
   "cell_type": "markdown",
   "metadata": {},
   "source": [
    "### Example 5: Robust data entry"
   ]
  },
  {
   "cell_type": "markdown",
   "metadata": {},
   "source": [
    "For example, we want a user to enter a number and the program is robustly written. What does robustly mean? It means that if the user makes a mistake, the program does not crash, and continues to work showing alternatives.\n",
    "\n",
    "A good way to achieve this is by combining recursion with Try/Except."
   ]
  },
  {
   "cell_type": "code",
   "execution_count": 20,
   "metadata": {},
   "outputs": [],
   "source": [
    "def enter_a_number():\n",
    "    inp = input(\"Dear user, enter a number: \")\n",
    "\n",
    "    try:\n",
    "        num = int(inp)\n",
    "        print(\"Excelent! You entered a number correctly.\")\n",
    "        return num\n",
    "        \n",
    "    except:\n",
    "        print(\"Incorrect input.\")\n",
    "        print(\"------------------\")\n",
    "        return enter_a_number()"
   ]
  },
  {
   "cell_type": "code",
   "execution_count": 21,
   "metadata": {},
   "outputs": [
    {
     "name": "stdout",
     "output_type": "stream",
     "text": [
      "Incorrect input.\n",
      "------------------\n",
      "Excelent! You entered a number correctly.\n"
     ]
    }
   ],
   "source": [
    "user_input = enter_a_number()"
   ]
  },
  {
   "cell_type": "markdown",
   "metadata": {},
   "source": [
    "### Speed"
   ]
  },
  {
   "cell_type": "code",
   "execution_count": 22,
   "metadata": {},
   "outputs": [],
   "source": [
    "def factorial_for(n):\n",
    "    mul = 1\n",
    "    for i in range(n):\n",
    "        mul = mul*(n-i)\n",
    "    return mul"
   ]
  },
  {
   "cell_type": "code",
   "execution_count": 23,
   "metadata": {},
   "outputs": [],
   "source": [
    "import time"
   ]
  },
  {
   "cell_type": "code",
   "execution_count": 24,
   "metadata": {},
   "outputs": [
    {
     "name": "stdout",
     "output_type": "stream",
     "text": [
      "Running 1,000 times factorial of 1,000 built recursively takes 0.28 seconds.\n"
     ]
    }
   ],
   "source": [
    "start_rec = time.time()\n",
    "\n",
    "for i in range(1_000):\n",
    "    factorial(1_000)\n",
    "\n",
    "end_rec = time.time()\n",
    "\n",
    "delta_rec = round((end_rec - start_rec), 2)\n",
    "\n",
    "print(f\"Running 1,000 times factorial of 1,000 built recursively takes {delta_rec} seconds.\")"
   ]
  },
  {
   "cell_type": "code",
   "execution_count": 26,
   "metadata": {},
   "outputs": [
    {
     "name": "stdout",
     "output_type": "stream",
     "text": [
      "Running 1,000 times factorial of 1,000 built with for cycle takes 0.23 seconds.\n"
     ]
    }
   ],
   "source": [
    "start_for = time.time()\n",
    "\n",
    "for i in range(1_000):\n",
    "    factorial_for(1_000)\n",
    "\n",
    "end_for = time.time()\n",
    "\n",
    "delta_for = round((end_for - start_for), 2)\n",
    "\n",
    "print(f\"Running 1,000 times factorial of 1,000 built with for cycle takes {delta_for} seconds.\")"
   ]
  },
  {
   "cell_type": "markdown",
   "metadata": {},
   "source": [
    "**What does this show us?**\n",
    "\n",
    "That not necessarily building a function recursively is more computationally efficient. However, the results are more elegant and faster to read by someone else who grabs the code. That said, it is important to consider using recursion only when necessary, it has to be seen as a **tool** and used in the right context so that it allows us to do our job better."
   ]
  },
  {
   "cell_type": "markdown",
   "metadata": {},
   "source": [
    "### Maximum number of recursions"
   ]
  },
  {
   "cell_type": "code",
   "execution_count": 27,
   "metadata": {},
   "outputs": [
    {
     "ename": "",
     "evalue": "",
     "output_type": "error",
     "traceback": [
      "\u001b[1;31mCanceled future for execute_request message before replies were done"
     ]
    },
    {
     "ename": "",
     "evalue": "",
     "output_type": "error",
     "traceback": [
      "\u001b[1;31mThe Kernel crashed while executing code in the the current cell or a previous cell. Please review the code in the cell(s) to identify a possible cause of the failure. Click <a href='https://aka.ms/vscodeJupyterKernelCrash'>here</a> for more info. View Jupyter <a href='command:jupyter.viewOutput'>log</a> for further details."
     ]
    }
   ],
   "source": [
    "factorial(10_000)"
   ]
  },
  {
   "cell_type": "code",
   "execution_count": null,
   "metadata": {},
   "outputs": [],
   "source": []
  }
 ],
 "metadata": {
  "kernelspec": {
   "display_name": "Python 3.9.12 ('base')",
   "language": "python",
   "name": "python3"
  },
  "language_info": {
   "codemirror_mode": {
    "name": "ipython",
    "version": 3
   },
   "file_extension": ".py",
   "mimetype": "text/x-python",
   "name": "python",
   "nbconvert_exporter": "python",
   "pygments_lexer": "ipython3",
   "version": "3.9.12"
  },
  "orig_nbformat": 4,
  "vscode": {
   "interpreter": {
    "hash": "2f8c485831047b2cebf111481919a8482d14cdda0a4d2016f96df03a335ecfa0"
   }
  }
 },
 "nbformat": 4,
 "nbformat_minor": 2
}
