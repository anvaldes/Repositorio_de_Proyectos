{
 "cells": [
  {
   "cell_type": "markdown",
   "metadata": {},
   "source": [
    "# Continuous Assemblies: Multiple Linear Assemblies"
   ]
  },
  {
   "cell_type": "markdown",
   "metadata": {},
   "source": [
    "By Alberto Valdés \n",
    "\n",
    "**Mail 1:** anvaldes@uc.cl \n",
    "\n",
    "**Mail 2:** alberto.valdes.gonzalez.96@gmail.com"
   ]
  },
  {
   "cell_type": "markdown",
   "metadata": {},
   "source": [
    "In this notebook we will talk about continuous assemblies. In this notebook we will board the assemblies of Multiples Linear Regressions of a continuous way. "
   ]
  },
  {
   "cell_type": "markdown",
   "metadata": {},
   "source": [
    "### We import all the libraries"
   ]
  },
  {
   "cell_type": "code",
   "execution_count": 1,
   "metadata": {},
   "outputs": [],
   "source": [
    "import numpy as np\n",
    "import pandas as pd\n",
    "import matplotlib.pyplot as plt\n",
    "from matplotlib.pyplot import figure\n",
    "from sklearn.linear_model import LinearRegression\n",
    "from sklearn.model_selection import train_test_split\n",
    "import warnings"
   ]
  },
  {
   "cell_type": "code",
   "execution_count": 2,
   "metadata": {},
   "outputs": [],
   "source": [
    "warnings.filterwarnings(\"ignore\")"
   ]
  },
  {
   "cell_type": "markdown",
   "metadata": {},
   "source": [
    "### Creation of all the points to train and test the model"
   ]
  },
  {
   "cell_type": "markdown",
   "metadata": {},
   "source": [
    "We set the seed"
   ]
  },
  {
   "cell_type": "code",
   "execution_count": 3,
   "metadata": {},
   "outputs": [],
   "source": [
    "np.random.seed(10)"
   ]
  },
  {
   "cell_type": "markdown",
   "metadata": {},
   "source": [
    "Creation of the points"
   ]
  },
  {
   "cell_type": "code",
   "execution_count": 4,
   "metadata": {},
   "outputs": [],
   "source": [
    "# Breakpoints\n",
    "\n",
    "v_1 = -6\n",
    "v_2 = -3\n",
    "v_3 = 0\n",
    "v_4 = 3\n",
    "v_5 = 6\n",
    "\n",
    "V = []\n",
    "V.append(v_1)\n",
    "V.append(v_2)\n",
    "V.append(v_3)\n",
    "V.append(v_4)\n",
    "V.append(v_5)\n",
    "\n",
    "#---------------------------------------------------\n",
    "\n",
    "# Parameters of the model\n",
    "\n",
    "a = -9\n",
    "b = 9\n",
    "\n",
    "h = 0.25\n",
    "\n",
    "#---------------------------------------------------\n",
    "\n",
    "N = int((b - a)/h) + 1\n",
    "\n",
    "#---------------------------------------------------\n",
    "\n",
    "# Seting the first values of the domain and range\n",
    "\n",
    "x = a - h\n",
    "\n",
    "#---------------------------------------------------\n",
    "\n",
    "X = []\n",
    "y = []\n",
    "\n",
    "#---------------------------------------------------\n",
    "\n",
    "for i in range(N):\n",
    "\n",
    "    x = round(x + h, 1)\n",
    "\n",
    "    noise = np.random.uniform(-h, h)\n",
    "\n",
    "    if x <= v_1:\n",
    "\n",
    "        X.append(x)\n",
    "        y.append((x + 10)*(1 + noise))\n",
    "\n",
    "    elif (x > v_1) and (x <= v_2):\n",
    "\n",
    "        X.append(x)\n",
    "        y.append((2*x + 16)*(1 + noise))\n",
    "\n",
    "    elif (x > v_2) and (x <= v_3):\n",
    "\n",
    "        X.append(x)\n",
    "        y.append((3*x + 19)*(1 + noise))\n",
    "\n",
    "    elif (x > v_3) and (x <= v_4):\n",
    "\n",
    "        X.append(x)\n",
    "        y.append((-3*x + 19)*(1 + noise))\n",
    "\n",
    "    elif (x > v_4) and (x <= v_5):\n",
    "\n",
    "        X.append(x)\n",
    "        y.append((-2*x + 16)*(1 + noise))\n",
    "\n",
    "    else:\n",
    "\n",
    "        X.append(x)\n",
    "        y.append((-x + 10)*(1 + noise))\n",
    "\n",
    "#---------------------------------------------------"
   ]
  },
  {
   "cell_type": "markdown",
   "metadata": {},
   "source": [
    "Creation of dataframe"
   ]
  },
  {
   "cell_type": "code",
   "execution_count": 5,
   "metadata": {},
   "outputs": [],
   "source": [
    "df = pd.DataFrame()"
   ]
  },
  {
   "cell_type": "code",
   "execution_count": 6,
   "metadata": {},
   "outputs": [],
   "source": [
    "df['X'] = pd.Series(X).astype(float)\n",
    "df['y'] = pd.Series(y).astype(float)"
   ]
  },
  {
   "cell_type": "code",
   "execution_count": 7,
   "metadata": {},
   "outputs": [
    {
     "data": {
      "text/html": [
       "<div>\n",
       "<style scoped>\n",
       "    .dataframe tbody tr th:only-of-type {\n",
       "        vertical-align: middle;\n",
       "    }\n",
       "\n",
       "    .dataframe tbody tr th {\n",
       "        vertical-align: top;\n",
       "    }\n",
       "\n",
       "    .dataframe thead th {\n",
       "        text-align: right;\n",
       "    }\n",
       "</style>\n",
       "<table border=\"1\" class=\"dataframe\">\n",
       "  <thead>\n",
       "    <tr style=\"text-align: right;\">\n",
       "      <th></th>\n",
       "      <th>X</th>\n",
       "      <th>y</th>\n",
       "    </tr>\n",
       "  </thead>\n",
       "  <tbody>\n",
       "    <tr>\n",
       "      <th>0</th>\n",
       "      <td>-9.0</td>\n",
       "      <td>1.135660</td>\n",
       "    </tr>\n",
       "    <tr>\n",
       "      <th>1</th>\n",
       "      <td>-8.8</td>\n",
       "      <td>0.912451</td>\n",
       "    </tr>\n",
       "    <tr>\n",
       "      <th>2</th>\n",
       "      <td>-8.6</td>\n",
       "      <td>1.493554</td>\n",
       "    </tr>\n",
       "    <tr>\n",
       "      <th>3</th>\n",
       "      <td>-8.3</td>\n",
       "      <td>1.911483</td>\n",
       "    </tr>\n",
       "    <tr>\n",
       "      <th>4</th>\n",
       "      <td>-8.1</td>\n",
       "      <td>1.898582</td>\n",
       "    </tr>\n",
       "    <tr>\n",
       "      <th>...</th>\n",
       "      <td>...</td>\n",
       "      <td>...</td>\n",
       "    </tr>\n",
       "    <tr>\n",
       "      <th>68</th>\n",
       "      <td>8.1</td>\n",
       "      <td>1.739183</td>\n",
       "    </tr>\n",
       "    <tr>\n",
       "      <th>69</th>\n",
       "      <td>8.3</td>\n",
       "      <td>1.932756</td>\n",
       "    </tr>\n",
       "    <tr>\n",
       "      <th>70</th>\n",
       "      <td>8.6</td>\n",
       "      <td>1.077971</td>\n",
       "    </tr>\n",
       "    <tr>\n",
       "      <th>71</th>\n",
       "      <td>8.8</td>\n",
       "      <td>1.157695</td>\n",
       "    </tr>\n",
       "    <tr>\n",
       "      <th>72</th>\n",
       "      <td>9.1</td>\n",
       "      <td>0.816717</td>\n",
       "    </tr>\n",
       "  </tbody>\n",
       "</table>\n",
       "<p>73 rows × 2 columns</p>\n",
       "</div>"
      ],
      "text/plain": [
       "      X         y\n",
       "0  -9.0  1.135660\n",
       "1  -8.8  0.912451\n",
       "2  -8.6  1.493554\n",
       "3  -8.3  1.911483\n",
       "4  -8.1  1.898582\n",
       "..  ...       ...\n",
       "68  8.1  1.739183\n",
       "69  8.3  1.932756\n",
       "70  8.6  1.077971\n",
       "71  8.8  1.157695\n",
       "72  9.1  0.816717\n",
       "\n",
       "[73 rows x 2 columns]"
      ]
     },
     "execution_count": 7,
     "metadata": {},
     "output_type": "execute_result"
    }
   ],
   "source": [
    "df"
   ]
  },
  {
   "cell_type": "markdown",
   "metadata": {},
   "source": [
    "Graph of these points"
   ]
  },
  {
   "cell_type": "code",
   "execution_count": 8,
   "metadata": {},
   "outputs": [
    {
     "data": {
      "image/png": "[encoded data removed]",
      "text/plain": [
       "<Figure size 720x720 with 1 Axes>"
      ]
     },
     "metadata": {
      "needs_background": "light"
     },
     "output_type": "display_data"
    }
   ],
   "source": [
    "figure(figsize=(10,10))\n",
    "plt.scatter(df['X'], df['y'], color = 'red', label = 'All points')\n",
    "\n",
    "plt.xlabel('X axis', size = 17)\n",
    "plt.ylabel('y axis', size = 17)\n",
    "\n",
    "plt.legend()\n",
    "plt.show()"
   ]
  },
  {
   "cell_type": "markdown",
   "metadata": {},
   "source": [
    "Separating the train set and the test set"
   ]
  },
  {
   "cell_type": "code",
   "execution_count": 9,
   "metadata": {},
   "outputs": [],
   "source": [
    "X_train, X_test, y_train, y_test = train_test_split(X, y, test_size=0.30, random_state=10)"
   ]
  },
  {
   "cell_type": "code",
   "execution_count": 10,
   "metadata": {},
   "outputs": [],
   "source": [
    "train = pd.DataFrame()\n",
    "test = pd.DataFrame()"
   ]
  },
  {
   "cell_type": "code",
   "execution_count": 11,
   "metadata": {},
   "outputs": [],
   "source": [
    "train['X'] = pd.Series(X_train).astype(float)\n",
    "train['y'] = pd.Series(y_train).astype(float)"
   ]
  },
  {
   "cell_type": "code",
   "execution_count": 12,
   "metadata": {},
   "outputs": [],
   "source": [
    "test['X'] = pd.Series(X_test).astype(float)\n",
    "test['y'] = pd.Series(y_test).astype(float)"
   ]
  },
  {
   "cell_type": "markdown",
   "metadata": {},
   "source": [
    "Graph of train and test set"
   ]
  },
  {
   "cell_type": "code",
   "execution_count": 13,
   "metadata": {},
   "outputs": [
    {
     "data": {
      "image/png": "[encoded data removed]",
      "text/plain": [
       "<Figure size 720x720 with 1 Axes>"
      ]
     },
     "metadata": {
      "needs_background": "light"
     },
     "output_type": "display_data"
    }
   ],
   "source": [
    "figure(figsize=(10,10))\n",
    "plt.scatter(train['X'], train['y'], color = 'red', label = 'Training points')\n",
    "plt.scatter(test['X'], test['y'], color = 'blue', label = 'Testing points')\n",
    "\n",
    "plt.xlabel('X axis', size = 17)\n",
    "plt.ylabel('y axis', size = 17)\n",
    "\n",
    "plt.legend()\n",
    "plt.show()"
   ]
  },
  {
   "cell_type": "markdown",
   "metadata": {},
   "source": [
    "### Mathematical Development"
   ]
  },
  {
   "cell_type": "markdown",
   "metadata": {},
   "source": [
    "First of all, we must to say exists two ways of to do this aasemble. The first \"Left to the right\" and the second \"Right to the left\"."
   ]
  },
  {
   "cell_type": "markdown",
   "metadata": {},
   "source": [
    "### $ \\underline{1. \\ Left \\ \\ to \\ \\ the \\ \\ right:} $"
   ]
  },
  {
   "cell_type": "markdown",
   "metadata": {},
   "source": [
    "We will consider the next $T$ functions: "
   ]
  },
  {
   "cell_type": "markdown",
   "metadata": {},
   "source": [
    "$ f_1(x) = \\alpha_1^{1, left} \\cdot x + \\alpha_0^{1, left} \\ \\ \\  $ for $ \\ \\ \\ a \\leq x \\leq v_1 $\n",
    "\n",
    "$ f_2(x) = \\alpha_1^{2, left} \\cdot x + \\alpha_0^{2, left} \\ \\ \\  $ for $ \\ \\ \\ v_1 \\leq x \\leq v_2 $\n",
    "\n",
    "$ f_3(x) = \\alpha_1^{3, left} \\cdot x + \\alpha_0^{3, left} \\ \\ \\  $ for $ \\ \\ \\ v_2 \\leq x \\leq v_3 $\n",
    "\n",
    "$ \\vdots \\ \\ \\ \\ \\ \\ \\ \\ \\ \\ \\ \\ \\ \\ \\ \\ \\ \\ \\ \\ \\ \\ \\ \\ \\ \\ \\ \\ \\ \\ \\vdots \\ \\ \\ \\ \\ \\ \\ \\ \\ \\ \\ \\ \\ \\ \\ \\ \\ \\ \\ \\ \\ \\ \\ \\ \\ \\ \\ \\ \\ \\ \\vdots $\n",
    "\n",
    "$ f_T(x) = \\alpha_1^{T, left} \\cdot x + \\alpha_0^{T, left} \\ \\ \\  $ for $ \\ \\ \\ v_{T-1} \\leq x \\leq b $"
   ]
  },
  {
   "cell_type": "markdown",
   "metadata": {},
   "source": [
    "*$\\underline{Step \\ 1:}$* We estimate the values of $ \\alpha_1^{1, left} $ and $ \\alpha_0^{1, left}$. From now on, we will write the known values with green color and the unkown values with red color. "
   ]
  },
  {
   "cell_type": "markdown",
   "metadata": {},
   "source": [
    "*$\\underline{Step \\ 2 \\ (Recursive \\ step):}$* For the union of the '$t$' function and '$t+1$' function to be continued we need the following equation is fulfilled:"
   ]
  },
  {
   "cell_type": "markdown",
   "metadata": {},
   "source": [
    "$ f_t(v_t) = f_{t+1}(v_t) \\ \\ \\ \\forall \\ t = 1, ..., T-1 $\n",
    "\n",
    "$ \\Rightarrow $\n",
    "\n",
    "$ \\textcolor{green}{\\alpha_1^{t, left}} \\cdot \\textcolor{green}{v_t} + \\textcolor{green}{\\alpha_0^{t, left}} = \\textcolor{red}{\\alpha_1^{t+1, left}} \\cdot \\textcolor{green}{v_t} + \\textcolor{red}{\\alpha_0^{t+1, left}} $\n",
    "\n",
    "$ \\Rightarrow $\n",
    "\n",
    "$ \\boxed{\\textcolor{red}{\\alpha_0^{t+1, left}} = \\textcolor{green}{\\alpha_1^{t, left}} \\cdot \\textcolor{green}{v_t} + \\textcolor{green}{\\alpha_0^{t, left}} -  \\textcolor{red}{\\alpha_1^{t+1, left}} \\cdot \\textcolor{green}{v_t}} \\ \\ \\ (*)  $"
   ]
  },
  {
   "cell_type": "markdown",
   "metadata": {},
   "source": [
    "Substituting this result in $ f_{t+1}(x)$ we obtain:"
   ]
  },
  {
   "cell_type": "markdown",
   "metadata": {},
   "source": [
    "$ f_{t+1}(x) = \\textcolor{red}{\\alpha_1^{t+1,left}} \\cdot x + \\textcolor{green}{\\alpha_1^{t, left}} \\cdot \\textcolor{green}{v_t} + \\textcolor{green}{\\alpha_0^{t, left}} -  \\textcolor{red}{\\alpha_1^{t+1, left}} \\cdot \\textcolor{green}{v_t} $ \n",
    "\n",
    "$ \\Rightarrow $\n",
    "\n",
    "$ f_{t+1}(x) - (\\textcolor{green}{\\alpha_1^{t, left}} \\cdot \\textcolor{green}{v_t} + \\textcolor{green}{\\alpha_0^{t, left}}) = \\textcolor{red}{\\alpha_1^{t+1, left}} \\cdot (x-\\textcolor{green}{v_t}) $ "
   ]
  },
  {
   "cell_type": "markdown",
   "metadata": {},
   "source": [
    "We create the next new variables:\n",
    "\n",
    "$ u_{t+1} = f_{t+1}(x) - (\\textcolor{green}{\\alpha_1^{t, left}} \\cdot \\textcolor{green}{v_t} + \\textcolor{green}{\\alpha_0^{t, left}}) $\n",
    "\n",
    "$ W_{t+1} = x - \\textcolor{green}{v_t} $"
   ]
  },
  {
   "cell_type": "markdown",
   "metadata": {},
   "source": [
    "Thus we have the next linear regressión without intercept:"
   ]
  },
  {
   "cell_type": "markdown",
   "metadata": {},
   "source": [
    "$ u_{t+1} = \\textcolor{red}{\\alpha_1^{t+1, left}} \\cdot W_{t+1} $"
   ]
  },
  {
   "cell_type": "markdown",
   "metadata": {},
   "source": [
    "Once we have the value $ \\textcolor{red}{\\alpha_1^{t+1, left}} $ we replaced this value in $(*)$ to obtain the value of $ \\textcolor{red}{\\alpha_0^{t+1,left}} $."
   ]
  },
  {
   "cell_type": "markdown",
   "metadata": {},
   "source": [
    "### $ \\underline{2. \\ Right \\ \\ to \\ \\ the \\ \\ left:} $"
   ]
  },
  {
   "cell_type": "markdown",
   "metadata": {},
   "source": [
    "We will consider the next $T$ functions: "
   ]
  },
  {
   "cell_type": "markdown",
   "metadata": {},
   "source": [
    "$ f_1(x) = \\alpha_1^{1, right} \\cdot x + \\alpha_0^{1, right} \\ \\ \\  $ for $ \\ \\ \\ a \\leq x \\leq v_1 $\n",
    "\n",
    "$ f_2(x) = \\alpha_1^{2, right} \\cdot x + \\alpha_0^{2, right} \\ \\ \\  $ for $ \\ \\ \\ v_1 \\leq x \\leq v_2 $\n",
    "\n",
    "$ f_3(x) = \\alpha_1^{3, right} \\cdot x + \\alpha_0^{3, right} \\ \\ \\  $ for $ \\ \\ \\ v_2 \\leq x \\leq v_3 $\n",
    "\n",
    "$ \\vdots \\ \\ \\ \\ \\ \\ \\ \\ \\ \\ \\ \\ \\ \\ \\ \\ \\ \\ \\ \\ \\ \\ \\ \\ \\ \\ \\ \\ \\ \\ \\vdots \\ \\ \\ \\ \\ \\ \\ \\ \\ \\ \\ \\ \\ \\ \\ \\ \\ \\ \\ \\ \\ \\ \\ \\ \\ \\ \\ \\ \\ \\ \\vdots $\n",
    "\n",
    "$ f_T(x) = \\alpha_1^{T, right} \\cdot x + \\alpha_0^{T, right} \\ \\ \\  $ for $ \\ \\ \\ v_{T-1} \\leq x \\leq b $"
   ]
  },
  {
   "cell_type": "markdown",
   "metadata": {},
   "source": [
    "*$\\underline{Step \\ 1:}$* We estimate the values of $ \\alpha_1^{T, right} $ and $ \\alpha_0^{T, right}$. From now on, we will write the known values with green color and the unkown values with red color. "
   ]
  },
  {
   "cell_type": "markdown",
   "metadata": {},
   "source": [
    "*$\\underline{Step \\ 2 \\ (Recursive \\ step):}$* For the union of the '$t$' function and '$t+1$' function to be continued we need the following equation is fulfilled:"
   ]
  },
  {
   "cell_type": "markdown",
   "metadata": {},
   "source": [
    "$ f_{t+1}(v_t) = f_t(v_t) \\ \\ \\ \\forall \\ t = 1, ..., T-1 $\n",
    "\n",
    "$ \\Rightarrow $\n",
    "\n",
    "$ \\textcolor{green}{\\alpha_1^{t+1, right}} \\cdot \\textcolor{green}{v_t} + \\textcolor{green}{\\alpha_0^{t+1, right}} = \\textcolor{red}{\\alpha_1^{t, right}} \\cdot \\textcolor{green}{v_t} + \\textcolor{red}{\\alpha_0^{t, right}} $\n",
    "\n",
    "$ \\Rightarrow $\n",
    "\n",
    "$ \\boxed{\\textcolor{red}{\\alpha_0^{t, right}} = \\textcolor{green}{\\alpha_1^{t+1, right}} \\cdot \\textcolor{green}{v_t} + \\textcolor{green}{\\alpha_0^{t+1, right}} -  \\textcolor{red}{\\alpha_1^{t, right}} \\cdot \\textcolor{green}{v_t}} \\ \\ \\ (**)  $"
   ]
  },
  {
   "cell_type": "markdown",
   "metadata": {},
   "source": [
    "Substituting this result in $ f_{t}(x)$ we obtain:"
   ]
  },
  {
   "cell_type": "markdown",
   "metadata": {},
   "source": [
    "$ f_{t}(x) = \\textcolor{red}{\\alpha_1^{t,right}} \\cdot x + \\textcolor{green}{\\alpha_1^{t+1, right}} \\cdot \\textcolor{green}{v_t} + \\textcolor{green}{\\alpha_0^{t+1, right}} -  \\textcolor{red}{\\alpha_1^{t, right}} \\cdot \\textcolor{green}{v_t} $ \n",
    "\n",
    "$ \\Rightarrow $\n",
    "\n",
    "$ f_{t}(x) - (\\textcolor{green}{\\alpha_1^{t+1, right}} \\cdot \\textcolor{green}{v_t} + \\textcolor{green}{\\alpha_0^{t+1, right}}) = \\textcolor{red}{\\alpha_1^{t, right}} \\cdot (x-\\textcolor{green}{v_t}) $ "
   ]
  },
  {
   "cell_type": "markdown",
   "metadata": {},
   "source": [
    "We create the next new variables:\n",
    "\n",
    "$ u_{t} = f_{t}(x) - (\\textcolor{green}{\\alpha_1^{t+1, right}} \\cdot \\textcolor{green}{v_t} + \\textcolor{green}{\\alpha_0^{t+1, right}}) $\n",
    "\n",
    "$ W_{t} = x - \\textcolor{green}{v_t} $"
   ]
  },
  {
   "cell_type": "markdown",
   "metadata": {},
   "source": [
    "Thus we have the next linear regressión without intercept:"
   ]
  },
  {
   "cell_type": "markdown",
   "metadata": {},
   "source": [
    "$ u_{t} = \\textcolor{red}{\\alpha_1^{t, right}} \\cdot W_{t} $"
   ]
  },
  {
   "cell_type": "markdown",
   "metadata": {},
   "source": [
    "Once we have the value $ \\textcolor{red}{\\alpha_1^{t, right}} $ we replaced this value in $(**)$ to obtain the value of $ \\textcolor{red}{\\alpha_0^{t, right}} $."
   ]
  },
  {
   "cell_type": "markdown",
   "metadata": {},
   "source": [
    "# Training and Testing"
   ]
  },
  {
   "cell_type": "code",
   "execution_count": 14,
   "metadata": {},
   "outputs": [],
   "source": [
    "def performance(train, test, label):\n",
    "\n",
    "    abs_e_train = abs(train['y'] - train[label]).sum()/len(train)\n",
    "    abs_e_train = round(abs_e_train, 2)\n",
    "\n",
    "    sq_e_train = (abs(train['y'] - train[label])**2).sum()/len(train)\n",
    "    sq_e_train = round(sq_e_train, 2)\n",
    "\n",
    "    abs_e_test = abs(test['y'] - test[label]).sum()/len(test)\n",
    "    abs_e_test = round(abs_e_test, 2)\n",
    "\n",
    "    sq_e_test = (abs(test['y'] - test[label])**2).sum()/len(test)\n",
    "    sq_e_test = round(sq_e_test, 2)\n",
    "\n",
    "    print(\"--------------------------------------------------\")\n",
    "    \n",
    "    print(\"ABSOLUTE ERROR:\")\n",
    "    print(\"Train: \", abs_e_train)\n",
    "    print(\"Test: \", abs_e_test)\n",
    "\n",
    "    print(\"--------------------------------------------------\")\n",
    "\n",
    "    print(\"SQUARED ERROR\")\n",
    "    print(\"Train: \", sq_e_train)\n",
    "    print(\"Test: \", sq_e_test)\n",
    "    print(\"--------------------------------------------------\")"
   ]
  },
  {
   "cell_type": "markdown",
   "metadata": {},
   "source": [
    "### $ \\underline{1. \\ Left \\ \\ to \\ \\ the \\ \\ right:} $"
   ]
  },
  {
   "cell_type": "code",
   "execution_count": 15,
   "metadata": {},
   "outputs": [],
   "source": [
    "def train_left_to_right(V, a, b):\n",
    "\n",
    "    T = len(V) + 1\n",
    "\n",
    "    alpha_1 = []\n",
    "    alpha_0 = []\n",
    "\n",
    "    pred_LR_train = []\n",
    "    pred_LR_test = []\n",
    "\n",
    "    for i in range(T):\n",
    "\n",
    "        if i == 0:\n",
    "\n",
    "            f_train = (train['X'] <= V[i])\n",
    "            f_test = (test['X'] <= V[i])\n",
    "\n",
    "            X_1 = train[f_train][['X']].values\n",
    "            y_1 = train[f_train]['y'].values\n",
    "\n",
    "            reg_1 = LinearRegression(fit_intercept=True).fit(X_1, y_1)\n",
    "\n",
    "            alpha_1.append(reg_1.coef_[0])\n",
    "            alpha_0.append(reg_1.intercept_)\n",
    "\n",
    "            pred_LR_train.append(train[f_train]['X']*alpha_1[i] + alpha_0[i])\n",
    "            pred_LR_test.append(test[f_test]['X']*alpha_1[i] + alpha_0[i])\n",
    "\n",
    "        elif (0 < i) & (i < (T-1)):\n",
    "\n",
    "            f_train = (V[i-1] < train['X']) & (train['X'] <= V[i])\n",
    "            f_test = (V[i-1] < test['X']) & (test['X'] <= V[i])\n",
    "\n",
    "            z_t_1 = train[f_train]['y'].values - (alpha_1[i-1]*V[i-1] + alpha_0[i-1])\n",
    "            W_t_1 = train[f_train][['X']].values - V[i-1]\n",
    "\n",
    "            reg_t_1 = LinearRegression(fit_intercept=False).fit(W_t_1, z_t_1)\n",
    "\n",
    "            alpha_1.append(reg_t_1.coef_[0])\n",
    "            \n",
    "            alpha_0_t_1 = alpha_1[i-1]*V[i-1] + alpha_0[i-1] - alpha_1[i]*V[i-1]\n",
    "\n",
    "            alpha_0.append(alpha_0_t_1)\n",
    "\n",
    "            pred_LR_train.append(train[f_train]['X']*alpha_1[i] + alpha_0[i])\n",
    "            pred_LR_test.append(test[f_test]['X']*alpha_1[i] + alpha_0[i])\n",
    "\n",
    "        else:\n",
    "\n",
    "            f_train = (V[T-2] < train['X'])\n",
    "            f_test = (V[T-2] < test['X'])\n",
    "\n",
    "            z_t_1 = train[f_train]['y'].values - (alpha_1[i-1]*V[i-1] + alpha_0[i-1])\n",
    "            W_t_1 = train[f_train][['X']].values - V[i-1]\n",
    "\n",
    "            reg_t_1 = LinearRegression(fit_intercept=False).fit(W_t_1, z_t_1)\n",
    "\n",
    "            alpha_1.append(reg_t_1.coef_[0])\n",
    "            \n",
    "            alpha_0_t_1 = alpha_1[i-1]*V[i-1] + alpha_0[i-1] - alpha_1[i]*V[i-1]\n",
    "\n",
    "            alpha_0.append(alpha_0_t_1)\n",
    "\n",
    "            pred_LR_train.append(train[f_train]['X']*alpha_1[i] + alpha_0[i])\n",
    "            pred_LR_test.append(test[f_test]['X']*alpha_1[i] + alpha_0[i])\n",
    "        \n",
    "    pred_LR_train = pd.concat(pred_LR_train, axis = 0)\n",
    "    pred_LR_test = pd.concat(pred_LR_test, axis = 0)\n",
    "\n",
    "    train['pred_LR'] = pred_LR_train\n",
    "    test['pred_LR'] = pred_LR_test\n",
    "\n",
    "    return alpha_1, alpha_0, train, test"
   ]
  },
  {
   "cell_type": "code",
   "execution_count": 16,
   "metadata": {},
   "outputs": [],
   "source": [
    "alpha_1_LR, alpha_0_LR, train, test = train_left_to_right(V, a, b)"
   ]
  },
  {
   "cell_type": "markdown",
   "metadata": {},
   "source": [
    "**Performance**"
   ]
  },
  {
   "cell_type": "code",
   "execution_count": 17,
   "metadata": {},
   "outputs": [
    {
     "name": "stdout",
     "output_type": "stream",
     "text": [
      "--------------------------------------------------\n",
      "ABSOLUTE ERROR:\n",
      "Train:  0.89\n",
      "Test:  1.35\n",
      "--------------------------------------------------\n",
      "SQUARED ERROR\n",
      "Train:  1.37\n",
      "Test:  3.88\n",
      "--------------------------------------------------\n"
     ]
    }
   ],
   "source": [
    "performance(train, test, 'pred_LR')"
   ]
  },
  {
   "cell_type": "markdown",
   "metadata": {},
   "source": [
    "**Graphs**"
   ]
  },
  {
   "cell_type": "code",
   "execution_count": 18,
   "metadata": {},
   "outputs": [
    {
     "data": {
      "image/png": "[encoded data removed]",
      "text/plain": [
       "<Figure size 720x720 with 1 Axes>"
      ]
     },
     "metadata": {
      "needs_background": "light"
     },
     "output_type": "display_data"
    }
   ],
   "source": [
    "figure(figsize=(10,10))\n",
    "plt.scatter(train['X'], train['y'], color = 'red', label = 'Training points')\n",
    "plt.scatter(test['X'], test['y'], color = 'blue', label = 'Testing points')\n",
    "\n",
    "plt.scatter(train['X'], train['pred_LR'], color = 'green', label = 'Prediction - LR')\n",
    "plt.scatter(test['X'], test['pred_LR'], color = 'green')\n",
    "\n",
    "plt.xlabel('X axis', size = 17)\n",
    "plt.ylabel('y axis', size = 17)\n",
    "\n",
    "plt.legend()\n",
    "plt.show()"
   ]
  },
  {
   "cell_type": "markdown",
   "metadata": {},
   "source": [
    "### $ \\underline{2. \\ Right \\ \\ to \\ \\ the \\ \\ left:} $"
   ]
  },
  {
   "cell_type": "code",
   "execution_count": 19,
   "metadata": {},
   "outputs": [],
   "source": [
    "def train_right_to_left(V, a, b):\n",
    "\n",
    "    T = len(V) + 1\n",
    "\n",
    "    alpha_1 = []\n",
    "    alpha_0 = []\n",
    "\n",
    "    pred_RL_train = []\n",
    "    pred_RL_test = []\n",
    "\n",
    "    for j in range(T):\n",
    "\n",
    "        i = (T - 1) - j\n",
    "\n",
    "        if i == (T - 1):\n",
    "\n",
    "            f_train = (V[T-2] < train['X'])\n",
    "            f_test = (V[T-2] < test['X'])\n",
    "\n",
    "            X_T = train[f_train][['X']].values\n",
    "            y_T = train[f_train]['y'].values\n",
    "\n",
    "            reg_T = LinearRegression(fit_intercept=True).fit(X_T, y_T)\n",
    "\n",
    "            alpha_1.append(reg_T.coef_[0])\n",
    "            alpha_0.append(reg_T.intercept_)\n",
    "\n",
    "            pred_RL_train.append(train[f_train]['X']*alpha_1[j] + alpha_0[j])\n",
    "            pred_RL_test.append(test[f_test]['X']*alpha_1[j] + alpha_0[j])\n",
    "\n",
    "        elif (0 < i) & (i < (T-1)):\n",
    "\n",
    "            f_train = (V[i-1] < train['X']) & (train['X'] <= V[i])\n",
    "            f_test = (V[i-1] < test['X']) & (test['X'] <= V[i])\n",
    "\n",
    "            z_t = train[f_train]['y'].values - (alpha_1[j-1]*V[i] + alpha_0[j-1])\n",
    "            W_t = train[f_train][['X']].values - V[i]\n",
    "\n",
    "            reg_t = LinearRegression(fit_intercept=False).fit(W_t, z_t)\n",
    "\n",
    "            alpha_1.append(reg_t.coef_[0])\n",
    "            \n",
    "            alpha_0_t = alpha_1[j-1]*V[i] + alpha_0[j-1] - alpha_1[j]*V[i]\n",
    "\n",
    "            alpha_0.append(alpha_0_t)\n",
    "\n",
    "            pred_RL_train.append(train[f_train]['X']*alpha_1[j] + alpha_0[j])\n",
    "            pred_RL_test.append(test[f_test]['X']*alpha_1[j] + alpha_0[j])\n",
    "\n",
    "        else:\n",
    "\n",
    "            f_train = (train['X'] <= V[i])\n",
    "            f_test = (test['X'] <= V[i])\n",
    "\n",
    "            z_t = train[f_train]['y'].values - (alpha_1[j-1]*V[i] + alpha_0[j-1])\n",
    "            W_t = train[f_train][['X']].values - V[i]\n",
    "\n",
    "            reg_t = LinearRegression(fit_intercept=False).fit(W_t, z_t)\n",
    "\n",
    "            alpha_1.append(reg_t.coef_[0])\n",
    "            \n",
    "            alpha_0_t = alpha_1[j-1]*V[i] + alpha_0[j-1] - alpha_1[j]*V[i]\n",
    "\n",
    "            alpha_0.append(alpha_0_t)\n",
    "\n",
    "            pred_RL_train.append(train[f_train]['X']*alpha_1[j] + alpha_0[j])\n",
    "            pred_RL_test.append(test[f_test]['X']*alpha_1[j] + alpha_0[j])\n",
    "\n",
    "    pred_RL_train = pd.concat(pred_RL_train, axis = 0)\n",
    "    pred_RL_test = pd.concat(pred_RL_test, axis = 0)\n",
    "\n",
    "    train['pred_RL'] = pred_RL_train\n",
    "    test['pred_RL'] = pred_RL_test\n",
    "\n",
    "    alpha_1.reverse()\n",
    "    alpha_0.reverse()\n",
    "\n",
    "    return alpha_1, alpha_0, train, test"
   ]
  },
  {
   "cell_type": "code",
   "execution_count": 20,
   "metadata": {},
   "outputs": [],
   "source": [
    "alpha_1_RL, alpha_0_RL, train, test = train_right_to_left(V, a, b)"
   ]
  },
  {
   "cell_type": "markdown",
   "metadata": {},
   "source": [
    "**Performance**"
   ]
  },
  {
   "cell_type": "code",
   "execution_count": 21,
   "metadata": {},
   "outputs": [
    {
     "name": "stdout",
     "output_type": "stream",
     "text": [
      "--------------------------------------------------\n",
      "ABSOLUTE ERROR:\n",
      "Train:  0.9\n",
      "Test:  1.19\n",
      "--------------------------------------------------\n",
      "SQUARED ERROR\n",
      "Train:  1.96\n",
      "Test:  2.84\n",
      "--------------------------------------------------\n"
     ]
    }
   ],
   "source": [
    "performance(train, test, 'pred_RL')"
   ]
  },
  {
   "cell_type": "markdown",
   "metadata": {},
   "source": [
    "**Graphs**"
   ]
  },
  {
   "cell_type": "code",
   "execution_count": 22,
   "metadata": {},
   "outputs": [
    {
     "data": {
      "image/png": "[encoded data removed]",
      "text/plain": [
       "<Figure size 720x720 with 1 Axes>"
      ]
     },
     "metadata": {
      "needs_background": "light"
     },
     "output_type": "display_data"
    }
   ],
   "source": [
    "figure(figsize=(10,10))\n",
    "plt.scatter(train['X'], train['y'], color = 'red', label = 'Training points')\n",
    "plt.scatter(test['X'], test['y'], color = 'blue', label = 'Testing points')\n",
    "\n",
    "plt.scatter(train['X'], train['pred_RL'], color = 'green', label = 'Prediction - RL')\n",
    "plt.scatter(test['X'], test['pred_RL'], color = 'green')\n",
    "\n",
    "plt.xlabel('X axis', size = 17)\n",
    "plt.ylabel('y axis', size = 17)\n",
    "\n",
    "plt.legend()\n",
    "plt.show()"
   ]
  },
  {
   "cell_type": "markdown",
   "metadata": {},
   "source": [
    "# Comparison"
   ]
  },
  {
   "cell_type": "markdown",
   "metadata": {},
   "source": [
    "**Graphs**"
   ]
  },
  {
   "cell_type": "code",
   "execution_count": 23,
   "metadata": {},
   "outputs": [
    {
     "data": {
      "image/png": "[encoded data removed]",
      "text/plain": [
       "<Figure size 720x720 with 1 Axes>"
      ]
     },
     "metadata": {
      "needs_background": "light"
     },
     "output_type": "display_data"
    }
   ],
   "source": [
    "figure(figsize=(10,10))\n",
    "plt.scatter(train['X'], train['y'], color = 'red', label = 'Training points')\n",
    "plt.scatter(test['X'], test['y'], color = 'blue', label = 'Testing points')\n",
    "\n",
    "plt.scatter(train['X'], train['pred_RL'], color = 'green', label = 'Prediction - RL')\n",
    "plt.scatter(test['X'], test['pred_RL'], color = 'green')\n",
    "\n",
    "plt.scatter(train['X'], train['pred_LR'], color = 'purple', label = 'Prediction - LR')\n",
    "plt.scatter(test['X'], test['pred_LR'], color = 'purple')\n",
    "\n",
    "plt.xlabel('X axis', size = 17)\n",
    "plt.ylabel('y axis', size = 17)\n",
    "\n",
    "plt.legend()\n",
    "plt.show()"
   ]
  },
  {
   "cell_type": "markdown",
   "metadata": {},
   "source": [
    "# UF problem"
   ]
  },
  {
   "cell_type": "markdown",
   "metadata": {},
   "source": [
    "In chile exits an economic index called 'UF' which varies in function of the time. On this section we will apply the contents we develope previously to do a continuos linear regression of this index in function of the time."
   ]
  },
  {
   "cell_type": "markdown",
   "metadata": {},
   "source": [
    "### Open the \".xlsx\" files"
   ]
  },
  {
   "cell_type": "code",
   "execution_count": 24,
   "metadata": {},
   "outputs": [
    {
     "name": "stdout",
     "output_type": "stream",
     "text": [
      "WARNING *** file size (74042) not 512 + multiple of sector size (512)\n",
      "WARNING *** file size (74042) not 512 + multiple of sector size (512)\n",
      "WARNING *** file size (74042) not 512 + multiple of sector size (512)\n"
     ]
    }
   ],
   "source": [
    "uf_2018 = pd.read_excel('UF_Values/2018.xls', skiprows=3, index_col = False)\n",
    "uf_2019 = pd.read_excel('UF_Values/2019.xls', skiprows=3, index_col = False)\n",
    "uf_2020 = pd.read_excel('UF_Values/2020.xls', skiprows=3, index_col = False)\n",
    "uf_2021 = pd.read_excel('UF_Values/2021.xls', skiprows=3, index_col = False)\n",
    "uf_2022 = pd.read_excel('UF_Values/2022.xls', skiprows=3, index_col = False)\n",
    "\n",
    "uf = []\n",
    "uf.append(uf_2018)\n",
    "uf.append(uf_2019)\n",
    "uf.append(uf_2020)\n",
    "uf.append(uf_2021)\n",
    "uf.append(uf_2022)\n",
    "\n",
    "uf = pd.concat(uf, axis = 0)\n",
    "uf = uf.reset_index()\n",
    "\n",
    "uf = uf.drop(columns = ['index'])"
   ]
  },
  {
   "cell_type": "code",
   "execution_count": 25,
   "metadata": {},
   "outputs": [],
   "source": [
    "def from_date_to_cont(date):\n",
    "\n",
    "    day_month = {\n",
    "                'Jan': 31, 'Feb': 28, 'Mar': 31, 'Apr': 30, 'May': 31, 'Jun': 30,\n",
    "                'Jul': 31, 'Aug': 31, 'Sep': 30, 'Oct': 31, 'Nov': 30, 'Dec': 31\n",
    "                }\n",
    "    \n",
    "\n",
    "    keys = list(day_month.keys())\n",
    "\n",
    "    year = date.year\n",
    "    month = date.month\n",
    "    day = date.day\n",
    "\n",
    "    if (year % 4 == 0):\n",
    "        day_month['Feb'] = 29\n",
    "    \n",
    "    sum_days = 0\n",
    "\n",
    "    for i in range(month-1):\n",
    "        sum_days = sum_days + day_month[keys[i]]\n",
    "    \n",
    "    sum_days = sum_days + day\n",
    "\n",
    "    prop_days = sum_days/np.array(list(day_month.values())).sum()\n",
    "\n",
    "    return year + prop_days"
   ]
  },
  {
   "cell_type": "code",
   "execution_count": 26,
   "metadata": {},
   "outputs": [],
   "source": [
    "uf['Dia'] = uf['Dia'].map(lambda x: from_date_to_cont(x))"
   ]
  },
  {
   "cell_type": "markdown",
   "metadata": {},
   "source": [
    "### Visualizing the data"
   ]
  },
  {
   "cell_type": "code",
   "execution_count": 27,
   "metadata": {},
   "outputs": [
    {
     "data": {
      "image/png": "[encoded data removed]",
      "text/plain": [
       "<Figure size 720x720 with 1 Axes>"
      ]
     },
     "metadata": {
      "needs_background": "light"
     },
     "output_type": "display_data"
    }
   ],
   "source": [
    "figure(figsize=(10,10))\n",
    "plt.scatter(uf['Dia'], uf['Valor'], color = 'red', label = 'UF Values')\n",
    "\n",
    "plt.xlabel('Date', size = 17)\n",
    "plt.ylabel('UF Value', size = 17)\n",
    "\n",
    "plt.legend()\n",
    "plt.show()"
   ]
  },
  {
   "cell_type": "markdown",
   "metadata": {},
   "source": [
    "# Creation of class (OOP)"
   ]
  },
  {
   "cell_type": "code",
   "execution_count": 28,
   "metadata": {},
   "outputs": [],
   "source": [
    "class Tabla:\n",
    "\n",
    "    def __init__(self, df, x_label, y_label):\n",
    "\n",
    "        self.df = df\n",
    "        self.x_label = x_label\n",
    "        self.y_label = y_label\n",
    "\n",
    "\n",
    "    def select_train_test_set(self, value):\n",
    "\n",
    "        self.train = self.df[self.df[self.x_label] < value]\n",
    "        self.test = self.df[self.df[self.x_label] >= value]\n",
    "\n",
    "\n",
    "    def train_left_to_right(self, V):\n",
    "        \n",
    "        T = len(V) + 1\n",
    "\n",
    "        alpha_1 = []\n",
    "        alpha_0 = []\n",
    "\n",
    "        for i in range(T):\n",
    "\n",
    "            if i == 0:\n",
    "\n",
    "                f_train = (self.train[self.x_label] <= V[i])\n",
    "\n",
    "                X_1 = self.train[f_train][[self.x_label]].values\n",
    "                y_1 = self.train[f_train][self.y_label].values\n",
    "\n",
    "                reg_1 = LinearRegression(fit_intercept=True).fit(X_1, y_1)\n",
    "\n",
    "                alpha_1.append(reg_1.coef_[0])\n",
    "                alpha_0.append(reg_1.intercept_)\n",
    "\n",
    "            elif (0 < i) & (i < (T-1)):\n",
    "\n",
    "                f_train = (V[i-1] < self.train[self.x_label]) & (self.train[self.x_label] <= V[i])\n",
    "\n",
    "                z_t_1 = self.train[f_train][self.y_label].values - (alpha_1[i-1]*V[i-1] + alpha_0[i-1])\n",
    "                W_t_1 = self.train[f_train][[self.x_label]].values - V[i-1]\n",
    "\n",
    "                reg_t_1 = LinearRegression(fit_intercept=False).fit(W_t_1, z_t_1)\n",
    "\n",
    "                alpha_1.append(reg_t_1.coef_[0])\n",
    "            \n",
    "                alpha_0_t_1 = alpha_1[i-1]*V[i-1] + alpha_0[i-1] - alpha_1[i]*V[i-1]\n",
    "\n",
    "                alpha_0.append(alpha_0_t_1)\n",
    "\n",
    "            else:\n",
    "\n",
    "                f_train = (V[T-2] < self.train[self.x_label])\n",
    "\n",
    "                z_t_1 = self.train[f_train][self.y_label].values - (alpha_1[i-1]*V[i-1] + alpha_0[i-1])\n",
    "                W_t_1 = self.train[f_train][[self.x_label]].values - V[i-1]\n",
    "\n",
    "                reg_t_1 = LinearRegression(fit_intercept=False).fit(W_t_1, z_t_1)\n",
    "\n",
    "                alpha_1.append(reg_t_1.coef_[0])\n",
    "            \n",
    "                alpha_0_t_1 = alpha_1[i-1]*V[i-1] + alpha_0[i-1] - alpha_1[i]*V[i-1]\n",
    "\n",
    "                alpha_0.append(alpha_0_t_1)\n",
    "\n",
    "        self.alpha_0_LR = alpha_0\n",
    "        self.alpha_1_LR = alpha_1\n",
    "\n",
    "\n",
    "    def predict_LR(self, V):\n",
    "\n",
    "        inter_V = []\n",
    "\n",
    "        for i in range(len(V)):\n",
    "\n",
    "            if i == 0:\n",
    "\n",
    "                inter_V.append(pd.Interval(-np.inf, V[0], closed = 'right'))\n",
    "            \n",
    "            else:\n",
    "\n",
    "                inter_V.append(pd.Interval(V[i-1], V[i], closed = 'right'))\n",
    "\n",
    "        inter_V.append(pd.Interval(V[len(V)-1], np.inf, closed = 'right'))\n",
    "\n",
    "        self.inter_V = inter_V\n",
    "\n",
    "        self.df['pred_LR'] = self.df[self.x_label].map(lambda x: self.predict_value_LR(x))\n",
    "        self.train['pred_LR'] = self.train[self.x_label].map(lambda x: self.predict_value_LR(x))\n",
    "        self.test['pred_LR'] = self.test[self.x_label].map(lambda x: self.predict_value_LR(x))\n",
    "\n",
    "\n",
    "    def predict_value_LR(self, x_value):\n",
    "\n",
    "        t = -1\n",
    "\n",
    "        for i in range(len(self.inter_V)):\n",
    "\n",
    "            if x_value in self.inter_V[i]:\n",
    "\n",
    "                t = i\n",
    "        \n",
    "        return self.alpha_1_LR[t]*x_value + self.alpha_0_LR[t]\n",
    "\n",
    "\n",
    "    def graph_pred_LR(self):\n",
    "\n",
    "        figure(figsize=(10, 10))\n",
    "\n",
    "        plt.scatter(self.train[self.x_label], self.train[self.y_label], color = 'red', label = 'train')\n",
    "        plt.scatter(self.test[self.x_label], self.test[self.y_label], color = 'blue', label = 'test')\n",
    "        plt.plot(self.df[self.x_label], self.df['pred_LR'], linewidth = 5, color = 'green', label = 'LR prediction')\n",
    "\n",
    "        plt.legend()\n",
    "\n",
    "        plt.show()\n",
    "\n",
    "\n",
    "    def performance_LR(self):\n",
    "\n",
    "        self.abs_e_train_LR = abs(self.train['pred_LR'] - self.train[self.y_label]).mean()\n",
    "        self.abs_e_test_LR = abs(self.test['pred_LR'] - self.test[self.y_label]).mean()\n",
    "\n",
    "        self.squ_e_train_LR = (abs(self.train['pred_LR'] - self.train[self.y_label])**2).mean()\n",
    "        self.squ_e_test_LR = (abs(self.test['pred_LR'] - self.test[self.y_label])**2).mean()\n",
    "\n",
    "        print(\"----------------------------------------------------------------------\")\n",
    "\n",
    "        print(\"ABSOLUTE ERROR:\")\n",
    "        print(\"Train: \", self.abs_e_train_LR)\n",
    "        print(\"Test: \", self.abs_e_test_LR)\n",
    "\n",
    "        print(\"----------------------------------------------------------------------\")\n",
    "\n",
    "        print(\"SQUARED ERROR:\")\n",
    "        print(\"Train: \", self.squ_e_train_LR)\n",
    "        print(\"Test: \", self.squ_e_test_LR)\n",
    "\n",
    "        print(\"----------------------------------------------------------------------\")\n",
    "\n",
    "\n",
    "    def train_right_to_left(self, V):\n",
    "\n",
    "        T = len(V) + 1\n",
    "\n",
    "        alpha_1 = []\n",
    "        alpha_0 = []\n",
    "\n",
    "        for j in range(T):\n",
    "\n",
    "            i = (T - 1) - j\n",
    "\n",
    "            if i == (T - 1):\n",
    "\n",
    "                f_train = (V[T-2] < self.train[self.x_label])\n",
    "                \n",
    "                X_T = self.train[f_train][[self.x_label]].values\n",
    "                y_T = self.train[f_train][self.y_label].values\n",
    "\n",
    "                reg_T = LinearRegression(fit_intercept=True).fit(X_T, y_T)\n",
    "\n",
    "                alpha_1.append(reg_T.coef_[0])\n",
    "                alpha_0.append(reg_T.intercept_)\n",
    "\n",
    "            elif (0 < i) & (i < (T-1)):\n",
    "\n",
    "                f_train = (V[i-1] < self.train[self.x_label]) & (self.train[self.x_label] <= V[i])\n",
    "                \n",
    "                z_t = self.train[f_train][self.y_label].values - (alpha_1[j-1]*V[i] + alpha_0[j-1])\n",
    "                W_t = self.train[f_train][[self.x_label]].values - V[i]\n",
    "\n",
    "                reg_t = LinearRegression(fit_intercept=False).fit(W_t, z_t)\n",
    "\n",
    "                alpha_1.append(reg_t.coef_[0])\n",
    "            \n",
    "                alpha_0_t = alpha_1[j-1]*V[i] + alpha_0[j-1] - alpha_1[j]*V[i]\n",
    "\n",
    "                alpha_0.append(alpha_0_t)\n",
    "\n",
    "            else:\n",
    "\n",
    "                f_train = (self.train[self.x_label] <= V[i])\n",
    "\n",
    "                z_t = self.train[f_train][self.y_label].values - (alpha_1[j-1]*V[i] + alpha_0[j-1])\n",
    "                W_t = self.train[f_train][[self.x_label]].values - V[i]\n",
    "\n",
    "                reg_t = LinearRegression(fit_intercept=False).fit(W_t, z_t)\n",
    "\n",
    "                alpha_1.append(reg_t.coef_[0])\n",
    "            \n",
    "                alpha_0_t = alpha_1[j-1]*V[i] + alpha_0[j-1] - alpha_1[j]*V[i]\n",
    "\n",
    "                alpha_0.append(alpha_0_t)\n",
    "\n",
    "        alpha_1.reverse()\n",
    "        alpha_0.reverse()\n",
    "\n",
    "        self.alpha_0_RL = alpha_0\n",
    "        self.alpha_1_RL = alpha_1\n",
    "\n",
    "    \n",
    "    def predict_RL(self, V):\n",
    "\n",
    "        inter_V = []\n",
    "\n",
    "        for i in range(len(V)):\n",
    "\n",
    "            if i == 0:\n",
    "\n",
    "                inter_V.append(pd.Interval(-np.inf, V[0], closed = 'right'))\n",
    "            \n",
    "            else:\n",
    "\n",
    "                inter_V.append(pd.Interval(V[i-1], V[i], closed = 'right'))\n",
    "\n",
    "        inter_V.append(pd.Interval(V[len(V)-1], np.inf, closed = 'right'))\n",
    "\n",
    "        self.inter_V = inter_V\n",
    "\n",
    "        self.df['pred_RL'] = self.df[self.x_label].map(lambda x: self.predict_value_RL(x))\n",
    "        self.train['pred_RL'] = self.train[self.x_label].map(lambda x: self.predict_value_RL(x))\n",
    "        self.test['pred_RL'] = self.test[self.x_label].map(lambda x: self.predict_value_RL(x))\n",
    "\n",
    "    \n",
    "    def predict_value_RL(self, x_value):\n",
    "\n",
    "        t = -1\n",
    "\n",
    "        for i in range(len(self.inter_V)):\n",
    "\n",
    "            if x_value in self.inter_V[i]:\n",
    "\n",
    "                t = i\n",
    "        \n",
    "        return self.alpha_1_RL[t]*x_value + self.alpha_0_RL[t]\n",
    "\n",
    "    \n",
    "    def graph_pred_RL(self):\n",
    "\n",
    "        figure(figsize=(10, 10))\n",
    "\n",
    "        plt.scatter(self.train[self.x_label], self.train[self.y_label], color = 'red', label = 'train')\n",
    "        plt.scatter(self.test[self.x_label], self.test[self.y_label], color = 'blue', label = 'test')\n",
    "        plt.plot(self.df[self.x_label], self.df['pred_RL'], linewidth = 5, color = 'green', label = 'RL prediction')\n",
    "\n",
    "        plt.legend()\n",
    "\n",
    "        plt.show()\n",
    "\n",
    "\n",
    "    def performance_RL(self):\n",
    "\n",
    "        self.abs_e_train_RL = abs(self.train['pred_RL'] - self.train[self.y_label]).mean()\n",
    "        self.abs_e_test_RL = abs(self.test['pred_RL'] - self.test[self.y_label]).mean()\n",
    "\n",
    "        self.squ_e_train_RL = (abs(self.train['pred_RL'] - self.train[self.y_label])**2).mean()\n",
    "        self.squ_e_test_RL = (abs(self.test['pred_RL'] - self.test[self.y_label])**2).mean()\n",
    "\n",
    "        print(\"----------------------------------------------------------------------\")\n",
    "\n",
    "        print(\"ABSOLUTE ERROR:\")\n",
    "        print(\"Train: \", self.abs_e_train_RL)\n",
    "        print(\"Test: \", self.abs_e_test_RL)\n",
    "\n",
    "        print(\"----------------------------------------------------------------------\")\n",
    "\n",
    "        print(\"SQUARED ERROR:\")\n",
    "        print(\"Train: \", self.squ_e_train_RL)\n",
    "        print(\"Test: \", self.squ_e_test_RL)\n",
    "\n",
    "        print(\"----------------------------------------------------------------------\")\n",
    "\n",
    "\n",
    "    def graph_comparision(self):\n",
    "\n",
    "        figure(figsize=(10, 10))\n",
    "\n",
    "        plt.scatter(self.train[self.x_label], self.train[self.y_label], color = 'red', label = 'train')\n",
    "        plt.scatter(self.test[self.x_label], self.test[self.y_label], color = 'blue', label = 'test')\n",
    "        plt.plot(self.df[self.x_label], self.df['pred_LR'], linewidth = 5, color = 'green', label = 'LR prediction')\n",
    "        plt.plot(self.df[self.x_label], self.df['pred_RL'], linewidth = 5, color = 'purple', label = 'RL prediction')\n",
    "\n",
    "        plt.legend()\n",
    "\n",
    "        plt.show()"
   ]
  },
  {
   "cell_type": "code",
   "execution_count": 29,
   "metadata": {},
   "outputs": [],
   "source": [
    "tabla_uf = Tabla(uf, 'Dia', 'Valor')\n",
    "tabla_uf.select_train_test_set(2022.5)"
   ]
  },
  {
   "cell_type": "code",
   "execution_count": 30,
   "metadata": {},
   "outputs": [],
   "source": [
    "V = [2019, 2020, 2021, 2022]"
   ]
  },
  {
   "cell_type": "code",
   "execution_count": 31,
   "metadata": {},
   "outputs": [
    {
     "data": {
      "image/png": "[encoded data removed]",
      "text/plain": [
       "<Figure size 720x720 with 1 Axes>"
      ]
     },
     "metadata": {
      "needs_background": "light"
     },
     "output_type": "display_data"
    },
    {
     "name": "stdout",
     "output_type": "stream",
     "text": [
      "----------------------------------------------------------------------\n",
      "ABSOLUTE ERROR:\n",
      "Train:  80.52397710340593\n",
      "Test:  65.52872503731443\n",
      "----------------------------------------------------------------------\n",
      "SQUARED ERROR:\n",
      "Train:  12344.2028360187\n",
      "Test:  5176.307021416694\n",
      "----------------------------------------------------------------------\n"
     ]
    }
   ],
   "source": [
    "tabla_uf.train_left_to_right(V)\n",
    "tabla_uf.predict_LR(V)\n",
    "tabla_uf.graph_pred_LR()\n",
    "tabla_uf.performance_LR()"
   ]
  },
  {
   "cell_type": "code",
   "execution_count": 32,
   "metadata": {},
   "outputs": [
    {
     "data": {
      "image/png": "[encoded data removed]",
      "text/plain": [
       "<Figure size 720x720 with 1 Axes>"
      ]
     },
     "metadata": {
      "needs_background": "light"
     },
     "output_type": "display_data"
    },
    {
     "name": "stdout",
     "output_type": "stream",
     "text": [
      "----------------------------------------------------------------------\n",
      "ABSOLUTE ERROR:\n",
      "Train:  94.07834260293053\n",
      "Test:  129.86335645400933\n",
      "----------------------------------------------------------------------\n",
      "SQUARED ERROR:\n",
      "Train:  13702.860874613521\n",
      "Test:  18838.91111148658\n",
      "----------------------------------------------------------------------\n"
     ]
    }
   ],
   "source": [
    "tabla_uf.train_right_to_left(V)\n",
    "tabla_uf.predict_RL(V)\n",
    "tabla_uf.graph_pred_RL()\n",
    "tabla_uf.performance_RL()"
   ]
  },
  {
   "cell_type": "markdown",
   "metadata": {},
   "source": [
    "**Graph Comparision**"
   ]
  },
  {
   "cell_type": "code",
   "execution_count": 33,
   "metadata": {},
   "outputs": [
    {
     "data": {
      "image/png": "[encoded data removed]",
      "text/plain": [
       "<Figure size 720x720 with 1 Axes>"
      ]
     },
     "metadata": {
      "needs_background": "light"
     },
     "output_type": "display_data"
    }
   ],
   "source": [
    "tabla_uf.graph_comparision()"
   ]
  },
  {
   "cell_type": "markdown",
   "metadata": {},
   "source": [
    "**Comments:**\n",
    "\n",
    "We can see the best performance is from LR model."
   ]
  },
  {
   "cell_type": "markdown",
   "metadata": {},
   "source": [
    "**Predict**"
   ]
  },
  {
   "cell_type": "markdown",
   "metadata": {},
   "source": [
    "We will use this model to predict the value of this index at the beginning of 2023."
   ]
  },
  {
   "cell_type": "code",
   "execution_count": 34,
   "metadata": {},
   "outputs": [
    {
     "data": {
      "text/plain": [
       "35577.52414116077"
      ]
     },
     "execution_count": 34,
     "metadata": {},
     "output_type": "execute_result"
    }
   ],
   "source": [
    "tabla_uf.predict_value_LR(2023)"
   ]
  },
  {
   "cell_type": "code",
   "execution_count": null,
   "metadata": {},
   "outputs": [],
   "source": []
  }
 ],
 "metadata": {
  "kernelspec": {
   "display_name": "Python 3.9.12 ('base')",
   "language": "python",
   "name": "python3"
  },
  "language_info": {
   "codemirror_mode": {
    "name": "ipython",
    "version": 3
   },
   "file_extension": ".py",
   "mimetype": "text/x-python",
   "name": "python",
   "nbconvert_exporter": "python",
   "pygments_lexer": "ipython3",
   "version": "3.9.12"
  },
  "orig_nbformat": 4,
  "vscode": {
   "interpreter": {
    "hash": "2f8c485831047b2cebf111481919a8482d14cdda0a4d2016f96df03a335ecfa0"
   }
  }
 },
 "nbformat": 4,
 "nbformat_minor": 2
}
