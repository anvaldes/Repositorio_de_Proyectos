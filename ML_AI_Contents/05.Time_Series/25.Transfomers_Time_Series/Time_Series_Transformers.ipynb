{
  "nbformat": 4,
  "nbformat_minor": 0,
  "metadata": {
    "colab": {
      "provenance": [],
      "machine_shape": "hm",
      "gpuType": "L4"
    },
    "kernelspec": {
      "name": "python3",
      "display_name": "Python 3"
    },
    "language_info": {
      "name": "python"
    },
    "accelerator": "GPU"
  },
  "cells": [
    {
      "cell_type": "markdown",
      "source": [
        "# Time Series - Transformers"
      ],
      "metadata": {
        "id": "6J0izig0nj_3"
      }
    },
    {
      "cell_type": "markdown",
      "source": [
        "By Alberto Valdés\n",
        "\n",
        "**Mail 1:** anvaldes@uc.cl\n",
        "\n",
        "**Mail 2:** alberto.valdes.gonzalez.96@gmail.com\n",
        "\n",
        "This notebook was executed in Google Colab using a A100-GPU."
      ],
      "metadata": {
        "id": "3DLcQJLOnohF"
      }
    },
    {
      "cell_type": "markdown",
      "source": [
        "### Start of execution"
      ],
      "metadata": {
        "id": "lweyxFLnnvZ8"
      }
    },
    {
      "cell_type": "code",
      "source": [
        "import time"
      ],
      "metadata": {
        "id": "6DRMHaxInxex"
      },
      "execution_count": 1,
      "outputs": []
    },
    {
      "cell_type": "code",
      "source": [
        "start = time.time()"
      ],
      "metadata": {
        "id": "USceKYShny41"
      },
      "execution_count": 2,
      "outputs": []
    },
    {
      "cell_type": "markdown",
      "source": [
        "### 1. Setting the environment"
      ],
      "metadata": {
        "id": "tdN5vLYrn0vC"
      }
    },
    {
      "cell_type": "code",
      "execution_count": 3,
      "metadata": {
        "id": "NfwYfKUbeXzO"
      },
      "outputs": [],
      "source": [
        "!pip install -q transformers\n",
        "\n",
        "!pip install -q datasets\n",
        "\n",
        "!pip install -q evaluate\n",
        "\n",
        "!pip install -q accelerate\n",
        "\n",
        "!pip install -q gluonts ujson"
      ]
    },
    {
      "cell_type": "markdown",
      "source": [
        "### 2. Import Libraries"
      ],
      "metadata": {
        "id": "wgPUK0T0n5hn"
      }
    },
    {
      "cell_type": "code",
      "source": [
        "import torch\n",
        "import numpy as np\n",
        "import pandas as pd\n",
        "from evaluate import load\n",
        "from typing import Optional\n",
        "from typing import Iterable\n",
        "from functools import partial\n",
        "from torch.optim import AdamW\n",
        "from functools import lru_cache\n",
        "import matplotlib.pyplot as plt\n",
        "import matplotlib.dates as mdates\n",
        "from datasets import load_dataset\n",
        "from accelerate import Accelerator\n",
        "from transformers import PretrainedConfig\n",
        "from gluonts.itertools import Cached, Cyclic\n",
        "from gluonts.time_feature import get_seasonality\n",
        "from gluonts.transform.sampler import InstanceSampler\n",
        "from gluonts.dataset.loader import as_stacked_batches\n",
        "from gluonts.time_feature import get_lags_for_frequency\n",
        "from gluonts.time_feature import time_features_from_frequency_str\n",
        "from transformers import TimeSeriesTransformerConfig, TimeSeriesTransformerForPrediction"
      ],
      "metadata": {
        "id": "2immbyczn8EB"
      },
      "execution_count": 4,
      "outputs": []
    },
    {
      "cell_type": "code",
      "source": [
        "from gluonts.time_feature import (\n",
        "    time_features_from_frequency_str,\n",
        "    TimeFeature,\n",
        "    get_lags_for_frequency,\n",
        ")\n",
        "\n",
        "from gluonts.dataset.field_names import FieldName\n",
        "\n",
        "from gluonts.transform import (\n",
        "    AddAgeFeature,\n",
        "    AddObservedValuesIndicator,\n",
        "    AddTimeFeatures,\n",
        "    AsNumpyArray,\n",
        "    Chain,\n",
        "    ExpectedNumInstanceSampler,\n",
        "    InstanceSplitter,\n",
        "    RemoveFields,\n",
        "    SelectFields,\n",
        "    SetField,\n",
        "    TestSplitSampler,\n",
        "    Transformation,\n",
        "    ValidationSplitSampler,\n",
        "    VstackFeatures,\n",
        "    RenameFields,\n",
        ")"
      ],
      "metadata": {
        "id": "oRTZwLUqoeJ6"
      },
      "execution_count": 5,
      "outputs": []
    },
    {
      "cell_type": "markdown",
      "source": [
        "### 3. Functions"
      ],
      "metadata": {
        "id": "DZyZE9ANo6Yz"
      }
    },
    {
      "cell_type": "code",
      "source": [
        "def create_transformation(freq: str, config: PretrainedConfig) -> Transformation:\n",
        "    remove_field_names = []\n",
        "    if config.num_static_real_features == 0:\n",
        "        remove_field_names.append(FieldName.FEAT_STATIC_REAL)\n",
        "    if config.num_dynamic_real_features == 0:\n",
        "        remove_field_names.append(FieldName.FEAT_DYNAMIC_REAL)\n",
        "    if config.num_static_categorical_features == 0:\n",
        "        remove_field_names.append(FieldName.FEAT_STATIC_CAT)\n",
        "\n",
        "    # a bit like torchvision.transforms.Compose\n",
        "    return Chain(\n",
        "        # step 1: remove static/dynamic fields if not specified\n",
        "        [RemoveFields(field_names=remove_field_names)]\n",
        "        # step 2: convert the data to NumPy (potentially not needed)\n",
        "        + (\n",
        "            [\n",
        "                AsNumpyArray(\n",
        "                    field=FieldName.FEAT_STATIC_CAT,\n",
        "                    expected_ndim=1,\n",
        "                    dtype=int,\n",
        "                )\n",
        "            ]\n",
        "            if config.num_static_categorical_features > 0\n",
        "            else []\n",
        "        )\n",
        "        + (\n",
        "            [\n",
        "                AsNumpyArray(\n",
        "                    field=FieldName.FEAT_STATIC_REAL,\n",
        "                    expected_ndim=1,\n",
        "                )\n",
        "            ]\n",
        "            if config.num_static_real_features > 0\n",
        "            else []\n",
        "        )\n",
        "        + [\n",
        "            AsNumpyArray(\n",
        "                field=FieldName.TARGET,\n",
        "                # we expect an extra dim for the multivariate case:\n",
        "                expected_ndim=1 if config.input_size == 1 else 2,\n",
        "            ),\n",
        "            # step 3: handle the NaN's by filling in the target with zero\n",
        "            # and return the mask (which is in the observed values)\n",
        "            # true for observed values, false for nan's\n",
        "            # the decoder uses this mask (no loss is incurred for unobserved values)\n",
        "            # see loss_weights inside the xxxForPrediction model\n",
        "            AddObservedValuesIndicator(\n",
        "                target_field=FieldName.TARGET,\n",
        "                output_field=FieldName.OBSERVED_VALUES,\n",
        "            ),\n",
        "            # step 4: add temporal features based on freq of the dataset\n",
        "            # month of year in the case when freq=\"M\"\n",
        "            # these serve as positional encodings\n",
        "            AddTimeFeatures(\n",
        "                start_field=FieldName.START,\n",
        "                target_field=FieldName.TARGET,\n",
        "                output_field=FieldName.FEAT_TIME,\n",
        "                time_features=time_features_from_frequency_str(freq),\n",
        "                pred_length=config.prediction_length,\n",
        "            ),\n",
        "            # step 5: add another temporal feature (just a single number)\n",
        "            # tells the model where in its life the value of the time series is,\n",
        "            # sort of a running counter\n",
        "            AddAgeFeature(\n",
        "                target_field=FieldName.TARGET,\n",
        "                output_field=FieldName.FEAT_AGE,\n",
        "                pred_length=config.prediction_length,\n",
        "                log_scale=True,\n",
        "            ),\n",
        "            # step 6: vertically stack all the temporal features into the key FEAT_TIME\n",
        "            VstackFeatures(\n",
        "                output_field=FieldName.FEAT_TIME,\n",
        "                input_fields=[FieldName.FEAT_TIME, FieldName.FEAT_AGE]\n",
        "                + (\n",
        "                    [FieldName.FEAT_DYNAMIC_REAL]\n",
        "                    if config.num_dynamic_real_features > 0\n",
        "                    else []\n",
        "                ),\n",
        "            ),\n",
        "            # step 7: rename to match HuggingFace names\n",
        "            RenameFields(\n",
        "                mapping={\n",
        "                    FieldName.FEAT_STATIC_CAT: \"static_categorical_features\",\n",
        "                    FieldName.FEAT_STATIC_REAL: \"static_real_features\",\n",
        "                    FieldName.FEAT_TIME: \"time_features\",\n",
        "                    FieldName.TARGET: \"values\",\n",
        "                    FieldName.OBSERVED_VALUES: \"observed_mask\",\n",
        "                }\n",
        "            ),\n",
        "        ]\n",
        "    )"
      ],
      "metadata": {
        "id": "eoJsde0vpB9_"
      },
      "execution_count": 6,
      "outputs": []
    },
    {
      "cell_type": "code",
      "source": [
        "@lru_cache(10_000)\n",
        "def convert_to_pandas_period(date, freq):\n",
        "    return pd.Period(date, freq)\n",
        "\n",
        "def transform_start_field(batch, freq):\n",
        "    batch[\"start\"] = [convert_to_pandas_period(date, freq) for date in batch[\"start\"]]\n",
        "    return batch"
      ],
      "metadata": {
        "id": "l_b4cIbDn8Bv"
      },
      "execution_count": 7,
      "outputs": []
    },
    {
      "cell_type": "code",
      "source": [
        "def create_instance_splitter(\n",
        "    config: PretrainedConfig,\n",
        "    mode: str,\n",
        "    train_sampler: Optional[InstanceSampler] = None,\n",
        "    validation_sampler: Optional[InstanceSampler] = None,\n",
        ") -> Transformation:\n",
        "    assert mode in [\"train\", \"validation\", \"test\"]\n",
        "\n",
        "    instance_sampler = {\n",
        "        \"train\": train_sampler\n",
        "        or ExpectedNumInstanceSampler(\n",
        "            num_instances=1.0, min_future=config.prediction_length\n",
        "        ),\n",
        "        \"validation\": validation_sampler\n",
        "        or ValidationSplitSampler(min_future=config.prediction_length),\n",
        "        \"test\": TestSplitSampler(),\n",
        "    }[mode]\n",
        "\n",
        "    return InstanceSplitter(\n",
        "        target_field=\"values\",\n",
        "        is_pad_field=FieldName.IS_PAD,\n",
        "        start_field=FieldName.START,\n",
        "        forecast_start_field=FieldName.FORECAST_START,\n",
        "        instance_sampler=instance_sampler,\n",
        "        past_length=config.context_length + max(config.lags_sequence),\n",
        "        future_length=config.prediction_length,\n",
        "        time_series_fields=[\"time_features\", \"observed_mask\"],\n",
        "    )"
      ],
      "metadata": {
        "id": "OygoI9r7pGrU"
      },
      "execution_count": 8,
      "outputs": []
    },
    {
      "cell_type": "code",
      "source": [
        "def create_train_dataloader(\n",
        "    config: PretrainedConfig,\n",
        "    freq,\n",
        "    data,\n",
        "    batch_size: int,\n",
        "    num_batches_per_epoch: int,\n",
        "    shuffle_buffer_length: Optional[int] = None,\n",
        "    cache_data: bool = True,\n",
        "    **kwargs,\n",
        ") -> Iterable:\n",
        "    PREDICTION_INPUT_NAMES = [\n",
        "        \"past_time_features\",\n",
        "        \"past_values\",\n",
        "        \"past_observed_mask\",\n",
        "        \"future_time_features\",\n",
        "    ]\n",
        "    if config.num_static_categorical_features > 0:\n",
        "        PREDICTION_INPUT_NAMES.append(\"static_categorical_features\")\n",
        "\n",
        "    if config.num_static_real_features > 0:\n",
        "        PREDICTION_INPUT_NAMES.append(\"static_real_features\")\n",
        "\n",
        "    TRAINING_INPUT_NAMES = PREDICTION_INPUT_NAMES + [\n",
        "        \"future_values\",\n",
        "        \"future_observed_mask\",\n",
        "    ]\n",
        "\n",
        "    transformation = create_transformation(freq, config)\n",
        "    transformed_data = transformation.apply(data, is_train=True)\n",
        "    if cache_data:\n",
        "        transformed_data = Cached(transformed_data)\n",
        "\n",
        "    # we initialize a Training instance\n",
        "    instance_splitter = create_instance_splitter(config, \"train\")\n",
        "\n",
        "    # the instance splitter will sample a window of\n",
        "    # context length + lags + prediction length (from the 366 possible transformed time series)\n",
        "    # randomly from within the target time series and return an iterator.\n",
        "    stream = Cyclic(transformed_data).stream()\n",
        "    training_instances = instance_splitter.apply(stream)\n",
        "\n",
        "    return as_stacked_batches(\n",
        "        training_instances,\n",
        "        batch_size=batch_size,\n",
        "        shuffle_buffer_length=shuffle_buffer_length,\n",
        "        field_names=TRAINING_INPUT_NAMES,\n",
        "        output_type=torch.tensor,\n",
        "        num_batches_per_epoch=num_batches_per_epoch,\n",
        "    )"
      ],
      "metadata": {
        "id": "8dV3ZBP7pJXI"
      },
      "execution_count": 9,
      "outputs": []
    },
    {
      "cell_type": "code",
      "source": [
        "def create_backtest_dataloader(\n",
        "    config: PretrainedConfig,\n",
        "    freq,\n",
        "    data,\n",
        "    batch_size: int,\n",
        "    **kwargs,\n",
        "):\n",
        "    PREDICTION_INPUT_NAMES = [\n",
        "        \"past_time_features\",\n",
        "        \"past_values\",\n",
        "        \"past_observed_mask\",\n",
        "        \"future_time_features\",\n",
        "    ]\n",
        "    if config.num_static_categorical_features > 0:\n",
        "        PREDICTION_INPUT_NAMES.append(\"static_categorical_features\")\n",
        "\n",
        "    if config.num_static_real_features > 0:\n",
        "        PREDICTION_INPUT_NAMES.append(\"static_real_features\")\n",
        "\n",
        "    transformation = create_transformation(freq, config)\n",
        "    transformed_data = transformation.apply(data)\n",
        "\n",
        "    # we create a Validation Instance splitter which will sample the very last\n",
        "    # context window seen during training only for the encoder.\n",
        "    instance_sampler = create_instance_splitter(config, \"validation\")\n",
        "\n",
        "    # we apply the transformations in train mode\n",
        "    testing_instances = instance_sampler.apply(transformed_data, is_train=True)\n",
        "\n",
        "    return as_stacked_batches(\n",
        "        testing_instances,\n",
        "        batch_size=batch_size,\n",
        "        output_type=torch.tensor,\n",
        "        field_names=PREDICTION_INPUT_NAMES,\n",
        "    )"
      ],
      "metadata": {
        "id": "UCVhQO5HpNBa"
      },
      "execution_count": 10,
      "outputs": []
    },
    {
      "cell_type": "code",
      "source": [
        "def create_test_dataloader(\n",
        "    config: PretrainedConfig,\n",
        "    freq,\n",
        "    data,\n",
        "    batch_size: int,\n",
        "    **kwargs,\n",
        "):\n",
        "    PREDICTION_INPUT_NAMES = [\n",
        "        \"past_time_features\",\n",
        "        \"past_values\",\n",
        "        \"past_observed_mask\",\n",
        "        \"future_time_features\",\n",
        "    ]\n",
        "    if config.num_static_categorical_features > 0:\n",
        "        PREDICTION_INPUT_NAMES.append(\"static_categorical_features\")\n",
        "\n",
        "    if config.num_static_real_features > 0:\n",
        "        PREDICTION_INPUT_NAMES.append(\"static_real_features\")\n",
        "\n",
        "    transformation = create_transformation(freq, config)\n",
        "    transformed_data = transformation.apply(data, is_train=False)\n",
        "\n",
        "    # We create a test Instance splitter to sample the very last\n",
        "    # context window from the dataset provided.\n",
        "    instance_sampler = create_instance_splitter(config, \"test\")\n",
        "\n",
        "    # We apply the transformations in test mode\n",
        "    testing_instances = instance_sampler.apply(transformed_data, is_train=False)\n",
        "\n",
        "    return as_stacked_batches(\n",
        "        testing_instances,\n",
        "        batch_size=batch_size,\n",
        "        output_type=torch.tensor,\n",
        "        field_names=PREDICTION_INPUT_NAMES,\n",
        "    )"
      ],
      "metadata": {
        "id": "iNhtR7RnpTW5"
      },
      "execution_count": 11,
      "outputs": []
    },
    {
      "cell_type": "code",
      "source": [
        "def plot(ts_index):\n",
        "    fig, ax = plt.subplots()\n",
        "\n",
        "    index = pd.period_range(\n",
        "        start=test_dataset[ts_index][FieldName.START],\n",
        "        periods=len(test_dataset[ts_index][FieldName.TARGET]),\n",
        "        freq=freq,\n",
        "    ).to_timestamp()\n",
        "\n",
        "    # Major ticks every half year, minor ticks every month,\n",
        "    ax.xaxis.set_major_locator(mdates.MonthLocator(bymonth=(1, 7)))\n",
        "    ax.xaxis.set_minor_locator(mdates.MonthLocator())\n",
        "\n",
        "    ax.plot(\n",
        "        index[-2*prediction_length:],\n",
        "        test_dataset[ts_index][\"target\"][-2*prediction_length:],\n",
        "        label=\"actual\",\n",
        "    )\n",
        "\n",
        "    plt.plot(\n",
        "        index[-prediction_length:],\n",
        "        np.median(forecasts[ts_index], axis=0),\n",
        "        label=\"median\",\n",
        "    )\n",
        "\n",
        "    plt.fill_between(\n",
        "        index[-prediction_length:],\n",
        "        forecasts[ts_index].mean(0) - forecasts[ts_index].std(axis=0),\n",
        "        forecasts[ts_index].mean(0) + forecasts[ts_index].std(axis=0),\n",
        "        alpha=0.3,\n",
        "        interpolate=True,\n",
        "        label=\"+/- 1-std\",\n",
        "    )\n",
        "    plt.legend()\n",
        "    plt.show()"
      ],
      "metadata": {
        "id": "IPK6AuaupakD"
      },
      "execution_count": 12,
      "outputs": []
    },
    {
      "cell_type": "markdown",
      "source": [
        "### 4. Load datasets"
      ],
      "metadata": {
        "id": "Bhi8SLQEpcpH"
      }
    },
    {
      "cell_type": "code",
      "source": [
        "dataset = load_dataset(\"monash_tsf\", \"tourism_monthly\")"
      ],
      "metadata": {
        "colab": {
          "base_uri": "https://localhost:8080/"
        },
        "id": "pU8H5DEfpOyR",
        "outputId": "1d7caf74-ff2f-4da1-8d2b-6e568a41975e"
      },
      "execution_count": 13,
      "outputs": [
        {
          "output_type": "stream",
          "name": "stderr",
          "text": [
            "/usr/local/lib/python3.10/dist-packages/huggingface_hub/utils/_token.py:89: UserWarning: \n",
            "The secret `HF_TOKEN` does not exist in your Colab secrets.\n",
            "To authenticate with the Hugging Face Hub, create a token in your settings tab (https://huggingface.co/settings/tokens), set it as secret in your Google Colab and restart your session.\n",
            "You will be able to reuse this secret in all of your notebooks.\n",
            "Please note that authentication is recommended but still optional to access public models or datasets.\n",
            "  warnings.warn(\n"
          ]
        }
      ]
    },
    {
      "cell_type": "code",
      "source": [
        "dataset"
      ],
      "metadata": {
        "colab": {
          "base_uri": "https://localhost:8080/"
        },
        "id": "UNHh0edPpOwA",
        "outputId": "54449b8f-1fc9-4b64-d86a-3aeaa9770784"
      },
      "execution_count": 14,
      "outputs": [
        {
          "output_type": "execute_result",
          "data": {
            "text/plain": [
              "DatasetDict({\n",
              "    train: Dataset({\n",
              "        features: ['start', 'target', 'feat_static_cat', 'feat_dynamic_real', 'item_id'],\n",
              "        num_rows: 366\n",
              "    })\n",
              "    test: Dataset({\n",
              "        features: ['start', 'target', 'feat_static_cat', 'feat_dynamic_real', 'item_id'],\n",
              "        num_rows: 366\n",
              "    })\n",
              "    validation: Dataset({\n",
              "        features: ['start', 'target', 'feat_static_cat', 'feat_dynamic_real', 'item_id'],\n",
              "        num_rows: 366\n",
              "    })\n",
              "})"
            ]
          },
          "metadata": {},
          "execution_count": 14
        }
      ]
    },
    {
      "cell_type": "code",
      "source": [
        "train_example = dataset['train'][0]\n",
        "train_example.keys()"
      ],
      "metadata": {
        "colab": {
          "base_uri": "https://localhost:8080/"
        },
        "id": "TIOiaKZIpOtp",
        "outputId": "ed053525-7c60-4d78-9b84-793f11e6f28f"
      },
      "execution_count": 15,
      "outputs": [
        {
          "output_type": "execute_result",
          "data": {
            "text/plain": [
              "dict_keys(['start', 'target', 'feat_static_cat', 'feat_dynamic_real', 'item_id'])"
            ]
          },
          "metadata": {},
          "execution_count": 15
        }
      ]
    },
    {
      "cell_type": "code",
      "source": [
        "print(train_example['start'])\n",
        "print(train_example['target'])"
      ],
      "metadata": {
        "colab": {
          "base_uri": "https://localhost:8080/"
        },
        "id": "-wGwpgw5pOrW",
        "outputId": "85059a90-2968-4ae4-88ec-a60dd29bc611"
      },
      "execution_count": 16,
      "outputs": [
        {
          "output_type": "stream",
          "name": "stdout",
          "text": [
            "1979-01-01 00:00:00\n",
            "[1149.8699951171875, 1053.8001708984375, 1388.8797607421875, 1783.3702392578125, 1921.025146484375, 2704.94482421875, 4184.41357421875, 4148.35400390625, 2620.72509765625, 1650.300048828125, 1115.9200439453125, 1370.6251220703125, 1096.31494140625, 978.4600219726562, 1294.68505859375, 1480.465087890625, 1748.865234375, 2216.920166015625, 4690.5185546875, 4682.8642578125, 2459.579833984375, 1484.4901123046875, 1028.985107421875, 1109.3648681640625, 960.8751220703125, 896.35009765625, 1118.6551513671875, 1619.9949951171875, 1847.994873046875, 2367.044921875, 4991.16015625, 4772.9443359375, 2894.678466796875, 1860.4801025390625, 1185.150146484375, 1313.659912109375, 1160.9150390625, 1061.5048828125, 1301.77001953125, 1794.3797607421875, 2106.455078125, 2789.034912109375, 4917.8466796875, 4994.4833984375, 3016.754150390625, 1941.505126953125, 1234.135009765625, 1378.72021484375, 1182.9749755859375, 1081.6600341796875, 1424.110107421875, 1774.5350341796875, 2115.420166015625, 2804.840087890625, 4849.498046875, 4937.47509765625, 3074.2236328125, 2063.42529296875, 1297.355224609375, 1350.710205078125, 1224.360107421875, 1165.815185546875, 1409.3299560546875, 2116.5498046875, 2357.135009765625, 2995.0703125, 5295.2119140625, 4957.90478515625, 3321.959228515625, 2221.18017578125, 1345.9000244140625, 1514.01513671875, 1239.5501708984375, 1172.159912109375, 1518.9752197265625, 1996.8751220703125, 2248.68505859375, 3053.440185546875, 5019.45361328125, 5466.7802734375, 3235.167724609375, 2157.97998046875, 1379.7252197265625, 1728.0400390625, 1350.10986328125, 1216.014892578125, 1751.3251953125, 1805.320068359375, 2570.02490234375, 3204.240234375, 5395.72021484375, 6078.82861328125, 3587.098388671875, 2285.195068359375, 1582.18994140625, 1787.4298095703125, 1554.8701171875, 1409.8648681640625, 1612.125, 2286.239990234375, 2913.755126953125, 3645.908447265625, 5956.70849609375, 6326.97509765625, 3914.66015625, 2617.675048828125, 1675.1650390625, 2139.219970703125, 1715.4898681640625, 1663.5799560546875, 2053.699951171875, 2354.929931640625, 3038.591796875, 3470.609375, 6606.18359375, 6587.63671875, 4133.78271484375, 2960.0244140625, 1762.5849609375, 2125.64013671875, 1815.9150390625, 1632.31494140625, 2210.39501953125, 2210.215087890625, 3099.269287109375, 3468.77783203125, 6482.92529296875, 6665.48486328125, 4006.36181640625, 2882.3349609375, 1775.2498779296875, 2171.64990234375, 1796.4749755859375, 1692.349853515625, 1949.78515625, 2680.630126953125, 2645.949951171875, 3414.742919921875, 5772.876953125]\n"
          ]
        }
      ]
    },
    {
      "cell_type": "code",
      "source": [
        "validation_example = dataset['validation'][0]\n",
        "validation_example.keys()"
      ],
      "metadata": {
        "colab": {
          "base_uri": "https://localhost:8080/"
        },
        "id": "n7LJJyjSn7_b",
        "outputId": "76a8838d-9899-4580-fbf2-25d283ae6f2e"
      },
      "execution_count": 17,
      "outputs": [
        {
          "output_type": "execute_result",
          "data": {
            "text/plain": [
              "dict_keys(['start', 'target', 'feat_static_cat', 'feat_dynamic_real', 'item_id'])"
            ]
          },
          "metadata": {},
          "execution_count": 17
        }
      ]
    },
    {
      "cell_type": "code",
      "source": [
        "print(validation_example['start'])\n",
        "print(validation_example['target'])"
      ],
      "metadata": {
        "colab": {
          "base_uri": "https://localhost:8080/"
        },
        "id": "As4l93vHn79U",
        "outputId": "0c57c8b3-5e03-4ece-ecef-36d0b86adb0f"
      },
      "execution_count": 18,
      "outputs": [
        {
          "output_type": "stream",
          "name": "stdout",
          "text": [
            "1979-01-01 00:00:00\n",
            "[1149.8699951171875, 1053.8001708984375, 1388.8797607421875, 1783.3702392578125, 1921.025146484375, 2704.94482421875, 4184.41357421875, 4148.35400390625, 2620.72509765625, 1650.300048828125, 1115.9200439453125, 1370.6251220703125, 1096.31494140625, 978.4600219726562, 1294.68505859375, 1480.465087890625, 1748.865234375, 2216.920166015625, 4690.5185546875, 4682.8642578125, 2459.579833984375, 1484.4901123046875, 1028.985107421875, 1109.3648681640625, 960.8751220703125, 896.35009765625, 1118.6551513671875, 1619.9949951171875, 1847.994873046875, 2367.044921875, 4991.16015625, 4772.9443359375, 2894.678466796875, 1860.4801025390625, 1185.150146484375, 1313.659912109375, 1160.9150390625, 1061.5048828125, 1301.77001953125, 1794.3797607421875, 2106.455078125, 2789.034912109375, 4917.8466796875, 4994.4833984375, 3016.754150390625, 1941.505126953125, 1234.135009765625, 1378.72021484375, 1182.9749755859375, 1081.6600341796875, 1424.110107421875, 1774.5350341796875, 2115.420166015625, 2804.840087890625, 4849.498046875, 4937.47509765625, 3074.2236328125, 2063.42529296875, 1297.355224609375, 1350.710205078125, 1224.360107421875, 1165.815185546875, 1409.3299560546875, 2116.5498046875, 2357.135009765625, 2995.0703125, 5295.2119140625, 4957.90478515625, 3321.959228515625, 2221.18017578125, 1345.9000244140625, 1514.01513671875, 1239.5501708984375, 1172.159912109375, 1518.9752197265625, 1996.8751220703125, 2248.68505859375, 3053.440185546875, 5019.45361328125, 5466.7802734375, 3235.167724609375, 2157.97998046875, 1379.7252197265625, 1728.0400390625, 1350.10986328125, 1216.014892578125, 1751.3251953125, 1805.320068359375, 2570.02490234375, 3204.240234375, 5395.72021484375, 6078.82861328125, 3587.098388671875, 2285.195068359375, 1582.18994140625, 1787.4298095703125, 1554.8701171875, 1409.8648681640625, 1612.125, 2286.239990234375, 2913.755126953125, 3645.908447265625, 5956.70849609375, 6326.97509765625, 3914.66015625, 2617.675048828125, 1675.1650390625, 2139.219970703125, 1715.4898681640625, 1663.5799560546875, 2053.699951171875, 2354.929931640625, 3038.591796875, 3470.609375, 6606.18359375, 6587.63671875, 4133.78271484375, 2960.0244140625, 1762.5849609375, 2125.64013671875, 1815.9150390625, 1632.31494140625, 2210.39501953125, 2210.215087890625, 3099.269287109375, 3468.77783203125, 6482.92529296875, 6665.48486328125, 4006.36181640625, 2882.3349609375, 1775.2498779296875, 2171.64990234375, 1796.4749755859375, 1692.349853515625, 1949.78515625, 2680.630126953125, 2645.949951171875, 3414.742919921875, 5772.876953125, 6053.7041015625, 3878.12841796875, 2806.514892578125, 1735.5382080078125, 2128.919921875, 1608.01416015625, 1441.330078125, 2068.235107421875, 2207.610107421875, 2918.409912109375, 3400.81787109375, 6048.7421875, 6483.14013671875, 4063.502685546875, 2900.22998046875, 1907.094970703125, 2338.510009765625, 1787.1650390625, 1699.6451416015625, 1979.105224609375, 2824.260009765625, 3076.5048828125, 3402.5849609375, 5985.830078125]\n"
          ]
        }
      ]
    },
    {
      "cell_type": "code",
      "source": [
        "freq = \"1M\"\n",
        "prediction_length = 24\n",
        "\n",
        "assert len(train_example[\"target\"]) + prediction_length == len(\n",
        "    validation_example[\"target\"]\n",
        ")"
      ],
      "metadata": {
        "id": "YlPm4wCBn76v"
      },
      "execution_count": 19,
      "outputs": []
    },
    {
      "cell_type": "code",
      "source": [
        "figure, axes = plt.subplots()\n",
        "axes.plot(train_example[\"target\"], color=\"blue\")\n",
        "axes.plot(validation_example[\"target\"], color=\"red\", alpha=0.5)\n",
        "\n",
        "plt.show()"
      ],
      "metadata": {
        "id": "-RoWkfVjfM1d",
        "colab": {
          "base_uri": "https://localhost:8080/",
          "height": 430
        },
        "outputId": "b7448e57-164f-474b-c133-622bb61559e2"
      },
      "execution_count": 20,
      "outputs": [
        {
          "output_type": "display_data",
          "data": {
            "text/plain": [
              "<Figure size 640x480 with 1 Axes>"
            ],
            "image/png": "[encoded data removed]"
          },
          "metadata": {}
        }
      ]
    },
    {
      "cell_type": "code",
      "source": [
        "train_dataset = dataset[\"train\"]\n",
        "test_dataset = dataset[\"test\"]"
      ],
      "metadata": {
        "id": "To6AmqmxfPFA"
      },
      "execution_count": 21,
      "outputs": []
    },
    {
      "cell_type": "code",
      "source": [
        "train_dataset.set_transform(partial(transform_start_field, freq=freq))\n",
        "test_dataset.set_transform(partial(transform_start_field, freq=freq))"
      ],
      "metadata": {
        "id": "-pNoizryprGo"
      },
      "execution_count": 22,
      "outputs": []
    },
    {
      "cell_type": "code",
      "source": [
        "lags_sequence = get_lags_for_frequency(freq)\n",
        "print(lags_sequence)"
      ],
      "metadata": {
        "colab": {
          "base_uri": "https://localhost:8080/"
        },
        "id": "mqVbnJErpp-U",
        "outputId": "7c3d9b36-c647-40e3-a14a-866e2e8a3db6"
      },
      "execution_count": 23,
      "outputs": [
        {
          "output_type": "stream",
          "name": "stdout",
          "text": [
            "[1, 2, 3, 4, 5, 6, 7, 11, 12, 13, 23, 24, 25, 35, 36, 37]\n"
          ]
        }
      ]
    },
    {
      "cell_type": "code",
      "source": [
        "time_features = time_features_from_frequency_str(freq)\n",
        "print(time_features)"
      ],
      "metadata": {
        "id": "_cv33EzDfRY-",
        "colab": {
          "base_uri": "https://localhost:8080/"
        },
        "outputId": "a174650e-8daf-49a0-ea7f-9f3e06026d22"
      },
      "execution_count": 24,
      "outputs": [
        {
          "output_type": "stream",
          "name": "stdout",
          "text": [
            "[<function month_of_year at 0x7aa57383cca0>]\n"
          ]
        }
      ]
    },
    {
      "cell_type": "markdown",
      "source": [
        "### 5. Load model"
      ],
      "metadata": {
        "id": "4FZwmkStpvlo"
      }
    },
    {
      "cell_type": "code",
      "source": [
        "config = TimeSeriesTransformerConfig(\n",
        "    prediction_length=prediction_length,\n",
        "    # context length:\n",
        "    context_length=prediction_length * 2,\n",
        "    # lags coming from helper given the freq:\n",
        "    lags_sequence=lags_sequence,\n",
        "    # we'll add 2 time features (\"month of year\" and \"age\", see further):\n",
        "    num_time_features=len(time_features) + 1,\n",
        "    # we have a single static categorical feature, namely time series ID:\n",
        "    num_static_categorical_features=1,\n",
        "    # it has 366 possible values:\n",
        "    cardinality=[len(train_dataset)],\n",
        "    # the model will learn an embedding of size 2 for each of the 366 possible values:\n",
        "    embedding_dimension=[2],\n",
        "\n",
        "    # transformer params:\n",
        "    encoder_layers=4,\n",
        "    decoder_layers=4,\n",
        "    d_model=32,\n",
        ")"
      ],
      "metadata": {
        "id": "Gbmk-NjTpzKw"
      },
      "execution_count": 25,
      "outputs": []
    },
    {
      "cell_type": "code",
      "source": [
        "model = TimeSeriesTransformerForPrediction(config)"
      ],
      "metadata": {
        "id": "2yuT5UJ1p0IA"
      },
      "execution_count": 26,
      "outputs": []
    },
    {
      "cell_type": "code",
      "source": [
        "model.config.distribution_output"
      ],
      "metadata": {
        "id": "STqLh0hbfull",
        "colab": {
          "base_uri": "https://localhost:8080/",
          "height": 35
        },
        "outputId": "6a75b7c4-4f5b-48de-8519-793e26e34204"
      },
      "execution_count": 27,
      "outputs": [
        {
          "output_type": "execute_result",
          "data": {
            "text/plain": [
              "'student_t'"
            ],
            "application/vnd.google.colaboratory.intrinsic+json": {
              "type": "string"
            }
          },
          "metadata": {},
          "execution_count": 27
        }
      ]
    },
    {
      "cell_type": "markdown",
      "source": [
        "### 6. Data Loaders"
      ],
      "metadata": {
        "id": "kyuLYMx6p3AY"
      }
    },
    {
      "cell_type": "code",
      "source": [
        "train_dataloader = create_train_dataloader(\n",
        "    config=config,\n",
        "    freq=freq,\n",
        "    data=train_dataset,\n",
        "    batch_size=256,\n",
        "    num_batches_per_epoch=100,\n",
        ")"
      ],
      "metadata": {
        "id": "OXSzLL_Yf4xN"
      },
      "execution_count": 28,
      "outputs": []
    },
    {
      "cell_type": "code",
      "source": [
        "test_dataloader = create_backtest_dataloader(\n",
        "    config=config,\n",
        "    freq=freq,\n",
        "    data=test_dataset,\n",
        "    batch_size=64,\n",
        ")"
      ],
      "metadata": {
        "id": "AcJ9bQKGgAq-"
      },
      "execution_count": 29,
      "outputs": []
    },
    {
      "cell_type": "code",
      "source": [
        "batch = next(iter(train_dataloader))\n",
        "for k, v in batch.items():\n",
        "    print(k, v.shape, v.type())"
      ],
      "metadata": {
        "id": "HtseCMTLgEZx",
        "colab": {
          "base_uri": "https://localhost:8080/"
        },
        "outputId": "24d6e9d2-0879-4f0c-e62d-c5f297807461"
      },
      "execution_count": 30,
      "outputs": [
        {
          "output_type": "stream",
          "name": "stdout",
          "text": [
            "past_time_features torch.Size([256, 85, 2]) torch.FloatTensor\n",
            "past_values torch.Size([256, 85]) torch.FloatTensor\n",
            "past_observed_mask torch.Size([256, 85]) torch.FloatTensor\n",
            "future_time_features torch.Size([256, 24, 2]) torch.FloatTensor\n",
            "static_categorical_features torch.Size([256, 1]) torch.LongTensor\n",
            "future_values torch.Size([256, 24]) torch.FloatTensor\n",
            "future_observed_mask torch.Size([256, 24]) torch.FloatTensor\n"
          ]
        }
      ]
    },
    {
      "cell_type": "markdown",
      "source": [
        "### 7. Currently Performance"
      ],
      "metadata": {
        "id": "BD751U7MqABR"
      }
    },
    {
      "cell_type": "code",
      "source": [
        "outputs = model(\n",
        "    past_values=batch[\"past_values\"],\n",
        "    past_time_features=batch[\"past_time_features\"],\n",
        "    past_observed_mask=batch[\"past_observed_mask\"],\n",
        "    static_categorical_features=batch[\"static_categorical_features\"]\n",
        "    if config.num_static_categorical_features > 0\n",
        "    else None,\n",
        "    static_real_features=batch[\"static_real_features\"]\n",
        "    if config.num_static_real_features > 0\n",
        "    else None,\n",
        "    future_values=batch[\"future_values\"],\n",
        "    future_time_features=batch[\"future_time_features\"],\n",
        "    future_observed_mask=batch[\"future_observed_mask\"],\n",
        "    output_hidden_states=True,\n",
        ")"
      ],
      "metadata": {
        "id": "RPM5ch3pgGLg"
      },
      "execution_count": 31,
      "outputs": []
    },
    {
      "cell_type": "code",
      "source": [
        "print(\"Loss:\", outputs.loss.item())"
      ],
      "metadata": {
        "id": "vrE9MchHgIX1",
        "colab": {
          "base_uri": "https://localhost:8080/"
        },
        "outputId": "26ca8f1d-1191-4208-cb60-63f8fd8f616a"
      },
      "execution_count": 32,
      "outputs": [
        {
          "output_type": "stream",
          "name": "stdout",
          "text": [
            "Loss: 9.13853931427002\n"
          ]
        }
      ]
    },
    {
      "cell_type": "markdown",
      "source": [
        "### 8. Training"
      ],
      "metadata": {
        "id": "7jK3cUcgqIkU"
      }
    },
    {
      "cell_type": "code",
      "source": [
        "num_epochs = 40\n",
        "learning_rate = 6e-4"
      ],
      "metadata": {
        "id": "a0_TnOFkuymc"
      },
      "execution_count": 33,
      "outputs": []
    },
    {
      "cell_type": "code",
      "source": [
        "accelerator = Accelerator()\n",
        "device = accelerator.device\n",
        "\n",
        "model.to(device)\n",
        "optimizer = AdamW(model.parameters(), lr = learning_rate, betas=(0.9, 0.95), weight_decay=1e-1)\n",
        "\n",
        "model, optimizer, train_dataloader = accelerator.prepare(\n",
        "    model,\n",
        "    optimizer,\n",
        "    train_dataloader,\n",
        ")\n",
        "\n",
        "all_epochs = []\n",
        "all_train_loss = []\n",
        "all_val_loss = []\n",
        "\n",
        "for epoch in range(num_epochs):\n",
        "\n",
        "    #--------------------------------------------------\n",
        "\n",
        "    model.train()\n",
        "\n",
        "    loss_train = []\n",
        "\n",
        "    for idx, batch in enumerate(train_dataloader):\n",
        "\n",
        "        optimizer.zero_grad()\n",
        "        outputs = model(\n",
        "            static_categorical_features=batch[\"static_categorical_features\"].to(device)\n",
        "            if config.num_static_categorical_features > 0\n",
        "            else None,\n",
        "            static_real_features=batch[\"static_real_features\"].to(device)\n",
        "            if config.num_static_real_features > 0\n",
        "            else None,\n",
        "            past_time_features=batch[\"past_time_features\"].to(device),\n",
        "            past_values=batch[\"past_values\"].to(device),\n",
        "            future_time_features=batch[\"future_time_features\"].to(device),\n",
        "            future_values=batch[\"future_values\"].to(device),\n",
        "            past_observed_mask=batch[\"past_observed_mask\"].to(device),\n",
        "            future_observed_mask=batch[\"future_observed_mask\"].to(device),\n",
        "        )\n",
        "        loss = outputs.loss\n",
        "\n",
        "        # Backpropagation\n",
        "        accelerator.backward(loss)\n",
        "        optimizer.step()\n",
        "\n",
        "        loss_train.append(float(loss.item()))\n",
        "\n",
        "    #--------------------------------------------------\n",
        "\n",
        "    print('Epoch:', epoch)\n",
        "\n",
        "    loss_train_total = round(np.array(loss_train).mean(), 2)\n",
        "\n",
        "    print('Train loss:', loss_train_total)\n",
        "\n",
        "    all_epochs.append(epoch)\n",
        "    all_train_loss.append(loss_train_total)\n",
        "\n",
        "    print('-'*70)\n",
        "\n",
        "    #--------------------------------------------------"
      ],
      "metadata": {
        "id": "9YJZMkslgKjM",
        "colab": {
          "base_uri": "https://localhost:8080/"
        },
        "outputId": "9280c396-9287-4c90-8bd7-f808e36ea8e4"
      },
      "execution_count": 34,
      "outputs": [
        {
          "output_type": "stream",
          "name": "stdout",
          "text": [
            "Epoch: 0\n",
            "Train loss: 8.15\n",
            "----------------------------------------------------------------------\n",
            "Epoch: 1\n",
            "Train loss: 7.72\n",
            "----------------------------------------------------------------------\n",
            "Epoch: 2\n",
            "Train loss: 7.44\n",
            "----------------------------------------------------------------------\n",
            "Epoch: 3\n",
            "Train loss: 7.34\n",
            "----------------------------------------------------------------------\n",
            "Epoch: 4\n",
            "Train loss: 7.27\n",
            "----------------------------------------------------------------------\n",
            "Epoch: 5\n",
            "Train loss: 7.24\n",
            "----------------------------------------------------------------------\n",
            "Epoch: 6\n",
            "Train loss: 7.23\n",
            "----------------------------------------------------------------------\n",
            "Epoch: 7\n",
            "Train loss: 7.22\n",
            "----------------------------------------------------------------------\n",
            "Epoch: 8\n",
            "Train loss: 7.19\n",
            "----------------------------------------------------------------------\n",
            "Epoch: 9\n",
            "Train loss: 7.21\n",
            "----------------------------------------------------------------------\n",
            "Epoch: 10\n",
            "Train loss: 7.16\n",
            "----------------------------------------------------------------------\n",
            "Epoch: 11\n",
            "Train loss: 7.16\n",
            "----------------------------------------------------------------------\n",
            "Epoch: 12\n",
            "Train loss: 7.16\n",
            "----------------------------------------------------------------------\n",
            "Epoch: 13\n",
            "Train loss: 7.16\n",
            "----------------------------------------------------------------------\n",
            "Epoch: 14\n",
            "Train loss: 7.14\n",
            "----------------------------------------------------------------------\n",
            "Epoch: 15\n",
            "Train loss: 7.12\n",
            "----------------------------------------------------------------------\n",
            "Epoch: 16\n",
            "Train loss: 7.16\n",
            "----------------------------------------------------------------------\n",
            "Epoch: 17\n",
            "Train loss: 7.15\n",
            "----------------------------------------------------------------------\n",
            "Epoch: 18\n",
            "Train loss: 7.14\n",
            "----------------------------------------------------------------------\n",
            "Epoch: 19\n",
            "Train loss: 7.14\n",
            "----------------------------------------------------------------------\n",
            "Epoch: 20\n",
            "Train loss: 7.13\n",
            "----------------------------------------------------------------------\n",
            "Epoch: 21\n",
            "Train loss: 7.15\n",
            "----------------------------------------------------------------------\n",
            "Epoch: 22\n",
            "Train loss: 7.11\n",
            "----------------------------------------------------------------------\n",
            "Epoch: 23\n",
            "Train loss: 7.14\n",
            "----------------------------------------------------------------------\n",
            "Epoch: 24\n",
            "Train loss: 7.12\n",
            "----------------------------------------------------------------------\n",
            "Epoch: 25\n",
            "Train loss: 7.13\n",
            "----------------------------------------------------------------------\n",
            "Epoch: 26\n",
            "Train loss: 7.11\n",
            "----------------------------------------------------------------------\n",
            "Epoch: 27\n",
            "Train loss: 7.14\n",
            "----------------------------------------------------------------------\n",
            "Epoch: 28\n",
            "Train loss: 7.11\n",
            "----------------------------------------------------------------------\n",
            "Epoch: 29\n",
            "Train loss: 7.1\n",
            "----------------------------------------------------------------------\n",
            "Epoch: 30\n",
            "Train loss: 7.13\n",
            "----------------------------------------------------------------------\n",
            "Epoch: 31\n",
            "Train loss: 7.1\n",
            "----------------------------------------------------------------------\n",
            "Epoch: 32\n",
            "Train loss: 7.1\n",
            "----------------------------------------------------------------------\n",
            "Epoch: 33\n",
            "Train loss: 7.11\n",
            "----------------------------------------------------------------------\n",
            "Epoch: 34\n",
            "Train loss: 7.13\n",
            "----------------------------------------------------------------------\n",
            "Epoch: 35\n",
            "Train loss: 7.09\n",
            "----------------------------------------------------------------------\n",
            "Epoch: 36\n",
            "Train loss: 7.11\n",
            "----------------------------------------------------------------------\n",
            "Epoch: 37\n",
            "Train loss: 7.1\n",
            "----------------------------------------------------------------------\n",
            "Epoch: 38\n",
            "Train loss: 7.1\n",
            "----------------------------------------------------------------------\n",
            "Epoch: 39\n",
            "Train loss: 7.12\n",
            "----------------------------------------------------------------------\n"
          ]
        }
      ]
    },
    {
      "cell_type": "code",
      "source": [
        "plt.figure(figsize = (10, 7))\n",
        "plt.plot(all_epochs, all_train_loss, color = 'blue', label = 'train')\n",
        "plt.legend()\n",
        "plt.show()"
      ],
      "metadata": {
        "colab": {
          "base_uri": "https://localhost:8080/",
          "height": 603
        },
        "id": "h9UxB4sLt4XE",
        "outputId": "04b4776d-52ad-48f6-ac48-65980531bd09"
      },
      "execution_count": 35,
      "outputs": [
        {
          "output_type": "display_data",
          "data": {
            "text/plain": [
              "<Figure size 1000x700 with 1 Axes>"
            ],
            "image/png": "[encoded data removed]"
          },
          "metadata": {}
        }
      ]
    },
    {
      "cell_type": "code",
      "source": [
        "model.eval()\n",
        "\n",
        "forecasts = []\n",
        "\n",
        "for batch in test_dataloader:\n",
        "    outputs = model.generate(\n",
        "        static_categorical_features=batch[\"static_categorical_features\"].to(device)\n",
        "        if config.num_static_categorical_features > 0\n",
        "        else None,\n",
        "        static_real_features=batch[\"static_real_features\"].to(device)\n",
        "        if config.num_static_real_features > 0\n",
        "        else None,\n",
        "        past_time_features=batch[\"past_time_features\"].to(device),\n",
        "        past_values=batch[\"past_values\"].to(device),\n",
        "        future_time_features=batch[\"future_time_features\"].to(device),\n",
        "        past_observed_mask=batch[\"past_observed_mask\"].to(device),\n",
        "    )\n",
        "    forecasts.append(outputs.sequences.cpu().numpy())"
      ],
      "metadata": {
        "id": "V-fA5fXKgMK0"
      },
      "execution_count": 36,
      "outputs": []
    },
    {
      "cell_type": "code",
      "source": [
        "forecasts[0].shape"
      ],
      "metadata": {
        "colab": {
          "base_uri": "https://localhost:8080/"
        },
        "id": "B5-ssFC5gV_t",
        "outputId": "a0849862-dbda-415f-eb9f-583ff37ff45c"
      },
      "execution_count": 37,
      "outputs": [
        {
          "output_type": "execute_result",
          "data": {
            "text/plain": [
              "(64, 100, 24)"
            ]
          },
          "metadata": {},
          "execution_count": 37
        }
      ]
    },
    {
      "cell_type": "code",
      "source": [
        "forecasts = np.vstack(forecasts)\n",
        "print(forecasts.shape)"
      ],
      "metadata": {
        "id": "5KidVAQogY4T",
        "colab": {
          "base_uri": "https://localhost:8080/"
        },
        "outputId": "45f0e67b-a70c-43b8-a6bb-95a1a36b8f88"
      },
      "execution_count": 38,
      "outputs": [
        {
          "output_type": "stream",
          "name": "stdout",
          "text": [
            "(366, 100, 24)\n"
          ]
        }
      ]
    },
    {
      "cell_type": "markdown",
      "source": [
        "### 9. Evaluate"
      ],
      "metadata": {
        "id": "Ya-K88dXqYN7"
      }
    },
    {
      "cell_type": "code",
      "source": [
        "mase_metric = load(\"evaluate-metric/mase\")\n",
        "smape_metric = load(\"evaluate-metric/smape\")"
      ],
      "metadata": {
        "id": "jTIqiDV0irdA"
      },
      "execution_count": 39,
      "outputs": []
    },
    {
      "cell_type": "code",
      "source": [
        "forecast_median = np.median(forecasts, 1)\n",
        "\n",
        "mase_metrics = []\n",
        "smape_metrics = []\n",
        "for item_id, ts in enumerate(test_dataset):\n",
        "    training_data = ts[\"target\"][:-prediction_length]\n",
        "    ground_truth = ts[\"target\"][-prediction_length:]\n",
        "    mase = mase_metric.compute(\n",
        "        predictions=forecast_median[item_id],\n",
        "        references=np.array(ground_truth),\n",
        "        training=np.array(training_data),\n",
        "        periodicity=get_seasonality(freq))\n",
        "    mase_metrics.append(mase[\"mase\"])\n",
        "\n",
        "    smape = smape_metric.compute(\n",
        "        predictions=forecast_median[item_id],\n",
        "        references=np.array(ground_truth),\n",
        "    )\n",
        "    smape_metrics.append(smape[\"smape\"])"
      ],
      "metadata": {
        "id": "TUq5I5_aivCH"
      },
      "execution_count": 40,
      "outputs": []
    },
    {
      "cell_type": "code",
      "source": [
        "print(f\"MASE: {np.mean(mase_metrics)}\")\n",
        "print(f\"sMAPE: {np.mean(smape_metrics)}\")"
      ],
      "metadata": {
        "colab": {
          "base_uri": "https://localhost:8080/"
        },
        "id": "tlLFOCnVogf6",
        "outputId": "baf104df-7d87-4c6b-da7e-b067cc31de77"
      },
      "execution_count": 41,
      "outputs": [
        {
          "output_type": "stream",
          "name": "stdout",
          "text": [
            "MASE: 1.520325171452199\n",
            "sMAPE: 0.19451679574300645\n"
          ]
        }
      ]
    },
    {
      "cell_type": "code",
      "source": [
        "plt.scatter(mase_metrics, smape_metrics, alpha=0.3)\n",
        "plt.xlabel(\"MASE\")\n",
        "plt.ylabel(\"sMAPE\")\n",
        "plt.show()"
      ],
      "metadata": {
        "colab": {
          "base_uri": "https://localhost:8080/",
          "height": 454
        },
        "id": "I5m2F5FlixzF",
        "outputId": "60213df6-a645-4ed6-e814-24c1477a2bd5"
      },
      "execution_count": 42,
      "outputs": [
        {
          "output_type": "display_data",
          "data": {
            "text/plain": [
              "<Figure size 640x480 with 1 Axes>"
            ],
            "image/png": "[encoded data removed]"
          },
          "metadata": {}
        }
      ]
    },
    {
      "cell_type": "code",
      "source": [
        "plot(334)"
      ],
      "metadata": {
        "colab": {
          "base_uri": "https://localhost:8080/",
          "height": 430
        },
        "id": "o0sEeiTii0Th",
        "outputId": "c9a250cf-1a91-4d43-e9dc-fc94bdec57cd"
      },
      "execution_count": 43,
      "outputs": [
        {
          "output_type": "display_data",
          "data": {
            "text/plain": [
              "<Figure size 640x480 with 1 Axes>"
            ],
            "image/png": "[encoded data removed]"
          },
          "metadata": {}
        }
      ]
    },
    {
      "cell_type": "markdown",
      "source": [
        "### End of execution"
      ],
      "metadata": {
        "id": "bKUazOwmqiKK"
      }
    },
    {
      "cell_type": "code",
      "source": [
        "end = time.time()\n",
        "\n",
        "delta = (end - start)\n",
        "\n",
        "hours = int(delta/3_600)\n",
        "mins = int((delta - hours*3_600)/60)\n",
        "secs = int(delta - hours*3_600 - mins*60)\n",
        "\n",
        "print(f'Hours: {hours}, Minutes: {mins}, Seconds: {secs}')"
      ],
      "metadata": {
        "id": "GJovSAukjERf",
        "colab": {
          "base_uri": "https://localhost:8080/"
        },
        "outputId": "aeaa3e7a-535d-4709-bb32-fbff0845fd4e"
      },
      "execution_count": 44,
      "outputs": [
        {
          "output_type": "stream",
          "name": "stdout",
          "text": [
            "Hours: 0, Minutes: 4, Seconds: 33\n"
          ]
        }
      ]
    },
    {
      "cell_type": "code",
      "source": [],
      "metadata": {
        "id": "jrRw5adcqk7Y"
      },
      "execution_count": 44,
      "outputs": []
    }
  ]
}