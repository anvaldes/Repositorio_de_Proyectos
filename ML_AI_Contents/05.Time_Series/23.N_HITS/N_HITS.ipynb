{
  "nbformat": 4,
  "nbformat_minor": 0,
  "metadata": {
    "colab": {
      "provenance": [],
      "machine_shape": "hm",
      "gpuType": "L4"
    },
    "kernelspec": {
      "name": "python3",
      "display_name": "Python 3"
    },
    "language_info": {
      "name": "python"
    },
    "accelerator": "GPU",
    "widgets": {
      "application/vnd.jupyter.widget-state+json": {
        "d140f6eacfff4c0d93f1674d4f48c462": {
          "model_module": "@jupyter-widgets/controls",
          "model_name": "HBoxModel",
          "model_module_version": "1.5.0",
          "state": {
            "_dom_classes": [],
            "_model_module": "@jupyter-widgets/controls",
            "_model_module_version": "1.5.0",
            "_model_name": "HBoxModel",
            "_view_count": null,
            "_view_module": "@jupyter-widgets/controls",
            "_view_module_version": "1.5.0",
            "_view_name": "HBoxView",
            "box_style": "",
            "children": [
              "IPY_MODEL_a43ae3d00c1548f59d141b4f60d8cb24",
              "IPY_MODEL_2177a70312464d1999c7849bc358d59c",
              "IPY_MODEL_2b942205c9644786b3ab34066a6f4ab1"
            ],
            "layout": "IPY_MODEL_6619afb42a0a4c3f83aea9464348afe2"
          }
        },
        "a43ae3d00c1548f59d141b4f60d8cb24": {
          "model_module": "@jupyter-widgets/controls",
          "model_name": "HTMLModel",
          "model_module_version": "1.5.0",
          "state": {
            "_dom_classes": [],
            "_model_module": "@jupyter-widgets/controls",
            "_model_module_version": "1.5.0",
            "_model_name": "HTMLModel",
            "_view_count": null,
            "_view_module": "@jupyter-widgets/controls",
            "_view_module_version": "1.5.0",
            "_view_name": "HTMLView",
            "description": "",
            "description_tooltip": null,
            "layout": "IPY_MODEL_19a6068067164513b00de19d536cce44",
            "placeholder": "​",
            "style": "IPY_MODEL_7fc354f592a246929950c474342c0d7b",
            "value": "Sanity Checking DataLoader 0: 100%"
          }
        },
        "2177a70312464d1999c7849bc358d59c": {
          "model_module": "@jupyter-widgets/controls",
          "model_name": "FloatProgressModel",
          "model_module_version": "1.5.0",
          "state": {
            "_dom_classes": [],
            "_model_module": "@jupyter-widgets/controls",
            "_model_module_version": "1.5.0",
            "_model_name": "FloatProgressModel",
            "_view_count": null,
            "_view_module": "@jupyter-widgets/controls",
            "_view_module_version": "1.5.0",
            "_view_name": "ProgressView",
            "bar_style": "",
            "description": "",
            "description_tooltip": null,
            "layout": "IPY_MODEL_3e25b6d7610548a7a79f87634ef4540f",
            "max": 1,
            "min": 0,
            "orientation": "horizontal",
            "style": "IPY_MODEL_5dfa531b5a53444ba12447cf85601daa",
            "value": 1
          }
        },
        "2b942205c9644786b3ab34066a6f4ab1": {
          "model_module": "@jupyter-widgets/controls",
          "model_name": "HTMLModel",
          "model_module_version": "1.5.0",
          "state": {
            "_dom_classes": [],
            "_model_module": "@jupyter-widgets/controls",
            "_model_module_version": "1.5.0",
            "_model_name": "HTMLModel",
            "_view_count": null,
            "_view_module": "@jupyter-widgets/controls",
            "_view_module_version": "1.5.0",
            "_view_name": "HTMLView",
            "description": "",
            "description_tooltip": null,
            "layout": "IPY_MODEL_a2ee5e97045e4fc4ab283dc6fe0b163d",
            "placeholder": "​",
            "style": "IPY_MODEL_0411e91384a34d3cba265e41f060d703",
            "value": " 1/1 [00:00&lt;00:00, 1085.48it/s]"
          }
        },
        "6619afb42a0a4c3f83aea9464348afe2": {
          "model_module": "@jupyter-widgets/base",
          "model_name": "LayoutModel",
          "model_module_version": "1.2.0",
          "state": {
            "_model_module": "@jupyter-widgets/base",
            "_model_module_version": "1.2.0",
            "_model_name": "LayoutModel",
            "_view_count": null,
            "_view_module": "@jupyter-widgets/base",
            "_view_module_version": "1.2.0",
            "_view_name": "LayoutView",
            "align_content": null,
            "align_items": null,
            "align_self": null,
            "border": null,
            "bottom": null,
            "display": "inline-flex",
            "flex": null,
            "flex_flow": "row wrap",
            "grid_area": null,
            "grid_auto_columns": null,
            "grid_auto_flow": null,
            "grid_auto_rows": null,
            "grid_column": null,
            "grid_gap": null,
            "grid_row": null,
            "grid_template_areas": null,
            "grid_template_columns": null,
            "grid_template_rows": null,
            "height": null,
            "justify_content": null,
            "justify_items": null,
            "left": null,
            "margin": null,
            "max_height": null,
            "max_width": null,
            "min_height": null,
            "min_width": null,
            "object_fit": null,
            "object_position": null,
            "order": null,
            "overflow": null,
            "overflow_x": null,
            "overflow_y": null,
            "padding": null,
            "right": null,
            "top": null,
            "visibility": "hidden",
            "width": "100%"
          }
        },
        "19a6068067164513b00de19d536cce44": {
          "model_module": "@jupyter-widgets/base",
          "model_name": "LayoutModel",
          "model_module_version": "1.2.0",
          "state": {
            "_model_module": "@jupyter-widgets/base",
            "_model_module_version": "1.2.0",
            "_model_name": "LayoutModel",
            "_view_count": null,
            "_view_module": "@jupyter-widgets/base",
            "_view_module_version": "1.2.0",
            "_view_name": "LayoutView",
            "align_content": null,
            "align_items": null,
            "align_self": null,
            "border": null,
            "bottom": null,
            "display": null,
            "flex": null,
            "flex_flow": null,
            "grid_area": null,
            "grid_auto_columns": null,
            "grid_auto_flow": null,
            "grid_auto_rows": null,
            "grid_column": null,
            "grid_gap": null,
            "grid_row": null,
            "grid_template_areas": null,
            "grid_template_columns": null,
            "grid_template_rows": null,
            "height": null,
            "justify_content": null,
            "justify_items": null,
            "left": null,
            "margin": null,
            "max_height": null,
            "max_width": null,
            "min_height": null,
            "min_width": null,
            "object_fit": null,
            "object_position": null,
            "order": null,
            "overflow": null,
            "overflow_x": null,
            "overflow_y": null,
            "padding": null,
            "right": null,
            "top": null,
            "visibility": null,
            "width": null
          }
        },
        "7fc354f592a246929950c474342c0d7b": {
          "model_module": "@jupyter-widgets/controls",
          "model_name": "DescriptionStyleModel",
          "model_module_version": "1.5.0",
          "state": {
            "_model_module": "@jupyter-widgets/controls",
            "_model_module_version": "1.5.0",
            "_model_name": "DescriptionStyleModel",
            "_view_count": null,
            "_view_module": "@jupyter-widgets/base",
            "_view_module_version": "1.2.0",
            "_view_name": "StyleView",
            "description_width": ""
          }
        },
        "3e25b6d7610548a7a79f87634ef4540f": {
          "model_module": "@jupyter-widgets/base",
          "model_name": "LayoutModel",
          "model_module_version": "1.2.0",
          "state": {
            "_model_module": "@jupyter-widgets/base",
            "_model_module_version": "1.2.0",
            "_model_name": "LayoutModel",
            "_view_count": null,
            "_view_module": "@jupyter-widgets/base",
            "_view_module_version": "1.2.0",
            "_view_name": "LayoutView",
            "align_content": null,
            "align_items": null,
            "align_self": null,
            "border": null,
            "bottom": null,
            "display": null,
            "flex": "2",
            "flex_flow": null,
            "grid_area": null,
            "grid_auto_columns": null,
            "grid_auto_flow": null,
            "grid_auto_rows": null,
            "grid_column": null,
            "grid_gap": null,
            "grid_row": null,
            "grid_template_areas": null,
            "grid_template_columns": null,
            "grid_template_rows": null,
            "height": null,
            "justify_content": null,
            "justify_items": null,
            "left": null,
            "margin": null,
            "max_height": null,
            "max_width": null,
            "min_height": null,
            "min_width": null,
            "object_fit": null,
            "object_position": null,
            "order": null,
            "overflow": null,
            "overflow_x": null,
            "overflow_y": null,
            "padding": null,
            "right": null,
            "top": null,
            "visibility": null,
            "width": null
          }
        },
        "5dfa531b5a53444ba12447cf85601daa": {
          "model_module": "@jupyter-widgets/controls",
          "model_name": "ProgressStyleModel",
          "model_module_version": "1.5.0",
          "state": {
            "_model_module": "@jupyter-widgets/controls",
            "_model_module_version": "1.5.0",
            "_model_name": "ProgressStyleModel",
            "_view_count": null,
            "_view_module": "@jupyter-widgets/base",
            "_view_module_version": "1.2.0",
            "_view_name": "StyleView",
            "bar_color": null,
            "description_width": ""
          }
        },
        "a2ee5e97045e4fc4ab283dc6fe0b163d": {
          "model_module": "@jupyter-widgets/base",
          "model_name": "LayoutModel",
          "model_module_version": "1.2.0",
          "state": {
            "_model_module": "@jupyter-widgets/base",
            "_model_module_version": "1.2.0",
            "_model_name": "LayoutModel",
            "_view_count": null,
            "_view_module": "@jupyter-widgets/base",
            "_view_module_version": "1.2.0",
            "_view_name": "LayoutView",
            "align_content": null,
            "align_items": null,
            "align_self": null,
            "border": null,
            "bottom": null,
            "display": null,
            "flex": null,
            "flex_flow": null,
            "grid_area": null,
            "grid_auto_columns": null,
            "grid_auto_flow": null,
            "grid_auto_rows": null,
            "grid_column": null,
            "grid_gap": null,
            "grid_row": null,
            "grid_template_areas": null,
            "grid_template_columns": null,
            "grid_template_rows": null,
            "height": null,
            "justify_content": null,
            "justify_items": null,
            "left": null,
            "margin": null,
            "max_height": null,
            "max_width": null,
            "min_height": null,
            "min_width": null,
            "object_fit": null,
            "object_position": null,
            "order": null,
            "overflow": null,
            "overflow_x": null,
            "overflow_y": null,
            "padding": null,
            "right": null,
            "top": null,
            "visibility": null,
            "width": null
          }
        },
        "0411e91384a34d3cba265e41f060d703": {
          "model_module": "@jupyter-widgets/controls",
          "model_name": "DescriptionStyleModel",
          "model_module_version": "1.5.0",
          "state": {
            "_model_module": "@jupyter-widgets/controls",
            "_model_module_version": "1.5.0",
            "_model_name": "DescriptionStyleModel",
            "_view_count": null,
            "_view_module": "@jupyter-widgets/base",
            "_view_module_version": "1.2.0",
            "_view_name": "StyleView",
            "description_width": ""
          }
        },
        "c7fbffb3ee02474897b9254f58fe1f5f": {
          "model_module": "@jupyter-widgets/controls",
          "model_name": "HBoxModel",
          "model_module_version": "1.5.0",
          "state": {
            "_dom_classes": [],
            "_model_module": "@jupyter-widgets/controls",
            "_model_module_version": "1.5.0",
            "_model_name": "HBoxModel",
            "_view_count": null,
            "_view_module": "@jupyter-widgets/controls",
            "_view_module_version": "1.5.0",
            "_view_name": "HBoxView",
            "box_style": "",
            "children": [
              "IPY_MODEL_8279ece15891451b9f61bc50c34aceca",
              "IPY_MODEL_bf799711264041a7b3964db21f9e2c7e",
              "IPY_MODEL_7ab34c994f354b0a94c4f2cfc865fefd"
            ],
            "layout": "IPY_MODEL_6e68c12a8271446fa5ea338d5c23ead0"
          }
        },
        "8279ece15891451b9f61bc50c34aceca": {
          "model_module": "@jupyter-widgets/controls",
          "model_name": "HTMLModel",
          "model_module_version": "1.5.0",
          "state": {
            "_dom_classes": [],
            "_model_module": "@jupyter-widgets/controls",
            "_model_module_version": "1.5.0",
            "_model_name": "HTMLModel",
            "_view_count": null,
            "_view_module": "@jupyter-widgets/controls",
            "_view_module_version": "1.5.0",
            "_view_name": "HTMLView",
            "description": "",
            "description_tooltip": null,
            "layout": "IPY_MODEL_bc39bbda3bd14ad7bf077f27e9b6dab2",
            "placeholder": "​",
            "style": "IPY_MODEL_ab67b1106208446da493206a134f4b61",
            "value": "Epoch 49: 100%"
          }
        },
        "bf799711264041a7b3964db21f9e2c7e": {
          "model_module": "@jupyter-widgets/controls",
          "model_name": "FloatProgressModel",
          "model_module_version": "1.5.0",
          "state": {
            "_dom_classes": [],
            "_model_module": "@jupyter-widgets/controls",
            "_model_module_version": "1.5.0",
            "_model_name": "FloatProgressModel",
            "_view_count": null,
            "_view_module": "@jupyter-widgets/controls",
            "_view_module_version": "1.5.0",
            "_view_name": "ProgressView",
            "bar_style": "success",
            "description": "",
            "description_tooltip": null,
            "layout": "IPY_MODEL_362f43907cbc4f59999a35021cc07b54",
            "max": 1,
            "min": 0,
            "orientation": "horizontal",
            "style": "IPY_MODEL_2e9269ad87644f759ac0d024a6def0af",
            "value": 1
          }
        },
        "7ab34c994f354b0a94c4f2cfc865fefd": {
          "model_module": "@jupyter-widgets/controls",
          "model_name": "HTMLModel",
          "model_module_version": "1.5.0",
          "state": {
            "_dom_classes": [],
            "_model_module": "@jupyter-widgets/controls",
            "_model_module_version": "1.5.0",
            "_model_name": "HTMLModel",
            "_view_count": null,
            "_view_module": "@jupyter-widgets/controls",
            "_view_module_version": "1.5.0",
            "_view_name": "HTMLView",
            "description": "",
            "description_tooltip": null,
            "layout": "IPY_MODEL_02ccbb0eb08e4814983961fbd94a4190",
            "placeholder": "​",
            "style": "IPY_MODEL_335b2d5508034078a7ef6fdc96fb38dc",
            "value": " 1/1 [00:00&lt;00:00, 21.31it/s, v_num=18, train_loss_step=18.30, train_loss_epoch=18.30]"
          }
        },
        "6e68c12a8271446fa5ea338d5c23ead0": {
          "model_module": "@jupyter-widgets/base",
          "model_name": "LayoutModel",
          "model_module_version": "1.2.0",
          "state": {
            "_model_module": "@jupyter-widgets/base",
            "_model_module_version": "1.2.0",
            "_model_name": "LayoutModel",
            "_view_count": null,
            "_view_module": "@jupyter-widgets/base",
            "_view_module_version": "1.2.0",
            "_view_name": "LayoutView",
            "align_content": null,
            "align_items": null,
            "align_self": null,
            "border": null,
            "bottom": null,
            "display": "inline-flex",
            "flex": null,
            "flex_flow": "row wrap",
            "grid_area": null,
            "grid_auto_columns": null,
            "grid_auto_flow": null,
            "grid_auto_rows": null,
            "grid_column": null,
            "grid_gap": null,
            "grid_row": null,
            "grid_template_areas": null,
            "grid_template_columns": null,
            "grid_template_rows": null,
            "height": null,
            "justify_content": null,
            "justify_items": null,
            "left": null,
            "margin": null,
            "max_height": null,
            "max_width": null,
            "min_height": null,
            "min_width": null,
            "object_fit": null,
            "object_position": null,
            "order": null,
            "overflow": null,
            "overflow_x": null,
            "overflow_y": null,
            "padding": null,
            "right": null,
            "top": null,
            "visibility": null,
            "width": "100%"
          }
        },
        "bc39bbda3bd14ad7bf077f27e9b6dab2": {
          "model_module": "@jupyter-widgets/base",
          "model_name": "LayoutModel",
          "model_module_version": "1.2.0",
          "state": {
            "_model_module": "@jupyter-widgets/base",
            "_model_module_version": "1.2.0",
            "_model_name": "LayoutModel",
            "_view_count": null,
            "_view_module": "@jupyter-widgets/base",
            "_view_module_version": "1.2.0",
            "_view_name": "LayoutView",
            "align_content": null,
            "align_items": null,
            "align_self": null,
            "border": null,
            "bottom": null,
            "display": null,
            "flex": null,
            "flex_flow": null,
            "grid_area": null,
            "grid_auto_columns": null,
            "grid_auto_flow": null,
            "grid_auto_rows": null,
            "grid_column": null,
            "grid_gap": null,
            "grid_row": null,
            "grid_template_areas": null,
            "grid_template_columns": null,
            "grid_template_rows": null,
            "height": null,
            "justify_content": null,
            "justify_items": null,
            "left": null,
            "margin": null,
            "max_height": null,
            "max_width": null,
            "min_height": null,
            "min_width": null,
            "object_fit": null,
            "object_position": null,
            "order": null,
            "overflow": null,
            "overflow_x": null,
            "overflow_y": null,
            "padding": null,
            "right": null,
            "top": null,
            "visibility": null,
            "width": null
          }
        },
        "ab67b1106208446da493206a134f4b61": {
          "model_module": "@jupyter-widgets/controls",
          "model_name": "DescriptionStyleModel",
          "model_module_version": "1.5.0",
          "state": {
            "_model_module": "@jupyter-widgets/controls",
            "_model_module_version": "1.5.0",
            "_model_name": "DescriptionStyleModel",
            "_view_count": null,
            "_view_module": "@jupyter-widgets/base",
            "_view_module_version": "1.2.0",
            "_view_name": "StyleView",
            "description_width": ""
          }
        },
        "362f43907cbc4f59999a35021cc07b54": {
          "model_module": "@jupyter-widgets/base",
          "model_name": "LayoutModel",
          "model_module_version": "1.2.0",
          "state": {
            "_model_module": "@jupyter-widgets/base",
            "_model_module_version": "1.2.0",
            "_model_name": "LayoutModel",
            "_view_count": null,
            "_view_module": "@jupyter-widgets/base",
            "_view_module_version": "1.2.0",
            "_view_name": "LayoutView",
            "align_content": null,
            "align_items": null,
            "align_self": null,
            "border": null,
            "bottom": null,
            "display": null,
            "flex": "2",
            "flex_flow": null,
            "grid_area": null,
            "grid_auto_columns": null,
            "grid_auto_flow": null,
            "grid_auto_rows": null,
            "grid_column": null,
            "grid_gap": null,
            "grid_row": null,
            "grid_template_areas": null,
            "grid_template_columns": null,
            "grid_template_rows": null,
            "height": null,
            "justify_content": null,
            "justify_items": null,
            "left": null,
            "margin": null,
            "max_height": null,
            "max_width": null,
            "min_height": null,
            "min_width": null,
            "object_fit": null,
            "object_position": null,
            "order": null,
            "overflow": null,
            "overflow_x": null,
            "overflow_y": null,
            "padding": null,
            "right": null,
            "top": null,
            "visibility": null,
            "width": null
          }
        },
        "2e9269ad87644f759ac0d024a6def0af": {
          "model_module": "@jupyter-widgets/controls",
          "model_name": "ProgressStyleModel",
          "model_module_version": "1.5.0",
          "state": {
            "_model_module": "@jupyter-widgets/controls",
            "_model_module_version": "1.5.0",
            "_model_name": "ProgressStyleModel",
            "_view_count": null,
            "_view_module": "@jupyter-widgets/base",
            "_view_module_version": "1.2.0",
            "_view_name": "StyleView",
            "bar_color": null,
            "description_width": ""
          }
        },
        "02ccbb0eb08e4814983961fbd94a4190": {
          "model_module": "@jupyter-widgets/base",
          "model_name": "LayoutModel",
          "model_module_version": "1.2.0",
          "state": {
            "_model_module": "@jupyter-widgets/base",
            "_model_module_version": "1.2.0",
            "_model_name": "LayoutModel",
            "_view_count": null,
            "_view_module": "@jupyter-widgets/base",
            "_view_module_version": "1.2.0",
            "_view_name": "LayoutView",
            "align_content": null,
            "align_items": null,
            "align_self": null,
            "border": null,
            "bottom": null,
            "display": null,
            "flex": null,
            "flex_flow": null,
            "grid_area": null,
            "grid_auto_columns": null,
            "grid_auto_flow": null,
            "grid_auto_rows": null,
            "grid_column": null,
            "grid_gap": null,
            "grid_row": null,
            "grid_template_areas": null,
            "grid_template_columns": null,
            "grid_template_rows": null,
            "height": null,
            "justify_content": null,
            "justify_items": null,
            "left": null,
            "margin": null,
            "max_height": null,
            "max_width": null,
            "min_height": null,
            "min_width": null,
            "object_fit": null,
            "object_position": null,
            "order": null,
            "overflow": null,
            "overflow_x": null,
            "overflow_y": null,
            "padding": null,
            "right": null,
            "top": null,
            "visibility": null,
            "width": null
          }
        },
        "335b2d5508034078a7ef6fdc96fb38dc": {
          "model_module": "@jupyter-widgets/controls",
          "model_name": "DescriptionStyleModel",
          "model_module_version": "1.5.0",
          "state": {
            "_model_module": "@jupyter-widgets/controls",
            "_model_module_version": "1.5.0",
            "_model_name": "DescriptionStyleModel",
            "_view_count": null,
            "_view_module": "@jupyter-widgets/base",
            "_view_module_version": "1.2.0",
            "_view_name": "StyleView",
            "description_width": ""
          }
        },
        "1912e07c7f314bc0aebf9835c02aa001": {
          "model_module": "@jupyter-widgets/controls",
          "model_name": "HBoxModel",
          "model_module_version": "1.5.0",
          "state": {
            "_dom_classes": [],
            "_model_module": "@jupyter-widgets/controls",
            "_model_module_version": "1.5.0",
            "_model_name": "HBoxModel",
            "_view_count": null,
            "_view_module": "@jupyter-widgets/controls",
            "_view_module_version": "1.5.0",
            "_view_name": "HBoxView",
            "box_style": "",
            "children": [
              "IPY_MODEL_a74b5496cae9483eabcc748dccf7f058",
              "IPY_MODEL_973407bf7f56404290eb3c5068279a93",
              "IPY_MODEL_191a136acd55408b91185824039155aa"
            ],
            "layout": "IPY_MODEL_b9e4ea98d7bb400cb302072fb895d075"
          }
        },
        "a74b5496cae9483eabcc748dccf7f058": {
          "model_module": "@jupyter-widgets/controls",
          "model_name": "HTMLModel",
          "model_module_version": "1.5.0",
          "state": {
            "_dom_classes": [],
            "_model_module": "@jupyter-widgets/controls",
            "_model_module_version": "1.5.0",
            "_model_name": "HTMLModel",
            "_view_count": null,
            "_view_module": "@jupyter-widgets/controls",
            "_view_module_version": "1.5.0",
            "_view_name": "HTMLView",
            "description": "",
            "description_tooltip": null,
            "layout": "IPY_MODEL_7cb7b5b36ada4cdca5bc0a5abcd8f252",
            "placeholder": "​",
            "style": "IPY_MODEL_5ed082852950457fabd68d8159570908",
            "value": "Validation DataLoader 0: 100%"
          }
        },
        "973407bf7f56404290eb3c5068279a93": {
          "model_module": "@jupyter-widgets/controls",
          "model_name": "FloatProgressModel",
          "model_module_version": "1.5.0",
          "state": {
            "_dom_classes": [],
            "_model_module": "@jupyter-widgets/controls",
            "_model_module_version": "1.5.0",
            "_model_name": "FloatProgressModel",
            "_view_count": null,
            "_view_module": "@jupyter-widgets/controls",
            "_view_module_version": "1.5.0",
            "_view_name": "ProgressView",
            "bar_style": "",
            "description": "",
            "description_tooltip": null,
            "layout": "IPY_MODEL_4c620239693c41148bcaa6ad40b740d4",
            "max": 1,
            "min": 0,
            "orientation": "horizontal",
            "style": "IPY_MODEL_ff13596697464974af21093b2656aad4",
            "value": 1
          }
        },
        "191a136acd55408b91185824039155aa": {
          "model_module": "@jupyter-widgets/controls",
          "model_name": "HTMLModel",
          "model_module_version": "1.5.0",
          "state": {
            "_dom_classes": [],
            "_model_module": "@jupyter-widgets/controls",
            "_model_module_version": "1.5.0",
            "_model_name": "HTMLModel",
            "_view_count": null,
            "_view_module": "@jupyter-widgets/controls",
            "_view_module_version": "1.5.0",
            "_view_name": "HTMLView",
            "description": "",
            "description_tooltip": null,
            "layout": "IPY_MODEL_fc2961263b5047b78eaf688e6dd74d11",
            "placeholder": "​",
            "style": "IPY_MODEL_7d4d10111f2742aba1f078028eeefdec",
            "value": " 1/1 [00:00&lt;00:00, 799.83it/s]"
          }
        },
        "b9e4ea98d7bb400cb302072fb895d075": {
          "model_module": "@jupyter-widgets/base",
          "model_name": "LayoutModel",
          "model_module_version": "1.2.0",
          "state": {
            "_model_module": "@jupyter-widgets/base",
            "_model_module_version": "1.2.0",
            "_model_name": "LayoutModel",
            "_view_count": null,
            "_view_module": "@jupyter-widgets/base",
            "_view_module_version": "1.2.0",
            "_view_name": "LayoutView",
            "align_content": null,
            "align_items": null,
            "align_self": null,
            "border": null,
            "bottom": null,
            "display": "inline-flex",
            "flex": null,
            "flex_flow": "row wrap",
            "grid_area": null,
            "grid_auto_columns": null,
            "grid_auto_flow": null,
            "grid_auto_rows": null,
            "grid_column": null,
            "grid_gap": null,
            "grid_row": null,
            "grid_template_areas": null,
            "grid_template_columns": null,
            "grid_template_rows": null,
            "height": null,
            "justify_content": null,
            "justify_items": null,
            "left": null,
            "margin": null,
            "max_height": null,
            "max_width": null,
            "min_height": null,
            "min_width": null,
            "object_fit": null,
            "object_position": null,
            "order": null,
            "overflow": null,
            "overflow_x": null,
            "overflow_y": null,
            "padding": null,
            "right": null,
            "top": null,
            "visibility": "hidden",
            "width": "100%"
          }
        },
        "7cb7b5b36ada4cdca5bc0a5abcd8f252": {
          "model_module": "@jupyter-widgets/base",
          "model_name": "LayoutModel",
          "model_module_version": "1.2.0",
          "state": {
            "_model_module": "@jupyter-widgets/base",
            "_model_module_version": "1.2.0",
            "_model_name": "LayoutModel",
            "_view_count": null,
            "_view_module": "@jupyter-widgets/base",
            "_view_module_version": "1.2.0",
            "_view_name": "LayoutView",
            "align_content": null,
            "align_items": null,
            "align_self": null,
            "border": null,
            "bottom": null,
            "display": null,
            "flex": null,
            "flex_flow": null,
            "grid_area": null,
            "grid_auto_columns": null,
            "grid_auto_flow": null,
            "grid_auto_rows": null,
            "grid_column": null,
            "grid_gap": null,
            "grid_row": null,
            "grid_template_areas": null,
            "grid_template_columns": null,
            "grid_template_rows": null,
            "height": null,
            "justify_content": null,
            "justify_items": null,
            "left": null,
            "margin": null,
            "max_height": null,
            "max_width": null,
            "min_height": null,
            "min_width": null,
            "object_fit": null,
            "object_position": null,
            "order": null,
            "overflow": null,
            "overflow_x": null,
            "overflow_y": null,
            "padding": null,
            "right": null,
            "top": null,
            "visibility": null,
            "width": null
          }
        },
        "5ed082852950457fabd68d8159570908": {
          "model_module": "@jupyter-widgets/controls",
          "model_name": "DescriptionStyleModel",
          "model_module_version": "1.5.0",
          "state": {
            "_model_module": "@jupyter-widgets/controls",
            "_model_module_version": "1.5.0",
            "_model_name": "DescriptionStyleModel",
            "_view_count": null,
            "_view_module": "@jupyter-widgets/base",
            "_view_module_version": "1.2.0",
            "_view_name": "StyleView",
            "description_width": ""
          }
        },
        "4c620239693c41148bcaa6ad40b740d4": {
          "model_module": "@jupyter-widgets/base",
          "model_name": "LayoutModel",
          "model_module_version": "1.2.0",
          "state": {
            "_model_module": "@jupyter-widgets/base",
            "_model_module_version": "1.2.0",
            "_model_name": "LayoutModel",
            "_view_count": null,
            "_view_module": "@jupyter-widgets/base",
            "_view_module_version": "1.2.0",
            "_view_name": "LayoutView",
            "align_content": null,
            "align_items": null,
            "align_self": null,
            "border": null,
            "bottom": null,
            "display": null,
            "flex": "2",
            "flex_flow": null,
            "grid_area": null,
            "grid_auto_columns": null,
            "grid_auto_flow": null,
            "grid_auto_rows": null,
            "grid_column": null,
            "grid_gap": null,
            "grid_row": null,
            "grid_template_areas": null,
            "grid_template_columns": null,
            "grid_template_rows": null,
            "height": null,
            "justify_content": null,
            "justify_items": null,
            "left": null,
            "margin": null,
            "max_height": null,
            "max_width": null,
            "min_height": null,
            "min_width": null,
            "object_fit": null,
            "object_position": null,
            "order": null,
            "overflow": null,
            "overflow_x": null,
            "overflow_y": null,
            "padding": null,
            "right": null,
            "top": null,
            "visibility": null,
            "width": null
          }
        },
        "ff13596697464974af21093b2656aad4": {
          "model_module": "@jupyter-widgets/controls",
          "model_name": "ProgressStyleModel",
          "model_module_version": "1.5.0",
          "state": {
            "_model_module": "@jupyter-widgets/controls",
            "_model_module_version": "1.5.0",
            "_model_name": "ProgressStyleModel",
            "_view_count": null,
            "_view_module": "@jupyter-widgets/base",
            "_view_module_version": "1.2.0",
            "_view_name": "StyleView",
            "bar_color": null,
            "description_width": ""
          }
        },
        "fc2961263b5047b78eaf688e6dd74d11": {
          "model_module": "@jupyter-widgets/base",
          "model_name": "LayoutModel",
          "model_module_version": "1.2.0",
          "state": {
            "_model_module": "@jupyter-widgets/base",
            "_model_module_version": "1.2.0",
            "_model_name": "LayoutModel",
            "_view_count": null,
            "_view_module": "@jupyter-widgets/base",
            "_view_module_version": "1.2.0",
            "_view_name": "LayoutView",
            "align_content": null,
            "align_items": null,
            "align_self": null,
            "border": null,
            "bottom": null,
            "display": null,
            "flex": null,
            "flex_flow": null,
            "grid_area": null,
            "grid_auto_columns": null,
            "grid_auto_flow": null,
            "grid_auto_rows": null,
            "grid_column": null,
            "grid_gap": null,
            "grid_row": null,
            "grid_template_areas": null,
            "grid_template_columns": null,
            "grid_template_rows": null,
            "height": null,
            "justify_content": null,
            "justify_items": null,
            "left": null,
            "margin": null,
            "max_height": null,
            "max_width": null,
            "min_height": null,
            "min_width": null,
            "object_fit": null,
            "object_position": null,
            "order": null,
            "overflow": null,
            "overflow_x": null,
            "overflow_y": null,
            "padding": null,
            "right": null,
            "top": null,
            "visibility": null,
            "width": null
          }
        },
        "7d4d10111f2742aba1f078028eeefdec": {
          "model_module": "@jupyter-widgets/controls",
          "model_name": "DescriptionStyleModel",
          "model_module_version": "1.5.0",
          "state": {
            "_model_module": "@jupyter-widgets/controls",
            "_model_module_version": "1.5.0",
            "_model_name": "DescriptionStyleModel",
            "_view_count": null,
            "_view_module": "@jupyter-widgets/base",
            "_view_module_version": "1.2.0",
            "_view_name": "StyleView",
            "description_width": ""
          }
        },
        "4048e637fe3f4d5daaf7007560f8a894": {
          "model_module": "@jupyter-widgets/controls",
          "model_name": "HBoxModel",
          "model_module_version": "1.5.0",
          "state": {
            "_dom_classes": [],
            "_model_module": "@jupyter-widgets/controls",
            "_model_module_version": "1.5.0",
            "_model_name": "HBoxModel",
            "_view_count": null,
            "_view_module": "@jupyter-widgets/controls",
            "_view_module_version": "1.5.0",
            "_view_name": "HBoxView",
            "box_style": "",
            "children": [
              "IPY_MODEL_3d6a2b7989664e3f8f1519bb06e39ab4",
              "IPY_MODEL_1aa2097296144ddfbb1ee93d27d5b976",
              "IPY_MODEL_70ddf44eb4114ec1a00123f436339a2a"
            ],
            "layout": "IPY_MODEL_4b835f8382fb4baab10c7e50a49f8f5d"
          }
        },
        "3d6a2b7989664e3f8f1519bb06e39ab4": {
          "model_module": "@jupyter-widgets/controls",
          "model_name": "HTMLModel",
          "model_module_version": "1.5.0",
          "state": {
            "_dom_classes": [],
            "_model_module": "@jupyter-widgets/controls",
            "_model_module_version": "1.5.0",
            "_model_name": "HTMLModel",
            "_view_count": null,
            "_view_module": "@jupyter-widgets/controls",
            "_view_module_version": "1.5.0",
            "_view_name": "HTMLView",
            "description": "",
            "description_tooltip": null,
            "layout": "IPY_MODEL_1ac4f505197b441d878447b90aa50dae",
            "placeholder": "​",
            "style": "IPY_MODEL_28281c57f8e940ae912d84aac33e6218",
            "value": "Predicting DataLoader 0: 100%"
          }
        },
        "1aa2097296144ddfbb1ee93d27d5b976": {
          "model_module": "@jupyter-widgets/controls",
          "model_name": "FloatProgressModel",
          "model_module_version": "1.5.0",
          "state": {
            "_dom_classes": [],
            "_model_module": "@jupyter-widgets/controls",
            "_model_module_version": "1.5.0",
            "_model_name": "FloatProgressModel",
            "_view_count": null,
            "_view_module": "@jupyter-widgets/controls",
            "_view_module_version": "1.5.0",
            "_view_name": "ProgressView",
            "bar_style": "success",
            "description": "",
            "description_tooltip": null,
            "layout": "IPY_MODEL_774573ebf37f4bdcacc11b8b29c752dc",
            "max": 1,
            "min": 0,
            "orientation": "horizontal",
            "style": "IPY_MODEL_a7cb63e4efc04df0aa87f3df52cb5804",
            "value": 1
          }
        },
        "70ddf44eb4114ec1a00123f436339a2a": {
          "model_module": "@jupyter-widgets/controls",
          "model_name": "HTMLModel",
          "model_module_version": "1.5.0",
          "state": {
            "_dom_classes": [],
            "_model_module": "@jupyter-widgets/controls",
            "_model_module_version": "1.5.0",
            "_model_name": "HTMLModel",
            "_view_count": null,
            "_view_module": "@jupyter-widgets/controls",
            "_view_module_version": "1.5.0",
            "_view_name": "HTMLView",
            "description": "",
            "description_tooltip": null,
            "layout": "IPY_MODEL_455d45c388334cdc8ae90550d1566d6d",
            "placeholder": "​",
            "style": "IPY_MODEL_40cf7fb496f0474383efdd5fba194896",
            "value": " 1/1 [00:00&lt;00:00, 48.76it/s]"
          }
        },
        "4b835f8382fb4baab10c7e50a49f8f5d": {
          "model_module": "@jupyter-widgets/base",
          "model_name": "LayoutModel",
          "model_module_version": "1.2.0",
          "state": {
            "_model_module": "@jupyter-widgets/base",
            "_model_module_version": "1.2.0",
            "_model_name": "LayoutModel",
            "_view_count": null,
            "_view_module": "@jupyter-widgets/base",
            "_view_module_version": "1.2.0",
            "_view_name": "LayoutView",
            "align_content": null,
            "align_items": null,
            "align_self": null,
            "border": null,
            "bottom": null,
            "display": "inline-flex",
            "flex": null,
            "flex_flow": "row wrap",
            "grid_area": null,
            "grid_auto_columns": null,
            "grid_auto_flow": null,
            "grid_auto_rows": null,
            "grid_column": null,
            "grid_gap": null,
            "grid_row": null,
            "grid_template_areas": null,
            "grid_template_columns": null,
            "grid_template_rows": null,
            "height": null,
            "justify_content": null,
            "justify_items": null,
            "left": null,
            "margin": null,
            "max_height": null,
            "max_width": null,
            "min_height": null,
            "min_width": null,
            "object_fit": null,
            "object_position": null,
            "order": null,
            "overflow": null,
            "overflow_x": null,
            "overflow_y": null,
            "padding": null,
            "right": null,
            "top": null,
            "visibility": null,
            "width": "100%"
          }
        },
        "1ac4f505197b441d878447b90aa50dae": {
          "model_module": "@jupyter-widgets/base",
          "model_name": "LayoutModel",
          "model_module_version": "1.2.0",
          "state": {
            "_model_module": "@jupyter-widgets/base",
            "_model_module_version": "1.2.0",
            "_model_name": "LayoutModel",
            "_view_count": null,
            "_view_module": "@jupyter-widgets/base",
            "_view_module_version": "1.2.0",
            "_view_name": "LayoutView",
            "align_content": null,
            "align_items": null,
            "align_self": null,
            "border": null,
            "bottom": null,
            "display": null,
            "flex": null,
            "flex_flow": null,
            "grid_area": null,
            "grid_auto_columns": null,
            "grid_auto_flow": null,
            "grid_auto_rows": null,
            "grid_column": null,
            "grid_gap": null,
            "grid_row": null,
            "grid_template_areas": null,
            "grid_template_columns": null,
            "grid_template_rows": null,
            "height": null,
            "justify_content": null,
            "justify_items": null,
            "left": null,
            "margin": null,
            "max_height": null,
            "max_width": null,
            "min_height": null,
            "min_width": null,
            "object_fit": null,
            "object_position": null,
            "order": null,
            "overflow": null,
            "overflow_x": null,
            "overflow_y": null,
            "padding": null,
            "right": null,
            "top": null,
            "visibility": null,
            "width": null
          }
        },
        "28281c57f8e940ae912d84aac33e6218": {
          "model_module": "@jupyter-widgets/controls",
          "model_name": "DescriptionStyleModel",
          "model_module_version": "1.5.0",
          "state": {
            "_model_module": "@jupyter-widgets/controls",
            "_model_module_version": "1.5.0",
            "_model_name": "DescriptionStyleModel",
            "_view_count": null,
            "_view_module": "@jupyter-widgets/base",
            "_view_module_version": "1.2.0",
            "_view_name": "StyleView",
            "description_width": ""
          }
        },
        "774573ebf37f4bdcacc11b8b29c752dc": {
          "model_module": "@jupyter-widgets/base",
          "model_name": "LayoutModel",
          "model_module_version": "1.2.0",
          "state": {
            "_model_module": "@jupyter-widgets/base",
            "_model_module_version": "1.2.0",
            "_model_name": "LayoutModel",
            "_view_count": null,
            "_view_module": "@jupyter-widgets/base",
            "_view_module_version": "1.2.0",
            "_view_name": "LayoutView",
            "align_content": null,
            "align_items": null,
            "align_self": null,
            "border": null,
            "bottom": null,
            "display": null,
            "flex": "2",
            "flex_flow": null,
            "grid_area": null,
            "grid_auto_columns": null,
            "grid_auto_flow": null,
            "grid_auto_rows": null,
            "grid_column": null,
            "grid_gap": null,
            "grid_row": null,
            "grid_template_areas": null,
            "grid_template_columns": null,
            "grid_template_rows": null,
            "height": null,
            "justify_content": null,
            "justify_items": null,
            "left": null,
            "margin": null,
            "max_height": null,
            "max_width": null,
            "min_height": null,
            "min_width": null,
            "object_fit": null,
            "object_position": null,
            "order": null,
            "overflow": null,
            "overflow_x": null,
            "overflow_y": null,
            "padding": null,
            "right": null,
            "top": null,
            "visibility": null,
            "width": null
          }
        },
        "a7cb63e4efc04df0aa87f3df52cb5804": {
          "model_module": "@jupyter-widgets/controls",
          "model_name": "ProgressStyleModel",
          "model_module_version": "1.5.0",
          "state": {
            "_model_module": "@jupyter-widgets/controls",
            "_model_module_version": "1.5.0",
            "_model_name": "ProgressStyleModel",
            "_view_count": null,
            "_view_module": "@jupyter-widgets/base",
            "_view_module_version": "1.2.0",
            "_view_name": "StyleView",
            "bar_color": null,
            "description_width": ""
          }
        },
        "455d45c388334cdc8ae90550d1566d6d": {
          "model_module": "@jupyter-widgets/base",
          "model_name": "LayoutModel",
          "model_module_version": "1.2.0",
          "state": {
            "_model_module": "@jupyter-widgets/base",
            "_model_module_version": "1.2.0",
            "_model_name": "LayoutModel",
            "_view_count": null,
            "_view_module": "@jupyter-widgets/base",
            "_view_module_version": "1.2.0",
            "_view_name": "LayoutView",
            "align_content": null,
            "align_items": null,
            "align_self": null,
            "border": null,
            "bottom": null,
            "display": null,
            "flex": null,
            "flex_flow": null,
            "grid_area": null,
            "grid_auto_columns": null,
            "grid_auto_flow": null,
            "grid_auto_rows": null,
            "grid_column": null,
            "grid_gap": null,
            "grid_row": null,
            "grid_template_areas": null,
            "grid_template_columns": null,
            "grid_template_rows": null,
            "height": null,
            "justify_content": null,
            "justify_items": null,
            "left": null,
            "margin": null,
            "max_height": null,
            "max_width": null,
            "min_height": null,
            "min_width": null,
            "object_fit": null,
            "object_position": null,
            "order": null,
            "overflow": null,
            "overflow_x": null,
            "overflow_y": null,
            "padding": null,
            "right": null,
            "top": null,
            "visibility": null,
            "width": null
          }
        },
        "40cf7fb496f0474383efdd5fba194896": {
          "model_module": "@jupyter-widgets/controls",
          "model_name": "DescriptionStyleModel",
          "model_module_version": "1.5.0",
          "state": {
            "_model_module": "@jupyter-widgets/controls",
            "_model_module_version": "1.5.0",
            "_model_name": "DescriptionStyleModel",
            "_view_count": null,
            "_view_module": "@jupyter-widgets/base",
            "_view_module_version": "1.2.0",
            "_view_name": "StyleView",
            "description_width": ""
          }
        }
      }
    }
  },
  "cells": [
    {
      "cell_type": "markdown",
      "source": [
        "# N HITS"
      ],
      "metadata": {
        "id": "vyB3FTdj38JQ"
      }
    },
    {
      "cell_type": "markdown",
      "source": [
        "This notebook was executed in Google Colab using A100-GPU."
      ],
      "metadata": {
        "id": "h4xGYBqZ3lzi"
      }
    },
    {
      "cell_type": "markdown",
      "source": [
        "![N_HITS.png](data:image/png;base64,iVBORw0KGgoAAAANSUhEUgAABYsAAAL8CAYAAACh9urtAAAKpWlDQ1BJQ0MgUHJvZmlsZQAASImVlgdUE+kWgP+Z9JDQQpcSepPeAkgJPfTeRCUkAUKJMRBUwIYsruBaEBEBZcFGUXBViiwqIoqFRVEp1gVZFNR1sSAqKm+AQ3D3nffeeTfn5v/mzv1v+c/MnAsAmcTk81NgSQBSeemCYE8XamRUNBU3BvBAHMgATSDFZKXx6YGBvgCRhfXv8qEfQLPrXaPZWP9+/7+KFJuTxgIACkQ4jp3GSkX4LKLPWHxBOgCocsSuuTadP8vtCMsIkAIRvjfLCfM8Nstx8/xlzic02BUANNIVnsRkChIAICkjdmoGKwGJQ1qGsCmPzeUhPFuvY2rqajbCJxDWQ3z4CM/Gp8V9FyfhbzHjRDGZzAQRz/cyJ3g3bho/hbn+/zyO/y2pKcKFHDqIkhIFXsHIKo6c2WDyah8R8+L8AxaYy57zn+NEoVfYArPSXKMXmM108xHtTfH3XeB4rgdDFCedEbrAnDT3kAUWrA4W5YoXuNIXmClYzCtMDhPZEzkMUfzMxNCIBc7ghvsvcFpyiM+ij6vILhAGi+rn8DxdFvN6iHpPTfuuXy5DtDc9MdRL1DtzsX4Oj74YMy1SVBub4+a+6BMm8uenu4hy8VMCRf6cFE+RPS0jRLQ3HXkgF/cGis4wiekduMAgBJgjPw9gAayAKQDpnHXps024ruavF3ATEtOpdOTt4lAZPJbxUqq5qbklALPv6vyj8G5w7h2E5PCLNk4LAJZbEeP9RVvyawDaqpCUrxdt2ibI9UMAOuJZQkHGvA09+4cBRCCBfAUUgSryJdADRkh91sAeOAN34A0CQCiIAisBCySCVCAAa0E22ALyQAHYDfaBUlABDoNqcBKcBs2gDVwCV8FNcBv0gYdgCIyCl2ACfADTEAThIDJEgRQhNUgbMoTMIRrkCLlDvlAwFAXFQgkQDxJC2dBWqAAqhEqhSqgG+gU6B12CrkO90H1oGBqH3kKfYRRMgmVgFVgHNoFpMB32gUPhFXACvAbOhHPhnXAJXAWfgJvgS/BNuA8egl/CkyiAEkPJodRRRigayhUVgIpGxaMEqI2ofFQxqgpVj2pFdaHuooZQr1Cf0Fg0BU1FG6Ht0V7oMDQLvQa9Eb0DXYquRjehO9F30cPoCfQ3DBmjjDHE2GEYmEhMAmYtJg9TjDmGacRcwfRhRjEfsFisHFYXa4P1wkZhk7BZ2B3Yg9gGbDu2FzuCncThcIo4Q5wDLgDHxKXj8nAHcCdwF3F3cKO4j3gxvBreHO+Bj8bz8Dn4Ynwt/gL+Dv45fpogSdAm2BECCGzCesIuwhFCK+EWYZQwTZQi6hIdiKHEJOIWYgmxnniF+Ij4TkxMTEPMVixIjCu2WaxE7JTYNbFhsU8kaZIByZUUQxKSdpKOk9pJ90nvyGSyDtmZHE1OJ+8k15Avk5+QP4pTxI3FGeJs8U3iZeJN4nfEX0sQJLQl6BIrJTIliiXOSNySeCVJkNSRdJVkSm6ULJM8JzkgOSlFkTKTCpBKldohVSt1XWpMGietI+0uzZbOlT4sfVl6hIKiaFJcKSzKVsoRyhXKqAxWRleGIZMkUyBzUqZHZkJWWtZSNlx2nWyZ7HnZITmUnI4cQy5Fbpfcabl+uc/yKvJ0eY78dvl6+TvyUwpLFJwVOAr5Cg0KfQqfFamK7orJinsUmxUfK6GVDJSClNYqHVK6ovRqicwS+yWsJflLTi95oAwrGygHK2cpH1buVp5UUVXxVOGrHFC5rPJKVU7VWTVJtUj1guq4GkXNUY2rVqR2Ue0FVZZKp6ZQS6id1Al1ZXUvdaF6pXqP+rSGrkaYRo5Gg8ZjTaImTTNes0izQ3NCS03LTytbq07rgTZBm6adqL1fu0t7SkdXJ0Jnm06zzpiugi5DN1O3TveRHlnPSW+NXpXePX2sPk0/Wf+g/m0D2MDKINGgzOCWIWxobcg1PGjYuxSz1HYpb2nV0gEjkhHdKMOozmjYWM7Y1zjHuNn4tYmWSbTJHpMuk2+mVqYppkdMH5pJm3mb5Zi1mr01NzBnmZeZ37MgW3hYbLJosXhjaWjJsTxkOWhFsfKz2mbVYfXV2sZaYF1vPW6jZRNrU24zQJOhBdJ20K7ZYmxdbDfZttl+srO2S7c7bfeXvZF9sn2t/dgy3WWcZUeWjThoODAdKh2GHKmOsY4/Ow45qTsxnaqcnjprOrOdjzk/p+vTk+gn6K9dTF0ELo0uU652rhtc291Qbp5u+W497tLuYe6l7k88NDwSPOo8JjytPLM8270wXj5ee7wGGCoMFqOGMeFt473Bu9OH5BPiU+rz1NfAV+Db6gf7efvt9Xvkr+3P828OAAGMgL0BjwN1A9cE/hqEDQoMKgt6FmwWnB3cFUIJWRVSG/Ih1CV0V+jDML0wYVhHuER4THhN+FSEW0RhxFCkSeSGyJtRSlHcqJZoXHR49LHoyeXuy/ctH42xismL6V+hu2LdiusrlVamrDy/SmIVc9WZWExsRGxt7BdmALOKORnHiCuPm2C5svazXrKd2UXscY4Dp5DzPN4hvjB+LMEhYW/CeKJTYnHiK64rt5T7JskrqSJpKjkg+XjyTEpESkMqPjU29RxPmpfM61ytunrd6l6+IT+PP7TGbs2+NRMCH8GxNChtRVpLugwyFHUL9YQ/CIczHDPKMj6uDV97Zp3UOt667vUG67evf57pkXk0C53FyurIVs/ekj28gb6hciO0MW5jxybNTbmbRjd7bq7eQtySvOW3HNOcwpz3WyO2tuaq5G7OHfnB84e6PPE8Qd7ANvttFT+if+T+2LPdYvuB7d/y2fk3CkwLigu+7GDtuPGT2U8lP83sjN/Zs8t616Hd2N283f17nPZUF0oVZhaO7PXb21RELcover9v1b7rxZbFFfuJ+4X7h0p8S1oOaB3YfeBLaWJpX5lLWUO5cvn28qmD7IN3Djkfqq9QqSio+Pwz9+fBSs/KpiqdquLD2MMZh58dCT/SdZR2tOaY0rGCY1+P844PVQdXd9bY1NTUKtfuqoPrhHXjJ2JO3D7pdrKl3qi+skGuoeAUOCU89eKX2F/6T/uc7jhDO1N/VvtseSOlMb8JalrfNNGc2DzUEtXSe877XEerfWvjr8a/Hm9Tbys7L3t+1wXihdwLMxczL06289tfXUq4NNKxquPh5cjL9zqDOnuu+Fy5dtXj6uUuetfFaw7X2q7bXT93g3aj+ab1zaZuq+7G36x+a+yx7mm6ZXOr5bbt7dbeZb0X7jjduXTX7e7Ve4x7N/v8+3r7w/oHB2IGhgbZg2P3U+6/eZDxYPrh5keYR/mPJR8XP1F+UvW7/u8NQ9ZD54fdhrufhjx9OMIaeflH2h9fRnOfkZ8VP1d7XjNmPtY27jF++8XyF6Mv+S+nX+X9KfVn+Wu912f/cv6reyJyYvSN4M3M2x3vFN8df2/5vmMycPLJh9QP01P5HxU/Vn+ifer6HPH5+fTaL7gvJV/1v7Z+8/n2aCZ1ZobPFDDnRgEUonB8PABvjwNAjgKAchsA4vL5WXpOoPn5f47Af+L5eXtOrAE46gxAOKKzo9DBzcgMgqg4ch04a3MGsIWFSBfm3rkZfVZ8jZA6lEzpLtGPa5WywD9kfn7/ru5/rkAU9W/rvwBB1ANMOwJvDQAAAFZlWElmTU0AKgAAAAgAAYdpAAQAAAABAAAAGgAAAAAAA5KGAAcAAAASAAAARKACAAQAAAABAAAFi6ADAAQAAAABAAAC/AAAAABBU0NJSQAAAFNjcmVlbnNob3RTYSZdAAAB12lUWHRYTUw6Y29tLmFkb2JlLnhtcAAAAAAAPHg6eG1wbWV0YSB4bWxuczp4PSJhZG9iZTpuczptZXRhLyIgeDp4bXB0az0iWE1QIENvcmUgNi4wLjAiPgogICA8cmRmOlJERiB4bWxuczpyZGY9Imh0dHA6Ly93d3cudzMub3JnLzE5OTkvMDIvMjItcmRmLXN5bnRheC1ucyMiPgogICAgICA8cmRmOkRlc2NyaXB0aW9uIHJkZjphYm91dD0iIgogICAgICAgICAgICB4bWxuczpleGlmPSJodHRwOi8vbnMuYWRvYmUuY29tL2V4aWYvMS4wLyI+CiAgICAgICAgIDxleGlmOlBpeGVsWURpbWVuc2lvbj43NjQ8L2V4aWY6UGl4ZWxZRGltZW5zaW9uPgogICAgICAgICA8ZXhpZjpQaXhlbFhEaW1lbnNpb24+MTQxOTwvZXhpZjpQaXhlbFhEaW1lbnNpb24+CiAgICAgICAgIDxleGlmOlVzZXJDb21tZW50PlNjcmVlbnNob3Q8L2V4aWY6VXNlckNvbW1lbnQ+CiAgICAgIDwvcmRmOkRlc2NyaXB0aW9uPgogICA8L3JkZjpSREY+CjwveDp4bXBtZXRhPgrsciceAABAAElEQVR4AeydB9xcVZn/D0VBipSEUAMhjRICSQgJhF6k6KIUy2IFhbUtuxZ02RXXimVVVsW6iywWiiIIGGBFlN4kBBICCTUhCQmhlyCg4PzP91me+d93cmfmzsydeefe9/d8PvPOzC3nnvM955537u885zmrVaIFmQiIgAiIgAiIgAiIgAiIgAiIgAiIgAiIgAiIgAiIwJAmsPqQLr0KLwIiIAIiIAIiIAIiIAIiIAIiIAIiIAIiIAIiIAIiYAQkFqshiIAIiIAIiIAIiIAIiIAIiIAIiIAIiIAIiIAIiIAIBInFagQiIAIiIAIiIAIiIAIiIAIiIAIiIAIiIAIiIAIiIAISi9UGREAEREAEREAEREAEREAEREAEREAEREAEREAEREAEgsRiNQIREAEREAEREAEREAEREAEREAEREAEREAEREAEREAGJxWoDIiACIiACIiACIiACIiACIiACIiACIiACIiACIiACkYBiFqsZiIAIiIAIiIAIiIAIiIAIiIAIiIAIiIAIiIAIiIAISCxWGxABERABERABERABERABERABERABERABERABERABEZBnsdqACIiACIiACIiACIiACIiACIiACIiACIiACIiACIhAJKAwFGoGIiACIiACIiACIiACIiACIiACIiACIiACIiACIiACEovVBkRABERABERABERABERABERABERABERABERABERABORZrDYgAiIgAiIgAiIgAiIgAiIgAiIgAiIgAiIgAiIgAiIQCSgMhZqBCIiACIiACIiACIiACIiACIiACIiACIiACIiACIiAxGK1AREQAREQAREQAREQAREQAREQAREQAREQAREQAREQAXkWqw2IgAiIgAiIgAiIgAiIgAiIgAiIgAiIgAiIgAiIgAhEAgpDoWYgAiIgAiIgAiIgAiIgAiIgAiIgAiIgAiIgAiIgAiIQ1sybwWOPPx2eeWZlePnlV0KoVPJOvn56q4Ww2mqrh7XWem3YdMRG4XWvW6v+sdojAiIgAiIgAiIgAiIgAiIgAiIgAiIgAiIgAiIgAiIwgEBuYvFf/vLXcM21d4RHH3tqwAUG48vqq68Wdpu6Qxg7ZqvBuLyuKQIiIAIiIAIiIAIiIAIiIAIiIAIiIAIiIAIiIAKFI5BbGIrZt9/TF0IxNfC3v1XCLX+6Ozz99MrCVYgyLAIiIAIiIAIiIAIiIAIiIAIiIAIiIAIiIAIiIAKDQSA3sXjJ0scGI/8Nr7n04Ucb7tdOERABERABERABERABERABERABERABERABERABERCB/yOQaxiKfoP60kt/6UqWnnzyyfDoo4+G1VfPTWu3fFZijGdeeafbFQglSvRvf/ubmPewPmnjbqutFoONy3pCwLmLeU9w20XEvHesuZLz9qu+/vWvD5tssklYc83cfup40noXAREQAREQAREQAREQAREQgdISyOUJqvYBrV9oJTSpXLN01VVXhRtuuMEeQvNM+JVXXgkvvPBCWG+99fJMVmk1IIBQ/Oc//1nMGzDKexf9Bcxf97rXSaTPG26d9GjnL774YnjNa15jrzqHaXOOBOjPX375ZWvjcJd1nwDt/KWXXgqvfe1rw/PPPx9Gjx4djjjiiNz/V3e/JLqCCIiACIiACIiACIiACIiACAwegVzE4sHL/uBc+fHHHw8HH3xw2GuvvXLNAA+3y5YtC+PGjcs1XSVWn8Bf/vKX8NBDD4WxY8cGeVzW55Tnnr/+9a9h8eLFYeTIkSbq5Jm20kongIBGv8VA1AYbbJB+kLbmSoCBv2eeeSasvfbaYcMNN8w1bSWWToD+fPny5WHEiBHhwQcfDHfddVegv5GJgAiIgAiIgAiIgAiIgAiIgAhkJyCxODur6pGEiVh33XW74o2KmNNLz+KhHoIBcYG6XH/99av1qw/dJYB4A3Nea621VncvptSNAJ6teBb3un8ZyvjXWGMN8yzGg76XffpQZu79ufcveBjLREAEREAEREAEREAEREAEREAEWiOQb9Dd1q5d6KO7FXqjW+mmwX722WfDfffdZ95vafuHyjaY95L7UOGqcvYXAbXz3tdHXv2KhxHBQzyvNHtPo7dXFKfe8tbVREAEREAEREAEREAEREAEykNAYnF56rLlktxxxx3hsssuC9ddd515wLWcgE4QAREQARHoOoEnnngizJ071wb3iPctEwEREAEREAEREAEREAEREAEREIFuEZBY3C2yfZ4uHmr33HNPmDx5ssV2JFbyULCVK1cOqRiWTMtesWJFYLEtWXkI4DX57W9/O5xyyim2kFd5SqaS1BIg9vGCBQsCg3vz5s0LDz/8cMDTWCYCIiACIiACIiACIiACIiACIiAC3SAgsbgbVAuQJosAIRhPmzYtbLXVViZGFCDbbWcRcQ3vvJtvvjk88MADQ0JsQVC6//77wyWXXBKWLFnSNjud2H8ErrjiivDxj388nHrqqeH000/vvwwqR7kReOSRR8JTTz0Vdtppp7DJJpuYWIyALBMBERABERABERABERABERABERCBbhCQWJyg+txzzwUezPHELPsK6osXLw7Dhg0L66yzThg3blxYtGhRqQXUl19+Odxyyy0mit90000mHCeqvpQfma4+a9Ys8yqmzHgZy8pBYOTIkYFF67DRo0eXo1AqxSoEGPB57LHHAovljR07NgwfPjxwXz/55JOrHKsNIiACIiACIiACIiACIiACIiACIpAHAYnFr1JEIP7tb38bfvnLX4Zzzz03XHXVVfZQngfkfkyD8m622WaWtc0339zKyoJ3ZTUEloceeigccsghYf311w9z5syxhaJWW221UhYZT2pEpueffz4cfPDB5pkogak8Vb3jjjuG+fPnh9mzZ4e3v/3t5SmYSjKAwIsvvhgYxFxvvfXC61//+rDBBhtYv/XMM88MOE5fREAEREAEREAEREAEREAEREAERCAvAhKLXyV51113mUCMRzGi6cknnxyuv/76vDj3VTp42T7++OMBkRjbcMMNw9prrx3KGrcY7zzCbqy55pph1KhRYeLEiRaKoswLRVFmvOQRlwgzgthU1vrtq5urh5kZM2aMxRzv4SV1qR4T4H8R4YK4f1/72tdaX41HOWIx/bhMBERABERABERABERABERABERABPImsGbeCRY1vV133TXsueeeYa211rIiIB5fdtll5pVZW6aie6PibYoAMWLECCsaIuqmm25qnrd4LJbNEE4Ju8EUboSWLbbYwoRj4viOHz++bMW18rhYjPf46quvbmWmvFOmTClleb1QeFQ//fTT5lG98cYbW5gV36d3ESgaAcRi7mVmQ3Afr7vuuvYiZjGDXXgby0RABERABERABERABERABERABEQgTwISi1+liQemG163TP8lRmTS2L5y5UqLd4vYygM74lRexjXxbO6mxytCN162vCM+cC0+Ixzfc889JrIVXQyvrQ+YEnZj2223tTpjP+L4ggULwpZbblllXqZy0z5Z0G9U9KTmMwtjLVy40LzmEczzbLe1vJt9xyOS+MncP6+88kqzw1vaT5rMCFi6dGlgAGjnnXdu6fyiHuxtt1690gZgzns3+5de8EM8pa+k/2JGRL8aeYS597Pt5JOBD+4RBvS8r/bPhJXhs+z/E6CvhznsedFWZCIgAiIgAiIgAiIgAiIgAiIgAq0R0JNmDS8ewM866yx7yHzrW986YO+8efPCvffea7FCmQKOGJen2MXDLV6/xJrtliEq4WWLBzVChItM/h2RrZ8FmFa5IJ4hIDJtG5H00UcftbrFy/i2224zb2pEGJg7i1av0W/HU2bKy8AGQhWDHIgmlJOFDJMDI4ORd+4Z2jn5ok7yMsrIoACxqanfO++8M+Bd7LMF8rpOP6VDXSOQ0cbxOq0nHnIM7cGFtH4qQyt5YaCBe5WBD+p1woQJfdtfwZp2Tj4R6Vs12jP3iAv8/n+B7aRLX839XW+AoNXrleF4+hZiPHMf8L+cdi8TAREQAREQAREQAREQAREQARFojYDE4gSvp556KpxzzjkWu/jUU0+tLgDnh+y2224WIxRRFxEK79Q8DQGAB3/CJHTTCLFBeAK8at0oz4033mjCS7ev79fsxTs8id2LjRs3zqZz85ny3n333SaeEbOZMpdJLEYkQaQaPXq01elGG20UZs2aZXFPB7t+yRsv8pGnWIyohoCGF/U+++wTLr/8cqq66/eTXWSQ/iCeIo7fd9995kVdr25hg3iGoFzk0AWEZaCsDHQRmoFy0cb70RDwyS+Db+0M0PB/hnO5j7fZZhv7TDkRiKlLYhh73Pl+LP9g5Il+BTGdwSLYMzgoEwEREAEREAEREAEREAEREAERaI2AxOJXeSHU/uxnPwsXXnhh+NrXvmYCBA/7r3vd66pEEVqwddZZxzyX8hS6SBdvKISAvNMl7aTxEI1QnLwO12YRJbylESbKYggHLrpQPi8zdUk5H3zwwTBp0iQTXspUZryIEZooJ20KQ1xDZHMGg1neNdZYI/DKMy8IRQwMUK8MBjAggnhcxrjU9E3HHXeclZd36pW+irIjItYa9wHtIG/mtdfp9ne8dfEcnTp1qg30MEsC72LK1W+GkA9z+tZ22jl1jKcs9cqLdDBfkBQWWDtp24kl/MPgIJx40SbKMgBYwqpSkURABERABERABERABERABPqYwP+pSH2cwV5ljSnrp512Wpg2bVp4+OGHw6WXXhruuOOO1MsXedovohFiMZ6mSeOhGo/MZcuWJTcX/rN7FuNNmRRVEBKIYYy4iPhUJqPMeB5SZheKqV8EVPeyLlN5vSwMChBqAZGY+iUON1P3i3y/etlq33/3u9+FX/7yl+Gaa64JF198sXkVc18z2FNWQ3wlvAqDAty71C9lZlsZjfZMmRmcTIrhCMcMBLEfQVkmAiIgAiIgAiIgAiIgAiIgAiIgAnkSkFj8Kk0euo8++mib8kss2zlz5lhczDxh90NaHrO0Viwmb3gbM223TOIa4jjhRRBKk15mfEZswgONuKBlMsqMgIYHohuiMWFTYJFnnG1Pf7DfKTOzAyjbsGHDTFxjKjricRkFtenTp9v9inA4efJkmwmBR3GZxWL6Ltov4in9F57yDACVdQCE2QG0Z+o12XfRZyEWw6OMbXuw+xJdXwREQAREQAREQAREQAREQASGOgGFoXi1Bey///6BV9kNQQ1hjZAMtYZHJp56iBQecqP2mCJ+x3M4GZ/Zy4DgQpnL6JlImZPhRBCbEE/xRqQNFDlurddf8h1RDaE0GXoDMRFzgTF5fNE/E6t2/vz5Yfbs2SaIU5+IqGUXi2nXDILgaYtQziDQ8uXLww477DBAUC16/ZJ/7lWMNl1r9M8+QFK7T99FQAREQAREQAREQAREQAREQAREoBMC8izuhF4Bz0UYxRsPYanW8NZDhCGEQVmMadyILohKtYa37ciRIy3eK1Pby2KUBY/apGcxYrEvskV827IZwhntljLieUl5ERN5rVixomzFtfJ4PVNmFkFDMOb+LqPnOAWmvAxkebtGROUzgwFlun+9sVIm2nFaDGoG++i/4CETAREQAREQAREQAREQAREQAREQgTwJSCzOk2YB0sJzGPEhGQPTs434gjcmnnplMaZpM13bvUyT5UKIweP4pZdeKlXcYjyHCSVSW2YERUQmQo2UzRBIEcGTgwKIxnwvW5gRrzvaLXWNxzgDQIjGtHe2l9G4jymbi8WUmQEuD09RtjL7AnlpYrHHMaa+GSiRiYAIiIAIiIAIiIAIiIAIiIAIiEBeBCQW50WyIOngeYiIiFBaa2wjrm1ZxGIEUzzvKFeaJzXb8cZEdCqLgEqZ8aSmbHjVJo1tiKdlKWuybAhreFMnxWIGRPiOx3GZ4nBTbq9nhELEU4Rx2jjb4VA2YzDAQ+i4hzyetYRjYBCkbG2aekQEp14pX61xbyMic6/T9mUiIAIiIAIiIAIiIAIiIAIiIAIikBcBicV5kSxIOnhfutiSlmVioT722GOlENcQXNyTOk1wofyIMXhUl2WRLMpMXFeEpNpYp4jFDAYQ15bjymKUBdEMr9Pkwo2IiXjdMmBQtoXAXByn7D74Q30jkNPmy2ZeXgZ2kvHUKTP9GX1WmQxxnDAU1CdlrjXub/o02n3Z2nZtWfVdBERABERABERABERABERABESgtwQkFveW96BfDSGxkVjMgm948PEquiGk4UmNxyWicJohoCK6IBaXQUClDIiFeB7Whhpx8ZS6LZPAhHct3rSULxl6w7/7/rT6L+o2xFPqMTkoQBvnexk9iykvor8L4l5v3LsetxhP3LIY5eXFPZzWd7GNe5wyl6GvLku9qRwiIAIiIAIiIAIiIAIiIAIiUAYCEovLUIsZy4C3GkKSx/xMOw0hGZGtDIvcuXDaSBxHLEZgRFQug9jkAnlamSkrYTcQTylvWczLg5DIy80HAvDMLFvc4qVLl4YjjzwyvPe97w2zZs2yIlNOBMQy1a3XJV62DHAQczs5CII4Tn+GV3mZyk156Y/oi5PldR68U9fc7xKLk1T0WQREQAREQAREQAREQAREQAREoFMCEos7JVig8xEgeKUJiV4MxDYEmTKEZXCxOOlt6uX0d45BbIILXtdFN8rTyHscL2vquAyDAV5XLhYjhNcKa3hgUr9li2l700032T2Kt+2ll15qKFwspv5pB2UyvGwJuVAbexwxlf4K0bhMoSgQimnXeE7XtmmvV8qNSSx2InoXAREQAREQAREQAREQAREQARHIg4DE4jwoFiQNPPPwLq4VXJLZxxtzxIgRpRGLEdMaeVIjquGhh9BWBgGV8lDP9QYEEJ6I61sm8RRRjdAbiMW1hlg8bNiw0nkW77nnnmG33XYLu+66azjuuOOs2JSVe5v6Z/CjTOZicVodc/+yvQwDXF5nlBejX0IQTzPEYvZ7v552jLaJgAiIgAiIgAiIgAiIgAiIgAiIQKsE0p9CW01FxxeCAB6HLig1yjCL3D311FONDinEPheY3AOvXqY97mkZQhVQZjwN64nFCE9lFIspc5qQSHk33nhjC79ShjAjtGEGBBD9P/GJT4SZM2eGbbfd1po29zZe9IjnCIhlMcqL+E3bTi5u5+Xj/qWOGewpSx27ZzFicD3Dm5o6x+O6bIMD9cqs7SIgAiIgAiIgAiIgAiIgAiIgAt0nILG4+4z75gp42SI+1JvW7BnFExNhuejCC3FMm3lSU2b3tn3iiSccQWHfEY4QC9NENQqF5/jw4cMtvmtZBCbquZ43NXWLiIzQWJaF32jTlNdjUHtjRRgnxAjiKvdvWYz2TLvG0to1oikDILTnMswOoJz0vdQjYnA9QyTHq5q2XfS+ul4ZtV0EREAEREAEREAEREAEREAERKD3BCQW9575oF0R70uElXrTmj1jCC8IUkUWnBBaEMcR1BqF3aDMCIoI5E8//XShY71SZkQ16hchKc3gQVkRmOBTdKPMiMUIimmxqSkvAiODJNRvGcyFb+7lZD1TVr4jMBKWoyzmYjHlSruXae/UPTxWrFhRimL7QE4jz2L6LQYHEIrLcC+XouJUCBEQAREQAREQAREQAREQAREoAQGJxSWoxKxFeOaZZ0xUQVRqZHirIbwU2UvPxeJGwqkzQIxCIEdwQXgsqlFmBgQalZm6x9MWoakM4il1R5mxNK9TtiOgIjKWSUikrXKfUtdJQ1ClvNzrZTHEcQZBKFs98RTRlHuYOuY+KLoxWEfd0g83Muqa8rrndaNjtU8EREAEREAEREAEREAEREAEREAEshAYqDRkOUPHFJYAnsJpcV1rC4Qgw3FFXwQN70oENUSmZkZ5i+5NTRkpM8JoPVGNYxCgOKbo9UtZXCCnnhEM0wxhnNAbZQgzQvnwOkUgJxZ37cAP9c52F9DTeBRtG/cl4jjtlrpMM0RT4hYTa70Mwql7Fjfru2j3mDyL01qFtomACIiACIiACIiACIiACIiACLRDQGJxO9QKeg4CUtpU/bTiIK4V2RMTERHhFOGs1vsyrbwIjRxXZG9bL3M90dTLjcCIsFbk+vWy4FnMIEial60fQ71uuOGG1h44vuiGpy0xixEI582bN6A4iMWw4F5HZC2DUV5CLdTzHKeMCMkePqfIMyIoC/dxK2Ix7RuBnPNkIiACIiACIiACIiACIiACIiACItApAYnFnRIs0PmIS4inWWzTTTc1L72iChDkG8HMPe8alZlj8UxESC/y9H0vc7MBAcTiESNGFLp+vT4Rf1m4rpGQiDfqBhtsYAIrImvRDeF00aJF4fDDDw8TJ04MF1xwQbVIeKLCgnAqZVn0DNEbMTQtXrEXnDbNfl6PPPKIby7kO20agZx22ywMBf0bde5xuwtZYGVaBERABERABERABERABERABESgrwhILO6r6uheZvBU49WKWIzHZlHFNYRTxPFmwqkTR2zCM/Hxxx/3TYV7p8wIp81CjeCJSFkR04suKCKs0UYb1TPldSaEKSiyUV7qjBAiXnf33HNPtUgIjIjFHrqhuqPAH9yzuFnfhUc9gwKPPfZYob1sk2JxvbAbXp0McuFNjljs3si+T+8iIAIiIAIiIAIiIAIiIAIiIAIi0A4BicXtUCvgOQgJiEuNPDCTxXLxjVAORTSEU0TEZgKTl81DMxR5CrsL5C6MetnS3j1Gc9FjnbpY3Kxd44GJ12nR4xYjAtOuJ02aFL70pS+FT33qU+HEE0+sVjHCOAIi70W9d6uFefUDZebVyLOYQz1uMbMDijrIRTkoq3sWNxOL8Tzm5f0758tEQAREQAREQAREQAREQAREQAREoBMCzVf+6iR1nds3BDymZTPBxTOMuIYAh6ftZptt5psL8+4emK2IxXjb4k2NqN5s+nc/gnDByIX+enlEGKdumb6OOE65i2qIapS7mUCOeErc4qLHaUZIROBHGD355JNTF2/E05S6LXJIFW+PDIBwP1LPzfouyk0dw4hBgWbH+zX67Z2+ixd9UDOxmP14VNNv0cc3uw/6razKjwiIgAiIgAiIgAiIgAiIgAiIQP8RkGdx/9VJV3JEyAEEMwSVLIYIgYjIlO4iGgITImJWwcg9i12MK2KZfUAgi0COEAWbInvaIiRSxwiJzTyLvT2zgCHnFdUoK2Ixgzn1hETuceq2DGIxoikhFui7KHMj4x6m3LwI01FUo01TbgT/enWcLBsDB/RbRfamTpZHn0VABERABERABERABERABERABAaXgMTiweXfs6sjJCIqIEBktU022aSQMXw9HAPvzQQmZ+FCE0JbEePaUlZENSyLVzTlHTZsWOHFYspM2WnbjQzRbeONNy58nGaERERBBFHqMM1owwwYICrDpsiGaMrAD/1WloEuvGzxLi5y3GIfAKHNIpI3M8qMSSxuRkr7RUAEREAEREAEREAEREAEREAEshBo/iSaJRUd0/cE3LM4i/jghUEsLqonpnsjNhMRvayIaoiseKgW0SuR/DMVnfp18cjLlvaO0Ih4imdxUQVF8s2CfgiJzQYF4IKAihBX5Fi+eBYz8NPIe5x2TDgCD02QVv9F2eZiMe01q5ct7brIcYvxEqa8iOP1BgSS9Ufb5zjahUwEREAEREAEREAEREAEREAEREAEOiUgsbhTggU5H7EYgSmL+OBFwvMU70TOLZIhIuJlh4iYxcvWywYbhKaixrVFOEUozuI9TlmHDx9udYuAWkRDSKR9Zikz5cUbl8EDRNSiGkIiAyEbbLBB3SJQ/8St5ljaxGAY187DvLxZZ0UgsMKGtlHEQR+YcT9S7qwDe4jF1DntgnLLREAEREAEREAEREAEREAEREAERKATAj0XixfMnxvO/sWPO8mzzm2DAIJvM+/L2mQRXRAsWOSuSOZetllExGS5KOumm25qYSiKJrpQ5lbqGPEU71M8VQdLUEyyb+czdUTeERKzCGsIidwDRQwzAh/qmJAMvDPwc8kll4QzzzzT6jDJDxbe9ju5dxEt8VZFhOTFAAy8efG59h4hX4j3Dz/8cFi4cKGFgqg9JpnPLJ9dLGbQhzbbzDgGNryWLl3a7PC+3O+DN1kGfSiAC+nUkZ/blwVTpkRABERABERABERABERABERABApBIHsA25yK89eX/xquvup/w44TJoXJk6fnlKqSaUbAPYubHZfcjwjBIneILqNGjUru6vvPCFqtiuMITYjFsML7tJH3Zr8BcLG42UJvnm8X1RCkmLKPR3XRDCEScRJhMIshouJxW9RF/SgvIi02d+7c8Ja3vMU+015PPPFE++x/EIvxpG6nrFwHQf2RRx6x68GNdoJwDG/aDmmPGDHC7hHuM9ofIWsefPBBE4oZhCB28IwZMwLhbNo1xGIEcsqT1bgHNttss7BkyRLLf6v9AGXhulnF2qz5ynoc7LCssyI4jhf1g1hMvy0TAREQAREQAREQAREQAREQAREQgXYJ9Fws/lt8CH/ta9cK11/3h3DpzPPD3nu/IewxYz/b1m4hdF5zAog8CKGtGKLQVlttZaJLK+cN9rEunGYVET2/lBeBGOEFoaxoYjEC+eabb+7FafqOp62Lp9tuu23T4/vtAOoZUX/kyJGZskbMW7yp8XwtoiEiIhZTb8m2nSYqIhjSfhFwW/HuhemTTz4ZbrvtNgvjwHX8fK7rQiTH3H///SYII8xyDOIswu7EiRMtf3feeWeYM2dO2HfffTMtTpdWJy4WIzxnNXggUN97773hoYceCttvv33WUy3/hK9AgKfvyzr4kvkCGQ5E8KUvyipWcxxl5v5HME62jQyX0yEiIAIiIAIiIAIiIAIiIAIiIAIiMIBAz8XirbcZE/7pn08J222/U3wgXxlF49+Hr556chgzdrtw0EGHh80233JABvWlcwIIQIhM7QgfW2+9dZg3b56JEK1493We6/ZTcLF4yy1bb0uILsRqRvjabrvt2s/EIJyJUIT4m9UQpPAOLWpsVw9RkLVd4yGLB/UDDzxgHpiIn0UyxGIGfRBsd99993D11VdbiJijjjpqlWLQjikrswIQ1LPeu6S/YMEC80g+4IADzEOX+4m2gvkic4Q88HATHA9LROMdd9zRrkvdkN9bb73VBl6yCvq1BSEdxNNWvIO9nskPfRdCMwIqaXj+a6/Dd8pE20Ao57qIzLvuumvbQnfaNbJs49rwpg6zGMdSvwj27nme5TwdIwIiIAIiIAIiIAIiIAIiIAIiIAJpBHouFm+00bAY2mCY5WXdddcLhxx6ZNj/gDeFn/7P98JJn3x/2GmnKeGgN/xdmLLr7jEO6Rppee7qNjzm8I5DYMgqsHQ1QzkkjoiA4MLU8VYNb2TEosWLF4fx48e3evqgHE9+2/WwQ2hC2MIrEmZFERTJK0JfK2IxZUVQu/322wtVVm9UlJl7NasHOOWFD+e5h66nVYR3F4sRPSkLHrv1jHaLFzX3wmOPPZbJ+5pjCVuBN+6ECRNCo8EWBOvRo0eHUTE8DSIrlhR0EWXx7kWwJn4xXrouONfLc9p2+i5erfbF1DPC9S233BKuu+46m1WB1z2vNM9b+guEYsJ7cP/D7u6777Z8k/deGu0Ty+pZzLESi6EgEwEREAEREAEREAEREAEREAERyINAz8XiR1csDyseXRanKu8aRYxHwh+unBmuufqK6P1G3NThYfx2O0ax4oFwycXnhX33OyQccOCb2hIZ2oEzc+ZMExcQVRFOjj322LDFFlu0k1RfnYP4wCurB2Yy87DYbbfdwo033mjnIy428s5LnjtYn326flYRMZlPyjZu3DgTi++55544eLFTcnfffkYoxiMxTQirl2kER8Szm2++2eIWDx8+vN6hfbfdBwQQErMK5JSXewARDlEUQbBIhjDu4RGy5Ju2gJc8Az0IoM3EWjyQCd1AnPIddtghyyVMtE6KxMmTuD7XnT9/vnk3t8O73b6LstJXHXzwwWH58vg/Z8UK8zLGC3ry5MkmApNX+gpCzrCdOM2UG5GZwQQGDvFM5h7pVZ9He6aeuZ6H/EgyrfcZ1pSZfoB7o1ld10tH20VABERABERABERABERABERABESg52Lx8uVLwtm/+K84/X3zGM/yVnuwRTg+8KA3DfAmfssRx4SLLzo3nHfuT8Ix7zy+6zVF2IFvf/vb4cgjjwxjx44NZ511VjjnnHPCJz/5ycI/eOP5h5BYT9RpBBfRAS9DQhUgGBPbdpdddulrj1u8BClvO57UsEB4wWsS7+IxY8a0xa0R07z3IQ4hMFFXrXpgIp7CifZfJLEYUQ1BjzK30q6Z2k95EQLbjdPMtRGee20Im7TtrKIrbQHhl7rl3EbG/YJoihcyg0OtCJX10sW7metjCLZZ8+3puXBK+261XZMGbYO65h7eZpttLGwGMZQJjQEPvJ5hg0cxAwiTJk2y42gjPpDC8cR9RnTvhVFm8kbeWxGoKSe8uSdIo5Vze1EuXUMEREAEREAEREAEREAEREAERKA4BHqueKyxxpph2bIlcXGk+eGwNx4VvnnameFf/vUrYepue8YH9P8fdoLPB73h8Hjcgp7Q/NOf/mTeb3gTH3LIIYE4oBdeeGF1ijWZQLTgQZz3IhneZogf7QpAeG7OmDHDPPUQUJme3a8MyBeCGuVtRWBKlodz8TBEePEQDf1e39QxAlOrdYzAhPcni5UhOCMaNhMW+4EF9YWXLcJeK9P1qVsEcjyLWzW8XD1UgYdeaDWNdo/3dk3/k9WT2sVa8orXMO0j2c49L2zDq5Y2gIBKe8jLEDHJL2Jx2rUbXYeywpw6yxq/t156tBHCSXgMYuISM/jF7AFmIEydOtUGCf06HA8LGCIot2OtlpdrcP/xQuxtRfBlwIR7nz6r122zHTa9OqedOuhV3nQdERABERABERABERABERABEehXAj33LH7llZfD9jtMDJ/+l1OjALBWXS4XX3ROuOzSC8KobcfVPSbPHQ8++KDF6PRQDXjT4mWXXByKKcks6sSUZaYmsz/Ph1Ee9FnRPu8Fx/AYRCjCQ4702zHOJzzDs88+a2ELEFKyCpOci+XJql4ZuAbCFIILeW0mnCBGIbQ+/vjjA5LkfLwRmUJPmnjdUl4EaEScXpRlQIYafEFUY5o9ohp17LwbnFLdRTkQ8+666y4LwYJIxjYWvmvVE7SaaJMPiNG0Q5gjxrVjpMF9QlnxEs5q7oHNtVu5z2DC/e6Ln9E+8hRVm+Wf65Ff2jP9RJa8k2cGTmC1aNEi8/LlfNq8G8fQ/u+77z6rD2YNcN+wPQ/j+rQp7klefM5q5JO6Jf+0a8rdqXHv4lGO6E85iavMfU47on6TxvUQYTmW2O2tiLekQ1ujncOAz1mMY8kX9zJlz9pfU1/w4lz+R7UTgof80T5oa4jmfm/m1RYalR/+eVyHtgID6srbTqPrap8IiIAIiIAIiIAIiIAIiIAIiMCqBLI/ua96bltbXr/BRuYx3EgoJuFJk6eH51c+Fw6M3sW9MB7m/eGY6/GwiQjHw2fSeKBNPtQmPyeP6+RznmnyEI4HJiINAkS7aXMe5++8884mPLFoFd63MKpnXBtDAOF89/RtNw/1rpPcTtqIX9SlC5/J/bWfOd5fyX3UP+Vj8IAFvxDbKA/C6nbbbWcLINaWw8tLOrX7kmnn/ZlrUcfklTy0em0Es4kTJ1bFW0QyyrzXXnt17NGZVtZk/pKf046ttw1By8vMMVnToQ2zeOXSpUtNXMsiXpI2TO644w6rf9oAHva9jGVLP0QeEPEYtOD717/+dfOQPuWUU6rhHmp5cSztAnGcclOWJCsYUhZESeJzE+e30T1dm36z7+SXgSV4I/gy6JK8fqPzqWPKTJ15PWU9t1663B8MhJAnxFX4kH5amfGKpo7hgzjP51aun0wz63nUK+eRL/qgrOdRXvLrAjNicdZzYcL/P8R8vKgRjBkoYjCEvgE+3TTKTF3TZ+d1Le8HszLoZvmUtgiIgAiIgAiIgAiIgAiIgAgUjUDPxeJto6cwr2aW9bhm6WTdjxBw9dVXVw9nWjYP7MSvdcPbmMWPWDCKh+m8Y7y6FxpiRp6GZxwCF95xedj2229v4s+eexI6pLGQ4DFBEQS23HLLMH78+JY99FrJM6IDQjbCGMJXM0MkQTBDFEFgqDW2Ux8uwuB9CM999913lVi5XJv0EMXT0qpNO6/vsEUUQSAiv+0YbRkxD1HumWeeCdddd51xYep+3oZIh6BPHFjusXYMERHGpNFKmRHieOFJTT0hGjYz6hXPW665//772+GL4uABQmivYtnSN3CvUcfcx5dffnn47ne/a3nhnvrsZz+bWgyEYrzOabd8ph9wr1PqgX6OupgyZYrNHECgzNuoJ3ghQrZSV9yXtA/6Wsqc9z1Fes3ERARMRFTuCQZUWskD7YV7Cu9k+qMsRj9Dmb2eW70e53MPt8KZ/oMQJAj6XJt7gvLyf472svXWWzft57OUrd4xXIfr4eHd6WwG+l/aGbGyuTcpk0wEREAEREAEREAEREAEREAERKA1Aj0Xi1vLXu+OJpbl6aefHohdzDTlSy65JOy+++7mreW5cGGUdx7iW3mQ9zQavXuaeaeLZ697nTa6ftZ9eNwSkoMQHfVEEEQYBDb3xkSEgi2G4N5NQ1jLWl5n7exr84VYxGJ3vBAiEL8RUhEbWQgMo6yE+kBERqhAeCVkB55+vTIEP0QeL0+r10Uk8sEEBki4B4hNzWKP7tXZapr1jnfW/l7vuEbbYY4Yh5jdSplph7QNyoSQl0XsRVQlti3XYlCJdo9QjLdu3gNG9cqMYE15qRvKwD3IZ+qdvqseA/KJ8IinOOVIMic9tsOA9pp3PXtZXCxFtKbevB/1/fXeEfW552ibWc+pl1a97fW4+fGIpdQ79Y94zfes5mknmTc7l3rG6HdaOY9zqGfqm/ZJOlnqE8bLli2zvhqhlpkjvONJPXfuXCs37awV8Zm8ZDXaA9dC5GYw0ZllPb/2OGfWaTq16eq7CIiACIiACIiACIiACIiACAwlAo3dQocQCUILHH744eGcc84JP//5z80j6fjjj++qF2yv8CIoeQiIPK6JcIAQuih6C6YZ4jQi8S233GJi2h577GEL5CFAzpo1y7wZ087LYxviA2JJK6JO1usixIwaNco8DOfMmWMiB9cj3vVNN91k5ULUQiT3BROzpt3pcQhZiDp5mAvkeJ3WxnHNI/080nDxtJ16RnyEVZayIaZxHMIynqXUL3wYJEH8dHPvzCxp+jmtvLs3tg/OjBkzxjzo8aJ/05veVDcpBEPEcfJHLFcX0Wi3lIkXAyFZhMW6F2myg74HUR3vUfqGrEYdU27qa7CMe54BAt6JBQy3bhr1RJtjQMDrKuv1aNP0y/QFDJg1M66D1zRhNhD0J02aZKIwvBFuCUvC4Bf9WSv11uy6yf3kgTJTXu4rmQiIgAiIgAiIgAiIgAiIgAiIwOATkFj8ah0gaHz4wx8O06dPt7AD73//+6ueo4NfTZ3lAOEgTy9XFxOZulwrnuBteeONN9oigAhaeGcjcCFkTJs2zURrBGP3oEsrGd6EeOoiJLRjiCWdTmeud11EDQYWEL8o5+23326LnlE+RHHaDyIL3nqzZ882z8h6aeW1HbGFAYG8yowgSp3hqUwd96PRRmhDCKGtGnVI2WirzYzr4FVKfXtYE4RVvHERhr39I8TSHhggoS7yNvLBy8Vi0idPhAhoZNQlQiBlRhh2ARIRlsEAviMMdtNcXIdVK2I69YtYmedAVzvlJKQBgjrhEmDWisHXmWc5jzqGUzvivXOGWbN8cg36WAa96GfxVOeecKPdbLHFFuZVjecvonI3jL6LtiixuBt0laYIiIAIiIAIiIAIiIAIiIAItEdAYnGCGx5kxxxzTHjXu94V9ttvv9J4OjHdvB0PzASaVT4SJxWxAS9eN75fc801NqUYLzXCNCRFavdew1MNASLNyCteuTfccEOYP39+VYxLOzZtGwITXnB5lzd5LQRKRHD3NkRE5DviHeWFDWXH6xOvPRcUk2nk+RlxiHLnJRaTN7wLiSG6KHqPu1ch5UBwdNEsWS7y8MQTT1ibQDhtV+jPwoXrkieuQZtq1VwspiyIc/WM9CkToRoQ01zAQ0hDLGYQhvNhj5cxAh2iWt7CGvngvqDc7bRr2int0sVhygs/pv4TuqDbnruIpdwzvBhEyWqUG7btDAhkvUaW4+CHKE8d3HvvvZkHAyg39wVtA69qytPMvD1yzXaMWR+0T66JCFvPEO0JpQPfXXbZxbyna0VtxOdRcSYF7YN7nvLnbeQRwZhr8ZKJgAiIgAiIgAiIgAiIgAiIgAgMPgHFLE6pg9qH5pRDurYp72sjBiBYJEXbPDJPfFs8/ojTO3nyZBPOrr/+ehNE9tprL/NKS7vOyJEjbaozMY8R55OGmIIYQ5osKodojHcbnn1ZjbIiQHRTYKKOEIhnzJhhU/tdJPY8ItbgiYhoiliMiEtM2G6YC6eknacHJsIosVqpJ8Js4E1NvOYFCxYYX65FveBRjfBIWd2jlvLDhIUQ8253lJN2wrUQfdsRi8kfohriF2JwbTvkGhjtiLJTf7Bw43xEW/aTD/KACIqHLoIXnPCqz8u4DsI0ddJOu0Z4JL8M5rjAT50hlhMahvJ022gveEXDmz6Jumtm1DNl77aY3Swf7KcN0HcxeEKb535oJm4igtIuGGygjRGrvdnipZQXa5a2HZTyh3uSAQDEYDzn09o2wjX3MX0lMYpp2/Xqgzojz4TgYICPAaQ8DXEcTrTrXrTDPPOutERABERABERABERABERABESgrAS6rxKUlVwXyoU4woNznoYwwwN53qIdAhRiIGIoIhRT8BHf9tlnn7pCMeVC+JkwYYIJKISLSBrCG95ueHEixCLKIhxnNYQwFyzzLm9aHhBS8DhMuxbiC+Eo8MxD9M7b2zSZH4TEdoXTZDrJz7CnfIiJTFUn3AbhQ9iOaEaZEcLwEucd8RGRikEEhC7q7bbbbqvWRzLtTj9znyBOI9K244GJKIX4h4CKx2Sa0Za4Bvupx6RgyfmUH+YIb9xjeHLCCnEOQTRPQ0DkOlyzHRGRc6gb+hZefp9QZ83Ey7zKAT8Eeu755GyERul7ftsZEGiUbjv7qGsGfCgDbZsBAeq9kdEmeCGU0yaYaeCew/XOo8zcY+20a9LkPMRf6pg81l6PtsQACF7llKeRUEx6lNsHQRCLyV+eRn64n2mjEovzJKu0REAEREAEREAEREAEREAERKB9AhKL22eX+5mIU8SIde+yPC7gnrZpgman6SOi4e1IyAhEEQRej+taL20EARcoEC3cEAwQ5hCw8MDDew8xAx7sy2IIJIhRXCNPL9ss1047BoEMr2uESRbAqyciIp7hfYj3XqtiDGVGSERQa0dITMu3byM9PCipi0XRoxJvYWIyE2Jk6tSp9mLAgIXfCMNBTGrKy2faxtKlS22hw1rBytNv9532QJnJV7sCE3WD0A937pFa4x5EFES4w0u81hDlYE5oB85nkAKhGFGWNpiWZm0aWb+TFn0DXqPtlJd6RPjnXqV9UTb48T0ZpzZrfto5jmvBhnfaeTOjjmk38E8K9c3O6+Z+BhcY6KIvJUROvVA65IF+jLaFoDxlyhTr87j/EWkbGXVDmTu5l2mH9MMM4tUOUtFP089yL+MljBjczAi5Qtsj77SbPI22TR/WrjieZ16UlgiIgAiIgAiIgAiIgAiIgAiIwP8RkFjcRy0BgQABlSnCeRkiFoJAN8RiBCgEYrwTEQjxrMxi5GVU9LhFcHHvPEQSviPguQhIekyVz+qJiOjA8aTfidiSpQxZj0Eohg3CF2E6kgt8ISpS1zfffLN5aOOJiwcvQlNWo8zwocyITHka6SEqsXCfx6CmzjEEPEKEIOjjaUw5XXhCRGU7IjKCK2Ukn3kZbYYyIz62a4iWtEG84VnALilok1fEWfJN/Om0gQfOR0BDMERAQ8T1EACkhbd3XkZ65BPRzo38HXjggRZvlvw3MvLmgwmkQ3rkGfGzl0IsoQYQpxlE8Pu+Xr6pAxdOe5nHevnx7dQxg1mI2YTMoR7SjBAQiKv0ZbRTxFvOob3UuxdgQplpW530XwivDHCQDv9PvC1S7wjF3NfsT2vXaWUhL/QDnI8AnaeRJjwkFudJVWmJgAiIgAiIgAiIgAiIgAiIQGcEJBZ3xi/XsxFv8LpFNGQKcR6G8Iho0K2HcQQ3BGPEwaxej4iKHI+YwguxAHEFIYUQFBiChnsiZhUoPB0Eqax5yYNxozRccEUwRgjCwxhBmBefCePBMYjkhHBgqjr1n9UzlTIjWHUinDbKPxwRisaOHdtSvFzaHHWM5/HcuXNNeEUYwihvJ4aohtCeFE9bTc/LhfCH6HfLLbfYu7dJ6gWBFbE4zWjD1BfiP+InoiDiG+dQdtLJwxAYKStlRqh0+8Mf/hD++Mc/Gtuzzz7bN6e+w5u88cK7lbaFWAy/Xt4nsCGMA2xcwEzNcNxIublfyB88+8VgifDL/UA5EGO9XXseyTt9Fvcm5aUM9En0wZxT797mPDy/aVudlpm2gucwg2fu4YxXMdcnrAT5asXoA8g//XS9/LeSnh/r7Lr1/8mvo3cREAEREAEREAEREAEREAEREIHsBPrnKTx7nkt7JOKCLySGkMiDOQ/9PKgjRrVjiDJ45rnXZztpNDun1bQRXCgTZSNG8Z577mliIgIGApwbAgLHIZzDpZnBD3EE4bWfjPIi3FAPCJNMDSeveAMjpuJBTf0iCOK5S4xjyk6oB85tZAhMCH94+fabUV7EWLxZqWeEVcqHpyJlbVa2euVBRESwwpu5E4Mx+eOdOsGT2NsyHvm77rpr3Wsg5uFRj1c4cZupR8pD2Rj0QZRFLO/UENOoX9JNlpfY4Lvssov1EUcddVTTy1AXnE85qQME6F7FK/bMwYx7HvGUUBSNBjho15Sdc6iffjLaCPcz9bIohmfBY5p72AVe+lz6IdoBIjH3OsfAnT6dwZ00r17uCcTiPARy8kg/yD1HKB/SRsCmHZF33lsx+icGFxCcadt59DdwoY65b2ifMhEQAREQAREQAREQAREQAREQgf4gILG4P+rBcsHDMyICXqh4YyKS8kIsYUo/HmGtGtP1SRMBop+MMhHXloXxEE3xftt7772rggt5Jc94WhOeAvGoWRkQESkvAnO/GYIIsUQRj/Duo64RyxCR3BB4EBgRKvE8RpxJi5frx/OO2NKpl20yvbw/Uz5ithKOAqESoYx6QrxCOGy1TdMOEOPglxRP2803+dt5550tlIZ7XpI/xF9EtXpGfXJ9BEHEcBeGaaPUK7GM8zDql7S4VlLgo23ccccdmS/BuXj2uriJsNmqd2nmi9U5EGaIjtQ73tgwrndPI5oyK4J+ot4xdS7Tk830WQxgce/NmzfPBM9RcZYFXJkhQd5p2/S9tFXubcRixFuE5DShnjLTvhFOXXjupDC0TfLIQA0v6p+Yy/RBrRr5YSAPwZny4V3dab3AhUEf0pFY3GqN6HgREAEREAEREAEREAEREAER6B4BicXdY9tWyogFiCkIxggLPtWZeLd44CKetmIIa0lBspVzu3ksAgHeeMTQRAxGmKsV5zgGgRVP2ywxahFuENfg16+GKEKZ6hllRkSj3vFaRWCqJ+4gtlC/LrzWS3OwtyMQMtiBpyP1iFh29913W70SDxnhKatRVtjAMa92jYgJY14Idlwji3iFEIj3MYKXD1BQfwi7hCfIMsDRrNyIjgjsY8aM6UicI1/kl/QIdYK4jeDZa0OwRHTknm90T1MHcKUeqJ9+NPoZBrzmzJljYqz3VwiqiMOUM5l3BhH4Tn2mtQ0fRMlTIOfeIi8MhCAe0/eQz3aMAQraDN7RDGhxX3di1DH9NUI0ZZaJgAiIgAiIgAiIgAiIgAiIgAj0B4H2nhr7I++lzgUiCcIwXo943PJgTlxVPDQRGrIaYmKnD/VZr9XqcQgP06dPD5MnTzbRrVYwQFhBLGU7YkcjgwnHwA1RpMiGoAYTRBTqHEElzRCLEV7hMxjCX1qe6m1DoEJcQzAmLjViJfVL+RB/s5qLxbSLPLwva69LmlmEYs7DW5dyEMrCRUH3IPWBi9r0W/lOm0ZQReBNhmdpJQ0/lvxxX5BX6gDx2fPsx/TiHWaIjhihKOoZZafd1/YJ9Y4frO3UC+FAuGfxMJ41a5aFacBzmEED7lE3+CPY0zYQwmuN8lJuGOVVN6RDXhisGRU9n7O27dq88Z28U3d40iMYd2qUl5fE4k5J6nwREAEREAEREAEREAEREAERyJeAxOJ8eXYlNR7Q8SrmHXGNxbcQFbJYP4vF5B9vTgRxxL80QyziGKat1xqiC6ENEF7ggZCO51wngkjtNQbrO8LqtGnTwrJly8wLNyk6eZ7YhtDKYEC/i2qeZ94RsPCyJDwF3pQs6IenYhZDLCZmaq9DKNTLW63QhSiOKEjdIPR2YghphKCgPde7P7KmT34Q+/CEZYBmsPhR9/DhnkYsrtePuWcxImy/G2IsfRj3IV7F9NOEj2HgIHnfwh9veNo6/XKteT+Wp1hce41OvtO2EccpF7Ne6tVd1mtQXuqZ9t2NgZ+s+dBxIiACIiACIiACIiACIiACIiACAwlILB7Io2+/IRYh8owcOdK81wjf0MwQKvACQ5wpqiFQEJ4C0ZQQAW4epuHWW2+1cAa+cJwvNObHFfUdUY26xiNw9uzZqV6YiDXED/UQCEUpK+2S8iFYEsYBj3DKmOZtmSwT5yG0IcK2EroimUa3P1MuBE4Ev1Y8ptPy5R6ciI95DQaQLwRLBL/BMvgwqINXPGVMM0RE7ncE1n436hwRddKkSbYoJXGB08R9+jIGSbhvWRyv1mj/tPG86ro2/Ty+M4hFGch/p4MhSbEYNjIREAEREAEREAEREAEREAEREIH+IKAntP6oh0y5QGTB25TwFEx3xvOwkbGfB3Ie8ItqiAhMm8eL2Kc+Uya8UfFuQ6RBlGMBJ2Igb7HFFkUt6ir5RtDDExTPRTzKa70RCU+AWIyoXDRDFKNuXRBngcNmgjECIp6bnDdYnrFZOCP2EYKAumnXXBgnvi2M0sQ0hFYE11aMdAfbEKwRU70+0/KDoMr+IngWk38EY7yl6YPob/meZsm4xbV1Qb/Gef0skNO2KSdtj/63E6O81HM/i+OdlE/nioAIiIAIiIAIiIAIiIAIiEBRCUgsLljNMWUXwRhvTLxtGxneXwguCFdFNcQT8s/rvvvus/IQbgJxkcXRdtttN/O43m677YxLUcSlrPXhAwSI5QjkhG3AEJoIUUD9NlowL+t1Bus4pp8TwxgPahaFQzCmrGlG2al3vIr7uZ4R+fH29sGNtLI028ZAD+cjEqd5US9ZssQGUdj3xz/+sVlyfbWfexrvZmY8pIWXIbO+0GC/x+JuFSxlpg9n4Kd2sM/FYvb3q1F3DF5x3/I/qLYMreSbwS6sn8XxVsqjY0VABERABERABERABERABESgLAQkFhewJvFcw7sYb9pa77RkcRAT8eLrZ2Etmd96nykDgiKhJvCoRjQl3AQexy6mETO0yB7U9cqOOIPwSAiShQsX2iJaLqTBA8/qIocZodx4FlKfCMaLFi0yL2qEqKS5OM72sWPH1vXcTJ4zWJ8R0qgzvIIRANsxBHOEVDyo0+7f22+/3cRk0r/22mvbucSgnkOZYET8aR8A8Qzhbepep2ll9+OK+E55iG2MUJqcKUCZ4cBAQz+LxTDHOxrvYrza2w21wv0MA/rvsg0IFLFdKs8iIAIiIAIiIAIiIAIiIAIikCQgsThJo0CfCU+AeJgUHGqzjxAz2PFJa/PUzncEBQRCxGFiNSOQ7rLLLn0tGLZTznrnUH4WzEJMnT9/fiBOS7bFCwAAQABJREFU85w5c0xYRSRnf9ENwZgBAeK+IrLefPPNVU9yyoZ4SNnxMGegpJ+N+mDgAgGQsBmtGucRwgIO1Hta/R566KHhgx/8YDj66KPDhz70oVYvMejHezgD6rU2fq+LxQinZQtRQJkY3MEjl/p1YwAIFgw0MDjWz0Yemc3g7Zv3Vo1zCGVBWhKLW6Wn40VABERABERABERABERABESguwTW7G7ySr1bBBDMEB7wxERETDM8i/Hewzu16IY3HuE3KBNCXNG9aVutDwQkhGHqklAMeOaNGzfOFv9rNa1+PZ4yEk4EQRhhGO9ZvBeJQ03IFTxt8bDu92nr1BFlYLr+nXfeGbbccksTxbJwR0TDexqvcQQ5BkbSDBH1Rz/6UdquQmyj7+KeRiysXaSR0CoIibSHfveybQc2bQNDLOY+pr0gHuNZTHmLIJDzf4U+mLjFDFh6mbLyQBjHs5jy9vv9nLVMOk4EREAEREAEREAEREAEREAEykJAYnFBa5KHbLwOEdXwMq4VhBGdeJBnX1mM6c+8hqq5YIwIidiCkMi2MhletIjDiE/33HOPeZLjnYuYhpDMAmJFMO7P8ePHh+uuu868wHfcccfUcBJeFkTD5557Ltx///0milOvEyZMKIRw6GVo9Z2QDNQz4jh83NzLFtEUMblsRh+GQEp9IxBTTu5nyg0PhPR+N+qO/oc48suXL29ZLP7zn/9sZSacRdn6sH6vO+VPBERABERABERABERABERABJoRKN+TeLMSl2g/0/Yvuugiixs5bNiwASXDAxevTLwaZeUhgHjW72EYOqXNwAdei4SkwIORtowXKmFIEGGLYAh+3Ht4/SMA40WJZ3yaMIZQzMAOntQIiMQpRhin7GU2BFPEQjzGGQxwj1r3LEaQrB0EKwMPykV4IOqa2NSUG+9cyl2UMlMvLK7ILAfqj7bOPZrVKDfiOG0gLcxK1nR0nAiIgAiIgAiIgAiIgAiIgAiIQP4Eih/sNH8mhUmRaeobbrihLXTnmUZ44iF8wYIFJriVXXDycuu9fAQQxkeNGhUmT55sITeKIhR7TRCLldAhDOrgJb0ohoxJM4RCFm3kHYGcUBsIcWUUSpPlRzin/0JIT8Ytpv9iG8JpGY12jXcxArkvEEfdYwiuRal3vKBppwxK4l2c1dyLnnfSkImACIiACIiACIiACIiACIiACPQXAYnF/VUfLeUGsWXKlCkWigJxGEFq1qxZ1cXBWAQuzZOxpYvoYBEQgbYJeDiKkSNHhrlz59pATjIxhFEWqiQUAyIxCzkOlRiuHreYPgrPajc8bBFS8b4tqzETBFEYsZg2QFgGeBQpFjv5ZZYDgyIPP/ywxZnOUl+E3mBwgHuD+PMyERABERABERABERABERABERCB/iIgsbi/6qPl3CAuMT3/rrvusviRjz/+uD20M40dj0aZCIjA4BIgzAD3Ix6Y7knqOUIkvPvuuy0WM7GaW7E5c+aEq6++upVT+u5YvIfxLmWROzfEUwTFIgmnnves73hU40VMiJUnnniiGo4C4bVIhtjLDBfaNotQZjGEYhb3o95bCV2RJW0dIwIiIAIiIAIiIAIiIAIiIAIi0DkBxSzunOGgpoAX4owZMyxuJKIUIgTbEGHKuDjUoMLWxUWgDQLEZCU2L6EHHnjggcAChRgetHgUE7+Vxexaid16xx13hF133TWwkOVZZ50V3ve+97WRs8E/xb1LiXuLQIy3KiEoKFeZxWL6akI43HvvvYG6fOGFF8xLt2ihVqgvBitpx4RZId52o9AS1CuiMnVMiCTOl4mACIiACIiACIiACIiACIiACPQXAXkW91d9tJUbRCjEpnHjxtnDOiKLhOK2UOokEegKAUTAbbbZxhYEQxTFeGfxO0RDxORWDA9lhDcsGcKhlTT64Vgf4EIsxeMUr2K8ThHOy+x1SggKFoVDMH3kkUcsXBChSooonjJAue2221rMbUKqUIdpxuAIsY0XL15s4Sc23XTTtMO0TQREQAREQAREQAREQAREQAREYJAJyLN4kCtAlxcBESg/AQZviO86b968QKgYXxgMoXCfffZpyasYWgcccEA488wzLa0TTzyxsAARRxGFEY0JRcGMCMRi4hWzrcxGGQlPQvkZ8COOcRENYZ+2Tf3hXYx4jLcxgjiL2L300ksWfoW2jgc59Tp+/PhSe44XsR6VZxEQAREQAREQAREQAREQARFwAhKLnYTeRUAERKBLBBDOmJ6PKMhClHiULlmyxIQzhLZ27LjjjmvntL47hzi9cMHrlPi3zz33nH0vopdtK3BpE3iU+yJvfC+qUYcIwITUYCHHlStXmhiM8M/gCLG58YSnnomzL6/iota08i0CIiACIiACIiACIiACIjAUCEgsHgq1rDKKgAgMOgE8KkePHh1uu+02E0UffPDBsOOOO4aixanNGyTexIiH8+fPN89TYjgjPA4VK7JInKwjBkAmTpwYFixYYOFV8KbHs5h2jyc98Yw5hvqWiYAIiIAIiIAIiIAIiIAIiIAI9C8BicWv1g1xFll4hxcPuXg/MZ1WJgIiIAJ5EKBfIW4xIvGsWbNMNCPO+FC317zmNbbo3913322eqXjb4mEsKxYBwlEg+iMGE0ebRewIsUF9Eke/lQUci1Vy5VYEREAEREAEREAEREAEREAEykVAYvGr9YlQccEFF5gnFNNl8fY7/vjjJVqUq72rNCIwaAQ8FMW0adNskS8E0TIv4pYVNFwIxbDTTjuZZ/GYMWMsZnHW83Vc/xBAEGaQVQOt/VMnyokIiIAIiIAIiIAIiIAIiIAItEpAYvGrxP7617/a6vSsSP+Xv/wlnH766TZ19oQTTmiVqY4XAREQgVQCxOElRjFCcdlj8qYCqLORwbkddtjBFkZbe+216xylzSIgAiIgAiIgAiIgAiIgAiIgAiIgAt0mILH4VcLEDt1ll10sBAWbzjvvvIC3cZoRh7EbU2oRjyQgpRHv3jbqUcy7xzctZTxJYd6Neyjtev24LY82d8YZZ9jiYR/72MdCM4G1CMxhwiKAZTGYE3pkKLfzXtel9+ewF/de09f1REAEREAEREAEREAEREAEykJgSIjFrMRODMU0Q5xgCnRy0R0W6Fm8eHF4xzveMeCUu+66Kzz88MPhnnvuMe9jPJDzNNJ78sknw0MPPZRnskqrAQFCjjzyyCPGHIFB1n0Cr7zyiomcLHaVh2ja/Rz33xVmz54dPvWpT1nGFi5cuEpfVZtjZk6wcByLja2zzjq1u/W9CwToz/nfQ0zmddddtwtXUJK1BOjP+R9KjGT69ZdeeimoX6+lpO8iIAIiIAIiIAIiIAIiIAIi0JjAkBCLly5davGIa1HgIUz80IMOOqi664EHHgjf+c53bPv+++9f3c4HFsHjxXRpDAGaNPIyHnLxZt5rr73ySlLpNCGAmPOnP/0p7LPPPvJEa8Iqr90IOLfffnuYMGGCiTp5pTuU0kFwRwSj/8F79dFHH21YfITiRYsW2WJjWjyuIarcdj7zzDM2uLjBBhtYiKPcElZCdQm88MILgcHe0aNH27oDLFQrob4uLu0QAREQAREQAREQAREQAREQgVQCQ0Isxmt4m222WcXDCKGFldrdEJV/8IMf2MPlRz/60cBDftJYgIlwFe6lx/l5ei3hIbhkyZJw4IEHJi+rz10kgECPuHDAAQfIy7WLnJNJI6LR1vfcc8+wySabJHfpcwsE9thjjwDL3XffvelZiMkMdLF4HOF2ZN0nwCwUBkWIUT1p0qTuX1BXCE899ZR5Fk+dOtXiX+NFL096NQwREAEREAEREAEREAEREAERaI3AkBCLWbTune98Z0MyPNh/9atftXAETO/Gcw+BZcSIEdXzmDLPi2nF3XgA5ZrTp0+XgFYl3v0PeJ0hWm622Wbdv5iuYARgvttuu5mIVqYYtb2u3laEdsJP7LzzztbOWzmv12Uq0/Xw+CYsAgOSYt6bmmVgePLkyTY4TJgbmQiIgAiIgAiIgAiIgAiIgAiIQOsEhoRYnAULcYhvvPHGMGXKlHDLLbeY9zDiyuGHH57l9FyOQVQgHIKsdwRYGGzfffe16fx5eon3rgTFuxLMZ8yYMSBOePFKUawcr7feehb2A9FY1hsCDIRst9121UVTe3PVoX0VxOJdd921K4O5Q5usSi8CIiACIiACIiACIiACIjCUCEgsfrW2t9hii3DyySfbgz0evoSYSHoV96JR4LGMqCPrHYHVV1/dhIV6QjGLVElga70+8KgkXMtaa621yskwx7sYz8s0E/M0Ks23wRvucK1dOLBRO6evo8/jGF6y9gjUhiWCJe0/jamYt8+YM+GH1bKl3TPrp17fwj3Cvnr9vSWqPyIgAiIgAiIgAiIgAiIgAiIwxAmkqzVDEMr2228feA2WsfjUH//4RxNttt1228DierWCz2DlrajXRQDDS/zBBx8MLKp25JFHVmNUIzasWLEiXHnllYFFkYYNG2axoolTndzHeXh8Ux8bbrhhUVH0LN/PPfdcuOaaawLxvzHYsWAjgzFwffrpp20/i0Ouv/76Ye+9964u/vXss89afRBHGq/M/fbbr+cDNj0DleOFWLzujjvuCHfeeaf1H3BlhgQx1jGYs4jjQw89FDbaaKNAPNdRo0bZPmK83nrrrWHx4sVWV0zhp/+RZSNAmybm+dy5c8P48eMtHjQCJiGMbrvtNrsPYA5XFl1DpGTf7Nmzq4vfEc+YfbXCZ7YcDJ2jiLlNG58zZ47F36bksGOhTDyKH3/8cevvH3nkERuM8n4HrrTzm266KSxfvtz6FvYRekii8dBpPyqpCIiACIiACIiACIiACIhAdgJrfD5a9sPrH3nnvAfr7xykPcOHbxC22Lz/4xaySNXXvvY1e6BF6Pntb39rIhmL8snaJ4CHKiznz58ffvWrX4WDDz64Kj6++OKL4Ywzzgh33XWXeXNfd9114c9//rOJDwjEP/7xj02YQDxGaFu5cqUWqWpSFQhnTzzxRLjssssCfBF3EGgQ5YnFzTbq43//939NmIT9fffdF6ZNm2ZeyDNnzrT9CPd33323iZuInvW8BJtkZ8jspt0iWBJ3Hc/ie++9N8ybN8/EYsQwxPvf/OY3JqCxgCbHIrBxLO3+4osvtn2IydQJi3ji+S1rTmDZsmXh/PPPD+edd54J8YiX9B+0cdjCnxBHCMRbb721DQBefvnl4dprr7V2TV35Pvp+WX0CcKWtwo72yWAgsaAZiIIz9cDAB+IwCwsy6MTAB97dv/71r60voi9BbGZQi/+v3Vh7oH4JtKcoBHymRSf55f8hfawGgTqhqHNFQAREQAREQAREQAQGi0Auc455UFt99dUGqwx1r7tmnJJaBMPL7Oqrrw7HHntseO9732sLf/3kJz+pTrUtQhn6MY94ZrN43dFHH20CDlOQMR7i8Hy95JJLwtve9rbwvve9zzxczz777IB3K95nF110UXjrW98a3vOe91gcacRm9skaE0DwOuyww8IJJ5xgXBGJEYHx3mZQBNGSxe1g/qY3vSlcccUV5vmNeHPBBReE3Xff3e6BN77xjSa4PfDAA40vqL022EEM6A984AP2wiMbT1faOEIk3vNbbbVVtZ2zD69X9l111VVh8803r+5DZEZwkzUngEjPYAgiPYNKDIbQtyC6w5eFVd///veHPfbYwwRjuLNv1qxZ1fqg3mjjeMzKGhOALYxpy/QPxxxzjHnJ41VMn/373/8+TJw40fqPgw46yMR6BkfwNEa8930HHHCA/b9lNg9inqy7BJj1QDtPvlhwmPrMYh//+McHnEs61GeexoAwMzHwNifs1Fe+8pW2kqevZbBt0003tXT++7//O3M6rI/BgDb/P/nfyIvPBx54YPi3f/u3zOnoQBEQgXQC9DkLFy4Mv/vd72xg3J8JOJrnsH40nC5kIiACIiACIjBYBHIRi8n8Rhv1n1fURhu9frC4tnRdhIVRcVo4DxmIbTwI8/CCJ5WsfQLEgGaxo9pFphAIEAr44YhXK9PEERDwRMMLFkGHARAeSgk9wTvb8SKU1ScAM9ovYQ6I981nvKqIw807fBF1COkBcx7OOQbPbxfp3/CGN5jXMZ6veAHi6SprTABOhO0gtAehbPDWJqQOggUCPWIZ7Zw6wdMSb0yES/YhKCPeDx8+3EIh4KWJ57GsOQGE9fvvv99CT9DHuPgFU/rucePGWR3Qr+PdynaEZR7+2Ed97LDDDtbO6XMkXDZnzgAgfTcDUAw80Z/AzUMNuVCHQI8QQPgJxHg+IxZzT9CfM3jFfaEH8ebMOz2COvnCF74QPvShD9nvGgZYzj33XBPsm6XNffHtb3/bBmU47x3veEf4fJwMhwd/njZ27Nhw6qmn2kBEUkBq9Rq0MdJhdkyrbesTn/hE+OhHP2qzmJidw2vMmDHhpJNOsoGRVvMymMcTEobBNJkI9AsBFjDn/zT/G77xjW+YMwj/g+lPmInCb6R+abM4TTATiRk0/L/q1C688EL73X3ooYfa8yUDUTxnHnLIIeYMw+8YmQiIQD4EWv3fn8dVef7QM0QeJJVGGoE10za2s23yLuPDH666rfrA3E4aeZ6zyfANw8itRuSZZNfS4oc1sV3dEG7woOKHy9prr+2b9d4mgdqOm06VOK4IOLwQOfFO4zMerohoTE/2fbwjyMmzOHsF8MDNIAji5dvf/nbzsiKUB+x9EUcEZDgjIiPesA/xGPN9iD2y5gTgzWDGzTffbPGHiZ+LgIz3MO0fcR5jAAXmtGW2088k93EfUE+yxgRgTfvmYZOHTEQthEzaLTGkMQ9xwAMf3orwdrYe5oP+nb4FcZn2L6tPwAf/YAlrBjXox4+NM3Joz/TTHIPBl2No3/TpMPZ9tHHqiT6HcAOy7hKgvhgExH74wx9af0/4FWZPMXDYyP7nf/7HxB2EYrx+//mf/7nR4W3v4/fXW97yFhtY4L5u1xiMYG0EvBS//OUvt5SMs+B/3vXXX2/n4lHMAF7R7J/+6Z/s//4RRxxRtKwrvyUkQP+xzz77hOOOOy6cfvrp1ecqBnyZPchMAv4XpP0P5vmM/+X+/7wXeBhcYzCUcHh5GE4zLOBOv8u9iW255ZbhtNNOs2dP+tYi2WDUSZH4KK+tEWAgGweaRsZvdQZvfWYsvzeTxkxkfjsQipG+AmeEbtvPfvYz67u4Jr8bmC3NIFAnxgwnnkf8eYa0EKEJ68lM4XZnXXWSJ507+ARyE4s33XTjcOjB08P8BYvCM88+Hx+M40NYj599V4uhMNZa6zUWp3iH7beJD4T9Fxojrcp5eHWBgf1+o/KQJesOATpCOCPgwJnOkBeCAt/Zx3dEBd75EVn7z6E7OSt+qi4U4z3Gwl5vfvObTZCHK8K8e27BFM78E4Y7nKkPLLmv+ES6XwLaJt7E9CU8ACEaI1gQHgHmiGaYM0aUZ7sLlezjYYkfBIjMssYEmFrPD0N+PDILBOESz24exjBn6Z9pz/QltHM++z3g7Z36oz5k9QnQVvmxygtWtPH//M//DHhL0YfAErYYfGnr/oOXz7x8H/Xj/ZFt1J+eEID58ccfHz796U8HvN0Q++stHEt9EQv8H//xH82zmHO7bXn1fT7o2U5+k78zkp/bSWuwzsHTXyYC/UIAkZhFZH/wgx9UBw3JG7PbCF+ExzFOC2k2GAMfePwy4J+XWEx8fl6k+61vfcsGtxGVcOQoog1GnRSRk/KcjQCD0MxAo39gTRGM35bMFPLf5SwC/stf/tLWOkIwJWwlYS7dPvaxj1l4GwaJezWwxAAYv33JP79p8zBmOOF88c1vfrM6aM2MJ2YjEAKuSMZvSBx7ipbvfmScm1hM4Tbe+PVhzxk792M5+zpPTLln4S8EYzyiEHn4YdOrDqev4eSQORcQSMpFG3444blN/DKmoPKPAjGHEXb+OeABuChOd2baPkIQogOxXWWNCSDS0H4Z8cRz4djo9YdgieG9xUM0POGP1yv/lOCPtzH7WNgOTyp+uCMkMF1f1pgA/xARyuBGG+XHAzH5CHnANjyHCfWxX4xlTLtmFBpvWHgTkgKBk33UBXWCGCdrTADGeBXjnUqoFLwIEOQJV4N3IX2Jhzngxwr7EMU4hz7I91FH7GPaOufI6hOgndMP86KPpv3S3/AjmSm77Kf9so3+HM6If3BnG2K+7+MqbHdv4/pX1Z68CeBBy/9V/veec8454SMf+UjqJRBx8OLxmQ+pB2lj3xGgPyQuu0wE+oEAIg+LzL773e9O7e+ZyfnZz342EBs9zQZr4IP/b90wH4Dy925co9tpDladdLtcSn9wCBAOjhe/IV0sPvHEE+23ZjJHrLXDDCT0GpygcBTBYQTba6+9LATj1772teQpXf08KoYv5XXppZfaM3ceFyvTDCfC6zAghnOPrDMCuYrFnWVl6J5NDC1+sJx55pkmsLF4C7H5JB501iYQEa655powZ84cEx7p4BERGCHjYRXB7IwzzjBx7NprrzUPNQRNBAQeUtnHOw+tLDKDoCOrTwBxhhiixJhE9H3Xu95lCxExAIJHA+IMsaFZPBDREg9YhGI8Ymnr+0XB8vzzz7e6QsDE24N/4LLGBBDBaKN4XlIHsEOgZ1QccZIpiDfccIPxR5ykPmj7HMM7bZ8HEwZHGKAi5rSsMQGYMlqNZzwCMUI7rGmzeEDiFcQPFERN+hz6lZ133tn6EH5cso82T3xp6oG4rrLGBAgPhDc3Qjt9NAMgeIbBnUEP+F599dUmChODkrpgsIR93Ass5sj0VdjDG4EZ4VnWWwK0exZ+RKAhFEU9sdj30WdlNQZveOCjj+umMeWTgQi1n4GU6Qfz9HIamLq+iUDrBPgfi/EbqJ7xTJAmFmvgox6xwduuOhk89mW/cnIAJU1/4ff8P/zDP5hYjEPTT3/60/DFL36xigUnksFwQOjGwFKSRfJztbAF+KBBpfwqSa5M+bFsOyUeaPmhQufDSMi+++4biBsj64wAD40IaXhSehwehAYM4fKDH/ygPfDRoSAcMGqI4IZ48+EPf9geONmHuMM0Nj0YNq4PhEpeeGezqjsekwiQvggV3sNHH320icNw5R/cCSecYHXBwz0jgHgScw8QTsH3Nb6q9kIA1jwUIRTzj/2YY44xoZ22TLxQRGFES4RMYmuNHDnS2jmjyAxWUU/s4zzuBVljAnBFEEaERFxnSicDSrR9Bv4IjYCQuWTJkup3Zouw77DDDgvMJmEfQibf2SdrTIAf6sy+wSMVTzH6j3e+853mTc8gx9ve9jYT8PEkox5o5/xvpd9h8JXPxJZGXCaWKt9lg0OAGSc8jDELJc3rA1EfUYDfQs2M/zkMUO6yyy7W53FPcn/h4cNvgDQj3M5Xv/pVu2fp77iHEa/ZXs8Qopn+PCp68pAvBo+ZhspgdC+MwQ6uS9lo36wHQGxjhHf6DwbAKRMzcpL2d3/3d1Y+9tNHMbMHL0t+1zDDh/uEtJLm14Il90lyOvzXv/51W3SLwRjivbp973vfs/8rf/jDH2wTeeE+40W8VJkIDAYBn4LM/w0GoNKM35205+Rv/HYGPuqFski7pm9r5xw/d6i9t1MnQ42RyttdAjxP8VsUaxbnuLs5UerNCCDmy3IiEH9oD0mLD+qVGPOwEh8mVil/FBcr0a2/En90r7KvmxviQ24lij2V+FDSzcsMmbSp2ygOV6IQVokigb1HL6VK9Dg2BuyPYnIlCg+V6Ck0gAv74pRm29frdjAgIwX7Qtvl3oL5woULq8zj9O8q8+ghWInCprFPFg/m1AP1AXtZNgK05/jAYUyjt6W1eVi68RnmUSxO3Re9vCtRvK9EUb96b/i5em9OgLZNu40LqQ34fwJzuNKWY5iQAQnRpyyM90favgEH6kuVAO0czvQdUfAydsl2zoHcB3GwyfqWWub8X+fcKESuUh/Vi+hDVwnEGHuV6B1u14iDJASYrsSYxKtcMy68VIlxAW37L37xCzsuirqrHBc9+ytxoKYSPXoqM2fOrO6PM4oqcTChEmerVOIAQ3U7H+gHoxd6JQ4Y2++8KBBXaBsxLp9dhzxFb6EB59Bm4uCPpRkXy7J9tMUYsseuHT3ZBxwfBVVLKy7oN2B7li8xNEc1H1zXjf6C9ODgeYxrAlRuvfXWCmWIMRZte/SS9FPsHX5R1LV9cVC2EkMVVeLCgXaPxBlAlTh7qhKF+0pcVKt6Hv1WjN9YiYKynReF9+q+6667rhKFYNt+1FFHVbdH4boS1ymoxMFH2/fJT37SvrPtyiuvrB6nDyLQSwL834hCsLVJ7hvujyuuuML+X9fLR1wErxJnDlTPiYPtlTj93F7/8i//MuC0KBhV4uwIa/fcm3FAuBIdT6xPGXBg4gvPetFxohIHLitx8Mn6ljjoY/eyH8azCfnl/nTjvuSe+/u//3u7p6ODhfVhvj/LexzktnRr+904YFShf46zbioxlFYlDvpUuNejo0wlDjRZPumT6ffc4kzASpx+X4kzAK0scQp/hb47DmpV4mBaZffdd6/867/+a4XfmEmLg4VWrjjIVeHltnTp0kqcfViZNGlSJTo0VOKglu+qtFIn1ZP0QQRaIBBndVfv+drflp5MHNyuHvPv//7vvrn6Hh2d7P6pbkj5EENgrnJPpBw2YBPP1rW/ZfwA/+2CbpWX1fsdklf63U4nziS3eopOBN2+1JBIH0/AIWk33nhjJXqjpD40Itjyzx+BUSYCIiACIiACIiACItAZgaRY/Otf/9p+zMeYxKsMkPMDn4FdrJFYjMCJoBJDeK2SsbgAje1DtHRjAAGBl3MQN2sNIYl9tWIxQg7bv/vd7w44xR8c40yCAdu7IRb7BeICNJYX8sPghxuiGGIw22sHWxGa2R5nnVRiqBY/xd4RfxCt2B9j3Q/Yd9JJJ9n2pFjsByAqJcVi345QRlq/+c1vfJPeRWBQCSCE0s/QLv0VZxGaYEnbZrAoaVkHPhjMQRTlnsS4B2n3cSp6JXo028BkMl0+k3YMS2UiaZyVUN0dvf4rcYZMBSEZSxOLccRAjKYM0eO/EhfVqsQZGNU0snyoJxa3MxjFtRlU8v4DkfnII4+s3HLLLZXoBVyJsw1sIAqxnkFct0suucSesSkHA31unENfHmdsWBmT/UvWOvG09C4CrRJoJhYzOM0ANO02zspZpd/gevXEYsRnBnQZqOZcBmD4H8rAK/1GPfvRj35U4fcQg9vcuwym8PvCHbA4L00sZmAnzrazAZcYEtIGsOpdI217I7GYwZ44G8vKEGcRm4hNP8ogEf1snM1UYcA+afy2iuH7bNCJMuDYRL4YLGKQjcEzBqiS5gNYDNQzyA0LN67HwDRM6BNjWEvbhYPgjBkzqv08g34+0Mc7v9lkrRMYsmJx66h0hgiIgAiIgAiIgAiIQDsEkmIx3rAxDIv9qOfBxA3PXR423OqJxQiiMXROBdEHkaHW8MRBfIlTy22GC/vjOgR2vaS3XvI895hNisXMkonTTu08F7CT5+ABhziU9GTvplj8pS99yfLCg2CtUS4eZPG8T5oLT3gKpxnl5bwY4mLAbhfj08RiPAqTYo6fKLHYSei9nwhwH+PpSjuvfcXFmE28qM1vs7aMeEFaCJ54C7ox24HttZ6H9EnurR8Xx/LDTXTyPDHIhfk9m+yrEHRjCCwTWtP6vGqCDT7UE4v9lHYGo5wT/XZSxCLNU0891VggACe9NfE2dnZ+bX//1a9+ZfvUvzgRvfeCQFIs5l6jz+B15513Vs477zzzeEe05b6uHWDy/KWJxe3MgOJeYQYB9wje+X5f8fuIbTEkll8yVSyOoZ/sOI6lP/r+979fPT7Lh0Zi8YUXXliJsZstfYRs7v/PfOYzJhojAk+ZMsX2MevJrZsznCgjMzwwZm0ym+lb3/qW5QFhnu/+QkyWtU5AMYtjK5OJgAiIgAiIgAiIgAj0hgALwbz3ve+1iyVjifL5+OOPb5oJFjEkxjBxv9MWeGGxmSgChei1E2bNmmXpRe80e48PM6npeyzC5E5iKsef1raJeLw///nPB7zYFx/kLB528rxuf2Zh2FrzhWjITyt20EEH2eEsTMvis25pi/z4Pr2LQJEIRNEgxLAKtuj15z//eVtsmT4CYxFN1jWJAz4tFckXCo6CSfC0SID1NzAWYU3af/3Xf9naEXGgxRbP9n0sgEvM/RhWxuKg+/bkO33Y3nvvHWKYhxCFn9Q+L3l8u5+jZ6CdSn5YgNqNvoCFYbHaOMusC4CxNgDrviTtxBNPtPUxWGDwggsuqO5inZK0/pYD4CETgcEkEL32bbFWFmw95ZRTLG4/6xOwkDJx/Fm3JKvFwdZw2WWXheiFH6KHbfW0OHge4oBTiLN9QhSgq9v5EAe2QxSobT2U6CVcva+iiGvHxZAvA46v/RIHpmxNAn6zxPAUdRcSrj0vy/c4eyB84xvfsPsXJtzzX/7yl22BdH6XeP931llnVZNjwfs4KG3f6WejeBtYu4J1XFjIPoYGss+f+9zn7DMHss4C60dxvVqjD2UtBO+TfD/1EkX2EAeabBPrU/HdX3H2gx+q9xYISCxuAZYOFQEREAEREAEREAER6JwAi7NhLLAWPXlMqIzTFwc8UNW7CsImlhRpao/1Bzo/NoZtsEN4gMhqLESJcZ0Yh3yVV4xhag+BvX4IQWypZy5u19tfux1RHeM8FkmViUAZCSBqINAgSCCixDASIYapsaKysLILMVnLjrhLGnH9GxOcYwgKE1FimAVLolZ8jp52tj1toCd609qCn4jatXbxxRfb4paIt95n1h6T9/e0PLYzGMVAXgz9Y9mL4SkGZFODUQNw6EsfEeBevuiii6ovfqPE2QO2uOyHPvQhWzR82bJlTXMcZwiE6F1vgiqLydYaoiYLNLNILwswY/wfjt7E9jl6+tu7/4mhFGwxzujN65sGvNPnkD/utTh7wQbFBhyQ05cY3sEWKSa52jyyMC4Wva/t3f/4oBKLjsaQFb7Z3vlNFuOo2+fa9NKcAfxkDSw5ie6+DxwC7O61lLoIiIAIiIAIiIAIiIAImFdIjDsX4tTKEGNVmicJD0+13mlpqGIMO9uMB009i4tO2q7NNtvM3vFiwVrxvHUhNU4vrT7MWCIl+oPg5caDXBaL02SzHGbHxPAegYdbPLJkItBLAsxAwHPv4x//+CqXZcDlm9/8pokqeB0jrvhsh1UOrrMhxsq0foE+jL4LESRNaOV0H4iJMX7rpLbq5tmzZwe8c/H4pRxxccoQF51b9cCct3RjMCouXp1zLpWcCPSOAAPGP/vZz2xwiPsST3oGtxsNevgMKH6vpImepMlvDAaymT3AYFFcyLIqtNb2JTG2eYhhplILze8dZkjEcBo2i6KVfiY1wQwbY5ivMG7cuAFHtjOoRALMcMLD2mc4ubjciO+AC+tL1wjIs7hraJWwCIiACIiACIiACIhAPQIecoIpi0zTzuo5N2nSJEsSoTMZOsGvQ4iKpUuX2lc8ADGmkGIxDqG9Z/nj14kLwYUY7y71lLgwnHkdpe4swEZCbWA80CYfMBs9pDXzqkqKyXhlxRirBSChLJaNwIoVK5p6DDNFGYtx0JsWn4EPb/sxdqd5zcaF3syT7/zzzzfhOC7glJqOD5bU60fSTmLwJi7IHvAujjHaQ4xVaqEs0o7t120+GOUDb83ymew7mh3L/mSdZDlex4hAuwQQQn1AibBWDBY1Mp/V1MoMKB9UIt3k/+NG12Hfe97znmqImBNOOCE0GkhvllbW/YQT45VmmuGURqWY2yQWF7PelGsREAEREAEREAERKAwBpnHWPsAQ3w4PEoRdplDGBZgGlMeFg9oHj+222y68+c1vtnOYLlprxAh8/vnnbRpmXIXbdsdFWQLTJ/G8SRMvPbZx0vOYuHnE28N++tOf2nvyz+LFiy0eXvIcz6u/J49v9jl5TvKzn+fb/N238562LbmfKbHUQdLgGxeDsU0+9dX3wwpDeE8aXlAI7sky+373+PaQH2wndmtWj2VPR+8ikBcBBJ20+93T9wGh2r7H93sfxPfkwMd//Md/2L1x+umnh6lTp/rhq/RxDIBx3xHbGEuKQdWT4gcGpDyuum/Hs5B7hz7s85//vA2Mvfvd7245vrKn1+t32MXFp+yyPmjneag3GOVivB+X9l6vTtKO1TYRyJOAD/qQpovB9dL3/4e1v3uSx9fOgEqm38rAEl65hJ9ghgPexx5iJ3mtfv7sg0rkMevvhWQ/0Kxs/Cb57ne/2+ww7U8hILE4BYo2iYAIiIAIiIAIiIAIdEaAH/MIwT/84Q8tJicPNIgHCLkYQjHTOTG85twQIhFPiC2KkQZiLqKLPyDgicxDBbHumBbqxqIrTNUmjjDTtn0hJY4lNuCLL75o10yKoAimv/71ry0JBCG8DFkcD+MBY8yYMTZFcubMmbaNPzzI4c1DjD3iI5OvuBq3hdVgP1PbiXPs+WVbPSMvLByFl7Ib3oQ8SCKie9rER8XwNuRabOdcFulyLycEJ9jVGoIZXpRebs79yEc+Yg+8LLzjMQP9vP3339/YsTiVGw+91BNhOcgLYnlSNN59993t0Kuuusr4ccyoUaOsnj0NvYtALwlwv6eFofA8EN4B22+//ezd/7jQkzbwwb3kMXh32203P8Xe6X+SRj9AX8JgFf0E926yv/JjuReJlYr5wI+/s+3Tn/504P7inkI4bsc8PX+vTcO3+3tyf9q25H6PuZrchrc125lef8wxxyR32cCd90XJHQzmYcl+xfc3qhM/Ru8i0E0Cyfu7doG12uv6QFQrM6BY8M29desNLPG7qHbg1xeq5XcR9wm/uZK/V2rz1m/fuz3DiVkm9L2yNgjEzl8mAiIgAiIgAiIgAiIgArkSiIs6VWJcu0oUFytRKKlEcbgSp1NXordu9TrxIaESvfoqUUCubosedZW48IudExc/qfCKMf/s3ChAVI+LomglTgutxGmelSlTplTig5YdEwXoSvSkrR6X/BAftCqjR4+ujBw5shI9mysTJkyoHHLIIZVPfepTlfgzuvqK8Qmrp0VxqBI9BCtxGmplp512qsTYgJU4rboSY55Wj/ntb39bifGWKzHep+WXd8oeH9iqx9T7ABuO593LGz17jRus4sro1bT9WK7F9g984ANWZtiyD9bwiEKzXQ4OlCt6SVeiaFaJHn4V+ETvbDs+rmxeiWJWataiiG71MGPGDOPMuVFwr0Sv7iqnuGL8gHOjmFyJXoOVrbfe2vISRfgB+/VFBHpF4PLLLx/QTuMAy4BL0z/Rr8SFowZs50ucsWDn0jfEAZtKjEtc2XPPPavHcU9wX51yyinVbVHItX6Ie5f7Ky6QWYmDVtX7K85OsHsjehlXone+nce994tf/KIybNgwO55+8Nxzz7W0OXf58uWVKKrasT/+8Y+r5fnSl75UiYNE1WvX+0D6pBnjp1p/RJ5jSB47NwrplThoZPmjL33jG99o6dO/8Z1zX3rppUocrLO+gnN/8IMfVOLAVvVyH/3oR6t5om9143pxGr31AVdddZVvrr7T95JeFHCq2+JgWSUuWmXbN9lkk0oUmqtl56BmdVJNSB9EoEUCyb6CeyLNYsgZ+19Lu+X+rzX+79Lmk+b/K3/+858nN9vnODhkbT2GrrH70A846aSTbPsRRxzhm6rvd955p/1WiAK0bYuDTKvcR5deeqltIy9Z+ohq4q9+OPvss+18ylnvdxS/bfg9VGu///3v7dzo4Txgl/8OoW9M/tbjIPqZKLzbeXFwfsB5ceaGbf/iF784YHsU0qt5vO222wbsI33yx28q0sbot04++eQBx+lLNgKMXspEQAREQAREQAREQAREoJAEEDR4YIjexxUEkCyGABK9Citx1W47HPEGQSh6EpoYkvbA6NdB4PaHkCzXGsxj/CEtekdbNqLHXrWcaWWszWv0Jjau8HXRCkZxCm4lemCbkFZ7Dg+osI1Tymt36bsI9IzAlVdeaQNUCJLRe94EWd4Z0Hjb295mwg/vtSKyZ7DRwEf05K9Eb2QTLBB/Y6iIysSJEytsR5hAhOYVZzd4cvYeF8WqxEWhTMiIC1ZV4gKcNgAVF9iz/YgpiE4M/DAAFL0MLb/cq4gfPojm7wMST/nCgA8DdKTLQFRcLG9A2nHhuY4Go1wshhVievRwNNbkde+9966QfpotXLiwEj2lLT8MiFEvccHTSlK0Q6zSYFQaPW3LiwD/D7n/P/axj1XFxzhrwAZJ+H/H//y46FzlJz/5ibVV2iSD2QziuPE/Ms7oqZ4fZw5Uf4fEGUiVOKvJ7rmkqMlvCO5HBoQYFEla9Bq2voRrMTjrFr1j7R6Jswzs/y6CcQyBY9c99dRTqwPEiKX8v+d8BuIZFMvyu4iy8nuIAXjO5XXGGWdUGCyHE0ZZGfzx/ddee61to39igPozn/mM7YMRg2WkifnvEM5jMMq38zvqgx/8oJ1DH1D7m4T+NM4OswF9Syj+gc+hhx5qA1Gk97nPfa4SZ3H5bnuPXt2WZpzZYXknbYRsWesEVuOUCFqWM4HY2G36ISvYykRABESglgBdL1OF6SN8mnTtMXl951pMcY4eG12/Vl55VjoikAcBpuoT6iB6YeaRnNIQgcIRYAps9NKzUBr3339/4fKvDItAuwSiIGnxOw877DBLgu9MI4/eefZ7iFjD06dPb5g8MXQJRUFMYw+DkDyBEDnE8CbMDSFX3Aghw/8dQrakGWFsopAa4iyHEGc5pB1SiG2Er/n+978foudkIJ4yvOARhfMQxfKmZYAfYXSiaG7hKgi7Q6iN6Gkdhg8fbvUUvQQHpNOsTgYcrC8i0IAA4ZY8FE2Dw6wtEkOcmMC0eQ8VwTmEmyBOMAvgYVEItQV14wCQfed3aBz0CL/61a8CoSsI5/TAAw+EI488Mnzve9+ztO3AxB+OIe7wmWeeaf+7o7Bs4WvioEz4yle+Er7zne+E6Clr1+T+IKRLFF4tZFcUti1sVhx0smc+QvGwECQhsxoZ1+D+o9/y51L0LELCUO44A8Jir9NvJctKH0b4GMJ1wYXFOMkLHKKXtOXXf4ewDkT0mDbm9KmEn6AvjDM0LH9pscxPO+208NnPftY4jx071vrv973vfRZD/pJLLqkWiWdqyoARlot+n7RZXJP+JQ7UVfNdPUkfmhKQWNwUUWsHcJPFEajAD3KC+af9sGgtRR0tAiJQVgL8M+MfGYs18aDh/5zzKi8iMT/C+RHDqrpx6mFeSSsdESgEAX6g8uDJj1h+ZCZ/4BeiAMqkCHRIADEGMYoHJj7LREAERCAvArVicV7pKh0RKBsBBF2e+3g2i+GsMgmXCLWcg/gaQ2bVHXzqd1YuFvNbHI0MvYx1KBgQYluz518E7xgGxI5jIIrf8qTDuhCkwSvOZhiAAWYxHI7xRtDX7/8BeDJ/katNZlSND0yKxHQGcfqQhOLGyLRXBIY8gTgVMeDpEqcmmYdJXqJxUiReuXJlYNSZtGUiMNQI8AMSTwM8IfDkkGg81FrA0C5vjH1aXSSQgUO8i1iQyxfDGdp0VHoREIFOCSDiYP7eaXo6XwTKSgCP27i2QkvFQ+DE+bBshveyL4ibpWx4ScdQPwMOxQGkkfHsy+wRWWcEJBZ3xs9GRtyTGJHYjakKMhEQARFoRIBpPEzJYXQUUbdT0bhWJPZrsxK1TxnybXoXgaFCgP/HMZ6c/b+WaDxUal3lhABTQ3FmOPbYY827Zu7cuSbqSCxW+xABEeiEQIxZHm644YZw2WWXWTJMfUfYYuo3M9lkIiACIuAEfDDJ33273vufgMJQtFlHtZ7EyWRwpVd8xCQRfRYBEahHAIGX/qTWiLOa1dO4nkjsaSbjT/k2vYvAUCLAPcZ9kjTuC3kaJ4noswiIgAiIgAg0JzBz5kyLU4wjAv9LmS5PjNK42JRNl2+ego4QAREYCgR8hhMDShgxlzXDqTg1L7G4zboi9goLJBArRSYCItAfBAjEjyjEgE0ZYhMR8zyush2YftPI4sqw1h/F1XkbHaZ9IiACNQTiCvH2YBtXpK7Zo68iIAIiIAIiIAIiIAIiIALtEmAxOp7NCcOB0waDSixu94UvfKHdJHVeDwlILO4QNotTzZ8/fxXRmPgy66yzToep63QREIFWCCxevNhikxIzfNq0aa2cOmjHrlixwsJQJDOASMzUecrRij377LPWH9WKxnhPshKsTASGIgFCRBHihcEkN0Ri7jHutWYLa/g5ehcBERABERABERABERABERCBoUBAMYs7rGUEGF6IxsRCfOqppyzFxx57TEG1O2Sr00WgVQLPPfecDdKsv/76YZNNNmn19J4fzwgrK7W6tSsS+/kIYNOnTw+1ovGyZcvMe3L11Vf3Q/UuAkOGAHFaXSiWSDxkql0FFQEREAEREAEREAEREAERaJOAxOI2wdWeVisaL1261OKNIlrJREAERCCNAJ7QhJDoVCSuTTtNNOZao0aNqj1U30Wg1AReeOGFsHDhwsA9QQzwLbbYQp7Epa5xFU4EREAEREAEREAEREAERKBTAhKLOyVYc35SNH700UeDxOIaQPoqAiJgBPB0XLlyZdh///1bDjeRFWFSNEYsxpNZU+6z0tNxZSDArJ+pU6dKJC5DZaoMIiACIiACIiACIiACIiACPSEgsbhLmBGNZSIgAiJQjwAhISZMmFBvd67bEY132mmnXNP8f+ydB5wUVdbF7+TEEIacc5ScxYBiXDEHzPqZw+qKCmYFXMScdgVd3VUxZ8xZEQSRpGSUHCVOgMmxv3veUD3dM90zPTOd+zx+TVVXeOFf1W+qzrvvXmZGAqFAoHPnzqFQTdaRBEiABEiABEiABEiABEiABIKGAB1YBs2lYEVIgARIgARIgARIgARIgARIgARIgARIgARIgARIIHAEKBYHjj1LJgESIAESIAESIAESIAESIAESIAESIAESIAESIIGgIUA3FEFzKfxfkcWLF5vgWu5KjouLky5duog/XGrAl+rXX38t6enp5nP00UfLoEGD3FUtJLcvWrRIEGzJXYJ/6x49ekiDBg3cHRLU27dv3y5Lliwx1y8zM1MmTpwY1PVl5epPYM2aNVJcXOxxRu3atZOmTZt6fHwkH8j+IpKvPttOAiRAAiRAAiRAAiRAAiRAAoEjQLE4cOwDXvK7774rS5culfnz5xvBp3HjxjJy5EhJSEgwdduzZ48sW7ZMWrduLQ8++KBccsklPqszgn09++yzAgE7IyND/vOf/4SdWPz222/L77//bniXlJQI/MiCd1JSkhHt169fL1u3bpUjjjhCHn/8cbPP28D//PNPOeuss6R///7yzjvveDV75I16L1iwQOCPl2KxV/EGZWZTp06VVatWmQ8GfNB34N7CPY2UnZ0tGETYv3+/+Y5+5P777zfr/K96AsHQX6CGd999t+BvxcsvvyzHHHNM9ZWuxV72F7WAxUNJgARIgARIgARIgARIgARIwJ8E9AWfKcIJnH/++Ta952wq7lUhoS/0NrUGNPsfeuihKvu9vWH69OmmLBWLvZ211/L74IMPbB9++GGd81Ox1rTxxhtvrJLHvHnzbC1atLCp2Gr77LPPquyv74YXX3zRlI38Dxw4UN/sXJ7fu3dvU3+XO328cePGjbZZs2bZ5syZ4+OSmL0jgTFjxpj76sorr3TcbF///PPPbc2aNbO5228/MExXLrroojq3LJD9BSrdpk0bc20nTJhQ5zZUd2Ig+4vq6sV9JEACJEACJEACJEACJEACJBCpBOiz2J/KfJCWpeKkqZllDehYTbhFuPbaa82m++67T/bu3eu42+vr7du393qe3s7w119/lb/++qvO2bZs2dKc64o3rIphyQdLaxWYpKCgoM7luDrxvPPOMxa///vf/4xls6tj6rutQ4cO9c2C54cYgbZt25oau3OhMnbsWPnnP/8pW7ZsCbGW1b+6OTk58u2339Y5o0D2F6i0DjDJzTffbD51bkQ1J7K/qAYOd5EACZAACZAACZAACZAACZBAAAhQLA4A9FAr8swzzzRV1hEVgR/NSE6lpaXGt7IvGRx++OEme0zh9zZvuBp57LHH5P/+7/982QTmTQJVCGDwY9u2bVW2h/uGL774QtB3+ir5sr9AnSH0/+tf/xKKur66gsyXBEiABEiABEiABEiABEiABIKLAMXi4LoeQVkbR4Gne/fuLuuIwG1FRUUu97naqC4QXG2u8zZY4BYWFlZ7vqd1RDusvGDha1n3QvB56qmnjH/Waguq506UaSVXAfHg79iqk3Wct5e5ubnezpL5RSABdQliH/CAj274sq4snHrzXsvLyzNW+TWh9kd/gTrA7/tdd91VU3XqtT8Y+gv0mbUJdFivBvNkEiABEiABEiABEiABEiABEiABnxKgWOxTvKGfOURdS+yAO4qePXs6NQqBjy688EI544wzTCC84cOHmwBuTgcd+oLAdZdeeqmxUDv++ONF/ZyK+u2VXbt2uTrcvu3iiy8WWDePGzfOlDN37lz7PvUfLAMHDpTDDjtMjjvuOHPcm2++ad+PFU/riKni/fr1k1GjRpkgcKgj3EI8/fTTxiIS++644w6T94wZM+Tkk082n5kzZzqVV98vs2fPNlnAPYhjQKmVK1fKsccea9p75JFHSufOnc0UcRwMi+ejjz5a+vTpI5i2/uOPP8q///1vcwyC6K1evVp++eUXEzQPgj+CFlYW7SBs4VriGp922mnSq1cvueyyyyQ9Pd1lk1Dmk08+KaNHjxa4KznqqKNEfU5XydflydwYEQTwm3IcbFq7dq1ERUUZEbWme+2VV16RoUOHmnv4lFNOMYM0l19+uTRq1EjgEsdKuA8nT54suK9x36qPdWMNu3PnTusQ+9Jf/QUKnDZtmnTs2NG43sBvyOovUEdvDvb4qr9AG66++moZMGCAwM2I+qzHJqf0+uuvm0Ck6DPRVw4ZMkTA2FVif+GKCrcFEwG4Z0L/5PjBIBdcT2FffHy8fd+nn34aTFVnXUiABEiABEiABEiABEjAuwRUMGKKcALqj9IEMFLxxoZAVPgggJuKHSa4kfoRtqkoaFMLNidSKkia83744QezPSsry6aijglu9v333zsdu337dhvyUQHStmnTJrPv4MGDJuiVCp/2Y/UFzOTpGODuggsuMNtUtLA999xzNhU1zfEqEJntDz/8sP38Z555xmyzyve0jmpJbFMB1fbll1/a81K/xLa0tDTb1KlTbSru2BYsWGB74IEHTP633Xab+Y5tmzdvtp/jycr1119v8rj99turHP7RRx/ZVAyzpaSk2FQUt+9XQcimPo5tKpzb1ILPbH/11VdNPipcm2uDY1S0N9tOPfVUE7DwwQcfNN//8Y9/2Pbv329T4dymrijMNhVv7PmvWbPGpiKzOR8skNDmk046yaZCkf2aWSfg2qkIbYLxLV682GxWK2jbJZdcYvJGAL1AJAa4CwR1m00Hgcx11wElmw4K2VSotan7BfP7fv/9950q5em9pv6NbTgX91Lfvn3N/YaAmyrY2FTMsakAa+579Dn4bSxdutSUo5bKNh08sqlQa8M9aSV/9hcoU4Vx00fg94PfNPoK66OzA6xq1bgMVH+Bis2fP9+mLmvMtb3//vud6oo+JTk52YY+1kpff/21LSEhwaZ+161NZhms/YVTJfkl4gngGWfEiBHmftcnbbPE31UrIegstlfu06z9XJIACUQOAfwdx/OI1VdYy3PPPddA6NKli33f4MGDIwcMW0oCJEACJBA2BGAFyBThBCyxWC19bepmwf7RgFQ2tWS1qaWeDcKm+tB1IjVx4kTzIHT++efbt0NoxgMTxErHdNZZZ5ntlrCMfRAicGxqaqr90MpiMQTb3jLC190AAEAASURBVL17G8HWUWCBMBQTE2NTa1b7uVg54YQTTJ4Qt5E8rSNe/lAXtXI251n/3XDDDaZs6/vbb79tjlOrXWtTrZeW+ANxVq2BzUctKG1qwWRTv6A2CG4Q26wE0VYtd20aPMwGQd4xDRo0yAi2lvBrtQNtgagMIRvC9qpVq+ynqYWjaYN1Dl6Q1TLQCFooyzFlZmYa8UetrB0326655hqTx3fffee0HXlCdKdY7IQl7L9YYjFE0a5du5pBJvw+cR86Cit1udcg/CIfa1BIA67ZnnjiCcP05ZdfNvsqC5kff/yx2W79TgPVX6CSaqlva9q0aZ3vgUD3F2pVWYUxRGHHa+LYOJ19YcR8x8GuYO0vHOvNdRIAAesZBPc3PuPHj7eDeeSRR2z9+/e3f+cKCZBAZBPAoLjVV2CpM+2cgOhsGxue0y0jDKed/EICJBDWBCzjLMc+goNJYX3Jw7JxFIvD8rLWrlGWWAyrWVdJpx+bh6Fu3boZq0HrGFgIwurs559/tjbZ1HelLS4uzgbx00qwKkZH2aZNG2uTWUL8hTj9ySef2LdbL2qwLF6xYoURTx3FJuvAq666yuQJ4cgx/fbbbzaI3Pv27TObPa3jnDlzTH6wRsQLobpsMA93sIJGnlbyplgMK1yIsdbH0QrSKg9Lncpv6uZogW3tv+WWW8w+y1rb4qcuOaxDqixPP/10c44lFs+bN8981+nxVY7FBnWFYfb//vvvZj8su3E9IQpXtjbHAeqKhGKxIRU5/1liMaxNrbR7926buoZwEotre68hL1jk4H5z7GesMjDIgX3WTAJrO35T2K5uVMymQPUXKNxbYnGg+gv0f2DpKMhj8AjbLGtuizuWP/30k9mHWQ5IwdxfmAryPxJwIIC/aRicxf2NT7NmzexCj7qiMrOsHA7nKgmQQIQTgCBs9Rd4/9m7d68hAuMLDKBjxiATCZBA5BGwDCus/oGDSZF3D4RDi2P1BmYigWoJqJgsKsDKhg0b5M4777T7yVWLX3nhhRdExVzjq1ZdABh/fgh0pD8Oe57wtYukVrP2bVhRy0O59dZbnbZZX+DrFPsQsEofvqzN9qWVp7q2sG/Dio7gm4+10dM6wt8v/HP+97//tfto1hFB46NYLXOt7Ly61OnagjJqSvA3jKTuHuRvf/ub0+E7duwQtVoUtTh22g7/wZ6m5cuXm0ObN2/u8pRWrVqZ7TgO/qGXLVtmvnfq1Mlcb5cncWPEE4DvbPjndUy1vdesc/FbGTZsmPXVvrR+G/CrrqKOfTtWmjRpYg+6yf6iHI03+gvkVN11dOwvcCz7C1BgChUC8Ff897//XXQg1lRZ3TeJDmgbX/7wuY4YCkwkQAIkYBHAu4oO5pqveP+BL3+8N6jVscTGxorOtLQO5ZIESCCCCKgrRxPLQw0rTKsRO0iN2QTv2zrbwOgqiM+CeAhMJBCsBBjgLlivTBDVS91EiLp3MDVC4DQrQYBBACq8VOlomQlst3DhQklMTLQOMUsIvrVNasVqXtAg+EDEVStFpyysPPFiV13ytI7I46WXXhK1XjRiMQL1QYC955577OKxu3LUj6q7XV7dru4+5KuvvnL6oH14mYVI7pgQwM7TpP5EzaGOAr/juRZj6zhrCbGfiQSqI4B7FgMMVrLuHU/vNes89R0uEIzdpffee8/pd4HfCQJq6kwAc0ow9RdgULk/c9eu+mz3VX+Ba5eTk+O2auwv3KLhjhAhgECa6o/bXlsEt4MAhCCVGATzZpo1a5b5+42/p3h2uvLKK81LpDfLYF4kQAK+I3Deeec59QvoL5DeeOMNueiii1wavPiuNsyZBEggmAg4GsVZg0moHweTgukqsS7VEaBYXB0d7rMTwOg4kuPo13XXXSfqC1c0GJ6oX037A5FO47Sfp9OvRINTme+wPHaVMLrmeA6OUf+kolOdRd1RGDFU3V04WSvXlKe6dDBFeVrHmTNnypQpU0RdPZiyIXrDIk6nkAv2VZfwMOjLpD5bTfbqx9hlMRBuKvNzeaCbjeqD0eyB6Owq6ZQ6s9k6zmIPMY6JBKojgEEXdV9jP8S6hzy91+wnulmp6bdhidPWPeuuD/Jnf/HBBx8I+kVfpZqY1Le/gBhs8YSFROXE/qIyEX4PNQI6ddyIPFa91Te/qP9zgYjsLml8BXe7qt2u8RxMvvgbrr69Rf2wVzsw5piZupISdfPiuInrJEACfiaA9yIYtVhJ3d+JBss2YlB1fYZ1fLgut27dKuoiL1ybx3aRgEcEwnkwCe8TmJH93HPPecTC3UHqskc0ALi73dweYAIUiwN8AUKheLifgKUeEjo9JExnxg8bbiDUp63Zhv8gaKrfYruwCwFW/ZYayxkIC5U7A7zsQKC1ponbMzq0gvIw7fObb76Rf/3rX/bd48aNM+uYHlo5aXArc05t6og6T58+XdBhWWnAgAHmAdBRzNYgdGa39YKG4zFS6Mt0xBFHSOfOnUUDRkl6enqVok455RTB9Ni6JvBXf9Imf3BwTLm5ueaaweUEhD8k9ecoYPPHH3/Itm3bHA8363V9aa6SETeEHYHa3ms1AbCmfsI6r3LSYJr2F7hA9ReoE/qMAwcO2PsWvEBhxoSvkq/7C9Tb4qm+oqs0w9oGy2Yk9hdVEHFDCBDQ4Lb2WkLIhaVxZbc61gF4DsHAdF2TBpE0p6rvd4+zgIU/BCpYJzGRAAkEloAGphYN7GyvhAaxMu8+6s/Yvs1bK/fee695hsBsBI2zYgayvJW3N/LBuxf6T/ztx3sLEwlEMgF/Dyb5q3+A7oB3OuggcEe6bt26Wl9m6CvQXjQwukydOrXW5/MEPxHQB06mCCaAIHNjxowxwRn0ZceJhHYANrWosalQafbjOP1hm2Owr0WLFiaQmRVcDcHt9OXFpj4rTTA7teqzISgeEoIk6RRLm05JNwGPzEb9D8Hk1F+w9dX2xBNPmLIQpM5K6qvXbFPrZptO67KhzkgqWJjtCIZnJbVYtKmAbQJe1aaOCJSnPzmbdlb2/JHn2LFjbY6B31QItallnWGG/eBTmRu2u0uou/oTNmUdfvjhNhWa3R3qtF3df5jAger/yIZ2WenJJ5+06dRY66udH4IWukoIaqeWh6b89evX2w9RKwibPniagIX6Ymy2o65nnnmmKRdBqxzTkiVLbOoWwPDBdbfShAkTTN5giWP8ndRy1KbCoQ0BC5n8QwD3sBXgRQcubOryodqCa3Ov4V5Xn9w2/PYRMK9ywr2qLnLMvYhAElbSQQxzn8+fP9/aFJD+AoWjf8DvQV+aTEBI/P7Rj3iSAt1foI7vvPOOqT8C7FkJ9dKHRBsiPTsGAEUAQ/TzJ554olPwy2DtL6z2cEkCrgggWCt+u/io+FHlEB0Est133302fRk0wTQRlLe2CX+T0cfhg3VXCQE68WxiJQTu1fgFpl465d3pmcA6hksSIAH/EsC7gtVfYPnYY4+5rQCCcFvvU24PqmaHFdwXzxW1SWrQU5vD63Qs+qRJkyYZFq+88kqd8uBJJBBOBNRIxOglVv+QlJRk3lHctTFQ/YOn5aqxmE39LpsA5ngPw3tNTe9+rtqK4ORq4Gd0Brw/MgUnAViAMkUoAbzs4yXH6rywTElJsanVm/lAoFFfoTY8lKg/3yovMmrRYoRkHK9WZDZ12WB79NFHjVCLTgSd4auvvmqnq9bDRlRCdHEddbeptaoN4idEIAhOKAvnqI9kIzjg5QmdDwRLCJPYjv0QppAgWEyePNlsU2s6I1BAwHZ8OPG0jhCL+/TpY1PXF7Z27drZ1MLHtA2RS3WU3N4GrDz11FOGm06pNy94ahXktN/dF3SmEFfU0tBESMYS3yGge5LUQb5NLXpN/dT1hQ1iM7hDlHfkh3zBCtcF18NKENpxffFp0KCB4eYoyqvVt02nl9vUEtx2zjnnGMF/8ODBTmKQlReW6qbD1AfcMEgwYsQIm7ojsan/ZHNPQVSHoO/PRLHYn7Rt5rdY+Z7GvYffbnURwD2519QVjU2t+cy9iojiuK/VF3eVFywMVtx9991mP36vF154oemLPv/8cycYgeov0L/hd4XfHZZnn322U73cfQl0f4F6ob+x+mQs0UdbD4TqusOGwSH0MxCHMeiHawTxzHEAyWpfMPYXVt24JAFXBPAsYT0fufo7j234PeMY3Pc6A8pVNtVuU5dX5nz0W64Sfmfo/zDIa6XXXnvNppY4Ng0abAaIdQaQtYtLEiCBABHAQLjVX8D4wt2gMLar1a0tMzOzTjXFIDqejTp27Fir8yHKaLC9Wp1T14MhYoOF4/tYXfPieSQQDgQ8HUwKVP/gabk6s9r0PXjvglB8++2325555pl6XSKNBWGjWFwvhD49mWKxT/GGf+YQKWGhihceR4EALzjuXmAwcgWxCEtvJIhAEKLVf7JLS11P6qh+Nm0a0M5UZ/v27TaNWGqrbgQeFsw4Rt1CeKMJtcoDdcVLanZ2dq3O8/Rg5I/r42nb8IcD9VHfRaYIDfhnroU1COBpud44jmKxNyj6L4/a3mvV1Qy/c1j24f6rLgWiv8ADFeqGjzvrwerqXJ99vu4vLO6rV692mpXhrs7B1F+4qyO3kwAIYGAEgyG9evVyCwSzeDCbqq5JXXUZUcVxYL1yXlu2bKnyvIQyb7rppsqH8jsJkECACOBvuzUT03HGn2N1NBivEVpgLIOZiXVJOA9CrLq+cHk63slQvgbsNvtrMwMCM4VgEIPBfhiY1DVZYnF1/Vpd8+Z5JBCKBDwZTApE/wCWnpSLdye8y8A4BMZymPGMGef1FYpRPsViUAjeVB61TP/qMJFAXQgg8J1jACsrD0T1dpfUsljw8VaC3y4r4JKrPD2po1pC209Vy2LBp7qklpOilr3VHeKzfairY329XVBt81drbsHHSvBTxkQCnhCo7b1WXZ74nffr16+6Q8y+QPQXCArnSd1qrHwdDvAmY1fFe8rdOpf9hUWCy2AnoNb0ota7ola/bqsKH93HHXec2a8WfyaOg9uDD+2Ajz7L7zfiMSDpLKtDe6su1ILQaaMOzIgOxpogwE47+IUESCBgBOCzGL7L77rrLkFQ7spJDVIEMWAQtwD+z+HzE4G8a5vU5ZY5RQVhl6ciwB6OGTlypPEpinKwTQ16TH+2a9cul88j8H+OgN0qahk/omqQYuK/uCyEG0mABGpFAH/jEX9o8+bNou7zRGdKOp0fqP7Bk3IRLBzxo7DUgSBRcVcQrFtnZRt/w04N4ZewI0CxOOwuKRtEAiRAAiRAAiRAAiRQGwJ4ibMil3/44YcmYAtElssvv9xlNjpt0wg+d9xxh9kfFxcnTz/9tMtjHTeqyybzFS9pOivLBIxVS2HHQ8w6hCVXg/EI3olBL8fgwlVO5gYSIAG/E1B3fKKuueSMM86oUja2IyAU0sSJE0VdTVU5xpMNGGDCIK01SFX5HAjRy5cvF3URZ3ahv2nbtq2gj1HXc5UPt39Hv4KEge0HH3xQZsyYYd/HFRIggfoRqGkwKVD9gyflqos5E0izd+/ecsUVV8jLL79cPxg8O6QIUCwOqcvFypIACZAACZAACZAACXibwOzZs0VjA5hsEd37rbfekgsuuMCILK7KssQVWAeq2y1Rv+SigSBdHepyG6ySdeq6uLIQhGWgTiOXhx56qMq5OG/YsGGisRxEp4UKXkKZSIAE/E/gxhtvFPQbkydPFo0hIupP3PQB7mZXos9APwGrX6R3331X1J1MtRXHwJAG7RWNMSPqHk/U5Z4RmiHguEqYyaTTxJ12Oc6AcNrh8AUDZRjs0mCe8uabb4q6o5C6zJZwyJKrJEACDgSqG0zCYYHqHyqX61Bl+6q6zDLPHI888oh9W+UVzExQNzmVNzt9VzcWpn9x2sgvQU2AYnFQXx5WjgRIgARIgARIgARIwNcENDinvYjLLrtMIMbAsthdgkikAWFFg2mapTtLP3fnw3oZSYPV2Q9Rr3VmGjjK//bbbxFXxFg74xgNWGvE5Tlz5ogGk5VbbrlFHn/8cVNPewZcIQES8AsBDNQ8//zzpiwIKZia/dlnn1XbZ0C01WCwglkISLD69WQ2AgRjJMttjasBJg2YZwaP4CbPMVWeAeG4z3EdrvU0AJ4ZJINlNFzl1Ha2hGN+XCeBSCcwfvx485v1dDApEP0DrlHlcitfN43lZATeadOm2d1OaiwFUd/rTodec801ooHqnLZV/gLXXkyhRYBicWhdL9aWBEiABEiABEiABEjAywROP/10ueeee2TRokUyevRoM90S07fdpR07dgheojQQntsp4e7O1Ujixucf9v/jH/8wVnzJyckCf6L44CVsyJAhxrLvp59+Eg3easRiCEIoT4NPGVHZnXWhu3K5nQRIwDsEYMELERezA+AX+Nhjj5XbbrvNDBy5KkGDQJu+BZZ51kwE/M7x8TRZYrErH+e333676Usqi8WuZkBULu/111+XSy+9VF566SWB9eMrr7xixGK0rzazJSrny+8kEMkE8HvC32tPBpMC1T+4KrfyNcOAOJ41MJMC6f777zczJOCf3TGhD2QKPwKcuxZ+15QtIgESIAESIAESIAESqAUBuHWA2wdMo7zvvvuMn8/qToerCIg+EIhqmx5++GEpLi42lsP5+flGbIILDFgBwpoY/pORMJ19z5498ttvv5nvCA6Ml09MRx8wYIDZxv9IgAT8TwBiMUQUBMA899xzBQHiHnvsMbcVgVsZ/OYRQBsWerVN6GsssdhxNgLEngceeEAw42DgwIHGshlWwtZ0cMcZEL/++qspFuIVXFUsXrzY9DewgET+8GuMgOH1DVSNAS8k5MlEApFKwJoRYA0mYWAYs5FcpUD1D67KdewfUFf4QIfFMIL+YrArIyPDBPJ01Y7absPzDALnsa+oLTn/HU/LYv+xZkkkQAIkQAIkQAIkQAJhQMBfvoKtF04LmTWF3frOJQmQQGAIwB2EK5cQrmqDmQhI//vf/+TTTz91dYjbbRhEgmuaAwcOmGMgFrdv394IvZs2bRIIxhMmTDD7tm7dKhCFlyxZIieccIK4mgGBmQorV640lsQQr3H+2LFjBSIzLKVvvvlmt3Wpacczzzwjzz77rDkMbnKQtxUEtKZzuZ8EwokAXE3BSh+DRAgM52pGgNXeQPYPqINjv+TYPyA+AlznTJo0yfR1Y8aMkenTp1vVrtdy7ty5xt87BsznzZtnLJfRd/AZp15YvX5ylFow2LyeKzMkARIggQAQwEPzihUrJC0tzfxxC0AVWCQJkAAJkAAJkAAJkAAJ2AmUlJSYGQEdO3a0b/PVCgLiWb5BYQWIhOdiK6EuEGUaN24sCEoFERpucLKysuznWcdySQIk4HsCgeofXJXr2D9cddVVpvFwuYWZTbAuZoosArQsjqzrzdaSAAmQAAmQAAmQAAmQAAmQAAn4iUBsbKz4QyhGcyyhGOuOIjG+I+3fv9+4m0BQTtTLEoDoA72cD/8nAX8T8Ff/AHcPCOYL9w8YIHJV7sKFC42lL3yZWwkzGZgikwDF4si87mw1CZAACZAACZAACZAACZAACZBABBGAb2J8mEiABCKLwLp16wSuajp37uw27gF8n3/00UcCv+xMJECxmPcACZAACZAACZAACZAACZAACZAACZAACZAACUQogZSUlAhtOZvtikC0q43cRgIkQAIkQAIkQAIkQAIkQAIkQAIkQAIkQAIkQAIkEFkEKBZH1vVma0mABEiABEiABEiABEiABEiABEiABEiABEiABEjAJQG6oXCJhRtJgARIgARIgARIgARIgARIgARIIHgJ5OfnS3FxscTHx0tiYmLwVpQ1IwESIAESCCkCtCwOqcvFypIACZAACZAACZAACZAACZAACZCAyMqVK+XHH3+UjRs3EgcJkAAJkAAJeI0ALYu9hpIZkQAJBAuBwsJC2bFjR7BUh/UgARIgARKIcAItWrQwln8RjoHNJwESIAESIAESIAESCAECFItD4CKxiiRAArUjkJubK0uWLKndSTyaBEiABEiABHxEYPTo0RSLfcSW2ZIACZAACZAACZAACXiXAMVi7/JkbiRAAgEkEBcXJykpKQGsAYsmARIgARIggQoCGLxkIgESIAESIAESIAESIIFQIkCxOJSuFutKAiRQLYH27dsLPkwkQAIkQAIkEAwEPv7442CoButAAiRAAiRAAiRAAiRAAh4TYIA7j1HxQBIgARIgARIgARIgARIgARIgARIgARIgARIgARIIXwIUi8P32rJlJEACJEACJEACJEACJEACJEACJEACJEACJEACJOAxAYrFHqPigSRAAiRAAiRAAiRAAiRAAiRAAiRAAiRAAiRAAiQQvgQoFofvtWXLSIAESIAESIAESIAESIAESIAESIAESIAESIAESMBjAhSLPUbFA0mABEiABEiABEiABEiABEiABEiABEiABEiABEggfAlQLA7fa8uWkQAJkAAJkAAJkAAJkAAJkAAJkAAJkAAJkAAJkIDHBCgWe4yKB5IACZAACZAACZAACZAACZAACZAACZAACZAACZBA+BKgWBy+15YtIwESIAESIAESIAESIAESIAESIAESIAESIAESIAGPCVAs9hgVDyQBEiABEiABEiABEiABEiABEiABEiABEiABEiCB8CVAsTh8ry1bRgIkQAIkQAIkQAIkQAIkQAIkQAIkQAIkQAIkQAIeE6BY7DEqHkgCJEACJEACJEACJEACJEACJEACJEACJEACJEAC4UuAYnH4Xlu2jARIgARIgARIgARIgARIgARIgARIgARIgARIgAQ8JkCx2GNUPJAESIAESIAESIAESIAESIAESIAESIAESIAESIAEwpcAxeLwvbZsGQmQAAmQAAmQAAmQAAmQAAmQAAmQAAmQAAmQAAl4TCDW4yN5IAmQAAmQAAmQAAmQQK0J2Gw2yc/Pl+LiYikpKRF8j4qKqnU+PCH0COTl5ZlrnZmZKWVlZaHXgDCrcXR0tMTHx0tycjJ/g2F2bdkcEiABEiABEiAB7xGgWOw9lsyJBEiABEiABEiABJwIQCA+cOCAEYgdd0AwZgp/AtZ1hlBMsTjw1xvXAAM2GLxp1KiRxMXFBb5SQVADc5/aSk1NbGXsm4LgknhcBVtpqdj0vraVlkhZSbHH5/HAwBGIitbBYv2ZRUXH6H8cOA7clWDJJEAC1RGgWFwdHe4jARIgARIgARIggToSKNWX+IMHD1YRiuuYHU8jARLwEgGIo1lZWdK4ceOIFoxttjIpLcyVsuJCalZeurf8nU1pcZ6KxAVSVpQrpQUH/F08y6sHAcw1iYmNl5j4lHLhuB558VQSIAES8DYBisXeJsr8SIAESIAESIAESEAJ5OTkOFmTQqCKjY0VTIVnigwCMTFqOaYJFqy0Yg3sNcfvD1bFjgluQmBhHJGprFRK8rK06XCLE5EE2GgSCCgBPAnYSoq0XyqW2KRUiYqJD2h9WDgJkAAJOBKgWOxIg+skQAIkQAIkQAIk4AUCmO5eVFRkzwkCMUQpiMVMkUMgMTHRNLZhw4bGijVyWh6cLYW1P9zCYImE3ygE5Ej8XRblH5QozIVnIgESCDABm5TmZ0tsShrdUgT4SrB4EiCBCgJ8Y6lgwTUSIAESIAESIAES8AqByhaMEA0rC1IQlOEfFHINpoNHR9Hi2CvwgygTXOMo/VdaUmo+QVS1sK5KGX5Phyz4sbQCSsLSOykpyVj9WwAgHFf+bVr7wnVZVqJuJw75KEYbbdr3xMTqwIb6UsU/ptAhEBOXKNHqyiA6LkliEhqETsUjuKbmr77OdChV9yFR+jcCCdtKivMlNj45gsmw6SRAAsFEgGJxMF0N1oUESIAESIAESCAsCJiAUQ4tsdwRWJsKCwulsKCI078tIGG6RIBDiG8IqJaQkBCmrQzuZmEQJiExQWLjyl97LBHZqjUE/UhLlQOhxSakquDIYH+heB9ExcSpv9tYiTKCcflMhlBsRyTWOSo2QUrzMiuarkEKmUiABEggWAjQhCVYrgTrQQIkQAIkQAIkELYELMtGNBBT34sKKRSH7cVmw4KKAKyMCwo0ANghUbiyWBxUlfVbZRzdT0RRKPYbdxZEAhUEoqNjjFW/tcXmYO1vbeOSBEiABAJFgJbFgSLPckmABEiABEiABMKWQGXLYseGFhcVO37lOgmQgI8J4PeI3x0sjCv/Nh0HcnxcjaDJ3omBsqmcsN+mVo5wj6P/qR/Vykfwe7AQKCstVndGJVKmgdJKiwuCpVqsxyECVv8SFaPW31HlAU+d4VT8uKKq/hSdD+U3EiABEvAjAYrFfoTNokiABEiABEiABCKbAKwbLQvHyCbB1pOAfwnwd1fBO0r1KbsuhS8OCQJxSf4BkbLyIIAOu7gahATKVCCGUGxTf7dlhTlBWENWySIQpf6lYyv5lTZi8qEfY+Q5xLHIcEkCJBCMBOiGIhivCutEAiRAAiRAAiRAAiRAAiTgNQIIJslUM4GSgmwKxTVj4hEkUGsCNhX2S4sLa30eTyABEiCBQBCgWBwI6iyTBEiABEiABEiABEiABEjAfwScDWj9V24IlWSDX2d1a8BEAiTgGwK2EorFviHLXEmABLxNgGKxt4kyPxIgARIgARIgARIgARIggaAi4MI1b1DVLxgqE1XhnCIYqsM6kEDYETB+wMOuVWwQCZBAOBKgWByOV5VtIgESIAESIAESIAESIAESIIFaENCwdrU4moeSAAnUloBTcMnanszjSYAESMCPBCgW+xE2iyIBEiABEiABEiABEiABEiCBYCRAsTgYrwrrFF4EOCATXteTrSGB8CVAsTh8ry1bRgIkQAIkQAIkQAIkQAIkQAIkQAIkQAIkQAIkQAIeE6BY7DEqHkgCJEACJEACJEACJEACJEACJEACJEACJEACJEAC4UuAYnH4Xlu2jARIgARIgARIgARIgARIgARIgARIgARIgARIgAQ8JkCx2GNUPJAESIAESIAESIAESIAESIAESIAESIAESIAESIAEwpcAxeLwvbZsGQmQAAmQAAmQAAmQAAmQAAmQAAmQAAmQAAmQAAl4TCDW4yN5oOTl5UlJSYlERUV5lQbys9kYGdWrUD3IjNw9gOTlQ8jcy0A9zI7cPQTl5cPI3ctAPcjOkXl8fLwkJCR4cBYPIQESIAESIAESIAES8BYBaBvQTcrKyryVJfOpJ4Hi4mIpLS0VLAsLC+uZG0/3JQG8z+ATExMj0dGBs+/1mVi89c13ZPPbH0hJfoGdIxrsMrna7mKbi03l2R3aoUgltVsX6Tvpbkls3sxlUXXduHLlSnnhhRekTZs2Xu/0cnJyJCUlxesidF3bGu7n4T4sKioyf8CSk5Mp1PvpgoN7bm6uEW9iY2PJ3U/c8bAG7g0aNPBTiSwG9zoewvCAnJSUxHvdT7eE1cckJiYa9rgGDz30kHnQ8lMVWAwJkAAJkAAJkAAJRCwBPPtmZ2cL9A0KxcF1Gxw4cMC8E2K5d+/e4Koca+OWAPSqxo0bB+R9xidicf7uPfL7Aw+LBMBY9sC6TZLQNE36TbnXLfC67Ni3b5/069dPLr/8cq+++EPIWbt2rfTo0UMgoDH5h0BWVpbg06lTJ/8UyFIMgQ0bNkjLli0lNTWVRPxEAKP669atk969e3NAyk/MUQz+ZkCsbNeunR9LZVF//PGHvV9/+OGHzaAgRuWZSIAESIAESCAcCWzYuFn27N0nB1Wg27lrj9OznidiXXWzW6191hKDsvZ0aNXaZ9/usGKV73Teof3Weday4piKMqx9DlnaV628rQ3W+Y7nYL2Z6gKjRgy1DuPShwRwTfD8C6MsJhIgAe8QgHeDgoICo6H4Wy/0iTpZgJGKAAjF1uXI3bnLWvXqElNaYSXm7QSrYnz4Quttsu7zwx8x/OgwUsPkPwL4/eBD7v5jjulGVh/jv1JZEpgj8V73770A3mCPl8a4uDj/Fs7SSIAESIAESMDPBAoPzZYsKiySvPx8P5cePMU5isSOtXK33fEYrnuHQGZmJoVi76BkLiTgRMAaiGndurXTdl9/8YlYHBVAodjXwLydP/6AWR9v58383BOwRp/dH8E9JBAeBKz+BUve9/67puTtP9aVSwJ7JhIgARIgARKIBALt27XRwdFY6di+nXTp3MlpBmzl577K313xcXWMtc36+2p9dzy/um2enGc/xjHTQ+uV83b8bj/P0epZz9ux8y/Zsm27i9y4yRcE4Ac3v9JgBQbwMXDveL18UTbz9IwAjCngqg1LuDVgCl4C6NcgEMOdi9XHYbYwrIz9aYjkE7E4eLGzZiRQTsD60ZEHCZAACZAACZAACZAACZAACYQigYbq2i03N0+aNmksbVq1CMUm+KTO6WrlyuQ/AnC95vh+DTGSbgf9x9+TkjC715opz2vjCbHAHwNxH65drITfmT/F4sCF1rNa7IMlR698AJVZkgAJBJzAV199JdOnTzcuVAJeGVaABEiABEiABEiABEiABEgg4glU9iGdkJAQ8UwIgATqSwBisaO2CfeS/ky+sSzmFFB/XkOWRQIkEAEEVq1aJWPHjjWj9ohgO2XKlAhoNZtIAiRAAiRAAiRAAiRAAiQQSgQcBa5QqjfrSgIkUEEgLC2LK5rHNRIgARIIDwIYoY+OLu+yfRFoMzwosRUkQAIkEFgC6enpVfw2OtYIPuf27NnjuInrJEACJEACJBDSBBxdUIR0Q1h5EggyAoH8bfnGsjjIALM6JEACJBDqBLp37y4LFiyQLVu2yNlnnx3qzWH9SYAESCAsCWAwb+7Pc6VdWw021aWLvY2YOrhx40bZvHmz9O7d276dKyRAAiRAAiQQCQQgehUVFgkGTQMpgEUCa1dtLMgvkKKiIsEyJzvH1SHc5mcCNtEA9BJtgpTGxcfZDcMcqwFjscpuXhz3+3KdYrEv6TJvEiABEvAigWHDhgk+TCRAAiRAAsFJAIFHWrdqLdu2bZPtO7bbK7n0t6VSWlIqySnJ0qZNG/t2rpAACZAACZBAuBOAOJx9MFuKi0vCvalB2z6wx3NIcXGxFKpozxQ8BBC4LiYmWho2auhSMA5UTcPTDUVUoHCyXBIgARIgARIgARIggUgm0K1bN7UV0X9lsBgpfyjFCxpSt67dnIKVRDIntp0ESIAESCAyCMCimEJxZFxrtrJuBEpLyyQvJ69uJ/vorPAUi30Ei9mSAAmQAAmQAAmQAAmQQHUEYF0MNxSVE62KKxPhdxIgARIggUggAPcHTCRAAtUTCLbfiU/EYvqgqf4m4F4SIAESIAESIAESIIHwJWBZFzu2kFbFjjS4TgIkQAIkECkEMNOGiQRIoHoC+JUEk5bqE7G4egTBtRc+WxBsZNOmTcZ/S3DVjrUhARIgARIgARIgARIINQKVrYtpVRxqV5D1JYHgJJCbny/rN20RBM10lYqKiuXPDZtMEDFX+7mNBAJCgG5CA4KdhZJAfQhEdIC7NWvWyK233mr+2Obl5Unz5s3l3//+t3To0KE+THkuCZAACfiEwJQpU2TDhg3y6KOPMkCSTwgz00glUKaRuaNjI/qRKFIvvU/bDeviHTt3GL/FtCr2KWpmXksC2Vs2SFyjxpKQ2rCWZ/LwQBNISUqSjIxM2bR5i3Tp3MlenRL1d/nHn+tl09Zt0r5tW4nl3zQ7G674lkCZB1bD8OPPRAIkUDMBjQWpsS1qPs4fR4SnZbGHdFNTU2XChAny7rvvynvvvSeNGzeWu+++2x/cWQYJkAAJ1IrAggULZPLkyfLGG2/IY489VqtzeTAJkED1BCgUV8+He+tGwLIuplVx3fjxLN8RSGzaQjJWLZOi7GzfFcKcfUagZ/duUqgBw9b+sU5279lrytm6fYes27hZjaDKpFu3zj4rmxmTgCOBjIM5Mmf5WsnOL3DczHUSIIEwIBCeYrGHF6Zdu3YyZswYadq0qbTVEdihQ4fK9u3bXfoJiY+Pl+ho7+OKUmEbn5iYGA9rzcO8QQDMfXE9vVG3cM4DzHmv1+0Kd+3aVZo1a2b6i+HDh3ucCXhb/YzHJ/HAehPAvc4+pt4Ya52B1cdY931tM9jy9nsy77zLZOdnX0qZuqliIoH6EoB1cc8ePU0/XN+8eD4JeItAnFoUtxx+hMSr4QxT6BFo3ChVWrZobipu+bcsKysz3zt1aC9JCQmh1yjWOOQI5OYXypJ1myW3sFDW7dgTcvVnhUmABKon4Js5l7CdDoHkKNLCDcVrr70mV111ldMD/cqVK2X+/Plm6nfLli2NmGz9MfZGE/EHPisry/hNpojmDaKe5YHrjQ/uASb/EUhPTze+wZN0Ch1T7QnMnj1bDh48aAa3tm7d6lEG8GmHPmbLli283z0i5p2DstVaq0RdG7jzKeidUphLZQIZGRlGpAf3uvTxiU3TpDg3VxbfcrcM/1eUtDn1b5WL4HcSqBUBWBfjw0QCwUYgmoYqwXZJalUfWBfv2bvP6Ry819Cq2AkJv/iIQFFxiSz+Y6MU6bNushrV9evYSgr03ZqJBEggfAj4RiwOMT65+mJ49dVXS58+feTSSy91qj2sjvv3728PEgDXFd4Wi/Fyi3wpFjuh9+kXPExBTGjYsKFLS3KfFh6hmYM5RMuUlBTziVAM9Wo2+ok2bdrUKg9LLMa9zuQ/Avg7UVBQYPp2/5Ua2SWhj8nMzJQGDRqYfh3+Gi2LK0/JtDrxeMEnY8lv0nhAP3Namf6tWPnAP6WtCsfNDh/haVY8jgRIgASCisDBbRulQZuO9M8eVFel7pWxrIsdBWNaFdedJ8+sHYECnX1VXFYqcTroNLx3VyktKhQ6oqgdQ18fDaMVpOr8lxfrdcTzc3XH+LqezD94CUS8WAyh+JprrhG4mZgxY0YVEat169YCi+JCnV4Byzz4Na7ty2dNl3/Pnj2SlpbGKcs1gfLifkxVhoiG68nkPwKwLG7UqBEFNP8hN4Nb+/btkyZNmvixVBaF/gUDgOTu33sBf0/Rr6OPj4uLq3PhaUMH28/N37Zddv34s2x+e5a0Pv5oGfHiv+37uEICJEACoUAge/sm2b/0ZzmwbqW0OZozJkLhmnlSR0frYgg+tCr2hBqP8QaBhslJckTfHlJQWCwNkhLlgIrFTMFFAM/CCxf+Ki1atJSOHTs6VQ4iMWappqfvl2HDPHdv6JQJv4Q9gYgWiw8cOCA33nijEYKffvppc7ExbdVxuiD+8FoWv5ZIjG3eSlaeWHozX2/VL1zzAWsy9//Vte533uv+Y28xR4nk7j/uVklkbpHw79Lxvq9vySmdO8mJP38je779QaJiKmIXZP62TOIapkqDbl3rWwTPJwESIAGfESg6mCX7f//F5B/fKE1i4hOkpIDCjs+A+zFjR+tiWhX7ETyLMgSSExIEH6bgJACxGCLxqlWr1Ohxs13jwkzfOXPmqEFRqfTt148Gi8F5+YKiVhVvPUFRHe9UwtOX8wULFsisWbOMv+Dzzz9fTj75ZBk/frxLNxPefPH0TiuZS30I8HrWhx7PJQESIIHIIhCtLi1an3KStDrpBHvDVz/ylHx/4tnyy8VXSf5fu+zbuUICJEACwULApmLAnkWzxVZaInGpjaT5oMODpWqsh5cIwLoYhk20KvYSUGbjlkDGwRyvz7B2Wxh3eIVA69ZtJFFjBWHGI+KpIGEJoThJ4ym0atnKK+Uwk/Ak4BvL4hAJcDdy5Ej5+eef7Z0eBET4BMUoDBMJkAAJkAAJkAAJuCMw8n8zZPtHn8jOz7+ReI1vgGRTX9VF6jc54dB3d+dyOwmQAAn4g0BUdIw06tFfMlYulpbDj1V/xXV3z+OP+rKM2hOAdfHQwQMliRaetYfHMzwmkH4gWxZqQLumOqNqSI9OEssAmR6zC+SBMKLs1rWrsS6uXI+uup26V2Uq/O5IwDdisWMJQbwOv4aDBg0K4hqyaiRAAiRQTgDB0s466yzZuHGjvPnmm+pfahjRkAAJBJBAbGoD6Xz5xeZjVWPvnJ9l4fW3SrtTTpR2l5wvUR3aWbu4JAESIIGAEGjYoWvEBbYrKi2TYrWks5XpIB5c/QWEvP8KTWmQKjn5Rf4r0E8l2bQcM2NYBa+4mChJiI3xU8ksxpFATl6BLFm3Wcr0twQLVU9ncTvmwfXAEYB18QZ9fyzIz7dXglbFdhRcqYZARIvF4MLRlGruDu4iARIIGgKLFi2Sr7/+2tTn1VdfpVgcNFeGFSGBCgINe/eSHtdcJpvfnSXJ3btIU4rFFXC4RgIkEDACcKUTCQnCcEZuoQm6FQntjbQ2xsfFSpPURIn1YvygSGNY2/aWqDi8+M9NZvAlOTFBhvbqIjGchV1bjAE93pV1Ma2KA3pJQqZw+lsImUvFipIACUQygaFDh8pRRx0lrVu3losuuiiSUbDtJBC0BJJatZReE8bLifO+k/YXjrPXc834O2XdY09L3tZt9m1cIQESIAFfECgtKpScbRt9kXXQ53kgv5hCcdBfpbpXsKi4RLJyCuqeAc+sNQG4m2jfoqnE64DTiF5dzbLWmfCEgBOwfBejIrQqDvjlCJkKhOkwc7hPNgqZ+4sVJQES8BKBZA1CMHfuXC/lxmxIgAR8SSAmIV5iMP85u1jKioqMD+PNb34g22d9IScu+N6XRYdE3qV5ebL/xzmSt227lKmLHRN0Vi0CmUKMgFr3wWIpSq3Nktu1lWZjjpXYBikh1ojwq+6+pfMkb/d2KcjcL80GjAi/BrppEfqR3IJiN3u5OVwIFBaVSInGB4ildavfLmm3ti2lY8umEhchMxT8BtaPBTlaF9Oq2I/gQ7yoMBWLQ/yqsPokQAIkQAIkQAJhQSA6Pl663n+H9L13ohRu3iLRcRpgqrBIDvy+XA6uWi2tTh8rcY0ahUVbPWlEtrZ52S13SlF6pieH85gQIhD35HMy4OlHpJEG22IKDIGsdauMUIzSk1q0DkwlAlRq+aCTDtIxhT2BslIdXOT8aL9eZwrFfsXtk8JgXbxr1y5p1bKVT/JnpuFHwCfdrE1oHRJ+twpbRAIkQAIkQAIkUFcCcY0bSdORw+2nZy5ZKuuenCHzTjxL0ufOs28P5xVYES+/9S4KxWF6kYsPZJvrW5KdE6YtDO5mFWTsk4w1S00lG3XvKymtOwR3hb1cOwbd8jLQIM7OxknEPr062/amy670LJ+Wwcz9TwB95KBBgxmzy//oQ7ZEn4jFIUuDFScBEiABEiABEiABPxDodM2VMurTt6XD+WdKat8+9hLT5y+QsuLwnEqd/vN8KdyXYW8rV8KPAATjfT/ODr+GhUCL4hulSWrHHpLYtKWk9RkcAjVmFUmgbgSiaJdWN3AenLU366Cs3LxNflu/WbDOFF4Eoum+JbwuqI9bQzcUPgbM7EmABEiABEiABEjAFYGkDu2l623/sO/K27RFlv19osSnNZaOl46TDldcZt8XDit523eEQzPYhhoI5O/YWcMR3O0LAtEaiKr5oMOlrLREoigI+AIx8ySBsCZwMDdfReItGkdApFnDVPMJ6wazcSRAAtUSCE/LYjWxZyIBEiCBcCOQn58v+/btC7dmsT0kQAKHCCR36STDZs6QtOFDpDizYgpouEzrLyso5LWOAAK8zoG9yNExtAUK7BVg6SQQmgT+3L5LSkpLpUFSogzp0UndFVBTCc0ryVqTgHcI8GnCOxyZCwmQAAn4lMD+/ftlwIABsmfPHnn33XflnHPO8Wl5zJwESCAwBBoO6C+H6ccx/TFlmuRs2iztx50trc44VWKSkhx3h8y6zcbgUyFzsepTUZilMfmFQP6+XSZoZkLjZn4pj4WQAAmEL4GB3TqqC4rt0qtDawnXgHaFxaVSyr9R4XsTe9AyDIHEx0ZLDGfg1EjLN2JxWWAfEhngoMbrzgNIgARCjMCWLVvkr7/+MrVeuHAhxeIQu36sLgnUh0Cn666Une9+JJtenCktx/7NnpVNLYCidOo5EwkEFQG+iPvlchQdyJDdv3wvtrJSaTHsGGnQrpNfymUhJEAC4UkgLjZGBnfvFFaNs+nfo2e/XyNTv1klklcUVm1jY+pPYGSf1jLjwpHSoWmD+mcWhjmEpxuKMLxQbBIJkEBkExg6dKi8+OKLcuedd8o999wT2TDYehKIMAINuneTnvfdIUd887HEppY/0B5cvlJ+OfU82fryTCnKzIwwImwuCUQ2gdLiItm98CcjFMc3bCLJrdtFNpAQaj3Eq1Id6PN3Kikp8XeRLC/ICWBcr6AovAXUx75aKVNn/UahOMjvxUBV79c1u+SIp7+V7PzwDCxdX66+sSyub614PgmQAAmQQBUC11xzTZVt3EACJBA5BKLjKh7botWnYGrPbrLhuf9KaW6edLn5hsgBwZaSQIQTyFy7TEpyD0p0bJy0HHGM0E+x726I5cuXy5QpD1ZbQJRESfMWzaVzp05y+hmnS+/evZ2OnzdvnkyePEWy1Bd9VlaW5jdZLr7kYqdjfPHlrDPPUvdleyVTBxR79Oghn3z6sS+Kka1bt5qYGjBsYAodAmu37ZQd+zJkeK8u0rhBSuhU3MOa5haWyOOwKGYigWoI5Gfkysvz1sktJxxWzVGRuavirSOc2k9f7OF0NdkWEiABEiABEiCBSgQa9Ogu/Z95TAr/2iVRiQn2vRuefFZSunWVFiefIDEJFdvtB3CFBEgg5Ak06T1QSvJz1fVEZ4lr0Cjk2xPMDeikAvCtt46X3bt2y1133S1lZWUyePBgufHvN0jSIf/xBQUFsnr1GnnxPy/Kf/Qzbtw4eWjaVIk55CaoZ8+eMnHCBHn8iSckPT3db80df+ut8u0338hbb73t9TJhIQ33aLM+miX/fu45GTpkqLz51hteL4cZ+obAlj37ZdOuvSbz/Qeyw1IsXr1TZ12pj2ImEqiJwKIt/uuXa6pLMO33iViMPx5MJEACJEACJBCqBPB3LE+tcba/96EU7NwlDXt1lw7jzpHYlPCzvAjVa8R6lxNIaNPajqJUp5MeWL5Ktr7+vmyc/l8Z9cUHGvzKJ4969jKDcaXp0IHSeMgASWrXRgr37pfsP9fL3jm/SJQaE/S8/SbZ+NJM3R7gFwMNrJLcrpXEN24kcY0aadDCRNn97U/BiJN1CkICMXHx0mrEsUFYs/CrUiP9fR511FGmYa/OnClrVBQeNepwOe6445waO2bMGDnmmNFy+mlnmEDESfqbnjR5kjmmefPmctLJJ8mqVavkueemO53nyy+jRx8tXbp09rpYPFM5PPLwo9K0WVMBn6LCIuH7vy+vpHfz3pN5UFZv3mEybd+8qXRr28q7BQRJbgfzw9vFRpBgDotqZBUUhkU7vN2IyHuD8DZB5kcCJEACJBB2BDYvXCQrr71FbDl59rZtfut9Oeq91yW+SWP7Nq6QQDARiImPlyGvvSTZq9dKzvoNdqE4b9MWyd+1S9JGjVTBNHynX8UkJchhk++WVmNPlpLsHMndtEnShg+TztddJQW7dyuTjdLsqCNk58dfBFwsTmrdQo788iP77VOal+cTsTg6IV66XHOZxDdMlTXTnraXxxUSIIHaE4jXPhYpWgd7XKV+/fpJ3759jSj85ptvyZ133SmJiYn2Q1Ma+D+IUooPBrlPPfVUOf3006VJkyby9Vdfyw033GhvI1eCn0BifKzE60Byqg5o9Oscvv7OS2nAGPw3Y5DUsKyMxq6uLoXrv3SujuQ2EiABEiABEghxArB8sT6YSooPAs0U5+ZKzs6/JOuPP2XrT3Nk8fg7nYRiNDt741b581/Pm3OsPEIcB6sfpgRSD+strc88zd66v2Z9Isv+PlF+PeN8ObD0d/v2cFvpNeFmIxSn//Kr/HzSWbLw4mtl7klny5KrbtTfvRih2F2bW//teGnc39nPqLtjvbG9cF+6/H7jrbJ/zs/eyM4pj6Q2LaXFmCOl89WXyBGfvCVdrr9amp/gbAXpdAK/BD0B/M3Zv2KRFOccDPq6RnoFjzq63Aq5uLhYNm3cFJY4mjZtaoTisGxcBDSqUUqyHNm3hwzp0dntwEc4YKBWHA5X0T9toFTsmjMti11z4VYSIAESCDoCn332mWxSS7lrr73W7icv6Crp4wrhhRmp8rJMBd+SnBwpOZgtRQcOqlUhlgekKOuAFB88KIW6LMzEeo7Zjv3ln1wpzc4VKS1zqnm5p1dYYKK8CkvMjTPfka1qlRif1ljim6VJYrNmkqhT+BJ1KmbCoU+ivkQVxceJTf3IQoxGsqw5raXZyP9IwE8Eut56szQZOljdqsySeA3CZKUCHSBJbNvG+hrSy+T2baTNuHMEFror73hAf+vZ9vZkLPxNxfLbZMR7r2lAMNePvl1vulb++vgzyVqx1n6eL1fKiopl39wF6Myk2ehycclb5XW/5QYjmhfu32/ve7yVN/MJDIGsP1fIwY1rJHvbBulwwtnqj7zCWjUwNWKp7ghs2LDB7IIVcpeuXdwdVu12+EDG80NycnK1xznuROC8xo0588mRCdfdE0jSWSdMJEACJFAdAddPzNWdEaB9TYcPkkT1y7fz4y9rrAFfxmtExANIgARCjMDKlSvNlD9UG8FRHnyw+sjcwdi8ygKv9R11xTrEkyIVdkv0U6yCb6GKvcWHxN58jSAO8bc4K9tsL1NhGGJQiQq9peoqwpafX67rumm4TafblSXG6ydBbBr0C0JuFNxJtGklUSlJEq1RoONSU9V3aEPJV4G49JV3JC7f8l9VMd5cqiJxfteOEpWbJ1F790n0lq0Sk1sgUfn6qTjMXovlyYkS16SRxDdNM5+kFiouq8Cc1LyZXVw2IrMKzLFaB+vvV+WlPUOukEAdCETplOmmKkjiY6UCDYw3/9Rxak17mHS4ZFytLE/Likskb/NmsanlXFKHDhKb6v+p1VY7rGXDPr3M76c4I1MHiapaX2av2yS7Pv5U2p57tnWKfRmjfQOeMQORIG57O63552Oy7qnnpEADGHW97nLpevMN3i6C+fmRQP6+vyRz7TJTYqMuvSkU+5F9bYuaO/dn+e7b78xpEybc7uSCoqa88Bz0ysuvyPvvfyDZ2Qe1P4s255999lly3fXXubQARYC5fz44VRYvXiyJ6lIgJTlFBgwcIJdccrH079/fbZHbt2+Xhx6aJnFxcRKnA2hF6u/+nHPOkWPH0A+2W2ghvAP3FgLadWzR1OV9FMJNY9VJgAR8SCAoxOI+kyZK4wGu/qBVvHkntW8vfzz0uA9RMGsSIAESCF4CiLgdqw/0JSUlxtIEFifufOb5ohWWsGstUYa17rgsVRHVWPLCqlcFXqwXqLVLoa7Duhdib7Fa9RqhV/eV5qjYq+eUwTewClDukk2Ne21qBWHTl6EyWEPoEh8IvtE6nS62YYouUyReA61A8E1UP3qJug/fk9XiN0n3gR8sfbAEO7wkYWkJs1bZ+So8f7Zep45+V3V6+Kip90nTMceY64AppjgWFkC5Kl7nqnict3uPFKg1H4LjFaZnSExevuRrlOko3R+l26KX5Et0br5EufCNFaXWyDFNGmrAq8YSp+Jygn6SWpYLy0kaHCdBBWZYMMenpUmcBsWyrj/qb7XBWlpt4ZIE3BGI199I7/snyo53PpR9P83zSCyGSLz1vy/LtjffV0v+cpEzKiZaWp5wrHSfcIta2zd1V5zPtyfqQAxSYru2ktyhjeRt+6tKmfvm/OJSLO58xcXq3zmuyvGhugHXxro+odoG1rucgE3/1u/97Rf9YtP+v7U06T2QaIKAQHpGhuzYsdPUxGYrkx3bd8jP8+bJSy++ZKx777zrDrngggs8rinE2uuuu15++eUXef75GYJgeUgLNX7CVVdeJXPmzpVXXnnZaVbZkiVL5OqrrpGGDRvK62+8Jr17l7vRufiiS+T8cRfIDz878aM2AABAAElEQVR+L23auJ45guegRZp3ZmamtGjRQsaeOlbatQ9f37UeX4gwPXDNlp2yec8+2asz7Ib36qbPjGHaUDaLBEjAqwR8Ixbr6FVt0oFlq6TdeWcbUaFUrbMck3kJ1hcRRInW+TiOu7hOAiRAAhFDoFu3brJo0SJZt26ddE1Mkh+uuE7iVGht2u8w6a7BmxJbu45k7CgeWi4RAM1R4HX8XqZiNAReuHKAuAs3DgX6MlF4SPCFyAurPQi+CCAFVw42iL0qgAr6bxciqHWRbLHRKvgmquBbLvpGqQAepa4cojt3MIIvAjBB6I3XF58EFXrNR4XTFFjhYptaBOMFJyYmxnyw7tg+q5z6LiHMn/Hsk7Jo0lRJn/WFSEmpxKnV72ETb5bWJ59osreC3CAKuKuEF7A8tRhs27atQFSGyI8lhGUIzLn701VQ3iM5u3ZLwb59UpSRJSWwnla2eco0autWiV7zh0Sr6BOl5VdJ0VES3ShVYlU0jgMriMvNm0qyuhhI0k+iisuJEJf1g4B8mHpvsTJ/Vw+9KVjbquTPDWFPIFqfq9qcfYb5lDk8e63TgfkivX/bnX+ONB42xM7Bpq5eVo6/Q/bPX2jfhhWbunDZ/fUPkrVshQzV4HoJDm4unA708Zf8nbvsJfSbNklW3T9Vcjdvt2/DSubSZTo4lStl+ltEitYZB21OO1k6XnGZ+Q4LbKe3aBfPs4k6gNP08OFi099ltvbH2es2m3Pd/RfXsIE0PKyXpHRsL7kbN0vG7yvNue6O53YScCSAe7L1yDHqr3ihtBh+tL0fdzyG6/4nMHfOXNmrf8OthGeqTTrbAn/rTxl7igwZUtF3WsdUt3z++Rfkp9k/yWOPPWoXinH8iBHD1QJ4qowff6s89dTTcu+995hsCgsK5fbbJsgBHZif+dqrdqEYriggOCMtXrRYzjjzDLNe+b9S7b9Q10suvUTuvPMOaRCAwHuV68TvviGwedc+IxQj92b63Eih2Euc42NEksud1tlzLFKjl7wi+9dqVxJ1gBofx1Sgzyb4+DppgENJjq++FLzPHdR3uwClRi1SpU2DJGnRIFHS9DNrkbr3KaEW6O/L4Rux2INWQPy1hOGdn30tXW64Shb/3w0arXqfy7PbnnmKy+3cSAIkQAKRQgARtjd9971se/ENiT4kymb9vkp2fPmtHPnBG0YwxgtLiYqUBSryQuDNU1Fy3/r1UvTLQnXtoOKvir3FaukKNw8lKjbbxV61gBUIvuoKwl3S0HDGuhcWvbYkdeMAsVctdmNatlAxtYFaxKZKjE5HT1SBN15FTFj3QvBNViEzWV0vxOvxsIa1BF/LMtZdeYHcnqDRy496dKqUPni/FClDCGC1sTzESxgC5yGZaZ5qtQgRGhZAJnXsWL508T/OxccSl3P1OuarVXLOrl1SsHe/WjDvLReW0zNV2FeLZrVkjt66Xa2X8yS60MVDqlqQRKn1tRGX9XrEp6nVtbq9SGgOy+UW6hKjuSS3rBCYY9T62hKRXQnL1j4XVa/1JtyrGb8tk2gdAGgyeKBOr6704F3rHHlCXQhAOLZSkvr+3Ttnvuz5fq6M+vRtdTPR3uza+fZ7VYRi6xws8fy29K77Je3O8Y6bndaz1YWOr1LGknIhOEb7pEY6DXvkh2/K3m++k8zFv0um3mO5W3aY38sPIyoCvQ17/T/SqO9h9irBXYPlsgGDZrNHlQ8O4YBGh/WU3pPulgbdu0lR+n5JbFU+QJfx6yJZrcJ0/q699nzMir6Rd7nmUuly47VmsAYzLWK0X4GP4l1ffCVr/vmEWyOIpkMHyqD/PgdjUvWnXiJR+pvc+e4Hsuahp5zL4LeIIBDfKE3aHPW3iGhrqDTyrLPOlFtvu7VKdSHUXn/9DfL+e+/LXXffJVdeeUWVYypvgGux6c9NN4Pgfzul6nU++eST1R3F3fLy/16Wyy+/XNq1aytvvf22bNu2TYYOHSoDBgywZwmfxaeccops2bpFhug+V2nFihVy3bXXy3333Svjzh/n6hBuCxMC2fpsv2brDtOajvoc21WDnzJ5h8BZQ7vKR+Odf68lOnje9tbXZO/uA9UXoiKx7bUbqxwzddZiuf/t8sGeKju9uOGyI3vKzOuPrzHH/MISWbc7U178cY3M+HZFlfguNWZQjwOynrvS6eyoK15QsdhyD+i0i198SCAgYnHL44+WAc88Knu++laWT5xkLNF+v2mCeQl219bd3/wQFD7x3NWP20mABEjA1wR27twpBR98KimVrHcL92fKDyefIzadhSFqbRJVKVgb6pV5qHI2tUjVtw4dUS7/wIVDjPrtjVexN0Yt4OLV6iABYq9azMKNQ4IKvhB7k9T1Qbxa/caoharlvsHX7Q2G/CFeJvk5ABjEdHwS9Tqlqh/l5irmSvfubnFAlLYE5ny1mjywY4fkQ1SGSwy1Wi7Yt1/FZbUG12mzGCzI/UPdYeTAz7K6w4AYVTmp/9YovRdiHK2W1QIcvpWTdbpqSquWxnoZFswYJKgsKFticuVl5WL+Ut+OS8ffJaXqmgQpUX3pjZj+lDQZMqjyofzuRwLtL7tY2l50vhxUS2FLKC7QwYqNz79cYy3yf1spW5b+LjbtO1ylWB3E0l7KJwmzHv6Y9oT0nnyPGdjBoEfr08aaDwrMU//iW15+XXZ89Lm9/E3TX1Jf4Q3UHced6somVZ9Lv5G9P8w1+y3rY+vgAU9OMy4u1k55WLa//4k0UN/lfR+eLGkjh8vg55+WX869zMliuO+Uu4zVNgbplk28T/b/slj9ljeWY+Z8bWbTHVi+ym0cjtKiQnsgPqzv+uhjtd7+3qoKlyRAAkFKYNSoUXLnHXeoEHu/+hL+p3Tt2lVGjz662tquXr3GDA7jb70rC98EjbHQSgentmzZIitXrjBi8YrlKtxoQv6V0/QZOtDkJn2r/pRv+cctxq8xhWI3kMJoc2pykvTu0FbS1bCgb+e2YdSywDdl1i/rZNSBXBnZtaU8dUl5PIhYfQ8bf1xfuefN+dVW8PJRPZz2P/rpUvl65TZZsTvLabuvvrz242rZuPeAjO7VRh4ad7gp5q/MXLnufz9JuhoOJcTGSI9WjeW4w9rJuJHdZfoVo+WmE/tJn0nvq7WxziL1Qxrz0Cy5eFRPuerYPn4ojUW4IxAQsRgvnEiN+lVYc+Rs2GK2ufuvVAMN4eNR4vwKjzDxIBIggdAiABcGSRlVAzehFVE6pajh0YcfcuOQavzeJqnICyEkPT9PeqjlSYKKfxCFIUQyhQ8Byy0H3HSkqFVlMxV0q0twRwKBuRAuMdRq+qD6XcxXURkuMYrUwilPheZS9WuH4IJFui9v7ToRuMOoNEiBMmz6QBmVqoH5VGiDS4xYWC6rsJzcXH0tI5ifvvxCXE5WC+ZEHXBAXSEi52k5C6+/VaIKKiyhC/amy6/X3yIn/PSVxGo7mAJHAG5LGg8dbK/AQRUmStTdjPY0+nE1wmA/VNJ0ECK2d8+KDQ5rBXpdfTmpcecnX0nOho3S/4lpklTJ/2Zyp47S58H7JFndQax7+nlTq30//2qWHS+7UBrqM2n2ug2yS11qVE7GD7pa8yG1OG60EYtzNm6V7W+8K4dNmywp3bpK2sB+kq7WzUgIygwXH0jrHn3aCMVYT+3SCQuTGnTtbK1WWTYffaTZtn/2HFmtweoK9bfBFDkESnKzJWvDGknrO0RnXfDvdahd+XPPO1cmTZps/s6+9dZbNYrFG3T2FxL+hrtLGDhGWr9+g/xNjRk3b95svjc99E5tvtTw36pVq2Sy1gvusxb+utBYP5837rwazuLuUCfQpU0L6dy6uX3GWKi3J5jqv2D1TsFn0lnDpVFK+e/3itF95B5YB7t4Zrbqfr0Kyo7pro8Wee6+wvHEeqzPX7VD5q8pr3t8XIws37pPPoerh0Ppp+Xb5MVvVsgXYw4zVsi926bJnNtPldGTPrAO8elytpa/KSOHYrFPKdeceUCeQA6uWmNqduDQsuZq+vYI68UZL7HBPC3atxSYOwmQQLATaK+BPler5a+olWjl1PbIw2Xov56svFldvZdJ8Z9/ShMVSphIAATwdw4fWIg3gOVy507Y7DYZ1ybqFqMgI1Nydu8+5Gd5v67vkUIVmwv3pRthuVjdZRRvV3E5W62bXQQrNFbtDZJFGqTofVkqMQ5CsVV4YXqWpKvLlJYnjLE2cRkEBJoeOepQLaoXinFQ167dpOmgCqHZsfqbflkk5RKH41bvrh9YvU7mn3mRCraDJW3YYGmionfqYb0lSp/xkDpddbns/W62ZK36w+OC4bbn4MrVktqnl2QsXGI/b49aIffWex2+j+OaNrFv73BRuQCDwZedn39r3561aq1kqUsM+BHf+8Mc+3ZrJUoHXw6bfKe0OfN02fLfV2XdMzrtkimiCJTpQN7uRT+p//p0dSmVI60OPy6i2h8OjYXoC3cQcC9hCcHVtav5oQHegkL3Fnu5uTkmCzPTSNda6AAs0j4d6PU0tdbYFu9/8L7sV9dV55x9rkyePEWGq0/kjtW4xfI0bx4X3ASsmV7BXcvQrV2h+tL9Zd0uGdWjtbRqnCwnD+4sXy/Z5LJBnTo0lZHdW8lnSzfLaUMODRoHyhevCtqlh0Rtd9o2rJCnjRspbdMayNG920qrNo1l91/+sYBOzy92yZAb/UfAN2Kxi4Agjk0qVj+Zuz75XFqdpgEAXkiRtQ89IXnbdzke4rf1wsJCWbZsmY7Urpf+/ftLnz59aHXnN/osiARIoDYEYDXa++9Xy7qpzn4ro3TaU7erL3eZFcRiiH348GHRJSJurIEA7hvjd1lfTlPxgjqgf7Vn4F4rylFfyiom5+9Vi+W/dkmevtDCHUbh/gwjMOdt2uKQB6xVkcqFyMrT/8v38f9AEohJTjZ+yBHwsibr4pRerq2KfV1/CK3R+inVQYgy9d0Nq2HLcji+cUOdPnmntDihXHhrf+G5knXv1FpV6dcLr1J3aCmSNmSg9LnvdmO5nNimtRGKkVFUVIWDjZTu3Uze+dt2OPklxgy5RZdd77JcMB7ywtPGrQUO2P7uRy6P48bwJpC+cpERihHYrkmvCl+04d3q8GrdPv27B6EYqVs1LqSsVuPdEylTB2Rz1ZUUnvUcU1FRkezSmT9Ihx1Wfmyf3r3lO3UpsXmT6+E3BL5DQORhw4bZs4LLitatW5vP+PG3yOOPP2EC573//nt897VTCu0VPH8t1aCrrXXwsm2zigHM0G5VaNR+5s9/yOBOGv9DZ3recNxhbsXim9StwuKNe+S3LXsrxOIgb+KanRlGLEY1j+jSUj70k1gc5FgionoVT7Z+bG6zUSOk9RmnCh6EYK1y5FcfyYDHp0iDbp38WAt9LdUO9amnnpLbbrtNlixZItddd5188sknfq0DCyMBEiABTwigv7r/fvWB99030mniTZKiQahUnZDGfXrIqFdmSOOB1Qt4npTBY0jAGwQgLieoxXKaCmZtjzhcep53tgy68To5fNK9csy/n5ST3n5VRr3+khhLY1MgROJyoThGfTOmjah4ufVGfZhH3QiUqTV5/rbt9pObHX3EofXya2Xf4bDS4tgjNfBbYALodLzwHBn+xksOtalYLco6KMtuv18HKvabjSld3LuAqDjLeQ2uJUbNelMGPvektDrlZMlVdxdb/jvT+aBD3xIOMSjWQZPapMYO/rr7PTzZ9PG1OZ/HhjaBgox9kr35T9OIpv1GaMyAZqHdoHCsvT6L1ZSmTXvYfshFF11kX8cKnuUcl1jv2rWLHH/8ccZtxbffVsxEMAfqfz/N/kny1b3P4YcfLv369TObL7zoQhPTYOnSpQL3EpUTfCZ/8015Xq7KvO7662TgoIGy7Pdl8swzz1Y+vVbfy2xl5nhrWauTebBXCazavEN2qxuxZRu2Sp7GMGHyH4GMvEJ5f2G5G4exAztJlFoYV0mx0XL50b3lP2qt61HSODMj+rSVq07oJ0f202DDDcpdXXh0rhcPatZA49wcStsyyuOMWN9Rp6O1blerT+NjB3QQaVhxrP2Yyit1OadyHvzuFwK+sSyuoeqFGsG9cmr5txMFn+y1f+rUvNmy57ufBP7gfJn27NkjL730krzzzjsyfPhweffdd2XatGkmiiyi1jsmWuQ50gj9dV7P0L+GkdaCBQsWyNSp5ZZwLXTK4rMaJImJBEKVQMse3aXLnbfI5kf/Zbe8xFT+wY9NkQT1tc0UOAKlOuNq+2tvyo73P5VotZA5/NP3zOB+r8l3S0n2Qdk7e57LyiW1ay0977vD5T5/bIzSlyr4Do6Oj5OyIhdTF3WWxb7vfpR2F46TmKSaX2aO+uoD+fPxZ2Tvj/OkYc+uMvh/M8zsjIwFC2X57fcJAuoh9Zh4i8TplHMrxWlwyEK1pk/u3EkSW3ounJdq1PrFl12jPpU7SH8Npgef0V2uvkQ2vfS6lTWXYU4gMa25NB98pOSn75GGXQJjoR/miOvUPIitmIm6W90w/fFHuZi/QQeLDqp7miQNIIaE/evXrZfnX3jBWPzC1dNdd91p91eMWV452Tny+2+/meMXLV4sp59xugloh2OnPTxNRd8zZNIDkzWebXfp27evOW7NmrUyYeJEadasmTz+xGP2GWIttW+ZNHmSTJwwUe6YeIe8qO+z7dSvOsr59NNPZd7P8+TLr74wIvMv89V/qqa1a/8QWD03Vjc4mC103nnnGbF4+nPTjb/kceq/GPl6koyLs+JiydEBse++LQ++uXLFStmoXFrrjIt4DTDK+BiekPTeMRv/2itbNeYEUp9ObTWOdWCERe+1KPRyev7HVXLpUb00Pke03H5MH3ni4yVOjThjaFdJ0WeU/83/Uyaf5tpdl3XC1ItGyY0n9JcSDVqOgHMNk+MlJ79I/vH6z/LK9xUDRJ/ffYac3L+DFJaUalQJNdZQ/8O3vDZXnvtymfyf+kZ++doxUlis+2DIoftOf/IL+eyQqG2VVd2yQ7s0GdCxuTkkQ4NjL15XPstB9Jlr8nkj5H7114y0Q/0Lt22Som7uouSJL36XO97SIH+V3WvU5RyTO/8LFIGAiMXw4Za15DfZ8K8XpMnwIdLsiJHSsH9f408uVYOi4NN8zDHy67grfMoF7ifg5H/IkCGmnOOOO85Y7m3dulV69epltiEIULH+McQHCX8cfZHwIOKrvH1R31DPE9cVicz9fyXBnNxrzx3TB+GrDv7pRo4c6TFDR4sSa732pfOM2hIAa/br1VPrd9X/SbcTj5e9c342FpQtjjlaktq28fjedpe7xZ73uztCrreDF14molVE2PXZ1xqEuLe0O/8cIxTjDMwG66uB4yAkb535jk6VP2AyilKRv83YE6Xr+JtUNG3kOnM/bUVgvhbHHCG7v/3JZYn5O/4y2/O2uDZGiHYIMBWrQRst1xJtzxxr2JTm5TkJxXB9EaNBQ63U9sxTpOVJx0nOuvVGLE7u0M4I06X5zr5IWx4/WtKGDpS1j1RY9BXptPGDf2wwn+bHfCGtTxsrXdQiP139PB9YXS5QWeVwGb4EUjt2E3yYgofA/Pnz5dJLLnOq0Jdffin4OCaIox10sOfU006Vm276u/TsWSH4z549W6679nojoqZq3/L9d9/LF59/IS/990UZM2aMeb775puvZcqUKXLOOedK927dBT6Mt23dJieddKJMeXCKpGmQWMd0zjlnq0DcTu668y458YQTZdCgQbJu/TpJa5Imr858xbib6Ne3vxQVFxkr5Dztv0aNOkIuueRieWDSAzL1n1MlMTHRCMczps+Ql158SVasXO5YhNv1H3/8UW64/kYjMkPsbtiwoc4PssmZZ55l3plHjBwhM2e+6vZ87vAugTJ1OPuXuvlC6tyqufl4twTm5gkBBLvbuCdLurZsLNequ4nKYjHcU7z76/oag9mdMbK73Htm+Sy7qAv/rQ9gYoTj6VeMVvH3ODlYUCwfzit/LnheheNf1+/W44caFxio58od5fdCsQrNeK6Da4wVGsDuo8WbZLa6wPAoxcfImD7t5HktEwJwkQrOpzzxuV0AnnX7WDlzWFcTGG/ItE80MHausXyef9cZMvHUwTJIBeYT/vmRU1F1OccpA37xO4GAiMU5m7fK6skPS+6WHZLxm45CvvCq8QPXbORQaXrECEnTaav1Svqj8CTBnxTEYgS2Q8IoKJLlZwrri3XkFw8D27ZtM3/0EX3WEo6x3xsJ5eGHjA+TfwjAAgBTunAtKSj4hznub9zr4G791vxTcviU8tVXXxkrDlh+wBedJwnCPLh7erwnefKYmglY/QuWTNUTiBox1PTD2xHAx8P72lWO6GMQuAeDgfiAPf+uuiJVsa2soED2fP2t7HjnI+lw6QXScuzJRhQe/sEbEnPomajiaH1f0eelDldcJu0vv0TmfviR5Kt/zQHHHiOtgyhAUq9775CMpculqPIsNr0/Wp5yomlOxuLfHJslRepPG6lhz+5mmdKxrcTp82H+znJx2XIrAb/ClkUxDkQQPQjUSPAdn9qjq1nfMvMtaa7+kaNViOl2w5Xy51MzzHb8F9+0sfSZco8cWFFuGRR1iLMj77UPPSlNhumLn7qz6P/4VFl46bVV22PPsfqV2EP+T2O0LvqDwDz46k/gXhIgAScCRx55pGzesslpW22/wCBpw0YViapJDRs1lCefelIefuRh88yG95MePXoYQdbdaSM0QN3sn340FsMbN22SDh3aS5s2beyHr1y1wr5eeWXNWg+nwlc+Ub8ff/zxsn6DZ8+hLk7nJi8TgJh3+GHdZfOu/dKtrWfW4V6uArM7ROCl2WvkkQtGSffWTWRYnzayeE35c0Rq81Q5oV8HGfngBzWyOk5dT1ipb+fmsmrDHpnx1TK5/ZSB0qVlI7lRRWdLLP5i8UbBZ9m2dPn09lPMc++JfdvLnBXboDGb9Px3K+TGV+bYhV4rb8fl2EGd5M9nywfFEvS5pn3TBkYkxjHfrdwmN70xT9ZtLg+oed5RPY1QnF9YIgMfVEE4+9CAeE6hHDHtYzn4/FVy/CHXFP/9dqUppi7nONaP64Eh4BOxuCbxrUijnePjmEo0evru7+aYj+N2X65jNBWioWVNg5dLjAon68uAlQYOHGimA82bN0/27t2rf4Q7eFVcRNkQLBGJltN1LOq+XyLwQ1ZWFiMA+x61Uwm43+FCoYGDJZbTAfzidQIl6ncUfVvnzp0pnHmdrvsMIdDj74vjS5v7o7nHWwRwv+PvNBL+xtf0POKtckM1HwjFayY/Jo3795a4tCb2ZjgKl/aNDiuwMpYWzcWWlyJRDta4DocEbDVe3ZiM+uhN2fDMDNn1zQ8C9w5wO9HnvgnSUINDwdfwtndnOdUva/lKaTZmtDRSn8EtxxwlLY4bLUWZWcbKFwdmLV1mD47XWV1D7Jz1ubQ46gjpcvN19nzaX3SexDdpIhmLFkvWirXqz/hV6XztldL+sos06J5aCGqZjfr0lE5XXCIxySmy5eXXpO3pJ6sLthNMHqh31+svVxF5jZ6/Wor2/D975wEYRbW98S+9kwQIJBBIQpfeO1gBsSBIU8GG/f+eHQRsoIIo9oJdAXt9toc+VBQUkd47SQgldEjv7X/PDbNskg1JyO5my3d12dm5/TeT2Z1vzj3nmBaLA5T403vBm0j++jvs/0pZ76j5VJUkBogI3z5KfJIHAJK8Q4LRfvp9ykp5p3InkomjvyuLfqY6J5CRVCoghsSWPqio8wFxAHVOQAwqDDcU1R1MhLoey4vJfQl4q4e5raMpFNf1GfDS0u2YPbavdkXxfxd2xM2nxeL7lFsKsTo2xOOzjXPxlgO47aIOOJaeg62Hzrhv/eyf3driuHG9M1qV0c5/V8fjqW/X4PGre+NhZWUsbimmXdlDWRMn4P/e/cMoVum7jG3mf9aY8ovVPXuyshZeq/rPPamMOczSdGU5LGnx5n1nhGIjPzsf36/bi4kD22KqKmeIxedSx2iS73VHwCZicd1Np2Y9i0ArArDc1Ddo0ACHDh3Swq1EijWS3GzKS5bXSDnx8WTtJJbNfupmy7Bwtnb7bK8iATmOwpsWrhXZ2HKPMJeHIuRuS8pl2xbm8pJrDJP9CMh5Lg8Cea7bj7n0JOe6XN9lWay8mM4QEOH81IqVOLFkGdo8NlU/PGqsljcHt22j3H+Vut46U9r5tvLUElyZ465Zz6LJ1SPQ/qlH9atAPRz2Uta1YgGctnETNk95DCXqJso87V34mQoS2gkNLzwfXV59TmfFvzLPVOTA198jILoJmo5Xy8OVuw15Fau/7+NL/sDG9z5E5+dnI7RLZ2TtTULiex/pentefQeZ8YloO/V+5U7idv2SjFwlAm++fypyDh5WvomfUW4sglCkLLSVSTfi7rwNh79RVjk7d8NP+f0U/9Elqh/ZFtH5oBKpy47cNMQyG8FxsWg/a4aqm48StQy18LR/5cgRlyNqzCikrd9IsbgMsbr5kJd6Eic2rURJsTqqyuqb7ifq5jiwVxJwRgIF+nusBD7qu43JcQjkn8rCz5v24YrucRiv3EncPH8poHwN33phB7y6uHpuXsRSOOCmN9FUWRE/qILbdY9thDZRoejZovRhgFiSW0ozvlyJ/q2jtFXvE2P6IPFoGka/tthS0Qr7RJj+bNmOCvsr7FCrqDpEN9C741X7llL8kVKj0JZq/PBX2plyYVHjOsrVBlPdE3Drq4tElBV/Um+++SbGjBmD1157DYMGDUJkZGSFI2Mr6ySjXeO9QsfcQQIkQAK1IGBcW+SdS/JrAZJVnYqAcd471aBtPNiNt/5bu2cIUEtU805brXoqi1tXEIoFXfb+A9j+yBNI/uF/2P/l9wiOjUZIu7YIbhWnxNJMpKvgTifXqhs1C7EnRDxef/dUBDZrgsCmUchOPozsA6VLR6Xtotx87V94z+vvIqh5U3ir1TGpW3bA8EW8/MprEBDVCDmHyvoCPPzTb5BXQNNIBDVripzDR5C1L1ma1Gnp4OHGZoX3ZRdeUWFfdXcc+XUpjnQbWN3iLFcHBIqUkH909VItFPuG1kdQdFwdjIJdkgAJOCMBcTG3bvde5Obno3e7lgxm52AH8a0l27RYHODnjUn92yLxeBqaqOBvL1ZHjJW5qHrzrh+E/xvaWc9sydYD+PCvXTiuBN3hXWP1Pov/KN/Vw+ctRsFbt+rsfHmgUO7huMV6NdgZEB4IXxUoT1JYoGVDpKz8Qp0v950xyv3GMSWW17TOvgOndBv8p24JuLVYLJZ2L774IubOnYuZM2fqQACPPPJI3R4R9k4CJEACJEACJEACtSSQuWu3tkoN6dhBt9R03Cg0v/Fa1B/Y3xS0rpZdOFT11C07lYC7s3RM6uFY5t4D+lWTQYpAbC4Sl69bmJmNtO2lbgPK5Kn+ygvF5vk5yUeU/+Mj5ru47eYEUnduRmFWhrJ490HjPhfCU62KYCIBEiCB6hDYsvcgTqgVIyriETJz8ygWVweaHcssWr8XR9Oy0Tg0EHdc3B57j2Xgv2pfSWp2tUbx5b+HYWyfVkrnLcaIF3/Cz8rSWJK4ligjFitRGYXF6om2ep1Oc0f0MDbRrml9vDXpAtz5zu+mfbXdyFFzEKt2HxXgN7egVBQu32ZogK9p1z5xYaHE4xrXMbXAjbok4JJisVw4q5vatWuH999/HxkZGdrVRHXrsRwJkAAJkAAJkAAJOBqBHGVhu+Px2UjZuBUNB/RGl3kv6iE2GnaJow2V4yEBtyUQ3r4rigvzEdhYBVMMCnFbDpw4CZBAzQjsST6KA8dP6kod46LRKKxezRpgadsTUOLt/GXbMW1ET/RuGalfw579sXr91vPHyB6lK02e/n6tSSiWyo1CAsq0sffF63HFS4uwLf6Y3i9B5O6/rBumf74CKcp3sAjFd1zSCX/tPoJPlC9lqyQlTm87eApdYyPQTb0spZ4tGund4gcZahySzqWOrsh/6pQAHfop/GIiLz6JmUiABEjAUQnk5ORgyJAhaNGiBVatWuWow+S4SIAE6oBA3vETpl59G5b6kmv/2GR0ev5p035ukAAJOA4BTy9vRHTrj6AmMY4zKI6EBEjA4QnUCwyAt4rJ0FK5Popp3NDhx+vyA1Q+ecMCfdE8PLjMVF//44w4e0gFivtlw94y+YF+ZnGwxEL4dIpR1shitSsp57Q7h9NZGNalNICzl/gsVv3GRtRTsRpKc0co/8gLb78EizYk4RkVqO7t/23CF/+UroR679YL0TrWwrmi/A97e5UaWQb5nhmD0V9l77N+WKez+reJQodWpcKwUbZtiwhc1D5af5z9fWk5+XAudYJ9z6y48Tjt+sLoh+/2IUCx2D6c2QsJkAAJ1IrAmjVr8Ntvv2Hv3r348MMPa9UWK5MACbgGgfRNW7B1yqP4+9Krkbp2vZ6UV2Agui94C1GjR0J8EjORAAmQAAmQAAm4BoHG4fUwqFM7tFP+85nqjkCjyFDcc0U3rH1ijPbHO3tcXzwzcSBEtJWUnJyC5btKYx98IFa9yp+wpFH922CSsvYd16e0nOx7d8JAjBvcDi2aN8C+w6k4rMRlSdepsq2UyBur9s//11AMbNtE72/VOAwLbr0IRcqCeYyyQv568hX4/oHLID6SzWPf/XW6f38lBK+aMQZTRvbEhUpwjmwSBrFCfuH6gSZhulPzhnhAubAYogLzVZW+Wb4LC//cqQ0ul00fhaE9WogDYwzv1RLLpo/UPL5ZnYD5v201NVXTOjK+OaN6m+q/qfgKOyb7Eqj+IwT7jou9kQAJkAAJmBHo1asXLrzwQsTHx2PixIlmOdwkARJwVwInV6xE6sbNiLvtBgTGxborBs6bBByegATdPLHxH9SLawu/sFLrf4cfNAdIAiTgkASCAiwHFnPIwbrooJqrgHVzrx2gLHtLkK5cLYi17wOXdUXMmkT8sLLUolcsa7/4d0O8uOSMaPqf+4YjJ0/58FVCb0pWHsRyc3y/1rhRicXXvP4LEvefxKhXfsa7ky6ACLh75k7QBBOPpuHC2d9iaMdmmHx5N1yj6jzxn9UY3bsl2kaFI0OCyCmL5A7RZ75f2kaGaV/BeQXKx7Aanwja/+w5ghmq3sd3DlGuhIuQpsYgHo9lHE+O6YMAJSz3nvkV1u08rPut7J+bXl+MZTuTFYP+WDz1SlMxmdO/FyzDvJ82mvYZGzWp88rEQWgQ7K/nJfUnXdAeEwe2Q/CK3UZzfLcDAYrFdoDMLkiABEigtgQCAgLw++/WC1BQ2/GwPgmQgH0JZO/bj+QvvkbukePo9OIc3XnzmyYi5tab4enDn3P2PRrsjQRqRiBl5yZkJO1GxoEENB86Bt7+ZX1P1qw1liYB9yZQUrpy3i0g5KsgYsknUhAXZdk/rFtAcMBJrt1xCP4TXj/ryP63NhGhN71ZpozHuFfKfLb0YdX2ZHSe8glCI0LQpmEIjqbnYr/yEyxp6ab9eFjcOxQVKT8VBXjqq8pdE97zwVLIy1Lyq2LsluqU3yeWw/IKbRSCDhGh2HkiHaeOppcvVuZzdes0ueO9MvX4oW4IuObdhRt9gdTNacNeSYAESIAESIAE7EWgOCcXq6+ZpCxYitHk8mEoUTcJHl5e8FIPkZhIgAQcm0D2sWSk7iy1sgpv3YlCsY0Ol8SgYXIPAl41CGbvzESKiouxdvdenMrIRFZuLjrGNXPm6XDsNSGgvFakHcvAGvWqkDJzK+yqyx0yzhWWxnmWQZ1LnbM0xywbEXBNsdhGsNgsCZAACZAACZAACdiaQEGK8ln33Y8I790TIR3O076Hu7w8ByHt28E7JMTW3duufYo5tmPrSC3zOJuOhjzgObGx1PIrIKIJwtp1MeVxw/oEPFXgr2IlsDG5MAG1nN7rdFAuF56ldm+wOWG/Foo91TW1cf0wV54u50YCJOCABMQ9ifWTEZbR+i2zRRIgARIgARIgARJwWQLHf/sdy4eNwp5X30bqutKgdTLZ8D69nFsoVnPwVNbQTG5AgMfZdJA9PDwRNWAIAiOjEdFrsA4IZMrkhtUJhAb6Wr1NNuhYBOr5+7nF39Ghk6lIPpmi4XeKa46IUCd+UOxYpxBHQwIkUE0CtCyuJigWIwESIAESIAESIAFrEyjKz0faug2o36+Pbrpeh/Zodu1oRI+7Gv5NSyNfW7vPumrPp169uuqa/dqRgG9YqB17c/yufIJCENnvEscfqAuMMNDPR83CA+k5ecqlJy2MXeCQmqYgD15C1MOAEH85xq6fmjQIR2pmlgqc5olmjeq7/oQ5QxIgAYcjQLHY4Q4JB0QCJEAClglkZ2cjPT0dkZGRlgtwLwmQgFMRSHr3Axz45Bvkp6ZhwE9fwb9JFPyiItHq/n871TyqO9jQHt2qW5TlnJhAWHceZyc+fE4/9EA/b8hLFroWKTcg8l6i/qttKlK+4uWlzFrh6+O6gmV6eibWb9ikrXfPH9y/tthqVd9DfBOr/8VHsadyP+FOSbz5dIiNdqcpc64kQAIORoBisYMdEA6HBEiABCwROH78ODp37oxjx47h888/x9ixYy0V4z4SIAEHJ1CUlW0aYf6xk2jQvzeirxmthWJThotuBLdpjaYjL0Pydz+56Aw5rcZDL0S9Lp3cGkRBpooIrwLaNezcB16+fm7Noi4nL2Kbt7JGtVbas+8AduzcjQb1wzGgby9rNetw7XgpcLkqmJoEDPSlSxmHOz4cEAmQAAnYi4BrisXy64CJBEiABFyIwO7du3HkyBE9o+XLl1MsdqFjy6m4PoGi7Bwc+PFn7Pvsa4R37ojWM6brSbd5ZIrrT77cDNs+Ng2BMc1w4MtvkXv4WLlcfnRWAv6NG6Lp6BFoPulGZ52CVcZdXFSIo6uXIj/tFIqV4BY1cKhV2mUjJEACrk0gr7AIa+MPoFNbHzQICXbtyXJ2JEACTkHAJmJxCQPcOcXB5yBJgASch0D//v0xbdo0JCQkYPLkyc4zcI6UBEgAhSkp2Dr7BTTq2xNRwy9xayIeylKt+c036FdxQYEW1EqKXdO36CH1gG/77l3Kz2YQ+vTs6ZLH3UP50/Tw81MWtAwsJgf45ObVWij28PRC/Y49XPKYc1IkQALWJVCovgPXJSQjLScf63cn4aJu7bWvYuv24n6t0X7Q/Y45Z2xdAjYRi607RLZGAiRAAiQgywHnzJlDECRAAg5OoLhQWRb+9jsSFn6G2Gn3w0/8EKtAdRcs+QFhsTEoVjeFWSpoDRPgqfx+ystVk1dmhloH74MSP1/4hDLom6seZ2NeeaknkJG0W3+sr1xQ+IU1MLL4TgIkQAIWCYiR3eakI0jLyoWn+q3fvU0shWKLpGq+U/u8rnk11nBDAnKfzVSRAMXiiky4hwRIgARIgARIgATOicC22XOVUPwFgls2R/6Jk1osloYCVOA6JhIgAdcl4BfWEI37XoScY4cRGtfGdSfKmZEACViNgLifEKFYUufYJnRBYTWy6neXr5cVW2NTrkwg0JvniqXjS7HYEhXuIwESIAESIAESIIFqEEhZvxEZ8QloPm60Lh03YTyihlyE4O5dkZGhLEuZSIAE3IZAUFRzyIuJBEiABKpDwN/HG/3aNcfxtCxE1a9XnSosU00CcQ3p+7maqNy+WIuIELdnYAmA9ULEWmq9jvbRjLyOwLNbEiABEiABEnATAkV5eVh21XgsG3Mjdr72DsT9hKTgVi3RsH9fN6HAaZIACZAACTg7gcNHj6Pw9HeYpbnkqO+7EydTLGVxnxUIiGDcrCFdFVkBZZkmousHo2/7qDL7+IEEKhBQLihu7Neywm7uUO7iCIEESIAESIAESIAESKBqAtn7DyDv5Cld0EsF9WrYuwd6vjgLF//2Izy9uViraoIsQQKuRSBt7y6k7t4KBvd2rePqbrMRofi3pX9hT2ISioqKTNPPzs3F5q078PvS5fAP8DPt50btCGQr8b1IxS9gsj2Bd6/vj+ZNw2zfEXtwTgJennjxuj7oGF3fOcdv41Hb5s5GOWpnIgESIAESsC6BTZs2Yf/+/bjiiivAFRTWZcvWSOBsBFK3bsfOl+bhiLphbvuvW3HeA3fr4h0eeehs1ZhHAiTgwgTyUk7g5KZVQEkxPFSgxtC4ti48W07NlQlEN4nEHuVOacfO3fD1LQ06Kg9Alvzxl34QEt00CsGBga6MwG5zyy0oxNpd8QhQgU97tI0Dw2rZFn1UaCDWTL8cizYfxKYDp5CeW6CEempVtqXu2K1LLDt/5aM4OjwQV3ZpBrFAZ7JMwDZiseW+uJcESIAESOAcCSQkJKBnz556meDcuXMxZcqUc2yJ1UiABKpDoLigAJ5KAJJUrKyr0vfEo+PUe9F87NXVqc4yJEACLkygKD8PR1Yv1UKxb1gD1Itp5cKz5dRcnYAYILRWLpQ2bNqC/PwC03RFMJa8Nq25RNsEpRYbBUXFWB9/ENmFHihUlsWFyoq79FdGLRpl1SoJeHl6YkTX5vpVZWEWIAESMBGgWGxCwQ0SIAEScFwCWVlZJn9yaWlpjjtQjowEnJxA2o6dSPr4cxz6ZSmG/P5feIcEo37P7hiy9Gd4qBsOJhIgARJIi9+OouxMZVHsi8jeF6hrAyOp86xwbgKGdXFmVnaZiTRVVse0Ki6D5Jw+iPC+Kekw0nLy4OsXiF5tWyBQubMqyM45p/ZYiQRIgARsTcA1xWKxLWciARIgARci0LlzZ3z77bcQC+O77rrLhWbGqZCAYxHY+tRcpG7diZgxIyDWxUaiUGyQ4DsJkED4eV2U94li+DeIgHcQo6jzjHB+AubWxeazad2qhflHbp8jAeEbUS8IJ9Nz0KVlDMJDgs6xJVYjARIgAfsQcE2x2D7s2AsJkAAJ2JXAyJEj7dofOyMBdyGwd+EniLtxgp5ut2eegF/DBvCif0Z3OfycJwnUmICHhycadOxR43qsQAKOTKC8dbH4Kg4JoqhprWMWExGGiLAQhIYz4Jq1mLIdEiAB2xGwzXpKBriz3RFjyyRAAiRAAiRAAlYlkJW039ReYPNmFIpNNLhBAiRAAiTgLgQM62JjvrQqNkhY7z3gdABB67XIlkiABEjANgRsIxbbZqxslQRIgARIgARIgASsTqDjjOlWb5MNkgAJuA6BkpJiHF3zJ3KOH3GdSXEmJGCBgFgXBwcFglbFFuDUcFdadh4OnkyvYS0WJwESIAHHIODWbijE0XxOTg7y8vL00QgICIC/v79jHBmOggRIgARIgARIgARIgARIoM4JpOzYiKyDichKTkKzYaPhE8Cl+XV+UDgAmxBITNqH7dt3IC09HZs3b8GFFwxGTLNom/Tlyo3mFBRiXfxB5BUWoVD5N49VLiiYSIAESMCZCLi1WJyuvgS///577NixA/n5+ejZsyeuvPJKBAcHO9Mx5FhJgARIgARIgARIgARIgARsQCD76EGk7tqsWw5v15VCsQ0Ys8m6J3AqJQ33PPAQCgsLcPnwYWjTphUOHTqMB6ZMR3h4OF567mmEVPMeOS8vH/mqHXf1d1xQVIy1e0qFYj9vL0SE8uFSXZ/hReqY5KlzslgJ9yVqMCX637oeFfuvKwIekP8AL09P+Pn6wlMFoGSqSMA1xeJqHuzExEQsWbIEffv2RUZGBubOnYvjx4/jnnvuqUiKe1yKgPjkYiIBZyMwf/58xMfH46GHHkJoaKizDZ/jJQGbE5BrO6/vNsfMDkjAbQjIKsSTW9bq+QY0boqwtp3cZu6cqPsQSE3LwNXjJ+CJx6bj/EEDykz8puuvw/9+XYJRYyfg+28+Q9BZgr/mKuOrvYlJOJB8GBcM6l+mHXf6kHjkJDJz87UQ1b1lUwTRT3GdHv58ZeWdkZujxcE6HQg7d0gCuQX5CPYLgI+Pa0qjtYFuGyJKoa/LVN0bxc6dO2PhwoWmoUq9b7/9FnfffbfpZlN+JMoTKONVVFRkKm+NDWlfXtJudcdtjX7dvY3CwkJ9TK19PN2da1XzN/6eyL0qUhXz161bh0mTJukMWQnxzDPPVCxkYY+w5jXGAhgb77LVd4aNh+30zcv5Ltd3+T6VY8BEAiRAArUhINeSqIFDtWDcsHNv/lavDUzWdVgCDz38GB6e+mAFodgY8KVDLkZmZhZmPDkHzz/zlLHb9C4icUJCEpL2H9D3tG1btYCvGwukLaMaICuvAE3r10NYEF1cmk6UOtgoVjpLJoXiOiDvPF2qU0SdI7kI8w7id3y5w2YTsTikRRw8fbxQXGBdYbXc2Cv9WK9da+1WIiUlxWIZPz8/hIWFwcvLy5QvZTds2KCtjM1F2xMnTuDw4cM4ePCgtjretm2bqY61Nnbu3Kn9Jnt72+RwWGuYLtWOuCCRY56dne1S83LkycjflVjFivV+SEiIIw/VIccm56tcu8THuo+PD6p7LRLhTLhToLfvYT116pT2iS/XGib7Edi9e7e6oc3U3+8iFpt/n9tvFOyJBEjAlQh4+weica/BrjQlzoUETAROnExR97nJGHrxhaZ9ljbGjBqBN95+D1nq3smwLs5Rv0nj4/div6pv/M4U67wWcbGWmnCbfd7KcK57iyZuM19HnmiBug9iIoGqCIhbkkLlX5zWxWVJ2USd9I+KRP8Fb+LQz7+iKCdXOYURzzBVJ7F+s5gs7be0T12YQ5VQHHfjBBxRgtQ333yjLerM25Q+YmJiMHLkSNNuEWE+++wziDA8a9Ys037ZOHLkCP7++29tqSTB71auXFkmv7Yf5GZ28eLFuOSSS7QAVNv2WL96BJKTk/UDgD59+lSvAktZhcAff/yB8847D5GRkVZpz90aefzxx5GamorY2NhqX4tEXP79999x6aWXUjiz4wkjbo5EKO7atasde2VXv/76K3r16qUfSHXq1Al8CMtzggRIgARIgAQqJ/DPqtW4+KILKhSQ349ipGCeBg3oh7XrNqjv2R5aJN534GCFe21PD08sX7naVM1T3Z+b3+PLZyPJA13Jk3dj2yjvYRRS70a+2a5K90kZKZ+ZlWVe3ObbIk2obpkcjEBJCVeZOdghcdjhiBU6U1kCNhGLpYuG/froV9nu7PtJvuTMv5ykd/ks+40kwsvnn3+ORYsWYfbs2WjRooWRpd/lZlNetkoyHrFavummmxAUROf3tuJcvl1Z0v/PP//g9ttvL5/FzzYkIA9mJIhk+/btbdgLmzYnINbzR48exa233lpmNYV5GW5bn4AI9HJtv+GGG6zfOFuslICsBLruuusQHc3I7ZVCYgYJkMBZCRRkppW6nejWD2JVzEQCrkwgLS0N9cPD9BQPHTmKH//7s97OVcuyxVBK0k3XX6uF4/r1w5Gqyu9L2g9LQrGUzVMuKeTlTik1Kxdb9h9Bt7imCPb3caepO/xcS0qo4Dv8QXKQAVIqrnggbCYWV+zKvnuaNGmCyZMnn7VTWaq6YMECfP3113jqqae0UCxfmPYMHCVicdu2bWH+lPWsg2amVQiIG4RmzZpZpS02Un0CrVq1QnA1IylXv1WWPBsBubbINYbJvgTq16+vV6TYt1f21qZNmwqWUKRCAiRAAtUlUFxUiCOrlqIgPQXHVuejyeDh1a3KciTglASaNm2CZX8u12OPatwIE64dW2YeYqVrWBjv23cAA/v3w3nt2iA2LkZbF4ufYnPjrHr1QtAiNka3IfvN82SnsU/alaXfxj69cTq/dJ+xp7SO8cloz3j3UH3ottR7ab2y7wFnCchntFmb96z8AqxPOIQ85e5gqxKM+7bh/WVteFq/bun5YP122SIJuD4BlxWLq3PoxFfwSy+9hOHDhyMpKUn79WzUqBFGjBihv3Sq00Zty4iQM2bMGNOXcG3bY/3qERALcorF1WNlzVKXX3453a1YE2g12hKrELnG8IFUNWBZsYhYz7dr186KLbKp6hAYNWqUCqrjW52iLEMCJEACFQic2LRKC8Uenl5o2IWuyioA4g6XI9C/Ty88/sRsPP7wQ/q3YnAlK10luPLqtetMAe4ClIuKTh3aoWXLWB3cTiyNxb1ienoGQpRhSHhYPZdjVX5CBYXFWB9/UAvF/spXc5c4utkrz4ifSYAEnJfAGadBzjuHcx55oHrSeMstt6Bp06ZaLD5w4IBern3ODZ5DxYKCAh2MT96ZrEdAnjaLuxFZQmUpyQ8eCfxlPJU2LyPL9sXXqPzgYao+AWGZpfyDiWsX4Vs+SeCLyo6J1M3IyGDAwfLQqvFZWMuKCOEu53T5JPnG+V4+T647cq7z+lOeTPU/C9ucnJwKFYSppeMhBeXvRM53S9efCg1xh4mAsBZ2sipIXuWv78Y1xtzVlFG59AY23eKxMsrwnQRIwL0J5Ctr4sx98RpCw6794Bta372BcPZuQUCshkdddSWef/n1s873yafn4uYbJlQwPghURgkiGl94/gDENI/W+bvjE87alqtkZsm9ZkEhvJTxV49WTRGgAlAzkQAJkICrEHBry2Kx/JKAUXWVRNxZv369FqjDwsIgwdZk6TJT7QiIcLN161YdnNBHfWkPGzasjKX4vn37ID6LRVho2bIlOnfubAqCtHfvXp0nIo9YH0ue4a+rdqNy7doiem3cuFFZFiRowbdBgwbo1q0bxB2MJBFv1q5dC2EvPCUvLi5O54motmHDBgh7sQiUgGBGni7AfyolIOKZBOCUB10ihom1fPfu3REeHq7rSNBO4S6+ohs2bKivMfXqlVp6yPVnzZo1OHnyJCIiItCzZ0+7uuCpdFJOlCHnrvgmluuFWM3LMkhJ8ncg57QksS6WoI5eXl5aHDby5HiJe5AOHTrQ2l6TqvofuW7v379f85Jrjlxf+vXrpyvKQz4jX/z/9+jRw7R6RERl+a6VugEBAfpvhCtLqubNEiTgbgR864UjauAwZB89iJCYVu42fZvPNz3TvgHHrD2hfLOYN9Zuu67bu//uu3DrXfdg5qxnMG3yfWXufSRQ3JOzn1W/5fNxy03XVzrUIPX92qVje7RqGYc98YlIS89EaL3gSsu7QkZYUIByOxGjLYvrBZQNBugK8+McSIAE3JuAW4vFdXnoRSj48ssvdWC9Ll26YNOmTdq6+Y477qjwxLYux+mMfUswr3nz5mkBTcScSy65xCQGixXl3LlztXVZ48aN8eGHH2LWrFmQYyDWmU8//bS2spS8Dz74AI8++igGDx7sjBjsOmbhLCzlvBaBfvv27Tow5JNPPqldrIhgKdsiEp86dUqf9y+++KIWJ7ds2YKHH35YizsiYP7888944YUXIH6lmc5OQKwrf/zxRy1EysOPL774AldffTVuu+02LWAuXLgQy5Yt0wK8CGkTJ07ENddco0VLKfu///1PPxD56KOPdL1JkyaZBM+z98xcISAC5IwZM/T1RcRiSceOHdPXFBElRbT85JNP8Mwzz2hh+Pjx47q8+O2W83uB8pkv1xz5u2CqmsA777yjH67Kg1651sjDPEMs/vPPP/Hqq6/qc12C3P3xxx+YM2cOZAXRypUr9fWnb9++kDwR+I28qntlCRIgAXciEBARCXkxWZ/A0j//tn6jbNEqBORh9/tvvYYPFn6MoVdcjTjlczhS+S9OPnQEB5OTccetN+PacaOr1ZeIxl07dahWWVcoFBLgixDQ/ZUrHEvOgQRIoCwBisVledjtkwhmIpaJcCk+kuVG995779W+RcXKj+ncCYgF5fTp07WVmfikNk8iIIg1pYhkYsV91113aWFZRIh//vlHv5YuXaqtMB966CG8+eabFIvNAVayLT8y77zzTm2NLWKxWLuOHz8ed999N6Kjo/H+++9ry9XZs2drsXjAgAGa9aWXXqoZi4X3s88+q10pXHTRRfrvwRDfKumSuxUBCcYpIryIj2Jp+corr0CEXxGLRRST8/rdd9/V5/C3336rrzdXXXWVlT1gQQAAQABJREFUXsr/+uuv62vQkCFD8N133+Gxxx7D6NGjIascmKomIA+lRIwXsXL16tWav/wd/Pe//9UP/kTEF8H4hhtuwPz587Vg/Ouvv2LPnj1arBQh+aabbtKCMcXiqnlLCXk4MnToUEyYMEGLwMJXkgjHb731Fi6++GI8+OCD2oJYHhJKud69e2sRuX///lrEl78LaUNWQsg+JhIgARIgAfsQkO9Iul+yD+tz7WXSjRMhr1Vr16sVmkfV7/o4dGrP+AvmPNNz8hDi70vjCnMo3HYJAnJ9PnjwIJL2JiIyMgqxahWw3NdL2qZWbXfo2NHh5imrO729KWna6sCQrK3IVtGuLMcXa0zDalUsnmRJ+e7du/WS8CqqM/ssBEQ4k+XdIsqUTyLKi5sDw92HCJJi1SpJBM6O6iIoYrMkETJFwJfjwoBJGkml/8gXiTA3knzZiOgo+8XiVSz7RJyUJOw7deqEVatWacZi8SrW3ZKkjlgLimBPsVgjOes/4tpAREe5bsgDqF27dmkLbam0Y8cOfd4alpfnn38+5AGIiGUidIrANmjQIN2+5ImrELkuUSw+K3KdKdeEjz/+GBIQtVevXlixYoWpkpy7IkLKdUiSiPEi2EuSa4yIl0aenOPyQEv+XuQmmunsBMSFzebNm/V1RR6UyEMncVkj/p9lhYI8OJHUvHlzxMbG6geG4o5C/hamTZum86KiorT7ITlmFIs1Ev5DAm5NIP9QElSUCvh17qWuw24dysVu50H/vr1R3w2Cn9kNqE068oAEefSlCFOGbkpmDtaogHYRocHoEhOpVgPzt1sZQE78Yfv2bZipDGfMkxg8vfDyK9X6jT77qSexSRkimKd/33OPEjJ9MO+1V/VKWwk2LudMcXGJ/u1fUJCvXKP1wH0PTjavVmb74WkPIX5PqS/9MhlmH8LCw9Tv4Rbop+4/LrjwIrOc6m+uV/fjU6c8qA0z2rRpg6PqYZGsiLzx5ptxibqXGT1yBDZs2aYNYarfqm1Kjh01EkePHUWqcrPYWo31m+9+sE1HbBUUi+voJJCbWwkoYPjDlScisi2CD5N1CFiyXhDu4k/XSGLFLSKZCGeG71YjT8qJH0zJp1hsUKn6XZ5IijAsVqrC1whEZQj00oK4+RB/uiIkyzExfOxKntQRH7tM1SMg5664tBGxTB6QiFsDSeLSQ64pIihLkuuNvMTdivAVkdl4WizlJI/cNaqz/iPXFbEkFvceYs0qFqrm1xq5ZhgPnKQhEZRlnyQ5JuLD2EhSTlzjyN8Bn4obVCp/HzhwoH7QIRzFcnvJkiX6GEjQO7EsMPxxSwtyTZFruvgrlpd5nlzbJY+JBEjAvQkUZaQgb+925Knrul9wPYS2PM+9gdh49iKUyPedyGuyzUQCzkQgU/lsXp+YjCIl9GXnFahHTCXw1GezM82CY62MQKtWrXHvfffj2PFjmP7QFK0NbNywHuOU+76+/c6+Ei05+SAWzv/A1PQjjz2Olq1aoa36zR8YGIS7/vUvZa2bhCdnlsbKato0GneqfY0aNUbTpk1N9Sxt3DzpVhxQMTc+/HABVixfros8MHkKOnfpqkXs9PQ07E1MxPfffYv577+HXr374PkXX0LU6bhBltosv2/D+nW4bvxYjB47Fo/PfELdE/rrIruVEdKUB+7HW2/M0zzM73eMNkS7kpV+xmo/Y78t3++5/378ungxPv/sU1t2w7YVAYrFdXQaiDAjP5SMPzr58SSWxoZ4XEfDcqluDUs9410mJ8KZiJdGEhFHmEsZsag0FxAMkdgQ24w6fK+cQLLyayauEESYmTJlij7HhZ+8RLAxkmwb4rEIlsLaSLItfx9M1SMg5+7111+vRUdxJyHubcSVh/hqFSHZ/Boj1xlhKy8JBCmf5dhIOWmH15+qmYtV8Wuvvaat4+WJ+86dOzVLCaopFvPCtvw1xvgBJcfE/O9AznXj+lN1zyxxs7JuMB7cycMRcTuRlJSkxXk5f+XYGEm+T4W3fM9Knvk1Rq77vMYYpPhOAu5JoFhZdOXsXA/1JQmf0AaoF3dmdZR7EuGsSYAEKiNQUFiM9fHJyFfvAT7e6NGqKbz5wKMyXE65X35fDji94vJTtXowLS1VCbx78dWXX1QpFn/z1Vfo2q07RFxu2DBCWeNOKsNg4KDBkNd777yNQ4eSMfiCCzD+mmvLlKnsg1jOykt+4xpi8YSJ1yPkdMByo96tt9+hfIvfgr/+XKbfP/vqa20YZOSf7X2aumdvplblzXxylsmQSMq3UauG53/0MYZdfKE2NrLUxqwnZmK4Wik5ZOgwS9k22Tdo8PmIVZbUFIttgrdMo3ysWwaH/T7IUyT5oxdLQBFzJEq7fI6JibHfIFy4J7Eyk5eIYCIaiCgmScQcWaovYoHkbdu2TS9ZFjFB3CgkqidzIvTIMRHxJ1YtZaaAVr0TRYRiCTC1V32xzpw5U4sxwlGEsmbNmmHDhg2aq/BNSEiALHERoVLy5DjI8ZA8WTIuAayYqiYg1wwRwWTZfYcOHTBs2DB9fosgKeeuWG0fOHBAczeuNWLpKszlb0KOmXCX64/8vURGMqhPVdSFmzzgEKFYLIvF/7kEtZNAdnKtkeuIXDvkuEhZObfFJ7ckOUZyfsvxkTxxqSCWxvJ3wHR2AnItMa7pcs6KVbZcm+WaIQ/65Lw2rLzF8ljO+1bKqkOuP7KSQcRlaUMsuSWP15iz82YuCbg6gYIj+1GSpx5iqyXC9bv1V0vueUvk6sec8yOBcyXg7eWBxmHBkPceraLh783fbefK0hnq+arf+WPHX6OH+ov6nS/Wu5Ul+U26SK12u3LEVbqIj2+pj19L5X39fPVuL6+af98YxhLSgKXvK1mheOf//Uu3v3PnDnz7zTd6u6p/Dql7wb17E9FFuek0Vpya1xHjrn/dfY/5rjLbYvVcF0lWyDLZngAti23P2GIPIhaLn+LPPvtM3wD/8MMPOgCYCDxMtSMggo34yDVEmb/++ksv8RBxQCzRPvzwQ/z8888Q35XyLu4SJInf1gULFuCnn37SfjCNPC6Vq/p4CHMJBijuEJ566intQ1csLg3/rOPGjdNce/bsqYViETmFtyTJE4tY8S0qPnNFZBPRk6lqAiL2iuAo57KIjxLETjiKiNa6dWstiMk1RgJ6iY9dYS4im/h7laBqn3/+uf6b+P7773U98c3FdHYCIj4+//zzOkigXBskaJ2sSJBgmfIjS/wQS5C733//XVvYi7sKCfQo6bLLLsN//vMf7T5BfnxJ3u233372DpmrCYjALm4njACw4htaHq7Kd6aI7XIdkfNfBOL169drv9DiT1rS1Vdfrd1WGEK+WBUb8QJ0Af5DAiTgdgR8o1vqVQeegSHwCuBNpz1PAHlwx0QCzkRAGxU1jUBMo3D4K8tiJtcn0LdvPx2kXdwr/qjukyZcf4PFSf+9/C906tJZ31tZLGDHnWKBbKT169ZiogqyXVWSFXqS1q9dq98t/SN+kJ+e9VSFrD0qZs6WLZsr7OcO1yHAq10dHUu5uX3kkUf0kv358+droWfq1KmmJbZ1NCyX6FbERhENxP9qly5d8MUXX0CCfIlYLGLBfffdh0WLFum5ipg5fvx4vS2igwQAEzFHns6JFfI1yk8RU9UERPwVH8QSME2CeIlwKUkESwnmNXHiRC2oiRgvoo8EFRRRR9J1112nLVw/+OADbV0/efJkU54uwH8qJSCuJMR3q1xP5Ml2SEiItuo2nj7PmDEDb7/9tn4IIj90ha28S764CZG8999/X5/vckzoN7dS1KYM4WdugS3XELHMjj39oK979+5aAP766681awmUaQRrFGv6e1SwCxHnRWiWh1d8MGJCe9YNOb8lQKlc10VokHN1zpw5Jh/0t956q14iJ+ezXGNmzpypH6JIo3fccYeu99577+mHURLszvwYnrVjZpIACbgkAf1dqARjJhIgARKoLgEKxdUl5fzl5Hf66HHj8cqLL2hXFJWJxeKmQtxCSEC4uk5yP17TFBlVuqpURPGvlGYy9rQuYt5OrAomLQH0zC2iM9Xq1VlPztT3n+Zlz7YtK7u91T2rrzLaqG6S1YIMvl5dWtYv56Fuutzm8a4sPZXgTrLst7woIktTZfm8WHvJEm17JfmjFsfg8kdAdwfWoS6ntAQ8kiQXehEuxeLPnK8IDnLBsuRUXs4RWdpsKc86I3S9VoS5CDQi6JhfUsQK03yJvVjCingslq3mSeocOnRI+xg1D3ZnXobblgnIuS7ns3CWpfjmvKWGCMpyTsu1zRCRjZbkmIlVrAT8Mv/7MPL5XjUBub6Ie4TyPnCFqzy4amIhwIRc84W9pbyqe3TfEsLTCIwpYm/581muP4cPH9bXF7nOmCc5TkeOHLF4/TEvZ81tOcbiCsZI4stdzhMZZ1Zm6XeUkeeM72IZL9+jskqB4rvlI3hQBb3ZsnkLgkOCMWjgIMuFuNduBDw9vRAUHKgfTMv3opHkQau7fQcW5qajpNAQFjzgE1wa/Lm4WLluyz7DxmBkjfeffvldf1/279MLDRuEW6NJtmEjAqvWbsDRY8fRtlULtG1Tatxho64cttlDp1Qweh8vNAgJtOoYSzw84RtU39RmQXYqUFyoP5d4KCEtyDn/NuSaKnqKkeR3gblbA8kvLCg1JjLK2OM9R/12zKmhiDph/Dg8rILUyf3R+QP763vb7/67SBmedSgzZPk9P+EatXp28a/a+njyA/fpwHLLlq8oU874MPTiC7UfZLH4fXzmk8buar3//ttvuPP2W3XZ9Zu36t+z5Sv++MP3ePC+e/XuN95+B5cMGVq+SIXP8pt0+JBLtCsKybzgwgtx402T0FUZv1Tm6uGjhQvx4gvPqd+ypXGgOivjvIiIRrrtFsr13pSp00z9yO/vTz7+CMuVL2Vx25cQH48YZWBz7/0PVOrn+LDSBGbPehJr16xBgH8AAoMCdUC/6yZMRKfOnXXbwr5vz+768zff/aD3idb37NOz9XknWp/obKPUCnKxjK5OClSB/fzP4kakOm1Yo0x4/XClYXmYmjLcRsoO0VbMA6mbCtloo+YOU2w0EHs0++mnn+LRRx+16KBb/BmKxalYodozyc2uXEzd7UeqLRmLtYgIBfKSAEeWbgJEkKxMDBYhs7I8W47bmdsW5nLxki8Vg728lxcuhWt5oVjmLfUlj0Jxzc8CYS7uI8QVRXne0pocF0vCmuTJdUe48/ojNM4tCfPyQrG0JD8wKxODRbivLO/cRuEetYSznK/io7u8UCwE5OGg5Mu1p3yS4yR5lq4/5cvyMwmQgOsRkIfSqRuXI+tw3fhXdD2i5zKjUvskt7FSOhdErOMQBE5m5mDzvsNYE38QJzOyHWJMHIT9CUSqeysJpibpa2VBXD59/+1/cNXIUfo+tnyevT+LS4iXnn9OdyvWwRdfMqRaQ5Dfzk/MmqVd50mFpX/8gZtvvB49u3bG6JEj8M5bb0Kse81TexWD5anZT+ugfrK/Z6/euPzKK/VrQLkH4889+wyenfM0nnhqNr77cRF+/WOZum9thn/deQfeffst82b19jrlDmPE5cOxQ8V8WfDhx/jjr+VY9L9fcEg9fBdhXoTkypKPEojXrF6FRf/9Ef+s+BuNVMwS6Yvp3Al4n3tV56spbh4qSwMGDMAf6o+DiQRIgARIgARIgARIgARIwHUIZCVsQ97xQzh64jAiL7jSdSbmhDMRAwEmxyVw7MQpZVhVaiF6WFkXi8FBaL2KD2Eddwa1G1lGbj42JiYra1IgNMgf4UEBtWuQtZ2awFjliuLPZUvxg4qvM3X6w8pAxN80Hwki9+78BabP9tp4WbnGMAxV0pXFdnz8HmxUgeQbRkRgzrNzlTXtmBoJ2H379cf3i37CfSrGyqaNG/Q0xCJ4i4qLI6+PFi7Ago8/UQG7S1cZ9FAxiCT9pVaYbdywHvJ5yFDL8YZ+/mkRCpSFr7jruOe++/X15P/+fTd+X/IbXnnpJeVX+UZt2CTt5amgsw9NfkAbdr6/4EO0O+882a3F6n9WlFprr12zGldeNVLvL/9PYVEhCtRqz+uUW5DJD021aDxSvg4/n52AW4nFZ0fBXBIgARIgARIgARIgARIgAVcikHfiEHL27dJTqt++O7wDlfBl5obClebqyHMxd1PmyON057Ht2h2PXfGJJgTp6Rn4a8VKdFdWhk0iS5eZmzJddGPHgaPILyxGoFqO3r1l0zLLwV10ypzWWQhcdMklCFcrAlOU24NfFi/GlSOu0qVFJI1sEoXGynrV3klWk8qYjDRw8GC0aNES4lvY3PWHkV+d96ZNo/HZl1+pINHrsOqff7SF7vp165UrhzwcPXoUd9x6C/7365IKrlyrartPn774ScWKMoRfKS9uK6S/ZGUtnKx8JbdSMY4kfa6Csh9QcWBEfJYyRhJ3rZeqIOH7kvah+2mh2sgz3kXU/r87b8fDjzyKMUrgZ7IOAYrF1uHIVkiABEiABEiABEiABEiABByMQHbiDj0iv4ZRCG3dEQUFBQ42QvcYjmFRTNHYMY93alpGGaHYGKX4NN20ZSsiGgxWQpTrSwdd4ppg897DOK9ZY/h7exkY+O6mBER8HXX1aHzw3rvaFYUhFoul7Ljx19iEilgxX3jRRQhRsS4sJRFORWy1dhI/v71799EvaVviUrz68kt67vv37YP4RBYWNUlzX3gRTytrZ7n+r1+3DokJ8TpOkcQhkSRxX4y0ZfMmvSl+j8unV19/o/wu0+fffv0FD9x7j/ZrTKHYhMUqG65/xbcKJjZCAiRAAiRAAiRAAiRAAiTgbARCuw2CuKEIad25RktznW2eHK/rEThy7ATSzIKG2XKG+/YdwMlTKZV2sWbDRjQws2astKADZ7SKi7EY38N8yH5KIO7V2vpCnHkf3HYuAmPGjtOCqbhCkCBqEntk9apV2g+vLWby/rvvKD/AvSoVi63Z5/ZtW7Fq5UrcfMutFZqV2E/THn4Emzdt1MHm5L2mYrE8nH3j9dfwqQpy56tijwhLEYMDAs648zA6Ttq7V282aNDQ2FXl+7atW/HkzBk6JsnqVSvxzVdfYrTqg8k6BCgWW4cjWyEBEiABEiABEiABEiABEnAwAp4+vghp100tJ6eVYF0eGsOyuC7H4Gx9Hz5yBAcOVh7QyZrzOar8Exu+ii21m5DghRPKn7EzpxYxzZVYXHEGYu3O87MiF+4pJSBuErp26679836jLIqjmzXD0GGX1tglQ3V4ijVvYmKCDs5WnfK1LXPixAltMWxJLDbavvyKK7VYfPLkSWNXpe9vvTFP+0wW9xzi9/jacWOU2LwJEnTv8ZlPmHw+i3gswrt5atSo1KXH8ePHzXefdTsyMgqff/W1ujadwPgxV+OpJ2ail7KObh4Tc9Z6zKweAYrF1ePEUiRAAiRAAiRAAiRAAiRAAiRAArUgQDcUNYcX4O+vgjUF1bxiDWqIWHo2Fy1Nm0SaAlHVoNk6L1qoBKuUlNRKx3HgRBr2q1ePVk2U2wlKI5WCcvOMcUrsFD/F33zzNSIbR0LcK9giSeC3kJB6NhGiKxvv7l27kZmRgeCQEItFzmvfQe+Pi2thMV9c1Rhp5T8rMGTYMO3L+e/lf2mhWPwpz3xyVhl/yrm5uUYV7Z5iy5bN2q+xuJRI2nvGb7qpkNpIU7EG9uzera2ujf1ipRypfDjL6+5778OLzz+HB++/T/tfFrcaTLUjQIK148faJEACJEACJEACJEACJEACDkKgKCsDGTvXI6R9D3gFqGB2TA5BwBCJacFZ88MR2bgROnVoV/OKNaghVoB//LkC2Tk5FWo1bhSBPj27VdjvDDsylaXm70uXWxzqyYxsbFMB7ZRhMZKOpKBddITFctzpXgRycnNgLmbK7IdffgVmPfkEjipr/4YNGyKuRVnhtLikVDA1rnOWiJ0tT8pnKJczL8ydq4TPyArVS6BO0tOpqnaMctV9lyB2s2c9hTnKt7CltGrlP3p3bxWszjxFNCoNerkvKcm0OyE+HmLtK+nv5aV/d63btikjFOcrf8V7E88IwhLU7vChQ9oVxoL5H2jxWNxLdOjY0dSubMx87FFtcS0uOvQfrdpnzuK2O+7Ekt9+w6aNG/DaKy/j/gcnl6nPDzUn4FnzKqxBAiRAAiRAAiRAAiRAAiRAAo5FoKSoEGlbVqIg9QTSt65xrMFxNCTgwAS8lH+Gfn17Ijw8rMwomzaJQvcuncrsc4UPGTl52JB4SGtO4SGBaNWkgStMi3M4RwJiHXvk8GHtW1eEyldeegE7d+zQQd6kyaCgIFx2xRW69RtuutnUi1jji8XrP3//rfdJG1s2b0aOeugibcpLhGdpS0RRSYlKKE1NTdWW/FlZWbr8Jx99iEuHXIzk5IPKKveMWCztp6en4a8//9R15Z8/lvyOzMxM7ebBtLOWG+LrV8RwEazNk8zlnbfexMWXDMGAgQPNs5RrjtIHSCv/+UePRSyvm0ZHa1ZScPDg83X55X/9pRnJB5mv+BiOiYnVeduUz2SxKo6MjNTWyI/NmKn3T39oimYhH4ShBP0TS+WbJ92i2a5YUcp7584dOH78mGYp17DRY8fq+m/Oex3zlK/ko0eP6s/859wI0LL43LixFgmQAAmQAAmQAAmQAAmQgAMRyNi5AUVZ6ShR/olDzuvuQCPjUDw9xUapqIwlGKk4FoGggAAM6tcb+fkFKFAPXvx8fOy6HN6eNEQsLiouQZCfL7rHRsFbn5/2HAH7ciQCIhCPvXqktoANCg7W7hNGjxyBSy+7DC+89Ioe6vU33qR99146/DLT0K8cfikOHUqGt/pbEfcRkm6YcK36G8rX9Ty9PPHvu+40lZeNFcritnf3rmX2mX8wtyy++YbrdYA5L+VSwWj/xReew7Nznsb4a67BY8oPcG2St7cPJJDd/A8/ggisF18wWIvAzZvH4JgSYZf8+isuHjIEs59+pkI3lwwZihsUk48+XIiLzh+EU8qn8fMvvmwqN2DQIDw45SG89eYbOH9AP+U+orcSzbfjyhFXYcHHn+C2STdBROFu3bvjgclTdD0JoCeC8yPTpuKyoUP0WPbs3oPw+uF4b/5C7W6iW+eOKFDXKHGbkaNWDpw/oD+umzARjzw+A3OUhbS/ctsjx+Nt5T9ZggWu37TFNCZu1IyAhzLdPmPTXrO6LE0CJEACJEACJEACJGCBgFiSZCgfcEaqV6+eCuzhpy0ksjKzjN1O+75s2TJtcdNNWZaIRQhTRQIHlYXQls1b1A1NMAYNHFSxAPdYlYC4nzi5+jd4KCuk4Pa9EBDVvEz7EuAuKDhQ38SLJZiRQtQNp9xculMqzFWCemH+6Sl7wCe41KqyuLgARdln2FiTyf9++0OLkH1790SjhvWt2bTLtrVh81Yd4C5OBWaztRsKV4Vo7oZi+JCLlBh4xlbuZGYO/H3UdUEJxvZKJR6e8A06c/4XZCt/ysWFuvsSDy+VF26voVi1H7mmpptZpcrvAh8l2BlJ8gsLioyPdnvPUS4PcpRwy2SZgASZS0yIx/kXXKgLyGcRdHfv2oXQ0DB07NwJXbt2s1z59F6x3t2XtBexyqdxo9OuKcwriJW1WFXLb+JOnTvD1/fM39tJFZiugXLrYSmJxbC4q2jWrDmimjSxVMSq+wL9/OHve+actWrjNWhMhHFPTw9TjeTkZH3vIDsC1AM9cYNir3TmammvHtkPCZAACZAACZAACZAACZAACViRgFdQCOr3vAB5xw9XEIqt2A2bIgEScBECDYIDXGQmnAYJnBuBZs2aKTG2mamy8XnI0GGmfVVtNG7cWLuQqKycCJxt2ra1mF2ZUCyFIyIa6ZfFitxpFwIUi+2CmZ2QAAmQAAmQAAmQAAmQAAnYkoB3SDjkxeS4BLio1XGPjauPLCUrF43CGPTS1Y8z50cCJGAdAgxwZx2ObIUESIAESIAESIAESIAESIAESMACAQ+PM8tqLWRzFwnYlEBaQQnWxB/EroPH6DfbpqTZOAmQgKsQoFjsKkeS8yABEiABEiABEiABEiABNyKQvX8P0nesQ0mR/X1huhFmTpUEnJpAthKKT+aUXiPyiorBBxdOfTg5eBIgATsRoBsKO4FmNyRAAiRAAiRAAiRAAiRAAtYhUJB6AlnxKsq5itXtHRiCwJg21mmYrdiGwOmQ6nRDUTneYhWc0dOzaluuIvVwxMvLq/KGmGMikJWbj6N5xYAybA8PCkDHZo1MedwgARIgARKonEDV30aV12UOCZAACZAACZAACZAACZAACdiVQEl+HtK2ri4VikMbIKBZK7v2z85qTsAQiWnVWTm7ImX1+s/qdTh24pTFQkePn9T5BkuLhbizDIEAXx8EeXnAV4nwXeKiqiXGl2mAH0iABEjATQnQsthNDzynTQIkQAIkQAIkQAIkQALOSCD3yH6U5OUAPr4I7dgbHtWwxnTGebrimCl0Vn5UfXy8UT8sFCtXr0V4eBi8T1sPZ+fk4M8Vq5Camobz2rWBtzdv4SunWDbH09MDEf4eUM4n4OtFO7mydPiJBEiABConwG+aytkwhwRIgARIgARIgARIgARIwMEIBDRvDQ8vH3j6B6hXoIONjsOxRIAWxZaoVNzXIi4Wifv2IyUl1ZR59Nhxve2rrGTjmkeb9nOjegTk3KPTjuqxYikSIAESMAjw8ZpBgu8kQAIkQAIkQAIkQAIkQAJOQcC/aSx8GzR2irFykMplrBLsmKomINbFLWKaWyzYskUcrYotkim7M/7wSaRn55XdyU/uSYDXHfc87ucwa54qFaFRLK7IhHtIgARIgARIgARIgARIgARIgASsTIBuKKoGKtbFIhqbJ1oVm9OofDvpWAr2KLF41Z79yMrPr7wgc9yCAB9RucVhtsokKRZXxEixuCIT7iEBEiABEiABEiABEiABEnAQAiXFxUjd8BdyDu1zkBFxGCRgOwKWrItpVVw176NpWdh5sNRlR1R4PQT5+lZdiSVcmoDh99ulJ8nJ1ZqAPFTw9qSzmvIgKRaXJ8LPJEACJEACJEACJEACJEACDkMgK2EbCk4dQ+bOdSjKznCYcXEgJGArAubWxbQqrppyoXqgtH3/UZSoog1DAtGhWaOqK7GEyxMQsdjP28fl58kJ1o6AnwqW68lAuRUgUiyugIQ7SIAESIAESIAESIAESIAEHIFA3vFk5OzfrYcS1LIjvAJDHGFYHEMNCdBncc2AmVsX06q4anbeSujp2ToajUOD0bVFE/rIrhqZ25QI9PdDgJ8SA+mTwm2OebUmWlKiBeJAXz/IOcJUkUBZZ0gV87mHBEiABEiABEiABEiABEiABOqEQM7+eN2vT0QTBMa0qZMxsFPnIlBQVIz8giJlZeqhXmJr6pypcZNoHD2VjojGkcjILXDOSdRy1B7qGIovUR8vD/h6n32ZeIi/L7q3bFLLHlnd1QjIg6oAJQjKi4kESKD6BCgWV58VS5IACZAACZAACZAACZAACdiRQGjXgcjau4NCsR2ZO2tXxcoVQUp2PnLzXEdYjWnRAllaKHadOZ3r+eWngv7VD/ZX1oClJqKlwRJLxeRzbZP1SIAESIAELBOgGwrLXLiXBEiABEiABEiABEiABEigjgl4KJ+Twa06wlP5FGRyfgKlAp9t5pGeU+BSQrFQYoCuM+dKXkEhTmXlmnZsO3AM6xKTIZbkTCRAAiRAAtYlQLHYujzZGgmQAAmQAAmQAAmQAAmQAAmQgB0JiAidlU/rWzsir5Ou8vILUaSOdeLRFBw4kYbjaVn6VSeDYackQAIk4MIEKBa78MHl1EiABEiABEiABEiABEjAmQgUZqbj1KrfUJiR6kzD5ljrmIC2WC52Xv/EdYzPqbo/cioDu5OP6zHHRoShSX0GvXSqA8jBkgAJOAUBisVOcZg4SBIgARIgARIgARIgARJwbQLFRYVI37ISRZlpyNixzrUn62az8/Qsve20lRsKCWLF5B4EspUFuTwWiKgXhHbREe4xac6SBEiABOxMgAHu7Ayc3ZEACZAACZAACZAACZAACVQkkLFjPYqyM+Dh6YWQDr0qFuAeEiABtycQ0zAMESGBCA70Ax8SuP3pQAAkQAI2IkCx2EZg2SwJkAAJkAAJkAAJkAAJkED1CBTlZKLgxGFdOPi8HvAOqle9iizlFAQMi2KKe05xuBx+kGHBAQ4/Rg6QBEiABJyZAMViZz56HDsJkAAJkAAJkAAJkAAJuAABr4BghPe+GHnHDsE/spkLzIhTsETAEI0t5XEfCZAACZAACZCAYxCgz2LHOA4cBQmQAAmQAAmQAAmQAAm4NQGvwGAExrZxawacPAmQAAmQAAmQAAnUNQGKxXV9BNg/CZAACZAACZAACZAACZAACbgwAbqfcOGDy6mRAAmQAAm4HAGKxS53SDkhEiABEiABEiABEiABEnB8Atn7diN980oUFxY4/mA5QqsQcHc3FDL/oqIiq7CsSSOFhYU1Kc6yJEACJEACbk6APovd/ATg9EmABEiABEiABEiABEjA3gQKUo4jK2EroMQz74Phyv1EW3sPgf2RQJUENm3ahCeeePKs5TzggYhGEYiLjcWIq0bgvPPOK1N++fLlmDnzCaSmpCI1NVW1NxMTJk4oU8YWH0aNHIWjR48hJSUFbdq0wfc/fGfVbtLT0rF9+3akpKYgLi4OLVq0gK+vr1X7YGMkQAIkQAJ1Q4Bicd1wZ68kQAIkQAIkQAIkQAIk4JYEivJzkbZ1dalQHNYQAc1buyUHTtrxCcQqAfj+++/DkcNHMG3adBQXF6N79+74v3/dhYCAAD2B3NxcbNu2He+8/Q7eVq9x48Zh9tOz4OXlpfPbtm2LKZMn47nnn8fJkyftNun77r8fvyxejE8//cyqfYpl9NtvvY2XXnoZTZo0gb+/P/bs2YMGDRpg+sPTcfXVo6zaHxsjARIgARKwPwGbicXFJ5ajJDPRrjPy8PKDR8OB8Ahoatd+2RkJkAAJkAAJkAAJkAAJkED1CBQcP4wSJRh7+PihXsfe8PCkZ7zqkXPeUh4epWN3NjcUoaGhGDRokB78goULsV2Jwv3798PFF19c5mBcdNFFuOCC8zHiyqvwxRdfKCHZHzNmztBlIiIiMOzSYdi6dStef31emXq2/HD++YOVtW+c1cXiV195Vc3xS3z33bfo0LGDnsKypctw113/hwcfeBBpaWm4+eabbDk1tk0CdiEgD4eYnJOA+Mmnr/zaHTubiMXFyd+haOcbtRvZudZO/AzeAz6Gh3fwubbAeiRAAiRAAiRAAiRAAiRAAjYi4N80DvDxgae3L7z8Sq0zbdQVmyUBqxEwXCx4VvJwo1OnTujYsaMWhT/55FNMnTZVW90aAwgKtv/9aVBQkNG9Vd4PHTqEV199DW+/87ZJKJaGz1dC+W233arznpnzDIYPvxSRkZFW6ZONkEBdEDhx4gTWr19XF12zTysQaN26tXKP08IKLblvEzZ5jF+SuqnuiBZmK4vmhLrrnz2TAAmQAAmQAAmQAAmQAAmclYB/o2j41m901jLMJAFnIzBocKkVckFBARIT7LvK1h6sNmzYqLu59557kRBf9p77qpFX6bz8/Hwlsq23x3DYBwmQAAmQgI0I2MSyGCVFNhpuNZu1Yf85OTlWj2BrmMjLsixnW5pVzSPikMWMZQlkbt/DI9YYPNftx9w4z6VHnuv2507m9mMuPZlfX/z8/ODt7c0laPY9BOyNBColINdD8++kSgsygwScmEB8fLwevVght2h5blZt4gNZlr8HBgZWm4QEzgsLC6t2+XMtWKz8FUuSMe7ctQstW7U0NRUeHm7a3rdvv2mbGyTgzAR81CqYnj17OfMU3Grs23dsR5q6HjLVnoBtxOLaj8shW9i2bRvmzZunnfdbUwCQtuQLV4ID8Ee0/Q69BGeQl7GkzH49u29Pcq7n5eVp5pUt4XNfOrabeWFhob7p4LluO8blW5Zri5zvcp7zXC9Pxzaf5cZaLLnkR71cZ9q3b48RI0ZAfEUykQAJ1C2BEvX3mbrhL/hFNEEgg9nV7cFg7zYj8Oeff+HXX37V7U+e/GAZFxRVdSq/GeZ/MB9fffU1MjLS1T2hp64vweLuuPMOi78lxCXEU0/Owpo1a+CvfCQHBQahS9cumDhxAjp37lxplwcOHMDs2U/r70sf9VBVLIFHjx6NCy+6sNI6RsbQoUNx++23IVC5txg6dIixW79v2nhmdXF0U8YQKgOHH5yaQEhIiFOP350G7306sKg7zdlWc6VYXAOyhw8fRps2bTB+/Pga1Kq6qNzgylPoFi1aaCuoqmuwRG0JyA8y8UMkwoJE8WWyDwERLffv34/oaLX0VFlcMNmegIiW6enpkFURPNdtz9voQSx85CGgWNmIhSuT7QnI9Vy+p0UcPnjwIHYpiye5AWYiARKoewKZ8VtQmHoChWkn4dugMbyD6tX9oDgCEjhHAidPnVLfM8m6dklJMQ4eOIi/li/Hu++8q617p057CNdcc021W5fvqjvuuBMrVqzAm2++AQmWJ2nVqtW4ZdItWPbnn5g//wMVNO+Mf++1a9fi1ltuQ7169fDRxx/ivPPO03UmXDcR48ddgyW//1bp7z5ZdbNatZ2SkoJGjRrh8isuR3SzaF2/qn/8/P0w/eHpFoutWrVK75ffPQMHDbRYhjtJwJEJJCcfVH8TjfWDFEvjlOCNcm9Vv359S9ncVwcE5H7LSwnEYixSWcrMykRgQKDFh26V1eF+gGJxDc8CufG3trN+ES7lwiNCDi3QanhAzrG4MJcLilxcrH08z3FIblFNxByx+BPmFIvtc8jlB40sY8zOzua5bh/kuhe5UZJznWKx/aDLwyg53+XGV268k5KS7Nc5eyIBEqiUQO6xg8g9ULo0P7hVJwrFlZJy7QyP00Hh5De4s6c/l/2JY0ePmqYhc0rcuxfyPXTZ5ZehR48eprzqbLz55ltY+sdSzJ37rEkolnp9+vRWFsCzcN999+PFF1/CI488rJvLy83Dgw9M1vePCz9cYBKK5UG1CM6S1qxeA8OHsN5h9k9RYZEe68TrJ2Lq1IcQbIXAe/Kw9pNPP9W93Hvfvfr3j1mX3CQBpyGwbNkyxMbGlvm7EK0mISEe8jc2ePD5TjMXdxioaDp/r/gbUZFRiImJKTNlEYnFd3xRUSG6deteJo8fqiZAsbhqRhVKWNtVhPmPJmu3XWHw3FGBAJlXQGKzHeaszbdt1iEbLuPahsztd0KYszbftt8I3Lcn8nbfY8+ZOyaBvEP79MD8IpoigC4oHPMg2WFUxv2OK1yjR40aifsfuL8CNRFq77zzLnz15VeYNn0aJk26uUKZ8jtOnjyJea/P05Zxwy8bXj4bl156qXJHMR0fvP8BbrzxRrU6ryk+/ewzvVKvZ8+e6NKli6mO+Cy+7LLLkLQvCT1UnqW0efNm3HH7nXj00Ucwbvw4S0VqvE+O7UNTpiIjPUO5s7gad911Z43bYAUScAQCTZo0RUJiIhITE+B52p1BgXoItGrVSj28Fi1aciW4IxwoszGIVXGzZs2wZ/dufV308S21MJYHWLv37IGHKtunT1+zGtysLgHP6hZkORIgARIgARIgARIgARIgARKoCYF6nfshqGVHBLevmbVlTfpgWRJwBAL9+/fH1Ice0m7unnryKSxTFshVpW3btuvysqzdkoWvuH2QFXnitnDLls26uc2bSt9btjwTXM7oZ94br2PRov9qUdnYZ7z/ovwpi4uKmNgYqwnF0vaCBQuxXLnhEP/Kc5+ba3THdxJwOgLyMKulcg0qyQjmqIKQ6M8iSsYqi2MmxyPQvFlzvWpZLIhzletFSZmZmVoobtCgAUJDQx1v0E4wIorFTnCQOEQSIAESEALHjx9H3759ddCShIQEQiEBEiABEiABhycg7gcCY9vC07tyf4IOPwkOsNYEDItiw8K41g06aANjxo7RVsIyvE9Pu2U421DjleWbpLPFNzCCa+3ZU+rOZa9yeSGpQcMG+r06/2zduhUzZ8zUosmqlau09XN16lVVZsmSJZj11CzccusteP6F5+lSsSpgzHd4AmJd7G/mH9wYcExMLK2KDRgO9i5CfkwlQn6rVq0dbLTOMxyKxc5zrDhSEiABNyewePFitQxqlbIs2YJvvvnGzWlw+iRgHQLFKRtQknfcOo2xFRIgAU3A1QVBHmYSqIyAiL7iDkKSIQRXVlb2Ryg/+5Jy83L1u6V/spTfTUkSwFVSo8aldcSIoLopKioS3/zna7z73js6bsvMmU9g37591a1usdz6detx97/vwcMq4J24tTAeCGzYsBESgI+JBJyRgLl1sTF+WhUbJBz33bAuNh8hrYrNadR8m2JxzZmxBgmQAAnUCYEhQ4Zo33StWrXCyJEj62QM7JQEXImACFrFO55H4d83oHDXCygpKl265kpz5FxIwN4ECjPTcOqfxShIPWHvrtmfExBw9QcJx48dh/ghltSqddUWbe3bt9dlU06lICsrS2+b/yMBWw8fPqJ3dehQWrb9eefpz3sTSy2MzcvLtgTjWrNmTZnd4rIiKioKnTp1UgHz7tWBjyVwngTlO5eUEJ+A2267HY89/pi2KjZv4+uvvkLS3iTzXdwmAaciUN66mFbFjn/4LFkX06q4dseNYnHt+LE2CZAACdiNQOPGjbFx40bsUUsW27RpY7d+2REJuCoBsR7x7vEKPKIvRUnqDsDTz1WnynmRgF0IFBcWIG3zShTnZCFj1ybl6rHU16NdOmcnJGBrAtU4n59+eo5pFNddd51pWzaMvwfjXfa1bNkCl1xyMYqKivDLL7/IrjJp6R9LkaN8cPbr108LvZJ57XXXQlxTrFu3DuJeonx69NHHsHhxaVtGX8a7lL3jzjvQtVtXbFQWwC+//Er56lV+Pnr0KEZdfbUeR79+fZGUlKRf8cpNhlgbL1u2TAnlrapshwVIwFEJmFsXe3t701exox6ocuMyty6mVXE5OOfw0fsc6rAKCZAACZAACZAACbgGAb+G8G5zr7qJL1ZLaEufoRcf/lmJxxvhGTMRHoHNXGOenAUJ2IFAxo71SihWQWW8vBHaqbdpWbodurZ6Fz/++CO+//57nDp1Svug7dWrFzp06IDLL7/cKn2JRefYsWNx7NgxfP3119rq0yoNsxGrEhCRNS8vD0eOHMHOnbt02/HKqjY9LR0BgQH6s+Tv2b0Hb771Fn5VQeQ8lZ/uadOm4vzzB+t8CU6XmZGJDevX68+rldXviKtG6IB2UvbpOU8r0fcqzHh8Jlora+SOHTvqctu378DkKVPQsGFDPPf8XNPfkxgPzJg5A1MmT8FDUx7CO+++qwPaST8//PADlv+1HD/9vEiLzCv+XqHb2rFjJ8TqOSw8TLuhkHNPxOJ5r8/T/pLHjRsLabeqlJGRgZtuvBkZ6Rm6rtS3lGQVHBMJODMBsS5OSExEk6gm9FXsJAfSsC7es3s3aFVc+4NGsbj2DNkCCZAACZAACZCAkxMwhGI9jcJMFB/9B8WHlsKr+xx4hnd38tlx+CRgewLFudkoSCn1oRp8Xg94BYbYvlMb9ZCoBILZs2fj77//1kLxzp07IWLxRx99ZOrxXSXQ3XbbbabPNd0QazVpr379+tolQE3rO2t5cwtXZ5iDnAPXT7yhzFB/+uknyMs8yfFsHtMcV1x5Bf7973+hbdu2puw//vgDd9x+J3x9fRFSLwS//fobFv13kfYffNFFF2lfxIsX/w9PPPEERo8eg9YqIJP4MN6/bz+GDRuKJ558Qp8npgbVxujRVyuBOBrTpk7D0CFD0a1bN+zesxv1w+tjwcL5pS4nOnZGfkG+tkLOzs5G//4DMHHiBDw+43EdlM7f318Lx2/MewPvvvMuNm/ZZN6Fxe1FixYp0XynxTxjZ2RkpBbCjc98JwFnJCDWxW3btIVYqDI5DwGxLs7OytbBPJ1n1I45UorFjnlcOCoSIAESIAESIIE6IuDZbCw8Ii9VYvH38AjtpEehBY7sffAIiq2jUbFbEnBsAp7+gQjvczHyjyXDv3G0Yw+2itG9//77GDhwoBaKpWi7du1g7lJArIK/++67WonF0m5wcDACAwNl0+WTWNA6Y5LzYG9SYq2GfvHFFyM+Yc9Z26gXWg8vvPgC5jwzB7uVVZx854jLMQmYV1nq06c3/lj6u7YYFgvI5s2boUmTJqbiW7ZuNm2X39i+Y1v5XdX6fM0110BeTCRQ1wTkb6RYveRdhF1bpIang0oWKat9ayc9bmlUjd3LSa+P1mZijfbEutjwBW+N9ty5DYrF7nz0OXcSIAESIAESIAGLBDx8QuCl3FAYqeT4UhRtmQOPiN7wanEzPIJbGll8JwESOE3Ayy8AAc2cf/l5hBIInn/+eS2K9ezZU8/unnvuQW5uLlJTUzFjxgwkJCRg165dCAoK0haeUkgCi/3+++/o2rUr4uLiTlMpfZO6f/75p7YivuCCCxAWFlYmX1wIiEWzWKiGhoYiPDy8TL6zfxBhhKlqAmJ9bLihqLp0aYmIRhGQFxMJuAOBoqJiZKnraWFxkctM1wMeCPDzhb/6+3elJNf9/KLCUn/tp78DnO2b4MxjCE94e8nLy5UO0Vnn4pyPeM86pZpnStAA+bEnL/khx0QCJEACjkogPT1d+0901PFxXCTgqgQ86veBZ6vrlS/j7ShJWeuq0+S8aklAApBmZWVZbEXEwAMHDkB8frpKkhtBVxQBx40bp10G9O7dG507d8bkyZPRtGlT9OjRA/Hx8VrwTUlJwc8//6yDecnx3L59uxaJxa3EvHnzcLUKACZByyRJQLABAwZg+fLlkKX/YvV04sQJnWf8I76RpS9xS7BiRamfWSOP7yRAAiRAAhIkshjp2VkuJRTLcVXfpMhWvs/zCwpc5jAXFBYhNTMLWTm5yM7NU/PL168c9e5ML2Pc2co1ULpy55OhXq74u8fSief2lsXyw2769Ol66YL8uJen/M899xxiY2Mt8eI+EiABEqgzAvJAS25cJZDKkiVL9I1nnQ2GHZOAmxHw8A5UlsbXwzN6jFoyeMaqoHDPq/BqdJFyV1EakMjNsHC65Qj4B/hj2Z/L0FQFxgkJOeOzV0RisRqVpbKDBg0qV8t5P+bs2438U0cR0lFZ3Pv6O+9Eyo1clvJv2LBBWxfL9+0rr7yCzz//HKtXr4ZYGh8+fFhv33fffaaa8h0tDwTOP/98XUask9ergGbi61juNTp16oQnn3xSf4eLD0wpL4HLjCT+i5955hnl7/bfOkCasZ/vJEACJEACpQTylJjqbJapNTl2Ihj7+vjUpIpDlhUxNUPFMXDFVKAeAotle3BAaYBTV5yjMSe3tyyuV68e7r77brzxxht4++239VKyp556yuDDdxIgARJwGAJy0ymWxSIWr1y50mHGxYGQgDsR8PAKgIfn6WWCucdQcmQ5Ctc+gKKtM9wJA+daCYHoptEICgzCoUOHsGv3Ll1KjBG2bt2qrVFbtmxpM9+KlQzJZrvzU44hK2GrDmqXl5xks37qomGxEBdXEHJPIFa+SUlJ2j3El19+WelwRo0aha+//loLvi+//LL2d2ysWBTXFN27lwbKFB+0W7ZsMT3wlZtqEZ3nzJmjgo9NpFBcKWFmkAAJuDuBwiJXloqhfTC7wjHOV379XVnVL1DzcwfrYrcXi6OiojB48GAdDEB8i3Xo0EH/ILT0Ryo/7mwRnEHalJc442ayHwHhbYvjab8ZOGdPYlXFc/3cjp3ciN5+++36ZnLSpEnVasTgbavAD9UahBsWEt7Gtd0Np18nUzb/HpVtu5zz/o3gPeBjeLW9Ex7hXU3zLil0TWsK0wS5USkBOe9atGxRmn/6nrakuHRDfNuaB5+qtBEnyCiS5ZhbV+uR+oRFICC2rROMuvpDnDVrlg4yZtQQFxTXX3+9Fv2Nfcb7f/7zHxQoa7f58+dj+PDhGD9+PB555BGIOwpJ4oJC7iEqc08i54y4uZC68h3vqsn4ze0ON9iuegw5LxKoawLFsH6gubqeU/n+XeEaWXjaBVP5ubnKZ/lVJ8EVXT25vRsKEa0M4Up8yH311VcVfqitWbNG+yMTH2WtWrXSywhlmZm1klwQTp48CbFisMvNrbUG7uTtZGZmal9y4rOayT4ExHefBIaRKOLG3519enadXqZMmaInI9cMeVWV5PqSrXwrCXOe61XRsl6+sBbm4tNSghUx2Z6AXF8kuJQIMvv379fnve17VR4plJWxR/TVZboq2vwwPAvz4d1wJApDupXJ4wfXJyDWxYkJiRXOQVeyKi5IOY6S/Dx4+PppFxSu9vtVvjtlxeELL7xgOmEloN1NN92kP8vKROM7eO3atRg5ciQWLlyIa6+9Vge227dvn74OSTviwmL06NHav7G4o5Ak7iw2btyo7znknqJ169Z47bXXdGCzd955p8K9iK7Ef0iABEjAzQm4g6WjfG84+3fqmaBwbn7COvn0eQd7+gDKDaY8ze/WrZu2CDA/rpGRkTqghfzRimWA+DW2plgsbcnSclnuZjx1N++f29YnYFyE8/PzK0Sjtn5vbNEgIOKZLMmUmywfF/DHZMzLkd/l+iJipXAvH3ndkcft7GOThyFyfRGfpRLZ/P/Zuw7wuIqre1StXqxqWZIlW+6994ILvYQOof20kEAI4AAJBAgEbEjovddAMCWEFpoJxjY2brh3W7IsyZYtS7K6rLKrf87Ib7WSV31X2nLv5+d9ZWbezJmnV87cOVfM8Qjw/kLM+Szl0p0kvXevk1GX8R6C9z+N4sHPAT4hjgdAzuA0CPB9kd7FW7dstdTJnbyK2aiA+CR4K6KYbfXp4T5axUaH8X380KFDevYhZ/UwxgkH/+bOnauTUIeYusPUF46NjdXv79deey0WLFigCWbqEd9yyy245557cOONN2oy+YYbbsAll1yitYt3796tSWTKTtAr+frrr8eLL76o8Zw/f772an7ssceM6rjFL9+9aa5OgrhFZ0gjBAFBQBBwIAIM2Ofu5gX3p8SFLFZXsUEUM8gEp51ZByThRc4pg3FxcdpL7MCBAw4hXBgRmS+d8gLVNbcVvrByIYFmTBPsmjN79ln4QUSPbmIuZHHXXAv0tiRxSbzlWu8azHkWEg28v0RGRupBxq47s+eeidc6Pbo5GEWyuDvvMd69TkdVxExUHlFkoUEUl2fAXKK8MXtO9dxO8qCWN/UudievYqMb/XvGGqtu93vvvfeCfUaCePPmzTpo3ahRoyxOHUFBQToAHgPdUaKCRpkKehDT4zgpKUnvY4wBOprQ6HnMWYx8D6IMHu3dd9/Vi95Q/9Ej2V3N+Maxp8ONu2Il7RIEBAFBQBAQBLobAY8ni/lCd9NNN2mCmKP/9PygZ5K1JxiJFi58yeFib+9f65cme5fd3ReYs57f8Cx2RH86a5udoV7W17f1ujPUzV3rYFzrbJ9g3nW9bDwv5B7TdZiTLKbxOifu3W1eXj4wBR7XrmVlDn8F08Fv4RWcCK+Um1EXlNbdVZTzOxABXoOGd7E7eRXXqdkqXupvzN2NRDGNA34zZ8602Vzeawyi2EhAEpmLYQZRbGzTIaWpU4pxTH4FAUGgbQjUdf8jvm0VlVSCgCAgCLgwAh5PFv/yyy9YsmQJBg0apKeSkbjl+sKFC53iY9OFry2puiAgCAgCgoAgIAgcR6Au9Sb4RI+FKfMDwDdCcPEABAzvYnfxKj52YB8qcjIQPnwifIJEWsUDLmGHNNEZBvMc0jAptMsQEK64y6CWEwkCgoAHI+DxZPGECRPwxRdfaM9heuDRQkJChCj24D8Kabog4MwIrFq1Sk+1P+mkk5y5mlI3QUAQaIKA9jKPmQVEzUBdWbk+6lWZBf+9j/j1fFMAAEAASURBVKC217kwRc1WYp4+TXLJpisjwD4fNmyYW0gA1ZYWoWT3Rngpp4qK7HSEDhzpyl0jde8GBAyS2FFalrp8zio5/j3XDU2UU3YJAl7wUzN+xQQBQUAQEAQci4DHk8XUNRw7dqwFZRLGMlXbAoesCAKCgBMh8NNPP2H69Om6Rh9++CEuvPBCJ6qdVEUQEATajUBdNep8guC37yV4Ve5HbdJ17S7CFTN4VR2Gd8FieFceBMzVqglmV2xGm+ocz1SFbUrqtInMZm8UHOqriOIe8PVTWuxen8Nrz2fH66skKbz9URcQrwY85qrfBKdth1TM/REIC/RDSQXvKWLuikBQgK9y6nLX1km7BAFBQBBwHgQ8nizmKDT1iMUEAUFAEHB2BIqKiixVZNAdMUFAEHBtBKhbXD3kMXiXbEBdD00r6gZ5l2yEOWSoIuH8XLuBNmrvXbQKfnufhFddrY2jsssZEaipiYa5doCK+12NGP+v4VtcabOaPrlforbv72HqOcPmcdnp2QgYMzgdiUJIgD/MStC2rJKEcf2MUUeeT8ruSgS8QKI4PNC/K08q5xIEBAFBwGMR8Hiy2GN7XhouCAgCLofAmWeeiTfeeAMVFRW45pprXK7+UmFBQBCwjYA5bLTlgFdNIfx2L1C6xqGoTVDyFLFnWY65/EptKfzSnxGi2MU6MsAvH3HeX8NEz2If20Qxm+RVZ4JvxvMwhw5DnV9PF2ulVNfRCFhkKBwoE8FzhAf5I0wRijW1JtSqc6nw5Io2tg9xXFdnxq496Rqqvql94O/nnsTl4bwjKC0tQ0REGKKjohx9aTRbPvuOpD89if18VcD54y7FFdU12H0wH/0TohDs75590CwockAQEAQEgS5CQMjiLgJaTiMICAKCgD0QuPrqq+1RjJQhCAgCTooASbbqQQ/A98Ai5XG8xa3IYp/iNUrKoMpJkZdqtYSAv08J0IaJePQY9z66Ul23Z7ZUnBwTBByKADlFfz8f2JtGNJlMyMnK1nVPS0lGkL97fkofLchHzoFcpPZJRnKvOIf2VUcKX59+AKX0HldjAKNSe3WkCMnjJghs3LAejz7ySKPWnHfBBTj/wosa7bO18feFC7B50ybLIR81IPHK629i9aqf8ebrr8FfDUR4eXvrASezGigym8yoqqrCo088ifj4htlgRgHM98yTTxqbNn8jo3oiNbUvTj3tdAxVMQ08xaSfXLOn3fMJ55p9IbUWBAQBQcDuCBiePHYvWAoUBAQBhyFQFzIENQP/pqR8G6QafA6+p7VhTTFnKNIuyGHndmjBVXkOLV4Kdw4EvKqPOEdFpBZOhYC8jzhVd7h0ZQYkxOAXRRjnHi1FSkwEIkICXbo9UvmOI9CvXxr+eOefsH3bNvzt/vt0QVnZWTj3/AtajEN1KDcXr7/2qk4fGBiIJ59+Fj0Vkevr64vhI0bi5ltuw6qfV+LpJ5/Qac751bk446yzEBnZE3FxtgdQBg4ajPl33IkNisD+x8MLdb7rfnMD5p18sqqLD0pKipG+dy8W/etfePnFF3DeBRfioYUP63PqxG78n/STa3auikohJggIAoKAIOBuCNTW1iI/Px+56mWourpaTeHjVD4xQUAQcCkEvBvG9L0rD8A3exF6bP4tvGoa9MtdqT1eKqCfmAcg4Cb9nJOTgxtuuAEzZszAW2+95QEdJ00UBFwDgdjwYPQ8ThDvUHIUYp6LQGhYGMaMHYvLr7wSUdHRSEpOxuFDh7B82dIWQfn3xx9h0uTJOg3J4dlz52LU6DGauO3ZsyfGjhuHq65ukPy78JJLMOuk2Rg5alSz31QRERE639XXXGs598mnnorRY8bqfNNnzMT/qWOff/U1+qWl4RNVhwcfuN+S1p1XpJ9cs3eFLHbNfpNaCwKCgCDQLALl5eVYsWIF3nzzTbz33nv48ccfwamTYoKAIOC6CNT0uxPVQx9DbfwZSg82or4hpnJA6QC7jtlHN9R12uuhNXWTbn7ggQcwdOhQXHzxxThyxDm9pUtLS7Fo0SKXuNC6IsCdSwAhlbQLAoMTYxEW1AMDEqLtUp4U4voI+CjJiAuOy0989OEHzTaI96Jvv/4ap52uZmop8/GxTYn5+DRoL9XrZzdbZKMD1vkaHTi+QXmLSy79td5a9K/3tMexrXTuuk/6yXV61vZfhuvUX2oqCAgCgoAgYIUASeEDBw5g1apVKCsr08Hw6B2VmZlplUpWBQFBwBURqAtKhanXxZaq+x76GD023aD0jd9yMdLY0gRZcUsE3IMt5kDr1KlTcdNNN+GOO+5wyp7auHEj9qppzWKCgKchQKJ46qA+iBIJCk/r+hbba8hP/PD99ygsKLCZ9ueVK7Wnb4CSn+gui+9Vr7VN4poSGp5m0k+u0eNCFrtGP0ktBQFBQBAAXyiefvppPPzww1pawhoSBlzYs2cPlixZgqVLl4LexYb0REVFBTIyMlBU5JpT163bKeuCgCDQgIApag7MPcfC5+B/4V2R3nBA1gQBQaBTCPB5SgknDr5aD7b+8ssvesbO5s2bLeXzOJ+7TLt//35s377dcozlfPDBB1oWyrJTrRw8eBAfffSRngVE2SjDiouL8Z///Af79u0zdll+d+zYofPs3LkTu3fvxjZFMMyfPx+HDx/Grl27UFhYaEnrjCveyuuPJh7Gztg7UidBwD0QYOC5GTNngvfVT//zic1GffTBIlx48SU2j3XVzqNHj1pO1VfpLnuaST+5Ro8LWewa/SS1FAQEAUEAn332GW699VbcfffdeO211yyIkAxeu3YtvlZTqkpKSnSEXupm0cuYH2WcDsU0/GgVEwQEAfdBoC4gETWpf0T1yBdgDhtV3zBTBXxz3lC6xs5NHLlPL0hL3BGB75VXGmfn/O9//8Pq1at1E6+++mp8+umnGD16NN5++239POYBHr9S6WVec801uOWWW7R0BYnbl156Cb///e8xZMgQUNLiscce0+V8+eWXOOWUU/QzmuWfe+65ej9J5lFKD5N6mc8//zzOO+88i4TUzTffrMnhESNG4J577tEDw5s2bdL50tPT9fPfmtTWB5zsPyGJnaxDrKpTW2vS5JrVrhNWa2pqYTabT9jvLDvU666qn3vManAWTF21HhdcVD8Dy5YUBR1nsrL2Y8TIkd3avM8//Y8+/5y58xAbG9utdemuk0s/dRfybT9vQ+SUtueRlIKAICAICALdgEAvNWWJnjl8We/du7elBgVqmhU9h2eqkXR+lHI0vV+/fli3bp3+0IyJiQE9j7OzszFSvRxRK8vdjO2j3AY/RkmU8yM/ICBAE+fu1lZpjyDQFIE6/xjLLu+yHfA59I1avkVt0iUwxdUTUZYEsiIICAKtIvC73/0OTzzxBC5RQY0mqyBI/1LR6+k9zGctjcRveHg45s2bpzWNv/vuO2zYsEEP3P7000/6mXvbbbfp5zB1jxcsWKBJZJZLUpkxBc444wwsXrxYE9B8dtE7mM93PsvHqeBKfHavX78e48ePB8s/++yzMWDAANx///2gl/GFF16Ib775Ru/jQLKzWXllJbL2ZyO1bwoCbLx3FBWXIks9t4cNHqjfbZyt/p5UH29vLyxbuQa9E3ohNTmxUdNJEqdn7kfekXzMmDKx0TFn2SgorcD27DzEhgVhoNIyFvNsBE6aPUcHu0tXEj0bN6zXgesMRD5TJO3Z5/zK2HT4r9lktgzElKiZI7t378Kbb7yOdcrJZ+q06Xj8qacdXgdnPYH0k7P2TEO9hCxuwELWBAFBQBBwagQmTpwIehIdO3ZMf0iysjU1NeBUph49eqB///7w8/PTy6BBg/Q2vYsZAIceS5wiyymu/AB1J2P76QXGD22S6YFKg4wf3MTj9NNP15GN3am9bAv7nQQ5+5t9z37lNskLbot5LgLm8LGoHvGCIos/Ql2PhkElmKsBb/cbKLLV0yTe9h86ht055egdE4ABicHw8/XSSdfvLsaYAeG2snXrvlpTHXx96uvYrRWRk9tEgGTt4MGDLcco80QvX5K9JH357Jk7d66eyUOy94svvtDPanoRc9YPLSUlRXsEM1jemDFj9D6SzVxo9DBOTEzEI488ogd6OSuIz3van//8Z/08Cw4OxgUXXIBHH31U73fm/4LVs7i4VHlnL1mOvn2SLPITlRXHsHrdBhzOO4IRw4YIUewEncjrNyU5CZu3bkd6xj492M5qHVXvFt//uEy9c9Ri9MjhTlBT21UoO1YNLhVVtUiKjUSQv5/thLLXIxDgu/G5556H1159BfQuHjW6/n7LxtOj9/W33ukyHG675WYEBQVZzhcWFqYG0Prh1TfexMxZJ1n2e+KK9JPz97rLkMWcVsJRTzFBQBAQBDwZgWHDhjVqPj8k8/PzwZcP65cRvvgbi6+vr/a2pQfyoUOH3IospqZkptKLpIYjiXEaiaKEhARUKq8m6j6SNHYny83N1QEMqY0ZGRmp+5P9SgKZwZjoXc6+F/NcBOr8o1Gb/LsGABRR3GPLjTCHD0Ntr4sUiZzQcMzN1n7eVoRr/7EFJRUmDE0JwcH8YzhUWI2bz0/GWZNjMeX3a1D4+WwEBTREOe8uCKb9fhUOFFShsKRG13Xl85PsWpWislps2luCgtIa9O+tPO6SguHvJ/eGjoDMGTmcsWJtlHfix65hlI8wLCQkRK9edNFFSE1N1eu33347DK1j5m1q9DZmID3KSjHPK6+8opNQk5jPNN77GZfg8ccfx1NPPaWlLazLoAYyvY2dyQb2T8PylauwJyPTEkdh3/4sXcVANfsnOdF970XO1A9tqQv7Ys/eDFSq98rq6hqdpaioWP+GBAchMSG+LcV0S5rk6HDszzuK8qoa7DqQj9Gp9cHDuqUyclKnQOB8de8lWfyVGrD7y71/1d9Im5XDTVJSsv4msmcly5RTjq96FnBGY1N7cMFCpaE8q+lu2T6OgPSTc18KTvfGuDu7HD9tLkR1TWNNpAXvpuPyBZtRrF58xQQBQUAQEATqESAhSs/a1vSuSCSTWGRQHXcyEsMkSUkUGwH9+BsaGqp1H40pw+7SZmpSc1ryli1btDcx20eivE+fPkhOTtbBlTgoICYINEKgrhamqCnwLlgN/z0LGx1yp41Viig+6ba1mDGyJ/a+NwPfPjoOW96chiVPTcAXK/Iw9fer1awDDiid2Or8YuWVdqx+wOnEo47Zc99VaTh9YjQqq2xUqBOnNCkv5b+/n4GE85fghse34cG392LcDavQ99fL8N737vUM6ARMrWblDBVjEJLevCR6DU9fzuZgHIDzzz9fl2Odljs4E4j3ZUpSGLZw4UL9HObMn6+++srYjXvvvVc/m6mDfOmll2qimIOBWVlZevCTgW1vuukm/VwjGUyimMdpfNYZ93wG33M2i4wIQ2xMtK4Wn9fWltYvVQY2rQHp5nUOMvdP62uzFv3T+lnesWwm6OadfO8bmFg/a+5IcTkqlSe0mGcj0E8FjRszdqwO+P31f7/UYHysvIwdEdjuqScex88rVng24B1svfRTB4HromxOQxaXVdbilDvWYdjVKzF7/i+IPfcHvPJFtgWGe69Mw5INBTigPETEBAFBQBDwdAT40VVeXq4/JvnxyqmrLRm9oqKjozWxbMujqaW8znyM0gv0uuIHPbWauVCGgh/j9MQike5O7eXgAGVF2E5eA1woO0E964EDB2oc6GXc9KPcmftQ6tYFCPgEoTbxGlSNfAXVfW+znNCrdBO8Kuu9/Cw7XXjluke3om+vADz7hyFKI7XhFXdYagi+/sc4hAY1P6Hu1ud2YvG6/C5t/cnjo3HHxbbJmc5U5KF39+LFz7Kw4rmJ2PnP6djw2lR8vmA0+K599SPb8Ox/6onGzpzD3fMyMB3vpZR/+Pe//42TTz4ZDz74oA46R89eBp977rnnMGnSJLzwwgtajuKdd97BQw89pKHhAC2D0r744osgScygdJQJSkpK0uW9++67+Mtf/oL58+eDXsh8Xl177bW6HJZPjWMGy2M+yl2QyPvTn/6EJ598Ev/85z/xhz/8QZ+H5DKlLu68806tdeyM/TJowImzewLUc0u8ip2vt9gn9Pi2Nmf3KjbqGhceggEJUZg2pA8C/Zq/1xvp5df9ETCIYUpR8P15g9IvnqJm4Nnb9u7dg7hezut5b+/22rs86Sd7I2q/8pzmTvrmNwcUGXwUt1yQhEtm90JO3jEsWnIIyzYfxet3DEMP9dIfHuyrRjXt13gpSRAQBAQBV0SAxCiD1VErMS8vT5Oj9DAlGUyNw6ZG4pBSFPxQJcnIPCkpKU2TudQ220SSeNmyZVqrl9rEbBexoa4kpSfoRe0u7WXnsG2UHCksLLSQwcSBGpYkG9j/6enpGhcGOLSWJXGpzpXKOg4B31DUqcUwv6y34FWRDXPkGNT2uQl1fs6n5WvUtbXf7MOVSqO4EpfOjbPoE1vniQ73x92Xp+KOF/dY77asZ+aeKAtgOejAlZCgE+/ZnTldTl4lFvwzEx8/MAKj+4dZijplQjRuu7CPPnbXK3tw3rQ4redsSSArjRAgEczF2kgg//a3v9X6/wwoZzxvb7zxRnBpagwou3LlSv0sokSFMUWZUkGrV6/W+ykhZUhWXHHFFdpTmZ7CJJVpHBDlgCCfcUzL515cXJzlVNOmTdOB9SjJZC2DYUngBCsR4aGIi43RGsVGddLSUi34Gfvkt/sRMLyLqV1smLN7FRv15G+/+CjrTVn3cAROO/0MPPTA/VivZl08/+wzOOXU0+zuIU8JCkoHxccJWdzRy036qaPIOT5fg9uF48/V4hmyDlUiRXmDPPrbQRirAo+co15i3793JE4ZF4VfP7QJ5ZUm9XHcYhFyUBAQBAQBj0CAuokbN27UXsWUYKCnKafHkixtzkgqkjzklFXqHrq6FRUV6SjzbMdZZ52FCRMm6CBDjBZPD1uS4yRRSZC7g/QG+48B/ChBQaJg+PDhmjjo27cvxo8fr73S2L88xuvDHfrY1a9RV6h/9aAFyuP4AnhV5aHOJ9gVqtxsHfccqCd7f95a1GyaMybaDu65LbMM63aXNpvPlQ6s3lmvMXrFwi3YmdVYY/fXs+v1Yatr6rBqR/M4uVJ7u7qufLZQXsIgittyfnoNG0SxdXruN4hiYz/v4wZRzH1GwFISxTRroljvUP+xDGclio06UrvYMHoV90m0Cr5pHJBfp0DA2rvYVbyKnQI4qUS3I8DBNWvj/fSMM8/Su1556UWcf4H9Nd2ffeZpXX6klWa9dR1k/UQEpJ9OxMRZ9zgNWTx5WCQCraYMGoBdcUpv3HVZX00Yl1SI/pCBi/wKAoKA5yFA2Ylf//rXuOSSS5CTk2MZHadWIqdXUc+2JaM8A71PDQ/cltI68zF6C9O7ihITs2bN0oEq+OHOj3guRnA3tpcf0EbwN2duU2t1Y9+yz3v37o1TTz0V55xzDq6//npcfPHF2pOa7aZRjoIBl44cOaK0WRtr/7d2DjnugQgoeQpTr0tQPfQpwLv+GvIpXA6/3ffDq2xnK4CY4Q3neS9LjKmfOp15qApvfp1js+5picEYkBioiL6GaWol5bWY//xOrWVsM5ONnXRgqKpu399XYUm1jZLsv4t6xTTqIJMEt7aeYQ3B2DIOdo8ntXV9ZN1zEDC8i9nifv1S2kW2ew5KztFSw7uYtXElr+Km6FXXmlBYJve5pri44za9exnMjlryb7z2aqNgpBeo92Ta9Bkz0UsN0BlGJ4ytytGGtlfpzzcNYMr9Gzds4I+2Awca3itK1Tv5L+vW4bY/3Iw3X39NzZyItXyTMfEm5dBjGNd5LjFA+sn1roL6L4NuqPdzn+5HZm6l8iQeqP+4TlPT49797iDueGkn/qoCfoQENlRt3MBwLLx+AE67c1031FROKQgIAoKAcyDw6aef4v3339eVoecRPYxICBoB3UgEt2T0bGIgPAbNIfnIgHeuaNRoJlkcERGBmBjbnoJsFz2yiBEDAfEFsjV8nBkLSk9wJJ6eaPSYNtrXtM4kx9mvDIBHMp2SHNSzNsjkpullWxA4EQETvCsy0WPHX1CddpuSqJjWKIn30Z/gm/spTg7MhFdQHWoPfqY+hObBFHeuIpz9G6Xtyo203kGaCKYUxQ2P78CnP+Xh5nOTMWloRKN3yq1vNbTnefUuet8b6SitqA9s949F+/COehelDUwOxsLrBliaQBL2xS+ysHhtAQ4VVmHH/nLwnH+9qp+eDWdJaLVCSYg/vrgTP20pQlAPH1UPH4wfFI7fnJUEvts2Z3w/vvPlnWrgxxv+itg+pjyBrzw5Aac14xltXc7ZU+Mw/6IS3eazpzTIFTDN2uNex1zvExfIHzFBoMsQoHdxcXEJUpPrJTa67MRyonYhUKYcExi8ceOmzQgJVk4GPSO03Fm7CunmxIWlFVifcVC9HwNjU0UeoJu7w6GnX6GCiF77f1eCsVmC1SwLBpv7xyMP45//WoTxatbhqFGj1Qy8Cbjq6qst9bh9/q1Y/O238FaOJiFqxmWFcriZNmmCGsTyxdIVK/Hjkh9w5x/nayk7IxO3/3LXn+GtLqqmnrHxylGD9sP33+O2W27WTissl0by+rVXXsZFl1yKv9x7n97nif9JP7lmrzcwsl1c/38tzsW6XaW45rREDEkJQaB6if7330bhcxWtmtGs545rTHoMVWl+VNGsgwPsq+3Wxc2W0wkCgoAg0GEEJk+erAlPehHTo5RGIpQk6JgxY1qdhkrvW8pQ8JcyBa5KFjNgHbV7qbtMorw5Yzs5PZe/lKJwZbKYZDfbSoK8JWO/Ur/6wIEDetm3b58OekSNzJawaqlMOeZZCJh6zoIpYgp8ChbDHD7e0nh6GvscXQ7fQ9/U7zv+p+drOgrkfKiOrUX1wAcBn+4hIb29vfDcLUNw0QObUFRWi69XF+jFR82hG90/FOdOj8W1pyeiZ1gDoT06LQwv3jZYBXzLwurtJZg6PALjlBQajRrH1nbXa7vwwqc52Pn2VCTGBuLAkWO4+ZkduPD+zcqhIQ23X5xqnRwrtx7FufduRHiIL77++ziM6Ff/4chgznPmr8W2N+vLaZTp+IavrxeWby5CQUktekX54cJZ8W0mdxnY75HfDLRVLJZtUX2lLMDfC3PGiLanTZBkp8MQoHfxpInjLLN/HHYiKbhDCFD3+v6HHsHPq9di9qwZiFc608t/WokH1L45J83E3XfOd5mB59CgAP3OQ+/izCNFHcJDMrkGAlOVbvvOvRktVva9Dz5sdPyxJ55qtN1048yzzgaX9trsuXOxaduO9mbziPTST67Zzd1GFk9Wnh49w3w1UWxAxw9ZahU3Z30Tgpo7JPsFAUFAEHB7BKhPSxKQgc4osUA5BnoWc8ogCdG2kIH0LqaOL8shgehqxvbSK5rexZRkaM2IE0lxSlEworwrGnWp2WZ6SrPvmjNOcyMpzoXrvB4oR8EBhRRFrBseyc3ll/2CgAUB5SFsijmjYbP4F/jvXmjZtrXiXb4PftmvoiblD7YOd8m+WaN7Yt3Lk3DZQ5uxeke9LI9JqUXQOYHL859m4Zt/jMOg5BBdnylKAo327dr8erJ4aGSz76EfLz0Mav2+oQIy33dlmg4OR5m0L3/OxwNvpePGc5IRdNyh4ZiSqLjm71txtLQWXz48xkIUU4qCwZxpPyky+ZLZtol1ejHXqOW3Z/fGAuXdHBrU+df1HEVuv/pFjj73vVf2RVQTMlwfkP8EAQcjEBbi2troDoan24onUXzexVfgkovOx8K/NfZ+vO/uO/HqG+/gkiuuwQfvvqnfN1uraElpGfILCtE3Jbm1pA457qdGCdN6RWF7dh6y8ktRq54DvmrgUEwQEAQEAUGg7Qh0223zb1f3h48iOG59bgcqjtVP/2t7tSWlICAICAKeiQCnWZEApVFagNv8bQtRzDzMSw9byhrQQ9nVjFO/WHeS3m3xFGY6SlUwDz2SXdEYwJB1p5c0g3U0Z7wGOHBgfS1wnQMJho5zc3llvyDQEgLmsJGo82/Zq535vY8sg1dNcUtFOfxYspJXWKJmov3vibG498pUzBoVgR5+9W7QB/NrcO49G1B7XNe3PZWZNTJSlzOib72HMPNSUqJPXA9UKRI5UwVqNuzV/2YjI/cYpgwL02mM/fRqPn9mLEalBWOKIqZt2bpdxTjp1jV47HcD8MwfhtiFKObg0fWPbUVxuQlXnByPOy7pa+vUsu84AsZArADSeQT4zH7upVdxypnnYe5p52COWs696DL85/P/dr5wKcFuCNz3t4W49OILcPmlF51QJt8jfnPtVcq7eBYeeaxlj8ySsnL8snELfly+EmHHp+GfUGAX7UiODkdwDz/0UCxxrVk0Y7sIdjmNICAIuBECnXdV6CAYly3YhIhQX6xQU+KSLlqKB69Nw7VKkqKHjSB3HTyFZBMEBAFBQBBoggDJZera8mO4qKjIQjw3Sea0myS4KUFBLeK26PCyvVFRUdoDm4RxS2Srszaa2sP0LqZXMYnfliw5ORkpyot4+/btuo+5PWDAAE2ut5RPjgkCLSJQZ4JXdetTeb1Qh40r3kdebT+bxQ0MyMSAHjYP2XWnr9L5nT6ip15YMAPSPfDOHjz1UTbSDx7Dov/l4nKlAdwee+NPI/DK7cpjX2X6Wcml7couQ1beMdCLmGZNQJPwpRkezHrj+H/v3zvSerPR+ucrDuOKhVs0wfx/pyY2OtaZjeeUR/X/fjmKy+fF4dXbh3WmKLfOW6O8Kw/mHkRlRSUGKb13sc4hkJVzEFddewMuvegCfPrRe5b3jbwjBXjymefw4cef4M1Xnm/z88mYMdO5WknupgjQC3jNuvV45KH7mx5qtP3b66/GjLmn447bbtaOCtYHS5XO8e49SgLrYK7e3bNnJKKjbA+IWedz5DpJ7jH9esNUW42lh/Y78lRStiAgCAgCbolAt5HFxSr69FerCiyg3vrsLix8NwOXzo7H+TPiMWFwuPKEqvcEsSSSFUFAEBAEBIFOIcCXZ+oW00uVUhS9jgdl6FShXZTZkKCgJMPw4cPbdFa2lwQxSeN1KnIxJTwY8K010rVNhXdRIraX9W2LxjS9qE8++WQMHTpUE8aUnmA+4iAmCHQYAXN127OaqlFbU2szvdmvnli1ebCTOzfsKcHSzYW49fyUE0oKVoHl/nHDIBXgrUQ5KRRjrSJz20sW19TWYeF7e/HSZzkIVI4NV52WoMngQC09UdPonHtz6mcxxEQ01j1ulKjJxvo9pbjluZ2IVI4UyzYV4e1vD+CqU1qX2mlSzAmb//35CO54cTduuSBJYVAfVPqERB6+gyTx4cOH1JKnJXwGDRrk4Yh0vvmUirrymt/g+acfw9DBjfGMjYnCww/+FR/++z+46dY78PpLz7Z4wgpVVnp6phr47YmE+NgW08rB9iOwctVqzJtz0gkZ6VRgPSjP94jpUydj3fqNmKKCgdHqSeJ0NchyWP/tGIUkJ/YGvYy1qZkN6p/FSPobxnVjYfnGOlNYbzdNb73NdVtlGvurqquM5PIrCAgCgoAg0A4Euo0sHpQUrAORpB8ox//WF+I7pRdHb4+n/52tl9hIP6x/ZQpiI9v+ot2OdktSQUAQEAQ8GgF66C5fvlxr2o4bN05LNTgrIPwIKCgowKpVq8CAbdTubSv5yQ9WBnzbu3evlt1IT08H2zt16tRGH0HO2nZO4WVwO5LdYWFhrVaTuNADmQMClJ6ghzEHBVoLjNdqwZLA4xDwqimCV2UmzGGjlOZNKOp8guBlqidBWwIjZchMJPrb9ooNLcgEire1lL3Dx/KOVuMD5TFsiyw2Cr3opHhNFucVtU5+//39DFwxLwEJ0QFqkKkOs25drchmFZj59AQ89fvBKkhcvZLbi59lIVNJTlhbryi6T5ficGHbSYrEaH/8+PREHD5ahRl/WItbn92J6cMj0Zl4HQwYzZl8j9zQvxEuq3cUqzaZlUxG93r+WWPWHeu1asbGkfwjKFOkljGAGBoa0qI2fHfU0xXP+cobb2tJA2uiuFzJKQVbSSlddP65+HbxD1j7ywaMHzv6hGaWq/eUven7kK08lIMCAzBsiO3AjSdklB3tQuDIkXz0iq+PGXTw0GF88eXXOn/lsUoEBtTLnv3fFZfqd694lS5PpS9TfblHBRVj39iyjZu32tot+wQBQUAQEARcCIFuI4tvPq+PDm43NCUEZ0+tf0DlFlRhzY4i7fFBD5GutG+++QabN2/GlClTME1F1RQTBAQBQcBZESB52laytGkbysrKsGHDBuzatUt7YtDbljIHZ555ZpvIyKbldcU2NXtJFK9evVp/0NPTZcWKFTjjjDO0h3RLdaBX7tatW1GupkiSDGD72XZ6jlHKwtmN9SWxT+9gQ6u6LXUmUcwAgNnZ2XpAgKQzSXYxQaBVBMxV8Nv/HLwLViuSOAhVI19XLl4+MMXOhm/uly1mNwenILxX8zILvscU8VCv0NBiOR09uHVfOUrUzLWwYNuvt6P61Q+49E+0rf1t7fe8ZEMhzpkaC4pVfP9LgSaKByYF4lmlI+zn2+Cpf6yqIRflKdbtLtYB7T5fkY/dOcc965o06GhpDbZnlmGqIoMNG5gcjMSYAL3cd1Vf3Pt6Oq56eIvWX6asRnttZ1YZzrtvAx6/cSCuPT2pUfZ3vs3BxEERHksW05M4V8lNFKgAXDQOxhnG5+vOnTuNTbf9NdVUos5kzADwgm/AEd3WOiU5Y6pqfVDIGpjgoEAkJsRb78KX//0Gn//7/Ub7/rdkGc4+49RG+66/5ip88NEnjchiequSiMw5kGtJO3BA/w6/91gKkRWbCMTGxuAX5S1M6xUXi8suvVCvm5XOL2f58n3TeH/IzT2k+mqM3sd3Kh6z9urVGdv5n/X7rBFfQRWry23Yrr8H6rTHHZONfMYvT2usN/wer4wqsEqFSNqqAt6NTImXOA7t7CNJLggIAp6JgO236S7AYogiiZsaPTHOmRbXbCTqpunttX3vvfdi2bJlmDNnDu68807ceOONuPzyy+1VvJQjCAgCgoBdEMjJycHMmTN1sLPFixdj2LD2a0+SeCSByOmFfNGnLAM1gI8cOeK0ZDHrfPBgg/cK6846k+SmnEZLRukKRvk2Phz4UcP8bLcrGD2qWV96BhsfTW2tN7GhPjU9i4kXyWMxQcAmAnWK8OTirV4LvdWgQlU+TPGnKIL4LE0UM09tr0vgU7RBeRsfsF2Etz9qUm+2eayrdjLQ3O0v7lTawrbvjUs31cufzRzRQNKybvE96wdS9lqRuyRbSd7Svl+fr3+HpoY0IoqrlF7xruwGYm1fbgWy8yq1F+8z/85S2sYlWK/I4zEDwnV+47/fP7MdCeqdl2SxuiVpM365cftFqfhy5RGs3lGCv72zFwwK3R47mH8M029eg9/9KgmzRkYh/UB9HatrzSguq8W3a/KVxIVt7+/2nMcV0/KZwJkmher5YcvoZewJZq6tUn/yxnNQBUIlk6asTt0HzDWNPeVbw8MWWWhSODPArLVVVR3TBKDxPOax4cOGYMEjj+lklC0gSXxQEZLWZQaogc5jKm/G/ixVwXpCkGUYCzMb60bZxvPSettYZ3rv4/lt5SVRqQrkP23WZfP6cTejpMQjjz6Ju++cr3EMUfJVtoxt/2nlKvztvrvh5+eHEUMHI61fqpYIyczKbtRno0cOt0iGGPixT411W+U7cl+Nuvct2ZqBQ0VliCwoRkpM42eAI88tZdsXAff7CzwRH+t71YlHXWOPuoO6RkWlli0i0G1kcYu16sKDJE0WLVqEjz/+WHua0dvskUcewXnnnXdCICR3+MPtQmjlVIKAIGBnBH788UctqcBiv/rqqw6RxSSIqWNrvLTzly/97fFatXOzWi2OdWb9jI9H3ovp5cJ2tGYkTPv164dDhw5pgph5UlJSEB0d3VrWbj/O9hp6xR2RkSBOsbGxmiw+fPiwkMXd3qNOWAElK+GT/x18D3+F2rjTYIo7V1eyZtDDJ1bWJxBVgxYor+MX4F24ptFngDkoSRHFt6AuMOXEfF28561vchEa5Iv7rkxDeEjDay6Dzv3j/UycNSUac8Y2/vufqOJk0H7cWIj5F6bqGW594gIRElif/5Rx0Xj642wsXlcIegVHhvqhrLJWaQHvQlrvQGxKL8dGNSNuU0YpkuMCtHTFUzcNwrWPbsNvHtuGTx4crfYHqkCbdfhgSa4KNleIdS9PRsUxE5ZsqCewN2eU4ZCSrYgK89eE9FWnJmiy+JH3MrXkxf8p/WJKYrRm9Kw+6+71KC43gXm52LLBfVq/f9rK5+r7SCIyeB0HX/PyDuPYscZSIQzMFRzc8iCkq2PA+puqy2G28iz2C6z3ujeb1WBqVfsI8x5WntlNsckvOIpVa9bo3Vu2boevjy/8/P2QmtJHaxnX1JjUO4gvdu3ei12KKLZlx9TMmG3bd9k6JPvsgECoek8iYfz2u+/jqssvbbbE519+DWeefqp+ZzQSBakBgeFDB6F//75qEGYf9mfn6HetvRn7tLe59bez9bqRv6t+/Xy9kRIbgfRDhUjPLUDvyHB1n/XuqtPLeeyIgHejtw87FixF2RWBOg/gipXiusLMvRva8BZt18vDdQqj9AQ/wumhR0LipJNOAj2Ns7KyNHnMltADjZHoOY2XZu9RZZZHUoC/3fkg1Y3zkP8MvI1fD2l2tzeT17j19d7tFXKxCpx22ml6BkSF0oq7+OKL23Qvaoo5ydNRo0ZpT+K8vDytzThixAhNnjKtMxr1d8ePH4+ioiJdbxKg3KY2b2t1Jsk8adIknXbHjh36fs68lLJoLW9nsGDZvL909B7DZwE9oilDwTYQg47Ul6Q485Ispic2MXNXM7AmTh3Byl1xaald3iXr4Zf1T5jCBsMc1LelpPXHlHZxTb8/wSvpCHas+QQ11RXonTYVPZMntJ7XwSkoDREc4I2v/z4WD/8rAwOvXA6SwP0SApFbWI3PVxxRsmcxeOm2oSfUhHJovz83Ec9/moP+VyxDflEN3rpruCXdXEUWP3RdP/z9X5noe+kyTBsRgc3ppbhEBWX+5h/jcPZf1uO6x7Zj0pAwixcwA+j1iQ/ADY9vw4hrV6i6RGjpiehwP3yxcIz2Wo46+wdU15iVbIYPyitNuuzfnp2opCMGKQ/pXQjs4aUJjb//ax+e+HA/8j+bbalTcysfL83FloyWyT7qI5NQ91Tj/ZUa8Lw3UuaouLhIvefXSzKUl1eoAca0ds/kcDUsa4+VoK7W0O5W11lIlG6C2VwDU0Vxp5sTpJ5bBYVFiI6KxJmnnaLLU49EnHV6/bpxAhLJo0aOwID+/RCs3k9279mLMtUH1tajh78eHLa+r3Od93zD6vR2vXQB+9c4bqThR711fmZtvN1QllGmJ/3ef8+fccGlV2lMrr7yskZNJ4Ykin9a8TPef+f1RseMjQA1YEBN6bS0VOzLyFRe4Nk4oILeNZUnMdJ3x29qXE9k5xejutaEjMMFGNg7pjuqIefsJALGrIFOFuO02Xn/4uLq5gmexe7QT61dZ577pngcmcLCQv0CQqKYRg87vjyQlDBsyZIl+OSTT7R3FgMjGYSDcbyzv3wI83ycauwJF11n8bJHfmLOwFccCLDua3uULWU0jwD/tugpSbLT3R/2zaPQuSNPPPGELoBBz7i0ZrzWOdDF+wvJQhr7Yfjw4drblvdAmqFhrDec8D9+0JM0HTBgAPr06aNruG3btjbXlJ7ISUlJ2LNnj9YwJolKbBxlBub0aLaOJt6W87FebC/7hvIbJDXY1qZTettSFtOwLqwH9al79eqls/EcxvPG+oOZB/m3aWBj/OpMTv6fgRvvMfv379dEu5NXucur51W6Bb75i1HT5w9acsIcMRlVw5KUR3D931RbK1TnH4PDpkGoUNqmMf7Jbc3m0HR9ewXh/XtHYNLQCHy2YAwycyuVx6/SLFfawGmJwbj1ghRNHjdXiSduGozbL07FXiXZ0F+lrw9S15D6zkv64ve/6oMMVW5JeQ3GDQyHv1+9Z9qK5yaBAfaaBmWePqIntr89XXsM784uR99eSts1tj5gFEsu+Lx58rfoy7kNJ2/H2jVKn5iLWOsI8B7I+2tCQoLWhj9wIEe9n1Rq2R4OSop1HIErL78Ezzz/Ih64964WC3nuhVfw9BN/188jEosJ8bHIOXhIkcbpqFASVLSqqmpMnjgeYSGO9YY3nnf8NRZ6jXGdz0nDU87Ypletuxi/fz9+/2089MhjmDnvDMyaMU3FdYhV7yC5WLp8BU4/9WT86+3XWn13J2k8eNAA9E1NweEj9fI9zoKRn4830npF4bCSokjoWe9J7yx1k3q0HYEe6lo9ppwp3NUCVPvcwXzV35s7G/l8yhm5u3k8WcyPeJKGfPAbH87cF2QVrXfGjBmYOHEiSBpTP5JSFUxvL+MLCIkakiAGaW2vsqUc2wiw/6jhSc890fG0jZEj9tJDnyROcnJyo4AyjjiXlFmPAAdEDILeuNZ5r+PfAHWKV65cqSUdBqtpuc5qvEfu27dPD+Zx9kd8fHy77sFGe3n/Jhb8KHJ0ezkIxWcLA9MZgWHaii//Rn755Rc9w4V1Z3C+vn376mdEe4lnnpP9/vPPP+sBA9aHM2d4DhLmQ4cORUxMg3cN/0Y5CMHrhl7IJOibmj2ff03L7sw26059ZpI8xLwtgymdOZ+r5fXb+wh8jq5FnV8ovKoO1BPEKnBde4liZ213iiJiuRhmbDMWRluNMg8tST0EBfhgmNIttmVNiWLrNNRENnSRrffLunMgwPss9d15f+SgKp+NvD/KoHbH++eCc8/Rgev+8/l/ce7ZZ+iCeifUD1Yapf7lrw9i2tTJ6JeaYuzSmCcnJiCpdy8laXBAaxhXqmfpnr3pGDtqhCWdI1Z4HdCMX0ecw5nL5LsRyX2+u6xe+wuO5BdgxLChuO/uO9v9zk5vcPajs1lydDj6xEQ4W7WkPu1AwEc5NISooJpllUpb3Y58TDuq4LCk/oqD4oCLO5ifkhzy8VaxcSza+O7QqoY2BPrXx7po2OOeax5PFpOgpccVP+z5ksgPaHrgJSY2BP5glGQuJJDp6WVvQpdECMskCWDvst3zsu18q0h2EG/2dUfIl87XwDNLMHA3rnfPRKFrW82PHuJtC3NKUvC+xw9jZ/47YIA73qOpN0wisKP3SU45Zn4OFBm4OKo3WEcSDbZwb+mc/Bshqc0+MUhZSlEYge464l1MEoTk+OrVq7U+Pz37+THIutGDefr06ZoYIbm6Rk0JpjwTB9LS0tKQmpqqCXbeKzlQSu9sZ/2QJl4G3sTeWevZUv/b85hXjZohVa2uo+D64GimqBkwR06AKXKG9iq257mkLEHAHRDgPYP3Sy7G/dcd2tUdbSCWb7/+En5383x88933uP6aq5S27WCUqufZz6vX4pnnXsLUKZPw59tvtVk95k9JTtSEY2Z2jg6iVqaeXSFWzjw2M8rOTiPA94yZ06diy7adSianRnl4V7WbLO50JRxUgKe/FzgI1i4v1l8RkRHqXqD8/XVsXsrMuK6PJ2UnoIhV93pv5d9aqCL1y9X3Bp05dCO7/Eqx/wnZVySK3YXUbw0hjyeLqVXcv39/LFiwAFdccQUeeughzJw5UxMotsCTh4wtVGSfICAIuCIC/CCgV+nWrVv1lH2Sx85oJItJ8NKjmJ4vHTV6m9JbLDMzU3udkhBwpHXkecE8HJy0bif3kQTl0hFj/pSUFE0A/6iCJHLQk/v48pabm6uJaAMXXgv0vuZxSi7RU5cEMcniH374QQ+acj0qKgojR45U01TjdNqO1EvyOAiB2lL45bwO7/yfgYAYJTPxnD6ROXKKg04oxQoC7ocA74FinUMgWJE57yjCeOWqNXjv/Q+1HjEHpkcrD+GnHn8EaX1TWz0BB/769klGSlKi0vWul6VoNZMksAsCuYdUAEglY5XQKx4R4aF2KdPZCqlVDlu+6hoTcz0EeG/QPSfd57SdR5mGUDVDsa4LJHvoWLM/a7+K8+CnZ2LaGxRqCvCtwNPeDTyeLCZ58Pzzz+OZZ57Rge2GDBmC2267zeMuBHv/QUl5goAg4PwIkJCk1ADJP5KCAwcObFOl6XHFGRF8YPJlzZHGc/EFgJ7FvD93xki2Up+SvyRJHU0Wd7SulJzgjJf169drQjdFEb3sm454FRt1YJs5MEBSmG3XL9mq70gcb9iwQUtdcGYNsWa/ciH29C6mFBM9kZcuXaq1k7mf+Zl21qxZmjg2ztPSL9NzobQF+8HTXrhawqbTx1SfqPmY6i1W/T16B8K7dA9McfNgij2r00VLAYKAICAIdAaBKZMmgEtLln0gFySXIyNsPxv4zAlVs4vEBAF7IXCwsAS7D+RjcFIs4iKc01nCXm2VcjqOQEFBPoqVE0VYaJh+h+54SZ6bsyve9+lYdFB9y/ZQxHRbv2fb0yOeOnzs8WQxLxJ6Fj/66KOa/OAHdWc+yNtz0UlaQUAQEATai0BOTo72ECWhaA+jDAU9drds2aK1bSn1QM1GepXS87Rfv37as5TnIklIOQTq35Jcpnfp+PHjQTLTUUY5BJ6TH4r2CDhEOSESpgwcR71eGtvJc7B9bBM9e7vTSKTSm5cEOfW9WU9KaHT2ZYt9TTkKSlwcPnxYE7Z8/rG9lJ4gIcwBBGJOLDiQwGuD1wRJXgbK4yAB+4Kaxnl5edrjm5gZxnxN68k8u3fvxooVK3Qeljtp0iSMGDHCqeVPjDY59a+pAj4qYJ3v4a9Qk3SFkpmYpiUmtDexIvzFBAFBQBBwFgT4fDCk95rWqbqmGht+3oIA5cTTKz4O1Ddujjhumle2BYGOIJBXUo7KmlrsOnAEMWFB+t2mI+VIHvdGgO+62dnZ6hspUchi9+5qaZ0NBIQsVqDww9ZWEB8beMkuQUAQEAS6DYFNmzZhwoQJ2hP4m2++wbx58zpdFxKBJBC///57vPfee1pWgMQpX4xoJI15HnqYMtAaA6+tXbtWv1STdKRkwbRp03QANmvphE5X7HgBJDBZHxK8rGtnjYOB9ChmUFG2h0QxpRnYTg4WkjydM2eOJlI7e66O5ufHNMlZkqrU1beXFy7bx76mdAQxJQFNopfTgnlOYkGJDg4ckDCmJzcX5iOhzIXPS4MMJvFuBINlXgYhpIwF1zmq36dPH00OE1uWawSco9c0z0FPZ5LiYh1HgESxX9Y7MIUORJ2vVdAeIYo7DqrkFAQEAYcgkHOQMWKKlXbxoBPKp9TBtu27tOzBvv1Z4CLE8QkwyQ47IjAgIRp5RWUor6pBVkExUmIi7Vi6FCUICAKCgOsjIGSx6/ehtEAQEAQ8BAESnCTxaNu3b7cLWUwv0YSEBJx33nma0CMhbRDFPA9lCnheephmZGTode6n0buUHrokrumBTNI4IsKKsKpP1qn/SeiyDsOHD+9UOUZmEp5sy86dO7WnK6WISFyyLTTuJ3k6ZcoUrV1PfLraGICOgec4iGkPj2Lr+pP4JfFOktia+GUaYkMymQQ1PcCIg9F+eiWzD+h1TrKXuJHIp/czr5/09HQsWbJEH2NZJI6pgU0ymQQ9z0VCmr8sk9cNByh69+6NFOWZTg9qmdVD5Fo2r9Kt8Clahdqk63RCU/Q8mENHoC4oteWMclQQEAQEgW5EgM+UPXvTUV5RqQafUxGoniHWxu2ePSPV8/6oZTf1cq2J494J8RiQ1k/NgJHPVwtIstJhBIL8/RRBHIH0w0eRlVeEPtERlsHwDhcqGQUBQUAQcCME5GnrRp0pTREEBAH3RoCE7j333AOSidddV08W2aPFJO/ovUpvUJKmJIVp/LijnjHJVMpfGN6n1uekdyhJYpKsX375pSZZWT/mo9eotUSBdb62rLMMEsUkyHv16tWWLG1KQ7J01KhRWL58ufYu5nmIgdFeSiaQECUeXOjlSy0s1oFeyYZnbZtO1oFE9NYmEUsSlqSsva0pSWxdPnHg0tRIMpNEplcy60cvcl4TvDbY38SHnsMGNpSsoJc2rw2mJdaG1AfTsBxeHxwMoCQGt4Usbop6422/XffBp2Sb8iAOVXrEv0Kdf7QKnx3kYkSxSGM07lV33ZJ+dtee7Wi76FVcVl6hs+/du8+md3Gv+NhGZLFxrpjoKC1NkaDkKYQoNlCRX3sgkBpfP3CeEuv4dzt71FfKEAQEAUGgKxEQsrgr0ZZzCQKCgCDQCQTo6fnggw92ooSWs5KYNDw99+zZo0lDkniUviBRSi9XSk/8qGQbSPAZ2rOUKiCxuXLlSnz44YdahoBn4j5KWNBrtCNGwpRkMb2VSWbby0hekvhkvegRS89oEqAkMXmek08+WXvVMvAbF5KhlFZgexjsjSSoQYq2VCemsU5H0pvB5Xh+ejfbImVZHr13SVwTX2cyEsb0MObCdlFDmtcMA/Hl5+drTWPWm8b9PE5yndftxIkT9T5qXfOaIllPDJi+OYLamdreHXXxqilW7vulKop0oj69uedkmKNnwBQ5U+kS+3VHlTp9zjovn06XIQW4AALSzy7QSV1XRd7n6VVsWGZWtk3vYkOKwkjH35DgIIwZOVw9P7o3loB1nWTdfRDw8/FGfyVHISYICAKCgCBwIgJCFp+IiewRBAQBQcBjEaCn8DnnnKNJVHrcUneW+0jokSAkmUpCmTIJJAQpNcBjJJK5n+SqIelAQpkSFvQgNUhTfjTyuC2CkGQqA0nQg5nev/RWJQmZomQKmN6eRuKTGsgkjblO+Q3WjcQ3vYm5j16vlEtgPXh+ru/du9dCnLdWH5LdWVlZmiylxAM9lhlIjuelzAXPzbaybBKqNGJDD10SyiRanc2MfmS9WEdKU5D8JTb0SCf5TmKdARipc800NKaZO3euRYqC7bUuSyeS/zQCXjWF8D3wT3jnr1QSE/1RM/Ahvd8Uc5rrI+QjEeddvxNbb0Gdr/Rz6yh5Tgprr2K2ms9aW97F1lIUvr4+Kh20N/LKNeswZcI4IYw955KRlgoCgoAgIAg4AQJCFjtBJ0gVBAFBQBBwFgRI4NGTd/To0RavT2tSj+vU0jV0aI16k/Qk0cmFafgxyIUEsJGfMgT0PiaxSCKUHssko2n0pl22bBm2bdumyVOSjSmKJKacQUc9k426tfTLdhg6vUxH4pZEsbHOuhv1Z3vYPv62ZiTaSUAzuBvzkDRNTEzUhCl1fhkkcNWqVbp9JODHjh2rPZbpxUySmoSyPQL6tVbPzh4nVvQQphcxiXb2Ma8Feh9zIMEwYmgQ4sY++bVCgNeUwohW5+UH7yI16BI3G6bYs60Suf6qOdQ+2uOuj4TrtqDaFAp/n9IWG2AOGdbicTnoOQjweWntVWy0vDnvYkOKIj4uFknqmblm3Xo1OF0GIYwN5Bz/y3eWjP3ZqFYDv7SMfZnqfSQIYSGdDzLs+Np37gwV1TXqHUZ5tAe45uydzrVecgsCgoAg0BgB+7pqNS5btgQBQUAQEARcFAGDNDWI0qbNaLqfnrOUaSBxSIKXHxskDSlbQY9aeuRSvmLdunVaioEkKslhEqckRyl7Qa9bksv0yKUGMo+TSHW0hy3bSjKXi0EUs70kQOlVzbaQ/GV7qNNL71nWk8b6c5sEONttGL2DKaFBL1suPEb95tTUVE1Os130Oqb3NfFZvXo1KNFA0pzt53Fi6grGa4G4cRCB3uUkxe0dmM8VcOhQHU2V8Mn7Ej22/A5eZTvqi1CaxFUjX1NB7G5AXQ/7aXV3qH52zlQX1A+m6Cl2LlWK6woEOJ5RVDkch8vPQnl172ZPaYoYg7pQIYubBcjDDjT1KjaaTxKZ3sVNjVIUtAQlfRUTFYkJ48bo54tBGFdV1T97m+aTbfsgwPecVes2YMezhWj9AABAAElEQVTO3fqdh6UWqKCDy1esUr9F9jmJk5aSnV+M5dv2Y2vWISetoVRLEBAEBIGuRUA8i7sWbzmbICAICAJuiQAJQ5KrZ5xxhiZ6uU2iNTs7G0uWLNFkK4lVg2TmBwmPLVq0SO+jrIV1oDkj/5gxY7S3b3eARp3m2bNna/KTUhQkwklsb9y4URPE1BTev3+/Jr9JlI4bNw7jx49HUFCQJohJMhvGdRLMbCPJY5ZHDEhU09h+LkzHttMz1xWNdTf62BXr39V19s1dBN/cL2EKHaA8i63G773c9/WsJuVWmBUJ7pv3HbxqWvZQ7er+kPM1j4D604YJgTrB0WNTEez/YaPElJ4wxc5Gba/LGu2XDc9FwPAq5jOhd0I8cg7kajCSk3rjYO4h2PIuphRFXGwMYqPrZZhIGE9UhPFq8TC2eSHxncKelrE/Sw3y559QJN9XNmzajFnTXXOwj9egtTPACQ1UO8KCeqiZY2YcLavE4aIyxEU0zI6ylV72CQKCgCDg7gi479eIu/ectE8QEAQ8EoEvvvhCB1y76KKLnI6Uo8wA9YlJshqEIaUJSI5SnoCexdQwNuQIKFNAgpWyF/TEXbp0qfbGZV561vIYCdruMhK5hrc0P3q5zV9qDW/ZsgVbt27VnsCsLwPksW30rO3Xr58mhsvKyizexmwPdXtJJNMMrWeu8yOMXsRcqNlMD2dnC27Heop1HgFz8RaYj24Cep6jC6PMhKnnDNDj1mNMBT8zJfxaLzAdg5eZHvmUduHiXnYg9yB2bN+BYDV9e/LESS7fuCA1mFW1fi1MlRUojL4PwYl9dJvqvHsAPvVEsss3UhpgNwTylSdqREQ4JowfgxD17DPI4hQVXHbwgP7Yl7kfWUruYOCAtEbnHD5ssGUglQeihTBuhI/1xteLl7RJGss6T0vr2Tn1cRqaS1NUUgp/9Y7iahaoJMfmzZ7RYrXDgwLQq2coDhaWYteBI4gND7a8y7aYUQ4KAoKAIOCmCAhZ7KYdK80SBAQB90Ng8eLFOPvseg1TShVcddVVTtlIgwxm5ejJQfKTwfAY1I0etZSmoNfx1KlTMWjQIP0yTu8YEqgMkEfylSSzcaw7G8m6NPVGoQf1yJEjNVFM2QimMQhjw9OYshokhyk7wbaRQCbJTGxIHFOjmJ7GmZmZeh9JaBLQ/KWMA7EQcyMEVL96bf4jTCW7Af8wIHye+uMIQp1/lNpWi6eaTwDq1OKuZvYpR3VdMPwRgjo/15wtYN03Sk4bYSOmoHDtEngFRKo2RVgflnVBoBECUZHhWkqi0c7jGz16+GPQwP76+dj0eJAi9pqaEMZNEXHMNt9BWrI6NbjtztY/IVp7FXv7eKOyphZB/q5HjLtz/0jbBAFBoGsRELK4a/GWswkCgoAg0GEESEgaZr1u7HPmXxKuDFpnSDlQtoFetgYRS6/a/v376zQG+Wocc7Z2sX70/GVbSAozKB3rSlJ83759mvwlSZyWlqZJcRLEPG5ITrA99FimZAfJcx6n5/Xy5ct1WSTKnbXtztYXzlyfupoSJbNQqAg1RQbzbzdyNHwST0ddzGygoj5wkDPXX+omCNhCwDckHD3HnwT+igkCLSFg/cxrLp314HJzaYz9tgjjyRPHIUC9P3i6jR09Ug1Ed36QeefOPdiffcAmnD6KQJ09czq8fRreRW0mdKKd+fmF2LLteDyANtSL5PDEAckIC/TXTgBtyCJJBAFBQBBwWwSELHbbrpWGCQKCgLshMHfuXBgyFBdeeKHLNY8ka3BwsCaJbZHd/LBsy8elMzSc5PaoUaO0xzQJYkppkOSNjo7W3sEkgSm/wXaSRG5q3E/CnAuNAeFYJnWLu1N6o2k9Zbv9CJiPHUZd5jtKi/hHBIaNQUXyH3QhdUmXw1t52FN2BBCyuP3ISg5nQUCIYmfpCc+rR1PC+OfV65TEixDGlFkIVe9XnbWhQwehQM2Yqq4+8Rk1dMhAhNuBkO5sHduTv6ysoj3JddpwpV0sJggIAoKAIAAIWSxXgSAgCAgCLoTAmWee6UK1tV1VW0Sx7ZTOvZcEL+UkGISPRm9go21VVVXt0hFkPnobi7k+Al7mapgOLYc5fjYqw+a5foOkBYJAKwjUlhWLp3ErGMlh+yHgyYRxgdKB5rtGRHioTUArlEQZvWmTEzv2PkEJkCkTx2PT1u1KaqtIn8Nfedv2T+uLfin1GuU2T+xEO4uKS5vFh9WkNNgxJQNGHW0xQUAQcF0E6JhjON3YagVldSj5RylEsY4hIGRxx3CTXIKAICAICAKCgF3lIgyiWWB1HQTqTJWoO/QNzNmfw3vUw/AOiIdXUBJ8p3+Eqpo61ClPcTFBwF0RqFMB70p3rkfV4WxEjJkBv4hod22qtMvJEPBUwjgkOAjf/7hcBf3riYH90yy9UqUIkc1bdygJiRyMHzvasr8jK2GhIZg+eYKeBWMymZVUVsNAeEfK6+o8ubm52LZzVyN8WAeSxBkqoOK+ffsxY/rkNlUrv7QCR9VCLWMxz0DA0O1u6Z2caThLTCTjuveayNyfiRo1C6Jvv76NKsL+yT2Ui4z0DIwePVrI4kbotG/Du33JJbUgIAgIAoKAICAICAKCABEw734Kpp0vAn4h8Kots4Di5SNeDBYwZMV9EVAzIkyV5VDTKFC8dQ3MNVXu21ZpmdMhYBDGJGxKS8tASQp6jLqzMTBgn6REHM47gmUrfrbMYPplwyZkZmUrSasQxMfah9ikLJifn69lxpSr4No3NQXFxSVYuWoNdu7eo6tda6rVJPvOXQw+HIPANngaHi2rxNo9OUg/VIjiimOu0nyppx0QWLduHTjoYBDHRpHcPnToEHi8JTLZSC+/jkUgpU+KuhcexsqVK0HimGZWg9grVqzAVhU0PETdDyl/KNZxBIQs7jh2klMQEAQEAUFAEBAEPAiBupJtMB/80tJi7+Rfw3fCs/Ad+yy8Qhq8vCwJZEUQcGMEvBSZFD5sohos8UddVSVKt6074ePajZsvTXMCBDyRME5LSz3Bo7FeCx8YNKC/E/RK91aBhHpqcqKuBAcRaDU1tVqHmQQfJTXaYpEhgeBSpxLvyDnSliySxg0Q4DUSExODLVs2a9KxvLxe95qSBz//vBKbN29CVHSUy8RYcYMuabYJlKBI7N1bD1gXKa11GuPFVFSU67/btH7yXt4seG08IGRxG4GSZIKAICAICAKCgCDgmQjUmY6hdt2NqF17G8z73kOduVYD4RXcB16hAz0TFGm1IKAQ8A4IRNjQ8RoLrx4qYKfyvBITBLoSgaaE8cpVa93awzhABcOld3FTCwsLtZtXcdOyXW2b3sW+vieqbSYpLefg44GF29KmwYkx8FIJ6WV8uKhh9lBb8koa10UgKSlJB6cm6VhYWKAbwt+ysjK9Pzkp2XUb52Y1T03tCw5cN7W4uDiEhIQ03S3b7UTgRGTbWYAkFwQEAUFAEOgaBKi3ds8992D+/PkoL1dTf8UEAUHAYQjU1ZSCC83LJwAITYPP4JvhM/lt9WJ64keowyoiBQsCTo5Aj6h4RE6Yg7DBY2x+tDl59aV6boCANWFcVlauJAjcmzC25V0sXsUNF7K1d7Gxtz1exUae8KAAxPcMRS+1hAaJvJSBi7v/UtqGJKQt65NieyDCVlrZ53gEAlRQTu1dbHUqDlmLV7EVIJ1YFbK4E+BJVkFAEBAEuhKBTz75BAsWLMCTTz6JV199tStPLecSBDwGgbrKg6jd9Thqf7pUBa5739Ju34Hz4Z1wliLD/C37ZEUQEATqEfANjRAoBIFuRcAWYVxV5Z4axk29i8Wr+MRLr6l3cXu9io0SR/bphVEpvRDk72fskl8PQMDwLrZuqp+fH8Sr2BoR51hv6l0sXsX26xchi+2HpZQkCAgCgoBDERg0aJCO6MqgI8OGDXPouaRwQcBTEag7dhh1uUvg1XsOvONP81QYpN2CQKcQMJUrz3yRpOgUhpK5/Qg0JYzXrN/Y/kJcJIe1d7F4FZ/YadbexR3xKjZKVBK2Yh6IgC3vYvEqds4Lwdq7WLyK7dtHQhbbF08pTRAQBAQBhyEwYsQIpKenY+/evZg7d67DziMFCwKegkCduQbmA58pLeLfoa62PoiJd+Ro+E77AL4DboNXUJKnQCHtFATshsCxA/tQsOZ7VGTusluZUpAg0FYEDMKYmrXJiSr4kZua4V0sXsXNd7DhXdxRr2JbJRvBBG0dk33uhYC1d7F4FTt33xrexeJVbN9+ErLYvnhKaYKAICAIOBSB3irqa2pqqkPPIYULAp6CQN3BL2Da+TxFiYHqfEuzvXyDLeuyIggIAu1DwHSsEl5mMyoytqH6aF77MktqQcAOCJAwPmnmVBUIzn3JYsJE7+IhgyTIanOXDL2L+6Uko39a3+aStHk/SeKMw0exdGsmKqpr2pxPErouAtbexeJV7Nz9aHgXi1axfftJIrTYF08pTRAQBAQBQUAQEARcBAHv6EnwChuilkEuUmOppiDg/AgE9R2MmuJ81Bw9gpKta3XwO58eKkikmCDQhQgE9nD/gGT0Lg6I7tmFqLreqQYOSLNLpSllkZNfhGMq2PSeg/kYqXSMxdwfAXoXHzx4QLSKXaCrBw4cBEo1itkPASGL7YellCQICAKCgCAgCAgCroRAQAK81CImCAgC9kOApEro0Ak4qqQovEkSm032K1xKEgQEAUGgGxDgfW1g7xiszziI3MJSpMRGIjxIBsG6oSv0KasVaV9TW6O18SmPT61aR9ng4SOUN7kKlsnFAUZZ7HptbG/08POFn5LQcTerNqn+qqmFIePiyP5yNHZGf3kpYtrPxxf+bthfBoaOuRJ9gozyu+XXq5vP3y2NlpMKAoKAICAICAKCgCAgCAgCToAAPYkjRs+AT1AwvLyVzIuYICAICAIujkBcRAgiQwJxtKwS+w4XYVRqvIu3yDWrX37sGKpqulYKpNbUFYOeJlQrAjzAzw9BAe4zEFGm+qu6i/ura65sE6qg+kvN8Ahy05ksDvHT9k44E/AN7Jo+anIWr8hhQGj/Jnub3zxw4ABuueUWzJkzB9OmTcP999+vBo0cM2rUfC3kiCAgCAgCgoAgIAgIAoKAIOA+CPiGhAlR7D7d6RItqWmBkKhRZI/h1WarMS3ltZW+q/a1VC9XbZM9sOsuXAYnxigP42gM6xNrj2ZIGe1EgB7FXU0Ut7OKnU5+TN3HalQ73cGqlTexexLFDb1zTHGH7tJfDa2qX3OIZ7FX+DAVSfxDoOqIOou56Tkdt+0TAK8e7btxFxQUIDg4GAsXLkRRURHuuusuVFVV4eGHH3ZcPaVkQUAQEAQ6gMDRo0dx4YUXoqKiAosWLUJycnIHSpEsgoAgIAgIAoJA1yNgrqlWU4bN8PF3H4+prkdRztgcAl989R2+/Hox+vfvh9v/8NtGyfZk7MPzL70Jbx9v3HHrTegVF2M5XqtImUcefw7ZBw7iovPPxpyZ0yzHunvFHdtkD0y7ExdKT4j8hD16sWNluCsp1xQNttMd5CiqlKe0JxgHMdyhv5r2lUPIYp7Ey0cFFQhKbHo+p9seMWIEuBiWk5ODV199VevfUJvI2vzUlABfB2iSUIibZTPipljXIMC+JeYteRh0TU086yzEnX9D/mq6hlj7Efjvf/+L//3vfzojyeI777yz1UKM+4sj7l2tntyDExB3XudyX++6i4D3dC7GfabpM7zraiJnEgQEgaYI1JYcRfGWVfAJDEb46On677RpGtkWBDqDwIpVa2Eym7Fz1x4UHC1CVGSEpbgNG7eirLxcb2/dvqMRWZylSOLMrGx9bM3aDU5FFrtjmyyd0okVwaUT4Ll4VrMacPQEq3WTdprNrqxO3PYrzUzhbDc0h5HFrorVxx9/jHnz5jV6iSWBnJGRgTVr1iAvLw+MimlPI2F58OBBUBJDIjjaE9nmy6pTf9AlJSUwqSlpPXtKFOHmkbLvEXpv5Ofn678nIS/bj21gYCASEhJwTGk/xcXFYdmyZa0WwvsLPZE5YyIqKqrV9JLAPgiUq49SShqFhIRoAtM+pUopLSHA+zlnC4WHhyM3N1ev814vJggIAt2PgNlUA/OxCr1UZOxAcL8h3V8pqYFbITBvzkx8+vnXGD5scCOimI2cOH4MNmzaogdwR49scBLisZSkRAwbOki9m+7HSTOncpfTmDu2yR7gOhMuxRVVSq9UDVYrr3UxxyPgKa917nI11Tk09KDjr7c2n8FNL0wv9SHltl9Su3fvtiknwSYPGzYMt99+e6P+f+CBB/D111/jq6++akQgrl69WnvzGV5K9oaMH7j0Fpw9e7ZDPJcbNVI2NAIk0DgAQEJn5MiRgkoXIVBZWYm1a9di3LhxCArq3kCYXdTkbj8NNd04GFVcXNxoFkW3V8zNK5CdnY2ysjIkJiYiNDTUzVvrHM3jgMjGjRvVFOT+emBk9OjRmDJlCsLCwrqlghzUKS0ttZyb9eihAmDw+VNeVu/hZjnogitLly7VA1HEOT5egvzY6sKcAznYsnkLQkJDMH3adFtJPGpf+b6dqMjYptscPmoa/KPiurT93irQXnBIkB7I4zPRMN6jA9womJDRrpZ+a4+VoK7WiNGiZtuF1A8mm801MFU0YNNSGe099rmSiaDNmDoZEeHyXGwvfpLe+RDYmXMEmXlH0TcuEgN6N0ibtFTTOi818yy4wVGppqJIqXbW69PWefmoY5EtZXfaY7yn0hHLML4XcLaXYTxeW9P5IHElFZWoNbmHnq+Bja1ff18fhAS6/rdycUW5cs5zf29we/ZXZM9I5UDaoHBAh1J+O9DoOBYdHW3rknHIPrf2LKbH6Mknn6wlJazRI9nb9MOGge04xfuzzz5rRBQz38SJE/ViXYa91/lRed9999m7WCmvGQRI0P/00084dOgQLr744mZSyW57I0BdcMq83HTTTUIW2xvcZsojgbZ582Y9OCLXejMgOWA3Z6LQi378+PGIiWnbB4QDquFRRfJaf/vtt/XsoNTUVI9quzRWEHAFBIJSBqKmKB81JYVau9gV6ix1FAQEAUGgOQQCe/hqv8nMI0VIjIlAkH8DOdpcHtnvPgi88/ZbWLtmtZade+DBBXo2ofu0TloiCABuTRaTdb/00ktb7Gey9AxmRw8Zevd2hwcSicvBgwfraeL0OhLrGgToSULsxboOAY4wp6WlCe5dB7mW1OF9rVevXl14VjkVMafsimgWd921wPs5gz7KrIWuw1zOJAi0BwHO0AsdOh5QXmHULhYTBAQBQcCVEUiKCsf+vCKUV9Vgz8F8jEyRd21X7s/21P2pJx7HOjVb9u+PPYaTpk/D2ef8CjNnndSeIiStgxE4pCTpnnn6Sezfl4nBQ4finvv+6uAzul/xbk0Wt6W7fvzxR9xzzz0499xz9S8/NlNSUrREhSE70ZZyOpOGZMLll1/emSIkbzsRIOZjxoxpZy5J3lkEgoOD9d9aZ8uR/G1HgEHWBg4cqJe255KUnUVg0KBBnS1C8rcTAZLEp556ajtzSXJBQBDoSgR8/OkUIY4RXYm5nEsQEAQcgwBjDQ1U8hPrMw6iWkks0AlN4g85BmtnKpUk5KuvvIyXXnkVvXsnYulPK9FLxZQRcy4E4pWj1HnnX4hfX3whzjz7bOeqnIvUxuPJ4r59++Ktt97S+mUkinmTZwCpriKKXeQ6kWoKAoKAICAICAKCgCAgCAgCdkWA0nDmY+XK0zjEruVKYYKAICAIdAUCcREhmNg/ET1DXV9ftivwcodz/OeTf8NbzZSZNHmKbo4Qxc7bq3v27NaVmypxIzrUSR5PFtOLmEt32jfffINVq1bpoF9nnnlmd1bFbc7NwHXbt2/Hzp07tV6otbcZP0xy1YjgBx98oNt73nnnoU+fPnqdx3JycvDhhx/qYIOnnXYaBgwY4Da4OLIh1Atdt26dlnTh9PuZM2fqxTgnj1Mnmtc6A0yyTwzZFR5bsWKFPk6PzHPOOcdyzMgvvyciQJz37duH7777Tl+3vXv31nqt9CSmcfCL1zMDd3J93rx5WgaEx3itMwgbA3ry2Ny5c+VaJzDtMOK2YcMGjSODfBn3kby8PP13QOwnTZqEsWPHaj0zFk2ddMoeMVgB9Yx5TGQTWgedg7mUiuI9nUEbef1OmDDBEiyTx5ctW6YDaDLA3UknnYSIiAhdMI8tX75c33uoZcxYBpGRrhlApnWkJIUg4DoImGuqUbptHapLChA1YQ68A4RscZ3ek5oKAoKAgYAQxQYS7v27RukT//jDD/haxbnyUzM3n3z8MZCEnDptmns33IVbt+Kn5UhSEnXJx7keF25Kt1TdRwV2u79bziwn1QgsWLAAzzzzDCZPnoznnnsOjBTK6O1iHUeAxAAJyTvuuANLlizBnj17GmlXHzx4EFdeeaX2Hiep/NRTT2nygBqjWVlZuOyyy7TOKMth/8yYMQOxsbEdr5AH5CRWu3btwoMPPqhJXkbDffnll1FRUaGvbf6++eabePLJJ0Ei55NPPsHWrVs1eVlZWYn3339f5yXJSUKIx0heirWMAHFdq/Syfv75Zz0owgGSjz76SGNM4njTpk3405/+pAOtMS0HSEjUx8XF6cEU3v45cMK/A/YB8efMCrG2IcDBEV7z33//vdad57VNPJ999lk9+MFBkG+//VYTm0OVVhYJYt5vODBCI1FP7Nknvr4eP3bbIugMAnv33XdrDCkjxO3ExEQkJSVpIp7P0UWLFiE8PByffvqpHiThwBO16V966SUd+I73eA6ckMznIGBIiGM9GTmYU11dbWkXB8fYzyS6a6prLPtddWX//v2auKceuqOxdFWMSkpLkHc4D/49/NEnuX5Q2lXb4oh615lrUb5vB1BdpYLeHUVAfLJDZ/Z5eXmr+4WfjpvA+7Nhxt+mse0Jv+Za1X6zEbfDCz7+9UR9XZ0ZdTUN2NgTi1170nVxfZKTEBAgUiSdxZYD1l999wP2pO9Tgdvj0EORV2INCBwpOIq9GftQUlqGqJ5ONECsPFJ9/AMtFTXXHFMeHOb6bXWPsj5mSeQCK7ynWt9X+V5gHbeDx8zmuk63pKqmFmYDr06X1rgAahC/9+4/8fmn/8G+jAwMHjIUjLdjmI+PLyip+O47b+PsX/0K5/xKOZwpp0Pus7f5KIkTf6tz27v8riqv6riDhyPOV1ZWhvf/9R4+Vt+3P/20DIGBgeitvg0MIz/xVyU3O1c5ifTs2RMvv/i86rt3EJ/QS8uHGOns8WvP/mI7rFUOSktL9bcD68nrsSudjOTr1B5XRwfLIKnw+uuva3KH3mXT1KgUA/JdffXViIqK6mCpko0PJhLuixcv1gQYiQPD+OFOQoGkwQsvvAASlTfddJMm7BcuXIj/qpFC/gGSXOCxwsJCvPHGG3j88ceNIuTXBgLEnOQLPbL50UUi58svv9Tk8A033ICioiJ89tlnWhf89NNP1yQm9+/du1eTOSQq77rrLlxwwQXac5B/AySMSaKJNY8AX8TOVhpMXGgZ6sWGpBk9jdkfHDQhefbKK6/gyJEjePXVV/X1zyBgJCz5EOU+Xuf8e3j33Xe1lrf1A6r5s3v2EXoIE0P2AQl2EoC0H5UOPq933lemTp2KF198EatXr9a4btu2DXzg/+53v8OcOXP0fYYEf3p6OkgmizWPAPEl8Xvdddfp+7v1BwhJeHoO/+Y3v9EDUL/88osOXEsyk8a/B95TeO/ZsmWLHgScPn26HgQUbcHmMZcjgoCjEfD264HwYRNQtH4ZaosLUJ6xDSFpwx19WilfEHAbBPgeJ2YbgdKyUuzPylEziSIwoF+q7UR23st3ldyjZbrUhJ6hdi5dinMUAvxuvX3+rViuZv7d+ee7tO70Y//4O775+iv8+9PPLcRdfHw80tW3K23O3HkYOWqUo6ok5baCwI9LfsCfbv+jDlz368suB/vrvX/+Ey+8/IruG2bfsmWz+u4qQZm6F/D4vFNOwQ/KKe26/7sK6zZsUgP5MmjZCszwbi2BHHccAiTKODpgBEIaMmSI9jrifrHOIUBc6cHV9CWKnl4bN27ExIkT9QmYhsQyPTB5jJ6CJO5pPDZr1iw9zVzvkP9aRICB1AxZCXo70EueRCX7gkQlvY0ZVJDkDD3ROMK3eTNv4qXaA5lTynmMAyUxMTH6WIsnlIMaAb6YElvKIXAaPrEmSUn8SR5z2j37hgMk1Gin9ATJTEok8N7DwRFO1+f9hx6X9HQVaxkB3ldIQNJbe/bs2cpDKqDeW1SNnhNDkpqUpOD1TCKZ9xbinZ+fr48Z0kf0imX/sU/EWkaAAxi8zjmoR+KXA3qHDx/WmUi28zhf4o2Ajrx/FxQUaCKe9yD2B0fqBw8erO9TzMuPAzFBQBDoXgT8IqIR3M8YGPbq3srI2QUBQUAQ6AQCmXlHsSkzFzty8lBjOu4t3InyJKvjEeC7/PXXXI3vlCzo4089jcuuuBJ/vONOhKh3+a3KwWDpj0saVWLzpo16e/ToMY32y0bXIfD94u9w029v0PISr77+/+ydB3gVVfrG3/Tee0IgkEDovYNKEUEUEFHXvmJfXTu61rXXVVf/uq6998KqIKiIIL13CISSAAklhfTe/uedOJeb3u69ueU7z3Mzc2dO/Z3J3Jn3fOc7H+CcqdNw2eVXaO9Ub7z+mqEiq5UhCUOaes96/6OPcfVfr8GUc6Zqz/+6QYkhsuw0SkDE4kaxWOYgRTKKaxQaGGgppb/gWqYGjlcKhRn+KOj+KikwUJjkMQZOZ9BdTvAcxU6KZ8ZTiR2PWttaTGGMIjDFnNtuu00TzChOkr1+rVNEo6CWk5OjiZpMQyGHgefInecktEyA/ls5AEJ3E7SAJ9fBaqSbTHldUyRm4P2F9xvG53VO4U3vD57jPq9z4ylkLZfumDFosU23K/RTTFcIvLZ5vyBz8qVgyQ+DPg2PfaGf0691bvV7kmOSbH2reV+4+OKLtdk3dNvEGR8UjvXBD+akWxuTKwViMqdgbHyOx3me59hfEoSAEOh8Al5deyJw+ARlVayLxp1fJ6mBEBACQqCtBLqEBMLd1RnllVVIOVH7/NHWPCS+ZQnc8fdbsX7dWiUSX4Wzp5xjKJzGNgz7k2sXSNNP7FTvuPR/GyyzwHUkFt1uVoZ9t996i/ae9fKrr2nP+6xAd2UQxZCs3s/0QH/FfDd4+dX/M8Q7evSI9h6gx9fjyrZxAuKGonEuFjnKF1ZewLTC5JaiAS3WzOH3xiINsoFCKOhQxKFQxkDmFM4oTvIchTZ+1wMtzyiiUWCQ0DIBXstcgIouJW644QZwgUBjIVgXZ8idwhl583rnIAm/M/AcBUtL+uNpuWXWG4PXM6fU0+0H2dP3OT9XqYceXru69SS5MvBa5nGmo6sVBp5j31FMlmtdQ9LkH1oH00cx2VEI5qwEuqSgaElrbt7LeS3r1zMFeF7f+nVOzvo5bimC6hb5TRYqJ7Rr9vLLLzeQ4EM8Xa6QPX9Lef/Wr3HeZ7jP65z3EeNz5M/7C69z9pUEISAEOp8A/0fdAsT9Wuf3hNRACAiBjhBwU0JxfFQIko5mIjUzF13CAuGt/KRLsE4C3337jWY5TOH3vvsfrFNJ/f2pvvESLYvHjhtfJ658sQyBsjK1fsk/7tO0hbuV9TfdKuqhrLTW1z6f8fmORk1tm5p1S6vjmJguWjQaimxQBj9clJDvZhJaJiCUWmZkthicEk7hgQuucYosX3ppxaqPZJmtYAfJWHv5UIIAxRg9cJ/c6beSgcIBF8Djgl88l5CQgKQktdiKCrzJUHyj71fmJaF5AmRJXlxY8ALl9J/+QxkoyNB6mzdlukWg5TZv4nSXwOteF4U5HYRWmvxx5lR+LhYmoXUEeH1S/KV7D3JjP1Cc5LT85D9HxHlvoaBJS2MOjjAur30G9gfvP+wLvT9aV7LjxaIIyUGONWvWaJzpzoDXMkVhuvWgSw+6EuJxupmgZSv/Nzibgex5ffO+z2ufW4qW7AsJbSPAPmDgfZoseQ3T9za/8zeV38mb9xsOALIfKCKzX3iO9yQR6dvGXGK3jgDvBbwfNxc4UCQDc80RUv/bJUVw8TL9okHNlypnhYAQEAIdI9A1JABHM/MQHuADN2cZlO4YTfOlzszMwLNPPakVcN0NNxpmuOol5pyqneFKgwQ98F2J76hD/nRZqR+XrWUIvPbqq0hJOYQg5cqSfoqNw6mcU9pX3Qhn+e+/a8/9c9SsRD08/+wzcFJ6zyOPPqYfkm0LBEQsbgGQOU/zBZe+RbnCO6fr//vf/9YWuTMeJTFn+facN90eLFq0SPPhSn+WXHgtMTERAwYMMExl5kJ3/AHgwmu0UOOL21Tl+PxjtUomPxR3vv32W7z88sv2jMokbaMYRlHy6quv1gQYipRfqZVJKehwIS/6IR49ejSee+457Vr/7rvvNIGM7hL4Yj1lyhS88MILuOuuu/Djjz9qfl7pw1hC8wQogHFhLwpkHPDYsmWLdt2zH+gTmm4S6Fv33Xff1cT6ZcuW4eabb9bOjRgxAr/88ou2wB2vfe7TF6yMtDbPnCLj3XffrV2rjEmLbn7OO+88nHXWWRrbtWvXaotrcgDkD7VYBhevo69cWrqyvz7//HOkpqbid/UgQ4GZA1ISmidAkXepWpSC/Cn6cuHAmJgY7brnbyb5cqFMDorwnk5f0Rx8iouL0/4P+BtAkXjx4sXa8fj4eLnWm0cuZ9tJgAPOHp4e6NG9dkqkcTZ8ydx/YD+GKl+HIhYbkzm9zwG5ktR9KErZA/8Bo+ERFn36pOwJASEgBKycAMWq8X26iaGRlffTJx99pM00pmHBFVdeVae2BWoGclZWpnYsNDTUcG7nju3a/hlnnmk4JjuWIcA++eiD97XCrpl7bQPjptSUFO0chWT+D65atUL73ketycOw6KeFWPDjD3hZ+aWOUu8IElpHQMTi1nEyWyz6dX3ooYe0ldspGtDvqISOEeCLBqeMUKykiElr4U8//RQXXnghBg0ahP79+2u+XenzknEp1nMaPwPPv/POO3jjjTc0QeLRRx/FhAkTtHPyp2kC5EiLSQozFC4/Uj/ADBRxxo8fr1lb3n///Zp7BLKldTe3FM/4uf322/Haa69pH1rWU6BvyTKr6do4zhkKu+RO8Z3WkxTp582bh3POOUcTwujblQNRn6jVYekygWLw9OnTtR9RCsk8p/+fUGCePXu248DrYEv12QYUJDmwQeGSgQNS119/vSZcUhTm/WPOnDnaQw1F41tuuUVjTu48x/sS+0ZC8wQ4Q4G+uSnEUSzmQqTkzEFX9sXDDz+sDYqQOe87N910k3af4bn77rtP86H+2Wefaf3EARPeqyQIAXMQ4G/YqtWrcOTIEQQHBWtFVFZUascK8gvUS0pUAwsmc9TDVvPk/2xFvrLoUs8V+Xs2IXjkZLEwttXOlHoLAQcloD8jOmjzrb7Z1Af+N/87rZ7Tzzu/gfC4/c9F7BghMuq0sLheuTDoqQw8unSJtfo22lsFf1JiL11M8H9r9pyLGjRvqzKYYtBna0ZGRmmzmz/+8ENkqoH6U6ey8f2PCzV/0w0Sy4EmCTgpkafWkWWTUezrBBeVozUepwfX91fIaYFctIgvn/oUV/tqvbRGCAgBISAEhIAQsAQBDuTwmUMPtF6h6wu+pBQVFumHbXZLq3n6f+PAEweqJJwmsHnLZmSczDh94M+9GtTgzDPOlAGiBmTqHqiuKEfOhqWoLi2Gq38QAodN0KaO1o3V9m/Oakq4j6+3NqOJPub1wGd+Dlw7UqgszUdNZfmfTVY+o31rfUZXV1egqvg0G1My+XHRr1p2Z44bg8CAWldCpszf0fLib8nCn3/Tmj3hzHHw9xW3LcbXwKHDR7Br9141UzQQZ4zp3NmKlFt0AbnGyRnuPrUDiaxvRXGu8otYqVW9xslFnQsybobN7POeqq8JxErzucB4Bg3PV1ZUdbg9+cUlqKyq5dXezFau+APXXfNXLXnv3n3QQ802Mw6pqSnYs3u3Zlwz/4cftWe5ESNH4cyxo3HXPfMw5+JLjKObZd/d1QW+Xt5myduSmeYVFylDsuoOF3nxhbOxfdtWTb+bOu3cBvkt+fUXbU2Yudddjwceelg7z2fU48ePKd2vq9mN0EzZX0HBQeraczK0MT09XXt34AHOije2djdEMtOOQ1kW86Vt1qxZmm9OTmfVRx50tk8//bTyg5KiPUTS4pd+PSUIASEgBISAEBACQkAICIHWEuiZ0FPzj+2E0w/7TEv3KDKToGWKzm7uygXFKORuWq5EYlfUKGHAybl5P9At5yoxhIAQEAKWJVBRWY1DJ7KRWVCEcb3FNYVl6Tdd2h/Ll2snOUPzCjWzsv5v9Ro1O4ihv5otuHDBAvy86CdceNHFSFDrwlxw4RztnPyxHAEONFAoZph89pQGCwxuUQP0+uLhY5WLVz1wHZ74+AT9q2zbQcChxGJaDtBHZFPhsccea+qUHBcCQkAICAEhIASEgBAQAi0SoBU5/cgbWxfTqjhBXlpaZKdHcPMPVhbFZynL4mCDRZ5+TrZCQAgIAVsgUFFdhVS12F11TTWOZOWhW1igLVTb7uuYphb8Zuiu3CL+5dLL6rQ3Sy1a/chDD2jHpk0/T7mLm6O5UwxSbqXeeve9BjPT6ySWL2YhkJ5W21/MfMbMWZh6bl3L4qSk3Vq5XG9qtHLBKMF0BBxKLDYdNslJCAgBISAEhIAQEAJCQAg0TqC+dbFYFTfOqbmjbgG1rhGaiyPnhIAQEALWSsDb3Q1x4QE4dDIHB45nIzrYX60p4myt1XWYeqWnp2ltTUzs3aDNXASNbkNolXrJX/4Cf/8A3Hjz3xrEkwOWI5CWVttfLLFXYmKdgsvKSrF40SLt2GWXX6HcvTmWS6k6MMzwRe5WZoAqWQoBISAEhIAQEAJCQAg4LgHdupgExKrYNNdBlXoprFF+WiUIASEgBGyFQI+IELgrgbi8sgrp2ebxB24rLKylnrr4WF94pCuD9997V6smhUcKxRI6n0D6n2Ix1/3oVm+B6vnffotTaj0yivt0KcKwetUqPPzA/ZhzwUwsX9a0V4HOb5n110DEYuvvI6mhEBACQkAICAEhIASEgI0RoHUxhWKxKu54x5WfylCL3v2Gwv07Op6Z5CAEhIAQsBABNyUU944Jx4BukcoNhW0uXmchVBYrRl9sMDo6pk6Z//vuO5w8cQJRan2Bv99xZ51z8qXzCOj9FaEWTXR2Pi1flpeV4d2339Iqdte8exEWFq7tjxo9Gq5ubti5Ywf69x/QeRW3g5JP07aDxkgThIAQEAJCQAgIASEgBISANRCgdTFXhBdfxR3vjaqifNSUl6E07SBKT56ektrxnCUHISAEhIB5CcSE+KOL+jjVXfPUvIVK7k0SiImpFYm5cJoejio/xs89+7Tmk/iZZ5+Hj4+Pfkq2nUwg+s/+yjfqL1bp+WefAftt1OgxuOrqvxpqyYULU1MOoWevXggNCzMcl522ExCxuO3MJIUQEAJCQAgIASEgBISAEGiRwOBBg+Hr69tiPInQPAGv2AS4h3fRIhUmbUZVcWHzCeSsEBACQkAICIFGCJx3/gzt6Pr1a7VtYUEB7rztVhQXFeHp557HuDPOaJBKXBs0QGKxA+PPOBMBAQHIzc1F8r59WrkLfvgen3z8Efr174//vvV2A4vjzZs2YcyYsRaro70WJAvc2WvPSruEgBAQAkJACAgBISAEOpWA8ZTJTq2IHRTu12cocgpyUFNVheqKMrhARHg76FZpghBwOAK5BUUI9BPL1c7q+KuvmQuKib/+/DPu+Put2Ld3LyKjIvHF199gyNBhjVaLrg2W/PqLuDZolI55D9If8fP/egl33XEbbrvlb4jr0R0HDxzATX+7BbfdfgfclS9j47Bly2aUKRcVY8aNMz4s++0gIGJxO6BJEiEgBISAEBACQkAICAEhIAQsR8DZ1Q0Bg8bCyc0dLu6y4rnlyEtJQkAImIJAtVqgc0vKMWSXVGF4Yg9EBskCaqbg2tY8KD6+8/4HmguD7Ows9O3bD+7u7s1mI64NmsVj9pOTzj4b6zZtwd6kPYiKilbiflSTZa5ds0azNB41anSTceRE6wiIWNw6ThJLCAgBISAEhIAQEAJCQAgIgU4k4Orj34mlS9FCQAgIgfYT4EwTFxd6Aa3C3sPHEBEo97P20+x4ytjYWPDTmsDF1GiN/JdLL2tNdIljBgJeXl5NWn4bF7dm9WoMGDAQvn5+xodlvx0ExGdxO6BJEiEgBISAEBACQkAICAEhIAQ6l0BNTQ2qyko7txJSuhAQAkKglQQSY8Lg7OSMwtJSHM7IbmUqidbZBMS1QWf3QOvKp//pXTt3iAuK1uFqMZaIxS0ikghCQAgIASEgBISAEBACQkAIWBOB6tIS5G5ZgbxtqzQ/xtZUN6mLEBACQqAxAl7ubugeGQondbKopKyxKHLMCgmIawMr7JRGqrRh/XpUqXUNxowVf8WN4GnzIRGL24xMEggBISAEhIAQEAJCQAgIASHQmQS4yF1F/ilUFeahMHl7Z1ZFyhYCQkAItJpAQkwkxvdPRL+4mFankYidS0BcG3Qu/9aWvnbtGuV/2gNDhw3FwYMHWptM4jVBQMTiJsDIYSEgBISAEBACQkAICAEh0BwBukGorKxsMkp7zzWZoZwwEHD1C4R/ryHa99JjKSg9cdRwTnaEgBAQAtZKwM3VBQG+3tZaPalXPQLi2qAeECv+umHdOgwaPBi/LVmCdWqhOwkdIyAL3HWMn6QWAkJACAgBISAEhIAQcEAChYWF+OSTT1BcUowLZl2A+Pj4OhS+/+F7JCUlYfiw4ZgyZUqdc7t278LPP/8Mfz9/XHPNNS2uxF4nsXwxEPCMiUNZTgbKM9JQoyyNJQgBISAEhIAQMCUBcW1gSppmzsvJCXvU89WO7dvxwEMPm7kw+89exGL772NpoRAQAkJACAgBISAEhICJCaSkpiA3N1fLde/evXXE4vLyck0oRg2wc9fOBmLxnt17UFFegezsbKSnp6N79+4mrp3jZOfXZyiqYuPhFhDiOI2WlgoBIWAXBKqra9RCdzkIVpbG/j5ibWyNnVrftUF8fII1VlPqpAh89sWXqFCzvYKCgoSHCQiIGwoTQJQshIAQEAJCQAgIASEgBByLQIJ6YYyMioSvry8GDhxYp/Hu7u6aRbG7hztGjRxV5xy/DBkyBN7e3oiNjdU+DSLIgVYTcHZxFaG41bQkohAQAtZEYGfqcexNy1SfDGuqlhXXRY3AWjiIa4P2A1eeuiwafP38OkUotnQ7LQVVLIstRVrKEQJCQAgIASEgBISAELAbAl5eXph7zdwm20PXE/XdT+iRe/bsiTvuuEP/KlsTE6gqK4GLh5eJc5XshIAQEAKmJRAXHoTjp3JxqrAEmXlFiPERi8jmCDtxuo6lQye4Nqi2dBvNVJ4TnMyUs3VlW2OnzRSx2LquM6mNEBACQkAICAEhIASEgBAQAu0gUFNdjaKDu1CSfghBIybB1ce/HblIEiEgBISAZQgE+HohMsgPx3MKsC89A9FRMXBS4qSExgk4OXFivGWl1M5wbeCstbNxBrZ01EV1V5Vlu6tT8LjYSX/VhyduKOoTke9CQAgIASEgBISAEBACQkAI2B6BmmqUZ59Qb6dVyN+5HjVVlbbXBqmxEBACDkWgZ0wIPNycERMSgBp7nc9uoh51dXExUU6tz6YzXBu4dUI7W0+k9TE7o79aXzvTxXRT7rDsMYhYbI+9Km0SAkJACAgBISAEhIAQEAIORsBJvbD59x+NGmcXVBXlo2DvNgcjIM0VAkLA1gj4KB/3E/rFo3tEMJydRZ5prv883NzgYueMXNXvl7urfYiPHm7udn9NUxB3c7X8IEZz/yemOid3I1ORlHyEgBAQAkJACAgBISAEhIAQ6FQCrr7+8Os9VKtDdVUF6JpCghAQAkLAmgk4O4vridb0D110+KvFYT2VaFyLrBN8GLemom2OUwMX1TaK4b5ennbjioT9FeDtpbWL/WU3V7lqiLNqm6ca6PH1tJ/+qn/Z2seQRf1WyXchIASEgBAQAkJACAgBIdCJBCoqKlBaWgoXZXXirV5uJViOgFdUV7iolzj3kEjLFSolCQEzE8jNK4CPEl7c3Bp/ha9S7ldO5eYjLEQWSTNzV5g9e7qjEN/FjWMmF28l0CnJuPEIctSqCNDPtI/qL0h/WVW/tKYyYlncGkoSRwgIASEgBISAEBACQkAItIHAyYyTWLVqFTZv2dyGVBLVVAREKDYVScnHWgg4q9Wiflu+Asn7D6JMDUbpoaa6BgdTD2PJ7yvAQSoJtkugtLwc2w8ewY5DR223EVJzISAE7IJA48OSdtE0aYQQEAJCQAgIASEgBISAEBACQgCoLisFfMXCW64F2yXg7+uD4KAg7FVi8YGUVEND1m7YiPLyCvj5+SIqIsxwXHZsj0BOQTGOZmZr0/XjIsMQ4ONle42woxqXlJSgrKwM7mqmiswQsu6OLSwqRGVFJby8lNsLDw/rrqyN1E4si22ko6SaQkAICAEhIASEgBAQAkJACLSdQGlGGjLXLEZBanLbE0sKIWBFBBJ7Jmi1qaysMtSKQjEDz4nrAgMWm9yJCglEiBL96Yk36XC6TbbBniqdmpqCDRvWIyUlxZ6aZZdt2Zu0V+urY8eP2WX7OqNRIhZ3BnUpUwgIASEgBISAEBACQkAICAGLECjPzoAyOULW9vWoyM+xSJlSiBAwB4HAAD9EhDe0HharYnPQ7pw8+3SN1grOyi/AqfzCzqmElCoEhIDDExCx2OEvAQEgBISAEBACQkAICAEhIATsl4Bfr0Fw8Q1ETXUVsrasQk1Vpf02Vlpm9wR062LjhopVsTEN294P9PNBQnQERiTGI9jf17YbI7UXAkLAZgmIWGyzXScVFwJCQAgIASEgBISAEBACQqAlAk4uLggcOAZwVcu11NSgulz5L5YgBGyUQH3rYrEqttGObKbavZV1cUSQfzMx5JQQEAJCwLwEZIE78/KV3IWAEBACQkAICAEhIASEgBDoZAKuPn6IGnM2nLz8UFBc3Mm1keKFQMcI0JL4ZEamlolYFXeMpaQWAkJACAiBhgRELG7IRI4IASEgBISAEBACQkAICAEhYGcEvEIjUV5ebmetkuaQQEVVNSrUom/VNU7KeLwazk5Odg3GzcMT0TFdUFZWDv+AQBSV1i5yZ+uNrlaW/07OtX3noWYEuLnKROgaxaSwpBR+3l623r1SfyEgBGyIgIjFNtRZUlUhIASEgBAQAkJACAgBISAETEOAPoyr1cJ3gKdpMpRcLE6AQlpOURlKypUfarXvSCEkPAKVVVXIKy6z22a7ubkg2M8LrnYu/jfVgSVqMGBzcgoKlFg8cXBfeLq7NRVVjgsBISAETEpAhupMilMyEwJCQAgIASEgBISAEBACQsDaCVSVFKJ4+xrk7txo7VWV+jVDoKCkAiVlSvB3MKGYSNzd3eHtZd/WphUVVcgpcFwf4x5urqhUFvNV1dXYe+RYM/8JckoICAEhYFoCIhablqfkJgSEgBAQAkJACAgBISAEhICVE6guKkB1UT5KTxxB/qG9Vl5bqV5TBIooFEuwawLlFZWoUm5GHDE4OzsjUS12x5CedQp5RSWOiEHaLASEQCcQELG4E6BLkUJACAgBISAEhIAQEAJCQAh0HgG30Ci4RcVpFcjeuQFluVmdVxkpuV0E6IKiWllcSrB/AuUOKhazZ6NCAhHi5wsoV855RbI4p/1f7dJCIWAdBMRnsXX0g9RCCAgBISAEhIAQEAJCQAgIAQsS8OjeByjKQ2VhPioKC+ERGGrB0qWojhJwclA/th3lZovpHcsbdcMeGtAjFs5q4T9vD4+GJ+WIEBACQsAMBEQsNgNUyVIICAEhIASEgBAQAkJACAgB6ybgpKZ4Bw8ZBzcXZ7gHBFt3ZaV2DQjQsliCYxBwdvCu9vWSRTgd40qXVgoB6yEgYnEr+4IPIxUV4hOrlbgkmhAQAkJACAiBTiVAizM3N1k1vFM7QQoXAjZAwMXbF+6eIsTYQFdJFYWAEBACQkAICAELERCxuBWgq6qqkJKSgiVLlmirzpp6FJv503m9TKVqRWeYKAr7kB9yl2A5AnKtW461XhKvc/rzc3Fx0Q/J1gIE5B5jAciNFGF8j4mOjsb06dMbiSWHhIAQEALNE6gqK4WLhwjIzVOSs0JACHQGgYrKKhw6noH46HC4yvN9Z3SBlCkEHIKAWcTiTd9twc5f9qCyrNJiECm0RvQKxzm3T4KHr2l9+dCieO/evcjMzMQ555yjiYymahjzPnbsGLp06SJijqmgtpAPRZyCggKUlJQgIiKihdhy2lQEKisrceLECQQHB8Pb29tU2Uo+LRAoKyvTuMfG0teZDI60gMskpynO5+XlqZW7qxAaKv4vTQK1FZnwHnP8+HHtvl6ofI+uWrUKZ599tjbI24rkEkUICAEhgGp1H8navg4lWSfQZeIMuLib9p1CEAsBISAEOkJAvcZi9a59KCwt07JJjI3qSHaSVggIASHQJAGTi8VZh7Ox8PklTRZozhNpe07AL8QXE246w+TFeChn8n379sXo0aNNmjdfbo8ePYru3bubNF/JrGkCFIspJOTn5yMmJqbpiHLGpAR0ISc8PBz8f5JgGQJyj7EMZ+NSdLGYg4G83iVYhgCv9fT0dHBghGL9nj17TDq4a5lWSClCQAh0JoHq8lIUHT+CmopyZGxZjajRkzqzOlK2EBACQqAOAa7p2C0iDLsPp2nWxd0iQuHpLi636kDqwBc+w+9L3oe4bnHw8vJqkBONzVIPp6JnQk+4uppcSmtQnhxomkB5eTlSU1MRFxfXqGEI9Z6jaUfRO7G3zOBvGmOzZ0xuZpZ3PL/ZAs19Mvd4nlmK0Kdymzpz3pD4gsuPBMsQYF9SxKHVnwTLEiB33tglWI4AmfP+wuteguUIkDs/EixHQL+36/cZueYtx15KEgL2QsBV+S8OHzZea06JEo3zDuyxl6ZJOzqBAH+HLP2+wTL5finBfglQIPb29EAVhc2jx+23oZ3QMn0W5spVK7F79y71LF+r0VRVVykjhN1YtXoVlF4vQnEn9E39It3d3dVs8Xywr5KTk9X/Q622Q61h2/ZtWL1mNby9vEUorg+uDd9NPhzS2S9nooe0ofclqhAQAkJACAgBISAEhIAQEAIGAj5RXeGf0A/5B3ajvMA8RiiGwmTHqgg89OBDSFKuB5sLnB3XrWs3DBw0EHPmXNhgthxdID322OPIzclFbm4uHn/8MVxx5RXNZdnhc999Nx9v/Oc/yFFlcmbNu+++g4mTJnYo3+3bt6u6P9FsHk5KNgsLD0N3Zdk3c9ZM9OnTp9n4ctI0BJydndAnNlpZF6cjxN/XNJlKLgYCPbr30GZ+c7aaUhq143SlqCxvtO9xcd0NcWWncwkkKAvv9evXKQvjFENf0dqYveahxGTONpTQfgImF4vbXxVJKQSEgBAQAkJACAgBISAEhIAQ6FwCIf2GwSs0AhSOJTgOgblz5+LwkcP45JNP8cfyP7SGP/LIw0jsnWiwTjuWfgwLFi7EV199pQm0r7z6CoYPH26AlJiYiHvnzcO/XnwR2dnZhuPm3Bk1cqQmWj/++OMmsyrm1O677roTJ46fwP33P6DlO3ToUNxy698M0/NLS0uV9eUevP3W23hLfS655BI8/cxTsg6POTv7z7yjQgIRHuQPF1mPxOS0OSBEkfHokSO1AjFL+NMisas67ukpi5+aHHo7MwwICEBISEjtvfbPPqJQzNBdif66pXjtEfnbVgIiFreVmMQXAkJACHQigaSkJLz55puYgHgC5AAAQABJREFUOXMmJk+e3Ik1kaKFgBAQAkJACNgnASclwIhQbJ9921yrEnomgJ/q6hqDWPzXa/7aQPycc9Ec3HD9jVi6dCmuv+4G/PDj9+jWrZuWdVhYGKZOm4pdu3bh9df/01xxJjvXJbYL+Fn2+++YP/9/JsmXIswZZ9SuA/ThRx9hjxKFx44d0+DZc9KkSZgw4SzMnDFLE9C9vDzx6GOPmqQOkknzBEQobp5PR87q1sW6SKzlpayMxaq4I1TNk5bWxfUH5uiiQqyKO87b5D6LO14lyUEICAEhIASaInDdddfh//7v/zBr1izxdd4UJDkuBFogQJdZf7y7GvkZBS3ElNNCQAgIgVoCVeVlgsJBCFBo0ENjlmlOSjS67PJLtSh0+/Ddt9/p0Q1bH1/Luwfw8TFPmTqPxliwwQMGDED//v21tn/22eegxbEEIWDLBHTrYuM2iFWxMQ3r2deti41rJFbFxjTavy9icfvZSUohIASEgMUJdO/eXSuTo6WyCq/F8UuBdkLgRHIGVn64Fq/OfgvL315pJ62SZggBIWAuAgWpyTj8yzcozT5priIkXxsjMH587UKIrPbeFvwc21jT2lXdM86stULmIrOHDh5qVx6SqH0ECopLsHHvIRw+mdW+DCRVowRoXaz7LOZWrIobxWQVB2ldrAexKtZJdHwrYnHHGUoOQkAICAGLEfjwww/xu5pmuHbtWouVKQUJAXsjEJUYgTu//xtGXTwEfqGnLbGqKmUFeXvra2mPEOgogZqaauQfPgA1nQcnN65AVZlYTXaUqT2kP2gkiHZkYbecnJw24SgrLUNJSUmb0lgi8oED6n9EBQo1PeKVyCbBYgSOZp7Cydw8JKedQFWVPMeYCryxdbFYFZuKqnnyMbYuFqti0zEWn8WmYyk5CQEhIATMTsDNzQ0TJ040ezlSgBCwdwK+oT445866fr8/uukzhHQLxvhrxiCka7C9I5D2CQEh0AoCTk7OCB95FtJ+/xFVJUXI3LwKEWMmGxY8a0UWEsXOCJSXl+OJJ57QWhUTE425185tUwsPHz6Mp596Gtu370BgYCAoGPfr3w8PP/QQ4hPiG82L7h0++/RTpKWnIzQkFJGRkTjzrDNx/fXXNTvT7I3/vKEtQkcRly6YXF1d8OJLLzZaRnsPrlixEkt+XaIlnzfvHlkArL0g25muZ0wEKBiXKavuA8dOIjE2qp05SbL6BGhdfPzYMbEqrg/GCr/TurigoEB8FZuwb8Sy2IQwJSshIASEgBAQAkLANglUVVah+4hu2LMsGe9d/yn4XYIQEAJCgATcvHwQMax2mn1laTGqxX+xw1wY6WnpSPvzs2/fPixYsBAXXDAbe/bswe2334aFPy3UBN/WAlm+bDnOm34+KpSl+tLff8Mvv/6MlStXwNfHB+efPwOLFy+ukxUF3ttuu10JyQ9jgjIW2LJlM35fthT33jsPzz/3vCY610lQ70tBYSEWLVqE77//Hnn5eRg0aFC9GK3/mn3qlIHF0aNHsXbNWrzwwr9w3bXXaQyefe4Z3HDjDa3PUGKahICbqyt6RkdoeaUcz1DXljy/mASsyoTWxSNGjJQBEFMBNWM+tC4eNmw4mvKtbsai7TZrsSy2266VhgkBISAEhIAQEAKtJeCirK0m3nwmxlwxEhkHMsHvDCf3ZyifdUBEQnhrs5J4QkAI2CEB78guiBg1EV4RMXB2kVcoO+ziRpukWxDrJym+Ju1JwsiRIxAeEQE/Pz/9VItbWhDfc888hIWF4a233tRcNjCRh6cH/v3Kv3HutOm4795/YMiQIZrlMM99+eVXWKgE6gkTJ+C+++7lIS388MMP2nb58j/w6J/HGtuUqcXmaP38wr9ewNixYxuL0upjK/5YgYyTp/12U8g+lJKiLbg8/bzpSqgZ1uq8JKJpCcRFhiFP+S7uERUGtz+fX0xbguPm1pb/ccelZB0tl74ybT849JNOVVUVCtUPPqcSMXh5ecG3E1auNW2XSm5CQAgIASEgBIRAewl4+nmi65BYQ/Ll76xE0vID6DMhAdPunoKASH/DOdkRAkLAsQj4RHdzrAZLa/HW2281cDlCv8H33HOPZu37xedf4L3330WEEo5bCq+//h+cUta5l1xysUEo1tNw0eIZM2fg3y//G6/8+1U89/yzmtuIF55/QYtCdxPGYco5U5RF8krMnj3b+LBhv1JZLj/6z0exJykJ3//wPUJDQw3n2rsze/YFuOvuuxokX7NmDW6++W/45utvcP8D9+PaNrrlaJChHGgzAWdnJwxJkPtTm8FJAiEgBJok4LBiMYXiFDUS+sUXX4BTipycnDBq1ChcffXV8PeXF8Emrxg5IQSEgBAQAkLAgQjMfnwGuny7BZvnb4O7p5sDtVyaKgSEQEsEqpWPUCcl8vE9QoLjEKAl8Esvv4StW7cpf8C78fdbb8NXX3/Z4vTnrVu3apBiu3ZtFFa3P4/r8Y4cOYLc3Fwtbnx8XV/G48aNU24sljaaT2FREa677nrQEvjrb74yiVDcaEF/HqTF8j/uuw8PP/wInnziSbCuZyl/yhKEgLkI5JeUIz2nCFXVNeYqwuL5OqvfkehAbwT6eFi8bHMWmJlfgsyCUlSrmQj2ElxdnBET5AM/O38vcFixuLq6GllZWahQD3lXXnkl0tViAZ988glK1VSdefPm2ct1LO1ohIA80DcCRQ7ZDIGFCxfiySefxKWXXoq77mpo3WEzDZGKCgEzEDDH/d3dyx3jrhqNsVeOMghC6XuOY9lbKzDhuvHoMjDGDC2RLIWAELB2AmW52Ti5YTn8uvZEUO+B1l5dqZ+JCdCX6YUXzgathTdt2qQZH/Xp06fZUg7sP6CdZ9rGgp9/rUuLgwcPgu+qKYdSDNFCQkIM+y3t3H3X3ejXr58W7f77H8BPyq+yp6dnS8k6dP6iiy/Co48+Bhpkff755yIWd4hmxxNXKxG1tKIc3k1cax0vofNy+GrDIdz66VqgsrrzKmGukpWF+L8uHYm543uZqwSL5vvizzvx3IJtgP3oxKf5ebjii+vPxJR+9vse4LBisZubG0aPHq192ONcOZHTgtatW6dN+dFfOOmLidN4uGXQt9oXE/8xZ94mrqpNZ8eHLz0Ic52E+bdkrfPWt+Yv1f5KePjhh9Xq2duxceNG3HrrreC9rLVBuLeWVMfiGXM23u9YrpK6JQJkzY9+jzc1e/25gPUozilGxsEsvKsWwps+bzJGXjK8perJeSEgBOyMQNHxI6gsKkBO0lZ4hoTDKyzSzloozWmJgLHrCQrBLYnFYeFh2jsnjZMaC0WFRdphCsNcpIk+kfWQmZmJ6Oho/Wuz29vvuF0tivd3zTXELz//gqeeelp9nmw2TUdPUgAPDAxEdnY2Duzf39HsJH0HCOQUFGHbgcNwUsLjWQN7Gwa6O5ClVSW99ZtN9ikUk7IS+e9V7bt6bAJc1D3AlkNOUZkSirfbp1DMjimrxF3zN2OXiMW2fJm2XHe+UPKHbcuWLZorCv2FULc+5mqvaWlpmihTXKxWQDYSG1vOvfkY9JdcVlam+U52cXFpPrKcNQkB9h/7kQ9q9FktwTIEOOjCa53sJbSfwHnnnaeJxeeee67Gk0ybCry38TzvMxwQ0+9tTcWX46YhoN9jdL/4pslVcmmJAO8xvK/zHlOkpuCaM/QcF4/b/3czti/YgZ7jEwxFnTyQIQvhGWjIjhCwbwJBvQehNOuk+pzAyY1/oMvkmXD18LLvRkvr6hBIUv6A9ZDQ8/RvgX6s/rZv3744dPCQ9l5Z/xy/0+0Eg24VnJAQD/oy5u8b3Sc2JhavXr0aQ4cO1dbe0RKrP+OViwqGZ599Bls2b8Fnn36GiRMnYPLkydpxc/zJzMjU3qeZd0LPnuYoQvJsJQEPd1cUl5epAXTgaOYpdA1vvVV6K4votGhV1GGUCGnXoaJKNbES/mpmmy2HrEI1KMaL0I7DibwSO24d4LCWxXqvUkw5ceIEPv30U01Qoc9iPfCHmdOAuHgA3VQkJCSAo7oUAEwVmBdfapkvR5AlmJ8A+5yCAj8i0Juft14CBTRdnNe3+jnZtp7Atddei8suu0x7KcjIyGgxIV3tkDfvMRIsQ4D3GN7XTflbYZma23Yp5E2hmC6m8vLytN90cw6QuLq5YNiFQwzQslKz8OYVHyC2fzTOumE8YgZHGc7JjuMQoP9SWhs2tpgUB+4OpRxCdFS0rI9hB5eEk5Oy/BxxJtJ+/xGoqkRFQZ6IxXbQr1oTWiFw7FfWs998860WnWJtfatiPgsw6Fvuc5G6xYsWg9a+8+bdU+c9hL9hixf/zGi48cYbtK27uzvmzr0G77zzLj766GPQT7Fx4Lo7N1x/I1avWaU9F6r5NdppvcygoCA8//xzasG565RP4fvx06KFrVqIz7iMPzNscKj+gWeeedZw6PLLLzfsy47lCdD1RPfIcBw6noF9R48jJiRIXWv2oTPYkYviZi8MuhGx9dCK26itN1GzBLf9RjTdAocWi/lDSrHlgw8+wObNm/Hiiy/W+QHlD/SYMWO00VqO2tJNRVxcXNM023GGQg5F4h49eohY3A5+7UnCfs/JydHEnNjY0yvetycvSdN6Ahx8oXVEeHg4fHx8Wp9QYnaIAC2LOTui/sIoHcpUEjdLgAMj/L3g/T0qSgTDZmGZ8CR50yqrS5cuyM/P1/wz6i/MJiymyayCY4Mx+9HzsOL9Ndi9JEnE4iZJ2fcJisR0E0SRJjAoUGtsjXrp27tvr3Z9+vr4ondib/uG4ECtc/X0RuSoiXBRWzefWn+zDtR8u2sqn1U56PjHihWGttH1Fy2COfjI35STJ09i7Zq1ePrpZ7Tf+R7xPfDmm/81xNeMIwoKsVXNWGXYoO4HM2fNhK+vLwYNGoQ777wDL730Mu679z68+NKLWr4Uih9+6GFtsby/3fI3jB4z2pDf3ffcjRUrVmLJr0vw/vsfKOF3rnaOA6MPPPCgWpz9Km3wie8227epKd8qrF27Fom9E7XnbebVVS2cx9/Hyy69HK+8+m8kJiaiKb/JWgbqD9vKZ0gaVe3du087fODAQeTn5cPLu9aCnuf3J+/Hf998U6sf32nvv/8f4q9Yh9iJ254xEUhTVsW8HvOKihHs79uJtXHAol2d8dickZg1rAeST+Tixk9XIi+jwAFB2ECTvd3x+uVjcUZiNNYdOImbPlsN0CpagmNbFvNH9u2338b69evVj/ZLCAsL0x4QvL2961wa/LHkwwNvtqYOzJsf5i2Wxaam23h+5M2gbxuPJUfNQUC/1s2Rt+TZOAHeW8idH3NaWTZeuuMeJXdz/GY4LtHWtVy/r+vXfetSmSaWs7LaGTi9P/pP64eK4nJl31X7W7P5620I6hKIQVMHmKYgycWqCXBA1NfPVxuUpnjDUFRcZFioqqdMz7bq/mtP5TxDTvuVbU96SWM9BK688iqsX7e+ToVmX3Bhne/8wsGgXr16Ydq0qbj6r1fXWT9i2bJluOnGm0GjIy5Y99uS3/DTwp/wzrtvY9KkSfi78iXct19f/POfj2L4sBHoFtcNB5UI6+Xlhf+88TqmT59epzwuTPf9D//T/A4//9zz+OLzLzRxeNfuXZh7zTW497578YESkZ9//oXaMv388Nprr+PVV/8Pa9etwddffY1jx45pwjFnmV0052Lcp9Jcf8P1dcqp/4WGUlddeXrGLc8vWrRI+xjHpSFI125dcf6M8/H3v9+qCdHG52W/cwi4qX4Z1jMOfj5ecFf7EixL4PGLRuGfF47UCh0cF4b+XYLRb95ndm+JalnKpinti5vOxqVjal3nDOwWhuggH8x4Ts0YkuC4YjGnAnIxuzfVSOiMGTPUtJ/FmphCy+ELLrhARBX55xACQkAICAEhIATaTMBZLSjj4euhuTqqrqrGodWHkXFgC7Z8uQPXf/hXuLjZx1TQNoNxkAQclOvVs5e2DoahyX/OJg0ICNAMEwzHZcduCVRXqpmDrm522z57bdiXX37R4abRL/CBg80v8EbRmB/OcD10KAVxSjCOjIxssmwKxlyg7tFH/4nkfcmoqq7SxGoeZ6Dw25T4S0tlftoaxo8fj5TUQ21NJvGtiEBIgMx26KzumDMivk7RfbuEICYqULk2rR1ErnNSvnQqgdnDe9Qpf/rgOOWsVz2rV5reULROQTbwxWGHmWjFy6mqd9xxh2b9xcWfeIzTWCUIASEgBISAEBACQqCjBGhtfNErM5G67gjyjxTAzcNVe+YoL6mAq7sLeF6C/RHQrYsL1VR04yBWxcY07HO/Si0qlbFlNWoqyhE1fqoYn9hnN5usVbxX8NPa4Obmhn79+7U2usQTAkKgMwgoowF/b486JdMHcXq+fS+GVqfBtvJFPYtX/znrXK/yqSLlgkKEYg2Hw4rFnDIzZMgQ7aNfGLIVAkJACNgCAfq2k8UZbaGnpI5CAJpY1H1MN/hP9TfgWPP+OhzacBijLx+G3mcnimhsIGMfO41ZF4tVsX30bUutKM/PQcnxoyqaWh8jaRuC+55eBLOltHJeCAgBIWAuAqVqVnV6Vg7io8VtjrkYa/l6uuHne85Dl2AflJZXwtO9Vm575Nt1QIH4wTUr+zZm7qLcTWx+cJYyInZSLmer1dpKzqhUMwJv/WhFG3Oy3+gOKxbbb5dKy4SAELBnAi+88AIefPBBXHLJJfj888/tuanSNiFgtwR6jInDyf2ZWPyvZQjtHoLwXq23LLNbKHbWsPrWxWJVbGcd3ERzvEIjEdRnsBKKtyJ333Z4hobDOzymidhyWAgIASFgfgJl5RVYti1JuS+phq/yjR0RdHrw2vylO04JvqF+WK/Ex+5hAZj18iIs2HcMM3vHYM+JHBxIzXIcEDbQ0sQeYVj2j1lwUZ4FRjz2LY7kFuPMHhFYm5qBjBN5NtACy1RR5j9ahrOUIgSEgBAwCQEKxLQs/uqrr8RtjkmISiZCwPIEug6NxV9euRBXv3mxQSguzS/FjgU7UVleZfkKSYkmJ6BbFzNjsSo2OV6rzjAwcSC8wqO1OpadyrbqukrlhIAQsH8CHu5uSiAO0Bq69+gxWeTdDF0+JDESh567DIE+nhj8z6+xYP0BQAmQP67bL0KxGXh3JMtZo3ti2xOX4FRhKeIe+Bzbk08gJyMfP6i+EqG4LlkRi+vykG9CQAgIAasm8Mgjj2DAgAF48skn66y+bdWVlsoJASHQKIGwhDDD8QOrD2HJqyvx3lWfgPsSbJ+Abl0sVsW235dtaQEHCsKGn4mIMZMR1HtgW5JKXCEgBISAWQgkxkYpt1jKE0JxCY5mnjJLGY6a6WVn9cG6f16EtOwCdPnH50hOyXRUFFbf7vsvHIH/3XUulu1JQ/8Hv0RJVt21Jay+ARauoLihsDBwKU4ICAEh0BECc+bMAT8ShIAQsC8C/c/ti5BuwVj76UZ4+LgbGlejFt6g+GRPIfvwKexanISctFxUllWiRi38Yq+hqqoSJ1zs17rUSfn6c/FwQVBUAPqd2wdhPULttSvb1C5XD0+4Rsa2KY1EFgJCQAiYi4CPpwe6R4YjM68AXh6nnzHMVZ6j5PvEpWPwyIUj8f3Gg5j96mJAZodZZ9erBaU/vmUKrjqjN179eRvu/OAPLi0goQUCIha3AEhOCwEhIASEgBAQAkLAEgSi+kbiwmdmGIoqL6nAZ7d8g/5TEzFo1kC4e7kZztnqTvKyZPz03O+oVouISLAvAlt+2IWpd5+FftP62lfDTNSa6soKOLva/v+wiXBINkJACFiYAK2L+3SNtrsBaAtjrC3OzQVf3z4NF49KwPM/bsb9n67qlGpIoa0g4OuJVf+YgdEJkbjx3WV459cdrUgkUUhA3FDIdSAEhIAQEAJCQAgIASskUF5UhtC4IKx4dz0WPLrICmvYtiqV5JXg55eWi1DcNmw2E5sW4r++sgIFmQU2U2dLVJSzA3KTd+HIr/NRUVJkiSKlDCFgdwTEm3/Hu5SLednbTKWOU2lHDgFe2PDExbhgWHdc/d8lIhS3A6GlksTEBCHl+cswIDYUE575XoTiNoIXy+I2ApPoQkAICAEhIASEgBCwBAHfUF/MePRcZKVmo6q00lDk8T0nEBwbBA8/D8MxW9hJWZeKCqN22EKdpY5tI1BdWY2Da1IwWFnCS6glUF1RjryDe1BdVoKMjX8gevw0OCnRRkLHCYjw1XGGtpKDs525Y7IV7lLPugTiu4Vg+f0XwMvdFWOfnI9NScfqRpBvVkNg4qCu+OHu85CZX4LEB7/AiWO5VlM3W6mIPKnYSk9JPYWAEBACQkAICAGHJBAaF4KI3hFa22m9ufCpX/H25R9j9XvrUFl+WkS2djj5mbKQiLX3kSnqV5gp1rPGHF3cPRAx8ixwdamy7Ayc2rPV+LTsd4AArbYlOAYBJ1EtTNrRWfmFWLUzGflFxSbN194yozgc1zVEa9a04T2w46m/oKisHD0f+EKEYmvqbLV+Qt/4cIRGBmi1+tu0QVhy/yxsO5yFeNVXIhS3r7PEsrh93CSVEBACQqBTCFRVVWHjxo3o378/fH19O6UOUqgQEAKdR4ALil384kxs+HwLDipL3bFzR3VeZdpYcnWF+CluIzKbjF5VIRPG63ecZ0gEgvsOw6ndm1CWk6EWdawW6+L6kNrxnZbFLmrhoirxgd4OeraVxEX99kkwHYHko8eRW1SEpCPHMapPvOkytpec1H1lkfJze+7gOK1Fu45moV+XECzdlYYpLy4A1JoSEqyEgK8Htv5zDgbHhWkV2nY4E4O7heHDP5Iw983fAPl9aHdHyRhdu9FJQiEgBISA5Qlcf/31GDNmDMaNG2f5wqVEISAErIJAYHQgzpk3CVf892IlONW+QO/9bR+Wv7EKRdnWa70rVoBWcfmYvRJi7Nk44oCe/RA2dDyixk8VobhxRO066utlW+542tVIB0/kqab8u4nrFpNeBVzojiEzLx8nc/JNmrc9ZHb1WX0MQjHb01/5vF26WwnFT/9PhGIr6+CnZw43CMWsGoXi13/Zjrn/+VWE4g72lYjFHQQoyYWAEBACliSQlJSkFbd//35UVtrO9HNLMpKyhICjEHBxdTE0NT+jENsW7MI7V36G47uPG47LjhCwOAFRixtFTitYv24JyhuFvH41CqidB309XBHg7SELd7WTn7Un8/JwQ7Cvp7VX0+bqF+Tng6jgQK3e+5WVsYS6BHpG1LozMD66dNdRQLkCk2BdBBL+dD1hXKvfxZe0MY5274sbinajk4RCQAgIAcsTePvtt/Haa69h9uzZcHWVW7jle0BKFALWSWDk5cPQb2oidizYjfDEcK2S9G9ckFkA/wh/66y01EoIODiBajXo6yy/5R2+Cny93OHj6YZyNd24Wg1W1CiPN7L4XfuxFhYWorSsDF6envDx8Wl/Ru1Iqc1AURNmXNXgirOrs7ZtRzaSpBUEeivrYv6f9O4a1YrYjhVld/qpOg3mdfkzxWIJVkfgUEZdy/iSskos3icLD5qio0RpMAVFyUMICAEhYCECAwcOxDvvvGOh0qQYISAEbImAT4gvxlxz2ofx/pUH8dMzv6HflF4YeflQ0H2FBCEgBKyDQEnmcZzctAJhg8fAJ6qrdVTKhmtB0cvDaLaFJZtSooTVVavXa0WeNX4M3N3dLFm8yctKOnoEaenH0b1bVwzo19vk+UuG1kHAx9MDQ3vGWUdlrKgWY/rF4I25E5BdWIqy8iqUVVbhsfkbsC35hBXVUqpCApcrdyF3Tx+M47nF4JydrIIS3P7JSpRasUs2W+o5EYttqbekrkJACAgBISAEhIAQaCWB2MExGHHJIGz9fhdCe4Rg6IUiFrcSnUQTAmYnkH8wCdWlJcjYvAqxk2bC1VsWrTU7dDMVUK0WLCwpLdVyF9/sZoIs2QoBCxC49uwBeOu6Cdh46CTGPvcjUFD7f22BoqWINhJ48rKxeHj2CMzfeBBzXl0MNbWkjTlI9JYIiNOslgjJeSEgBISAEBACQkAI2CABrwAvjL9uDG78/GoMPL+foQWr31uHrNRsw3fZEQJCwPIEQoeOg4uXD2oqynFyw3LlOkH5TpAgBISAEOgkAhXKgra8wkHXQ1GuT1786xl478ZJ+HrdAYx99FsRijvpOmyxWDcXfHPPeZpQ/OwPmzDnXwtFKG4RWvsiWI1l8YiLBiFMWb1kppzCsT0nkL5bzPzb16WSSggIASEgBISAEBACpwl4+HkYvuQdz8O2hbux7ostGHReX5x91wTDOXvY8fL3QM/x8QiLD4GL8nd56nAODm9N054vE8bEwT/cD1t+2NnpTfVUfeIX6gOvAE94+Xsq8f4Uso/kmqxeXQdFo8uAaARE+6MwqwgZBzNxcO1hOnLFhJvGYt1nm1CYXWyy8iSjthNwcfdAxMgJOLZiESqKi1BZlA83P7H+bztJSSEEhEBHCaRn5WB3ahoiggIwKN7B3OK4u2LB3dNx/tDu+Oc36/DkN7UuZTrKVNKbgUCgNzbePxODuobiqjeW4NPle8xQiGSpE7Aasbiqshq9z+4Nt7UpKC0s08RiF3cXUESOUQ+7Jbkl2Ll4D47ukNU69c6TrRAQAkJACAgBISAE2kIgICoANyhL4+0/7ICbWhBKD5XllXBVL0y2HLqPjMX0+8+BT7A3slKyUaXa1PecPpjk5YakpcnoMToOaTvSrUIsnnzrePSb1teAe/kbK5VYvM3wvb07bp6umDpvIvqqZ2o+T586fApdh3TBmKtHokAtAkOjjB6j4rD7lyQRi9sL2YTpPIPDEK4EY25dPb1NmLNkJQSEgBBoPQH6/C5XC26mZWajR1QY/Ly9Wp/YhmO6B/tg04MXoGdkIC58ZTH+tybZhltj31VPiAvF8vtnwdPNFWOe+A6b94ouaO4et5q3Au8gNUrw1WasfK92JMc3xBsXPn0eIntHGhj0OTsRH93whbK+yDEckx0hIASEgCMROHnyJL788ktMmTIFffueFhociYG0VQgIgY4RcFfi6YhLh9XJ5H8PLISLhwvGXjUCkX1OP3vViWTFXwKj/DHr8fPg4uaM7x9eiORVKVpt3bxcMelv4zFo5oAma+8f7ovEs+Kx8ZvtTcYx9YkNX21VFs/pmHbfZDi7mM4r3MSbx2lCcerGw/jxiV9QWlCmVb3bkBice//ZmlBs6rZIfh0j4BvdrWMZSGohIASEQAcJRIcEIuW4D3IKi7Dn8DGM6hPfwRytP3n/hAj89o+ZWkVHPPYtdh04af2VdtAanjsiHt/ePhVHsgrQ759fIy+jwEFJWLbZpns67WC9PXzc4KssQRiCYgJwxesXaUJxYXYRvr3vB3xy05c4ue8kuinrCAlCQAgIAUclcOWVV+LOO+/EhAkTwAVVJJiHABeoyc9XVniZmShTq5w7SmC7i4uL67RbrjP77332e8K47sg8mI2v7/0RZcXlNtfocdeMAEXwTV9vNQjFbERFSSV+eXk59i3f32Sb6K7hzBvHNXneHCdo4bvrl73I2J9hsuwpmA+aNQDlxRVY8NSvBqGYBVCYnq8GBKrVTD4J1k2gpqZa/BdbdxfZXe1a+zsvi/fZXdfXaVDfbjHa94KSUpTZue/iOeMTsenxi5GRV4yu//hchOI6V4J1fbln1jD8NO88rE4+jj4PfClCsQW7x2osi9N2HMOsJ85DdP9o+Cl/cnzgP3U0B1/f8z3yMwo1JFt/VKt5xwVbEI8UJQSEgBCwLgJubrXTxl1dLXf71gVEbn197X+1drYzJycHGzduRF5eHvr37+8QVtx8WczOzsbevXtx7NgxDBgwAD169ND2fXx8EBoaChcXF+v6h5DamIQAp58OuXAQBpzfH5kHMuHh7a7ly0Xw6AYsdvDpgfpKtdr0gZUHcHTJMZSXVcA7Yz/8Z/qDM8Q6M0T2jtCKz25i9tnv/1mJXmcmNFrFkLigRo9b4iCFXVOFyMQw5ZLYCSXq5bckr+EK7hmHspVLt90YNKNpK2tT1UXyaR+BytJiZGxcAXf/IIQOGtW+TCSVEGgjgUq1sNn2XTvRI64bQoIb+s3OOpWLlNTDGD5kYBtzlui2RCDIzwdDe3ZXfov94eJsNTaFJkf4yMWj8MTFo7FwSwpmvLxILY7moIv6mZysiTN0dsJ7N5+Nayf0xX+X7MAt7y0HqmtMXIhk1xwBy6kN9WrhpDqfH93CIXl1CjZ/tw3D5gxGdVU19q88iMUvLK1jFRE3tAsy1YOuBCEgBISAoxL47LPPMH/+fM2y2NkCD3JVVVVITU3Ftm3bQIF6+PDhiImptTyw1z4oLCzEypUrQb7dunXTROPIyEgEB9v3YCUtqZcuXaoNCHTp0kVrN/uewjHF4l69emHw4MEiGNvrha/a5arWiojqe9oFxdb5O7BjURK69I/UFsKjD+AfH/8FeSdOT//btHMntn+ThMm3nYF+U/t0Gh2f4NqBrLjhXbDr170N6lGQWbvIW/0Tnr4eGDzLPgQQ35BaBvRLHRTjj5z0/PrNVYvcpYpY3ICK9RwoOn4UpVkntI9naAR8Y+Ksp3JSE7sl4O6uZvgqH7Wr121AWGiIoZ0lpaVYvX6TGkg+hd6JPbXBKMNJ2bFLAnRHYU/BVfkknjs8HtmFpZi/8SA+u+UcXD6uF176aQvmfbwSEO3Raro7OjoQFwyKw/6TeViy7xiW3zcDZyRG47YP/8Drizq+poPVNNSGKtJpYvGlL1+A6H5Ryr3EV6ClQ01VDZa+thJ/vL1Ww1dZdnqEZ/zcUcoaJB6h3UOw8KlfbAivVFUICAEhYFoCQUFBuO6660ybaTO5FRQUYOvWrZpQTIvb7du3Izo62uIvDBStLWHVynLS0tKQkZGBGTNmaMIpBdP9+/dj1Cj7tfKqVIuaHD9+XHNBMXXqVHh6emruN9LT0zULY7Jn38fGxiI8PLyZK0ZO2ROByXecpZ7VIrH52+3KnUM5vnvgpzqD+HpbK0or8fO/lsHdxwM9x/fQD1t0m38yH55+Yeg1oRdG7M/Cpu+2q6n8dd8CU9YfRlDsaSviUGVRPOHm8fDy90RVRRXgZFTlukm1E36hPogbHquMGmqQoSyw6Uqi2aDyC+0ahIjEcJW1k3IFkYaCzNrZcs2ma+fJPMVAD+c9MAWLnl+qZunl6oe0bZpaKJpuRqoqxB1FHTBW8iWgeyJKMo6h+NhhZG1ZDY+AYLj5+ltJ7aQa9kygR/c4pBxJQ2bWacOsEydr3eRQTO7eNdaemy9ts0MCkUp83Pv0pQhQzyYM+eq3z9vDFde9/Tve/22nHbbYdps0tl8XLFMLDbq7uWiNyFfPnHwkm/LcD/h922HbbZiN17zTxGKu1uyiLobwhDBNLNY5GovE+rETylcxrVmCYwPh4mq/UyL09spWCAgBIWANBCggHj16VPPdS+GUlqfLly8HLW/9/PwsUkWWRbGWorW/vz9o8RoQENCusikEc4p2cxbZ9E9MYbhr164ICwsD03Tv3h0HDx7EkCFD4O5eOz2/XRWw4kTl5eVau8mXAxIcGBg5ciS4oCIHB3gtJCcn49ChQyIWW3E/mrpqXHiN1sL8LH7ut0aFYuMylylXD/Fj4ky6YJtx/s3tH1yboj1T0jp64q3KynlabxxQi9yl7UhH+p4Tmu/iFe+uM2QRP7obLnx2hmHgi8+k9y27zXD+9//7A5uUZTVDlHLvMOWeSQjrEYLiU0XKXVqteHd481Esfv43g7s0Q2K1w2fWmY9O0+pEIZoLzXkHeeHUkRz8rNKk72l6IZ2/vDgLXYfGolKl4z2LbXpt1juNupYwLvPo9mOaEEw3InTrds17lyN5WTKOqOPkcCotD6WFZXh1+lvGyWTfygiEDR2H9LxTqCwqRMmpTBGLrax/7LU6Hh7uShDugv2HUhs0kUKym1unyQYN6iMHLEOgoLhECayliAk9PchqmZJNU8qj5w81CMXM0V/9Nt758QoRik2D16S5PHnRSINQrPWVlzvGPf4t1uxON2k5klnbCHTaXZ/TASN7A0fVw2tL4cCaVPAjQQgIASEgBCxHgMLpgQMHNGtS+qulyMrPiRMnzC4WU6w8deqU5v6CfnTpBoHWvrT6pR9dflpracy8KHTv27cPUVFRWnsao0ifvSyD5dG6lvmzvRRQd6qp9iw7JCRE21JApahqD0H3VZyVlYUpU6ZoTaJARf/Uuo9qism0Kj5y5IjmisSSPrPtgbGtt4ECY7JyD9ZS4LPdyX0ZdVxZtJTGVOc3fLUVccO6GsoOjw8DPwwUa/cp0XTl++sNLjQy1GJ+C5/8Gd2UKDtQ+WqmW7SFT5+evXYyOdNQtZmPnQu6dvj1xd+xbeFuhHYLwnkPTkG3YbG46PmZ+PD6LzUXanqCkK6BuOqtS7X1N5KWJuPnF5dqYvWUO87EkNmDMOOf0/DmpR/p0Rts3dS6HXTV5qYsoI7tPo5Da1PVonUtLzpIQXrpq39g6rxJmkEGRea+Sujnh4FrgWz4YotyLbJH+y5/rJOAi5s7IkaqRWwrK+AVetotjHXWVmplTwR062IOEOtBrIp1Eo61zcwrwIakg+o52Amh/r7wUNblthb8vWotio3rfcBoBo7xcdnvXAL+ShyuH9LySuofku8WJtBpYvGe3/Yqa4tQzeph+X9Xaj7x6k8XNDcLCggUBVavXq1NveWLMKcZ6wtImbt8yV8ICAEhYK0EeH/k4m5c6I1+iikeenl5aQIpXRP07NnTbFVn2bm5uZr7C265wBxdH7AutDLesmULKioqWrXoHF94KABT7KV1MEVm+lxuzLqY4jgXd6MwrrtaYLspCtPSePPmzZpoTVE1MzMT48aNs4vfC7IkG1pu0zdzY4HiMH8jKbizH2h13VyguMxBBYr8FNgl2CYBunbY+r+d2PHTHlSWKTcNrQibVm1GaF7j/r3T04+1Iof2RSkrLMdnt32Hs24YjeF/GWqwGGZutBrue04fxA7pgi/umI/cY/maO4ik3w+A6SgW876zd9mBBoV7+XtoQjFP9DwjXhOLsw7nqHU2dmC6EozpIo0+nWm9q4dz7p6oCcU5aTlKgP7V4A6DcRn8I/3hqoTgxmbTBUb7wyfYW7NE/u3V5djzW7Kebau2u37Zi6yUbM2qOTCmru/JYOWCY9p9k5U/4wD88c7aVuUnkTqHgEeg3Dc7h7xjl9qYdbFYFTvmNRHi56tcNrijiM/GR49jUHxXmwPx/ookzT+xXvFjOUX4afdR/atsrYjAhyv2YniPCEONNh06iSPpLbj6MsSWHXMR6DSxeNRlww0P31PnTVZWEJPVFMclSPp9P7jStiUCLc0+/vhjpKSkaOLBqlWrUFRUpFmUWaJ8KUMICAEhYAkCFEYpCPL+RkGUA2IU87ilMNpYoMjKhc3ouzYiovbHm4IhRUIep7BCIdXUgflSjNy4caNmDTx69GiDJTBFR4q49J1L4ZbiJi18GxN+WS+2dffu3ZorDX7v06ePJjYz//oCJt1N0GcvBc5JkyZpPpqZhsHDwwODBg3S8mK8+Ph4zeKaAjLFZ1sO5M3fQorwHBRoarCUjLnAH8VfuiZpTizmtbVjxw7NZQXdlQwYMECzzrZlTo5a9+Q/DmLrD7vQ9+xe2qJxXF+ipVBeU6YN9jQWj4slmTNwgeRlb67BdmX9SyvjLoOiETu4iya+sly/MD+1EN+ZyvfywlZXoyS/DMeTTiCiVziObD39kpm86iCmVioLXlcXzb2EnmFY92CtTH7fUs9vMoXcgCh/HFHuKxoTimP6RmD2MzPUuQp8duvXyD5S19+wXkZL2xPKKvr9uZ+j6+AYdB0Sg9hBXTS/yXQrwjDqiuFIXnEQx5UVuATbIVCtfn+c1YwXCULAnAQoDtN3MZ8DxarYnKStO29aFPeKjcLWA6lIy8xGj6gw+KlFEG0pLN2aiun/WogbJ/RRC9yV4b7564FWzNKxpTbaS13/oxawK1Jrls0Z0QP7T+Ti7vkbZPFBK+jcThOLG2v7ufdPwaTbz8Kh1YewX30OrD3c6MN0Y2nbeowv/BSJFy5ciHnz5iExMRFff/01Pv30U5xxxhnw9vaukyVflM0hjLAQ5muuvOs0Qr5oBHTW+lawWJaAcO8Yb4qoL7/8MmbPnq3dq0qV+EI3CU2JfBQDKYBSCKVYTJcDPMZ9CsUTJ05stEIUl+l2gW4bdD+9dMtAkZU+fXleP877aWtdQjRamNFB5puUlKRZ7o4ZM8YgFDMKrx36Kx44cKDmw5gsevfujV69ejUon4Llrl27DP6HKepS+KbQTb+79cXi4uJiLT7FZ1oeGwfe/ymOsj7kx3rQlzKFaArGTblk6Mi1zj5indhvfGFjndrqJ5rpKQQHBgZqbTduE/dZBi2kaanNNtA3c3OBornuioL+mxtrH/kwT7Kn9Tmt0zdt2qT1W1vr31xdGjvH+jRWp8biyrGGBCi07v/jAA5vScM5yo0Bw8AZ/ZW/4t7wCvBCYXYhUjacFksb5gC4ebliyOTBmiVvY+erleV+FvIaO9XhYx4+7igrqnXVQN+8p9J2YssPtQvYJIyJw3kPTwXjxI/pjoBIP4M7itYU/MnfvoGHrztiB0Rjyp1nIlAtmuMf4acJxVp6de3pIazH6QG4bOWf2DjsXJwEfhoLiRN6Yvx1YzSL490/p7RLKKYY7KzW9qAQTcOLQxuOaB+W5xXgCVo8J56VoBU/dPYA/PTc0saqIsesjECNuq+e2rNFW/gu+qzpSjC2qtc3K6Ml1ekoAWPrYgrH4qu4o0RtNz19FaeeyISz0W+crbVm8caD4EeC9RP4cOku8CPBegh02tNGlXqIXfDEYuWTzRndR8Sq1aW7wSfEB1yUo8+U3tpn/gMLlGCcahZaFCToi5Mvv5MnT9ZelGlNtmDBAm3KclxcnEFQoasKToVmGgoQfME2RWA+FAGYLy3gTCW2mKJu9pwHxQz2o87dnttqTW0jb4qKZM/rXUL7CNx8882auDd//nwsW7ZMG/SipWtCQoImJvI+ot+jyJo+Zuk6gOIoLXEpmFIopsjMATOKfnQvYRyYniIj730cSNP7i/87TM98aZ1LgfHw4cMoKSnR7qUUlilAsw6Mq9dDz5vfeQ3QLQTzMbZq1s9xQTW6gujXr58mgutl63lwy/v24MGDNdcSGzZs0ERrirYsk4H1Yx4ULGlNTHGZdWJerCPbTWtXXVhknSgiU5idNm2adl/mvbl+YHzmw/hkTv5sPwVU47byPK935kHO3Gc/UHCmcGsct7EymI6CNi14+dvDMincs6/Yh0zfUh4Us7dt26YtUNe3b19NVDcui+nZbxTcWQZ5sD8b462nY7t4HZEt/Unr/oz189wyPa83nmMf8Rrioojsi6FDhxpH1fb1PmiuPQ0SNXFAZ8468BowRZ5NFGWXhz+9+WtkppxCREIIypTvWw8/D82VApT/XIbx14xSQnK65tu3KQDjrxmJHglNW9unBRxvKmmHj9/05TVqhtqvytggtUFefJZc+fYanH3XBO1cSNegNonF3ZSF7vQHz9YWtqNf4J2LdoO+iKc/UOvj27hA/3Bfw9fyP8Vrw4FmdqL6RhquWfoY3r1kH1I3pzWTouGpoRcMUAv79cFHN3zZ4GRJXil+fPxn3PLNXO15O7hb465CGiSUA51OoKIwH/kHk5Q7kypk79iIsCFjOr1OUgH7JkCROO3YCbXgXax9N1Ra1yKBkb17wE09H0oQAkKgEQKnbQUaOWn7hzrtP3/5m6sMK0Hr/ti4YEhXNV2QPuWi+oQrq4iGL+umQs6XXlo/cUothQeKDHwJ54srX5wZGIcv6/R1yVXgORWbAokuSJiiLhQF+MLOF28KAhLMT4ACAoUUCgrkLsEyBPj/RJFSF+0sU6r9lUIRlZagFEF5z6Iol6pcCPBapujL+xlZ8z5F8YxiHWdK0AKX9zvy532HFp90vUNhr1u3bgaRgsSYlnlyy/yM/0+YJ/+H6OO2oKBAu48yf8alIEoxlB+KikxrLNixXhRqKczSWpf3VNaJgirrxA//N3mMLg+MyzXuSV20pUDOa2rNmjXavZlCMOvB+zWFX+bPYxS+WQ+eY760jGb9WUceZ5t4jO2gYNpUucZ1YDzmtW7dOo0pxW+9rdySDdtD3qwPy2N96M6iPhfjfNkvFIb5YZ4sg/HJlnnSDQf9Cte30tXLpkhKvhTk2Q7Wk6Ixrw1daGZ5ZMHfN5ZDEZfCfWvazX5jWbxuaK2tl8s8uc/6U+im+My+ZHxeXxSYaYlOC2nGYx/yemA99WvBOC/m19bA/GhNzd9p9jm/62J0W/NyhPhc7IzWxKFxtb5RR/5lCHzDfJXrhrqW9TqLcOWGgYu6LX7ut0bdhY24aBCGzhmsR7f4lgvCRSZGNCoWszJ7ldX05DvP0q4JWkA3F/ora+phFw7ERzd9rRbJC8El/56tpUvddEQTXCkYM0y85QzNYlfPy9PXA3lGi+eQJ/a2ztXDnl+S8PPLy3HF63MQ0TNcE6I/uPZz0A1Ga4OT8jIRpvwiu6iF7WiUUT9wbZDkFQe0RfbcPG1vsaL67XGU7+7+gQgeOArZ29agIHUfPNWid36xzc8EcRQ20k7TE8hVC5utXrsWx0+cxNLlFRg3ZhT81LOmBMckYG1CsYt6fnSE4Pqn2yhbbquriwP0lR30U3PXWPNPy82l7OC59D0nG+TABUP40acNNohg4gO6aKK/oOovsHy5ZuBLJl/I+YLPl2hO827uJb891aOYwPL4Is8XZgnmJ8B+pjhEsYRijATLEKBww2udzIV7+5m/8soruOmmmzRLYt6PKIZygIuuJii8UTzlvYofCsm0uCVv3sf0ex3vbewLCo+05KUbB+PAASwKiXTJwMXdjAPzoJhL0ZdljRw5Usubgi9FSl2AZDqKkLpLH/Y/y6KLCZZHUY8CKAVF1oXxmIb1ZLn1xVDjOuj7bP+IESM08ZyDerxPUyxlObTC1V1E6O1mOt26l2WzHAbeCzh4SEFdr692opk/ZErhlwukUmhmW/V7OPNj3fiddeJ5WiKTDS2RKaQ2FsiEFrgUhePi4jSrbv42MJALBwn27Nmj9TWFWoqv7CuKwOxvlsW260I5/T2znhwUYB3oRkMXT9lfZEAhl6I7jxtzaqx+PMZ4vObY1xywMA68r7J89iddWrBOrCOt09kvFK3JRReMOZDBY8yHxzsaeI2xTDLjYGBr29TRcm0tfe6xXPz++krNpUTPcXGY+fh0rQm9z05ssSm9zoxHVG/lN1z5Md69di+qlSAZnRiFkRcORVS/qBbTmztC/NjuWPXRBjTmW7k4twTlxRWaK4pTjfgCptjspF5smNZTuatwUu4cGPpP66NdS0xLy1xdKKbLB7q10MOAab2ROLEnlv1nlX5ILeQchuSVhwzfuUMh99z7JmHzN9vr+Aw+vC1dcx/x01O/4uq3L4VvqC+m3jsZ3z+yqE76lr7QDUXCmG7Y90fdcvV0XNyPgYMFEmyHQED3XijNOoGitEMoPnFUxGLb6TqbqSmfCx5+7Gls37ETU86ehMiIcGzdtgMvvPQqxo4eiUcf+of2G2szDZKK2iUB+lLu0z0USSlZdtk+NioyKgC+djCgGxusBpmUGzPkldhtX03q0fyC37be8E4TizsbHF8o+cJKKyi+YPNlm2ILX3L5Us5AMZm+QCkuUNRlPFrMmTLwBZp1oEiiCw2mzF/yakhAF0TIu74Q1jC2HDEVAf4PUQSjz1mKjRLaT2DcuHF1EtNCluJiVpbyBqruJxTe+KFYTMGM9zZy574eKIry/paqLIh5/+P9joH/H7wv6UJw/f8R9h2FQLov4L3RWOjjPZXiI4VEWp5yS6FQt3JNT0/XRFOKmBTzKNBSQGUZvLdyyzrrddHr2tyW7aI4qFsTs90UbmmBrftUNk7P/MlKtyTmbwEFa7abInb99hqnrb/PvJiWgmf//v01EZVxKBYzP1q4sn10U8E2kzPrSU6sg3E7+f9B8Zbcx44dq/WN8f8J07I89jEFZ7LUxVCKw9xnudxSxKY4zbYwXwrn9BtMMZp9zrpRqKXQTLG/LW1mfsx7/fr12u+lsahPFsyX5zkQoQeWR87sc7af1w2PsR1sF68h9mNHA+vG61//nebvuYRaAlWVyq+4a+3/uIePsn49XoCzbhqD/uf2bTMiv3A/jL9hDKp6lWvXFK8vWrtbQ6A4O/aqEVj94YYG1aHfYoq7RdlFdfwBF50q0uJS/A1XVrknD2QhUi00R0YMbC+Du7ebQSjmdy4cR2GWgc8TYT2UhbbyUkY/xQfXpmi+kYddNBhbv9+BopzTL0pjrxyuFgzsjS3fbtfSuirxmEHf0mhi1XtrMUFZLfc6Ix4jLxmMDV9v0+K09s+UOycibYfyU29UrpZW/QT0mVw7OHhUidMSbIsA3U/Qqtg/rqdtVVxqa/UEKBTPvuRKXHvNlXjxuSfr1PeBe+/Ch598josvvwbffvGR9ttfJ0ITXyoqKtVvv/wON4HHJg8fy87VfBiP7B2PzrR8/fy6M/Dw/7YiKSMPVep50l4CraYTQvzw5AVD7KJJbuq5atmtk/DYj9twOK9Ye/a3i4apRriq574hMUF4yk76qql+cdg7OF9cKWLwJZmL2lFYWLx4MYYNG9bgxZkvtbRY4tYcgfnyJV/EYnPQbZin3o/6tmEMOWIuAvq1bq78HTlfCo8c6NIHu3QWfAHg/aV+oJBG1wNcpI2iIYVIBgpudE1AoVW3vDVOq987KYRS9DO2CGUaipGsA+9ntCKmeEjxmSImXSpQyKS1Kz8UCCmksi7GwqlxeS3tayKNqgfrT9GUIjjr1VR+LIsWxzt27NBcQ9CqVhctdZGxpTL182Shp9+6davBZQTPkyPbT3cI9IvP+tFymTxoIUxRmGlZX/5f6IvC6Qv2kZdxYHvIin1CvuTPMsifAjKFYJ5nG9h+XSjllgI+LcEpGFNYpwUwXUXo14xxOS3tMw2FYObLPNifDLzGOKBKK3cuEmsc9L4fPnw4VqxYoVk6s/9ZZ1o7m0IoZnnkWP9jXA9H3C/OKVZWwDuxdcFuXPTc+QhX7g24WN3cDy63WxzjlG9lCrcr312HbFrPqke3uKExmHbfZK3Nv7+xSnO/oQPITMnRLI4pBg+/eBD2K0vg7iPisOaj9VqU9O3phkXhRl82FDvUAnXxSngef+0oPQsMVS4ryPXI1qPasV9fXoar31JudoK9cfGLs7DkpWWacNvrjB4YefkwHFhzSK3Z4QT6GI7o/f/snQecFEXah1+WHEWiCQRJJkyoqJgTKibMOXyennqG8/TOeOacvTOe2dMzneH0PLOiZwCzmJCoCChJFCSH/uoprsae2Znd2d3ZnfR/+S0z011dXfVUT033v956a7mDQv9d1/KexeNHfLu83P/LHdG4/aor2Nevu8UHsxR4W63Yyo6+5xB708VpHjVsrC2av9gvPrjzqdvYSu58MybMtI+dd7isuAhUNGlqeBjLRCDXBPAoPvrIQ23/ffZOm/VRhx/i7zkuv/p6O/+cP6VNEzbOdwPD48Z9Y43xAF1T12vgUuyvi90952fjJ9pip4mM/36a9V0tf4PEeKze7wRjWeET6L9aB3vixO0Lv6AqYVoCZSsW8/CKd9fhhx/upxHz4I0X19ChQxMP2WmJaaMIiIAIFBEBxLN0hsiKSMd+RL4gFuP9iXiKwIigl2r0nXgyIwhmGuBCRMVbFFGSvBFFg+dwCKsQ8o2LzWFbbV7Jl9AM1RnlZ5CwT58+XjBG5MSjF5E2k8BcVZ6clwX0EEEJEcF7GCK4E5Jh4MCBCY9jvHD5TDpEekReBF7EX4RlxHY8lCljJqOMCMZxIR/OnDO0YeqxlJF8CUdBjGUGP5XmsNQAAEAASURBVDk34TBS2yP12NTPlI16cH1QB7yxuU5oZ0KBwJbrI9U4DhEbT2YWl+XaY7CCwQVZ/RF47+GP7KOnP7N+W69hTUpgSmNVpObNmmvTRk8z4gpv4QTjvlv39uLr0iUuLIzzKF6ycIm9cuMwvzBdPB/iNj9z4X9s9z/vYusMXtv/zf5htn3tRFbsk+e+tBVWaWcb7LWebf3bQf5v6eKlTlQeZyP+8aztccGutooLwTHz2x9t+EMf+mPmTJ9r9x79kA0+Y3sjNMahtx7gt9PffvXyKHv5pjdt88MG2MYHbOTjPy9ZtNQ6uamM2520tU367BFbqU9nv5Ag27H1hqxrs3+YU61YPPfH+b5Pf+WGYdZ/t7VtlzN39H/zZy/wC0jjCT3l8yn2zMUvJgnm/iT6rygJsOhdo4rl3ulFWQEVOu8Efp7tZkh9OrKSR3FqwY456nDbZqchdubppyY5CoR085xzwtixE+zb7yb5+8Ptt90y7NJrCRAgdnFvJxB/9e1kGz9lqnXv0tFaNFPs+xJoWlVBBDISKFuxGCI8JO+2225eYEAs7uGmBfMnEwEREIFyIEAfiPCHsIm3LUIGHq/0h4h6mQzhrzpvUAbfCAeBZ3N1aTOdp762I1DjEYvHMwInYiehNWpjiLcMPK699to+HAWiLZ7ahIlASEU0DwY3vKuZwUL4BTyhP/30U98GhOwg/EQ89EQ4rrpXxHn+MhmiPuIybYqATTuH8A+ZjqlqO17F8GLROryLEYHxWiYMBd7DmUR3tvMbS8xjhHF4yHJHgMXLxo/4xqa5MAqbu1AM2CYHbWgDnLds287LQynk7myFl9PnzuP38xdH2ZwZc/3aF117d7KuLixFi3YtnJA7y4mwU2z2tF/SFnz8exPt1n3vdgvLdXbXpdkPo6cnFvFDZH715rfsrXvfsxWdaEwYjylfT7XF85cvwnzXEQ9auy5tbPbU5Lzn/bzAnnLxhps0d+HN3CJ5ZDzdefQS+xgbdse7/i9dgd5+4APjr6b20+Sf7PkrXrHPXxrlvMk/t47d2ru4yZ2s4+odbdHchTbV1WviyCnGtSIrfgJzp3xrMz4dYSsP2tlYBE8mArUh8I4bRN5xh+0qHcrspTBLiZ38Zm81aHP74KNP/KJ34YC57p5n7LgJ9t2kKYmZbD26d7OW7l5LVloEenTtZBN/mGFz3b3umMk/WP+e3UqrgqqNCIhAEoGyFoshEUSDJCr6IAIiIAJlQICHAERiBD8ETMQ8wiHwigBYV6N/zZXncF3LEj+eBx48nRFPg9hZ0xAU8fwQPhGF8a7FaxaPWfgRuzediItIj1dvDyeccn5EY7yi+VxfRjnwpuY8iMUI5dku5pdaphD6g/oRfgPhGYGcxQbxOK7OCvGaqK7Mhb6fmMR/P+5RH4u3Y/f2tsmBG/kYuK07lE98+Hf/59VLWy38ZZFN/GSK/8u27fDinfzFDxmTL5y7yH4Yk2ZBHae7pgrF8UwQm9Mt6hxPk6v3U0ZNM/68uXLNdAv58We23Es6V+dRPvknEBH658uPbOmCeTb1vWG26ra7uxjaZf9Yl/+GKcISzJgx0y9mR9Gn/DDVnv33874W8xfMt5Yt3OJUzo46/GB/P9elS2eb7tJjc5xzASLxpMnf+/sKv9H9xz3W4iWL7YuvRrtPywemKtw2tvMXLIp9ju8jSTydf++ySU5TOb+wPxw7e/byuPPhfHqtO4HGzvmgX/dV7Efnjd63W/7CUNS9JspBBEQgGwK6q8iGktKIgAiIQIEQIMb6+eefbwcffLBddtlldSoVAiJiMeEE8C4mJACep3i/lrqgx8MEAjHez7kwPIIRn4lJjFhMPN6qjPMjsuLhjICLANsQzIPXb9xbqKpyZtqHQE7IDTzH8aZmAb9shOJM+Wl7zQnMnjrbx73Fa5jF69YZvKbzIO1gPQeunvSgXfOcdYQIiEChE2jkfjO6buoWMhz2rC2e85PzMB5uXQZo2n+ht1shlq9r1y723vvLQ+is7N4fevD+vpjL3AyEChd3mPuVcH8yZcr3NnCTjW3ajB/t/Q8/9mGtUuvEgPTE7yanbtbnEiGwSsf2xp9MBESg9AlILC79NlYNRUAESojAtdde6xcru+KKK+zCCy9M67mabXV5ACDGLGEUCIfADT7hE1jwU1YzAoElPImDTBxhvHersyAaV5eu0PZTbmITEzqDuubCE73Q6lio5ZnlFm17+74RNvq/E2y9XdeyHU/b1hcVb2KZCIhA+RAg9ETn9Te36R+9ZQtm/GBLFy20xs009b98roDc1HSLzTa1y6+6zs476wwvDLdxg9/pjHubt98dYZdd9GcfnmLbrbewMWPHVxKGGfxeyYnO7jbB2XJPYo7FuM/kL1jYzufwnr2k4T4jpA2vpGF7Ii15/S+/kC1pQ3rybVZFmC72y0SgKgJTvp9iv8z5xTvS4AwiK1wC33zzjX/2WmmllbxDTuGWtHhKJrG4eNpKJRUBERABO+aYY+zss8/2nsXpQhzUFBHeIoQPGDZsmF/8jMXW+vXrV9NslD6FQPxBJWVXyXzkga0u4TtKBkQDVwRvr0kjv7ct3AJp6+2xbgOfXacTAREoJAJtV+9tkVu0tHW3nta4abNCKprKUiQEEIe33XpLu+veB+w3Rx+RsdQ33ny7Dd1rj0Qc49YupNYG/dexXmv0sNFjxtmU75eviYCQ27ZtG+vXu/pFhzOeTDtEoEAIMONy+rTl4Z0kFhdIo2QoxpQpk/36Ka1bt5JYnIFRTTdLLK4pMaUXAREQgTwSOPnkk42/XFkQ/LbddlsfToBwCm3atMlV9spHBESgDgQW/LLQPnvuCxv57y/twBv2tjad2vhQE8c9cqRVNK6oQ846VAREoFQItFujuAZ4vx4z1s2KKq1H0KVLl3vOFus1hVfxAYceZUtc/Pvf/uYo770b6rLUDUbcdMsd9qFb2O7v99weNide27r7xgEbrGd9+8x1ovF4m+xCVYwbP8F69eieEJYTifVGBERABESgaAiU1i910WBXQUVABESgcAgwZZA4xTIREIHCIvDqTcNs1OvjbI3NutviBUsShZNQnEChNyIgAikEWPyOmMaFalOnTS/UopVtuVjH4PF/3G9XXnujbb3jbjZo84FGLOMpU36wd0e8Z/vsvacXirlfzGTLReP+1sd5FH89eqxNmDjJ+jivY5kIiIAIiEBxEpBYXJztplKLgAiIgAiIgAiUGIHvPplkP38/29bddW1fsy2O2NS2OHKgrbhaaSwmw0wGWRkQUDvnrZEX/zLbpr43zFZYYy1r26NP3sqR7sQ9V++ebnPJbWtcpLM+WAD33DNPtz/94RT78ONPbfqMmbblFpvbFZecXyMP4XZtWtsmG63vvZRLrnFVIREQAREoIwISi8uosVVVERABERABERCBwiOwcN4ie+z3T9q08T9ax+7tbZ1d1vLTgFfstmLhFbYOJapoLLG4DviK5tDGTTJ7HxZNJYq0oD+P+8oW/fyjzfh0uDVfsaM1W6FwZg31X2fNIqVaXsVmPYzNNt3YLV67xC8UV5U3cVVkmjRpXNVu7RMBERABEShwAhKLC7yBVDwREAEREAEREIHSIzD/p/nWyIlqLdo0t+atmtlq661qmxy8kfXdundSvMhSqnmLdi1KqTqqSwYCLdo1z7BHm+ubQId1B9j8GT/Y4tmz7AfnYbzadntYRZOm9X1a5V+CBF5/821bsHChbTJgQ1u5a+cSrKGqJAIiIAIiUBUBDf1XRUf7REAERKAACUxzq/JGUVSAJVORREAEqiMwc+KP9tK1r9kdBz9gHz81MpF8u5O2sjW361vSC9d123C1RH31pnQJdN9A7Zyv1q1o3MRW2nRbc3EDbOm8ubbwR8UHzldb6LwiIAIiIAIiUMwEJBYXc+up7CIgAmVH4Oyzz3aLjnS1wYMHl13dVWERKAUCs3+YbaP/O9422ntdW2fnfqVQpazr0HH1DrbBnutknV4Ji4/AOjv1ta5rdi2+gpdQiZu2XcG6bry1rbLNbtayyyolVDNVRQREQAREQAREoKEIKAxFQ5HWeURABEQgBwRefPFFn8vrr7/u4sktNmLLyURABAqTwOIFS2z0a2Ns1Ctj7NC/HmjNmze3npv2sOMeOdKatSzP7+72J29tHbq1t0+e+cJmTf7ZomWaJVGYV2/2pWpU0cjar9LO1tttbRuw3wbZH6iU9Uag9crlsZhcvQFUxiIgAiIgAiJQ5gQkFpf5BaDqi4AIFBeBq6++2q644go74IADJBQXV9OptGVI4IVLX7GJH0+x1fp3tXmz5lrb9m08hXIViql8o0aNbMOh6/s/Pi9dvLRkw+pMnjzZPv/8C2vTprUNGjSI6pac0Z6Nm2ohq2Jo2GjZMmtUoUmlxdBWKqMIiIAIiIAI5JuAxOJ8t4DOLwIiIAI1ILDjjjsafzIREIHCIzD5yyk298d51nfL3r5wmx62kW129CbWuVdHa9euXeEVuABKVMpCY+Nmjd3iYo2sommFNWmmW+4CuNzKsgjLli6xGZ++Z8uWLFoez7gsKajSIiAC+STQyBrl8/Q6twiIQC0I6M61FtB0iAiIgAiIgAiIgAgEAnNnzrVHz3zSJo6cYqv065IQi7uu2SUk0asIiIAI5IXA/Onf2y/fjvbnnj1+lLVbY828lEMnFQERKGMCijhVxo2vqteEgJuwVTAmsbhgmkIFEQEREAEREAERKBYCC39ZaI2bN7Embgp+qw6trFX7lrbnOYOt/67rFksVVE4REIEyINB6pW7WtueaNmfCKJv52XvWvEMna9yiWRnUXFUUAREoGAKKgFMwTaGCFDKByIdrK5QS6mtbKC2hcoiACIiACIiACBQ8gZ+m/GQvXPeKXbf7LfbZ85/78hK39aBr97ON9t7AmjoBWSYCIiAChUSgY/9NrFn7jm5ByWU2d/LEQiqayiICIlAGBLQgdxk0sqpYZwLNmxfWQK6eaOrcpMpABERABERABESgXAh88+FE+/DpT2393dax7ht0K5dqq54iIAJFTKCicWPruum2tmDGVGu7em9bsmB2EddGRRcBESg2Ai1atLDFixbb4sVLiq3oKq8INAiBxo0rrFXr1g1yrmxPIrE4W1JKJwIiIAIFQGD+/Pn2yiuv2MCBA61LF8VDLYAmURFKmMDSJUvty5dH2Zevf237XznUKioa2bq7rGP9tu5jLVdoWcI1V9VEQARKjUDT1m2NP5kIiIAINDQBZmC1bdfWFi1a5ETjJRZFy/5XhMIOZtykSWNDxCPkWDMtVNvQl02Nztc40VZNiqatGjVygR5cjOLGbkCXARW+J4VkEosLqTVUFhEQARGohsDhhx9uTzzxhK2xxho2duzYgvtRqab42i0CRUXgvuMesu8+/95WXaursYhd285t/ANDEwnFRdWOKqwIiIAIiIAIiEB+CSCENW/e3P/ltyTZn71ly5bWzJW5VatWTuxul/2BStngBBBbGYxo7bxzS6mtlrnwUfkyicX5Iq/zioAIiEAtCEybNs0fNWPGDOPHg5FImQiIQG4ITB8/3RbOX2yrrbOKz3DLoze3lm1bKNxEbvAqFxEQgQIn0AgXJ5kIiIAI1JBAoXlE1rD4Si4CBUuA71YU5ccDX2JxwV4WKpgIiIAIVCZw33332d13321DhgyRUFwZj7aIQK0I/PzDbHv28udt7PBvbI2Nu9sRtx7s8+m3VZ9a5aeDREAEREAEREAERKAygfIYkMmXuFWZt7aIQPES4HuUz++SxOLivXZUchEQgTIkQPiJyy67rAxrriqLQP0RaNm+pc3/eb7tctr2ttGe69ffiZSzCIiACIiACIhA2RKoKFHv/YoKF3s1ZgsXLnRxY5vFtuitCIhATQkQViNuDT2jWGJxnL7ei4AIiIAIiIAIlA2BebPmWasVW1mzFk3t2PuPKpt6q6IiIAIikJ4Agg+ej/mZ8pq+TNoqAiVEIEVULZWaEYs4Pl3+559/tiVLlliTJk2Ken2VBQsW+Di4LDD+yy+/lEpzlWQ9GKBAXJ03b15JtBXfn7lz5ya1Fd+zhrSyF4tx66YToHMjKLZMBERABERABESgPAg0bl72t0Hl0dCqpQiIQFYEGjkhq1HjphYtTfZmyupgJRIBEaiWQKOmpak3NG3a1GspiKoYGkspiKuIdWhF1GXWrFnVtq8S5I8AIjFtNWfOnJJsK75jLLjYkFa2T0lLly61L7/80m677TabPHmyZz5o0CA74YQTrG3btg3ZBjqXCIiACIiACIhAHgg0b6UpknnAXtKnHPX1KFt5pZVthRVWqFRPvES+/fZb69y5s7XTquqV+GhDYRBo3KKtLV0w2wnGiwujQCqFCJQAgWXOY79J81bWuEnp3nd06NDBWIh78WL1HSVwyaoKBUSA8BMdO3ZscC/9shWLly1b5qdGrLXWWnbEEUfYlClTjIWjGAU788wzC+jSUFFEQAREQAREQAREQASKgUDbNm3tnXfesS5duiQEY+45x40bZxMmTLDmLZpbr169iqEqKmMJE3CPOwlLXTyH2ZZNWq5gy5YtMVu21D0bucAU5bEmV4KJ3phVNG1uFUvNGiNwugEEWc0JRNEyd5Dz1uc7VeHCMaQJQcH3L3y9SFfMRtzirl27GiEo8MRN7VuKuW4quwjkgwB9At7E7du3z8vC9mUrFuPGvc4661ifPn38lInZs2fbmDFj7IMPPvAdW7yz9h28i7dTHwGl6VSJ5cOfrGEI0J4E3BfzhuEdPwvfOy12ECdS8/fjx4+3u+++24YMGWJbbLFFtRnAvNjjhVVbyQJMAPf470gBFrHkigRvuPMXYueVXCVVoYInsMoqq3hhGO8q/jCmsY4ePdq/79+/v3/VfyKQVwIxTQp9ygtWvIlZhRO3jD9ZWRJo5MXNJVbRuJm7DBo2TmY5AW8UG7gphXpzL4awxewaZnLzl65/KZa6MguI0BrUiUFgWeESCNEBVlxxxZJoq6AT5vN5Mud3APmsDJduyn1OlVczolUQrpgaOGLECCMURagDndukSZPs66+/ts8++8yPkjFalstRMs4xY8YMmzhxoqWuIlpl4bWz1gRovxDTplOnTjltz1oXqgwOxLNq5syZfuptQwdnLyW8J510ko0cOdJuvPFGe+6556odxGIq2I8//uj7slLiUMh14VpHHKJ/54Yll78ZhVzvfJcN7ohzDKjg0fLTTz8lfs/zXTadv3wIcA+J5zD9dLBG//Mba9O2TUk8wIR66bWICTRiIbtfLVqy0Eo1luqvtdQ7ESgsAst8qBe8j5dbOs/jsK/YXvktLAWHOBwQcBgMjgjF1g7lVF6uN9oKfU9aQ25aPudicbuu+Z2mssJK7Xx4iU8//dRuvfXWpId0Htj5og8YMMB++9vfJggyVQLhhQvskEMOSWznwZOHze+//96PjjFa8c033yTlmUhcyzc80L733nu21VZb+bLVMhsdVgMCDAx89913Nn36dNt0001rcKSS1oUAo7Lvv/++rbnmmnpYrgPIMMDVunVrP8gUBrfSZUmfx6yJjz76yLbZZhsNSKWDVA/bEOiZcs41v+GGG9bDGZRlOgLwHj58uG200Ub+N5vB3/B9SZde20SgvggE7+LUVaz79umrAYz6gq58a0SgiYubumTxgsQxSxf+4iJOuDij3usmDG8kdutNGRJYtmSRj1u9dNF8W7pwbhkSqJ8qL3ck/t//ixe6k/zqWtzIeXHLREAERKBQCORcLO7cs5Ptctr29tkLX9jihS7WVQMZgknXPl1s80M29YIIi4fwoIjgGxdTeN+9e3cv+PIeofiqq67yceSuuOIKW2mllRIlRlgmpnF9xpZDjEa03Hfffav1EEwUTG/qRGDRokXGYAJhR4YOHVqnvHRw9gQQLfm+DR482Hr06JH9gUqZRGCXXXax1157zQ900M9VZYjFeBWzei99jKxhCLASLzNV6N/32muvhjmpzuL7F2bq7L777sasEQaAZSKQDwLcX6Z6F8urOB8toXNmIoAo1ahx06RF7PAuDvarfBW26LXcCLDAIQMIy9x1sWzx/HKrfoPXt1Gjxgr30eDUdUIREIGqCNTLk9RmB29i/OXTVl11VTvooIPSegHzAMmNPA/yf/nLX7zn8DXXXGN4grA9bngl1bdn0gYbbODjJstdPk6+/t7jWbzyyiv7gYQ2bdrU34mUcxIBwqysu+66XsQR9yQ0NfoAuwMPPDDrY7je6WMIjl8fcdezLkgZJaQv5/eE+Ga61huu4UMfI+4Nx1xnykwg1btYXsWZWWlPfghUNG9jSxfMcYvYNZxzT35qqrOKQGETiJz+0KRlu0o6RGGXWqUTAREodQL1IhYXAjREkVatWmUsysKFC+3VV1/1oSoIRXDdddd5j2Q8iY855pgG66yZSr7TTjvVuyCdEUQZ7mCwAI+fHvJubdDWR6zcbrvtFG6lQambFyx33HFHCcUNyJ1ZKSygqljFDQjdnYo+Zuedd9bvacNi19kyEIh7F8urOAMkbc4rgYqKxtbICVSRmwq/xHmONop+jZ2a14Lp5CJQJgQQiRs3aWEVTVtaKcUrLpPmUzVFoOQJlKxYXF3LIRjyMH/JJZckpqrilYRHcqp3cXV51WU/5+IBV9awBBBz+JM1HAGu9RYtWjTcCXUmT0B9TH4uhPqekZKfWhX2WdXHFHb7lGPpgnexvIrLsfWLo86N3EJ3jZq1dINsPItEbpCTcisIRXG0Xv2WsqJZK2scVXiP1yatO9Tvycotd75ibjIz3z+ZCIiACBQqgbIVi/E87t27t62++ure+yt4gDVkjEMW43n55Zftiy++8Avy4GGMYC2rG4E5c+bY559/7hf/WmGFFbynWeBKDOspU6bY008/7cNQwBxvcox9kydPthdeeMHwPN9hhx0S++pWotI/mgW9WPn97bff9vFxWdQLD78gDhMn+sMPP7R33nnHhwAZMmSIX4AKMhz78ccf25tvvmkdO3a0Pffc07+WPrW61ZA+i1A6L774oo0ePdoPeg0cONB7b4frfd68efbcc8/5mOzMoNh2220TJw37WLST47beeuvEPr3JjgB9OPzhvccee/iBxqVLl/qFUJ999lnv4brrrrtaz549fYZh30svveQ/4/Hdp0+f7E5W5qnok9944w378ssv/W82v9UslkkfjrH/3XfftQ8++MB6uFkjxEZnUVqM/ocY0ix+Rwgi+ph27dr5ffpPBOqTAAMY/dfrb+1XaF+fp1HeIpAjAm5hOydgeRUrRzkqm+IlQP/FteAHFCRq5rYh/fcst1kqNxEQARHINYGyViZ52MSrl3AVhIPgr6HiBiNo3nzzzXbHHXd4kedvf/ub3X333blu37LLj/isiAksVnjbbbfZvffem5gKjriGUHzWWWf5NCyE9Mc//tG++uorn+bbb7+1M844wz777DMvwvH+/fffLzuGNa0wXGHJ9fv9998bbXDLLbd4r32EYEQcxLHzzjvPC/Kvv/66nXPOOYbQhogzbNgwO/PMM/1xiMZ//vOf/TE1LUe5pYf7zJkz7aOPPvLCF9yvv/56u++++zwKFhO88sor7eGHH/Z9DPsee+wxv4/FBonX/sgjj/jwFCzy+eCDD5YbwjrVl2uXa/ncc89NsGPAafz48fanP/3JD1ZNnDjRTj/9dPvuu+/8tY+of9ppp3kxme8K7+l/ZNUT4Dfz73//u+9L4Dlp0iT75Zdf/IH0JU888YRddtllfvDpX//6l1100UW+T2GxQYT7Cy64wLfBf//7X5+O74tMBBqCwIrtV/QDSQ1xLp1DBERABERABERABERABHJBoGw9i3MBr7Z5BO/W559/3s4//3zr37+/9evXz4vHe++9t3Xu3Lm2WZf9cXiMw/OGG27wMakRCRDVMAQFRMu5c+d6oQzxgT9ETsKR4HmGiIbITBr2Pfroo7bJJvldrLHQGxXPAzyCEXkZfMF7EpH9wgsvtOOPP95ve/LJJ2233XazY4891os8J510kn366afeqxLBEo/XE044wYv5p556qvcgxDNZlpkA3qw9nAfl2Wef7cVgrln6jmeeecaOOOIIGzdunOd44403Wrdu3fzCggjCtAPexPQ/iMl4tnbt2tUeeOABeVxmxp20hz6FWQgI8cTh5j3bgrc2IW74PsyaNcsLk4ic4bpmH22GV/gPP/xgjz/+uP8dSDqBPlQiAF/6moMPPth23313vz8M7sISgZh9++67r/e0/8Mf/uCFeK5tBkmGDh3qvxdc+7///e/9IAve9jIREAEREAEREAEREAEREAEREIFkAmXtWZyMouE+4dGE9xmvTNdHaEPgxAtzwoQJDVeQEjwTYgKe4sQJRLhcPoVqeUXxcCU8xdprr20dOnSwLl262MYbb+y34X1GmASEs7Bvs80286EV8CCUVU2A+KxM727fvr2f+o2wg5iJtz4C2tixY22rrbbyHrBwX2211XxICtgi3iAWEzKEfYSGkUd31bzDXmZHtGnTxnuxEgYEbnCmL/n666/9dyFc7wMGDPDiJcIm/Q/fk4022shf77wiNuNdL6ueAF7bd911l6277ro2aNAgP0DCUfQxzGxggGnFFVf0Ijx9PKER2EfIIY7he8K1TvgPPMNl2REIg3t4bj/00EO+b6GvQSzm2t1yyy19P9K9e3c/OAJb+nZmlIQ+ht8G+ipxz465UomACIiACIiACIiACIiACJQfAXkW56HN8SxGmMErKixuFxZD4qFXVj8E4I7nMGIBhhcywjAexwj3tMlKK63k9yF0EtOSbYgNoX38Tv2XkQDCDWIk3qxHHXWUF27wnoQhoiYGW8QyvC4R0BCAQvxQ2iTsy3gS7UgiAEdC2iAWc43/7ne/869wpY/hj3bhGoYv6fkehEUeGVAhtjSfw7T+pBPoQxIBrlnia3Od471K3HkYcl3jVY+QTL+CwbtTp05e1GQf/XuIkc4+BGWYM2iiPiYJc6UPDG7stdde/lqGJR7ZDI7cfvvt/nrm2icNBlviFXOtB75hX+jb2ScTAREQAREQAREQAREQAREQARGoTEBicWUm9b4FYQFhgFcecLHwGqbV1nshyvAEgXsQxBDQEDHxfkUoQ8xEOMbYh3cm7SERJ7uLBWbEEiUe8frrr29HObEYYSaIlMFDm3S8R7yBOwMmYR/fA7jTJrLsCBB64tprr/VxoxHQLr30Uh+rm2uXax7eGO/5QxjmD+YMktAGcGef+p/qmU+bNs3uueceH35i1KhR3oMbgRivYYRhrvfQx8CVPgbhku8C1zoDUBj7EJ4RNmkDWdUE6BMOPfRQnwixmNk4hLn5xs1MCHzZjoX+mz6dfgbGXOthH7MdwkCt36j/REAEREAEREAEREAEREAEREAEEgQUhiKBouHeMHUc71YEBrwuecBlgTCESqbgy+pOAOELAQaBBt4Yn4ndyiJTWAj7gXcfaZi6HKbhh320kwQ0j6vK/xBnWHCKRexgfPHFFycGRBBsYDxmzBifB2xZ+Ktnz55exEEEIkwFxj7EH8KByLIjwLUOQ65Vwh/g8Uqf0sPFM546dar9+OOPXihjKj6CGe1DWkRLPIwRLel/ENAIjSDLTCAI71zTw9zCjFdffbWPlcv1e//993vBnRAriMgY1zMhPxD0Q//D5/i+Xr16+eP8Rv1XJQEY8kefzAwE2oNBD2YmsI3QKxjXOb+t9OmI9/yFEE+0Cft69+5d5bm0UwTqSoC+lRA0xOx/8aUX/YKkdc1Tx4uACIiACIiACIiACIhAQxBofKGzhjiRzvErAQRMHniZQkvcRISee++914dAOOSQQ7zA+WtqvaspAQQwpomz6v3HH3/sBXjEA0JM4FHJYlMwnz59ut13331+0TXiuuJ9xj4M8Yw2YaEw9smqJoAQyQJeCMJcwwiWiMfE40bEmTlzprGQHeINC1GR7rTTTvMiD2IP8UfZ99prr/mYr8QkRZCTZSaA6MUigS+88IL3XuU9izMy4LT//vv7a/3111/3C90hKN9555223nrr+cXB+B689dZbPl437YOnLOLygQceKOEyM3LPBmFy1113tX322ce/wpL+4o477vD9CjzpV/AyZvCJ6/6UU07xgyNkDWuubfaxQB6LPcJelpkAojACLwvVEV4FL254s51FM2HOrIann37aD4SwkCN9Dn0S7cPALF73CPn0P/RNZ5xxhj8u81nrvoffnTBrgtwoJwOTlHvxosV1P0Gec+Aaph8iBrT66+TGeOTRR/xCityP4MU+ZfIUu+WWW+yVV16xLbbYIhEyJfkofapvAo0aMdupqR9QZWZHsPDdDJ/1KgIiYN6Rg98xfjuZwSMTgXIkwDMtMwZ5ppVTTWFfATiG8Nse1lEq7NIWR+kkFuepnXh4YBrte++954VNPP14eMVbSlZ7AjyE401JHEvEBRZNQ5jkQYCFpoglyk3Pc8895wWHoUOHGn88wCPu4NH6zDPPeM/APffc0/bbbz8vIte+RKV/JMzxXn377be9YIBX5SeffOI9KjfddFPPtV+/ft5z9dlnn/VCybnnnmt4VOLxt8Yaa3ivekQcpuyffvrp3usPgVOWmQDcEenxWkOAYGE1FltDfKQfYfo9i6m98cYbNnz4cOvbt68XzxgoQUAjdi4DKu+8844XMuGuh4HMvMOeMGuBa5dBPzyyGQDcYYcdfF+BFzF/CJf0PYcddpjtvPPOvo/p2rWrF4afeOIJ//1g3+DBgzVAGOBmeIU5nvBw+89//uPjc3MjeNFFF/kbQvp3fk8JEfLiiy96cY4+hr6effQ/7ONY8iJUDvvq2yQW1zfhwsz/kksvsW+/+dbuvvtu//1mAVEWzGUwjgfNE0880XbaaSf1t3loPonFeYCuUxYtAWZNSSwu2uZTwXNEQGJxjkA2QDYSi3MPuZETHJYHtMx93sqxGgKgZ/SDKeN4tfJQK4GsGmhZ7IZriD1Mcpgi5sAXCw/wbIc7ok8w2iJ4myAgx/eFNHqtTADmCL3x7gS+MIc9BlfYh7YI26vb5w/Wf2kJcL3iuch05/j1zHssxMXlles5fAdS96n/8bhq9R/XNO0QZ4u3JX+0A9wRlYOF/ofPbI/vC2n0WplA/PeSvemu2fB7St9C353ax9BO6fZVPltuttAn4gkdLITL4Ps495flsavDvmJ8ZSCKwRIGYsPisMVYD8pMmzDATD3i101N68PAHYMazPIIBqOwwCLbWIyUgQ7SyRqWQEVFY2vdppX/3WTGQTAGShlElYmACPxKIMxcGzhwoB+Y/XWP3olA+RAYMWKEff/9996hbJ111imfihdhTZmhzIwu7ksV2jU3DagF7nLDsVa5ICTo5rRW6Ko8CK7xB7PUxIg3/KUzBIiqjk13jLYtF+SrWzAKMS0uqMW5VbUvnk7vkwlwvVbFHdEj0/6q9iWfRZ+qIpCuP6lKBE6Xvqr8tW85gWx+LzP1L+RQ1T4xFgH6w1mzZvnZAL1697JVVl6lVqLxzbfcbHffdXcS0NeHvW5DdhuS2EY4oO6rd7f33n/PNt1k08R2vREBERABERABERABERCBQiGgBe4KpSVUDhEQAREQAREQAREQgbwQIDTSvPnz7LORn/kQPZMmT/Iex9kWBs92POCJaxi3aFnlCXy7D9ndhr0+LJ5M70VABERABERABERABESgYAikd68smOKpICIgAiIgAiIgAiIgAiJQvwSY6dW9W3ebOHGiD6+BaDxu7DjL1tOYsAbEK8dm/jjTr0nB+3eHv2uNmzTmrfVYvYePF0+4i+kzpvtt+k8EREAEREAEREAEREAECo2AxOJCaxGVRwREQAREQAREQASKhMBHH39UJCXNvpiNbHncd+INx0XjVVdZNePaEiwsOn36cgG4Y4eOtusuu/oT4m28y+Bdko4j/mHnTsuF5exLpZQiIAIiIAIiIAIiIAIi0DAEFIaiYTjrLCIgAiIgAiIgAiJQcgQQVkvtX2ojEZ5i1o+z/GKWqfvCZxZVJLb2jBkzwqbEK9vj9u/n/m3bbb9dfJPei4AIiIAIiIAIiIAIiEDBEJBnccE0hQoiAiIgAiIgAiIgAsVBgNWmly1bVhyFzbKUkydP9mEoEsmdxrvaqqtZ7969My4Wmkjr3px80sl23nnn2e23357YzGJ5cfv0009t0neTbJONN4lv1nsREAEREAEREAEREAERKBgCEosLpilUEBEQAREQAREQAREoDgLt2rUrjoJmWcolS5YY4SG81VAkDqfYYYcdbMR7I+z0M063yy69zIiDvMEGG4Td9vbbb9sFF1xgDz74YGKb3oiACIiACIiACIiACIhAoRGQWFxoLaLyiIAIiIAIiIAIiIAINCgBFrZbvGSxrbZa9p7E6Qp4ztnn2GOPPWZDhgyxAQMGeK/kOXPm2Ftvv2VdOnexRx991Dp27JjuUG0TAREQAREQAREQAREQgYIgILG4IJpBhRABERABERABERABEcgHAcJpIBRvu822WYWbqK6MBxxwgO23335GyIlvv/3WevbsaUcffbR16NChukO1vx4JpISOrsczKWsREAEREAEREAERKG4CEouLu/1UehEQAREQAREQgSIikLrYWREVvWSLWlFRYf369stp/ciTuM78yQqDQBRFhVEQlUIEREAEREAEREAECpxARYGXT8UTAREQAREQAREQgZIhIMGqZJpSFSkyAhqoKbIGU3FFQAREQAREQATyRkBicd7Q68QiIAIiIAIiIALlRgCP00bun0wERKBhCTSq0PeuYYnrbCIgAiIgAiIgAsVKQGJxsbacyi0CIiACIiACIlCUBBo3aVyU5VahRaCYCTRt0rSYi6+yi4AIiIAIiIAIiECDEZBY3GCodSIREAEREAEREIFyJRAPP9GiZQt5F5frhaB654UAQrEGafKCXicVAREQAREQAREoQgJa4K4IG01FFgEREAEREAERKGwCqfFR42Ix+1q3bW2LFy22JYuXmN+nGfKF3aAqXXERYC079z2rcKEnmjRpYk2aNnEfl3/J4t9FKpX6ubgqqtKKgAiIgAiIgAiIQO4JSCzOPVPlKAIiIAIiIAIiUOYEGjdODjWxaNEia9myZYIKwlWz5s38X2Kj3pQUgalTp9ro0aOtVatWNmDAgJKqWzFXZuHChUnFR0yWiYAIiIAIiIAIiIAI/EpAd0e/stA7ERABERABERABEcgJAQQoBOOlS5f6/BCLf/75Z2vWrJnzdlQUsJxALvBM5syZY9OmTbO2bdtaqkBZ4EUvyeLhQcz3MN4WDNpILC7J5lalREAEREAEREAE6kBAYnEd4OlQERABERABERABEchEAI9SBMNgCFX8ycqDwNy5c70w2bRpU5s9e3Z5VLrIasl3NISnKLKiq7giIAIiIAIiIAIiUG8E5NpSb2iVsQiIgAiIgAiIQDkTaNGihTVv3rycEajuIlCwBPhuxkPDFGxBVTAREAEREAEREAERaGACEosbGLhOJwIiIAIiIAIiUD4E2rVrZ23atFHoifJpctW0wAkQBqZ169Y+PIi8igu8sVQ8ERABERABERCBvBBQGIq8YNdJRUAEREAEREAEyoUA3ov8LVmyxMcwJnaqRKrSb31iVOO9ioc5gway/BEI3zniiPOn71/+2kJnFgEREAEREAERKHwCEosLv41UQhEQAREQAREQgRIgwEJaWkyrBBoyyyqwmCHCJG2ucCRZQlMyERABERABERABERCBvBNQGIq8N4EKIAIiIAIiIAIiIAIiIAIiIAIiIAIiIAIikC8Cixcvth9++CHj6ZctW2bfffednyWWMZF2NAiBefPm2cyZMzOea+nSpTZx4kRjZpGsdgTkWVw7bjpKBERABERABERABERABERABERABERABESgBAg0bdrUvv76a/vqq69srbXWSqoRIvGoUaNsxRVXtG7duiXt04eGJ0B4tzfffNOH+erXr1+iAAj6Y8eOtdGjR1uvXr0UdipBpuZvJBbXnJmOEAEREAEREAEREAEREAEREAEREAEREAERKCECa665pr377rs2fPjwROiwCRMm+HUniHe/+eabl1Bti7cqtEXfvn1t5MiRNm3aNB/2i9p88cUXvq0Q/hGLZbUnoDAUtWenI0VABERABERABERABERABERABERABERABEqAQNeuXb33MFVhYeL466qrrmpt2rTx2/Rf/gmsvvrqfhFhSkLYCSy0We/evRNiv9+h/2pMQGJxjZHpABEQAREQAREQAREQAREQAREQAREQAREQgVIjgHdxquHJmm57ajp9bjgCLCKMd3Gqyas4lUjtPkssrh03HSUCIiACIiACIiACIiACIiACIiACIiACIlBCBOLexaFa8ioOJArrNe5dHEomr+JAom6vEovrxk9Hi4AIiIAIiIAIiIAIiIAIiIAIiIAIiIAIlAiBuBexvIoLt1FTvYvlVZy7tpJYnDuWykkEREAEREAEREAEREAEREAEREAEREAERKCICeBd3KFDB18DeRUXdkPGvYvlVZy7tpJYnDuWykkEREAEREAEREAEREAEREAEREAEREAERKDICfTr18/kVVz4jRi8i+VVnNu2apLb7JSbCIiACIiACIiACIiACIiACIiACIiACIiACBQvAbyL+/fvb23atCneSpRJyfEuRjRu0kQSZ66aXJ7FuSKpfERABERABERABERABERABERABERABERABEqCwBprrFES9Sj1SiAUIxjLckdAYnHuWConERABERABERABERABERABERABERABERABERABEShaAhKLi7bpVHAREAEREAEREAEREAEREAEREAEREAEREAEREAERyB0BicW5Y6mcREAEREAEREAEREAEREAEREAEREAEREAEREAERKBoCUgsLtqmU8FFQAREQAREQAREQAREQAREQAREQAREQAREQAREIHcEJBbnjqVyEgEREAEREAEREAEREAEREAEREAEREAEREAEREIGiJSCxuGibTgUXAREQAREQAREQAREQAREQAREQAREQAREQAREQgdwRkFicO5bKSQREQAREQAREQAREQAREQAREQAREQAREQAREQASKloDE4qJtOhVcBERABERABERABERABERABERABERABERABERABHJHQGJx7lgqJxEQAREQAREQAREQAREQAREQAREQAREQAREQAREoWgISi4u26VRwERABERABERABERABERABERABERABERABERABCERRZMuWLROMOhJoUsfjdbgIiIAIiIAIiIAIiIAIiIAIiIAIiIAIiIAI2FtvvWVXXnlljUlcddVVts4669T4OB3QMASOP/54GzlyZJUna9GihfXq1cs22WQTO/LII6158+ZVps/VzgceeMAuv/xymzlzps2aNcueeeYZ22233XKVfVnmI7G4LJtdlRYBERABERABERABERABERABERABERCB3BLo0aOHHXbYYTZmzBg7//zzfeb9+vWzM88809q2bes/L1q0yKZMmWJfffWVIfQtWbLEHyOxeHlb4BkLn9VWWy23jVOH3E499VQbN26c3Xrrrfb888/7nG644Qbr37+/NWrUyH+eOHGiPfroo3bXXXd58fahhx6yQYMG1eGs2R269dZbG0I1ZVy6dGl2BxVIqkJsa9BILC6QC0TFEAEREAEREAEREAEREAEREAEREAEREIFiJoDAedBBB/kq3Hnnnfbdd9/Z9ttvb0cffXTaauGxutVWW9k333yTdn85bhw7dqwdcMAB9sknnxRM9ddaay3jD3EziMUnn3yyNW7cOKmMeBTvtdde9uyzz9qee+5p7733nvc2TkqU4w8MUPD33HPP+cGHHGdfr9kVYltTYcUsrtdmV+YiIAIiIAIiIAIiIAIiIAIiIAIiIAIiUH4EWrZs6SudKijGSRCy4Nhjj7Vvv/02vrms348fP75g6x8PLVFRUVlSxMv4uOOO8+X/8ccf7f7772+wugTP9QY7YQ5OVKhtXbllc1BZZSECIiACIiACIiACIiACIiACIiACIiACIiAC1RHYfffd5Vkcg9SQAmvstDl7u9NOOyVCU1QX5zhnJy3SjAq1rSUWF+kFpWKLgAiIgAiIgAiIgAiIgAgUP4G5c+fau+++a8OGDbPp06cnKjR79mwf8zOxoUDeaKX56hsi3zEzif8qE4FCJsAiZGeddVaiiMS9jfd/Ycf8+fONPjKXtnjxYvvpp5+yynLBggU2b968atNSxoULF1abjgT0oTNmzEikJX9COwT797//bY888kj4WJSvo0aN8vWk8Ouvv36VdcD7uCaWbZvUJE/SZptvubS1xOKaXkFKLwIiIAIiIAIiIAIiIAIiIAJ1JMCD6R/+8AdbccUV7ZRTTvELQbEI1Oabb26fffaZHXPMMUa8z0IwFqBac801rXPnzta0aVN74YUX6lwsBPItttgi4x8xTA855BA777zzbMSIEXU+X00zePvtt+3pp5/OarEkYnKuu+66ttJKK1mzZs38wk41PV9d0++3337Ws2dPa9euXUEtilXXeun40iTAQmjxfmSVVVax999/31cWMfXGG2/0IiMxchGSWfjuyiuvTBJVH3/8cR/rmDT0TfSb5557rnXt2tX69Onjv79xegzI0ef07t3bNthgA+vWrZtPn25w54477vBpVl55Zdtwww1thx12sKuvvtovxBfy5Li//vWvhlc0C6zRl6+33nqVzhvSs5jfLrvsYp06dbKhQ4fa2muvbb/5zW/895Y+ZOrUqX4xuD322MMfMmHCBNt7770Tf59++mnIqqBfWbzw97//vS/j6quv7hedSy0wbfW73/3Otwd8ab+jjjrKqhKOs2mT1PPw+YorrvDxnw8//HC/iCLniVs2+ZZlW7svokwEREAEREAEREAEREAERCCHBFzsxeipp56KXn311RzmqqxKicBuu+0WOdEgcqJpolrOIzS65JJLolatWkXuYTY644wzEvvCG/fQGrkFo8LHBnl1okXkVriPnBjqy+UWEarzeZ03XfTiiy9GThCPXIxLn68TciK3cFL08ssvR88880x0/fXXRy6eqd/nFsiKRo8eXefzZpPBl19+6c9JG7gpwtUeMnPmzMgJy9GAAQP8cRdffHG1x+Q6wX//+9/ICev+/E4sq1P2tAH915QpU+qUjw4Wgb59+/pr8qSTTkrAcN7CkRPsIudxmtgW3jjv3Ii+sUWLFpHzsA2bozfeeCNy8WijbbfdNnKenX77F198Ed18881Rhw4d/DlOPPHEaP/99/f9Bt9dJwonjr/lllsiFzc5coJhRN+DPfzww/44txhfIp3z8I34zPFnn3125LyQ/T76aba5gb1E2tNPPz1y8XsjJ3z7bZMmTYrcgm4+3VVXXZVIx5tffvklcsJp5AYBI+qIUQ/nXe3Tu8GpyHk7+zJdd911fhvpKWP4++GHH/xx+f7Pify+fPDgt8EtTOj/nAAcOY/oyAnxUfv27aPzzz8/om9MNedVHXXs2DFyg6V+F79p9DduIDJyiyNG7I9bTdrECdC+bPHfqMCY8nJtcS1gNcm3HNsa13CZCIiACIiACIiACBQNAW7cnXdFxM0qDwrcZAZj38cffxw+VnoNN/2VdtRwAzeY8fPW8PCsk+eqvFmfUAlzRkBicc5QlmRGQaS477770taPh2webNOJxV9//XVakSVtRjneeMQRR1R6EM/FKZzXoM83iAfxPOlrDz30UL+/e/fuCWEmnibX72sqFofzB5EnH2IxZUCEa9KkSSSxOLSIXvNNIIjFCL2In86D2Iu29G/pxOKLLrrIf9fvueeeSkV/6KGH/D6Eu7i5GQh+O3nyHWBQaeONN47OOeccn4zPiLr0H4i2cXOeu/7Y4cOH+81/+9vf/GdExbidfPLJfrvzWE5sJj/OecEFFyS2OQ9hvw2xO4ja7GQAjLSI3nFznrS+bIjFwRBgM/EJafL5GheL99prryj+t9122/nBP+dpHd1+++0RA6CpxnbqB6Mg3JMG5mzn9y9uNWmTdGLxqaee6q+91MH7muRbjm2tMBTuapSJgAiIgAiIgAgUPgH3kOCnZzPFlil/f/7zn23gwIF+qiH7sDPPPNP/xWuTq6m59TENO17O8L4u5T3hhBM8G/hk+8eUTZkIiEDDEnjppZf8Cbfccsu0J3YebX4qdbqd+Vw5vb5WmndCTrqq+m0VFRV++jcfmLruPPYyps3VDqa1E/rCeaf5acvZ5svvUz7NiS8+TEg+y6Bzi0A6Ak5QNCeYGn2fmzVgTsytlIyYxZdddpm5AQ/jXijV9tlnH3OzLnyICjcgm9hN+AfMzT4wvgOEoCCkBXlhhCEgnvDgwYOtdevWflv4L4R8cLMcfIxd+l6MEEFxo/yECTryyCMTm52Xsz9fPCavmwlhPXr08PFvncdtIi11wsj3rbfeSsTzpexOiDbnHZ1IW0xvnEewD7tByB7+XnvtNR/jmZA8xx9/vG266abmZigkVYltK6ywgg8zQnsFO+CAA/xbwnUEc6Kx1aRNwnG8ErudMtCXE+aD6yNYTfMtx7ZefsUGYnoVAREQAREQAREQgQIjwCIoiKBuCrSPbUaMO2LDYc7D1z90EPONxUD+85//2I477phUA+Km8RBw6aWX+oeMpJ01+MA5uakltqjzdKvBkTVLWpfyEtvu+++/NzfFzj744AN/Yh5MENURXLg5hqebKmlPPPGEOe85Gzt2bOKBqmYlLb3UXE881LhpkKVXOdWooAiMGTPGl4e4uL169apUNvoaYmSms0JdOT1dWXO1jXimiDwsLOQ883KVbZX5IGjIREAEckPAhSXwIi65EX+Y77Pz+EzK3M0MM+LdEic43cAU/eKqq67qF/7kHsd5Kicdn2nwjXwxFxLB/v73vycdE+IAcy/EQBxpMGK0x43+mEXb4kZffPfdd5sLo2PvvPOO38+AFvHosfhCk5tttpmv94cffujjLCOWss3NmvADYNyjlYrRTjhYOG9t++ijj+zAAw/0/XaoIzGKWeAPAZ37UYR9+JMei3OraZsEhnPmzDEGAnhmcCF6rEuXLmGXf61pvuXY1qVzRSY1vT6IgAiIgAiIgAiUAoGff/7ZXAxILxT/9re/NRYnCUIx9ePGE4GUm1Fu1BH7Uo2HB7xng1dH6v5sP+MpgtfDzjvvnO0htUpXl/LiNcPCHYjrwfC2ptx46bhYfnbccceZmyJtPDwdfPDBhncOIrLM/MMKHtkyEahvAmFAgsWRWNQonbEQUqrHrYvh6QfG0qXPtK2qBYPSHZPtivDpjq2vbS4kj7np5T771If+1HOS1sX+TN1c6bOb/mxuSnpiO+JCIRtCOd6RMhEoBQIsMsdimXFjABtDbMxkiKxYSBtPt9FGG8U/Jt67GO+J99xXxv/wQqYfxunAhatIpKuunyEhfY2LMe8XtkQQ5X4K72O8n1ONOuFVjThMv04ZcGRwoX38fS6fS8moI3XD8KT+/PPPk6rHZ+53Efz/8Y9/WMuWLSsJ9BxQ0zYJJ2Exu/Dbd+yxxyZ+P8L+muZbjm0tsThcLXoVAREQAREQAREoOAKnnXaaudht5mLeeW/Z1AeLUGAXS8xPSwyfU1+5Sc90bGra6j43xDTjupaXm+5gbkGX8DbptVmzZnbttdd6oXjatGlJ+8r1Qz6n95cr83KtdxiUwDuOkAc33nhj0kMxXHjYZUYEhqA8aNAg7ynFZ/pFBsrCX/COYx9WSCvNLy9R3f53MZ79YCAefMy+SGcMJroF8gwRyi2wZN26dfMDhfGZIAyMubjC3jsRYWmbbbbxU5PhyGAa5mLhm4u7af379zc8mvEcTDW8H5najrchvz9MqSc0EttT7fVo60VMAABAAElEQVTXX/fnCfndcccdiSSE1KDMCEydO3f2507sdG8oO0IW1wsDpUxZX2+99fx073i6ur5HOE832BrPF7FaJgK5IoCHMB6lccOjGAsDQ/F94X0Y1CHMQaplus/jXBjfd7fQXto/vl9834O5xeTC27SvfDcROxl8p/9gtoiLt+wH4eP5hIMnT57s+/EHH3zQz/DC25XwE9xTfvLJJz6fkDbdK/n/5S9/SberYLfFOcTF/SeffNLPeKOvJUTE448/7tskHiYiVCqeR3VtEo7h1cU99nkTugSPcBfnOr5bbZ1EI/0HicXpuWirCIiACIiACIhAngkwdezee+/1peBmPJPoGYqJsLLGGmuEj3rNggA34UwHjMfVy+Kwkk1SjtP7S7YxC7xiePXzEIsRGoaBMQRDBBD2IXzGjQEkhAWETgzR8KCDDkr8xYUTplEjdnIMMy4Qlu+8807vvUVszTDNOuSPgMo5ie3oFhgy4oa6RfR8eBpmJqQ+ZIfjwuvs2bP9w34QQXIZvgHR6K677vJCAtPWqUeIMRrOz+utt97qQxAhFCMM0Kddc801dvnllyfFHCZEDzNNXnnlFZ+OKeGIsYhWQSzFo9AtmOUFK8L64FEWNwaViEt69dVXezbjxo3zHoO0o1tcKZ7Uv2dWCm1FXcgv7vXMAMCee+7pBwqYlh3KEDKB/x//+Ee77bbbjLIiGPXs2dOGDh2aiOMc0tblFeHLLf7kY0KnlgGPRwQdDabVhbCOzYYAgzwY34W41384lsEYwhZg3LtkayHfeCzc+LF8JxnUYeAuCM5xz9N4Wr4nDK4Qf5k4uISroP+hvw0WF7vpgxF5CTmE9zLGgD5CM9vpa/HCRTxOtfh3kQFD8iomiw9irr322omi03fSlvS98djVcW4k/r//+z/veZxtmyRO4N6EkHRuETsf1oQ+lJk5wdTWgUTmV4nFmdlojwiIgAiIgAiIQB4J4PWKtWnTxodRyKYodQ0RwY1qfXtP5XsqMWLJyJEjEzjxdkMcilt9cMh2angoR5g+GD5nes02HYIYD6DBUj3pajO9P+SlVxGoKQFC6BA3HLEgHmoCQYD464i9Z5xxRiJbpl4jOAaBmfifcbG4a9euibT//Oc/vSCMgMF3OYTr2WmnnbzQkuqdhhjLORGKEVdDyB6mBmPPP/98Iu90bzgHU4kRUVgQ7sQTT0yXLKttDBASeog/PHYRiJlCjDcxItExxxxTKR8EVGKz4z2IIBBmVsAHjz/qhtiJ8R5PXoSCYMRPZWp4MDx8OWdYbCls5xVRFSGZPpQ+A2YIGSxOdfPNN9uQIUPiyf17xF1CAyHwphqC0VlnnWVxISWeBo87Qk8E72bqeN555/kkF1xwgRet4ulr+574sFxThHSiHaknBltENDz6mK4vE4GaEghhrsJrVcczYMbgCTFrWSwt1ViXgnsoPFDpI4KFvMNr2B5e//SnPxmzqR577LG03xkGkAgRQZoQR5nvc6oROoGF7ujzEIuxddddNyEw85nvKwJwMAZZiGOM8f3i+xQ3BvoYxAuL9LGPASscJDg2CMbMFqEvKQTLxDleNjyJg8MHfS4zIjAGF0N/zKBb3OLiMtsR0OGQbZtwTChbeO3YsaMfcGQfvx9hsT21NUSqNonFVfPRXhEQAREQAREQgTwRYFoexgMqU4+zMW7ia+pdzA0lU8C5WUdAQDxFPLjyyisTN+npzs3DNFOIedhH1OCVh/ewsEn8GNI2xFTi+DkzvcejLu4hxpRopjhnywHxYquttvKsEFV4gOFBC7GKtkp9wMNDsrqp4aGsxBUktjJ58SBIW3BzHxbrC+lqMsUeTyJiv3bq1MmLNYgyePfw0IVXUE2n94cy6FUEckEAb2E8U++77z47+uijk8QAvIjZXlMrhJXma1rmkJ6Y63zf+UNYwVsZ4YRBLoTodEY4CAQaYrYjLscteCETGxRDCGeBPI6Je1jTJwTvw3A84mmq0R4IHYgceAWnGr8DmSzdgl0hLWJzOtt22229xyK/T8E4N97K/NbgQZ0rCwt6IcYFb+owGEd/GfeczNU5lU9pEkDgRFBlUCXcb+AZj4hKGIkwGJGu9niCEtOdcBH0AcEQEukjuT9AhOS+kHz4HvNbjiH44gmfmj/3dNyv4f2PGE3ZgrHgHfctYXCOmWzce7DtpptuCsmMcF2s+cDsAQRI7iswzkm+GN7Q9OnMcMAoP31ZiFHPtgsvvDDJKQFGzGwIYXBIQ8xjysB3EW9ixHP6v0yLnnJMQxjlCLGWw/koO17C9Bm8MpPlnnvu8ffEfKZfYWA0GGE3uCfE6N+D0a8SnoL9CM0MDnKt0Kdn0yb01/FrAVE+eKfTj7KQLG3IQCxtwm9GNvmWa1v7dnEPBjIREAEREAEREAERKCgC7iaRFdf8n7uBzknZnLdZ5B4ykvJyN4uR8wyL3ENw5LzEEvucmBC5B/vI3WBG7mY9sZ037kHBl8vdQEZOYIicl0LkHkwi52USuZvVyD2URO5mOekYN407ct6DkfMu8dupn3tg8fm4B5iktOFDuvKGfdW9Oo/ABD/nTZtI7m6QI3fjHT311FOJbbypCQcXYy5yHjeREzf8OZwXYUQbXX/99f6ze0hK5O0Ensh5hUQuREjkPHn9dhd71KdzXn+JdLxxC6D4PJ3YH7mHwsQ+93AUuQenBDvqA3vnSejTwJ76OO++yD2QRfH6ugeFyHk8Rk5w9nXkANrTefL5MrhpoZGbfhpRJifM+W2k53P4cx51ibLU5I1b6MaXy3np1eQwpRWByD00R24Ayl+PTqRLIkLfQt/oxMOk7akf3IO73+QGYCL3AB65ab+R80r2xzoP10RytwK930ae9EvVWej/nIdu5MQSf6zz/qrusGr3u/jBPq/wvY4f4EIS+X30oZQ31ZzI6/dTvwceeCDp75RTTvH76IMwJwz5z9TXiU2RGzyKnChVqc8mLX0z6Zy3Mh+9OTHbb3MLroZNSa9ukNHvdyJE0nY+uIWw/D7SpJoTmf0+Jxyl7opoSyfSRPRXzsM4coOSkfNG9OnjfWU4sC6/HU508/0WfWr4c6JZ5MS1kL1eRaBaAs8++6z/TeY+ys2KiJzXrL8/ckKgv9/ie1SVOfE1couj+bT0DW4gP3KeoJFbRC5yM6ESh/K77QaAIjcDzefPubj+M30/3aBRxD0G5dh1110jF8oicsJl5ATtRJ684X7FzQbw9230EaThPtF5KPvvYkjsBp18Xpyf/Fxor8iJzv4+xA3a+e8ox3IvwveJ7y33TPTrboZC5EIw+HzdbIGQZeLVDYr7exrqx33JwIEDIzdAlNifjzfcE9MnVvfnBucj+jTuC51gXKmozkPb31+TD79lzjkgcuJ4xHY3I8bff3PtuEGBxLHVtQnXAveBtEW4DrhmnEAc0U7sI0/anu2kx6rLNxSg3NqaeuNFIhMBERABERABERCBgiKAwBZuRrnxzoWle4B2i5H48zgviEqneOihh/w+hN64BbEknYjtPEz8MW4Rlch51iQOC8IPD/nBeCinjjyApArSpElX3nBsda9xsdgt8uQfNLhBDkx5aIlbbTjwoBPyQ0hw8f38g88555zjs+Yz4g5150Epbm5quD92+PDhfjPHO68Pvw0uwZyXSOIctAd2++23+21wCwI02xH9KY9b1ISP3hDw2Yb4HzfnLefLhvgSLFsRLqSv7lVicXWEynu/i1GcJHqk0oj3gXFxJNvr9OOPP46c52vkQlBEzls/cjMbIr6bfB/iYrGb1u23sT3dQ31quUL/x4N3EEOc51jSdzH1mGw+VyUWc7xb+MqXkwG6VGPwiPIjFlPPdH/xPoC+JPQ3HMcf4oHzaEzKOp1YDFPSu1jCSWnDh1yLxbQJfRriC4NhvKd/R/CiHLkWi90U8YRIHMTidOcI9dWrCNQnAQaynUdyxEB3LoVSBvnpE+KDy+nqwffPeQdHzns2Yx/H/RvCLgPelDdubuZS4iP3M5wXY5Ca9OTtvGcTaVLfMEjEubkvyqZ/Tj2+0D8zmMlgI79rcaMfit/fxfdl0ybx9Nm+zybfcmvrJu5HRiYCIiACIiACIiACBUWAVeyDESagPow4vZdddpmflkzog1QjNihTAQlRwbRC59mRlCRdbEpighKKwT2EmHvQTsQXZQocsfLSTSVmGjF/mWJWJp20Fh+IX8r0PKZJMi2PkBFxqy2HEF+P2IFOuPX1ZjpiMKZ5uwenjFPDmeLJ1HDnLWNMO2UqPlO44zHsmJrN1EznTZiY8h2m2DO1kfMGI74o8QzjC9iE2KvEM6UdmTbO1FXKTptmmvod8tSrCNQXAaYWM+02XT/COekziGVJrFimzhJGJZMRV5a4ws6L1idhKi8L1tF/cY6wgBCxaIlJHLfUlebjfW88Xep7Vpondu6+++7rpw6zCB4xkuvLmArM4nCEoEk14vgy/dgN0vmp66n745/pI4hlTNxh4ojChP7HDVx5fsQ4JrxOJgvtEMI0ZEpX0+0hLmn8OKbS0yc6ociHziGUUejzYB2m98ePqet753nnYz9PnjzZZ0V/2bdv37pmq+NFoFYE3CCOuYGkWh1b1UFu8MkvelZVGva5QbFqF9KjnyVucTojhE6w+P0GMei5H6nOiNcb+u/q0hbjfsJzxEN0hDrQD2WybNok07FVbc8m33Jr64qqgGmfCIiACIiACIiACOSDALHFQuxJhJBM5rzcfHxhYk3yQMEfN+083CLOVmXO887HV0MYSHdjykM5IgQP7MQ3SzVu4tNZWMQD8SHY/fff72OvESsPkYh4bsStC/GNiQNXXwZLeCDKspDS1ltvnXSqunJAzEhn5Ish4hATMP7nPNX8PkRgLIjMIWam3/i//2hH4v4FsZ4V0J03kBd3EDQQ5a+55hp75pln/BFxlptttpm/PoiVSJxlRGLiDFIW4hemO1/83HovAvVJwHm2Z8yeRemIWUk/ky4Oe1xcZECNfiVYIaw0H8qSq1c3M8JnNWrUqEpZhljD8YGieCLnxZdYVIq4pCH2MbHmiYH67rvveqGY/jj0RfHj4+9D/16bWMG0aSZzHoeVdrGAFkIx/RTicBCKSRiPuUrbpy5aWCmzGmyI94uKVVwDcEoqAiIgAiVEIPMvVglVUlURAREQAREQAREoLgJBKKHUVYnFZ599tj366KOGOOLCHhgCJcIJYuDOO+9cZaVZQAOLP4CnHoD3BxbSpu5P9xkPOCwuauCF5uJVek9BF3PPXIgCY9VvvBQa2jhvXLQIdasth0xePyxWF4wFUeJ/eF/jJceiUhhth8W9cPyGDP+xIjkiNQKym5JtLmRHWuGXOrH4zKGHHmouJEZiYRYXC9EvoEeZZCKQLwJ4u7PgUzpjYR8GSRjwiH83+Y4gIONVGgRjvG0R9bBCWWk+XZ2q2uamCvvd4TU1bRjQ4zsbvF55jze1iyNqeCAysOSmLqce6mdT0A8Eu/baa8PbxGtYrCrMmGBHKEt4ZRsLXCFcuzjKnjXb4hYGFtN5HgfB2013jh/if+OC+Bw/DrEYYwAUr7dgzNiIXzdcC3hJB6O88TKH7dm+Bu9ieRVnS0zpREAERKD0CEgsLr02VY1EQAREQAREoCQIIPBheKa6mGZp68T0NR6kEYaDhyteZnjRplvJPp4J0xCxuIdWfD/vEWwwpoNna0GAxCsZC1OJWXWZKc6I3y5GsJ8mHp8Cnm3+dU3nYv761cBDPnXlEBcxQp68hvqHqeGsbJ76F7ycAwem3FdnTLGnfd1Ce36K/eOPP+7zJRxGqiEqMXjAituE4eA6IvwEos0nn3ziV8JOPSb+mbbKpcdePG+9FwH6nt13392HQojTQDDku8I1e9NNN8V3+QEmPI5d7ETvTYwnPZ6ybiFIn45ru1BWmk8qeJoPCJowQPgMXsF8R+kHUgXV+ODfm2++6XOjL2B2gltU1M8UgBezN+J9OgOHhLzBozgYx7sFTcNH30cz+4NZGAx+IcLjjYzHMUYoj/BbwG8OIj9eyAz8xcvpFkwywv5gr732mg8fQv8fbLvttvNhcOIe5ZQVwZsBL4wZEgj+WBCwEbqpG+biv/s+zC0k6j8zoIBATbkoE3nzSugSBk8RlmtjeBfj0R4fqKhNPjpGBERABESgSAm4H2mZCIiACIiACIiACBQcAffA7ldTdrdY/rW6AjoxwS/4w2s6S10wznn++vSsNJ1ugREWKnGhMHwaFhgJFhZ4ciJE2JT06mLu+mPuuOMOv93FEvWf3cN3pQVKWAGa+rGAEIutOWEokVdqeRM7sngTX+CuugVc6srBCVVpS8RK5tTt+OOPT7vfiR+RE1T8Phb+q6qdWZCORVAwJxT7tKn8WX2dPMLiXW56efTAAw9ETvzxx8X/c7FP/QJ3tFWwsHAYK3IH45ysvl4b0wJ3taFWPse4wa3IDVxETqSM3MCWXxyS7wz9i4tfHrFo27/+9a+0QFhMyYmDEX2X86733wknECbSFtJK84lCpXnjYqgnVqhn9Xrn1etXsWc1eydSRk5ITRzlBPSIRUX5jruZCdHNN98cOW/qiO99MBcD3S/85gTzaNddd41cyJrICeeR87wNSTzbww47LHICc8RvBYv/uViikRtkTCwWR56wpf+nXPTFLIDnBNhEPixAyCJzLCDq4qX7/AYPHhz98Y9/9GWknPzRB8XNCcqRm1Hiy0V7U0YnPkdO5E46jv4Rc7HfI+oDE+rkBtYiFn2lXw8LDFJHFhF1MfF9v0Z6/lhgNN7HxcuRzXt+g2UiIAIiIALlSYApKjIREAEREAEREAERKEgCzuPMiwY8dCMOZDJWMXZTZ/3DdiaxGPHBTeFOyiI8oKcKjyRiJXjO6zxWo/hDcxCLEQVSLQivCDis5oy5xdV8PogScUPcQQDgHIjFlMEtEpVIkq68iZ3VvHnooYd8vuTtFrCrJnWUECpqwuHEE0/053AeemnzR7BCYEGIYQXpVON4F0PZb3YewF6UceEx/MrnqWndglSeo/PaTtQL1nG79NJL/b4gFjvPu+i+++7z24IoHU+P0BK/Viijm97vBSLnDeiTujihiTLGj83mvcTibCiVbxpEYgQ+jGvPxZ2NbrvttsjFMo+eeOKJar+3zqM4YhDLxbStNAgVqBbSSvOhTHV9pb78FrjZGdFbb72VNjsX/zdyi4x6QTU1AUI7xnec35dhw4ZFLgREUh+fekxVnydNmuTzcDNgfDLych7JkZuVEDHIFf/tCPkggjtvYN/X8duFkZ5tHB+ui5Ce64NyU18GMePmZk7EP+q9CIiACIiACOSEgMTinGBUJiIgAiIgAiIgAvVFAEHELdDmRb9jjz02QjCMGw/PeK/iSYXYGBcASceDOQ/ZCKf8uWm7UfDCc9OdvYce3mNuEbREti5Egff269q1a4ToFzfEYhfLMXKhKSK8y4LhrYq3Gl5oeMwFc1OI/XkpH+IBhiczdcGbjTLde++90amnnhrdcMMNVZY35JnpFeGBcxx11FGJ+iKYUjbqnE64IK+acECkwqvNrdDtz+GmUEduynbE9lSjPrByU+QjF0s0sRtvOzzk4l7PiGe0H95xCCYYgo4LIeG9LBG+MLzoYHbeeef5z/znFhP0HsQwdjGZI9LSdg8//LBP68JdJAkwiPOU684770zkwZvQHngU48k4ZMiQyMUNTUqT7QeJxdmSUjoREAEREAEREAEREIFCItCIwrgbbpkIiIAIiIAIiIAIFCwBFi0i5uRdd93lYzsSy9F57/p4xm7qsV/cjJiTxO4kZiPvgxHD2Hmh+gXO2EYMR1a0Z5V5jNiUTqj1iyO56d8+3uW4cePMeaia82CzTp06+XThP2KJEieU2LduWrQRb9dNV/bxcImfTBmduB2S+9crr7zS3HRiHwtzq622MidW2iGHHGLOs9Z22203XxbijBKbctCgQVWWNynjlA/UlTi7bgp1YhE7bvWIm0m94UAcynSWLYfrr7/ezjzzTB/LkvOQP3E7WTSOeMipRp1OOOEEc8KwrxvxSJ2g7uMIh0W5wjHEEmXRO+cZ6Bf2Ii4x/O+55x5z06l9MrbRBs4j0Jyw7OvK+Z0wbBxP2TBiDRO3mnPvs88+5sKB2Oabb+4X02OBPK4nFh2MG9vdVG8fM5WYy8Sqdh6KiWsnnra69yw4RTxRJ2BbunjK1R2v/SIgAiIgAiIgAiIgAiKQDwISi/NBXecUAREQAREQARGoFQFEQTcd15wXsDlvWb+4HQsSpYqOtcmcvBELET8RfV28x6yyYSV6BFAWnWIV+UyG4E1aFsBD+HQhGhJJWYzIhchIfM7nm9pyqK7MtBdCNotRuXisVSaHJ4teIWy7mKBp07rp3+Y8kP3CTj169EikYSEqRGwEaedl7UVyFvGDO+3r4oWai3lqLgRI4pj4G4R1FobiOkB8z7SAX/yY8N55NPvBAxfOwtKJxZSBfZnOHfLRqwiIgAiIgAiIgAiIgAjki4DE4nyR13lFQAREQAREQAREQARKigCe2wjYeJYjCiM641nsFjL0Xt2I1y5Mit9XUhVXZURABERABERABERABEqGgMTikmlKVUQEREAEREAEREAERCCfBAhPQlgUF+/YezfzGdEYb2UMr2q8mmUiIAIiIAIiIAIiIAIiUKgEKgq1YCqXCIiACIiACIiACIiACBQTAcJf9OrVyxcZoRgLQjFhTTLFi/YJ9Z8IiIAIiIAIiIAIiIAIFAABicUF0AgqggiIgAiIgAiIgAiIQGkQ6N27d9o4x2zHy1gmAiIgAiIgAiIgAiIgAoVMQGJxIbeOyiYCIiACIiACIiACIlBUBOLexaHg8ioOJPQqAiIgAiJQzgROOukkvwDtZpttZiyoKxMBEShMAhKLC7NdVCoREAEREAEREAEREIEiJZDqXSyv4iJtSBVbBERABEQgZwT++c9/2i233GILFiywESNG2Omnn56zvJVRaRCYO3euhTBepVGj4q2FxOLibTuVXAREQAREQAREQAREoAAJxL2L5VVcgA2kIomACIiACDQogQkTJthvfvMbW3/99W3MmDF2yCGH2M0332xPPPFEg5ZDJysMAtddd52tuuqq1r17dzvmmGPs7bfftnHjxlmPHj3s448/LoxClnkpGkXOypyBqi8CIiACIiACIiACIiACOSWAZ8yLL75offv2tT59+uQ0b2UmAiIgAiIgAsVCgN/DLbbYwrp27WoPP/ywtWnTxhf94osvthtuuME++ugj69mzZ7FUR+WsIwHae7vttrPBgwfbm2++aVOnTk3kyHWCcCzLPwGJxflvA5VABERABERABERABESgBAl888031q1bNy1sV4JtW19VevXVV23LLbc0PNJlIpANgTfeeMM22WQTa9WqVTbJlUYE8kJg5MiRtu6661pFRfLk9tGjR9tKK61k7dq1y0u5dNKGJ/DMM8/Y0qVLbejQobZw4UJ77LHHbPjw4TZgwADbf//9rW3btg1fKJ2xEgGJxZWQaIMIiIAIiIAIiIAIiIAIiIAINCyBCy+80J5++mn/0NyiRYuGPbnOVlAEmPzLX6qwlq6QV199tf3jH/+wYcOGWfv27dMl0TYRyCuBdJPZGzVq5MsU3xe25bWwOnm9Eoi3dzhRaPfUfWF7SKfXhiWQPKzTsOfW2URABERABERABERABERABESg7AncfvvtdtNNN/n4nRKKy/NyeOCBB2zNNde0zp07W9OmTe2FF17ICsSf/vQn69Wrl+2+++62aNGirI5RIhFoKAKHHnqoH/Rg4CP8rbDCCn5Q7O677/azKMJ2PE5lpUtg+vTpxu9baO/wijcxxmLAYdvGG29cuiCKpGYSi4ukoVRMERABERABERCBXwnMnDnT3nvvvV836J0I1ILAjz/+6Fdkr8WhOkQEckZg7Nixdtppp9l9993nRb/UjJctW2aTJk1K3VyWn2fMmGHz5s2r97rng/nWW29txHBlgUymaNfE7r33Xh/386qrrqrJYUorAvVO4MEHH7SBAwcmnQdReLPNNvMLmz355JN+3+OPP2577rlnUjp9KC0CDIQ99dRTSZXaZpttjLbHWOCOUBQbbrihvfvuu0np9KHhCUgsbnjmOqMIiIAIiIAIiEAdCHz33Xf+RnL8+PF1yCU/h9ZUAEhXSqbp5SKfdHmX2zY4HnTQQXbPPfeUW9VV3wIi8Lvf/c7wotprr73SlgoxGa9Rmdkpp5xiL730Ur2jyAfzHj162AEHHGA777xzjetHvFfCmFx22WVGDFiZCBQKAUIJnHvuuUnF+de//pX4/MUXX9h6661n++23X2Kb3pQugd12280LwqGG77zzjuFxjBG/mL73z3/+szVr1iwk0WueCEgszhN4nVYEREAEREAERKDmBGbNmuVXT9577729yFfzHBr2CLyfWdCFxVu48b388strVYBXXnnF1l57bb+SOPnceeedtcpHByUTwMsFj5aTTz7ZNP01mY0+NQyBl19+2Yuff/zjHzOesBgHxjJWpo47GopFQ50nHY7aLu504IEHWpcuXeyiiy5Kl622iUDeCDDY1bdv38T58TYOIVMeeughO/LIIxP79Kb0CTCTJtjixYvt73//u//43HPP+ZkVGhwNdPL7KrE4v/x1dhEQAREQAREQgRoQQFDhQfq6666rwVH5S0r8NTy9VlttNeOGuLbWv39/n0/Hjh1tyZIltc2mQY5rqGni2VamuvLg0Xnttdfab37zGyO8iUwEGpLAo48+at27d7c99tgj42nvv//+jPvKaQceiB988EGDVLkYmRO+gn6Mga/58+c3CCedRASyIYB3MTMogvG7jHfxyJEj7auvvjLiGteHffvtt5bPgZ+61gkvW5wM3nrrrbpmVVDHE6O4a9euiTIRuxpjEOGQQw7xMdsTO/UmbwQkFucNvU4sAiIgAiIgAiJQEwJvv/22DxfAjTOL/xSDdejQwU8t5+a3LsZN9dChQ23fffetSzYNcmxDTRPPtjLZlOf444+3FVdc0ary7sz2fEonAtkSYODn6aefNmI2Zlr1/d///rc98sgj2Wbp0yEUzp07t0bH5Doxg2M//fRTzrKdPXu2nXrqqTkJwUMoH8SqYMRAJkZxsNowJ/55TWzBggX1Ent52223tV9++cX+85//1KQ4SisC9U4A7+FWrVolzoNAiEfpLrvskiQcJhLU4Q0x3k844QTvzfzmm2/WIafsD2WQhsHnxo0bW8uWLe3//u///KANM+IOO+wwv519xGXOpm8khj1hadZYYw0fliH7khR+SmbIMbAV7Msvv/R9Fp7Fxe5lTv9711132c033xyqV7SvEouLtulUcBEQAREQAREoLwKs+M6iFzvssEPRVZx4krmw2k5PzsW5s82j0Lx4sikPQt0f/vAHY5GoMWPGZFtVpROBOhF44403vDf7lltuWSmfqVOn2qBBgxIexxMmTDDC74S/Tz/9NOkYBNAbb7zR1l9/fVtrrbWM2QjrrLOOXXnllUlCaNJBaT68/vrrXrzmWMLnvPbaa96rDeED0aJnz552xRVXZBQ7hg0bZltssYVf1X6DDTawbt26+XilIc76NddcY4RLOOKII+zwww83PMxCDGJ48BlhhT8Gx4hRz0M3+bz66qu+xJw/cDjrrLPS1CL9JjwYEaY6derkB98I7YNgQZ0IGVRT5p999pn3lqS+/DYR1uaoo46yqoTjO+64w+Cy8sorJ37Prr766mpnjFBnhCOYwYbzpLNNNtnED6Y+8cQT6XZrmwjkjcAKK6zgvUZDAQjB89e//rVKcXDKlCkhedIrzgNVfc/oUxhkD6Eukg6u4gP9FP1AOqvunIjA9GsMPDGwxVoIiMYMRN90001+e69evfwAYfv27dOdIrHt9ttvt/POO88LqHyn6f9KzY477jirqPhVjiRmdZ8+fZLiGeeqzsTMph0Q61dffXV/3eUq73g+/Mbwe85gICHOanr9xfMqhPe/tk4hlEZlEAEREAEREAEREIE0BBAMWBn5xBNPTLNXmwqFQENOE8+mzjUpDw95rVu3NsICyESgIQh8/vnn/jSbbrpppdO1aNHCx9IOIXd40GUxxvCHkBuMB1JiPJ599tl+yvI333zjp17fdttt/jMDbHjPZmMIpwcffLD3TkU0QSDBO5++9+uvv/YiyDnnnOMFy9T8br31Vttxxx29UDxq1CijHIjDzAZB4MQ22mgjQ/x44YUX/JRjRNowHZkwCk899ZQRw5Q+n7QMtCHEIrJuvvnmPo+tttoqwWGnnXby26r7D0/rXXfd1YcE+v777+2///2vD2mBwDtt2jQv5NSEOSFrtttuO+MYFmhCzCeW/D/+8Q8v2KeGtEHMhyuzGFjgiQWd4EmYojPPPNNOP/30KquAZzXiA9O08VRMd82QAeIUQj/8ZSJQaATw9g2GqIqncaYQPISp+O1vfxuSJ70yG4PvXSZjcKumjgV8Rxk8wrs1nVV3To7hPhWjn44bA2EYM8TiAmk8TXhPvX//+9/bk08+6de6YGCIBd9KzQi/NGTIkES1mBFTlVcxs0FqK77SzzI4yDVHH8o6FdlapgGL1OPpz7lGEPkJucL1VCyzIFPrkvjsKiETAREQAREQAREQgYImcMMNN0Tu5iUaN25cXsrphJbITS2r9bmdiODLf/HFF1eZh/OUidzU9IxprrrqKp+PE4Eypslmh7vpziZZjdL8/PPPkXs48+Vzgk+Njq2PxLUpjxN/IrcgYX0UR3mKQCUCTiT035fJkydX2hc2OBHSp3Eew2FTpVe3oJlP4zzZKu1zwqvf58TISvuq2uA87f1x9LvO2z6R1HneRW5Qxe9zImti++jRo6PmzZtHTgCo1Fc6L2Cffvjw4Yn0LvZw5IQi/+c8dP12J6BGbdq0iZynbSJd/I0TEnw+telfnBejP9aJNvEsI/pcyu1E8cT2bJg7zz+fnxOLI34fgjkh2G8///zzwyb/+re//c1vZ3/cnGjhtzuPusRmJzT4bU60SmxznoqR84iLnHd1YlumNzvvvHPkBhMy7dZ2EcgrATfQ4a9v+hYnHlcqC7/dTnCLXKiCyA3iRi6ucaU0zkM0evbZZyttj29w4Sf8eVw4h/hm//6YY46JLr300sR2FwYhcoNJPr0LjxG5gbLEvvCmunPSN7pZC5FbZDJyomQ4zL8ee+yxPm+3WHHS9vAh3PfR9ziv4+iMM86I6M9h5QbUQrKSe3XhchLXAnydMJu2jmx3CyRGbqAs7f7qNjpPX/9bQx9aE3NhoiI3EFvtIVwv5O0GbH3b83vrZvpUe1yhJ5BncUI21xsREAEREAEREIFCJcCUWqbtMg061aqbNs20bKag4cmF4fnF9GY88/DOIh5omCIdz9vdxNV4WjdeD0wXxqMFrwni1+ERUpU3BN4UeO716NHDeyWwiB3Tz1OnmcfLVpv3Tmj3U7dXXXVVI67lKqus4r06Uj3Qjj76aM+F6ZL8BXOClq8XXn7UjenQwbKdJo73I0zwXoQR58bjkPO4G21jGiLT3uMW2pdp9ZQZD8NgTjz3U9779evnp4DjSYxlW56QT3iFO96eTvgKm/QqAvVGAA9XDK/h2hr9Gl5TeOXy/Um1ffbZx3vvEaKCxZ6ytVAmwkKwUGcwvOLw0MLi08Dp9xYuXGiDBw/2HvohPa/Bc/DFF19MbB4wYID/LuPxTH+Mtyyet3gw10fscPhghJthsSj6d4x64mVGfPmaGL8dTKvn9wXv4mCEisCYjhyMc+H1jXH+uO21115G/5XJo4641ngjjxgxwofK2H777eOHp31PnfCWTve7lvYAbRSBBiQQ9y5Od93z3SGGLfdN3GuEfjJXRSREwD//+U97+OGHE1mycCa/+5yPvijbmRiJDNybjz76yMdC536GEBuEwgh/zz//vO+H04UcIg8nIvsZB26gx4f4IZzPnDlz/P0QMzFK1fi94H4QY5YI9/mpxowKZpVwPdR2gVNmktCmnC+dsZAgM0/CQoLM5ODenf6c3wZCDqUz+lj6d+6H+T2gDsyuIWwIoUiK3Zb/ahZ7LVR+ERABERABERCBkiaAgMf0rnQWpk0jVoRp00xldp5cXoy45ZZb7LTTTvP7nGeCf+hmenZYnRuBgultJ510UiJ7bkqZLohwyUNFmCrHQikInogeTFWML9ZCbFyOmThxop9GzU0jN/vOw8ycB0si7/gbpioj3CLi8FCx2Wab+QcF4mrynimNxLesq/GgQpxQpm8j0BL7mAcmpjci2jzwwAOJxfOCuMSU8rgIwnRwhF0Wpfnkk0+SHqbCNPG//OUvvsycB1EYY5p3MFjDjkVtELkQPpiijpDFZx4c4XbBBRd4bhyHiM6UTqbj89AYXxgGcTcuxDDFEMu2PD5x7L9QZhhxrchEoD4J8P1noR9CB9TWPv74Y/8QzUN2upjmfIcZICIWNw/aDMrUxNZcc81KyZ0nrt/GInbBKAdGnfh+xy0MfPFAHjf6E8JcEJ8zxKqkH68Poz8lPMOHH37o+0Ee7Nl26KGHGoNO1U0NTy0TfQy/G4jQLKb1/vvvG/Vz3tM+KSJvMH4bQliKVJ5h0Cykjb/y+4HQTsgOxA7nsRjfnfE98VDpCxGM04kvGQ/UDhFoAALcizBoQviZgQMHVjoj2+izGNC/5JJLKu2v6wb6RPokwk4FQ+xjXQwG3KoLCROOSX3lHg7jXumxxx5L7OaekD4CMTL0nYmd/3uDiIlYjeMAi1OSthyMfpdQI8Se53401bjfo1/lHpm+kIEExNiaGn0oxr11OmNwgjT8JiDopxuwwGEhbgjK/H7wyrMB1zPPCzx7xB0t4scU3Xt3gy0TAREQAREQAREQgYIl4Dxv/TQ1pvFVZdlMm3YxMJPCPDgx2OftRMKkrGs6rZsphO4Bx+flPBOS8uKDE5v9vtQwFC6unt/uRNakY5wY67e7G9uk7bUJQ0HICSfYRkxzdp5/Sfk5sSdyXoKRe7iJ3MNMYh8hN9xNbeQeqhLbwhv3EOT3OVE5bEq8ZjNNPEzxZuq3855JHMsbphgyhZNzO1E5aR/TMtnuFuxK2s4H6vD/7Z19jFxV/YcPIAgqKKiUKCJqC4bXRETFaAHFFxTwJQhYBBWw1cQEsdEqxgCR/oEQTQuNpgEEoaJQtS1F1GpAA4IBIULqS8tbhEijCPEVqMr8vs/J71zv3p3Znd3tTmd2npPszp17z73nnOfunL3zOd8XjjXdVbvpT/1iEQMxXwcXc4sEpptAJERq4XrbdFmut1s+L53CUJQQPbFoVj9txDbzG5+P5vwzolLjTYg0HT9v8WV61OctPCLyPuaFSFrV9qcZAoImcQ8Oy9qObdW7NdHPc/1ctgn3EV/uc9gJeJSfWJBrhShRVR+PeakYAnkrFqxaIXi0QmTKY454zvm6sXBYqrXqrtaxEFnt77RRwlBEvMvshk4/Q2QeEe6i07nsD++Q3AdCbFgk0I8EmM/a/S8vfY0knfmzyvsQ8XJ4B0I8lB8+Ezy3lPe8htBaTs+vY4WhGFEx3oRBQv7MEHaAMpk2w6AhXyMWtfM1yq+vfOUreT9zdacSMdXzc1oIop2qzNj9hBUi9AbP+u1KuY+8TrYQXiwW9lqEOGlX+B8cCwgtnolLIUTQeOF8+F/BczJz7kwsWhbHTGORgAQkIAEJSKB/CRQXxOIW3amn5Xgnt2ksv3A3DnGmukQ8QObtYvXFm4m4dXM9LPUiJl62WMZdEGvXZsFSoZk0BUuJb3zjG7kqbtj1gmszbmwRnzK7Etf7XK/XzTYu6oyJhC9YMdYLVnFY7WL9fO655+YETRzH4gbL63Zlou7azWtETNK8a8899xxlLY5FHBbe9AfLo5IAjBPaWU2Wa0+1T+U65W+o24Qm5TxfJTAZAoRVwY0VyyQsXbstWAnjLYAVWrEcJZxNp4KFKgVLvekqWAIyj+IBUvfSGK89LLqYn7DGw+2X87Hu6rZgiRwicg5RM9Y5hNHB0pbkRiSiw8IY678rr7wye0qEkJ69Fzpdo86cOiSfwlMC7xJCRBSvBOZsvCXqhftcyqZNm/LcXt6P9co8SLIk/j/QHhaPeHyMVwgPggVjmc/Gq+9xCUwnAZJYEl4Gy0tCimFBy+eez227wv9fLDux9KXgERBC64iqnMszDZ5RpUzFG4jPLc9ZeHpRJtpmLLDnhHtYnzbn2WJxTIiJTgWPLaxoyzgJhcEzGM9EM63wt0B4MZ45sTLHsw0vEyy+2xXuDc+k5f8CSYjH+x/DvcSim2de5n6eJfF44/9MuwLrgw46aMQhQoPg+TFWCcOSPNfGwsdY1Qb2mGLxwN46Oy4BCUhAAhIYDgJFyO32obnp5gul4vrXPFYeTusuw5Nx6y5xzsJyue1NaSe8EsohLBFyfR6Gm4VjuHkjKreL1dys3+l9cYvudI3iLlfqletM1C27nDfVV1wMEUn4MskXsCIu96I/5W8MQccigekmUIRehIHxxOISYoU+EW4nrOCzWFzC1BASof55KX0npA4u0BRCJ0xXoR9h2T8iVm+9LYQQ5tZIIlntRtRECCUMBV/iI/lbYrGP2J/18DXVCf+/UWdBqCDC/9QF2WZ93hPugnATiMSE/WABj5+wBE57R6gbwjw0S72dOnPqRRK+HP4DkacIxexvivYIWmFZmMJKOM/nCGUsBDYL/wOIy1kPbVTcrXFrJiQR4ZNgRCiksQp/T+Vva6x6HpNALwiQQ4DPHYX4s+SNYJG6KaqWvpTnIf7+w+I2sbCMmFgvhCxAyBvvs1A/Z6xthEEW+3lW5HM/0TYRP3leawrCxHEPj4p8vRLrvV0/WAyCCc9jLO4RDozwXOWZpN05g7iPuYl5jILQygJCJCrMz3udxsO9mTt3bp5DqUOYkiKqdzqH/cXIosTKbxeCgv5wv8kVUi/NBYv6sbL98MMP55BzLA6WEEEPPfRQ/n9S6gz667aDPgD7LwEJSEACEpDAzCZQHvh4EO+m1OPQNet3OlZEW+ojUlKKkJzfNH4VYafUxeqMMpEHex40KbQTrnGjfhYtWpStyHiYnkopfew0njIW4vTWxZGptDmVc7FQpHBPEFZ6WRDWKJ1Y9bIvtjXzCRRBjwWhToUvocyBxL0tn0+S7ZSkQCRHi3AWiQWvcKEedRniXyK4EB+8boU3qmJjR5kTy2v9cLt9WAFixYW1brvkUCQZLRZ2XAthG2EYoZdXYnZSB2Ebi90y1nq7hVeZbzmGBSLCTjcFERpRp14QrPDkqFvhjsccS3CsiSnN5FMlPnNpAxGa+1eSHSGcNQtWbyS6K0Jz4VteETIuvfTSfNrpp5+exvN8QLAYTzxv9sH3EpguAhEiorr0qaeemhe6xopNzmeUGOZr166tYoBXF5jARvFKY/6rFz5XxCbmGYuCdweCLoIkn1PmpokWrF0p9cUw3q9ZsyZ/rpuJKRFKsWTF443CQhvzIEJx6Rvz0kwriPHlmZ65G154yHC/2xXuBZbpZeGAOizusXgw3k9pp4jF7ZLb4a1RnsXr7TcXLOrHyjZ/nyxyYilNwTOGhNkzqSgWz6S76VgkIAEJSEACM5BA+dKLBUAvShEkyhf3dm023brLl6FuBW2uWURRrNxwqWv3Q9bwTgJ3u3612zfeeMpYEEi6sd5tJ+K0a7fs40vheOJGqcsrFpKldCsCTaRPY/UHS0dKYVb64asEpoPAG9/4xnxZrF47FSxNcW1G8MCaGFGYkDZ191gsT/msMIcgiJaCcBmxFLP1FiFv2nk4lLrllc8SVsDF04A2ec9+FlOKSy/18ago8zJu21ju8h7xuj5/kvAOITvijies9levXp2tw7AKroutEas3z3d8UUdUQkTHMq+U4oaMmITAQx8RDor3Qak31iuuz3XxCJEGwQahppTxmCMQlHtHWItSEJCxEOQ4i3QI38yvzOGEueA+wmHJkiXllBwaY/78+Ymxs9iIJw3iCIVxFuEK93isDgmlgcBCssI6m3JBhA/crwnnYZFAPxDgbx8LfgQ/Etbx2SjPP+36x+eGv2MWnerzXLu6nfZhlVvE4AsvvHBEojw+NzfffHO1eMWcRVt8lhH++PxOpHzmM59JRSy+6KKLKoMDQsgUIZE5jSS9pdx///2JRT9C4lD4vGIti6fF5z//+Y6J2Mr5g/rK3IrIyoIgojj/y/DS6FRYbOO5mv9vzfA+nc6p72euL2Jx8aLjOPMqHmwsEuAVw98knh3r1q3Lp7dbsGgK/Px/xdODZ3jCUPD8SKK+GVViZcUiAQlIQAISkIAE+pZAiAI5CVTEqBuzjxNNyMTFwkKMOBCteBCtrh0WtnkfyTDii361v2zEF41WfPnPdUJkyLvDoiC/b5f0jQokcqGdeoKpsBTM+9jfTIhS2iLJSjzslretySS4C9fG3E48xFbXqW9ETON8nCR89UJypbCwre/K2xGfOddvN1buEeOJuITVefEFsRUWJNX7iE+a68SDe7WvvhFu3fl4CLb13a3Sz3ZJcUIwyud0SnA3Vn/qjZSEh4zRIoFeEAiRtRVfOMdsKkSFPEcxJ0WM9JxMk8Rw9RKCRysE1vyZJZEnCaLC0rcVMSFbfOa6LWEZlRMBMceF10Ge62iX/WHVmq8Z4mw+Fl+Sc3v1eZLElBHyJiefOvroo1sR+qIVwmqL+Y5C3ziPa/MabttV18KqL18/4pPn8+l/M7EpSaxIKLfXXnvl8yP7fHX+WBskUQor4laINy2SAc6bN69F4j/muBB1Rp06HnMSYoWAm+cdknWF1XYrxOCcKCviCrcYAz8h0lfXDkGqFQuAOcEeSTnhQvthlZ0Tr4aY1GLerfOFQQjErVjkysfqbKjfLCtWrMh9CjG5ecj3EhgIArFg0uJnrBKLO62p/I2T+DcEw6oJEpWFKFm9b7cx1Tbr16StEJZb4TGQd5MkOQTkehW3g0AshOb5jP8Tzf954wEioWksNuTzeS6N3BYt5uqw6M5zLPtInEwpSUhDkM7v3/a2t+W5uT7HnnLKKfla5X8Sc+3s2bPz/7B2z6X5QgP+Cxc/iwQkIAEJSEACEuhrAmFdnL+Yj9VJhFge/vhS3SxkrOcY2Y7rhczI7K+LxRwPy7i8Pyzi6tXzNqID54RbYSus7fK+sILJ4kZYTbTNthwWFPkcROV6Ofnkk/P+dg+aYVWXM0SHVV91ShGdESO6LWGllsWfSP6SBYn6eXxBQbwJi8NWWFLUD7XC9TmLMiN2xpsiPrfL2o0gDZv6eMKCaIToXsTisN4ZIYTTDgsDiChcY+nSpSOavvjii/P+uuBOhQhVkfdzTsRFHHFON/2pn3D55Zfna4W7fH232xKYNgL8PSMAdsrSXhrms8riFJ/nsPAtu0e9spjF5wAhZaJfrkddbAo7wpugFVZbLUSZLV0QAcIysEUb3RbEp1KfOTWsolthhT1ibmpeqxvmzP1h/dZCbKoXFiIRh9sV7h9tcz871Wl3Xjf7wmIvi+Hd1LWOBCSwdQgw/7z3ve8dc/7ZOj3rr1YR1SOsTk86xTN3Ke0WLJoCP3XDi2OLz+GlD/3wqljcD3fBPkhAAhKQgAQkMCYBxFaE2HaWHwiMWNVhnYdgiIjJe/YjnIRLY7Zi41i4JlbWJHxJx+KU/Vi4RcK5SrwMV+ksIGP9VhcgqROuwq2II9yqP1jSeYRGLN4iiUZutwwI6xHa4AfROhIlVaItD6RY2GI9Fkk+yinZ0jji51WWyGWMEdcyXwdBAMGD/d2U888/P5+H5WERuBFCsJCgX+H2OOoyJ5xwQj4WbujVMawGsc7gnEhAlRnUhatwsc7HIjZcHmMkZcpjri4QG0Us5hrcK+4RhbEsWLAgn4+Vc+lnPhi/sORD1ObapXAP4c3943rnnHPOCNGtm/6Ua/Eayaiy1d94wl39HLclMBUC9913X7YYDVfpqVzGcyWQ52OswJnvLRKQQP8SqD839W8v7VmdAM+gEbqiFSGW6rtn9LZi8Yy+vQ5OAhKQgAQkMDMIRAbtLAZiVdcsk3WbRvTFBRgLVyz7IvFGdgsu15+MW3fEpcsu2JHtvoXYios54mbEtMv9R9Dk55vf/GZpJofCKCLlAQcckAVUrHERmUtBSEYEwDWcfvMayTtaEfutVBn3lbqEa0DkjdhsrUjo1KId2LYrWMpFjNBcDwtoBFzOu/HGG0eMBdfxehnPTbyIxbiCn3XWWdlNHVf5SNSVRX1Es04iOC6BLBrgvo3wjYs7CwDFErzw5d6VMl5/Sj1eI8lKK7Kr13e5LYFpJ8BiDd4NZeFk2hu0gRlJgLmYOWxrWpTPSLAOSgISkMAQEtiGMceDtUUCEpCABCQgAQn0LQGSJYXImchcTJKJXpawAElkq+eRKcTcRDbn8QpJoMJiMCc0CkvcnKiJzNwkwiOzPYmMmsmmSjtkcCYRUjfJ5sbrR7vj9CNCN6SItTZmkplyLslmGE/E+0wRLzUn2CKxFONgPIyvZJ0u55DQbuPGjSlCX4xKFkcCO+4lyUZgFBbOOVkT12Jfk0u5ZnkNISStX78+14NTxPjM1wlr4NwfrhNieqmeX8fqT6kIkxCsU8QrThF7uez2VQLTToD5jb/liPGbItzKtLdnAzOPAIkISXxH8qiItznzBuiIJCABCUigpwQUi3uK28YkIAEJSEACEpgsgUiulMLCNguvEXZgspfxvK1MoCkWb+XuVM3Pnz8/RTzqLDxH+JFqvxsS6AWBSKiWDj/88HTJJZekSL7WiyZtY4YQiAR4KbwsUnhRpEWLFs2QUTkMCUhAAhLYmgS23ZqN27YEJCABCUhAAhLolkBkKU4RszhbfnZ7jvX6jwCWwZTy2g89jBjVKUKDpAsuuCApFPfDHRm+PmBZHBnZU8RETBGPfPgAOOJJEzj77LNTxJ9XKJ40QU+UgAQkIIEmAS2Lm0R8LwEJSEACEpBA3xJYvnx5/kJ855135pAFfdtRO9aWwDXXXJMirnO67LLL8nEWAA499NB01FFHta3fi52EF4lEe4kwFj//+c/HDYPRiz7ZxvASiHjdo8K6DC8NR94NAf9muqFkHQlIQAISmAgBxeKJ0LKuBCQgAQlIQAJbnQAWVHfccUe67bbbkuEotvrtmFAHiAVMjOIddtghx4COhF45rnGv41DXO7148eIsXt96662j4ivX67ktAQlIQAISkIAEJCCBYSCgWDwMd9kxSkACEpCABGYQAayoFixYkGbNmpUQ+iwSmCyBBx54IFsVr1q1Ks2ZM2eyl/E8CUhAAhKQgAQkIAEJzBgCisUz5lY6EAlIQAISkMBwEdD1drju93SN9plnnknbbmsaj+ni63UlIAEJSEACEpCABAaLgGLxYN0veysBCUhAAhKQgAQkIAEJSEACEpCABCQgAQlIYFoIaEYxLVi9qAQkIAEJSEACEpCABCQgAQlIQAISkIAEJCCBwSKgWDxY98veSkACEpCABCQgAQlIQAISkIAEJCABCUhAAhKYFgKKxdOC1YtKQAISkIAEJCABCUhAAhKQgAQkIAEJSEACEhgsAorFg3W/7K0EJCABCUhAAhKQgAQkIAEJSEACEpCABCQggWkhoFg8LVi9qAQkIAEJSEACEpCABCQgAQlIQAISkIAEJCCBwSKgWDxY98veSkACEpCABCQgAQlIQAISkIAEJCABCUhAAhKYFgKKxdOC1YtKQAISkIAEJCCB/xH45Cc/mXbaaaf0hje8IW3evPl/B9ySgAQkIAEJSEACEpCABCTQRwQUi/voZtgVCUhAAhKQgARmHoGVK1emZcuWpaeeeir98pe/TAsXLpx5g3REEpCABCQgAQlIQAISkMCMIKBYPCNuo4OQgAQkIAEJSKAfCTz44IPpjDPOSAcffHDauHFjmjdvOMNGbgAADtxJREFUXrrkkkvSd7/73X7srn2SgAQkIAEJSEACEpCABIacgGLxkP8BOHwJSEACEpCABKaHwH/+85904oknpje/+c3plltuSbNnz04rVqxI5513XhaQEZItEpCABAaVwKpVq9I222wz4meXXXZJt99+e7rsssvSDjvsUB1bs2bNoA7TfktAAhKQgASGjsA2rShDN2oHLAEJSEACEpCABHpA4J577kkHHHBA2nbbkevzGzZsSHvssUdCWLFIQAISGFQCxGEnvE4pN910UzriiCPy27Vr16Zjjz02XXfdden4448vVXyVgAQkIAEJSKDPCYz85tLnnbV7EpCABCQgAQlIYFAIsB5/4IEHZss6tuvr83PmzEk777zziH2DMi77KQEJSKAQ+MIXvlA28+vq1aur9+vXr08HHXSQQnFFxA0JSEACEpDAYBBQLB6M+2QvJSABCUhAAhIYIALnnHNOtibGorj8PP/5z6/cs5/97GdX+3XPHqAba1clIIERBI455pi0zz77VPuuvvrqtHnz5vyesDsf/vCHq2NuSEACEpCABCQwGAQMQzEY98leSkACEpCABCQwQASwIj7ssMN0zx6ge2ZXJSCByRFYunRpOvPMM6uTr7322rTvvvumQw45JD3yyCNp1qxZ1TE3JCABCUhAAhLofwJaFvf/PbKHEpCABCQgAQkMGAGSPumePWA3ze5KQAKTIoD18HOe85zqXJLbXXXVVemd73ynQnFFxQ0JSEACEpDA4BBQLB6ce2VPJSABCUhAAhIYIAK6Zw/QzbKrEpDApAkQYmfevHnV+evWrUsXX3zxtISgeOCBB9KJJ56Ytttuu/wzd+7cHN6natwNCUhAAhKQgASmTMAwFFNG6AUkIAEJSEACEpBAewK6Z7fn4l4JSGBmEbjrrrty2Ikyql133TU9+uijifjs7cof//jH9JKXvKTdoXH3ce5LX/rS9PKXvzz9/ve/79hG80L//e9/02OPPaa1cxOM7yUgAQlIQAINAloWN4D4VgISkIAEJCABCWwpAlvDPfupp55Kt91225YagteRgAQkMC6B17zmNel1r3tdVe+kk07qKOKuXr06LViwoKo70Y0yv33gAx/o2EbzmsSRP+OMM9INN9zQPOR7CUhAAhKQgAQaBBSLG0B8KwEJSEACEpCABLYUgV66Zz/99NNp2bJl6VWvelU6//zzt9QQxrzOmjVr0mtf+9rsDr7TTjul0047LT355JPpiSeeSB/60IcqV/Hjjjsu/fvf/x7zWh6UgAQGm8AnPvGJagAslDXL3/72t/TFL34xnXDCCWm33XZL9957b7NKV+9/9KMf5XrERG5XEIUXL15cHfrtb3+b3v3ud6crrrgi7/vTn/5UHatvbNq0KS1fvjzXo65zVp2O2xKQgAQkMEwEFIuH6W47VglIQAISkIAEek6gLqA888wzORHUscce27EfuFi3K7hbP/jgg+0O5X233HJL2nPPPdOf//znjnU6HejU5q233poef/zxTqclROBTTz01Ma4zzzwzXX755QnRGBf0JUuW5P2I16tWrUrbb799x+t4QAISGHwCxBLms//qV786vf71rx81IETb3/zmN2nz5s1pr732ymEqRlXqYgdiMQn13vSmN42qjWfFypUr0zXXXFMdu/POO9OGDRtymyxk/etf/6qOlQ3O23///fNiF+EqWPgiLrJFAhKQgAQkMIwEFIuH8a47ZglIQAISkIAEekZgS7lnn3feeencc8/t2O+3vvWt6T3veU+22OtYqc2BsVzCDz/88PSLX/yizVn/21VcwnE7r5ef/exn+e373ve+tO22PnLW2bgtgZlIgIUiROCPfOQjbYeHgEys4T322CN96UtfSm9/+9vb1htr5+9+97v0hz/8IR155JFtQ1DsuOOO6de//nW6+eabq8uccsop6Z///Gde3Fq4cGHae++9q2Nl4+67784LY8RRPv300xMJSp23Ch1fJSABCUhg2Aj45D5sd9zxSkACEpCABCTQcwJ16+LpdM8ea2ArVqzIYkmxqtsSLuFYFP/kJz9Ju+++ezr44INHNP/DH/4wv5+MIDTiQr6RgAT6kgAeCYShIcQDlrn33HNPthxuN8eVATBfsLBVyrx589KLX/ziMX9OPvnkUj2VeeUd73hHta+5QeK7F73oRdXu9evXJ0JMHHXUUdW+5gZCNkI3HhIkwSPEjkUCEpCABCQwrASeNawDd9wSkIAEJCABCUigVwRwz/70pz+dZs2a1bV79oEHHrhFu3fjjTem66+/Pj300ENpv/32S+1cwifa5l133ZWFlcMOOyytW7duRH9pr5Or+IiKvpGABAaSwB133JF+9atf5b5fd9116Vvf+lbCwwDL4XYFcZl557Of/Wx1+GMf+1h617veVb1vt4GIW8pY8Yrvu+++NHv27FK1ev3pT3+aQ0occcQR1b7mBlbEWDsjdLO4x3gsEpCABCQggWEloFg8rHfecUtAAhKQgAQk0DMCxT37gx/8YNs2m+7ZbStNcefXv/71nFxq3333zVfaEm3++Mc/ztfaZZdd0rXXXlv1EDfxRx55JB199NFtXcWrim5IQAIDS4DFoFKIXc48QEziTgXRloKFL2Ehnvvc5+ZwEp3qN/djvUx4m1e84hVpzpw5Iw7/4x//yOEjSvib+kGsmQ899NA8F+EN0Qwv8b3vfS+RLI8xMI/x/q9//WsiQalFAhKQgAQkMIwEDEMxjHfdMUtAAhKQgAQkMK0EEEym6p5Nsrq6ezYCxtVXXz1iH6JJt+V5z3teKkJxOafuEo7FXr09tkn0hAt4fT9u2qUUsfiKK65Il156afWDSEwxBEUh5asEZh4BLHXPPvvsLP5ilcu8R0ziTuWmm27KIu/atWvT7bff3qlax/14Kzz55JOjrIc3btyYSBqKh0Or1UrHH398WrRoUb4OcxgC8ty5c3OICURlRGf6zjmE5fn+97+f6BMFIZu4xcyXFglIQAISkMCwEtCyeFjvvOOWgAQkIAEJSGDaCKxcuXLK7tkXXnhhFmtLJ5ctW5ae9axnpQULFpRdU7LabbqE77///umrX/1qdW02cMk+7bTT0iGHHFLt32efffI2ogvJ7whd0XQ7LyKyYnGFzQ0JzDgC22+/fVq8eHHX48Lb4OGHH84CbT1ucTcXQMw966yzclVC3pCk7oUvfGG2UEYsxmL4y1/+cnr66adzcrv7778/XXDBBemJJ57I7bHQ9oMf/CBbP7Nvw4YN6dFHH81zGKF5Pve5z6V77703n8uYtttuu266ZR0JSEACEpDAjCSwTay+tmbkyByUBCQgAQlIQAIS2EoElixZkj71qU9VrRf37E5Wd1dddVV2gUZI2XXXXbN7dnXy/2+QCApx5sorr2weGvEe4RZx94Ybbhixv/mmmzYRp1etWpWOOeaY5uk5/vFxxx2XFi5cmC666KLqOGINY0DIYTwWCUhAAhB4/PHHM4jddtttWoH85S9/STvuuGM1jyIG46nBfFbK3//+9/T+978/ffvb304k+3zZy16W47njraFQXCj5KgEJSEACw0rAMBTDeucdtwQkIAEJSEAC00Zg/vz5PXXPLgPBpRrhg3igzbJ8+fLsio1IQpmqS/h3vvOdfJ0jjzwyv5Zfa9asya7ib3nLW8ouXyUgAQkkROLpForBzEIV8ZBLwQq5LhSzn8W0j3/847kuAjHHSY6nUFyo+SoBCUhAAsNM4H/Lq8NMwbFLQAISkIAEJCCBLUiAhHYTcc8mUdTuu++eXaQ7uWe/8pWvHCV41Lt89913JwRhwkkQkxMX7I9+9KP5utTbtGlTdtHGBXvnnXdO3bRJ3OUXvOAF9Wby9tKlSxNu3hy//vrr03777ZeTTn3ta1/LyaHY/9hjj6UVK1bkmMejLuAOCUhAAluRwEknnbQVW7dpCUhAAhKQQH8TMAxFf98feycBCUhAAhKQgAQkIAEJSEACEpCABCQgAQlIoCcEDEPRE8w2IgEJSEACEpCABCQgAQlIQAISkIAEJCABCUigvwkoFvf3/bF3EpCABCQgAQlIQAISkIAEJCABCUhAAhKQgAR6QkCxuCeYbUQCEpCABCQgAQlIQAISkIAEJCABCUhAAhKQQH8TUCzu7/tj7yQgAQlIQAISkIAEJCABCUhAAhKQgAQkIAEJ9ISAYnFPMNuIBCQgAQlIQAISkIAEJCABCUhAAhKQgAQkIIH+JqBY3N/3x95JQAISkIAEJCABCUhAAhKQgAQkIAEJSEACEugJAcXinmC2EQlIQAISkIAEJCABCUhAAhKQgAQkIAEJSEAC/U1Asbi/74+9k4AEJCABCUhAAhKQgAQkIAEJSEACEpCABCTQEwKKxT3BbCMSkIAEJCABCUhAAhKQgAQkIAEJSEACEpCABPqbgGJxf98feycBCUhAAhKQgAQkIAEJSEACEpCABCQgAQlIoCcEFIt7gtlGJCABCUhAAhKQgAQkIAEJSEACEpCABCQgAQn0NwHF4v6+P/ZOAhKQgAQkIAEJSEACEpCABCQgAQlIQAISkEBPCCgW9wSzjUhAAhKQgAQkIAEJSEACEpCABCQgAQlIQAIS6G8CisX9fX/snQQkIAEJSEACEpCABCQgAQlIQAISkIAEJCCBnhBQLO4JZhuRgAQkIAEJSEACEpCABCQgAQlIQAISkIAEJNDfBBSL+/v+2DsJSEACEpCABCQgAQlIQAISkIAEJCABCUhAAj0hoFjcE8w2IgEJSEACEpCABCQgAQlIQAISkIAEJCABCUigvwkoFvf3/bF3EpCABCQgAQlIQAISkIAEJCABCUhAAhKQgAR6QkCxuCeYbUQCEpCABCQgAQlIQAISkIAEJCABCUhAAhKQQH8TUCzu7/tj7yQgAQlIQAISkIAEJCABCUhAAhKQgAQkIAEJ9ISAYnFPMNuIBCQgAQlIQAISkIAEJCABCUhAAhKQgAQkIIH+JqBY3N/3x95JQAISkIAEJCABCUhAAhKQgAQkIAEJSEACEugJAcXinmC2EQlIQAISkIAEJCABCUhAAhKQgAQkIAEJSEAC/U3g/wACPUYiYk/64gAAAABJRU5ErkJggg==)"
      ],
      "metadata": {
        "id": "szPzGxyp9nT-"
      }
    },
    {
      "cell_type": "markdown",
      "source": [
        "### Start of execution"
      ],
      "metadata": {
        "id": "zply90P43oWY"
      }
    },
    {
      "cell_type": "code",
      "execution_count": 1,
      "metadata": {
        "id": "pGo8Y9_L3EtT"
      },
      "outputs": [],
      "source": [
        "import time"
      ]
    },
    {
      "cell_type": "code",
      "source": [
        "start = time.time()"
      ],
      "metadata": {
        "id": "ZB2t947z3uot"
      },
      "execution_count": 2,
      "outputs": []
    },
    {
      "cell_type": "markdown",
      "source": [
        "### 1. Setting the environment"
      ],
      "metadata": {
        "id": "oFwDe3MY30IA"
      }
    },
    {
      "cell_type": "code",
      "source": [
        "!pip install -q neuralforecast"
      ],
      "metadata": {
        "id": "2173TEZ_3wAG"
      },
      "execution_count": 3,
      "outputs": []
    },
    {
      "cell_type": "markdown",
      "source": [
        "### 2. Import Libraries"
      ],
      "metadata": {
        "id": "1DWdQ0q44kvQ"
      }
    },
    {
      "cell_type": "code",
      "source": [
        "import pandas as pd\n",
        "from ray import tune\n",
        "import matplotlib.pyplot as plt\n",
        "from neuralforecast.auto import AutoMLP\n",
        "from neuralforecast.core import NeuralForecast\n",
        "from neuralforecast.models import NBEATS, NHITS\n",
        "from neuralforecast.utils import AirPassengersDF"
      ],
      "metadata": {
        "id": "QOmb8a5q35WW"
      },
      "execution_count": 4,
      "outputs": []
    },
    {
      "cell_type": "markdown",
      "source": [
        "### 3. Load Datasets"
      ],
      "metadata": {
        "id": "Wp4RcbIf48E3"
      }
    },
    {
      "cell_type": "code",
      "source": [
        "Y_df = AirPassengersDF\n",
        "Y_df = Y_df.reset_index(drop=True)\n",
        "Y_df.head()"
      ],
      "metadata": {
        "colab": {
          "base_uri": "https://localhost:8080/",
          "height": 204
        },
        "id": "M9zDNUuf44Xb",
        "outputId": "94c64991-a509-4b9f-dd9d-c3d91ba9c0ef"
      },
      "execution_count": 5,
      "outputs": [
        {
          "output_type": "execute_result",
          "data": {
            "text/plain": [
              "   unique_id         ds      y\n",
              "0        1.0 1949-01-31  112.0\n",
              "1        1.0 1949-02-28  118.0\n",
              "2        1.0 1949-03-31  132.0\n",
              "3        1.0 1949-04-30  129.0\n",
              "4        1.0 1949-05-31  121.0"
            ],
            "text/html": [
              "\n",
              "  <div id=\"df-a35743dc-beb8-41e3-a657-7a374bdfe6b1\" class=\"colab-df-container\">\n",
              "    <div>\n",
              "<style scoped>\n",
              "    .dataframe tbody tr th:only-of-type {\n",
              "        vertical-align: middle;\n",
              "    }\n",
              "\n",
              "    .dataframe tbody tr th {\n",
              "        vertical-align: top;\n",
              "    }\n",
              "\n",
              "    .dataframe thead th {\n",
              "        text-align: right;\n",
              "    }\n",
              "</style>\n",
              "<table border=\"1\" class=\"dataframe\">\n",
              "  <thead>\n",
              "    <tr style=\"text-align: right;\">\n",
              "      <th></th>\n",
              "      <th>unique_id</th>\n",
              "      <th>ds</th>\n",
              "      <th>y</th>\n",
              "    </tr>\n",
              "  </thead>\n",
              "  <tbody>\n",
              "    <tr>\n",
              "      <th>0</th>\n",
              "      <td>1.0</td>\n",
              "      <td>1949-01-31</td>\n",
              "      <td>112.0</td>\n",
              "    </tr>\n",
              "    <tr>\n",
              "      <th>1</th>\n",
              "      <td>1.0</td>\n",
              "      <td>1949-02-28</td>\n",
              "      <td>118.0</td>\n",
              "    </tr>\n",
              "    <tr>\n",
              "      <th>2</th>\n",
              "      <td>1.0</td>\n",
              "      <td>1949-03-31</td>\n",
              "      <td>132.0</td>\n",
              "    </tr>\n",
              "    <tr>\n",
              "      <th>3</th>\n",
              "      <td>1.0</td>\n",
              "      <td>1949-04-30</td>\n",
              "      <td>129.0</td>\n",
              "    </tr>\n",
              "    <tr>\n",
              "      <th>4</th>\n",
              "      <td>1.0</td>\n",
              "      <td>1949-05-31</td>\n",
              "      <td>121.0</td>\n",
              "    </tr>\n",
              "  </tbody>\n",
              "</table>\n",
              "</div>\n",
              "    <div class=\"colab-df-buttons\">\n",
              "\n",
              "  <div class=\"colab-df-container\">\n",
              "    <button class=\"colab-df-convert\" onclick=\"convertToInteractive('df-a35743dc-beb8-41e3-a657-7a374bdfe6b1')\"\n",
              "            title=\"Convert this dataframe to an interactive table.\"\n",
              "            style=\"display:none;\">\n",
              "\n",
              "  <svg xmlns=\"http://www.w3.org/2000/svg\" height=\"24px\" viewBox=\"0 -960 960 960\">\n",
              "    <path d=\"M120-120v-720h720v720H120Zm60-500h600v-160H180v160Zm220 220h160v-160H400v160Zm0 220h160v-160H400v160ZM180-400h160v-160H180v160Zm440 0h160v-160H620v160ZM180-180h160v-160H180v160Zm440 0h160v-160H620v160Z\"/>\n",
              "  </svg>\n",
              "    </button>\n",
              "\n",
              "  <style>\n",
              "    .colab-df-container {\n",
              "      display:flex;\n",
              "      gap: 12px;\n",
              "    }\n",
              "\n",
              "    .colab-df-convert {\n",
              "      background-color: #E8F0FE;\n",
              "      border: none;\n",
              "      border-radius: 50%;\n",
              "      cursor: pointer;\n",
              "      display: none;\n",
              "      fill: #1967D2;\n",
              "      height: 32px;\n",
              "      padding: 0 0 0 0;\n",
              "      width: 32px;\n",
              "    }\n",
              "\n",
              "    .colab-df-convert:hover {\n",
              "      background-color: #E2EBFA;\n",
              "      box-shadow: 0px 1px 2px rgba(60, 64, 67, 0.3), 0px 1px 3px 1px rgba(60, 64, 67, 0.15);\n",
              "      fill: #174EA6;\n",
              "    }\n",
              "\n",
              "    .colab-df-buttons div {\n",
              "      margin-bottom: 4px;\n",
              "    }\n",
              "\n",
              "    [theme=dark] .colab-df-convert {\n",
              "      background-color: #3B4455;\n",
              "      fill: #D2E3FC;\n",
              "    }\n",
              "\n",
              "    [theme=dark] .colab-df-convert:hover {\n",
              "      background-color: #434B5C;\n",
              "      box-shadow: 0px 1px 3px 1px rgba(0, 0, 0, 0.15);\n",
              "      filter: drop-shadow(0px 1px 2px rgba(0, 0, 0, 0.3));\n",
              "      fill: #FFFFFF;\n",
              "    }\n",
              "  </style>\n",
              "\n",
              "    <script>\n",
              "      const buttonEl =\n",
              "        document.querySelector('#df-a35743dc-beb8-41e3-a657-7a374bdfe6b1 button.colab-df-convert');\n",
              "      buttonEl.style.display =\n",
              "        google.colab.kernel.accessAllowed ? 'block' : 'none';\n",
              "\n",
              "      async function convertToInteractive(key) {\n",
              "        const element = document.querySelector('#df-a35743dc-beb8-41e3-a657-7a374bdfe6b1');\n",
              "        const dataTable =\n",
              "          await google.colab.kernel.invokeFunction('convertToInteractive',\n",
              "                                                    [key], {});\n",
              "        if (!dataTable) return;\n",
              "\n",
              "        const docLinkHtml = 'Like what you see? Visit the ' +\n",
              "          '<a target=\"_blank\" href=https://colab.research.google.com/notebooks/data_table.ipynb>data table notebook</a>'\n",
              "          + ' to learn more about interactive tables.';\n",
              "        element.innerHTML = '';\n",
              "        dataTable['output_type'] = 'display_data';\n",
              "        await google.colab.output.renderOutput(dataTable, element);\n",
              "        const docLink = document.createElement('div');\n",
              "        docLink.innerHTML = docLinkHtml;\n",
              "        element.appendChild(docLink);\n",
              "      }\n",
              "    </script>\n",
              "  </div>\n",
              "\n",
              "\n",
              "<div id=\"df-5642432e-5501-41ae-9c9f-8ef692339f2b\">\n",
              "  <button class=\"colab-df-quickchart\" onclick=\"quickchart('df-5642432e-5501-41ae-9c9f-8ef692339f2b')\"\n",
              "            title=\"Suggest charts\"\n",
              "            style=\"display:none;\">\n",
              "\n",
              "<svg xmlns=\"http://www.w3.org/2000/svg\" height=\"24px\"viewBox=\"0 0 24 24\"\n",
              "     width=\"24px\">\n",
              "    <g>\n",
              "        <path d=\"M19 3H5c-1.1 0-2 .9-2 2v14c0 1.1.9 2 2 2h14c1.1 0 2-.9 2-2V5c0-1.1-.9-2-2-2zM9 17H7v-7h2v7zm4 0h-2V7h2v10zm4 0h-2v-4h2v4z\"/>\n",
              "    </g>\n",
              "</svg>\n",
              "  </button>\n",
              "\n",
              "<style>\n",
              "  .colab-df-quickchart {\n",
              "      --bg-color: #E8F0FE;\n",
              "      --fill-color: #1967D2;\n",
              "      --hover-bg-color: #E2EBFA;\n",
              "      --hover-fill-color: #174EA6;\n",
              "      --disabled-fill-color: #AAA;\n",
              "      --disabled-bg-color: #DDD;\n",
              "  }\n",
              "\n",
              "  [theme=dark] .colab-df-quickchart {\n",
              "      --bg-color: #3B4455;\n",
              "      --fill-color: #D2E3FC;\n",
              "      --hover-bg-color: #434B5C;\n",
              "      --hover-fill-color: #FFFFFF;\n",
              "      --disabled-bg-color: #3B4455;\n",
              "      --disabled-fill-color: #666;\n",
              "  }\n",
              "\n",
              "  .colab-df-quickchart {\n",
              "    background-color: var(--bg-color);\n",
              "    border: none;\n",
              "    border-radius: 50%;\n",
              "    cursor: pointer;\n",
              "    display: none;\n",
              "    fill: var(--fill-color);\n",
              "    height: 32px;\n",
              "    padding: 0;\n",
              "    width: 32px;\n",
              "  }\n",
              "\n",
              "  .colab-df-quickchart:hover {\n",
              "    background-color: var(--hover-bg-color);\n",
              "    box-shadow: 0 1px 2px rgba(60, 64, 67, 0.3), 0 1px 3px 1px rgba(60, 64, 67, 0.15);\n",
              "    fill: var(--button-hover-fill-color);\n",
              "  }\n",
              "\n",
              "  .colab-df-quickchart-complete:disabled,\n",
              "  .colab-df-quickchart-complete:disabled:hover {\n",
              "    background-color: var(--disabled-bg-color);\n",
              "    fill: var(--disabled-fill-color);\n",
              "    box-shadow: none;\n",
              "  }\n",
              "\n",
              "  .colab-df-spinner {\n",
              "    border: 2px solid var(--fill-color);\n",
              "    border-color: transparent;\n",
              "    border-bottom-color: var(--fill-color);\n",
              "    animation:\n",
              "      spin 1s steps(1) infinite;\n",
              "  }\n",
              "\n",
              "  @keyframes spin {\n",
              "    0% {\n",
              "      border-color: transparent;\n",
              "      border-bottom-color: var(--fill-color);\n",
              "      border-left-color: var(--fill-color);\n",
              "    }\n",
              "    20% {\n",
              "      border-color: transparent;\n",
              "      border-left-color: var(--fill-color);\n",
              "      border-top-color: var(--fill-color);\n",
              "    }\n",
              "    30% {\n",
              "      border-color: transparent;\n",
              "      border-left-color: var(--fill-color);\n",
              "      border-top-color: var(--fill-color);\n",
              "      border-right-color: var(--fill-color);\n",
              "    }\n",
              "    40% {\n",
              "      border-color: transparent;\n",
              "      border-right-color: var(--fill-color);\n",
              "      border-top-color: var(--fill-color);\n",
              "    }\n",
              "    60% {\n",
              "      border-color: transparent;\n",
              "      border-right-color: var(--fill-color);\n",
              "    }\n",
              "    80% {\n",
              "      border-color: transparent;\n",
              "      border-right-color: var(--fill-color);\n",
              "      border-bottom-color: var(--fill-color);\n",
              "    }\n",
              "    90% {\n",
              "      border-color: transparent;\n",
              "      border-bottom-color: var(--fill-color);\n",
              "    }\n",
              "  }\n",
              "</style>\n",
              "\n",
              "  <script>\n",
              "    async function quickchart(key) {\n",
              "      const quickchartButtonEl =\n",
              "        document.querySelector('#' + key + ' button');\n",
              "      quickchartButtonEl.disabled = true;  // To prevent multiple clicks.\n",
              "      quickchartButtonEl.classList.add('colab-df-spinner');\n",
              "      try {\n",
              "        const charts = await google.colab.kernel.invokeFunction(\n",
              "            'suggestCharts', [key], {});\n",
              "      } catch (error) {\n",
              "        console.error('Error during call to suggestCharts:', error);\n",
              "      }\n",
              "      quickchartButtonEl.classList.remove('colab-df-spinner');\n",
              "      quickchartButtonEl.classList.add('colab-df-quickchart-complete');\n",
              "    }\n",
              "    (() => {\n",
              "      let quickchartButtonEl =\n",
              "        document.querySelector('#df-5642432e-5501-41ae-9c9f-8ef692339f2b button');\n",
              "      quickchartButtonEl.style.display =\n",
              "        google.colab.kernel.accessAllowed ? 'block' : 'none';\n",
              "    })();\n",
              "  </script>\n",
              "</div>\n",
              "\n",
              "    </div>\n",
              "  </div>\n"
            ],
            "application/vnd.google.colaboratory.intrinsic+json": {
              "type": "dataframe",
              "variable_name": "Y_df",
              "summary": "{\n  \"name\": \"Y_df\",\n  \"rows\": 144,\n  \"fields\": [\n    {\n      \"column\": \"unique_id\",\n      \"properties\": {\n        \"dtype\": \"number\",\n        \"std\": 0.0,\n        \"min\": 1.0,\n        \"max\": 1.0,\n        \"num_unique_values\": 1,\n        \"samples\": [\n          1.0\n        ],\n        \"semantic_type\": \"\",\n        \"description\": \"\"\n      }\n    },\n    {\n      \"column\": \"ds\",\n      \"properties\": {\n        \"dtype\": \"date\",\n        \"min\": \"1949-01-31 00:00:00\",\n        \"max\": \"1960-12-31 00:00:00\",\n        \"num_unique_values\": 144,\n        \"samples\": [\n          \"1958-10-31 00:00:00\"\n        ],\n        \"semantic_type\": \"\",\n        \"description\": \"\"\n      }\n    },\n    {\n      \"column\": \"y\",\n      \"properties\": {\n        \"dtype\": \"float32\",\n        \"num_unique_values\": 118,\n        \"samples\": [\n          293.0\n        ],\n        \"semantic_type\": \"\",\n        \"description\": \"\"\n      }\n    }\n  ]\n}"
            }
          },
          "metadata": {},
          "execution_count": 5
        }
      ]
    },
    {
      "cell_type": "code",
      "source": [
        "plt.figure(figsize = (10, 7))\n",
        "plt.plot(Y_df['ds'], Y_df['y'])\n",
        "plt.show()"
      ],
      "metadata": {
        "colab": {
          "base_uri": "https://localhost:8080/",
          "height": 599
        },
        "id": "sgyJXSyk5Kpq",
        "outputId": "0a3e3d54-faa6-4a13-c61c-213ac67f9e31"
      },
      "execution_count": 6,
      "outputs": [
        {
          "output_type": "display_data",
          "data": {
            "text/plain": [
              "<Figure size 1000x700 with 1 Axes>"
            ],
            "image/png": "[encoded data removed]"
          },
          "metadata": {}
        }
      ]
    },
    {
      "cell_type": "markdown",
      "source": [
        "### 4. Models"
      ],
      "metadata": {
        "id": "XmRc-JgR5vQt"
      }
    },
    {
      "cell_type": "code",
      "source": [
        "horizon = 12\n",
        "\n",
        "models = [NHITS(input_size=2 * horizon, h=horizon, max_steps=50)]"
      ],
      "metadata": {
        "colab": {
          "base_uri": "https://localhost:8080/"
        },
        "id": "ixyAQwek5l-v",
        "outputId": "05703935-a908-481d-d4c9-9345d24f7ee9"
      },
      "execution_count": 7,
      "outputs": [
        {
          "output_type": "stream",
          "name": "stderr",
          "text": [
            "INFO:lightning_fabric.utilities.seed:Seed set to 1\n"
          ]
        }
      ]
    },
    {
      "cell_type": "markdown",
      "source": [
        "### 5. Train"
      ],
      "metadata": {
        "id": "QuCHzxMF5_Ow"
      }
    },
    {
      "cell_type": "code",
      "source": [
        "nf = NeuralForecast(models = models, freq = 'M')"
      ],
      "metadata": {
        "id": "nTzauWfx59d7"
      },
      "execution_count": 8,
      "outputs": []
    },
    {
      "cell_type": "code",
      "source": [
        "nf.fit(df = Y_df)"
      ],
      "metadata": {
        "colab": {
          "base_uri": "https://localhost:8080/",
          "height": 443,
          "referenced_widgets": [
            "d140f6eacfff4c0d93f1674d4f48c462",
            "a43ae3d00c1548f59d141b4f60d8cb24",
            "2177a70312464d1999c7849bc358d59c",
            "2b942205c9644786b3ab34066a6f4ab1",
            "6619afb42a0a4c3f83aea9464348afe2",
            "19a6068067164513b00de19d536cce44",
            "7fc354f592a246929950c474342c0d7b",
            "3e25b6d7610548a7a79f87634ef4540f",
            "5dfa531b5a53444ba12447cf85601daa",
            "a2ee5e97045e4fc4ab283dc6fe0b163d",
            "0411e91384a34d3cba265e41f060d703",
            "c7fbffb3ee02474897b9254f58fe1f5f",
            "8279ece15891451b9f61bc50c34aceca",
            "bf799711264041a7b3964db21f9e2c7e",
            "7ab34c994f354b0a94c4f2cfc865fefd",
            "6e68c12a8271446fa5ea338d5c23ead0",
            "bc39bbda3bd14ad7bf077f27e9b6dab2",
            "ab67b1106208446da493206a134f4b61",
            "362f43907cbc4f59999a35021cc07b54",
            "2e9269ad87644f759ac0d024a6def0af",
            "02ccbb0eb08e4814983961fbd94a4190",
            "335b2d5508034078a7ef6fdc96fb38dc",
            "1912e07c7f314bc0aebf9835c02aa001",
            "a74b5496cae9483eabcc748dccf7f058",
            "973407bf7f56404290eb3c5068279a93",
            "191a136acd55408b91185824039155aa",
            "b9e4ea98d7bb400cb302072fb895d075",
            "7cb7b5b36ada4cdca5bc0a5abcd8f252",
            "5ed082852950457fabd68d8159570908",
            "4c620239693c41148bcaa6ad40b740d4",
            "ff13596697464974af21093b2656aad4",
            "fc2961263b5047b78eaf688e6dd74d11",
            "7d4d10111f2742aba1f078028eeefdec"
          ]
        },
        "id": "Zww-WcE46KIs",
        "outputId": "01838b8f-d6e5-47f5-b2e4-f6bbb808ea34"
      },
      "execution_count": 9,
      "outputs": [
        {
          "output_type": "stream",
          "name": "stderr",
          "text": [
            "/usr/local/lib/python3.10/dist-packages/neuralforecast/common/_base_model.py:345: UserWarning: val_check_steps is greater than max_steps, setting val_check_steps to max_steps.\n",
            "  warnings.warn(\n",
            "INFO:pytorch_lightning.utilities.rank_zero:GPU available: True (cuda), used: True\n",
            "INFO:pytorch_lightning.utilities.rank_zero:TPU available: False, using: 0 TPU cores\n",
            "INFO:pytorch_lightning.utilities.rank_zero:HPU available: False, using: 0 HPUs\n",
            "INFO:pytorch_lightning.utilities.rank_zero:You are using a CUDA device ('NVIDIA L4') that has Tensor Cores. To properly utilize them, you should set `torch.set_float32_matmul_precision('medium' | 'high')` which will trade-off precision for performance. For more details, read https://pytorch.org/docs/stable/generated/torch.set_float32_matmul_precision.html#torch.set_float32_matmul_precision\n",
            "INFO:pytorch_lightning.accelerators.cuda:LOCAL_RANK: 0 - CUDA_VISIBLE_DEVICES: [0]\n",
            "INFO:pytorch_lightning.callbacks.model_summary:\n",
            "  | Name         | Type          | Params | Mode \n",
            "-------------------------------------------------------\n",
            "0 | loss         | MAE           | 0      | train\n",
            "1 | padder_train | ConstantPad1d | 0      | train\n",
            "2 | scaler       | TemporalNorm  | 0      | train\n",
            "3 | blocks       | ModuleList    | 2.4 M  | train\n",
            "-------------------------------------------------------\n",
            "2.4 M     Trainable params\n",
            "0         Non-trainable params\n",
            "2.4 M     Total params\n",
            "9.751     Total estimated model params size (MB)\n",
            "34        Modules in train mode\n",
            "0         Modules in eval mode\n"
          ]
        },
        {
          "output_type": "display_data",
          "data": {
            "text/plain": [
              "Sanity Checking: |          | 0/? [00:00<?, ?it/s]"
            ],
            "application/vnd.jupyter.widget-view+json": {
              "version_major": 2,
              "version_minor": 0,
              "model_id": "d140f6eacfff4c0d93f1674d4f48c462"
            }
          },
          "metadata": {}
        },
        {
          "output_type": "display_data",
          "data": {
            "text/plain": [
              "Training: |          | 0/? [00:00<?, ?it/s]"
            ],
            "application/vnd.jupyter.widget-view+json": {
              "version_major": 2,
              "version_minor": 0,
              "model_id": "c7fbffb3ee02474897b9254f58fe1f5f"
            }
          },
          "metadata": {}
        },
        {
          "output_type": "display_data",
          "data": {
            "text/plain": [
              "Validation: |          | 0/? [00:00<?, ?it/s]"
            ],
            "application/vnd.jupyter.widget-view+json": {
              "version_major": 2,
              "version_minor": 0,
              "model_id": "1912e07c7f314bc0aebf9835c02aa001"
            }
          },
          "metadata": {}
        },
        {
          "output_type": "stream",
          "name": "stderr",
          "text": [
            "INFO:pytorch_lightning.utilities.rank_zero:`Trainer.fit` stopped: `max_steps=50` reached.\n"
          ]
        }
      ]
    },
    {
      "cell_type": "markdown",
      "source": [
        "### 6. Predict"
      ],
      "metadata": {
        "id": "AxolWuPY7JEU"
      }
    },
    {
      "cell_type": "code",
      "source": [
        "Y_hat_df = nf.predict().reset_index()"
      ],
      "metadata": {
        "colab": {
          "base_uri": "https://localhost:8080/",
          "height": 171,
          "referenced_widgets": [
            "4048e637fe3f4d5daaf7007560f8a894",
            "3d6a2b7989664e3f8f1519bb06e39ab4",
            "1aa2097296144ddfbb1ee93d27d5b976",
            "70ddf44eb4114ec1a00123f436339a2a",
            "4b835f8382fb4baab10c7e50a49f8f5d",
            "1ac4f505197b441d878447b90aa50dae",
            "28281c57f8e940ae912d84aac33e6218",
            "774573ebf37f4bdcacc11b8b29c752dc",
            "a7cb63e4efc04df0aa87f3df52cb5804",
            "455d45c388334cdc8ae90550d1566d6d",
            "40cf7fb496f0474383efdd5fba194896"
          ]
        },
        "id": "RUe2c4uh6C7w",
        "outputId": "2fb6e590-3cf0-4978-e154-4f50181726a8"
      },
      "execution_count": 10,
      "outputs": [
        {
          "output_type": "stream",
          "name": "stderr",
          "text": [
            "INFO:pytorch_lightning.utilities.rank_zero:GPU available: True (cuda), used: True\n",
            "INFO:pytorch_lightning.utilities.rank_zero:TPU available: False, using: 0 TPU cores\n",
            "INFO:pytorch_lightning.utilities.rank_zero:HPU available: False, using: 0 HPUs\n",
            "INFO:pytorch_lightning.accelerators.cuda:LOCAL_RANK: 0 - CUDA_VISIBLE_DEVICES: [0]\n"
          ]
        },
        {
          "output_type": "display_data",
          "data": {
            "text/plain": [
              "Predicting: |          | 0/? [00:00<?, ?it/s]"
            ],
            "application/vnd.jupyter.widget-view+json": {
              "version_major": 2,
              "version_minor": 0,
              "model_id": "4048e637fe3f4d5daaf7007560f8a894"
            }
          },
          "metadata": {}
        },
        {
          "output_type": "stream",
          "name": "stderr",
          "text": [
            "/usr/local/lib/python3.10/dist-packages/neuralforecast/core.py:209: FutureWarning: In a future version the predictions will have the id as a column. You can set the `NIXTLA_ID_AS_COL` environment variable to adopt the new behavior and to suppress this warning.\n",
            "  warnings.warn(\n"
          ]
        }
      ]
    },
    {
      "cell_type": "code",
      "source": [
        "plot_df = pd.concat([Y_df, Y_hat_df]).set_index('ds')"
      ],
      "metadata": {
        "id": "G50PzYRT7BfE"
      },
      "execution_count": 11,
      "outputs": []
    },
    {
      "cell_type": "code",
      "source": [
        "plt.figure(figsize = (12, 3))\n",
        "plot_df[['y', 'NHITS']].plot(linewidth=2)\n",
        "\n",
        "plt.title('AirPassengers Forecast', fontsize=10)\n",
        "plt.ylabel('Monthly Passengers', fontsize=10)\n",
        "plt.xlabel('Timestamp [t]', fontsize=10)\n",
        "plt.axvline(x = plot_df.index[-horizon], color='k', linestyle='--', linewidth=2)\n",
        "plt.legend(prop={'size': 10})"
      ],
      "metadata": {
        "colab": {
          "base_uri": "https://localhost:8080/",
          "height": 503
        },
        "id": "syEVGo0M7Oqy",
        "outputId": "b89d8359-6589-4ccb-f093-d7fdbd0c50cc"
      },
      "execution_count": 12,
      "outputs": [
        {
          "output_type": "execute_result",
          "data": {
            "text/plain": [
              "<matplotlib.legend.Legend at 0x7d5a8812a110>"
            ]
          },
          "metadata": {},
          "execution_count": 12
        },
        {
          "output_type": "display_data",
          "data": {
            "text/plain": [
              "<Figure size 1200x300 with 0 Axes>"
            ]
          },
          "metadata": {}
        },
        {
          "output_type": "display_data",
          "data": {
            "text/plain": [
              "<Figure size 640x480 with 1 Axes>"
            ],
            "image/png": "[encoded data removed]"
          },
          "metadata": {}
        }
      ]
    },
    {
      "cell_type": "markdown",
      "source": [
        "### End of execution"
      ],
      "metadata": {
        "id": "s4qJv5W17oAI"
      }
    },
    {
      "cell_type": "code",
      "source": [
        "end = time.time()\n",
        "\n",
        "delta = (end - start)\n",
        "\n",
        "hours = int(delta/3_600)\n",
        "mins = int((delta - hours*3_600)/60)\n",
        "secs = int(delta - hours*3_600 - mins*60)\n",
        "\n",
        "print(f'Hours: {hours}, Minutes: {mins}, Seconds: {secs}')"
      ],
      "metadata": {
        "colab": {
          "base_uri": "https://localhost:8080/"
        },
        "id": "jRfT8uTL7ij2",
        "outputId": "398c2a78-149d-4b0b-bb7a-dbd34bdc93e4"
      },
      "execution_count": 13,
      "outputs": [
        {
          "output_type": "stream",
          "name": "stdout",
          "text": [
            "Hours: 0, Minutes: 0, Seconds: 12\n"
          ]
        }
      ]
    },
    {
      "cell_type": "code",
      "source": [],
      "metadata": {
        "id": "4bdQV-y37twU"
      },
      "execution_count": 13,
      "outputs": []
    }
  ]
}