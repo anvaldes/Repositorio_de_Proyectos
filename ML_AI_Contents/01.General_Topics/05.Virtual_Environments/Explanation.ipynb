{
 "cells": [
  {
   "attachments": {},
   "cell_type": "markdown",
   "metadata": {},
   "source": [
    "# Virtual Environments"
   ]
  },
  {
   "attachments": {},
   "cell_type": "markdown",
   "metadata": {},
   "source": [
    "By Alberto Valdés \n",
    "\n",
    "**Mail 1:** anvaldes@uc.cl \n",
    "\n",
    "**Mail 2:** alberto.valdes.gonzalez.96@gmail.com"
   ]
  },
  {
   "attachments": {},
   "cell_type": "markdown",
   "metadata": {},
   "source": [
    "A virtual environment is a Python tool for dependency management and project isolation that helps to keep dependencies required by different projects separate by creating isolated python virtual environments for them.\n",
    "\n",
    "There is mainly 2 ways of creating virtual environments."
   ]
  },
  {
   "cell_type": "markdown",
   "metadata": {},
   "source": [
    "# 1. Using Conda"
   ]
  },
  {
   "attachments": {},
   "cell_type": "markdown",
   "metadata": {},
   "source": [
    "### **See all the Virtual Environments**"
   ]
  },
  {
   "attachments": {},
   "cell_type": "markdown",
   "metadata": {},
   "source": [
    "Execute in the terminal the following line:\n",
    "\n",
    "```terminal\n",
    "conda env list\n",
    "```"
   ]
  },
  {
   "attachments": {},
   "cell_type": "markdown",
   "metadata": {},
   "source": [
    "### **Creation of an Virtual Environment**"
   ]
  },
  {
   "attachments": {},
   "cell_type": "markdown",
   "metadata": {},
   "source": [
    "Execute in the terminal the following line:\n",
    "\n",
    "```terminal\n",
    "conda create -n data_science_env python=3.8\n",
    "```\n",
    "\n",
    "Note you must specify the python version of your virtual environment."
   ]
  },
  {
   "attachments": {},
   "cell_type": "markdown",
   "metadata": {},
   "source": [
    "Once you have the virtual environment created you have actived it through the following line:\n",
    "\n",
    "```terminal\n",
    "conda activate data_science_env\n",
    "```"
   ]
  },
  {
   "cell_type": "markdown",
   "metadata": {},
   "source": [
    "Next you have to install the library ipykernel:"
   ]
  },
  {
   "cell_type": "markdown",
   "metadata": {},
   "source": [
    "```terminal\n",
    "conda install -n data_science_env ipykernel\n",
    "```"
   ]
  },
  {
   "attachments": {},
   "cell_type": "markdown",
   "metadata": {},
   "source": [
    "### **Installation of differents libraries**"
   ]
  },
  {
   "attachments": {},
   "cell_type": "markdown",
   "metadata": {},
   "source": [
    "**Numpy:** \n",
    "```terminal\n",
    "pip install numpy\n",
    "```"
   ]
  },
  {
   "attachments": {},
   "cell_type": "markdown",
   "metadata": {},
   "source": [
    "**Pandas:** \n",
    "```terminal\n",
    "conda install pandas\n",
    "```"
   ]
  },
  {
   "attachments": {},
   "cell_type": "markdown",
   "metadata": {},
   "source": [
    "**Pytoch:** \n",
    "```terminal\n",
    "conda install pytorch torchvision torchaudio -c pytorch\n",
    "```"
   ]
  },
  {
   "attachments": {},
   "cell_type": "markdown",
   "metadata": {},
   "source": [
    "**Matplotlib:** \n",
    "```terminal\n",
    "conda install matplotlib\n",
    "```"
   ]
  },
  {
   "attachments": {},
   "cell_type": "markdown",
   "metadata": {},
   "source": [
    "**Seaborn:** \n",
    "```terminal\n",
    "conda install -c anaconda seaborn\n",
    "```"
   ]
  },
  {
   "attachments": {},
   "cell_type": "markdown",
   "metadata": {},
   "source": [
    "**Scipy (Particular version):** \n",
    "```terminal\n",
    "pip install scipy==1.5.4\n",
    "```"
   ]
  },
  {
   "attachments": {},
   "cell_type": "markdown",
   "metadata": {},
   "source": [
    "**Scikit-Learn:** \n",
    "```terminal\n",
    "pip install -U scikit-learn==0.23.2\n",
    "```"
   ]
  },
  {
   "attachments": {},
   "cell_type": "markdown",
   "metadata": {},
   "source": [
    "**Pycaret:** \n",
    "```terminal\n",
    "pip install pycaret\n",
    "```"
   ]
  },
  {
   "attachments": {},
   "cell_type": "markdown",
   "metadata": {},
   "source": [
    "**ipykernel:** \n",
    "```terminal\n",
    "conda install -n data_science_env ipykernel --update-deps --force-reinstall\n",
    "```"
   ]
  },
  {
   "attachments": {},
   "cell_type": "markdown",
   "metadata": {},
   "source": [
    "### **Deletion of Environment**"
   ]
  },
  {
   "attachments": {},
   "cell_type": "markdown",
   "metadata": {},
   "source": [
    "First of all we have to deactivate the environment\n",
    "\n",
    "```terminal\n",
    "conda deactivate\n",
    "```\n",
    "\n",
    "Then we remove the enviroment\n",
    "\n",
    "```terminal\n",
    "conda env remove -n data_science_env\n",
    "```"
   ]
  },
  {
   "attachments": {},
   "cell_type": "markdown",
   "metadata": {},
   "source": [
    "### **Creation of virtual environment from a \"requirements.txt\" file**"
   ]
  },
  {
   "attachments": {},
   "cell_type": "markdown",
   "metadata": {},
   "source": [
    "Execute in the terminal the following line:\n",
    "\n",
    "```terminal\n",
    "conda create -n data_science_env python=3.8\n",
    "```\n",
    "\n",
    "```terminal\n",
    "conda activate data_science_env\n",
    "```\n",
    "\n",
    "```terminal\n",
    "conda install -n data_science_env ipykernel\n",
    "```"
   ]
  },
  {
   "attachments": {},
   "cell_type": "markdown",
   "metadata": {},
   "source": [
    "Access to the folder of the \"requirements.txt\" file and execute the next line:\n",
    "\n",
    "```terminal\n",
    "pip install -r requirements.txt\n",
    "```"
   ]
  },
  {
   "cell_type": "markdown",
   "metadata": {},
   "source": [
    "# 2. Using venv"
   ]
  },
  {
   "cell_type": "markdown",
   "metadata": {},
   "source": [
    "### **Creation of Virtual Environment**"
   ]
  },
  {
   "cell_type": "markdown",
   "metadata": {},
   "source": [
    "The approach to create a virtual environmente using this library is different. \n",
    "\n",
    "First of all we have to create in \"Desktop\" a library called \"virtual_env\" then we going to access to it through the terminal and then we going to create the virtual environment:"
   ]
  },
  {
   "cell_type": "markdown",
   "metadata": {},
   "source": [
    "\n",
    "```terminal\n",
    "python3 -m venv data_science_env\n",
    "```\n",
    "\n",
    "```terminal\n",
    "source data_science_env/bin/activate\n",
    "```\n",
    "\n",
    "```terminal\n",
    "pip install ipykernel\n",
    "```"
   ]
  },
  {
   "cell_type": "markdown",
   "metadata": {},
   "source": [
    "To activate this environment in VSCode we have to go to VSCode, enter to the Palette and write:"
   ]
  },
  {
   "cell_type": "markdown",
   "metadata": {},
   "source": [
    "```terminal\n",
    ">Python: Select Interpreter\n",
    "```"
   ]
  },
  {
   "cell_type": "markdown",
   "metadata": {},
   "source": [
    "Then do click in \"Enter interpreter path\" and write:"
   ]
  },
  {
   "cell_type": "markdown",
   "metadata": {},
   "source": [
    "```terminal\n",
    "/Users/beto_valdes/Desktop/virtual_env/data_science_env/bin/python3\n",
    "```\n",
    "\n",
    "or\n",
    "\n",
    "```terminal\n",
    "/Users/beto_valdes/Desktop/virtual_env/data_science_env/bin/python\n",
    "```"
   ]
  },
  {
   "cell_type": "markdown",
   "metadata": {},
   "source": [
    "Then we have to close and reopen VSCode."
   ]
  },
  {
   "cell_type": "markdown",
   "metadata": {},
   "source": [
    "**To see the previous path we can access to the specific virtual environment on the folder \"virtual_envs\" and write:**"
   ]
  },
  {
   "cell_type": "markdown",
   "metadata": {},
   "source": [
    "```terminal\n",
    "which python3\n",
    "```\n",
    "\n",
    "or\n",
    "\n",
    "```terminal\n",
    "which python\n",
    "```"
   ]
  },
  {
   "cell_type": "markdown",
   "metadata": {},
   "source": [
    "### **Installation of differents libraries**"
   ]
  },
  {
   "cell_type": "markdown",
   "metadata": {},
   "source": [
    "We do it as the same way we do with the \"conda approach\" but obviously not using \"conda\" and only using \"pip\" or \"pip3\"."
   ]
  },
  {
   "cell_type": "markdown",
   "metadata": {},
   "source": [
    "### **Deletion of Environment**"
   ]
  },
  {
   "cell_type": "markdown",
   "metadata": {},
   "source": [
    "We only have to delete the folder associated to the \"virtual_envs\"."
   ]
  },
  {
   "cell_type": "markdown",
   "metadata": {},
   "source": [
    "### **Creation of virtual environment from a \"requirements.txt\" file**"
   ]
  },
  {
   "cell_type": "markdown",
   "metadata": {},
   "source": [
    "We create the virtual environment following this approach and then execute the next line:"
   ]
  },
  {
   "cell_type": "markdown",
   "metadata": {},
   "source": [
    "```terminal\n",
    "pip install -r requirements.txt\n",
    "```"
   ]
  },
  {
   "cell_type": "markdown",
   "metadata": {},
   "source": [
    "### **Install a particular version of Python**"
   ]
  },
  {
   "cell_type": "markdown",
   "metadata": {},
   "source": [
    "First we have to install the library \"pyenv\":"
   ]
  },
  {
   "cell_type": "markdown",
   "metadata": {},
   "source": [
    "**1. Without brew**"
   ]
  },
  {
   "cell_type": "markdown",
   "metadata": {},
   "source": [
    "Executing the next 3 lines on the terminal:\n",
    "\n",
    "```terminal\n",
    "curl https://pyenv.run | bash\n",
    "```\n",
    "\n",
    "```terminal\n",
    "export PYENV_ROOT=\"$HOME/.pyenv\"\n",
    "```\n",
    "\n",
    "```terminal\n",
    "[[ -d $PYENV_ROOT/bin ]] && export PATH=\"$PYENV_ROOT/bin:$PATH\"\n",
    "eval \"$(pyenv init -)\"\n",
    "```"
   ]
  },
  {
   "cell_type": "markdown",
   "metadata": {},
   "source": [
    "**2. With brew**"
   ]
  },
  {
   "cell_type": "markdown",
   "metadata": {},
   "source": [
    "```terminal\n",
    "brew install pyenv\n",
    "```"
   ]
  },
  {
   "cell_type": "markdown",
   "metadata": {},
   "source": [
    "Then to install the particular version of python we have to execute the next line:"
   ]
  },
  {
   "cell_type": "markdown",
   "metadata": {},
   "source": [
    "```terminal\n",
    "pyenv install 3.7\n",
    "```"
   ]
  },
  {
   "attachments": {},
   "cell_type": "markdown",
   "metadata": {},
   "source": [
    "# 3. Creation of the file \"requirements.txt\""
   ]
  },
  {
   "attachments": {},
   "cell_type": "markdown",
   "metadata": {},
   "source": [
    "You can create the file \"requierments.txt\" of differents ways which have differents observations.\n",
    "\n",
    "$ \\ $\n",
    "\n",
    "$\\underline{Way \\ \\ 1:}$ Through the terminal we access to the folder where we want it be the file \"requirements.txt\".\n",
    "\n",
    "Once we already access which folder, we execute the next line in the terminal:\n",
    "\n",
    "```terminal\n",
    "pip freeze > requirements.txt\n",
    "```\n",
    "\n",
    "The output is a file called \"requierements.txt\" which have all the libraries installed in the virtual environment even those with local dependencies. \n",
    "\n",
    "$ \\ $\n",
    "\n",
    "$\\underline{Way \\ \\ 2:}$ Through the terminal we access to the folder where we want it be the file \"requirements.txt\".\n",
    "\n",
    "Once we already access which folder, we execute the next line in the terminal:\n",
    "\n",
    "```terminal\n",
    "pip list --format=freeze > requirements.txt\n",
    "```\n",
    "\n",
    "The output is a file called \"requierements.txt\" which have all the libraries installed in the virtual environment without those with local dependencies. "
   ]
  },
  {
   "attachments": {},
   "cell_type": "markdown",
   "metadata": {},
   "source": [
    "### **Pipreqs**"
   ]
  },
  {
   "attachments": {},
   "cell_type": "markdown",
   "metadata": {},
   "source": [
    "First of all we acces to the virtual environment. In our case \"data_science_env\". On this environment we have to install the library through the next line:\n",
    "\n",
    "```terminal\n",
    "pip install pipreqs\n",
    "```\n",
    "\n",
    "Then we access to the folder in which is the \"Python File\" which we want to know the libraries we used on it. \n",
    "\n",
    "In the folder which is this notebook \"Explanation.ipynb\" we can acces to another folder called \"Python_Files\" within which there is the \"Python File\" we want to know the libraries we used on it. \n",
    "\n",
    "Once we stay in the folder called \"Python_Files\" we execute on the terminal the next line:\n",
    "\n",
    "```terminal\n",
    "pipreqs .\n",
    "```"
   ]
  },
  {
   "attachments": {},
   "cell_type": "markdown",
   "metadata": {},
   "source": [
    "### **Pipreqsnb**"
   ]
  },
  {
   "attachments": {},
   "cell_type": "markdown",
   "metadata": {},
   "source": [
    "First of all we acces to the virtual environment. In our case \"data_science_env\". On this environment we have to install the library through the next line:\n",
    "\n",
    "```terminal\n",
    "pip install pipreqsnb\n",
    "```\n",
    "\n",
    "Then we access to the folder in which is the \"Jupyter Notebook File\" which we want to know the libraries we used on it. \n",
    "\n",
    "In the folder which is this notebook \"Explanation.ipynb\" we can acces to another folder called \"Jupyter_Notebook_Files\" within which there is the \"Jupyter Notebook File\" we want to know the libraries we used on it. \n",
    "\n",
    "Once we stay in the folder called \"Jupyter_Notebook_Files\" we execute on the terminal the next line:\n",
    "\n",
    "```terminal\n",
    "pipreqsnb .\n",
    "```"
   ]
  },
  {
   "cell_type": "markdown",
   "metadata": {},
   "source": [
    "# 4. Executing a notebook from the terminal"
   ]
  },
  {
   "cell_type": "markdown",
   "metadata": {},
   "source": [
    "We have to install the next library on the virtual environment to use to execute the notebook:"
   ]
  },
  {
   "cell_type": "markdown",
   "metadata": {},
   "source": [
    "```terminal\n",
    "pip install nbformat\n",
    "```\n",
    "\n",
    "Then we have to access to the folder where is the notebook to execute and write on the terminal:\n",
    "\n",
    "```terminal\n",
    "ipython\n",
    "```\n",
    "\n",
    "```terminal\n",
    "%run ejemplo.ipynb\n",
    "```\n",
    "\n",
    "To quit execute:\n",
    "\n",
    "```terminal\n",
    "exit()\n",
    "```"
   ]
  },
  {
   "cell_type": "code",
   "execution_count": null,
   "metadata": {},
   "outputs": [],
   "source": []
  }
 ],
 "metadata": {
  "kernelspec": {
   "display_name": "data_science_env",
   "language": "python",
   "name": "python3"
  },
  "language_info": {
   "codemirror_mode": {
    "name": "ipython",
    "version": 3
   },
   "file_extension": ".py",
   "mimetype": "text/x-python",
   "name": "python",
   "nbconvert_exporter": "python",
   "pygments_lexer": "ipython3",
   "version": "3.12.4"
  },
  "orig_nbformat": 4,
  "vscode": {
   "interpreter": {
    "hash": "33c1fafa1f722512bb95ff2288ca1754d2d15925c091a4ce51aceaa93d9dc801"
   }
  }
 },
 "nbformat": 4,
 "nbformat_minor": 2
}
