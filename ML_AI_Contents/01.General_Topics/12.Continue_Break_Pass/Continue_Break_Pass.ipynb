{
 "cells": [
  {
   "attachments": {},
   "cell_type": "markdown",
   "metadata": {},
   "source": [
    "# Continue/Break/Pass"
   ]
  },
  {
   "attachments": {},
   "cell_type": "markdown",
   "metadata": {},
   "source": [
    "By Alberto Valdés \n",
    "\n",
    "**Mail 1:** anvaldes@uc.cl \n",
    "\n",
    "**Mail 2:** alberto.valdes.gonzalez.96@gmail.com"
   ]
  },
  {
   "attachments": {},
   "cell_type": "markdown",
   "metadata": {},
   "source": [
    "Is necessary knows how works all the tools of Python for make better codes. For this reason in first place we will do a brief review of a specific aspect of control flow and then we will board continue, break and pass commands."
   ]
  },
  {
   "attachments": {},
   "cell_type": "markdown",
   "metadata": {},
   "source": [
    "# 1. Control flow"
   ]
  },
  {
   "attachments": {},
   "cell_type": "markdown",
   "metadata": {},
   "source": [
    "What is the difference between of use repeated times \"if\" versus use \"if/elif\"?"
   ]
  },
  {
   "cell_type": "code",
   "execution_count": 1,
   "metadata": {},
   "outputs": [],
   "source": [
    "def function_1(number):\n",
    "\n",
    "    if number < 5:\n",
    "\n",
    "        print('The number is smaller than 5')\n",
    "    \n",
    "    if number < 3:\n",
    "\n",
    "        print('The number is smaller than 3')"
   ]
  },
  {
   "cell_type": "code",
   "execution_count": 2,
   "metadata": {},
   "outputs": [],
   "source": [
    "def function_2(number):\n",
    "\n",
    "    if number < 5:\n",
    "\n",
    "        print('The number is smaller than 5')\n",
    "    \n",
    "    elif number < 3:\n",
    "\n",
    "        print('The number is smaller than 3')"
   ]
  },
  {
   "cell_type": "code",
   "execution_count": 3,
   "metadata": {},
   "outputs": [
    {
     "name": "stdout",
     "output_type": "stream",
     "text": [
      "The number is smaller than 5\n",
      "The number is smaller than 3\n"
     ]
    }
   ],
   "source": [
    "function_1(2)"
   ]
  },
  {
   "cell_type": "code",
   "execution_count": 4,
   "metadata": {},
   "outputs": [
    {
     "name": "stdout",
     "output_type": "stream",
     "text": [
      "The number is smaller than 5\n"
     ]
    }
   ],
   "source": [
    "function_2(2)"
   ]
  },
  {
   "attachments": {},
   "cell_type": "markdown",
   "metadata": {},
   "source": [
    "**Comments:** As you can see in the first function we have **TWO SEPARATED FLOWS** definited by two \"if\", for this reason the number first pass for the condition \"number < 5\" and print the first sentence and then it pass for the condition \"number < 3\" and it print the second sentence. On other hand we can see in the second function we have only **ONE FLOW**  for this reason the number first pass for the condition \"number < 5\" and print the first sentence. The number pass for the second condition only if the first condition is not fulfilled and how the first condition was fulfilled then the number dit not pass for the second condition."
   ]
  },
  {
   "attachments": {},
   "cell_type": "markdown",
   "metadata": {},
   "source": [
    "# 2. Continue"
   ]
  },
  {
   "attachments": {},
   "cell_type": "markdown",
   "metadata": {},
   "source": [
    "The continue statement in Python is used to skip the remaining code inside a loop for the current iteration only."
   ]
  },
  {
   "attachments": {},
   "cell_type": "markdown",
   "metadata": {},
   "source": [
    "### i. Continue inside for loop"
   ]
  },
  {
   "cell_type": "code",
   "execution_count": 5,
   "metadata": {},
   "outputs": [
    {
     "name": "stdout",
     "output_type": "stream",
     "text": [
      "The Number is : 0\n",
      "The Number is : 1\n",
      "The Number is : 2\n",
      "The Number is : 3\n",
      "The Number is : 4\n",
      "The Number is : 5\n",
      "The Number is : 6\n",
      "The Number is : 8\n",
      "The Number is : 9\n"
     ]
    }
   ],
   "source": [
    "for i in range(10):    \n",
    "    if i == 7:\n",
    "        continue  \n",
    "    print(\"The Number is :\" , i)"
   ]
  },
  {
   "attachments": {},
   "cell_type": "markdown",
   "metadata": {},
   "source": [
    "### ii. Continue inside while-loop"
   ]
  },
  {
   "cell_type": "code",
   "execution_count": 6,
   "metadata": {},
   "outputs": [
    {
     "name": "stdout",
     "output_type": "stream",
     "text": [
      "The Number is  : 0\n",
      "The Number is  : 1\n",
      "The Number is  : 2\n",
      "The Number is  : 3\n",
      "The Number is  : 4\n",
      "The Number is  : 5\n",
      "The Number is  : 6\n",
      "The Number is  : 8\n",
      "The Number is  : 9\n",
      "The Number is  : 10\n"
     ]
    }
   ],
   "source": [
    "i = 0\n",
    "while i <= 10:    \n",
    "    if i == 7:\n",
    "        i += 1\n",
    "        continue  \n",
    "    print(\"The Number is  :\" , i)\n",
    "    i += 1"
   ]
  },
  {
   "attachments": {},
   "cell_type": "markdown",
   "metadata": {},
   "source": [
    "### iii. Continue inside nested-loop"
   ]
  },
  {
   "cell_type": "code",
   "execution_count": 7,
   "metadata": {},
   "outputs": [
    {
     "name": "stdout",
     "output_type": "stream",
     "text": [
      "The number are i = 0 and j = 0\n",
      "The number are i = 0 and j = 1\n",
      "The number are i = 0 and j = 3\n",
      "The number are i = 1 and j = 0\n",
      "The number are i = 1 and j = 1\n",
      "The number are i = 1 and j = 3\n",
      "The number are i = 2 and j = 0\n",
      "The number are i = 2 and j = 1\n",
      "The number are i = 2 and j = 3\n",
      "The number are i = 3 and j = 0\n",
      "The number are i = 3 and j = 1\n",
      "The number are i = 3 and j = 3\n"
     ]
    }
   ],
   "source": [
    "for i in range(4):\n",
    "    for j in range(4):          \n",
    "        if j==2:    \n",
    "            continue\n",
    "        print(f\"The number are i = {i} and j = {j}\")"
   ]
  },
  {
   "attachments": {},
   "cell_type": "markdown",
   "metadata": {},
   "source": [
    "# 3. Break"
   ]
  },
  {
   "attachments": {},
   "cell_type": "markdown",
   "metadata": {},
   "source": [
    "A break statement in Python alters the flow of a loop by terminating it once a specified condition is met."
   ]
  },
  {
   "attachments": {},
   "cell_type": "markdown",
   "metadata": {},
   "source": [
    "### i. Break inside for loop"
   ]
  },
  {
   "cell_type": "code",
   "execution_count": 1,
   "metadata": {},
   "outputs": [
    {
     "name": "stdout",
     "output_type": "stream",
     "text": [
      "The Number is : 0\n",
      "The Number is : 1\n",
      "The Number is : 2\n",
      "The Number is : 3\n",
      "The Number is : 4\n",
      "The Number is : 5\n",
      "The Number is : 6\n"
     ]
    }
   ],
   "source": [
    "for i in range(10):    \n",
    "    if i == 7:\n",
    "        break  \n",
    "    print(\"The Number is :\" , i)"
   ]
  },
  {
   "attachments": {},
   "cell_type": "markdown",
   "metadata": {},
   "source": [
    "### ii. Break inside while-loop"
   ]
  },
  {
   "cell_type": "code",
   "execution_count": 2,
   "metadata": {},
   "outputs": [
    {
     "name": "stdout",
     "output_type": "stream",
     "text": [
      "The Number is  : 0\n",
      "The Number is  : 1\n",
      "The Number is  : 2\n",
      "The Number is  : 3\n",
      "The Number is  : 4\n",
      "The Number is  : 5\n",
      "The Number is  : 6\n"
     ]
    }
   ],
   "source": [
    "i = 0\n",
    "while i <= 10:    \n",
    "    if i == 7:\n",
    "        i += 1\n",
    "        break  \n",
    "    print(\"The Number is  :\" , i)\n",
    "    i += 1"
   ]
  },
  {
   "attachments": {},
   "cell_type": "markdown",
   "metadata": {},
   "source": [
    "### iii. Break inside nested-loop"
   ]
  },
  {
   "cell_type": "code",
   "execution_count": 3,
   "metadata": {},
   "outputs": [
    {
     "name": "stdout",
     "output_type": "stream",
     "text": [
      "The number are i = 0 and j = 0\n",
      "The number are i = 0 and j = 1\n",
      "The number are i = 1 and j = 0\n",
      "The number are i = 1 and j = 1\n",
      "The number are i = 2 and j = 0\n",
      "The number are i = 2 and j = 1\n",
      "The number are i = 3 and j = 0\n",
      "The number are i = 3 and j = 1\n"
     ]
    }
   ],
   "source": [
    "for i in range(4):\n",
    "    for j in range(4):          \n",
    "        if j==2:    \n",
    "            break\n",
    "        print(f\"The number are i = {i} and j = {j}\")"
   ]
  },
  {
   "attachments": {},
   "cell_type": "markdown",
   "metadata": {},
   "source": [
    "# 4. Pass"
   ]
  },
  {
   "attachments": {},
   "cell_type": "markdown",
   "metadata": {},
   "source": [
    "The pass statement in Python is used when a statement or a condition is required to be present in the program, but we don’t want any command or code to execute. It’s typically used as a placeholder for future code."
   ]
  },
  {
   "attachments": {},
   "cell_type": "markdown",
   "metadata": {},
   "source": [
    "### i. Pass inside for loop"
   ]
  },
  {
   "cell_type": "code",
   "execution_count": 4,
   "metadata": {},
   "outputs": [
    {
     "name": "stdout",
     "output_type": "stream",
     "text": [
      "The Number is : 0\n",
      "The Number is : 1\n",
      "The Number is : 2\n",
      "The Number is : 3\n",
      "The Number is : 4\n",
      "The Number is : 5\n",
      "The Number is : 6\n",
      "The Number is : 7\n",
      "The Number is : 8\n",
      "The Number is : 9\n"
     ]
    }
   ],
   "source": [
    "for i in range(10):    \n",
    "    if i == 7:\n",
    "        pass  \n",
    "    print(\"The Number is :\" , i)"
   ]
  },
  {
   "attachments": {},
   "cell_type": "markdown",
   "metadata": {},
   "source": [
    "### ii. Pass inside while-loop"
   ]
  },
  {
   "cell_type": "code",
   "execution_count": 5,
   "metadata": {},
   "outputs": [
    {
     "name": "stdout",
     "output_type": "stream",
     "text": [
      "The Number is  : 0\n",
      "The Number is  : 1\n",
      "The Number is  : 2\n",
      "The Number is  : 3\n",
      "The Number is  : 4\n",
      "The Number is  : 5\n",
      "The Number is  : 6\n",
      "The Number is  : 8\n",
      "The Number is  : 9\n",
      "The Number is  : 10\n"
     ]
    }
   ],
   "source": [
    "i = 0\n",
    "while i <= 10:    \n",
    "    if i == 7:\n",
    "        i += 1\n",
    "        pass  \n",
    "    print(\"The Number is  :\" , i)\n",
    "    i += 1"
   ]
  },
  {
   "attachments": {},
   "cell_type": "markdown",
   "metadata": {},
   "source": [
    "### iii. Pass inside nested-loop"
   ]
  },
  {
   "cell_type": "code",
   "execution_count": 6,
   "metadata": {},
   "outputs": [
    {
     "name": "stdout",
     "output_type": "stream",
     "text": [
      "The number are i = 0 and j = 0\n",
      "The number are i = 0 and j = 1\n",
      "The number are i = 0 and j = 2\n",
      "The number are i = 0 and j = 3\n",
      "The number are i = 1 and j = 0\n",
      "The number are i = 1 and j = 1\n",
      "The number are i = 1 and j = 2\n",
      "The number are i = 1 and j = 3\n",
      "The number are i = 2 and j = 0\n",
      "The number are i = 2 and j = 1\n",
      "The number are i = 2 and j = 2\n",
      "The number are i = 2 and j = 3\n",
      "The number are i = 3 and j = 0\n",
      "The number are i = 3 and j = 1\n",
      "The number are i = 3 and j = 2\n",
      "The number are i = 3 and j = 3\n"
     ]
    }
   ],
   "source": [
    "for i in range(4):\n",
    "    for j in range(4):          \n",
    "        if j==2:    \n",
    "            pass\n",
    "        print(f\"The number are i = {i} and j = {j}\")"
   ]
  },
  {
   "cell_type": "code",
   "execution_count": null,
   "metadata": {},
   "outputs": [],
   "source": []
  }
 ],
 "metadata": {
  "kernelspec": {
   "display_name": "data_science_env",
   "language": "python",
   "name": "python3"
  },
  "language_info": {
   "codemirror_mode": {
    "name": "ipython",
    "version": 3
   },
   "file_extension": ".py",
   "mimetype": "text/x-python",
   "name": "python",
   "nbconvert_exporter": "python",
   "pygments_lexer": "ipython3",
   "version": "3.8.15"
  },
  "orig_nbformat": 4,
  "vscode": {
   "interpreter": {
    "hash": "33c1fafa1f722512bb95ff2288ca1754d2d15925c091a4ce51aceaa93d9dc801"
   }
  }
 },
 "nbformat": 4,
 "nbformat_minor": 2
}
