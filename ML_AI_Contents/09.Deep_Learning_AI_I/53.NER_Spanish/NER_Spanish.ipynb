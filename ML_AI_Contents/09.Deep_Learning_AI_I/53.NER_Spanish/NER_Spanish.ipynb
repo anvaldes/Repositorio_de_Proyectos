{
  "nbformat": 4,
  "nbformat_minor": 0,
  "metadata": {
    "colab": {
      "provenance": [],
      "machine_shape": "hm",
      "gpuType": "A100"
    },
    "kernelspec": {
      "name": "python3",
      "display_name": "Python 3"
    },
    "language_info": {
      "name": "python"
    },
    "accelerator": "GPU"
  },
  "cells": [
    {
      "cell_type": "markdown",
      "source": [
        "This notebook was executed in Google Colab using A100-GPU"
      ],
      "metadata": {
        "id": "JL6kOvMBXVhT"
      }
    },
    {
      "cell_type": "markdown",
      "source": [
        "### Start of execution"
      ],
      "metadata": {
        "id": "9gFJkmxcXp3s"
      }
    },
    {
      "cell_type": "code",
      "execution_count": 1,
      "metadata": {
        "id": "RbREDzOQW57E"
      },
      "outputs": [],
      "source": [
        "import time"
      ]
    },
    {
      "cell_type": "code",
      "source": [
        "start = time.time()"
      ],
      "metadata": {
        "id": "uCRcPWITXtqu"
      },
      "execution_count": 2,
      "outputs": []
    },
    {
      "cell_type": "markdown",
      "source": [
        "# 1. Setting the environment"
      ],
      "metadata": {
        "id": "IpA0eEPeXwvp"
      }
    },
    {
      "cell_type": "code",
      "source": [
        "!pip install -q datasets==2.20.0"
      ],
      "metadata": {
        "id": "3Oj0MqyCXvhw"
      },
      "execution_count": 3,
      "outputs": []
    },
    {
      "cell_type": "markdown",
      "source": [
        "# 2. Import libraries"
      ],
      "metadata": {
        "id": "JjlY0hcKX44X"
      }
    },
    {
      "cell_type": "code",
      "source": [
        "import warnings\n",
        "warnings.filterwarnings(\"ignore\")"
      ],
      "metadata": {
        "id": "5ipx1_9wX2WM"
      },
      "execution_count": 4,
      "outputs": []
    },
    {
      "cell_type": "code",
      "source": [
        "import pandas as pd\n",
        "from datasets import Dataset\n",
        "from transformers import pipeline\n",
        "from datasets import load_dataset\n",
        "from transformers import AutoTokenizer\n",
        "from transformers import DataCollatorWithPadding\n",
        "from sklearn.model_selection import train_test_split\n",
        "from transformers import AutoTokenizer, AutoModelForTokenClassification\n",
        "from transformers import AutoModelForSequenceClassification, TrainingArguments, Trainer"
      ],
      "metadata": {
        "id": "QCOCX6LvX8mB"
      },
      "execution_count": 5,
      "outputs": []
    },
    {
      "cell_type": "markdown",
      "source": [
        "# 3. Load model"
      ],
      "metadata": {
        "id": "RNvhYB2FYW5H"
      }
    },
    {
      "cell_type": "code",
      "source": [
        "from google.colab import userdata"
      ],
      "metadata": {
        "id": "esqKHUPE5SZE"
      },
      "execution_count": 6,
      "outputs": []
    },
    {
      "cell_type": "code",
      "source": [
        "HUGGING_FACE_TOKEN = userdata.get('HUGGING_FACE_TOKEN')"
      ],
      "metadata": {
        "id": "x7BMDlV45bWD"
      },
      "execution_count": 7,
      "outputs": []
    },
    {
      "cell_type": "code",
      "source": [
        "model = AutoModelForTokenClassification.from_pretrained(\"NazaGara/NER-fine-tuned-BETO\", token = HUGGING_FACE_TOKEN)"
      ],
      "metadata": {
        "id": "2UFKk2125LPc"
      },
      "execution_count": 8,
      "outputs": []
    },
    {
      "cell_type": "code",
      "source": [
        "tokenizer = AutoTokenizer.from_pretrained(\"NazaGara/NER-fine-tuned-BETO\", token = HUGGING_FACE_TOKEN)"
      ],
      "metadata": {
        "id": "Xep2btA_YfZz"
      },
      "execution_count": 9,
      "outputs": []
    },
    {
      "cell_type": "markdown",
      "source": [
        "# 4. Inference"
      ],
      "metadata": {
        "id": "bm4sqqnuY2iD"
      }
    },
    {
      "cell_type": "code",
      "source": [
        "nlp = pipeline('ner', model = model, tokenizer = tokenizer, aggregation_strategy = \"simple\", device = 'cuda')"
      ],
      "metadata": {
        "id": "k-Wfng215qy0"
      },
      "execution_count": 10,
      "outputs": []
    },
    {
      "cell_type": "code",
      "source": [
        "text = 'Isabel nació en Santiago de Chile en el pais de Chile'"
      ],
      "metadata": {
        "id": "1e6qc0Fh5qwv"
      },
      "execution_count": 11,
      "outputs": []
    },
    {
      "cell_type": "code",
      "source": [
        "output = nlp(text)"
      ],
      "metadata": {
        "id": "T-vJoP2k5quq"
      },
      "execution_count": 12,
      "outputs": []
    },
    {
      "cell_type": "code",
      "source": [
        "output"
      ],
      "metadata": {
        "colab": {
          "base_uri": "https://localhost:8080/"
        },
        "id": "hx2Ulx4C6Gcy",
        "outputId": "b1f62ede-56c3-45a3-e2d3-a49038ac8a5b"
      },
      "execution_count": 13,
      "outputs": [
        {
          "output_type": "execute_result",
          "data": {
            "text/plain": [
              "[{'entity_group': 'PER',\n",
              "  'score': 0.99945325,\n",
              "  'word': 'Isabel',\n",
              "  'start': 0,\n",
              "  'end': 6},\n",
              " {'entity_group': 'LOC',\n",
              "  'score': 0.9998389,\n",
              "  'word': 'Santiago de Chile',\n",
              "  'start': 16,\n",
              "  'end': 33},\n",
              " {'entity_group': 'LOC',\n",
              "  'score': 0.9998247,\n",
              "  'word': 'Chile',\n",
              "  'start': 48,\n",
              "  'end': 53}]"
            ]
          },
          "metadata": {},
          "execution_count": 13
        }
      ]
    },
    {
      "cell_type": "markdown",
      "source": [
        "### End of execution"
      ],
      "metadata": {
        "id": "dRjm0tsMcV0O"
      }
    },
    {
      "cell_type": "code",
      "source": [
        "end = time.time()\n",
        "\n",
        "delta = (end - start)\n",
        "\n",
        "hours = int(delta/3_600)\n",
        "mins = int((delta - hours*3_600)/60)\n",
        "secs = int(delta - hours*3_600 - mins*60)\n",
        "\n",
        "print(f'Hours: {hours}, Minutes: {mins}, Seconds: {secs}')"
      ],
      "metadata": {
        "colab": {
          "base_uri": "https://localhost:8080/"
        },
        "id": "YdJFJQ10a9M8",
        "outputId": "7491f7f8-6079-499b-d72f-4326bb872874"
      },
      "execution_count": 14,
      "outputs": [
        {
          "output_type": "stream",
          "name": "stdout",
          "text": [
            "Hours: 0, Minutes: 0, Seconds: 14\n"
          ]
        }
      ]
    },
    {
      "cell_type": "code",
      "source": [],
      "metadata": {
        "id": "rVpUEFGVcbd6"
      },
      "execution_count": 14,
      "outputs": []
    }
  ]
}