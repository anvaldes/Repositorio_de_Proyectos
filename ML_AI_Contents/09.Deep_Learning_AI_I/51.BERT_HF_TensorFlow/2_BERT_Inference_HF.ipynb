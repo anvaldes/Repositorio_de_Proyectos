{
  "nbformat": 4,
  "nbformat_minor": 0,
  "metadata": {
    "colab": {
      "provenance": [],
      "machine_shape": "hm",
      "gpuType": "A100"
    },
    "kernelspec": {
      "name": "python3",
      "display_name": "Python 3"
    },
    "language_info": {
      "name": "python"
    },
    "accelerator": "GPU"
  },
  "cells": [
    {
      "cell_type": "markdown",
      "source": [
        "This notebook was executed in Google Colab using CPU"
      ],
      "metadata": {
        "id": "JL6kOvMBXVhT"
      }
    },
    {
      "cell_type": "markdown",
      "source": [
        "### Start of execution"
      ],
      "metadata": {
        "id": "9gFJkmxcXp3s"
      }
    },
    {
      "cell_type": "code",
      "execution_count": 1,
      "metadata": {
        "id": "RbREDzOQW57E"
      },
      "outputs": [],
      "source": [
        "import time"
      ]
    },
    {
      "cell_type": "code",
      "source": [
        "start = time.time()"
      ],
      "metadata": {
        "id": "uCRcPWITXtqu"
      },
      "execution_count": 2,
      "outputs": []
    },
    {
      "cell_type": "markdown",
      "source": [
        "# 1. Setting the environment"
      ],
      "metadata": {
        "id": "IpA0eEPeXwvp"
      }
    },
    {
      "cell_type": "code",
      "source": [
        "!pip install -q datasets==2.20.0"
      ],
      "metadata": {
        "id": "3Oj0MqyCXvhw"
      },
      "execution_count": 3,
      "outputs": []
    },
    {
      "cell_type": "markdown",
      "source": [
        "# 2. Import libraries"
      ],
      "metadata": {
        "id": "JjlY0hcKX44X"
      }
    },
    {
      "cell_type": "code",
      "source": [
        "import warnings\n",
        "warnings.filterwarnings(\"ignore\")"
      ],
      "metadata": {
        "id": "5ipx1_9wX2WM"
      },
      "execution_count": 4,
      "outputs": []
    },
    {
      "cell_type": "code",
      "source": [
        "import tensorflow as tf\n",
        "import matplotlib.pyplot as plt\n",
        "from datasets import load_dataset\n",
        "from transformers import AutoTokenizer\n",
        "from transformers import create_optimizer\n",
        "from transformers import DataCollatorWithPadding\n",
        "from transformers import TFAutoModelForSequenceClassification\n",
        "from transformers import AutoModelForSequenceClassification, TrainingArguments, Trainer"
      ],
      "metadata": {
        "id": "QCOCX6LvX8mB"
      },
      "execution_count": 5,
      "outputs": []
    },
    {
      "cell_type": "markdown",
      "source": [
        "# 3. Preparation"
      ],
      "metadata": {
        "id": "urhN7WtVcl7l"
      }
    },
    {
      "cell_type": "code",
      "source": [
        "from google.colab import drive\n",
        "drive.mount('/content/drive')"
      ],
      "metadata": {
        "colab": {
          "base_uri": "https://localhost:8080/"
        },
        "id": "OzYEW2jBcpCr",
        "outputId": "66111948-e474-4f7b-99c3-cdf73d8cfb5b"
      },
      "execution_count": 6,
      "outputs": [
        {
          "output_type": "stream",
          "name": "stdout",
          "text": [
            "Drive already mounted at /content/drive; to attempt to forcibly remount, call drive.mount(\"/content/drive\", force_remount=True).\n"
          ]
        }
      ]
    },
    {
      "cell_type": "code",
      "source": [
        "path_general = 'drive/MyDrive/Profesional_Academico/Github_Personal/ML_AI_Contents/09.Deep_Learning/51.BERT_HF_TensorFlow'"
      ],
      "metadata": {
        "id": "WLuC_JqTcvR5"
      },
      "execution_count": 7,
      "outputs": []
    },
    {
      "cell_type": "markdown",
      "source": [
        "# 3. Load Dataset"
      ],
      "metadata": {
        "id": "fAXSwOb2YLUK"
      }
    },
    {
      "cell_type": "code",
      "source": [
        "imdb = load_dataset(\"imdb\")"
      ],
      "metadata": {
        "id": "JTQ9lbqjYAuq"
      },
      "execution_count": 8,
      "outputs": []
    },
    {
      "cell_type": "code",
      "source": [
        "df_train = imdb['train'].to_pandas()"
      ],
      "metadata": {
        "id": "WJwakytf2bam"
      },
      "execution_count": 9,
      "outputs": []
    },
    {
      "cell_type": "code",
      "source": [
        "df_test = imdb['test'].to_pandas()"
      ],
      "metadata": {
        "id": "0p0OYQrP2cCf"
      },
      "execution_count": 10,
      "outputs": []
    },
    {
      "cell_type": "markdown",
      "source": [
        "# 4. Load model"
      ],
      "metadata": {
        "id": "RNvhYB2FYW5H"
      }
    },
    {
      "cell_type": "code",
      "source": [
        "model = TFAutoModelForSequenceClassification.from_pretrained(\"bert-base-uncased\", num_labels = 2)"
      ],
      "metadata": {
        "colab": {
          "base_uri": "https://localhost:8080/"
        },
        "id": "rj0uoSiwtdSk",
        "outputId": "330f2a96-8ae9-4f5d-f847-c7f5bcbbc5d6"
      },
      "execution_count": 11,
      "outputs": [
        {
          "output_type": "stream",
          "name": "stderr",
          "text": [
            "All PyTorch model weights were used when initializing TFBertForSequenceClassification.\n",
            "\n",
            "Some weights or buffers of the TF 2.0 model TFBertForSequenceClassification were not initialized from the PyTorch model and are newly initialized: ['classifier.weight', 'classifier.bias']\n",
            "You should probably TRAIN this model on a down-stream task to be able to use it for predictions and inference.\n"
          ]
        }
      ]
    },
    {
      "cell_type": "code",
      "source": [
        "tokenizer = AutoTokenizer.from_pretrained(\"bert-base-uncased\")"
      ],
      "metadata": {
        "id": "mRfJfm8KYMhg"
      },
      "execution_count": 12,
      "outputs": []
    },
    {
      "cell_type": "code",
      "source": [
        "model.load_weights(f'{path_general}/model/model')"
      ],
      "metadata": {
        "colab": {
          "base_uri": "https://localhost:8080/"
        },
        "id": "cv5_zT5u2Lih",
        "outputId": "47d4567a-be71-4fa4-8d2c-504f0b110913"
      },
      "execution_count": 13,
      "outputs": [
        {
          "output_type": "execute_result",
          "data": {
            "text/plain": [
              "<tensorflow.python.checkpoint.checkpoint.CheckpointLoadStatus at 0x7b74f002e140>"
            ]
          },
          "metadata": {},
          "execution_count": 13
        }
      ]
    },
    {
      "cell_type": "markdown",
      "source": [
        "# 5. Inference"
      ],
      "metadata": {
        "id": "aqUPDYb2cNUR"
      }
    },
    {
      "cell_type": "code",
      "source": [
        "def predict_text(text, tokenizer):\n",
        "\n",
        "  encoded_input = tokenizer(text, return_tensors = 'tf', truncation = True)\n",
        "  output = model(**encoded_input)\n",
        "  logits_array = output.logits.numpy()[0]\n",
        "\n",
        "  if logits_array[0] > logits_array[1]:\n",
        "    return 0\n",
        "\n",
        "  else:\n",
        "    return 1"
      ],
      "metadata": {
        "id": "nxymEYT7svfx"
      },
      "execution_count": 14,
      "outputs": []
    },
    {
      "cell_type": "code",
      "source": [
        "df_train = df_train.sample(1_000)"
      ],
      "metadata": {
        "id": "GuripBq653S9"
      },
      "execution_count": 15,
      "outputs": []
    },
    {
      "cell_type": "code",
      "source": [
        "df_train['pred'] = df_train['text'].map(lambda x: predict_text(x, tokenizer))"
      ],
      "metadata": {
        "id": "LqFaooIk2loV"
      },
      "execution_count": 16,
      "outputs": []
    },
    {
      "cell_type": "code",
      "source": [
        "df_test = df_test.sample(1_000)"
      ],
      "metadata": {
        "id": "aGXAh0Ys9H72"
      },
      "execution_count": 17,
      "outputs": []
    },
    {
      "cell_type": "code",
      "source": [
        "df_test['pred'] = df_test['text'].map(lambda x: predict_text(x, tokenizer))"
      ],
      "metadata": {
        "id": "QSCGi72b2m6J"
      },
      "execution_count": 18,
      "outputs": []
    },
    {
      "cell_type": "markdown",
      "source": [
        "# 6. Performance"
      ],
      "metadata": {
        "id": "bm4sqqnuY2iD"
      }
    },
    {
      "cell_type": "code",
      "source": [
        "from sklearn.metrics import recall_score, precision_score, f1_score"
      ],
      "metadata": {
        "id": "Tord-NjcowG7"
      },
      "execution_count": 19,
      "outputs": []
    },
    {
      "cell_type": "markdown",
      "source": [
        "### a. Train"
      ],
      "metadata": {
        "id": "Zgb8SuvKpBo0"
      }
    },
    {
      "cell_type": "code",
      "source": [
        "round(precision_score(df_train['label'], df_train['pred'], average = 'macro')*100, 2)"
      ],
      "metadata": {
        "colab": {
          "base_uri": "https://localhost:8080/"
        },
        "id": "gwHBEkZuo8a7",
        "outputId": "79963c6a-8861-4439-ce09-1071931641d0"
      },
      "execution_count": 20,
      "outputs": [
        {
          "output_type": "execute_result",
          "data": {
            "text/plain": [
              "98.71"
            ]
          },
          "metadata": {},
          "execution_count": 20
        }
      ]
    },
    {
      "cell_type": "code",
      "source": [
        "round(recall_score(df_train['label'], df_train['pred'], average = 'macro')*100, 2)"
      ],
      "metadata": {
        "colab": {
          "base_uri": "https://localhost:8080/"
        },
        "id": "BRwGZrIknyiY",
        "outputId": "5a7db504-cf09-4e00-a13a-d4fde9597ae0"
      },
      "execution_count": 21,
      "outputs": [
        {
          "output_type": "execute_result",
          "data": {
            "text/plain": [
              "98.69"
            ]
          },
          "metadata": {},
          "execution_count": 21
        }
      ]
    },
    {
      "cell_type": "code",
      "source": [
        "round(f1_score(df_train['label'], df_train['pred'], average = 'macro')*100, 2)"
      ],
      "metadata": {
        "colab": {
          "base_uri": "https://localhost:8080/"
        },
        "id": "b-jSFLX8pdts",
        "outputId": "1126ed47-3cf6-4325-b621-1e70e6ba89a4"
      },
      "execution_count": 22,
      "outputs": [
        {
          "output_type": "execute_result",
          "data": {
            "text/plain": [
              "98.7"
            ]
          },
          "metadata": {},
          "execution_count": 22
        }
      ]
    },
    {
      "cell_type": "code",
      "source": [
        "round(((df_train['label'] == df_train['pred'])*1).mean()*100, 2)"
      ],
      "metadata": {
        "colab": {
          "base_uri": "https://localhost:8080/"
        },
        "id": "n3uF1HCvpl10",
        "outputId": "83d6068c-77f0-4613-f945-a6883c0182c0"
      },
      "execution_count": 23,
      "outputs": [
        {
          "output_type": "execute_result",
          "data": {
            "text/plain": [
              "98.7"
            ]
          },
          "metadata": {},
          "execution_count": 23
        }
      ]
    },
    {
      "cell_type": "markdown",
      "source": [
        "### b. Test"
      ],
      "metadata": {
        "id": "tjfK-UrQpup-"
      }
    },
    {
      "cell_type": "code",
      "source": [
        "round(precision_score(df_test['label'], df_test['pred'], average = 'macro')*100, 2)"
      ],
      "metadata": {
        "colab": {
          "base_uri": "https://localhost:8080/"
        },
        "outputId": "50b80f1b-f2d5-483c-b356-671692212626",
        "id": "lvehtCCFpxUt"
      },
      "execution_count": 24,
      "outputs": [
        {
          "output_type": "execute_result",
          "data": {
            "text/plain": [
              "94.4"
            ]
          },
          "metadata": {},
          "execution_count": 24
        }
      ]
    },
    {
      "cell_type": "code",
      "source": [
        "round(recall_score(df_test['label'], df_test['pred'], average = 'macro')*100, 2)"
      ],
      "metadata": {
        "colab": {
          "base_uri": "https://localhost:8080/"
        },
        "outputId": "09f81868-5a9b-4bbe-9156-5ccfd6ac4dd1",
        "id": "2LlumQq9pxUt"
      },
      "execution_count": 25,
      "outputs": [
        {
          "output_type": "execute_result",
          "data": {
            "text/plain": [
              "94.39"
            ]
          },
          "metadata": {},
          "execution_count": 25
        }
      ]
    },
    {
      "cell_type": "code",
      "source": [
        "round(f1_score(df_test['label'], df_test['pred'], average = 'macro')*100, 2)"
      ],
      "metadata": {
        "colab": {
          "base_uri": "https://localhost:8080/"
        },
        "outputId": "e2a7992e-c72a-48d6-9683-cbce4b53d285",
        "id": "KtbaR78lpxUt"
      },
      "execution_count": 26,
      "outputs": [
        {
          "output_type": "execute_result",
          "data": {
            "text/plain": [
              "94.39"
            ]
          },
          "metadata": {},
          "execution_count": 26
        }
      ]
    },
    {
      "cell_type": "code",
      "source": [
        "round(((df_test['label'] == df_test['pred'])*1).mean()*100, 2)"
      ],
      "metadata": {
        "colab": {
          "base_uri": "https://localhost:8080/"
        },
        "outputId": "61d1cad8-e30a-481d-d0ec-e169cedda862",
        "id": "k0oUNlxIpxUt"
      },
      "execution_count": 27,
      "outputs": [
        {
          "output_type": "execute_result",
          "data": {
            "text/plain": [
              "94.4"
            ]
          },
          "metadata": {},
          "execution_count": 27
        }
      ]
    },
    {
      "cell_type": "markdown",
      "source": [
        "### End of execution"
      ],
      "metadata": {
        "id": "2F-VAjI92wIs"
      }
    },
    {
      "cell_type": "code",
      "source": [
        "end = time.time()\n",
        "\n",
        "delta = (end - start)\n",
        "\n",
        "hours = int(delta/3_600)\n",
        "mins = int((delta - hours*3_600)/60)\n",
        "secs = int(delta - hours*3_600 - mins*60)\n",
        "\n",
        "print(f'Hours: {hours}, Minutes: {mins}, Seconds: {secs}')"
      ],
      "metadata": {
        "colab": {
          "base_uri": "https://localhost:8080/"
        },
        "id": "YdJFJQ10a9M8",
        "outputId": "52973b7e-c767-4a71-d0dd-42894da5a17f"
      },
      "execution_count": 28,
      "outputs": [
        {
          "output_type": "stream",
          "name": "stdout",
          "text": [
            "Hours: 0, Minutes: 6, Seconds: 37\n"
          ]
        }
      ]
    },
    {
      "cell_type": "code",
      "source": [],
      "metadata": {
        "id": "rVpUEFGVcbd6"
      },
      "execution_count": 28,
      "outputs": []
    }
  ]
}