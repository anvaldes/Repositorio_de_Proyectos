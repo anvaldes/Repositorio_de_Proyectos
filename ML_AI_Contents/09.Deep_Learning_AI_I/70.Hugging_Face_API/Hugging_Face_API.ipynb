{
  "nbformat": 4,
  "nbformat_minor": 0,
  "metadata": {
    "colab": {
      "provenance": []
    },
    "kernelspec": {
      "name": "python3",
      "display_name": "Python 3"
    },
    "language_info": {
      "name": "python"
    }
  },
  "cells": [
    {
      "cell_type": "markdown",
      "source": [
        "# Hugging Face API"
      ],
      "metadata": {
        "id": "BBVLX4umVOt8"
      }
    },
    {
      "cell_type": "code",
      "source": [
        "import requests\n",
        "from google.colab import userdata"
      ],
      "metadata": {
        "id": "85j6uWvvVQ1h"
      },
      "execution_count": 1,
      "outputs": []
    },
    {
      "cell_type": "code",
      "source": [
        "def query(payload, model_id, api_token):\n",
        "\n",
        "\theaders = {\"Authorization\": f\"Bearer {api_token}\"}\n",
        "\tAPI_URL = f\"https://api-inference.huggingface.co/models/{model_id}\"\n",
        "\tresponse = requests.post(API_URL, headers = headers, json = payload)\n",
        "\n",
        "\treturn response.json()"
      ],
      "metadata": {
        "id": "_JdMqTfuVW-_"
      },
      "execution_count": 2,
      "outputs": []
    },
    {
      "cell_type": "code",
      "source": [
        "HUGGING_FACE_TOKEN = userdata.get('HUGGING_FACE_TOKEN')"
      ],
      "metadata": {
        "id": "Y9EBHxl3X0WH"
      },
      "execution_count": 3,
      "outputs": []
    },
    {
      "cell_type": "code",
      "source": [
        "model_id = \"distilbert-base-uncased\"\n",
        "api_token = HUGGING_FACE_TOKEN"
      ],
      "metadata": {
        "id": "T46_zuNVUuDk"
      },
      "execution_count": 4,
      "outputs": []
    },
    {
      "cell_type": "code",
      "source": [
        "data = query(\"The goal of life is [MASK].\", model_id, api_token)"
      ],
      "metadata": {
        "id": "-yzpU15NXqYZ"
      },
      "execution_count": 5,
      "outputs": []
    },
    {
      "cell_type": "code",
      "source": [
        "for d in data:\n",
        "  print(d)\n",
        "  print('-'*70)"
      ],
      "metadata": {
        "colab": {
          "base_uri": "https://localhost:8080/"
        },
        "id": "tzKYmNcYXq-V",
        "outputId": "44a4aff9-1fc7-4558-b2b9-de7de093551d"
      },
      "execution_count": 6,
      "outputs": [
        {
          "output_type": "stream",
          "name": "stdout",
          "text": [
            "{'score': 0.03619170933961868, 'token': 8404, 'token_str': 'happiness', 'sequence': 'the goal of life is happiness.'}\n",
            "----------------------------------------------------------------------\n",
            "{'score': 0.03055351972579956, 'token': 7691, 'token_str': 'survival', 'sequence': 'the goal of life is survival.'}\n",
            "----------------------------------------------------------------------\n",
            "{'score': 0.016977157443761826, 'token': 12611, 'token_str': 'salvation', 'sequence': 'the goal of life is salvation.'}\n",
            "----------------------------------------------------------------------\n",
            "{'score': 0.01669846475124359, 'token': 4071, 'token_str': 'freedom', 'sequence': 'the goal of life is freedom.'}\n",
            "----------------------------------------------------------------------\n",
            "{'score': 0.015267285518348217, 'token': 8499, 'token_str': 'unity', 'sequence': 'the goal of life is unity.'}\n",
            "----------------------------------------------------------------------\n"
          ]
        }
      ]
    },
    {
      "cell_type": "code",
      "source": [],
      "metadata": {
        "id": "DfpZaBBHU_wh"
      },
      "execution_count": 6,
      "outputs": []
    }
  ]
}