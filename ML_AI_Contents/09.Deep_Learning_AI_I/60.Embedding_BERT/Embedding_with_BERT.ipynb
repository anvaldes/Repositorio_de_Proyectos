{
  "nbformat": 4,
  "nbformat_minor": 0,
  "metadata": {
    "colab": {
      "provenance": [],
      "machine_shape": "hm",
      "gpuType": "L4"
    },
    "kernelspec": {
      "name": "python3",
      "display_name": "Python 3"
    },
    "language_info": {
      "name": "python"
    },
    "accelerator": "GPU"
  },
  "cells": [
    {
      "cell_type": "markdown",
      "source": [
        "# Embeddings"
      ],
      "metadata": {
        "id": "xPG2UqCtwC9c"
      }
    },
    {
      "cell_type": "markdown",
      "source": [
        "By Alberto Valdés.\n",
        "\n",
        "**Mail 1:** anvaldes@uc.cl\n",
        "\n",
        "**Mail 2:** alberto.valdes.gonzalez.96@gmail.com"
      ],
      "metadata": {
        "id": "LenELA4Ov--I"
      }
    },
    {
      "cell_type": "markdown",
      "source": [
        "This notebook was executed in Google Colab using A100-GPU"
      ],
      "metadata": {
        "id": "Cs1BGouav2BU"
      }
    },
    {
      "cell_type": "markdown",
      "source": [
        "# 1. Import Libraries"
      ],
      "metadata": {
        "id": "V9hXVdGEv4ml"
      }
    },
    {
      "cell_type": "code",
      "source": [
        "import torch\n",
        "import random\n",
        "import numpy as np\n",
        "from transformers import AutoTokenizer\n",
        "from transformers import BertTokenizer, BertModel\n",
        "from sklearn.metrics.pairwise import cosine_similarity"
      ],
      "metadata": {
        "id": "Jys-ArMOsiGw"
      },
      "execution_count": 1,
      "outputs": []
    },
    {
      "cell_type": "markdown",
      "source": [
        "# 2. Load tokenizer and models"
      ],
      "metadata": {
        "id": "b5ZTMZMLwFNp"
      }
    },
    {
      "cell_type": "code",
      "execution_count": 2,
      "metadata": {
        "colab": {
          "base_uri": "https://localhost:8080/"
        },
        "id": "XTsWPtFIscO1",
        "outputId": "a9d26e9e-3ef0-448d-d898-0c46aa3ad770"
      },
      "outputs": [
        {
          "output_type": "stream",
          "name": "stderr",
          "text": [
            "/usr/local/lib/python3.10/dist-packages/huggingface_hub/utils/_token.py:89: UserWarning: \n",
            "The secret `HF_TOKEN` does not exist in your Colab secrets.\n",
            "To authenticate with the Hugging Face Hub, create a token in your settings tab (https://huggingface.co/settings/tokens), set it as secret in your Google Colab and restart your session.\n",
            "You will be able to reuse this secret in all of your notebooks.\n",
            "Please note that authentication is recommended but still optional to access public models or datasets.\n",
            "  warnings.warn(\n"
          ]
        }
      ],
      "source": [
        "tokenizer = AutoTokenizer.from_pretrained(\"google-bert/bert-base-uncased\", device_map = 'cuda')"
      ]
    },
    {
      "cell_type": "code",
      "source": [
        "model = BertModel.from_pretrained(\"google-bert/bert-base-uncased\", device_map = 'cuda')"
      ],
      "metadata": {
        "id": "FGq9-I4YwSZi"
      },
      "execution_count": 3,
      "outputs": []
    },
    {
      "cell_type": "markdown",
      "source": [
        "# 3. Function"
      ],
      "metadata": {
        "id": "7msKCmRfwUDm"
      }
    },
    {
      "cell_type": "code",
      "source": [
        "def get_embedding(text):\n",
        "\n",
        "  encoded_input = tokenizer(text, return_tensors = 'pt', truncation = True).to('cuda')\n",
        "  output = model.embeddings(encoded_input['input_ids'])\n",
        "\n",
        "  return output[0][1].cpu().detach().numpy()\n"
      ],
      "metadata": {
        "id": "IFRhbpfcwVqj"
      },
      "execution_count": 4,
      "outputs": []
    },
    {
      "cell_type": "code",
      "source": [
        "def similitude(vec_1, vec_2):\n",
        "\n",
        "  dot_prod = np.dot(vec_1, vec_2)\n",
        "\n",
        "  norm_1 = (np.dot(vec_1, vec_1))**(1/2)\n",
        "  norm_2 = (np.dot(vec_2, vec_2))**(1/2)\n",
        "\n",
        "  relation = dot_prod/(norm_1*norm_2)\n",
        "\n",
        "  return relation"
      ],
      "metadata": {
        "id": "6dtohR4Qxjkc"
      },
      "execution_count": 5,
      "outputs": []
    },
    {
      "cell_type": "markdown",
      "source": [
        "# 4. Inference"
      ],
      "metadata": {
        "id": "-zEsG3YRweQ0"
      }
    },
    {
      "cell_type": "markdown",
      "source": [
        "### Example 1"
      ],
      "metadata": {
        "id": "gt2at6vjynw_"
      }
    },
    {
      "cell_type": "code",
      "source": [
        "text_1 = 'king'\n",
        "text_2 = 'queen'"
      ],
      "metadata": {
        "id": "Q9edikD6x8yg"
      },
      "execution_count": 6,
      "outputs": []
    },
    {
      "cell_type": "code",
      "source": [
        "vec_1 = get_embedding(text_1)"
      ],
      "metadata": {
        "id": "jnrVVdHqu_ki"
      },
      "execution_count": 7,
      "outputs": []
    },
    {
      "cell_type": "code",
      "source": [
        "vec_2 = get_embedding(text_2)"
      ],
      "metadata": {
        "id": "bX6W3h3OwuD_"
      },
      "execution_count": 8,
      "outputs": []
    },
    {
      "cell_type": "code",
      "source": [
        "similitude(vec_1, vec_2)"
      ],
      "metadata": {
        "colab": {
          "base_uri": "https://localhost:8080/"
        },
        "id": "e0Ygiu7Zxg9c",
        "outputId": "9cb0f963-d640-4fd9-9614-0c218c541c65"
      },
      "execution_count": 9,
      "outputs": [
        {
          "output_type": "execute_result",
          "data": {
            "text/plain": [
              "0.6223029209948702"
            ]
          },
          "metadata": {},
          "execution_count": 9
        }
      ]
    },
    {
      "cell_type": "markdown",
      "source": [
        "### Example 2"
      ],
      "metadata": {
        "id": "ROXyRefDyqwQ"
      }
    },
    {
      "cell_type": "code",
      "source": [
        "text_1 = 'king'\n",
        "text_2 = 'ball'"
      ],
      "metadata": {
        "id": "WIXanNLUvPXg"
      },
      "execution_count": 10,
      "outputs": []
    },
    {
      "cell_type": "code",
      "source": [
        "vec_1 = get_embedding(text_1)"
      ],
      "metadata": {
        "id": "-wQKblvqyuco"
      },
      "execution_count": 11,
      "outputs": []
    },
    {
      "cell_type": "code",
      "source": [
        "vec_2 = get_embedding(text_2)"
      ],
      "metadata": {
        "id": "1BpHKB1HyvkH"
      },
      "execution_count": 12,
      "outputs": []
    },
    {
      "cell_type": "code",
      "source": [
        "similitude(vec_1, vec_2)"
      ],
      "metadata": {
        "colab": {
          "base_uri": "https://localhost:8080/"
        },
        "id": "bdiTNdM-ywbJ",
        "outputId": "846bccbe-b8ff-43ee-d65e-4e117bc9bf02"
      },
      "execution_count": 13,
      "outputs": [
        {
          "output_type": "execute_result",
          "data": {
            "text/plain": [
              "0.2551013476508404"
            ]
          },
          "metadata": {},
          "execution_count": 13
        }
      ]
    },
    {
      "cell_type": "markdown",
      "source": [
        "### Example 3"
      ],
      "metadata": {
        "id": "kW_Z8k4Vy5S2"
      }
    },
    {
      "cell_type": "code",
      "source": [
        "text_1 = 'car'\n",
        "text_2 = 'vehicle'"
      ],
      "metadata": {
        "id": "s3if0B0yzA05"
      },
      "execution_count": 14,
      "outputs": []
    },
    {
      "cell_type": "code",
      "source": [
        "vec_1 = get_embedding(text_1)"
      ],
      "metadata": {
        "id": "gMjPWdYgzA06"
      },
      "execution_count": 15,
      "outputs": []
    },
    {
      "cell_type": "code",
      "source": [
        "vec_2 = get_embedding(text_2)"
      ],
      "metadata": {
        "id": "7LnX-KUuzA06"
      },
      "execution_count": 16,
      "outputs": []
    },
    {
      "cell_type": "code",
      "source": [
        "similitude(vec_1, vec_2)"
      ],
      "metadata": {
        "colab": {
          "base_uri": "https://localhost:8080/"
        },
        "outputId": "3a18db4b-a242-40c8-89de-08ccc312c540",
        "id": "mHFRGGQKzA06"
      },
      "execution_count": 17,
      "outputs": [
        {
          "output_type": "execute_result",
          "data": {
            "text/plain": [
              "0.5696162976710121"
            ]
          },
          "metadata": {},
          "execution_count": 17
        }
      ]
    },
    {
      "cell_type": "markdown",
      "source": [
        "### Example 4"
      ],
      "metadata": {
        "id": "TH-JmKb0zS1Z"
      }
    },
    {
      "cell_type": "code",
      "source": [
        "text_1 = 'game'\n",
        "text_2 = 'player'"
      ],
      "metadata": {
        "id": "8JwynRMizUN4"
      },
      "execution_count": 18,
      "outputs": []
    },
    {
      "cell_type": "code",
      "source": [
        "vec_1 = get_embedding(text_1)"
      ],
      "metadata": {
        "id": "5eKfqY0ozUN5"
      },
      "execution_count": 19,
      "outputs": []
    },
    {
      "cell_type": "code",
      "source": [
        "vec_2 = get_embedding(text_2)"
      ],
      "metadata": {
        "id": "4v3EwogqzUN5"
      },
      "execution_count": 20,
      "outputs": []
    },
    {
      "cell_type": "code",
      "source": [
        "similitude(vec_1, vec_2)"
      ],
      "metadata": {
        "colab": {
          "base_uri": "https://localhost:8080/"
        },
        "outputId": "5f225679-1bea-47b6-9320-ccf2683a4e17",
        "id": "5fDb5NXBzUN6"
      },
      "execution_count": 21,
      "outputs": [
        {
          "output_type": "execute_result",
          "data": {
            "text/plain": [
              "0.4180841296136714"
            ]
          },
          "metadata": {},
          "execution_count": 21
        }
      ]
    },
    {
      "cell_type": "code",
      "source": [],
      "metadata": {
        "id": "GiY254nMzABm"
      },
      "execution_count": 21,
      "outputs": []
    },
    {
      "cell_type": "code",
      "source": [],
      "metadata": {
        "id": "j-SL2083y__w"
      },
      "execution_count": 21,
      "outputs": []
    }
  ]
}