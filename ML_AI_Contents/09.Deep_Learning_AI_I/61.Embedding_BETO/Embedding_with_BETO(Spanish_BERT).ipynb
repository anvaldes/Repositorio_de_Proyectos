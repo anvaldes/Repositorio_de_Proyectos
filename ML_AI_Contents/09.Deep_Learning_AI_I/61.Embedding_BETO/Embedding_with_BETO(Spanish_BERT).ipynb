{
  "nbformat": 4,
  "nbformat_minor": 0,
  "metadata": {
    "colab": {
      "provenance": [],
      "machine_shape": "hm",
      "gpuType": "L4"
    },
    "kernelspec": {
      "name": "python3",
      "display_name": "Python 3"
    },
    "language_info": {
      "name": "python"
    },
    "accelerator": "GPU"
  },
  "cells": [
    {
      "cell_type": "markdown",
      "source": [
        "# Embedding BETO (Spanish BERT)"
      ],
      "metadata": {
        "id": "xPG2UqCtwC9c"
      }
    },
    {
      "cell_type": "markdown",
      "source": [
        "By Alberto Valdés.\n",
        "\n",
        "**Mail 1:** anvaldes@uc.cl\n",
        "\n",
        "**Mail 2:** alberto.valdes.gonzalez.96@gmail.com"
      ],
      "metadata": {
        "id": "LenELA4Ov--I"
      }
    },
    {
      "cell_type": "markdown",
      "source": [
        "This notebook was executed in Google Colab using A100-GPU"
      ],
      "metadata": {
        "id": "Cs1BGouav2BU"
      }
    },
    {
      "cell_type": "markdown",
      "source": [
        "# 1. Import Libraries"
      ],
      "metadata": {
        "id": "V9hXVdGEv4ml"
      }
    },
    {
      "cell_type": "code",
      "source": [
        "import torch\n",
        "import random\n",
        "import numpy as np\n",
        "from transformers import AutoTokenizer\n",
        "from transformers import BertTokenizer, BertModel\n",
        "from sklearn.metrics.pairwise import cosine_similarity"
      ],
      "metadata": {
        "id": "Jys-ArMOsiGw"
      },
      "execution_count": 1,
      "outputs": []
    },
    {
      "cell_type": "markdown",
      "source": [
        "# 2. Load tokenizer and models"
      ],
      "metadata": {
        "id": "b5ZTMZMLwFNp"
      }
    },
    {
      "cell_type": "code",
      "execution_count": 2,
      "metadata": {
        "colab": {
          "base_uri": "https://localhost:8080/"
        },
        "id": "XTsWPtFIscO1",
        "outputId": "2b2bc83f-5812-4123-a37b-eda3c20fd893"
      },
      "outputs": [
        {
          "output_type": "stream",
          "name": "stderr",
          "text": [
            "/usr/local/lib/python3.10/dist-packages/huggingface_hub/utils/_token.py:89: UserWarning: \n",
            "The secret `HF_TOKEN` does not exist in your Colab secrets.\n",
            "To authenticate with the Hugging Face Hub, create a token in your settings tab (https://huggingface.co/settings/tokens), set it as secret in your Google Colab and restart your session.\n",
            "You will be able to reuse this secret in all of your notebooks.\n",
            "Please note that authentication is recommended but still optional to access public models or datasets.\n",
            "  warnings.warn(\n"
          ]
        }
      ],
      "source": [
        "tokenizer = AutoTokenizer.from_pretrained(\"dccuchile/bert-base-spanish-wwm-cased\", device_map = 'cuda')"
      ]
    },
    {
      "cell_type": "code",
      "source": [
        "model = BertModel.from_pretrained(\"dccuchile/bert-base-spanish-wwm-cased\", device_map = 'cuda')"
      ],
      "metadata": {
        "colab": {
          "base_uri": "https://localhost:8080/"
        },
        "id": "FGq9-I4YwSZi",
        "outputId": "0b0ba80b-16b3-442f-b838-12df7fb56adc"
      },
      "execution_count": 3,
      "outputs": [
        {
          "output_type": "stream",
          "name": "stderr",
          "text": [
            "Some weights of BertModel were not initialized from the model checkpoint at dccuchile/bert-base-spanish-wwm-cased and are newly initialized: ['bert.pooler.dense.bias', 'bert.pooler.dense.weight']\n",
            "You should probably TRAIN this model on a down-stream task to be able to use it for predictions and inference.\n"
          ]
        }
      ]
    },
    {
      "cell_type": "markdown",
      "source": [
        "# 3. Function"
      ],
      "metadata": {
        "id": "7msKCmRfwUDm"
      }
    },
    {
      "cell_type": "code",
      "source": [
        "def get_embedding(text):\n",
        "\n",
        "  encoded_input = tokenizer(text, return_tensors = 'pt', truncation = True).to('cuda')\n",
        "  output = model.embeddings(encoded_input['input_ids'])\n",
        "\n",
        "  return output[0][1].cpu().detach().numpy()\n"
      ],
      "metadata": {
        "id": "IFRhbpfcwVqj"
      },
      "execution_count": 4,
      "outputs": []
    },
    {
      "cell_type": "code",
      "source": [
        "def similitude(vec_1, vec_2):\n",
        "\n",
        "  dot_prod = np.dot(vec_1, vec_2)\n",
        "\n",
        "  norm_1 = (np.dot(vec_1, vec_1))**(1/2)\n",
        "  norm_2 = (np.dot(vec_2, vec_2))**(1/2)\n",
        "\n",
        "  relation = dot_prod/(norm_1*norm_2)\n",
        "\n",
        "  return relation"
      ],
      "metadata": {
        "id": "6dtohR4Qxjkc"
      },
      "execution_count": 5,
      "outputs": []
    },
    {
      "cell_type": "markdown",
      "source": [
        "# 4. Inference"
      ],
      "metadata": {
        "id": "-zEsG3YRweQ0"
      }
    },
    {
      "cell_type": "code",
      "source": [
        "texto = 'automovil'"
      ],
      "metadata": {
        "id": "ZGWN3mEu0Lnf"
      },
      "execution_count": 6,
      "outputs": []
    },
    {
      "cell_type": "code",
      "source": [
        "encoded_input = tokenizer(texto, return_tensors = 'pt', truncation = True).to('cuda')"
      ],
      "metadata": {
        "id": "4eoMP4Xs0KAr"
      },
      "execution_count": 7,
      "outputs": []
    },
    {
      "cell_type": "markdown",
      "source": [
        "### Example 1"
      ],
      "metadata": {
        "id": "gt2at6vjynw_"
      }
    },
    {
      "cell_type": "code",
      "source": [
        "text_1 = 'rey'\n",
        "text_2 = 'reina'"
      ],
      "metadata": {
        "id": "Q9edikD6x8yg"
      },
      "execution_count": 8,
      "outputs": []
    },
    {
      "cell_type": "code",
      "source": [
        "vec_1 = get_embedding(text_1)"
      ],
      "metadata": {
        "id": "jnrVVdHqu_ki"
      },
      "execution_count": 9,
      "outputs": []
    },
    {
      "cell_type": "code",
      "source": [
        "vec_2 = get_embedding(text_2)"
      ],
      "metadata": {
        "id": "bX6W3h3OwuD_"
      },
      "execution_count": 10,
      "outputs": []
    },
    {
      "cell_type": "code",
      "source": [
        "similitude(vec_1, vec_2)"
      ],
      "metadata": {
        "colab": {
          "base_uri": "https://localhost:8080/"
        },
        "id": "e0Ygiu7Zxg9c",
        "outputId": "a98e93e2-81b6-4498-9a40-58251dcf6da3"
      },
      "execution_count": 11,
      "outputs": [
        {
          "output_type": "execute_result",
          "data": {
            "text/plain": [
              "0.5724320098717004"
            ]
          },
          "metadata": {},
          "execution_count": 11
        }
      ]
    },
    {
      "cell_type": "markdown",
      "source": [
        "### Example 2"
      ],
      "metadata": {
        "id": "ROXyRefDyqwQ"
      }
    },
    {
      "cell_type": "code",
      "source": [
        "text_1 = 'rey'\n",
        "text_2 = 'pelota'"
      ],
      "metadata": {
        "id": "WIXanNLUvPXg"
      },
      "execution_count": 12,
      "outputs": []
    },
    {
      "cell_type": "code",
      "source": [
        "vec_1 = get_embedding(text_1)"
      ],
      "metadata": {
        "id": "-wQKblvqyuco"
      },
      "execution_count": 13,
      "outputs": []
    },
    {
      "cell_type": "code",
      "source": [
        "vec_2 = get_embedding(text_2)"
      ],
      "metadata": {
        "id": "1BpHKB1HyvkH"
      },
      "execution_count": 14,
      "outputs": []
    },
    {
      "cell_type": "code",
      "source": [
        "similitude(vec_1, vec_2)"
      ],
      "metadata": {
        "colab": {
          "base_uri": "https://localhost:8080/"
        },
        "id": "bdiTNdM-ywbJ",
        "outputId": "d15aa0cb-6c9e-46ba-b7f5-34595dc7c004"
      },
      "execution_count": 15,
      "outputs": [
        {
          "output_type": "execute_result",
          "data": {
            "text/plain": [
              "0.18777083096831318"
            ]
          },
          "metadata": {},
          "execution_count": 15
        }
      ]
    },
    {
      "cell_type": "markdown",
      "source": [
        "### Example 3"
      ],
      "metadata": {
        "id": "kW_Z8k4Vy5S2"
      }
    },
    {
      "cell_type": "code",
      "source": [
        "text_1 = 'automovil'\n",
        "text_2 = 'motocicleta'"
      ],
      "metadata": {
        "id": "s3if0B0yzA05"
      },
      "execution_count": 16,
      "outputs": []
    },
    {
      "cell_type": "code",
      "source": [
        "vec_1 = get_embedding(text_1)"
      ],
      "metadata": {
        "id": "gMjPWdYgzA06"
      },
      "execution_count": 17,
      "outputs": []
    },
    {
      "cell_type": "code",
      "source": [
        "vec_2 = get_embedding(text_2)"
      ],
      "metadata": {
        "id": "7LnX-KUuzA06"
      },
      "execution_count": 18,
      "outputs": []
    },
    {
      "cell_type": "code",
      "source": [
        "similitude(vec_1, vec_2)"
      ],
      "metadata": {
        "colab": {
          "base_uri": "https://localhost:8080/"
        },
        "outputId": "2481289e-61c1-41aa-d291-f9dfdd1fcfbc",
        "id": "mHFRGGQKzA06"
      },
      "execution_count": 19,
      "outputs": [
        {
          "output_type": "execute_result",
          "data": {
            "text/plain": [
              "0.4309074390983959"
            ]
          },
          "metadata": {},
          "execution_count": 19
        }
      ]
    },
    {
      "cell_type": "code",
      "source": [],
      "metadata": {
        "id": "GiY254nMzABm"
      },
      "execution_count": 19,
      "outputs": []
    }
  ]
}