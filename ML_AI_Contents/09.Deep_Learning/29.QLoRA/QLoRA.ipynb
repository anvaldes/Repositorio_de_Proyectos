{
  "nbformat": 4,
  "nbformat_minor": 0,
  "metadata": {
    "colab": {
      "provenance": [],
      "machine_shape": "hm",
      "gpuType": "A100"
    },
    "kernelspec": {
      "name": "python3",
      "display_name": "Python 3"
    },
    "language_info": {
      "name": "python"
    },
    "accelerator": "GPU",
    "widgets": {
      "application/vnd.jupyter.widget-state+json": {
        "d28d6f1ec27b4b5a8ea7c7d1384f6539": {
          "model_module": "@jupyter-widgets/controls",
          "model_name": "HBoxModel",
          "model_module_version": "1.5.0",
          "state": {
            "_dom_classes": [],
            "_model_module": "@jupyter-widgets/controls",
            "_model_module_version": "1.5.0",
            "_model_name": "HBoxModel",
            "_view_count": null,
            "_view_module": "@jupyter-widgets/controls",
            "_view_module_version": "1.5.0",
            "_view_name": "HBoxView",
            "box_style": "",
            "children": [
              "IPY_MODEL_1b17f2a3bb77433db34dd2690eb636bc",
              "IPY_MODEL_c42380331b834c66b82fe26397fae217",
              "IPY_MODEL_c60985f5e21c4c7a891af1fd1ab64ab6"
            ],
            "layout": "IPY_MODEL_559cd8d27498492ead40c347b54fb61e"
          }
        },
        "1b17f2a3bb77433db34dd2690eb636bc": {
          "model_module": "@jupyter-widgets/controls",
          "model_name": "HTMLModel",
          "model_module_version": "1.5.0",
          "state": {
            "_dom_classes": [],
            "_model_module": "@jupyter-widgets/controls",
            "_model_module_version": "1.5.0",
            "_model_name": "HTMLModel",
            "_view_count": null,
            "_view_module": "@jupyter-widgets/controls",
            "_view_module_version": "1.5.0",
            "_view_name": "HTMLView",
            "description": "",
            "description_tooltip": null,
            "layout": "IPY_MODEL_2a14b20aed03450b85dc9cfdcb8f39f9",
            "placeholder": "​",
            "style": "IPY_MODEL_a5fc9dd56f6943dfa9f86c2920864458",
            "value": "Loading checkpoint shards: 100%"
          }
        },
        "c42380331b834c66b82fe26397fae217": {
          "model_module": "@jupyter-widgets/controls",
          "model_name": "FloatProgressModel",
          "model_module_version": "1.5.0",
          "state": {
            "_dom_classes": [],
            "_model_module": "@jupyter-widgets/controls",
            "_model_module_version": "1.5.0",
            "_model_name": "FloatProgressModel",
            "_view_count": null,
            "_view_module": "@jupyter-widgets/controls",
            "_view_module_version": "1.5.0",
            "_view_name": "ProgressView",
            "bar_style": "success",
            "description": "",
            "description_tooltip": null,
            "layout": "IPY_MODEL_c07e2878a6e44d688431c1cd55c1f641",
            "max": 2,
            "min": 0,
            "orientation": "horizontal",
            "style": "IPY_MODEL_fa8a01a3743042488cc173d09700e3a8",
            "value": 2
          }
        },
        "c60985f5e21c4c7a891af1fd1ab64ab6": {
          "model_module": "@jupyter-widgets/controls",
          "model_name": "HTMLModel",
          "model_module_version": "1.5.0",
          "state": {
            "_dom_classes": [],
            "_model_module": "@jupyter-widgets/controls",
            "_model_module_version": "1.5.0",
            "_model_name": "HTMLModel",
            "_view_count": null,
            "_view_module": "@jupyter-widgets/controls",
            "_view_module_version": "1.5.0",
            "_view_name": "HTMLView",
            "description": "",
            "description_tooltip": null,
            "layout": "IPY_MODEL_f497f7cc755f4effa867a0b4d0095623",
            "placeholder": "​",
            "style": "IPY_MODEL_bfe6d038d360492eb81d7449279feef2",
            "value": " 2/2 [00:08&lt;00:00,  3.74s/it]"
          }
        },
        "559cd8d27498492ead40c347b54fb61e": {
          "model_module": "@jupyter-widgets/base",
          "model_name": "LayoutModel",
          "model_module_version": "1.2.0",
          "state": {
            "_model_module": "@jupyter-widgets/base",
            "_model_module_version": "1.2.0",
            "_model_name": "LayoutModel",
            "_view_count": null,
            "_view_module": "@jupyter-widgets/base",
            "_view_module_version": "1.2.0",
            "_view_name": "LayoutView",
            "align_content": null,
            "align_items": null,
            "align_self": null,
            "border": null,
            "bottom": null,
            "display": null,
            "flex": null,
            "flex_flow": null,
            "grid_area": null,
            "grid_auto_columns": null,
            "grid_auto_flow": null,
            "grid_auto_rows": null,
            "grid_column": null,
            "grid_gap": null,
            "grid_row": null,
            "grid_template_areas": null,
            "grid_template_columns": null,
            "grid_template_rows": null,
            "height": null,
            "justify_content": null,
            "justify_items": null,
            "left": null,
            "margin": null,
            "max_height": null,
            "max_width": null,
            "min_height": null,
            "min_width": null,
            "object_fit": null,
            "object_position": null,
            "order": null,
            "overflow": null,
            "overflow_x": null,
            "overflow_y": null,
            "padding": null,
            "right": null,
            "top": null,
            "visibility": null,
            "width": null
          }
        },
        "2a14b20aed03450b85dc9cfdcb8f39f9": {
          "model_module": "@jupyter-widgets/base",
          "model_name": "LayoutModel",
          "model_module_version": "1.2.0",
          "state": {
            "_model_module": "@jupyter-widgets/base",
            "_model_module_version": "1.2.0",
            "_model_name": "LayoutModel",
            "_view_count": null,
            "_view_module": "@jupyter-widgets/base",
            "_view_module_version": "1.2.0",
            "_view_name": "LayoutView",
            "align_content": null,
            "align_items": null,
            "align_self": null,
            "border": null,
            "bottom": null,
            "display": null,
            "flex": null,
            "flex_flow": null,
            "grid_area": null,
            "grid_auto_columns": null,
            "grid_auto_flow": null,
            "grid_auto_rows": null,
            "grid_column": null,
            "grid_gap": null,
            "grid_row": null,
            "grid_template_areas": null,
            "grid_template_columns": null,
            "grid_template_rows": null,
            "height": null,
            "justify_content": null,
            "justify_items": null,
            "left": null,
            "margin": null,
            "max_height": null,
            "max_width": null,
            "min_height": null,
            "min_width": null,
            "object_fit": null,
            "object_position": null,
            "order": null,
            "overflow": null,
            "overflow_x": null,
            "overflow_y": null,
            "padding": null,
            "right": null,
            "top": null,
            "visibility": null,
            "width": null
          }
        },
        "a5fc9dd56f6943dfa9f86c2920864458": {
          "model_module": "@jupyter-widgets/controls",
          "model_name": "DescriptionStyleModel",
          "model_module_version": "1.5.0",
          "state": {
            "_model_module": "@jupyter-widgets/controls",
            "_model_module_version": "1.5.0",
            "_model_name": "DescriptionStyleModel",
            "_view_count": null,
            "_view_module": "@jupyter-widgets/base",
            "_view_module_version": "1.2.0",
            "_view_name": "StyleView",
            "description_width": ""
          }
        },
        "c07e2878a6e44d688431c1cd55c1f641": {
          "model_module": "@jupyter-widgets/base",
          "model_name": "LayoutModel",
          "model_module_version": "1.2.0",
          "state": {
            "_model_module": "@jupyter-widgets/base",
            "_model_module_version": "1.2.0",
            "_model_name": "LayoutModel",
            "_view_count": null,
            "_view_module": "@jupyter-widgets/base",
            "_view_module_version": "1.2.0",
            "_view_name": "LayoutView",
            "align_content": null,
            "align_items": null,
            "align_self": null,
            "border": null,
            "bottom": null,
            "display": null,
            "flex": null,
            "flex_flow": null,
            "grid_area": null,
            "grid_auto_columns": null,
            "grid_auto_flow": null,
            "grid_auto_rows": null,
            "grid_column": null,
            "grid_gap": null,
            "grid_row": null,
            "grid_template_areas": null,
            "grid_template_columns": null,
            "grid_template_rows": null,
            "height": null,
            "justify_content": null,
            "justify_items": null,
            "left": null,
            "margin": null,
            "max_height": null,
            "max_width": null,
            "min_height": null,
            "min_width": null,
            "object_fit": null,
            "object_position": null,
            "order": null,
            "overflow": null,
            "overflow_x": null,
            "overflow_y": null,
            "padding": null,
            "right": null,
            "top": null,
            "visibility": null,
            "width": null
          }
        },
        "fa8a01a3743042488cc173d09700e3a8": {
          "model_module": "@jupyter-widgets/controls",
          "model_name": "ProgressStyleModel",
          "model_module_version": "1.5.0",
          "state": {
            "_model_module": "@jupyter-widgets/controls",
            "_model_module_version": "1.5.0",
            "_model_name": "ProgressStyleModel",
            "_view_count": null,
            "_view_module": "@jupyter-widgets/base",
            "_view_module_version": "1.2.0",
            "_view_name": "StyleView",
            "bar_color": null,
            "description_width": ""
          }
        },
        "f497f7cc755f4effa867a0b4d0095623": {
          "model_module": "@jupyter-widgets/base",
          "model_name": "LayoutModel",
          "model_module_version": "1.2.0",
          "state": {
            "_model_module": "@jupyter-widgets/base",
            "_model_module_version": "1.2.0",
            "_model_name": "LayoutModel",
            "_view_count": null,
            "_view_module": "@jupyter-widgets/base",
            "_view_module_version": "1.2.0",
            "_view_name": "LayoutView",
            "align_content": null,
            "align_items": null,
            "align_self": null,
            "border": null,
            "bottom": null,
            "display": null,
            "flex": null,
            "flex_flow": null,
            "grid_area": null,
            "grid_auto_columns": null,
            "grid_auto_flow": null,
            "grid_auto_rows": null,
            "grid_column": null,
            "grid_gap": null,
            "grid_row": null,
            "grid_template_areas": null,
            "grid_template_columns": null,
            "grid_template_rows": null,
            "height": null,
            "justify_content": null,
            "justify_items": null,
            "left": null,
            "margin": null,
            "max_height": null,
            "max_width": null,
            "min_height": null,
            "min_width": null,
            "object_fit": null,
            "object_position": null,
            "order": null,
            "overflow": null,
            "overflow_x": null,
            "overflow_y": null,
            "padding": null,
            "right": null,
            "top": null,
            "visibility": null,
            "width": null
          }
        },
        "bfe6d038d360492eb81d7449279feef2": {
          "model_module": "@jupyter-widgets/controls",
          "model_name": "DescriptionStyleModel",
          "model_module_version": "1.5.0",
          "state": {
            "_model_module": "@jupyter-widgets/controls",
            "_model_module_version": "1.5.0",
            "_model_name": "DescriptionStyleModel",
            "_view_count": null,
            "_view_module": "@jupyter-widgets/base",
            "_view_module_version": "1.2.0",
            "_view_name": "StyleView",
            "description_width": ""
          }
        },
        "19cef6def7b648cfa4b156545dc846ef": {
          "model_module": "@jupyter-widgets/controls",
          "model_name": "HBoxModel",
          "model_module_version": "1.5.0",
          "state": {
            "_dom_classes": [],
            "_model_module": "@jupyter-widgets/controls",
            "_model_module_version": "1.5.0",
            "_model_name": "HBoxModel",
            "_view_count": null,
            "_view_module": "@jupyter-widgets/controls",
            "_view_module_version": "1.5.0",
            "_view_name": "HBoxView",
            "box_style": "",
            "children": [
              "IPY_MODEL_5a19a1d006254ec8bc1b67c74134e42a",
              "IPY_MODEL_10a4491397724f36af3209da970a9228",
              "IPY_MODEL_8dda07f2662e4c17b5a54e190faffda7"
            ],
            "layout": "IPY_MODEL_a7cf189bd7664e878352131d49d4ac69"
          }
        },
        "5a19a1d006254ec8bc1b67c74134e42a": {
          "model_module": "@jupyter-widgets/controls",
          "model_name": "HTMLModel",
          "model_module_version": "1.5.0",
          "state": {
            "_dom_classes": [],
            "_model_module": "@jupyter-widgets/controls",
            "_model_module_version": "1.5.0",
            "_model_name": "HTMLModel",
            "_view_count": null,
            "_view_module": "@jupyter-widgets/controls",
            "_view_module_version": "1.5.0",
            "_view_name": "HTMLView",
            "description": "",
            "description_tooltip": null,
            "layout": "IPY_MODEL_f067b4f4c1b7407b872b5da2538d24f4",
            "placeholder": "​",
            "style": "IPY_MODEL_40c5eeb6986b42669d12dc56cbe25376",
            "value": "Map: 100%"
          }
        },
        "10a4491397724f36af3209da970a9228": {
          "model_module": "@jupyter-widgets/controls",
          "model_name": "FloatProgressModel",
          "model_module_version": "1.5.0",
          "state": {
            "_dom_classes": [],
            "_model_module": "@jupyter-widgets/controls",
            "_model_module_version": "1.5.0",
            "_model_name": "FloatProgressModel",
            "_view_count": null,
            "_view_module": "@jupyter-widgets/controls",
            "_view_module_version": "1.5.0",
            "_view_name": "ProgressView",
            "bar_style": "success",
            "description": "",
            "description_tooltip": null,
            "layout": "IPY_MODEL_08c2bca734e24f428da7e598bae945d8",
            "max": 500,
            "min": 0,
            "orientation": "horizontal",
            "style": "IPY_MODEL_43d1a5e2fc6f458792797197fea36575",
            "value": 500
          }
        },
        "8dda07f2662e4c17b5a54e190faffda7": {
          "model_module": "@jupyter-widgets/controls",
          "model_name": "HTMLModel",
          "model_module_version": "1.5.0",
          "state": {
            "_dom_classes": [],
            "_model_module": "@jupyter-widgets/controls",
            "_model_module_version": "1.5.0",
            "_model_name": "HTMLModel",
            "_view_count": null,
            "_view_module": "@jupyter-widgets/controls",
            "_view_module_version": "1.5.0",
            "_view_name": "HTMLView",
            "description": "",
            "description_tooltip": null,
            "layout": "IPY_MODEL_7c34116310154c859d7cdbe6d1909ced",
            "placeholder": "​",
            "style": "IPY_MODEL_5fcedd7057394a37b05bee0245918c85",
            "value": " 500/500 [00:00&lt;00:00, 682.37 examples/s]"
          }
        },
        "a7cf189bd7664e878352131d49d4ac69": {
          "model_module": "@jupyter-widgets/base",
          "model_name": "LayoutModel",
          "model_module_version": "1.2.0",
          "state": {
            "_model_module": "@jupyter-widgets/base",
            "_model_module_version": "1.2.0",
            "_model_name": "LayoutModel",
            "_view_count": null,
            "_view_module": "@jupyter-widgets/base",
            "_view_module_version": "1.2.0",
            "_view_name": "LayoutView",
            "align_content": null,
            "align_items": null,
            "align_self": null,
            "border": null,
            "bottom": null,
            "display": null,
            "flex": null,
            "flex_flow": null,
            "grid_area": null,
            "grid_auto_columns": null,
            "grid_auto_flow": null,
            "grid_auto_rows": null,
            "grid_column": null,
            "grid_gap": null,
            "grid_row": null,
            "grid_template_areas": null,
            "grid_template_columns": null,
            "grid_template_rows": null,
            "height": null,
            "justify_content": null,
            "justify_items": null,
            "left": null,
            "margin": null,
            "max_height": null,
            "max_width": null,
            "min_height": null,
            "min_width": null,
            "object_fit": null,
            "object_position": null,
            "order": null,
            "overflow": null,
            "overflow_x": null,
            "overflow_y": null,
            "padding": null,
            "right": null,
            "top": null,
            "visibility": null,
            "width": null
          }
        },
        "f067b4f4c1b7407b872b5da2538d24f4": {
          "model_module": "@jupyter-widgets/base",
          "model_name": "LayoutModel",
          "model_module_version": "1.2.0",
          "state": {
            "_model_module": "@jupyter-widgets/base",
            "_model_module_version": "1.2.0",
            "_model_name": "LayoutModel",
            "_view_count": null,
            "_view_module": "@jupyter-widgets/base",
            "_view_module_version": "1.2.0",
            "_view_name": "LayoutView",
            "align_content": null,
            "align_items": null,
            "align_self": null,
            "border": null,
            "bottom": null,
            "display": null,
            "flex": null,
            "flex_flow": null,
            "grid_area": null,
            "grid_auto_columns": null,
            "grid_auto_flow": null,
            "grid_auto_rows": null,
            "grid_column": null,
            "grid_gap": null,
            "grid_row": null,
            "grid_template_areas": null,
            "grid_template_columns": null,
            "grid_template_rows": null,
            "height": null,
            "justify_content": null,
            "justify_items": null,
            "left": null,
            "margin": null,
            "max_height": null,
            "max_width": null,
            "min_height": null,
            "min_width": null,
            "object_fit": null,
            "object_position": null,
            "order": null,
            "overflow": null,
            "overflow_x": null,
            "overflow_y": null,
            "padding": null,
            "right": null,
            "top": null,
            "visibility": null,
            "width": null
          }
        },
        "40c5eeb6986b42669d12dc56cbe25376": {
          "model_module": "@jupyter-widgets/controls",
          "model_name": "DescriptionStyleModel",
          "model_module_version": "1.5.0",
          "state": {
            "_model_module": "@jupyter-widgets/controls",
            "_model_module_version": "1.5.0",
            "_model_name": "DescriptionStyleModel",
            "_view_count": null,
            "_view_module": "@jupyter-widgets/base",
            "_view_module_version": "1.2.0",
            "_view_name": "StyleView",
            "description_width": ""
          }
        },
        "08c2bca734e24f428da7e598bae945d8": {
          "model_module": "@jupyter-widgets/base",
          "model_name": "LayoutModel",
          "model_module_version": "1.2.0",
          "state": {
            "_model_module": "@jupyter-widgets/base",
            "_model_module_version": "1.2.0",
            "_model_name": "LayoutModel",
            "_view_count": null,
            "_view_module": "@jupyter-widgets/base",
            "_view_module_version": "1.2.0",
            "_view_name": "LayoutView",
            "align_content": null,
            "align_items": null,
            "align_self": null,
            "border": null,
            "bottom": null,
            "display": null,
            "flex": null,
            "flex_flow": null,
            "grid_area": null,
            "grid_auto_columns": null,
            "grid_auto_flow": null,
            "grid_auto_rows": null,
            "grid_column": null,
            "grid_gap": null,
            "grid_row": null,
            "grid_template_areas": null,
            "grid_template_columns": null,
            "grid_template_rows": null,
            "height": null,
            "justify_content": null,
            "justify_items": null,
            "left": null,
            "margin": null,
            "max_height": null,
            "max_width": null,
            "min_height": null,
            "min_width": null,
            "object_fit": null,
            "object_position": null,
            "order": null,
            "overflow": null,
            "overflow_x": null,
            "overflow_y": null,
            "padding": null,
            "right": null,
            "top": null,
            "visibility": null,
            "width": null
          }
        },
        "43d1a5e2fc6f458792797197fea36575": {
          "model_module": "@jupyter-widgets/controls",
          "model_name": "ProgressStyleModel",
          "model_module_version": "1.5.0",
          "state": {
            "_model_module": "@jupyter-widgets/controls",
            "_model_module_version": "1.5.0",
            "_model_name": "ProgressStyleModel",
            "_view_count": null,
            "_view_module": "@jupyter-widgets/base",
            "_view_module_version": "1.2.0",
            "_view_name": "StyleView",
            "bar_color": null,
            "description_width": ""
          }
        },
        "7c34116310154c859d7cdbe6d1909ced": {
          "model_module": "@jupyter-widgets/base",
          "model_name": "LayoutModel",
          "model_module_version": "1.2.0",
          "state": {
            "_model_module": "@jupyter-widgets/base",
            "_model_module_version": "1.2.0",
            "_model_name": "LayoutModel",
            "_view_count": null,
            "_view_module": "@jupyter-widgets/base",
            "_view_module_version": "1.2.0",
            "_view_name": "LayoutView",
            "align_content": null,
            "align_items": null,
            "align_self": null,
            "border": null,
            "bottom": null,
            "display": null,
            "flex": null,
            "flex_flow": null,
            "grid_area": null,
            "grid_auto_columns": null,
            "grid_auto_flow": null,
            "grid_auto_rows": null,
            "grid_column": null,
            "grid_gap": null,
            "grid_row": null,
            "grid_template_areas": null,
            "grid_template_columns": null,
            "grid_template_rows": null,
            "height": null,
            "justify_content": null,
            "justify_items": null,
            "left": null,
            "margin": null,
            "max_height": null,
            "max_width": null,
            "min_height": null,
            "min_width": null,
            "object_fit": null,
            "object_position": null,
            "order": null,
            "overflow": null,
            "overflow_x": null,
            "overflow_y": null,
            "padding": null,
            "right": null,
            "top": null,
            "visibility": null,
            "width": null
          }
        },
        "5fcedd7057394a37b05bee0245918c85": {
          "model_module": "@jupyter-widgets/controls",
          "model_name": "DescriptionStyleModel",
          "model_module_version": "1.5.0",
          "state": {
            "_model_module": "@jupyter-widgets/controls",
            "_model_module_version": "1.5.0",
            "_model_name": "DescriptionStyleModel",
            "_view_count": null,
            "_view_module": "@jupyter-widgets/base",
            "_view_module_version": "1.2.0",
            "_view_name": "StyleView",
            "description_width": ""
          }
        },
        "dafb3f6ea7044b62aa34a7996297e390": {
          "model_module": "@jupyter-widgets/controls",
          "model_name": "HBoxModel",
          "model_module_version": "1.5.0",
          "state": {
            "_dom_classes": [],
            "_model_module": "@jupyter-widgets/controls",
            "_model_module_version": "1.5.0",
            "_model_name": "HBoxModel",
            "_view_count": null,
            "_view_module": "@jupyter-widgets/controls",
            "_view_module_version": "1.5.0",
            "_view_name": "HBoxView",
            "box_style": "",
            "children": [
              "IPY_MODEL_235fc8c4f21e403f9aa9ae6c8206096a",
              "IPY_MODEL_93688fc87f544d8083c72f5d3e9c428f",
              "IPY_MODEL_2e295ff4a01e4efa838f12d097bb57ab"
            ],
            "layout": "IPY_MODEL_3bce33e361e449009c503918188c37c6"
          }
        },
        "235fc8c4f21e403f9aa9ae6c8206096a": {
          "model_module": "@jupyter-widgets/controls",
          "model_name": "HTMLModel",
          "model_module_version": "1.5.0",
          "state": {
            "_dom_classes": [],
            "_model_module": "@jupyter-widgets/controls",
            "_model_module_version": "1.5.0",
            "_model_name": "HTMLModel",
            "_view_count": null,
            "_view_module": "@jupyter-widgets/controls",
            "_view_module_version": "1.5.0",
            "_view_name": "HTMLView",
            "description": "",
            "description_tooltip": null,
            "layout": "IPY_MODEL_883295fed9c5467a84241ae02c24c0ba",
            "placeholder": "​",
            "style": "IPY_MODEL_f3eb6363475740d4a84454805af47122",
            "value": "Map: 100%"
          }
        },
        "93688fc87f544d8083c72f5d3e9c428f": {
          "model_module": "@jupyter-widgets/controls",
          "model_name": "FloatProgressModel",
          "model_module_version": "1.5.0",
          "state": {
            "_dom_classes": [],
            "_model_module": "@jupyter-widgets/controls",
            "_model_module_version": "1.5.0",
            "_model_name": "FloatProgressModel",
            "_view_count": null,
            "_view_module": "@jupyter-widgets/controls",
            "_view_module_version": "1.5.0",
            "_view_name": "ProgressView",
            "bar_style": "success",
            "description": "",
            "description_tooltip": null,
            "layout": "IPY_MODEL_38645de6ca214a19886b28ea908f8e08",
            "max": 100,
            "min": 0,
            "orientation": "horizontal",
            "style": "IPY_MODEL_32be977b594345ff9b5f460be7172cf3",
            "value": 100
          }
        },
        "2e295ff4a01e4efa838f12d097bb57ab": {
          "model_module": "@jupyter-widgets/controls",
          "model_name": "HTMLModel",
          "model_module_version": "1.5.0",
          "state": {
            "_dom_classes": [],
            "_model_module": "@jupyter-widgets/controls",
            "_model_module_version": "1.5.0",
            "_model_name": "HTMLModel",
            "_view_count": null,
            "_view_module": "@jupyter-widgets/controls",
            "_view_module_version": "1.5.0",
            "_view_name": "HTMLView",
            "description": "",
            "description_tooltip": null,
            "layout": "IPY_MODEL_028e0f5964a14842bb5ce417771e4016",
            "placeholder": "​",
            "style": "IPY_MODEL_692105fced3d4ca089e87936981ddb36",
            "value": " 100/100 [00:00&lt;00:00, 559.06 examples/s]"
          }
        },
        "3bce33e361e449009c503918188c37c6": {
          "model_module": "@jupyter-widgets/base",
          "model_name": "LayoutModel",
          "model_module_version": "1.2.0",
          "state": {
            "_model_module": "@jupyter-widgets/base",
            "_model_module_version": "1.2.0",
            "_model_name": "LayoutModel",
            "_view_count": null,
            "_view_module": "@jupyter-widgets/base",
            "_view_module_version": "1.2.0",
            "_view_name": "LayoutView",
            "align_content": null,
            "align_items": null,
            "align_self": null,
            "border": null,
            "bottom": null,
            "display": null,
            "flex": null,
            "flex_flow": null,
            "grid_area": null,
            "grid_auto_columns": null,
            "grid_auto_flow": null,
            "grid_auto_rows": null,
            "grid_column": null,
            "grid_gap": null,
            "grid_row": null,
            "grid_template_areas": null,
            "grid_template_columns": null,
            "grid_template_rows": null,
            "height": null,
            "justify_content": null,
            "justify_items": null,
            "left": null,
            "margin": null,
            "max_height": null,
            "max_width": null,
            "min_height": null,
            "min_width": null,
            "object_fit": null,
            "object_position": null,
            "order": null,
            "overflow": null,
            "overflow_x": null,
            "overflow_y": null,
            "padding": null,
            "right": null,
            "top": null,
            "visibility": null,
            "width": null
          }
        },
        "883295fed9c5467a84241ae02c24c0ba": {
          "model_module": "@jupyter-widgets/base",
          "model_name": "LayoutModel",
          "model_module_version": "1.2.0",
          "state": {
            "_model_module": "@jupyter-widgets/base",
            "_model_module_version": "1.2.0",
            "_model_name": "LayoutModel",
            "_view_count": null,
            "_view_module": "@jupyter-widgets/base",
            "_view_module_version": "1.2.0",
            "_view_name": "LayoutView",
            "align_content": null,
            "align_items": null,
            "align_self": null,
            "border": null,
            "bottom": null,
            "display": null,
            "flex": null,
            "flex_flow": null,
            "grid_area": null,
            "grid_auto_columns": null,
            "grid_auto_flow": null,
            "grid_auto_rows": null,
            "grid_column": null,
            "grid_gap": null,
            "grid_row": null,
            "grid_template_areas": null,
            "grid_template_columns": null,
            "grid_template_rows": null,
            "height": null,
            "justify_content": null,
            "justify_items": null,
            "left": null,
            "margin": null,
            "max_height": null,
            "max_width": null,
            "min_height": null,
            "min_width": null,
            "object_fit": null,
            "object_position": null,
            "order": null,
            "overflow": null,
            "overflow_x": null,
            "overflow_y": null,
            "padding": null,
            "right": null,
            "top": null,
            "visibility": null,
            "width": null
          }
        },
        "f3eb6363475740d4a84454805af47122": {
          "model_module": "@jupyter-widgets/controls",
          "model_name": "DescriptionStyleModel",
          "model_module_version": "1.5.0",
          "state": {
            "_model_module": "@jupyter-widgets/controls",
            "_model_module_version": "1.5.0",
            "_model_name": "DescriptionStyleModel",
            "_view_count": null,
            "_view_module": "@jupyter-widgets/base",
            "_view_module_version": "1.2.0",
            "_view_name": "StyleView",
            "description_width": ""
          }
        },
        "38645de6ca214a19886b28ea908f8e08": {
          "model_module": "@jupyter-widgets/base",
          "model_name": "LayoutModel",
          "model_module_version": "1.2.0",
          "state": {
            "_model_module": "@jupyter-widgets/base",
            "_model_module_version": "1.2.0",
            "_model_name": "LayoutModel",
            "_view_count": null,
            "_view_module": "@jupyter-widgets/base",
            "_view_module_version": "1.2.0",
            "_view_name": "LayoutView",
            "align_content": null,
            "align_items": null,
            "align_self": null,
            "border": null,
            "bottom": null,
            "display": null,
            "flex": null,
            "flex_flow": null,
            "grid_area": null,
            "grid_auto_columns": null,
            "grid_auto_flow": null,
            "grid_auto_rows": null,
            "grid_column": null,
            "grid_gap": null,
            "grid_row": null,
            "grid_template_areas": null,
            "grid_template_columns": null,
            "grid_template_rows": null,
            "height": null,
            "justify_content": null,
            "justify_items": null,
            "left": null,
            "margin": null,
            "max_height": null,
            "max_width": null,
            "min_height": null,
            "min_width": null,
            "object_fit": null,
            "object_position": null,
            "order": null,
            "overflow": null,
            "overflow_x": null,
            "overflow_y": null,
            "padding": null,
            "right": null,
            "top": null,
            "visibility": null,
            "width": null
          }
        },
        "32be977b594345ff9b5f460be7172cf3": {
          "model_module": "@jupyter-widgets/controls",
          "model_name": "ProgressStyleModel",
          "model_module_version": "1.5.0",
          "state": {
            "_model_module": "@jupyter-widgets/controls",
            "_model_module_version": "1.5.0",
            "_model_name": "ProgressStyleModel",
            "_view_count": null,
            "_view_module": "@jupyter-widgets/base",
            "_view_module_version": "1.2.0",
            "_view_name": "StyleView",
            "bar_color": null,
            "description_width": ""
          }
        },
        "028e0f5964a14842bb5ce417771e4016": {
          "model_module": "@jupyter-widgets/base",
          "model_name": "LayoutModel",
          "model_module_version": "1.2.0",
          "state": {
            "_model_module": "@jupyter-widgets/base",
            "_model_module_version": "1.2.0",
            "_model_name": "LayoutModel",
            "_view_count": null,
            "_view_module": "@jupyter-widgets/base",
            "_view_module_version": "1.2.0",
            "_view_name": "LayoutView",
            "align_content": null,
            "align_items": null,
            "align_self": null,
            "border": null,
            "bottom": null,
            "display": null,
            "flex": null,
            "flex_flow": null,
            "grid_area": null,
            "grid_auto_columns": null,
            "grid_auto_flow": null,
            "grid_auto_rows": null,
            "grid_column": null,
            "grid_gap": null,
            "grid_row": null,
            "grid_template_areas": null,
            "grid_template_columns": null,
            "grid_template_rows": null,
            "height": null,
            "justify_content": null,
            "justify_items": null,
            "left": null,
            "margin": null,
            "max_height": null,
            "max_width": null,
            "min_height": null,
            "min_width": null,
            "object_fit": null,
            "object_position": null,
            "order": null,
            "overflow": null,
            "overflow_x": null,
            "overflow_y": null,
            "padding": null,
            "right": null,
            "top": null,
            "visibility": null,
            "width": null
          }
        },
        "692105fced3d4ca089e87936981ddb36": {
          "model_module": "@jupyter-widgets/controls",
          "model_name": "DescriptionStyleModel",
          "model_module_version": "1.5.0",
          "state": {
            "_model_module": "@jupyter-widgets/controls",
            "_model_module_version": "1.5.0",
            "_model_name": "DescriptionStyleModel",
            "_view_count": null,
            "_view_module": "@jupyter-widgets/base",
            "_view_module_version": "1.2.0",
            "_view_name": "StyleView",
            "description_width": ""
          }
        },
        "692df6695e59440486f46b59e18c6859": {
          "model_module": "@jupyter-widgets/controls",
          "model_name": "HBoxModel",
          "model_module_version": "1.5.0",
          "state": {
            "_dom_classes": [],
            "_model_module": "@jupyter-widgets/controls",
            "_model_module_version": "1.5.0",
            "_model_name": "HBoxModel",
            "_view_count": null,
            "_view_module": "@jupyter-widgets/controls",
            "_view_module_version": "1.5.0",
            "_view_name": "HBoxView",
            "box_style": "",
            "children": [
              "IPY_MODEL_b60e0140f1be45d1a3b7b05cb15b13a2",
              "IPY_MODEL_2dee2022c2a642e6bf99e23ae46d8db7",
              "IPY_MODEL_ddf1295971cb4bafaadeca50bf985065"
            ],
            "layout": "IPY_MODEL_94e4ee10c23641ef9e52f1641f94d49a"
          }
        },
        "b60e0140f1be45d1a3b7b05cb15b13a2": {
          "model_module": "@jupyter-widgets/controls",
          "model_name": "HTMLModel",
          "model_module_version": "1.5.0",
          "state": {
            "_dom_classes": [],
            "_model_module": "@jupyter-widgets/controls",
            "_model_module_version": "1.5.0",
            "_model_name": "HTMLModel",
            "_view_count": null,
            "_view_module": "@jupyter-widgets/controls",
            "_view_module_version": "1.5.0",
            "_view_name": "HTMLView",
            "description": "",
            "description_tooltip": null,
            "layout": "IPY_MODEL_1995cd2e7d4449a0a54a7f0fe7159fb4",
            "placeholder": "​",
            "style": "IPY_MODEL_edbdffee59f74d10aa1aa4b7aa79ad28",
            "value": "Map: 100%"
          }
        },
        "2dee2022c2a642e6bf99e23ae46d8db7": {
          "model_module": "@jupyter-widgets/controls",
          "model_name": "FloatProgressModel",
          "model_module_version": "1.5.0",
          "state": {
            "_dom_classes": [],
            "_model_module": "@jupyter-widgets/controls",
            "_model_module_version": "1.5.0",
            "_model_name": "FloatProgressModel",
            "_view_count": null,
            "_view_module": "@jupyter-widgets/controls",
            "_view_module_version": "1.5.0",
            "_view_name": "ProgressView",
            "bar_style": "success",
            "description": "",
            "description_tooltip": null,
            "layout": "IPY_MODEL_718e8e4a7b3c41958d951029fdc47cf7",
            "max": 100,
            "min": 0,
            "orientation": "horizontal",
            "style": "IPY_MODEL_6fde0f8eb65b4e98b11122df7f8e7d6f",
            "value": 100
          }
        },
        "ddf1295971cb4bafaadeca50bf985065": {
          "model_module": "@jupyter-widgets/controls",
          "model_name": "HTMLModel",
          "model_module_version": "1.5.0",
          "state": {
            "_dom_classes": [],
            "_model_module": "@jupyter-widgets/controls",
            "_model_module_version": "1.5.0",
            "_model_name": "HTMLModel",
            "_view_count": null,
            "_view_module": "@jupyter-widgets/controls",
            "_view_module_version": "1.5.0",
            "_view_name": "HTMLView",
            "description": "",
            "description_tooltip": null,
            "layout": "IPY_MODEL_5cda8765cf824f35bbc7068e2f6544e1",
            "placeholder": "​",
            "style": "IPY_MODEL_8850f62dffe44f60bf9d611d591ddd6f",
            "value": " 100/100 [00:00&lt;00:00, 613.45 examples/s]"
          }
        },
        "94e4ee10c23641ef9e52f1641f94d49a": {
          "model_module": "@jupyter-widgets/base",
          "model_name": "LayoutModel",
          "model_module_version": "1.2.0",
          "state": {
            "_model_module": "@jupyter-widgets/base",
            "_model_module_version": "1.2.0",
            "_model_name": "LayoutModel",
            "_view_count": null,
            "_view_module": "@jupyter-widgets/base",
            "_view_module_version": "1.2.0",
            "_view_name": "LayoutView",
            "align_content": null,
            "align_items": null,
            "align_self": null,
            "border": null,
            "bottom": null,
            "display": null,
            "flex": null,
            "flex_flow": null,
            "grid_area": null,
            "grid_auto_columns": null,
            "grid_auto_flow": null,
            "grid_auto_rows": null,
            "grid_column": null,
            "grid_gap": null,
            "grid_row": null,
            "grid_template_areas": null,
            "grid_template_columns": null,
            "grid_template_rows": null,
            "height": null,
            "justify_content": null,
            "justify_items": null,
            "left": null,
            "margin": null,
            "max_height": null,
            "max_width": null,
            "min_height": null,
            "min_width": null,
            "object_fit": null,
            "object_position": null,
            "order": null,
            "overflow": null,
            "overflow_x": null,
            "overflow_y": null,
            "padding": null,
            "right": null,
            "top": null,
            "visibility": null,
            "width": null
          }
        },
        "1995cd2e7d4449a0a54a7f0fe7159fb4": {
          "model_module": "@jupyter-widgets/base",
          "model_name": "LayoutModel",
          "model_module_version": "1.2.0",
          "state": {
            "_model_module": "@jupyter-widgets/base",
            "_model_module_version": "1.2.0",
            "_model_name": "LayoutModel",
            "_view_count": null,
            "_view_module": "@jupyter-widgets/base",
            "_view_module_version": "1.2.0",
            "_view_name": "LayoutView",
            "align_content": null,
            "align_items": null,
            "align_self": null,
            "border": null,
            "bottom": null,
            "display": null,
            "flex": null,
            "flex_flow": null,
            "grid_area": null,
            "grid_auto_columns": null,
            "grid_auto_flow": null,
            "grid_auto_rows": null,
            "grid_column": null,
            "grid_gap": null,
            "grid_row": null,
            "grid_template_areas": null,
            "grid_template_columns": null,
            "grid_template_rows": null,
            "height": null,
            "justify_content": null,
            "justify_items": null,
            "left": null,
            "margin": null,
            "max_height": null,
            "max_width": null,
            "min_height": null,
            "min_width": null,
            "object_fit": null,
            "object_position": null,
            "order": null,
            "overflow": null,
            "overflow_x": null,
            "overflow_y": null,
            "padding": null,
            "right": null,
            "top": null,
            "visibility": null,
            "width": null
          }
        },
        "edbdffee59f74d10aa1aa4b7aa79ad28": {
          "model_module": "@jupyter-widgets/controls",
          "model_name": "DescriptionStyleModel",
          "model_module_version": "1.5.0",
          "state": {
            "_model_module": "@jupyter-widgets/controls",
            "_model_module_version": "1.5.0",
            "_model_name": "DescriptionStyleModel",
            "_view_count": null,
            "_view_module": "@jupyter-widgets/base",
            "_view_module_version": "1.2.0",
            "_view_name": "StyleView",
            "description_width": ""
          }
        },
        "718e8e4a7b3c41958d951029fdc47cf7": {
          "model_module": "@jupyter-widgets/base",
          "model_name": "LayoutModel",
          "model_module_version": "1.2.0",
          "state": {
            "_model_module": "@jupyter-widgets/base",
            "_model_module_version": "1.2.0",
            "_model_name": "LayoutModel",
            "_view_count": null,
            "_view_module": "@jupyter-widgets/base",
            "_view_module_version": "1.2.0",
            "_view_name": "LayoutView",
            "align_content": null,
            "align_items": null,
            "align_self": null,
            "border": null,
            "bottom": null,
            "display": null,
            "flex": null,
            "flex_flow": null,
            "grid_area": null,
            "grid_auto_columns": null,
            "grid_auto_flow": null,
            "grid_auto_rows": null,
            "grid_column": null,
            "grid_gap": null,
            "grid_row": null,
            "grid_template_areas": null,
            "grid_template_columns": null,
            "grid_template_rows": null,
            "height": null,
            "justify_content": null,
            "justify_items": null,
            "left": null,
            "margin": null,
            "max_height": null,
            "max_width": null,
            "min_height": null,
            "min_width": null,
            "object_fit": null,
            "object_position": null,
            "order": null,
            "overflow": null,
            "overflow_x": null,
            "overflow_y": null,
            "padding": null,
            "right": null,
            "top": null,
            "visibility": null,
            "width": null
          }
        },
        "6fde0f8eb65b4e98b11122df7f8e7d6f": {
          "model_module": "@jupyter-widgets/controls",
          "model_name": "ProgressStyleModel",
          "model_module_version": "1.5.0",
          "state": {
            "_model_module": "@jupyter-widgets/controls",
            "_model_module_version": "1.5.0",
            "_model_name": "ProgressStyleModel",
            "_view_count": null,
            "_view_module": "@jupyter-widgets/base",
            "_view_module_version": "1.2.0",
            "_view_name": "StyleView",
            "bar_color": null,
            "description_width": ""
          }
        },
        "5cda8765cf824f35bbc7068e2f6544e1": {
          "model_module": "@jupyter-widgets/base",
          "model_name": "LayoutModel",
          "model_module_version": "1.2.0",
          "state": {
            "_model_module": "@jupyter-widgets/base",
            "_model_module_version": "1.2.0",
            "_model_name": "LayoutModel",
            "_view_count": null,
            "_view_module": "@jupyter-widgets/base",
            "_view_module_version": "1.2.0",
            "_view_name": "LayoutView",
            "align_content": null,
            "align_items": null,
            "align_self": null,
            "border": null,
            "bottom": null,
            "display": null,
            "flex": null,
            "flex_flow": null,
            "grid_area": null,
            "grid_auto_columns": null,
            "grid_auto_flow": null,
            "grid_auto_rows": null,
            "grid_column": null,
            "grid_gap": null,
            "grid_row": null,
            "grid_template_areas": null,
            "grid_template_columns": null,
            "grid_template_rows": null,
            "height": null,
            "justify_content": null,
            "justify_items": null,
            "left": null,
            "margin": null,
            "max_height": null,
            "max_width": null,
            "min_height": null,
            "min_width": null,
            "object_fit": null,
            "object_position": null,
            "order": null,
            "overflow": null,
            "overflow_x": null,
            "overflow_y": null,
            "padding": null,
            "right": null,
            "top": null,
            "visibility": null,
            "width": null
          }
        },
        "8850f62dffe44f60bf9d611d591ddd6f": {
          "model_module": "@jupyter-widgets/controls",
          "model_name": "DescriptionStyleModel",
          "model_module_version": "1.5.0",
          "state": {
            "_model_module": "@jupyter-widgets/controls",
            "_model_module_version": "1.5.0",
            "_model_name": "DescriptionStyleModel",
            "_view_count": null,
            "_view_module": "@jupyter-widgets/base",
            "_view_module_version": "1.2.0",
            "_view_name": "StyleView",
            "description_width": ""
          }
        }
      }
    }
  },
  "cells": [
    {
      "cell_type": "markdown",
      "source": [
        "# QLoRA"
      ],
      "metadata": {
        "id": "i_ZXbkxU8Y4S"
      }
    },
    {
      "cell_type": "markdown",
      "source": [
        "By Alberto Valdes.\n",
        "\n",
        "**Mail 1:** anvaldes@uc.cl\n",
        "\n",
        "**Mail 2:** alberto.valdes.gonzalez.96@gmail.com\n",
        "\n",
        "This notebook was devoloped in Google Colab using A100 GPU."
      ],
      "metadata": {
        "id": "uvSOH1HD8cgi"
      }
    },
    {
      "cell_type": "code",
      "source": [
        "import warnings\n",
        "warnings.filterwarnings(\"ignore\")"
      ],
      "metadata": {
        "id": "6yWnczZB_yu7"
      },
      "execution_count": 1,
      "outputs": []
    },
    {
      "cell_type": "code",
      "source": [
        "import time\n",
        "import scipy\n",
        "import numpy as np\n",
        "import pandas as pd\n",
        "import matplotlib.pyplot as plt\n",
        "from matplotlib.pyplot import figure\n",
        "from matplotlib import image as mpimg"
      ],
      "metadata": {
        "id": "AVlzujaT_2Ty"
      },
      "execution_count": 2,
      "outputs": []
    },
    {
      "cell_type": "code",
      "source": [
        "def display_img(name, a, b):\n",
        "    plt.figure(figsize = (a, b))\n",
        "    image = mpimg.imread(name)\n",
        "    plt.imshow(image)\n",
        "    plt.axis('off')\n",
        "    plt.show()"
      ],
      "metadata": {
        "id": "BpcsQJkY_4ND"
      },
      "execution_count": 3,
      "outputs": []
    },
    {
      "cell_type": "markdown",
      "source": [
        "### Explanation:"
      ],
      "metadata": {
        "id": "2BCnqIyT8gxI"
      }
    },
    {
      "cell_type": "markdown",
      "source": [
        "* Is LoRA 2.0\n",
        "* Uses even less memory with \"recoverable\" quantization.\n",
        "* Paper of QLoRA has critical findings:\n",
        "* - Training all layers of the network is necessary to match performance of full-parameter fine-tuning.\n",
        "* - Rank may not matter from 8 to 256.\n",
        "* - The most critical LoRA hyperparameter is how many LoRA adapters are used in total (Basically in how many layers we going to impact or changes the weigths)."
      ],
      "metadata": {
        "id": "aPoaKrao-r6j"
      }
    },
    {
      "cell_type": "code",
      "source": [
        "display_img('QLoRA.png', 14, 14)"
      ],
      "metadata": {
        "colab": {
          "base_uri": "https://localhost:8080/",
          "height": 483
        },
        "id": "G64PvdrXARCL",
        "outputId": "e0db4949-f3fa-4e9e-ea59-1cb66b666c90"
      },
      "execution_count": 4,
      "outputs": [
        {
          "output_type": "display_data",
          "data": {
            "text/plain": [
              "<Figure size 1400x1400 with 1 Axes>"
            ],
            "image/png": "[encoded data removed]"
          },
          "metadata": {}
        }
      ]
    },
    {
      "cell_type": "code",
      "source": [
        "start = time.time()"
      ],
      "metadata": {
        "id": "z0dvsgjlHNUJ"
      },
      "execution_count": 5,
      "outputs": []
    },
    {
      "cell_type": "markdown",
      "source": [
        "# Finetunning"
      ],
      "metadata": {
        "id": "QrDeFoYDA-6F"
      }
    },
    {
      "cell_type": "markdown",
      "source": [
        "### a. Setting the environment"
      ],
      "metadata": {
        "id": "uejBY0qGBA_G"
      }
    },
    {
      "cell_type": "code",
      "source": [
        "!pip install torch==2.2.1"
      ],
      "metadata": {
        "colab": {
          "base_uri": "https://localhost:8080/"
        },
        "id": "kQf16EnnqdZ3",
        "outputId": "b14fd85b-803f-46ba-cc5c-72ef134ecd64"
      },
      "execution_count": 6,
      "outputs": [
        {
          "output_type": "stream",
          "name": "stdout",
          "text": [
            "\u001b[33mWARNING: Ignoring invalid distribution - (/usr/local/lib/python3.10/dist-packages)\u001b[0m\u001b[33m\n",
            "\u001b[0m\u001b[33mWARNING: Ignoring invalid distribution -orch (/usr/local/lib/python3.10/dist-packages)\u001b[0m\u001b[33m\n",
            "\u001b[0mCollecting torch==2.2.1\n",
            "  Using cached torch-2.2.1-cp310-cp310-manylinux1_x86_64.whl (755.5 MB)\n",
            "Requirement already satisfied: filelock in /usr/local/lib/python3.10/dist-packages (from torch==2.2.1) (3.13.4)\n",
            "Requirement already satisfied: typing-extensions>=4.8.0 in /usr/local/lib/python3.10/dist-packages (from torch==2.2.1) (4.11.0)\n",
            "Requirement already satisfied: sympy in /usr/local/lib/python3.10/dist-packages (from torch==2.2.1) (1.12)\n",
            "Requirement already satisfied: networkx in /usr/local/lib/python3.10/dist-packages (from torch==2.2.1) (3.3)\n",
            "Requirement already satisfied: jinja2 in /usr/local/lib/python3.10/dist-packages (from torch==2.2.1) (3.1.3)\n",
            "Requirement already satisfied: fsspec in /usr/local/lib/python3.10/dist-packages (from torch==2.2.1) (2023.6.0)\n",
            "Requirement already satisfied: nvidia-cuda-nvrtc-cu12==12.1.105 in /usr/local/lib/python3.10/dist-packages (from torch==2.2.1) (12.1.105)\n",
            "Requirement already satisfied: nvidia-cuda-runtime-cu12==12.1.105 in /usr/local/lib/python3.10/dist-packages (from torch==2.2.1) (12.1.105)\n",
            "Requirement already satisfied: nvidia-cuda-cupti-cu12==12.1.105 in /usr/local/lib/python3.10/dist-packages (from torch==2.2.1) (12.1.105)\n",
            "Requirement already satisfied: nvidia-cudnn-cu12==8.9.2.26 in /usr/local/lib/python3.10/dist-packages (from torch==2.2.1) (8.9.2.26)\n",
            "Requirement already satisfied: nvidia-cublas-cu12==12.1.3.1 in /usr/local/lib/python3.10/dist-packages (from torch==2.2.1) (12.1.3.1)\n",
            "Requirement already satisfied: nvidia-cufft-cu12==11.0.2.54 in /usr/local/lib/python3.10/dist-packages (from torch==2.2.1) (11.0.2.54)\n",
            "Requirement already satisfied: nvidia-curand-cu12==10.3.2.106 in /usr/local/lib/python3.10/dist-packages (from torch==2.2.1) (10.3.2.106)\n",
            "Requirement already satisfied: nvidia-cusolver-cu12==11.4.5.107 in /usr/local/lib/python3.10/dist-packages (from torch==2.2.1) (11.4.5.107)\n",
            "Requirement already satisfied: nvidia-cusparse-cu12==12.1.0.106 in /usr/local/lib/python3.10/dist-packages (from torch==2.2.1) (12.1.0.106)\n",
            "Requirement already satisfied: nvidia-nccl-cu12==2.19.3 in /usr/local/lib/python3.10/dist-packages (from torch==2.2.1) (2.19.3)\n",
            "Requirement already satisfied: nvidia-nvtx-cu12==12.1.105 in /usr/local/lib/python3.10/dist-packages (from torch==2.2.1) (12.1.105)\n",
            "Requirement already satisfied: triton==2.2.0 in /usr/local/lib/python3.10/dist-packages (from torch==2.2.1) (2.2.0)\n",
            "Requirement already satisfied: nvidia-nvjitlink-cu12 in /usr/local/lib/python3.10/dist-packages (from nvidia-cusolver-cu12==11.4.5.107->torch==2.2.1) (12.4.127)\n",
            "Requirement already satisfied: MarkupSafe>=2.0 in /usr/local/lib/python3.10/dist-packages (from jinja2->torch==2.2.1) (2.1.5)\n",
            "Requirement already satisfied: mpmath>=0.19 in /usr/local/lib/python3.10/dist-packages (from sympy->torch==2.2.1) (1.3.0)\n",
            "\u001b[33mWARNING: Ignoring invalid distribution - (/usr/local/lib/python3.10/dist-packages)\u001b[0m\u001b[33m\n",
            "\u001b[0m\u001b[33mWARNING: Ignoring invalid distribution -orch (/usr/local/lib/python3.10/dist-packages)\u001b[0m\u001b[33m\n",
            "\u001b[0mInstalling collected packages: torch\n",
            "  Attempting uninstall: torch\n",
            "    Found existing installation: torch 2.2.2\n",
            "    Uninstalling torch-2.2.2:\n",
            "      Successfully uninstalled torch-2.2.2\n",
            "\u001b[31mERROR: pip's dependency resolver does not currently take into account all the packages that are installed. This behaviour is the source of the following dependency conflicts.\n",
            "xformers 0.0.25.post1 requires torch==2.2.2, but you have torch 2.2.1 which is incompatible.\u001b[0m\u001b[31m\n",
            "\u001b[0mSuccessfully installed torch-2.2.1\n"
          ]
        }
      ]
    },
    {
      "cell_type": "code",
      "source": [
        "!pip install -qU bitsandbytes transformers datasets accelerate loralib einops xformers"
      ],
      "metadata": {
        "colab": {
          "base_uri": "https://localhost:8080/"
        },
        "id": "sY_2nJZNqfEd",
        "outputId": "db898ab6-610d-45f8-ee64-aca0cf63132d"
      },
      "execution_count": 7,
      "outputs": [
        {
          "output_type": "stream",
          "name": "stdout",
          "text": [
            "\u001b[33mWARNING: Ignoring invalid distribution - (/usr/local/lib/python3.10/dist-packages)\u001b[0m\u001b[33m\n",
            "\u001b[0m\u001b[33mWARNING: Ignoring invalid distribution -orch (/usr/local/lib/python3.10/dist-packages)\u001b[0m\u001b[33m\n",
            "\u001b[0m\u001b[33mWARNING: Ignoring invalid distribution - (/usr/local/lib/python3.10/dist-packages)\u001b[0m\u001b[33m\n",
            "\u001b[0m\u001b[33mWARNING: Ignoring invalid distribution -orch (/usr/local/lib/python3.10/dist-packages)\u001b[0m\u001b[33m\n",
            "\u001b[0m\u001b[31mERROR: pip's dependency resolver does not currently take into account all the packages that are installed. This behaviour is the source of the following dependency conflicts.\n",
            "torchaudio 2.2.1+cu121 requires torch==2.2.1, but you have torch 2.2.2 which is incompatible.\n",
            "torchtext 0.17.1 requires torch==2.2.1, but you have torch 2.2.2 which is incompatible.\n",
            "torchvision 0.17.1+cu121 requires torch==2.2.1, but you have torch 2.2.2 which is incompatible.\u001b[0m\u001b[31m\n",
            "\u001b[0m"
          ]
        }
      ]
    },
    {
      "cell_type": "code",
      "source": [
        "!pip install -q -U git+https://github.com/huggingface/peft.git"
      ],
      "metadata": {
        "colab": {
          "base_uri": "https://localhost:8080/"
        },
        "id": "eFQuuk9Dqn4A",
        "outputId": "c5cf2bc4-eabc-4c7b-d577-badc25625553"
      },
      "execution_count": 8,
      "outputs": [
        {
          "output_type": "stream",
          "name": "stdout",
          "text": [
            "\u001b[33mWARNING: Ignoring invalid distribution - (/usr/local/lib/python3.10/dist-packages)\u001b[0m\u001b[33m\n",
            "\u001b[0m\u001b[33mWARNING: Ignoring invalid distribution -orch (/usr/local/lib/python3.10/dist-packages)\u001b[0m\u001b[33m\n",
            "\u001b[0m  Installing build dependencies ... \u001b[?25l\u001b[?25hdone\n",
            "  Getting requirements to build wheel ... \u001b[?25l\u001b[?25hdone\n",
            "  Preparing metadata (pyproject.toml) ... \u001b[?25l\u001b[?25hdone\n",
            "\u001b[33mWARNING: Ignoring invalid distribution - (/usr/local/lib/python3.10/dist-packages)\u001b[0m\u001b[33m\n",
            "\u001b[0m\u001b[33mWARNING: Ignoring invalid distribution -orch (/usr/local/lib/python3.10/dist-packages)\u001b[0m\u001b[33m\n",
            "\u001b[0m"
          ]
        }
      ]
    },
    {
      "cell_type": "markdown",
      "source": [
        "### b. Import Libraries"
      ],
      "metadata": {
        "id": "llglkuYABUup"
      }
    },
    {
      "cell_type": "code",
      "source": [
        "import os\n",
        "import bitsandbytes as bnb\n",
        "import pandas as pd\n",
        "import torch\n",
        "import torch.nn as nn\n",
        "import transformers\n",
        "from datasets import load_dataset\n",
        "from peft import (\n",
        "    LoraConfig,\n",
        "    PeftConfig,\n",
        "    get_peft_model,\n",
        "    prepare_model_for_kbit_training,\n",
        ")\n",
        "from transformers import (\n",
        "    AutoConfig,\n",
        "    AutoModelForCausalLM,\n",
        "    AutoTokenizer,\n",
        "    BitsAndBytesConfig,\n",
        ")"
      ],
      "metadata": {
        "id": "Er2vHMn8qu5E"
      },
      "execution_count": 9,
      "outputs": []
    },
    {
      "cell_type": "markdown",
      "source": [
        "### c. Load the model"
      ],
      "metadata": {
        "id": "sPVwZor-DIwT"
      }
    },
    {
      "cell_type": "code",
      "source": [
        "model_id = \"tiiuae/falcon-7b-instruct\""
      ],
      "metadata": {
        "id": "eROdKr4DDL_m"
      },
      "execution_count": 10,
      "outputs": []
    },
    {
      "cell_type": "code",
      "source": [
        "tokenizer = AutoTokenizer.from_pretrained(model_id)"
      ],
      "metadata": {
        "id": "JoQlUbhoDS8D"
      },
      "execution_count": 11,
      "outputs": []
    },
    {
      "cell_type": "code",
      "source": [
        "tokenizer.pad_token = tokenizer.eos_token"
      ],
      "metadata": {
        "id": "9NGctE3cDS-I"
      },
      "execution_count": 12,
      "outputs": []
    },
    {
      "cell_type": "code",
      "source": [
        "bnb_config = BitsAndBytesConfig(\n",
        "    load_in_4bit = True,\n",
        "    load_4bit_use_double_quant = True,\n",
        "    bnb_4bit_quant_type = \"nf4\",\n",
        "    bnb_4bit_compute_dtype = torch.bfloat16,\n",
        ")"
      ],
      "metadata": {
        "colab": {
          "base_uri": "https://localhost:8080/"
        },
        "id": "p0YzxFPfDTAN",
        "outputId": "8737d814-8010-430b-f7f8-9ca1bef13f93"
      },
      "execution_count": 13,
      "outputs": [
        {
          "output_type": "stream",
          "name": "stderr",
          "text": [
            "Unused kwargs: ['load_4bit_use_double_quant']. These kwargs are not used in <class 'transformers.utils.quantization_config.BitsAndBytesConfig'>.\n"
          ]
        }
      ]
    },
    {
      "cell_type": "code",
      "source": [
        "model = AutoModelForCausalLM.from_pretrained(\n",
        "    model_id,\n",
        "    torch_dtype = torch.bfloat16,\n",
        "    trust_remote_code = True,\n",
        "    load_in_8bit = True,\n",
        "    device_map = \"auto\",\n",
        ")"
      ],
      "metadata": {
        "colab": {
          "base_uri": "https://localhost:8080/",
          "height": 137,
          "referenced_widgets": [
            "d28d6f1ec27b4b5a8ea7c7d1384f6539",
            "1b17f2a3bb77433db34dd2690eb636bc",
            "c42380331b834c66b82fe26397fae217",
            "c60985f5e21c4c7a891af1fd1ab64ab6",
            "559cd8d27498492ead40c347b54fb61e",
            "2a14b20aed03450b85dc9cfdcb8f39f9",
            "a5fc9dd56f6943dfa9f86c2920864458",
            "c07e2878a6e44d688431c1cd55c1f641",
            "fa8a01a3743042488cc173d09700e3a8",
            "f497f7cc755f4effa867a0b4d0095623",
            "bfe6d038d360492eb81d7449279feef2"
          ]
        },
        "id": "ddZtbpDUDTCU",
        "outputId": "e4558927-47c3-4c3e-d461-23cc6572c0c4"
      },
      "execution_count": 14,
      "outputs": [
        {
          "output_type": "stream",
          "name": "stderr",
          "text": [
            "WARNING:transformers_modules.tiiuae.falcon-7b-instruct.cf4b3c42ce2fdfe24f753f0f0d179202fea59c99.configuration_falcon:\n",
            "WARNING: You are currently loading Falcon using legacy code contained in the model repository. Falcon has now been fully ported into the Hugging Face transformers library. For the most up-to-date and high-performance version of the Falcon model code, please update to the latest version of transformers and then load the model without the trust_remote_code=True argument.\n",
            "\n",
            "The `load_in_4bit` and `load_in_8bit` arguments are deprecated and will be removed in the future versions. Please, pass a `BitsAndBytesConfig` object in `quantization_config` argument instead.\n"
          ]
        },
        {
          "output_type": "display_data",
          "data": {
            "text/plain": [
              "Loading checkpoint shards:   0%|          | 0/2 [00:00<?, ?it/s]"
            ],
            "application/vnd.jupyter.widget-view+json": {
              "version_major": 2,
              "version_minor": 0,
              "model_id": "d28d6f1ec27b4b5a8ea7c7d1384f6539"
            }
          },
          "metadata": {}
        }
      ]
    },
    {
      "cell_type": "markdown",
      "source": [
        "### d. Import Dataset"
      ],
      "metadata": {
        "id": "cprhA6YPCI64"
      }
    },
    {
      "cell_type": "code",
      "source": [
        "from datasets import load_dataset"
      ],
      "metadata": {
        "id": "B8eNg-B5CLMc"
      },
      "execution_count": 15,
      "outputs": []
    },
    {
      "cell_type": "code",
      "source": [
        "def generate_prompt(data_point):\n",
        "\n",
        "  return f\"\"\"<Human>: {data_point[\"Context\"]} <AI>: {data_point[\"Response\"]}\"\"\".strip()"
      ],
      "metadata": {
        "id": "JkjZi7jsCLOH"
      },
      "execution_count": 16,
      "outputs": []
    },
    {
      "cell_type": "code",
      "source": [
        "def generate_and_tokenize_prompt(data_point):\n",
        "\n",
        "  full_prompt = generate_prompt(data_point)\n",
        "\n",
        "  tokenized_full_prompt = tokenizer(full_prompt, padding = True, truncation = True)\n",
        "\n",
        "  return tokenized_full_prompt"
      ],
      "metadata": {
        "id": "sG4r5dWZCLQF"
      },
      "execution_count": 17,
      "outputs": []
    },
    {
      "cell_type": "code",
      "source": [
        "dataset_name = 'Amod/mental_health_counseling_conversations'"
      ],
      "metadata": {
        "id": "WCCK_SKFCLSq"
      },
      "execution_count": 18,
      "outputs": []
    },
    {
      "cell_type": "code",
      "source": [
        "dataset_train = load_dataset(dataset_name, split = \"train[:500]\")\n",
        "dataset_train = dataset_train.shuffle().map(generate_and_tokenize_prompt)"
      ],
      "metadata": {
        "colab": {
          "base_uri": "https://localhost:8080/",
          "height": 49,
          "referenced_widgets": [
            "19cef6def7b648cfa4b156545dc846ef",
            "5a19a1d006254ec8bc1b67c74134e42a",
            "10a4491397724f36af3209da970a9228",
            "8dda07f2662e4c17b5a54e190faffda7",
            "a7cf189bd7664e878352131d49d4ac69",
            "f067b4f4c1b7407b872b5da2538d24f4",
            "40c5eeb6986b42669d12dc56cbe25376",
            "08c2bca734e24f428da7e598bae945d8",
            "43d1a5e2fc6f458792797197fea36575",
            "7c34116310154c859d7cdbe6d1909ced",
            "5fcedd7057394a37b05bee0245918c85"
          ]
        },
        "id": "Dot0kunNCLUx",
        "outputId": "d3cad18b-ca41-466f-96dd-2a1c0b2f954a"
      },
      "execution_count": 19,
      "outputs": [
        {
          "output_type": "display_data",
          "data": {
            "text/plain": [
              "Map:   0%|          | 0/500 [00:00<?, ? examples/s]"
            ],
            "application/vnd.jupyter.widget-view+json": {
              "version_major": 2,
              "version_minor": 0,
              "model_id": "19cef6def7b648cfa4b156545dc846ef"
            }
          },
          "metadata": {}
        }
      ]
    },
    {
      "cell_type": "code",
      "source": [
        "len(dataset_train)"
      ],
      "metadata": {
        "colab": {
          "base_uri": "https://localhost:8080/"
        },
        "id": "-ug2wf2TdDUy",
        "outputId": "3ad16027-721a-4c47-e33d-e7bbec14d9d5"
      },
      "execution_count": 20,
      "outputs": [
        {
          "output_type": "execute_result",
          "data": {
            "text/plain": [
              "500"
            ]
          },
          "metadata": {},
          "execution_count": 20
        }
      ]
    },
    {
      "cell_type": "code",
      "source": [
        "dataset_val = load_dataset(dataset_name, split = \"train[2500:2600]\")\n",
        "dataset_val = dataset_val.shuffle().map(generate_and_tokenize_prompt)"
      ],
      "metadata": {
        "colab": {
          "base_uri": "https://localhost:8080/",
          "height": 49,
          "referenced_widgets": [
            "dafb3f6ea7044b62aa34a7996297e390",
            "235fc8c4f21e403f9aa9ae6c8206096a",
            "93688fc87f544d8083c72f5d3e9c428f",
            "2e295ff4a01e4efa838f12d097bb57ab",
            "3bce33e361e449009c503918188c37c6",
            "883295fed9c5467a84241ae02c24c0ba",
            "f3eb6363475740d4a84454805af47122",
            "38645de6ca214a19886b28ea908f8e08",
            "32be977b594345ff9b5f460be7172cf3",
            "028e0f5964a14842bb5ce417771e4016",
            "692105fced3d4ca089e87936981ddb36"
          ]
        },
        "id": "a_XWtXiACfEb",
        "outputId": "98c1b4f8-14ad-4cd9-e2c2-aa98647c4fe6"
      },
      "execution_count": 21,
      "outputs": [
        {
          "output_type": "display_data",
          "data": {
            "text/plain": [
              "Map:   0%|          | 0/100 [00:00<?, ? examples/s]"
            ],
            "application/vnd.jupyter.widget-view+json": {
              "version_major": 2,
              "version_minor": 0,
              "model_id": "dafb3f6ea7044b62aa34a7996297e390"
            }
          },
          "metadata": {}
        }
      ]
    },
    {
      "cell_type": "code",
      "source": [
        "len(dataset_val)"
      ],
      "metadata": {
        "colab": {
          "base_uri": "https://localhost:8080/"
        },
        "id": "JM8lbstldFK_",
        "outputId": "900b00a4-0cbe-49e4-9dc2-d63506253982"
      },
      "execution_count": 22,
      "outputs": [
        {
          "output_type": "execute_result",
          "data": {
            "text/plain": [
              "100"
            ]
          },
          "metadata": {},
          "execution_count": 22
        }
      ]
    },
    {
      "cell_type": "code",
      "source": [
        "dataset_test = load_dataset(dataset_name, split = \"train[3000:3100]\")\n",
        "dataset_test = dataset_test.shuffle().map(generate_and_tokenize_prompt)"
      ],
      "metadata": {
        "colab": {
          "base_uri": "https://localhost:8080/",
          "height": 49,
          "referenced_widgets": [
            "692df6695e59440486f46b59e18c6859",
            "b60e0140f1be45d1a3b7b05cb15b13a2",
            "2dee2022c2a642e6bf99e23ae46d8db7",
            "ddf1295971cb4bafaadeca50bf985065",
            "94e4ee10c23641ef9e52f1641f94d49a",
            "1995cd2e7d4449a0a54a7f0fe7159fb4",
            "edbdffee59f74d10aa1aa4b7aa79ad28",
            "718e8e4a7b3c41958d951029fdc47cf7",
            "6fde0f8eb65b4e98b11122df7f8e7d6f",
            "5cda8765cf824f35bbc7068e2f6544e1",
            "8850f62dffe44f60bf9d611d591ddd6f"
          ]
        },
        "id": "wG9DaxaVC-vY",
        "outputId": "88d2ecd6-a0a2-4923-ecaa-5cac55eedd17"
      },
      "execution_count": 23,
      "outputs": [
        {
          "output_type": "display_data",
          "data": {
            "text/plain": [
              "Map:   0%|          | 0/100 [00:00<?, ? examples/s]"
            ],
            "application/vnd.jupyter.widget-view+json": {
              "version_major": 2,
              "version_minor": 0,
              "model_id": "692df6695e59440486f46b59e18c6859"
            }
          },
          "metadata": {}
        }
      ]
    },
    {
      "cell_type": "code",
      "source": [
        "len(dataset_test)"
      ],
      "metadata": {
        "colab": {
          "base_uri": "https://localhost:8080/"
        },
        "id": "T8uqmyvLdGdE",
        "outputId": "732aeb80-95ed-4491-f8f5-f5b633552d81"
      },
      "execution_count": 24,
      "outputs": [
        {
          "output_type": "execute_result",
          "data": {
            "text/plain": [
              "100"
            ]
          },
          "metadata": {},
          "execution_count": 24
        }
      ]
    },
    {
      "cell_type": "markdown",
      "source": [
        "**See Dataset: Train**"
      ],
      "metadata": {
        "id": "lJkYMzfOIDmC"
      }
    },
    {
      "cell_type": "code",
      "source": [
        "dataset_train[0]['Context']"
      ],
      "metadata": {
        "colab": {
          "base_uri": "https://localhost:8080/",
          "height": 52
        },
        "id": "R_NteaAPH-CI",
        "outputId": "f0b821f7-1163-4439-98c6-75209f10c550"
      },
      "execution_count": 25,
      "outputs": [
        {
          "output_type": "execute_result",
          "data": {
            "text/plain": [
              "\"I have these dreams of men, and they always seem to try to hurt me. It's gotten so bad that I first wake at 4:30, then 4:45, and finally stay awake by 6:00. I'm always the last one to fall asleep and the first to wake. I hate falling asleep. The longest I've went without sleep is three days.\""
            ],
            "application/vnd.google.colaboratory.intrinsic+json": {
              "type": "string"
            }
          },
          "metadata": {},
          "execution_count": 25
        }
      ]
    },
    {
      "cell_type": "code",
      "source": [
        "dataset_train[0]['Response']"
      ],
      "metadata": {
        "colab": {
          "base_uri": "https://localhost:8080/",
          "height": 120
        },
        "id": "ICzjmew3IBmj",
        "outputId": "8350fcc6-ccb2-4449-93b7-220610a22331"
      },
      "execution_count": 26,
      "outputs": [
        {
          "output_type": "execute_result",
          "data": {
            "text/plain": [
              "\"That is awful! I am sure you are ready to start getting some rest. It's normal for us to wake a few times in the night, however, when we are dealing with high anxiety or stress, those times can turn into being up most night. Given that you are having these repeated dreams, I am wondering what might be going on in your life either now\\xa0 or in the past that could be triggering stress or maybe memories. It can help to draw the dream out in the morning or even to look for metaphor. In the long run, seeking counseling can help you sort all that outIn the meantime, self-soothing strategies may help you in the night when you wake and can't get back to sleep. This can be anything with your senses----getting a snack like tea and focusing on that taste, smelling something pleasant, listening to some relaxing music, looking through a magazine, taking a shower. Anything you can think of that might help you relax. If it involves needing to get up, that's okay! Getting out of bed can actually help you get out of that mind space and helps you associate your bed with relaxation/sleep vs anxiety making it more likely you will fall asleep once\\xa0 you lay down.\""
            ],
            "application/vnd.google.colaboratory.intrinsic+json": {
              "type": "string"
            }
          },
          "metadata": {},
          "execution_count": 26
        }
      ]
    },
    {
      "cell_type": "markdown",
      "source": [
        "**See Dataset: Val**"
      ],
      "metadata": {
        "id": "AJtPPg0dIPip"
      }
    },
    {
      "cell_type": "code",
      "source": [
        "dataset_val[0]['Context']"
      ],
      "metadata": {
        "colab": {
          "base_uri": "https://localhost:8080/",
          "height": 52
        },
        "outputId": "92d75c15-7a99-44ed-dd43-046fd12abc2f",
        "id": "LXWodGvEIPiq"
      },
      "execution_count": 27,
      "outputs": [
        {
          "output_type": "execute_result",
          "data": {
            "text/plain": [
              "\"I'm almost never happy. Half of the time, I don't feel anything. I find it easy to make myself feel nothing. I know I push people away because it’s easier. I just want answers. I'm sick of feeling this way. It’s ruining my relationships with people.\""
            ],
            "application/vnd.google.colaboratory.intrinsic+json": {
              "type": "string"
            }
          },
          "metadata": {},
          "execution_count": 27
        }
      ]
    },
    {
      "cell_type": "code",
      "source": [
        "dataset_val[0]['Response']"
      ],
      "metadata": {
        "colab": {
          "base_uri": "https://localhost:8080/",
          "height": 86
        },
        "outputId": "97dfd6b4-54cd-4468-b51c-5130d03ed6d2",
        "id": "Am9EP5m_IPir"
      },
      "execution_count": 28,
      "outputs": [
        {
          "output_type": "execute_result",
          "data": {
            "text/plain": [
              "'Maybe you have depression.The name of your condition matters much less than the descriptions you wrote of how you feel.Since you\\'ve observed how you sometimes interact with people and realize you aren\\'t happy with the result, you\\'ve a very solid starting point for reflecting on your deeper wishes in relating to others.Start with asking reasons of yourself about the puzzling aspects of how you\\'re engaging with others.Theorizing as to \"why\" you feel that pushing people away is \"easier\", and easier than what?Googling the keywords of how you feel, may open a starting point for ideas on knowing yourself and what you wish for.'"
            ],
            "application/vnd.google.colaboratory.intrinsic+json": {
              "type": "string"
            }
          },
          "metadata": {},
          "execution_count": 28
        }
      ]
    },
    {
      "cell_type": "markdown",
      "source": [
        "**See Dataset: Test**"
      ],
      "metadata": {
        "id": "Wy9g-0w3IU8S"
      }
    },
    {
      "cell_type": "code",
      "source": [
        "dataset_test[0]['Context']"
      ],
      "metadata": {
        "colab": {
          "base_uri": "https://localhost:8080/",
          "height": 52
        },
        "outputId": "abb3523b-1366-4356-bb40-bd49b532651d",
        "id": "GJLZQqc3IU8T"
      },
      "execution_count": 29,
      "outputs": [
        {
          "output_type": "execute_result",
          "data": {
            "text/plain": [
              "\"How do therapists classify the type of personality their clients have?  What characteristics do they look at to decide what type of personality the client has? I've read about this online, but I'd like to understand this from a therapist's point of view.\""
            ],
            "application/vnd.google.colaboratory.intrinsic+json": {
              "type": "string"
            }
          },
          "metadata": {},
          "execution_count": 29
        }
      ]
    },
    {
      "cell_type": "code",
      "source": [
        "dataset_test[0]['Response']"
      ],
      "metadata": {
        "colab": {
          "base_uri": "https://localhost:8080/",
          "height": 86
        },
        "outputId": "3b3c0f2a-7b6f-4cbe-c63b-d2aae105442f",
        "id": "C8p2oGbIIU8U"
      },
      "execution_count": 30,
      "outputs": [
        {
          "output_type": "execute_result",
          "data": {
            "text/plain": [
              "'That\\'s a great question. There is such a wide range of ways to define \"personality\" that it is difficult to identify specific characteristics that are used to identify personality types.That being said, some clinicians will use standardized tests (or assessments) to assess a client\\'s type of personality. While these tests can\\'t tell us everything about a person, they can help us understand where we are within larger groups of different personality styles.Some counselors will also use a diagnostic tool (like the DSM or ICD) to help a client understand a diagnosis that is related to a personality disorder.'"
            ],
            "application/vnd.google.colaboratory.intrinsic+json": {
              "type": "string"
            }
          },
          "metadata": {},
          "execution_count": 30
        }
      ]
    },
    {
      "cell_type": "markdown",
      "source": [
        "### e. Inference"
      ],
      "metadata": {
        "id": "OXb9F6vZHalb"
      }
    },
    {
      "cell_type": "code",
      "source": [
        "def inference_model(model, tokenizer, text):\n",
        "\n",
        "  pipeline = transformers.pipeline(\n",
        "      \"text-generation\",\n",
        "      model = model,\n",
        "      tokenizer = tokenizer\n",
        "      )\n",
        "\n",
        "  sequences = pipeline(\n",
        "      text,\n",
        "      max_length = 200,\n",
        "      do_sample = True,\n",
        "      top_k = 10,\n",
        "      num_return_sequences = 1,\n",
        "      eos_token_id=tokenizer.eos_token_id,\n",
        "      truncation = True,\n",
        "      use_cache = False\n",
        "      )\n",
        "\n",
        "  all_txt = \"\"\n",
        "\n",
        "  for seq in sequences:\n",
        "\n",
        "    all_txt = all_txt + seq['generated_text']\n",
        "\n",
        "  return all_txt"
      ],
      "metadata": {
        "id": "kwP2rSCuCfRU"
      },
      "execution_count": 31,
      "outputs": []
    },
    {
      "cell_type": "markdown",
      "source": [
        "**Train**"
      ],
      "metadata": {
        "id": "UFU97xiRIlYB"
      }
    },
    {
      "cell_type": "code",
      "source": [
        "inf_train = inference_model(model, tokenizer, dataset_train[0]['Context'])"
      ],
      "metadata": {
        "id": "5uPD3vRsCfTb"
      },
      "execution_count": 32,
      "outputs": []
    },
    {
      "cell_type": "markdown",
      "source": [
        "a. Context"
      ],
      "metadata": {
        "id": "cSoFB2rjJnR-"
      }
    },
    {
      "cell_type": "code",
      "source": [
        "print(dataset_train[0]['Context'])"
      ],
      "metadata": {
        "colab": {
          "base_uri": "https://localhost:8080/"
        },
        "id": "6KjfDIxtJpau",
        "outputId": "90ef34cb-9564-4e17-c349-4e2573ae9210"
      },
      "execution_count": 33,
      "outputs": [
        {
          "output_type": "stream",
          "name": "stdout",
          "text": [
            "I have these dreams of men, and they always seem to try to hurt me. It's gotten so bad that I first wake at 4:30, then 4:45, and finally stay awake by 6:00. I'm always the last one to fall asleep and the first to wake. I hate falling asleep. The longest I've went without sleep is three days.\n"
          ]
        }
      ]
    },
    {
      "cell_type": "markdown",
      "source": [
        "b. Answer"
      ],
      "metadata": {
        "id": "j8WHct1aJqwl"
      }
    },
    {
      "cell_type": "code",
      "source": [
        "print(dataset_train[0]['Response'])"
      ],
      "metadata": {
        "colab": {
          "base_uri": "https://localhost:8080/"
        },
        "id": "zwUiG2B8JlWy",
        "outputId": "e2172e50-1d9e-43fd-8cc7-1ca83fd2d217"
      },
      "execution_count": 34,
      "outputs": [
        {
          "output_type": "stream",
          "name": "stdout",
          "text": [
            "That is awful! I am sure you are ready to start getting some rest. It's normal for us to wake a few times in the night, however, when we are dealing with high anxiety or stress, those times can turn into being up most night. Given that you are having these repeated dreams, I am wondering what might be going on in your life either now  or in the past that could be triggering stress or maybe memories. It can help to draw the dream out in the morning or even to look for metaphor. In the long run, seeking counseling can help you sort all that outIn the meantime, self-soothing strategies may help you in the night when you wake and can't get back to sleep. This can be anything with your senses----getting a snack like tea and focusing on that taste, smelling something pleasant, listening to some relaxing music, looking through a magazine, taking a shower. Anything you can think of that might help you relax. If it involves needing to get up, that's okay! Getting out of bed can actually help you get out of that mind space and helps you associate your bed with relaxation/sleep vs anxiety making it more likely you will fall asleep once  you lay down.\n"
          ]
        }
      ]
    },
    {
      "cell_type": "code",
      "source": [
        "print(inf_train)"
      ],
      "metadata": {
        "colab": {
          "base_uri": "https://localhost:8080/"
        },
        "id": "VzCrhrfVCfVg",
        "outputId": "2eafe648-0836-4d0f-c3f0-000a865b8ce0"
      },
      "execution_count": 35,
      "outputs": [
        {
          "output_type": "stream",
          "name": "stdout",
          "text": [
            "I have these dreams of men, and they always seem to try to hurt me. It's gotten so bad that I first wake at 4:30, then 4:45, and finally stay awake by 6:00. I'm always the last one to fall asleep and the first to wake. I hate falling asleep. The longest I've went without sleep is three days. I'm not joking. I'm not exaggerating.\n",
            "I have been struggling with insomnia. I am now in the sixth grade. It is a problem with me not being able to fall asleep and stay asleep, especially in the school night.\n",
            "I am a middle schooler and this is not the time for me to be having nightmares. I have had many nights where I am unable to sleep because of the nightmares. It's like being awake and trying to sleep. My mind is too active in thinking that I can sleep. The only way to sleep is to go\n"
          ]
        }
      ]
    },
    {
      "cell_type": "markdown",
      "source": [
        "**Val**"
      ],
      "metadata": {
        "id": "NjJXEVw3J2lk"
      }
    },
    {
      "cell_type": "code",
      "source": [
        "inf_val = inference_model(model, tokenizer, dataset_val[0]['Context'])"
      ],
      "metadata": {
        "id": "NJwNgKLkJ2lm"
      },
      "execution_count": 36,
      "outputs": []
    },
    {
      "cell_type": "markdown",
      "source": [
        "a. Context"
      ],
      "metadata": {
        "id": "BM5mUNfeJ2lo"
      }
    },
    {
      "cell_type": "code",
      "source": [
        "print(dataset_val[0]['Context'])"
      ],
      "metadata": {
        "colab": {
          "base_uri": "https://localhost:8080/"
        },
        "outputId": "7ad6ee97-a110-4afd-f6ef-fac9f7929eb0",
        "id": "huaFXws8J2lp"
      },
      "execution_count": 37,
      "outputs": [
        {
          "output_type": "stream",
          "name": "stdout",
          "text": [
            "I'm almost never happy. Half of the time, I don't feel anything. I find it easy to make myself feel nothing. I know I push people away because it’s easier. I just want answers. I'm sick of feeling this way. It’s ruining my relationships with people.\n"
          ]
        }
      ]
    },
    {
      "cell_type": "markdown",
      "source": [
        "b. Answer"
      ],
      "metadata": {
        "id": "UC0ihnutJ2lq"
      }
    },
    {
      "cell_type": "code",
      "source": [
        "print(dataset_val[0]['Response'])"
      ],
      "metadata": {
        "colab": {
          "base_uri": "https://localhost:8080/"
        },
        "outputId": "2c2aef1e-fda4-468f-d27a-d232819afcc8",
        "id": "tNDsmE9ZJ2lq"
      },
      "execution_count": 38,
      "outputs": [
        {
          "output_type": "stream",
          "name": "stdout",
          "text": [
            "Maybe you have depression.The name of your condition matters much less than the descriptions you wrote of how you feel.Since you've observed how you sometimes interact with people and realize you aren't happy with the result, you've a very solid starting point for reflecting on your deeper wishes in relating to others.Start with asking reasons of yourself about the puzzling aspects of how you're engaging with others.Theorizing as to \"why\" you feel that pushing people away is \"easier\", and easier than what?Googling the keywords of how you feel, may open a starting point for ideas on knowing yourself and what you wish for.\n"
          ]
        }
      ]
    },
    {
      "cell_type": "code",
      "source": [
        "print(inf_val)"
      ],
      "metadata": {
        "colab": {
          "base_uri": "https://localhost:8080/"
        },
        "outputId": "cb9740c1-88df-4199-e5ed-b9b1979f2fb8",
        "id": "G_mipPq-J2lr"
      },
      "execution_count": 39,
      "outputs": [
        {
          "output_type": "stream",
          "name": "stdout",
          "text": [
            "I'm almost never happy. Half of the time, I don't feel anything. I find it easy to make myself feel nothing. I know I push people away because it’s easier. I just want answers. I'm sick of feeling this way. It’s ruining my relationships with people. But I’m also afraid of being happy. What if I'm too happy and something bad happens? I just want happiness without that fear, and I know it’s impossible to do that. I'm just sick of feeling this way.\n",
            "I don't know if I could be happy without medication or if it would even be possible.\n",
            "<p>If you're currently seeking help from a medical professional, I recommend discussing this concern with them during your appointments and working on addressing any underlying issues related to your mental health. It's also important to prioritize self-care practices such as meditation, exercise, and therapy in addition to any medications you\n"
          ]
        }
      ]
    },
    {
      "cell_type": "markdown",
      "source": [
        "**Test**"
      ],
      "metadata": {
        "id": "MeHerb2yKV2h"
      }
    },
    {
      "cell_type": "code",
      "source": [
        "inf_test = inference_model(model, tokenizer, dataset_test[0]['Context'])"
      ],
      "metadata": {
        "id": "fiCXQidDKV2i"
      },
      "execution_count": 40,
      "outputs": []
    },
    {
      "cell_type": "markdown",
      "source": [
        "a. Context"
      ],
      "metadata": {
        "id": "mT7kE1PiKV2i"
      }
    },
    {
      "cell_type": "code",
      "source": [
        "print(dataset_test[0]['Context'])"
      ],
      "metadata": {
        "colab": {
          "base_uri": "https://localhost:8080/"
        },
        "outputId": "d4337992-57df-49ff-8c0c-f7a60c227b7e",
        "id": "YeFw229kKV2i"
      },
      "execution_count": 41,
      "outputs": [
        {
          "output_type": "stream",
          "name": "stdout",
          "text": [
            "How do therapists classify the type of personality their clients have?  What characteristics do they look at to decide what type of personality the client has? I've read about this online, but I'd like to understand this from a therapist's point of view.\n"
          ]
        }
      ]
    },
    {
      "cell_type": "markdown",
      "source": [
        "b. Answer"
      ],
      "metadata": {
        "id": "Wc0nyjoCKV2i"
      }
    },
    {
      "cell_type": "code",
      "source": [
        "print(dataset_test[0]['Response'])"
      ],
      "metadata": {
        "colab": {
          "base_uri": "https://localhost:8080/"
        },
        "outputId": "3096ca6e-c7dc-42bc-ee61-02e483616bee",
        "id": "uwTVxk7lKV2i"
      },
      "execution_count": 42,
      "outputs": [
        {
          "output_type": "stream",
          "name": "stdout",
          "text": [
            "That's a great question. There is such a wide range of ways to define \"personality\" that it is difficult to identify specific characteristics that are used to identify personality types.That being said, some clinicians will use standardized tests (or assessments) to assess a client's type of personality. While these tests can't tell us everything about a person, they can help us understand where we are within larger groups of different personality styles.Some counselors will also use a diagnostic tool (like the DSM or ICD) to help a client understand a diagnosis that is related to a personality disorder.\n"
          ]
        }
      ]
    },
    {
      "cell_type": "code",
      "source": [
        "print(inf_test)"
      ],
      "metadata": {
        "colab": {
          "base_uri": "https://localhost:8080/"
        },
        "outputId": "662f4c61-e613-4fb9-d7bf-78dccb882e84",
        "id": "hEKC1zYWKV2j"
      },
      "execution_count": 43,
      "outputs": [
        {
          "output_type": "stream",
          "name": "stdout",
          "text": [
            "How do therapists classify the type of personality their clients have?  What characteristics do they look at to decide what type of personality the client has? I've read about this online, but I'd like to understand this from a therapist's point of view.\n",
            "Therapists use a variety of techniques and tools to assess their clients. One common technique is to use a personality test, which can be administered in a session or sent for the client to complete. The test can measure a variety of traits and behaviors, such as extroversion-introversion, openness-extroversion, and conscientiousness-spontaneity. In addition to these tests, therapists may also look at their client's communication style and the way they react in different situations. Some therapists may also consider the client's past experiences and how these may have contributed to their current personality. Overall, the goal of the classification is to gain insight into the client's strengths and weaknesses and provide\n"
          ]
        }
      ]
    },
    {
      "cell_type": "markdown",
      "source": [
        "### f. QLoRA"
      ],
      "metadata": {
        "id": "qV1OUFLbL4z-"
      }
    },
    {
      "cell_type": "code",
      "source": [
        "generation_config = model.generation_config\n",
        "generation_config.max_new_tokens = 200\n",
        "generation_config.temperature = 0.7\n",
        "generation_config.top_p = 0.7\n",
        "generation_config.num_return_sequences = 1\n",
        "generation_config.pad_token_id = tokenizer.eos_token_id\n",
        "generation_config.eos_token_id = tokenizer.eos_token_id"
      ],
      "metadata": {
        "id": "dWyY2LSFs1Ss"
      },
      "execution_count": 44,
      "outputs": []
    },
    {
      "cell_type": "code",
      "source": [
        "model = prepare_model_for_kbit_training(model)"
      ],
      "metadata": {
        "id": "IjGPw3n-s1ZE",
        "colab": {
          "base_uri": "https://localhost:8080/"
        },
        "outputId": "d11afd16-3530-4bf2-882d-15c9823f1218"
      },
      "execution_count": 45,
      "outputs": [
        {
          "output_type": "stream",
          "name": "stderr",
          "text": [
            "You are using an old version of the checkpointing format that is deprecated (We will also silently ignore `gradient_checkpointing_kwargs` in case you passed it).Please update to the new format on your modeling file. To use the new format, you need to completely remove the definition of the method `_set_gradient_checkpointing` in your model.\n"
          ]
        }
      ]
    },
    {
      "cell_type": "code",
      "source": [
        "config = LoraConfig(\n",
        "    r = 16,\n",
        "    lora_alpha = 32,\n",
        "    target_modules = [\"query_key_value\"],\n",
        "    lora_dropout = 0.05,\n",
        "    bias = \"none\",\n",
        "    task_type = \"CAUSAL_LM\"\n",
        "    )"
      ],
      "metadata": {
        "id": "2YpCt62DL16C"
      },
      "execution_count": 46,
      "outputs": []
    },
    {
      "cell_type": "code",
      "source": [
        "model = get_peft_model(model, config)"
      ],
      "metadata": {
        "id": "JC_HPBJUL18C"
      },
      "execution_count": 47,
      "outputs": []
    },
    {
      "cell_type": "code",
      "source": [
        "OUTPUT_DIR = 'experiments'"
      ],
      "metadata": {
        "id": "K9iainSCL1-I"
      },
      "execution_count": 48,
      "outputs": []
    },
    {
      "cell_type": "code",
      "source": [
        "num_epochs = 3"
      ],
      "metadata": {
        "id": "8s9TQfSSMXn1"
      },
      "execution_count": 49,
      "outputs": []
    },
    {
      "cell_type": "code",
      "source": [
        "training_args = transformers.TrainingArguments(\n",
        "    auto_find_batch_size = True,\n",
        "    num_train_epochs = num_epochs,\n",
        "    learning_rate = 2e-4,\n",
        "    bf16 = True,\n",
        "    save_total_limit = 4,\n",
        "    logging_steps = 10,\n",
        "    output_dir = OUTPUT_DIR,\n",
        "    save_strategy = 'epoch',\n",
        "    do_eval = True,\n",
        "    logging_strategy = \"epoch\",\n",
        "    evaluation_strategy = \"epoch\"\n",
        ")"
      ],
      "metadata": {
        "id": "SvP_DNTPL2AQ"
      },
      "execution_count": 50,
      "outputs": []
    },
    {
      "cell_type": "code",
      "source": [
        "trainer = transformers.Trainer(\n",
        "    model = model,\n",
        "    train_dataset = dataset_train,\n",
        "    eval_dataset = dataset_val,\n",
        "    args = training_args,\n",
        "    data_collator = transformers.DataCollatorForLanguageModeling(tokenizer, mlm = False)\n",
        "    )"
      ],
      "metadata": {
        "id": "4LYekF02L2DG"
      },
      "execution_count": 51,
      "outputs": []
    },
    {
      "cell_type": "code",
      "source": [
        "model.config.use_cache = False"
      ],
      "metadata": {
        "id": "MK_aJMoLL2GD"
      },
      "execution_count": 52,
      "outputs": []
    },
    {
      "cell_type": "markdown",
      "source": [
        "### g. Train"
      ],
      "metadata": {
        "id": "CeaUKxuJMq3t"
      }
    },
    {
      "cell_type": "code",
      "source": [
        "trainer.train()"
      ],
      "metadata": {
        "id": "FxUupWiJvmVd",
        "colab": {
          "base_uri": "https://localhost:8080/",
          "height": 202
        },
        "outputId": "227cefba-1abf-4ac3-befe-74197beafc12"
      },
      "execution_count": 53,
      "outputs": [
        {
          "output_type": "display_data",
          "data": {
            "text/plain": [
              "<IPython.core.display.HTML object>"
            ],
            "text/html": [
              "\n",
              "    <div>\n",
              "      \n",
              "      <progress value='189' max='189' style='width:300px; height:20px; vertical-align: middle;'></progress>\n",
              "      [189/189 15:07, Epoch 3/3]\n",
              "    </div>\n",
              "    <table border=\"1\" class=\"dataframe\">\n",
              "  <thead>\n",
              " <tr style=\"text-align: left;\">\n",
              "      <th>Epoch</th>\n",
              "      <th>Training Loss</th>\n",
              "      <th>Validation Loss</th>\n",
              "    </tr>\n",
              "  </thead>\n",
              "  <tbody>\n",
              "    <tr>\n",
              "      <td>1</td>\n",
              "      <td>2.478200</td>\n",
              "      <td>2.495560</td>\n",
              "    </tr>\n",
              "    <tr>\n",
              "      <td>2</td>\n",
              "      <td>2.256400</td>\n",
              "      <td>2.481182</td>\n",
              "    </tr>\n",
              "    <tr>\n",
              "      <td>3</td>\n",
              "      <td>2.148700</td>\n",
              "      <td>2.473912</td>\n",
              "    </tr>\n",
              "  </tbody>\n",
              "</table><p>"
            ]
          },
          "metadata": {}
        },
        {
          "output_type": "execute_result",
          "data": {
            "text/plain": [
              "TrainOutput(global_step=189, training_loss=2.2944562800977595, metrics={'train_runtime': 915.0597, 'train_samples_per_second': 1.639, 'train_steps_per_second': 0.207, 'total_flos': 3.336805015515648e+16, 'train_loss': 2.2944562800977595, 'epoch': 3.0})"
            ]
          },
          "metadata": {},
          "execution_count": 53
        }
      ]
    },
    {
      "cell_type": "markdown",
      "source": [
        "### h. Evaluation"
      ],
      "metadata": {
        "id": "bIyII4IoM5dN"
      }
    },
    {
      "cell_type": "code",
      "source": [
        "trainer.evaluate(dataset_train)"
      ],
      "metadata": {
        "id": "mB0QC4wjM-zI",
        "colab": {
          "base_uri": "https://localhost:8080/",
          "height": 122
        },
        "outputId": "09f5792a-310f-4c19-8612-49b74be9ffb6"
      },
      "execution_count": 54,
      "outputs": [
        {
          "output_type": "display_data",
          "data": {
            "text/plain": [
              "<IPython.core.display.HTML object>"
            ],
            "text/html": [
              "\n",
              "    <div>\n",
              "      \n",
              "      <progress value='63' max='63' style='width:300px; height:20px; vertical-align: middle;'></progress>\n",
              "      [63/63 00:38]\n",
              "    </div>\n",
              "    "
            ]
          },
          "metadata": {}
        },
        {
          "output_type": "execute_result",
          "data": {
            "text/plain": [
              "{'eval_loss': 2.1242246627807617,\n",
              " 'eval_runtime': 38.8858,\n",
              " 'eval_samples_per_second': 12.858,\n",
              " 'eval_steps_per_second': 1.62,\n",
              " 'epoch': 3.0}"
            ]
          },
          "metadata": {},
          "execution_count": 54
        }
      ]
    },
    {
      "cell_type": "code",
      "source": [
        "trainer.evaluate(dataset_val)"
      ],
      "metadata": {
        "id": "avXfDqOaNDKT",
        "colab": {
          "base_uri": "https://localhost:8080/",
          "height": 122
        },
        "outputId": "b47949bc-1980-4e8b-da47-ed2300e12a80"
      },
      "execution_count": 55,
      "outputs": [
        {
          "output_type": "display_data",
          "data": {
            "text/plain": [
              "<IPython.core.display.HTML object>"
            ],
            "text/html": [
              "\n",
              "    <div>\n",
              "      \n",
              "      <progress value='76' max='63' style='width:300px; height:20px; vertical-align: middle;'></progress>\n",
              "      [63/63 00:47]\n",
              "    </div>\n",
              "    "
            ]
          },
          "metadata": {}
        },
        {
          "output_type": "execute_result",
          "data": {
            "text/plain": [
              "{'eval_loss': 2.473912000656128,\n",
              " 'eval_runtime': 9.7102,\n",
              " 'eval_samples_per_second': 10.298,\n",
              " 'eval_steps_per_second': 1.339,\n",
              " 'epoch': 3.0}"
            ]
          },
          "metadata": {},
          "execution_count": 55
        }
      ]
    },
    {
      "cell_type": "code",
      "source": [
        "trainer.evaluate(dataset_test)"
      ],
      "metadata": {
        "id": "T3071i1eNFDt",
        "colab": {
          "base_uri": "https://localhost:8080/",
          "height": 122
        },
        "outputId": "671e6887-8862-4c9d-c846-4ebfd93899d5"
      },
      "execution_count": 56,
      "outputs": [
        {
          "output_type": "display_data",
          "data": {
            "text/plain": [
              "<IPython.core.display.HTML object>"
            ],
            "text/html": [
              "\n",
              "    <div>\n",
              "      \n",
              "      <progress value='89' max='63' style='width:300px; height:20px; vertical-align: middle;'></progress>\n",
              "      [63/63 00:56]\n",
              "    </div>\n",
              "    "
            ]
          },
          "metadata": {}
        },
        {
          "output_type": "execute_result",
          "data": {
            "text/plain": [
              "{'eval_loss': 2.3742706775665283,\n",
              " 'eval_runtime': 8.6827,\n",
              " 'eval_samples_per_second': 11.517,\n",
              " 'eval_steps_per_second': 1.497,\n",
              " 'epoch': 3.0}"
            ]
          },
          "metadata": {},
          "execution_count": 56
        }
      ]
    },
    {
      "cell_type": "markdown",
      "source": [
        "### i. Inference"
      ],
      "metadata": {
        "id": "hqqMfRTTMwcp"
      }
    },
    {
      "cell_type": "markdown",
      "source": [
        "**Train**"
      ],
      "metadata": {
        "id": "nxx3q7AmSeZA"
      }
    },
    {
      "cell_type": "code",
      "source": [
        "inf_train = inference_model(model, tokenizer, dataset_train[0]['Context'])"
      ],
      "metadata": {
        "colab": {
          "base_uri": "https://localhost:8080/"
        },
        "id": "tO_r1SKpSeZC",
        "outputId": "85e46874-ecd9-42eb-f1ec-667ef9f13c5c"
      },
      "execution_count": 57,
      "outputs": [
        {
          "output_type": "stream",
          "name": "stderr",
          "text": [
            "The model 'PeftModelForCausalLM' is not supported for text-generation. Supported models are ['BartForCausalLM', 'BertLMHeadModel', 'BertGenerationDecoder', 'BigBirdForCausalLM', 'BigBirdPegasusForCausalLM', 'BioGptForCausalLM', 'BlenderbotForCausalLM', 'BlenderbotSmallForCausalLM', 'BloomForCausalLM', 'CamembertForCausalLM', 'LlamaForCausalLM', 'CodeGenForCausalLM', 'CohereForCausalLM', 'CpmAntForCausalLM', 'CTRLLMHeadModel', 'Data2VecTextForCausalLM', 'DbrxForCausalLM', 'ElectraForCausalLM', 'ErnieForCausalLM', 'FalconForCausalLM', 'FuyuForCausalLM', 'GemmaForCausalLM', 'GitForCausalLM', 'GPT2LMHeadModel', 'GPT2LMHeadModel', 'GPTBigCodeForCausalLM', 'GPTNeoForCausalLM', 'GPTNeoXForCausalLM', 'GPTNeoXJapaneseForCausalLM', 'GPTJForCausalLM', 'JambaForCausalLM', 'LlamaForCausalLM', 'MambaForCausalLM', 'MarianForCausalLM', 'MBartForCausalLM', 'MegaForCausalLM', 'MegatronBertForCausalLM', 'MistralForCausalLM', 'MixtralForCausalLM', 'MptForCausalLM', 'MusicgenForCausalLM', 'MusicgenMelodyForCausalLM', 'MvpForCausalLM', 'OlmoForCausalLM', 'OpenLlamaForCausalLM', 'OpenAIGPTLMHeadModel', 'OPTForCausalLM', 'PegasusForCausalLM', 'PersimmonForCausalLM', 'PhiForCausalLM', 'PLBartForCausalLM', 'ProphetNetForCausalLM', 'QDQBertLMHeadModel', 'Qwen2ForCausalLM', 'Qwen2MoeForCausalLM', 'RecurrentGemmaForCausalLM', 'ReformerModelWithLMHead', 'RemBertForCausalLM', 'RobertaForCausalLM', 'RobertaPreLayerNormForCausalLM', 'RoCBertForCausalLM', 'RoFormerForCausalLM', 'RwkvForCausalLM', 'Speech2Text2ForCausalLM', 'StableLmForCausalLM', 'Starcoder2ForCausalLM', 'TransfoXLLMHeadModel', 'TrOCRForCausalLM', 'WhisperForCausalLM', 'XGLMForCausalLM', 'XLMWithLMHeadModel', 'XLMProphetNetForCausalLM', 'XLMRobertaForCausalLM', 'XLMRobertaXLForCausalLM', 'XLNetLMHeadModel', 'XmodForCausalLM', 'FalconForCausalLM'].\n",
            "Both `max_new_tokens` (=200) and `max_length`(=200) seem to have been set. `max_new_tokens` will take precedence. Please refer to the documentation for more information. (https://huggingface.co/docs/transformers/main/en/main_classes/text_generation)\n"
          ]
        }
      ]
    },
    {
      "cell_type": "markdown",
      "source": [
        "a. Context"
      ],
      "metadata": {
        "id": "L7wfSLekSeZD"
      }
    },
    {
      "cell_type": "code",
      "source": [
        "print(dataset_train[0]['Context'])"
      ],
      "metadata": {
        "colab": {
          "base_uri": "https://localhost:8080/"
        },
        "outputId": "3285fb2b-285b-430e-aab2-5e7743d2c347",
        "id": "d5jz024NSeZE"
      },
      "execution_count": 58,
      "outputs": [
        {
          "output_type": "stream",
          "name": "stdout",
          "text": [
            "I have these dreams of men, and they always seem to try to hurt me. It's gotten so bad that I first wake at 4:30, then 4:45, and finally stay awake by 6:00. I'm always the last one to fall asleep and the first to wake. I hate falling asleep. The longest I've went without sleep is three days.\n"
          ]
        }
      ]
    },
    {
      "cell_type": "markdown",
      "source": [
        "b. Answer"
      ],
      "metadata": {
        "id": "cUNzvyjgSeZE"
      }
    },
    {
      "cell_type": "code",
      "source": [
        "print(dataset_train[0]['Response'])"
      ],
      "metadata": {
        "colab": {
          "base_uri": "https://localhost:8080/"
        },
        "outputId": "33736bf3-09ac-49b4-9153-b89b1980a66b",
        "id": "hbUWE6WvSeZE"
      },
      "execution_count": 59,
      "outputs": [
        {
          "output_type": "stream",
          "name": "stdout",
          "text": [
            "That is awful! I am sure you are ready to start getting some rest. It's normal for us to wake a few times in the night, however, when we are dealing with high anxiety or stress, those times can turn into being up most night. Given that you are having these repeated dreams, I am wondering what might be going on in your life either now  or in the past that could be triggering stress or maybe memories. It can help to draw the dream out in the morning or even to look for metaphor. In the long run, seeking counseling can help you sort all that outIn the meantime, self-soothing strategies may help you in the night when you wake and can't get back to sleep. This can be anything with your senses----getting a snack like tea and focusing on that taste, smelling something pleasant, listening to some relaxing music, looking through a magazine, taking a shower. Anything you can think of that might help you relax. If it involves needing to get up, that's okay! Getting out of bed can actually help you get out of that mind space and helps you associate your bed with relaxation/sleep vs anxiety making it more likely you will fall asleep once  you lay down.\n"
          ]
        }
      ]
    },
    {
      "cell_type": "code",
      "source": [
        "print(inf_train)"
      ],
      "metadata": {
        "colab": {
          "base_uri": "https://localhost:8080/"
        },
        "outputId": "57939d7e-f99f-4670-b8dc-f71b732a4112",
        "id": "dIJM5gwuSeZE"
      },
      "execution_count": 60,
      "outputs": [
        {
          "output_type": "stream",
          "name": "stdout",
          "text": [
            "I have these dreams of men, and they always seem to try to hurt me. It's gotten so bad that I first wake at 4:30, then 4:45, and finally stay awake by 6:00. I'm always the last one to fall asleep and the first to wake. I hate falling asleep. The longest I've went without sleep is three days. I don't know what's wrong with me. I'm not depressed. I'm not anxious. I'm not worried about anything. I'm just tired of being awake at night. I'm a 21 year old woman. I'm a student. I'm a student who works full time and takes care of my little sister. I'm a good girl, but I can't sleep. I can't fall asleep. I can't fall asleep. I can't fall asleep. I can't fall asleep. I can't fall asleep. I can't fall asleep. I can't fall asleep. I can't fall asleep. I can't fall asleep. I can't fall asleep. I can't fall asleep. I can't fall asleep. I can't fall asleep. I can't fall asleep. I can't fall asleep. I can't fall\n"
          ]
        }
      ]
    },
    {
      "cell_type": "markdown",
      "source": [
        "**Val**"
      ],
      "metadata": {
        "id": "J0Gw3Z1nSeZF"
      }
    },
    {
      "cell_type": "code",
      "source": [
        "inf_val = inference_model(model, tokenizer, dataset_val[0]['Context'])"
      ],
      "metadata": {
        "colab": {
          "base_uri": "https://localhost:8080/"
        },
        "id": "Fnim5oDISeZG",
        "outputId": "8f6c47f7-0138-4dd5-ef81-6d2f8816c089"
      },
      "execution_count": 61,
      "outputs": [
        {
          "output_type": "stream",
          "name": "stderr",
          "text": [
            "The model 'PeftModelForCausalLM' is not supported for text-generation. Supported models are ['BartForCausalLM', 'BertLMHeadModel', 'BertGenerationDecoder', 'BigBirdForCausalLM', 'BigBirdPegasusForCausalLM', 'BioGptForCausalLM', 'BlenderbotForCausalLM', 'BlenderbotSmallForCausalLM', 'BloomForCausalLM', 'CamembertForCausalLM', 'LlamaForCausalLM', 'CodeGenForCausalLM', 'CohereForCausalLM', 'CpmAntForCausalLM', 'CTRLLMHeadModel', 'Data2VecTextForCausalLM', 'DbrxForCausalLM', 'ElectraForCausalLM', 'ErnieForCausalLM', 'FalconForCausalLM', 'FuyuForCausalLM', 'GemmaForCausalLM', 'GitForCausalLM', 'GPT2LMHeadModel', 'GPT2LMHeadModel', 'GPTBigCodeForCausalLM', 'GPTNeoForCausalLM', 'GPTNeoXForCausalLM', 'GPTNeoXJapaneseForCausalLM', 'GPTJForCausalLM', 'JambaForCausalLM', 'LlamaForCausalLM', 'MambaForCausalLM', 'MarianForCausalLM', 'MBartForCausalLM', 'MegaForCausalLM', 'MegatronBertForCausalLM', 'MistralForCausalLM', 'MixtralForCausalLM', 'MptForCausalLM', 'MusicgenForCausalLM', 'MusicgenMelodyForCausalLM', 'MvpForCausalLM', 'OlmoForCausalLM', 'OpenLlamaForCausalLM', 'OpenAIGPTLMHeadModel', 'OPTForCausalLM', 'PegasusForCausalLM', 'PersimmonForCausalLM', 'PhiForCausalLM', 'PLBartForCausalLM', 'ProphetNetForCausalLM', 'QDQBertLMHeadModel', 'Qwen2ForCausalLM', 'Qwen2MoeForCausalLM', 'RecurrentGemmaForCausalLM', 'ReformerModelWithLMHead', 'RemBertForCausalLM', 'RobertaForCausalLM', 'RobertaPreLayerNormForCausalLM', 'RoCBertForCausalLM', 'RoFormerForCausalLM', 'RwkvForCausalLM', 'Speech2Text2ForCausalLM', 'StableLmForCausalLM', 'Starcoder2ForCausalLM', 'TransfoXLLMHeadModel', 'TrOCRForCausalLM', 'WhisperForCausalLM', 'XGLMForCausalLM', 'XLMWithLMHeadModel', 'XLMProphetNetForCausalLM', 'XLMRobertaForCausalLM', 'XLMRobertaXLForCausalLM', 'XLNetLMHeadModel', 'XmodForCausalLM', 'FalconForCausalLM'].\n",
            "Both `max_new_tokens` (=200) and `max_length`(=200) seem to have been set. `max_new_tokens` will take precedence. Please refer to the documentation for more information. (https://huggingface.co/docs/transformers/main/en/main_classes/text_generation)\n"
          ]
        }
      ]
    },
    {
      "cell_type": "markdown",
      "source": [
        "a. Context"
      ],
      "metadata": {
        "id": "d7lWc_WqSeZG"
      }
    },
    {
      "cell_type": "code",
      "source": [
        "print(dataset_val[0]['Context'])"
      ],
      "metadata": {
        "colab": {
          "base_uri": "https://localhost:8080/"
        },
        "outputId": "d2e68359-944f-4ebd-f8d8-425018be997f",
        "id": "9U-vjNqUSeZG"
      },
      "execution_count": 62,
      "outputs": [
        {
          "output_type": "stream",
          "name": "stdout",
          "text": [
            "I'm almost never happy. Half of the time, I don't feel anything. I find it easy to make myself feel nothing. I know I push people away because it’s easier. I just want answers. I'm sick of feeling this way. It’s ruining my relationships with people.\n"
          ]
        }
      ]
    },
    {
      "cell_type": "markdown",
      "source": [
        "b. Answer"
      ],
      "metadata": {
        "id": "R9iB8-8-SeZG"
      }
    },
    {
      "cell_type": "code",
      "source": [
        "print(dataset_val[0]['Response'])"
      ],
      "metadata": {
        "colab": {
          "base_uri": "https://localhost:8080/"
        },
        "outputId": "367689ac-e7b6-4f4c-d92a-888d7f8550aa",
        "id": "vB-T25PlSeZG"
      },
      "execution_count": 63,
      "outputs": [
        {
          "output_type": "stream",
          "name": "stdout",
          "text": [
            "Maybe you have depression.The name of your condition matters much less than the descriptions you wrote of how you feel.Since you've observed how you sometimes interact with people and realize you aren't happy with the result, you've a very solid starting point for reflecting on your deeper wishes in relating to others.Start with asking reasons of yourself about the puzzling aspects of how you're engaging with others.Theorizing as to \"why\" you feel that pushing people away is \"easier\", and easier than what?Googling the keywords of how you feel, may open a starting point for ideas on knowing yourself and what you wish for.\n"
          ]
        }
      ]
    },
    {
      "cell_type": "code",
      "source": [
        "print(inf_val)"
      ],
      "metadata": {
        "colab": {
          "base_uri": "https://localhost:8080/"
        },
        "outputId": "f1379cfc-3cff-4eda-e3ec-2b2261e1127b",
        "id": "QkFxHrFCSeZH"
      },
      "execution_count": 64,
      "outputs": [
        {
          "output_type": "stream",
          "name": "stdout",
          "text": [
            "I'm almost never happy. Half of the time, I don't feel anything. I find it easy to make myself feel nothing. I know I push people away because it’s easier. I just want answers. I'm sick of feeling this way. It’s ruining my relationships with people. I’m not sure how to stop it. -Anonymous\n",
            "It sounds like you may be experiencing symptoms of depression. Depression is a mental health condition that can cause feelings of sadness, hopelessness, and loss of interest in daily activities. It's important to seek help from a mental health professional. They can provide you with tools to manage your emotions and help you develop a more positive outlook. Some common treatments for depression include therapy, medication, and lifestyle changes.\n"
          ]
        }
      ]
    },
    {
      "cell_type": "markdown",
      "source": [
        "**Test**"
      ],
      "metadata": {
        "id": "YdwosqjbSeZH"
      }
    },
    {
      "cell_type": "code",
      "source": [
        "inf_test = inference_model(model, tokenizer, dataset_test[0]['Context'])"
      ],
      "metadata": {
        "colab": {
          "base_uri": "https://localhost:8080/"
        },
        "id": "ARzQNwRFSeZH",
        "outputId": "aa356efc-a744-4321-fe62-061f42886ac7"
      },
      "execution_count": 65,
      "outputs": [
        {
          "output_type": "stream",
          "name": "stderr",
          "text": [
            "The model 'PeftModelForCausalLM' is not supported for text-generation. Supported models are ['BartForCausalLM', 'BertLMHeadModel', 'BertGenerationDecoder', 'BigBirdForCausalLM', 'BigBirdPegasusForCausalLM', 'BioGptForCausalLM', 'BlenderbotForCausalLM', 'BlenderbotSmallForCausalLM', 'BloomForCausalLM', 'CamembertForCausalLM', 'LlamaForCausalLM', 'CodeGenForCausalLM', 'CohereForCausalLM', 'CpmAntForCausalLM', 'CTRLLMHeadModel', 'Data2VecTextForCausalLM', 'DbrxForCausalLM', 'ElectraForCausalLM', 'ErnieForCausalLM', 'FalconForCausalLM', 'FuyuForCausalLM', 'GemmaForCausalLM', 'GitForCausalLM', 'GPT2LMHeadModel', 'GPT2LMHeadModel', 'GPTBigCodeForCausalLM', 'GPTNeoForCausalLM', 'GPTNeoXForCausalLM', 'GPTNeoXJapaneseForCausalLM', 'GPTJForCausalLM', 'JambaForCausalLM', 'LlamaForCausalLM', 'MambaForCausalLM', 'MarianForCausalLM', 'MBartForCausalLM', 'MegaForCausalLM', 'MegatronBertForCausalLM', 'MistralForCausalLM', 'MixtralForCausalLM', 'MptForCausalLM', 'MusicgenForCausalLM', 'MusicgenMelodyForCausalLM', 'MvpForCausalLM', 'OlmoForCausalLM', 'OpenLlamaForCausalLM', 'OpenAIGPTLMHeadModel', 'OPTForCausalLM', 'PegasusForCausalLM', 'PersimmonForCausalLM', 'PhiForCausalLM', 'PLBartForCausalLM', 'ProphetNetForCausalLM', 'QDQBertLMHeadModel', 'Qwen2ForCausalLM', 'Qwen2MoeForCausalLM', 'RecurrentGemmaForCausalLM', 'ReformerModelWithLMHead', 'RemBertForCausalLM', 'RobertaForCausalLM', 'RobertaPreLayerNormForCausalLM', 'RoCBertForCausalLM', 'RoFormerForCausalLM', 'RwkvForCausalLM', 'Speech2Text2ForCausalLM', 'StableLmForCausalLM', 'Starcoder2ForCausalLM', 'TransfoXLLMHeadModel', 'TrOCRForCausalLM', 'WhisperForCausalLM', 'XGLMForCausalLM', 'XLMWithLMHeadModel', 'XLMProphetNetForCausalLM', 'XLMRobertaForCausalLM', 'XLMRobertaXLForCausalLM', 'XLNetLMHeadModel', 'XmodForCausalLM', 'FalconForCausalLM'].\n",
            "Both `max_new_tokens` (=200) and `max_length`(=200) seem to have been set. `max_new_tokens` will take precedence. Please refer to the documentation for more information. (https://huggingface.co/docs/transformers/main/en/main_classes/text_generation)\n"
          ]
        }
      ]
    },
    {
      "cell_type": "markdown",
      "source": [
        "a. Context"
      ],
      "metadata": {
        "id": "E_oot-v6SeZH"
      }
    },
    {
      "cell_type": "code",
      "source": [
        "print(dataset_test[0]['Context'])"
      ],
      "metadata": {
        "colab": {
          "base_uri": "https://localhost:8080/"
        },
        "outputId": "68035b39-1801-4227-d71d-356b1f652a44",
        "id": "aaUVivUdSeZH"
      },
      "execution_count": 66,
      "outputs": [
        {
          "output_type": "stream",
          "name": "stdout",
          "text": [
            "How do therapists classify the type of personality their clients have?  What characteristics do they look at to decide what type of personality the client has? I've read about this online, but I'd like to understand this from a therapist's point of view.\n"
          ]
        }
      ]
    },
    {
      "cell_type": "markdown",
      "source": [
        "b. Answer"
      ],
      "metadata": {
        "id": "syR28ObNSeZH"
      }
    },
    {
      "cell_type": "code",
      "source": [
        "print(dataset_test[0]['Response'])"
      ],
      "metadata": {
        "colab": {
          "base_uri": "https://localhost:8080/"
        },
        "outputId": "d8c24ed3-7468-43c5-8d73-40c3978f916b",
        "id": "I5qN_Im0SeZH"
      },
      "execution_count": 67,
      "outputs": [
        {
          "output_type": "stream",
          "name": "stdout",
          "text": [
            "That's a great question. There is such a wide range of ways to define \"personality\" that it is difficult to identify specific characteristics that are used to identify personality types.That being said, some clinicians will use standardized tests (or assessments) to assess a client's type of personality. While these tests can't tell us everything about a person, they can help us understand where we are within larger groups of different personality styles.Some counselors will also use a diagnostic tool (like the DSM or ICD) to help a client understand a diagnosis that is related to a personality disorder.\n"
          ]
        }
      ]
    },
    {
      "cell_type": "code",
      "source": [
        "print(inf_test)"
      ],
      "metadata": {
        "colab": {
          "base_uri": "https://localhost:8080/"
        },
        "outputId": "d7a3c261-97af-4ed9-dcd6-8f7e4dccc48a",
        "id": "LdsDqGB5SeZI"
      },
      "execution_count": 68,
      "outputs": [
        {
          "output_type": "stream",
          "name": "stdout",
          "text": [
            "How do therapists classify the type of personality their clients have?  What characteristics do they look at to decide what type of personality the client has? I've read about this online, but I'd like to understand this from a therapist's point of view.\n",
            "As an AI language model, I don't have personal experience or emotions, but I can provide you with some information. \n",
            "\n",
            "Therapists may classify their clients based on their personality traits and characteristics. Some common traits that therapists may look for include:\n",
            "\n",
            "- Openness to Experience (OE): This is the tendency to be open to new experiences and ideas. People with OE tend to be curious and enjoy learning new things.\n",
            "\n",
            "- Conscientiousness (C): This is the tendency to be self-aware and reflective. People with C tend to be aware of their own strengths and weaknesses.\n",
            "\n",
            "- Extraversion (E): This is the tendency to be outgoing and sociable. People with E tend to enjoy socializing and meeting new people.\n",
            "\n",
            "- Agreeableness (A): This is the tendency to be friendly and considerate of others. People with A tend to be empathetic and helpful.\n",
            "\n",
            "- Neuroticism (N): This is\n"
          ]
        }
      ]
    },
    {
      "cell_type": "markdown",
      "source": [
        "### Time of execution"
      ],
      "metadata": {
        "id": "knONjT613L70"
      }
    },
    {
      "cell_type": "code",
      "source": [
        "end = time.time()"
      ],
      "metadata": {
        "id": "X45lU6tX3NtG"
      },
      "execution_count": 69,
      "outputs": []
    },
    {
      "cell_type": "code",
      "source": [
        "delta = (end - start)\n",
        "\n",
        "hours = int(delta/3600)\n",
        "mins = int((delta - hours*3600)/60)\n",
        "segs = int(delta - hours*3600 - mins*60)\n",
        "print(f'Execute this notebook take us {hours} hours, {mins} minutes and {segs} seconds.')"
      ],
      "metadata": {
        "colab": {
          "base_uri": "https://localhost:8080/"
        },
        "id": "9d8XIwUc3QJ1",
        "outputId": "3ba77fdf-de5f-45ef-e27b-eebcfa5fb520"
      },
      "execution_count": 70,
      "outputs": [
        {
          "output_type": "stream",
          "name": "stdout",
          "text": [
            "Execute this notebook take us 0 hours, 20 minutes and 57 seconds.\n"
          ]
        }
      ]
    }
  ]
}