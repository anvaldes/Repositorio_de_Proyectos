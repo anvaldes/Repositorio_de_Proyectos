{
  "nbformat": 4,
  "nbformat_minor": 0,
  "metadata": {
    "colab": {
      "provenance": [],
      "machine_shape": "hm",
      "gpuType": "L4"
    },
    "kernelspec": {
      "name": "python3",
      "display_name": "Python 3"
    },
    "language_info": {
      "name": "python"
    },
    "accelerator": "GPU"
  },
  "cells": [
    {
      "cell_type": "markdown",
      "source": [
        "# Preprocessing audio"
      ],
      "metadata": {
        "id": "qSr_1nfHnbfF"
      }
    },
    {
      "cell_type": "markdown",
      "source": [
        "### Start execution"
      ],
      "metadata": {
        "id": "Os39ENMInhJy"
      }
    },
    {
      "cell_type": "code",
      "execution_count": 1,
      "metadata": {
        "id": "tyTPRLRanOFQ"
      },
      "outputs": [],
      "source": [
        "import time"
      ]
    },
    {
      "cell_type": "code",
      "source": [
        "start = time.time()"
      ],
      "metadata": {
        "id": "BVt1Dkx7nka6"
      },
      "execution_count": 2,
      "outputs": []
    },
    {
      "cell_type": "markdown",
      "source": [
        "# 1. Setting the environment"
      ],
      "metadata": {
        "id": "_8w9agJHogyd"
      }
    },
    {
      "cell_type": "code",
      "source": [
        "!pip install -q resampy"
      ],
      "metadata": {
        "id": "gUaUA3xknl_S",
        "colab": {
          "base_uri": "https://localhost:8080/"
        },
        "outputId": "7992d0cc-46a6-4564-f16c-d1196f4f977d"
      },
      "execution_count": 3,
      "outputs": [
        {
          "output_type": "stream",
          "name": "stdout",
          "text": [
            "\u001b[2K   \u001b[90m━━━━━━━━━━━━━━━━━━━━━━━━━━━━━━━━━━━━━━━━\u001b[0m \u001b[32m3.1/3.1 MB\u001b[0m \u001b[31m9.7 MB/s\u001b[0m eta \u001b[36m0:00:00\u001b[0m\n",
            "\u001b[?25h"
          ]
        }
      ]
    },
    {
      "cell_type": "markdown",
      "source": [
        "# 2. Import Libraries"
      ],
      "metadata": {
        "id": "FIYlmgd7ope3"
      }
    },
    {
      "cell_type": "code",
      "source": [
        "import os\n",
        "import resampy\n",
        "import librosa\n",
        "import numpy as np\n",
        "import pandas as pd\n",
        "from PIL import Image\n",
        "from sklearn.model_selection import train_test_split"
      ],
      "metadata": {
        "id": "5tJA9mJSokvh"
      },
      "execution_count": 4,
      "outputs": []
    },
    {
      "cell_type": "code",
      "source": [
        "import warnings\n",
        "warnings.filterwarnings(\"ignore\")"
      ],
      "metadata": {
        "id": "pIug8HyM7BzF"
      },
      "execution_count": 5,
      "outputs": []
    },
    {
      "cell_type": "markdown",
      "source": [
        "# 3. Preparation"
      ],
      "metadata": {
        "id": "VFkVTBTTo7fF"
      }
    },
    {
      "cell_type": "code",
      "source": [
        "from google.colab import drive\n",
        "drive.mount('/content/drive')"
      ],
      "metadata": {
        "colab": {
          "base_uri": "https://localhost:8080/"
        },
        "id": "UQ0iM-5poktv",
        "outputId": "03bfc9b8-d64f-4c3a-9ca7-2372dd3e323e"
      },
      "execution_count": 6,
      "outputs": [
        {
          "output_type": "stream",
          "name": "stdout",
          "text": [
            "Mounted at /content/drive\n"
          ]
        }
      ]
    },
    {
      "cell_type": "code",
      "source": [
        "path_general = 'drive/MyDrive/Profesional_Academico/Github_Personal/ML_AI_Contents/09.Deep_Learning/73.Audio_NN_Scratch'"
      ],
      "metadata": {
        "id": "JE_vFR85pLGT"
      },
      "execution_count": 7,
      "outputs": []
    },
    {
      "cell_type": "markdown",
      "source": [
        "# 4. Read metadata"
      ],
      "metadata": {
        "id": "ooiTU31mpdMw"
      }
    },
    {
      "cell_type": "code",
      "source": [
        "metadata = pd.read_csv(f'{path_general}/data/UrbanSound8K.csv')"
      ],
      "metadata": {
        "id": "E9JUxYR5perQ"
      },
      "execution_count": 8,
      "outputs": []
    },
    {
      "cell_type": "code",
      "source": [
        "metadata = metadata[['slice_file_name', 'fold', 'class']]\n",
        "metadata = metadata.rename(columns = {'slice_file_name': 'file_name'})"
      ],
      "metadata": {
        "id": "pSUoE0Dxp8hV"
      },
      "execution_count": 9,
      "outputs": []
    },
    {
      "cell_type": "markdown",
      "source": [
        "# 5. Split"
      ],
      "metadata": {
        "id": "MxSt5_hxrITP"
      }
    },
    {
      "cell_type": "code",
      "source": [
        "metadata_train, metadata_val = train_test_split(metadata, test_size = 0.40, random_state = 42)"
      ],
      "metadata": {
        "id": "tRpQwTGhq2aX"
      },
      "execution_count": 10,
      "outputs": []
    },
    {
      "cell_type": "code",
      "source": [
        "metadata_val, metadata_test = train_test_split(metadata_val, test_size = 0.50, random_state = 42)"
      ],
      "metadata": {
        "id": "XoUU84tTp40u"
      },
      "execution_count": 11,
      "outputs": []
    },
    {
      "cell_type": "code",
      "source": [
        "metadata_train['subset'] = 'train'\n",
        "metadata_val['subset'] = 'val'\n",
        "metadata_test['subset'] = 'test'"
      ],
      "metadata": {
        "id": "c_CYm0N0okpg"
      },
      "execution_count": 12,
      "outputs": []
    },
    {
      "cell_type": "code",
      "source": [
        "df_metadata = pd.concat([metadata_train, metadata_val, metadata_test], axis = 0)"
      ],
      "metadata": {
        "id": "T_7B--xdsTdB"
      },
      "execution_count": 13,
      "outputs": []
    },
    {
      "cell_type": "code",
      "source": [
        "df_metadata = df_metadata.reset_index()\n",
        "df_metadata = df_metadata.drop(columns = ['index'])"
      ],
      "metadata": {
        "id": "n3lwIYl0s1eW"
      },
      "execution_count": 14,
      "outputs": []
    },
    {
      "cell_type": "code",
      "source": [
        "df_metadata['file_name'] = 'fold' + df_metadata['fold'].apply(str) + '/' + df_metadata['file_name']"
      ],
      "metadata": {
        "id": "UfYzXFNDs7jy"
      },
      "execution_count": 15,
      "outputs": []
    },
    {
      "cell_type": "code",
      "source": [
        "df_metadata = df_metadata.drop(columns = ['fold'])"
      ],
      "metadata": {
        "id": "s1wX0BIYs7hV"
      },
      "execution_count": 16,
      "outputs": []
    },
    {
      "cell_type": "code",
      "source": [
        "id_class = {\n",
        "    'street_music': 1,\n",
        "    'drilling': 2,\n",
        "    'children_playing': 3,\n",
        "    'dog_bark': 4,\n",
        "    'engine_idling': 5,\n",
        "    'jackhammer': 6,\n",
        "    'air_conditioner': 7,\n",
        "    'siren': 8,\n",
        "    'car_horn': 9,\n",
        "    'gun_shot': 10\n",
        "    }"
      ],
      "metadata": {
        "id": "9kHVA8hdtvWK"
      },
      "execution_count": 17,
      "outputs": []
    },
    {
      "cell_type": "code",
      "source": [
        "df_metadata['id_class'] = df_metadata['class']"
      ],
      "metadata": {
        "id": "myfn9B3xuSL5"
      },
      "execution_count": 18,
      "outputs": []
    },
    {
      "cell_type": "code",
      "source": [
        "df_metadata = df_metadata.replace({'id_class': id_class})"
      ],
      "metadata": {
        "id": "XArLMskVs7Z8"
      },
      "execution_count": 19,
      "outputs": []
    },
    {
      "cell_type": "code",
      "source": [
        "df_metadata = df_metadata[['file_name', 'subset', 'id_class']]"
      ],
      "metadata": {
        "id": "Ji-z7vzcugwP"
      },
      "execution_count": 20,
      "outputs": []
    },
    {
      "cell_type": "code",
      "source": [
        "df_metadata.to_csv(f'{path_general}/processed/metadata.csv', index = False)"
      ],
      "metadata": {
        "id": "jXa9fL1svVcZ"
      },
      "execution_count": 21,
      "outputs": []
    },
    {
      "cell_type": "markdown",
      "source": [
        "# 6. Process data"
      ],
      "metadata": {
        "id": "O-ThmHU6u4kD"
      }
    },
    {
      "cell_type": "code",
      "source": [
        "for i in range(len(df_metadata)):\n",
        "\n",
        "  file_name = df_metadata['file_name'].iloc[i]\n",
        "  subset = df_metadata['subset'].iloc[i]\n",
        "  id_class = df_metadata['id_class'].iloc[i]\n",
        "\n",
        "  path_open = f'{path_general}/data/{file_name}'\n",
        "\n",
        "  file_raw = (file_name.split('/')[1]).split('.')[0]\n",
        "\n",
        "  path_save = f'{path_general}/processed/{subset}/{id_class}/{file_raw}.npy'\n",
        "\n",
        "  #------------------------------------------------------------------------------------------\n",
        "\n",
        "  max_pad_len = 174\n",
        "\n",
        "  audio, sample_rate = librosa.load(path_open, res_type = 'kaiser_fast')\n",
        "  mfccs = librosa.feature.mfcc(y = audio, sr = sample_rate, n_mfcc = 40)\n",
        "  pad_width = max_pad_len - mfccs.shape[1]\n",
        "  mfccs = np.pad(mfccs, pad_width=((0, 0), (0, pad_width)), mode='constant')\n",
        "\n",
        "  #------------------------------------------------------------------------------------------\n",
        "\n",
        "  if mfccs.shape == (40, 174):\n",
        "    pass\n",
        "\n",
        "  else:\n",
        "    print(f'Error: {i}')\n",
        "\n",
        "  #------------------------------------------------------------------------------------------\n",
        "\n",
        "  mfccs_def = mfccs.reshape(mfccs.shape[0], mfccs.shape[1], 1)\n",
        "\n",
        "  with open(path_save, 'wb') as f:\n",
        "    np.save(f, mfccs_def)\n",
        "\n",
        "  #------------------------------------------------------------------------------------------\n",
        "\n",
        "  if (i % 100) == 0:\n",
        "    print(f'Iteration: {i}')\n",
        "    print('-'*50)"
      ],
      "metadata": {
        "colab": {
          "base_uri": "https://localhost:8080/"
        },
        "id": "XInn34Y5usrJ",
        "outputId": "66bfd4e5-8961-479a-aaca-d2796f0902bb"
      },
      "execution_count": 22,
      "outputs": [
        {
          "output_type": "stream",
          "name": "stdout",
          "text": [
            "Iteration: 0\n",
            "--------------------------------------------------\n",
            "Iteration: 100\n",
            "--------------------------------------------------\n",
            "Iteration: 200\n",
            "--------------------------------------------------\n",
            "Iteration: 300\n",
            "--------------------------------------------------\n",
            "Iteration: 400\n",
            "--------------------------------------------------\n",
            "Iteration: 500\n",
            "--------------------------------------------------\n",
            "Iteration: 600\n",
            "--------------------------------------------------\n",
            "Iteration: 700\n",
            "--------------------------------------------------\n",
            "Iteration: 800\n",
            "--------------------------------------------------\n",
            "Iteration: 900\n",
            "--------------------------------------------------\n",
            "Iteration: 1000\n",
            "--------------------------------------------------\n",
            "Iteration: 1100\n",
            "--------------------------------------------------\n",
            "Iteration: 1200\n",
            "--------------------------------------------------\n",
            "Iteration: 1300\n",
            "--------------------------------------------------\n",
            "Iteration: 1400\n",
            "--------------------------------------------------\n",
            "Iteration: 1500\n",
            "--------------------------------------------------\n",
            "Iteration: 1600\n",
            "--------------------------------------------------\n",
            "Iteration: 1700\n",
            "--------------------------------------------------\n",
            "Iteration: 1800\n",
            "--------------------------------------------------\n",
            "Iteration: 1900\n",
            "--------------------------------------------------\n",
            "Iteration: 2000\n",
            "--------------------------------------------------\n",
            "Iteration: 2100\n",
            "--------------------------------------------------\n",
            "Iteration: 2200\n",
            "--------------------------------------------------\n",
            "Iteration: 2300\n",
            "--------------------------------------------------\n",
            "Iteration: 2400\n",
            "--------------------------------------------------\n",
            "Iteration: 2500\n",
            "--------------------------------------------------\n",
            "Iteration: 2600\n",
            "--------------------------------------------------\n",
            "Iteration: 2700\n",
            "--------------------------------------------------\n",
            "Iteration: 2800\n",
            "--------------------------------------------------\n",
            "Iteration: 2900\n",
            "--------------------------------------------------\n",
            "Iteration: 3000\n",
            "--------------------------------------------------\n",
            "Iteration: 3100\n",
            "--------------------------------------------------\n",
            "Iteration: 3200\n",
            "--------------------------------------------------\n",
            "Iteration: 3300\n",
            "--------------------------------------------------\n",
            "Iteration: 3400\n",
            "--------------------------------------------------\n",
            "Iteration: 3500\n",
            "--------------------------------------------------\n",
            "Iteration: 3600\n",
            "--------------------------------------------------\n",
            "Iteration: 3700\n",
            "--------------------------------------------------\n",
            "Iteration: 3800\n",
            "--------------------------------------------------\n",
            "Iteration: 3900\n",
            "--------------------------------------------------\n",
            "Iteration: 4000\n",
            "--------------------------------------------------\n",
            "Iteration: 4100\n",
            "--------------------------------------------------\n",
            "Iteration: 4200\n",
            "--------------------------------------------------\n",
            "Iteration: 4300\n",
            "--------------------------------------------------\n",
            "Iteration: 4400\n",
            "--------------------------------------------------\n",
            "Iteration: 4500\n",
            "--------------------------------------------------\n",
            "Iteration: 4600\n",
            "--------------------------------------------------\n",
            "Iteration: 4700\n",
            "--------------------------------------------------\n",
            "Iteration: 4800\n",
            "--------------------------------------------------\n",
            "Iteration: 4900\n",
            "--------------------------------------------------\n",
            "Iteration: 5000\n",
            "--------------------------------------------------\n",
            "Iteration: 5100\n",
            "--------------------------------------------------\n",
            "Iteration: 5200\n",
            "--------------------------------------------------\n",
            "Iteration: 5300\n",
            "--------------------------------------------------\n",
            "Iteration: 5400\n",
            "--------------------------------------------------\n",
            "Iteration: 5500\n",
            "--------------------------------------------------\n",
            "Iteration: 5600\n",
            "--------------------------------------------------\n",
            "Iteration: 5700\n",
            "--------------------------------------------------\n",
            "Iteration: 5800\n",
            "--------------------------------------------------\n",
            "Iteration: 5900\n",
            "--------------------------------------------------\n",
            "Iteration: 6000\n",
            "--------------------------------------------------\n",
            "Iteration: 6100\n",
            "--------------------------------------------------\n",
            "Iteration: 6200\n",
            "--------------------------------------------------\n",
            "Iteration: 6300\n",
            "--------------------------------------------------\n",
            "Iteration: 6400\n",
            "--------------------------------------------------\n",
            "Iteration: 6500\n",
            "--------------------------------------------------\n",
            "Iteration: 6600\n",
            "--------------------------------------------------\n",
            "Iteration: 6700\n",
            "--------------------------------------------------\n",
            "Iteration: 6800\n",
            "--------------------------------------------------\n",
            "Iteration: 6900\n",
            "--------------------------------------------------\n",
            "Iteration: 7000\n",
            "--------------------------------------------------\n",
            "Iteration: 7100\n",
            "--------------------------------------------------\n",
            "Iteration: 7200\n",
            "--------------------------------------------------\n",
            "Iteration: 7300\n",
            "--------------------------------------------------\n",
            "Iteration: 7400\n",
            "--------------------------------------------------\n",
            "Iteration: 7500\n",
            "--------------------------------------------------\n",
            "Iteration: 7600\n",
            "--------------------------------------------------\n",
            "Iteration: 7700\n",
            "--------------------------------------------------\n",
            "Iteration: 7800\n",
            "--------------------------------------------------\n",
            "Iteration: 7900\n",
            "--------------------------------------------------\n",
            "Iteration: 8000\n",
            "--------------------------------------------------\n",
            "Iteration: 8100\n",
            "--------------------------------------------------\n",
            "Iteration: 8200\n",
            "--------------------------------------------------\n",
            "Iteration: 8300\n",
            "--------------------------------------------------\n",
            "Iteration: 8400\n",
            "--------------------------------------------------\n",
            "Iteration: 8500\n",
            "--------------------------------------------------\n",
            "Iteration: 8600\n",
            "--------------------------------------------------\n",
            "Iteration: 8700\n",
            "--------------------------------------------------\n"
          ]
        }
      ]
    },
    {
      "cell_type": "markdown",
      "source": [
        "### End of execution"
      ],
      "metadata": {
        "id": "xq8G7JCqnn5s"
      }
    },
    {
      "cell_type": "code",
      "source": [
        "end = time.time()\n",
        "\n",
        "delta = (end - start)\n",
        "\n",
        "hours = int(delta/3_600)\n",
        "mins = int((delta - hours*3_600)/60)\n",
        "secs = int(delta - hours*3_600 - mins*60)\n",
        "\n",
        "print(f'Hours: {hours}, Minutes: {mins}, Seconds: {secs}')"
      ],
      "metadata": {
        "colab": {
          "base_uri": "https://localhost:8080/"
        },
        "id": "zF06LqSKno0q",
        "outputId": "1c7037cf-089a-4169-d86e-73c78b6f6e3a"
      },
      "execution_count": 23,
      "outputs": [
        {
          "output_type": "stream",
          "name": "stdout",
          "text": [
            "Hours: 2, Minutes: 0, Seconds: 16\n"
          ]
        }
      ]
    },
    {
      "cell_type": "code",
      "source": [],
      "metadata": {
        "id": "F4VZZBP8nqoA"
      },
      "execution_count": 23,
      "outputs": []
    }
  ]
}