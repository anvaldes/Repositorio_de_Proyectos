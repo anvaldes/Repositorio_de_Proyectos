{
 "cells": [
  {
   "attachments": {},
   "cell_type": "markdown",
   "metadata": {},
   "source": [
    "# Gibbs Sampling"
   ]
  },
  {
   "attachments": {},
   "cell_type": "markdown",
   "metadata": {},
   "source": [
    "By Alberto Valdés \n",
    "\n",
    "**Mail 1:** anvaldes@uc.cl \n",
    "\n",
    "**Mail 2:** alberto.valdes.gonzalez.96@gmail.com"
   ]
  },
  {
   "cell_type": "code",
   "execution_count": 1,
   "metadata": {},
   "outputs": [],
   "source": [
    "import warnings\n",
    "warnings.filterwarnings(\"ignore\")"
   ]
  },
  {
   "cell_type": "code",
   "execution_count": 2,
   "metadata": {},
   "outputs": [],
   "source": [
    "import time\n",
    "import math\n",
    "import scipy\n",
    "import numpy as np\n",
    "import pandas as pd\n",
    "import matplotlib.pyplot as plt\n",
    "from matplotlib.pyplot import figure\n",
    "from matplotlib import image as mpimg"
   ]
  },
  {
   "cell_type": "code",
   "execution_count": 3,
   "metadata": {},
   "outputs": [],
   "source": [
    "def display_img(name, a, b):\n",
    "    plt.figure(figsize = (a, b))\n",
    "    image = mpimg.imread(name)\n",
    "    plt.imshow(image)\n",
    "    plt.axis('off')\n",
    "    plt.show()"
   ]
  },
  {
   "cell_type": "code",
   "execution_count": 4,
   "metadata": {},
   "outputs": [],
   "source": [
    "start = time.time()"
   ]
  },
  {
   "cell_type": "markdown",
   "metadata": {},
   "source": [
    "In statistics, Gibbs sampling or a Gibbs sampler is a Markov chain Monte Carlo (MCMC) algorithm for obtaining a sequence of observations which are approximated from a specified multivariate probability distribution, when direct sampling is difficult."
   ]
  },
  {
   "cell_type": "markdown",
   "metadata": {},
   "source": [
    "# Algorithm\n",
    "\n",
    "$ \\theta_0 $\n",
    "\n",
    "for t in range (1, N):\n",
    "\n",
    "$ \\theta_t \\sim p( \\theta_t | \\theta_{t-1} ) $"
   ]
  },
  {
   "cell_type": "markdown",
   "metadata": {},
   "source": [
    "# Application to Statical Inference"
   ]
  },
  {
   "cell_type": "markdown",
   "metadata": {},
   "source": [
    "We want to estimate parameters, and do inference about that.\n",
    "\n",
    "\n"
   ]
  },
  {
   "cell_type": "markdown",
   "metadata": {},
   "source": [
    "### Example"
   ]
  },
  {
   "cell_type": "markdown",
   "metadata": {},
   "source": [
    "We have two independent samples $ X_{1, 1}, ..., X_{1, n_1} $ and $ X_{2, 1}, ..., X_{2, n_2} $.\n",
    "\n",
    "$ \\mathbb{P} (X | \\Theta) = \\mathbb{P} (X_1 | \\Theta) \\cdot \\mathbb{P} (X_2 | \\Theta) \\ \\ \\ $ with $ \\ \\ \\ X_{i, j} | \\Theta \\sim N(\\mu_i, \\sigma) \\ \\ \\ \\forall i = 1, 2, j = 1, ..., n_i $\n",
    "\n",
    "$ \\ $\n",
    "\n",
    "For example we have:\n",
    "\n",
    "$ \\ $\n",
    "\n",
    "$ \\mu_i | m, \\tau^2 \\sim N(m, \\tau^2) $ for $ i = 1, 2 $\n",
    "\n",
    "$ m | \\sigma_m^2 \\sim N(\\mu_0, \\sigma_m^2) $\n",
    "\n",
    "$ \\sigma^2 \\sim GI(a_1, b_1) $\n",
    "\n",
    "$ \\tau^2 \\sim GI(a_2, b_2) $\n",
    "\n",
    "$ \\sigma^2_m \\sim GI(a_3, b_3) $\n",
    "\n",
    "$ \\ $\n",
    "\n",
    "If we define $ n = n_1 + n_2, \\bar{u} = \\mu_1, \\mu_2 $ and $ \\bar{x}_i = \\cfrac{1}{n_i} \\sum_{j=1}^{n_i} X_{i, j} $ and using that $ \\mathbb{P} (\\Theta | X) \\propto \\mathbb{P} (X | \\Theta) \\cdot \\mathbb{P} (\\Theta)  $ we can prove that:\n",
    "\n",
    "$ \\ $\n",
    "\n",
    "$ (\\mu_i | \\text{Everything else}) \\sim N \\left( \\cfrac{\\sigma^2 \\cdot m + n_i \\cdot \\tau^2 \\cdot \\bar{x}_i}{\\sigma^2 + n_i \\cdot \\tau^2}, \\cfrac{\\sigma^2 \\cdot \\tau^2}{\\sigma^2 + n_i \\cdot \\tau^2} \\right) $ for $ i = 1, 2 $\n",
    "\n",
    "$ (m | \\text{Everything else}) \\sim N \\left( \\cfrac{\\tau^2 \\cdot \\mu_0 + 2 \\cdot \\sigma_m^2 \\cdot \\bar{u}}{\\tau^2 + 2 \\cdot \\sigma_m^2}, \\cfrac{\\sigma_m^2 \\cdot \\tau^2}{\\tau^2 + 2 \\cdot \\sigma_m^2} \\right) $\n",
    "\n",
    "$ (\\sigma^2 | \\text{Everything else}) \\sim GI \\left( a_1 + \\cfrac{n}{2}, b_1 + \\sum_{i=1}^2 \\sum_{j=1}^{n_i} (X_{i, j} - \\mu_i)^2 \\right) $\n",
    "\n",
    "$ (\\tau^2 | \\text{Everything else}) \\sim GI \\left( a_2 + 1, b_2 + \\cfrac{1}{2} \\cdot \\sum_{i=1}^2 (\\mu_{i} - m)^2 \\right) $\n",
    "\n",
    "$ (\\sigma_m^2 | \\text{Everything else}) \\sim GI \\left( a_3 + \\cfrac{1}{2}, b_3 + \\cfrac{1}{2} \\cdot (m - \\mu_0)^2 \\right) $"
   ]
  },
  {
   "cell_type": "code",
   "execution_count": 5,
   "metadata": {},
   "outputs": [],
   "source": [
    "X_1 = [81.1, 80.2, 83.7, 74.7, 79.5, 78.6, 78.5, 86.5, 74.3, 82.6, 86.8, 87.6, 71.0, 72.5, 73.8, 81.9, 72.3, 77.3, 82.2, 68.8, 83.3, 80.6, 73.0, 77.9, 81.9]\n",
    "X_2 = [83, 86.7, 58.1, 69.2, 85.5, 72.7, 75.8, 65.8, 79.8, 66.4, 58.0, 66.4, 64.1, 68.2, 58.2, 62.5, 64.7, 75.3]\n",
    "\n",
    "X_1 = pd.Series(X_1)\n",
    "X_2 = pd.Series(X_2)"
   ]
  },
  {
   "cell_type": "code",
   "execution_count": 6,
   "metadata": {},
   "outputs": [],
   "source": [
    "bar_X_1 = X_1.mean()\n",
    "bar_X_2 = X_2.mean()\n",
    "\n",
    "n_1 = len(X_1)\n",
    "n_2 = len(X_2)\n",
    "\n",
    "n = n_1 + n_2\n",
    "\n",
    "a1=3\n",
    "b1=3\n",
    "\n",
    "a2=3\n",
    "b2=3\n",
    "\n",
    "a3=3\n",
    "b3=3"
   ]
  },
  {
   "cell_type": "code",
   "execution_count": 7,
   "metadata": {},
   "outputs": [],
   "source": [
    "mu_1_0 = 75\n",
    "mu_2_0 = 75\n",
    "\n",
    "mu_0 = 75\n",
    "\n",
    "sigma_2_0 = 1\n",
    "tau_2_0 = 1\n",
    "sigma_m_2_0 = 1\n",
    "\n",
    "m_0 = 75"
   ]
  },
  {
   "cell_type": "code",
   "execution_count": 8,
   "metadata": {},
   "outputs": [],
   "source": [
    "mu_1 = []\n",
    "mu_2 = []\n",
    "\n",
    "sigma_2 = []\n",
    "tau_2 = []\n",
    "sigma_m_2 = []\n",
    "\n",
    "m = []"
   ]
  },
  {
   "cell_type": "code",
   "execution_count": 9,
   "metadata": {},
   "outputs": [],
   "source": [
    "mu_1.append(mu_1_0)\n",
    "mu_2.append(mu_2_0)\n",
    "\n",
    "sigma_2.append(sigma_2_0)\n",
    "tau_2.append(tau_2_0)\n",
    "sigma_m_2.append(sigma_m_2_0)\n",
    "\n",
    "m.append(m_0)"
   ]
  },
  {
   "cell_type": "code",
   "execution_count": 10,
   "metadata": {},
   "outputs": [],
   "source": [
    "mu_1_now = mu_1_0\n",
    "mu_2_now = mu_2_0\n",
    "\n",
    "sigma_2_now = sigma_2_0\n",
    "tau_2_now = tau_2_0\n",
    "sigma_m_2_now = sigma_m_2_0\n",
    "\n",
    "m_now = m_0"
   ]
  },
  {
   "cell_type": "code",
   "execution_count": 11,
   "metadata": {},
   "outputs": [],
   "source": [
    "T = 1_000_000"
   ]
  },
  {
   "cell_type": "code",
   "execution_count": 12,
   "metadata": {},
   "outputs": [],
   "source": [
    "for t in range(T):\n",
    "\n",
    "    #----------------------------------------------------------------------\n",
    "\n",
    "    mean_mu_1 = (sigma_2_now*m_now + n_1*tau_2_now*bar_X_1)/(sigma_2_now + n_1*tau_2_now)\n",
    "    var_mu_1 = (sigma_2_now*tau_2_now)/(sigma_2_now + n_1*tau_2_now)\n",
    "\n",
    "    mean_mu_2 = (sigma_2_now*m_now + n_2*tau_2_now*bar_X_2)/(sigma_2_now + n_2*tau_2_now)\n",
    "    var_mu_2 = (sigma_2_now*tau_2_now)/(sigma_2_now + n_2*tau_2_now)\n",
    "    \n",
    "    #----------------------------------------------------------------------\n",
    "\n",
    "    u_prom_now = (mu_1_now + mu_2_now)/2\n",
    "\n",
    "    #----------------------------------------------------------------------\n",
    "\n",
    "    mean_m = (tau_2_now*mu_0 + 2*sigma_m_2_now*u_prom_now)/(tau_2_now + 2*sigma_m_2_now)\n",
    "    var_m = (sigma_m_2_now*tau_2_now)/(tau_2_now + 2*sigma_m_2_now)\n",
    "\n",
    "    #----------------------------------------------------------------------\n",
    "\n",
    "    sigma_2_param_1 = a1 + (n/2)\n",
    "    sigma_2_param_2 = b1 + ((X_1 - mu_1_now)**2).sum() + ((X_2 - mu_2_now)**2).sum()\n",
    "\n",
    "    #----------------------------------------------------------------------\n",
    "\n",
    "    tau_2_param_1 = a2 + 1\n",
    "    tau_2_param_2 = b2 + (1/2)*((mu_1_now - m_now)**2 + (mu_2_now - m_now)**2)\n",
    "\n",
    "    #----------------------------------------------------------------------\n",
    "\n",
    "    sigma_m_2_param_1 = a3 + (1/2)\n",
    "    sigma_m_2_param_2 = b3 + (1/2)*((m_now - mu_0)**2)\n",
    "\n",
    "    #----------------------------------------------------------------------\n",
    "\n",
    "    #Updating variables \n",
    "\n",
    "    mu_1_now = np.random.normal(mean_mu_1, var_mu_1**(1/2), 1)[0]\n",
    "    mu_2_now = np.random.normal(mean_mu_2, var_mu_2**(1/2), 1)[0]\n",
    "\n",
    "    m_now = np.random.normal(mean_m, var_m**(1/2), 1)[0]\n",
    "    \n",
    "    sigma_2_now = 1/np.random.gamma(sigma_2_param_1, sigma_2_param_2, 1)[0]\n",
    "    tau_2_now = 1/np.random.gamma(tau_2_param_1, tau_2_param_2, 1)[0]\n",
    "    sigma_m_2_now = 1/np.random.gamma(sigma_m_2_param_1, sigma_m_2_param_2, 1)[0]\n",
    "\n",
    "    #----------------------------------------------------------------------\n",
    "\n",
    "    #Adding values\n",
    "\n",
    "    mu_1.append(mu_1_now)\n",
    "    mu_2.append(mu_2_now)\n",
    "    \n",
    "    m.append(m_now)\n",
    "\n",
    "    sigma_2.append(sigma_2_now)\n",
    "    tau_2.append(tau_2_now)\n",
    "    sigma_m_2.append(sigma_m_2_now)\n",
    "\n",
    "    #----------------------------------------------------------------------"
   ]
  },
  {
   "cell_type": "code",
   "execution_count": 13,
   "metadata": {},
   "outputs": [],
   "source": [
    "mu_1 = pd.Series(mu_1)\n",
    "mu_2 = pd.Series(mu_2)\n",
    "\n",
    "m = pd.Series(m)\n",
    "\n",
    "sigma_2 = pd.Series(sigma_2)\n",
    "tau_2 = pd.Series(tau_2)\n",
    "sigma_m_2 = pd.Series(sigma_m_2)"
   ]
  },
  {
   "cell_type": "code",
   "execution_count": 14,
   "metadata": {},
   "outputs": [
    {
     "data": {
      "text/plain": [
       "78.82"
      ]
     },
     "execution_count": 14,
     "metadata": {},
     "output_type": "execute_result"
    }
   ],
   "source": [
    "round(mu_1[-10:].mean(), 2)"
   ]
  },
  {
   "cell_type": "code",
   "execution_count": 15,
   "metadata": {},
   "outputs": [
    {
     "data": {
      "text/plain": [
       "70.02"
      ]
     },
     "execution_count": 15,
     "metadata": {},
     "output_type": "execute_result"
    }
   ],
   "source": [
    "round(mu_2[-10:].mean(), 2)"
   ]
  },
  {
   "cell_type": "markdown",
   "metadata": {},
   "source": [
    "**Comments:** As you can see $ \\mu_1 > \\mu_2 $."
   ]
  },
  {
   "cell_type": "markdown",
   "metadata": {},
   "source": [
    "### Time of execution"
   ]
  },
  {
   "cell_type": "code",
   "execution_count": 16,
   "metadata": {},
   "outputs": [],
   "source": [
    "end = time.time()"
   ]
  },
  {
   "cell_type": "code",
   "execution_count": 17,
   "metadata": {},
   "outputs": [
    {
     "name": "stdout",
     "output_type": "stream",
     "text": [
      "Execute this notebook take us 0 hours, 2 minutes and 51 seconds.\n"
     ]
    }
   ],
   "source": [
    "delta = (end - start)\n",
    "\n",
    "hours = int(delta/3600)\n",
    "mins = int((delta - hours*3600)/60)\n",
    "segs = int(delta - hours*3600 - mins*60)\n",
    "print(f'Execute this notebook take us {hours} hours, {mins} minutes and {segs} seconds.')"
   ]
  },
  {
   "cell_type": "code",
   "execution_count": null,
   "metadata": {},
   "outputs": [],
   "source": []
  }
 ],
 "metadata": {
  "kernelspec": {
   "display_name": "Python 3.9.12 ('base')",
   "language": "python",
   "name": "python3"
  },
  "language_info": {
   "codemirror_mode": {
    "name": "ipython",
    "version": 3
   },
   "file_extension": ".py",
   "mimetype": "text/x-python",
   "name": "python",
   "nbconvert_exporter": "python",
   "pygments_lexer": "ipython3",
   "version": "3.8.15"
  },
  "orig_nbformat": 4,
  "vscode": {
   "interpreter": {
    "hash": "2f8c485831047b2cebf111481919a8482d14cdda0a4d2016f96df03a335ecfa0"
   }
  }
 },
 "nbformat": 4,
 "nbformat_minor": 2
}
